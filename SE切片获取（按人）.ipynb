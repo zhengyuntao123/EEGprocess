{
 "cells": [
  {
   "cell_type": "code",
   "execution_count": 1,
   "id": "bece53e8",
   "metadata": {},
   "outputs": [],
   "source": [
    "from mne.io import concatenate_raws, read_raw_edf\n",
    "import mne\n",
    "import glob\n",
    "import numpy as np"
   ]
  },
  {
   "cell_type": "code",
   "execution_count": 2,
   "id": "da1ef5b4",
   "metadata": {},
   "outputs": [],
   "source": [
    "rest_path = r\"../第四批病人数据/静息脑电（第一批次）/\"\n",
    "therapy_path=r\"../第四批病人数据/治疗脑电（第一批次）/\"\n",
    "\n",
    "# rest_subdirectory = sorted(glob.glob(rest_path+\"*\"))\n",
    "# therapy_subdirectory = sorted(glob.glob(therapy_path+\"*\"))\n",
    "therapy_file_path = sorted(glob.glob(therapy_path+\"*\"))"
   ]
  },
  {
   "cell_type": "code",
   "execution_count": 3,
   "id": "caf705a4",
   "metadata": {},
   "outputs": [
    {
     "data": {
      "text/plain": [
       "['../第四批病人数据/治疗脑电（第一批次）\\\\Z何富桂20220221.edf',\n",
       " '../第四批病人数据/治疗脑电（第一批次）\\\\Z何富桂20220225.edf',\n",
       " '../第四批病人数据/治疗脑电（第一批次）\\\\Z何富桂20220228.edf',\n",
       " '../第四批病人数据/治疗脑电（第一批次）\\\\Z何富桂20220302.edf',\n",
       " '../第四批病人数据/治疗脑电（第一批次）\\\\Z倪诗瑄202203011.edf',\n",
       " '../第四批病人数据/治疗脑电（第一批次）\\\\Z倪诗瑄202203014.edf',\n",
       " '../第四批病人数据/治疗脑电（第一批次）\\\\Z倪诗瑄202203016.edf',\n",
       " '../第四批病人数据/治疗脑电（第一批次）\\\\Z倪诗瑄202203018.edf',\n",
       " '../第四批病人数据/治疗脑电（第一批次）\\\\Z刘世清202203011.edf',\n",
       " '../第四批病人数据/治疗脑电（第一批次）\\\\Z刘世清202203014（未发作）.edf',\n",
       " '../第四批病人数据/治疗脑电（第一批次）\\\\Z刘世清202203016.edf',\n",
       " '../第四批病人数据/治疗脑电（第一批次）\\\\Z刘世清20220309.edf',\n",
       " '../第四批病人数据/治疗脑电（第一批次）\\\\Z刘家瑞20220225.edf',\n",
       " '../第四批病人数据/治疗脑电（第一批次）\\\\Z刘家瑞20220228.edf',\n",
       " '../第四批病人数据/治疗脑电（第一批次）\\\\Z刘家瑞20220302.edf',\n",
       " '../第四批病人数据/治疗脑电（第一批次）\\\\Z刘家瑞20220304.edf',\n",
       " '../第四批病人数据/治疗脑电（第一批次）\\\\Z周小凯202203014.edf',\n",
       " '../第四批病人数据/治疗脑电（第一批次）\\\\Z周小凯202203016.edf',\n",
       " '../第四批病人数据/治疗脑电（第一批次）\\\\Z周小凯202203018.edf',\n",
       " '../第四批病人数据/治疗脑电（第一批次）\\\\Z周小凯202203021.edf',\n",
       " '../第四批病人数据/治疗脑电（第一批次）\\\\Z孙彭辉20220225.edf',\n",
       " '../第四批病人数据/治疗脑电（第一批次）\\\\Z孙彭辉20220228.edf',\n",
       " '../第四批病人数据/治疗脑电（第一批次）\\\\Z孙彭辉20220302.edf',\n",
       " '../第四批病人数据/治疗脑电（第一批次）\\\\Z孙彭辉20220304.edf',\n",
       " '../第四批病人数据/治疗脑电（第一批次）\\\\Z宋志辉202203018.edf',\n",
       " '../第四批病人数据/治疗脑电（第一批次）\\\\Z宋志辉202203021.edf',\n",
       " '../第四批病人数据/治疗脑电（第一批次）\\\\Z宋志辉202203023.edf',\n",
       " '../第四批病人数据/治疗脑电（第一批次）\\\\Z宋志辉202203025.edf',\n",
       " '../第四批病人数据/治疗脑电（第一批次）\\\\Z张璐20220225.edf',\n",
       " '../第四批病人数据/治疗脑电（第一批次）\\\\Z张璐20220228.edf',\n",
       " '../第四批病人数据/治疗脑电（第一批次）\\\\Z张璐20220302.edf',\n",
       " '../第四批病人数据/治疗脑电（第一批次）\\\\Z张璐20220304.edf',\n",
       " '../第四批病人数据/治疗脑电（第一批次）\\\\Z徐珍英20220218（未发作）.edf',\n",
       " '../第四批病人数据/治疗脑电（第一批次）\\\\Z徐珍英20220221（未发作）.edf',\n",
       " '../第四批病人数据/治疗脑电（第一批次）\\\\Z徐珍英20220223.edf',\n",
       " '../第四批病人数据/治疗脑电（第一批次）\\\\Z徐珍英20220225.edf',\n",
       " '../第四批病人数据/治疗脑电（第一批次）\\\\Z曾刚20220216.edf',\n",
       " '../第四批病人数据/治疗脑电（第一批次）\\\\Z曾刚20220218（未发作）.edf',\n",
       " '../第四批病人数据/治疗脑电（第一批次）\\\\Z曾刚20220221.edf',\n",
       " '../第四批病人数据/治疗脑电（第一批次）\\\\Z曾刚20220223.edf',\n",
       " '../第四批病人数据/治疗脑电（第一批次）\\\\Z李玉萍20220216.edf',\n",
       " '../第四批病人数据/治疗脑电（第一批次）\\\\Z李玉萍20220218.edf',\n",
       " '../第四批病人数据/治疗脑电（第一批次）\\\\Z李玉萍20220221（未发作）.edf',\n",
       " '../第四批病人数据/治疗脑电（第一批次）\\\\Z李玉萍20220223.edf',\n",
       " '../第四批病人数据/治疗脑电（第一批次）\\\\Z杜娇20220316.edf',\n",
       " '../第四批病人数据/治疗脑电（第一批次）\\\\Z杜娇20220318.edf',\n",
       " '../第四批病人数据/治疗脑电（第一批次）\\\\Z杜娇20220321.edf',\n",
       " '../第四批病人数据/治疗脑电（第一批次）\\\\Z杜娇20220325（未发作）.edf',\n",
       " '../第四批病人数据/治疗脑电（第一批次）\\\\Z林儒波202203023.edf',\n",
       " '../第四批病人数据/治疗脑电（第一批次）\\\\Z林儒波202203025.edf',\n",
       " '../第四批病人数据/治疗脑电（第一批次）\\\\Z林儒波202203028（未发作）.edf',\n",
       " '../第四批病人数据/治疗脑电（第一批次）\\\\Z林儒波202203030.edf',\n",
       " '../第四批病人数据/治疗脑电（第一批次）\\\\Z林攀攀20220221（未发作）.edf',\n",
       " '../第四批病人数据/治疗脑电（第一批次）\\\\Z林攀攀20220223（未发作）.edf',\n",
       " '../第四批病人数据/治疗脑电（第一批次）\\\\Z林攀攀20220225（未发作）.edf',\n",
       " '../第四批病人数据/治疗脑电（第一批次）\\\\Z林攀攀20220228.edf',\n",
       " '../第四批病人数据/治疗脑电（第一批次）\\\\Z沈伟202203011.edf',\n",
       " '../第四批病人数据/治疗脑电（第一批次）\\\\Z沈伟202203014（未发作）.edf',\n",
       " '../第四批病人数据/治疗脑电（第一批次）\\\\Z沈伟202203016.edf',\n",
       " '../第四批病人数据/治疗脑电（第一批次）\\\\Z沈伟202203018.edf',\n",
       " '../第四批病人数据/治疗脑电（第一批次）\\\\Z王宜凡202203018.edf',\n",
       " '../第四批病人数据/治疗脑电（第一批次）\\\\Z王宜凡202203021.edf',\n",
       " '../第四批病人数据/治疗脑电（第一批次）\\\\Z王宜凡202203023.edf',\n",
       " '../第四批病人数据/治疗脑电（第一批次）\\\\Z王宜凡202203025.edf',\n",
       " '../第四批病人数据/治疗脑电（第一批次）\\\\Z王纯刚202203021.edf',\n",
       " '../第四批病人数据/治疗脑电（第一批次）\\\\Z王纯刚202203023.edf',\n",
       " '../第四批病人数据/治疗脑电（第一批次）\\\\Z王纯刚202203025.edf',\n",
       " '../第四批病人数据/治疗脑电（第一批次）\\\\Z王纯刚202203028.edf',\n",
       " '../第四批病人数据/治疗脑电（第一批次）\\\\Z肖星星202203025.edf',\n",
       " '../第四批病人数据/治疗脑电（第一批次）\\\\Z肖星星202203028.edf',\n",
       " '../第四批病人数据/治疗脑电（第一批次）\\\\Z肖星星202203030（未发作）.edf',\n",
       " '../第四批病人数据/治疗脑电（第一批次）\\\\Z肖星星20220401.edf',\n",
       " '../第四批病人数据/治疗脑电（第一批次）\\\\Z肖智华20220225（未发作）.edf',\n",
       " '../第四批病人数据/治疗脑电（第一批次）\\\\Z肖智华20220228.edf',\n",
       " '../第四批病人数据/治疗脑电（第一批次）\\\\Z肖智华20220302.edf',\n",
       " '../第四批病人数据/治疗脑电（第一批次）\\\\Z肖智华20220307（未发作）.edf',\n",
       " '../第四批病人数据/治疗脑电（第一批次）\\\\Z赵丽兰20220225.edf',\n",
       " '../第四批病人数据/治疗脑电（第一批次）\\\\Z赵丽兰20220228.edf',\n",
       " '../第四批病人数据/治疗脑电（第一批次）\\\\Z赵丽兰20220302.edf',\n",
       " '../第四批病人数据/治疗脑电（第一批次）\\\\Z赵丽兰20220304.edf',\n",
       " '../第四批病人数据/治疗脑电（第一批次）\\\\Z雷振20220321.edf',\n",
       " '../第四批病人数据/治疗脑电（第一批次）\\\\Z雷振20220323.edf',\n",
       " '../第四批病人数据/治疗脑电（第一批次）\\\\Z雷振20220325.edf',\n",
       " '../第四批病人数据/治疗脑电（第一批次）\\\\Z雷振20220328.edf',\n",
       " '../第四批病人数据/治疗脑电（第一批次）\\\\Z黄盈雪20220314.edf',\n",
       " '../第四批病人数据/治疗脑电（第一批次）\\\\Z黄盈雪20220316.edf',\n",
       " '../第四批病人数据/治疗脑电（第一批次）\\\\Z黄盈雪20220318.edf',\n",
       " '../第四批病人数据/治疗脑电（第一批次）\\\\Z黄盈雪20220323.edf',\n",
       " '../第四批病人数据/治疗脑电（第一批次）\\\\Z黄金燕20220309.edf',\n",
       " '../第四批病人数据/治疗脑电（第一批次）\\\\Z黄金燕20220311.edf',\n",
       " '../第四批病人数据/治疗脑电（第一批次）\\\\Z黄金燕20220314.edf',\n",
       " '../第四批病人数据/治疗脑电（第一批次）\\\\Z黄金燕20220316.edf',\n",
       " '../第四批病人数据/治疗脑电（第一批次）\\\\Z齐金钢20220223.edf',\n",
       " '../第四批病人数据/治疗脑电（第一批次）\\\\Z齐金钢20220225.edf',\n",
       " '../第四批病人数据/治疗脑电（第一批次）\\\\Z齐金钢20220228.edf',\n",
       " '../第四批病人数据/治疗脑电（第一批次）\\\\Z齐金钢20220302.edf']"
      ]
     },
     "execution_count": 3,
     "metadata": {},
     "output_type": "execute_result"
    }
   ],
   "source": [
    "therapy_file_path"
   ]
  },
  {
   "cell_type": "code",
   "execution_count": 4,
   "id": "7d9c03a4",
   "metadata": {},
   "outputs": [],
   "source": [
    "# print(rest_subdirectory)\n",
    "# # 一级子目录\n",
    "# print(therapy_subdirectory)"
   ]
  },
  {
   "cell_type": "code",
   "execution_count": 5,
   "id": "4a630c3d",
   "metadata": {},
   "outputs": [],
   "source": [
    "# therapy_file_path = []\n",
    "# for directory in therapy_subdirectory:\n",
    "#     therapy_file_path.append(glob.glob(directory+\"/*\"))\n",
    "# # file_path"
   ]
  },
  {
   "cell_type": "code",
   "execution_count": 6,
   "id": "acb9a08e",
   "metadata": {},
   "outputs": [
    {
     "data": {
      "text/plain": [
       "'何富桂'"
      ]
     },
     "execution_count": 6,
     "metadata": {},
     "output_type": "execute_result"
    }
   ],
   "source": [
    "#观察文件名，发现所有文件名均为“Z人名日期”，所以取文件名的[1:4]为人名，前后对照，如果不同则表示是不同的人\n",
    "#思路：首先将所有人名取出，然后随机打乱顺序，前20个人作为训练数据，后4个人作为测试数据\n",
    "therapy_file_path[0].replace('\\\\','/').split('/')[-1][1:4]"
   ]
  },
  {
   "cell_type": "code",
   "execution_count": 7,
   "id": "afe398dc",
   "metadata": {},
   "outputs": [],
   "source": [
    "def getNameList(file_path,name_list):\n",
    "    last_name='1'\n",
    "    for i in file_path:\n",
    "        cur_name=i.replace('\\\\','/').split('/')[-1][1:4]\n",
    "        if (last_name!=cur_name):\n",
    "            name_list.append(cur_name)\n",
    "        last_name=cur_name      "
   ]
  },
  {
   "cell_type": "code",
   "execution_count": 8,
   "id": "911ddf6d",
   "metadata": {},
   "outputs": [
    {
     "data": {
      "text/plain": [
       "['林儒波',\n",
       " '肖智华',\n",
       " '刘世清',\n",
       " '王宜凡',\n",
       " '雷振2',\n",
       " '孙彭辉',\n",
       " '杜娇2',\n",
       " '沈伟2',\n",
       " '徐珍英',\n",
       " '王纯刚',\n",
       " '林攀攀',\n",
       " '周小凯',\n",
       " '李玉萍',\n",
       " '齐金钢',\n",
       " '倪诗瑄',\n",
       " '刘家瑞',\n",
       " '黄盈雪',\n",
       " '黄金燕',\n",
       " '宋志辉',\n",
       " '何富桂',\n",
       " '曾刚2',\n",
       " '赵丽兰',\n",
       " '张璐2',\n",
       " '肖星星']"
      ]
     },
     "execution_count": 8,
     "metadata": {},
     "output_type": "execute_result"
    }
   ],
   "source": [
    "name_list=[]\n",
    "getNameList(therapy_file_path,name_list)\n",
    "np.random.shuffle(name_list)\n",
    "name_list"
   ]
  },
  {
   "cell_type": "code",
   "execution_count": 9,
   "id": "e11d8b33",
   "metadata": {},
   "outputs": [
    {
     "data": {
      "text/plain": [
       "['../第四批病人数据/治疗脑电（第一批次）\\\\Z林儒波202203023.edf',\n",
       " '../第四批病人数据/治疗脑电（第一批次）\\\\Z林儒波202203025.edf',\n",
       " '../第四批病人数据/治疗脑电（第一批次）\\\\Z林儒波202203028（未发作）.edf',\n",
       " '../第四批病人数据/治疗脑电（第一批次）\\\\Z林儒波202203030.edf',\n",
       " '../第四批病人数据/治疗脑电（第一批次）\\\\Z肖智华20220225（未发作）.edf',\n",
       " '../第四批病人数据/治疗脑电（第一批次）\\\\Z肖智华20220228.edf',\n",
       " '../第四批病人数据/治疗脑电（第一批次）\\\\Z肖智华20220302.edf',\n",
       " '../第四批病人数据/治疗脑电（第一批次）\\\\Z肖智华20220307（未发作）.edf',\n",
       " '../第四批病人数据/治疗脑电（第一批次）\\\\Z刘世清202203011.edf',\n",
       " '../第四批病人数据/治疗脑电（第一批次）\\\\Z刘世清202203014（未发作）.edf',\n",
       " '../第四批病人数据/治疗脑电（第一批次）\\\\Z刘世清202203016.edf',\n",
       " '../第四批病人数据/治疗脑电（第一批次）\\\\Z刘世清20220309.edf',\n",
       " '../第四批病人数据/治疗脑电（第一批次）\\\\Z王宜凡202203018.edf',\n",
       " '../第四批病人数据/治疗脑电（第一批次）\\\\Z王宜凡202203021.edf',\n",
       " '../第四批病人数据/治疗脑电（第一批次）\\\\Z王宜凡202203023.edf',\n",
       " '../第四批病人数据/治疗脑电（第一批次）\\\\Z王宜凡202203025.edf',\n",
       " '../第四批病人数据/治疗脑电（第一批次）\\\\Z雷振20220321.edf',\n",
       " '../第四批病人数据/治疗脑电（第一批次）\\\\Z雷振20220323.edf',\n",
       " '../第四批病人数据/治疗脑电（第一批次）\\\\Z雷振20220325.edf',\n",
       " '../第四批病人数据/治疗脑电（第一批次）\\\\Z雷振20220328.edf',\n",
       " '../第四批病人数据/治疗脑电（第一批次）\\\\Z孙彭辉20220225.edf',\n",
       " '../第四批病人数据/治疗脑电（第一批次）\\\\Z孙彭辉20220228.edf',\n",
       " '../第四批病人数据/治疗脑电（第一批次）\\\\Z孙彭辉20220302.edf',\n",
       " '../第四批病人数据/治疗脑电（第一批次）\\\\Z孙彭辉20220304.edf',\n",
       " '../第四批病人数据/治疗脑电（第一批次）\\\\Z杜娇20220316.edf',\n",
       " '../第四批病人数据/治疗脑电（第一批次）\\\\Z杜娇20220318.edf',\n",
       " '../第四批病人数据/治疗脑电（第一批次）\\\\Z杜娇20220321.edf',\n",
       " '../第四批病人数据/治疗脑电（第一批次）\\\\Z杜娇20220325（未发作）.edf',\n",
       " '../第四批病人数据/治疗脑电（第一批次）\\\\Z沈伟202203011.edf',\n",
       " '../第四批病人数据/治疗脑电（第一批次）\\\\Z沈伟202203014（未发作）.edf',\n",
       " '../第四批病人数据/治疗脑电（第一批次）\\\\Z沈伟202203016.edf',\n",
       " '../第四批病人数据/治疗脑电（第一批次）\\\\Z沈伟202203018.edf',\n",
       " '../第四批病人数据/治疗脑电（第一批次）\\\\Z徐珍英20220218（未发作）.edf',\n",
       " '../第四批病人数据/治疗脑电（第一批次）\\\\Z徐珍英20220221（未发作）.edf',\n",
       " '../第四批病人数据/治疗脑电（第一批次）\\\\Z徐珍英20220223.edf',\n",
       " '../第四批病人数据/治疗脑电（第一批次）\\\\Z徐珍英20220225.edf',\n",
       " '../第四批病人数据/治疗脑电（第一批次）\\\\Z王纯刚202203021.edf',\n",
       " '../第四批病人数据/治疗脑电（第一批次）\\\\Z王纯刚202203023.edf',\n",
       " '../第四批病人数据/治疗脑电（第一批次）\\\\Z王纯刚202203025.edf',\n",
       " '../第四批病人数据/治疗脑电（第一批次）\\\\Z王纯刚202203028.edf',\n",
       " '../第四批病人数据/治疗脑电（第一批次）\\\\Z林攀攀20220221（未发作）.edf',\n",
       " '../第四批病人数据/治疗脑电（第一批次）\\\\Z林攀攀20220223（未发作）.edf',\n",
       " '../第四批病人数据/治疗脑电（第一批次）\\\\Z林攀攀20220225（未发作）.edf',\n",
       " '../第四批病人数据/治疗脑电（第一批次）\\\\Z林攀攀20220228.edf',\n",
       " '../第四批病人数据/治疗脑电（第一批次）\\\\Z周小凯202203014.edf',\n",
       " '../第四批病人数据/治疗脑电（第一批次）\\\\Z周小凯202203016.edf',\n",
       " '../第四批病人数据/治疗脑电（第一批次）\\\\Z周小凯202203018.edf',\n",
       " '../第四批病人数据/治疗脑电（第一批次）\\\\Z周小凯202203021.edf',\n",
       " '../第四批病人数据/治疗脑电（第一批次）\\\\Z李玉萍20220216.edf',\n",
       " '../第四批病人数据/治疗脑电（第一批次）\\\\Z李玉萍20220218.edf',\n",
       " '../第四批病人数据/治疗脑电（第一批次）\\\\Z李玉萍20220221（未发作）.edf',\n",
       " '../第四批病人数据/治疗脑电（第一批次）\\\\Z李玉萍20220223.edf',\n",
       " '../第四批病人数据/治疗脑电（第一批次）\\\\Z齐金钢20220223.edf',\n",
       " '../第四批病人数据/治疗脑电（第一批次）\\\\Z齐金钢20220225.edf',\n",
       " '../第四批病人数据/治疗脑电（第一批次）\\\\Z齐金钢20220228.edf',\n",
       " '../第四批病人数据/治疗脑电（第一批次）\\\\Z齐金钢20220302.edf',\n",
       " '../第四批病人数据/治疗脑电（第一批次）\\\\Z倪诗瑄202203011.edf',\n",
       " '../第四批病人数据/治疗脑电（第一批次）\\\\Z倪诗瑄202203014.edf',\n",
       " '../第四批病人数据/治疗脑电（第一批次）\\\\Z倪诗瑄202203016.edf',\n",
       " '../第四批病人数据/治疗脑电（第一批次）\\\\Z倪诗瑄202203018.edf',\n",
       " '../第四批病人数据/治疗脑电（第一批次）\\\\Z刘家瑞20220225.edf',\n",
       " '../第四批病人数据/治疗脑电（第一批次）\\\\Z刘家瑞20220228.edf',\n",
       " '../第四批病人数据/治疗脑电（第一批次）\\\\Z刘家瑞20220302.edf',\n",
       " '../第四批病人数据/治疗脑电（第一批次）\\\\Z刘家瑞20220304.edf',\n",
       " '../第四批病人数据/治疗脑电（第一批次）\\\\Z黄盈雪20220314.edf',\n",
       " '../第四批病人数据/治疗脑电（第一批次）\\\\Z黄盈雪20220316.edf',\n",
       " '../第四批病人数据/治疗脑电（第一批次）\\\\Z黄盈雪20220318.edf',\n",
       " '../第四批病人数据/治疗脑电（第一批次）\\\\Z黄盈雪20220323.edf',\n",
       " '../第四批病人数据/治疗脑电（第一批次）\\\\Z黄金燕20220309.edf',\n",
       " '../第四批病人数据/治疗脑电（第一批次）\\\\Z黄金燕20220311.edf',\n",
       " '../第四批病人数据/治疗脑电（第一批次）\\\\Z黄金燕20220314.edf',\n",
       " '../第四批病人数据/治疗脑电（第一批次）\\\\Z黄金燕20220316.edf',\n",
       " '../第四批病人数据/治疗脑电（第一批次）\\\\Z宋志辉202203018.edf',\n",
       " '../第四批病人数据/治疗脑电（第一批次）\\\\Z宋志辉202203021.edf',\n",
       " '../第四批病人数据/治疗脑电（第一批次）\\\\Z宋志辉202203023.edf',\n",
       " '../第四批病人数据/治疗脑电（第一批次）\\\\Z宋志辉202203025.edf',\n",
       " '../第四批病人数据/治疗脑电（第一批次）\\\\Z何富桂20220221.edf',\n",
       " '../第四批病人数据/治疗脑电（第一批次）\\\\Z何富桂20220225.edf',\n",
       " '../第四批病人数据/治疗脑电（第一批次）\\\\Z何富桂20220228.edf',\n",
       " '../第四批病人数据/治疗脑电（第一批次）\\\\Z何富桂20220302.edf',\n",
       " '../第四批病人数据/治疗脑电（第一批次）\\\\Z曾刚20220216.edf',\n",
       " '../第四批病人数据/治疗脑电（第一批次）\\\\Z曾刚20220218（未发作）.edf',\n",
       " '../第四批病人数据/治疗脑电（第一批次）\\\\Z曾刚20220221.edf',\n",
       " '../第四批病人数据/治疗脑电（第一批次）\\\\Z曾刚20220223.edf',\n",
       " '../第四批病人数据/治疗脑电（第一批次）\\\\Z赵丽兰20220225.edf',\n",
       " '../第四批病人数据/治疗脑电（第一批次）\\\\Z赵丽兰20220228.edf',\n",
       " '../第四批病人数据/治疗脑电（第一批次）\\\\Z赵丽兰20220302.edf',\n",
       " '../第四批病人数据/治疗脑电（第一批次）\\\\Z赵丽兰20220304.edf',\n",
       " '../第四批病人数据/治疗脑电（第一批次）\\\\Z张璐20220225.edf',\n",
       " '../第四批病人数据/治疗脑电（第一批次）\\\\Z张璐20220228.edf',\n",
       " '../第四批病人数据/治疗脑电（第一批次）\\\\Z张璐20220302.edf',\n",
       " '../第四批病人数据/治疗脑电（第一批次）\\\\Z张璐20220304.edf',\n",
       " '../第四批病人数据/治疗脑电（第一批次）\\\\Z肖星星202203025.edf',\n",
       " '../第四批病人数据/治疗脑电（第一批次）\\\\Z肖星星202203028.edf',\n",
       " '../第四批病人数据/治疗脑电（第一批次）\\\\Z肖星星202203030（未发作）.edf',\n",
       " '../第四批病人数据/治疗脑电（第一批次）\\\\Z肖星星20220401.edf']"
      ]
     },
     "execution_count": 9,
     "metadata": {},
     "output_type": "execute_result"
    }
   ],
   "source": [
    "therapy_file_path=[]\n",
    "for i in name_list:\n",
    "    temp_file_path=sorted(glob.glob(therapy_path+'*'+i+'*'))\n",
    "    for j in temp_file_path:\n",
    "        therapy_file_path.append(j)\n",
    "therapy_file_path"
   ]
  },
  {
   "cell_type": "code",
   "execution_count": 10,
   "id": "74813590",
   "metadata": {
    "code_folding": []
   },
   "outputs": [],
   "source": [
    "#检测EEG文件是否有flag标记,返回true/false\n",
    "def judgeflag(file_path,flag):\n",
    "    raw = read_raw_edf(file_path,preload=False)\n",
    "    events_from_annot, event_dict = mne.events_from_annotations(raw)\n",
    "    if flag in event_dict:\n",
    "        return True\n",
    "    else:\n",
    "        return False"
   ]
  },
  {
   "cell_type": "code",
   "execution_count": 11,
   "id": "be52f2c0",
   "metadata": {},
   "outputs": [],
   "source": [
    "def get_se_epochs(path,begin_test):\n",
    "    select_time=16\n",
    "    raw=read_raw_edf(path,preload=False)\n",
    "    events_from_annot, event_dict = mne.events_from_annotations(raw)\n",
    "    start_time=float(events_from_annot[2][0])/1024 #SE标记处,save函数的参数单位是s，所以要除以1024\n",
    "    end_time=start_time+select_time\n",
    "    print(start_time,\"+\",end_time)\n",
    "    data,time = raw[:17,:] \n",
    "    picks=None\n",
    "    path_name=path.split('\\\\')[1:]\n",
    "    path_name=\"\".join(path_name)\n",
    "    path_name=path_name.split('.')[0]\n",
    "#在这里将训练集和测试集分开,需要新建SE_train和SE_test两个文件夹\n",
    "    if (begin_test):      \n",
    "        path_name=r\"./SE_test/\"+path_name+\".fif\"\n",
    "    else:\n",
    "        path_name=r\"./SE_train/\"+path_name+\".fif\"\n",
    "    path_name=path_name.replace('/','\\\\')\n",
    "    print(path_name)\n",
    "    raw.save(path_name,picks,start_time,end_time,overwrite=True)"
   ]
  },
  {
   "cell_type": "code",
   "execution_count": 12,
   "id": "7d264c65",
   "metadata": {},
   "outputs": [
    {
     "data": {
      "text/plain": [
       "'林儒波'"
      ]
     },
     "execution_count": 12,
     "metadata": {},
     "output_type": "execute_result"
    }
   ],
   "source": [
    "therapy_file_path[0].replace('\\\\','/').split('/')[-1][1:4]"
   ]
  },
  {
   "cell_type": "code",
   "execution_count": 13,
   "id": "d19d4c79",
   "metadata": {},
   "outputs": [
    {
     "name": "stdout",
     "output_type": "stream",
     "text": [
      "Extracting EDF parameters from E:\\jupyter file\\第四批病人数据\\治疗脑电（第一批次）\\Z林儒波202203023.edf...\n",
      "EDF file detected\n",
      "Setting channel info structure...\n",
      "Creating raw.info structure...\n",
      "Used Annotations descriptions: ['File Create', 'Recording ends', 'Recording starts', 'SE']\n",
      "Extracting EDF parameters from E:\\jupyter file\\第四批病人数据\\治疗脑电（第一批次）\\Z林儒波202203023.edf...\n",
      "EDF file detected\n",
      "Setting channel info structure...\n",
      "Creating raw.info structure...\n",
      "Used Annotations descriptions: ['File Create', 'Recording ends', 'Recording starts', 'SE']\n",
      "456.8671875 + 472.8671875\n",
      ".\\SE_train\\Z林儒波202203023.fif\n",
      "Writing E:\\jupyter file\\EEG_process\\SE_train\\Z林儒波202203023.fif\n",
      "Closing E:\\jupyter file\\EEG_process\\SE_train\\Z林儒波202203023.fif\n",
      "[done]\n",
      "Extracting EDF parameters from E:\\jupyter file\\第四批病人数据\\治疗脑电（第一批次）\\Z林儒波202203025.edf...\n",
      "EDF file detected\n",
      "Setting channel info structure...\n",
      "Creating raw.info structure...\n",
      "Used Annotations descriptions: ['File Create', 'Recording ends', 'Recording starts', 'SE', 'end', 'start']\n",
      "Extracting EDF parameters from E:\\jupyter file\\第四批病人数据\\治疗脑电（第一批次）\\Z林儒波202203025.edf...\n",
      "EDF file detected\n",
      "Setting channel info structure...\n",
      "Creating raw.info structure...\n",
      "Used Annotations descriptions: ['File Create', 'Recording ends', 'Recording starts', 'SE', 'end', 'start']\n",
      "26.5615234375 + 42.5615234375\n",
      ".\\SE_train\\Z林儒波202203025.fif\n",
      "Writing E:\\jupyter file\\EEG_process\\SE_train\\Z林儒波202203025.fif\n",
      "Closing E:\\jupyter file\\EEG_process\\SE_train\\Z林儒波202203025.fif\n",
      "[done]\n",
      "Extracting EDF parameters from E:\\jupyter file\\第四批病人数据\\治疗脑电（第一批次）\\Z林儒波202203028（未发作）.edf...\n",
      "EDF file detected\n"
     ]
    },
    {
     "name": "stderr",
     "output_type": "stream",
     "text": [
      "<ipython-input-11-4e4bdafa783c>:20: RuntimeWarning: This filename (E:\\jupyter file\\EEG_process\\SE_train\\Z林儒波202203023.fif) does not conform to MNE naming conventions. All raw files should end with raw.fif, raw_sss.fif, raw_tsss.fif, _meg.fif, _eeg.fif, _ieeg.fif, raw.fif.gz, raw_sss.fif.gz, raw_tsss.fif.gz, _meg.fif.gz, _eeg.fif.gz or _ieeg.fif.gz\n",
      "  raw.save(path_name,picks,start_time,end_time,overwrite=True)\n",
      "<ipython-input-11-4e4bdafa783c>:20: RuntimeWarning: This filename (E:\\jupyter file\\EEG_process\\SE_train\\Z林儒波202203025.fif) does not conform to MNE naming conventions. All raw files should end with raw.fif, raw_sss.fif, raw_tsss.fif, _meg.fif, _eeg.fif, _ieeg.fif, raw.fif.gz, raw_sss.fif.gz, raw_tsss.fif.gz, _meg.fif.gz, _eeg.fif.gz or _ieeg.fif.gz\n",
      "  raw.save(path_name,picks,start_time,end_time,overwrite=True)\n"
     ]
    },
    {
     "name": "stdout",
     "output_type": "stream",
     "text": [
      "Setting channel info structure...\n",
      "Creating raw.info structure...\n",
      "Used Annotations descriptions: ['File Create', 'Recording ends', 'Recording starts', 'SE']\n",
      "Extracting EDF parameters from E:\\jupyter file\\第四批病人数据\\治疗脑电（第一批次）\\Z林儒波202203028（未发作）.edf...\n",
      "EDF file detected\n",
      "Setting channel info structure...\n",
      "Creating raw.info structure...\n",
      "Used Annotations descriptions: ['File Create', 'Recording ends', 'Recording starts', 'SE']\n",
      "3.958984375 + 19.958984375\n",
      ".\\SE_train\\Z林儒波202203028（未发作）.fif\n",
      "Writing E:\\jupyter file\\EEG_process\\SE_train\\Z林儒波202203028（未发作）.fif\n",
      "Closing E:\\jupyter file\\EEG_process\\SE_train\\Z林儒波202203028（未发作）.fif\n",
      "[done]\n",
      "Extracting EDF parameters from E:\\jupyter file\\第四批病人数据\\治疗脑电（第一批次）\\Z林儒波202203030.edf...\n",
      "EDF file detected\n",
      "Setting channel info structure...\n",
      "Creating raw.info structure...\n",
      "Used Annotations descriptions: ['Recording ends', 'Recording starts', 'SE', 'end', 'start']\n",
      "Extracting EDF parameters from E:\\jupyter file\\第四批病人数据\\治疗脑电（第一批次）\\Z林儒波202203030.edf...\n",
      "EDF file detected\n",
      "Setting channel info structure...\n",
      "Creating raw.info structure...\n",
      "Used Annotations descriptions: ['Recording ends', 'Recording starts', 'SE', 'end', 'start']\n",
      "274.6962890625 + 290.6962890625\n",
      ".\\SE_train\\Z林儒波202203030.fif\n",
      "Writing E:\\jupyter file\\EEG_process\\SE_train\\Z林儒波202203030.fif\n",
      "Closing E:\\jupyter file\\EEG_process\\SE_train\\Z林儒波202203030.fif\n",
      "[done]\n",
      "Extracting EDF parameters from E:\\jupyter file\\第四批病人数据\\治疗脑电（第一批次）\\Z肖智华20220225（未发作）.edf...\n",
      "EDF file detected\n",
      "Setting channel info structure...\n",
      "Creating raw.info structure...\n"
     ]
    },
    {
     "name": "stderr",
     "output_type": "stream",
     "text": [
      "<ipython-input-11-4e4bdafa783c>:20: RuntimeWarning: This filename (E:\\jupyter file\\EEG_process\\SE_train\\Z林儒波202203028（未发作）.fif) does not conform to MNE naming conventions. All raw files should end with raw.fif, raw_sss.fif, raw_tsss.fif, _meg.fif, _eeg.fif, _ieeg.fif, raw.fif.gz, raw_sss.fif.gz, raw_tsss.fif.gz, _meg.fif.gz, _eeg.fif.gz or _ieeg.fif.gz\n",
      "  raw.save(path_name,picks,start_time,end_time,overwrite=True)\n",
      "<ipython-input-11-4e4bdafa783c>:20: RuntimeWarning: This filename (E:\\jupyter file\\EEG_process\\SE_train\\Z林儒波202203030.fif) does not conform to MNE naming conventions. All raw files should end with raw.fif, raw_sss.fif, raw_tsss.fif, _meg.fif, _eeg.fif, _ieeg.fif, raw.fif.gz, raw_sss.fif.gz, raw_tsss.fif.gz, _meg.fif.gz, _eeg.fif.gz or _ieeg.fif.gz\n",
      "  raw.save(path_name,picks,start_time,end_time,overwrite=True)\n"
     ]
    },
    {
     "name": "stdout",
     "output_type": "stream",
     "text": [
      "Used Annotations descriptions: ['File Create', 'Recording ends', 'Recording starts', 'SE']\n",
      "Extracting EDF parameters from E:\\jupyter file\\第四批病人数据\\治疗脑电（第一批次）\\Z肖智华20220225（未发作）.edf...\n",
      "EDF file detected\n",
      "Setting channel info structure...\n",
      "Creating raw.info structure...\n",
      "Used Annotations descriptions: ['File Create', 'Recording ends', 'Recording starts', 'SE']\n",
      "2.9580078125 + 18.9580078125\n",
      ".\\SE_train\\Z肖智华20220225（未发作）.fif\n",
      "Writing E:\\jupyter file\\EEG_process\\SE_train\\Z肖智华20220225（未发作）.fif\n",
      "Closing E:\\jupyter file\\EEG_process\\SE_train\\Z肖智华20220225（未发作）.fif\n",
      "[done]\n",
      "Extracting EDF parameters from E:\\jupyter file\\第四批病人数据\\治疗脑电（第一批次）\\Z肖智华20220228.edf...\n",
      "EDF file detected\n",
      "Setting channel info structure...\n",
      "Creating raw.info structure...\n",
      "Used Annotations descriptions: ['File Create', 'Recording ends', 'Recording starts', 'SE', 'end', 'start']\n",
      "Extracting EDF parameters from E:\\jupyter file\\第四批病人数据\\治疗脑电（第一批次）\\Z肖智华20220228.edf...\n",
      "EDF file detected\n",
      "Setting channel info structure...\n",
      "Creating raw.info structure...\n",
      "Used Annotations descriptions: ['File Create', 'Recording ends', 'Recording starts', 'SE', 'end', 'start']\n",
      "24.6865234375 + 40.6865234375\n",
      ".\\SE_train\\Z肖智华20220228.fif\n",
      "Writing E:\\jupyter file\\EEG_process\\SE_train\\Z肖智华20220228.fif\n",
      "Closing E:\\jupyter file\\EEG_process\\SE_train\\Z肖智华20220228.fif\n",
      "[done]\n",
      "Extracting EDF parameters from E:\\jupyter file\\第四批病人数据\\治疗脑电（第一批次）\\Z肖智华20220302.edf...\n",
      "EDF file detected\n",
      "Setting channel info structure...\n",
      "Creating raw.info structure...\n",
      "Used Annotations descriptions: ['File Create', 'Recording ends', 'Recording starts', 'SE', 'end', 'start']\n"
     ]
    },
    {
     "name": "stderr",
     "output_type": "stream",
     "text": [
      "<ipython-input-11-4e4bdafa783c>:20: RuntimeWarning: This filename (E:\\jupyter file\\EEG_process\\SE_train\\Z肖智华20220225（未发作）.fif) does not conform to MNE naming conventions. All raw files should end with raw.fif, raw_sss.fif, raw_tsss.fif, _meg.fif, _eeg.fif, _ieeg.fif, raw.fif.gz, raw_sss.fif.gz, raw_tsss.fif.gz, _meg.fif.gz, _eeg.fif.gz or _ieeg.fif.gz\n",
      "  raw.save(path_name,picks,start_time,end_time,overwrite=True)\n",
      "<ipython-input-11-4e4bdafa783c>:20: RuntimeWarning: This filename (E:\\jupyter file\\EEG_process\\SE_train\\Z肖智华20220228.fif) does not conform to MNE naming conventions. All raw files should end with raw.fif, raw_sss.fif, raw_tsss.fif, _meg.fif, _eeg.fif, _ieeg.fif, raw.fif.gz, raw_sss.fif.gz, raw_tsss.fif.gz, _meg.fif.gz, _eeg.fif.gz or _ieeg.fif.gz\n",
      "  raw.save(path_name,picks,start_time,end_time,overwrite=True)\n"
     ]
    },
    {
     "name": "stdout",
     "output_type": "stream",
     "text": [
      "Extracting EDF parameters from E:\\jupyter file\\第四批病人数据\\治疗脑电（第一批次）\\Z肖智华20220302.edf...\n",
      "EDF file detected\n",
      "Setting channel info structure...\n",
      "Creating raw.info structure...\n",
      "Used Annotations descriptions: ['File Create', 'Recording ends', 'Recording starts', 'SE', 'end', 'start']\n",
      "602.771484375 + 618.771484375\n",
      ".\\SE_train\\Z肖智华20220302.fif\n",
      "Writing E:\\jupyter file\\EEG_process\\SE_train\\Z肖智华20220302.fif\n",
      "Closing E:\\jupyter file\\EEG_process\\SE_train\\Z肖智华20220302.fif\n",
      "[done]\n",
      "Extracting EDF parameters from E:\\jupyter file\\第四批病人数据\\治疗脑电（第一批次）\\Z肖智华20220307（未发作）.edf...\n",
      "EDF file detected\n",
      "Setting channel info structure...\n",
      "Creating raw.info structure...\n",
      "Used Annotations descriptions: ['File Create', 'Recording ends', 'Recording starts', 'start']\n",
      "Extracting EDF parameters from E:\\jupyter file\\第四批病人数据\\治疗脑电（第一批次）\\Z刘世清202203011.edf...\n",
      "EDF file detected\n",
      "Setting channel info structure...\n",
      "Creating raw.info structure...\n",
      "Used Annotations descriptions: ['File Create', 'Recording ends', 'Recording starts', 'SE', 'end', 'start']\n",
      "Extracting EDF parameters from E:\\jupyter file\\第四批病人数据\\治疗脑电（第一批次）\\Z刘世清202203011.edf...\n",
      "EDF file detected\n",
      "Setting channel info structure...\n",
      "Creating raw.info structure...\n",
      "Used Annotations descriptions: ['File Create', 'Recording ends', 'Recording starts', 'SE', 'end', 'start']\n",
      "38.103515625 + 54.103515625\n",
      ".\\SE_train\\Z刘世清202203011.fif\n",
      "Writing E:\\jupyter file\\EEG_process\\SE_train\\Z刘世清202203011.fif\n",
      "Closing E:\\jupyter file\\EEG_process\\SE_train\\Z刘世清202203011.fif\n"
     ]
    },
    {
     "name": "stderr",
     "output_type": "stream",
     "text": [
      "<ipython-input-11-4e4bdafa783c>:20: RuntimeWarning: This filename (E:\\jupyter file\\EEG_process\\SE_train\\Z肖智华20220302.fif) does not conform to MNE naming conventions. All raw files should end with raw.fif, raw_sss.fif, raw_tsss.fif, _meg.fif, _eeg.fif, _ieeg.fif, raw.fif.gz, raw_sss.fif.gz, raw_tsss.fif.gz, _meg.fif.gz, _eeg.fif.gz or _ieeg.fif.gz\n",
      "  raw.save(path_name,picks,start_time,end_time,overwrite=True)\n",
      "<ipython-input-11-4e4bdafa783c>:20: RuntimeWarning: This filename (E:\\jupyter file\\EEG_process\\SE_train\\Z刘世清202203011.fif) does not conform to MNE naming conventions. All raw files should end with raw.fif, raw_sss.fif, raw_tsss.fif, _meg.fif, _eeg.fif, _ieeg.fif, raw.fif.gz, raw_sss.fif.gz, raw_tsss.fif.gz, _meg.fif.gz, _eeg.fif.gz or _ieeg.fif.gz\n",
      "  raw.save(path_name,picks,start_time,end_time,overwrite=True)\n"
     ]
    },
    {
     "name": "stdout",
     "output_type": "stream",
     "text": [
      "[done]\n",
      "Extracting EDF parameters from E:\\jupyter file\\第四批病人数据\\治疗脑电（第一批次）\\Z刘世清202203014（未发作）.edf...\n",
      "EDF file detected\n",
      "Setting channel info structure...\n",
      "Creating raw.info structure...\n",
      "Used Annotations descriptions: ['File Create', 'Recording ends', 'Recording starts', 'SE']\n",
      "Extracting EDF parameters from E:\\jupyter file\\第四批病人数据\\治疗脑电（第一批次）\\Z刘世清202203014（未发作）.edf...\n",
      "EDF file detected\n",
      "Setting channel info structure...\n",
      "Creating raw.info structure...\n",
      "Used Annotations descriptions: ['File Create', 'Recording ends', 'Recording starts', 'SE']\n",
      "557.830078125 + 573.830078125\n",
      ".\\SE_train\\Z刘世清202203014（未发作）.fif\n",
      "Writing E:\\jupyter file\\EEG_process\\SE_train\\Z刘世清202203014（未发作）.fif\n",
      "Closing E:\\jupyter file\\EEG_process\\SE_train\\Z刘世清202203014（未发作）.fif\n",
      "[done]\n",
      "Extracting EDF parameters from E:\\jupyter file\\第四批病人数据\\治疗脑电（第一批次）\\Z刘世清202203016.edf...\n",
      "EDF file detected\n",
      "Setting channel info structure...\n",
      "Creating raw.info structure...\n",
      "Used Annotations descriptions: ['File Create', 'Recording ends', 'Recording starts', 'SE', 'end', 'start']\n",
      "Extracting EDF parameters from E:\\jupyter file\\第四批病人数据\\治疗脑电（第一批次）\\Z刘世清202203016.edf...\n",
      "EDF file detected\n",
      "Setting channel info structure...\n",
      "Creating raw.info structure...\n",
      "Used Annotations descriptions: ['File Create', 'Recording ends', 'Recording starts', 'SE', 'end', 'start']\n",
      "45.0625 + 61.0625\n",
      ".\\SE_train\\Z刘世清202203016.fif\n",
      "Writing E:\\jupyter file\\EEG_process\\SE_train\\Z刘世清202203016.fif\n",
      "Closing E:\\jupyter file\\EEG_process\\SE_train\\Z刘世清202203016.fif\n",
      "[done]\n",
      "Extracting EDF parameters from E:\\jupyter file\\第四批病人数据\\治疗脑电（第一批次）\\Z刘世清20220309.edf...\n",
      "EDF file detected\n",
      "Setting channel info structure...\n",
      "Creating raw.info structure...\n",
      "Used Annotations descriptions: ['File Create', 'Recording ends', 'Recording starts', 'SE', 'end', 'start']\n",
      "Extracting EDF parameters from E:\\jupyter file\\第四批病人数据\\治疗脑电（第一批次）\\Z刘世清20220309.edf...\n",
      "EDF file detected\n",
      "Setting channel info structure...\n",
      "Creating raw.info structure...\n"
     ]
    },
    {
     "name": "stderr",
     "output_type": "stream",
     "text": [
      "<ipython-input-11-4e4bdafa783c>:20: RuntimeWarning: This filename (E:\\jupyter file\\EEG_process\\SE_train\\Z刘世清202203014（未发作）.fif) does not conform to MNE naming conventions. All raw files should end with raw.fif, raw_sss.fif, raw_tsss.fif, _meg.fif, _eeg.fif, _ieeg.fif, raw.fif.gz, raw_sss.fif.gz, raw_tsss.fif.gz, _meg.fif.gz, _eeg.fif.gz or _ieeg.fif.gz\n",
      "  raw.save(path_name,picks,start_time,end_time,overwrite=True)\n",
      "<ipython-input-11-4e4bdafa783c>:20: RuntimeWarning: This filename (E:\\jupyter file\\EEG_process\\SE_train\\Z刘世清202203016.fif) does not conform to MNE naming conventions. All raw files should end with raw.fif, raw_sss.fif, raw_tsss.fif, _meg.fif, _eeg.fif, _ieeg.fif, raw.fif.gz, raw_sss.fif.gz, raw_tsss.fif.gz, _meg.fif.gz, _eeg.fif.gz or _ieeg.fif.gz\n",
      "  raw.save(path_name,picks,start_time,end_time,overwrite=True)\n"
     ]
    },
    {
     "name": "stdout",
     "output_type": "stream",
     "text": [
      "Used Annotations descriptions: ['File Create', 'Recording ends', 'Recording starts', 'SE', 'end', 'start']\n",
      "71.154296875 + 87.154296875\n",
      ".\\SE_train\\Z刘世清20220309.fif\n",
      "Writing E:\\jupyter file\\EEG_process\\SE_train\\Z刘世清20220309.fif\n",
      "Closing E:\\jupyter file\\EEG_process\\SE_train\\Z刘世清20220309.fif\n",
      "[done]\n",
      "Extracting EDF parameters from E:\\jupyter file\\第四批病人数据\\治疗脑电（第一批次）\\Z王宜凡202203018.edf...\n",
      "EDF file detected\n",
      "Setting channel info structure...\n",
      "Creating raw.info structure...\n",
      "Used Annotations descriptions: ['File Create', 'Recording ends', 'Recording starts', 'SE', 'end', 'start']\n",
      "Extracting EDF parameters from E:\\jupyter file\\第四批病人数据\\治疗脑电（第一批次）\\Z王宜凡202203018.edf...\n",
      "EDF file detected\n",
      "Setting channel info structure...\n",
      "Creating raw.info structure...\n",
      "Used Annotations descriptions: ['File Create', 'Recording ends', 'Recording starts', 'SE', 'end', 'start']\n",
      "115.36328125 + 131.36328125\n",
      ".\\SE_train\\Z王宜凡202203018.fif\n",
      "Writing E:\\jupyter file\\EEG_process\\SE_train\\Z王宜凡202203018.fif\n",
      "Closing E:\\jupyter file\\EEG_process\\SE_train\\Z王宜凡202203018.fif\n",
      "[done]\n",
      "Extracting EDF parameters from E:\\jupyter file\\第四批病人数据\\治疗脑电（第一批次）\\Z王宜凡202203021.edf...\n"
     ]
    },
    {
     "name": "stderr",
     "output_type": "stream",
     "text": [
      "<ipython-input-11-4e4bdafa783c>:20: RuntimeWarning: This filename (E:\\jupyter file\\EEG_process\\SE_train\\Z刘世清20220309.fif) does not conform to MNE naming conventions. All raw files should end with raw.fif, raw_sss.fif, raw_tsss.fif, _meg.fif, _eeg.fif, _ieeg.fif, raw.fif.gz, raw_sss.fif.gz, raw_tsss.fif.gz, _meg.fif.gz, _eeg.fif.gz or _ieeg.fif.gz\n",
      "  raw.save(path_name,picks,start_time,end_time,overwrite=True)\n",
      "<ipython-input-11-4e4bdafa783c>:20: RuntimeWarning: This filename (E:\\jupyter file\\EEG_process\\SE_train\\Z王宜凡202203018.fif) does not conform to MNE naming conventions. All raw files should end with raw.fif, raw_sss.fif, raw_tsss.fif, _meg.fif, _eeg.fif, _ieeg.fif, raw.fif.gz, raw_sss.fif.gz, raw_tsss.fif.gz, _meg.fif.gz, _eeg.fif.gz or _ieeg.fif.gz\n",
      "  raw.save(path_name,picks,start_time,end_time,overwrite=True)\n"
     ]
    },
    {
     "name": "stdout",
     "output_type": "stream",
     "text": [
      "EDF file detected\n",
      "Setting channel info structure...\n",
      "Creating raw.info structure...\n",
      "Used Annotations descriptions: ['File Create', 'Recording ends', 'Recording starts', 'SE', 'end', 'start']\n",
      "Extracting EDF parameters from E:\\jupyter file\\第四批病人数据\\治疗脑电（第一批次）\\Z王宜凡202203021.edf...\n",
      "EDF file detected\n",
      "Setting channel info structure...\n",
      "Creating raw.info structure...\n",
      "Used Annotations descriptions: ['File Create', 'Recording ends', 'Recording starts', 'SE', 'end', 'start']\n",
      "65.6455078125 + 81.6455078125\n",
      ".\\SE_train\\Z王宜凡202203021.fif\n",
      "Writing E:\\jupyter file\\EEG_process\\SE_train\\Z王宜凡202203021.fif\n",
      "Closing E:\\jupyter file\\EEG_process\\SE_train\\Z王宜凡202203021.fif\n",
      "[done]\n",
      "Extracting EDF parameters from E:\\jupyter file\\第四批病人数据\\治疗脑电（第一批次）\\Z王宜凡202203023.edf...\n",
      "EDF file detected\n",
      "Setting channel info structure...\n",
      "Creating raw.info structure...\n",
      "Used Annotations descriptions: ['File Create', 'Recording ends', 'Recording starts', 'SE', 'end', 'start', 'Â¼Â¡Ã\\x95Ã³Ã\\x82']\n",
      "Extracting EDF parameters from E:\\jupyter file\\第四批病人数据\\治疗脑电（第一批次）\\Z王宜凡202203023.edf...\n",
      "EDF file detected\n",
      "Setting channel info structure...\n",
      "Creating raw.info structure...\n",
      "Used Annotations descriptions: ['File Create', 'Recording ends', 'Recording starts', 'SE', 'end', 'start', 'Â¼Â¡Ã\\x95Ã³Ã\\x82']\n",
      "101.01171875 + 117.01171875\n",
      ".\\SE_train\\Z王宜凡202203023.fif\n",
      "Writing E:\\jupyter file\\EEG_process\\SE_train\\Z王宜凡202203023.fif\n",
      "Closing E:\\jupyter file\\EEG_process\\SE_train\\Z王宜凡202203023.fif\n"
     ]
    },
    {
     "name": "stderr",
     "output_type": "stream",
     "text": [
      "<ipython-input-11-4e4bdafa783c>:20: RuntimeWarning: This filename (E:\\jupyter file\\EEG_process\\SE_train\\Z王宜凡202203021.fif) does not conform to MNE naming conventions. All raw files should end with raw.fif, raw_sss.fif, raw_tsss.fif, _meg.fif, _eeg.fif, _ieeg.fif, raw.fif.gz, raw_sss.fif.gz, raw_tsss.fif.gz, _meg.fif.gz, _eeg.fif.gz or _ieeg.fif.gz\n",
      "  raw.save(path_name,picks,start_time,end_time,overwrite=True)\n",
      "<ipython-input-11-4e4bdafa783c>:20: RuntimeWarning: This filename (E:\\jupyter file\\EEG_process\\SE_train\\Z王宜凡202203023.fif) does not conform to MNE naming conventions. All raw files should end with raw.fif, raw_sss.fif, raw_tsss.fif, _meg.fif, _eeg.fif, _ieeg.fif, raw.fif.gz, raw_sss.fif.gz, raw_tsss.fif.gz, _meg.fif.gz, _eeg.fif.gz or _ieeg.fif.gz\n",
      "  raw.save(path_name,picks,start_time,end_time,overwrite=True)\n"
     ]
    },
    {
     "name": "stdout",
     "output_type": "stream",
     "text": [
      "[done]\n",
      "Extracting EDF parameters from E:\\jupyter file\\第四批病人数据\\治疗脑电（第一批次）\\Z王宜凡202203025.edf...\n",
      "EDF file detected\n",
      "Setting channel info structure...\n",
      "Creating raw.info structure...\n",
      "Used Annotations descriptions: ['File Create', 'Recording ends', 'Recording starts', 'SE', 'end', 'start']\n",
      "Extracting EDF parameters from E:\\jupyter file\\第四批病人数据\\治疗脑电（第一批次）\\Z王宜凡202203025.edf...\n",
      "EDF file detected\n",
      "Setting channel info structure...\n",
      "Creating raw.info structure...\n",
      "Used Annotations descriptions: ['File Create', 'Recording ends', 'Recording starts', 'SE', 'end', 'start']\n",
      "73.322265625 + 89.322265625\n",
      ".\\SE_train\\Z王宜凡202203025.fif\n",
      "Writing E:\\jupyter file\\EEG_process\\SE_train\\Z王宜凡202203025.fif\n",
      "Closing E:\\jupyter file\\EEG_process\\SE_train\\Z王宜凡202203025.fif\n",
      "[done]\n",
      "Extracting EDF parameters from E:\\jupyter file\\第四批病人数据\\治疗脑电（第一批次）\\Z雷振20220321.edf...\n",
      "EDF file detected\n",
      "Setting channel info structure...\n",
      "Creating raw.info structure...\n",
      "Used Annotations descriptions: ['File Create', 'Recording ends', 'Recording starts', 'SE', 'end', 'start']\n",
      "Extracting EDF parameters from E:\\jupyter file\\第四批病人数据\\治疗脑电（第一批次）\\Z雷振20220321.edf...\n",
      "EDF file detected\n",
      "Setting channel info structure...\n",
      "Creating raw.info structure...\n",
      "Used Annotations descriptions: ['File Create', 'Recording ends', 'Recording starts', 'SE', 'end', 'start']\n",
      "63.759765625 + 79.759765625\n",
      ".\\SE_train\\Z雷振20220321.fif\n",
      "Writing E:\\jupyter file\\EEG_process\\SE_train\\Z雷振20220321.fif\n",
      "Closing E:\\jupyter file\\EEG_process\\SE_train\\Z雷振20220321.fif\n",
      "[done]\n",
      "Extracting EDF parameters from E:\\jupyter file\\第四批病人数据\\治疗脑电（第一批次）\\Z雷振20220323.edf...\n",
      "EDF file detected\n",
      "Setting channel info structure...\n",
      "Creating raw.info structure...\n"
     ]
    },
    {
     "name": "stderr",
     "output_type": "stream",
     "text": [
      "<ipython-input-11-4e4bdafa783c>:20: RuntimeWarning: This filename (E:\\jupyter file\\EEG_process\\SE_train\\Z王宜凡202203025.fif) does not conform to MNE naming conventions. All raw files should end with raw.fif, raw_sss.fif, raw_tsss.fif, _meg.fif, _eeg.fif, _ieeg.fif, raw.fif.gz, raw_sss.fif.gz, raw_tsss.fif.gz, _meg.fif.gz, _eeg.fif.gz or _ieeg.fif.gz\n",
      "  raw.save(path_name,picks,start_time,end_time,overwrite=True)\n",
      "<ipython-input-11-4e4bdafa783c>:20: RuntimeWarning: This filename (E:\\jupyter file\\EEG_process\\SE_train\\Z雷振20220321.fif) does not conform to MNE naming conventions. All raw files should end with raw.fif, raw_sss.fif, raw_tsss.fif, _meg.fif, _eeg.fif, _ieeg.fif, raw.fif.gz, raw_sss.fif.gz, raw_tsss.fif.gz, _meg.fif.gz, _eeg.fif.gz or _ieeg.fif.gz\n",
      "  raw.save(path_name,picks,start_time,end_time,overwrite=True)\n"
     ]
    },
    {
     "name": "stdout",
     "output_type": "stream",
     "text": [
      "Used Annotations descriptions: ['Recording ends', 'Recording starts', 'SE', 'end', 'start']\n",
      "Extracting EDF parameters from E:\\jupyter file\\第四批病人数据\\治疗脑电（第一批次）\\Z雷振20220323.edf...\n",
      "EDF file detected\n",
      "Setting channel info structure...\n",
      "Creating raw.info structure...\n",
      "Used Annotations descriptions: ['Recording ends', 'Recording starts', 'SE', 'end', 'start']\n",
      "199.01171875 + 215.01171875\n",
      ".\\SE_train\\Z雷振20220323.fif\n",
      "Writing E:\\jupyter file\\EEG_process\\SE_train\\Z雷振20220323.fif\n",
      "Closing E:\\jupyter file\\EEG_process\\SE_train\\Z雷振20220323.fif\n",
      "[done]\n",
      "Extracting EDF parameters from E:\\jupyter file\\第四批病人数据\\治疗脑电（第一批次）\\Z雷振20220325.edf...\n",
      "EDF file detected\n",
      "Setting channel info structure...\n",
      "Creating raw.info structure...\n",
      "Used Annotations descriptions: ['File Create', 'Recording ends', 'Recording starts', 'SE', 'end', 'start']\n",
      "Extracting EDF parameters from E:\\jupyter file\\第四批病人数据\\治疗脑电（第一批次）\\Z雷振20220325.edf...\n",
      "EDF file detected\n",
      "Setting channel info structure...\n",
      "Creating raw.info structure...\n",
      "Used Annotations descriptions: ['File Create', 'Recording ends', 'Recording starts', 'SE', 'end', 'start']\n",
      "44.8115234375 + 60.8115234375\n"
     ]
    },
    {
     "name": "stderr",
     "output_type": "stream",
     "text": [
      "<ipython-input-11-4e4bdafa783c>:20: RuntimeWarning: This filename (E:\\jupyter file\\EEG_process\\SE_train\\Z雷振20220323.fif) does not conform to MNE naming conventions. All raw files should end with raw.fif, raw_sss.fif, raw_tsss.fif, _meg.fif, _eeg.fif, _ieeg.fif, raw.fif.gz, raw_sss.fif.gz, raw_tsss.fif.gz, _meg.fif.gz, _eeg.fif.gz or _ieeg.fif.gz\n",
      "  raw.save(path_name,picks,start_time,end_time,overwrite=True)\n",
      "<ipython-input-11-4e4bdafa783c>:20: RuntimeWarning: This filename (E:\\jupyter file\\EEG_process\\SE_train\\Z雷振20220325.fif) does not conform to MNE naming conventions. All raw files should end with raw.fif, raw_sss.fif, raw_tsss.fif, _meg.fif, _eeg.fif, _ieeg.fif, raw.fif.gz, raw_sss.fif.gz, raw_tsss.fif.gz, _meg.fif.gz, _eeg.fif.gz or _ieeg.fif.gz\n",
      "  raw.save(path_name,picks,start_time,end_time,overwrite=True)\n"
     ]
    },
    {
     "name": "stdout",
     "output_type": "stream",
     "text": [
      ".\\SE_train\\Z雷振20220325.fif\n",
      "Writing E:\\jupyter file\\EEG_process\\SE_train\\Z雷振20220325.fif\n",
      "Closing E:\\jupyter file\\EEG_process\\SE_train\\Z雷振20220325.fif\n",
      "[done]\n",
      "Extracting EDF parameters from E:\\jupyter file\\第四批病人数据\\治疗脑电（第一批次）\\Z雷振20220328.edf...\n",
      "EDF file detected\n",
      "Setting channel info structure...\n",
      "Creating raw.info structure...\n",
      "Used Annotations descriptions: ['File Create', 'Recording ends', 'Recording starts', 'SE', 'end', 'start']\n",
      "Extracting EDF parameters from E:\\jupyter file\\第四批病人数据\\治疗脑电（第一批次）\\Z雷振20220328.edf...\n",
      "EDF file detected\n",
      "Setting channel info structure...\n",
      "Creating raw.info structure...\n",
      "Used Annotations descriptions: ['File Create', 'Recording ends', 'Recording starts', 'SE', 'end', 'start']\n",
      "6.25 + 22.25\n",
      ".\\SE_train\\Z雷振20220328.fif\n",
      "Writing E:\\jupyter file\\EEG_process\\SE_train\\Z雷振20220328.fif\n",
      "Closing E:\\jupyter file\\EEG_process\\SE_train\\Z雷振20220328.fif\n",
      "[done]\n",
      "Extracting EDF parameters from E:\\jupyter file\\第四批病人数据\\治疗脑电（第一批次）\\Z孙彭辉20220225.edf...\n",
      "EDF file detected\n",
      "Setting channel info structure...\n",
      "Creating raw.info structure...\n",
      "Used Annotations descriptions: ['File Create', 'Recording ends', 'Recording starts', 'SE', 'end', 'start']\n",
      "Extracting EDF parameters from E:\\jupyter file\\第四批病人数据\\治疗脑电（第一批次）\\Z孙彭辉20220225.edf...\n",
      "EDF file detected\n",
      "Setting channel info structure...\n",
      "Creating raw.info structure...\n",
      "Used Annotations descriptions: ['File Create', 'Recording ends', 'Recording starts', 'SE', 'end', 'start']\n",
      "38.7109375 + 54.7109375\n",
      ".\\SE_train\\Z孙彭辉20220225.fif\n",
      "Writing E:\\jupyter file\\EEG_process\\SE_train\\Z孙彭辉20220225.fif\n",
      "Closing E:\\jupyter file\\EEG_process\\SE_train\\Z孙彭辉20220225.fif\n",
      "[done]\n",
      "Extracting EDF parameters from E:\\jupyter file\\第四批病人数据\\治疗脑电（第一批次）\\Z孙彭辉20220228.edf...\n",
      "EDF file detected\n",
      "Setting channel info structure...\n",
      "Creating raw.info structure...\n",
      "Used Annotations descriptions: ['File Create', 'Recording ends', 'Recording starts', 'SE', 'end', 'start']\n",
      "Extracting EDF parameters from E:\\jupyter file\\第四批病人数据\\治疗脑电（第一批次）\\Z孙彭辉20220228.edf...\n",
      "EDF file detected\n",
      "Setting channel info structure...\n",
      "Creating raw.info structure...\n",
      "Used Annotations descriptions: ['File Create', 'Recording ends', 'Recording starts', 'SE', 'end', 'start']\n"
     ]
    },
    {
     "name": "stderr",
     "output_type": "stream",
     "text": [
      "<ipython-input-11-4e4bdafa783c>:20: RuntimeWarning: This filename (E:\\jupyter file\\EEG_process\\SE_train\\Z雷振20220328.fif) does not conform to MNE naming conventions. All raw files should end with raw.fif, raw_sss.fif, raw_tsss.fif, _meg.fif, _eeg.fif, _ieeg.fif, raw.fif.gz, raw_sss.fif.gz, raw_tsss.fif.gz, _meg.fif.gz, _eeg.fif.gz or _ieeg.fif.gz\n",
      "  raw.save(path_name,picks,start_time,end_time,overwrite=True)\n",
      "<ipython-input-11-4e4bdafa783c>:20: RuntimeWarning: This filename (E:\\jupyter file\\EEG_process\\SE_train\\Z孙彭辉20220225.fif) does not conform to MNE naming conventions. All raw files should end with raw.fif, raw_sss.fif, raw_tsss.fif, _meg.fif, _eeg.fif, _ieeg.fif, raw.fif.gz, raw_sss.fif.gz, raw_tsss.fif.gz, _meg.fif.gz, _eeg.fif.gz or _ieeg.fif.gz\n",
      "  raw.save(path_name,picks,start_time,end_time,overwrite=True)\n"
     ]
    },
    {
     "name": "stdout",
     "output_type": "stream",
     "text": [
      "103.71484375 + 119.71484375\n",
      ".\\SE_train\\Z孙彭辉20220228.fif\n",
      "Writing E:\\jupyter file\\EEG_process\\SE_train\\Z孙彭辉20220228.fif\n",
      "Closing E:\\jupyter file\\EEG_process\\SE_train\\Z孙彭辉20220228.fif\n",
      "[done]\n",
      "Extracting EDF parameters from E:\\jupyter file\\第四批病人数据\\治疗脑电（第一批次）\\Z孙彭辉20220302.edf...\n",
      "EDF file detected\n",
      "Setting channel info structure...\n",
      "Creating raw.info structure...\n",
      "Used Annotations descriptions: ['File Create', 'Recording ends', 'Recording starts', 'SE', 'end', 'start']\n",
      "Extracting EDF parameters from E:\\jupyter file\\第四批病人数据\\治疗脑电（第一批次）\\Z孙彭辉20220302.edf...\n",
      "EDF file detected\n",
      "Setting channel info structure...\n",
      "Creating raw.info structure...\n",
      "Used Annotations descriptions: ['File Create', 'Recording ends', 'Recording starts', 'SE', 'end', 'start']\n",
      "53.091796875 + 69.091796875\n",
      ".\\SE_train\\Z孙彭辉20220302.fif\n",
      "Writing E:\\jupyter file\\EEG_process\\SE_train\\Z孙彭辉20220302.fif\n",
      "Closing E:\\jupyter file\\EEG_process\\SE_train\\Z孙彭辉20220302.fif\n",
      "[done]\n",
      "Extracting EDF parameters from E:\\jupyter file\\第四批病人数据\\治疗脑电（第一批次）\\Z孙彭辉20220304.edf...\n",
      "EDF file detected\n",
      "Setting channel info structure...\n",
      "Creating raw.info structure...\n",
      "Used Annotations descriptions: ['File Create', 'Recording ends', 'Recording starts', 'SE', 'end', 'start']\n",
      "Extracting EDF parameters from E:\\jupyter file\\第四批病人数据\\治疗脑电（第一批次）\\Z孙彭辉20220304.edf...\n",
      "EDF file detected\n",
      "Setting channel info structure...\n",
      "Creating raw.info structure...\n"
     ]
    },
    {
     "name": "stderr",
     "output_type": "stream",
     "text": [
      "<ipython-input-11-4e4bdafa783c>:20: RuntimeWarning: This filename (E:\\jupyter file\\EEG_process\\SE_train\\Z孙彭辉20220228.fif) does not conform to MNE naming conventions. All raw files should end with raw.fif, raw_sss.fif, raw_tsss.fif, _meg.fif, _eeg.fif, _ieeg.fif, raw.fif.gz, raw_sss.fif.gz, raw_tsss.fif.gz, _meg.fif.gz, _eeg.fif.gz or _ieeg.fif.gz\n",
      "  raw.save(path_name,picks,start_time,end_time,overwrite=True)\n",
      "<ipython-input-11-4e4bdafa783c>:20: RuntimeWarning: This filename (E:\\jupyter file\\EEG_process\\SE_train\\Z孙彭辉20220302.fif) does not conform to MNE naming conventions. All raw files should end with raw.fif, raw_sss.fif, raw_tsss.fif, _meg.fif, _eeg.fif, _ieeg.fif, raw.fif.gz, raw_sss.fif.gz, raw_tsss.fif.gz, _meg.fif.gz, _eeg.fif.gz or _ieeg.fif.gz\n",
      "  raw.save(path_name,picks,start_time,end_time,overwrite=True)\n"
     ]
    },
    {
     "name": "stdout",
     "output_type": "stream",
     "text": [
      "Used Annotations descriptions: ['File Create', 'Recording ends', 'Recording starts', 'SE', 'end', 'start']\n",
      "12.0625 + 28.0625\n",
      ".\\SE_train\\Z孙彭辉20220304.fif\n",
      "Writing E:\\jupyter file\\EEG_process\\SE_train\\Z孙彭辉20220304.fif\n",
      "Closing E:\\jupyter file\\EEG_process\\SE_train\\Z孙彭辉20220304.fif\n",
      "[done]\n",
      "Extracting EDF parameters from E:\\jupyter file\\第四批病人数据\\治疗脑电（第一批次）\\Z杜娇20220316.edf...\n",
      "EDF file detected\n",
      "Setting channel info structure...\n",
      "Creating raw.info structure...\n",
      "Used Annotations descriptions: ['File Create', 'Recording ends', 'Recording starts', 'SE', 'end', 'start']\n",
      "Extracting EDF parameters from E:\\jupyter file\\第四批病人数据\\治疗脑电（第一批次）\\Z杜娇20220316.edf...\n",
      "EDF file detected\n",
      "Setting channel info structure...\n",
      "Creating raw.info structure...\n",
      "Used Annotations descriptions: ['File Create', 'Recording ends', 'Recording starts', 'SE', 'end', 'start']\n",
      "391.4111328125 + 407.4111328125\n",
      ".\\SE_train\\Z杜娇20220316.fif\n"
     ]
    },
    {
     "name": "stderr",
     "output_type": "stream",
     "text": [
      "<ipython-input-11-4e4bdafa783c>:20: RuntimeWarning: This filename (E:\\jupyter file\\EEG_process\\SE_train\\Z孙彭辉20220304.fif) does not conform to MNE naming conventions. All raw files should end with raw.fif, raw_sss.fif, raw_tsss.fif, _meg.fif, _eeg.fif, _ieeg.fif, raw.fif.gz, raw_sss.fif.gz, raw_tsss.fif.gz, _meg.fif.gz, _eeg.fif.gz or _ieeg.fif.gz\n",
      "  raw.save(path_name,picks,start_time,end_time,overwrite=True)\n",
      "<ipython-input-11-4e4bdafa783c>:20: RuntimeWarning: This filename (E:\\jupyter file\\EEG_process\\SE_train\\Z杜娇20220316.fif) does not conform to MNE naming conventions. All raw files should end with raw.fif, raw_sss.fif, raw_tsss.fif, _meg.fif, _eeg.fif, _ieeg.fif, raw.fif.gz, raw_sss.fif.gz, raw_tsss.fif.gz, _meg.fif.gz, _eeg.fif.gz or _ieeg.fif.gz\n",
      "  raw.save(path_name,picks,start_time,end_time,overwrite=True)\n"
     ]
    },
    {
     "name": "stdout",
     "output_type": "stream",
     "text": [
      "Writing E:\\jupyter file\\EEG_process\\SE_train\\Z杜娇20220316.fif\n",
      "Closing E:\\jupyter file\\EEG_process\\SE_train\\Z杜娇20220316.fif\n",
      "[done]\n",
      "Extracting EDF parameters from E:\\jupyter file\\第四批病人数据\\治疗脑电（第一批次）\\Z杜娇20220318.edf...\n",
      "EDF file detected\n",
      "Setting channel info structure...\n",
      "Creating raw.info structure...\n",
      "Used Annotations descriptions: ['File Create', 'Recording ends', 'Recording starts', 'SE', 'end', 'start']\n",
      "Extracting EDF parameters from E:\\jupyter file\\第四批病人数据\\治疗脑电（第一批次）\\Z杜娇20220318.edf...\n",
      "EDF file detected\n",
      "Setting channel info structure...\n",
      "Creating raw.info structure...\n",
      "Used Annotations descriptions: ['File Create', 'Recording ends', 'Recording starts', 'SE', 'end', 'start']\n",
      "261.685546875 + 277.685546875\n",
      ".\\SE_train\\Z杜娇20220318.fif\n",
      "Writing E:\\jupyter file\\EEG_process\\SE_train\\Z杜娇20220318.fif\n",
      "Closing E:\\jupyter file\\EEG_process\\SE_train\\Z杜娇20220318.fif\n",
      "[done]\n",
      "Extracting EDF parameters from E:\\jupyter file\\第四批病人数据\\治疗脑电（第一批次）\\Z杜娇20220321.edf...\n",
      "EDF file detected\n",
      "Setting channel info structure...\n",
      "Creating raw.info structure...\n",
      "Used Annotations descriptions: ['File Create', 'Recording ends', 'Recording starts', 'SE', 'end', 'start']\n",
      "Extracting EDF parameters from E:\\jupyter file\\第四批病人数据\\治疗脑电（第一批次）\\Z杜娇20220321.edf...\n",
      "EDF file detected\n",
      "Setting channel info structure...\n",
      "Creating raw.info structure...\n",
      "Used Annotations descriptions: ['File Create', 'Recording ends', 'Recording starts', 'SE', 'end', 'start']\n",
      "48.8212890625 + 64.8212890625\n",
      ".\\SE_train\\Z杜娇20220321.fif\n",
      "Writing E:\\jupyter file\\EEG_process\\SE_train\\Z杜娇20220321.fif\n",
      "Closing E:\\jupyter file\\EEG_process\\SE_train\\Z杜娇20220321.fif\n",
      "[done]\n",
      "Extracting EDF parameters from E:\\jupyter file\\第四批病人数据\\治疗脑电（第一批次）\\Z杜娇20220325（未发作）.edf...\n",
      "EDF file detected\n",
      "Setting channel info structure...\n",
      "Creating raw.info structure...\n",
      "Used Annotations descriptions: ['File Create', 'Recording ends', 'Recording starts', 'SE']\n",
      "Extracting EDF parameters from E:\\jupyter file\\第四批病人数据\\治疗脑电（第一批次）\\Z杜娇20220325（未发作）.edf...\n",
      "EDF file detected\n",
      "Setting channel info structure...\n",
      "Creating raw.info structure...\n",
      "Used Annotations descriptions: ['File Create', 'Recording ends', 'Recording starts', 'SE']\n"
     ]
    },
    {
     "name": "stderr",
     "output_type": "stream",
     "text": [
      "<ipython-input-11-4e4bdafa783c>:20: RuntimeWarning: This filename (E:\\jupyter file\\EEG_process\\SE_train\\Z杜娇20220318.fif) does not conform to MNE naming conventions. All raw files should end with raw.fif, raw_sss.fif, raw_tsss.fif, _meg.fif, _eeg.fif, _ieeg.fif, raw.fif.gz, raw_sss.fif.gz, raw_tsss.fif.gz, _meg.fif.gz, _eeg.fif.gz or _ieeg.fif.gz\n",
      "  raw.save(path_name,picks,start_time,end_time,overwrite=True)\n",
      "<ipython-input-11-4e4bdafa783c>:20: RuntimeWarning: This filename (E:\\jupyter file\\EEG_process\\SE_train\\Z杜娇20220321.fif) does not conform to MNE naming conventions. All raw files should end with raw.fif, raw_sss.fif, raw_tsss.fif, _meg.fif, _eeg.fif, _ieeg.fif, raw.fif.gz, raw_sss.fif.gz, raw_tsss.fif.gz, _meg.fif.gz, _eeg.fif.gz or _ieeg.fif.gz\n",
      "  raw.save(path_name,picks,start_time,end_time,overwrite=True)\n"
     ]
    },
    {
     "name": "stdout",
     "output_type": "stream",
     "text": [
      "90.6650390625 + 106.6650390625\n",
      ".\\SE_train\\Z杜娇20220325（未发作）.fif\n",
      "Writing E:\\jupyter file\\EEG_process\\SE_train\\Z杜娇20220325（未发作）.fif\n",
      "Closing E:\\jupyter file\\EEG_process\\SE_train\\Z杜娇20220325（未发作）.fif\n",
      "[done]\n",
      "Extracting EDF parameters from E:\\jupyter file\\第四批病人数据\\治疗脑电（第一批次）\\Z沈伟202203011.edf...\n",
      "EDF file detected\n",
      "Setting channel info structure...\n",
      "Creating raw.info structure...\n",
      "Used Annotations descriptions: ['File Create', 'Recording ends', 'Recording starts', 'SE', 'end', 'start']\n",
      "Extracting EDF parameters from E:\\jupyter file\\第四批病人数据\\治疗脑电（第一批次）\\Z沈伟202203011.edf...\n",
      "EDF file detected\n",
      "Setting channel info structure...\n",
      "Creating raw.info structure...\n",
      "Used Annotations descriptions: ['File Create', 'Recording ends', 'Recording starts', 'SE', 'end', 'start']\n",
      "323.4677734375 + 339.4677734375\n"
     ]
    },
    {
     "name": "stderr",
     "output_type": "stream",
     "text": [
      "<ipython-input-11-4e4bdafa783c>:20: RuntimeWarning: This filename (E:\\jupyter file\\EEG_process\\SE_train\\Z杜娇20220325（未发作）.fif) does not conform to MNE naming conventions. All raw files should end with raw.fif, raw_sss.fif, raw_tsss.fif, _meg.fif, _eeg.fif, _ieeg.fif, raw.fif.gz, raw_sss.fif.gz, raw_tsss.fif.gz, _meg.fif.gz, _eeg.fif.gz or _ieeg.fif.gz\n",
      "  raw.save(path_name,picks,start_time,end_time,overwrite=True)\n"
     ]
    },
    {
     "name": "stdout",
     "output_type": "stream",
     "text": [
      ".\\SE_train\\Z沈伟202203011.fif\n",
      "Writing E:\\jupyter file\\EEG_process\\SE_train\\Z沈伟202203011.fif\n",
      "Closing E:\\jupyter file\\EEG_process\\SE_train\\Z沈伟202203011.fif\n",
      "[done]\n",
      "Extracting EDF parameters from E:\\jupyter file\\第四批病人数据\\治疗脑电（第一批次）\\Z沈伟202203014（未发作）.edf...\n",
      "EDF file detected\n",
      "Setting channel info structure...\n",
      "Creating raw.info structure...\n",
      "Used Annotations descriptions: ['File Create', 'Recording ends', 'Recording starts', 'SE']\n",
      "Extracting EDF parameters from E:\\jupyter file\\第四批病人数据\\治疗脑电（第一批次）\\Z沈伟202203014（未发作）.edf...\n",
      "EDF file detected\n",
      "Setting channel info structure...\n",
      "Creating raw.info structure...\n",
      "Used Annotations descriptions: ['File Create', 'Recording ends', 'Recording starts', 'SE']\n",
      "49.9794921875 + 65.9794921875\n",
      ".\\SE_train\\Z沈伟202203014（未发作）.fif\n",
      "Writing E:\\jupyter file\\EEG_process\\SE_train\\Z沈伟202203014（未发作）.fif\n",
      "Closing E:\\jupyter file\\EEG_process\\SE_train\\Z沈伟202203014（未发作）.fif\n",
      "[done]\n",
      "Extracting EDF parameters from E:\\jupyter file\\第四批病人数据\\治疗脑电（第一批次）\\Z沈伟202203016.edf...\n",
      "EDF file detected\n",
      "Setting channel info structure...\n",
      "Creating raw.info structure...\n",
      "Used Annotations descriptions: ['File Create', 'Recording ends', 'Recording starts', 'SE', 'end', 'start']\n"
     ]
    },
    {
     "name": "stderr",
     "output_type": "stream",
     "text": [
      "<ipython-input-11-4e4bdafa783c>:20: RuntimeWarning: This filename (E:\\jupyter file\\EEG_process\\SE_train\\Z沈伟202203011.fif) does not conform to MNE naming conventions. All raw files should end with raw.fif, raw_sss.fif, raw_tsss.fif, _meg.fif, _eeg.fif, _ieeg.fif, raw.fif.gz, raw_sss.fif.gz, raw_tsss.fif.gz, _meg.fif.gz, _eeg.fif.gz or _ieeg.fif.gz\n",
      "  raw.save(path_name,picks,start_time,end_time,overwrite=True)\n",
      "<ipython-input-11-4e4bdafa783c>:20: RuntimeWarning: This filename (E:\\jupyter file\\EEG_process\\SE_train\\Z沈伟202203014（未发作）.fif) does not conform to MNE naming conventions. All raw files should end with raw.fif, raw_sss.fif, raw_tsss.fif, _meg.fif, _eeg.fif, _ieeg.fif, raw.fif.gz, raw_sss.fif.gz, raw_tsss.fif.gz, _meg.fif.gz, _eeg.fif.gz or _ieeg.fif.gz\n",
      "  raw.save(path_name,picks,start_time,end_time,overwrite=True)\n"
     ]
    },
    {
     "name": "stdout",
     "output_type": "stream",
     "text": [
      "Extracting EDF parameters from E:\\jupyter file\\第四批病人数据\\治疗脑电（第一批次）\\Z沈伟202203016.edf...\n",
      "EDF file detected\n",
      "Setting channel info structure...\n",
      "Creating raw.info structure...\n",
      "Used Annotations descriptions: ['File Create', 'Recording ends', 'Recording starts', 'SE', 'end', 'start']\n",
      "153.25 + 169.25\n",
      ".\\SE_train\\Z沈伟202203016.fif\n",
      "Writing E:\\jupyter file\\EEG_process\\SE_train\\Z沈伟202203016.fif\n",
      "Closing E:\\jupyter file\\EEG_process\\SE_train\\Z沈伟202203016.fif\n",
      "[done]\n",
      "Extracting EDF parameters from E:\\jupyter file\\第四批病人数据\\治疗脑电（第一批次）\\Z沈伟202203018.edf...\n",
      "EDF file detected\n",
      "Setting channel info structure...\n",
      "Creating raw.info structure...\n",
      "Used Annotations descriptions: ['File Create', 'Recording ends', 'Recording starts', 'SE', 'end', 'start']\n",
      "Extracting EDF parameters from E:\\jupyter file\\第四批病人数据\\治疗脑电（第一批次）\\Z沈伟202203018.edf...\n",
      "EDF file detected\n",
      "Setting channel info structure...\n",
      "Creating raw.info structure...\n",
      "Used Annotations descriptions: ['File Create', 'Recording ends', 'Recording starts', 'SE', 'end', 'start']\n",
      "49.720703125 + 65.720703125\n",
      ".\\SE_train\\Z沈伟202203018.fif\n",
      "Writing E:\\jupyter file\\EEG_process\\SE_train\\Z沈伟202203018.fif\n",
      "Closing E:\\jupyter file\\EEG_process\\SE_train\\Z沈伟202203018.fif\n",
      "[done]\n",
      "Extracting EDF parameters from E:\\jupyter file\\第四批病人数据\\治疗脑电（第一批次）\\Z徐珍英20220218（未发作）.edf...\n",
      "EDF file detected\n",
      "Setting channel info structure...\n",
      "Creating raw.info structure...\n",
      "Used Annotations descriptions: ['File Create', 'Recording ends', 'Recording starts', 'SE']\n",
      "Extracting EDF parameters from E:\\jupyter file\\第四批病人数据\\治疗脑电（第一批次）\\Z徐珍英20220218（未发作）.edf...\n",
      "EDF file detected\n",
      "Setting channel info structure...\n",
      "Creating raw.info structure...\n",
      "Used Annotations descriptions: ['File Create', 'Recording ends', 'Recording starts', 'SE']\n"
     ]
    },
    {
     "name": "stderr",
     "output_type": "stream",
     "text": [
      "<ipython-input-11-4e4bdafa783c>:20: RuntimeWarning: This filename (E:\\jupyter file\\EEG_process\\SE_train\\Z沈伟202203016.fif) does not conform to MNE naming conventions. All raw files should end with raw.fif, raw_sss.fif, raw_tsss.fif, _meg.fif, _eeg.fif, _ieeg.fif, raw.fif.gz, raw_sss.fif.gz, raw_tsss.fif.gz, _meg.fif.gz, _eeg.fif.gz or _ieeg.fif.gz\n",
      "  raw.save(path_name,picks,start_time,end_time,overwrite=True)\n",
      "<ipython-input-11-4e4bdafa783c>:20: RuntimeWarning: This filename (E:\\jupyter file\\EEG_process\\SE_train\\Z沈伟202203018.fif) does not conform to MNE naming conventions. All raw files should end with raw.fif, raw_sss.fif, raw_tsss.fif, _meg.fif, _eeg.fif, _ieeg.fif, raw.fif.gz, raw_sss.fif.gz, raw_tsss.fif.gz, _meg.fif.gz, _eeg.fif.gz or _ieeg.fif.gz\n",
      "  raw.save(path_name,picks,start_time,end_time,overwrite=True)\n"
     ]
    },
    {
     "name": "stdout",
     "output_type": "stream",
     "text": [
      "217.08203125 + 233.08203125\n",
      ".\\SE_train\\Z徐珍英20220218（未发作）.fif\n",
      "Writing E:\\jupyter file\\EEG_process\\SE_train\\Z徐珍英20220218（未发作）.fif\n",
      "Closing E:\\jupyter file\\EEG_process\\SE_train\\Z徐珍英20220218（未发作）.fif\n",
      "[done]\n",
      "Extracting EDF parameters from E:\\jupyter file\\第四批病人数据\\治疗脑电（第一批次）\\Z徐珍英20220221（未发作）.edf...\n",
      "EDF file detected\n",
      "Setting channel info structure...\n",
      "Creating raw.info structure...\n",
      "Used Annotations descriptions: ['File Create', 'Recording ends', 'Recording starts', 'SE']\n",
      "Extracting EDF parameters from E:\\jupyter file\\第四批病人数据\\治疗脑电（第一批次）\\Z徐珍英20220221（未发作）.edf...\n",
      "EDF file detected\n",
      "Setting channel info structure...\n",
      "Creating raw.info structure...\n",
      "Used Annotations descriptions: ['File Create', 'Recording ends', 'Recording starts', 'SE']\n",
      "61.8515625 + 77.8515625\n",
      ".\\SE_train\\Z徐珍英20220221（未发作）.fif\n",
      "Writing E:\\jupyter file\\EEG_process\\SE_train\\Z徐珍英20220221（未发作）.fif\n",
      "Closing E:\\jupyter file\\EEG_process\\SE_train\\Z徐珍英20220221（未发作）.fif\n",
      "[done]\n",
      "Extracting EDF parameters from E:\\jupyter file\\第四批病人数据\\治疗脑电（第一批次）\\Z徐珍英20220223.edf...\n",
      "EDF file detected\n",
      "Setting channel info structure...\n",
      "Creating raw.info structure...\n",
      "Used Annotations descriptions: ['File Create', 'Recording ends', 'Recording starts', 'SE', 'end', 'start']\n"
     ]
    },
    {
     "name": "stderr",
     "output_type": "stream",
     "text": [
      "<ipython-input-11-4e4bdafa783c>:20: RuntimeWarning: This filename (E:\\jupyter file\\EEG_process\\SE_train\\Z徐珍英20220218（未发作）.fif) does not conform to MNE naming conventions. All raw files should end with raw.fif, raw_sss.fif, raw_tsss.fif, _meg.fif, _eeg.fif, _ieeg.fif, raw.fif.gz, raw_sss.fif.gz, raw_tsss.fif.gz, _meg.fif.gz, _eeg.fif.gz or _ieeg.fif.gz\n",
      "  raw.save(path_name,picks,start_time,end_time,overwrite=True)\n",
      "<ipython-input-11-4e4bdafa783c>:20: RuntimeWarning: This filename (E:\\jupyter file\\EEG_process\\SE_train\\Z徐珍英20220221（未发作）.fif) does not conform to MNE naming conventions. All raw files should end with raw.fif, raw_sss.fif, raw_tsss.fif, _meg.fif, _eeg.fif, _ieeg.fif, raw.fif.gz, raw_sss.fif.gz, raw_tsss.fif.gz, _meg.fif.gz, _eeg.fif.gz or _ieeg.fif.gz\n",
      "  raw.save(path_name,picks,start_time,end_time,overwrite=True)\n"
     ]
    },
    {
     "name": "stdout",
     "output_type": "stream",
     "text": [
      "Extracting EDF parameters from E:\\jupyter file\\第四批病人数据\\治疗脑电（第一批次）\\Z徐珍英20220223.edf...\n",
      "EDF file detected\n",
      "Setting channel info structure...\n",
      "Creating raw.info structure...\n",
      "Used Annotations descriptions: ['File Create', 'Recording ends', 'Recording starts', 'SE', 'end', 'start']\n",
      "177.5517578125 + 193.5517578125\n",
      ".\\SE_train\\Z徐珍英20220223.fif\n",
      "Writing E:\\jupyter file\\EEG_process\\SE_train\\Z徐珍英20220223.fif\n",
      "Closing E:\\jupyter file\\EEG_process\\SE_train\\Z徐珍英20220223.fif\n",
      "[done]\n",
      "Extracting EDF parameters from E:\\jupyter file\\第四批病人数据\\治疗脑电（第一批次）\\Z徐珍英20220225.edf...\n",
      "EDF file detected\n",
      "Setting channel info structure...\n",
      "Creating raw.info structure...\n",
      "Used Annotations descriptions: ['File Create', 'Recording ends', 'Recording starts', 'SE', 'end', 'start']\n",
      "Extracting EDF parameters from E:\\jupyter file\\第四批病人数据\\治疗脑电（第一批次）\\Z徐珍英20220225.edf...\n",
      "EDF file detected\n",
      "Setting channel info structure...\n",
      "Creating raw.info structure...\n",
      "Used Annotations descriptions: ['File Create', 'Recording ends', 'Recording starts', 'SE', 'end', 'start']\n",
      "23.228515625 + 39.228515625\n",
      ".\\SE_train\\Z徐珍英20220225.fif\n",
      "Writing E:\\jupyter file\\EEG_process\\SE_train\\Z徐珍英20220225.fif\n",
      "Closing E:\\jupyter file\\EEG_process\\SE_train\\Z徐珍英20220225.fif\n",
      "[done]\n",
      "Extracting EDF parameters from E:\\jupyter file\\第四批病人数据\\治疗脑电（第一批次）\\Z王纯刚202203021.edf...\n",
      "EDF file detected\n",
      "Setting channel info structure...\n",
      "Creating raw.info structure...\n",
      "Used Annotations descriptions: ['File Create', 'Recording ends', 'Recording starts', 'SE', 'end', 'start']\n",
      "Extracting EDF parameters from E:\\jupyter file\\第四批病人数据\\治疗脑电（第一批次）\\Z王纯刚202203021.edf...\n",
      "EDF file detected\n",
      "Setting channel info structure...\n",
      "Creating raw.info structure...\n",
      "Used Annotations descriptions: ['File Create', 'Recording ends', 'Recording starts', 'SE', 'end', 'start']\n"
     ]
    },
    {
     "name": "stderr",
     "output_type": "stream",
     "text": [
      "<ipython-input-11-4e4bdafa783c>:20: RuntimeWarning: This filename (E:\\jupyter file\\EEG_process\\SE_train\\Z徐珍英20220223.fif) does not conform to MNE naming conventions. All raw files should end with raw.fif, raw_sss.fif, raw_tsss.fif, _meg.fif, _eeg.fif, _ieeg.fif, raw.fif.gz, raw_sss.fif.gz, raw_tsss.fif.gz, _meg.fif.gz, _eeg.fif.gz or _ieeg.fif.gz\n",
      "  raw.save(path_name,picks,start_time,end_time,overwrite=True)\n",
      "<ipython-input-11-4e4bdafa783c>:20: RuntimeWarning: This filename (E:\\jupyter file\\EEG_process\\SE_train\\Z徐珍英20220225.fif) does not conform to MNE naming conventions. All raw files should end with raw.fif, raw_sss.fif, raw_tsss.fif, _meg.fif, _eeg.fif, _ieeg.fif, raw.fif.gz, raw_sss.fif.gz, raw_tsss.fif.gz, _meg.fif.gz, _eeg.fif.gz or _ieeg.fif.gz\n",
      "  raw.save(path_name,picks,start_time,end_time,overwrite=True)\n"
     ]
    },
    {
     "name": "stdout",
     "output_type": "stream",
     "text": [
      "91.583984375 + 107.583984375\n",
      ".\\SE_train\\Z王纯刚202203021.fif\n",
      "Writing E:\\jupyter file\\EEG_process\\SE_train\\Z王纯刚202203021.fif\n",
      "Closing E:\\jupyter file\\EEG_process\\SE_train\\Z王纯刚202203021.fif\n",
      "[done]\n",
      "Extracting EDF parameters from E:\\jupyter file\\第四批病人数据\\治疗脑电（第一批次）\\Z王纯刚202203023.edf...\n",
      "EDF file detected\n",
      "Setting channel info structure...\n",
      "Creating raw.info structure...\n",
      "Used Annotations descriptions: ['File Create', 'Recording ends', 'Recording starts', 'SE', 'end', 'start']\n",
      "Extracting EDF parameters from E:\\jupyter file\\第四批病人数据\\治疗脑电（第一批次）\\Z王纯刚202203023.edf...\n",
      "EDF file detected\n",
      "Setting channel info structure...\n",
      "Creating raw.info structure...\n",
      "Used Annotations descriptions: ['File Create', 'Recording ends', 'Recording starts', 'SE', 'end', 'start']\n",
      "67.400390625 + 83.400390625\n",
      ".\\SE_train\\Z王纯刚202203023.fif\n",
      "Writing E:\\jupyter file\\EEG_process\\SE_train\\Z王纯刚202203023.fif\n",
      "Closing E:\\jupyter file\\EEG_process\\SE_train\\Z王纯刚202203023.fif\n",
      "[done]\n",
      "Extracting EDF parameters from E:\\jupyter file\\第四批病人数据\\治疗脑电（第一批次）\\Z王纯刚202203025.edf...\n"
     ]
    },
    {
     "name": "stderr",
     "output_type": "stream",
     "text": [
      "<ipython-input-11-4e4bdafa783c>:20: RuntimeWarning: This filename (E:\\jupyter file\\EEG_process\\SE_train\\Z王纯刚202203021.fif) does not conform to MNE naming conventions. All raw files should end with raw.fif, raw_sss.fif, raw_tsss.fif, _meg.fif, _eeg.fif, _ieeg.fif, raw.fif.gz, raw_sss.fif.gz, raw_tsss.fif.gz, _meg.fif.gz, _eeg.fif.gz or _ieeg.fif.gz\n",
      "  raw.save(path_name,picks,start_time,end_time,overwrite=True)\n",
      "<ipython-input-11-4e4bdafa783c>:20: RuntimeWarning: This filename (E:\\jupyter file\\EEG_process\\SE_train\\Z王纯刚202203023.fif) does not conform to MNE naming conventions. All raw files should end with raw.fif, raw_sss.fif, raw_tsss.fif, _meg.fif, _eeg.fif, _ieeg.fif, raw.fif.gz, raw_sss.fif.gz, raw_tsss.fif.gz, _meg.fif.gz, _eeg.fif.gz or _ieeg.fif.gz\n",
      "  raw.save(path_name,picks,start_time,end_time,overwrite=True)\n"
     ]
    },
    {
     "name": "stdout",
     "output_type": "stream",
     "text": [
      "EDF file detected\n",
      "Setting channel info structure...\n",
      "Creating raw.info structure...\n",
      "Used Annotations descriptions: ['File Create', 'Recording ends', 'Recording starts', 'SE', 'end', 'start']\n",
      "Extracting EDF parameters from E:\\jupyter file\\第四批病人数据\\治疗脑电（第一批次）\\Z王纯刚202203025.edf...\n",
      "EDF file detected\n",
      "Setting channel info structure...\n",
      "Creating raw.info structure...\n",
      "Used Annotations descriptions: ['File Create', 'Recording ends', 'Recording starts', 'SE', 'end', 'start']\n",
      "23.7490234375 + 39.7490234375\n",
      ".\\SE_train\\Z王纯刚202203025.fif\n",
      "Writing E:\\jupyter file\\EEG_process\\SE_train\\Z王纯刚202203025.fif\n",
      "Closing E:\\jupyter file\\EEG_process\\SE_train\\Z王纯刚202203025.fif\n",
      "[done]\n",
      "Extracting EDF parameters from E:\\jupyter file\\第四批病人数据\\治疗脑电（第一批次）\\Z王纯刚202203028.edf...\n",
      "EDF file detected\n",
      "Setting channel info structure...\n",
      "Creating raw.info structure...\n",
      "Used Annotations descriptions: ['Recording ends', 'Recording starts', 'SE', 'end', 'start']\n",
      "Extracting EDF parameters from E:\\jupyter file\\第四批病人数据\\治疗脑电（第一批次）\\Z王纯刚202203028.edf...\n",
      "EDF file detected\n",
      "Setting channel info structure...\n",
      "Creating raw.info structure...\n",
      "Used Annotations descriptions: ['Recording ends', 'Recording starts', 'SE', 'end', 'start']\n",
      "282.818359375 + 298.818359375\n",
      ".\\SE_train\\Z王纯刚202203028.fif\n",
      "Writing E:\\jupyter file\\EEG_process\\SE_train\\Z王纯刚202203028.fif\n",
      "Closing E:\\jupyter file\\EEG_process\\SE_train\\Z王纯刚202203028.fif\n",
      "[done]\n",
      "Extracting EDF parameters from E:\\jupyter file\\第四批病人数据\\治疗脑电（第一批次）\\Z林攀攀20220221（未发作）.edf...\n",
      "EDF file detected\n",
      "Setting channel info structure...\n",
      "Creating raw.info structure...\n",
      "Used Annotations descriptions: ['Recording ends', 'Recording starts']\n"
     ]
    },
    {
     "name": "stderr",
     "output_type": "stream",
     "text": [
      "<ipython-input-11-4e4bdafa783c>:20: RuntimeWarning: This filename (E:\\jupyter file\\EEG_process\\SE_train\\Z王纯刚202203025.fif) does not conform to MNE naming conventions. All raw files should end with raw.fif, raw_sss.fif, raw_tsss.fif, _meg.fif, _eeg.fif, _ieeg.fif, raw.fif.gz, raw_sss.fif.gz, raw_tsss.fif.gz, _meg.fif.gz, _eeg.fif.gz or _ieeg.fif.gz\n",
      "  raw.save(path_name,picks,start_time,end_time,overwrite=True)\n",
      "<ipython-input-11-4e4bdafa783c>:20: RuntimeWarning: This filename (E:\\jupyter file\\EEG_process\\SE_train\\Z王纯刚202203028.fif) does not conform to MNE naming conventions. All raw files should end with raw.fif, raw_sss.fif, raw_tsss.fif, _meg.fif, _eeg.fif, _ieeg.fif, raw.fif.gz, raw_sss.fif.gz, raw_tsss.fif.gz, _meg.fif.gz, _eeg.fif.gz or _ieeg.fif.gz\n",
      "  raw.save(path_name,picks,start_time,end_time,overwrite=True)\n"
     ]
    },
    {
     "name": "stdout",
     "output_type": "stream",
     "text": [
      "Extracting EDF parameters from E:\\jupyter file\\第四批病人数据\\治疗脑电（第一批次）\\Z林攀攀20220223（未发作）.edf...\n",
      "EDF file detected\n",
      "Setting channel info structure...\n",
      "Creating raw.info structure...\n",
      "Used Annotations descriptions: ['File Create', 'Recording ends', 'Recording starts', 'SE']\n",
      "Extracting EDF parameters from E:\\jupyter file\\第四批病人数据\\治疗脑电（第一批次）\\Z林攀攀20220223（未发作）.edf...\n",
      "EDF file detected\n",
      "Setting channel info structure...\n",
      "Creating raw.info structure...\n",
      "Used Annotations descriptions: ['File Create', 'Recording ends', 'Recording starts', 'SE']\n",
      "81.0625 + 97.0625\n",
      ".\\SE_train\\Z林攀攀20220223（未发作）.fif\n",
      "Writing E:\\jupyter file\\EEG_process\\SE_train\\Z林攀攀20220223（未发作）.fif\n",
      "Closing E:\\jupyter file\\EEG_process\\SE_train\\Z林攀攀20220223（未发作）.fif\n",
      "[done]\n",
      "Extracting EDF parameters from E:\\jupyter file\\第四批病人数据\\治疗脑电（第一批次）\\Z林攀攀20220225（未发作）.edf...\n",
      "EDF file detected\n",
      "Setting channel info structure...\n",
      "Creating raw.info structure...\n",
      "Used Annotations descriptions: ['File Create', 'Recording ends', 'Recording starts', 'SE']\n",
      "Extracting EDF parameters from E:\\jupyter file\\第四批病人数据\\治疗脑电（第一批次）\\Z林攀攀20220225（未发作）.edf...\n",
      "EDF file detected\n",
      "Setting channel info structure...\n",
      "Creating raw.info structure...\n",
      "Used Annotations descriptions: ['File Create', 'Recording ends', 'Recording starts', 'SE']\n",
      "13.4482421875 + 29.4482421875\n",
      ".\\SE_train\\Z林攀攀20220225（未发作）.fif\n",
      "Writing E:\\jupyter file\\EEG_process\\SE_train\\Z林攀攀20220225（未发作）.fif\n",
      "Closing E:\\jupyter file\\EEG_process\\SE_train\\Z林攀攀20220225（未发作）.fif\n",
      "[done]\n",
      "Extracting EDF parameters from E:\\jupyter file\\第四批病人数据\\治疗脑电（第一批次）\\Z林攀攀20220228.edf...\n",
      "EDF file detected\n",
      "Setting channel info structure...\n",
      "Creating raw.info structure...\n",
      "Used Annotations descriptions: ['File Create', 'Recording ends', 'Recording starts', 'SE', 'end', 'start']\n",
      "Extracting EDF parameters from E:\\jupyter file\\第四批病人数据\\治疗脑电（第一批次）\\Z林攀攀20220228.edf...\n",
      "EDF file detected\n",
      "Setting channel info structure...\n",
      "Creating raw.info structure...\n",
      "Used Annotations descriptions: ['File Create', 'Recording ends', 'Recording starts', 'SE', 'end', 'start']\n"
     ]
    },
    {
     "name": "stderr",
     "output_type": "stream",
     "text": [
      "<ipython-input-11-4e4bdafa783c>:20: RuntimeWarning: This filename (E:\\jupyter file\\EEG_process\\SE_train\\Z林攀攀20220223（未发作）.fif) does not conform to MNE naming conventions. All raw files should end with raw.fif, raw_sss.fif, raw_tsss.fif, _meg.fif, _eeg.fif, _ieeg.fif, raw.fif.gz, raw_sss.fif.gz, raw_tsss.fif.gz, _meg.fif.gz, _eeg.fif.gz or _ieeg.fif.gz\n",
      "  raw.save(path_name,picks,start_time,end_time,overwrite=True)\n",
      "<ipython-input-11-4e4bdafa783c>:20: RuntimeWarning: This filename (E:\\jupyter file\\EEG_process\\SE_train\\Z林攀攀20220225（未发作）.fif) does not conform to MNE naming conventions. All raw files should end with raw.fif, raw_sss.fif, raw_tsss.fif, _meg.fif, _eeg.fif, _ieeg.fif, raw.fif.gz, raw_sss.fif.gz, raw_tsss.fif.gz, _meg.fif.gz, _eeg.fif.gz or _ieeg.fif.gz\n",
      "  raw.save(path_name,picks,start_time,end_time,overwrite=True)\n",
      "<ipython-input-11-4e4bdafa783c>:20: RuntimeWarning: This filename (E:\\jupyter file\\EEG_process\\SE_train\\Z林攀攀20220228.fif) does not conform to MNE naming conventions. All raw files should end with raw.fif, raw_sss.fif, raw_tsss.fif, _meg.fif, _eeg.fif, _ieeg.fif, raw.fif.gz, raw_sss.fif.gz, raw_tsss.fif.gz, _meg.fif.gz, _eeg.fif.gz or _ieeg.fif.gz\n",
      "  raw.save(path_name,picks,start_time,end_time,overwrite=True)\n"
     ]
    },
    {
     "name": "stdout",
     "output_type": "stream",
     "text": [
      "37.1806640625 + 53.1806640625\n",
      ".\\SE_train\\Z林攀攀20220228.fif\n",
      "Writing E:\\jupyter file\\EEG_process\\SE_train\\Z林攀攀20220228.fif\n",
      "Closing E:\\jupyter file\\EEG_process\\SE_train\\Z林攀攀20220228.fif\n",
      "[done]\n",
      "Extracting EDF parameters from E:\\jupyter file\\第四批病人数据\\治疗脑电（第一批次）\\Z周小凯202203014.edf...\n",
      "EDF file detected\n",
      "Setting channel info structure...\n",
      "Creating raw.info structure...\n",
      "Used Annotations descriptions: ['File Create', 'Recording ends', 'Recording starts', 'SE', 'Â¼Â¡Ã\\x95Ã³Ã\\x82']\n",
      "Extracting EDF parameters from E:\\jupyter file\\第四批病人数据\\治疗脑电（第一批次）\\Z周小凯202203014.edf...\n",
      "EDF file detected\n",
      "Setting channel info structure...\n",
      "Creating raw.info structure...\n",
      "Used Annotations descriptions: ['File Create', 'Recording ends', 'Recording starts', 'SE', 'Â¼Â¡Ã\\x95Ã³Ã\\x82']\n",
      "144.3564453125 + 160.3564453125\n",
      ".\\SE_train\\Z周小凯202203014.fif\n",
      "Writing E:\\jupyter file\\EEG_process\\SE_train\\Z周小凯202203014.fif\n",
      "Closing E:\\jupyter file\\EEG_process\\SE_train\\Z周小凯202203014.fif\n",
      "[done]\n",
      "Extracting EDF parameters from E:\\jupyter file\\第四批病人数据\\治疗脑电（第一批次）\\Z周小凯202203016.edf...\n",
      "EDF file detected\n",
      "Setting channel info structure...\n",
      "Creating raw.info structure...\n",
      "Used Annotations descriptions: ['File Create', 'Recording ends', 'Recording starts', 'SE', 'end', 'start']\n",
      "Extracting EDF parameters from E:\\jupyter file\\第四批病人数据\\治疗脑电（第一批次）\\Z周小凯202203016.edf...\n",
      "EDF file detected\n",
      "Setting channel info structure...\n",
      "Creating raw.info structure...\n",
      "Used Annotations descriptions: ['File Create', 'Recording ends', 'Recording starts', 'SE', 'end', 'start']\n",
      "99.0732421875 + 115.0732421875\n",
      ".\\SE_train\\Z周小凯202203016.fif\n",
      "Writing E:\\jupyter file\\EEG_process\\SE_train\\Z周小凯202203016.fif\n",
      "Closing E:\\jupyter file\\EEG_process\\SE_train\\Z周小凯202203016.fif\n",
      "[done]\n",
      "Extracting EDF parameters from E:\\jupyter file\\第四批病人数据\\治疗脑电（第一批次）\\Z周小凯202203018.edf...\n",
      "EDF file detected\n",
      "Setting channel info structure...\n",
      "Creating raw.info structure...\n"
     ]
    },
    {
     "name": "stderr",
     "output_type": "stream",
     "text": [
      "<ipython-input-11-4e4bdafa783c>:20: RuntimeWarning: This filename (E:\\jupyter file\\EEG_process\\SE_train\\Z周小凯202203014.fif) does not conform to MNE naming conventions. All raw files should end with raw.fif, raw_sss.fif, raw_tsss.fif, _meg.fif, _eeg.fif, _ieeg.fif, raw.fif.gz, raw_sss.fif.gz, raw_tsss.fif.gz, _meg.fif.gz, _eeg.fif.gz or _ieeg.fif.gz\n",
      "  raw.save(path_name,picks,start_time,end_time,overwrite=True)\n",
      "<ipython-input-11-4e4bdafa783c>:20: RuntimeWarning: This filename (E:\\jupyter file\\EEG_process\\SE_train\\Z周小凯202203016.fif) does not conform to MNE naming conventions. All raw files should end with raw.fif, raw_sss.fif, raw_tsss.fif, _meg.fif, _eeg.fif, _ieeg.fif, raw.fif.gz, raw_sss.fif.gz, raw_tsss.fif.gz, _meg.fif.gz, _eeg.fif.gz or _ieeg.fif.gz\n",
      "  raw.save(path_name,picks,start_time,end_time,overwrite=True)\n"
     ]
    },
    {
     "name": "stdout",
     "output_type": "stream",
     "text": [
      "Used Annotations descriptions: ['File Create', 'Recording ends', 'Recording starts', 'SE', 'end', 'start']\n",
      "Extracting EDF parameters from E:\\jupyter file\\第四批病人数据\\治疗脑电（第一批次）\\Z周小凯202203018.edf...\n",
      "EDF file detected\n",
      "Setting channel info structure...\n",
      "Creating raw.info structure...\n",
      "Used Annotations descriptions: ['File Create', 'Recording ends', 'Recording starts', 'SE', 'end', 'start']\n",
      "0.9716796875 + 16.9716796875\n",
      ".\\SE_train\\Z周小凯202203018.fif\n",
      "Writing E:\\jupyter file\\EEG_process\\SE_train\\Z周小凯202203018.fif\n",
      "Closing E:\\jupyter file\\EEG_process\\SE_train\\Z周小凯202203018.fif\n",
      "[done]\n",
      "Extracting EDF parameters from E:\\jupyter file\\第四批病人数据\\治疗脑电（第一批次）\\Z周小凯202203021.edf...\n",
      "EDF file detected\n",
      "Setting channel info structure...\n",
      "Creating raw.info structure...\n",
      "Used Annotations descriptions: ['File Create', 'Recording ends', 'Recording starts', 'SE', 'end', 'start']\n",
      "Extracting EDF parameters from E:\\jupyter file\\第四批病人数据\\治疗脑电（第一批次）\\Z周小凯202203021.edf...\n",
      "EDF file detected\n",
      "Setting channel info structure...\n",
      "Creating raw.info structure...\n",
      "Used Annotations descriptions: ['File Create', 'Recording ends', 'Recording starts', 'SE', 'end', 'start']\n",
      "60.3173828125 + 76.3173828125\n",
      ".\\SE_train\\Z周小凯202203021.fif\n",
      "Writing E:\\jupyter file\\EEG_process\\SE_train\\Z周小凯202203021.fif\n",
      "Closing E:\\jupyter file\\EEG_process\\SE_train\\Z周小凯202203021.fif\n",
      "[done]\n",
      "Extracting EDF parameters from E:\\jupyter file\\第四批病人数据\\治疗脑电（第一批次）\\Z李玉萍20220216.edf...\n",
      "EDF file detected\n",
      "Setting channel info structure...\n",
      "Creating raw.info structure...\n",
      "Used Annotations descriptions: ['File Create', 'Recording ends', 'Recording starts', 'SE', 'end', 'start']\n",
      "Extracting EDF parameters from E:\\jupyter file\\第四批病人数据\\治疗脑电（第一批次）\\Z李玉萍20220216.edf...\n",
      "EDF file detected\n"
     ]
    },
    {
     "name": "stderr",
     "output_type": "stream",
     "text": [
      "<ipython-input-11-4e4bdafa783c>:20: RuntimeWarning: This filename (E:\\jupyter file\\EEG_process\\SE_train\\Z周小凯202203018.fif) does not conform to MNE naming conventions. All raw files should end with raw.fif, raw_sss.fif, raw_tsss.fif, _meg.fif, _eeg.fif, _ieeg.fif, raw.fif.gz, raw_sss.fif.gz, raw_tsss.fif.gz, _meg.fif.gz, _eeg.fif.gz or _ieeg.fif.gz\n",
      "  raw.save(path_name,picks,start_time,end_time,overwrite=True)\n",
      "<ipython-input-11-4e4bdafa783c>:20: RuntimeWarning: This filename (E:\\jupyter file\\EEG_process\\SE_train\\Z周小凯202203021.fif) does not conform to MNE naming conventions. All raw files should end with raw.fif, raw_sss.fif, raw_tsss.fif, _meg.fif, _eeg.fif, _ieeg.fif, raw.fif.gz, raw_sss.fif.gz, raw_tsss.fif.gz, _meg.fif.gz, _eeg.fif.gz or _ieeg.fif.gz\n",
      "  raw.save(path_name,picks,start_time,end_time,overwrite=True)\n"
     ]
    },
    {
     "name": "stdout",
     "output_type": "stream",
     "text": [
      "Setting channel info structure...\n",
      "Creating raw.info structure...\n",
      "Used Annotations descriptions: ['File Create', 'Recording ends', 'Recording starts', 'SE', 'end', 'start']\n",
      "49.44140625 + 65.44140625\n",
      ".\\SE_train\\Z李玉萍20220216.fif\n",
      "Writing E:\\jupyter file\\EEG_process\\SE_train\\Z李玉萍20220216.fif\n",
      "Closing E:\\jupyter file\\EEG_process\\SE_train\\Z李玉萍20220216.fif\n",
      "[done]\n",
      "Extracting EDF parameters from E:\\jupyter file\\第四批病人数据\\治疗脑电（第一批次）\\Z李玉萍20220218.edf...\n",
      "EDF file detected\n",
      "Setting channel info structure...\n",
      "Creating raw.info structure...\n",
      "Used Annotations descriptions: ['File Create', 'Recording ends', 'Recording starts', 'SE', 'end', 'start']\n",
      "Extracting EDF parameters from E:\\jupyter file\\第四批病人数据\\治疗脑电（第一批次）\\Z李玉萍20220218.edf...\n",
      "EDF file detected\n",
      "Setting channel info structure...\n",
      "Creating raw.info structure...\n",
      "Used Annotations descriptions: ['File Create', 'Recording ends', 'Recording starts', 'SE', 'end', 'start']\n",
      "54.3701171875 + 70.3701171875\n",
      ".\\SE_train\\Z李玉萍20220218.fif\n",
      "Writing E:\\jupyter file\\EEG_process\\SE_train\\Z李玉萍20220218.fif\n",
      "Closing E:\\jupyter file\\EEG_process\\SE_train\\Z李玉萍20220218.fif\n",
      "[done]\n",
      "Extracting EDF parameters from E:\\jupyter file\\第四批病人数据\\治疗脑电（第一批次）\\Z李玉萍20220221（未发作）.edf...\n",
      "EDF file detected\n",
      "Setting channel info structure...\n",
      "Creating raw.info structure...\n",
      "Used Annotations descriptions: ['File Create', 'Recording ends', 'Recording starts', 'SE']\n"
     ]
    },
    {
     "name": "stderr",
     "output_type": "stream",
     "text": [
      "<ipython-input-11-4e4bdafa783c>:20: RuntimeWarning: This filename (E:\\jupyter file\\EEG_process\\SE_train\\Z李玉萍20220216.fif) does not conform to MNE naming conventions. All raw files should end with raw.fif, raw_sss.fif, raw_tsss.fif, _meg.fif, _eeg.fif, _ieeg.fif, raw.fif.gz, raw_sss.fif.gz, raw_tsss.fif.gz, _meg.fif.gz, _eeg.fif.gz or _ieeg.fif.gz\n",
      "  raw.save(path_name,picks,start_time,end_time,overwrite=True)\n",
      "<ipython-input-11-4e4bdafa783c>:20: RuntimeWarning: This filename (E:\\jupyter file\\EEG_process\\SE_train\\Z李玉萍20220218.fif) does not conform to MNE naming conventions. All raw files should end with raw.fif, raw_sss.fif, raw_tsss.fif, _meg.fif, _eeg.fif, _ieeg.fif, raw.fif.gz, raw_sss.fif.gz, raw_tsss.fif.gz, _meg.fif.gz, _eeg.fif.gz or _ieeg.fif.gz\n",
      "  raw.save(path_name,picks,start_time,end_time,overwrite=True)\n"
     ]
    },
    {
     "name": "stdout",
     "output_type": "stream",
     "text": [
      "Extracting EDF parameters from E:\\jupyter file\\第四批病人数据\\治疗脑电（第一批次）\\Z李玉萍20220221（未发作）.edf...\n",
      "EDF file detected\n",
      "Setting channel info structure...\n",
      "Creating raw.info structure...\n",
      "Used Annotations descriptions: ['File Create', 'Recording ends', 'Recording starts', 'SE']\n",
      "36.537109375 + 52.537109375\n",
      ".\\SE_train\\Z李玉萍20220221（未发作）.fif\n",
      "Writing E:\\jupyter file\\EEG_process\\SE_train\\Z李玉萍20220221（未发作）.fif\n",
      "Closing E:\\jupyter file\\EEG_process\\SE_train\\Z李玉萍20220221（未发作）.fif\n",
      "[done]\n",
      "Extracting EDF parameters from E:\\jupyter file\\第四批病人数据\\治疗脑电（第一批次）\\Z李玉萍20220223.edf...\n",
      "EDF file detected\n",
      "Setting channel info structure...\n",
      "Creating raw.info structure...\n",
      "Used Annotations descriptions: ['File Create', 'Recording ends', 'Recording starts', 'SE', 'end', 'start']\n",
      "Extracting EDF parameters from E:\\jupyter file\\第四批病人数据\\治疗脑电（第一批次）\\Z李玉萍20220223.edf...\n",
      "EDF file detected\n",
      "Setting channel info structure...\n",
      "Creating raw.info structure...\n",
      "Used Annotations descriptions: ['File Create', 'Recording ends', 'Recording starts', 'SE', 'end', 'start']\n",
      "56.720703125 + 72.720703125\n",
      ".\\SE_train\\Z李玉萍20220223.fif\n",
      "Writing E:\\jupyter file\\EEG_process\\SE_train\\Z李玉萍20220223.fif\n",
      "Closing E:\\jupyter file\\EEG_process\\SE_train\\Z李玉萍20220223.fif\n",
      "[done]\n",
      "Extracting EDF parameters from E:\\jupyter file\\第四批病人数据\\治疗脑电（第一批次）\\Z齐金钢20220223.edf...\n",
      "EDF file detected\n",
      "Setting channel info structure...\n",
      "Creating raw.info structure...\n",
      "Used Annotations descriptions: ['File Create', 'Recording ends', 'Recording starts', 'SE', 'end', 'start']\n",
      "Extracting EDF parameters from E:\\jupyter file\\第四批病人数据\\治疗脑电（第一批次）\\Z齐金钢20220223.edf...\n",
      "EDF file detected\n",
      "Setting channel info structure...\n",
      "Creating raw.info structure...\n",
      "Used Annotations descriptions: ['File Create', 'Recording ends', 'Recording starts', 'SE', 'end', 'start']\n",
      "15.01953125 + 31.01953125\n"
     ]
    },
    {
     "name": "stderr",
     "output_type": "stream",
     "text": [
      "<ipython-input-11-4e4bdafa783c>:20: RuntimeWarning: This filename (E:\\jupyter file\\EEG_process\\SE_train\\Z李玉萍20220221（未发作）.fif) does not conform to MNE naming conventions. All raw files should end with raw.fif, raw_sss.fif, raw_tsss.fif, _meg.fif, _eeg.fif, _ieeg.fif, raw.fif.gz, raw_sss.fif.gz, raw_tsss.fif.gz, _meg.fif.gz, _eeg.fif.gz or _ieeg.fif.gz\n",
      "  raw.save(path_name,picks,start_time,end_time,overwrite=True)\n",
      "<ipython-input-11-4e4bdafa783c>:20: RuntimeWarning: This filename (E:\\jupyter file\\EEG_process\\SE_train\\Z李玉萍20220223.fif) does not conform to MNE naming conventions. All raw files should end with raw.fif, raw_sss.fif, raw_tsss.fif, _meg.fif, _eeg.fif, _ieeg.fif, raw.fif.gz, raw_sss.fif.gz, raw_tsss.fif.gz, _meg.fif.gz, _eeg.fif.gz or _ieeg.fif.gz\n",
      "  raw.save(path_name,picks,start_time,end_time,overwrite=True)\n"
     ]
    },
    {
     "name": "stdout",
     "output_type": "stream",
     "text": [
      ".\\SE_train\\Z齐金钢20220223.fif\n",
      "Writing E:\\jupyter file\\EEG_process\\SE_train\\Z齐金钢20220223.fif\n",
      "Closing E:\\jupyter file\\EEG_process\\SE_train\\Z齐金钢20220223.fif\n",
      "[done]\n",
      "Extracting EDF parameters from E:\\jupyter file\\第四批病人数据\\治疗脑电（第一批次）\\Z齐金钢20220225.edf...\n",
      "EDF file detected\n",
      "Setting channel info structure...\n",
      "Creating raw.info structure...\n",
      "Used Annotations descriptions: ['File Create', 'Recording ends', 'Recording starts', 'SE', 'end', 'start', 'Â·Â¢']\n",
      "Extracting EDF parameters from E:\\jupyter file\\第四批病人数据\\治疗脑电（第一批次）\\Z齐金钢20220225.edf...\n",
      "EDF file detected\n",
      "Setting channel info structure...\n",
      "Creating raw.info structure...\n",
      "Used Annotations descriptions: ['File Create', 'Recording ends', 'Recording starts', 'SE', 'end', 'start', 'Â·Â¢']\n",
      "7.982421875 + 23.982421875\n",
      ".\\SE_train\\Z齐金钢20220225.fif\n",
      "Writing E:\\jupyter file\\EEG_process\\SE_train\\Z齐金钢20220225.fif\n",
      "Closing E:\\jupyter file\\EEG_process\\SE_train\\Z齐金钢20220225.fif\n"
     ]
    },
    {
     "name": "stderr",
     "output_type": "stream",
     "text": [
      "<ipython-input-11-4e4bdafa783c>:20: RuntimeWarning: This filename (E:\\jupyter file\\EEG_process\\SE_train\\Z齐金钢20220223.fif) does not conform to MNE naming conventions. All raw files should end with raw.fif, raw_sss.fif, raw_tsss.fif, _meg.fif, _eeg.fif, _ieeg.fif, raw.fif.gz, raw_sss.fif.gz, raw_tsss.fif.gz, _meg.fif.gz, _eeg.fif.gz or _ieeg.fif.gz\n",
      "  raw.save(path_name,picks,start_time,end_time,overwrite=True)\n",
      "<ipython-input-11-4e4bdafa783c>:20: RuntimeWarning: This filename (E:\\jupyter file\\EEG_process\\SE_train\\Z齐金钢20220225.fif) does not conform to MNE naming conventions. All raw files should end with raw.fif, raw_sss.fif, raw_tsss.fif, _meg.fif, _eeg.fif, _ieeg.fif, raw.fif.gz, raw_sss.fif.gz, raw_tsss.fif.gz, _meg.fif.gz, _eeg.fif.gz or _ieeg.fif.gz\n",
      "  raw.save(path_name,picks,start_time,end_time,overwrite=True)\n"
     ]
    },
    {
     "name": "stdout",
     "output_type": "stream",
     "text": [
      "[done]\n",
      "Extracting EDF parameters from E:\\jupyter file\\第四批病人数据\\治疗脑电（第一批次）\\Z齐金钢20220228.edf...\n",
      "EDF file detected\n",
      "Setting channel info structure...\n",
      "Creating raw.info structure...\n",
      "Used Annotations descriptions: ['File Create', 'Recording ends', 'Recording starts', 'SE', 'end', 'start']\n",
      "Extracting EDF parameters from E:\\jupyter file\\第四批病人数据\\治疗脑电（第一批次）\\Z齐金钢20220228.edf...\n",
      "EDF file detected\n",
      "Setting channel info structure...\n",
      "Creating raw.info structure...\n",
      "Used Annotations descriptions: ['File Create', 'Recording ends', 'Recording starts', 'SE', 'end', 'start']\n",
      "20.4990234375 + 36.4990234375\n",
      ".\\SE_train\\Z齐金钢20220228.fif\n",
      "Writing E:\\jupyter file\\EEG_process\\SE_train\\Z齐金钢20220228.fif\n",
      "Closing E:\\jupyter file\\EEG_process\\SE_train\\Z齐金钢20220228.fif\n",
      "[done]\n",
      "Extracting EDF parameters from E:\\jupyter file\\第四批病人数据\\治疗脑电（第一批次）\\Z齐金钢20220302.edf...\n",
      "EDF file detected\n",
      "Setting channel info structure...\n",
      "Creating raw.info structure...\n",
      "Used Annotations descriptions: ['File Create', 'Recording ends', 'Recording starts', 'SE', 'end', 'start']\n",
      "Extracting EDF parameters from E:\\jupyter file\\第四批病人数据\\治疗脑电（第一批次）\\Z齐金钢20220302.edf...\n",
      "EDF file detected\n",
      "Setting channel info structure...\n",
      "Creating raw.info structure...\n",
      "Used Annotations descriptions: ['File Create', 'Recording ends', 'Recording starts', 'SE', 'end', 'start']\n",
      "146.841796875 + 162.841796875\n"
     ]
    },
    {
     "name": "stderr",
     "output_type": "stream",
     "text": [
      "<ipython-input-11-4e4bdafa783c>:20: RuntimeWarning: This filename (E:\\jupyter file\\EEG_process\\SE_train\\Z齐金钢20220228.fif) does not conform to MNE naming conventions. All raw files should end with raw.fif, raw_sss.fif, raw_tsss.fif, _meg.fif, _eeg.fif, _ieeg.fif, raw.fif.gz, raw_sss.fif.gz, raw_tsss.fif.gz, _meg.fif.gz, _eeg.fif.gz or _ieeg.fif.gz\n",
      "  raw.save(path_name,picks,start_time,end_time,overwrite=True)\n",
      "<ipython-input-11-4e4bdafa783c>:20: RuntimeWarning: This filename (E:\\jupyter file\\EEG_process\\SE_train\\Z齐金钢20220302.fif) does not conform to MNE naming conventions. All raw files should end with raw.fif, raw_sss.fif, raw_tsss.fif, _meg.fif, _eeg.fif, _ieeg.fif, raw.fif.gz, raw_sss.fif.gz, raw_tsss.fif.gz, _meg.fif.gz, _eeg.fif.gz or _ieeg.fif.gz\n",
      "  raw.save(path_name,picks,start_time,end_time,overwrite=True)\n"
     ]
    },
    {
     "name": "stdout",
     "output_type": "stream",
     "text": [
      ".\\SE_train\\Z齐金钢20220302.fif\n",
      "Writing E:\\jupyter file\\EEG_process\\SE_train\\Z齐金钢20220302.fif\n",
      "Closing E:\\jupyter file\\EEG_process\\SE_train\\Z齐金钢20220302.fif\n",
      "[done]\n",
      "Extracting EDF parameters from E:\\jupyter file\\第四批病人数据\\治疗脑电（第一批次）\\Z倪诗瑄202203011.edf...\n",
      "EDF file detected\n",
      "Setting channel info structure...\n",
      "Creating raw.info structure...\n",
      "Used Annotations descriptions: ['File Create', 'Recording ends', 'Recording starts', 'SE', 'end', 'start']\n",
      "Extracting EDF parameters from E:\\jupyter file\\第四批病人数据\\治疗脑电（第一批次）\\Z倪诗瑄202203011.edf...\n",
      "EDF file detected\n",
      "Setting channel info structure...\n",
      "Creating raw.info structure...\n",
      "Used Annotations descriptions: ['File Create', 'Recording ends', 'Recording starts', 'SE', 'end', 'start']\n",
      "2.583984375 + 18.583984375\n",
      ".\\SE_train\\Z倪诗瑄202203011.fif\n",
      "Writing E:\\jupyter file\\EEG_process\\SE_train\\Z倪诗瑄202203011.fif\n",
      "Closing E:\\jupyter file\\EEG_process\\SE_train\\Z倪诗瑄202203011.fif\n",
      "[done]\n",
      "Extracting EDF parameters from E:\\jupyter file\\第四批病人数据\\治疗脑电（第一批次）\\Z倪诗瑄202203014.edf...\n",
      "EDF file detected\n",
      "Setting channel info structure...\n",
      "Creating raw.info structure...\n",
      "Used Annotations descriptions: ['File Create', 'Recording ends', 'Recording starts', 'SE', 'end', 'start']\n",
      "Extracting EDF parameters from E:\\jupyter file\\第四批病人数据\\治疗脑电（第一批次）\\Z倪诗瑄202203014.edf...\n",
      "EDF file detected\n",
      "Setting channel info structure...\n",
      "Creating raw.info structure...\n",
      "Used Annotations descriptions: ['File Create', 'Recording ends', 'Recording starts', 'SE', 'end', 'start']\n",
      "110.263671875 + 126.263671875\n",
      ".\\SE_train\\Z倪诗瑄202203014.fif\n",
      "Writing E:\\jupyter file\\EEG_process\\SE_train\\Z倪诗瑄202203014.fif\n",
      "Closing E:\\jupyter file\\EEG_process\\SE_train\\Z倪诗瑄202203014.fif\n"
     ]
    },
    {
     "name": "stderr",
     "output_type": "stream",
     "text": [
      "<ipython-input-11-4e4bdafa783c>:20: RuntimeWarning: This filename (E:\\jupyter file\\EEG_process\\SE_train\\Z倪诗瑄202203011.fif) does not conform to MNE naming conventions. All raw files should end with raw.fif, raw_sss.fif, raw_tsss.fif, _meg.fif, _eeg.fif, _ieeg.fif, raw.fif.gz, raw_sss.fif.gz, raw_tsss.fif.gz, _meg.fif.gz, _eeg.fif.gz or _ieeg.fif.gz\n",
      "  raw.save(path_name,picks,start_time,end_time,overwrite=True)\n",
      "<ipython-input-11-4e4bdafa783c>:20: RuntimeWarning: This filename (E:\\jupyter file\\EEG_process\\SE_train\\Z倪诗瑄202203014.fif) does not conform to MNE naming conventions. All raw files should end with raw.fif, raw_sss.fif, raw_tsss.fif, _meg.fif, _eeg.fif, _ieeg.fif, raw.fif.gz, raw_sss.fif.gz, raw_tsss.fif.gz, _meg.fif.gz, _eeg.fif.gz or _ieeg.fif.gz\n",
      "  raw.save(path_name,picks,start_time,end_time,overwrite=True)\n"
     ]
    },
    {
     "name": "stdout",
     "output_type": "stream",
     "text": [
      "[done]\n",
      "Extracting EDF parameters from E:\\jupyter file\\第四批病人数据\\治疗脑电（第一批次）\\Z倪诗瑄202203016.edf...\n",
      "EDF file detected\n",
      "Setting channel info structure...\n",
      "Creating raw.info structure...\n",
      "Used Annotations descriptions: ['File Create', 'Recording ends', 'Recording starts', 'SE', 'end', 'start']\n",
      "Extracting EDF parameters from E:\\jupyter file\\第四批病人数据\\治疗脑电（第一批次）\\Z倪诗瑄202203016.edf...\n",
      "EDF file detected\n",
      "Setting channel info structure...\n",
      "Creating raw.info structure...\n",
      "Used Annotations descriptions: ['File Create', 'Recording ends', 'Recording starts', 'SE', 'end', 'start']\n",
      "129.0712890625 + 145.0712890625\n",
      ".\\SE_train\\Z倪诗瑄202203016.fif\n",
      "Writing E:\\jupyter file\\EEG_process\\SE_train\\Z倪诗瑄202203016.fif\n",
      "Closing E:\\jupyter file\\EEG_process\\SE_train\\Z倪诗瑄202203016.fif\n",
      "[done]\n",
      "Extracting EDF parameters from E:\\jupyter file\\第四批病人数据\\治疗脑电（第一批次）\\Z倪诗瑄202203018.edf...\n",
      "EDF file detected\n",
      "Setting channel info structure...\n",
      "Creating raw.info structure...\n",
      "Used Annotations descriptions: ['File Create', 'Recording ends', 'Recording starts', 'SE', 'end', 'start']\n",
      "Extracting EDF parameters from E:\\jupyter file\\第四批病人数据\\治疗脑电（第一批次）\\Z倪诗瑄202203018.edf...\n",
      "EDF file detected\n",
      "Setting channel info structure...\n",
      "Creating raw.info structure...\n",
      "Used Annotations descriptions: ['File Create', 'Recording ends', 'Recording starts', 'SE', 'end', 'start']\n",
      "28.587890625 + 44.587890625\n",
      ".\\SE_train\\Z倪诗瑄202203018.fif\n"
     ]
    },
    {
     "name": "stderr",
     "output_type": "stream",
     "text": [
      "<ipython-input-11-4e4bdafa783c>:20: RuntimeWarning: This filename (E:\\jupyter file\\EEG_process\\SE_train\\Z倪诗瑄202203016.fif) does not conform to MNE naming conventions. All raw files should end with raw.fif, raw_sss.fif, raw_tsss.fif, _meg.fif, _eeg.fif, _ieeg.fif, raw.fif.gz, raw_sss.fif.gz, raw_tsss.fif.gz, _meg.fif.gz, _eeg.fif.gz or _ieeg.fif.gz\n",
      "  raw.save(path_name,picks,start_time,end_time,overwrite=True)\n",
      "<ipython-input-11-4e4bdafa783c>:20: RuntimeWarning: This filename (E:\\jupyter file\\EEG_process\\SE_train\\Z倪诗瑄202203018.fif) does not conform to MNE naming conventions. All raw files should end with raw.fif, raw_sss.fif, raw_tsss.fif, _meg.fif, _eeg.fif, _ieeg.fif, raw.fif.gz, raw_sss.fif.gz, raw_tsss.fif.gz, _meg.fif.gz, _eeg.fif.gz or _ieeg.fif.gz\n",
      "  raw.save(path_name,picks,start_time,end_time,overwrite=True)\n"
     ]
    },
    {
     "name": "stdout",
     "output_type": "stream",
     "text": [
      "Writing E:\\jupyter file\\EEG_process\\SE_train\\Z倪诗瑄202203018.fif\n",
      "Closing E:\\jupyter file\\EEG_process\\SE_train\\Z倪诗瑄202203018.fif\n",
      "[done]\n",
      "Extracting EDF parameters from E:\\jupyter file\\第四批病人数据\\治疗脑电（第一批次）\\Z刘家瑞20220225.edf...\n",
      "EDF file detected\n",
      "Setting channel info structure...\n",
      "Creating raw.info structure...\n",
      "Used Annotations descriptions: ['File Create', 'Recording ends', 'Recording starts', 'SE', 'end', 'start']\n",
      "Extracting EDF parameters from E:\\jupyter file\\第四批病人数据\\治疗脑电（第一批次）\\Z刘家瑞20220225.edf...\n",
      "EDF file detected\n",
      "Setting channel info structure...\n",
      "Creating raw.info structure...\n",
      "Used Annotations descriptions: ['File Create', 'Recording ends', 'Recording starts', 'SE', 'end', 'start']\n",
      "163.6767578125 + 179.6767578125\n",
      ".\\SE_train\\Z刘家瑞20220225.fif\n",
      "Writing E:\\jupyter file\\EEG_process\\SE_train\\Z刘家瑞20220225.fif\n",
      "Closing E:\\jupyter file\\EEG_process\\SE_train\\Z刘家瑞20220225.fif\n",
      "[done]\n",
      "Extracting EDF parameters from E:\\jupyter file\\第四批病人数据\\治疗脑电（第一批次）\\Z刘家瑞20220228.edf...\n",
      "EDF file detected\n",
      "Setting channel info structure...\n",
      "Creating raw.info structure...\n",
      "Used Annotations descriptions: ['File Create', 'Recording ends', 'Recording starts', 'SE', 'end', 'start']\n",
      "Extracting EDF parameters from E:\\jupyter file\\第四批病人数据\\治疗脑电（第一批次）\\Z刘家瑞20220228.edf...\n",
      "EDF file detected\n",
      "Setting channel info structure...\n",
      "Creating raw.info structure...\n",
      "Used Annotations descriptions: ['File Create', 'Recording ends', 'Recording starts', 'SE', 'end', 'start']\n",
      "109.78125 + 125.78125\n",
      ".\\SE_train\\Z刘家瑞20220228.fif\n",
      "Writing E:\\jupyter file\\EEG_process\\SE_train\\Z刘家瑞20220228.fif\n",
      "Closing E:\\jupyter file\\EEG_process\\SE_train\\Z刘家瑞20220228.fif\n"
     ]
    },
    {
     "name": "stderr",
     "output_type": "stream",
     "text": [
      "<ipython-input-11-4e4bdafa783c>:20: RuntimeWarning: This filename (E:\\jupyter file\\EEG_process\\SE_train\\Z刘家瑞20220225.fif) does not conform to MNE naming conventions. All raw files should end with raw.fif, raw_sss.fif, raw_tsss.fif, _meg.fif, _eeg.fif, _ieeg.fif, raw.fif.gz, raw_sss.fif.gz, raw_tsss.fif.gz, _meg.fif.gz, _eeg.fif.gz or _ieeg.fif.gz\n",
      "  raw.save(path_name,picks,start_time,end_time,overwrite=True)\n",
      "<ipython-input-11-4e4bdafa783c>:20: RuntimeWarning: This filename (E:\\jupyter file\\EEG_process\\SE_train\\Z刘家瑞20220228.fif) does not conform to MNE naming conventions. All raw files should end with raw.fif, raw_sss.fif, raw_tsss.fif, _meg.fif, _eeg.fif, _ieeg.fif, raw.fif.gz, raw_sss.fif.gz, raw_tsss.fif.gz, _meg.fif.gz, _eeg.fif.gz or _ieeg.fif.gz\n",
      "  raw.save(path_name,picks,start_time,end_time,overwrite=True)\n"
     ]
    },
    {
     "name": "stdout",
     "output_type": "stream",
     "text": [
      "[done]\n",
      "Extracting EDF parameters from E:\\jupyter file\\第四批病人数据\\治疗脑电（第一批次）\\Z刘家瑞20220302.edf...\n",
      "EDF file detected\n",
      "Setting channel info structure...\n",
      "Creating raw.info structure...\n",
      "Used Annotations descriptions: ['File Create', 'Recording ends', 'Recording starts', 'SE', 'end', 'start']\n",
      "Extracting EDF parameters from E:\\jupyter file\\第四批病人数据\\治疗脑电（第一批次）\\Z刘家瑞20220302.edf...\n",
      "EDF file detected\n",
      "Setting channel info structure...\n",
      "Creating raw.info structure...\n",
      "Used Annotations descriptions: ['File Create', 'Recording ends', 'Recording starts', 'SE', 'end', 'start']\n",
      "45.271484375 + 61.271484375\n",
      ".\\SE_train\\Z刘家瑞20220302.fif\n",
      "Writing E:\\jupyter file\\EEG_process\\SE_train\\Z刘家瑞20220302.fif\n",
      "Closing E:\\jupyter file\\EEG_process\\SE_train\\Z刘家瑞20220302.fif\n",
      "[done]\n",
      "Extracting EDF parameters from E:\\jupyter file\\第四批病人数据\\治疗脑电（第一批次）\\Z刘家瑞20220304.edf...\n",
      "EDF file detected\n",
      "Setting channel info structure...\n",
      "Creating raw.info structure...\n",
      "Used Annotations descriptions: ['File Create', 'Recording ends', 'Recording starts', 'start']\n",
      "Extracting EDF parameters from E:\\jupyter file\\第四批病人数据\\治疗脑电（第一批次）\\Z黄盈雪20220314.edf...\n",
      "EDF file detected\n",
      "Setting channel info structure...\n",
      "Creating raw.info structure...\n",
      "Used Annotations descriptions: ['File Create', 'Recording ends', 'Recording starts', 'SE', 'end', 'start']\n",
      "Extracting EDF parameters from E:\\jupyter file\\第四批病人数据\\治疗脑电（第一批次）\\Z黄盈雪20220314.edf...\n",
      "EDF file detected\n",
      "Setting channel info structure...\n",
      "Creating raw.info structure...\n",
      "Used Annotations descriptions: ['File Create', 'Recording ends', 'Recording starts', 'SE', 'end', 'start']\n",
      "19.642578125 + 35.642578125\n",
      ".\\SE_train\\Z黄盈雪20220314.fif\n",
      "Writing E:\\jupyter file\\EEG_process\\SE_train\\Z黄盈雪20220314.fif\n",
      "Closing E:\\jupyter file\\EEG_process\\SE_train\\Z黄盈雪20220314.fif\n"
     ]
    },
    {
     "name": "stderr",
     "output_type": "stream",
     "text": [
      "<ipython-input-11-4e4bdafa783c>:20: RuntimeWarning: This filename (E:\\jupyter file\\EEG_process\\SE_train\\Z刘家瑞20220302.fif) does not conform to MNE naming conventions. All raw files should end with raw.fif, raw_sss.fif, raw_tsss.fif, _meg.fif, _eeg.fif, _ieeg.fif, raw.fif.gz, raw_sss.fif.gz, raw_tsss.fif.gz, _meg.fif.gz, _eeg.fif.gz or _ieeg.fif.gz\n",
      "  raw.save(path_name,picks,start_time,end_time,overwrite=True)\n",
      "<ipython-input-11-4e4bdafa783c>:20: RuntimeWarning: This filename (E:\\jupyter file\\EEG_process\\SE_train\\Z黄盈雪20220314.fif) does not conform to MNE naming conventions. All raw files should end with raw.fif, raw_sss.fif, raw_tsss.fif, _meg.fif, _eeg.fif, _ieeg.fif, raw.fif.gz, raw_sss.fif.gz, raw_tsss.fif.gz, _meg.fif.gz, _eeg.fif.gz or _ieeg.fif.gz\n",
      "  raw.save(path_name,picks,start_time,end_time,overwrite=True)\n"
     ]
    },
    {
     "name": "stdout",
     "output_type": "stream",
     "text": [
      "[done]\n",
      "Extracting EDF parameters from E:\\jupyter file\\第四批病人数据\\治疗脑电（第一批次）\\Z黄盈雪20220316.edf...\n",
      "EDF file detected\n",
      "Setting channel info structure...\n",
      "Creating raw.info structure...\n",
      "Used Annotations descriptions: ['File Create', 'Recording ends', 'Recording starts', 'SE', 'end', 'start']\n",
      "Extracting EDF parameters from E:\\jupyter file\\第四批病人数据\\治疗脑电（第一批次）\\Z黄盈雪20220316.edf...\n",
      "EDF file detected\n",
      "Setting channel info structure...\n",
      "Creating raw.info structure...\n",
      "Used Annotations descriptions: ['File Create', 'Recording ends', 'Recording starts', 'SE', 'end', 'start']\n",
      "88.1865234375 + 104.1865234375\n",
      ".\\SE_train\\Z黄盈雪20220316.fif\n",
      "Writing E:\\jupyter file\\EEG_process\\SE_train\\Z黄盈雪20220316.fif\n",
      "Closing E:\\jupyter file\\EEG_process\\SE_train\\Z黄盈雪20220316.fif\n",
      "[done]\n",
      "Extracting EDF parameters from E:\\jupyter file\\第四批病人数据\\治疗脑电（第一批次）\\Z黄盈雪20220318.edf...\n",
      "EDF file detected\n",
      "Setting channel info structure...\n",
      "Creating raw.info structure...\n",
      "Used Annotations descriptions: ['File Create', 'Recording ends', 'Recording starts', 'SE', 'end', 'start']\n",
      "Extracting EDF parameters from E:\\jupyter file\\第四批病人数据\\治疗脑电（第一批次）\\Z黄盈雪20220318.edf...\n",
      "EDF file detected\n",
      "Setting channel info structure...\n",
      "Creating raw.info structure...\n",
      "Used Annotations descriptions: ['File Create', 'Recording ends', 'Recording starts', 'SE', 'end', 'start']\n",
      "0.4873046875 + 16.4873046875\n",
      ".\\SE_train\\Z黄盈雪20220318.fif\n",
      "Writing E:\\jupyter file\\EEG_process\\SE_train\\Z黄盈雪20220318.fif\n",
      "Closing E:\\jupyter file\\EEG_process\\SE_train\\Z黄盈雪20220318.fif\n",
      "[done]\n",
      "Extracting EDF parameters from E:\\jupyter file\\第四批病人数据\\治疗脑电（第一批次）\\Z黄盈雪20220323.edf...\n",
      "EDF file detected\n",
      "Setting channel info structure...\n",
      "Creating raw.info structure...\n",
      "Used Annotations descriptions: ['File Create', 'Recording ends', 'Recording starts', 'SE', 'end']\n",
      "Extracting EDF parameters from E:\\jupyter file\\第四批病人数据\\治疗脑电（第一批次）\\Z黄盈雪20220323.edf...\n",
      "EDF file detected\n",
      "Setting channel info structure...\n",
      "Creating raw.info structure...\n"
     ]
    },
    {
     "name": "stderr",
     "output_type": "stream",
     "text": [
      "<ipython-input-11-4e4bdafa783c>:20: RuntimeWarning: This filename (E:\\jupyter file\\EEG_process\\SE_train\\Z黄盈雪20220316.fif) does not conform to MNE naming conventions. All raw files should end with raw.fif, raw_sss.fif, raw_tsss.fif, _meg.fif, _eeg.fif, _ieeg.fif, raw.fif.gz, raw_sss.fif.gz, raw_tsss.fif.gz, _meg.fif.gz, _eeg.fif.gz or _ieeg.fif.gz\n",
      "  raw.save(path_name,picks,start_time,end_time,overwrite=True)\n",
      "<ipython-input-11-4e4bdafa783c>:20: RuntimeWarning: This filename (E:\\jupyter file\\EEG_process\\SE_train\\Z黄盈雪20220318.fif) does not conform to MNE naming conventions. All raw files should end with raw.fif, raw_sss.fif, raw_tsss.fif, _meg.fif, _eeg.fif, _ieeg.fif, raw.fif.gz, raw_sss.fif.gz, raw_tsss.fif.gz, _meg.fif.gz, _eeg.fif.gz or _ieeg.fif.gz\n",
      "  raw.save(path_name,picks,start_time,end_time,overwrite=True)\n"
     ]
    },
    {
     "name": "stdout",
     "output_type": "stream",
     "text": [
      "Used Annotations descriptions: ['File Create', 'Recording ends', 'Recording starts', 'SE', 'end']\n",
      "113.853515625 + 129.853515625\n",
      ".\\SE_train\\Z黄盈雪20220323.fif\n",
      "Writing E:\\jupyter file\\EEG_process\\SE_train\\Z黄盈雪20220323.fif\n",
      "Closing E:\\jupyter file\\EEG_process\\SE_train\\Z黄盈雪20220323.fif\n",
      "[done]\n",
      "Extracting EDF parameters from E:\\jupyter file\\第四批病人数据\\治疗脑电（第一批次）\\Z黄金燕20220309.edf...\n",
      "EDF file detected\n",
      "Setting channel info structure...\n",
      "Creating raw.info structure...\n",
      "Used Annotations descriptions: ['File Create', 'Recording ends', 'Recording starts', 'SE', 'end', 'start']\n",
      "Extracting EDF parameters from E:\\jupyter file\\第四批病人数据\\治疗脑电（第一批次）\\Z黄金燕20220309.edf...\n",
      "EDF file detected\n",
      "Setting channel info structure...\n",
      "Creating raw.info structure...\n",
      "Used Annotations descriptions: ['File Create', 'Recording ends', 'Recording starts', 'SE', 'end', 'start']\n",
      "27.3232421875 + 43.3232421875\n",
      ".\\SE_train\\Z黄金燕20220309.fif\n",
      "Writing E:\\jupyter file\\EEG_process\\SE_train\\Z黄金燕20220309.fif\n",
      "Closing E:\\jupyter file\\EEG_process\\SE_train\\Z黄金燕20220309.fif\n",
      "[done]\n",
      "Extracting EDF parameters from E:\\jupyter file\\第四批病人数据\\治疗脑电（第一批次）\\Z黄金燕20220311.edf...\n",
      "EDF file detected\n",
      "Setting channel info structure...\n",
      "Creating raw.info structure...\n",
      "Used Annotations descriptions: ['File Create', 'Recording ends', 'Recording starts', 'SE', 'end', 'start']\n"
     ]
    },
    {
     "name": "stderr",
     "output_type": "stream",
     "text": [
      "<ipython-input-11-4e4bdafa783c>:20: RuntimeWarning: This filename (E:\\jupyter file\\EEG_process\\SE_train\\Z黄盈雪20220323.fif) does not conform to MNE naming conventions. All raw files should end with raw.fif, raw_sss.fif, raw_tsss.fif, _meg.fif, _eeg.fif, _ieeg.fif, raw.fif.gz, raw_sss.fif.gz, raw_tsss.fif.gz, _meg.fif.gz, _eeg.fif.gz or _ieeg.fif.gz\n",
      "  raw.save(path_name,picks,start_time,end_time,overwrite=True)\n",
      "<ipython-input-11-4e4bdafa783c>:20: RuntimeWarning: This filename (E:\\jupyter file\\EEG_process\\SE_train\\Z黄金燕20220309.fif) does not conform to MNE naming conventions. All raw files should end with raw.fif, raw_sss.fif, raw_tsss.fif, _meg.fif, _eeg.fif, _ieeg.fif, raw.fif.gz, raw_sss.fif.gz, raw_tsss.fif.gz, _meg.fif.gz, _eeg.fif.gz or _ieeg.fif.gz\n",
      "  raw.save(path_name,picks,start_time,end_time,overwrite=True)\n"
     ]
    },
    {
     "name": "stdout",
     "output_type": "stream",
     "text": [
      "Extracting EDF parameters from E:\\jupyter file\\第四批病人数据\\治疗脑电（第一批次）\\Z黄金燕20220311.edf...\n",
      "EDF file detected\n",
      "Setting channel info structure...\n",
      "Creating raw.info structure...\n",
      "Used Annotations descriptions: ['File Create', 'Recording ends', 'Recording starts', 'SE', 'end', 'start']\n",
      "74.087890625 + 90.087890625\n",
      ".\\SE_train\\Z黄金燕20220311.fif\n",
      "Writing E:\\jupyter file\\EEG_process\\SE_train\\Z黄金燕20220311.fif\n",
      "Closing E:\\jupyter file\\EEG_process\\SE_train\\Z黄金燕20220311.fif\n",
      "[done]\n",
      "Extracting EDF parameters from E:\\jupyter file\\第四批病人数据\\治疗脑电（第一批次）\\Z黄金燕20220314.edf...\n",
      "EDF file detected\n",
      "Setting channel info structure...\n",
      "Creating raw.info structure...\n",
      "Used Annotations descriptions: ['File Create', 'Recording ends', 'Recording starts', 'SE', 'end', 'start']\n",
      "Extracting EDF parameters from E:\\jupyter file\\第四批病人数据\\治疗脑电（第一批次）\\Z黄金燕20220314.edf...\n",
      "EDF file detected\n",
      "Setting channel info structure...\n",
      "Creating raw.info structure...\n",
      "Used Annotations descriptions: ['File Create', 'Recording ends', 'Recording starts', 'SE', 'end', 'start']\n",
      "41.8681640625 + 57.8681640625\n",
      ".\\SE_train\\Z黄金燕20220314.fif\n",
      "Writing E:\\jupyter file\\EEG_process\\SE_train\\Z黄金燕20220314.fif\n",
      "Closing E:\\jupyter file\\EEG_process\\SE_train\\Z黄金燕20220314.fif\n"
     ]
    },
    {
     "name": "stderr",
     "output_type": "stream",
     "text": [
      "<ipython-input-11-4e4bdafa783c>:20: RuntimeWarning: This filename (E:\\jupyter file\\EEG_process\\SE_train\\Z黄金燕20220311.fif) does not conform to MNE naming conventions. All raw files should end with raw.fif, raw_sss.fif, raw_tsss.fif, _meg.fif, _eeg.fif, _ieeg.fif, raw.fif.gz, raw_sss.fif.gz, raw_tsss.fif.gz, _meg.fif.gz, _eeg.fif.gz or _ieeg.fif.gz\n",
      "  raw.save(path_name,picks,start_time,end_time,overwrite=True)\n",
      "<ipython-input-11-4e4bdafa783c>:20: RuntimeWarning: This filename (E:\\jupyter file\\EEG_process\\SE_train\\Z黄金燕20220314.fif) does not conform to MNE naming conventions. All raw files should end with raw.fif, raw_sss.fif, raw_tsss.fif, _meg.fif, _eeg.fif, _ieeg.fif, raw.fif.gz, raw_sss.fif.gz, raw_tsss.fif.gz, _meg.fif.gz, _eeg.fif.gz or _ieeg.fif.gz\n",
      "  raw.save(path_name,picks,start_time,end_time,overwrite=True)\n"
     ]
    },
    {
     "name": "stdout",
     "output_type": "stream",
     "text": [
      "[done]\n",
      "Extracting EDF parameters from E:\\jupyter file\\第四批病人数据\\治疗脑电（第一批次）\\Z黄金燕20220316.edf...\n",
      "EDF file detected\n",
      "Setting channel info structure...\n",
      "Creating raw.info structure...\n",
      "Used Annotations descriptions: ['File Create', 'Recording ends', 'Recording starts', 'SE', 'end', 'start']\n",
      "Extracting EDF parameters from E:\\jupyter file\\第四批病人数据\\治疗脑电（第一批次）\\Z黄金燕20220316.edf...\n",
      "EDF file detected\n",
      "Setting channel info structure...\n",
      "Creating raw.info structure...\n",
      "Used Annotations descriptions: ['File Create', 'Recording ends', 'Recording starts', 'SE', 'end', 'start']\n",
      "68.01953125 + 84.01953125\n",
      ".\\SE_train\\Z黄金燕20220316.fif\n",
      "Writing E:\\jupyter file\\EEG_process\\SE_train\\Z黄金燕20220316.fif\n",
      "Closing E:\\jupyter file\\EEG_process\\SE_train\\Z黄金燕20220316.fif\n",
      "[done]\n",
      "Extracting EDF parameters from E:\\jupyter file\\第四批病人数据\\治疗脑电（第一批次）\\Z宋志辉202203018.edf...\n",
      "EDF file detected\n",
      "Setting channel info structure...\n",
      "Creating raw.info structure...\n",
      "Used Annotations descriptions: ['File Create', 'Recording ends', 'Recording starts', 'SE', 'end', 'start']\n",
      "Extracting EDF parameters from E:\\jupyter file\\第四批病人数据\\治疗脑电（第一批次）\\Z宋志辉202203018.edf...\n",
      "EDF file detected\n",
      "Setting channel info structure...\n",
      "Creating raw.info structure...\n",
      "Used Annotations descriptions: ['File Create', 'Recording ends', 'Recording starts', 'SE', 'end', 'start']\n"
     ]
    },
    {
     "name": "stderr",
     "output_type": "stream",
     "text": [
      "<ipython-input-11-4e4bdafa783c>:20: RuntimeWarning: This filename (E:\\jupyter file\\EEG_process\\SE_train\\Z黄金燕20220316.fif) does not conform to MNE naming conventions. All raw files should end with raw.fif, raw_sss.fif, raw_tsss.fif, _meg.fif, _eeg.fif, _ieeg.fif, raw.fif.gz, raw_sss.fif.gz, raw_tsss.fif.gz, _meg.fif.gz, _eeg.fif.gz or _ieeg.fif.gz\n",
      "  raw.save(path_name,picks,start_time,end_time,overwrite=True)\n"
     ]
    },
    {
     "name": "stdout",
     "output_type": "stream",
     "text": [
      "1893.5009765625 + 1909.5009765625\n",
      ".\\SE_train\\Z宋志辉202203018.fif\n",
      "Writing E:\\jupyter file\\EEG_process\\SE_train\\Z宋志辉202203018.fif\n",
      "Closing E:\\jupyter file\\EEG_process\\SE_train\\Z宋志辉202203018.fif\n",
      "[done]\n",
      "Extracting EDF parameters from E:\\jupyter file\\第四批病人数据\\治疗脑电（第一批次）\\Z宋志辉202203021.edf...\n",
      "EDF file detected\n",
      "Setting channel info structure...\n",
      "Creating raw.info structure...\n",
      "Used Annotations descriptions: ['File Create', 'Recording ends', 'Recording starts', 'SE', 'start']\n",
      "Extracting EDF parameters from E:\\jupyter file\\第四批病人数据\\治疗脑电（第一批次）\\Z宋志辉202203021.edf...\n",
      "EDF file detected\n",
      "Setting channel info structure...\n",
      "Creating raw.info structure...\n",
      "Used Annotations descriptions: ['File Create', 'Recording ends', 'Recording starts', 'SE', 'start']\n",
      "44.09375 + 60.09375\n",
      ".\\SE_train\\Z宋志辉202203021.fif\n"
     ]
    },
    {
     "name": "stderr",
     "output_type": "stream",
     "text": [
      "<ipython-input-11-4e4bdafa783c>:20: RuntimeWarning: This filename (E:\\jupyter file\\EEG_process\\SE_train\\Z宋志辉202203018.fif) does not conform to MNE naming conventions. All raw files should end with raw.fif, raw_sss.fif, raw_tsss.fif, _meg.fif, _eeg.fif, _ieeg.fif, raw.fif.gz, raw_sss.fif.gz, raw_tsss.fif.gz, _meg.fif.gz, _eeg.fif.gz or _ieeg.fif.gz\n",
      "  raw.save(path_name,picks,start_time,end_time,overwrite=True)\n",
      "<ipython-input-11-4e4bdafa783c>:20: RuntimeWarning: This filename (E:\\jupyter file\\EEG_process\\SE_train\\Z宋志辉202203021.fif) does not conform to MNE naming conventions. All raw files should end with raw.fif, raw_sss.fif, raw_tsss.fif, _meg.fif, _eeg.fif, _ieeg.fif, raw.fif.gz, raw_sss.fif.gz, raw_tsss.fif.gz, _meg.fif.gz, _eeg.fif.gz or _ieeg.fif.gz\n",
      "  raw.save(path_name,picks,start_time,end_time,overwrite=True)\n"
     ]
    },
    {
     "name": "stdout",
     "output_type": "stream",
     "text": [
      "Writing E:\\jupyter file\\EEG_process\\SE_train\\Z宋志辉202203021.fif\n",
      "Closing E:\\jupyter file\\EEG_process\\SE_train\\Z宋志辉202203021.fif\n",
      "[done]\n",
      "Extracting EDF parameters from E:\\jupyter file\\第四批病人数据\\治疗脑电（第一批次）\\Z宋志辉202203023.edf...\n",
      "EDF file detected\n",
      "Setting channel info structure...\n",
      "Creating raw.info structure...\n",
      "Used Annotations descriptions: ['File Create', 'Recording ends', 'Recording starts', 'SE', 'end', 'start']\n",
      "Extracting EDF parameters from E:\\jupyter file\\第四批病人数据\\治疗脑电（第一批次）\\Z宋志辉202203023.edf...\n",
      "EDF file detected\n",
      "Setting channel info structure...\n",
      "Creating raw.info structure...\n",
      "Used Annotations descriptions: ['File Create', 'Recording ends', 'Recording starts', 'SE', 'end', 'start']\n",
      "111.634765625 + 127.634765625\n",
      ".\\SE_train\\Z宋志辉202203023.fif\n",
      "Writing E:\\jupyter file\\EEG_process\\SE_train\\Z宋志辉202203023.fif\n",
      "Closing E:\\jupyter file\\EEG_process\\SE_train\\Z宋志辉202203023.fif\n",
      "[done]\n",
      "Extracting EDF parameters from E:\\jupyter file\\第四批病人数据\\治疗脑电（第一批次）\\Z宋志辉202203025.edf...\n",
      "EDF file detected\n",
      "Setting channel info structure...\n",
      "Creating raw.info structure...\n",
      "Used Annotations descriptions: ['File Create', 'Recording ends', 'Recording starts', 'SE', 'end', 'start']\n",
      "Extracting EDF parameters from E:\\jupyter file\\第四批病人数据\\治疗脑电（第一批次）\\Z宋志辉202203025.edf...\n",
      "EDF file detected\n",
      "Setting channel info structure...\n",
      "Creating raw.info structure...\n",
      "Used Annotations descriptions: ['File Create', 'Recording ends', 'Recording starts', 'SE', 'end', 'start']\n",
      "30.1611328125 + 46.1611328125\n",
      ".\\SE_train\\Z宋志辉202203025.fif\n",
      "Writing E:\\jupyter file\\EEG_process\\SE_train\\Z宋志辉202203025.fif\n",
      "Closing E:\\jupyter file\\EEG_process\\SE_train\\Z宋志辉202203025.fif\n",
      "[done]\n",
      "Extracting EDF parameters from E:\\jupyter file\\第四批病人数据\\治疗脑电（第一批次）\\Z何富桂20220221.edf...\n",
      "EDF file detected\n",
      "Setting channel info structure...\n",
      "Creating raw.info structure...\n",
      "Used Annotations descriptions: ['File Create', 'Recording ends', 'Recording starts', 'SE', 'end', 'start']\n",
      "Extracting EDF parameters from E:\\jupyter file\\第四批病人数据\\治疗脑电（第一批次）\\Z何富桂20220221.edf...\n",
      "EDF file detected\n",
      "Setting channel info structure...\n",
      "Creating raw.info structure...\n",
      "Used Annotations descriptions: ['File Create', 'Recording ends', 'Recording starts', 'SE', 'end', 'start']\n",
      "8.7099609375 + 24.7099609375\n"
     ]
    },
    {
     "name": "stderr",
     "output_type": "stream",
     "text": [
      "<ipython-input-11-4e4bdafa783c>:20: RuntimeWarning: This filename (E:\\jupyter file\\EEG_process\\SE_train\\Z宋志辉202203023.fif) does not conform to MNE naming conventions. All raw files should end with raw.fif, raw_sss.fif, raw_tsss.fif, _meg.fif, _eeg.fif, _ieeg.fif, raw.fif.gz, raw_sss.fif.gz, raw_tsss.fif.gz, _meg.fif.gz, _eeg.fif.gz or _ieeg.fif.gz\n",
      "  raw.save(path_name,picks,start_time,end_time,overwrite=True)\n",
      "<ipython-input-11-4e4bdafa783c>:20: RuntimeWarning: This filename (E:\\jupyter file\\EEG_process\\SE_train\\Z宋志辉202203025.fif) does not conform to MNE naming conventions. All raw files should end with raw.fif, raw_sss.fif, raw_tsss.fif, _meg.fif, _eeg.fif, _ieeg.fif, raw.fif.gz, raw_sss.fif.gz, raw_tsss.fif.gz, _meg.fif.gz, _eeg.fif.gz or _ieeg.fif.gz\n",
      "  raw.save(path_name,picks,start_time,end_time,overwrite=True)\n"
     ]
    },
    {
     "name": "stdout",
     "output_type": "stream",
     "text": [
      ".\\SE_train\\Z何富桂20220221.fif\n",
      "Writing E:\\jupyter file\\EEG_process\\SE_train\\Z何富桂20220221.fif\n",
      "Closing E:\\jupyter file\\EEG_process\\SE_train\\Z何富桂20220221.fif\n",
      "[done]\n",
      "Extracting EDF parameters from E:\\jupyter file\\第四批病人数据\\治疗脑电（第一批次）\\Z何富桂20220225.edf...\n",
      "EDF file detected\n",
      "Setting channel info structure...\n",
      "Creating raw.info structure...\n",
      "Used Annotations descriptions: ['File Create', 'Recording ends', 'Recording starts', 'SE', 'end', 'start']\n",
      "Extracting EDF parameters from E:\\jupyter file\\第四批病人数据\\治疗脑电（第一批次）\\Z何富桂20220225.edf...\n",
      "EDF file detected\n",
      "Setting channel info structure...\n",
      "Creating raw.info structure...\n",
      "Used Annotations descriptions: ['File Create', 'Recording ends', 'Recording starts', 'SE', 'end', 'start']\n",
      "227.634765625 + 243.634765625\n",
      ".\\SE_train\\Z何富桂20220225.fif\n",
      "Writing E:\\jupyter file\\EEG_process\\SE_train\\Z何富桂20220225.fif\n"
     ]
    },
    {
     "name": "stderr",
     "output_type": "stream",
     "text": [
      "<ipython-input-11-4e4bdafa783c>:20: RuntimeWarning: This filename (E:\\jupyter file\\EEG_process\\SE_train\\Z何富桂20220221.fif) does not conform to MNE naming conventions. All raw files should end with raw.fif, raw_sss.fif, raw_tsss.fif, _meg.fif, _eeg.fif, _ieeg.fif, raw.fif.gz, raw_sss.fif.gz, raw_tsss.fif.gz, _meg.fif.gz, _eeg.fif.gz or _ieeg.fif.gz\n",
      "  raw.save(path_name,picks,start_time,end_time,overwrite=True)\n",
      "<ipython-input-11-4e4bdafa783c>:20: RuntimeWarning: This filename (E:\\jupyter file\\EEG_process\\SE_train\\Z何富桂20220225.fif) does not conform to MNE naming conventions. All raw files should end with raw.fif, raw_sss.fif, raw_tsss.fif, _meg.fif, _eeg.fif, _ieeg.fif, raw.fif.gz, raw_sss.fif.gz, raw_tsss.fif.gz, _meg.fif.gz, _eeg.fif.gz or _ieeg.fif.gz\n",
      "  raw.save(path_name,picks,start_time,end_time,overwrite=True)\n"
     ]
    },
    {
     "name": "stdout",
     "output_type": "stream",
     "text": [
      "Closing E:\\jupyter file\\EEG_process\\SE_train\\Z何富桂20220225.fif\n",
      "[done]\n",
      "Extracting EDF parameters from E:\\jupyter file\\第四批病人数据\\治疗脑电（第一批次）\\Z何富桂20220228.edf...\n",
      "EDF file detected\n",
      "Setting channel info structure...\n",
      "Creating raw.info structure...\n",
      "Used Annotations descriptions: ['File Create', 'Recording ends', 'Recording starts', 'SE', 'end', 'start']\n",
      "Extracting EDF parameters from E:\\jupyter file\\第四批病人数据\\治疗脑电（第一批次）\\Z何富桂20220228.edf...\n",
      "EDF file detected\n",
      "Setting channel info structure...\n",
      "Creating raw.info structure...\n",
      "Used Annotations descriptions: ['File Create', 'Recording ends', 'Recording starts', 'SE', 'end', 'start']\n",
      "10.33203125 + 26.33203125\n",
      ".\\SE_train\\Z何富桂20220228.fif\n",
      "Writing E:\\jupyter file\\EEG_process\\SE_train\\Z何富桂20220228.fif\n",
      "Closing E:\\jupyter file\\EEG_process\\SE_train\\Z何富桂20220228.fif\n",
      "[done]\n",
      "Extracting EDF parameters from E:\\jupyter file\\第四批病人数据\\治疗脑电（第一批次）\\Z何富桂20220302.edf...\n",
      "EDF file detected\n",
      "Setting channel info structure...\n",
      "Creating raw.info structure...\n",
      "Used Annotations descriptions: ['File Create', 'Recording ends', 'Recording starts', 'SE', 'end', 'start']\n",
      "Extracting EDF parameters from E:\\jupyter file\\第四批病人数据\\治疗脑电（第一批次）\\Z何富桂20220302.edf...\n",
      "EDF file detected\n",
      "Setting channel info structure...\n",
      "Creating raw.info structure...\n",
      "Used Annotations descriptions: ['File Create', 'Recording ends', 'Recording starts', 'SE', 'end', 'start']\n",
      "130.6416015625 + 146.6416015625\n",
      ".\\SE_train\\Z何富桂20220302.fif\n",
      "Writing E:\\jupyter file\\EEG_process\\SE_train\\Z何富桂20220302.fif\n",
      "Closing E:\\jupyter file\\EEG_process\\SE_train\\Z何富桂20220302.fif\n",
      "[done]\n",
      "Extracting EDF parameters from E:\\jupyter file\\第四批病人数据\\治疗脑电（第一批次）\\Z曾刚20220216.edf...\n",
      "EDF file detected\n",
      "Setting channel info structure...\n",
      "Creating raw.info structure...\n",
      "Used Annotations descriptions: ['File Create', 'Recording ends', 'Recording starts', 'SE', 'end', 'start']\n"
     ]
    },
    {
     "name": "stderr",
     "output_type": "stream",
     "text": [
      "<ipython-input-11-4e4bdafa783c>:20: RuntimeWarning: This filename (E:\\jupyter file\\EEG_process\\SE_train\\Z何富桂20220228.fif) does not conform to MNE naming conventions. All raw files should end with raw.fif, raw_sss.fif, raw_tsss.fif, _meg.fif, _eeg.fif, _ieeg.fif, raw.fif.gz, raw_sss.fif.gz, raw_tsss.fif.gz, _meg.fif.gz, _eeg.fif.gz or _ieeg.fif.gz\n",
      "  raw.save(path_name,picks,start_time,end_time,overwrite=True)\n",
      "<ipython-input-11-4e4bdafa783c>:20: RuntimeWarning: This filename (E:\\jupyter file\\EEG_process\\SE_train\\Z何富桂20220302.fif) does not conform to MNE naming conventions. All raw files should end with raw.fif, raw_sss.fif, raw_tsss.fif, _meg.fif, _eeg.fif, _ieeg.fif, raw.fif.gz, raw_sss.fif.gz, raw_tsss.fif.gz, _meg.fif.gz, _eeg.fif.gz or _ieeg.fif.gz\n",
      "  raw.save(path_name,picks,start_time,end_time,overwrite=True)\n"
     ]
    },
    {
     "name": "stdout",
     "output_type": "stream",
     "text": [
      "Extracting EDF parameters from E:\\jupyter file\\第四批病人数据\\治疗脑电（第一批次）\\Z曾刚20220216.edf...\n",
      "EDF file detected\n",
      "Setting channel info structure...\n",
      "Creating raw.info structure...\n",
      "Used Annotations descriptions: ['File Create', 'Recording ends', 'Recording starts', 'SE', 'end', 'start']\n",
      "37.7734375 + 53.7734375\n",
      ".\\SE_test\\Z曾刚20220216.fif\n",
      "Writing E:\\jupyter file\\EEG_process\\SE_test\\Z曾刚20220216.fif\n",
      "Closing E:\\jupyter file\\EEG_process\\SE_test\\Z曾刚20220216.fif\n",
      "[done]\n",
      "Extracting EDF parameters from E:\\jupyter file\\第四批病人数据\\治疗脑电（第一批次）\\Z曾刚20220218（未发作）.edf...\n",
      "EDF file detected\n",
      "Setting channel info structure...\n",
      "Creating raw.info structure...\n",
      "Used Annotations descriptions: ['File Create', 'Recording ends', 'Recording starts', 'SE']\n",
      "Extracting EDF parameters from E:\\jupyter file\\第四批病人数据\\治疗脑电（第一批次）\\Z曾刚20220218（未发作）.edf...\n",
      "EDF file detected\n",
      "Setting channel info structure...\n",
      "Creating raw.info structure...\n",
      "Used Annotations descriptions: ['File Create', 'Recording ends', 'Recording starts', 'SE']\n"
     ]
    },
    {
     "name": "stderr",
     "output_type": "stream",
     "text": [
      "<ipython-input-11-4e4bdafa783c>:20: RuntimeWarning: This filename (E:\\jupyter file\\EEG_process\\SE_test\\Z曾刚20220216.fif) does not conform to MNE naming conventions. All raw files should end with raw.fif, raw_sss.fif, raw_tsss.fif, _meg.fif, _eeg.fif, _ieeg.fif, raw.fif.gz, raw_sss.fif.gz, raw_tsss.fif.gz, _meg.fif.gz, _eeg.fif.gz or _ieeg.fif.gz\n",
      "  raw.save(path_name,picks,start_time,end_time,overwrite=True)\n",
      "<ipython-input-11-4e4bdafa783c>:20: RuntimeWarning: This filename (E:\\jupyter file\\EEG_process\\SE_test\\Z曾刚20220218（未发作）.fif) does not conform to MNE naming conventions. All raw files should end with raw.fif, raw_sss.fif, raw_tsss.fif, _meg.fif, _eeg.fif, _ieeg.fif, raw.fif.gz, raw_sss.fif.gz, raw_tsss.fif.gz, _meg.fif.gz, _eeg.fif.gz or _ieeg.fif.gz\n",
      "  raw.save(path_name,picks,start_time,end_time,overwrite=True)\n"
     ]
    },
    {
     "name": "stdout",
     "output_type": "stream",
     "text": [
      "214.76953125 + 230.76953125\n",
      ".\\SE_test\\Z曾刚20220218（未发作）.fif\n",
      "Writing E:\\jupyter file\\EEG_process\\SE_test\\Z曾刚20220218（未发作）.fif\n",
      "Closing E:\\jupyter file\\EEG_process\\SE_test\\Z曾刚20220218（未发作）.fif\n",
      "[done]\n",
      "Extracting EDF parameters from E:\\jupyter file\\第四批病人数据\\治疗脑电（第一批次）\\Z曾刚20220221.edf...\n",
      "EDF file detected\n",
      "Setting channel info structure...\n",
      "Creating raw.info structure...\n",
      "Used Annotations descriptions: ['File Create', 'Recording ends', 'Recording starts', 'SE', 'end', 'start']\n",
      "Extracting EDF parameters from E:\\jupyter file\\第四批病人数据\\治疗脑电（第一批次）\\Z曾刚20220221.edf...\n",
      "EDF file detected\n",
      "Setting channel info structure...\n",
      "Creating raw.info structure...\n",
      "Used Annotations descriptions: ['File Create', 'Recording ends', 'Recording starts', 'SE', 'end', 'start']\n",
      "17.3896484375 + 33.3896484375\n",
      ".\\SE_test\\Z曾刚20220221.fif\n",
      "Writing E:\\jupyter file\\EEG_process\\SE_test\\Z曾刚20220221.fif\n",
      "Closing E:\\jupyter file\\EEG_process\\SE_test\\Z曾刚20220221.fif\n",
      "[done]\n",
      "Extracting EDF parameters from E:\\jupyter file\\第四批病人数据\\治疗脑电（第一批次）\\Z曾刚20220223.edf...\n",
      "EDF file detected\n",
      "Setting channel info structure...\n",
      "Creating raw.info structure...\n",
      "Used Annotations descriptions: ['File Create', 'Recording ends', 'Recording starts', 'SE', 'end', 'start']\n",
      "Extracting EDF parameters from E:\\jupyter file\\第四批病人数据\\治疗脑电（第一批次）\\Z曾刚20220223.edf...\n",
      "EDF file detected\n",
      "Setting channel info structure...\n",
      "Creating raw.info structure...\n",
      "Used Annotations descriptions: ['File Create', 'Recording ends', 'Recording starts', 'SE', 'end', 'start']\n",
      "68.623046875 + 84.623046875\n",
      ".\\SE_test\\Z曾刚20220223.fif\n",
      "Writing E:\\jupyter file\\EEG_process\\SE_test\\Z曾刚20220223.fif\n",
      "Closing E:\\jupyter file\\EEG_process\\SE_test\\Z曾刚20220223.fif\n",
      "[done]\n",
      "Extracting EDF parameters from E:\\jupyter file\\第四批病人数据\\治疗脑电（第一批次）\\Z赵丽兰20220225.edf...\n",
      "EDF file detected\n",
      "Setting channel info structure...\n",
      "Creating raw.info structure...\n",
      "Used Annotations descriptions: ['File Create', 'Recording ends', 'Recording starts', 'SE', 'end', 'start']\n"
     ]
    },
    {
     "name": "stderr",
     "output_type": "stream",
     "text": [
      "<ipython-input-11-4e4bdafa783c>:20: RuntimeWarning: This filename (E:\\jupyter file\\EEG_process\\SE_test\\Z曾刚20220221.fif) does not conform to MNE naming conventions. All raw files should end with raw.fif, raw_sss.fif, raw_tsss.fif, _meg.fif, _eeg.fif, _ieeg.fif, raw.fif.gz, raw_sss.fif.gz, raw_tsss.fif.gz, _meg.fif.gz, _eeg.fif.gz or _ieeg.fif.gz\n",
      "  raw.save(path_name,picks,start_time,end_time,overwrite=True)\n",
      "<ipython-input-11-4e4bdafa783c>:20: RuntimeWarning: This filename (E:\\jupyter file\\EEG_process\\SE_test\\Z曾刚20220223.fif) does not conform to MNE naming conventions. All raw files should end with raw.fif, raw_sss.fif, raw_tsss.fif, _meg.fif, _eeg.fif, _ieeg.fif, raw.fif.gz, raw_sss.fif.gz, raw_tsss.fif.gz, _meg.fif.gz, _eeg.fif.gz or _ieeg.fif.gz\n",
      "  raw.save(path_name,picks,start_time,end_time,overwrite=True)\n"
     ]
    },
    {
     "name": "stdout",
     "output_type": "stream",
     "text": [
      "Extracting EDF parameters from E:\\jupyter file\\第四批病人数据\\治疗脑电（第一批次）\\Z赵丽兰20220225.edf...\n",
      "EDF file detected\n",
      "Setting channel info structure...\n",
      "Creating raw.info structure...\n",
      "Used Annotations descriptions: ['File Create', 'Recording ends', 'Recording starts', 'SE', 'end', 'start']\n",
      "4.759765625 + 20.759765625\n",
      ".\\SE_test\\Z赵丽兰20220225.fif\n",
      "Writing E:\\jupyter file\\EEG_process\\SE_test\\Z赵丽兰20220225.fif\n",
      "Closing E:\\jupyter file\\EEG_process\\SE_test\\Z赵丽兰20220225.fif\n",
      "[done]\n",
      "Extracting EDF parameters from E:\\jupyter file\\第四批病人数据\\治疗脑电（第一批次）\\Z赵丽兰20220228.edf...\n",
      "EDF file detected\n",
      "Setting channel info structure...\n",
      "Creating raw.info structure...\n",
      "Used Annotations descriptions: ['File Create', 'Recording ends', 'Recording starts', 'SE', 'end', 'start']\n",
      "Extracting EDF parameters from E:\\jupyter file\\第四批病人数据\\治疗脑电（第一批次）\\Z赵丽兰20220228.edf...\n",
      "EDF file detected\n",
      "Setting channel info structure...\n",
      "Creating raw.info structure...\n",
      "Used Annotations descriptions: ['File Create', 'Recording ends', 'Recording starts', 'SE', 'end', 'start']\n",
      "24.6328125 + 40.6328125\n",
      ".\\SE_test\\Z赵丽兰20220228.fif\n",
      "Writing E:\\jupyter file\\EEG_process\\SE_test\\Z赵丽兰20220228.fif\n",
      "Closing E:\\jupyter file\\EEG_process\\SE_test\\Z赵丽兰20220228.fif\n",
      "[done]\n",
      "Extracting EDF parameters from E:\\jupyter file\\第四批病人数据\\治疗脑电（第一批次）\\Z赵丽兰20220302.edf...\n",
      "EDF file detected\n",
      "Setting channel info structure...\n",
      "Creating raw.info structure...\n",
      "Used Annotations descriptions: ['File Create', 'Recording ends', 'Recording starts', 'SE', 'end', 'start']\n",
      "Extracting EDF parameters from E:\\jupyter file\\第四批病人数据\\治疗脑电（第一批次）\\Z赵丽兰20220302.edf...\n",
      "EDF file detected\n",
      "Setting channel info structure...\n",
      "Creating raw.info structure...\n",
      "Used Annotations descriptions: ['File Create', 'Recording ends', 'Recording starts', 'SE', 'end', 'start']\n",
      "4.337890625 + 20.337890625\n"
     ]
    },
    {
     "name": "stderr",
     "output_type": "stream",
     "text": [
      "<ipython-input-11-4e4bdafa783c>:20: RuntimeWarning: This filename (E:\\jupyter file\\EEG_process\\SE_test\\Z赵丽兰20220225.fif) does not conform to MNE naming conventions. All raw files should end with raw.fif, raw_sss.fif, raw_tsss.fif, _meg.fif, _eeg.fif, _ieeg.fif, raw.fif.gz, raw_sss.fif.gz, raw_tsss.fif.gz, _meg.fif.gz, _eeg.fif.gz or _ieeg.fif.gz\n",
      "  raw.save(path_name,picks,start_time,end_time,overwrite=True)\n",
      "<ipython-input-11-4e4bdafa783c>:20: RuntimeWarning: This filename (E:\\jupyter file\\EEG_process\\SE_test\\Z赵丽兰20220228.fif) does not conform to MNE naming conventions. All raw files should end with raw.fif, raw_sss.fif, raw_tsss.fif, _meg.fif, _eeg.fif, _ieeg.fif, raw.fif.gz, raw_sss.fif.gz, raw_tsss.fif.gz, _meg.fif.gz, _eeg.fif.gz or _ieeg.fif.gz\n",
      "  raw.save(path_name,picks,start_time,end_time,overwrite=True)\n"
     ]
    },
    {
     "name": "stdout",
     "output_type": "stream",
     "text": [
      ".\\SE_test\\Z赵丽兰20220302.fif\n",
      "Writing E:\\jupyter file\\EEG_process\\SE_test\\Z赵丽兰20220302.fif\n",
      "Closing E:\\jupyter file\\EEG_process\\SE_test\\Z赵丽兰20220302.fif\n",
      "[done]\n",
      "Extracting EDF parameters from E:\\jupyter file\\第四批病人数据\\治疗脑电（第一批次）\\Z赵丽兰20220304.edf...\n",
      "EDF file detected\n",
      "Setting channel info structure...\n",
      "Creating raw.info structure...\n",
      "Used Annotations descriptions: ['File Create', 'Recording ends', 'Recording starts', 'SE', 'end', 'start']\n",
      "Extracting EDF parameters from E:\\jupyter file\\第四批病人数据\\治疗脑电（第一批次）\\Z赵丽兰20220304.edf...\n",
      "EDF file detected\n",
      "Setting channel info structure...\n",
      "Creating raw.info structure...\n",
      "Used Annotations descriptions: ['File Create', 'Recording ends', 'Recording starts', 'SE', 'end', 'start']\n",
      "2.7138671875 + 18.7138671875\n",
      ".\\SE_test\\Z赵丽兰20220304.fif\n",
      "Writing E:\\jupyter file\\EEG_process\\SE_test\\Z赵丽兰20220304.fif\n",
      "Closing E:\\jupyter file\\EEG_process\\SE_test\\Z赵丽兰20220304.fif\n",
      "[done]\n",
      "Extracting EDF parameters from E:\\jupyter file\\第四批病人数据\\治疗脑电（第一批次）\\Z张璐20220225.edf...\n",
      "EDF file detected\n",
      "Setting channel info structure...\n",
      "Creating raw.info structure...\n",
      "Used Annotations descriptions: ['File Create', 'Recording ends', 'Recording starts', 'SE', 'end', 'start']\n",
      "Extracting EDF parameters from E:\\jupyter file\\第四批病人数据\\治疗脑电（第一批次）\\Z张璐20220225.edf...\n",
      "EDF file detected\n",
      "Setting channel info structure...\n",
      "Creating raw.info structure...\n"
     ]
    },
    {
     "name": "stderr",
     "output_type": "stream",
     "text": [
      "<ipython-input-11-4e4bdafa783c>:20: RuntimeWarning: This filename (E:\\jupyter file\\EEG_process\\SE_test\\Z赵丽兰20220302.fif) does not conform to MNE naming conventions. All raw files should end with raw.fif, raw_sss.fif, raw_tsss.fif, _meg.fif, _eeg.fif, _ieeg.fif, raw.fif.gz, raw_sss.fif.gz, raw_tsss.fif.gz, _meg.fif.gz, _eeg.fif.gz or _ieeg.fif.gz\n",
      "  raw.save(path_name,picks,start_time,end_time,overwrite=True)\n",
      "<ipython-input-11-4e4bdafa783c>:20: RuntimeWarning: This filename (E:\\jupyter file\\EEG_process\\SE_test\\Z赵丽兰20220304.fif) does not conform to MNE naming conventions. All raw files should end with raw.fif, raw_sss.fif, raw_tsss.fif, _meg.fif, _eeg.fif, _ieeg.fif, raw.fif.gz, raw_sss.fif.gz, raw_tsss.fif.gz, _meg.fif.gz, _eeg.fif.gz or _ieeg.fif.gz\n",
      "  raw.save(path_name,picks,start_time,end_time,overwrite=True)\n"
     ]
    },
    {
     "name": "stdout",
     "output_type": "stream",
     "text": [
      "Used Annotations descriptions: ['File Create', 'Recording ends', 'Recording starts', 'SE', 'end', 'start']\n",
      "24.576171875 + 40.576171875\n",
      ".\\SE_test\\Z张璐20220225.fif\n",
      "Writing E:\\jupyter file\\EEG_process\\SE_test\\Z张璐20220225.fif\n",
      "Closing E:\\jupyter file\\EEG_process\\SE_test\\Z张璐20220225.fif\n",
      "[done]\n",
      "Extracting EDF parameters from E:\\jupyter file\\第四批病人数据\\治疗脑电（第一批次）\\Z张璐20220228.edf...\n",
      "EDF file detected\n",
      "Setting channel info structure...\n",
      "Creating raw.info structure...\n",
      "Used Annotations descriptions: ['File Create', 'Recording ends', 'Recording starts', 'SE', 'end', 'start']\n",
      "Extracting EDF parameters from E:\\jupyter file\\第四批病人数据\\治疗脑电（第一批次）\\Z张璐20220228.edf...\n",
      "EDF file detected\n",
      "Setting channel info structure...\n",
      "Creating raw.info structure...\n",
      "Used Annotations descriptions: ['File Create', 'Recording ends', 'Recording starts', 'SE', 'end', 'start']\n",
      "185.3232421875 + 201.3232421875\n",
      ".\\SE_test\\Z张璐20220228.fif\n",
      "Writing E:\\jupyter file\\EEG_process\\SE_test\\Z张璐20220228.fif\n",
      "Closing E:\\jupyter file\\EEG_process\\SE_test\\Z张璐20220228.fif\n"
     ]
    },
    {
     "name": "stderr",
     "output_type": "stream",
     "text": [
      "<ipython-input-11-4e4bdafa783c>:20: RuntimeWarning: This filename (E:\\jupyter file\\EEG_process\\SE_test\\Z张璐20220225.fif) does not conform to MNE naming conventions. All raw files should end with raw.fif, raw_sss.fif, raw_tsss.fif, _meg.fif, _eeg.fif, _ieeg.fif, raw.fif.gz, raw_sss.fif.gz, raw_tsss.fif.gz, _meg.fif.gz, _eeg.fif.gz or _ieeg.fif.gz\n",
      "  raw.save(path_name,picks,start_time,end_time,overwrite=True)\n",
      "<ipython-input-11-4e4bdafa783c>:20: RuntimeWarning: This filename (E:\\jupyter file\\EEG_process\\SE_test\\Z张璐20220228.fif) does not conform to MNE naming conventions. All raw files should end with raw.fif, raw_sss.fif, raw_tsss.fif, _meg.fif, _eeg.fif, _ieeg.fif, raw.fif.gz, raw_sss.fif.gz, raw_tsss.fif.gz, _meg.fif.gz, _eeg.fif.gz or _ieeg.fif.gz\n",
      "  raw.save(path_name,picks,start_time,end_time,overwrite=True)\n"
     ]
    },
    {
     "name": "stdout",
     "output_type": "stream",
     "text": [
      "[done]\n",
      "Extracting EDF parameters from E:\\jupyter file\\第四批病人数据\\治疗脑电（第一批次）\\Z张璐20220302.edf...\n",
      "EDF file detected\n",
      "Setting channel info structure...\n",
      "Creating raw.info structure...\n",
      "Used Annotations descriptions: ['File Create', 'Recording ends', 'Recording starts', 'SE']\n",
      "Extracting EDF parameters from E:\\jupyter file\\第四批病人数据\\治疗脑电（第一批次）\\Z张璐20220302.edf...\n",
      "EDF file detected\n",
      "Setting channel info structure...\n",
      "Creating raw.info structure...\n",
      "Used Annotations descriptions: ['File Create', 'Recording ends', 'Recording starts', 'SE']\n",
      "21.837890625 + 37.837890625\n",
      ".\\SE_test\\Z张璐20220302.fif\n",
      "Writing E:\\jupyter file\\EEG_process\\SE_test\\Z张璐20220302.fif\n",
      "Closing E:\\jupyter file\\EEG_process\\SE_test\\Z张璐20220302.fif\n",
      "[done]\n",
      "Extracting EDF parameters from E:\\jupyter file\\第四批病人数据\\治疗脑电（第一批次）\\Z张璐20220304.edf...\n",
      "EDF file detected\n",
      "Setting channel info structure...\n",
      "Creating raw.info structure...\n",
      "Used Annotations descriptions: ['File Create', 'Recording ends', 'Recording starts', 'end', 'start']\n",
      "Extracting EDF parameters from E:\\jupyter file\\第四批病人数据\\治疗脑电（第一批次）\\Z肖星星202203025.edf...\n",
      "EDF file detected\n",
      "Setting channel info structure...\n",
      "Creating raw.info structure...\n",
      "Used Annotations descriptions: ['File Create', 'Recording ends', 'Recording starts', 'SE', 'end', 'start']\n",
      "Extracting EDF parameters from E:\\jupyter file\\第四批病人数据\\治疗脑电（第一批次）\\Z肖星星202203025.edf...\n",
      "EDF file detected\n",
      "Setting channel info structure...\n",
      "Creating raw.info structure...\n",
      "Used Annotations descriptions: ['File Create', 'Recording ends', 'Recording starts', 'SE', 'end', 'start']\n",
      "376.7578125 + 392.7578125\n"
     ]
    },
    {
     "name": "stderr",
     "output_type": "stream",
     "text": [
      "<ipython-input-11-4e4bdafa783c>:20: RuntimeWarning: This filename (E:\\jupyter file\\EEG_process\\SE_test\\Z张璐20220302.fif) does not conform to MNE naming conventions. All raw files should end with raw.fif, raw_sss.fif, raw_tsss.fif, _meg.fif, _eeg.fif, _ieeg.fif, raw.fif.gz, raw_sss.fif.gz, raw_tsss.fif.gz, _meg.fif.gz, _eeg.fif.gz or _ieeg.fif.gz\n",
      "  raw.save(path_name,picks,start_time,end_time,overwrite=True)\n"
     ]
    },
    {
     "name": "stdout",
     "output_type": "stream",
     "text": [
      ".\\SE_test\\Z肖星星202203025.fif\n",
      "Writing E:\\jupyter file\\EEG_process\\SE_test\\Z肖星星202203025.fif\n",
      "Closing E:\\jupyter file\\EEG_process\\SE_test\\Z肖星星202203025.fif\n",
      "[done]\n",
      "Extracting EDF parameters from E:\\jupyter file\\第四批病人数据\\治疗脑电（第一批次）\\Z肖星星202203028.edf...\n",
      "EDF file detected\n",
      "Setting channel info structure...\n",
      "Creating raw.info structure...\n",
      "Used Annotations descriptions: ['File Create', 'Recording ends', 'Recording starts', 'SE', 'end', 'start']\n",
      "Extracting EDF parameters from E:\\jupyter file\\第四批病人数据\\治疗脑电（第一批次）\\Z肖星星202203028.edf...\n",
      "EDF file detected\n",
      "Setting channel info structure...\n",
      "Creating raw.info structure...\n",
      "Used Annotations descriptions: ['File Create', 'Recording ends', 'Recording starts', 'SE', 'end', 'start']\n",
      "70.6962890625 + 86.6962890625\n",
      ".\\SE_test\\Z肖星星202203028.fif\n",
      "Writing E:\\jupyter file\\EEG_process\\SE_test\\Z肖星星202203028.fif\n",
      "Closing E:\\jupyter file\\EEG_process\\SE_test\\Z肖星星202203028.fif\n",
      "[done]\n",
      "Extracting EDF parameters from E:\\jupyter file\\第四批病人数据\\治疗脑电（第一批次）\\Z肖星星202203030（未发作）.edf...\n",
      "EDF file detected\n",
      "Setting channel info structure...\n",
      "Creating raw.info structure...\n",
      "Used Annotations descriptions: ['File Create', 'Recording ends', 'Recording starts', 'SE']\n"
     ]
    },
    {
     "name": "stderr",
     "output_type": "stream",
     "text": [
      "<ipython-input-11-4e4bdafa783c>:20: RuntimeWarning: This filename (E:\\jupyter file\\EEG_process\\SE_test\\Z肖星星202203025.fif) does not conform to MNE naming conventions. All raw files should end with raw.fif, raw_sss.fif, raw_tsss.fif, _meg.fif, _eeg.fif, _ieeg.fif, raw.fif.gz, raw_sss.fif.gz, raw_tsss.fif.gz, _meg.fif.gz, _eeg.fif.gz or _ieeg.fif.gz\n",
      "  raw.save(path_name,picks,start_time,end_time,overwrite=True)\n",
      "<ipython-input-11-4e4bdafa783c>:20: RuntimeWarning: This filename (E:\\jupyter file\\EEG_process\\SE_test\\Z肖星星202203028.fif) does not conform to MNE naming conventions. All raw files should end with raw.fif, raw_sss.fif, raw_tsss.fif, _meg.fif, _eeg.fif, _ieeg.fif, raw.fif.gz, raw_sss.fif.gz, raw_tsss.fif.gz, _meg.fif.gz, _eeg.fif.gz or _ieeg.fif.gz\n",
      "  raw.save(path_name,picks,start_time,end_time,overwrite=True)\n"
     ]
    },
    {
     "name": "stdout",
     "output_type": "stream",
     "text": [
      "Extracting EDF parameters from E:\\jupyter file\\第四批病人数据\\治疗脑电（第一批次）\\Z肖星星202203030（未发作）.edf...\n",
      "EDF file detected\n",
      "Setting channel info structure...\n",
      "Creating raw.info structure...\n",
      "Used Annotations descriptions: ['File Create', 'Recording ends', 'Recording starts', 'SE']\n",
      "18.6865234375 + 34.6865234375\n",
      ".\\SE_test\\Z肖星星202203030（未发作）.fif\n",
      "Writing E:\\jupyter file\\EEG_process\\SE_test\\Z肖星星202203030（未发作）.fif\n",
      "Closing E:\\jupyter file\\EEG_process\\SE_test\\Z肖星星202203030（未发作）.fif\n",
      "[done]\n",
      "Extracting EDF parameters from E:\\jupyter file\\第四批病人数据\\治疗脑电（第一批次）\\Z肖星星20220401.edf...\n",
      "EDF file detected\n",
      "Setting channel info structure...\n",
      "Creating raw.info structure...\n",
      "Used Annotations descriptions: ['File Create', 'Recording ends', 'Recording starts', 'SE', 'end', 'start']\n",
      "Extracting EDF parameters from E:\\jupyter file\\第四批病人数据\\治疗脑电（第一批次）\\Z肖星星20220401.edf...\n",
      "EDF file detected\n",
      "Setting channel info structure...\n",
      "Creating raw.info structure...\n",
      "Used Annotations descriptions: ['File Create', 'Recording ends', 'Recording starts', 'SE', 'end', 'start']\n",
      "82.1650390625 + 98.1650390625\n",
      ".\\SE_test\\Z肖星星20220401.fif\n",
      "Writing E:\\jupyter file\\EEG_process\\SE_test\\Z肖星星20220401.fif\n",
      "Closing E:\\jupyter file\\EEG_process\\SE_test\\Z肖星星20220401.fif\n",
      "[done]\n"
     ]
    },
    {
     "name": "stderr",
     "output_type": "stream",
     "text": [
      "<ipython-input-11-4e4bdafa783c>:20: RuntimeWarning: This filename (E:\\jupyter file\\EEG_process\\SE_test\\Z肖星星202203030（未发作）.fif) does not conform to MNE naming conventions. All raw files should end with raw.fif, raw_sss.fif, raw_tsss.fif, _meg.fif, _eeg.fif, _ieeg.fif, raw.fif.gz, raw_sss.fif.gz, raw_tsss.fif.gz, _meg.fif.gz, _eeg.fif.gz or _ieeg.fif.gz\n",
      "  raw.save(path_name,picks,start_time,end_time,overwrite=True)\n",
      "<ipython-input-11-4e4bdafa783c>:20: RuntimeWarning: This filename (E:\\jupyter file\\EEG_process\\SE_test\\Z肖星星20220401.fif) does not conform to MNE naming conventions. All raw files should end with raw.fif, raw_sss.fif, raw_tsss.fif, _meg.fif, _eeg.fif, _ieeg.fif, raw.fif.gz, raw_sss.fif.gz, raw_tsss.fif.gz, _meg.fif.gz, _eeg.fif.gz or _ieeg.fif.gz\n",
      "  raw.save(path_name,picks,start_time,end_time,overwrite=True)\n"
     ]
    }
   ],
   "source": [
    "# 根据是否有SE标签进行切分\n",
    "# file_flag_list = []\n",
    "# for floder in therapy_file_path:\n",
    "#         for file_path in floder:\n",
    "#             if judgeflag(file_path,\"SE\"):\n",
    "#                 file_flag_list.append(1)\n",
    "#             else:\n",
    "#                 file_flag_list.append(0)\n",
    "\n",
    "file_without_se = []\n",
    "begin_test=False #为true时表示当前数据送入测试集\n",
    "last_patient_name='1'#赋一个没有意义的初值，防止初次比较，last_patient_name未定义\n",
    "train_patient_num=0 #送入训练集的患者人数，注意是人数而非数据数\n",
    "train_patient_num_required=20 #需要送入训练集的患者人数，此处为20\n",
    "for file_path in therapy_file_path:\n",
    "    cur_patient_name=file_path.replace('\\\\','/').split('/')[-1][1:4] #当前数据患者名\n",
    "    if (cur_patient_name!=last_patient_name):\n",
    "        train_patient_num+=1\n",
    "    last_patient_name=cur_patient_name #上一个数据患者名\n",
    "    if (train_patient_num>train_patient_num_required):\n",
    "        begin_test=True#如果已有20个患者，当前正在处理第21个患者，就使之后的患者数据送入测试集 \n",
    "    if judgeflag(file_path,\"SE\"):\n",
    "        get_se_epochs(file_path,begin_test)\n",
    "    else:\n",
    "        file_without_se.append(file_path)\n",
    "        "
   ]
  },
  {
   "cell_type": "code",
   "execution_count": 14,
   "id": "0c9bc011",
   "metadata": {},
   "outputs": [
    {
     "data": {
      "text/plain": [
       "['../第四批病人数据/治疗脑电（第一批次）\\\\Z肖智华20220307（未发作）.edf',\n",
       " '../第四批病人数据/治疗脑电（第一批次）\\\\Z林攀攀20220221（未发作）.edf',\n",
       " '../第四批病人数据/治疗脑电（第一批次）\\\\Z刘家瑞20220304.edf',\n",
       " '../第四批病人数据/治疗脑电（第一批次）\\\\Z张璐20220304.edf']"
      ]
     },
     "execution_count": 14,
     "metadata": {},
     "output_type": "execute_result"
    }
   ],
   "source": [
    "file_without_se"
   ]
  },
  {
   "cell_type": "code",
   "execution_count": 14,
   "id": "d9385190",
   "metadata": {},
   "outputs": [],
   "source": [
    "# file_name = [j for i in therapy_file_path for j in i]"
   ]
  },
  {
   "cell_type": "code",
   "execution_count": 15,
   "id": "85af64c1",
   "metadata": {},
   "outputs": [],
   "source": [
    "# for i in range(len(file_name)):\n",
    "#     print(file_name[i],\":\",file_flag_list[i])"
   ]
  },
  {
   "cell_type": "code",
   "execution_count": 24,
   "id": "369c9ecf",
   "metadata": {},
   "outputs": [
    {
     "name": "stdout",
     "output_type": "stream",
     "text": [
      "Extracting EDF parameters from E:\\jupyter file\\EEG_process\\病人数据-第三批\\治疗\\何凯\\20211213.edf...\n",
      "EDF file detected\n",
      "Setting channel info structure...\n",
      "Creating raw.info structure...\n",
      "Used Annotations descriptions: ['File Create', 'Recording ends', 'Recording starts', 'SE']\n",
      "11.3466796875 + 27.3466796875\n",
      ".\\se\\何凯20211213.fif\n",
      "Writing E:\\jupyter file\\EEG_process\\se\\何凯20211213.fif\n",
      "Closing E:\\jupyter file\\EEG_process\\se\\何凯20211213.fif\n",
      "[done]\n",
      "Extracting EDF parameters from E:\\jupyter file\\EEG_process\\病人数据-第三批\\治疗\\何凯\\20211215.edf...\n",
      "EDF file detected\n",
      "Setting channel info structure...\n",
      "Creating raw.info structure...\n",
      "Used Annotations descriptions: ['File Create', 'Recording ends', 'Recording starts', 'SE', 'end', 'start']\n",
      "2.5732421875 + 18.5732421875\n",
      ".\\se\\何凯20211215.fif\n",
      "Writing E:\\jupyter file\\EEG_process\\se\\何凯20211215.fif\n",
      "Closing E:\\jupyter file\\EEG_process\\se\\何凯20211215.fif\n",
      "[done]\n",
      "Extracting EDF parameters from E:\\jupyter file\\EEG_process\\病人数据-第三批\\治疗\\何凯\\20211217.edf...\n",
      "EDF file detected\n",
      "Setting channel info structure...\n",
      "Creating raw.info structure...\n",
      "Used Annotations descriptions: ['File Create', 'Recording ends', 'Recording starts', 'SE', 'end', 'start']\n"
     ]
    },
    {
     "name": "stderr",
     "output_type": "stream",
     "text": [
      "<ipython-input-19-426d102596f8>:17: RuntimeWarning: This filename (E:\\jupyter file\\EEG_process\\se\\何凯20211213.fif) does not conform to MNE naming conventions. All raw files should end with raw.fif, raw_sss.fif, raw_tsss.fif, _meg.fif, _eeg.fif, _ieeg.fif, raw.fif.gz, raw_sss.fif.gz, raw_tsss.fif.gz, _meg.fif.gz, _eeg.fif.gz or _ieeg.fif.gz\n",
      "  raw.save(path_name,picks,start_time,end_time)\n",
      "<ipython-input-19-426d102596f8>:17: RuntimeWarning: This filename (E:\\jupyter file\\EEG_process\\se\\何凯20211215.fif) does not conform to MNE naming conventions. All raw files should end with raw.fif, raw_sss.fif, raw_tsss.fif, _meg.fif, _eeg.fif, _ieeg.fif, raw.fif.gz, raw_sss.fif.gz, raw_tsss.fif.gz, _meg.fif.gz, _eeg.fif.gz or _ieeg.fif.gz\n",
      "  raw.save(path_name,picks,start_time,end_time)\n"
     ]
    },
    {
     "name": "stdout",
     "output_type": "stream",
     "text": [
      "65.8125 + 81.8125\n",
      ".\\se\\何凯20211217.fif\n",
      "Writing E:\\jupyter file\\EEG_process\\se\\何凯20211217.fif\n",
      "Closing E:\\jupyter file\\EEG_process\\se\\何凯20211217.fif\n",
      "[done]\n",
      "Extracting EDF parameters from E:\\jupyter file\\EEG_process\\病人数据-第三批\\治疗\\何凯\\20211220.edf...\n",
      "EDF file detected\n",
      "Setting channel info structure...\n",
      "Creating raw.info structure...\n",
      "Used Annotations descriptions: ['File Create', 'Recording ends', 'Recording starts', 'SE', 'end', 'start']\n",
      "26.875 + 42.875\n",
      ".\\se\\何凯20211220.fif\n",
      "Writing E:\\jupyter file\\EEG_process\\se\\何凯20211220.fif\n",
      "Closing E:\\jupyter file\\EEG_process\\se\\何凯20211220.fif\n",
      "[done]\n",
      "Extracting EDF parameters from E:\\jupyter file\\EEG_process\\病人数据-第三批\\治疗\\何凯\\20211222.edf...\n",
      "EDF file detected\n",
      "Setting channel info structure...\n"
     ]
    },
    {
     "name": "stderr",
     "output_type": "stream",
     "text": [
      "<ipython-input-19-426d102596f8>:17: RuntimeWarning: This filename (E:\\jupyter file\\EEG_process\\se\\何凯20211217.fif) does not conform to MNE naming conventions. All raw files should end with raw.fif, raw_sss.fif, raw_tsss.fif, _meg.fif, _eeg.fif, _ieeg.fif, raw.fif.gz, raw_sss.fif.gz, raw_tsss.fif.gz, _meg.fif.gz, _eeg.fif.gz or _ieeg.fif.gz\n",
      "  raw.save(path_name,picks,start_time,end_time)\n",
      "<ipython-input-19-426d102596f8>:17: RuntimeWarning: This filename (E:\\jupyter file\\EEG_process\\se\\何凯20211220.fif) does not conform to MNE naming conventions. All raw files should end with raw.fif, raw_sss.fif, raw_tsss.fif, _meg.fif, _eeg.fif, _ieeg.fif, raw.fif.gz, raw_sss.fif.gz, raw_tsss.fif.gz, _meg.fif.gz, _eeg.fif.gz or _ieeg.fif.gz\n",
      "  raw.save(path_name,picks,start_time,end_time)\n"
     ]
    },
    {
     "name": "stdout",
     "output_type": "stream",
     "text": [
      "Creating raw.info structure...\n",
      "Used Annotations descriptions: ['File Create', 'Recording ends', 'Recording starts', 'SE', 'end', 'start']\n",
      "2.4580078125 + 18.4580078125\n",
      ".\\se\\何凯20211222.fif\n",
      "Writing E:\\jupyter file\\EEG_process\\se\\何凯20211222.fif\n",
      "Closing E:\\jupyter file\\EEG_process\\se\\何凯20211222.fif\n",
      "[done]\n",
      "Extracting EDF parameters from E:\\jupyter file\\EEG_process\\病人数据-第三批\\治疗\\何凯\\20211224.edf...\n",
      "EDF file detected\n",
      "Setting channel info structure...\n",
      "Creating raw.info structure...\n",
      "Used Annotations descriptions: ['File Create', 'Recording ends', 'Recording starts', 'SE', 'end', 'start']\n",
      "64.2275390625 + 80.2275390625\n",
      ".\\se\\何凯20211224.fif\n",
      "Writing E:\\jupyter file\\EEG_process\\se\\何凯20211224.fif\n",
      "Closing E:\\jupyter file\\EEG_process\\se\\何凯20211224.fif\n",
      "[done]\n",
      "Extracting EDF parameters from E:\\jupyter file\\EEG_process\\病人数据-第三批\\治疗\\何凯\\20211227.edf...\n",
      "EDF file detected\n",
      "Setting channel info structure...\n",
      "Creating raw.info structure...\n",
      "Used Annotations descriptions: ['File Create', 'Recording ends', 'Recording starts', 'SE', 'end', 'start']\n"
     ]
    },
    {
     "name": "stderr",
     "output_type": "stream",
     "text": [
      "<ipython-input-19-426d102596f8>:17: RuntimeWarning: This filename (E:\\jupyter file\\EEG_process\\se\\何凯20211222.fif) does not conform to MNE naming conventions. All raw files should end with raw.fif, raw_sss.fif, raw_tsss.fif, _meg.fif, _eeg.fif, _ieeg.fif, raw.fif.gz, raw_sss.fif.gz, raw_tsss.fif.gz, _meg.fif.gz, _eeg.fif.gz or _ieeg.fif.gz\n",
      "  raw.save(path_name,picks,start_time,end_time)\n",
      "<ipython-input-19-426d102596f8>:17: RuntimeWarning: This filename (E:\\jupyter file\\EEG_process\\se\\何凯20211224.fif) does not conform to MNE naming conventions. All raw files should end with raw.fif, raw_sss.fif, raw_tsss.fif, _meg.fif, _eeg.fif, _ieeg.fif, raw.fif.gz, raw_sss.fif.gz, raw_tsss.fif.gz, _meg.fif.gz, _eeg.fif.gz or _ieeg.fif.gz\n",
      "  raw.save(path_name,picks,start_time,end_time)\n"
     ]
    },
    {
     "name": "stdout",
     "output_type": "stream",
     "text": [
      "154.3193359375 + 170.3193359375\n",
      ".\\se\\何凯20211227.fif\n",
      "Writing E:\\jupyter file\\EEG_process\\se\\何凯20211227.fif\n",
      "Closing E:\\jupyter file\\EEG_process\\se\\何凯20211227.fif\n",
      "[done]\n",
      "Extracting EDF parameters from E:\\jupyter file\\EEG_process\\病人数据-第三批\\治疗\\叶慧\\20211220.edf...\n",
      "EDF file detected\n",
      "Setting channel info structure...\n",
      "Creating raw.info structure...\n",
      "Used Annotations descriptions: ['Recording ends', 'Recording starts', 'SE', 'end', 'start']\n",
      "360.1240234375 + 376.1240234375\n"
     ]
    },
    {
     "name": "stderr",
     "output_type": "stream",
     "text": [
      "<ipython-input-19-426d102596f8>:17: RuntimeWarning: This filename (E:\\jupyter file\\EEG_process\\se\\何凯20211227.fif) does not conform to MNE naming conventions. All raw files should end with raw.fif, raw_sss.fif, raw_tsss.fif, _meg.fif, _eeg.fif, _ieeg.fif, raw.fif.gz, raw_sss.fif.gz, raw_tsss.fif.gz, _meg.fif.gz, _eeg.fif.gz or _ieeg.fif.gz\n",
      "  raw.save(path_name,picks,start_time,end_time)\n"
     ]
    },
    {
     "name": "stdout",
     "output_type": "stream",
     "text": [
      ".\\se\\叶慧20211220.fif\n",
      "Writing E:\\jupyter file\\EEG_process\\se\\叶慧20211220.fif\n",
      "Closing E:\\jupyter file\\EEG_process\\se\\叶慧20211220.fif\n",
      "[done]\n",
      "Extracting EDF parameters from E:\\jupyter file\\EEG_process\\病人数据-第三批\\治疗\\叶慧\\20211222.edf...\n",
      "EDF file detected\n",
      "Setting channel info structure...\n",
      "Creating raw.info structure...\n",
      "Used Annotations descriptions: ['File Create', 'Recording ends', 'Recording starts', 'SE', 'end', 'start']\n",
      "4.6962890625 + 20.6962890625\n",
      ".\\se\\叶慧20211222.fif\n",
      "Writing E:\\jupyter file\\EEG_process\\se\\叶慧20211222.fif\n",
      "Closing E:\\jupyter file\\EEG_process\\se\\叶慧20211222.fif\n",
      "[done]\n",
      "Extracting EDF parameters from E:\\jupyter file\\EEG_process\\病人数据-第三批\\治疗\\叶慧\\20211224.edf...\n",
      "EDF file detected\n",
      "Setting channel info structure...\n",
      "Creating raw.info structure...\n",
      "Used Annotations descriptions: ['File Create', 'Recording ends', 'Recording starts', 'SE']\n"
     ]
    },
    {
     "name": "stderr",
     "output_type": "stream",
     "text": [
      "<ipython-input-19-426d102596f8>:17: RuntimeWarning: This filename (E:\\jupyter file\\EEG_process\\se\\叶慧20211220.fif) does not conform to MNE naming conventions. All raw files should end with raw.fif, raw_sss.fif, raw_tsss.fif, _meg.fif, _eeg.fif, _ieeg.fif, raw.fif.gz, raw_sss.fif.gz, raw_tsss.fif.gz, _meg.fif.gz, _eeg.fif.gz or _ieeg.fif.gz\n",
      "  raw.save(path_name,picks,start_time,end_time)\n",
      "<ipython-input-19-426d102596f8>:17: RuntimeWarning: This filename (E:\\jupyter file\\EEG_process\\se\\叶慧20211222.fif) does not conform to MNE naming conventions. All raw files should end with raw.fif, raw_sss.fif, raw_tsss.fif, _meg.fif, _eeg.fif, _ieeg.fif, raw.fif.gz, raw_sss.fif.gz, raw_tsss.fif.gz, _meg.fif.gz, _eeg.fif.gz or _ieeg.fif.gz\n",
      "  raw.save(path_name,picks,start_time,end_time)\n"
     ]
    },
    {
     "name": "stdout",
     "output_type": "stream",
     "text": [
      "14.4365234375 + 30.4365234375\n",
      ".\\se\\叶慧20211224.fif\n",
      "Writing E:\\jupyter file\\EEG_process\\se\\叶慧20211224.fif\n",
      "Closing E:\\jupyter file\\EEG_process\\se\\叶慧20211224.fif\n",
      "[done]\n",
      "Extracting EDF parameters from E:\\jupyter file\\EEG_process\\病人数据-第三批\\治疗\\叶慧\\20211227.edf...\n",
      "EDF file detected\n",
      "Setting channel info structure...\n",
      "Creating raw.info structure...\n",
      "Used Annotations descriptions: ['File Create', 'Recording ends', 'Recording starts', 'SE', 'end', 'start']\n",
      "48.6484375 + 64.6484375\n",
      ".\\se\\叶慧20211227.fif\n",
      "Writing E:\\jupyter file\\EEG_process\\se\\叶慧20211227.fif\n",
      "Closing E:\\jupyter file\\EEG_process\\se\\叶慧20211227.fif\n",
      "[done]\n",
      "Extracting EDF parameters from E:\\jupyter file\\EEG_process\\病人数据-第三批\\治疗\\叶慧\\20211229.edf...\n",
      "EDF file detected\n",
      "Setting channel info structure...\n",
      "Creating raw.info structure...\n",
      "Used Annotations descriptions: ['File Create', 'Recording ends', 'Recording starts', 'SE', 'end', 'start']\n"
     ]
    },
    {
     "name": "stderr",
     "output_type": "stream",
     "text": [
      "<ipython-input-19-426d102596f8>:17: RuntimeWarning: This filename (E:\\jupyter file\\EEG_process\\se\\叶慧20211224.fif) does not conform to MNE naming conventions. All raw files should end with raw.fif, raw_sss.fif, raw_tsss.fif, _meg.fif, _eeg.fif, _ieeg.fif, raw.fif.gz, raw_sss.fif.gz, raw_tsss.fif.gz, _meg.fif.gz, _eeg.fif.gz or _ieeg.fif.gz\n",
      "  raw.save(path_name,picks,start_time,end_time)\n",
      "<ipython-input-19-426d102596f8>:17: RuntimeWarning: This filename (E:\\jupyter file\\EEG_process\\se\\叶慧20211227.fif) does not conform to MNE naming conventions. All raw files should end with raw.fif, raw_sss.fif, raw_tsss.fif, _meg.fif, _eeg.fif, _ieeg.fif, raw.fif.gz, raw_sss.fif.gz, raw_tsss.fif.gz, _meg.fif.gz, _eeg.fif.gz or _ieeg.fif.gz\n",
      "  raw.save(path_name,picks,start_time,end_time)\n"
     ]
    },
    {
     "name": "stdout",
     "output_type": "stream",
     "text": [
      "39.4072265625 + 55.4072265625\n",
      ".\\se\\叶慧20211229.fif\n",
      "Writing E:\\jupyter file\\EEG_process\\se\\叶慧20211229.fif\n",
      "Closing E:\\jupyter file\\EEG_process\\se\\叶慧20211229.fif\n",
      "[done]\n",
      "Extracting EDF parameters from E:\\jupyter file\\EEG_process\\病人数据-第三批\\治疗\\叶慧\\20211231（未发作）.edf...\n",
      "EDF file detected\n",
      "Setting channel info structure...\n",
      "Creating raw.info structure...\n",
      "Used Annotations descriptions: ['File Create', 'Recording ends', 'Recording starts', 'SE']\n",
      "239.861328125 + 255.861328125\n",
      ".\\se\\叶慧20211231（未发作）.fif\n",
      "Writing E:\\jupyter file\\EEG_process\\se\\叶慧20211231（未发作）.fif\n"
     ]
    },
    {
     "name": "stderr",
     "output_type": "stream",
     "text": [
      "<ipython-input-19-426d102596f8>:17: RuntimeWarning: This filename (E:\\jupyter file\\EEG_process\\se\\叶慧20211229.fif) does not conform to MNE naming conventions. All raw files should end with raw.fif, raw_sss.fif, raw_tsss.fif, _meg.fif, _eeg.fif, _ieeg.fif, raw.fif.gz, raw_sss.fif.gz, raw_tsss.fif.gz, _meg.fif.gz, _eeg.fif.gz or _ieeg.fif.gz\n",
      "  raw.save(path_name,picks,start_time,end_time)\n",
      "<ipython-input-19-426d102596f8>:17: RuntimeWarning: This filename (E:\\jupyter file\\EEG_process\\se\\叶慧20211231（未发作）.fif) does not conform to MNE naming conventions. All raw files should end with raw.fif, raw_sss.fif, raw_tsss.fif, _meg.fif, _eeg.fif, _ieeg.fif, raw.fif.gz, raw_sss.fif.gz, raw_tsss.fif.gz, _meg.fif.gz, _eeg.fif.gz or _ieeg.fif.gz\n",
      "  raw.save(path_name,picks,start_time,end_time)\n"
     ]
    },
    {
     "name": "stdout",
     "output_type": "stream",
     "text": [
      "Closing E:\\jupyter file\\EEG_process\\se\\叶慧20211231（未发作）.fif\n",
      "[done]\n",
      "Extracting EDF parameters from E:\\jupyter file\\EEG_process\\病人数据-第三批\\治疗\\叶慧\\20220105.edf...\n",
      "EDF file detected\n",
      "Setting channel info structure...\n",
      "Creating raw.info structure...\n",
      "Used Annotations descriptions: ['File Create', 'Recording ends', 'Recording starts', 'SE', 'end', 'start']\n",
      "204.5205078125 + 220.5205078125\n",
      ".\\se\\叶慧20220105.fif\n",
      "Writing E:\\jupyter file\\EEG_process\\se\\叶慧20220105.fif\n",
      "Closing E:\\jupyter file\\EEG_process\\se\\叶慧20220105.fif\n",
      "[done]\n",
      "Extracting EDF parameters from E:\\jupyter file\\EEG_process\\病人数据-第三批\\治疗\\姚宜珊\\20211210.edf...\n",
      "EDF file detected\n",
      "Setting channel info structure...\n",
      "Creating raw.info structure...\n",
      "Used Annotations descriptions: ['File Create', 'Recording ends', 'Recording starts', 'SE']\n"
     ]
    },
    {
     "name": "stderr",
     "output_type": "stream",
     "text": [
      "<ipython-input-19-426d102596f8>:17: RuntimeWarning: This filename (E:\\jupyter file\\EEG_process\\se\\叶慧20220105.fif) does not conform to MNE naming conventions. All raw files should end with raw.fif, raw_sss.fif, raw_tsss.fif, _meg.fif, _eeg.fif, _ieeg.fif, raw.fif.gz, raw_sss.fif.gz, raw_tsss.fif.gz, _meg.fif.gz, _eeg.fif.gz or _ieeg.fif.gz\n",
      "  raw.save(path_name,picks,start_time,end_time)\n"
     ]
    },
    {
     "name": "stdout",
     "output_type": "stream",
     "text": [
      "367.7392578125 + 383.7392578125\n",
      ".\\se\\姚宜珊20211210.fif\n",
      "Writing E:\\jupyter file\\EEG_process\\se\\姚宜珊20211210.fif\n",
      "Closing E:\\jupyter file\\EEG_process\\se\\姚宜珊20211210.fif\n",
      "[done]\n",
      "Extracting EDF parameters from E:\\jupyter file\\EEG_process\\病人数据-第三批\\治疗\\姚宜珊\\20211213.edf...\n",
      "EDF file detected\n",
      "Setting channel info structure...\n",
      "Creating raw.info structure...\n",
      "Used Annotations descriptions: ['File Create', 'Recording ends', 'Recording starts', 'SE', 'end', 'start']\n",
      "4.14453125 + 20.14453125\n",
      ".\\se\\姚宜珊20211213.fif\n",
      "Writing E:\\jupyter file\\EEG_process\\se\\姚宜珊20211213.fif\n",
      "Closing E:\\jupyter file\\EEG_process\\se\\姚宜珊20211213.fif\n",
      "[done]\n",
      "Extracting EDF parameters from E:\\jupyter file\\EEG_process\\病人数据-第三批\\治疗\\姚宜珊\\20211215.edf...\n",
      "EDF file detected\n",
      "Setting channel info structure...\n",
      "Creating raw.info structure...\n",
      "Used Annotations descriptions: ['File Create', 'Recording ends', 'Recording starts', 'SE', 'end', 'start']\n"
     ]
    },
    {
     "name": "stderr",
     "output_type": "stream",
     "text": [
      "<ipython-input-19-426d102596f8>:17: RuntimeWarning: This filename (E:\\jupyter file\\EEG_process\\se\\姚宜珊20211210.fif) does not conform to MNE naming conventions. All raw files should end with raw.fif, raw_sss.fif, raw_tsss.fif, _meg.fif, _eeg.fif, _ieeg.fif, raw.fif.gz, raw_sss.fif.gz, raw_tsss.fif.gz, _meg.fif.gz, _eeg.fif.gz or _ieeg.fif.gz\n",
      "  raw.save(path_name,picks,start_time,end_time)\n",
      "<ipython-input-19-426d102596f8>:17: RuntimeWarning: This filename (E:\\jupyter file\\EEG_process\\se\\姚宜珊20211213.fif) does not conform to MNE naming conventions. All raw files should end with raw.fif, raw_sss.fif, raw_tsss.fif, _meg.fif, _eeg.fif, _ieeg.fif, raw.fif.gz, raw_sss.fif.gz, raw_tsss.fif.gz, _meg.fif.gz, _eeg.fif.gz or _ieeg.fif.gz\n",
      "  raw.save(path_name,picks,start_time,end_time)\n"
     ]
    },
    {
     "name": "stdout",
     "output_type": "stream",
     "text": [
      "2.3740234375 + 18.3740234375\n",
      ".\\se\\姚宜珊20211215.fif\n",
      "Writing E:\\jupyter file\\EEG_process\\se\\姚宜珊20211215.fif\n",
      "Closing E:\\jupyter file\\EEG_process\\se\\姚宜珊20211215.fif\n",
      "[done]\n",
      "Extracting EDF parameters from E:\\jupyter file\\EEG_process\\病人数据-第三批\\治疗\\姚悦\\20211213（未发作）.edf...\n",
      "EDF file detected\n",
      "Setting channel info structure...\n",
      "Creating raw.info structure...\n",
      "Used Annotations descriptions: ['File Create', 'Recording ends', 'Recording starts', 'SE']\n",
      "76.490234375 + 92.490234375\n",
      ".\\se\\姚悦20211213（未发作）.fif\n",
      "Writing E:\\jupyter file\\EEG_process\\se\\姚悦20211213（未发作）.fif\n",
      "Closing E:\\jupyter file\\EEG_process\\se\\姚悦20211213（未发作）.fif\n"
     ]
    },
    {
     "name": "stderr",
     "output_type": "stream",
     "text": [
      "<ipython-input-19-426d102596f8>:17: RuntimeWarning: This filename (E:\\jupyter file\\EEG_process\\se\\姚宜珊20211215.fif) does not conform to MNE naming conventions. All raw files should end with raw.fif, raw_sss.fif, raw_tsss.fif, _meg.fif, _eeg.fif, _ieeg.fif, raw.fif.gz, raw_sss.fif.gz, raw_tsss.fif.gz, _meg.fif.gz, _eeg.fif.gz or _ieeg.fif.gz\n",
      "  raw.save(path_name,picks,start_time,end_time)\n",
      "<ipython-input-19-426d102596f8>:17: RuntimeWarning: This filename (E:\\jupyter file\\EEG_process\\se\\姚悦20211213（未发作）.fif) does not conform to MNE naming conventions. All raw files should end with raw.fif, raw_sss.fif, raw_tsss.fif, _meg.fif, _eeg.fif, _ieeg.fif, raw.fif.gz, raw_sss.fif.gz, raw_tsss.fif.gz, _meg.fif.gz, _eeg.fif.gz or _ieeg.fif.gz\n",
      "  raw.save(path_name,picks,start_time,end_time)\n"
     ]
    },
    {
     "name": "stdout",
     "output_type": "stream",
     "text": [
      "[done]\n",
      "Extracting EDF parameters from E:\\jupyter file\\EEG_process\\病人数据-第三批\\治疗\\姚悦\\20211215.edf...\n",
      "EDF file detected\n",
      "Setting channel info structure...\n",
      "Creating raw.info structure...\n",
      "Used Annotations descriptions: ['File Create', 'Recording ends', 'Recording starts', 'SE', 'end', 'start']\n",
      "403.25 + 419.25\n",
      ".\\se\\姚悦20211215.fif\n",
      "Writing E:\\jupyter file\\EEG_process\\se\\姚悦20211215.fif\n",
      "Closing E:\\jupyter file\\EEG_process\\se\\姚悦20211215.fif\n",
      "[done]\n",
      "Extracting EDF parameters from E:\\jupyter file\\EEG_process\\病人数据-第三批\\治疗\\姚悦\\20211217（质量差，未标记）.edf...\n",
      "EDF file detected\n",
      "Setting channel info structure...\n",
      "Creating raw.info structure...\n",
      "Used Annotations descriptions: ['File Create', 'Recording ends', 'Recording starts', 'SE', 'end', 'start']\n",
      "131.7080078125 + 147.7080078125\n",
      ".\\se\\姚悦20211217（质量差，未标记）.fif\n",
      "Writing E:\\jupyter file\\EEG_process\\se\\姚悦20211217（质量差，未标记）.fif\n",
      "Closing E:\\jupyter file\\EEG_process\\se\\姚悦20211217（质量差，未标记）.fif\n",
      "[done]\n",
      "Extracting EDF parameters from E:\\jupyter file\\EEG_process\\病人数据-第三批\\治疗\\姚悦\\20211220.edf...\n",
      "EDF file detected\n",
      "Setting channel info structure...\n"
     ]
    },
    {
     "name": "stderr",
     "output_type": "stream",
     "text": [
      "<ipython-input-19-426d102596f8>:17: RuntimeWarning: This filename (E:\\jupyter file\\EEG_process\\se\\姚悦20211215.fif) does not conform to MNE naming conventions. All raw files should end with raw.fif, raw_sss.fif, raw_tsss.fif, _meg.fif, _eeg.fif, _ieeg.fif, raw.fif.gz, raw_sss.fif.gz, raw_tsss.fif.gz, _meg.fif.gz, _eeg.fif.gz or _ieeg.fif.gz\n",
      "  raw.save(path_name,picks,start_time,end_time)\n",
      "<ipython-input-19-426d102596f8>:17: RuntimeWarning: This filename (E:\\jupyter file\\EEG_process\\se\\姚悦20211217（质量差，未标记）.fif) does not conform to MNE naming conventions. All raw files should end with raw.fif, raw_sss.fif, raw_tsss.fif, _meg.fif, _eeg.fif, _ieeg.fif, raw.fif.gz, raw_sss.fif.gz, raw_tsss.fif.gz, _meg.fif.gz, _eeg.fif.gz or _ieeg.fif.gz\n",
      "  raw.save(path_name,picks,start_time,end_time)\n"
     ]
    },
    {
     "name": "stdout",
     "output_type": "stream",
     "text": [
      "Creating raw.info structure...\n",
      "Used Annotations descriptions: ['File Create', 'Recording ends', 'Recording starts', 'SE', 'end', 'start']\n",
      "58.3740234375 + 74.3740234375\n",
      ".\\se\\姚悦20211220.fif\n",
      "Writing E:\\jupyter file\\EEG_process\\se\\姚悦20211220.fif\n",
      "Closing E:\\jupyter file\\EEG_process\\se\\姚悦20211220.fif\n",
      "[done]\n",
      "Extracting EDF parameters from E:\\jupyter file\\EEG_process\\病人数据-第三批\\治疗\\姚悦\\20211222.edf...\n",
      "EDF file detected\n",
      "Setting channel info structure...\n",
      "Creating raw.info structure...\n",
      "Used Annotations descriptions: ['File Create', 'Recording ends', 'Recording starts', 'SE', 'end', 'start']\n",
      "580.2373046875 + 596.2373046875\n"
     ]
    },
    {
     "name": "stderr",
     "output_type": "stream",
     "text": [
      "<ipython-input-19-426d102596f8>:17: RuntimeWarning: This filename (E:\\jupyter file\\EEG_process\\se\\姚悦20211220.fif) does not conform to MNE naming conventions. All raw files should end with raw.fif, raw_sss.fif, raw_tsss.fif, _meg.fif, _eeg.fif, _ieeg.fif, raw.fif.gz, raw_sss.fif.gz, raw_tsss.fif.gz, _meg.fif.gz, _eeg.fif.gz or _ieeg.fif.gz\n",
      "  raw.save(path_name,picks,start_time,end_time)\n"
     ]
    },
    {
     "name": "stdout",
     "output_type": "stream",
     "text": [
      ".\\se\\姚悦20211222.fif\n",
      "Writing E:\\jupyter file\\EEG_process\\se\\姚悦20211222.fif\n",
      "Closing E:\\jupyter file\\EEG_process\\se\\姚悦20211222.fif\n",
      "[done]\n",
      "Extracting EDF parameters from E:\\jupyter file\\EEG_process\\病人数据-第三批\\治疗\\姚悦\\20211224.edf...\n",
      "EDF file detected\n",
      "Setting channel info structure...\n",
      "Creating raw.info structure...\n",
      "Used Annotations descriptions: ['File Create', 'Recording ends', 'Recording starts', 'SE', 'end', 'start']\n",
      "52.0712890625 + 68.0712890625\n",
      ".\\se\\姚悦20211224.fif\n",
      "Writing E:\\jupyter file\\EEG_process\\se\\姚悦20211224.fif\n",
      "Closing E:\\jupyter file\\EEG_process\\se\\姚悦20211224.fif\n",
      "[done]\n",
      "Extracting EDF parameters from E:\\jupyter file\\EEG_process\\病人数据-第三批\\治疗\\姚悦\\20211227.edf...\n",
      "EDF file detected\n",
      "Setting channel info structure...\n",
      "Creating raw.info structure...\n",
      "Used Annotations descriptions: ['File Create', 'Recording ends', 'Recording starts', 'SE', 'end', 'start']\n"
     ]
    },
    {
     "name": "stderr",
     "output_type": "stream",
     "text": [
      "<ipython-input-19-426d102596f8>:17: RuntimeWarning: This filename (E:\\jupyter file\\EEG_process\\se\\姚悦20211222.fif) does not conform to MNE naming conventions. All raw files should end with raw.fif, raw_sss.fif, raw_tsss.fif, _meg.fif, _eeg.fif, _ieeg.fif, raw.fif.gz, raw_sss.fif.gz, raw_tsss.fif.gz, _meg.fif.gz, _eeg.fif.gz or _ieeg.fif.gz\n",
      "  raw.save(path_name,picks,start_time,end_time)\n",
      "<ipython-input-19-426d102596f8>:17: RuntimeWarning: This filename (E:\\jupyter file\\EEG_process\\se\\姚悦20211224.fif) does not conform to MNE naming conventions. All raw files should end with raw.fif, raw_sss.fif, raw_tsss.fif, _meg.fif, _eeg.fif, _ieeg.fif, raw.fif.gz, raw_sss.fif.gz, raw_tsss.fif.gz, _meg.fif.gz, _eeg.fif.gz or _ieeg.fif.gz\n",
      "  raw.save(path_name,picks,start_time,end_time)\n"
     ]
    },
    {
     "name": "stdout",
     "output_type": "stream",
     "text": [
      "24.6767578125 + 40.6767578125\n",
      ".\\se\\姚悦20211227.fif\n",
      "Writing E:\\jupyter file\\EEG_process\\se\\姚悦20211227.fif\n",
      "Closing E:\\jupyter file\\EEG_process\\se\\姚悦20211227.fif\n",
      "[done]\n",
      "Extracting EDF parameters from E:\\jupyter file\\EEG_process\\病人数据-第三批\\治疗\\姚悦\\20211229.edf...\n",
      "EDF file detected\n",
      "Setting channel info structure...\n",
      "Creating raw.info structure...\n",
      "Used Annotations descriptions: ['File Create', 'Recording ends', 'Recording starts', 'SE', 'end', 'start']\n",
      "85.2451171875 + 101.2451171875\n",
      ".\\se\\姚悦20211229.fif\n"
     ]
    },
    {
     "name": "stderr",
     "output_type": "stream",
     "text": [
      "<ipython-input-19-426d102596f8>:17: RuntimeWarning: This filename (E:\\jupyter file\\EEG_process\\se\\姚悦20211227.fif) does not conform to MNE naming conventions. All raw files should end with raw.fif, raw_sss.fif, raw_tsss.fif, _meg.fif, _eeg.fif, _ieeg.fif, raw.fif.gz, raw_sss.fif.gz, raw_tsss.fif.gz, _meg.fif.gz, _eeg.fif.gz or _ieeg.fif.gz\n",
      "  raw.save(path_name,picks,start_time,end_time)\n",
      "<ipython-input-19-426d102596f8>:17: RuntimeWarning: This filename (E:\\jupyter file\\EEG_process\\se\\姚悦20211229.fif) does not conform to MNE naming conventions. All raw files should end with raw.fif, raw_sss.fif, raw_tsss.fif, _meg.fif, _eeg.fif, _ieeg.fif, raw.fif.gz, raw_sss.fif.gz, raw_tsss.fif.gz, _meg.fif.gz, _eeg.fif.gz or _ieeg.fif.gz\n",
      "  raw.save(path_name,picks,start_time,end_time)\n"
     ]
    },
    {
     "name": "stdout",
     "output_type": "stream",
     "text": [
      "Writing E:\\jupyter file\\EEG_process\\se\\姚悦20211229.fif\n",
      "Closing E:\\jupyter file\\EEG_process\\se\\姚悦20211229.fif\n",
      "[done]\n",
      "Extracting EDF parameters from E:\\jupyter file\\EEG_process\\病人数据-第三批\\治疗\\宋平安\\20211213.edf...\n",
      "EDF file detected\n",
      "Setting channel info structure...\n",
      "Creating raw.info structure...\n",
      "Used Annotations descriptions: ['File Create', 'Recording ends', 'Recording starts', 'SE', 'Â½Ã¡', 'Â¿Âª']\n",
      "2.259765625 + 18.259765625\n",
      ".\\se\\宋平安20211213.fif\n",
      "Writing E:\\jupyter file\\EEG_process\\se\\宋平安20211213.fif\n",
      "Closing E:\\jupyter file\\EEG_process\\se\\宋平安20211213.fif\n",
      "[done]\n",
      "Extracting EDF parameters from E:\\jupyter file\\EEG_process\\病人数据-第三批\\治疗\\宋平安\\20211215（数据质量差）.edf...\n",
      "EDF file detected\n",
      "Setting channel info structure...\n",
      "Creating raw.info structure...\n",
      "Used Annotations descriptions: ['File Create', 'Recording ends', 'Recording starts', 'SE', 'end', 'start']\n",
      "2.509765625 + 18.509765625\n",
      ".\\se\\宋平安20211215（数据质量差）.fif\n",
      "Writing E:\\jupyter file\\EEG_process\\se\\宋平安20211215（数据质量差）.fif\n",
      "Closing E:\\jupyter file\\EEG_process\\se\\宋平安20211215（数据质量差）.fif\n",
      "[done]\n",
      "Extracting EDF parameters from E:\\jupyter file\\EEG_process\\病人数据-第三批\\治疗\\宋平安\\20211217.edf...\n",
      "EDF file detected\n",
      "Setting channel info structure...\n",
      "Creating raw.info structure...\n"
     ]
    },
    {
     "name": "stderr",
     "output_type": "stream",
     "text": [
      "<ipython-input-19-426d102596f8>:17: RuntimeWarning: This filename (E:\\jupyter file\\EEG_process\\se\\宋平安20211213.fif) does not conform to MNE naming conventions. All raw files should end with raw.fif, raw_sss.fif, raw_tsss.fif, _meg.fif, _eeg.fif, _ieeg.fif, raw.fif.gz, raw_sss.fif.gz, raw_tsss.fif.gz, _meg.fif.gz, _eeg.fif.gz or _ieeg.fif.gz\n",
      "  raw.save(path_name,picks,start_time,end_time)\n",
      "<ipython-input-19-426d102596f8>:17: RuntimeWarning: This filename (E:\\jupyter file\\EEG_process\\se\\宋平安20211215（数据质量差）.fif) does not conform to MNE naming conventions. All raw files should end with raw.fif, raw_sss.fif, raw_tsss.fif, _meg.fif, _eeg.fif, _ieeg.fif, raw.fif.gz, raw_sss.fif.gz, raw_tsss.fif.gz, _meg.fif.gz, _eeg.fif.gz or _ieeg.fif.gz\n",
      "  raw.save(path_name,picks,start_time,end_time)\n"
     ]
    },
    {
     "name": "stdout",
     "output_type": "stream",
     "text": [
      "Used Annotations descriptions: ['File Create', 'Recording ends', 'Recording starts', 'SE', 'end', 'start']\n",
      "228.4375 + 244.4375\n",
      ".\\se\\宋平安20211217.fif\n",
      "Writing E:\\jupyter file\\EEG_process\\se\\宋平安20211217.fif\n",
      "Closing E:\\jupyter file\\EEG_process\\se\\宋平安20211217.fif\n",
      "[done]\n",
      "Extracting EDF parameters from E:\\jupyter file\\EEG_process\\病人数据-第三批\\治疗\\宋平安\\20211220.edf...\n",
      "EDF file detected\n",
      "Setting channel info structure...\n",
      "Creating raw.info structure...\n",
      "Used Annotations descriptions: ['File Create', 'Recording ends', 'Recording starts', 'SE', 'end', 'start']\n",
      "99.009765625 + 115.009765625\n",
      ".\\se\\宋平安20211220.fif\n",
      "Writing E:\\jupyter file\\EEG_process\\se\\宋平安20211220.fif\n",
      "Closing E:\\jupyter file\\EEG_process\\se\\宋平安20211220.fif\n",
      "[done]\n",
      "Extracting EDF parameters from E:\\jupyter file\\EEG_process\\病人数据-第三批\\治疗\\宋平安\\20211222.edf...\n",
      "EDF file detected\n",
      "Setting channel info structure...\n",
      "Creating raw.info structure...\n",
      "Used Annotations descriptions: ['File Create', 'Recording ends', 'Recording starts', 'SE', 'end', 'start']\n"
     ]
    },
    {
     "name": "stderr",
     "output_type": "stream",
     "text": [
      "<ipython-input-19-426d102596f8>:17: RuntimeWarning: This filename (E:\\jupyter file\\EEG_process\\se\\宋平安20211217.fif) does not conform to MNE naming conventions. All raw files should end with raw.fif, raw_sss.fif, raw_tsss.fif, _meg.fif, _eeg.fif, _ieeg.fif, raw.fif.gz, raw_sss.fif.gz, raw_tsss.fif.gz, _meg.fif.gz, _eeg.fif.gz or _ieeg.fif.gz\n",
      "  raw.save(path_name,picks,start_time,end_time)\n",
      "<ipython-input-19-426d102596f8>:17: RuntimeWarning: This filename (E:\\jupyter file\\EEG_process\\se\\宋平安20211220.fif) does not conform to MNE naming conventions. All raw files should end with raw.fif, raw_sss.fif, raw_tsss.fif, _meg.fif, _eeg.fif, _ieeg.fif, raw.fif.gz, raw_sss.fif.gz, raw_tsss.fif.gz, _meg.fif.gz, _eeg.fif.gz or _ieeg.fif.gz\n",
      "  raw.save(path_name,picks,start_time,end_time)\n"
     ]
    },
    {
     "name": "stdout",
     "output_type": "stream",
     "text": [
      "8.8662109375 + 24.8662109375\n",
      ".\\se\\宋平安20211222.fif\n",
      "Writing E:\\jupyter file\\EEG_process\\se\\宋平安20211222.fif\n",
      "Closing E:\\jupyter file\\EEG_process\\se\\宋平安20211222.fif\n",
      "[done]\n",
      "Extracting EDF parameters from E:\\jupyter file\\EEG_process\\病人数据-第三批\\治疗\\尹成林\\20211215.edf...\n",
      "EDF file detected\n",
      "Setting channel info structure...\n",
      "Creating raw.info structure...\n",
      "Used Annotations descriptions: ['File Create', 'Recording ends', 'Recording starts', 'SE', 'end', 'start']\n",
      "53.291015625 + 69.291015625\n",
      ".\\se\\尹成林20211215.fif\n",
      "Writing E:\\jupyter file\\EEG_process\\se\\尹成林20211215.fif\n",
      "Closing E:\\jupyter file\\EEG_process\\se\\尹成林20211215.fif\n",
      "[done]\n",
      "Extracting EDF parameters from E:\\jupyter file\\EEG_process\\病人数据-第三批\\治疗\\尹成林\\20211217.edf...\n",
      "EDF file detected\n",
      "Setting channel info structure...\n",
      "Creating raw.info structure...\n",
      "Used Annotations descriptions: ['File Create', 'Recording ends', 'Recording starts', 'SE', 'end', 'start']\n"
     ]
    },
    {
     "name": "stderr",
     "output_type": "stream",
     "text": [
      "<ipython-input-19-426d102596f8>:17: RuntimeWarning: This filename (E:\\jupyter file\\EEG_process\\se\\宋平安20211222.fif) does not conform to MNE naming conventions. All raw files should end with raw.fif, raw_sss.fif, raw_tsss.fif, _meg.fif, _eeg.fif, _ieeg.fif, raw.fif.gz, raw_sss.fif.gz, raw_tsss.fif.gz, _meg.fif.gz, _eeg.fif.gz or _ieeg.fif.gz\n",
      "  raw.save(path_name,picks,start_time,end_time)\n",
      "<ipython-input-19-426d102596f8>:17: RuntimeWarning: This filename (E:\\jupyter file\\EEG_process\\se\\尹成林20211215.fif) does not conform to MNE naming conventions. All raw files should end with raw.fif, raw_sss.fif, raw_tsss.fif, _meg.fif, _eeg.fif, _ieeg.fif, raw.fif.gz, raw_sss.fif.gz, raw_tsss.fif.gz, _meg.fif.gz, _eeg.fif.gz or _ieeg.fif.gz\n",
      "  raw.save(path_name,picks,start_time,end_time)\n"
     ]
    },
    {
     "name": "stdout",
     "output_type": "stream",
     "text": [
      "47.9375 + 63.9375\n",
      ".\\se\\尹成林20211217.fif\n",
      "Writing E:\\jupyter file\\EEG_process\\se\\尹成林20211217.fif\n",
      "Closing E:\\jupyter file\\EEG_process\\se\\尹成林20211217.fif\n",
      "[done]\n",
      "Extracting EDF parameters from E:\\jupyter file\\EEG_process\\病人数据-第三批\\治疗\\尹成林\\20211220.edf...\n",
      "EDF file detected\n",
      "Setting channel info structure...\n",
      "Creating raw.info structure...\n",
      "Used Annotations descriptions: ['File Create', 'Recording ends', 'Recording starts', 'SE', 'end', 'start']\n",
      "184.9267578125 + 200.9267578125\n",
      ".\\se\\尹成林20211220.fif\n",
      "Writing E:\\jupyter file\\EEG_process\\se\\尹成林20211220.fif\n",
      "Closing E:\\jupyter file\\EEG_process\\se\\尹成林20211220.fif\n"
     ]
    },
    {
     "name": "stderr",
     "output_type": "stream",
     "text": [
      "<ipython-input-19-426d102596f8>:17: RuntimeWarning: This filename (E:\\jupyter file\\EEG_process\\se\\尹成林20211217.fif) does not conform to MNE naming conventions. All raw files should end with raw.fif, raw_sss.fif, raw_tsss.fif, _meg.fif, _eeg.fif, _ieeg.fif, raw.fif.gz, raw_sss.fif.gz, raw_tsss.fif.gz, _meg.fif.gz, _eeg.fif.gz or _ieeg.fif.gz\n",
      "  raw.save(path_name,picks,start_time,end_time)\n",
      "<ipython-input-19-426d102596f8>:17: RuntimeWarning: This filename (E:\\jupyter file\\EEG_process\\se\\尹成林20211220.fif) does not conform to MNE naming conventions. All raw files should end with raw.fif, raw_sss.fif, raw_tsss.fif, _meg.fif, _eeg.fif, _ieeg.fif, raw.fif.gz, raw_sss.fif.gz, raw_tsss.fif.gz, _meg.fif.gz, _eeg.fif.gz or _ieeg.fif.gz\n",
      "  raw.save(path_name,picks,start_time,end_time)\n"
     ]
    },
    {
     "name": "stdout",
     "output_type": "stream",
     "text": [
      "[done]\n",
      "Extracting EDF parameters from E:\\jupyter file\\EEG_process\\病人数据-第三批\\治疗\\张钰\\20211220.edf...\n",
      "EDF file detected\n",
      "Setting channel info structure...\n",
      "Creating raw.info structure...\n",
      "Used Annotations descriptions: ['File Create', 'Recording ends', 'Recording starts', 'SE']\n",
      "40.0625 + 56.0625\n",
      ".\\se\\张钰20211220.fif\n",
      "Writing E:\\jupyter file\\EEG_process\\se\\张钰20211220.fif\n",
      "Closing E:\\jupyter file\\EEG_process\\se\\张钰20211220.fif\n",
      "[done]\n",
      "Extracting EDF parameters from E:\\jupyter file\\EEG_process\\病人数据-第三批\\治疗\\张钰\\20211222.edf...\n",
      "EDF file detected\n",
      "Setting channel info structure...\n",
      "Creating raw.info structure...\n",
      "Used Annotations descriptions: ['File Create', 'Recording ends', 'Recording starts', 'SE', 'end', 'start']\n",
      "3.83203125 + 19.83203125\n",
      ".\\se\\张钰20211222.fif\n",
      "Writing E:\\jupyter file\\EEG_process\\se\\张钰20211222.fif\n",
      "Closing E:\\jupyter file\\EEG_process\\se\\张钰20211222.fif\n",
      "[done]\n",
      "Extracting EDF parameters from E:\\jupyter file\\EEG_process\\病人数据-第三批\\治疗\\张钰\\20211224.edf...\n",
      "EDF file detected\n",
      "Setting channel info structure...\n",
      "Creating raw.info structure...\n",
      "Used Annotations descriptions: ['File Create', 'Recording ends', 'Recording starts', 'SE', 'end', 'start']\n"
     ]
    },
    {
     "name": "stderr",
     "output_type": "stream",
     "text": [
      "<ipython-input-19-426d102596f8>:17: RuntimeWarning: This filename (E:\\jupyter file\\EEG_process\\se\\张钰20211220.fif) does not conform to MNE naming conventions. All raw files should end with raw.fif, raw_sss.fif, raw_tsss.fif, _meg.fif, _eeg.fif, _ieeg.fif, raw.fif.gz, raw_sss.fif.gz, raw_tsss.fif.gz, _meg.fif.gz, _eeg.fif.gz or _ieeg.fif.gz\n",
      "  raw.save(path_name,picks,start_time,end_time)\n",
      "<ipython-input-19-426d102596f8>:17: RuntimeWarning: This filename (E:\\jupyter file\\EEG_process\\se\\张钰20211222.fif) does not conform to MNE naming conventions. All raw files should end with raw.fif, raw_sss.fif, raw_tsss.fif, _meg.fif, _eeg.fif, _ieeg.fif, raw.fif.gz, raw_sss.fif.gz, raw_tsss.fif.gz, _meg.fif.gz, _eeg.fif.gz or _ieeg.fif.gz\n",
      "  raw.save(path_name,picks,start_time,end_time)\n"
     ]
    },
    {
     "name": "stdout",
     "output_type": "stream",
     "text": [
      "58.6875 + 74.6875\n",
      ".\\se\\张钰20211224.fif\n",
      "Writing E:\\jupyter file\\EEG_process\\se\\张钰20211224.fif\n",
      "Closing E:\\jupyter file\\EEG_process\\se\\张钰20211224.fif\n",
      "[done]\n",
      "Extracting EDF parameters from E:\\jupyter file\\EEG_process\\病人数据-第三批\\治疗\\张钰\\20211227.edf...\n",
      "EDF file detected\n",
      "Setting channel info structure...\n",
      "Creating raw.info structure...\n",
      "Used Annotations descriptions: ['File Create', 'Recording ends', 'Recording starts', 'SE', 'end', 'start']\n",
      "51.916015625 + 67.916015625\n",
      ".\\se\\张钰20211227.fif\n",
      "Writing E:\\jupyter file\\EEG_process\\se\\张钰20211227.fif\n",
      "Closing E:\\jupyter file\\EEG_process\\se\\张钰20211227.fif\n",
      "[done]\n",
      "Extracting EDF parameters from E:\\jupyter file\\EEG_process\\病人数据-第三批\\治疗\\张钰\\20211229（数据质量差）.edf...\n",
      "EDF file detected\n",
      "Setting channel info structure...\n",
      "Creating raw.info structure...\n"
     ]
    },
    {
     "name": "stderr",
     "output_type": "stream",
     "text": [
      "<ipython-input-19-426d102596f8>:17: RuntimeWarning: This filename (E:\\jupyter file\\EEG_process\\se\\张钰20211224.fif) does not conform to MNE naming conventions. All raw files should end with raw.fif, raw_sss.fif, raw_tsss.fif, _meg.fif, _eeg.fif, _ieeg.fif, raw.fif.gz, raw_sss.fif.gz, raw_tsss.fif.gz, _meg.fif.gz, _eeg.fif.gz or _ieeg.fif.gz\n",
      "  raw.save(path_name,picks,start_time,end_time)\n",
      "<ipython-input-19-426d102596f8>:17: RuntimeWarning: This filename (E:\\jupyter file\\EEG_process\\se\\张钰20211227.fif) does not conform to MNE naming conventions. All raw files should end with raw.fif, raw_sss.fif, raw_tsss.fif, _meg.fif, _eeg.fif, _ieeg.fif, raw.fif.gz, raw_sss.fif.gz, raw_tsss.fif.gz, _meg.fif.gz, _eeg.fif.gz or _ieeg.fif.gz\n",
      "  raw.save(path_name,picks,start_time,end_time)\n"
     ]
    },
    {
     "name": "stdout",
     "output_type": "stream",
     "text": [
      "Used Annotations descriptions: ['File Create', 'Recording ends', 'Recording starts', 'SE', 'end', 'start']\n",
      "81.5576171875 + 97.5576171875\n",
      ".\\se\\张钰20211229（数据质量差）.fif\n",
      "Writing E:\\jupyter file\\EEG_process\\se\\张钰20211229（数据质量差）.fif\n",
      "Closing E:\\jupyter file\\EEG_process\\se\\张钰20211229（数据质量差）.fif\n",
      "[done]\n",
      "Extracting EDF parameters from E:\\jupyter file\\EEG_process\\病人数据-第三批\\治疗\\张钰\\20211231.edf...\n",
      "EDF file detected\n",
      "Setting channel info structure...\n",
      "Creating raw.info structure...\n",
      "Used Annotations descriptions: ['File Create', 'Recording ends', 'Recording starts', 'SE', 'end', 'start']\n",
      "1.76171875 + 17.76171875\n",
      ".\\se\\张钰20211231.fif\n",
      "Writing E:\\jupyter file\\EEG_process\\se\\张钰20211231.fif\n",
      "Closing E:\\jupyter file\\EEG_process\\se\\张钰20211231.fif\n"
     ]
    },
    {
     "name": "stderr",
     "output_type": "stream",
     "text": [
      "<ipython-input-19-426d102596f8>:17: RuntimeWarning: This filename (E:\\jupyter file\\EEG_process\\se\\张钰20211229（数据质量差）.fif) does not conform to MNE naming conventions. All raw files should end with raw.fif, raw_sss.fif, raw_tsss.fif, _meg.fif, _eeg.fif, _ieeg.fif, raw.fif.gz, raw_sss.fif.gz, raw_tsss.fif.gz, _meg.fif.gz, _eeg.fif.gz or _ieeg.fif.gz\n",
      "  raw.save(path_name,picks,start_time,end_time)\n",
      "<ipython-input-19-426d102596f8>:17: RuntimeWarning: This filename (E:\\jupyter file\\EEG_process\\se\\张钰20211231.fif) does not conform to MNE naming conventions. All raw files should end with raw.fif, raw_sss.fif, raw_tsss.fif, _meg.fif, _eeg.fif, _ieeg.fif, raw.fif.gz, raw_sss.fif.gz, raw_tsss.fif.gz, _meg.fif.gz, _eeg.fif.gz or _ieeg.fif.gz\n",
      "  raw.save(path_name,picks,start_time,end_time)\n"
     ]
    },
    {
     "name": "stdout",
     "output_type": "stream",
     "text": [
      "[done]\n",
      "Extracting EDF parameters from E:\\jupyter file\\EEG_process\\病人数据-第三批\\治疗\\彭鑫\\20211231.edf...\n",
      "EDF file detected\n",
      "Setting channel info structure...\n",
      "Creating raw.info structure...\n",
      "Used Annotations descriptions: ['File Create', 'Recording ends', 'Recording starts', 'SE', 'start']\n",
      "63.7939453125 + 79.7939453125\n",
      ".\\se\\彭鑫20211231.fif\n",
      "Writing E:\\jupyter file\\EEG_process\\se\\彭鑫20211231.fif\n",
      "Closing E:\\jupyter file\\EEG_process\\se\\彭鑫20211231.fif\n",
      "[done]\n",
      "Extracting EDF parameters from E:\\jupyter file\\EEG_process\\病人数据-第三批\\治疗\\徐新莲\\20220105.edf...\n",
      "EDF file detected\n",
      "Setting channel info structure...\n",
      "Creating raw.info structure...\n",
      "Used Annotations descriptions: ['File Create', 'Recording ends', 'Recording starts', 'SE', 'end', 'start']\n"
     ]
    },
    {
     "name": "stderr",
     "output_type": "stream",
     "text": [
      "<ipython-input-19-426d102596f8>:17: RuntimeWarning: This filename (E:\\jupyter file\\EEG_process\\se\\彭鑫20211231.fif) does not conform to MNE naming conventions. All raw files should end with raw.fif, raw_sss.fif, raw_tsss.fif, _meg.fif, _eeg.fif, _ieeg.fif, raw.fif.gz, raw_sss.fif.gz, raw_tsss.fif.gz, _meg.fif.gz, _eeg.fif.gz or _ieeg.fif.gz\n",
      "  raw.save(path_name,picks,start_time,end_time)\n",
      "<ipython-input-19-426d102596f8>:17: RuntimeWarning: This filename (E:\\jupyter file\\EEG_process\\se\\徐新莲20220105.fif) does not conform to MNE naming conventions. All raw files should end with raw.fif, raw_sss.fif, raw_tsss.fif, _meg.fif, _eeg.fif, _ieeg.fif, raw.fif.gz, raw_sss.fif.gz, raw_tsss.fif.gz, _meg.fif.gz, _eeg.fif.gz or _ieeg.fif.gz\n",
      "  raw.save(path_name,picks,start_time,end_time)\n"
     ]
    },
    {
     "name": "stdout",
     "output_type": "stream",
     "text": [
      "226.0380859375 + 242.0380859375\n",
      ".\\se\\徐新莲20220105.fif\n",
      "Writing E:\\jupyter file\\EEG_process\\se\\徐新莲20220105.fif\n",
      "Closing E:\\jupyter file\\EEG_process\\se\\徐新莲20220105.fif\n",
      "[done]\n",
      "Extracting EDF parameters from E:\\jupyter file\\EEG_process\\病人数据-第三批\\治疗\\徐新莲\\20220110（几乎未发作）.edf...\n",
      "EDF file detected\n",
      "Setting channel info structure...\n",
      "Creating raw.info structure...\n",
      "Used Annotations descriptions: ['File Create', 'Recording ends', 'Recording starts', 'SE', 'end', 'start']\n",
      "996.9365234375 + 1012.9365234375\n",
      ".\\se\\徐新莲20220110（几乎未发作）.fif\n",
      "Writing E:\\jupyter file\\EEG_process\\se\\徐新莲20220110（几乎未发作）.fif\n",
      "Closing E:\\jupyter file\\EEG_process\\se\\徐新莲20220110（几乎未发作）.fif\n",
      "[done]\n",
      "Extracting EDF parameters from E:\\jupyter file\\EEG_process\\病人数据-第三批\\治疗\\易先明\\20211213.edf...\n",
      "EDF file detected\n",
      "Setting channel info structure...\n",
      "Creating raw.info structure...\n",
      "Used Annotations descriptions: ['File Create', 'Recording ends', 'Recording starts', 'SE', 'end', 'start']\n",
      "6.1865234375 + 22.1865234375\n",
      ".\\se\\易先明20211213.fif\n",
      "Writing E:\\jupyter file\\EEG_process\\se\\易先明20211213.fif\n",
      "Closing E:\\jupyter file\\EEG_process\\se\\易先明20211213.fif\n"
     ]
    },
    {
     "name": "stderr",
     "output_type": "stream",
     "text": [
      "<ipython-input-19-426d102596f8>:17: RuntimeWarning: This filename (E:\\jupyter file\\EEG_process\\se\\徐新莲20220110（几乎未发作）.fif) does not conform to MNE naming conventions. All raw files should end with raw.fif, raw_sss.fif, raw_tsss.fif, _meg.fif, _eeg.fif, _ieeg.fif, raw.fif.gz, raw_sss.fif.gz, raw_tsss.fif.gz, _meg.fif.gz, _eeg.fif.gz or _ieeg.fif.gz\n",
      "  raw.save(path_name,picks,start_time,end_time)\n",
      "<ipython-input-19-426d102596f8>:17: RuntimeWarning: This filename (E:\\jupyter file\\EEG_process\\se\\易先明20211213.fif) does not conform to MNE naming conventions. All raw files should end with raw.fif, raw_sss.fif, raw_tsss.fif, _meg.fif, _eeg.fif, _ieeg.fif, raw.fif.gz, raw_sss.fif.gz, raw_tsss.fif.gz, _meg.fif.gz, _eeg.fif.gz or _ieeg.fif.gz\n",
      "  raw.save(path_name,picks,start_time,end_time)\n"
     ]
    },
    {
     "name": "stdout",
     "output_type": "stream",
     "text": [
      "[done]\n",
      "Extracting EDF parameters from E:\\jupyter file\\EEG_process\\病人数据-第三批\\治疗\\易先明\\20211215.edf...\n",
      "EDF file detected\n",
      "Setting channel info structure...\n",
      "Creating raw.info structure...\n",
      "Used Annotations descriptions: ['File Create', 'Recording ends', 'Recording starts', 'SE', 'end', 'start']\n",
      "1.6240234375 + 17.6240234375\n",
      ".\\se\\易先明20211215.fif\n",
      "Writing E:\\jupyter file\\EEG_process\\se\\易先明20211215.fif\n",
      "Closing E:\\jupyter file\\EEG_process\\se\\易先明20211215.fif\n",
      "[done]\n",
      "Extracting EDF parameters from E:\\jupyter file\\EEG_process\\病人数据-第三批\\治疗\\易先明\\20211217.edf...\n",
      "EDF file detected\n",
      "Setting channel info structure...\n",
      "Creating raw.info structure...\n",
      "Used Annotations descriptions: ['File Create', 'Recording ends', 'Recording starts', 'SE', 'end', 'start']\n",
      "2.4892578125 + 18.4892578125\n",
      ".\\se\\易先明20211217.fif\n",
      "Writing E:\\jupyter file\\EEG_process\\se\\易先明20211217.fif\n",
      "Closing E:\\jupyter file\\EEG_process\\se\\易先明20211217.fif\n",
      "[done]\n",
      "Extracting EDF parameters from E:\\jupyter file\\EEG_process\\病人数据-第三批\\治疗\\易先明\\20211222.edf...\n",
      "EDF file detected\n",
      "Setting channel info structure...\n",
      "Creating raw.info structure...\n",
      "Used Annotations descriptions: ['File Create', 'Recording ends', 'Recording starts', 'SE', 'end', 'start']\n"
     ]
    },
    {
     "name": "stderr",
     "output_type": "stream",
     "text": [
      "<ipython-input-19-426d102596f8>:17: RuntimeWarning: This filename (E:\\jupyter file\\EEG_process\\se\\易先明20211215.fif) does not conform to MNE naming conventions. All raw files should end with raw.fif, raw_sss.fif, raw_tsss.fif, _meg.fif, _eeg.fif, _ieeg.fif, raw.fif.gz, raw_sss.fif.gz, raw_tsss.fif.gz, _meg.fif.gz, _eeg.fif.gz or _ieeg.fif.gz\n",
      "  raw.save(path_name,picks,start_time,end_time)\n",
      "<ipython-input-19-426d102596f8>:17: RuntimeWarning: This filename (E:\\jupyter file\\EEG_process\\se\\易先明20211217.fif) does not conform to MNE naming conventions. All raw files should end with raw.fif, raw_sss.fif, raw_tsss.fif, _meg.fif, _eeg.fif, _ieeg.fif, raw.fif.gz, raw_sss.fif.gz, raw_tsss.fif.gz, _meg.fif.gz, _eeg.fif.gz or _ieeg.fif.gz\n",
      "  raw.save(path_name,picks,start_time,end_time)\n"
     ]
    },
    {
     "name": "stdout",
     "output_type": "stream",
     "text": [
      "9.71875 + 25.71875\n",
      ".\\se\\易先明20211222.fif\n",
      "Writing E:\\jupyter file\\EEG_process\\se\\易先明20211222.fif\n",
      "Closing E:\\jupyter file\\EEG_process\\se\\易先明20211222.fif\n",
      "[done]\n",
      "Extracting EDF parameters from E:\\jupyter file\\EEG_process\\病人数据-第三批\\治疗\\易先明\\20211224.edf...\n",
      "EDF file detected\n",
      "Setting channel info structure...\n",
      "Creating raw.info structure...\n",
      "Used Annotations descriptions: ['File Create', 'Recording ends', 'Recording starts', 'SE', 'end', 'start']\n",
      "53.154296875 + 69.154296875\n",
      ".\\se\\易先明20211224.fif\n",
      "Writing E:\\jupyter file\\EEG_process\\se\\易先明20211224.fif\n",
      "Closing E:\\jupyter file\\EEG_process\\se\\易先明20211224.fif\n",
      "[done]\n",
      "Extracting EDF parameters from E:\\jupyter file\\EEG_process\\病人数据-第三批\\治疗\\易先明\\20211227.edf...\n",
      "EDF file detected\n",
      "Setting channel info structure...\n",
      "Creating raw.info structure...\n",
      "Used Annotations descriptions: ['File Create', 'Recording ends', 'Recording starts', 'SE', 'end', 'start']\n"
     ]
    },
    {
     "name": "stderr",
     "output_type": "stream",
     "text": [
      "<ipython-input-19-426d102596f8>:17: RuntimeWarning: This filename (E:\\jupyter file\\EEG_process\\se\\易先明20211222.fif) does not conform to MNE naming conventions. All raw files should end with raw.fif, raw_sss.fif, raw_tsss.fif, _meg.fif, _eeg.fif, _ieeg.fif, raw.fif.gz, raw_sss.fif.gz, raw_tsss.fif.gz, _meg.fif.gz, _eeg.fif.gz or _ieeg.fif.gz\n",
      "  raw.save(path_name,picks,start_time,end_time)\n",
      "<ipython-input-19-426d102596f8>:17: RuntimeWarning: This filename (E:\\jupyter file\\EEG_process\\se\\易先明20211224.fif) does not conform to MNE naming conventions. All raw files should end with raw.fif, raw_sss.fif, raw_tsss.fif, _meg.fif, _eeg.fif, _ieeg.fif, raw.fif.gz, raw_sss.fif.gz, raw_tsss.fif.gz, _meg.fif.gz, _eeg.fif.gz or _ieeg.fif.gz\n",
      "  raw.save(path_name,picks,start_time,end_time)\n"
     ]
    },
    {
     "name": "stdout",
     "output_type": "stream",
     "text": [
      "66.7216796875 + 82.7216796875\n",
      ".\\se\\易先明20211227.fif\n",
      "Writing E:\\jupyter file\\EEG_process\\se\\易先明20211227.fif\n",
      "Closing E:\\jupyter file\\EEG_process\\se\\易先明20211227.fif\n",
      "[done]\n",
      "Extracting EDF parameters from E:\\jupyter file\\EEG_process\\病人数据-第三批\\治疗\\易先明\\20211229.edf...\n",
      "EDF file detected\n",
      "Setting channel info structure...\n",
      "Creating raw.info structure...\n",
      "Used Annotations descriptions: ['File Create', 'Recording ends', 'Recording starts', 'SE', 'end', 'start']\n",
      "18.6826171875 + 34.6826171875\n",
      ".\\se\\易先明20211229.fif\n",
      "Writing E:\\jupyter file\\EEG_process\\se\\易先明20211229.fif\n",
      "Closing E:\\jupyter file\\EEG_process\\se\\易先明20211229.fif\n",
      "[done]\n",
      "Extracting EDF parameters from E:\\jupyter file\\EEG_process\\病人数据-第三批\\治疗\\易先明\\20211231.edf...\n",
      "EDF file detected\n",
      "Setting channel info structure...\n",
      "Creating raw.info structure...\n",
      "Used Annotations descriptions: ['File Create', 'Recording ends', 'Recording starts', 'SE', 'end', 'start']\n"
     ]
    },
    {
     "name": "stderr",
     "output_type": "stream",
     "text": [
      "<ipython-input-19-426d102596f8>:17: RuntimeWarning: This filename (E:\\jupyter file\\EEG_process\\se\\易先明20211227.fif) does not conform to MNE naming conventions. All raw files should end with raw.fif, raw_sss.fif, raw_tsss.fif, _meg.fif, _eeg.fif, _ieeg.fif, raw.fif.gz, raw_sss.fif.gz, raw_tsss.fif.gz, _meg.fif.gz, _eeg.fif.gz or _ieeg.fif.gz\n",
      "  raw.save(path_name,picks,start_time,end_time)\n",
      "<ipython-input-19-426d102596f8>:17: RuntimeWarning: This filename (E:\\jupyter file\\EEG_process\\se\\易先明20211229.fif) does not conform to MNE naming conventions. All raw files should end with raw.fif, raw_sss.fif, raw_tsss.fif, _meg.fif, _eeg.fif, _ieeg.fif, raw.fif.gz, raw_sss.fif.gz, raw_tsss.fif.gz, _meg.fif.gz, _eeg.fif.gz or _ieeg.fif.gz\n",
      "  raw.save(path_name,picks,start_time,end_time)\n"
     ]
    },
    {
     "name": "stdout",
     "output_type": "stream",
     "text": [
      "760.734375 + 776.734375\n",
      ".\\se\\易先明20211231.fif\n",
      "Writing E:\\jupyter file\\EEG_process\\se\\易先明20211231.fif\n",
      "Closing E:\\jupyter file\\EEG_process\\se\\易先明20211231.fif\n",
      "[done]\n",
      "Extracting EDF parameters from E:\\jupyter file\\EEG_process\\病人数据-第三批\\治疗\\李凯力\\20211213.edf...\n",
      "EDF file detected\n",
      "Setting channel info structure...\n",
      "Creating raw.info structure...\n"
     ]
    },
    {
     "name": "stderr",
     "output_type": "stream",
     "text": [
      "<ipython-input-19-426d102596f8>:17: RuntimeWarning: This filename (E:\\jupyter file\\EEG_process\\se\\易先明20211231.fif) does not conform to MNE naming conventions. All raw files should end with raw.fif, raw_sss.fif, raw_tsss.fif, _meg.fif, _eeg.fif, _ieeg.fif, raw.fif.gz, raw_sss.fif.gz, raw_tsss.fif.gz, _meg.fif.gz, _eeg.fif.gz or _ieeg.fif.gz\n",
      "  raw.save(path_name,picks,start_time,end_time)\n"
     ]
    },
    {
     "name": "stdout",
     "output_type": "stream",
     "text": [
      "Used Annotations descriptions: ['File Create', 'Recording ends', 'Recording starts', 'SE', 'end', 'start']\n",
      "930.134765625 + 946.134765625\n",
      ".\\se\\李凯力20211213.fif\n",
      "Writing E:\\jupyter file\\EEG_process\\se\\李凯力20211213.fif\n",
      "Closing E:\\jupyter file\\EEG_process\\se\\李凯力20211213.fif\n",
      "[done]\n",
      "Extracting EDF parameters from E:\\jupyter file\\EEG_process\\病人数据-第三批\\治疗\\李凯力\\20211215.edf...\n",
      "EDF file detected\n",
      "Setting channel info structure...\n",
      "Creating raw.info structure...\n",
      "Used Annotations descriptions: ['File Create', 'Recording ends', 'Recording starts', 'SE', 'end', 'start']\n",
      "1.8125 + 17.8125\n",
      ".\\se\\李凯力20211215.fif\n",
      "Writing E:\\jupyter file\\EEG_process\\se\\李凯力20211215.fif\n",
      "Closing E:\\jupyter file\\EEG_process\\se\\李凯力20211215.fif\n",
      "[done]\n",
      "Extracting EDF parameters from E:\\jupyter file\\EEG_process\\病人数据-第三批\\治疗\\李凯力\\20211217.edf...\n",
      "EDF file detected\n",
      "Setting channel info structure...\n",
      "Creating raw.info structure...\n",
      "Used Annotations descriptions: ['File Create', 'Recording ends', 'Recording starts', 'SE', 'end', 'start']\n",
      "77.45703125 + 93.45703125\n"
     ]
    },
    {
     "name": "stderr",
     "output_type": "stream",
     "text": [
      "<ipython-input-19-426d102596f8>:17: RuntimeWarning: This filename (E:\\jupyter file\\EEG_process\\se\\李凯力20211213.fif) does not conform to MNE naming conventions. All raw files should end with raw.fif, raw_sss.fif, raw_tsss.fif, _meg.fif, _eeg.fif, _ieeg.fif, raw.fif.gz, raw_sss.fif.gz, raw_tsss.fif.gz, _meg.fif.gz, _eeg.fif.gz or _ieeg.fif.gz\n",
      "  raw.save(path_name,picks,start_time,end_time)\n",
      "<ipython-input-19-426d102596f8>:17: RuntimeWarning: This filename (E:\\jupyter file\\EEG_process\\se\\李凯力20211215.fif) does not conform to MNE naming conventions. All raw files should end with raw.fif, raw_sss.fif, raw_tsss.fif, _meg.fif, _eeg.fif, _ieeg.fif, raw.fif.gz, raw_sss.fif.gz, raw_tsss.fif.gz, _meg.fif.gz, _eeg.fif.gz or _ieeg.fif.gz\n",
      "  raw.save(path_name,picks,start_time,end_time)\n"
     ]
    },
    {
     "name": "stdout",
     "output_type": "stream",
     "text": [
      ".\\se\\李凯力20211217.fif\n",
      "Writing E:\\jupyter file\\EEG_process\\se\\李凯力20211217.fif\n",
      "Closing E:\\jupyter file\\EEG_process\\se\\李凯力20211217.fif\n",
      "[done]\n",
      "Extracting EDF parameters from E:\\jupyter file\\EEG_process\\病人数据-第三批\\治疗\\李凯力\\20211220.edf...\n",
      "EDF file detected\n",
      "Setting channel info structure...\n",
      "Creating raw.info structure...\n",
      "Used Annotations descriptions: ['File Create', 'Recording ends', 'Recording starts', 'SE', 'end', 'start']\n",
      "221.375 + 237.375\n",
      ".\\se\\李凯力20211220.fif\n",
      "Writing E:\\jupyter file\\EEG_process\\se\\李凯力20211220.fif\n",
      "Closing E:\\jupyter file\\EEG_process\\se\\李凯力20211220.fif\n"
     ]
    },
    {
     "name": "stderr",
     "output_type": "stream",
     "text": [
      "<ipython-input-19-426d102596f8>:17: RuntimeWarning: This filename (E:\\jupyter file\\EEG_process\\se\\李凯力20211217.fif) does not conform to MNE naming conventions. All raw files should end with raw.fif, raw_sss.fif, raw_tsss.fif, _meg.fif, _eeg.fif, _ieeg.fif, raw.fif.gz, raw_sss.fif.gz, raw_tsss.fif.gz, _meg.fif.gz, _eeg.fif.gz or _ieeg.fif.gz\n",
      "  raw.save(path_name,picks,start_time,end_time)\n",
      "<ipython-input-19-426d102596f8>:17: RuntimeWarning: This filename (E:\\jupyter file\\EEG_process\\se\\李凯力20211220.fif) does not conform to MNE naming conventions. All raw files should end with raw.fif, raw_sss.fif, raw_tsss.fif, _meg.fif, _eeg.fif, _ieeg.fif, raw.fif.gz, raw_sss.fif.gz, raw_tsss.fif.gz, _meg.fif.gz, _eeg.fif.gz or _ieeg.fif.gz\n",
      "  raw.save(path_name,picks,start_time,end_time)\n"
     ]
    },
    {
     "name": "stdout",
     "output_type": "stream",
     "text": [
      "[done]\n",
      "Extracting EDF parameters from E:\\jupyter file\\EEG_process\\病人数据-第三批\\治疗\\李凯力\\20211227.edf...\n",
      "EDF file detected\n",
      "Setting channel info structure...\n",
      "Creating raw.info structure...\n",
      "Used Annotations descriptions: ['File Create', 'Recording ends', 'Recording starts', 'SE', 'end', 'start']\n",
      "362.23046875 + 378.23046875\n",
      ".\\se\\李凯力20211227.fif\n",
      "Writing E:\\jupyter file\\EEG_process\\se\\李凯力20211227.fif\n",
      "Closing E:\\jupyter file\\EEG_process\\se\\李凯力20211227.fif\n",
      "[done]\n",
      "Extracting EDF parameters from E:\\jupyter file\\EEG_process\\病人数据-第三批\\治疗\\李昕宇\\20211215.edf...\n",
      "EDF file detected\n",
      "Setting channel info structure...\n",
      "Creating raw.info structure...\n",
      "Used Annotations descriptions: ['File Create', 'Recording ends', 'Recording starts', 'SE', 'end', 'start']\n",
      "1.51953125 + 17.51953125\n",
      ".\\se\\李昕宇20211215.fif\n",
      "Writing E:\\jupyter file\\EEG_process\\se\\李昕宇20211215.fif\n",
      "Closing E:\\jupyter file\\EEG_process\\se\\李昕宇20211215.fif\n",
      "[done]\n",
      "Extracting EDF parameters from E:\\jupyter file\\EEG_process\\病人数据-第三批\\治疗\\杨宇\\20211213.edf...\n",
      "EDF file detected\n",
      "Setting channel info structure...\n",
      "Creating raw.info structure...\n",
      "Used Annotations descriptions: ['File Create', 'Recording ends', 'Recording starts', 'SE', 'Â½Ã¡', 'Â¿Âª']\n",
      "83.51953125 + 99.51953125\n"
     ]
    },
    {
     "name": "stderr",
     "output_type": "stream",
     "text": [
      "<ipython-input-19-426d102596f8>:17: RuntimeWarning: This filename (E:\\jupyter file\\EEG_process\\se\\李凯力20211227.fif) does not conform to MNE naming conventions. All raw files should end with raw.fif, raw_sss.fif, raw_tsss.fif, _meg.fif, _eeg.fif, _ieeg.fif, raw.fif.gz, raw_sss.fif.gz, raw_tsss.fif.gz, _meg.fif.gz, _eeg.fif.gz or _ieeg.fif.gz\n",
      "  raw.save(path_name,picks,start_time,end_time)\n",
      "<ipython-input-19-426d102596f8>:17: RuntimeWarning: This filename (E:\\jupyter file\\EEG_process\\se\\李昕宇20211215.fif) does not conform to MNE naming conventions. All raw files should end with raw.fif, raw_sss.fif, raw_tsss.fif, _meg.fif, _eeg.fif, _ieeg.fif, raw.fif.gz, raw_sss.fif.gz, raw_tsss.fif.gz, _meg.fif.gz, _eeg.fif.gz or _ieeg.fif.gz\n",
      "  raw.save(path_name,picks,start_time,end_time)\n"
     ]
    },
    {
     "name": "stdout",
     "output_type": "stream",
     "text": [
      ".\\se\\杨宇20211213.fif\n",
      "Writing E:\\jupyter file\\EEG_process\\se\\杨宇20211213.fif\n",
      "Closing E:\\jupyter file\\EEG_process\\se\\杨宇20211213.fif\n",
      "[done]\n",
      "Extracting EDF parameters from E:\\jupyter file\\EEG_process\\病人数据-第三批\\治疗\\杨宇\\20211215（未发作）.edf...\n",
      "EDF file detected\n",
      "Setting channel info structure...\n",
      "Creating raw.info structure...\n",
      "Used Annotations descriptions: ['File Create', 'Recording ends', 'Recording starts', 'SE']\n",
      "3.259765625 + 19.259765625\n",
      ".\\se\\杨宇20211215（未发作）.fif\n"
     ]
    },
    {
     "name": "stderr",
     "output_type": "stream",
     "text": [
      "<ipython-input-19-426d102596f8>:17: RuntimeWarning: This filename (E:\\jupyter file\\EEG_process\\se\\杨宇20211213.fif) does not conform to MNE naming conventions. All raw files should end with raw.fif, raw_sss.fif, raw_tsss.fif, _meg.fif, _eeg.fif, _ieeg.fif, raw.fif.gz, raw_sss.fif.gz, raw_tsss.fif.gz, _meg.fif.gz, _eeg.fif.gz or _ieeg.fif.gz\n",
      "  raw.save(path_name,picks,start_time,end_time)\n",
      "<ipython-input-19-426d102596f8>:17: RuntimeWarning: This filename (E:\\jupyter file\\EEG_process\\se\\杨宇20211215（未发作）.fif) does not conform to MNE naming conventions. All raw files should end with raw.fif, raw_sss.fif, raw_tsss.fif, _meg.fif, _eeg.fif, _ieeg.fif, raw.fif.gz, raw_sss.fif.gz, raw_tsss.fif.gz, _meg.fif.gz, _eeg.fif.gz or _ieeg.fif.gz\n",
      "  raw.save(path_name,picks,start_time,end_time)\n"
     ]
    },
    {
     "name": "stdout",
     "output_type": "stream",
     "text": [
      "Writing E:\\jupyter file\\EEG_process\\se\\杨宇20211215（未发作）.fif\n",
      "Closing E:\\jupyter file\\EEG_process\\se\\杨宇20211215（未发作）.fif\n",
      "[done]\n",
      "Extracting EDF parameters from E:\\jupyter file\\EEG_process\\病人数据-第三批\\治疗\\杨宇\\20211217.edf...\n",
      "EDF file detected\n",
      "Setting channel info structure...\n",
      "Creating raw.info structure...\n",
      "Used Annotations descriptions: ['File Create', 'Recording ends', 'Recording starts', 'SE']\n",
      "288.646484375 + 304.646484375\n",
      ".\\se\\杨宇20211217.fif\n",
      "Writing E:\\jupyter file\\EEG_process\\se\\杨宇20211217.fif\n",
      "Closing E:\\jupyter file\\EEG_process\\se\\杨宇20211217.fif\n",
      "[done]\n",
      "Extracting EDF parameters from E:\\jupyter file\\EEG_process\\病人数据-第三批\\治疗\\林晓晴\\20211215.edf...\n",
      "EDF file detected\n",
      "Setting channel info structure...\n",
      "Creating raw.info structure...\n",
      "Used Annotations descriptions: ['File Create', 'Recording ends', 'Recording starts', 'SE', 'start']\n",
      "15.25 + 31.25\n",
      ".\\se\\林晓晴20211215.fif\n",
      "Writing E:\\jupyter file\\EEG_process\\se\\林晓晴20211215.fif\n",
      "Closing E:\\jupyter file\\EEG_process\\se\\林晓晴20211215.fif\n",
      "[done]\n",
      "Extracting EDF parameters from E:\\jupyter file\\EEG_process\\病人数据-第三批\\治疗\\林晓晴\\20211217.edf...\n",
      "EDF file detected\n",
      "Setting channel info structure...\n",
      "Creating raw.info structure...\n",
      "Used Annotations descriptions: ['File Create', 'Recording ends', 'Recording starts', 'SE', 'end', 'start']\n"
     ]
    },
    {
     "name": "stderr",
     "output_type": "stream",
     "text": [
      "<ipython-input-19-426d102596f8>:17: RuntimeWarning: This filename (E:\\jupyter file\\EEG_process\\se\\杨宇20211217.fif) does not conform to MNE naming conventions. All raw files should end with raw.fif, raw_sss.fif, raw_tsss.fif, _meg.fif, _eeg.fif, _ieeg.fif, raw.fif.gz, raw_sss.fif.gz, raw_tsss.fif.gz, _meg.fif.gz, _eeg.fif.gz or _ieeg.fif.gz\n",
      "  raw.save(path_name,picks,start_time,end_time)\n",
      "<ipython-input-19-426d102596f8>:17: RuntimeWarning: This filename (E:\\jupyter file\\EEG_process\\se\\林晓晴20211215.fif) does not conform to MNE naming conventions. All raw files should end with raw.fif, raw_sss.fif, raw_tsss.fif, _meg.fif, _eeg.fif, _ieeg.fif, raw.fif.gz, raw_sss.fif.gz, raw_tsss.fif.gz, _meg.fif.gz, _eeg.fif.gz or _ieeg.fif.gz\n",
      "  raw.save(path_name,picks,start_time,end_time)\n"
     ]
    },
    {
     "name": "stdout",
     "output_type": "stream",
     "text": [
      "89.96875 + 105.96875\n",
      ".\\se\\林晓晴20211217.fif\n",
      "Writing E:\\jupyter file\\EEG_process\\se\\林晓晴20211217.fif\n",
      "Closing E:\\jupyter file\\EEG_process\\se\\林晓晴20211217.fif\n",
      "[done]\n",
      "Extracting EDF parameters from E:\\jupyter file\\EEG_process\\病人数据-第三批\\治疗\\林晓晴\\20211217（02）.edf...\n",
      "EDF file detected\n",
      "Setting channel info structure...\n",
      "Creating raw.info structure...\n",
      "Used Annotations descriptions: ['File Create', 'Recording ends', 'Recording starts', 'SE', 'end', 'start']\n",
      "18.384765625 + 34.384765625\n",
      ".\\se\\林晓晴20211217（02）.fif\n",
      "Writing E:\\jupyter file\\EEG_process\\se\\林晓晴20211217（02）.fif\n",
      "Closing E:\\jupyter file\\EEG_process\\se\\林晓晴20211217（02）.fif\n",
      "[done]\n",
      "Extracting EDF parameters from E:\\jupyter file\\EEG_process\\病人数据-第三批\\治疗\\林晓晴\\20211220.edf...\n",
      "EDF file detected\n",
      "Setting channel info structure...\n",
      "Creating raw.info structure...\n",
      "Used Annotations descriptions: ['File Create', 'Recording ends', 'Recording starts', 'SE', 'end', 'start']\n"
     ]
    },
    {
     "name": "stderr",
     "output_type": "stream",
     "text": [
      "<ipython-input-19-426d102596f8>:17: RuntimeWarning: This filename (E:\\jupyter file\\EEG_process\\se\\林晓晴20211217.fif) does not conform to MNE naming conventions. All raw files should end with raw.fif, raw_sss.fif, raw_tsss.fif, _meg.fif, _eeg.fif, _ieeg.fif, raw.fif.gz, raw_sss.fif.gz, raw_tsss.fif.gz, _meg.fif.gz, _eeg.fif.gz or _ieeg.fif.gz\n",
      "  raw.save(path_name,picks,start_time,end_time)\n",
      "<ipython-input-19-426d102596f8>:17: RuntimeWarning: This filename (E:\\jupyter file\\EEG_process\\se\\林晓晴20211217（02）.fif) does not conform to MNE naming conventions. All raw files should end with raw.fif, raw_sss.fif, raw_tsss.fif, _meg.fif, _eeg.fif, _ieeg.fif, raw.fif.gz, raw_sss.fif.gz, raw_tsss.fif.gz, _meg.fif.gz, _eeg.fif.gz or _ieeg.fif.gz\n",
      "  raw.save(path_name,picks,start_time,end_time)\n"
     ]
    },
    {
     "name": "stdout",
     "output_type": "stream",
     "text": [
      "81.0625 + 97.0625\n",
      ".\\se\\林晓晴20211220.fif\n",
      "Writing E:\\jupyter file\\EEG_process\\se\\林晓晴20211220.fif\n",
      "Closing E:\\jupyter file\\EEG_process\\se\\林晓晴20211220.fif\n",
      "[done]\n",
      "Extracting EDF parameters from E:\\jupyter file\\EEG_process\\病人数据-第三批\\治疗\\王敏\\20220112.edf...\n",
      "EDF file detected\n",
      "Setting channel info structure...\n",
      "Creating raw.info structure...\n",
      "Used Annotations descriptions: ['File Create', 'Recording ends', 'Recording starts', 'SE', 'end', 'start']\n",
      "436.1875 + 452.1875\n"
     ]
    },
    {
     "name": "stderr",
     "output_type": "stream",
     "text": [
      "<ipython-input-19-426d102596f8>:17: RuntimeWarning: This filename (E:\\jupyter file\\EEG_process\\se\\林晓晴20211220.fif) does not conform to MNE naming conventions. All raw files should end with raw.fif, raw_sss.fif, raw_tsss.fif, _meg.fif, _eeg.fif, _ieeg.fif, raw.fif.gz, raw_sss.fif.gz, raw_tsss.fif.gz, _meg.fif.gz, _eeg.fif.gz or _ieeg.fif.gz\n",
      "  raw.save(path_name,picks,start_time,end_time)\n"
     ]
    },
    {
     "name": "stdout",
     "output_type": "stream",
     "text": [
      ".\\se\\王敏20220112.fif\n",
      "Writing E:\\jupyter file\\EEG_process\\se\\王敏20220112.fif\n",
      "Closing E:\\jupyter file\\EEG_process\\se\\王敏20220112.fif\n",
      "[done]\n",
      "Extracting EDF parameters from E:\\jupyter file\\EEG_process\\病人数据-第三批\\治疗\\程凯\\20211215（几乎未发作）.edf...\n",
      "EDF file detected\n",
      "Setting channel info structure...\n",
      "Creating raw.info structure...\n",
      "Used Annotations descriptions: ['File Create', 'Recording ends', 'Recording starts', 'SE', 'end', 'start']\n",
      "1.75 + 17.75\n",
      ".\\se\\程凯20211215（几乎未发作）.fif\n",
      "Writing E:\\jupyter file\\EEG_process\\se\\程凯20211215（几乎未发作）.fif\n"
     ]
    },
    {
     "name": "stderr",
     "output_type": "stream",
     "text": [
      "<ipython-input-19-426d102596f8>:17: RuntimeWarning: This filename (E:\\jupyter file\\EEG_process\\se\\王敏20220112.fif) does not conform to MNE naming conventions. All raw files should end with raw.fif, raw_sss.fif, raw_tsss.fif, _meg.fif, _eeg.fif, _ieeg.fif, raw.fif.gz, raw_sss.fif.gz, raw_tsss.fif.gz, _meg.fif.gz, _eeg.fif.gz or _ieeg.fif.gz\n",
      "  raw.save(path_name,picks,start_time,end_time)\n",
      "<ipython-input-19-426d102596f8>:17: RuntimeWarning: This filename (E:\\jupyter file\\EEG_process\\se\\程凯20211215（几乎未发作）.fif) does not conform to MNE naming conventions. All raw files should end with raw.fif, raw_sss.fif, raw_tsss.fif, _meg.fif, _eeg.fif, _ieeg.fif, raw.fif.gz, raw_sss.fif.gz, raw_tsss.fif.gz, _meg.fif.gz, _eeg.fif.gz or _ieeg.fif.gz\n",
      "  raw.save(path_name,picks,start_time,end_time)\n"
     ]
    },
    {
     "name": "stdout",
     "output_type": "stream",
     "text": [
      "Closing E:\\jupyter file\\EEG_process\\se\\程凯20211215（几乎未发作）.fif\n",
      "[done]\n",
      "Extracting EDF parameters from E:\\jupyter file\\EEG_process\\病人数据-第三批\\治疗\\程凯\\20211217.edf...\n",
      "EDF file detected\n",
      "Setting channel info structure...\n",
      "Creating raw.info structure...\n",
      "Used Annotations descriptions: ['File Create', 'Recording ends', 'Recording starts', 'SE', 'end', 'start']\n",
      "83.865234375 + 99.865234375\n",
      ".\\se\\程凯20211217.fif\n",
      "Writing E:\\jupyter file\\EEG_process\\se\\程凯20211217.fif\n",
      "Closing E:\\jupyter file\\EEG_process\\se\\程凯20211217.fif\n",
      "[done]\n",
      "Extracting EDF parameters from E:\\jupyter file\\EEG_process\\病人数据-第三批\\治疗\\程凯\\20211220.edf...\n",
      "EDF file detected\n",
      "Setting channel info structure...\n",
      "Creating raw.info structure...\n",
      "Used Annotations descriptions: ['File Create', 'Recording ends', 'Recording starts', 'SE', 'end', 'start']\n",
      "58.0 + 74.0\n",
      ".\\se\\程凯20211220.fif\n",
      "Writing E:\\jupyter file\\EEG_process\\se\\程凯20211220.fif\n",
      "Closing E:\\jupyter file\\EEG_process\\se\\程凯20211220.fif\n",
      "[done]\n",
      "Extracting EDF parameters from E:\\jupyter file\\EEG_process\\病人数据-第三批\\治疗\\程凯\\20211222.edf...\n",
      "EDF file detected\n",
      "Setting channel info structure...\n",
      "Creating raw.info structure...\n",
      "Used Annotations descriptions: ['File Create', 'Recording ends', 'Recording starts', 'SE', 'end', 'start']\n"
     ]
    },
    {
     "name": "stderr",
     "output_type": "stream",
     "text": [
      "<ipython-input-19-426d102596f8>:17: RuntimeWarning: This filename (E:\\jupyter file\\EEG_process\\se\\程凯20211217.fif) does not conform to MNE naming conventions. All raw files should end with raw.fif, raw_sss.fif, raw_tsss.fif, _meg.fif, _eeg.fif, _ieeg.fif, raw.fif.gz, raw_sss.fif.gz, raw_tsss.fif.gz, _meg.fif.gz, _eeg.fif.gz or _ieeg.fif.gz\n",
      "  raw.save(path_name,picks,start_time,end_time)\n",
      "<ipython-input-19-426d102596f8>:17: RuntimeWarning: This filename (E:\\jupyter file\\EEG_process\\se\\程凯20211220.fif) does not conform to MNE naming conventions. All raw files should end with raw.fif, raw_sss.fif, raw_tsss.fif, _meg.fif, _eeg.fif, _ieeg.fif, raw.fif.gz, raw_sss.fif.gz, raw_tsss.fif.gz, _meg.fif.gz, _eeg.fif.gz or _ieeg.fif.gz\n",
      "  raw.save(path_name,picks,start_time,end_time)\n"
     ]
    },
    {
     "name": "stdout",
     "output_type": "stream",
     "text": [
      "30.509765625 + 46.509765625\n",
      ".\\se\\程凯20211222.fif\n",
      "Writing E:\\jupyter file\\EEG_process\\se\\程凯20211222.fif\n",
      "Closing E:\\jupyter file\\EEG_process\\se\\程凯20211222.fif\n",
      "[done]\n",
      "Extracting EDF parameters from E:\\jupyter file\\EEG_process\\病人数据-第三批\\治疗\\程凯\\20211227.edf...\n",
      "EDF file detected\n",
      "Setting channel info structure...\n",
      "Creating raw.info structure...\n",
      "Used Annotations descriptions: ['File Create', 'Recording ends', 'Recording starts', 'SE', 'end', 'start']\n",
      "110.6748046875 + 126.6748046875\n",
      ".\\se\\程凯20211227.fif\n",
      "Writing E:\\jupyter file\\EEG_process\\se\\程凯20211227.fif\n",
      "Closing E:\\jupyter file\\EEG_process\\se\\程凯20211227.fif\n"
     ]
    },
    {
     "name": "stderr",
     "output_type": "stream",
     "text": [
      "<ipython-input-19-426d102596f8>:17: RuntimeWarning: This filename (E:\\jupyter file\\EEG_process\\se\\程凯20211222.fif) does not conform to MNE naming conventions. All raw files should end with raw.fif, raw_sss.fif, raw_tsss.fif, _meg.fif, _eeg.fif, _ieeg.fif, raw.fif.gz, raw_sss.fif.gz, raw_tsss.fif.gz, _meg.fif.gz, _eeg.fif.gz or _ieeg.fif.gz\n",
      "  raw.save(path_name,picks,start_time,end_time)\n",
      "<ipython-input-19-426d102596f8>:17: RuntimeWarning: This filename (E:\\jupyter file\\EEG_process\\se\\程凯20211227.fif) does not conform to MNE naming conventions. All raw files should end with raw.fif, raw_sss.fif, raw_tsss.fif, _meg.fif, _eeg.fif, _ieeg.fif, raw.fif.gz, raw_sss.fif.gz, raw_tsss.fif.gz, _meg.fif.gz, _eeg.fif.gz or _ieeg.fif.gz\n",
      "  raw.save(path_name,picks,start_time,end_time)\n"
     ]
    },
    {
     "name": "stdout",
     "output_type": "stream",
     "text": [
      "[done]\n",
      "Extracting EDF parameters from E:\\jupyter file\\EEG_process\\病人数据-第三批\\治疗\\程凯\\20211229.edf...\n",
      "EDF file detected\n",
      "Setting channel info structure...\n",
      "Creating raw.info structure...\n",
      "Used Annotations descriptions: ['File Create', 'Recording ends', 'Recording starts', 'SE', 'end', 'start']\n",
      "39.2783203125 + 55.2783203125\n",
      ".\\se\\程凯20211229.fif\n",
      "Writing E:\\jupyter file\\EEG_process\\se\\程凯20211229.fif\n",
      "Closing E:\\jupyter file\\EEG_process\\se\\程凯20211229.fif\n",
      "[done]\n",
      "Extracting EDF parameters from E:\\jupyter file\\EEG_process\\病人数据-第三批\\治疗\\罗宝琛\\20211213.edf...\n",
      "EDF file detected\n",
      "Setting channel info structure...\n",
      "Creating raw.info structure...\n",
      "Used Annotations descriptions: ['File Create', 'Recording ends', 'Recording starts', 'SE', 'end', 'start']\n",
      "57.46875 + 73.46875\n",
      ".\\se\\罗宝琛20211213.fif\n",
      "Writing E:\\jupyter file\\EEG_process\\se\\罗宝琛20211213.fif\n",
      "Closing E:\\jupyter file\\EEG_process\\se\\罗宝琛20211213.fif\n",
      "[done]\n",
      "Extracting EDF parameters from E:\\jupyter file\\EEG_process\\病人数据-第三批\\治疗\\胡圣开\\20220107.edf...\n",
      "EDF file detected\n",
      "Setting channel info structure...\n",
      "Creating raw.info structure...\n"
     ]
    },
    {
     "name": "stderr",
     "output_type": "stream",
     "text": [
      "<ipython-input-19-426d102596f8>:17: RuntimeWarning: This filename (E:\\jupyter file\\EEG_process\\se\\程凯20211229.fif) does not conform to MNE naming conventions. All raw files should end with raw.fif, raw_sss.fif, raw_tsss.fif, _meg.fif, _eeg.fif, _ieeg.fif, raw.fif.gz, raw_sss.fif.gz, raw_tsss.fif.gz, _meg.fif.gz, _eeg.fif.gz or _ieeg.fif.gz\n",
      "  raw.save(path_name,picks,start_time,end_time)\n",
      "<ipython-input-19-426d102596f8>:17: RuntimeWarning: This filename (E:\\jupyter file\\EEG_process\\se\\罗宝琛20211213.fif) does not conform to MNE naming conventions. All raw files should end with raw.fif, raw_sss.fif, raw_tsss.fif, _meg.fif, _eeg.fif, _ieeg.fif, raw.fif.gz, raw_sss.fif.gz, raw_tsss.fif.gz, _meg.fif.gz, _eeg.fif.gz or _ieeg.fif.gz\n",
      "  raw.save(path_name,picks,start_time,end_time)\n"
     ]
    },
    {
     "name": "stdout",
     "output_type": "stream",
     "text": [
      "Used Annotations descriptions: ['File Create', 'Recording ends', 'Recording starts', 'SE', 'end', 'start']\n",
      "725.9482421875 + 741.9482421875\n",
      ".\\se\\胡圣开20220107.fif\n",
      "Writing E:\\jupyter file\\EEG_process\\se\\胡圣开20220107.fif\n",
      "Closing E:\\jupyter file\\EEG_process\\se\\胡圣开20220107.fif\n",
      "[done]\n",
      "Extracting EDF parameters from E:\\jupyter file\\EEG_process\\病人数据-第三批\\治疗\\胡圣开\\20220110.edf...\n",
      "EDF file detected\n",
      "Setting channel info structure...\n",
      "Creating raw.info structure...\n",
      "Used Annotations descriptions: ['File Create', 'Recording ends', 'Recording starts', 'SE', 'end', 'start']\n",
      "145.5615234375 + 161.5615234375\n",
      ".\\se\\胡圣开20220110.fif\n",
      "Writing E:\\jupyter file\\EEG_process\\se\\胡圣开20220110.fif\n",
      "Closing E:\\jupyter file\\EEG_process\\se\\胡圣开20220110.fif\n"
     ]
    },
    {
     "name": "stderr",
     "output_type": "stream",
     "text": [
      "<ipython-input-19-426d102596f8>:17: RuntimeWarning: This filename (E:\\jupyter file\\EEG_process\\se\\胡圣开20220107.fif) does not conform to MNE naming conventions. All raw files should end with raw.fif, raw_sss.fif, raw_tsss.fif, _meg.fif, _eeg.fif, _ieeg.fif, raw.fif.gz, raw_sss.fif.gz, raw_tsss.fif.gz, _meg.fif.gz, _eeg.fif.gz or _ieeg.fif.gz\n",
      "  raw.save(path_name,picks,start_time,end_time)\n",
      "<ipython-input-19-426d102596f8>:17: RuntimeWarning: This filename (E:\\jupyter file\\EEG_process\\se\\胡圣开20220110.fif) does not conform to MNE naming conventions. All raw files should end with raw.fif, raw_sss.fif, raw_tsss.fif, _meg.fif, _eeg.fif, _ieeg.fif, raw.fif.gz, raw_sss.fif.gz, raw_tsss.fif.gz, _meg.fif.gz, _eeg.fif.gz or _ieeg.fif.gz\n",
      "  raw.save(path_name,picks,start_time,end_time)\n"
     ]
    },
    {
     "name": "stdout",
     "output_type": "stream",
     "text": [
      "[done]\n",
      "Extracting EDF parameters from E:\\jupyter file\\EEG_process\\病人数据-第三批\\治疗\\胡圣开\\20220112.edf...\n",
      "EDF file detected\n",
      "Setting channel info structure...\n",
      "Creating raw.info structure...\n",
      "Used Annotations descriptions: ['File Create', 'Recording ends', 'Recording starts', 'SE', 'end', 'start']\n",
      "119.5751953125 + 135.5751953125\n",
      ".\\se\\胡圣开20220112.fif\n",
      "Writing E:\\jupyter file\\EEG_process\\se\\胡圣开20220112.fif\n",
      "Closing E:\\jupyter file\\EEG_process\\se\\胡圣开20220112.fif\n",
      "[done]\n",
      "Extracting EDF parameters from E:\\jupyter file\\EEG_process\\病人数据-第三批\\治疗\\蒲娱\\20211213.edf...\n",
      "EDF file detected\n",
      "Setting channel info structure...\n",
      "Creating raw.info structure...\n",
      "Used Annotations descriptions: ['File Create', 'Recording ends', 'Recording starts', 'SE', 'Â½Ã¡', 'Â¿Âª']\n",
      "36.75 + 52.75\n",
      ".\\se\\蒲娱20211213.fif\n",
      "Writing E:\\jupyter file\\EEG_process\\se\\蒲娱20211213.fif\n"
     ]
    },
    {
     "name": "stderr",
     "output_type": "stream",
     "text": [
      "<ipython-input-19-426d102596f8>:17: RuntimeWarning: This filename (E:\\jupyter file\\EEG_process\\se\\胡圣开20220112.fif) does not conform to MNE naming conventions. All raw files should end with raw.fif, raw_sss.fif, raw_tsss.fif, _meg.fif, _eeg.fif, _ieeg.fif, raw.fif.gz, raw_sss.fif.gz, raw_tsss.fif.gz, _meg.fif.gz, _eeg.fif.gz or _ieeg.fif.gz\n",
      "  raw.save(path_name,picks,start_time,end_time)\n",
      "<ipython-input-19-426d102596f8>:17: RuntimeWarning: This filename (E:\\jupyter file\\EEG_process\\se\\蒲娱20211213.fif) does not conform to MNE naming conventions. All raw files should end with raw.fif, raw_sss.fif, raw_tsss.fif, _meg.fif, _eeg.fif, _ieeg.fif, raw.fif.gz, raw_sss.fif.gz, raw_tsss.fif.gz, _meg.fif.gz, _eeg.fif.gz or _ieeg.fif.gz\n",
      "  raw.save(path_name,picks,start_time,end_time)\n"
     ]
    },
    {
     "name": "stdout",
     "output_type": "stream",
     "text": [
      "Closing E:\\jupyter file\\EEG_process\\se\\蒲娱20211213.fif\n",
      "[done]\n",
      "Extracting EDF parameters from E:\\jupyter file\\EEG_process\\病人数据-第三批\\治疗\\蒲娱\\20211215.edf...\n",
      "EDF file detected\n",
      "Setting channel info structure...\n",
      "Creating raw.info structure...\n",
      "Used Annotations descriptions: ['File Create', 'Recording ends', 'Recording starts', 'SE', 'end', 'start']\n",
      "1.5 + 17.5\n",
      ".\\se\\蒲娱20211215.fif\n",
      "Writing E:\\jupyter file\\EEG_process\\se\\蒲娱20211215.fif\n",
      "Closing E:\\jupyter file\\EEG_process\\se\\蒲娱20211215.fif\n",
      "[done]\n",
      "Extracting EDF parameters from E:\\jupyter file\\EEG_process\\病人数据-第三批\\治疗\\蒲娱\\20211217.edf...\n",
      "EDF file detected\n",
      "Setting channel info structure...\n",
      "Creating raw.info structure...\n",
      "Used Annotations descriptions: ['File Create', 'Recording ends', 'Recording starts', 'SE', 'end', 'start']\n",
      "0.8125 + 16.8125\n",
      ".\\se\\蒲娱20211217.fif\n",
      "Writing E:\\jupyter file\\EEG_process\\se\\蒲娱20211217.fif\n",
      "Closing E:\\jupyter file\\EEG_process\\se\\蒲娱20211217.fif\n",
      "[done]\n",
      "Extracting EDF parameters from E:\\jupyter file\\EEG_process\\病人数据-第三批\\治疗\\蒲娱\\20211220.edf...\n",
      "EDF file detected\n",
      "Setting channel info structure...\n",
      "Creating raw.info structure...\n",
      "Used Annotations descriptions: ['File Create', 'Recording ends', 'Recording starts', 'SE', 'end', 'start']\n"
     ]
    },
    {
     "name": "stderr",
     "output_type": "stream",
     "text": [
      "<ipython-input-19-426d102596f8>:17: RuntimeWarning: This filename (E:\\jupyter file\\EEG_process\\se\\蒲娱20211215.fif) does not conform to MNE naming conventions. All raw files should end with raw.fif, raw_sss.fif, raw_tsss.fif, _meg.fif, _eeg.fif, _ieeg.fif, raw.fif.gz, raw_sss.fif.gz, raw_tsss.fif.gz, _meg.fif.gz, _eeg.fif.gz or _ieeg.fif.gz\n",
      "  raw.save(path_name,picks,start_time,end_time)\n",
      "<ipython-input-19-426d102596f8>:17: RuntimeWarning: This filename (E:\\jupyter file\\EEG_process\\se\\蒲娱20211217.fif) does not conform to MNE naming conventions. All raw files should end with raw.fif, raw_sss.fif, raw_tsss.fif, _meg.fif, _eeg.fif, _ieeg.fif, raw.fif.gz, raw_sss.fif.gz, raw_tsss.fif.gz, _meg.fif.gz, _eeg.fif.gz or _ieeg.fif.gz\n",
      "  raw.save(path_name,picks,start_time,end_time)\n"
     ]
    },
    {
     "name": "stdout",
     "output_type": "stream",
     "text": [
      "42.6865234375 + 58.6865234375\n",
      ".\\se\\蒲娱20211220.fif\n",
      "Writing E:\\jupyter file\\EEG_process\\se\\蒲娱20211220.fif\n",
      "Closing E:\\jupyter file\\EEG_process\\se\\蒲娱20211220.fif\n",
      "[done]\n",
      "Extracting EDF parameters from E:\\jupyter file\\EEG_process\\病人数据-第三批\\治疗\\蒲娱\\20211222.edf...\n",
      "EDF file detected\n",
      "Setting channel info structure...\n",
      "Creating raw.info structure...\n",
      "Used Annotations descriptions: ['File Create', 'Recording ends', 'Recording starts', 'SE', 'end', 'start']\n",
      "2.4580078125 + 18.4580078125\n"
     ]
    },
    {
     "name": "stderr",
     "output_type": "stream",
     "text": [
      "<ipython-input-19-426d102596f8>:17: RuntimeWarning: This filename (E:\\jupyter file\\EEG_process\\se\\蒲娱20211220.fif) does not conform to MNE naming conventions. All raw files should end with raw.fif, raw_sss.fif, raw_tsss.fif, _meg.fif, _eeg.fif, _ieeg.fif, raw.fif.gz, raw_sss.fif.gz, raw_tsss.fif.gz, _meg.fif.gz, _eeg.fif.gz or _ieeg.fif.gz\n",
      "  raw.save(path_name,picks,start_time,end_time)\n"
     ]
    },
    {
     "name": "stdout",
     "output_type": "stream",
     "text": [
      ".\\se\\蒲娱20211222.fif\n",
      "Writing E:\\jupyter file\\EEG_process\\se\\蒲娱20211222.fif\n",
      "Closing E:\\jupyter file\\EEG_process\\se\\蒲娱20211222.fif\n",
      "[done]\n",
      "Extracting EDF parameters from E:\\jupyter file\\EEG_process\\病人数据-第三批\\治疗\\郑自经\\20211227.edf...\n",
      "EDF file detected\n",
      "Setting channel info structure...\n",
      "Creating raw.info structure...\n",
      "Used Annotations descriptions: ['File Create', 'Recording ends', 'Recording starts', 'SE', 'end', 'start']\n",
      "11.009765625 + 27.009765625\n",
      ".\\se\\郑自经20211227.fif\n",
      "Writing E:\\jupyter file\\EEG_process\\se\\郑自经20211227.fif\n",
      "Closing E:\\jupyter file\\EEG_process\\se\\郑自经20211227.fif\n",
      "[done]\n",
      "Extracting EDF parameters from E:\\jupyter file\\EEG_process\\病人数据-第三批\\治疗\\郑自经\\20211229.edf...\n",
      "EDF file detected\n",
      "Setting channel info structure...\n",
      "Creating raw.info structure...\n"
     ]
    },
    {
     "name": "stderr",
     "output_type": "stream",
     "text": [
      "<ipython-input-19-426d102596f8>:17: RuntimeWarning: This filename (E:\\jupyter file\\EEG_process\\se\\蒲娱20211222.fif) does not conform to MNE naming conventions. All raw files should end with raw.fif, raw_sss.fif, raw_tsss.fif, _meg.fif, _eeg.fif, _ieeg.fif, raw.fif.gz, raw_sss.fif.gz, raw_tsss.fif.gz, _meg.fif.gz, _eeg.fif.gz or _ieeg.fif.gz\n",
      "  raw.save(path_name,picks,start_time,end_time)\n",
      "<ipython-input-19-426d102596f8>:17: RuntimeWarning: This filename (E:\\jupyter file\\EEG_process\\se\\郑自经20211227.fif) does not conform to MNE naming conventions. All raw files should end with raw.fif, raw_sss.fif, raw_tsss.fif, _meg.fif, _eeg.fif, _ieeg.fif, raw.fif.gz, raw_sss.fif.gz, raw_tsss.fif.gz, _meg.fif.gz, _eeg.fif.gz or _ieeg.fif.gz\n",
      "  raw.save(path_name,picks,start_time,end_time)\n"
     ]
    },
    {
     "name": "stdout",
     "output_type": "stream",
     "text": [
      "Used Annotations descriptions: ['File Create', 'Recording ends', 'Recording starts', 'SE', 'end', 'start']\n",
      "678.8740234375 + 694.8740234375\n",
      ".\\se\\郑自经20211229.fif\n",
      "Writing E:\\jupyter file\\EEG_process\\se\\郑自经20211229.fif\n",
      "Closing E:\\jupyter file\\EEG_process\\se\\郑自经20211229.fif\n",
      "[done]\n",
      "Extracting EDF parameters from E:\\jupyter file\\EEG_process\\病人数据-第三批\\治疗\\郑自经\\20211231.edf...\n",
      "EDF file detected\n",
      "Setting channel info structure...\n",
      "Creating raw.info structure...\n",
      "Used Annotations descriptions: ['File Create', 'Recording ends', 'Recording starts', 'SE', 'end', 'start']\n",
      "5.0556640625 + 21.0556640625\n",
      ".\\se\\郑自经20211231.fif\n",
      "Writing E:\\jupyter file\\EEG_process\\se\\郑自经20211231.fif\n",
      "Closing E:\\jupyter file\\EEG_process\\se\\郑自经20211231.fif\n",
      "[done]\n",
      "Extracting EDF parameters from E:\\jupyter file\\EEG_process\\病人数据-第三批\\治疗\\郑自经\\20220105.edf...\n",
      "EDF file detected\n",
      "Setting channel info structure...\n",
      "Creating raw.info structure...\n",
      "Used Annotations descriptions: ['File Create', 'Recording ends', 'Recording starts', 'SE', 'end', 'start']\n",
      "40.7509765625 + 56.7509765625\n"
     ]
    },
    {
     "name": "stderr",
     "output_type": "stream",
     "text": [
      "<ipython-input-19-426d102596f8>:17: RuntimeWarning: This filename (E:\\jupyter file\\EEG_process\\se\\郑自经20211229.fif) does not conform to MNE naming conventions. All raw files should end with raw.fif, raw_sss.fif, raw_tsss.fif, _meg.fif, _eeg.fif, _ieeg.fif, raw.fif.gz, raw_sss.fif.gz, raw_tsss.fif.gz, _meg.fif.gz, _eeg.fif.gz or _ieeg.fif.gz\n",
      "  raw.save(path_name,picks,start_time,end_time)\n",
      "<ipython-input-19-426d102596f8>:17: RuntimeWarning: This filename (E:\\jupyter file\\EEG_process\\se\\郑自经20211231.fif) does not conform to MNE naming conventions. All raw files should end with raw.fif, raw_sss.fif, raw_tsss.fif, _meg.fif, _eeg.fif, _ieeg.fif, raw.fif.gz, raw_sss.fif.gz, raw_tsss.fif.gz, _meg.fif.gz, _eeg.fif.gz or _ieeg.fif.gz\n",
      "  raw.save(path_name,picks,start_time,end_time)\n"
     ]
    },
    {
     "name": "stdout",
     "output_type": "stream",
     "text": [
      ".\\se\\郑自经20220105.fif\n",
      "Writing E:\\jupyter file\\EEG_process\\se\\郑自经20220105.fif\n",
      "Closing E:\\jupyter file\\EEG_process\\se\\郑自经20220105.fif\n",
      "[done]\n",
      "Extracting EDF parameters from E:\\jupyter file\\EEG_process\\病人数据-第三批\\治疗\\郑自经\\20220107.edf...\n",
      "EDF file detected\n",
      "Setting channel info structure...\n",
      "Creating raw.info structure...\n",
      "Used Annotations descriptions: ['File Create', 'Recording ends', 'Recording starts', 'SE', 'end', 'start']\n",
      "3.970703125 + 19.970703125\n",
      ".\\se\\郑自经20220107.fif\n",
      "Writing E:\\jupyter file\\EEG_process\\se\\郑自经20220107.fif\n",
      "Closing E:\\jupyter file\\EEG_process\\se\\郑自经20220107.fif\n",
      "[done]\n",
      "Extracting EDF parameters from E:\\jupyter file\\EEG_process\\病人数据-第三批\\治疗\\郑自经\\20220112.edf...\n",
      "EDF file detected\n",
      "Setting channel info structure...\n",
      "Creating raw.info structure...\n",
      "Used Annotations descriptions: ['File Create', 'Recording ends', 'Recording starts', 'SE', 'end', 'start']\n"
     ]
    },
    {
     "name": "stderr",
     "output_type": "stream",
     "text": [
      "<ipython-input-19-426d102596f8>:17: RuntimeWarning: This filename (E:\\jupyter file\\EEG_process\\se\\郑自经20220105.fif) does not conform to MNE naming conventions. All raw files should end with raw.fif, raw_sss.fif, raw_tsss.fif, _meg.fif, _eeg.fif, _ieeg.fif, raw.fif.gz, raw_sss.fif.gz, raw_tsss.fif.gz, _meg.fif.gz, _eeg.fif.gz or _ieeg.fif.gz\n",
      "  raw.save(path_name,picks,start_time,end_time)\n",
      "<ipython-input-19-426d102596f8>:17: RuntimeWarning: This filename (E:\\jupyter file\\EEG_process\\se\\郑自经20220107.fif) does not conform to MNE naming conventions. All raw files should end with raw.fif, raw_sss.fif, raw_tsss.fif, _meg.fif, _eeg.fif, _ieeg.fif, raw.fif.gz, raw_sss.fif.gz, raw_tsss.fif.gz, _meg.fif.gz, _eeg.fif.gz or _ieeg.fif.gz\n",
      "  raw.save(path_name,picks,start_time,end_time)\n"
     ]
    },
    {
     "name": "stdout",
     "output_type": "stream",
     "text": [
      "372.9169921875 + 388.9169921875\n",
      ".\\se\\郑自经20220112.fif\n",
      "Writing E:\\jupyter file\\EEG_process\\se\\郑自经20220112.fif\n",
      "Closing E:\\jupyter file\\EEG_process\\se\\郑自经20220112.fif\n",
      "[done]\n",
      "Extracting EDF parameters from E:\\jupyter file\\EEG_process\\病人数据-第三批\\治疗\\鄢祥乐\\20211224.edf...\n",
      "EDF file detected\n",
      "Setting channel info structure...\n",
      "Creating raw.info structure...\n",
      "Used Annotations descriptions: ['File Create', 'Recording ends', 'Recording starts', 'SE', 'end', 'start']\n",
      "301.5615234375 + 317.5615234375\n"
     ]
    },
    {
     "name": "stderr",
     "output_type": "stream",
     "text": [
      "<ipython-input-19-426d102596f8>:17: RuntimeWarning: This filename (E:\\jupyter file\\EEG_process\\se\\郑自经20220112.fif) does not conform to MNE naming conventions. All raw files should end with raw.fif, raw_sss.fif, raw_tsss.fif, _meg.fif, _eeg.fif, _ieeg.fif, raw.fif.gz, raw_sss.fif.gz, raw_tsss.fif.gz, _meg.fif.gz, _eeg.fif.gz or _ieeg.fif.gz\n",
      "  raw.save(path_name,picks,start_time,end_time)\n"
     ]
    },
    {
     "name": "stdout",
     "output_type": "stream",
     "text": [
      ".\\se\\鄢祥乐20211224.fif\n",
      "Writing E:\\jupyter file\\EEG_process\\se\\鄢祥乐20211224.fif\n",
      "Closing E:\\jupyter file\\EEG_process\\se\\鄢祥乐20211224.fif\n",
      "[done]\n",
      "Extracting EDF parameters from E:\\jupyter file\\EEG_process\\病人数据-第三批\\治疗\\鄢祥乐\\20211227.edf...\n",
      "EDF file detected\n",
      "Setting channel info structure...\n",
      "Creating raw.info structure...\n",
      "Used Annotations descriptions: ['File Create', 'Recording ends', 'Recording starts', 'SE', 'end', 'start']\n",
      "54.361328125 + 70.361328125\n",
      ".\\se\\鄢祥乐20211227.fif\n",
      "Writing E:\\jupyter file\\EEG_process\\se\\鄢祥乐20211227.fif\n",
      "Closing E:\\jupyter file\\EEG_process\\se\\鄢祥乐20211227.fif\n",
      "[done]\n",
      "Extracting EDF parameters from E:\\jupyter file\\EEG_process\\病人数据-第三批\\治疗\\鄢祥乐\\20211229.edf...\n",
      "EDF file detected\n",
      "Setting channel info structure...\n",
      "Creating raw.info structure...\n",
      "Used Annotations descriptions: ['File Create', 'Recording ends', 'Recording starts', 'SE', 'end', 'start']\n",
      "15.2685546875 + 31.2685546875\n",
      ".\\se\\鄢祥乐20211229.fif\n",
      "Writing E:\\jupyter file\\EEG_process\\se\\鄢祥乐20211229.fif\n",
      "Closing E:\\jupyter file\\EEG_process\\se\\鄢祥乐20211229.fif\n"
     ]
    },
    {
     "name": "stderr",
     "output_type": "stream",
     "text": [
      "<ipython-input-19-426d102596f8>:17: RuntimeWarning: This filename (E:\\jupyter file\\EEG_process\\se\\鄢祥乐20211224.fif) does not conform to MNE naming conventions. All raw files should end with raw.fif, raw_sss.fif, raw_tsss.fif, _meg.fif, _eeg.fif, _ieeg.fif, raw.fif.gz, raw_sss.fif.gz, raw_tsss.fif.gz, _meg.fif.gz, _eeg.fif.gz or _ieeg.fif.gz\n",
      "  raw.save(path_name,picks,start_time,end_time)\n",
      "<ipython-input-19-426d102596f8>:17: RuntimeWarning: This filename (E:\\jupyter file\\EEG_process\\se\\鄢祥乐20211227.fif) does not conform to MNE naming conventions. All raw files should end with raw.fif, raw_sss.fif, raw_tsss.fif, _meg.fif, _eeg.fif, _ieeg.fif, raw.fif.gz, raw_sss.fif.gz, raw_tsss.fif.gz, _meg.fif.gz, _eeg.fif.gz or _ieeg.fif.gz\n",
      "  raw.save(path_name,picks,start_time,end_time)\n",
      "<ipython-input-19-426d102596f8>:17: RuntimeWarning: This filename (E:\\jupyter file\\EEG_process\\se\\鄢祥乐20211229.fif) does not conform to MNE naming conventions. All raw files should end with raw.fif, raw_sss.fif, raw_tsss.fif, _meg.fif, _eeg.fif, _ieeg.fif, raw.fif.gz, raw_sss.fif.gz, raw_tsss.fif.gz, _meg.fif.gz, _eeg.fif.gz or _ieeg.fif.gz\n",
      "  raw.save(path_name,picks,start_time,end_time)\n"
     ]
    },
    {
     "name": "stdout",
     "output_type": "stream",
     "text": [
      "[done]\n",
      "Extracting EDF parameters from E:\\jupyter file\\EEG_process\\病人数据-第三批\\治疗\\鄢祥乐\\20211231.edf...\n",
      "EDF file detected\n",
      "Setting channel info structure...\n",
      "Creating raw.info structure...\n",
      "Used Annotations descriptions: ['File Create', 'Recording ends', 'Recording starts', 'SE', 'end', 'start']\n",
      "20.38671875 + 36.38671875\n",
      ".\\se\\鄢祥乐20211231.fif\n",
      "Writing E:\\jupyter file\\EEG_process\\se\\鄢祥乐20211231.fif\n",
      "Closing E:\\jupyter file\\EEG_process\\se\\鄢祥乐20211231.fif\n",
      "[done]\n",
      "Extracting EDF parameters from E:\\jupyter file\\EEG_process\\病人数据-第三批\\治疗\\鄢祥乐\\20220105.edf...\n",
      "EDF file detected\n",
      "Setting channel info structure...\n",
      "Creating raw.info structure...\n",
      "Used Annotations descriptions: ['File Create', 'Recording ends', 'Recording starts', 'SE', 'end', 'start']\n",
      "52.0615234375 + 68.0615234375\n",
      ".\\se\\鄢祥乐20220105.fif\n",
      "Writing E:\\jupyter file\\EEG_process\\se\\鄢祥乐20220105.fif\n",
      "Closing E:\\jupyter file\\EEG_process\\se\\鄢祥乐20220105.fif\n",
      "[done]\n",
      "Extracting EDF parameters from E:\\jupyter file\\EEG_process\\病人数据-第三批\\治疗\\鄢祥乐\\20220107.edf...\n",
      "EDF file detected\n",
      "Setting channel info structure...\n",
      "Creating raw.info structure...\n",
      "Used Annotations descriptions: ['File Create', 'Recording ends', 'Recording starts', 'SE', 'end', 'start']\n"
     ]
    },
    {
     "name": "stderr",
     "output_type": "stream",
     "text": [
      "<ipython-input-19-426d102596f8>:17: RuntimeWarning: This filename (E:\\jupyter file\\EEG_process\\se\\鄢祥乐20211231.fif) does not conform to MNE naming conventions. All raw files should end with raw.fif, raw_sss.fif, raw_tsss.fif, _meg.fif, _eeg.fif, _ieeg.fif, raw.fif.gz, raw_sss.fif.gz, raw_tsss.fif.gz, _meg.fif.gz, _eeg.fif.gz or _ieeg.fif.gz\n",
      "  raw.save(path_name,picks,start_time,end_time)\n",
      "<ipython-input-19-426d102596f8>:17: RuntimeWarning: This filename (E:\\jupyter file\\EEG_process\\se\\鄢祥乐20220105.fif) does not conform to MNE naming conventions. All raw files should end with raw.fif, raw_sss.fif, raw_tsss.fif, _meg.fif, _eeg.fif, _ieeg.fif, raw.fif.gz, raw_sss.fif.gz, raw_tsss.fif.gz, _meg.fif.gz, _eeg.fif.gz or _ieeg.fif.gz\n",
      "  raw.save(path_name,picks,start_time,end_time)\n"
     ]
    },
    {
     "name": "stdout",
     "output_type": "stream",
     "text": [
      "0.408203125 + 16.408203125\n",
      ".\\se\\鄢祥乐20220107.fif\n",
      "Writing E:\\jupyter file\\EEG_process\\se\\鄢祥乐20220107.fif\n",
      "Closing E:\\jupyter file\\EEG_process\\se\\鄢祥乐20220107.fif\n",
      "[done]\n",
      "Extracting EDF parameters from E:\\jupyter file\\EEG_process\\病人数据-第三批\\治疗\\陈文博（数据无法用）\\20211210（数据质量差，未标定）.edf...\n",
      "EDF file detected\n",
      "Setting channel info structure...\n",
      "Creating raw.info structure...\n",
      "Used Annotations descriptions: ['File Create', 'Recording ends', 'Recording starts', 'SE']\n",
      "43.228515625 + 59.228515625\n",
      ".\\se\\陈文博（数据无法用）20211210（数据质量差，未标定）.fif\n",
      "Writing E:\\jupyter file\\EEG_process\\se\\陈文博（数据无法用）20211210（数据质量差，未标定）.fif\n",
      "Closing E:\\jupyter file\\EEG_process\\se\\陈文博（数据无法用）20211210（数据质量差，未标定）.fif\n",
      "[done]\n",
      "Extracting EDF parameters from E:\\jupyter file\\EEG_process\\病人数据-第三批\\治疗\\黄靖宇（所有数据都差）\\20211213（未发作）.edf...\n",
      "EDF file detected\n",
      "Setting channel info structure...\n",
      "Creating raw.info structure...\n",
      "Used Annotations descriptions: ['File Create', 'Recording ends', 'Recording starts', 'SE']\n"
     ]
    },
    {
     "name": "stderr",
     "output_type": "stream",
     "text": [
      "<ipython-input-19-426d102596f8>:17: RuntimeWarning: This filename (E:\\jupyter file\\EEG_process\\se\\鄢祥乐20220107.fif) does not conform to MNE naming conventions. All raw files should end with raw.fif, raw_sss.fif, raw_tsss.fif, _meg.fif, _eeg.fif, _ieeg.fif, raw.fif.gz, raw_sss.fif.gz, raw_tsss.fif.gz, _meg.fif.gz, _eeg.fif.gz or _ieeg.fif.gz\n",
      "  raw.save(path_name,picks,start_time,end_time)\n",
      "<ipython-input-19-426d102596f8>:17: RuntimeWarning: This filename (E:\\jupyter file\\EEG_process\\se\\陈文博（数据无法用）20211210（数据质量差，未标定）.fif) does not conform to MNE naming conventions. All raw files should end with raw.fif, raw_sss.fif, raw_tsss.fif, _meg.fif, _eeg.fif, _ieeg.fif, raw.fif.gz, raw_sss.fif.gz, raw_tsss.fif.gz, _meg.fif.gz, _eeg.fif.gz or _ieeg.fif.gz\n",
      "  raw.save(path_name,picks,start_time,end_time)\n"
     ]
    },
    {
     "name": "stdout",
     "output_type": "stream",
     "text": [
      "68.4306640625 + 84.4306640625\n",
      ".\\se\\黄靖宇（所有数据都差）20211213（未发作）.fif\n",
      "Writing E:\\jupyter file\\EEG_process\\se\\黄靖宇（所有数据都差）20211213（未发作）.fif\n",
      "Closing E:\\jupyter file\\EEG_process\\se\\黄靖宇（所有数据都差）20211213（未发作）.fif\n",
      "[done]\n",
      "Extracting EDF parameters from E:\\jupyter file\\EEG_process\\病人数据-第三批\\治疗\\黄靖宇（所有数据都差）\\20211215（未发作）.edf...\n",
      "EDF file detected\n",
      "Setting channel info structure...\n",
      "Creating raw.info structure...\n",
      "Used Annotations descriptions: ['File Create', 'Recording ends', 'Recording starts', 'SE', 'end', 'start']\n",
      "51.9990234375 + 67.9990234375\n",
      ".\\se\\黄靖宇（所有数据都差）20211215（未发作）.fif\n",
      "Writing E:\\jupyter file\\EEG_process\\se\\黄靖宇（所有数据都差）20211215（未发作）.fif\n",
      "Closing E:\\jupyter file\\EEG_process\\se\\黄靖宇（所有数据都差）20211215（未发作）.fif\n",
      "[done]\n",
      "94\n"
     ]
    },
    {
     "name": "stderr",
     "output_type": "stream",
     "text": [
      "<ipython-input-19-426d102596f8>:17: RuntimeWarning: This filename (E:\\jupyter file\\EEG_process\\se\\黄靖宇（所有数据都差）20211213（未发作）.fif) does not conform to MNE naming conventions. All raw files should end with raw.fif, raw_sss.fif, raw_tsss.fif, _meg.fif, _eeg.fif, _ieeg.fif, raw.fif.gz, raw_sss.fif.gz, raw_tsss.fif.gz, _meg.fif.gz, _eeg.fif.gz or _ieeg.fif.gz\n",
      "  raw.save(path_name,picks,start_time,end_time)\n",
      "<ipython-input-19-426d102596f8>:17: RuntimeWarning: This filename (E:\\jupyter file\\EEG_process\\se\\黄靖宇（所有数据都差）20211215（未发作）.fif) does not conform to MNE naming conventions. All raw files should end with raw.fif, raw_sss.fif, raw_tsss.fif, _meg.fif, _eeg.fif, _ieeg.fif, raw.fif.gz, raw_sss.fif.gz, raw_tsss.fif.gz, _meg.fif.gz, _eeg.fif.gz or _ieeg.fif.gz\n",
      "  raw.save(path_name,picks,start_time,end_time)\n"
     ]
    }
   ],
   "source": [
    "# for i in range(len(file_name)):\n",
    "#     if file_flag_list[i]==1:\n",
    "#         get_se_epochs(file_name[i])"
   ]
  },
  {
   "cell_type": "code",
   "execution_count": null,
   "id": "07d4d472",
   "metadata": {},
   "outputs": [],
   "source": []
  },
  {
   "cell_type": "code",
   "execution_count": null,
   "id": "100abeb8",
   "metadata": {},
   "outputs": [],
   "source": []
  }
 ],
 "metadata": {
  "kernelspec": {
   "display_name": "Python 3",
   "language": "python",
   "name": "python3"
  },
  "language_info": {
   "codemirror_mode": {
    "name": "ipython",
    "version": 3
   },
   "file_extension": ".py",
   "mimetype": "text/x-python",
   "name": "python",
   "nbconvert_exporter": "python",
   "pygments_lexer": "ipython3",
   "version": "3.8.8"
  }
 },
 "nbformat": 4,
 "nbformat_minor": 5
}
