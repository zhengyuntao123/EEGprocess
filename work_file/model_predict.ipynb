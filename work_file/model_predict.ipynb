{
 "cells": [
  {
   "cell_type": "code",
   "execution_count": 1,
   "id": "069e0af1",
   "metadata": {},
   "outputs": [],
   "source": [
    "import mne\n",
    "import numpy as np\n",
    "import tensorflow as tf\n",
    "import pandas as pd"
   ]
  },
  {
   "cell_type": "code",
   "execution_count": 2,
   "id": "7f4deded",
   "metadata": {},
   "outputs": [],
   "source": [
    "model_path='../model_save/model_3_ECT+16s_8_40_0.2_0.757291_.h5'\n",
    "file_path='../SE_train_processed/Z曾刚20220216_bias_0.fif'"
   ]
  },
  {
   "cell_type": "code",
   "execution_count": 3,
   "id": "7b7e433f",
   "metadata": {},
   "outputs": [],
   "source": [
    "train_SE_len=16\n",
    "channel_num=15\n",
    "samps=2\n",
    "parameter=[0,1]"
   ]
  },
  {
   "cell_type": "code",
   "execution_count": 4,
   "id": "540f6113",
   "metadata": {},
   "outputs": [],
   "source": [
    "stimulate_parameter=[]\n",
    "for i in range (int(train_SE_len/2)*channel_num):\n",
    "    stimulate_parameter.append(parameter)\n",
    "stimulate_parameter=np.array(stimulate_parameter)"
   ]
  },
  {
   "cell_type": "code",
   "execution_count": 5,
   "id": "fafe1033",
   "metadata": {},
   "outputs": [
    {
     "data": {
      "text/plain": [
       "(120, 2)"
      ]
     },
     "execution_count": 5,
     "metadata": {},
     "output_type": "execute_result"
    }
   ],
   "source": [
    "stimulate_parameter.shape"
   ]
  },
  {
   "cell_type": "code",
   "execution_count": 6,
   "id": "c174a318",
   "metadata": {},
   "outputs": [
    {
     "name": "stdout",
     "output_type": "stream",
     "text": [
      "Opening raw data file ../SE_train_processed/Z曾刚20220216_bias_0.fif...\n",
      "Isotrak not found\n",
      "    Range : 0 ... 4095 =      0.000 ...    15.996 secs\n",
      "Ready.\n"
     ]
    },
    {
     "name": "stderr",
     "output_type": "stream",
     "text": [
      "<ipython-input-6-cc88d82930ce>:2: RuntimeWarning: This filename (../SE_train_processed/Z曾刚20220216_bias_0.fif) does not conform to MNE naming conventions. All raw files should end with raw.fif, raw_sss.fif, raw_tsss.fif, _meg.fif, _eeg.fif, _ieeg.fif, raw.fif.gz, raw_sss.fif.gz, raw_tsss.fif.gz, _meg.fif.gz, _eeg.fif.gz or _ieeg.fif.gz\n",
      "  raw = mne.io.read_raw_fif(file_path)\n"
     ]
    }
   ],
   "source": [
    "x_predict=[]\n",
    "raw = mne.io.read_raw_fif(file_path)\n",
    "data,time=raw[:]\n",
    "for k in range(channel_num):\n",
    "    data_channel = data[k]\n",
    "    for j in range(0,train_SE_len,samps):\n",
    "        data_temp = data_channel[j*256:(j+samps)*256]\n",
    "        x_predict.append(data_temp)\n",
    "x_predict=np.array(x_predict)"
   ]
  },
  {
   "cell_type": "code",
   "execution_count": 7,
   "id": "eb4e1189",
   "metadata": {},
   "outputs": [],
   "source": [
    "loaded_model = tf.keras.models.load_model(model_path)"
   ]
  },
  {
   "cell_type": "code",
   "execution_count": 8,
   "id": "6ab7aedc",
   "metadata": {},
   "outputs": [],
   "source": [
    "y_predict=loaded_model.predict([x_predict,stimulate_parameter])"
   ]
  },
  {
   "cell_type": "code",
   "execution_count": 9,
   "id": "194d74db",
   "metadata": {},
   "outputs": [
    {
     "name": "stdout",
     "output_type": "stream",
     "text": [
      "Yes\n"
     ]
    }
   ],
   "source": [
    "y_sum=0\n",
    "for i in range (y_predict.shape[0]):\n",
    "    y_sum+=y_predict[i][0]\n",
    "y_average=y_sum/y_predict.shape[0]\n",
    "if (y_average>0.5):\n",
    "    print(\"Yes\")\n",
    "else:\n",
    "    print(\"No\")"
   ]
  },
  {
   "cell_type": "code",
   "execution_count": null,
   "id": "eaeb2c48",
   "metadata": {},
   "outputs": [],
   "source": []
  }
 ],
 "metadata": {
  "kernelspec": {
   "display_name": "Python 3",
   "language": "python",
   "name": "python3"
  },
  "language_info": {
   "codemirror_mode": {
    "name": "ipython",
    "version": 3
   },
   "file_extension": ".py",
   "mimetype": "text/x-python",
   "name": "python",
   "nbconvert_exporter": "python",
   "pygments_lexer": "ipython3",
   "version": "3.8.8"
  }
 },
 "nbformat": 4,
 "nbformat_minor": 5
}
