{
 "cells": [
  {
   "cell_type": "code",
   "execution_count": 1,
   "id": "bece53e8",
   "metadata": {},
   "outputs": [],
   "source": [
    "from mne.io import concatenate_raws, read_raw_edf\n",
    "import mne\n",
    "import glob"
   ]
  },
  {
   "cell_type": "code",
   "execution_count": 2,
   "id": "da1ef5b4",
   "metadata": {},
   "outputs": [],
   "source": [
    "rest_path = r\"../patient_data/静息脑电（第一批次）/\"\n",
    "therapy_path=r\"../patient_data/治疗脑电（第一批次）/\"\n",
    "\n",
    "# rest_subdirectory = sorted(glob.glob(rest_path+\"*\"))\n",
    "# therapy_subdirectory = sorted(glob.glob(therapy_path+\"*\"))\n",
    "therapy_file_path = sorted(glob.glob(therapy_path+\"*\"))"
   ]
  },
  {
   "cell_type": "code",
   "execution_count": 3,
   "id": "caf705a4",
   "metadata": {},
   "outputs": [],
   "source": [
    "# therapy_file_path"
   ]
  },
  {
   "cell_type": "code",
   "execution_count": 4,
   "id": "7d9c03a4",
   "metadata": {},
   "outputs": [],
   "source": [
    "# print(rest_subdirectory)\n",
    "# # 一级子目录\n",
    "# print(therapy_subdirectory)"
   ]
  },
  {
   "cell_type": "code",
   "execution_count": 5,
   "id": "4a630c3d",
   "metadata": {},
   "outputs": [],
   "source": [
    "# therapy_file_path = []\n",
    "# for directory in therapy_subdirectory:\n",
    "#     therapy_file_path.append(glob.glob(directory+\"/*\"))\n",
    "# # file_path"
   ]
  },
  {
   "cell_type": "code",
   "execution_count": 6,
   "id": "74813590",
   "metadata": {
    "code_folding": []
   },
   "outputs": [],
   "source": [
    "#检测EEG文件是否有flag标记,返回true/false\n",
    "def judgeflag(file_path,flag):\n",
    "    raw = read_raw_edf(file_path,preload=False)\n",
    "    events_from_annot, event_dict = mne.events_from_annotations(raw)\n",
    "    if flag in event_dict:\n",
    "        return True\n",
    "    else:\n",
    "        return False"
   ]
  },
  {
   "cell_type": "code",
   "execution_count": 7,
   "id": "be52f2c0",
   "metadata": {},
   "outputs": [],
   "source": [
    "# 数据采样率1024Hz,文件路径；采集时间；麻醉起始点的偏移(s)\n",
    "def get_se_epochs(path,select_time,bias):\n",
    "    #选择15个通道\n",
    "    chs1 = ['EEG Fp1-AV', 'EEG Fp2-AV', 'EEG F3-AV', 'EEG F4-AV', 'EEG C3-AV', 'EEG C4-AV', 'EEG P3-AV', 'EEG P4-AV',\n",
    "       'EEG O1-AV', 'EEG O2-AV', 'EEG T3-AV', 'EEG T4-AV', 'EEG T5-AV', 'EEG T6-AV','EEG Cz-AV']\n",
    "    chs2 =['EEG Fp1-A1', 'EEG Fp2-A2', 'EEG F3-A1','EEG F4-A2','EEG C3-A1','EEG C4-A2','EEG P3-A1','EEG P4-A2','EEG O1-A1',\n",
    "           'EEG O2-A2','EEG T3-A1','EEG T4-A2','EEG T5-A1','EEG T6-A2','EEG Cz-AAV']\n",
    "    # select_time 采集的时间\n",
    "    raw=read_raw_edf(path,preload=False)\n",
    "    if (chs1[0] in raw.info.ch_names):\n",
    "        chs=chs1\n",
    "    else:\n",
    "        chs=chs2\n",
    "    raw=raw.pick_channels(chs)\n",
    "    events_from_annot, event_dict = mne.events_from_annotations(raw)\n",
    "    # 第二个标记是SE，麻醉标记\n",
    "    start_time=float(events_from_annot[2][0])/1024 + bias\n",
    "    # SE标记处,save函数的参数单位是s，所以要除以1024\n",
    "    end_time=start_time+select_time\n",
    "    print(start_time,\"+\",end_time)\n",
    "    #选择所有的15通道\n",
    "    data,time = raw[:,:] \n",
    "    picks=None\n",
    "    path_name=path.split('\\\\')[1:]\n",
    "    path_name=\"\".join(path_name)\n",
    "    path_name=path_name.split('.')[0]\n",
    "    path_name=r\"../SE_train/\" + path_name + \"_bias:\" + str(bias) +\".fif\"\n",
    "    path_name=path_name.replace('/','\\\\')\n",
    "    print(path_name)\n",
    "    # 文件保存至当前目录下的SE文件夹中\n",
    "    raw.save(path_name,picks,start_time,end_time,overwrite=True)"
   ]
  },
  {
   "cell_type": "code",
   "execution_count": 9,
   "id": "d19d4c79",
   "metadata": {},
   "outputs": [
    {
     "name": "stdout",
     "output_type": "stream",
     "text": [
      "Extracting EDF parameters from H:\\Anaconda-jupyter\\ECT课题\\第四批病人数据\\治疗脑电（第一批次）\\Z何富桂20220221.edf...\n",
      "EDF file detected\n",
      "Setting channel info structure...\n",
      "Creating raw.info structure...\n",
      "Used Annotations descriptions: ['File Create', 'Recording ends', 'Recording starts', 'SE', 'end', 'start']\n",
      "Extracting EDF parameters from H:\\Anaconda-jupyter\\ECT课题\\第四批病人数据\\治疗脑电（第一批次）\\Z何富桂20220221.edf...\n",
      "EDF file detected\n",
      "Setting channel info structure...\n",
      "Creating raw.info structure...\n",
      "Used Annotations descriptions: ['File Create', 'Recording ends', 'Recording starts', 'SE', 'end', 'start']\n",
      "8.7099609375 + 16.7099609375\n",
      ".\\SE\\Z何富桂202202210.fif\n",
      "Writing H:\\Anaconda-jupyter\\ECT课题\\病人数据处理\\SE\\Z何富桂202202210.fif\n",
      "Closing H:\\Anaconda-jupyter\\ECT课题\\病人数据处理\\SE\\Z何富桂202202210.fif\n",
      "[done]\n",
      "Extracting EDF parameters from H:\\Anaconda-jupyter\\ECT课题\\第四批病人数据\\治疗脑电（第一批次）\\Z何富桂20220225.edf...\n",
      "EDF file detected\n",
      "Setting channel info structure...\n",
      "Creating raw.info structure...\n"
     ]
    },
    {
     "name": "stderr",
     "output_type": "stream",
     "text": [
      "<ipython-input-7-ed7de2df3edd>:21: RuntimeWarning: This filename (H:\\Anaconda-jupyter\\ECT课题\\病人数据处理\\SE\\Z何富桂202202210.fif) does not conform to MNE naming conventions. All raw files should end with raw.fif, raw_sss.fif, raw_tsss.fif, _meg.fif, _eeg.fif, _ieeg.fif, raw.fif.gz, raw_sss.fif.gz, raw_tsss.fif.gz, _meg.fif.gz, _eeg.fif.gz or _ieeg.fif.gz\n",
      "  raw.save(path_name,picks,start_time,end_time,overwrite=True)\n"
     ]
    },
    {
     "name": "stdout",
     "output_type": "stream",
     "text": [
      "Used Annotations descriptions: ['File Create', 'Recording ends', 'Recording starts', 'SE', 'end', 'start']\n",
      "Extracting EDF parameters from H:\\Anaconda-jupyter\\ECT课题\\第四批病人数据\\治疗脑电（第一批次）\\Z何富桂20220225.edf...\n",
      "EDF file detected\n",
      "Setting channel info structure...\n",
      "Creating raw.info structure...\n",
      "Used Annotations descriptions: ['File Create', 'Recording ends', 'Recording starts', 'SE', 'end', 'start']\n",
      "227.634765625 + 235.634765625\n",
      ".\\SE\\Z何富桂202202250.fif\n",
      "Writing H:\\Anaconda-jupyter\\ECT课题\\病人数据处理\\SE\\Z何富桂202202250.fif\n",
      "Closing H:\\Anaconda-jupyter\\ECT课题\\病人数据处理\\SE\\Z何富桂202202250.fif\n",
      "[done]\n",
      "Extracting EDF parameters from H:\\Anaconda-jupyter\\ECT课题\\第四批病人数据\\治疗脑电（第一批次）\\Z何富桂20220228.edf...\n",
      "EDF file detected\n",
      "Setting channel info structure...\n",
      "Creating raw.info structure...\n",
      "Used Annotations descriptions: ['File Create', 'Recording ends', 'Recording starts', 'SE', 'end', 'start']\n",
      "Extracting EDF parameters from H:\\Anaconda-jupyter\\ECT课题\\第四批病人数据\\治疗脑电（第一批次）\\Z何富桂20220228.edf...\n",
      "EDF file detected\n",
      "Setting channel info structure...\n",
      "Creating raw.info structure...\n",
      "Used Annotations descriptions: ['File Create', 'Recording ends', 'Recording starts', 'SE', 'end', 'start']\n",
      "10.33203125 + 18.33203125\n",
      ".\\SE\\Z何富桂202202280.fif\n",
      "Writing H:\\Anaconda-jupyter\\ECT课题\\病人数据处理\\SE\\Z何富桂202202280.fif\n",
      "Closing H:\\Anaconda-jupyter\\ECT课题\\病人数据处理\\SE\\Z何富桂202202280.fif\n",
      "[done]\n",
      "Extracting EDF parameters from H:\\Anaconda-jupyter\\ECT课题\\第四批病人数据\\治疗脑电（第一批次）\\Z何富桂20220302.edf...\n"
     ]
    },
    {
     "name": "stderr",
     "output_type": "stream",
     "text": [
      "<ipython-input-7-ed7de2df3edd>:21: RuntimeWarning: This filename (H:\\Anaconda-jupyter\\ECT课题\\病人数据处理\\SE\\Z何富桂202202250.fif) does not conform to MNE naming conventions. All raw files should end with raw.fif, raw_sss.fif, raw_tsss.fif, _meg.fif, _eeg.fif, _ieeg.fif, raw.fif.gz, raw_sss.fif.gz, raw_tsss.fif.gz, _meg.fif.gz, _eeg.fif.gz or _ieeg.fif.gz\n",
      "  raw.save(path_name,picks,start_time,end_time,overwrite=True)\n",
      "<ipython-input-7-ed7de2df3edd>:21: RuntimeWarning: This filename (H:\\Anaconda-jupyter\\ECT课题\\病人数据处理\\SE\\Z何富桂202202280.fif) does not conform to MNE naming conventions. All raw files should end with raw.fif, raw_sss.fif, raw_tsss.fif, _meg.fif, _eeg.fif, _ieeg.fif, raw.fif.gz, raw_sss.fif.gz, raw_tsss.fif.gz, _meg.fif.gz, _eeg.fif.gz or _ieeg.fif.gz\n",
      "  raw.save(path_name,picks,start_time,end_time,overwrite=True)\n"
     ]
    },
    {
     "name": "stdout",
     "output_type": "stream",
     "text": [
      "EDF file detected\n",
      "Setting channel info structure...\n",
      "Creating raw.info structure...\n",
      "Used Annotations descriptions: ['File Create', 'Recording ends', 'Recording starts', 'SE', 'end', 'start']\n",
      "Extracting EDF parameters from H:\\Anaconda-jupyter\\ECT课题\\第四批病人数据\\治疗脑电（第一批次）\\Z何富桂20220302.edf...\n",
      "EDF file detected\n",
      "Setting channel info structure...\n",
      "Creating raw.info structure...\n",
      "Used Annotations descriptions: ['File Create', 'Recording ends', 'Recording starts', 'SE', 'end', 'start']\n",
      "130.6416015625 + 138.6416015625\n",
      ".\\SE\\Z何富桂202203020.fif\n",
      "Writing H:\\Anaconda-jupyter\\ECT课题\\病人数据处理\\SE\\Z何富桂202203020.fif\n",
      "Closing H:\\Anaconda-jupyter\\ECT课题\\病人数据处理\\SE\\Z何富桂202203020.fif\n",
      "[done]\n",
      "Extracting EDF parameters from H:\\Anaconda-jupyter\\ECT课题\\第四批病人数据\\治疗脑电（第一批次）\\Z倪诗瑄202203011.edf...\n",
      "EDF file detected\n",
      "Setting channel info structure...\n",
      "Creating raw.info structure...\n",
      "Used Annotations descriptions: ['File Create', 'Recording ends', 'Recording starts', 'SE', 'end', 'start']\n",
      "Extracting EDF parameters from H:\\Anaconda-jupyter\\ECT课题\\第四批病人数据\\治疗脑电（第一批次）\\Z倪诗瑄202203011.edf...\n",
      "EDF file detected\n",
      "Setting channel info structure...\n",
      "Creating raw.info structure...\n",
      "Used Annotations descriptions: ['File Create', 'Recording ends', 'Recording starts', 'SE', 'end', 'start']\n"
     ]
    },
    {
     "name": "stderr",
     "output_type": "stream",
     "text": [
      "<ipython-input-7-ed7de2df3edd>:21: RuntimeWarning: This filename (H:\\Anaconda-jupyter\\ECT课题\\病人数据处理\\SE\\Z何富桂202203020.fif) does not conform to MNE naming conventions. All raw files should end with raw.fif, raw_sss.fif, raw_tsss.fif, _meg.fif, _eeg.fif, _ieeg.fif, raw.fif.gz, raw_sss.fif.gz, raw_tsss.fif.gz, _meg.fif.gz, _eeg.fif.gz or _ieeg.fif.gz\n",
      "  raw.save(path_name,picks,start_time,end_time,overwrite=True)\n"
     ]
    },
    {
     "name": "stdout",
     "output_type": "stream",
     "text": [
      "2.583984375 + 10.583984375\n",
      ".\\SE\\Z倪诗瑄2022030110.fif\n",
      "Writing H:\\Anaconda-jupyter\\ECT课题\\病人数据处理\\SE\\Z倪诗瑄2022030110.fif\n",
      "Closing H:\\Anaconda-jupyter\\ECT课题\\病人数据处理\\SE\\Z倪诗瑄2022030110.fif\n",
      "[done]\n",
      "Extracting EDF parameters from H:\\Anaconda-jupyter\\ECT课题\\第四批病人数据\\治疗脑电（第一批次）\\Z倪诗瑄202203014.edf...\n",
      "EDF file detected\n",
      "Setting channel info structure...\n",
      "Creating raw.info structure...\n",
      "Used Annotations descriptions: ['File Create', 'Recording ends', 'Recording starts', 'SE', 'end', 'start']\n",
      "Extracting EDF parameters from H:\\Anaconda-jupyter\\ECT课题\\第四批病人数据\\治疗脑电（第一批次）\\Z倪诗瑄202203014.edf...\n",
      "EDF file detected\n",
      "Setting channel info structure...\n",
      "Creating raw.info structure...\n",
      "Used Annotations descriptions: ['File Create', 'Recording ends', 'Recording starts', 'SE', 'end', 'start']\n"
     ]
    },
    {
     "name": "stderr",
     "output_type": "stream",
     "text": [
      "<ipython-input-7-ed7de2df3edd>:21: RuntimeWarning: This filename (H:\\Anaconda-jupyter\\ECT课题\\病人数据处理\\SE\\Z倪诗瑄2022030110.fif) does not conform to MNE naming conventions. All raw files should end with raw.fif, raw_sss.fif, raw_tsss.fif, _meg.fif, _eeg.fif, _ieeg.fif, raw.fif.gz, raw_sss.fif.gz, raw_tsss.fif.gz, _meg.fif.gz, _eeg.fif.gz or _ieeg.fif.gz\n",
      "  raw.save(path_name,picks,start_time,end_time,overwrite=True)\n"
     ]
    },
    {
     "name": "stdout",
     "output_type": "stream",
     "text": [
      "110.263671875 + 118.263671875\n",
      ".\\SE\\Z倪诗瑄2022030140.fif\n",
      "Writing H:\\Anaconda-jupyter\\ECT课题\\病人数据处理\\SE\\Z倪诗瑄2022030140.fif\n",
      "Closing H:\\Anaconda-jupyter\\ECT课题\\病人数据处理\\SE\\Z倪诗瑄2022030140.fif\n",
      "[done]\n",
      "Extracting EDF parameters from H:\\Anaconda-jupyter\\ECT课题\\第四批病人数据\\治疗脑电（第一批次）\\Z倪诗瑄202203016.edf...\n",
      "EDF file detected\n",
      "Setting channel info structure...\n",
      "Creating raw.info structure...\n",
      "Used Annotations descriptions: ['File Create', 'Recording ends', 'Recording starts', 'SE', 'end', 'start']\n",
      "Extracting EDF parameters from H:\\Anaconda-jupyter\\ECT课题\\第四批病人数据\\治疗脑电（第一批次）\\Z倪诗瑄202203016.edf...\n",
      "EDF file detected\n",
      "Setting channel info structure...\n",
      "Creating raw.info structure...\n",
      "Used Annotations descriptions: ['File Create', 'Recording ends', 'Recording starts', 'SE', 'end', 'start']\n"
     ]
    },
    {
     "name": "stderr",
     "output_type": "stream",
     "text": [
      "<ipython-input-7-ed7de2df3edd>:21: RuntimeWarning: This filename (H:\\Anaconda-jupyter\\ECT课题\\病人数据处理\\SE\\Z倪诗瑄2022030140.fif) does not conform to MNE naming conventions. All raw files should end with raw.fif, raw_sss.fif, raw_tsss.fif, _meg.fif, _eeg.fif, _ieeg.fif, raw.fif.gz, raw_sss.fif.gz, raw_tsss.fif.gz, _meg.fif.gz, _eeg.fif.gz or _ieeg.fif.gz\n",
      "  raw.save(path_name,picks,start_time,end_time,overwrite=True)\n"
     ]
    },
    {
     "name": "stdout",
     "output_type": "stream",
     "text": [
      "129.0712890625 + 137.0712890625\n",
      ".\\SE\\Z倪诗瑄2022030160.fif\n",
      "Writing H:\\Anaconda-jupyter\\ECT课题\\病人数据处理\\SE\\Z倪诗瑄2022030160.fif\n",
      "Closing H:\\Anaconda-jupyter\\ECT课题\\病人数据处理\\SE\\Z倪诗瑄2022030160.fif\n",
      "[done]\n",
      "Extracting EDF parameters from H:\\Anaconda-jupyter\\ECT课题\\第四批病人数据\\治疗脑电（第一批次）\\Z倪诗瑄202203018.edf...\n",
      "EDF file detected\n",
      "Setting channel info structure...\n",
      "Creating raw.info structure...\n",
      "Used Annotations descriptions: ['File Create', 'Recording ends', 'Recording starts', 'SE', 'end', 'start']\n",
      "Extracting EDF parameters from H:\\Anaconda-jupyter\\ECT课题\\第四批病人数据\\治疗脑电（第一批次）\\Z倪诗瑄202203018.edf...\n",
      "EDF file detected\n",
      "Setting channel info structure...\n",
      "Creating raw.info structure...\n",
      "Used Annotations descriptions: ['File Create', 'Recording ends', 'Recording starts', 'SE', 'end', 'start']\n"
     ]
    },
    {
     "name": "stderr",
     "output_type": "stream",
     "text": [
      "<ipython-input-7-ed7de2df3edd>:21: RuntimeWarning: This filename (H:\\Anaconda-jupyter\\ECT课题\\病人数据处理\\SE\\Z倪诗瑄2022030160.fif) does not conform to MNE naming conventions. All raw files should end with raw.fif, raw_sss.fif, raw_tsss.fif, _meg.fif, _eeg.fif, _ieeg.fif, raw.fif.gz, raw_sss.fif.gz, raw_tsss.fif.gz, _meg.fif.gz, _eeg.fif.gz or _ieeg.fif.gz\n",
      "  raw.save(path_name,picks,start_time,end_time,overwrite=True)\n"
     ]
    },
    {
     "name": "stdout",
     "output_type": "stream",
     "text": [
      "28.587890625 + 36.587890625\n",
      ".\\SE\\Z倪诗瑄2022030180.fif\n",
      "Writing H:\\Anaconda-jupyter\\ECT课题\\病人数据处理\\SE\\Z倪诗瑄2022030180.fif\n",
      "Closing H:\\Anaconda-jupyter\\ECT课题\\病人数据处理\\SE\\Z倪诗瑄2022030180.fif\n",
      "[done]\n",
      "Extracting EDF parameters from H:\\Anaconda-jupyter\\ECT课题\\第四批病人数据\\治疗脑电（第一批次）\\Z刘世清202203011.edf...\n",
      "EDF file detected\n",
      "Setting channel info structure...\n",
      "Creating raw.info structure...\n"
     ]
    },
    {
     "name": "stderr",
     "output_type": "stream",
     "text": [
      "<ipython-input-7-ed7de2df3edd>:21: RuntimeWarning: This filename (H:\\Anaconda-jupyter\\ECT课题\\病人数据处理\\SE\\Z倪诗瑄2022030180.fif) does not conform to MNE naming conventions. All raw files should end with raw.fif, raw_sss.fif, raw_tsss.fif, _meg.fif, _eeg.fif, _ieeg.fif, raw.fif.gz, raw_sss.fif.gz, raw_tsss.fif.gz, _meg.fif.gz, _eeg.fif.gz or _ieeg.fif.gz\n",
      "  raw.save(path_name,picks,start_time,end_time,overwrite=True)\n"
     ]
    },
    {
     "name": "stdout",
     "output_type": "stream",
     "text": [
      "Used Annotations descriptions: ['File Create', 'Recording ends', 'Recording starts', 'SE', 'end', 'start']\n",
      "Extracting EDF parameters from H:\\Anaconda-jupyter\\ECT课题\\第四批病人数据\\治疗脑电（第一批次）\\Z刘世清202203011.edf...\n",
      "EDF file detected\n",
      "Setting channel info structure...\n",
      "Creating raw.info structure...\n",
      "Used Annotations descriptions: ['File Create', 'Recording ends', 'Recording starts', 'SE', 'end', 'start']\n",
      "38.103515625 + 46.103515625\n",
      ".\\SE\\Z刘世清2022030110.fif\n",
      "Writing H:\\Anaconda-jupyter\\ECT课题\\病人数据处理\\SE\\Z刘世清2022030110.fif\n",
      "Closing H:\\Anaconda-jupyter\\ECT课题\\病人数据处理\\SE\\Z刘世清2022030110.fif\n",
      "[done]\n",
      "Extracting EDF parameters from H:\\Anaconda-jupyter\\ECT课题\\第四批病人数据\\治疗脑电（第一批次）\\Z刘世清202203014（未发作）.edf...\n",
      "EDF file detected\n",
      "Setting channel info structure...\n",
      "Creating raw.info structure...\n"
     ]
    },
    {
     "name": "stderr",
     "output_type": "stream",
     "text": [
      "<ipython-input-7-ed7de2df3edd>:21: RuntimeWarning: This filename (H:\\Anaconda-jupyter\\ECT课题\\病人数据处理\\SE\\Z刘世清2022030110.fif) does not conform to MNE naming conventions. All raw files should end with raw.fif, raw_sss.fif, raw_tsss.fif, _meg.fif, _eeg.fif, _ieeg.fif, raw.fif.gz, raw_sss.fif.gz, raw_tsss.fif.gz, _meg.fif.gz, _eeg.fif.gz or _ieeg.fif.gz\n",
      "  raw.save(path_name,picks,start_time,end_time,overwrite=True)\n"
     ]
    },
    {
     "name": "stdout",
     "output_type": "stream",
     "text": [
      "Used Annotations descriptions: ['File Create', 'Recording ends', 'Recording starts', 'SE']\n",
      "Extracting EDF parameters from H:\\Anaconda-jupyter\\ECT课题\\第四批病人数据\\治疗脑电（第一批次）\\Z刘世清202203014（未发作）.edf...\n",
      "EDF file detected\n",
      "Setting channel info structure...\n",
      "Creating raw.info structure...\n",
      "Used Annotations descriptions: ['File Create', 'Recording ends', 'Recording starts', 'SE']\n",
      "557.830078125 + 565.830078125\n",
      ".\\SE\\Z刘世清202203014（未发作）0.fif\n",
      "Writing H:\\Anaconda-jupyter\\ECT课题\\病人数据处理\\SE\\Z刘世清202203014（未发作）0.fif\n",
      "Closing H:\\Anaconda-jupyter\\ECT课题\\病人数据处理\\SE\\Z刘世清202203014（未发作）0.fif\n",
      "[done]\n",
      "Extracting EDF parameters from H:\\Anaconda-jupyter\\ECT课题\\第四批病人数据\\治疗脑电（第一批次）\\Z刘世清202203014（未发作）.edf...\n",
      "EDF file detected\n",
      "Setting channel info structure...\n",
      "Creating raw.info structure...\n",
      "Used Annotations descriptions: ['File Create', 'Recording ends', 'Recording starts', 'SE']\n",
      "565.830078125 + 573.830078125\n"
     ]
    },
    {
     "name": "stderr",
     "output_type": "stream",
     "text": [
      "<ipython-input-7-ed7de2df3edd>:21: RuntimeWarning: This filename (H:\\Anaconda-jupyter\\ECT课题\\病人数据处理\\SE\\Z刘世清202203014（未发作）0.fif) does not conform to MNE naming conventions. All raw files should end with raw.fif, raw_sss.fif, raw_tsss.fif, _meg.fif, _eeg.fif, _ieeg.fif, raw.fif.gz, raw_sss.fif.gz, raw_tsss.fif.gz, _meg.fif.gz, _eeg.fif.gz or _ieeg.fif.gz\n",
      "  raw.save(path_name,picks,start_time,end_time,overwrite=True)\n"
     ]
    },
    {
     "name": "stdout",
     "output_type": "stream",
     "text": [
      ".\\SE\\Z刘世清202203014（未发作）8.fif\n",
      "Writing H:\\Anaconda-jupyter\\ECT课题\\病人数据处理\\SE\\Z刘世清202203014（未发作）8.fif\n",
      "Closing H:\\Anaconda-jupyter\\ECT课题\\病人数据处理\\SE\\Z刘世清202203014（未发作）8.fif\n",
      "[done]\n",
      "Extracting EDF parameters from H:\\Anaconda-jupyter\\ECT课题\\第四批病人数据\\治疗脑电（第一批次）\\Z刘世清202203014（未发作）.edf...\n",
      "EDF file detected\n",
      "Setting channel info structure...\n",
      "Creating raw.info structure...\n",
      "Used Annotations descriptions: ['File Create', 'Recording ends', 'Recording starts', 'SE']\n",
      "573.830078125 + 581.830078125\n",
      ".\\SE\\Z刘世清202203014（未发作）16.fif\n"
     ]
    },
    {
     "name": "stderr",
     "output_type": "stream",
     "text": [
      "<ipython-input-7-ed7de2df3edd>:21: RuntimeWarning: This filename (H:\\Anaconda-jupyter\\ECT课题\\病人数据处理\\SE\\Z刘世清202203014（未发作）8.fif) does not conform to MNE naming conventions. All raw files should end with raw.fif, raw_sss.fif, raw_tsss.fif, _meg.fif, _eeg.fif, _ieeg.fif, raw.fif.gz, raw_sss.fif.gz, raw_tsss.fif.gz, _meg.fif.gz, _eeg.fif.gz or _ieeg.fif.gz\n",
      "  raw.save(path_name,picks,start_time,end_time,overwrite=True)\n"
     ]
    },
    {
     "name": "stdout",
     "output_type": "stream",
     "text": [
      "Writing H:\\Anaconda-jupyter\\ECT课题\\病人数据处理\\SE\\Z刘世清202203014（未发作）16.fif\n",
      "Closing H:\\Anaconda-jupyter\\ECT课题\\病人数据处理\\SE\\Z刘世清202203014（未发作）16.fif\n",
      "[done]\n",
      "Extracting EDF parameters from H:\\Anaconda-jupyter\\ECT课题\\第四批病人数据\\治疗脑电（第一批次）\\Z刘世清202203014（未发作）.edf...\n",
      "EDF file detected\n",
      "Setting channel info structure...\n",
      "Creating raw.info structure...\n",
      "Used Annotations descriptions: ['File Create', 'Recording ends', 'Recording starts', 'SE']\n"
     ]
    },
    {
     "name": "stderr",
     "output_type": "stream",
     "text": [
      "<ipython-input-7-ed7de2df3edd>:21: RuntimeWarning: This filename (H:\\Anaconda-jupyter\\ECT课题\\病人数据处理\\SE\\Z刘世清202203014（未发作）16.fif) does not conform to MNE naming conventions. All raw files should end with raw.fif, raw_sss.fif, raw_tsss.fif, _meg.fif, _eeg.fif, _ieeg.fif, raw.fif.gz, raw_sss.fif.gz, raw_tsss.fif.gz, _meg.fif.gz, _eeg.fif.gz or _ieeg.fif.gz\n",
      "  raw.save(path_name,picks,start_time,end_time,overwrite=True)\n"
     ]
    },
    {
     "name": "stdout",
     "output_type": "stream",
     "text": [
      "581.830078125 + 589.830078125\n",
      ".\\SE\\Z刘世清202203014（未发作）24.fif\n",
      "Writing H:\\Anaconda-jupyter\\ECT课题\\病人数据处理\\SE\\Z刘世清202203014（未发作）24.fif\n",
      "Closing H:\\Anaconda-jupyter\\ECT课题\\病人数据处理\\SE\\Z刘世清202203014（未发作）24.fif\n",
      "[done]\n",
      "Extracting EDF parameters from H:\\Anaconda-jupyter\\ECT课题\\第四批病人数据\\治疗脑电（第一批次）\\Z刘世清202203016.edf...\n",
      "EDF file detected\n",
      "Setting channel info structure...\n",
      "Creating raw.info structure...\n",
      "Used Annotations descriptions: ['File Create', 'Recording ends', 'Recording starts', 'SE', 'end', 'start']\n",
      "Extracting EDF parameters from H:\\Anaconda-jupyter\\ECT课题\\第四批病人数据\\治疗脑电（第一批次）\\Z刘世清202203016.edf...\n",
      "EDF file detected\n",
      "Setting channel info structure...\n",
      "Creating raw.info structure...\n",
      "Used Annotations descriptions: ['File Create', 'Recording ends', 'Recording starts', 'SE', 'end', 'start']\n",
      "45.0625 + 53.0625\n",
      ".\\SE\\Z刘世清2022030160.fif\n",
      "Writing H:\\Anaconda-jupyter\\ECT课题\\病人数据处理\\SE\\Z刘世清2022030160.fif\n",
      "Closing H:\\Anaconda-jupyter\\ECT课题\\病人数据处理\\SE\\Z刘世清2022030160.fif\n",
      "[done]\n",
      "Extracting EDF parameters from H:\\Anaconda-jupyter\\ECT课题\\第四批病人数据\\治疗脑电（第一批次）\\Z刘世清20220309.edf...\n",
      "EDF file detected\n",
      "Setting channel info structure...\n"
     ]
    },
    {
     "name": "stderr",
     "output_type": "stream",
     "text": [
      "<ipython-input-7-ed7de2df3edd>:21: RuntimeWarning: This filename (H:\\Anaconda-jupyter\\ECT课题\\病人数据处理\\SE\\Z刘世清202203014（未发作）24.fif) does not conform to MNE naming conventions. All raw files should end with raw.fif, raw_sss.fif, raw_tsss.fif, _meg.fif, _eeg.fif, _ieeg.fif, raw.fif.gz, raw_sss.fif.gz, raw_tsss.fif.gz, _meg.fif.gz, _eeg.fif.gz or _ieeg.fif.gz\n",
      "  raw.save(path_name,picks,start_time,end_time,overwrite=True)\n",
      "<ipython-input-7-ed7de2df3edd>:21: RuntimeWarning: This filename (H:\\Anaconda-jupyter\\ECT课题\\病人数据处理\\SE\\Z刘世清2022030160.fif) does not conform to MNE naming conventions. All raw files should end with raw.fif, raw_sss.fif, raw_tsss.fif, _meg.fif, _eeg.fif, _ieeg.fif, raw.fif.gz, raw_sss.fif.gz, raw_tsss.fif.gz, _meg.fif.gz, _eeg.fif.gz or _ieeg.fif.gz\n",
      "  raw.save(path_name,picks,start_time,end_time,overwrite=True)\n"
     ]
    },
    {
     "name": "stdout",
     "output_type": "stream",
     "text": [
      "Creating raw.info structure...\n",
      "Used Annotations descriptions: ['File Create', 'Recording ends', 'Recording starts', 'SE', 'end', 'start']\n",
      "Extracting EDF parameters from H:\\Anaconda-jupyter\\ECT课题\\第四批病人数据\\治疗脑电（第一批次）\\Z刘世清20220309.edf...\n",
      "EDF file detected\n",
      "Setting channel info structure...\n",
      "Creating raw.info structure...\n",
      "Used Annotations descriptions: ['File Create', 'Recording ends', 'Recording starts', 'SE', 'end', 'start']\n",
      "71.154296875 + 79.154296875\n",
      ".\\SE\\Z刘世清202203090.fif\n",
      "Writing H:\\Anaconda-jupyter\\ECT课题\\病人数据处理\\SE\\Z刘世清202203090.fif\n",
      "Closing H:\\Anaconda-jupyter\\ECT课题\\病人数据处理\\SE\\Z刘世清202203090.fif\n",
      "[done]\n",
      "Extracting EDF parameters from H:\\Anaconda-jupyter\\ECT课题\\第四批病人数据\\治疗脑电（第一批次）\\Z刘家瑞20220225.edf...\n",
      "EDF file detected\n",
      "Setting channel info structure...\n",
      "Creating raw.info structure...\n",
      "Used Annotations descriptions: ['File Create', 'Recording ends', 'Recording starts', 'SE', 'end', 'start']\n",
      "Extracting EDF parameters from H:\\Anaconda-jupyter\\ECT课题\\第四批病人数据\\治疗脑电（第一批次）\\Z刘家瑞20220225.edf...\n",
      "EDF file detected\n",
      "Setting channel info structure...\n",
      "Creating raw.info structure...\n",
      "Used Annotations descriptions: ['File Create', 'Recording ends', 'Recording starts', 'SE', 'end', 'start']\n"
     ]
    },
    {
     "name": "stderr",
     "output_type": "stream",
     "text": [
      "<ipython-input-7-ed7de2df3edd>:21: RuntimeWarning: This filename (H:\\Anaconda-jupyter\\ECT课题\\病人数据处理\\SE\\Z刘世清202203090.fif) does not conform to MNE naming conventions. All raw files should end with raw.fif, raw_sss.fif, raw_tsss.fif, _meg.fif, _eeg.fif, _ieeg.fif, raw.fif.gz, raw_sss.fif.gz, raw_tsss.fif.gz, _meg.fif.gz, _eeg.fif.gz or _ieeg.fif.gz\n",
      "  raw.save(path_name,picks,start_time,end_time,overwrite=True)\n"
     ]
    },
    {
     "name": "stdout",
     "output_type": "stream",
     "text": [
      "163.6767578125 + 171.6767578125\n",
      ".\\SE\\Z刘家瑞202202250.fif\n",
      "Writing H:\\Anaconda-jupyter\\ECT课题\\病人数据处理\\SE\\Z刘家瑞202202250.fif\n",
      "Closing H:\\Anaconda-jupyter\\ECT课题\\病人数据处理\\SE\\Z刘家瑞202202250.fif\n",
      "[done]\n",
      "Extracting EDF parameters from H:\\Anaconda-jupyter\\ECT课题\\第四批病人数据\\治疗脑电（第一批次）\\Z刘家瑞20220228.edf...\n",
      "EDF file detected\n",
      "Setting channel info structure...\n",
      "Creating raw.info structure...\n",
      "Used Annotations descriptions: ['File Create', 'Recording ends', 'Recording starts', 'SE', 'end', 'start']\n",
      "Extracting EDF parameters from H:\\Anaconda-jupyter\\ECT课题\\第四批病人数据\\治疗脑电（第一批次）\\Z刘家瑞20220228.edf...\n",
      "EDF file detected\n",
      "Setting channel info structure...\n",
      "Creating raw.info structure...\n",
      "Used Annotations descriptions: ['File Create', 'Recording ends', 'Recording starts', 'SE', 'end', 'start']\n"
     ]
    },
    {
     "name": "stderr",
     "output_type": "stream",
     "text": [
      "<ipython-input-7-ed7de2df3edd>:21: RuntimeWarning: This filename (H:\\Anaconda-jupyter\\ECT课题\\病人数据处理\\SE\\Z刘家瑞202202250.fif) does not conform to MNE naming conventions. All raw files should end with raw.fif, raw_sss.fif, raw_tsss.fif, _meg.fif, _eeg.fif, _ieeg.fif, raw.fif.gz, raw_sss.fif.gz, raw_tsss.fif.gz, _meg.fif.gz, _eeg.fif.gz or _ieeg.fif.gz\n",
      "  raw.save(path_name,picks,start_time,end_time,overwrite=True)\n"
     ]
    },
    {
     "name": "stdout",
     "output_type": "stream",
     "text": [
      "109.78125 + 117.78125\n",
      ".\\SE\\Z刘家瑞202202280.fif\n",
      "Writing H:\\Anaconda-jupyter\\ECT课题\\病人数据处理\\SE\\Z刘家瑞202202280.fif\n",
      "Closing H:\\Anaconda-jupyter\\ECT课题\\病人数据处理\\SE\\Z刘家瑞202202280.fif\n",
      "[done]\n",
      "Extracting EDF parameters from H:\\Anaconda-jupyter\\ECT课题\\第四批病人数据\\治疗脑电（第一批次）\\Z刘家瑞20220302.edf...\n",
      "EDF file detected\n",
      "Setting channel info structure...\n",
      "Creating raw.info structure...\n",
      "Used Annotations descriptions: ['File Create', 'Recording ends', 'Recording starts', 'SE', 'end', 'start']\n",
      "Extracting EDF parameters from H:\\Anaconda-jupyter\\ECT课题\\第四批病人数据\\治疗脑电（第一批次）\\Z刘家瑞20220302.edf...\n",
      "EDF file detected\n",
      "Setting channel info structure...\n",
      "Creating raw.info structure...\n",
      "Used Annotations descriptions: ['File Create', 'Recording ends', 'Recording starts', 'SE', 'end', 'start']\n",
      "45.271484375 + 53.271484375\n",
      ".\\SE\\Z刘家瑞202203020.fif\n",
      "Writing H:\\Anaconda-jupyter\\ECT课题\\病人数据处理\\SE\\Z刘家瑞202203020.fif\n",
      "Closing H:\\Anaconda-jupyter\\ECT课题\\病人数据处理\\SE\\Z刘家瑞202203020.fif\n",
      "[done]\n",
      "Extracting EDF parameters from H:\\Anaconda-jupyter\\ECT课题\\第四批病人数据\\治疗脑电（第一批次）\\Z刘家瑞20220304.edf...\n",
      "EDF file detected\n",
      "Setting channel info structure...\n",
      "Creating raw.info structure...\n"
     ]
    },
    {
     "name": "stderr",
     "output_type": "stream",
     "text": [
      "<ipython-input-7-ed7de2df3edd>:21: RuntimeWarning: This filename (H:\\Anaconda-jupyter\\ECT课题\\病人数据处理\\SE\\Z刘家瑞202202280.fif) does not conform to MNE naming conventions. All raw files should end with raw.fif, raw_sss.fif, raw_tsss.fif, _meg.fif, _eeg.fif, _ieeg.fif, raw.fif.gz, raw_sss.fif.gz, raw_tsss.fif.gz, _meg.fif.gz, _eeg.fif.gz or _ieeg.fif.gz\n",
      "  raw.save(path_name,picks,start_time,end_time,overwrite=True)\n",
      "<ipython-input-7-ed7de2df3edd>:21: RuntimeWarning: This filename (H:\\Anaconda-jupyter\\ECT课题\\病人数据处理\\SE\\Z刘家瑞202203020.fif) does not conform to MNE naming conventions. All raw files should end with raw.fif, raw_sss.fif, raw_tsss.fif, _meg.fif, _eeg.fif, _ieeg.fif, raw.fif.gz, raw_sss.fif.gz, raw_tsss.fif.gz, _meg.fif.gz, _eeg.fif.gz or _ieeg.fif.gz\n",
      "  raw.save(path_name,picks,start_time,end_time,overwrite=True)\n"
     ]
    },
    {
     "name": "stdout",
     "output_type": "stream",
     "text": [
      "Used Annotations descriptions: ['File Create', 'Recording ends', 'Recording starts', 'start']\n",
      "Extracting EDF parameters from H:\\Anaconda-jupyter\\ECT课题\\第四批病人数据\\治疗脑电（第一批次）\\Z周小凯202203014.edf...\n",
      "EDF file detected\n",
      "Setting channel info structure...\n",
      "Creating raw.info structure...\n",
      "Used Annotations descriptions: ['File Create', 'Recording ends', 'Recording starts', 'SE', 'Â¼Â¡Ã\\x95Ã³Ã\\x82']\n",
      "Extracting EDF parameters from H:\\Anaconda-jupyter\\ECT课题\\第四批病人数据\\治疗脑电（第一批次）\\Z周小凯202203014.edf...\n",
      "EDF file detected\n",
      "Setting channel info structure...\n",
      "Creating raw.info structure...\n",
      "Used Annotations descriptions: ['File Create', 'Recording ends', 'Recording starts', 'SE', 'Â¼Â¡Ã\\x95Ã³Ã\\x82']\n",
      "144.3564453125 + 152.3564453125\n",
      ".\\SE\\Z周小凯2022030140.fif\n",
      "Writing H:\\Anaconda-jupyter\\ECT课题\\病人数据处理\\SE\\Z周小凯2022030140.fif\n",
      "Closing H:\\Anaconda-jupyter\\ECT课题\\病人数据处理\\SE\\Z周小凯2022030140.fif\n",
      "[done]\n",
      "Extracting EDF parameters from H:\\Anaconda-jupyter\\ECT课题\\第四批病人数据\\治疗脑电（第一批次）\\Z周小凯202203016.edf...\n",
      "EDF file detected\n",
      "Setting channel info structure...\n",
      "Creating raw.info structure...\n",
      "Used Annotations descriptions: ['File Create', 'Recording ends', 'Recording starts', 'SE', 'end', 'start']\n",
      "Extracting EDF parameters from H:\\Anaconda-jupyter\\ECT课题\\第四批病人数据\\治疗脑电（第一批次）\\Z周小凯202203016.edf...\n",
      "EDF file detected\n",
      "Setting channel info structure...\n",
      "Creating raw.info structure...\n",
      "Used Annotations descriptions: ['File Create', 'Recording ends', 'Recording starts', 'SE', 'end', 'start']\n"
     ]
    },
    {
     "name": "stderr",
     "output_type": "stream",
     "text": [
      "<ipython-input-7-ed7de2df3edd>:21: RuntimeWarning: This filename (H:\\Anaconda-jupyter\\ECT课题\\病人数据处理\\SE\\Z周小凯2022030140.fif) does not conform to MNE naming conventions. All raw files should end with raw.fif, raw_sss.fif, raw_tsss.fif, _meg.fif, _eeg.fif, _ieeg.fif, raw.fif.gz, raw_sss.fif.gz, raw_tsss.fif.gz, _meg.fif.gz, _eeg.fif.gz or _ieeg.fif.gz\n",
      "  raw.save(path_name,picks,start_time,end_time,overwrite=True)\n"
     ]
    },
    {
     "name": "stdout",
     "output_type": "stream",
     "text": [
      "99.0732421875 + 107.0732421875\n",
      ".\\SE\\Z周小凯2022030160.fif\n",
      "Writing H:\\Anaconda-jupyter\\ECT课题\\病人数据处理\\SE\\Z周小凯2022030160.fif\n",
      "Closing H:\\Anaconda-jupyter\\ECT课题\\病人数据处理\\SE\\Z周小凯2022030160.fif\n",
      "[done]\n",
      "Extracting EDF parameters from H:\\Anaconda-jupyter\\ECT课题\\第四批病人数据\\治疗脑电（第一批次）\\Z周小凯202203018.edf...\n",
      "EDF file detected\n",
      "Setting channel info structure...\n",
      "Creating raw.info structure...\n",
      "Used Annotations descriptions: ['File Create', 'Recording ends', 'Recording starts', 'SE', 'end', 'start']\n",
      "Extracting EDF parameters from H:\\Anaconda-jupyter\\ECT课题\\第四批病人数据\\治疗脑电（第一批次）\\Z周小凯202203018.edf...\n",
      "EDF file detected\n",
      "Setting channel info structure...\n",
      "Creating raw.info structure...\n",
      "Used Annotations descriptions: ['File Create', 'Recording ends', 'Recording starts', 'SE', 'end', 'start']\n",
      "0.9716796875 + 8.9716796875\n",
      ".\\SE\\Z周小凯2022030180.fif\n",
      "Writing H:\\Anaconda-jupyter\\ECT课题\\病人数据处理\\SE\\Z周小凯2022030180.fif\n",
      "Closing H:\\Anaconda-jupyter\\ECT课题\\病人数据处理\\SE\\Z周小凯2022030180.fif\n",
      "[done]\n",
      "Extracting EDF parameters from H:\\Anaconda-jupyter\\ECT课题\\第四批病人数据\\治疗脑电（第一批次）\\Z周小凯202203021.edf...\n",
      "EDF file detected\n",
      "Setting channel info structure...\n",
      "Creating raw.info structure...\n"
     ]
    },
    {
     "name": "stderr",
     "output_type": "stream",
     "text": [
      "<ipython-input-7-ed7de2df3edd>:21: RuntimeWarning: This filename (H:\\Anaconda-jupyter\\ECT课题\\病人数据处理\\SE\\Z周小凯2022030160.fif) does not conform to MNE naming conventions. All raw files should end with raw.fif, raw_sss.fif, raw_tsss.fif, _meg.fif, _eeg.fif, _ieeg.fif, raw.fif.gz, raw_sss.fif.gz, raw_tsss.fif.gz, _meg.fif.gz, _eeg.fif.gz or _ieeg.fif.gz\n",
      "  raw.save(path_name,picks,start_time,end_time,overwrite=True)\n",
      "<ipython-input-7-ed7de2df3edd>:21: RuntimeWarning: This filename (H:\\Anaconda-jupyter\\ECT课题\\病人数据处理\\SE\\Z周小凯2022030180.fif) does not conform to MNE naming conventions. All raw files should end with raw.fif, raw_sss.fif, raw_tsss.fif, _meg.fif, _eeg.fif, _ieeg.fif, raw.fif.gz, raw_sss.fif.gz, raw_tsss.fif.gz, _meg.fif.gz, _eeg.fif.gz or _ieeg.fif.gz\n",
      "  raw.save(path_name,picks,start_time,end_time,overwrite=True)\n"
     ]
    },
    {
     "name": "stdout",
     "output_type": "stream",
     "text": [
      "Used Annotations descriptions: ['File Create', 'Recording ends', 'Recording starts', 'SE', 'end', 'start']\n",
      "Extracting EDF parameters from H:\\Anaconda-jupyter\\ECT课题\\第四批病人数据\\治疗脑电（第一批次）\\Z周小凯202203021.edf...\n",
      "EDF file detected\n",
      "Setting channel info structure...\n",
      "Creating raw.info structure...\n",
      "Used Annotations descriptions: ['File Create', 'Recording ends', 'Recording starts', 'SE', 'end', 'start']\n",
      "60.3173828125 + 68.3173828125\n",
      ".\\SE\\Z周小凯2022030210.fif\n",
      "Writing H:\\Anaconda-jupyter\\ECT课题\\病人数据处理\\SE\\Z周小凯2022030210.fif\n",
      "Closing H:\\Anaconda-jupyter\\ECT课题\\病人数据处理\\SE\\Z周小凯2022030210.fif\n",
      "[done]\n",
      "Extracting EDF parameters from H:\\Anaconda-jupyter\\ECT课题\\第四批病人数据\\治疗脑电（第一批次）\\Z孙彭辉20220225.edf...\n",
      "EDF file detected\n",
      "Setting channel info structure...\n",
      "Creating raw.info structure...\n",
      "Used Annotations descriptions: ['File Create', 'Recording ends', 'Recording starts', 'SE', 'end', 'start']\n",
      "Extracting EDF parameters from H:\\Anaconda-jupyter\\ECT课题\\第四批病人数据\\治疗脑电（第一批次）\\Z孙彭辉20220225.edf...\n",
      "EDF file detected\n",
      "Setting channel info structure...\n",
      "Creating raw.info structure...\n",
      "Used Annotations descriptions: ['File Create', 'Recording ends', 'Recording starts', 'SE', 'end', 'start']\n",
      "38.7109375 + 46.7109375\n",
      ".\\SE\\Z孙彭辉202202250.fif\n",
      "Writing H:\\Anaconda-jupyter\\ECT课题\\病人数据处理\\SE\\Z孙彭辉202202250.fif\n",
      "Closing H:\\Anaconda-jupyter\\ECT课题\\病人数据处理\\SE\\Z孙彭辉202202250.fif\n"
     ]
    },
    {
     "name": "stderr",
     "output_type": "stream",
     "text": [
      "<ipython-input-7-ed7de2df3edd>:21: RuntimeWarning: This filename (H:\\Anaconda-jupyter\\ECT课题\\病人数据处理\\SE\\Z周小凯2022030210.fif) does not conform to MNE naming conventions. All raw files should end with raw.fif, raw_sss.fif, raw_tsss.fif, _meg.fif, _eeg.fif, _ieeg.fif, raw.fif.gz, raw_sss.fif.gz, raw_tsss.fif.gz, _meg.fif.gz, _eeg.fif.gz or _ieeg.fif.gz\n",
      "  raw.save(path_name,picks,start_time,end_time,overwrite=True)\n",
      "<ipython-input-7-ed7de2df3edd>:21: RuntimeWarning: This filename (H:\\Anaconda-jupyter\\ECT课题\\病人数据处理\\SE\\Z孙彭辉202202250.fif) does not conform to MNE naming conventions. All raw files should end with raw.fif, raw_sss.fif, raw_tsss.fif, _meg.fif, _eeg.fif, _ieeg.fif, raw.fif.gz, raw_sss.fif.gz, raw_tsss.fif.gz, _meg.fif.gz, _eeg.fif.gz or _ieeg.fif.gz\n",
      "  raw.save(path_name,picks,start_time,end_time,overwrite=True)\n"
     ]
    },
    {
     "name": "stdout",
     "output_type": "stream",
     "text": [
      "[done]\n",
      "Extracting EDF parameters from H:\\Anaconda-jupyter\\ECT课题\\第四批病人数据\\治疗脑电（第一批次）\\Z孙彭辉20220228.edf...\n",
      "EDF file detected\n",
      "Setting channel info structure...\n",
      "Creating raw.info structure...\n",
      "Used Annotations descriptions: ['File Create', 'Recording ends', 'Recording starts', 'SE', 'end', 'start']\n",
      "Extracting EDF parameters from H:\\Anaconda-jupyter\\ECT课题\\第四批病人数据\\治疗脑电（第一批次）\\Z孙彭辉20220228.edf...\n",
      "EDF file detected\n",
      "Setting channel info structure...\n",
      "Creating raw.info structure...\n",
      "Used Annotations descriptions: ['File Create', 'Recording ends', 'Recording starts', 'SE', 'end', 'start']\n",
      "103.71484375 + 111.71484375\n",
      ".\\SE\\Z孙彭辉202202280.fif\n",
      "Writing H:\\Anaconda-jupyter\\ECT课题\\病人数据处理\\SE\\Z孙彭辉202202280.fif\n",
      "Closing H:\\Anaconda-jupyter\\ECT课题\\病人数据处理\\SE\\Z孙彭辉202202280.fif\n",
      "[done]\n",
      "Extracting EDF parameters from H:\\Anaconda-jupyter\\ECT课题\\第四批病人数据\\治疗脑电（第一批次）\\Z孙彭辉20220302.edf...\n",
      "EDF file detected\n",
      "Setting channel info structure...\n",
      "Creating raw.info structure...\n",
      "Used Annotations descriptions: ['File Create', 'Recording ends', 'Recording starts', 'SE', 'end', 'start']\n",
      "Extracting EDF parameters from H:\\Anaconda-jupyter\\ECT课题\\第四批病人数据\\治疗脑电（第一批次）\\Z孙彭辉20220302.edf...\n",
      "EDF file detected\n",
      "Setting channel info structure...\n",
      "Creating raw.info structure...\n",
      "Used Annotations descriptions: ['File Create', 'Recording ends', 'Recording starts', 'SE', 'end', 'start']\n",
      "53.091796875 + 61.091796875\n",
      ".\\SE\\Z孙彭辉202203020.fif\n",
      "Writing H:\\Anaconda-jupyter\\ECT课题\\病人数据处理\\SE\\Z孙彭辉202203020.fif\n",
      "Closing H:\\Anaconda-jupyter\\ECT课题\\病人数据处理\\SE\\Z孙彭辉202203020.fif\n",
      "[done]\n",
      "Extracting EDF parameters from H:\\Anaconda-jupyter\\ECT课题\\第四批病人数据\\治疗脑电（第一批次）\\Z孙彭辉20220304.edf...\n"
     ]
    },
    {
     "name": "stderr",
     "output_type": "stream",
     "text": [
      "<ipython-input-7-ed7de2df3edd>:21: RuntimeWarning: This filename (H:\\Anaconda-jupyter\\ECT课题\\病人数据处理\\SE\\Z孙彭辉202202280.fif) does not conform to MNE naming conventions. All raw files should end with raw.fif, raw_sss.fif, raw_tsss.fif, _meg.fif, _eeg.fif, _ieeg.fif, raw.fif.gz, raw_sss.fif.gz, raw_tsss.fif.gz, _meg.fif.gz, _eeg.fif.gz or _ieeg.fif.gz\n",
      "  raw.save(path_name,picks,start_time,end_time,overwrite=True)\n",
      "<ipython-input-7-ed7de2df3edd>:21: RuntimeWarning: This filename (H:\\Anaconda-jupyter\\ECT课题\\病人数据处理\\SE\\Z孙彭辉202203020.fif) does not conform to MNE naming conventions. All raw files should end with raw.fif, raw_sss.fif, raw_tsss.fif, _meg.fif, _eeg.fif, _ieeg.fif, raw.fif.gz, raw_sss.fif.gz, raw_tsss.fif.gz, _meg.fif.gz, _eeg.fif.gz or _ieeg.fif.gz\n",
      "  raw.save(path_name,picks,start_time,end_time,overwrite=True)\n"
     ]
    },
    {
     "name": "stdout",
     "output_type": "stream",
     "text": [
      "EDF file detected\n",
      "Setting channel info structure...\n",
      "Creating raw.info structure...\n",
      "Used Annotations descriptions: ['File Create', 'Recording ends', 'Recording starts', 'SE', 'end', 'start']\n",
      "Extracting EDF parameters from H:\\Anaconda-jupyter\\ECT课题\\第四批病人数据\\治疗脑电（第一批次）\\Z孙彭辉20220304.edf...\n",
      "EDF file detected\n",
      "Setting channel info structure...\n",
      "Creating raw.info structure...\n",
      "Used Annotations descriptions: ['File Create', 'Recording ends', 'Recording starts', 'SE', 'end', 'start']\n",
      "12.0625 + 20.0625\n",
      ".\\SE\\Z孙彭辉202203040.fif\n",
      "Writing H:\\Anaconda-jupyter\\ECT课题\\病人数据处理\\SE\\Z孙彭辉202203040.fif\n",
      "Closing H:\\Anaconda-jupyter\\ECT课题\\病人数据处理\\SE\\Z孙彭辉202203040.fif\n",
      "[done]\n",
      "Extracting EDF parameters from H:\\Anaconda-jupyter\\ECT课题\\第四批病人数据\\治疗脑电（第一批次）\\Z宋志辉202203018.edf...\n",
      "EDF file detected\n",
      "Setting channel info structure...\n",
      "Creating raw.info structure...\n"
     ]
    },
    {
     "name": "stderr",
     "output_type": "stream",
     "text": [
      "<ipython-input-7-ed7de2df3edd>:21: RuntimeWarning: This filename (H:\\Anaconda-jupyter\\ECT课题\\病人数据处理\\SE\\Z孙彭辉202203040.fif) does not conform to MNE naming conventions. All raw files should end with raw.fif, raw_sss.fif, raw_tsss.fif, _meg.fif, _eeg.fif, _ieeg.fif, raw.fif.gz, raw_sss.fif.gz, raw_tsss.fif.gz, _meg.fif.gz, _eeg.fif.gz or _ieeg.fif.gz\n",
      "  raw.save(path_name,picks,start_time,end_time,overwrite=True)\n"
     ]
    },
    {
     "name": "stdout",
     "output_type": "stream",
     "text": [
      "Used Annotations descriptions: ['File Create', 'Recording ends', 'Recording starts', 'SE', 'end', 'start']\n",
      "Extracting EDF parameters from H:\\Anaconda-jupyter\\ECT课题\\第四批病人数据\\治疗脑电（第一批次）\\Z宋志辉202203018.edf...\n",
      "EDF file detected\n",
      "Setting channel info structure...\n",
      "Creating raw.info structure...\n",
      "Used Annotations descriptions: ['File Create', 'Recording ends', 'Recording starts', 'SE', 'end', 'start']\n",
      "1893.5009765625 + 1901.5009765625\n",
      ".\\SE\\Z宋志辉2022030180.fif\n",
      "Writing H:\\Anaconda-jupyter\\ECT课题\\病人数据处理\\SE\\Z宋志辉2022030180.fif\n",
      "Closing H:\\Anaconda-jupyter\\ECT课题\\病人数据处理\\SE\\Z宋志辉2022030180.fif\n",
      "[done]\n",
      "Extracting EDF parameters from H:\\Anaconda-jupyter\\ECT课题\\第四批病人数据\\治疗脑电（第一批次）\\Z宋志辉202203021.edf...\n",
      "EDF file detected\n",
      "Setting channel info structure...\n",
      "Creating raw.info structure...\n",
      "Used Annotations descriptions: ['File Create', 'Recording ends', 'Recording starts', 'SE', 'start']\n",
      "Extracting EDF parameters from H:\\Anaconda-jupyter\\ECT课题\\第四批病人数据\\治疗脑电（第一批次）\\Z宋志辉202203021.edf...\n",
      "EDF file detected\n",
      "Setting channel info structure...\n",
      "Creating raw.info structure...\n",
      "Used Annotations descriptions: ['File Create', 'Recording ends', 'Recording starts', 'SE', 'start']\n",
      "44.09375 + 52.09375\n",
      ".\\SE\\Z宋志辉2022030210.fif\n"
     ]
    },
    {
     "name": "stderr",
     "output_type": "stream",
     "text": [
      "<ipython-input-7-ed7de2df3edd>:21: RuntimeWarning: This filename (H:\\Anaconda-jupyter\\ECT课题\\病人数据处理\\SE\\Z宋志辉2022030180.fif) does not conform to MNE naming conventions. All raw files should end with raw.fif, raw_sss.fif, raw_tsss.fif, _meg.fif, _eeg.fif, _ieeg.fif, raw.fif.gz, raw_sss.fif.gz, raw_tsss.fif.gz, _meg.fif.gz, _eeg.fif.gz or _ieeg.fif.gz\n",
      "  raw.save(path_name,picks,start_time,end_time,overwrite=True)\n"
     ]
    },
    {
     "name": "stdout",
     "output_type": "stream",
     "text": [
      "Writing H:\\Anaconda-jupyter\\ECT课题\\病人数据处理\\SE\\Z宋志辉2022030210.fif\n",
      "Closing H:\\Anaconda-jupyter\\ECT课题\\病人数据处理\\SE\\Z宋志辉2022030210.fif\n",
      "[done]\n",
      "Extracting EDF parameters from H:\\Anaconda-jupyter\\ECT课题\\第四批病人数据\\治疗脑电（第一批次）\\Z宋志辉202203023.edf...\n",
      "EDF file detected\n",
      "Setting channel info structure...\n",
      "Creating raw.info structure...\n",
      "Used Annotations descriptions: ['File Create', 'Recording ends', 'Recording starts', 'SE', 'end', 'start']\n",
      "Extracting EDF parameters from H:\\Anaconda-jupyter\\ECT课题\\第四批病人数据\\治疗脑电（第一批次）\\Z宋志辉202203023.edf...\n",
      "EDF file detected\n",
      "Setting channel info structure...\n",
      "Creating raw.info structure...\n",
      "Used Annotations descriptions: ['File Create', 'Recording ends', 'Recording starts', 'SE', 'end', 'start']\n",
      "111.634765625 + 119.634765625\n",
      ".\\SE\\Z宋志辉2022030230.fif\n",
      "Writing H:\\Anaconda-jupyter\\ECT课题\\病人数据处理\\SE\\Z宋志辉2022030230.fif\n",
      "Closing H:\\Anaconda-jupyter\\ECT课题\\病人数据处理\\SE\\Z宋志辉2022030230.fif\n"
     ]
    },
    {
     "name": "stderr",
     "output_type": "stream",
     "text": [
      "<ipython-input-7-ed7de2df3edd>:21: RuntimeWarning: This filename (H:\\Anaconda-jupyter\\ECT课题\\病人数据处理\\SE\\Z宋志辉2022030210.fif) does not conform to MNE naming conventions. All raw files should end with raw.fif, raw_sss.fif, raw_tsss.fif, _meg.fif, _eeg.fif, _ieeg.fif, raw.fif.gz, raw_sss.fif.gz, raw_tsss.fif.gz, _meg.fif.gz, _eeg.fif.gz or _ieeg.fif.gz\n",
      "  raw.save(path_name,picks,start_time,end_time,overwrite=True)\n",
      "<ipython-input-7-ed7de2df3edd>:21: RuntimeWarning: This filename (H:\\Anaconda-jupyter\\ECT课题\\病人数据处理\\SE\\Z宋志辉2022030230.fif) does not conform to MNE naming conventions. All raw files should end with raw.fif, raw_sss.fif, raw_tsss.fif, _meg.fif, _eeg.fif, _ieeg.fif, raw.fif.gz, raw_sss.fif.gz, raw_tsss.fif.gz, _meg.fif.gz, _eeg.fif.gz or _ieeg.fif.gz\n",
      "  raw.save(path_name,picks,start_time,end_time,overwrite=True)\n"
     ]
    },
    {
     "name": "stdout",
     "output_type": "stream",
     "text": [
      "[done]\n",
      "Extracting EDF parameters from H:\\Anaconda-jupyter\\ECT课题\\第四批病人数据\\治疗脑电（第一批次）\\Z宋志辉202203025.edf...\n",
      "EDF file detected\n",
      "Setting channel info structure...\n",
      "Creating raw.info structure...\n",
      "Used Annotations descriptions: ['File Create', 'Recording ends', 'Recording starts', 'SE', 'end', 'start']\n",
      "Extracting EDF parameters from H:\\Anaconda-jupyter\\ECT课题\\第四批病人数据\\治疗脑电（第一批次）\\Z宋志辉202203025.edf...\n",
      "EDF file detected\n",
      "Setting channel info structure...\n",
      "Creating raw.info structure...\n",
      "Used Annotations descriptions: ['File Create', 'Recording ends', 'Recording starts', 'SE', 'end', 'start']\n",
      "30.1611328125 + 38.1611328125\n",
      ".\\SE\\Z宋志辉2022030250.fif\n",
      "Writing H:\\Anaconda-jupyter\\ECT课题\\病人数据处理\\SE\\Z宋志辉2022030250.fif\n",
      "Closing H:\\Anaconda-jupyter\\ECT课题\\病人数据处理\\SE\\Z宋志辉2022030250.fif\n",
      "[done]\n",
      "Extracting EDF parameters from H:\\Anaconda-jupyter\\ECT课题\\第四批病人数据\\治疗脑电（第一批次）\\Z张璐20220225.edf...\n",
      "EDF file detected\n",
      "Setting channel info structure...\n",
      "Creating raw.info structure...\n",
      "Used Annotations descriptions: ['File Create', 'Recording ends', 'Recording starts', 'SE', 'end', 'start']\n",
      "Extracting EDF parameters from H:\\Anaconda-jupyter\\ECT课题\\第四批病人数据\\治疗脑电（第一批次）\\Z张璐20220225.edf...\n",
      "EDF file detected\n",
      "Setting channel info structure...\n",
      "Creating raw.info structure...\n",
      "Used Annotations descriptions: ['File Create', 'Recording ends', 'Recording starts', 'SE', 'end', 'start']\n",
      "24.576171875 + 32.576171875\n",
      ".\\SE\\Z张璐202202250.fif\n",
      "Writing H:\\Anaconda-jupyter\\ECT课题\\病人数据处理\\SE\\Z张璐202202250.fif\n",
      "Closing H:\\Anaconda-jupyter\\ECT课题\\病人数据处理\\SE\\Z张璐202202250.fif\n",
      "[done]\n",
      "Extracting EDF parameters from H:\\Anaconda-jupyter\\ECT课题\\第四批病人数据\\治疗脑电（第一批次）\\Z张璐20220228.edf...\n",
      "EDF file detected\n",
      "Setting channel info structure...\n",
      "Creating raw.info structure...\n"
     ]
    },
    {
     "name": "stderr",
     "output_type": "stream",
     "text": [
      "<ipython-input-7-ed7de2df3edd>:21: RuntimeWarning: This filename (H:\\Anaconda-jupyter\\ECT课题\\病人数据处理\\SE\\Z宋志辉2022030250.fif) does not conform to MNE naming conventions. All raw files should end with raw.fif, raw_sss.fif, raw_tsss.fif, _meg.fif, _eeg.fif, _ieeg.fif, raw.fif.gz, raw_sss.fif.gz, raw_tsss.fif.gz, _meg.fif.gz, _eeg.fif.gz or _ieeg.fif.gz\n",
      "  raw.save(path_name,picks,start_time,end_time,overwrite=True)\n",
      "<ipython-input-7-ed7de2df3edd>:21: RuntimeWarning: This filename (H:\\Anaconda-jupyter\\ECT课题\\病人数据处理\\SE\\Z张璐202202250.fif) does not conform to MNE naming conventions. All raw files should end with raw.fif, raw_sss.fif, raw_tsss.fif, _meg.fif, _eeg.fif, _ieeg.fif, raw.fif.gz, raw_sss.fif.gz, raw_tsss.fif.gz, _meg.fif.gz, _eeg.fif.gz or _ieeg.fif.gz\n",
      "  raw.save(path_name,picks,start_time,end_time,overwrite=True)\n"
     ]
    },
    {
     "name": "stdout",
     "output_type": "stream",
     "text": [
      "Used Annotations descriptions: ['File Create', 'Recording ends', 'Recording starts', 'SE', 'end', 'start']\n",
      "Extracting EDF parameters from H:\\Anaconda-jupyter\\ECT课题\\第四批病人数据\\治疗脑电（第一批次）\\Z张璐20220228.edf...\n",
      "EDF file detected\n",
      "Setting channel info structure...\n",
      "Creating raw.info structure...\n",
      "Used Annotations descriptions: ['File Create', 'Recording ends', 'Recording starts', 'SE', 'end', 'start']\n",
      "185.3232421875 + 193.3232421875\n",
      ".\\SE\\Z张璐202202280.fif\n",
      "Writing H:\\Anaconda-jupyter\\ECT课题\\病人数据处理\\SE\\Z张璐202202280.fif\n",
      "Closing H:\\Anaconda-jupyter\\ECT课题\\病人数据处理\\SE\\Z张璐202202280.fif\n",
      "[done]\n",
      "Extracting EDF parameters from H:\\Anaconda-jupyter\\ECT课题\\第四批病人数据\\治疗脑电（第一批次）\\Z张璐20220302.edf...\n",
      "EDF file detected\n",
      "Setting channel info structure...\n",
      "Creating raw.info structure...\n",
      "Used Annotations descriptions: ['File Create', 'Recording ends', 'Recording starts', 'SE']\n",
      "Extracting EDF parameters from H:\\Anaconda-jupyter\\ECT课题\\第四批病人数据\\治疗脑电（第一批次）\\Z张璐20220302.edf...\n",
      "EDF file detected\n",
      "Setting channel info structure...\n",
      "Creating raw.info structure...\n",
      "Used Annotations descriptions: ['File Create', 'Recording ends', 'Recording starts', 'SE']\n",
      "21.837890625 + 29.837890625\n",
      ".\\SE\\Z张璐202203020.fif\n",
      "Writing H:\\Anaconda-jupyter\\ECT课题\\病人数据处理\\SE\\Z张璐202203020.fif\n",
      "Closing H:\\Anaconda-jupyter\\ECT课题\\病人数据处理\\SE\\Z张璐202203020.fif\n",
      "[done]\n",
      "Extracting EDF parameters from H:\\Anaconda-jupyter\\ECT课题\\第四批病人数据\\治疗脑电（第一批次）\\Z张璐20220304.edf...\n",
      "EDF file detected\n",
      "Setting channel info structure...\n"
     ]
    },
    {
     "name": "stderr",
     "output_type": "stream",
     "text": [
      "<ipython-input-7-ed7de2df3edd>:21: RuntimeWarning: This filename (H:\\Anaconda-jupyter\\ECT课题\\病人数据处理\\SE\\Z张璐202202280.fif) does not conform to MNE naming conventions. All raw files should end with raw.fif, raw_sss.fif, raw_tsss.fif, _meg.fif, _eeg.fif, _ieeg.fif, raw.fif.gz, raw_sss.fif.gz, raw_tsss.fif.gz, _meg.fif.gz, _eeg.fif.gz or _ieeg.fif.gz\n",
      "  raw.save(path_name,picks,start_time,end_time,overwrite=True)\n",
      "<ipython-input-7-ed7de2df3edd>:21: RuntimeWarning: This filename (H:\\Anaconda-jupyter\\ECT课题\\病人数据处理\\SE\\Z张璐202203020.fif) does not conform to MNE naming conventions. All raw files should end with raw.fif, raw_sss.fif, raw_tsss.fif, _meg.fif, _eeg.fif, _ieeg.fif, raw.fif.gz, raw_sss.fif.gz, raw_tsss.fif.gz, _meg.fif.gz, _eeg.fif.gz or _ieeg.fif.gz\n",
      "  raw.save(path_name,picks,start_time,end_time,overwrite=True)\n"
     ]
    },
    {
     "name": "stdout",
     "output_type": "stream",
     "text": [
      "Creating raw.info structure...\n",
      "Used Annotations descriptions: ['File Create', 'Recording ends', 'Recording starts', 'end', 'start']\n",
      "Extracting EDF parameters from H:\\Anaconda-jupyter\\ECT课题\\第四批病人数据\\治疗脑电（第一批次）\\Z徐珍英20220218（未发作）.edf...\n",
      "EDF file detected\n",
      "Setting channel info structure...\n",
      "Creating raw.info structure...\n",
      "Used Annotations descriptions: ['File Create', 'Recording ends', 'Recording starts', 'SE']\n",
      "Extracting EDF parameters from H:\\Anaconda-jupyter\\ECT课题\\第四批病人数据\\治疗脑电（第一批次）\\Z徐珍英20220218（未发作）.edf...\n",
      "EDF file detected\n",
      "Setting channel info structure...\n",
      "Creating raw.info structure...\n",
      "Used Annotations descriptions: ['File Create', 'Recording ends', 'Recording starts', 'SE']\n",
      "217.08203125 + 225.08203125\n",
      ".\\SE\\Z徐珍英20220218（未发作）0.fif\n",
      "Writing H:\\Anaconda-jupyter\\ECT课题\\病人数据处理\\SE\\Z徐珍英20220218（未发作）0.fif\n",
      "Closing H:\\Anaconda-jupyter\\ECT课题\\病人数据处理\\SE\\Z徐珍英20220218（未发作）0.fif\n",
      "[done]\n",
      "Extracting EDF parameters from H:\\Anaconda-jupyter\\ECT课题\\第四批病人数据\\治疗脑电（第一批次）\\Z徐珍英20220218（未发作）.edf...\n",
      "EDF file detected\n",
      "Setting channel info structure...\n",
      "Creating raw.info structure...\n",
      "Used Annotations descriptions: ['File Create', 'Recording ends', 'Recording starts', 'SE']\n",
      "225.08203125 + 233.08203125\n",
      ".\\SE\\Z徐珍英20220218（未发作）8.fif\n",
      "Writing H:\\Anaconda-jupyter\\ECT课题\\病人数据处理\\SE\\Z徐珍英20220218（未发作）8.fif\n",
      "Closing H:\\Anaconda-jupyter\\ECT课题\\病人数据处理\\SE\\Z徐珍英20220218（未发作）8.fif\n",
      "[done]\n",
      "Extracting EDF parameters from H:\\Anaconda-jupyter\\ECT课题\\第四批病人数据\\治疗脑电（第一批次）\\Z徐珍英20220218（未发作）.edf...\n",
      "EDF file detected\n",
      "Setting channel info structure...\n",
      "Creating raw.info structure...\n",
      "Used Annotations descriptions: ['File Create', 'Recording ends', 'Recording starts', 'SE']\n"
     ]
    },
    {
     "name": "stderr",
     "output_type": "stream",
     "text": [
      "<ipython-input-7-ed7de2df3edd>:21: RuntimeWarning: This filename (H:\\Anaconda-jupyter\\ECT课题\\病人数据处理\\SE\\Z徐珍英20220218（未发作）0.fif) does not conform to MNE naming conventions. All raw files should end with raw.fif, raw_sss.fif, raw_tsss.fif, _meg.fif, _eeg.fif, _ieeg.fif, raw.fif.gz, raw_sss.fif.gz, raw_tsss.fif.gz, _meg.fif.gz, _eeg.fif.gz or _ieeg.fif.gz\n",
      "  raw.save(path_name,picks,start_time,end_time,overwrite=True)\n",
      "<ipython-input-7-ed7de2df3edd>:21: RuntimeWarning: This filename (H:\\Anaconda-jupyter\\ECT课题\\病人数据处理\\SE\\Z徐珍英20220218（未发作）8.fif) does not conform to MNE naming conventions. All raw files should end with raw.fif, raw_sss.fif, raw_tsss.fif, _meg.fif, _eeg.fif, _ieeg.fif, raw.fif.gz, raw_sss.fif.gz, raw_tsss.fif.gz, _meg.fif.gz, _eeg.fif.gz or _ieeg.fif.gz\n",
      "  raw.save(path_name,picks,start_time,end_time,overwrite=True)\n"
     ]
    },
    {
     "name": "stdout",
     "output_type": "stream",
     "text": [
      "233.08203125 + 241.08203125\n",
      ".\\SE\\Z徐珍英20220218（未发作）16.fif\n",
      "Writing H:\\Anaconda-jupyter\\ECT课题\\病人数据处理\\SE\\Z徐珍英20220218（未发作）16.fif\n",
      "Closing H:\\Anaconda-jupyter\\ECT课题\\病人数据处理\\SE\\Z徐珍英20220218（未发作）16.fif\n",
      "[done]\n",
      "Extracting EDF parameters from H:\\Anaconda-jupyter\\ECT课题\\第四批病人数据\\治疗脑电（第一批次）\\Z徐珍英20220218（未发作）.edf...\n",
      "EDF file detected\n",
      "Setting channel info structure...\n",
      "Creating raw.info structure...\n",
      "Used Annotations descriptions: ['File Create', 'Recording ends', 'Recording starts', 'SE']\n",
      "241.08203125 + 249.08203125\n",
      ".\\SE\\Z徐珍英20220218（未发作）24.fif\n",
      "Writing H:\\Anaconda-jupyter\\ECT课题\\病人数据处理\\SE\\Z徐珍英20220218（未发作）24.fif\n",
      "Closing H:\\Anaconda-jupyter\\ECT课题\\病人数据处理\\SE\\Z徐珍英20220218（未发作）24.fif\n",
      "[done]\n",
      "Extracting EDF parameters from H:\\Anaconda-jupyter\\ECT课题\\第四批病人数据\\治疗脑电（第一批次）\\Z徐珍英20220221（未发作）.edf...\n",
      "EDF file detected\n",
      "Setting channel info structure...\n",
      "Creating raw.info structure...\n"
     ]
    },
    {
     "name": "stderr",
     "output_type": "stream",
     "text": [
      "<ipython-input-7-ed7de2df3edd>:21: RuntimeWarning: This filename (H:\\Anaconda-jupyter\\ECT课题\\病人数据处理\\SE\\Z徐珍英20220218（未发作）16.fif) does not conform to MNE naming conventions. All raw files should end with raw.fif, raw_sss.fif, raw_tsss.fif, _meg.fif, _eeg.fif, _ieeg.fif, raw.fif.gz, raw_sss.fif.gz, raw_tsss.fif.gz, _meg.fif.gz, _eeg.fif.gz or _ieeg.fif.gz\n",
      "  raw.save(path_name,picks,start_time,end_time,overwrite=True)\n",
      "<ipython-input-7-ed7de2df3edd>:21: RuntimeWarning: This filename (H:\\Anaconda-jupyter\\ECT课题\\病人数据处理\\SE\\Z徐珍英20220218（未发作）24.fif) does not conform to MNE naming conventions. All raw files should end with raw.fif, raw_sss.fif, raw_tsss.fif, _meg.fif, _eeg.fif, _ieeg.fif, raw.fif.gz, raw_sss.fif.gz, raw_tsss.fif.gz, _meg.fif.gz, _eeg.fif.gz or _ieeg.fif.gz\n",
      "  raw.save(path_name,picks,start_time,end_time,overwrite=True)\n"
     ]
    },
    {
     "name": "stdout",
     "output_type": "stream",
     "text": [
      "Used Annotations descriptions: ['File Create', 'Recording ends', 'Recording starts', 'SE']\n",
      "Extracting EDF parameters from H:\\Anaconda-jupyter\\ECT课题\\第四批病人数据\\治疗脑电（第一批次）\\Z徐珍英20220221（未发作）.edf...\n",
      "EDF file detected\n",
      "Setting channel info structure...\n",
      "Creating raw.info structure...\n",
      "Used Annotations descriptions: ['File Create', 'Recording ends', 'Recording starts', 'SE']\n",
      "61.8515625 + 69.8515625\n",
      ".\\SE\\Z徐珍英20220221（未发作）0.fif\n",
      "Writing H:\\Anaconda-jupyter\\ECT课题\\病人数据处理\\SE\\Z徐珍英20220221（未发作）0.fif\n",
      "Closing H:\\Anaconda-jupyter\\ECT课题\\病人数据处理\\SE\\Z徐珍英20220221（未发作）0.fif\n",
      "[done]\n",
      "Extracting EDF parameters from H:\\Anaconda-jupyter\\ECT课题\\第四批病人数据\\治疗脑电（第一批次）\\Z徐珍英20220221（未发作）.edf...\n",
      "EDF file detected\n",
      "Setting channel info structure...\n",
      "Creating raw.info structure...\n",
      "Used Annotations descriptions: ['File Create', 'Recording ends', 'Recording starts', 'SE']\n",
      "69.8515625 + 77.8515625\n",
      ".\\SE\\Z徐珍英20220221（未发作）8.fif\n",
      "Writing H:\\Anaconda-jupyter\\ECT课题\\病人数据处理\\SE\\Z徐珍英20220221（未发作）8.fif\n",
      "Closing H:\\Anaconda-jupyter\\ECT课题\\病人数据处理\\SE\\Z徐珍英20220221（未发作）8.fif\n",
      "[done]\n",
      "Extracting EDF parameters from H:\\Anaconda-jupyter\\ECT课题\\第四批病人数据\\治疗脑电（第一批次）\\Z徐珍英20220221（未发作）.edf...\n",
      "EDF file detected\n",
      "Setting channel info structure...\n",
      "Creating raw.info structure...\n",
      "Used Annotations descriptions: ['File Create', 'Recording ends', 'Recording starts', 'SE']\n"
     ]
    },
    {
     "name": "stderr",
     "output_type": "stream",
     "text": [
      "<ipython-input-7-ed7de2df3edd>:21: RuntimeWarning: This filename (H:\\Anaconda-jupyter\\ECT课题\\病人数据处理\\SE\\Z徐珍英20220221（未发作）0.fif) does not conform to MNE naming conventions. All raw files should end with raw.fif, raw_sss.fif, raw_tsss.fif, _meg.fif, _eeg.fif, _ieeg.fif, raw.fif.gz, raw_sss.fif.gz, raw_tsss.fif.gz, _meg.fif.gz, _eeg.fif.gz or _ieeg.fif.gz\n",
      "  raw.save(path_name,picks,start_time,end_time,overwrite=True)\n",
      "<ipython-input-7-ed7de2df3edd>:21: RuntimeWarning: This filename (H:\\Anaconda-jupyter\\ECT课题\\病人数据处理\\SE\\Z徐珍英20220221（未发作）8.fif) does not conform to MNE naming conventions. All raw files should end with raw.fif, raw_sss.fif, raw_tsss.fif, _meg.fif, _eeg.fif, _ieeg.fif, raw.fif.gz, raw_sss.fif.gz, raw_tsss.fif.gz, _meg.fif.gz, _eeg.fif.gz or _ieeg.fif.gz\n",
      "  raw.save(path_name,picks,start_time,end_time,overwrite=True)\n"
     ]
    },
    {
     "name": "stdout",
     "output_type": "stream",
     "text": [
      "77.8515625 + 85.8515625\n",
      ".\\SE\\Z徐珍英20220221（未发作）16.fif\n",
      "Writing H:\\Anaconda-jupyter\\ECT课题\\病人数据处理\\SE\\Z徐珍英20220221（未发作）16.fif\n",
      "Closing H:\\Anaconda-jupyter\\ECT课题\\病人数据处理\\SE\\Z徐珍英20220221（未发作）16.fif\n",
      "[done]\n",
      "Extracting EDF parameters from H:\\Anaconda-jupyter\\ECT课题\\第四批病人数据\\治疗脑电（第一批次）\\Z徐珍英20220221（未发作）.edf...\n",
      "EDF file detected\n",
      "Setting channel info structure...\n",
      "Creating raw.info structure...\n",
      "Used Annotations descriptions: ['File Create', 'Recording ends', 'Recording starts', 'SE']\n",
      "85.8515625 + 93.8515625\n",
      ".\\SE\\Z徐珍英20220221（未发作）24.fif\n",
      "Writing H:\\Anaconda-jupyter\\ECT课题\\病人数据处理\\SE\\Z徐珍英20220221（未发作）24.fif\n",
      "Closing H:\\Anaconda-jupyter\\ECT课题\\病人数据处理\\SE\\Z徐珍英20220221（未发作）24.fif\n",
      "[done]\n",
      "Extracting EDF parameters from H:\\Anaconda-jupyter\\ECT课题\\第四批病人数据\\治疗脑电（第一批次）\\Z徐珍英20220223.edf...\n",
      "EDF file detected\n",
      "Setting channel info structure...\n",
      "Creating raw.info structure...\n"
     ]
    },
    {
     "name": "stderr",
     "output_type": "stream",
     "text": [
      "<ipython-input-7-ed7de2df3edd>:21: RuntimeWarning: This filename (H:\\Anaconda-jupyter\\ECT课题\\病人数据处理\\SE\\Z徐珍英20220221（未发作）16.fif) does not conform to MNE naming conventions. All raw files should end with raw.fif, raw_sss.fif, raw_tsss.fif, _meg.fif, _eeg.fif, _ieeg.fif, raw.fif.gz, raw_sss.fif.gz, raw_tsss.fif.gz, _meg.fif.gz, _eeg.fif.gz or _ieeg.fif.gz\n",
      "  raw.save(path_name,picks,start_time,end_time,overwrite=True)\n",
      "<ipython-input-7-ed7de2df3edd>:21: RuntimeWarning: This filename (H:\\Anaconda-jupyter\\ECT课题\\病人数据处理\\SE\\Z徐珍英20220221（未发作）24.fif) does not conform to MNE naming conventions. All raw files should end with raw.fif, raw_sss.fif, raw_tsss.fif, _meg.fif, _eeg.fif, _ieeg.fif, raw.fif.gz, raw_sss.fif.gz, raw_tsss.fif.gz, _meg.fif.gz, _eeg.fif.gz or _ieeg.fif.gz\n",
      "  raw.save(path_name,picks,start_time,end_time,overwrite=True)\n"
     ]
    },
    {
     "name": "stdout",
     "output_type": "stream",
     "text": [
      "Used Annotations descriptions: ['File Create', 'Recording ends', 'Recording starts', 'SE', 'end', 'start']\n",
      "Extracting EDF parameters from H:\\Anaconda-jupyter\\ECT课题\\第四批病人数据\\治疗脑电（第一批次）\\Z徐珍英20220223.edf...\n",
      "EDF file detected\n",
      "Setting channel info structure...\n",
      "Creating raw.info structure...\n",
      "Used Annotations descriptions: ['File Create', 'Recording ends', 'Recording starts', 'SE', 'end', 'start']\n",
      "177.5517578125 + 185.5517578125\n",
      ".\\SE\\Z徐珍英202202230.fif\n",
      "Writing H:\\Anaconda-jupyter\\ECT课题\\病人数据处理\\SE\\Z徐珍英202202230.fif\n",
      "Closing H:\\Anaconda-jupyter\\ECT课题\\病人数据处理\\SE\\Z徐珍英202202230.fif\n",
      "[done]\n",
      "Extracting EDF parameters from H:\\Anaconda-jupyter\\ECT课题\\第四批病人数据\\治疗脑电（第一批次）\\Z徐珍英20220225.edf...\n",
      "EDF file detected\n",
      "Setting channel info structure...\n",
      "Creating raw.info structure...\n",
      "Used Annotations descriptions: ['File Create', 'Recording ends', 'Recording starts', 'SE', 'end', 'start']\n",
      "Extracting EDF parameters from H:\\Anaconda-jupyter\\ECT课题\\第四批病人数据\\治疗脑电（第一批次）\\Z徐珍英20220225.edf...\n",
      "EDF file detected\n",
      "Setting channel info structure...\n",
      "Creating raw.info structure...\n",
      "Used Annotations descriptions: ['File Create', 'Recording ends', 'Recording starts', 'SE', 'end', 'start']\n",
      "23.228515625 + 31.228515625\n",
      ".\\SE\\Z徐珍英202202250.fif\n",
      "Writing H:\\Anaconda-jupyter\\ECT课题\\病人数据处理\\SE\\Z徐珍英202202250.fif\n",
      "Closing H:\\Anaconda-jupyter\\ECT课题\\病人数据处理\\SE\\Z徐珍英202202250.fif\n"
     ]
    },
    {
     "name": "stderr",
     "output_type": "stream",
     "text": [
      "<ipython-input-7-ed7de2df3edd>:21: RuntimeWarning: This filename (H:\\Anaconda-jupyter\\ECT课题\\病人数据处理\\SE\\Z徐珍英202202230.fif) does not conform to MNE naming conventions. All raw files should end with raw.fif, raw_sss.fif, raw_tsss.fif, _meg.fif, _eeg.fif, _ieeg.fif, raw.fif.gz, raw_sss.fif.gz, raw_tsss.fif.gz, _meg.fif.gz, _eeg.fif.gz or _ieeg.fif.gz\n",
      "  raw.save(path_name,picks,start_time,end_time,overwrite=True)\n",
      "<ipython-input-7-ed7de2df3edd>:21: RuntimeWarning: This filename (H:\\Anaconda-jupyter\\ECT课题\\病人数据处理\\SE\\Z徐珍英202202250.fif) does not conform to MNE naming conventions. All raw files should end with raw.fif, raw_sss.fif, raw_tsss.fif, _meg.fif, _eeg.fif, _ieeg.fif, raw.fif.gz, raw_sss.fif.gz, raw_tsss.fif.gz, _meg.fif.gz, _eeg.fif.gz or _ieeg.fif.gz\n",
      "  raw.save(path_name,picks,start_time,end_time,overwrite=True)\n"
     ]
    },
    {
     "name": "stdout",
     "output_type": "stream",
     "text": [
      "[done]\n",
      "Extracting EDF parameters from H:\\Anaconda-jupyter\\ECT课题\\第四批病人数据\\治疗脑电（第一批次）\\Z曾刚20220216.edf...\n",
      "EDF file detected\n",
      "Setting channel info structure...\n",
      "Creating raw.info structure...\n",
      "Used Annotations descriptions: ['File Create', 'Recording ends', 'Recording starts', 'SE', 'end', 'start']\n",
      "Extracting EDF parameters from H:\\Anaconda-jupyter\\ECT课题\\第四批病人数据\\治疗脑电（第一批次）\\Z曾刚20220216.edf...\n",
      "EDF file detected\n",
      "Setting channel info structure...\n",
      "Creating raw.info structure...\n",
      "Used Annotations descriptions: ['File Create', 'Recording ends', 'Recording starts', 'SE', 'end', 'start']\n",
      "37.7734375 + 45.7734375\n",
      ".\\SE\\Z曾刚202202160.fif\n",
      "Writing H:\\Anaconda-jupyter\\ECT课题\\病人数据处理\\SE\\Z曾刚202202160.fif\n",
      "Closing H:\\Anaconda-jupyter\\ECT课题\\病人数据处理\\SE\\Z曾刚202202160.fif\n",
      "[done]\n",
      "Extracting EDF parameters from H:\\Anaconda-jupyter\\ECT课题\\第四批病人数据\\治疗脑电（第一批次）\\Z曾刚20220218（未发作）.edf...\n",
      "EDF file detected\n",
      "Setting channel info structure...\n",
      "Creating raw.info structure...\n",
      "Used Annotations descriptions: ['File Create', 'Recording ends', 'Recording starts', 'SE']\n",
      "Extracting EDF parameters from H:\\Anaconda-jupyter\\ECT课题\\第四批病人数据\\治疗脑电（第一批次）\\Z曾刚20220218（未发作）.edf...\n",
      "EDF file detected\n",
      "Setting channel info structure...\n",
      "Creating raw.info structure...\n",
      "Used Annotations descriptions: ['File Create', 'Recording ends', 'Recording starts', 'SE']\n"
     ]
    },
    {
     "name": "stderr",
     "output_type": "stream",
     "text": [
      "<ipython-input-7-ed7de2df3edd>:21: RuntimeWarning: This filename (H:\\Anaconda-jupyter\\ECT课题\\病人数据处理\\SE\\Z曾刚202202160.fif) does not conform to MNE naming conventions. All raw files should end with raw.fif, raw_sss.fif, raw_tsss.fif, _meg.fif, _eeg.fif, _ieeg.fif, raw.fif.gz, raw_sss.fif.gz, raw_tsss.fif.gz, _meg.fif.gz, _eeg.fif.gz or _ieeg.fif.gz\n",
      "  raw.save(path_name,picks,start_time,end_time,overwrite=True)\n"
     ]
    },
    {
     "name": "stdout",
     "output_type": "stream",
     "text": [
      "214.76953125 + 222.76953125\n",
      ".\\SE\\Z曾刚20220218（未发作）0.fif\n",
      "Writing H:\\Anaconda-jupyter\\ECT课题\\病人数据处理\\SE\\Z曾刚20220218（未发作）0.fif\n",
      "Closing H:\\Anaconda-jupyter\\ECT课题\\病人数据处理\\SE\\Z曾刚20220218（未发作）0.fif\n",
      "[done]\n",
      "Extracting EDF parameters from H:\\Anaconda-jupyter\\ECT课题\\第四批病人数据\\治疗脑电（第一批次）\\Z曾刚20220218（未发作）.edf...\n",
      "EDF file detected\n",
      "Setting channel info structure...\n",
      "Creating raw.info structure...\n",
      "Used Annotations descriptions: ['File Create', 'Recording ends', 'Recording starts', 'SE']\n",
      "222.76953125 + 230.76953125\n",
      ".\\SE\\Z曾刚20220218（未发作）8.fif\n",
      "Writing H:\\Anaconda-jupyter\\ECT课题\\病人数据处理\\SE\\Z曾刚20220218（未发作）8.fif\n",
      "Closing H:\\Anaconda-jupyter\\ECT课题\\病人数据处理\\SE\\Z曾刚20220218（未发作）8.fif\n",
      "[done]\n",
      "Extracting EDF parameters from H:\\Anaconda-jupyter\\ECT课题\\第四批病人数据\\治疗脑电（第一批次）\\Z曾刚20220218（未发作）.edf...\n",
      "EDF file detected\n",
      "Setting channel info structure...\n",
      "Creating raw.info structure...\n",
      "Used Annotations descriptions: ['File Create', 'Recording ends', 'Recording starts', 'SE']\n"
     ]
    },
    {
     "name": "stderr",
     "output_type": "stream",
     "text": [
      "<ipython-input-7-ed7de2df3edd>:21: RuntimeWarning: This filename (H:\\Anaconda-jupyter\\ECT课题\\病人数据处理\\SE\\Z曾刚20220218（未发作）0.fif) does not conform to MNE naming conventions. All raw files should end with raw.fif, raw_sss.fif, raw_tsss.fif, _meg.fif, _eeg.fif, _ieeg.fif, raw.fif.gz, raw_sss.fif.gz, raw_tsss.fif.gz, _meg.fif.gz, _eeg.fif.gz or _ieeg.fif.gz\n",
      "  raw.save(path_name,picks,start_time,end_time,overwrite=True)\n",
      "<ipython-input-7-ed7de2df3edd>:21: RuntimeWarning: This filename (H:\\Anaconda-jupyter\\ECT课题\\病人数据处理\\SE\\Z曾刚20220218（未发作）8.fif) does not conform to MNE naming conventions. All raw files should end with raw.fif, raw_sss.fif, raw_tsss.fif, _meg.fif, _eeg.fif, _ieeg.fif, raw.fif.gz, raw_sss.fif.gz, raw_tsss.fif.gz, _meg.fif.gz, _eeg.fif.gz or _ieeg.fif.gz\n",
      "  raw.save(path_name,picks,start_time,end_time,overwrite=True)\n"
     ]
    },
    {
     "name": "stdout",
     "output_type": "stream",
     "text": [
      "230.76953125 + 238.76953125\n",
      ".\\SE\\Z曾刚20220218（未发作）16.fif\n",
      "Writing H:\\Anaconda-jupyter\\ECT课题\\病人数据处理\\SE\\Z曾刚20220218（未发作）16.fif\n",
      "Closing H:\\Anaconda-jupyter\\ECT课题\\病人数据处理\\SE\\Z曾刚20220218（未发作）16.fif\n",
      "[done]\n",
      "Extracting EDF parameters from H:\\Anaconda-jupyter\\ECT课题\\第四批病人数据\\治疗脑电（第一批次）\\Z曾刚20220218（未发作）.edf...\n",
      "EDF file detected\n",
      "Setting channel info structure...\n",
      "Creating raw.info structure...\n",
      "Used Annotations descriptions: ['File Create', 'Recording ends', 'Recording starts', 'SE']\n",
      "238.76953125 + 246.76953125\n",
      ".\\SE\\Z曾刚20220218（未发作）24.fif\n",
      "Writing H:\\Anaconda-jupyter\\ECT课题\\病人数据处理\\SE\\Z曾刚20220218（未发作）24.fif\n",
      "Closing H:\\Anaconda-jupyter\\ECT课题\\病人数据处理\\SE\\Z曾刚20220218（未发作）24.fif\n",
      "[done]\n",
      "Extracting EDF parameters from H:\\Anaconda-jupyter\\ECT课题\\第四批病人数据\\治疗脑电（第一批次）\\Z曾刚20220221.edf...\n",
      "EDF file detected\n",
      "Setting channel info structure...\n",
      "Creating raw.info structure...\n"
     ]
    },
    {
     "name": "stderr",
     "output_type": "stream",
     "text": [
      "<ipython-input-7-ed7de2df3edd>:21: RuntimeWarning: This filename (H:\\Anaconda-jupyter\\ECT课题\\病人数据处理\\SE\\Z曾刚20220218（未发作）16.fif) does not conform to MNE naming conventions. All raw files should end with raw.fif, raw_sss.fif, raw_tsss.fif, _meg.fif, _eeg.fif, _ieeg.fif, raw.fif.gz, raw_sss.fif.gz, raw_tsss.fif.gz, _meg.fif.gz, _eeg.fif.gz or _ieeg.fif.gz\n",
      "  raw.save(path_name,picks,start_time,end_time,overwrite=True)\n",
      "<ipython-input-7-ed7de2df3edd>:21: RuntimeWarning: This filename (H:\\Anaconda-jupyter\\ECT课题\\病人数据处理\\SE\\Z曾刚20220218（未发作）24.fif) does not conform to MNE naming conventions. All raw files should end with raw.fif, raw_sss.fif, raw_tsss.fif, _meg.fif, _eeg.fif, _ieeg.fif, raw.fif.gz, raw_sss.fif.gz, raw_tsss.fif.gz, _meg.fif.gz, _eeg.fif.gz or _ieeg.fif.gz\n",
      "  raw.save(path_name,picks,start_time,end_time,overwrite=True)\n"
     ]
    },
    {
     "name": "stdout",
     "output_type": "stream",
     "text": [
      "Used Annotations descriptions: ['File Create', 'Recording ends', 'Recording starts', 'SE', 'end', 'start']\n",
      "Extracting EDF parameters from H:\\Anaconda-jupyter\\ECT课题\\第四批病人数据\\治疗脑电（第一批次）\\Z曾刚20220221.edf...\n",
      "EDF file detected\n",
      "Setting channel info structure...\n",
      "Creating raw.info structure...\n",
      "Used Annotations descriptions: ['File Create', 'Recording ends', 'Recording starts', 'SE', 'end', 'start']\n",
      "17.3896484375 + 25.3896484375\n",
      ".\\SE\\Z曾刚202202210.fif\n",
      "Writing H:\\Anaconda-jupyter\\ECT课题\\病人数据处理\\SE\\Z曾刚202202210.fif\n",
      "Closing H:\\Anaconda-jupyter\\ECT课题\\病人数据处理\\SE\\Z曾刚202202210.fif\n",
      "[done]\n",
      "Extracting EDF parameters from H:\\Anaconda-jupyter\\ECT课题\\第四批病人数据\\治疗脑电（第一批次）\\Z曾刚20220223.edf...\n",
      "EDF file detected\n",
      "Setting channel info structure...\n",
      "Creating raw.info structure...\n",
      "Used Annotations descriptions: ['File Create', 'Recording ends', 'Recording starts', 'SE', 'end', 'start']\n",
      "Extracting EDF parameters from H:\\Anaconda-jupyter\\ECT课题\\第四批病人数据\\治疗脑电（第一批次）\\Z曾刚20220223.edf...\n",
      "EDF file detected\n",
      "Setting channel info structure...\n",
      "Creating raw.info structure...\n",
      "Used Annotations descriptions: ['File Create', 'Recording ends', 'Recording starts', 'SE', 'end', 'start']\n",
      "68.623046875 + 76.623046875\n",
      ".\\SE\\Z曾刚202202230.fif\n",
      "Writing H:\\Anaconda-jupyter\\ECT课题\\病人数据处理\\SE\\Z曾刚202202230.fif\n",
      "Closing H:\\Anaconda-jupyter\\ECT课题\\病人数据处理\\SE\\Z曾刚202202230.fif\n"
     ]
    },
    {
     "name": "stderr",
     "output_type": "stream",
     "text": [
      "<ipython-input-7-ed7de2df3edd>:21: RuntimeWarning: This filename (H:\\Anaconda-jupyter\\ECT课题\\病人数据处理\\SE\\Z曾刚202202210.fif) does not conform to MNE naming conventions. All raw files should end with raw.fif, raw_sss.fif, raw_tsss.fif, _meg.fif, _eeg.fif, _ieeg.fif, raw.fif.gz, raw_sss.fif.gz, raw_tsss.fif.gz, _meg.fif.gz, _eeg.fif.gz or _ieeg.fif.gz\n",
      "  raw.save(path_name,picks,start_time,end_time,overwrite=True)\n",
      "<ipython-input-7-ed7de2df3edd>:21: RuntimeWarning: This filename (H:\\Anaconda-jupyter\\ECT课题\\病人数据处理\\SE\\Z曾刚202202230.fif) does not conform to MNE naming conventions. All raw files should end with raw.fif, raw_sss.fif, raw_tsss.fif, _meg.fif, _eeg.fif, _ieeg.fif, raw.fif.gz, raw_sss.fif.gz, raw_tsss.fif.gz, _meg.fif.gz, _eeg.fif.gz or _ieeg.fif.gz\n",
      "  raw.save(path_name,picks,start_time,end_time,overwrite=True)\n"
     ]
    },
    {
     "name": "stdout",
     "output_type": "stream",
     "text": [
      "[done]\n",
      "Extracting EDF parameters from H:\\Anaconda-jupyter\\ECT课题\\第四批病人数据\\治疗脑电（第一批次）\\Z李玉萍20220216.edf...\n",
      "EDF file detected\n",
      "Setting channel info structure...\n",
      "Creating raw.info structure...\n",
      "Used Annotations descriptions: ['File Create', 'Recording ends', 'Recording starts', 'SE', 'end', 'start']\n",
      "Extracting EDF parameters from H:\\Anaconda-jupyter\\ECT课题\\第四批病人数据\\治疗脑电（第一批次）\\Z李玉萍20220216.edf...\n",
      "EDF file detected\n",
      "Setting channel info structure...\n",
      "Creating raw.info structure...\n",
      "Used Annotations descriptions: ['File Create', 'Recording ends', 'Recording starts', 'SE', 'end', 'start']\n",
      "49.44140625 + 57.44140625\n",
      ".\\SE\\Z李玉萍202202160.fif\n",
      "Writing H:\\Anaconda-jupyter\\ECT课题\\病人数据处理\\SE\\Z李玉萍202202160.fif\n",
      "Closing H:\\Anaconda-jupyter\\ECT课题\\病人数据处理\\SE\\Z李玉萍202202160.fif\n",
      "[done]\n",
      "Extracting EDF parameters from H:\\Anaconda-jupyter\\ECT课题\\第四批病人数据\\治疗脑电（第一批次）\\Z李玉萍20220218.edf...\n",
      "EDF file detected\n",
      "Setting channel info structure...\n",
      "Creating raw.info structure...\n",
      "Used Annotations descriptions: ['File Create', 'Recording ends', 'Recording starts', 'SE', 'end', 'start']\n",
      "Extracting EDF parameters from H:\\Anaconda-jupyter\\ECT课题\\第四批病人数据\\治疗脑电（第一批次）\\Z李玉萍20220218.edf...\n",
      "EDF file detected\n",
      "Setting channel info structure...\n",
      "Creating raw.info structure...\n",
      "Used Annotations descriptions: ['File Create', 'Recording ends', 'Recording starts', 'SE', 'end', 'start']\n",
      "54.3701171875 + 62.3701171875\n"
     ]
    },
    {
     "name": "stderr",
     "output_type": "stream",
     "text": [
      "<ipython-input-7-ed7de2df3edd>:21: RuntimeWarning: This filename (H:\\Anaconda-jupyter\\ECT课题\\病人数据处理\\SE\\Z李玉萍202202160.fif) does not conform to MNE naming conventions. All raw files should end with raw.fif, raw_sss.fif, raw_tsss.fif, _meg.fif, _eeg.fif, _ieeg.fif, raw.fif.gz, raw_sss.fif.gz, raw_tsss.fif.gz, _meg.fif.gz, _eeg.fif.gz or _ieeg.fif.gz\n",
      "  raw.save(path_name,picks,start_time,end_time,overwrite=True)\n"
     ]
    },
    {
     "name": "stdout",
     "output_type": "stream",
     "text": [
      ".\\SE\\Z李玉萍202202180.fif\n",
      "Writing H:\\Anaconda-jupyter\\ECT课题\\病人数据处理\\SE\\Z李玉萍202202180.fif\n",
      "Closing H:\\Anaconda-jupyter\\ECT课题\\病人数据处理\\SE\\Z李玉萍202202180.fif\n",
      "[done]\n",
      "Extracting EDF parameters from H:\\Anaconda-jupyter\\ECT课题\\第四批病人数据\\治疗脑电（第一批次）\\Z李玉萍20220221（未发作）.edf...\n",
      "EDF file detected\n",
      "Setting channel info structure...\n",
      "Creating raw.info structure...\n",
      "Used Annotations descriptions: ['File Create', 'Recording ends', 'Recording starts', 'SE']\n",
      "Extracting EDF parameters from H:\\Anaconda-jupyter\\ECT课题\\第四批病人数据\\治疗脑电（第一批次）\\Z李玉萍20220221（未发作）.edf...\n",
      "EDF file detected\n",
      "Setting channel info structure...\n",
      "Creating raw.info structure...\n",
      "Used Annotations descriptions: ['File Create', 'Recording ends', 'Recording starts', 'SE']\n",
      "36.537109375 + 44.537109375\n",
      ".\\SE\\Z李玉萍20220221（未发作）0.fif\n",
      "Writing H:\\Anaconda-jupyter\\ECT课题\\病人数据处理\\SE\\Z李玉萍20220221（未发作）0.fif\n",
      "Closing H:\\Anaconda-jupyter\\ECT课题\\病人数据处理\\SE\\Z李玉萍20220221（未发作）0.fif\n"
     ]
    },
    {
     "name": "stderr",
     "output_type": "stream",
     "text": [
      "<ipython-input-7-ed7de2df3edd>:21: RuntimeWarning: This filename (H:\\Anaconda-jupyter\\ECT课题\\病人数据处理\\SE\\Z李玉萍202202180.fif) does not conform to MNE naming conventions. All raw files should end with raw.fif, raw_sss.fif, raw_tsss.fif, _meg.fif, _eeg.fif, _ieeg.fif, raw.fif.gz, raw_sss.fif.gz, raw_tsss.fif.gz, _meg.fif.gz, _eeg.fif.gz or _ieeg.fif.gz\n",
      "  raw.save(path_name,picks,start_time,end_time,overwrite=True)\n",
      "<ipython-input-7-ed7de2df3edd>:21: RuntimeWarning: This filename (H:\\Anaconda-jupyter\\ECT课题\\病人数据处理\\SE\\Z李玉萍20220221（未发作）0.fif) does not conform to MNE naming conventions. All raw files should end with raw.fif, raw_sss.fif, raw_tsss.fif, _meg.fif, _eeg.fif, _ieeg.fif, raw.fif.gz, raw_sss.fif.gz, raw_tsss.fif.gz, _meg.fif.gz, _eeg.fif.gz or _ieeg.fif.gz\n",
      "  raw.save(path_name,picks,start_time,end_time,overwrite=True)\n"
     ]
    },
    {
     "name": "stdout",
     "output_type": "stream",
     "text": [
      "[done]\n",
      "Extracting EDF parameters from H:\\Anaconda-jupyter\\ECT课题\\第四批病人数据\\治疗脑电（第一批次）\\Z李玉萍20220221（未发作）.edf...\n",
      "EDF file detected\n",
      "Setting channel info structure...\n",
      "Creating raw.info structure...\n",
      "Used Annotations descriptions: ['File Create', 'Recording ends', 'Recording starts', 'SE']\n",
      "44.537109375 + 52.537109375\n",
      ".\\SE\\Z李玉萍20220221（未发作）8.fif\n",
      "Writing H:\\Anaconda-jupyter\\ECT课题\\病人数据处理\\SE\\Z李玉萍20220221（未发作）8.fif\n",
      "Closing H:\\Anaconda-jupyter\\ECT课题\\病人数据处理\\SE\\Z李玉萍20220221（未发作）8.fif\n",
      "[done]\n",
      "Extracting EDF parameters from H:\\Anaconda-jupyter\\ECT课题\\第四批病人数据\\治疗脑电（第一批次）\\Z李玉萍20220221（未发作）.edf...\n",
      "EDF file detected\n",
      "Setting channel info structure...\n",
      "Creating raw.info structure...\n",
      "Used Annotations descriptions: ['File Create', 'Recording ends', 'Recording starts', 'SE']\n",
      "52.537109375 + 60.537109375\n",
      ".\\SE\\Z李玉萍20220221（未发作）16.fif\n",
      "Writing H:\\Anaconda-jupyter\\ECT课题\\病人数据处理\\SE\\Z李玉萍20220221（未发作）16.fif\n",
      "Closing H:\\Anaconda-jupyter\\ECT课题\\病人数据处理\\SE\\Z李玉萍20220221（未发作）16.fif\n",
      "[done]\n",
      "Extracting EDF parameters from H:\\Anaconda-jupyter\\ECT课题\\第四批病人数据\\治疗脑电（第一批次）\\Z李玉萍20220221（未发作）.edf...\n",
      "EDF file detected\n",
      "Setting channel info structure...\n",
      "Creating raw.info structure...\n",
      "Used Annotations descriptions: ['File Create', 'Recording ends', 'Recording starts', 'SE']\n",
      "60.537109375 + 68.537109375\n",
      ".\\SE\\Z李玉萍20220221（未发作）24.fif\n",
      "Writing H:\\Anaconda-jupyter\\ECT课题\\病人数据处理\\SE\\Z李玉萍20220221（未发作）24.fif\n",
      "Closing H:\\Anaconda-jupyter\\ECT课题\\病人数据处理\\SE\\Z李玉萍20220221（未发作）24.fif\n"
     ]
    },
    {
     "name": "stderr",
     "output_type": "stream",
     "text": [
      "<ipython-input-7-ed7de2df3edd>:21: RuntimeWarning: This filename (H:\\Anaconda-jupyter\\ECT课题\\病人数据处理\\SE\\Z李玉萍20220221（未发作）8.fif) does not conform to MNE naming conventions. All raw files should end with raw.fif, raw_sss.fif, raw_tsss.fif, _meg.fif, _eeg.fif, _ieeg.fif, raw.fif.gz, raw_sss.fif.gz, raw_tsss.fif.gz, _meg.fif.gz, _eeg.fif.gz or _ieeg.fif.gz\n",
      "  raw.save(path_name,picks,start_time,end_time,overwrite=True)\n",
      "<ipython-input-7-ed7de2df3edd>:21: RuntimeWarning: This filename (H:\\Anaconda-jupyter\\ECT课题\\病人数据处理\\SE\\Z李玉萍20220221（未发作）16.fif) does not conform to MNE naming conventions. All raw files should end with raw.fif, raw_sss.fif, raw_tsss.fif, _meg.fif, _eeg.fif, _ieeg.fif, raw.fif.gz, raw_sss.fif.gz, raw_tsss.fif.gz, _meg.fif.gz, _eeg.fif.gz or _ieeg.fif.gz\n",
      "  raw.save(path_name,picks,start_time,end_time,overwrite=True)\n",
      "<ipython-input-7-ed7de2df3edd>:21: RuntimeWarning: This filename (H:\\Anaconda-jupyter\\ECT课题\\病人数据处理\\SE\\Z李玉萍20220221（未发作）24.fif) does not conform to MNE naming conventions. All raw files should end with raw.fif, raw_sss.fif, raw_tsss.fif, _meg.fif, _eeg.fif, _ieeg.fif, raw.fif.gz, raw_sss.fif.gz, raw_tsss.fif.gz, _meg.fif.gz, _eeg.fif.gz or _ieeg.fif.gz\n",
      "  raw.save(path_name,picks,start_time,end_time,overwrite=True)\n"
     ]
    },
    {
     "name": "stdout",
     "output_type": "stream",
     "text": [
      "[done]\n",
      "Extracting EDF parameters from H:\\Anaconda-jupyter\\ECT课题\\第四批病人数据\\治疗脑电（第一批次）\\Z李玉萍20220223.edf...\n",
      "EDF file detected\n",
      "Setting channel info structure...\n",
      "Creating raw.info structure...\n",
      "Used Annotations descriptions: ['File Create', 'Recording ends', 'Recording starts', 'SE', 'end', 'start']\n",
      "Extracting EDF parameters from H:\\Anaconda-jupyter\\ECT课题\\第四批病人数据\\治疗脑电（第一批次）\\Z李玉萍20220223.edf...\n",
      "EDF file detected\n",
      "Setting channel info structure...\n",
      "Creating raw.info structure...\n",
      "Used Annotations descriptions: ['File Create', 'Recording ends', 'Recording starts', 'SE', 'end', 'start']\n",
      "56.720703125 + 64.720703125\n",
      ".\\SE\\Z李玉萍202202230.fif\n",
      "Writing H:\\Anaconda-jupyter\\ECT课题\\病人数据处理\\SE\\Z李玉萍202202230.fif\n",
      "Closing H:\\Anaconda-jupyter\\ECT课题\\病人数据处理\\SE\\Z李玉萍202202230.fif\n",
      "[done]\n",
      "Extracting EDF parameters from H:\\Anaconda-jupyter\\ECT课题\\第四批病人数据\\治疗脑电（第一批次）\\Z杜娇20220316.edf...\n",
      "EDF file detected\n",
      "Setting channel info structure...\n",
      "Creating raw.info structure...\n",
      "Used Annotations descriptions: ['File Create', 'Recording ends', 'Recording starts', 'SE', 'end', 'start']\n",
      "Extracting EDF parameters from H:\\Anaconda-jupyter\\ECT课题\\第四批病人数据\\治疗脑电（第一批次）\\Z杜娇20220316.edf...\n",
      "EDF file detected\n",
      "Setting channel info structure...\n",
      "Creating raw.info structure...\n",
      "Used Annotations descriptions: ['File Create', 'Recording ends', 'Recording starts', 'SE', 'end', 'start']\n"
     ]
    },
    {
     "name": "stderr",
     "output_type": "stream",
     "text": [
      "<ipython-input-7-ed7de2df3edd>:21: RuntimeWarning: This filename (H:\\Anaconda-jupyter\\ECT课题\\病人数据处理\\SE\\Z李玉萍202202230.fif) does not conform to MNE naming conventions. All raw files should end with raw.fif, raw_sss.fif, raw_tsss.fif, _meg.fif, _eeg.fif, _ieeg.fif, raw.fif.gz, raw_sss.fif.gz, raw_tsss.fif.gz, _meg.fif.gz, _eeg.fif.gz or _ieeg.fif.gz\n",
      "  raw.save(path_name,picks,start_time,end_time,overwrite=True)\n"
     ]
    },
    {
     "name": "stdout",
     "output_type": "stream",
     "text": [
      "391.4111328125 + 399.4111328125\n",
      ".\\SE\\Z杜娇202203160.fif\n",
      "Writing H:\\Anaconda-jupyter\\ECT课题\\病人数据处理\\SE\\Z杜娇202203160.fif\n",
      "Closing H:\\Anaconda-jupyter\\ECT课题\\病人数据处理\\SE\\Z杜娇202203160.fif\n",
      "[done]\n",
      "Extracting EDF parameters from H:\\Anaconda-jupyter\\ECT课题\\第四批病人数据\\治疗脑电（第一批次）\\Z杜娇20220318.edf...\n",
      "EDF file detected\n",
      "Setting channel info structure...\n",
      "Creating raw.info structure...\n",
      "Used Annotations descriptions: ['File Create', 'Recording ends', 'Recording starts', 'SE', 'end', 'start']\n",
      "Extracting EDF parameters from H:\\Anaconda-jupyter\\ECT课题\\第四批病人数据\\治疗脑电（第一批次）\\Z杜娇20220318.edf...\n",
      "EDF file detected\n",
      "Setting channel info structure...\n",
      "Creating raw.info structure...\n",
      "Used Annotations descriptions: ['File Create', 'Recording ends', 'Recording starts', 'SE', 'end', 'start']\n"
     ]
    },
    {
     "name": "stderr",
     "output_type": "stream",
     "text": [
      "<ipython-input-7-ed7de2df3edd>:21: RuntimeWarning: This filename (H:\\Anaconda-jupyter\\ECT课题\\病人数据处理\\SE\\Z杜娇202203160.fif) does not conform to MNE naming conventions. All raw files should end with raw.fif, raw_sss.fif, raw_tsss.fif, _meg.fif, _eeg.fif, _ieeg.fif, raw.fif.gz, raw_sss.fif.gz, raw_tsss.fif.gz, _meg.fif.gz, _eeg.fif.gz or _ieeg.fif.gz\n",
      "  raw.save(path_name,picks,start_time,end_time,overwrite=True)\n"
     ]
    },
    {
     "name": "stdout",
     "output_type": "stream",
     "text": [
      "261.685546875 + 269.685546875\n",
      ".\\SE\\Z杜娇202203180.fif\n",
      "Writing H:\\Anaconda-jupyter\\ECT课题\\病人数据处理\\SE\\Z杜娇202203180.fif\n",
      "Closing H:\\Anaconda-jupyter\\ECT课题\\病人数据处理\\SE\\Z杜娇202203180.fif\n",
      "[done]\n",
      "Extracting EDF parameters from H:\\Anaconda-jupyter\\ECT课题\\第四批病人数据\\治疗脑电（第一批次）\\Z杜娇20220321.edf...\n",
      "EDF file detected\n",
      "Setting channel info structure...\n",
      "Creating raw.info structure...\n",
      "Used Annotations descriptions: ['File Create', 'Recording ends', 'Recording starts', 'SE', 'end', 'start']\n",
      "Extracting EDF parameters from H:\\Anaconda-jupyter\\ECT课题\\第四批病人数据\\治疗脑电（第一批次）\\Z杜娇20220321.edf...\n",
      "EDF file detected\n",
      "Setting channel info structure...\n",
      "Creating raw.info structure...\n",
      "Used Annotations descriptions: ['File Create', 'Recording ends', 'Recording starts', 'SE', 'end', 'start']\n",
      "48.8212890625 + 56.8212890625\n",
      ".\\SE\\Z杜娇202203210.fif\n",
      "Writing H:\\Anaconda-jupyter\\ECT课题\\病人数据处理\\SE\\Z杜娇202203210.fif\n",
      "Closing H:\\Anaconda-jupyter\\ECT课题\\病人数据处理\\SE\\Z杜娇202203210.fif\n",
      "[done]\n",
      "Extracting EDF parameters from H:\\Anaconda-jupyter\\ECT课题\\第四批病人数据\\治疗脑电（第一批次）\\Z杜娇20220325（未发作）.edf...\n",
      "EDF file detected\n",
      "Setting channel info structure...\n",
      "Creating raw.info structure...\n"
     ]
    },
    {
     "name": "stderr",
     "output_type": "stream",
     "text": [
      "<ipython-input-7-ed7de2df3edd>:21: RuntimeWarning: This filename (H:\\Anaconda-jupyter\\ECT课题\\病人数据处理\\SE\\Z杜娇202203180.fif) does not conform to MNE naming conventions. All raw files should end with raw.fif, raw_sss.fif, raw_tsss.fif, _meg.fif, _eeg.fif, _ieeg.fif, raw.fif.gz, raw_sss.fif.gz, raw_tsss.fif.gz, _meg.fif.gz, _eeg.fif.gz or _ieeg.fif.gz\n",
      "  raw.save(path_name,picks,start_time,end_time,overwrite=True)\n",
      "<ipython-input-7-ed7de2df3edd>:21: RuntimeWarning: This filename (H:\\Anaconda-jupyter\\ECT课题\\病人数据处理\\SE\\Z杜娇202203210.fif) does not conform to MNE naming conventions. All raw files should end with raw.fif, raw_sss.fif, raw_tsss.fif, _meg.fif, _eeg.fif, _ieeg.fif, raw.fif.gz, raw_sss.fif.gz, raw_tsss.fif.gz, _meg.fif.gz, _eeg.fif.gz or _ieeg.fif.gz\n",
      "  raw.save(path_name,picks,start_time,end_time,overwrite=True)\n"
     ]
    },
    {
     "name": "stdout",
     "output_type": "stream",
     "text": [
      "Used Annotations descriptions: ['File Create', 'Recording ends', 'Recording starts', 'SE']\n",
      "Extracting EDF parameters from H:\\Anaconda-jupyter\\ECT课题\\第四批病人数据\\治疗脑电（第一批次）\\Z杜娇20220325（未发作）.edf...\n",
      "EDF file detected\n",
      "Setting channel info structure...\n",
      "Creating raw.info structure...\n",
      "Used Annotations descriptions: ['File Create', 'Recording ends', 'Recording starts', 'SE']\n",
      "90.6650390625 + 98.6650390625\n",
      ".\\SE\\Z杜娇20220325（未发作）0.fif\n",
      "Writing H:\\Anaconda-jupyter\\ECT课题\\病人数据处理\\SE\\Z杜娇20220325（未发作）0.fif\n",
      "Closing H:\\Anaconda-jupyter\\ECT课题\\病人数据处理\\SE\\Z杜娇20220325（未发作）0.fif\n",
      "[done]\n",
      "Extracting EDF parameters from H:\\Anaconda-jupyter\\ECT课题\\第四批病人数据\\治疗脑电（第一批次）\\Z杜娇20220325（未发作）.edf...\n",
      "EDF file detected\n",
      "Setting channel info structure...\n",
      "Creating raw.info structure...\n",
      "Used Annotations descriptions: ['File Create', 'Recording ends', 'Recording starts', 'SE']\n",
      "98.6650390625 + 106.6650390625\n",
      ".\\SE\\Z杜娇20220325（未发作）8.fif\n",
      "Writing H:\\Anaconda-jupyter\\ECT课题\\病人数据处理\\SE\\Z杜娇20220325（未发作）8.fif\n",
      "Closing H:\\Anaconda-jupyter\\ECT课题\\病人数据处理\\SE\\Z杜娇20220325（未发作）8.fif\n",
      "[done]\n",
      "Extracting EDF parameters from H:\\Anaconda-jupyter\\ECT课题\\第四批病人数据\\治疗脑电（第一批次）\\Z杜娇20220325（未发作）.edf...\n",
      "EDF file detected\n",
      "Setting channel info structure...\n",
      "Creating raw.info structure...\n",
      "Used Annotations descriptions: ['File Create', 'Recording ends', 'Recording starts', 'SE']\n",
      "106.6650390625 + 114.6650390625\n",
      ".\\SE\\Z杜娇20220325（未发作）16.fif\n",
      "Writing H:\\Anaconda-jupyter\\ECT课题\\病人数据处理\\SE\\Z杜娇20220325（未发作）16.fif\n",
      "Closing H:\\Anaconda-jupyter\\ECT课题\\病人数据处理\\SE\\Z杜娇20220325（未发作）16.fif\n"
     ]
    },
    {
     "name": "stderr",
     "output_type": "stream",
     "text": [
      "<ipython-input-7-ed7de2df3edd>:21: RuntimeWarning: This filename (H:\\Anaconda-jupyter\\ECT课题\\病人数据处理\\SE\\Z杜娇20220325（未发作）0.fif) does not conform to MNE naming conventions. All raw files should end with raw.fif, raw_sss.fif, raw_tsss.fif, _meg.fif, _eeg.fif, _ieeg.fif, raw.fif.gz, raw_sss.fif.gz, raw_tsss.fif.gz, _meg.fif.gz, _eeg.fif.gz or _ieeg.fif.gz\n",
      "  raw.save(path_name,picks,start_time,end_time,overwrite=True)\n",
      "<ipython-input-7-ed7de2df3edd>:21: RuntimeWarning: This filename (H:\\Anaconda-jupyter\\ECT课题\\病人数据处理\\SE\\Z杜娇20220325（未发作）8.fif) does not conform to MNE naming conventions. All raw files should end with raw.fif, raw_sss.fif, raw_tsss.fif, _meg.fif, _eeg.fif, _ieeg.fif, raw.fif.gz, raw_sss.fif.gz, raw_tsss.fif.gz, _meg.fif.gz, _eeg.fif.gz or _ieeg.fif.gz\n",
      "  raw.save(path_name,picks,start_time,end_time,overwrite=True)\n",
      "<ipython-input-7-ed7de2df3edd>:21: RuntimeWarning: This filename (H:\\Anaconda-jupyter\\ECT课题\\病人数据处理\\SE\\Z杜娇20220325（未发作）16.fif) does not conform to MNE naming conventions. All raw files should end with raw.fif, raw_sss.fif, raw_tsss.fif, _meg.fif, _eeg.fif, _ieeg.fif, raw.fif.gz, raw_sss.fif.gz, raw_tsss.fif.gz, _meg.fif.gz, _eeg.fif.gz or _ieeg.fif.gz\n",
      "  raw.save(path_name,picks,start_time,end_time,overwrite=True)\n"
     ]
    },
    {
     "name": "stdout",
     "output_type": "stream",
     "text": [
      "[done]\n",
      "Extracting EDF parameters from H:\\Anaconda-jupyter\\ECT课题\\第四批病人数据\\治疗脑电（第一批次）\\Z杜娇20220325（未发作）.edf...\n",
      "EDF file detected\n",
      "Setting channel info structure...\n",
      "Creating raw.info structure...\n",
      "Used Annotations descriptions: ['File Create', 'Recording ends', 'Recording starts', 'SE']\n",
      "114.6650390625 + 122.6650390625\n",
      ".\\SE\\Z杜娇20220325（未发作）24.fif\n",
      "Writing H:\\Anaconda-jupyter\\ECT课题\\病人数据处理\\SE\\Z杜娇20220325（未发作）24.fif\n",
      "Closing H:\\Anaconda-jupyter\\ECT课题\\病人数据处理\\SE\\Z杜娇20220325（未发作）24.fif\n",
      "[done]\n",
      "Extracting EDF parameters from H:\\Anaconda-jupyter\\ECT课题\\第四批病人数据\\治疗脑电（第一批次）\\Z林儒波202203023.edf...\n",
      "EDF file detected\n",
      "Setting channel info structure...\n",
      "Creating raw.info structure...\n"
     ]
    },
    {
     "name": "stderr",
     "output_type": "stream",
     "text": [
      "<ipython-input-7-ed7de2df3edd>:21: RuntimeWarning: This filename (H:\\Anaconda-jupyter\\ECT课题\\病人数据处理\\SE\\Z杜娇20220325（未发作）24.fif) does not conform to MNE naming conventions. All raw files should end with raw.fif, raw_sss.fif, raw_tsss.fif, _meg.fif, _eeg.fif, _ieeg.fif, raw.fif.gz, raw_sss.fif.gz, raw_tsss.fif.gz, _meg.fif.gz, _eeg.fif.gz or _ieeg.fif.gz\n",
      "  raw.save(path_name,picks,start_time,end_time,overwrite=True)\n"
     ]
    },
    {
     "name": "stdout",
     "output_type": "stream",
     "text": [
      "Used Annotations descriptions: ['File Create', 'Recording ends', 'Recording starts', 'SE']\n",
      "Extracting EDF parameters from H:\\Anaconda-jupyter\\ECT课题\\第四批病人数据\\治疗脑电（第一批次）\\Z林儒波202203023.edf...\n",
      "EDF file detected\n",
      "Setting channel info structure...\n",
      "Creating raw.info structure...\n",
      "Used Annotations descriptions: ['File Create', 'Recording ends', 'Recording starts', 'SE']\n",
      "456.8671875 + 464.8671875\n",
      ".\\SE\\Z林儒波2022030230.fif\n",
      "Writing H:\\Anaconda-jupyter\\ECT课题\\病人数据处理\\SE\\Z林儒波2022030230.fif\n",
      "Closing H:\\Anaconda-jupyter\\ECT课题\\病人数据处理\\SE\\Z林儒波2022030230.fif\n",
      "[done]\n",
      "Extracting EDF parameters from H:\\Anaconda-jupyter\\ECT课题\\第四批病人数据\\治疗脑电（第一批次）\\Z林儒波202203025.edf...\n",
      "EDF file detected\n",
      "Setting channel info structure...\n",
      "Creating raw.info structure...\n",
      "Used Annotations descriptions: ['File Create', 'Recording ends', 'Recording starts', 'SE', 'end', 'start']\n",
      "Extracting EDF parameters from H:\\Anaconda-jupyter\\ECT课题\\第四批病人数据\\治疗脑电（第一批次）\\Z林儒波202203025.edf...\n",
      "EDF file detected\n",
      "Setting channel info structure...\n",
      "Creating raw.info structure...\n",
      "Used Annotations descriptions: ['File Create', 'Recording ends', 'Recording starts', 'SE', 'end', 'start']\n",
      "26.5615234375 + 34.5615234375\n",
      ".\\SE\\Z林儒波2022030250.fif\n",
      "Writing H:\\Anaconda-jupyter\\ECT课题\\病人数据处理\\SE\\Z林儒波2022030250.fif\n",
      "Closing H:\\Anaconda-jupyter\\ECT课题\\病人数据处理\\SE\\Z林儒波2022030250.fif\n"
     ]
    },
    {
     "name": "stderr",
     "output_type": "stream",
     "text": [
      "<ipython-input-7-ed7de2df3edd>:21: RuntimeWarning: This filename (H:\\Anaconda-jupyter\\ECT课题\\病人数据处理\\SE\\Z林儒波2022030230.fif) does not conform to MNE naming conventions. All raw files should end with raw.fif, raw_sss.fif, raw_tsss.fif, _meg.fif, _eeg.fif, _ieeg.fif, raw.fif.gz, raw_sss.fif.gz, raw_tsss.fif.gz, _meg.fif.gz, _eeg.fif.gz or _ieeg.fif.gz\n",
      "  raw.save(path_name,picks,start_time,end_time,overwrite=True)\n",
      "<ipython-input-7-ed7de2df3edd>:21: RuntimeWarning: This filename (H:\\Anaconda-jupyter\\ECT课题\\病人数据处理\\SE\\Z林儒波2022030250.fif) does not conform to MNE naming conventions. All raw files should end with raw.fif, raw_sss.fif, raw_tsss.fif, _meg.fif, _eeg.fif, _ieeg.fif, raw.fif.gz, raw_sss.fif.gz, raw_tsss.fif.gz, _meg.fif.gz, _eeg.fif.gz or _ieeg.fif.gz\n",
      "  raw.save(path_name,picks,start_time,end_time,overwrite=True)\n"
     ]
    },
    {
     "name": "stdout",
     "output_type": "stream",
     "text": [
      "[done]\n",
      "Extracting EDF parameters from H:\\Anaconda-jupyter\\ECT课题\\第四批病人数据\\治疗脑电（第一批次）\\Z林儒波202203028（未发作）.edf...\n",
      "EDF file detected\n",
      "Setting channel info structure...\n",
      "Creating raw.info structure...\n",
      "Used Annotations descriptions: ['File Create', 'Recording ends', 'Recording starts', 'SE']\n",
      "Extracting EDF parameters from H:\\Anaconda-jupyter\\ECT课题\\第四批病人数据\\治疗脑电（第一批次）\\Z林儒波202203028（未发作）.edf...\n",
      "EDF file detected\n",
      "Setting channel info structure...\n",
      "Creating raw.info structure...\n",
      "Used Annotations descriptions: ['File Create', 'Recording ends', 'Recording starts', 'SE']\n",
      "3.958984375 + 11.958984375\n",
      ".\\SE\\Z林儒波202203028（未发作）0.fif\n",
      "Writing H:\\Anaconda-jupyter\\ECT课题\\病人数据处理\\SE\\Z林儒波202203028（未发作）0.fif\n",
      "Closing H:\\Anaconda-jupyter\\ECT课题\\病人数据处理\\SE\\Z林儒波202203028（未发作）0.fif\n",
      "[done]\n",
      "Extracting EDF parameters from H:\\Anaconda-jupyter\\ECT课题\\第四批病人数据\\治疗脑电（第一批次）\\Z林儒波202203028（未发作）.edf...\n",
      "EDF file detected\n",
      "Setting channel info structure...\n",
      "Creating raw.info structure...\n",
      "Used Annotations descriptions: ['File Create', 'Recording ends', 'Recording starts', 'SE']\n",
      "11.958984375 + 19.958984375\n",
      ".\\SE\\Z林儒波202203028（未发作）8.fif\n",
      "Writing H:\\Anaconda-jupyter\\ECT课题\\病人数据处理\\SE\\Z林儒波202203028（未发作）8.fif\n",
      "Closing H:\\Anaconda-jupyter\\ECT课题\\病人数据处理\\SE\\Z林儒波202203028（未发作）8.fif\n",
      "[done]\n",
      "Extracting EDF parameters from H:\\Anaconda-jupyter\\ECT课题\\第四批病人数据\\治疗脑电（第一批次）\\Z林儒波202203028（未发作）.edf...\n",
      "EDF file detected\n",
      "Setting channel info structure...\n",
      "Creating raw.info structure...\n",
      "Used Annotations descriptions: ['File Create', 'Recording ends', 'Recording starts', 'SE']\n",
      "19.958984375 + 27.958984375\n",
      ".\\SE\\Z林儒波202203028（未发作）16.fif\n",
      "Writing H:\\Anaconda-jupyter\\ECT课题\\病人数据处理\\SE\\Z林儒波202203028（未发作）16.fif\n",
      "Closing H:\\Anaconda-jupyter\\ECT课题\\病人数据处理\\SE\\Z林儒波202203028（未发作）16.fif\n",
      "[done]\n",
      "Extracting EDF parameters from H:\\Anaconda-jupyter\\ECT课题\\第四批病人数据\\治疗脑电（第一批次）\\Z林儒波202203028（未发作）.edf...\n",
      "EDF file detected\n",
      "Setting channel info structure...\n",
      "Creating raw.info structure...\n"
     ]
    },
    {
     "name": "stderr",
     "output_type": "stream",
     "text": [
      "<ipython-input-7-ed7de2df3edd>:21: RuntimeWarning: This filename (H:\\Anaconda-jupyter\\ECT课题\\病人数据处理\\SE\\Z林儒波202203028（未发作）0.fif) does not conform to MNE naming conventions. All raw files should end with raw.fif, raw_sss.fif, raw_tsss.fif, _meg.fif, _eeg.fif, _ieeg.fif, raw.fif.gz, raw_sss.fif.gz, raw_tsss.fif.gz, _meg.fif.gz, _eeg.fif.gz or _ieeg.fif.gz\n",
      "  raw.save(path_name,picks,start_time,end_time,overwrite=True)\n",
      "<ipython-input-7-ed7de2df3edd>:21: RuntimeWarning: This filename (H:\\Anaconda-jupyter\\ECT课题\\病人数据处理\\SE\\Z林儒波202203028（未发作）8.fif) does not conform to MNE naming conventions. All raw files should end with raw.fif, raw_sss.fif, raw_tsss.fif, _meg.fif, _eeg.fif, _ieeg.fif, raw.fif.gz, raw_sss.fif.gz, raw_tsss.fif.gz, _meg.fif.gz, _eeg.fif.gz or _ieeg.fif.gz\n",
      "  raw.save(path_name,picks,start_time,end_time,overwrite=True)\n",
      "<ipython-input-7-ed7de2df3edd>:21: RuntimeWarning: This filename (H:\\Anaconda-jupyter\\ECT课题\\病人数据处理\\SE\\Z林儒波202203028（未发作）16.fif) does not conform to MNE naming conventions. All raw files should end with raw.fif, raw_sss.fif, raw_tsss.fif, _meg.fif, _eeg.fif, _ieeg.fif, raw.fif.gz, raw_sss.fif.gz, raw_tsss.fif.gz, _meg.fif.gz, _eeg.fif.gz or _ieeg.fif.gz\n",
      "  raw.save(path_name,picks,start_time,end_time,overwrite=True)\n"
     ]
    },
    {
     "name": "stdout",
     "output_type": "stream",
     "text": [
      "Used Annotations descriptions: ['File Create', 'Recording ends', 'Recording starts', 'SE']\n",
      "27.958984375 + 35.958984375\n",
      ".\\SE\\Z林儒波202203028（未发作）24.fif\n",
      "Writing H:\\Anaconda-jupyter\\ECT课题\\病人数据处理\\SE\\Z林儒波202203028（未发作）24.fif\n",
      "Closing H:\\Anaconda-jupyter\\ECT课题\\病人数据处理\\SE\\Z林儒波202203028（未发作）24.fif\n",
      "[done]\n",
      "Extracting EDF parameters from H:\\Anaconda-jupyter\\ECT课题\\第四批病人数据\\治疗脑电（第一批次）\\Z林儒波202203030.edf...\n",
      "EDF file detected\n",
      "Setting channel info structure...\n",
      "Creating raw.info structure...\n",
      "Used Annotations descriptions: ['Recording ends', 'Recording starts', 'SE', 'end', 'start']\n",
      "Extracting EDF parameters from H:\\Anaconda-jupyter\\ECT课题\\第四批病人数据\\治疗脑电（第一批次）\\Z林儒波202203030.edf...\n",
      "EDF file detected\n",
      "Setting channel info structure...\n",
      "Creating raw.info structure...\n",
      "Used Annotations descriptions: ['Recording ends', 'Recording starts', 'SE', 'end', 'start']\n"
     ]
    },
    {
     "name": "stderr",
     "output_type": "stream",
     "text": [
      "<ipython-input-7-ed7de2df3edd>:21: RuntimeWarning: This filename (H:\\Anaconda-jupyter\\ECT课题\\病人数据处理\\SE\\Z林儒波202203028（未发作）24.fif) does not conform to MNE naming conventions. All raw files should end with raw.fif, raw_sss.fif, raw_tsss.fif, _meg.fif, _eeg.fif, _ieeg.fif, raw.fif.gz, raw_sss.fif.gz, raw_tsss.fif.gz, _meg.fif.gz, _eeg.fif.gz or _ieeg.fif.gz\n",
      "  raw.save(path_name,picks,start_time,end_time,overwrite=True)\n"
     ]
    },
    {
     "name": "stdout",
     "output_type": "stream",
     "text": [
      "274.6962890625 + 282.6962890625\n",
      ".\\SE\\Z林儒波2022030300.fif\n",
      "Writing H:\\Anaconda-jupyter\\ECT课题\\病人数据处理\\SE\\Z林儒波2022030300.fif\n",
      "Closing H:\\Anaconda-jupyter\\ECT课题\\病人数据处理\\SE\\Z林儒波2022030300.fif\n",
      "[done]\n",
      "Extracting EDF parameters from H:\\Anaconda-jupyter\\ECT课题\\第四批病人数据\\治疗脑电（第一批次）\\Z林攀攀20220221（未发作）.edf...\n",
      "EDF file detected\n",
      "Setting channel info structure...\n",
      "Creating raw.info structure...\n",
      "Used Annotations descriptions: ['Recording ends', 'Recording starts']\n",
      "Extracting EDF parameters from H:\\Anaconda-jupyter\\ECT课题\\第四批病人数据\\治疗脑电（第一批次）\\Z林攀攀20220223（未发作）.edf...\n",
      "EDF file detected\n",
      "Setting channel info structure...\n",
      "Creating raw.info structure...\n",
      "Used Annotations descriptions: ['File Create', 'Recording ends', 'Recording starts', 'SE']\n"
     ]
    },
    {
     "name": "stderr",
     "output_type": "stream",
     "text": [
      "<ipython-input-7-ed7de2df3edd>:21: RuntimeWarning: This filename (H:\\Anaconda-jupyter\\ECT课题\\病人数据处理\\SE\\Z林儒波2022030300.fif) does not conform to MNE naming conventions. All raw files should end with raw.fif, raw_sss.fif, raw_tsss.fif, _meg.fif, _eeg.fif, _ieeg.fif, raw.fif.gz, raw_sss.fif.gz, raw_tsss.fif.gz, _meg.fif.gz, _eeg.fif.gz or _ieeg.fif.gz\n",
      "  raw.save(path_name,picks,start_time,end_time,overwrite=True)\n"
     ]
    },
    {
     "name": "stdout",
     "output_type": "stream",
     "text": [
      "Extracting EDF parameters from H:\\Anaconda-jupyter\\ECT课题\\第四批病人数据\\治疗脑电（第一批次）\\Z林攀攀20220223（未发作）.edf...\n",
      "EDF file detected\n",
      "Setting channel info structure...\n",
      "Creating raw.info structure...\n",
      "Used Annotations descriptions: ['File Create', 'Recording ends', 'Recording starts', 'SE']\n",
      "81.0625 + 89.0625\n",
      ".\\SE\\Z林攀攀20220223（未发作）0.fif\n",
      "Writing H:\\Anaconda-jupyter\\ECT课题\\病人数据处理\\SE\\Z林攀攀20220223（未发作）0.fif\n",
      "Closing H:\\Anaconda-jupyter\\ECT课题\\病人数据处理\\SE\\Z林攀攀20220223（未发作）0.fif\n",
      "[done]\n",
      "Extracting EDF parameters from H:\\Anaconda-jupyter\\ECT课题\\第四批病人数据\\治疗脑电（第一批次）\\Z林攀攀20220223（未发作）.edf...\n",
      "EDF file detected\n",
      "Setting channel info structure...\n",
      "Creating raw.info structure...\n",
      "Used Annotations descriptions: ['File Create', 'Recording ends', 'Recording starts', 'SE']\n",
      "89.0625 + 97.0625\n",
      ".\\SE\\Z林攀攀20220223（未发作）8.fif\n",
      "Writing H:\\Anaconda-jupyter\\ECT课题\\病人数据处理\\SE\\Z林攀攀20220223（未发作）8.fif\n",
      "Closing H:\\Anaconda-jupyter\\ECT课题\\病人数据处理\\SE\\Z林攀攀20220223（未发作）8.fif\n",
      "[done]\n",
      "Extracting EDF parameters from H:\\Anaconda-jupyter\\ECT课题\\第四批病人数据\\治疗脑电（第一批次）\\Z林攀攀20220223（未发作）.edf...\n",
      "EDF file detected\n",
      "Setting channel info structure...\n",
      "Creating raw.info structure...\n",
      "Used Annotations descriptions: ['File Create', 'Recording ends', 'Recording starts', 'SE']\n",
      "97.0625 + 105.0625\n"
     ]
    },
    {
     "name": "stderr",
     "output_type": "stream",
     "text": [
      "<ipython-input-7-ed7de2df3edd>:21: RuntimeWarning: This filename (H:\\Anaconda-jupyter\\ECT课题\\病人数据处理\\SE\\Z林攀攀20220223（未发作）0.fif) does not conform to MNE naming conventions. All raw files should end with raw.fif, raw_sss.fif, raw_tsss.fif, _meg.fif, _eeg.fif, _ieeg.fif, raw.fif.gz, raw_sss.fif.gz, raw_tsss.fif.gz, _meg.fif.gz, _eeg.fif.gz or _ieeg.fif.gz\n",
      "  raw.save(path_name,picks,start_time,end_time,overwrite=True)\n",
      "<ipython-input-7-ed7de2df3edd>:21: RuntimeWarning: This filename (H:\\Anaconda-jupyter\\ECT课题\\病人数据处理\\SE\\Z林攀攀20220223（未发作）8.fif) does not conform to MNE naming conventions. All raw files should end with raw.fif, raw_sss.fif, raw_tsss.fif, _meg.fif, _eeg.fif, _ieeg.fif, raw.fif.gz, raw_sss.fif.gz, raw_tsss.fif.gz, _meg.fif.gz, _eeg.fif.gz or _ieeg.fif.gz\n",
      "  raw.save(path_name,picks,start_time,end_time,overwrite=True)\n"
     ]
    },
    {
     "name": "stdout",
     "output_type": "stream",
     "text": [
      ".\\SE\\Z林攀攀20220223（未发作）16.fif\n",
      "Writing H:\\Anaconda-jupyter\\ECT课题\\病人数据处理\\SE\\Z林攀攀20220223（未发作）16.fif\n",
      "Closing H:\\Anaconda-jupyter\\ECT课题\\病人数据处理\\SE\\Z林攀攀20220223（未发作）16.fif\n",
      "[done]\n",
      "Extracting EDF parameters from H:\\Anaconda-jupyter\\ECT课题\\第四批病人数据\\治疗脑电（第一批次）\\Z林攀攀20220223（未发作）.edf...\n",
      "EDF file detected\n",
      "Setting channel info structure...\n",
      "Creating raw.info structure...\n",
      "Used Annotations descriptions: ['File Create', 'Recording ends', 'Recording starts', 'SE']\n",
      "105.0625 + 113.0625\n",
      ".\\SE\\Z林攀攀20220223（未发作）24.fif\n",
      "Writing H:\\Anaconda-jupyter\\ECT课题\\病人数据处理\\SE\\Z林攀攀20220223（未发作）24.fif\n",
      "Closing H:\\Anaconda-jupyter\\ECT课题\\病人数据处理\\SE\\Z林攀攀20220223（未发作）24.fif\n",
      "[done]\n",
      "Extracting EDF parameters from H:\\Anaconda-jupyter\\ECT课题\\第四批病人数据\\治疗脑电（第一批次）\\Z林攀攀20220225（未发作）.edf...\n",
      "EDF file detected\n",
      "Setting channel info structure...\n",
      "Creating raw.info structure...\n",
      "Used Annotations descriptions: ['File Create', 'Recording ends', 'Recording starts', 'SE']\n",
      "Extracting EDF parameters from H:\\Anaconda-jupyter\\ECT课题\\第四批病人数据\\治疗脑电（第一批次）\\Z林攀攀20220225（未发作）.edf...\n",
      "EDF file detected\n",
      "Setting channel info structure...\n",
      "Creating raw.info structure...\n",
      "Used Annotations descriptions: ['File Create', 'Recording ends', 'Recording starts', 'SE']\n"
     ]
    },
    {
     "name": "stderr",
     "output_type": "stream",
     "text": [
      "<ipython-input-7-ed7de2df3edd>:21: RuntimeWarning: This filename (H:\\Anaconda-jupyter\\ECT课题\\病人数据处理\\SE\\Z林攀攀20220223（未发作）16.fif) does not conform to MNE naming conventions. All raw files should end with raw.fif, raw_sss.fif, raw_tsss.fif, _meg.fif, _eeg.fif, _ieeg.fif, raw.fif.gz, raw_sss.fif.gz, raw_tsss.fif.gz, _meg.fif.gz, _eeg.fif.gz or _ieeg.fif.gz\n",
      "  raw.save(path_name,picks,start_time,end_time,overwrite=True)\n",
      "<ipython-input-7-ed7de2df3edd>:21: RuntimeWarning: This filename (H:\\Anaconda-jupyter\\ECT课题\\病人数据处理\\SE\\Z林攀攀20220223（未发作）24.fif) does not conform to MNE naming conventions. All raw files should end with raw.fif, raw_sss.fif, raw_tsss.fif, _meg.fif, _eeg.fif, _ieeg.fif, raw.fif.gz, raw_sss.fif.gz, raw_tsss.fif.gz, _meg.fif.gz, _eeg.fif.gz or _ieeg.fif.gz\n",
      "  raw.save(path_name,picks,start_time,end_time,overwrite=True)\n"
     ]
    },
    {
     "name": "stdout",
     "output_type": "stream",
     "text": [
      "13.4482421875 + 21.4482421875\n",
      ".\\SE\\Z林攀攀20220225（未发作）0.fif\n",
      "Writing H:\\Anaconda-jupyter\\ECT课题\\病人数据处理\\SE\\Z林攀攀20220225（未发作）0.fif\n",
      "Closing H:\\Anaconda-jupyter\\ECT课题\\病人数据处理\\SE\\Z林攀攀20220225（未发作）0.fif\n",
      "[done]\n",
      "Extracting EDF parameters from H:\\Anaconda-jupyter\\ECT课题\\第四批病人数据\\治疗脑电（第一批次）\\Z林攀攀20220225（未发作）.edf...\n",
      "EDF file detected\n",
      "Setting channel info structure...\n",
      "Creating raw.info structure...\n",
      "Used Annotations descriptions: ['File Create', 'Recording ends', 'Recording starts', 'SE']\n",
      "21.4482421875 + 29.4482421875\n",
      ".\\SE\\Z林攀攀20220225（未发作）8.fif\n",
      "Writing H:\\Anaconda-jupyter\\ECT课题\\病人数据处理\\SE\\Z林攀攀20220225（未发作）8.fif\n",
      "Closing H:\\Anaconda-jupyter\\ECT课题\\病人数据处理\\SE\\Z林攀攀20220225（未发作）8.fif\n",
      "[done]\n",
      "Extracting EDF parameters from H:\\Anaconda-jupyter\\ECT课题\\第四批病人数据\\治疗脑电（第一批次）\\Z林攀攀20220225（未发作）.edf...\n",
      "EDF file detected\n",
      "Setting channel info structure...\n",
      "Creating raw.info structure...\n",
      "Used Annotations descriptions: ['File Create', 'Recording ends', 'Recording starts', 'SE']\n",
      "29.4482421875 + 37.4482421875\n",
      ".\\SE\\Z林攀攀20220225（未发作）16.fif\n",
      "Writing H:\\Anaconda-jupyter\\ECT课题\\病人数据处理\\SE\\Z林攀攀20220225（未发作）16.fif\n",
      "Closing H:\\Anaconda-jupyter\\ECT课题\\病人数据处理\\SE\\Z林攀攀20220225（未发作）16.fif\n",
      "[done]\n",
      "Extracting EDF parameters from H:\\Anaconda-jupyter\\ECT课题\\第四批病人数据\\治疗脑电（第一批次）\\Z林攀攀20220225（未发作）.edf...\n",
      "EDF file detected\n",
      "Setting channel info structure...\n",
      "Creating raw.info structure...\n"
     ]
    },
    {
     "name": "stderr",
     "output_type": "stream",
     "text": [
      "<ipython-input-7-ed7de2df3edd>:21: RuntimeWarning: This filename (H:\\Anaconda-jupyter\\ECT课题\\病人数据处理\\SE\\Z林攀攀20220225（未发作）0.fif) does not conform to MNE naming conventions. All raw files should end with raw.fif, raw_sss.fif, raw_tsss.fif, _meg.fif, _eeg.fif, _ieeg.fif, raw.fif.gz, raw_sss.fif.gz, raw_tsss.fif.gz, _meg.fif.gz, _eeg.fif.gz or _ieeg.fif.gz\n",
      "  raw.save(path_name,picks,start_time,end_time,overwrite=True)\n",
      "<ipython-input-7-ed7de2df3edd>:21: RuntimeWarning: This filename (H:\\Anaconda-jupyter\\ECT课题\\病人数据处理\\SE\\Z林攀攀20220225（未发作）8.fif) does not conform to MNE naming conventions. All raw files should end with raw.fif, raw_sss.fif, raw_tsss.fif, _meg.fif, _eeg.fif, _ieeg.fif, raw.fif.gz, raw_sss.fif.gz, raw_tsss.fif.gz, _meg.fif.gz, _eeg.fif.gz or _ieeg.fif.gz\n",
      "  raw.save(path_name,picks,start_time,end_time,overwrite=True)\n",
      "<ipython-input-7-ed7de2df3edd>:21: RuntimeWarning: This filename (H:\\Anaconda-jupyter\\ECT课题\\病人数据处理\\SE\\Z林攀攀20220225（未发作）16.fif) does not conform to MNE naming conventions. All raw files should end with raw.fif, raw_sss.fif, raw_tsss.fif, _meg.fif, _eeg.fif, _ieeg.fif, raw.fif.gz, raw_sss.fif.gz, raw_tsss.fif.gz, _meg.fif.gz, _eeg.fif.gz or _ieeg.fif.gz\n",
      "  raw.save(path_name,picks,start_time,end_time,overwrite=True)\n"
     ]
    },
    {
     "name": "stdout",
     "output_type": "stream",
     "text": [
      "Used Annotations descriptions: ['File Create', 'Recording ends', 'Recording starts', 'SE']\n",
      "37.4482421875 + 45.4482421875\n",
      ".\\SE\\Z林攀攀20220225（未发作）24.fif\n",
      "Writing H:\\Anaconda-jupyter\\ECT课题\\病人数据处理\\SE\\Z林攀攀20220225（未发作）24.fif\n",
      "Closing H:\\Anaconda-jupyter\\ECT课题\\病人数据处理\\SE\\Z林攀攀20220225（未发作）24.fif\n",
      "[done]\n",
      "Extracting EDF parameters from H:\\Anaconda-jupyter\\ECT课题\\第四批病人数据\\治疗脑电（第一批次）\\Z林攀攀20220228.edf...\n",
      "EDF file detected\n",
      "Setting channel info structure...\n",
      "Creating raw.info structure...\n",
      "Used Annotations descriptions: ['File Create', 'Recording ends', 'Recording starts', 'SE', 'end', 'start']\n"
     ]
    },
    {
     "name": "stderr",
     "output_type": "stream",
     "text": [
      "<ipython-input-7-ed7de2df3edd>:21: RuntimeWarning: This filename (H:\\Anaconda-jupyter\\ECT课题\\病人数据处理\\SE\\Z林攀攀20220225（未发作）24.fif) does not conform to MNE naming conventions. All raw files should end with raw.fif, raw_sss.fif, raw_tsss.fif, _meg.fif, _eeg.fif, _ieeg.fif, raw.fif.gz, raw_sss.fif.gz, raw_tsss.fif.gz, _meg.fif.gz, _eeg.fif.gz or _ieeg.fif.gz\n",
      "  raw.save(path_name,picks,start_time,end_time,overwrite=True)\n"
     ]
    },
    {
     "name": "stdout",
     "output_type": "stream",
     "text": [
      "Extracting EDF parameters from H:\\Anaconda-jupyter\\ECT课题\\第四批病人数据\\治疗脑电（第一批次）\\Z林攀攀20220228.edf...\n",
      "EDF file detected\n",
      "Setting channel info structure...\n",
      "Creating raw.info structure...\n",
      "Used Annotations descriptions: ['File Create', 'Recording ends', 'Recording starts', 'SE', 'end', 'start']\n",
      "37.1806640625 + 45.1806640625\n",
      ".\\SE\\Z林攀攀202202280.fif\n",
      "Writing H:\\Anaconda-jupyter\\ECT课题\\病人数据处理\\SE\\Z林攀攀202202280.fif\n",
      "Closing H:\\Anaconda-jupyter\\ECT课题\\病人数据处理\\SE\\Z林攀攀202202280.fif\n",
      "[done]\n",
      "Extracting EDF parameters from H:\\Anaconda-jupyter\\ECT课题\\第四批病人数据\\治疗脑电（第一批次）\\Z沈伟202203011.edf...\n",
      "EDF file detected\n",
      "Setting channel info structure...\n",
      "Creating raw.info structure...\n",
      "Used Annotations descriptions: ['File Create', 'Recording ends', 'Recording starts', 'SE', 'end', 'start']\n",
      "Extracting EDF parameters from H:\\Anaconda-jupyter\\ECT课题\\第四批病人数据\\治疗脑电（第一批次）\\Z沈伟202203011.edf...\n",
      "EDF file detected\n",
      "Setting channel info structure...\n",
      "Creating raw.info structure...\n",
      "Used Annotations descriptions: ['File Create', 'Recording ends', 'Recording starts', 'SE', 'end', 'start']\n"
     ]
    },
    {
     "name": "stderr",
     "output_type": "stream",
     "text": [
      "<ipython-input-7-ed7de2df3edd>:21: RuntimeWarning: This filename (H:\\Anaconda-jupyter\\ECT课题\\病人数据处理\\SE\\Z林攀攀202202280.fif) does not conform to MNE naming conventions. All raw files should end with raw.fif, raw_sss.fif, raw_tsss.fif, _meg.fif, _eeg.fif, _ieeg.fif, raw.fif.gz, raw_sss.fif.gz, raw_tsss.fif.gz, _meg.fif.gz, _eeg.fif.gz or _ieeg.fif.gz\n",
      "  raw.save(path_name,picks,start_time,end_time,overwrite=True)\n"
     ]
    },
    {
     "name": "stdout",
     "output_type": "stream",
     "text": [
      "323.4677734375 + 331.4677734375\n",
      ".\\SE\\Z沈伟2022030110.fif\n",
      "Writing H:\\Anaconda-jupyter\\ECT课题\\病人数据处理\\SE\\Z沈伟2022030110.fif\n",
      "Closing H:\\Anaconda-jupyter\\ECT课题\\病人数据处理\\SE\\Z沈伟2022030110.fif\n",
      "[done]\n",
      "Extracting EDF parameters from H:\\Anaconda-jupyter\\ECT课题\\第四批病人数据\\治疗脑电（第一批次）\\Z沈伟202203014（未发作）.edf...\n",
      "EDF file detected\n",
      "Setting channel info structure...\n",
      "Creating raw.info structure...\n",
      "Used Annotations descriptions: ['File Create', 'Recording ends', 'Recording starts', 'SE']\n",
      "Extracting EDF parameters from H:\\Anaconda-jupyter\\ECT课题\\第四批病人数据\\治疗脑电（第一批次）\\Z沈伟202203014（未发作）.edf...\n",
      "EDF file detected\n",
      "Setting channel info structure...\n",
      "Creating raw.info structure...\n",
      "Used Annotations descriptions: ['File Create', 'Recording ends', 'Recording starts', 'SE']\n",
      "49.9794921875 + 57.9794921875\n",
      ".\\SE\\Z沈伟202203014（未发作）0.fif\n",
      "Writing H:\\Anaconda-jupyter\\ECT课题\\病人数据处理\\SE\\Z沈伟202203014（未发作）0.fif\n",
      "Closing H:\\Anaconda-jupyter\\ECT课题\\病人数据处理\\SE\\Z沈伟202203014（未发作）0.fif\n"
     ]
    },
    {
     "name": "stderr",
     "output_type": "stream",
     "text": [
      "<ipython-input-7-ed7de2df3edd>:21: RuntimeWarning: This filename (H:\\Anaconda-jupyter\\ECT课题\\病人数据处理\\SE\\Z沈伟2022030110.fif) does not conform to MNE naming conventions. All raw files should end with raw.fif, raw_sss.fif, raw_tsss.fif, _meg.fif, _eeg.fif, _ieeg.fif, raw.fif.gz, raw_sss.fif.gz, raw_tsss.fif.gz, _meg.fif.gz, _eeg.fif.gz or _ieeg.fif.gz\n",
      "  raw.save(path_name,picks,start_time,end_time,overwrite=True)\n",
      "<ipython-input-7-ed7de2df3edd>:21: RuntimeWarning: This filename (H:\\Anaconda-jupyter\\ECT课题\\病人数据处理\\SE\\Z沈伟202203014（未发作）0.fif) does not conform to MNE naming conventions. All raw files should end with raw.fif, raw_sss.fif, raw_tsss.fif, _meg.fif, _eeg.fif, _ieeg.fif, raw.fif.gz, raw_sss.fif.gz, raw_tsss.fif.gz, _meg.fif.gz, _eeg.fif.gz or _ieeg.fif.gz\n",
      "  raw.save(path_name,picks,start_time,end_time,overwrite=True)\n"
     ]
    },
    {
     "name": "stdout",
     "output_type": "stream",
     "text": [
      "[done]\n",
      "Extracting EDF parameters from H:\\Anaconda-jupyter\\ECT课题\\第四批病人数据\\治疗脑电（第一批次）\\Z沈伟202203014（未发作）.edf...\n",
      "EDF file detected\n",
      "Setting channel info structure...\n",
      "Creating raw.info structure...\n",
      "Used Annotations descriptions: ['File Create', 'Recording ends', 'Recording starts', 'SE']\n",
      "57.9794921875 + 65.9794921875\n",
      ".\\SE\\Z沈伟202203014（未发作）8.fif\n",
      "Writing H:\\Anaconda-jupyter\\ECT课题\\病人数据处理\\SE\\Z沈伟202203014（未发作）8.fif\n",
      "Closing H:\\Anaconda-jupyter\\ECT课题\\病人数据处理\\SE\\Z沈伟202203014（未发作）8.fif\n",
      "[done]\n",
      "Extracting EDF parameters from H:\\Anaconda-jupyter\\ECT课题\\第四批病人数据\\治疗脑电（第一批次）\\Z沈伟202203014（未发作）.edf...\n",
      "EDF file detected\n",
      "Setting channel info structure...\n",
      "Creating raw.info structure...\n",
      "Used Annotations descriptions: ['File Create', 'Recording ends', 'Recording starts', 'SE']\n",
      "65.9794921875 + 73.9794921875\n",
      ".\\SE\\Z沈伟202203014（未发作）16.fif\n",
      "Writing H:\\Anaconda-jupyter\\ECT课题\\病人数据处理\\SE\\Z沈伟202203014（未发作）16.fif\n",
      "Closing H:\\Anaconda-jupyter\\ECT课题\\病人数据处理\\SE\\Z沈伟202203014（未发作）16.fif\n",
      "[done]\n",
      "Extracting EDF parameters from H:\\Anaconda-jupyter\\ECT课题\\第四批病人数据\\治疗脑电（第一批次）\\Z沈伟202203014（未发作）.edf...\n",
      "EDF file detected\n",
      "Setting channel info structure...\n",
      "Creating raw.info structure...\n",
      "Used Annotations descriptions: ['File Create', 'Recording ends', 'Recording starts', 'SE']\n",
      "73.9794921875 + 81.9794921875\n",
      ".\\SE\\Z沈伟202203014（未发作）24.fif\n"
     ]
    },
    {
     "name": "stderr",
     "output_type": "stream",
     "text": [
      "<ipython-input-7-ed7de2df3edd>:21: RuntimeWarning: This filename (H:\\Anaconda-jupyter\\ECT课题\\病人数据处理\\SE\\Z沈伟202203014（未发作）8.fif) does not conform to MNE naming conventions. All raw files should end with raw.fif, raw_sss.fif, raw_tsss.fif, _meg.fif, _eeg.fif, _ieeg.fif, raw.fif.gz, raw_sss.fif.gz, raw_tsss.fif.gz, _meg.fif.gz, _eeg.fif.gz or _ieeg.fif.gz\n",
      "  raw.save(path_name,picks,start_time,end_time,overwrite=True)\n",
      "<ipython-input-7-ed7de2df3edd>:21: RuntimeWarning: This filename (H:\\Anaconda-jupyter\\ECT课题\\病人数据处理\\SE\\Z沈伟202203014（未发作）16.fif) does not conform to MNE naming conventions. All raw files should end with raw.fif, raw_sss.fif, raw_tsss.fif, _meg.fif, _eeg.fif, _ieeg.fif, raw.fif.gz, raw_sss.fif.gz, raw_tsss.fif.gz, _meg.fif.gz, _eeg.fif.gz or _ieeg.fif.gz\n",
      "  raw.save(path_name,picks,start_time,end_time,overwrite=True)\n"
     ]
    },
    {
     "name": "stdout",
     "output_type": "stream",
     "text": [
      "Writing H:\\Anaconda-jupyter\\ECT课题\\病人数据处理\\SE\\Z沈伟202203014（未发作）24.fif\n",
      "Closing H:\\Anaconda-jupyter\\ECT课题\\病人数据处理\\SE\\Z沈伟202203014（未发作）24.fif\n",
      "[done]\n",
      "Extracting EDF parameters from H:\\Anaconda-jupyter\\ECT课题\\第四批病人数据\\治疗脑电（第一批次）\\Z沈伟202203016.edf...\n",
      "EDF file detected\n",
      "Setting channel info structure...\n",
      "Creating raw.info structure...\n",
      "Used Annotations descriptions: ['File Create', 'Recording ends', 'Recording starts', 'SE', 'end', 'start']\n",
      "Extracting EDF parameters from H:\\Anaconda-jupyter\\ECT课题\\第四批病人数据\\治疗脑电（第一批次）\\Z沈伟202203016.edf...\n",
      "EDF file detected\n",
      "Setting channel info structure...\n",
      "Creating raw.info structure...\n",
      "Used Annotations descriptions: ['File Create', 'Recording ends', 'Recording starts', 'SE', 'end', 'start']\n",
      "153.25 + 161.25\n"
     ]
    },
    {
     "name": "stderr",
     "output_type": "stream",
     "text": [
      "<ipython-input-7-ed7de2df3edd>:21: RuntimeWarning: This filename (H:\\Anaconda-jupyter\\ECT课题\\病人数据处理\\SE\\Z沈伟202203014（未发作）24.fif) does not conform to MNE naming conventions. All raw files should end with raw.fif, raw_sss.fif, raw_tsss.fif, _meg.fif, _eeg.fif, _ieeg.fif, raw.fif.gz, raw_sss.fif.gz, raw_tsss.fif.gz, _meg.fif.gz, _eeg.fif.gz or _ieeg.fif.gz\n",
      "  raw.save(path_name,picks,start_time,end_time,overwrite=True)\n"
     ]
    },
    {
     "name": "stdout",
     "output_type": "stream",
     "text": [
      ".\\SE\\Z沈伟2022030160.fif\n",
      "Writing H:\\Anaconda-jupyter\\ECT课题\\病人数据处理\\SE\\Z沈伟2022030160.fif\n",
      "Closing H:\\Anaconda-jupyter\\ECT课题\\病人数据处理\\SE\\Z沈伟2022030160.fif\n",
      "[done]\n",
      "Extracting EDF parameters from H:\\Anaconda-jupyter\\ECT课题\\第四批病人数据\\治疗脑电（第一批次）\\Z沈伟202203018.edf...\n",
      "EDF file detected\n",
      "Setting channel info structure...\n",
      "Creating raw.info structure...\n",
      "Used Annotations descriptions: ['File Create', 'Recording ends', 'Recording starts', 'SE', 'end', 'start']\n",
      "Extracting EDF parameters from H:\\Anaconda-jupyter\\ECT课题\\第四批病人数据\\治疗脑电（第一批次）\\Z沈伟202203018.edf...\n",
      "EDF file detected\n",
      "Setting channel info structure...\n",
      "Creating raw.info structure...\n",
      "Used Annotations descriptions: ['File Create', 'Recording ends', 'Recording starts', 'SE', 'end', 'start']\n",
      "49.720703125 + 57.720703125\n",
      ".\\SE\\Z沈伟2022030180.fif\n",
      "Writing H:\\Anaconda-jupyter\\ECT课题\\病人数据处理\\SE\\Z沈伟2022030180.fif\n",
      "Closing H:\\Anaconda-jupyter\\ECT课题\\病人数据处理\\SE\\Z沈伟2022030180.fif\n",
      "[done]\n",
      "Extracting EDF parameters from H:\\Anaconda-jupyter\\ECT课题\\第四批病人数据\\治疗脑电（第一批次）\\Z王宜凡202203018.edf...\n"
     ]
    },
    {
     "name": "stderr",
     "output_type": "stream",
     "text": [
      "<ipython-input-7-ed7de2df3edd>:21: RuntimeWarning: This filename (H:\\Anaconda-jupyter\\ECT课题\\病人数据处理\\SE\\Z沈伟2022030160.fif) does not conform to MNE naming conventions. All raw files should end with raw.fif, raw_sss.fif, raw_tsss.fif, _meg.fif, _eeg.fif, _ieeg.fif, raw.fif.gz, raw_sss.fif.gz, raw_tsss.fif.gz, _meg.fif.gz, _eeg.fif.gz or _ieeg.fif.gz\n",
      "  raw.save(path_name,picks,start_time,end_time,overwrite=True)\n",
      "<ipython-input-7-ed7de2df3edd>:21: RuntimeWarning: This filename (H:\\Anaconda-jupyter\\ECT课题\\病人数据处理\\SE\\Z沈伟2022030180.fif) does not conform to MNE naming conventions. All raw files should end with raw.fif, raw_sss.fif, raw_tsss.fif, _meg.fif, _eeg.fif, _ieeg.fif, raw.fif.gz, raw_sss.fif.gz, raw_tsss.fif.gz, _meg.fif.gz, _eeg.fif.gz or _ieeg.fif.gz\n",
      "  raw.save(path_name,picks,start_time,end_time,overwrite=True)\n"
     ]
    },
    {
     "name": "stdout",
     "output_type": "stream",
     "text": [
      "EDF file detected\n",
      "Setting channel info structure...\n",
      "Creating raw.info structure...\n",
      "Used Annotations descriptions: ['File Create', 'Recording ends', 'Recording starts', 'SE', 'end', 'start']\n",
      "Extracting EDF parameters from H:\\Anaconda-jupyter\\ECT课题\\第四批病人数据\\治疗脑电（第一批次）\\Z王宜凡202203018.edf...\n",
      "EDF file detected\n",
      "Setting channel info structure...\n",
      "Creating raw.info structure...\n",
      "Used Annotations descriptions: ['File Create', 'Recording ends', 'Recording starts', 'SE', 'end', 'start']\n",
      "115.36328125 + 123.36328125\n",
      ".\\SE\\Z王宜凡2022030180.fif\n",
      "Writing H:\\Anaconda-jupyter\\ECT课题\\病人数据处理\\SE\\Z王宜凡2022030180.fif\n",
      "Closing H:\\Anaconda-jupyter\\ECT课题\\病人数据处理\\SE\\Z王宜凡2022030180.fif\n",
      "[done]\n",
      "Extracting EDF parameters from H:\\Anaconda-jupyter\\ECT课题\\第四批病人数据\\治疗脑电（第一批次）\\Z王宜凡202203021.edf...\n",
      "EDF file detected\n",
      "Setting channel info structure...\n",
      "Creating raw.info structure...\n",
      "Used Annotations descriptions: ['File Create', 'Recording ends', 'Recording starts', 'SE', 'end', 'start']\n",
      "Extracting EDF parameters from H:\\Anaconda-jupyter\\ECT课题\\第四批病人数据\\治疗脑电（第一批次）\\Z王宜凡202203021.edf...\n",
      "EDF file detected\n",
      "Setting channel info structure...\n",
      "Creating raw.info structure...\n",
      "Used Annotations descriptions: ['File Create', 'Recording ends', 'Recording starts', 'SE', 'end', 'start']\n",
      "65.6455078125 + 73.6455078125\n",
      ".\\SE\\Z王宜凡2022030210.fif\n",
      "Writing H:\\Anaconda-jupyter\\ECT课题\\病人数据处理\\SE\\Z王宜凡2022030210.fif\n",
      "Closing H:\\Anaconda-jupyter\\ECT课题\\病人数据处理\\SE\\Z王宜凡2022030210.fif\n",
      "[done]\n",
      "Extracting EDF parameters from H:\\Anaconda-jupyter\\ECT课题\\第四批病人数据\\治疗脑电（第一批次）\\Z王宜凡202203023.edf...\n",
      "EDF file detected\n",
      "Setting channel info structure...\n",
      "Creating raw.info structure...\n"
     ]
    },
    {
     "name": "stderr",
     "output_type": "stream",
     "text": [
      "<ipython-input-7-ed7de2df3edd>:21: RuntimeWarning: This filename (H:\\Anaconda-jupyter\\ECT课题\\病人数据处理\\SE\\Z王宜凡2022030180.fif) does not conform to MNE naming conventions. All raw files should end with raw.fif, raw_sss.fif, raw_tsss.fif, _meg.fif, _eeg.fif, _ieeg.fif, raw.fif.gz, raw_sss.fif.gz, raw_tsss.fif.gz, _meg.fif.gz, _eeg.fif.gz or _ieeg.fif.gz\n",
      "  raw.save(path_name,picks,start_time,end_time,overwrite=True)\n",
      "<ipython-input-7-ed7de2df3edd>:21: RuntimeWarning: This filename (H:\\Anaconda-jupyter\\ECT课题\\病人数据处理\\SE\\Z王宜凡2022030210.fif) does not conform to MNE naming conventions. All raw files should end with raw.fif, raw_sss.fif, raw_tsss.fif, _meg.fif, _eeg.fif, _ieeg.fif, raw.fif.gz, raw_sss.fif.gz, raw_tsss.fif.gz, _meg.fif.gz, _eeg.fif.gz or _ieeg.fif.gz\n",
      "  raw.save(path_name,picks,start_time,end_time,overwrite=True)\n"
     ]
    },
    {
     "name": "stdout",
     "output_type": "stream",
     "text": [
      "Used Annotations descriptions: ['File Create', 'Recording ends', 'Recording starts', 'SE', 'end', 'start', 'Â¼Â¡Ã\\x95Ã³Ã\\x82']\n",
      "Extracting EDF parameters from H:\\Anaconda-jupyter\\ECT课题\\第四批病人数据\\治疗脑电（第一批次）\\Z王宜凡202203023.edf...\n",
      "EDF file detected\n",
      "Setting channel info structure...\n",
      "Creating raw.info structure...\n",
      "Used Annotations descriptions: ['File Create', 'Recording ends', 'Recording starts', 'SE', 'end', 'start', 'Â¼Â¡Ã\\x95Ã³Ã\\x82']\n",
      "101.01171875 + 109.01171875\n",
      ".\\SE\\Z王宜凡2022030230.fif\n",
      "Writing H:\\Anaconda-jupyter\\ECT课题\\病人数据处理\\SE\\Z王宜凡2022030230.fif\n",
      "Closing H:\\Anaconda-jupyter\\ECT课题\\病人数据处理\\SE\\Z王宜凡2022030230.fif\n",
      "[done]\n",
      "Extracting EDF parameters from H:\\Anaconda-jupyter\\ECT课题\\第四批病人数据\\治疗脑电（第一批次）\\Z王宜凡202203025.edf...\n",
      "EDF file detected\n",
      "Setting channel info structure...\n",
      "Creating raw.info structure...\n",
      "Used Annotations descriptions: ['File Create', 'Recording ends', 'Recording starts', 'SE', 'end', 'start']\n",
      "Extracting EDF parameters from H:\\Anaconda-jupyter\\ECT课题\\第四批病人数据\\治疗脑电（第一批次）\\Z王宜凡202203025.edf...\n",
      "EDF file detected\n",
      "Setting channel info structure...\n",
      "Creating raw.info structure...\n",
      "Used Annotations descriptions: ['File Create', 'Recording ends', 'Recording starts', 'SE', 'end', 'start']\n",
      "73.322265625 + 81.322265625\n",
      ".\\SE\\Z王宜凡2022030250.fif\n",
      "Writing H:\\Anaconda-jupyter\\ECT课题\\病人数据处理\\SE\\Z王宜凡2022030250.fif\n",
      "Closing H:\\Anaconda-jupyter\\ECT课题\\病人数据处理\\SE\\Z王宜凡2022030250.fif\n",
      "[done]\n",
      "Extracting EDF parameters from H:\\Anaconda-jupyter\\ECT课题\\第四批病人数据\\治疗脑电（第一批次）\\Z王纯刚202203021.edf...\n",
      "EDF file detected\n",
      "Setting channel info structure...\n",
      "Creating raw.info structure...\n"
     ]
    },
    {
     "name": "stderr",
     "output_type": "stream",
     "text": [
      "<ipython-input-7-ed7de2df3edd>:21: RuntimeWarning: This filename (H:\\Anaconda-jupyter\\ECT课题\\病人数据处理\\SE\\Z王宜凡2022030230.fif) does not conform to MNE naming conventions. All raw files should end with raw.fif, raw_sss.fif, raw_tsss.fif, _meg.fif, _eeg.fif, _ieeg.fif, raw.fif.gz, raw_sss.fif.gz, raw_tsss.fif.gz, _meg.fif.gz, _eeg.fif.gz or _ieeg.fif.gz\n",
      "  raw.save(path_name,picks,start_time,end_time,overwrite=True)\n",
      "<ipython-input-7-ed7de2df3edd>:21: RuntimeWarning: This filename (H:\\Anaconda-jupyter\\ECT课题\\病人数据处理\\SE\\Z王宜凡2022030250.fif) does not conform to MNE naming conventions. All raw files should end with raw.fif, raw_sss.fif, raw_tsss.fif, _meg.fif, _eeg.fif, _ieeg.fif, raw.fif.gz, raw_sss.fif.gz, raw_tsss.fif.gz, _meg.fif.gz, _eeg.fif.gz or _ieeg.fif.gz\n",
      "  raw.save(path_name,picks,start_time,end_time,overwrite=True)\n"
     ]
    },
    {
     "name": "stdout",
     "output_type": "stream",
     "text": [
      "Used Annotations descriptions: ['File Create', 'Recording ends', 'Recording starts', 'SE', 'end', 'start']\n",
      "Extracting EDF parameters from H:\\Anaconda-jupyter\\ECT课题\\第四批病人数据\\治疗脑电（第一批次）\\Z王纯刚202203021.edf...\n",
      "EDF file detected\n",
      "Setting channel info structure...\n",
      "Creating raw.info structure...\n",
      "Used Annotations descriptions: ['File Create', 'Recording ends', 'Recording starts', 'SE', 'end', 'start']\n",
      "91.583984375 + 99.583984375\n",
      ".\\SE\\Z王纯刚2022030210.fif\n",
      "Writing H:\\Anaconda-jupyter\\ECT课题\\病人数据处理\\SE\\Z王纯刚2022030210.fif\n",
      "Closing H:\\Anaconda-jupyter\\ECT课题\\病人数据处理\\SE\\Z王纯刚2022030210.fif\n",
      "[done]\n",
      "Extracting EDF parameters from H:\\Anaconda-jupyter\\ECT课题\\第四批病人数据\\治疗脑电（第一批次）\\Z王纯刚202203023.edf...\n",
      "EDF file detected\n",
      "Setting channel info structure...\n",
      "Creating raw.info structure...\n",
      "Used Annotations descriptions: ['File Create', 'Recording ends', 'Recording starts', 'SE', 'end', 'start']\n",
      "Extracting EDF parameters from H:\\Anaconda-jupyter\\ECT课题\\第四批病人数据\\治疗脑电（第一批次）\\Z王纯刚202203023.edf...\n",
      "EDF file detected\n",
      "Setting channel info structure...\n",
      "Creating raw.info structure...\n",
      "Used Annotations descriptions: ['File Create', 'Recording ends', 'Recording starts', 'SE', 'end', 'start']\n",
      "67.400390625 + 75.400390625\n"
     ]
    },
    {
     "name": "stderr",
     "output_type": "stream",
     "text": [
      "<ipython-input-7-ed7de2df3edd>:21: RuntimeWarning: This filename (H:\\Anaconda-jupyter\\ECT课题\\病人数据处理\\SE\\Z王纯刚2022030210.fif) does not conform to MNE naming conventions. All raw files should end with raw.fif, raw_sss.fif, raw_tsss.fif, _meg.fif, _eeg.fif, _ieeg.fif, raw.fif.gz, raw_sss.fif.gz, raw_tsss.fif.gz, _meg.fif.gz, _eeg.fif.gz or _ieeg.fif.gz\n",
      "  raw.save(path_name,picks,start_time,end_time,overwrite=True)\n"
     ]
    },
    {
     "name": "stdout",
     "output_type": "stream",
     "text": [
      ".\\SE\\Z王纯刚2022030230.fif\n",
      "Writing H:\\Anaconda-jupyter\\ECT课题\\病人数据处理\\SE\\Z王纯刚2022030230.fif\n",
      "Closing H:\\Anaconda-jupyter\\ECT课题\\病人数据处理\\SE\\Z王纯刚2022030230.fif\n",
      "[done]\n",
      "Extracting EDF parameters from H:\\Anaconda-jupyter\\ECT课题\\第四批病人数据\\治疗脑电（第一批次）\\Z王纯刚202203025.edf...\n",
      "EDF file detected\n",
      "Setting channel info structure...\n",
      "Creating raw.info structure...\n",
      "Used Annotations descriptions: ['File Create', 'Recording ends', 'Recording starts', 'SE', 'end', 'start']\n",
      "Extracting EDF parameters from H:\\Anaconda-jupyter\\ECT课题\\第四批病人数据\\治疗脑电（第一批次）\\Z王纯刚202203025.edf...\n",
      "EDF file detected\n",
      "Setting channel info structure...\n",
      "Creating raw.info structure...\n",
      "Used Annotations descriptions: ['File Create', 'Recording ends', 'Recording starts', 'SE', 'end', 'start']\n",
      "23.7490234375 + 31.7490234375\n",
      ".\\SE\\Z王纯刚2022030250.fif\n",
      "Writing H:\\Anaconda-jupyter\\ECT课题\\病人数据处理\\SE\\Z王纯刚2022030250.fif\n",
      "Closing H:\\Anaconda-jupyter\\ECT课题\\病人数据处理\\SE\\Z王纯刚2022030250.fif\n",
      "[done]\n",
      "Extracting EDF parameters from H:\\Anaconda-jupyter\\ECT课题\\第四批病人数据\\治疗脑电（第一批次）\\Z王纯刚202203028.edf...\n",
      "EDF file detected\n",
      "Setting channel info structure...\n",
      "Creating raw.info structure...\n"
     ]
    },
    {
     "name": "stderr",
     "output_type": "stream",
     "text": [
      "<ipython-input-7-ed7de2df3edd>:21: RuntimeWarning: This filename (H:\\Anaconda-jupyter\\ECT课题\\病人数据处理\\SE\\Z王纯刚2022030230.fif) does not conform to MNE naming conventions. All raw files should end with raw.fif, raw_sss.fif, raw_tsss.fif, _meg.fif, _eeg.fif, _ieeg.fif, raw.fif.gz, raw_sss.fif.gz, raw_tsss.fif.gz, _meg.fif.gz, _eeg.fif.gz or _ieeg.fif.gz\n",
      "  raw.save(path_name,picks,start_time,end_time,overwrite=True)\n",
      "<ipython-input-7-ed7de2df3edd>:21: RuntimeWarning: This filename (H:\\Anaconda-jupyter\\ECT课题\\病人数据处理\\SE\\Z王纯刚2022030250.fif) does not conform to MNE naming conventions. All raw files should end with raw.fif, raw_sss.fif, raw_tsss.fif, _meg.fif, _eeg.fif, _ieeg.fif, raw.fif.gz, raw_sss.fif.gz, raw_tsss.fif.gz, _meg.fif.gz, _eeg.fif.gz or _ieeg.fif.gz\n",
      "  raw.save(path_name,picks,start_time,end_time,overwrite=True)\n"
     ]
    },
    {
     "name": "stdout",
     "output_type": "stream",
     "text": [
      "Used Annotations descriptions: ['Recording ends', 'Recording starts', 'SE', 'end', 'start']\n",
      "Extracting EDF parameters from H:\\Anaconda-jupyter\\ECT课题\\第四批病人数据\\治疗脑电（第一批次）\\Z王纯刚202203028.edf...\n",
      "EDF file detected\n",
      "Setting channel info structure...\n",
      "Creating raw.info structure...\n",
      "Used Annotations descriptions: ['Recording ends', 'Recording starts', 'SE', 'end', 'start']\n",
      "282.818359375 + 290.818359375\n",
      ".\\SE\\Z王纯刚2022030280.fif\n",
      "Writing H:\\Anaconda-jupyter\\ECT课题\\病人数据处理\\SE\\Z王纯刚2022030280.fif\n",
      "Closing H:\\Anaconda-jupyter\\ECT课题\\病人数据处理\\SE\\Z王纯刚2022030280.fif\n",
      "[done]\n",
      "Extracting EDF parameters from H:\\Anaconda-jupyter\\ECT课题\\第四批病人数据\\治疗脑电（第一批次）\\Z肖星星202203025.edf...\n",
      "EDF file detected\n",
      "Setting channel info structure...\n",
      "Creating raw.info structure...\n",
      "Used Annotations descriptions: ['File Create', 'Recording ends', 'Recording starts', 'SE', 'end', 'start']\n",
      "Extracting EDF parameters from H:\\Anaconda-jupyter\\ECT课题\\第四批病人数据\\治疗脑电（第一批次）\\Z肖星星202203025.edf...\n",
      "EDF file detected\n",
      "Setting channel info structure...\n",
      "Creating raw.info structure...\n",
      "Used Annotations descriptions: ['File Create', 'Recording ends', 'Recording starts', 'SE', 'end', 'start']\n"
     ]
    },
    {
     "name": "stderr",
     "output_type": "stream",
     "text": [
      "<ipython-input-7-ed7de2df3edd>:21: RuntimeWarning: This filename (H:\\Anaconda-jupyter\\ECT课题\\病人数据处理\\SE\\Z王纯刚2022030280.fif) does not conform to MNE naming conventions. All raw files should end with raw.fif, raw_sss.fif, raw_tsss.fif, _meg.fif, _eeg.fif, _ieeg.fif, raw.fif.gz, raw_sss.fif.gz, raw_tsss.fif.gz, _meg.fif.gz, _eeg.fif.gz or _ieeg.fif.gz\n",
      "  raw.save(path_name,picks,start_time,end_time,overwrite=True)\n"
     ]
    },
    {
     "name": "stdout",
     "output_type": "stream",
     "text": [
      "376.7578125 + 384.7578125\n",
      ".\\SE\\Z肖星星2022030250.fif\n",
      "Writing H:\\Anaconda-jupyter\\ECT课题\\病人数据处理\\SE\\Z肖星星2022030250.fif\n",
      "Closing H:\\Anaconda-jupyter\\ECT课题\\病人数据处理\\SE\\Z肖星星2022030250.fif\n",
      "[done]\n",
      "Extracting EDF parameters from H:\\Anaconda-jupyter\\ECT课题\\第四批病人数据\\治疗脑电（第一批次）\\Z肖星星202203028.edf...\n",
      "EDF file detected\n",
      "Setting channel info structure...\n",
      "Creating raw.info structure...\n",
      "Used Annotations descriptions: ['File Create', 'Recording ends', 'Recording starts', 'SE', 'end', 'start']\n",
      "Extracting EDF parameters from H:\\Anaconda-jupyter\\ECT课题\\第四批病人数据\\治疗脑电（第一批次）\\Z肖星星202203028.edf...\n",
      "EDF file detected\n",
      "Setting channel info structure...\n",
      "Creating raw.info structure...\n",
      "Used Annotations descriptions: ['File Create', 'Recording ends', 'Recording starts', 'SE', 'end', 'start']\n",
      "70.6962890625 + 78.6962890625\n",
      ".\\SE\\Z肖星星2022030280.fif\n",
      "Writing H:\\Anaconda-jupyter\\ECT课题\\病人数据处理\\SE\\Z肖星星2022030280.fif\n",
      "Closing H:\\Anaconda-jupyter\\ECT课题\\病人数据处理\\SE\\Z肖星星2022030280.fif\n",
      "[done]\n"
     ]
    },
    {
     "name": "stderr",
     "output_type": "stream",
     "text": [
      "<ipython-input-7-ed7de2df3edd>:21: RuntimeWarning: This filename (H:\\Anaconda-jupyter\\ECT课题\\病人数据处理\\SE\\Z肖星星2022030250.fif) does not conform to MNE naming conventions. All raw files should end with raw.fif, raw_sss.fif, raw_tsss.fif, _meg.fif, _eeg.fif, _ieeg.fif, raw.fif.gz, raw_sss.fif.gz, raw_tsss.fif.gz, _meg.fif.gz, _eeg.fif.gz or _ieeg.fif.gz\n",
      "  raw.save(path_name,picks,start_time,end_time,overwrite=True)\n",
      "<ipython-input-7-ed7de2df3edd>:21: RuntimeWarning: This filename (H:\\Anaconda-jupyter\\ECT课题\\病人数据处理\\SE\\Z肖星星2022030280.fif) does not conform to MNE naming conventions. All raw files should end with raw.fif, raw_sss.fif, raw_tsss.fif, _meg.fif, _eeg.fif, _ieeg.fif, raw.fif.gz, raw_sss.fif.gz, raw_tsss.fif.gz, _meg.fif.gz, _eeg.fif.gz or _ieeg.fif.gz\n",
      "  raw.save(path_name,picks,start_time,end_time,overwrite=True)\n"
     ]
    },
    {
     "name": "stdout",
     "output_type": "stream",
     "text": [
      "Extracting EDF parameters from H:\\Anaconda-jupyter\\ECT课题\\第四批病人数据\\治疗脑电（第一批次）\\Z肖星星202203030（未发作）.edf...\n",
      "EDF file detected\n",
      "Setting channel info structure...\n",
      "Creating raw.info structure...\n",
      "Used Annotations descriptions: ['File Create', 'Recording ends', 'Recording starts', 'SE']\n",
      "Extracting EDF parameters from H:\\Anaconda-jupyter\\ECT课题\\第四批病人数据\\治疗脑电（第一批次）\\Z肖星星202203030（未发作）.edf...\n",
      "EDF file detected\n",
      "Setting channel info structure...\n",
      "Creating raw.info structure...\n",
      "Used Annotations descriptions: ['File Create', 'Recording ends', 'Recording starts', 'SE']\n",
      "18.6865234375 + 26.6865234375\n",
      ".\\SE\\Z肖星星202203030（未发作）0.fif\n",
      "Writing H:\\Anaconda-jupyter\\ECT课题\\病人数据处理\\SE\\Z肖星星202203030（未发作）0.fif\n",
      "Closing H:\\Anaconda-jupyter\\ECT课题\\病人数据处理\\SE\\Z肖星星202203030（未发作）0.fif\n",
      "[done]\n",
      "Extracting EDF parameters from H:\\Anaconda-jupyter\\ECT课题\\第四批病人数据\\治疗脑电（第一批次）\\Z肖星星202203030（未发作）.edf...\n",
      "EDF file detected\n",
      "Setting channel info structure...\n",
      "Creating raw.info structure...\n",
      "Used Annotations descriptions: ['File Create', 'Recording ends', 'Recording starts', 'SE']\n",
      "26.6865234375 + 34.6865234375\n",
      ".\\SE\\Z肖星星202203030（未发作）8.fif\n",
      "Writing H:\\Anaconda-jupyter\\ECT课题\\病人数据处理\\SE\\Z肖星星202203030（未发作）8.fif\n",
      "Closing H:\\Anaconda-jupyter\\ECT课题\\病人数据处理\\SE\\Z肖星星202203030（未发作）8.fif\n",
      "[done]\n",
      "Extracting EDF parameters from H:\\Anaconda-jupyter\\ECT课题\\第四批病人数据\\治疗脑电（第一批次）\\Z肖星星202203030（未发作）.edf...\n",
      "EDF file detected\n",
      "Setting channel info structure...\n",
      "Creating raw.info structure...\n",
      "Used Annotations descriptions: ['File Create', 'Recording ends', 'Recording starts', 'SE']\n",
      "34.6865234375 + 42.6865234375\n",
      ".\\SE\\Z肖星星202203030（未发作）16.fif\n",
      "Writing H:\\Anaconda-jupyter\\ECT课题\\病人数据处理\\SE\\Z肖星星202203030（未发作）16.fif\n",
      "Closing H:\\Anaconda-jupyter\\ECT课题\\病人数据处理\\SE\\Z肖星星202203030（未发作）16.fif\n",
      "[done]\n",
      "Extracting EDF parameters from H:\\Anaconda-jupyter\\ECT课题\\第四批病人数据\\治疗脑电（第一批次）\\Z肖星星202203030（未发作）.edf...\n"
     ]
    },
    {
     "name": "stderr",
     "output_type": "stream",
     "text": [
      "<ipython-input-7-ed7de2df3edd>:21: RuntimeWarning: This filename (H:\\Anaconda-jupyter\\ECT课题\\病人数据处理\\SE\\Z肖星星202203030（未发作）0.fif) does not conform to MNE naming conventions. All raw files should end with raw.fif, raw_sss.fif, raw_tsss.fif, _meg.fif, _eeg.fif, _ieeg.fif, raw.fif.gz, raw_sss.fif.gz, raw_tsss.fif.gz, _meg.fif.gz, _eeg.fif.gz or _ieeg.fif.gz\n",
      "  raw.save(path_name,picks,start_time,end_time,overwrite=True)\n",
      "<ipython-input-7-ed7de2df3edd>:21: RuntimeWarning: This filename (H:\\Anaconda-jupyter\\ECT课题\\病人数据处理\\SE\\Z肖星星202203030（未发作）8.fif) does not conform to MNE naming conventions. All raw files should end with raw.fif, raw_sss.fif, raw_tsss.fif, _meg.fif, _eeg.fif, _ieeg.fif, raw.fif.gz, raw_sss.fif.gz, raw_tsss.fif.gz, _meg.fif.gz, _eeg.fif.gz or _ieeg.fif.gz\n",
      "  raw.save(path_name,picks,start_time,end_time,overwrite=True)\n",
      "<ipython-input-7-ed7de2df3edd>:21: RuntimeWarning: This filename (H:\\Anaconda-jupyter\\ECT课题\\病人数据处理\\SE\\Z肖星星202203030（未发作）16.fif) does not conform to MNE naming conventions. All raw files should end with raw.fif, raw_sss.fif, raw_tsss.fif, _meg.fif, _eeg.fif, _ieeg.fif, raw.fif.gz, raw_sss.fif.gz, raw_tsss.fif.gz, _meg.fif.gz, _eeg.fif.gz or _ieeg.fif.gz\n",
      "  raw.save(path_name,picks,start_time,end_time,overwrite=True)\n"
     ]
    },
    {
     "name": "stdout",
     "output_type": "stream",
     "text": [
      "EDF file detected\n",
      "Setting channel info structure...\n",
      "Creating raw.info structure...\n",
      "Used Annotations descriptions: ['File Create', 'Recording ends', 'Recording starts', 'SE']\n",
      "42.6865234375 + 50.6865234375\n",
      ".\\SE\\Z肖星星202203030（未发作）24.fif\n",
      "Writing H:\\Anaconda-jupyter\\ECT课题\\病人数据处理\\SE\\Z肖星星202203030（未发作）24.fif\n",
      "Closing H:\\Anaconda-jupyter\\ECT课题\\病人数据处理\\SE\\Z肖星星202203030（未发作）24.fif\n",
      "[done]\n",
      "Extracting EDF parameters from H:\\Anaconda-jupyter\\ECT课题\\第四批病人数据\\治疗脑电（第一批次）\\Z肖星星20220401.edf...\n",
      "EDF file detected\n",
      "Setting channel info structure...\n",
      "Creating raw.info structure...\n",
      "Used Annotations descriptions: ['File Create', 'Recording ends', 'Recording starts', 'SE', 'end', 'start']\n",
      "Extracting EDF parameters from H:\\Anaconda-jupyter\\ECT课题\\第四批病人数据\\治疗脑电（第一批次）\\Z肖星星20220401.edf...\n",
      "EDF file detected\n",
      "Setting channel info structure...\n",
      "Creating raw.info structure...\n",
      "Used Annotations descriptions: ['File Create', 'Recording ends', 'Recording starts', 'SE', 'end', 'start']\n",
      "82.1650390625 + 90.1650390625\n",
      ".\\SE\\Z肖星星202204010.fif\n",
      "Writing H:\\Anaconda-jupyter\\ECT课题\\病人数据处理\\SE\\Z肖星星202204010.fif\n",
      "Closing H:\\Anaconda-jupyter\\ECT课题\\病人数据处理\\SE\\Z肖星星202204010.fif\n",
      "[done]\n",
      "Extracting EDF parameters from H:\\Anaconda-jupyter\\ECT课题\\第四批病人数据\\治疗脑电（第一批次）\\Z肖智华20220225（未发作）.edf...\n",
      "EDF file detected\n",
      "Setting channel info structure...\n",
      "Creating raw.info structure...\n"
     ]
    },
    {
     "name": "stderr",
     "output_type": "stream",
     "text": [
      "<ipython-input-7-ed7de2df3edd>:21: RuntimeWarning: This filename (H:\\Anaconda-jupyter\\ECT课题\\病人数据处理\\SE\\Z肖星星202203030（未发作）24.fif) does not conform to MNE naming conventions. All raw files should end with raw.fif, raw_sss.fif, raw_tsss.fif, _meg.fif, _eeg.fif, _ieeg.fif, raw.fif.gz, raw_sss.fif.gz, raw_tsss.fif.gz, _meg.fif.gz, _eeg.fif.gz or _ieeg.fif.gz\n",
      "  raw.save(path_name,picks,start_time,end_time,overwrite=True)\n",
      "<ipython-input-7-ed7de2df3edd>:21: RuntimeWarning: This filename (H:\\Anaconda-jupyter\\ECT课题\\病人数据处理\\SE\\Z肖星星202204010.fif) does not conform to MNE naming conventions. All raw files should end with raw.fif, raw_sss.fif, raw_tsss.fif, _meg.fif, _eeg.fif, _ieeg.fif, raw.fif.gz, raw_sss.fif.gz, raw_tsss.fif.gz, _meg.fif.gz, _eeg.fif.gz or _ieeg.fif.gz\n",
      "  raw.save(path_name,picks,start_time,end_time,overwrite=True)\n"
     ]
    },
    {
     "name": "stdout",
     "output_type": "stream",
     "text": [
      "Used Annotations descriptions: ['File Create', 'Recording ends', 'Recording starts', 'SE']\n",
      "Extracting EDF parameters from H:\\Anaconda-jupyter\\ECT课题\\第四批病人数据\\治疗脑电（第一批次）\\Z肖智华20220225（未发作）.edf...\n",
      "EDF file detected\n",
      "Setting channel info structure...\n",
      "Creating raw.info structure...\n",
      "Used Annotations descriptions: ['File Create', 'Recording ends', 'Recording starts', 'SE']\n",
      "2.9580078125 + 10.9580078125\n",
      ".\\SE\\Z肖智华20220225（未发作）0.fif\n",
      "Writing H:\\Anaconda-jupyter\\ECT课题\\病人数据处理\\SE\\Z肖智华20220225（未发作）0.fif\n",
      "Closing H:\\Anaconda-jupyter\\ECT课题\\病人数据处理\\SE\\Z肖智华20220225（未发作）0.fif\n",
      "[done]\n",
      "Extracting EDF parameters from H:\\Anaconda-jupyter\\ECT课题\\第四批病人数据\\治疗脑电（第一批次）\\Z肖智华20220225（未发作）.edf...\n",
      "EDF file detected\n",
      "Setting channel info structure...\n",
      "Creating raw.info structure...\n",
      "Used Annotations descriptions: ['File Create', 'Recording ends', 'Recording starts', 'SE']\n",
      "10.9580078125 + 18.9580078125\n",
      ".\\SE\\Z肖智华20220225（未发作）8.fif\n",
      "Writing H:\\Anaconda-jupyter\\ECT课题\\病人数据处理\\SE\\Z肖智华20220225（未发作）8.fif\n",
      "Closing H:\\Anaconda-jupyter\\ECT课题\\病人数据处理\\SE\\Z肖智华20220225（未发作）8.fif\n",
      "[done]\n",
      "Extracting EDF parameters from H:\\Anaconda-jupyter\\ECT课题\\第四批病人数据\\治疗脑电（第一批次）\\Z肖智华20220225（未发作）.edf...\n",
      "EDF file detected\n",
      "Setting channel info structure...\n",
      "Creating raw.info structure...\n",
      "Used Annotations descriptions: ['File Create', 'Recording ends', 'Recording starts', 'SE']\n",
      "18.9580078125 + 26.9580078125\n",
      ".\\SE\\Z肖智华20220225（未发作）16.fif\n",
      "Writing H:\\Anaconda-jupyter\\ECT课题\\病人数据处理\\SE\\Z肖智华20220225（未发作）16.fif\n",
      "Closing H:\\Anaconda-jupyter\\ECT课题\\病人数据处理\\SE\\Z肖智华20220225（未发作）16.fif\n",
      "[done]\n",
      "Extracting EDF parameters from H:\\Anaconda-jupyter\\ECT课题\\第四批病人数据\\治疗脑电（第一批次）\\Z肖智华20220225（未发作）.edf...\n"
     ]
    },
    {
     "name": "stderr",
     "output_type": "stream",
     "text": [
      "<ipython-input-7-ed7de2df3edd>:21: RuntimeWarning: This filename (H:\\Anaconda-jupyter\\ECT课题\\病人数据处理\\SE\\Z肖智华20220225（未发作）0.fif) does not conform to MNE naming conventions. All raw files should end with raw.fif, raw_sss.fif, raw_tsss.fif, _meg.fif, _eeg.fif, _ieeg.fif, raw.fif.gz, raw_sss.fif.gz, raw_tsss.fif.gz, _meg.fif.gz, _eeg.fif.gz or _ieeg.fif.gz\n",
      "  raw.save(path_name,picks,start_time,end_time,overwrite=True)\n",
      "<ipython-input-7-ed7de2df3edd>:21: RuntimeWarning: This filename (H:\\Anaconda-jupyter\\ECT课题\\病人数据处理\\SE\\Z肖智华20220225（未发作）8.fif) does not conform to MNE naming conventions. All raw files should end with raw.fif, raw_sss.fif, raw_tsss.fif, _meg.fif, _eeg.fif, _ieeg.fif, raw.fif.gz, raw_sss.fif.gz, raw_tsss.fif.gz, _meg.fif.gz, _eeg.fif.gz or _ieeg.fif.gz\n",
      "  raw.save(path_name,picks,start_time,end_time,overwrite=True)\n",
      "<ipython-input-7-ed7de2df3edd>:21: RuntimeWarning: This filename (H:\\Anaconda-jupyter\\ECT课题\\病人数据处理\\SE\\Z肖智华20220225（未发作）16.fif) does not conform to MNE naming conventions. All raw files should end with raw.fif, raw_sss.fif, raw_tsss.fif, _meg.fif, _eeg.fif, _ieeg.fif, raw.fif.gz, raw_sss.fif.gz, raw_tsss.fif.gz, _meg.fif.gz, _eeg.fif.gz or _ieeg.fif.gz\n",
      "  raw.save(path_name,picks,start_time,end_time,overwrite=True)\n"
     ]
    },
    {
     "name": "stdout",
     "output_type": "stream",
     "text": [
      "EDF file detected\n",
      "Setting channel info structure...\n",
      "Creating raw.info structure...\n",
      "Used Annotations descriptions: ['File Create', 'Recording ends', 'Recording starts', 'SE']\n",
      "26.9580078125 + 34.9580078125\n",
      ".\\SE\\Z肖智华20220225（未发作）24.fif\n",
      "Writing H:\\Anaconda-jupyter\\ECT课题\\病人数据处理\\SE\\Z肖智华20220225（未发作）24.fif\n",
      "Closing H:\\Anaconda-jupyter\\ECT课题\\病人数据处理\\SE\\Z肖智华20220225（未发作）24.fif\n",
      "[done]\n",
      "Extracting EDF parameters from H:\\Anaconda-jupyter\\ECT课题\\第四批病人数据\\治疗脑电（第一批次）\\Z肖智华20220228.edf...\n",
      "EDF file detected\n",
      "Setting channel info structure...\n",
      "Creating raw.info structure...\n",
      "Used Annotations descriptions: ['File Create', 'Recording ends', 'Recording starts', 'SE', 'end', 'start']\n",
      "Extracting EDF parameters from H:\\Anaconda-jupyter\\ECT课题\\第四批病人数据\\治疗脑电（第一批次）\\Z肖智华20220228.edf...\n",
      "EDF file detected\n",
      "Setting channel info structure...\n",
      "Creating raw.info structure...\n",
      "Used Annotations descriptions: ['File Create', 'Recording ends', 'Recording starts', 'SE', 'end', 'start']\n",
      "24.6865234375 + 32.6865234375\n",
      ".\\SE\\Z肖智华202202280.fif\n",
      "Writing H:\\Anaconda-jupyter\\ECT课题\\病人数据处理\\SE\\Z肖智华202202280.fif\n",
      "Closing H:\\Anaconda-jupyter\\ECT课题\\病人数据处理\\SE\\Z肖智华202202280.fif\n"
     ]
    },
    {
     "name": "stderr",
     "output_type": "stream",
     "text": [
      "<ipython-input-7-ed7de2df3edd>:21: RuntimeWarning: This filename (H:\\Anaconda-jupyter\\ECT课题\\病人数据处理\\SE\\Z肖智华20220225（未发作）24.fif) does not conform to MNE naming conventions. All raw files should end with raw.fif, raw_sss.fif, raw_tsss.fif, _meg.fif, _eeg.fif, _ieeg.fif, raw.fif.gz, raw_sss.fif.gz, raw_tsss.fif.gz, _meg.fif.gz, _eeg.fif.gz or _ieeg.fif.gz\n",
      "  raw.save(path_name,picks,start_time,end_time,overwrite=True)\n",
      "<ipython-input-7-ed7de2df3edd>:21: RuntimeWarning: This filename (H:\\Anaconda-jupyter\\ECT课题\\病人数据处理\\SE\\Z肖智华202202280.fif) does not conform to MNE naming conventions. All raw files should end with raw.fif, raw_sss.fif, raw_tsss.fif, _meg.fif, _eeg.fif, _ieeg.fif, raw.fif.gz, raw_sss.fif.gz, raw_tsss.fif.gz, _meg.fif.gz, _eeg.fif.gz or _ieeg.fif.gz\n",
      "  raw.save(path_name,picks,start_time,end_time,overwrite=True)\n"
     ]
    },
    {
     "name": "stdout",
     "output_type": "stream",
     "text": [
      "[done]\n",
      "Extracting EDF parameters from H:\\Anaconda-jupyter\\ECT课题\\第四批病人数据\\治疗脑电（第一批次）\\Z肖智华20220302.edf...\n",
      "EDF file detected\n",
      "Setting channel info structure...\n",
      "Creating raw.info structure...\n",
      "Used Annotations descriptions: ['File Create', 'Recording ends', 'Recording starts', 'SE', 'end', 'start']\n",
      "Extracting EDF parameters from H:\\Anaconda-jupyter\\ECT课题\\第四批病人数据\\治疗脑电（第一批次）\\Z肖智华20220302.edf...\n",
      "EDF file detected\n",
      "Setting channel info structure...\n",
      "Creating raw.info structure...\n",
      "Used Annotations descriptions: ['File Create', 'Recording ends', 'Recording starts', 'SE', 'end', 'start']\n",
      "602.771484375 + 610.771484375\n",
      ".\\SE\\Z肖智华202203020.fif\n",
      "Writing H:\\Anaconda-jupyter\\ECT课题\\病人数据处理\\SE\\Z肖智华202203020.fif\n",
      "Closing H:\\Anaconda-jupyter\\ECT课题\\病人数据处理\\SE\\Z肖智华202203020.fif\n",
      "[done]\n",
      "Extracting EDF parameters from H:\\Anaconda-jupyter\\ECT课题\\第四批病人数据\\治疗脑电（第一批次）\\Z肖智华20220307（未发作）.edf...\n",
      "EDF file detected\n",
      "Setting channel info structure...\n",
      "Creating raw.info structure...\n",
      "Used Annotations descriptions: ['File Create', 'Recording ends', 'Recording starts', 'start']\n"
     ]
    },
    {
     "name": "stderr",
     "output_type": "stream",
     "text": [
      "<ipython-input-7-ed7de2df3edd>:21: RuntimeWarning: This filename (H:\\Anaconda-jupyter\\ECT课题\\病人数据处理\\SE\\Z肖智华202203020.fif) does not conform to MNE naming conventions. All raw files should end with raw.fif, raw_sss.fif, raw_tsss.fif, _meg.fif, _eeg.fif, _ieeg.fif, raw.fif.gz, raw_sss.fif.gz, raw_tsss.fif.gz, _meg.fif.gz, _eeg.fif.gz or _ieeg.fif.gz\n",
      "  raw.save(path_name,picks,start_time,end_time,overwrite=True)\n"
     ]
    },
    {
     "name": "stdout",
     "output_type": "stream",
     "text": [
      "Extracting EDF parameters from H:\\Anaconda-jupyter\\ECT课题\\第四批病人数据\\治疗脑电（第一批次）\\Z赵丽兰20220225.edf...\n",
      "EDF file detected\n",
      "Setting channel info structure...\n",
      "Creating raw.info structure...\n",
      "Used Annotations descriptions: ['File Create', 'Recording ends', 'Recording starts', 'SE', 'end', 'start']\n",
      "Extracting EDF parameters from H:\\Anaconda-jupyter\\ECT课题\\第四批病人数据\\治疗脑电（第一批次）\\Z赵丽兰20220225.edf...\n",
      "EDF file detected\n",
      "Setting channel info structure...\n",
      "Creating raw.info structure...\n",
      "Used Annotations descriptions: ['File Create', 'Recording ends', 'Recording starts', 'SE', 'end', 'start']\n",
      "4.759765625 + 12.759765625\n",
      ".\\SE\\Z赵丽兰202202250.fif\n",
      "Writing H:\\Anaconda-jupyter\\ECT课题\\病人数据处理\\SE\\Z赵丽兰202202250.fif\n",
      "Closing H:\\Anaconda-jupyter\\ECT课题\\病人数据处理\\SE\\Z赵丽兰202202250.fif\n",
      "[done]\n",
      "Extracting EDF parameters from H:\\Anaconda-jupyter\\ECT课题\\第四批病人数据\\治疗脑电（第一批次）\\Z赵丽兰20220228.edf...\n",
      "EDF file detected\n",
      "Setting channel info structure...\n",
      "Creating raw.info structure...\n",
      "Used Annotations descriptions: ['File Create', 'Recording ends', 'Recording starts', 'SE', 'end', 'start']\n",
      "Extracting EDF parameters from H:\\Anaconda-jupyter\\ECT课题\\第四批病人数据\\治疗脑电（第一批次）\\Z赵丽兰20220228.edf...\n",
      "EDF file detected\n",
      "Setting channel info structure...\n",
      "Creating raw.info structure...\n",
      "Used Annotations descriptions: ['File Create', 'Recording ends', 'Recording starts', 'SE', 'end', 'start']\n",
      "24.6328125 + 32.6328125\n",
      ".\\SE\\Z赵丽兰202202280.fif\n",
      "Writing H:\\Anaconda-jupyter\\ECT课题\\病人数据处理\\SE\\Z赵丽兰202202280.fif\n",
      "Closing H:\\Anaconda-jupyter\\ECT课题\\病人数据处理\\SE\\Z赵丽兰202202280.fif\n",
      "[done]\n",
      "Extracting EDF parameters from H:\\Anaconda-jupyter\\ECT课题\\第四批病人数据\\治疗脑电（第一批次）\\Z赵丽兰20220302.edf...\n",
      "EDF file detected\n",
      "Setting channel info structure...\n",
      "Creating raw.info structure...\n"
     ]
    },
    {
     "name": "stderr",
     "output_type": "stream",
     "text": [
      "<ipython-input-7-ed7de2df3edd>:21: RuntimeWarning: This filename (H:\\Anaconda-jupyter\\ECT课题\\病人数据处理\\SE\\Z赵丽兰202202250.fif) does not conform to MNE naming conventions. All raw files should end with raw.fif, raw_sss.fif, raw_tsss.fif, _meg.fif, _eeg.fif, _ieeg.fif, raw.fif.gz, raw_sss.fif.gz, raw_tsss.fif.gz, _meg.fif.gz, _eeg.fif.gz or _ieeg.fif.gz\n",
      "  raw.save(path_name,picks,start_time,end_time,overwrite=True)\n",
      "<ipython-input-7-ed7de2df3edd>:21: RuntimeWarning: This filename (H:\\Anaconda-jupyter\\ECT课题\\病人数据处理\\SE\\Z赵丽兰202202280.fif) does not conform to MNE naming conventions. All raw files should end with raw.fif, raw_sss.fif, raw_tsss.fif, _meg.fif, _eeg.fif, _ieeg.fif, raw.fif.gz, raw_sss.fif.gz, raw_tsss.fif.gz, _meg.fif.gz, _eeg.fif.gz or _ieeg.fif.gz\n",
      "  raw.save(path_name,picks,start_time,end_time,overwrite=True)\n"
     ]
    },
    {
     "name": "stdout",
     "output_type": "stream",
     "text": [
      "Used Annotations descriptions: ['File Create', 'Recording ends', 'Recording starts', 'SE', 'end', 'start']\n",
      "Extracting EDF parameters from H:\\Anaconda-jupyter\\ECT课题\\第四批病人数据\\治疗脑电（第一批次）\\Z赵丽兰20220302.edf...\n",
      "EDF file detected\n",
      "Setting channel info structure...\n",
      "Creating raw.info structure...\n",
      "Used Annotations descriptions: ['File Create', 'Recording ends', 'Recording starts', 'SE', 'end', 'start']\n",
      "4.337890625 + 12.337890625\n",
      ".\\SE\\Z赵丽兰202203020.fif\n",
      "Writing H:\\Anaconda-jupyter\\ECT课题\\病人数据处理\\SE\\Z赵丽兰202203020.fif\n",
      "Closing H:\\Anaconda-jupyter\\ECT课题\\病人数据处理\\SE\\Z赵丽兰202203020.fif\n",
      "[done]\n",
      "Extracting EDF parameters from H:\\Anaconda-jupyter\\ECT课题\\第四批病人数据\\治疗脑电（第一批次）\\Z赵丽兰20220304.edf...\n",
      "EDF file detected\n",
      "Setting channel info structure...\n",
      "Creating raw.info structure...\n",
      "Used Annotations descriptions: ['File Create', 'Recording ends', 'Recording starts', 'SE', 'end', 'start']\n",
      "Extracting EDF parameters from H:\\Anaconda-jupyter\\ECT课题\\第四批病人数据\\治疗脑电（第一批次）\\Z赵丽兰20220304.edf...\n",
      "EDF file detected\n",
      "Setting channel info structure...\n",
      "Creating raw.info structure...\n",
      "Used Annotations descriptions: ['File Create', 'Recording ends', 'Recording starts', 'SE', 'end', 'start']\n",
      "2.7138671875 + 10.7138671875\n",
      ".\\SE\\Z赵丽兰202203040.fif\n",
      "Writing H:\\Anaconda-jupyter\\ECT课题\\病人数据处理\\SE\\Z赵丽兰202203040.fif\n",
      "Closing H:\\Anaconda-jupyter\\ECT课题\\病人数据处理\\SE\\Z赵丽兰202203040.fif\n",
      "[done]\n",
      "Extracting EDF parameters from H:\\Anaconda-jupyter\\ECT课题\\第四批病人数据\\治疗脑电（第一批次）\\Z雷振20220321.edf...\n",
      "EDF file detected\n",
      "Setting channel info structure...\n",
      "Creating raw.info structure...\n"
     ]
    },
    {
     "name": "stderr",
     "output_type": "stream",
     "text": [
      "<ipython-input-7-ed7de2df3edd>:21: RuntimeWarning: This filename (H:\\Anaconda-jupyter\\ECT课题\\病人数据处理\\SE\\Z赵丽兰202203020.fif) does not conform to MNE naming conventions. All raw files should end with raw.fif, raw_sss.fif, raw_tsss.fif, _meg.fif, _eeg.fif, _ieeg.fif, raw.fif.gz, raw_sss.fif.gz, raw_tsss.fif.gz, _meg.fif.gz, _eeg.fif.gz or _ieeg.fif.gz\n",
      "  raw.save(path_name,picks,start_time,end_time,overwrite=True)\n",
      "<ipython-input-7-ed7de2df3edd>:21: RuntimeWarning: This filename (H:\\Anaconda-jupyter\\ECT课题\\病人数据处理\\SE\\Z赵丽兰202203040.fif) does not conform to MNE naming conventions. All raw files should end with raw.fif, raw_sss.fif, raw_tsss.fif, _meg.fif, _eeg.fif, _ieeg.fif, raw.fif.gz, raw_sss.fif.gz, raw_tsss.fif.gz, _meg.fif.gz, _eeg.fif.gz or _ieeg.fif.gz\n",
      "  raw.save(path_name,picks,start_time,end_time,overwrite=True)\n"
     ]
    },
    {
     "name": "stdout",
     "output_type": "stream",
     "text": [
      "Used Annotations descriptions: ['File Create', 'Recording ends', 'Recording starts', 'SE', 'end', 'start']\n",
      "Extracting EDF parameters from H:\\Anaconda-jupyter\\ECT课题\\第四批病人数据\\治疗脑电（第一批次）\\Z雷振20220321.edf...\n",
      "EDF file detected\n",
      "Setting channel info structure...\n",
      "Creating raw.info structure...\n",
      "Used Annotations descriptions: ['File Create', 'Recording ends', 'Recording starts', 'SE', 'end', 'start']\n",
      "63.759765625 + 71.759765625\n",
      ".\\SE\\Z雷振202203210.fif\n",
      "Writing H:\\Anaconda-jupyter\\ECT课题\\病人数据处理\\SE\\Z雷振202203210.fif\n",
      "Closing H:\\Anaconda-jupyter\\ECT课题\\病人数据处理\\SE\\Z雷振202203210.fif\n",
      "[done]\n",
      "Extracting EDF parameters from H:\\Anaconda-jupyter\\ECT课题\\第四批病人数据\\治疗脑电（第一批次）\\Z雷振20220323.edf...\n",
      "EDF file detected\n",
      "Setting channel info structure...\n",
      "Creating raw.info structure...\n",
      "Used Annotations descriptions: ['Recording ends', 'Recording starts', 'SE', 'end', 'start']\n",
      "Extracting EDF parameters from H:\\Anaconda-jupyter\\ECT课题\\第四批病人数据\\治疗脑电（第一批次）\\Z雷振20220323.edf...\n",
      "EDF file detected\n",
      "Setting channel info structure...\n",
      "Creating raw.info structure...\n",
      "Used Annotations descriptions: ['Recording ends', 'Recording starts', 'SE', 'end', 'start']\n",
      "199.01171875 + 207.01171875\n",
      ".\\SE\\Z雷振202203230.fif\n",
      "Writing H:\\Anaconda-jupyter\\ECT课题\\病人数据处理\\SE\\Z雷振202203230.fif\n",
      "Closing H:\\Anaconda-jupyter\\ECT课题\\病人数据处理\\SE\\Z雷振202203230.fif\n",
      "[done]\n",
      "Extracting EDF parameters from H:\\Anaconda-jupyter\\ECT课题\\第四批病人数据\\治疗脑电（第一批次）\\Z雷振20220325.edf...\n",
      "EDF file detected\n",
      "Setting channel info structure...\n",
      "Creating raw.info structure...\n"
     ]
    },
    {
     "name": "stderr",
     "output_type": "stream",
     "text": [
      "<ipython-input-7-ed7de2df3edd>:21: RuntimeWarning: This filename (H:\\Anaconda-jupyter\\ECT课题\\病人数据处理\\SE\\Z雷振202203210.fif) does not conform to MNE naming conventions. All raw files should end with raw.fif, raw_sss.fif, raw_tsss.fif, _meg.fif, _eeg.fif, _ieeg.fif, raw.fif.gz, raw_sss.fif.gz, raw_tsss.fif.gz, _meg.fif.gz, _eeg.fif.gz or _ieeg.fif.gz\n",
      "  raw.save(path_name,picks,start_time,end_time,overwrite=True)\n",
      "<ipython-input-7-ed7de2df3edd>:21: RuntimeWarning: This filename (H:\\Anaconda-jupyter\\ECT课题\\病人数据处理\\SE\\Z雷振202203230.fif) does not conform to MNE naming conventions. All raw files should end with raw.fif, raw_sss.fif, raw_tsss.fif, _meg.fif, _eeg.fif, _ieeg.fif, raw.fif.gz, raw_sss.fif.gz, raw_tsss.fif.gz, _meg.fif.gz, _eeg.fif.gz or _ieeg.fif.gz\n",
      "  raw.save(path_name,picks,start_time,end_time,overwrite=True)\n"
     ]
    },
    {
     "name": "stdout",
     "output_type": "stream",
     "text": [
      "Used Annotations descriptions: ['File Create', 'Recording ends', 'Recording starts', 'SE', 'end', 'start']\n",
      "Extracting EDF parameters from H:\\Anaconda-jupyter\\ECT课题\\第四批病人数据\\治疗脑电（第一批次）\\Z雷振20220325.edf...\n",
      "EDF file detected\n",
      "Setting channel info structure...\n",
      "Creating raw.info structure...\n",
      "Used Annotations descriptions: ['File Create', 'Recording ends', 'Recording starts', 'SE', 'end', 'start']\n",
      "44.8115234375 + 52.8115234375\n",
      ".\\SE\\Z雷振202203250.fif\n",
      "Writing H:\\Anaconda-jupyter\\ECT课题\\病人数据处理\\SE\\Z雷振202203250.fif\n",
      "Closing H:\\Anaconda-jupyter\\ECT课题\\病人数据处理\\SE\\Z雷振202203250.fif\n",
      "[done]\n",
      "Extracting EDF parameters from H:\\Anaconda-jupyter\\ECT课题\\第四批病人数据\\治疗脑电（第一批次）\\Z雷振20220328.edf...\n",
      "EDF file detected\n",
      "Setting channel info structure...\n",
      "Creating raw.info structure...\n",
      "Used Annotations descriptions: ['File Create', 'Recording ends', 'Recording starts', 'SE', 'end', 'start']\n",
      "Extracting EDF parameters from H:\\Anaconda-jupyter\\ECT课题\\第四批病人数据\\治疗脑电（第一批次）\\Z雷振20220328.edf...\n",
      "EDF file detected\n",
      "Setting channel info structure...\n",
      "Creating raw.info structure...\n",
      "Used Annotations descriptions: ['File Create', 'Recording ends', 'Recording starts', 'SE', 'end', 'start']\n",
      "6.25 + 14.25\n",
      ".\\SE\\Z雷振202203280.fif\n",
      "Writing H:\\Anaconda-jupyter\\ECT课题\\病人数据处理\\SE\\Z雷振202203280.fif\n",
      "Closing H:\\Anaconda-jupyter\\ECT课题\\病人数据处理\\SE\\Z雷振202203280.fif\n",
      "[done]\n",
      "Extracting EDF parameters from H:\\Anaconda-jupyter\\ECT课题\\第四批病人数据\\治疗脑电（第一批次）\\Z黄盈雪20220314.edf...\n",
      "EDF file detected\n",
      "Setting channel info structure...\n"
     ]
    },
    {
     "name": "stderr",
     "output_type": "stream",
     "text": [
      "<ipython-input-7-ed7de2df3edd>:21: RuntimeWarning: This filename (H:\\Anaconda-jupyter\\ECT课题\\病人数据处理\\SE\\Z雷振202203250.fif) does not conform to MNE naming conventions. All raw files should end with raw.fif, raw_sss.fif, raw_tsss.fif, _meg.fif, _eeg.fif, _ieeg.fif, raw.fif.gz, raw_sss.fif.gz, raw_tsss.fif.gz, _meg.fif.gz, _eeg.fif.gz or _ieeg.fif.gz\n",
      "  raw.save(path_name,picks,start_time,end_time,overwrite=True)\n",
      "<ipython-input-7-ed7de2df3edd>:21: RuntimeWarning: This filename (H:\\Anaconda-jupyter\\ECT课题\\病人数据处理\\SE\\Z雷振202203280.fif) does not conform to MNE naming conventions. All raw files should end with raw.fif, raw_sss.fif, raw_tsss.fif, _meg.fif, _eeg.fif, _ieeg.fif, raw.fif.gz, raw_sss.fif.gz, raw_tsss.fif.gz, _meg.fif.gz, _eeg.fif.gz or _ieeg.fif.gz\n",
      "  raw.save(path_name,picks,start_time,end_time,overwrite=True)\n"
     ]
    },
    {
     "name": "stdout",
     "output_type": "stream",
     "text": [
      "Creating raw.info structure...\n",
      "Used Annotations descriptions: ['File Create', 'Recording ends', 'Recording starts', 'SE', 'end', 'start']\n",
      "Extracting EDF parameters from H:\\Anaconda-jupyter\\ECT课题\\第四批病人数据\\治疗脑电（第一批次）\\Z黄盈雪20220314.edf...\n",
      "EDF file detected\n",
      "Setting channel info structure...\n",
      "Creating raw.info structure...\n",
      "Used Annotations descriptions: ['File Create', 'Recording ends', 'Recording starts', 'SE', 'end', 'start']\n",
      "19.642578125 + 27.642578125\n",
      ".\\SE\\Z黄盈雪202203140.fif\n",
      "Writing H:\\Anaconda-jupyter\\ECT课题\\病人数据处理\\SE\\Z黄盈雪202203140.fif\n",
      "Closing H:\\Anaconda-jupyter\\ECT课题\\病人数据处理\\SE\\Z黄盈雪202203140.fif\n",
      "[done]\n",
      "Extracting EDF parameters from H:\\Anaconda-jupyter\\ECT课题\\第四批病人数据\\治疗脑电（第一批次）\\Z黄盈雪20220316.edf...\n",
      "EDF file detected\n",
      "Setting channel info structure...\n",
      "Creating raw.info structure...\n",
      "Used Annotations descriptions: ['File Create', 'Recording ends', 'Recording starts', 'SE', 'end', 'start']\n",
      "Extracting EDF parameters from H:\\Anaconda-jupyter\\ECT课题\\第四批病人数据\\治疗脑电（第一批次）\\Z黄盈雪20220316.edf...\n",
      "EDF file detected\n",
      "Setting channel info structure...\n",
      "Creating raw.info structure...\n",
      "Used Annotations descriptions: ['File Create', 'Recording ends', 'Recording starts', 'SE', 'end', 'start']\n"
     ]
    },
    {
     "name": "stderr",
     "output_type": "stream",
     "text": [
      "<ipython-input-7-ed7de2df3edd>:21: RuntimeWarning: This filename (H:\\Anaconda-jupyter\\ECT课题\\病人数据处理\\SE\\Z黄盈雪202203140.fif) does not conform to MNE naming conventions. All raw files should end with raw.fif, raw_sss.fif, raw_tsss.fif, _meg.fif, _eeg.fif, _ieeg.fif, raw.fif.gz, raw_sss.fif.gz, raw_tsss.fif.gz, _meg.fif.gz, _eeg.fif.gz or _ieeg.fif.gz\n",
      "  raw.save(path_name,picks,start_time,end_time,overwrite=True)\n"
     ]
    },
    {
     "name": "stdout",
     "output_type": "stream",
     "text": [
      "88.1865234375 + 96.1865234375\n",
      ".\\SE\\Z黄盈雪202203160.fif\n",
      "Writing H:\\Anaconda-jupyter\\ECT课题\\病人数据处理\\SE\\Z黄盈雪202203160.fif\n",
      "Closing H:\\Anaconda-jupyter\\ECT课题\\病人数据处理\\SE\\Z黄盈雪202203160.fif\n",
      "[done]\n",
      "Extracting EDF parameters from H:\\Anaconda-jupyter\\ECT课题\\第四批病人数据\\治疗脑电（第一批次）\\Z黄盈雪20220318.edf...\n",
      "EDF file detected\n",
      "Setting channel info structure...\n",
      "Creating raw.info structure...\n",
      "Used Annotations descriptions: ['File Create', 'Recording ends', 'Recording starts', 'SE', 'end', 'start']\n",
      "Extracting EDF parameters from H:\\Anaconda-jupyter\\ECT课题\\第四批病人数据\\治疗脑电（第一批次）\\Z黄盈雪20220318.edf...\n",
      "EDF file detected\n",
      "Setting channel info structure...\n",
      "Creating raw.info structure...\n",
      "Used Annotations descriptions: ['File Create', 'Recording ends', 'Recording starts', 'SE', 'end', 'start']\n",
      "0.4873046875 + 8.4873046875\n",
      ".\\SE\\Z黄盈雪202203180.fif\n",
      "Writing H:\\Anaconda-jupyter\\ECT课题\\病人数据处理\\SE\\Z黄盈雪202203180.fif\n",
      "Closing H:\\Anaconda-jupyter\\ECT课题\\病人数据处理\\SE\\Z黄盈雪202203180.fif\n",
      "[done]\n",
      "Extracting EDF parameters from H:\\Anaconda-jupyter\\ECT课题\\第四批病人数据\\治疗脑电（第一批次）\\Z黄盈雪20220323.edf...\n",
      "EDF file detected\n",
      "Setting channel info structure...\n",
      "Creating raw.info structure...\n"
     ]
    },
    {
     "name": "stderr",
     "output_type": "stream",
     "text": [
      "<ipython-input-7-ed7de2df3edd>:21: RuntimeWarning: This filename (H:\\Anaconda-jupyter\\ECT课题\\病人数据处理\\SE\\Z黄盈雪202203160.fif) does not conform to MNE naming conventions. All raw files should end with raw.fif, raw_sss.fif, raw_tsss.fif, _meg.fif, _eeg.fif, _ieeg.fif, raw.fif.gz, raw_sss.fif.gz, raw_tsss.fif.gz, _meg.fif.gz, _eeg.fif.gz or _ieeg.fif.gz\n",
      "  raw.save(path_name,picks,start_time,end_time,overwrite=True)\n",
      "<ipython-input-7-ed7de2df3edd>:21: RuntimeWarning: This filename (H:\\Anaconda-jupyter\\ECT课题\\病人数据处理\\SE\\Z黄盈雪202203180.fif) does not conform to MNE naming conventions. All raw files should end with raw.fif, raw_sss.fif, raw_tsss.fif, _meg.fif, _eeg.fif, _ieeg.fif, raw.fif.gz, raw_sss.fif.gz, raw_tsss.fif.gz, _meg.fif.gz, _eeg.fif.gz or _ieeg.fif.gz\n",
      "  raw.save(path_name,picks,start_time,end_time,overwrite=True)\n"
     ]
    },
    {
     "name": "stdout",
     "output_type": "stream",
     "text": [
      "Used Annotations descriptions: ['File Create', 'Recording ends', 'Recording starts', 'SE', 'end']\n",
      "Extracting EDF parameters from H:\\Anaconda-jupyter\\ECT课题\\第四批病人数据\\治疗脑电（第一批次）\\Z黄盈雪20220323.edf...\n",
      "EDF file detected\n",
      "Setting channel info structure...\n",
      "Creating raw.info structure...\n",
      "Used Annotations descriptions: ['File Create', 'Recording ends', 'Recording starts', 'SE', 'end']\n",
      "113.853515625 + 121.853515625\n",
      ".\\SE\\Z黄盈雪202203230.fif\n",
      "Writing H:\\Anaconda-jupyter\\ECT课题\\病人数据处理\\SE\\Z黄盈雪202203230.fif\n",
      "Closing H:\\Anaconda-jupyter\\ECT课题\\病人数据处理\\SE\\Z黄盈雪202203230.fif\n",
      "[done]\n",
      "Extracting EDF parameters from H:\\Anaconda-jupyter\\ECT课题\\第四批病人数据\\治疗脑电（第一批次）\\Z黄金燕20220309.edf...\n",
      "EDF file detected\n",
      "Setting channel info structure...\n",
      "Creating raw.info structure...\n",
      "Used Annotations descriptions: ['File Create', 'Recording ends', 'Recording starts', 'SE', 'end', 'start']\n",
      "Extracting EDF parameters from H:\\Anaconda-jupyter\\ECT课题\\第四批病人数据\\治疗脑电（第一批次）\\Z黄金燕20220309.edf...\n",
      "EDF file detected\n",
      "Setting channel info structure...\n",
      "Creating raw.info structure...\n",
      "Used Annotations descriptions: ['File Create', 'Recording ends', 'Recording starts', 'SE', 'end', 'start']\n",
      "27.3232421875 + 35.3232421875\n",
      ".\\SE\\Z黄金燕202203090.fif\n",
      "Writing H:\\Anaconda-jupyter\\ECT课题\\病人数据处理\\SE\\Z黄金燕202203090.fif\n",
      "Closing H:\\Anaconda-jupyter\\ECT课题\\病人数据处理\\SE\\Z黄金燕202203090.fif\n",
      "[done]\n",
      "Extracting EDF parameters from H:\\Anaconda-jupyter\\ECT课题\\第四批病人数据\\治疗脑电（第一批次）\\Z黄金燕20220311.edf...\n",
      "EDF file detected\n",
      "Setting channel info structure...\n",
      "Creating raw.info structure...\n"
     ]
    },
    {
     "name": "stderr",
     "output_type": "stream",
     "text": [
      "<ipython-input-7-ed7de2df3edd>:21: RuntimeWarning: This filename (H:\\Anaconda-jupyter\\ECT课题\\病人数据处理\\SE\\Z黄盈雪202203230.fif) does not conform to MNE naming conventions. All raw files should end with raw.fif, raw_sss.fif, raw_tsss.fif, _meg.fif, _eeg.fif, _ieeg.fif, raw.fif.gz, raw_sss.fif.gz, raw_tsss.fif.gz, _meg.fif.gz, _eeg.fif.gz or _ieeg.fif.gz\n",
      "  raw.save(path_name,picks,start_time,end_time,overwrite=True)\n",
      "<ipython-input-7-ed7de2df3edd>:21: RuntimeWarning: This filename (H:\\Anaconda-jupyter\\ECT课题\\病人数据处理\\SE\\Z黄金燕202203090.fif) does not conform to MNE naming conventions. All raw files should end with raw.fif, raw_sss.fif, raw_tsss.fif, _meg.fif, _eeg.fif, _ieeg.fif, raw.fif.gz, raw_sss.fif.gz, raw_tsss.fif.gz, _meg.fif.gz, _eeg.fif.gz or _ieeg.fif.gz\n",
      "  raw.save(path_name,picks,start_time,end_time,overwrite=True)\n"
     ]
    },
    {
     "name": "stdout",
     "output_type": "stream",
     "text": [
      "Used Annotations descriptions: ['File Create', 'Recording ends', 'Recording starts', 'SE', 'end', 'start']\n",
      "Extracting EDF parameters from H:\\Anaconda-jupyter\\ECT课题\\第四批病人数据\\治疗脑电（第一批次）\\Z黄金燕20220311.edf...\n",
      "EDF file detected\n",
      "Setting channel info structure...\n",
      "Creating raw.info structure...\n",
      "Used Annotations descriptions: ['File Create', 'Recording ends', 'Recording starts', 'SE', 'end', 'start']\n",
      "74.087890625 + 82.087890625\n",
      ".\\SE\\Z黄金燕202203110.fif\n",
      "Writing H:\\Anaconda-jupyter\\ECT课题\\病人数据处理\\SE\\Z黄金燕202203110.fif\n",
      "Closing H:\\Anaconda-jupyter\\ECT课题\\病人数据处理\\SE\\Z黄金燕202203110.fif\n",
      "[done]\n",
      "Extracting EDF parameters from H:\\Anaconda-jupyter\\ECT课题\\第四批病人数据\\治疗脑电（第一批次）\\Z黄金燕20220314.edf...\n",
      "EDF file detected\n",
      "Setting channel info structure...\n",
      "Creating raw.info structure...\n",
      "Used Annotations descriptions: ['File Create', 'Recording ends', 'Recording starts', 'SE', 'end', 'start']\n",
      "Extracting EDF parameters from H:\\Anaconda-jupyter\\ECT课题\\第四批病人数据\\治疗脑电（第一批次）\\Z黄金燕20220314.edf...\n",
      "EDF file detected\n",
      "Setting channel info structure...\n",
      "Creating raw.info structure...\n",
      "Used Annotations descriptions: ['File Create', 'Recording ends', 'Recording starts', 'SE', 'end', 'start']\n",
      "41.8681640625 + 49.8681640625\n",
      ".\\SE\\Z黄金燕202203140.fif\n"
     ]
    },
    {
     "name": "stderr",
     "output_type": "stream",
     "text": [
      "<ipython-input-7-ed7de2df3edd>:21: RuntimeWarning: This filename (H:\\Anaconda-jupyter\\ECT课题\\病人数据处理\\SE\\Z黄金燕202203110.fif) does not conform to MNE naming conventions. All raw files should end with raw.fif, raw_sss.fif, raw_tsss.fif, _meg.fif, _eeg.fif, _ieeg.fif, raw.fif.gz, raw_sss.fif.gz, raw_tsss.fif.gz, _meg.fif.gz, _eeg.fif.gz or _ieeg.fif.gz\n",
      "  raw.save(path_name,picks,start_time,end_time,overwrite=True)\n"
     ]
    },
    {
     "name": "stdout",
     "output_type": "stream",
     "text": [
      "Writing H:\\Anaconda-jupyter\\ECT课题\\病人数据处理\\SE\\Z黄金燕202203140.fif\n",
      "Closing H:\\Anaconda-jupyter\\ECT课题\\病人数据处理\\SE\\Z黄金燕202203140.fif\n",
      "[done]\n",
      "Extracting EDF parameters from H:\\Anaconda-jupyter\\ECT课题\\第四批病人数据\\治疗脑电（第一批次）\\Z黄金燕20220316.edf...\n",
      "EDF file detected\n",
      "Setting channel info structure...\n",
      "Creating raw.info structure...\n",
      "Used Annotations descriptions: ['File Create', 'Recording ends', 'Recording starts', 'SE', 'end', 'start']\n",
      "Extracting EDF parameters from H:\\Anaconda-jupyter\\ECT课题\\第四批病人数据\\治疗脑电（第一批次）\\Z黄金燕20220316.edf...\n",
      "EDF file detected\n",
      "Setting channel info structure...\n",
      "Creating raw.info structure...\n",
      "Used Annotations descriptions: ['File Create', 'Recording ends', 'Recording starts', 'SE', 'end', 'start']\n",
      "68.01953125 + 76.01953125\n"
     ]
    },
    {
     "name": "stderr",
     "output_type": "stream",
     "text": [
      "<ipython-input-7-ed7de2df3edd>:21: RuntimeWarning: This filename (H:\\Anaconda-jupyter\\ECT课题\\病人数据处理\\SE\\Z黄金燕202203140.fif) does not conform to MNE naming conventions. All raw files should end with raw.fif, raw_sss.fif, raw_tsss.fif, _meg.fif, _eeg.fif, _ieeg.fif, raw.fif.gz, raw_sss.fif.gz, raw_tsss.fif.gz, _meg.fif.gz, _eeg.fif.gz or _ieeg.fif.gz\n",
      "  raw.save(path_name,picks,start_time,end_time,overwrite=True)\n"
     ]
    },
    {
     "name": "stdout",
     "output_type": "stream",
     "text": [
      ".\\SE\\Z黄金燕202203160.fif\n",
      "Writing H:\\Anaconda-jupyter\\ECT课题\\病人数据处理\\SE\\Z黄金燕202203160.fif\n",
      "Closing H:\\Anaconda-jupyter\\ECT课题\\病人数据处理\\SE\\Z黄金燕202203160.fif\n",
      "[done]\n",
      "Extracting EDF parameters from H:\\Anaconda-jupyter\\ECT课题\\第四批病人数据\\治疗脑电（第一批次）\\Z齐金钢20220223.edf...\n",
      "EDF file detected\n",
      "Setting channel info structure...\n",
      "Creating raw.info structure...\n",
      "Used Annotations descriptions: ['File Create', 'Recording ends', 'Recording starts', 'SE', 'end', 'start']\n",
      "Extracting EDF parameters from H:\\Anaconda-jupyter\\ECT课题\\第四批病人数据\\治疗脑电（第一批次）\\Z齐金钢20220223.edf...\n",
      "EDF file detected\n",
      "Setting channel info structure...\n",
      "Creating raw.info structure...\n",
      "Used Annotations descriptions: ['File Create', 'Recording ends', 'Recording starts', 'SE', 'end', 'start']\n",
      "15.01953125 + 23.01953125\n",
      ".\\SE\\Z齐金钢202202230.fif\n",
      "Writing H:\\Anaconda-jupyter\\ECT课题\\病人数据处理\\SE\\Z齐金钢202202230.fif\n"
     ]
    },
    {
     "name": "stderr",
     "output_type": "stream",
     "text": [
      "<ipython-input-7-ed7de2df3edd>:21: RuntimeWarning: This filename (H:\\Anaconda-jupyter\\ECT课题\\病人数据处理\\SE\\Z黄金燕202203160.fif) does not conform to MNE naming conventions. All raw files should end with raw.fif, raw_sss.fif, raw_tsss.fif, _meg.fif, _eeg.fif, _ieeg.fif, raw.fif.gz, raw_sss.fif.gz, raw_tsss.fif.gz, _meg.fif.gz, _eeg.fif.gz or _ieeg.fif.gz\n",
      "  raw.save(path_name,picks,start_time,end_time,overwrite=True)\n",
      "<ipython-input-7-ed7de2df3edd>:21: RuntimeWarning: This filename (H:\\Anaconda-jupyter\\ECT课题\\病人数据处理\\SE\\Z齐金钢202202230.fif) does not conform to MNE naming conventions. All raw files should end with raw.fif, raw_sss.fif, raw_tsss.fif, _meg.fif, _eeg.fif, _ieeg.fif, raw.fif.gz, raw_sss.fif.gz, raw_tsss.fif.gz, _meg.fif.gz, _eeg.fif.gz or _ieeg.fif.gz\n",
      "  raw.save(path_name,picks,start_time,end_time,overwrite=True)\n"
     ]
    },
    {
     "name": "stdout",
     "output_type": "stream",
     "text": [
      "Closing H:\\Anaconda-jupyter\\ECT课题\\病人数据处理\\SE\\Z齐金钢202202230.fif\n",
      "[done]\n",
      "Extracting EDF parameters from H:\\Anaconda-jupyter\\ECT课题\\第四批病人数据\\治疗脑电（第一批次）\\Z齐金钢20220225.edf...\n",
      "EDF file detected\n",
      "Setting channel info structure...\n",
      "Creating raw.info structure...\n",
      "Used Annotations descriptions: ['File Create', 'Recording ends', 'Recording starts', 'SE', 'end', 'start', 'Â·Â¢']\n",
      "Extracting EDF parameters from H:\\Anaconda-jupyter\\ECT课题\\第四批病人数据\\治疗脑电（第一批次）\\Z齐金钢20220225.edf...\n",
      "EDF file detected\n",
      "Setting channel info structure...\n",
      "Creating raw.info structure...\n",
      "Used Annotations descriptions: ['File Create', 'Recording ends', 'Recording starts', 'SE', 'end', 'start', 'Â·Â¢']\n",
      "7.982421875 + 15.982421875\n",
      ".\\SE\\Z齐金钢202202250.fif\n",
      "Writing H:\\Anaconda-jupyter\\ECT课题\\病人数据处理\\SE\\Z齐金钢202202250.fif\n",
      "Closing H:\\Anaconda-jupyter\\ECT课题\\病人数据处理\\SE\\Z齐金钢202202250.fif\n",
      "[done]\n",
      "Extracting EDF parameters from H:\\Anaconda-jupyter\\ECT课题\\第四批病人数据\\治疗脑电（第一批次）\\Z齐金钢20220228.edf...\n",
      "EDF file detected\n",
      "Setting channel info structure...\n",
      "Creating raw.info structure...\n",
      "Used Annotations descriptions: ['File Create', 'Recording ends', 'Recording starts', 'SE', 'end', 'start']\n",
      "Extracting EDF parameters from H:\\Anaconda-jupyter\\ECT课题\\第四批病人数据\\治疗脑电（第一批次）\\Z齐金钢20220228.edf...\n",
      "EDF file detected\n",
      "Setting channel info structure...\n",
      "Creating raw.info structure...\n",
      "Used Annotations descriptions: ['File Create', 'Recording ends', 'Recording starts', 'SE', 'end', 'start']\n"
     ]
    },
    {
     "name": "stderr",
     "output_type": "stream",
     "text": [
      "<ipython-input-7-ed7de2df3edd>:21: RuntimeWarning: This filename (H:\\Anaconda-jupyter\\ECT课题\\病人数据处理\\SE\\Z齐金钢202202250.fif) does not conform to MNE naming conventions. All raw files should end with raw.fif, raw_sss.fif, raw_tsss.fif, _meg.fif, _eeg.fif, _ieeg.fif, raw.fif.gz, raw_sss.fif.gz, raw_tsss.fif.gz, _meg.fif.gz, _eeg.fif.gz or _ieeg.fif.gz\n",
      "  raw.save(path_name,picks,start_time,end_time,overwrite=True)\n"
     ]
    },
    {
     "name": "stdout",
     "output_type": "stream",
     "text": [
      "20.4990234375 + 28.4990234375\n",
      ".\\SE\\Z齐金钢202202280.fif\n",
      "Writing H:\\Anaconda-jupyter\\ECT课题\\病人数据处理\\SE\\Z齐金钢202202280.fif\n",
      "Closing H:\\Anaconda-jupyter\\ECT课题\\病人数据处理\\SE\\Z齐金钢202202280.fif\n",
      "[done]\n",
      "Extracting EDF parameters from H:\\Anaconda-jupyter\\ECT课题\\第四批病人数据\\治疗脑电（第一批次）\\Z齐金钢20220302.edf...\n",
      "EDF file detected\n",
      "Setting channel info structure...\n",
      "Creating raw.info structure...\n",
      "Used Annotations descriptions: ['File Create', 'Recording ends', 'Recording starts', 'SE', 'end', 'start']\n",
      "Extracting EDF parameters from H:\\Anaconda-jupyter\\ECT课题\\第四批病人数据\\治疗脑电（第一批次）\\Z齐金钢20220302.edf...\n",
      "EDF file detected\n",
      "Setting channel info structure...\n",
      "Creating raw.info structure...\n",
      "Used Annotations descriptions: ['File Create', 'Recording ends', 'Recording starts', 'SE', 'end', 'start']\n"
     ]
    },
    {
     "name": "stderr",
     "output_type": "stream",
     "text": [
      "<ipython-input-7-ed7de2df3edd>:21: RuntimeWarning: This filename (H:\\Anaconda-jupyter\\ECT课题\\病人数据处理\\SE\\Z齐金钢202202280.fif) does not conform to MNE naming conventions. All raw files should end with raw.fif, raw_sss.fif, raw_tsss.fif, _meg.fif, _eeg.fif, _ieeg.fif, raw.fif.gz, raw_sss.fif.gz, raw_tsss.fif.gz, _meg.fif.gz, _eeg.fif.gz or _ieeg.fif.gz\n",
      "  raw.save(path_name,picks,start_time,end_time,overwrite=True)\n"
     ]
    },
    {
     "name": "stdout",
     "output_type": "stream",
     "text": [
      "146.841796875 + 154.841796875\n",
      ".\\SE\\Z齐金钢202203020.fif\n",
      "Writing H:\\Anaconda-jupyter\\ECT课题\\病人数据处理\\SE\\Z齐金钢202203020.fif\n",
      "Closing H:\\Anaconda-jupyter\\ECT课题\\病人数据处理\\SE\\Z齐金钢202203020.fif\n",
      "[done]\n"
     ]
    },
    {
     "name": "stderr",
     "output_type": "stream",
     "text": [
      "<ipython-input-7-ed7de2df3edd>:21: RuntimeWarning: This filename (H:\\Anaconda-jupyter\\ECT课题\\病人数据处理\\SE\\Z齐金钢202203020.fif) does not conform to MNE naming conventions. All raw files should end with raw.fif, raw_sss.fif, raw_tsss.fif, _meg.fif, _eeg.fif, _ieeg.fif, raw.fif.gz, raw_sss.fif.gz, raw_tsss.fif.gz, _meg.fif.gz, _eeg.fif.gz or _ieeg.fif.gz\n",
      "  raw.save(path_name,picks,start_time,end_time,overwrite=True)\n"
     ]
    }
   ],
   "source": [
    "# 根据是否有SE标签进行切分\n",
    "# file_flag_list = []\n",
    "# for floder in therapy_file_path:\n",
    "#         for file_path in floder:\n",
    "#             if judgeflag(file_path,\"SE\"):\n",
    "#                 file_flag_list.append(1)\n",
    "#             else:\n",
    "#                 file_flag_list.append(0)\n",
    "\n",
    "file_without_se = []\n",
    "for file_path in therapy_file_path:\n",
    "    if judgeflag(file_path,\"SE\"):\n",
    "        get_se_epochs(file_path,8,0)\n",
    "        # 如果是未发作的样本，采集四倍\n",
    "        if file_path.find('未发作') != -1:\n",
    "            get_se_epochs(file_path,8,8)\n",
    "            get_se_epochs(file_path,8,16)\n",
    "            get_se_epochs(file_path,8,24)\n",
    "    else:\n",
    "        file_without_se.append(file_path)"
   ]
  },
  {
   "cell_type": "code",
   "execution_count": 10,
   "id": "0c9bc011",
   "metadata": {},
   "outputs": [
    {
     "data": {
      "text/plain": [
       "['../第四批病人数据/治疗脑电（第一批次）\\\\Z刘家瑞20220304.edf',\n",
       " '../第四批病人数据/治疗脑电（第一批次）\\\\Z张璐20220304.edf',\n",
       " '../第四批病人数据/治疗脑电（第一批次）\\\\Z林攀攀20220221（未发作）.edf',\n",
       " '../第四批病人数据/治疗脑电（第一批次）\\\\Z肖智华20220307（未发作）.edf']"
      ]
     },
     "execution_count": 10,
     "metadata": {},
     "output_type": "execute_result"
    }
   ],
   "source": [
    "file_without_se"
   ]
  },
  {
   "cell_type": "code",
   "execution_count": 12,
   "id": "d9385190",
   "metadata": {},
   "outputs": [],
   "source": [
    "# file_name = [j for i in therapy_file_path for j in i]"
   ]
  },
  {
   "cell_type": "code",
   "execution_count": 14,
   "id": "85af64c1",
   "metadata": {},
   "outputs": [],
   "source": [
    "# for i in range(len(file_name)):\n",
    "#     print(file_name[i],\":\",file_flag_list[i])"
   ]
  },
  {
   "cell_type": "code",
   "execution_count": null,
   "id": "07d4d472",
   "metadata": {},
   "outputs": [],
   "source": []
  },
  {
   "cell_type": "code",
   "execution_count": null,
   "id": "100abeb8",
   "metadata": {},
   "outputs": [],
   "source": []
  }
 ],
 "metadata": {
  "kernelspec": {
   "display_name": "Python 3",
   "language": "python",
   "name": "python3"
  },
  "language_info": {
   "codemirror_mode": {
    "name": "ipython",
    "version": 3
   },
   "file_extension": ".py",
   "mimetype": "text/x-python",
   "name": "python",
   "nbconvert_exporter": "python",
   "pygments_lexer": "ipython3",
   "version": "3.8.8"
  }
 },
 "nbformat": 4,
 "nbformat_minor": 5
}
