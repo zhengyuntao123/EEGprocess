{
 "cells": [
  {
   "cell_type": "code",
   "execution_count": 1,
   "id": "91b88329",
   "metadata": {},
   "outputs": [],
   "source": [
    "# 该代码用于处理第三批病人的SE数据 利用课题组提供的H5黑盒模型"
   ]
  },
  {
   "cell_type": "code",
   "execution_count": 2,
   "id": "10734cde",
   "metadata": {},
   "outputs": [],
   "source": [
    "# 引入工具包\n",
    "from mne.io import concatenate_raws,read_raw_fif\n",
    "import matplotlib.pyplot as plt\n",
    "import mne\n",
    "import tensorflow as tf\n",
    "import numpy as np\n",
    "from numpy.lib.utils import safe_eval\n",
    "from keras.models import load_model\n",
    "import keras.backend as K\n",
    "import glob\n",
    "import scipy.signal\n",
    "import scipy.io as scio\n",
    "import pandas as pd\n",
    "import seaborn as sns\n",
    "import matplotlib.pyplot as plt\n",
    "%matplotlib inline"
   ]
  },
  {
   "cell_type": "code",
   "execution_count": 3,
   "id": "5421c042",
   "metadata": {
    "code_folding": [
     0
    ]
   },
   "outputs": [],
   "source": [
    "def pearson_r(y_true, y_pred):\n",
    "    x = y_true\n",
    "    y = y_pred\n",
    "    mx = K.mean(x, axis=0)\n",
    "    my = K.mean(y, axis=0)\n",
    "    xm, ym = x - mx, y - my\n",
    "    r_num = K.sum(xm * ym)\n",
    "    x_square_sum = K.sum(xm * xm)\n",
    "    y_square_sum = K.sum(ym * ym)\n",
    "    r_den = K.sqrt(x_square_sum * y_square_sum)\n",
    "    r = r_num / r_den\n",
    "    return K.mean(r)\n",
    "# % 模型准备 %\n",
    "model_path = r'../others/Gao_Novel_CNN_RNN16_2561630689427.h5'\n",
    "model = load_model(model_path, custom_objects={'pearson_r': pearson_r})"
   ]
  },
  {
   "cell_type": "code",
   "execution_count": 4,
   "id": "29eb6ea2",
   "metadata": {
    "code_folding": []
   },
   "outputs": [],
   "source": [
    "def SE_process(file_path,save_path,select_time):\n",
    "    raw = read_raw_fif(file_path)\n",
    "    data,times=raw[:17,:]\n",
    "    # select_time = 4 #抽取2s的片段，可修改为偶数秒  \n",
    "    # channel_count=17 #需要的通道数，默认为EEG文件的前 17 个通道\n",
    "    \n",
    "    samps = int(select_time * 256)\n",
    "    \n",
    "    # 重采样为256Hz\n",
    "    data_256 = []\n",
    "    for i in range(data.shape[0]):\n",
    "            data_temp = scipy.signal.resample(data[i],samps)\n",
    "            data_256.append(data_temp)\n",
    "    # 重新转换为np.array\n",
    "    data_256 = np.array(data_256)                                    \n",
    "    print(\"data_256.shape\",data_256.shape)\n",
    "    \n",
    "    # 分成 epoches，256*2的形状\n",
    "    data_256_samples = []\n",
    "    # 对每个通道\n",
    "    for i in range(data_256.shape[0]):\n",
    "        # 进行片段切片\n",
    "        channel = data_256[i];\n",
    "        # samps = 2*256 两秒，每秒256个采样点\n",
    "        data_channels = []\n",
    "        for j in range(0,channel.shape[0],2*256):\n",
    "            # print(\"第\" + str(j//samps) + \"个片段\")\n",
    "            data_temp = channel[j:j+2*256]\n",
    "            data_channels.append(data_temp)\n",
    "        # 每个通道整合起来\n",
    "        data_256_samples.append(data_channels)\n",
    "\n",
    "    # 转回np.array\n",
    "    data_256_samples = np.array(data_256_samples)\n",
    "    print(\"data_256_samples.shape\",data_256_samples.shape)\n",
    "\n",
    "    # 进行标准化处理,sta表示Standardization\n",
    "    data_sta = []\n",
    "    # 对每个通道\n",
    "    for i in range(data_256_samples.shape[0]):\n",
    "        # np.mean和np.std计算均值和标准差\n",
    "        tmp_mean = np.mean(data_256_samples[i])\n",
    "        tmp_std = np.std(data_256_samples[i])\n",
    "        data_temp_std = (data_256_samples[i] - tmp_mean) / tmp_std\n",
    "        data_sta.append(data_temp_std)\n",
    "    # 转回np.array\n",
    "    data_sta = np.array(data_sta)\n",
    "    print(\"data_sta.shape\",data_sta.shape) \n",
    "\n",
    "    # 整理成神经网络训练所需的形状，这里把数据展平成一维，所有通道合并，之后再还原\n",
    "    data_x = data_sta.reshape(-1,512,1)\n",
    "    print(\"data_x.shape:\",data_x.shape)\n",
    "    # 模型进行预测\n",
    "    y_pred = model.predict(data_x, verbose=0)\n",
    "    # 先把通道分开\n",
    "    # data_256_samples.shape[1] = 30 即降采样后的片段数\n",
    "    \n",
    "    pred_channel = []\n",
    "\n",
    "    for i in range(0,y_pred.shape[0],data_256_samples.shape[1]):\n",
    "        channel_temp = y_pred[i:i+data_256_samples.shape[1]]\n",
    "        channel_temp = channel_temp.flatten()\n",
    "        pred_channel.append(channel_temp)\n",
    "\n",
    "    pred_channel = np.array(pred_channel)\n",
    "    print(\"pred_channel.shape\",pred_channel.shape)\n",
    "    \n",
    "    info = mne.create_info(ch_names=raw.ch_names[:17],ch_types=[\"eeg\"]*17,sfreq=256)\n",
    "    \"\"\"\n",
    "    利用mne.io.RawArray类创建Raw对象\n",
    "    \"\"\"\n",
    "    custom_raw = mne.io.RawArray(data=pred_channel, info=info)\n",
    "    custom_raw.save(save_path,overwrite=True)\n",
    "    \n",
    "    \n",
    "    return True"
   ]
  },
  {
   "cell_type": "code",
   "execution_count": 5,
   "id": "328a3c0b",
   "metadata": {},
   "outputs": [],
   "source": [
    "# file_path = \"./se(已筛选)/SE(1)_eeg.fif\"\n",
    "# save_path = \"./SE(processed)/\"\n",
    "# SE_process(file_path,save_path)"
   ]
  },
  {
   "cell_type": "code",
   "execution_count": 6,
   "id": "f4107768",
   "metadata": {},
   "outputs": [
    {
     "name": "stdout",
     "output_type": "stream",
     "text": [
      "121 16\n"
     ]
    }
   ],
   "source": [
    "train_directory = glob.glob(\"../SE_train/\"+\"*\")\n",
    "test_directory = glob.glob(\"../SE_test/\"+\"*\")\n",
    "print(len(train_directory),len(test_directory))"
   ]
  },
  {
   "cell_type": "code",
   "execution_count": 7,
   "id": "430ada5a",
   "metadata": {},
   "outputs": [
    {
     "name": "stdout",
     "output_type": "stream",
     "text": [
      "../SE_train_processed/Z何富桂20220221_bias_0.fif\n",
      "Opening raw data file ../SE_train\\Z何富桂20220221_bias_0.fif...\n",
      "Isotrak not found\n",
      "    Range : 8919 ... 17111 =      8.710 ...    16.710 secs\n",
      "Ready.\n"
     ]
    },
    {
     "name": "stderr",
     "output_type": "stream",
     "text": [
      "<ipython-input-4-780c8fcbedab>:2: RuntimeWarning: This filename (../SE_train\\Z何富桂20220221_bias_0.fif) does not conform to MNE naming conventions. All raw files should end with raw.fif, raw_sss.fif, raw_tsss.fif, _meg.fif, _eeg.fif, _ieeg.fif, raw.fif.gz, raw_sss.fif.gz, raw_tsss.fif.gz, _meg.fif.gz, _eeg.fif.gz or _ieeg.fif.gz\n",
      "  raw = read_raw_fif(file_path)\n"
     ]
    },
    {
     "name": "stdout",
     "output_type": "stream",
     "text": [
      "data_256.shape (17, 2048)\n",
      "data_256_samples.shape (17, 4, 512)\n",
      "data_sta.shape (17, 4, 512)\n",
      "data_x.shape: (68, 512, 1)\n",
      "pred_channel.shape (17, 2048)\n",
      "Creating RawArray with float64 data, n_channels=17, n_times=2048\n",
      "    Range : 0 ... 2047 =      0.000 ...     7.996 secs\n",
      "Ready.\n",
      "Writing E:\\jupyter file\\EEG_process\\SE_train_processed\\Z何富桂20220221_bias_0.fif\n",
      "Closing E:\\jupyter file\\EEG_process\\SE_train_processed\\Z何富桂20220221_bias_0.fif\n",
      "[done]\n",
      "../SE_train_processed/Z何富桂20220225_bias_0.fif\n",
      "Opening raw data file ../SE_train\\Z何富桂20220225_bias_0.fif...\n",
      "Isotrak not found\n",
      "    Range : 233098 ... 241290 =    227.635 ...   235.635 secs\n",
      "Ready.\n",
      "data_256.shape (17, 2048)\n",
      "data_256_samples.shape (17, 4, 512)\n",
      "data_sta.shape (17, 4, 512)\n",
      "data_x.shape: (68, 512, 1)\n",
      "pred_channel.shape (17, 2048)\n"
     ]
    },
    {
     "name": "stderr",
     "output_type": "stream",
     "text": [
      "<ipython-input-4-780c8fcbedab>:73: RuntimeWarning: This filename (E:\\jupyter file\\EEG_process\\SE_train_processed\\Z何富桂20220221_bias_0.fif) does not conform to MNE naming conventions. All raw files should end with raw.fif, raw_sss.fif, raw_tsss.fif, _meg.fif, _eeg.fif, _ieeg.fif, raw.fif.gz, raw_sss.fif.gz, raw_tsss.fif.gz, _meg.fif.gz, _eeg.fif.gz or _ieeg.fif.gz\n",
      "  custom_raw.save(save_path,overwrite=True)\n",
      "<ipython-input-4-780c8fcbedab>:2: RuntimeWarning: This filename (../SE_train\\Z何富桂20220225_bias_0.fif) does not conform to MNE naming conventions. All raw files should end with raw.fif, raw_sss.fif, raw_tsss.fif, _meg.fif, _eeg.fif, _ieeg.fif, raw.fif.gz, raw_sss.fif.gz, raw_tsss.fif.gz, _meg.fif.gz, _eeg.fif.gz or _ieeg.fif.gz\n",
      "  raw = read_raw_fif(file_path)\n"
     ]
    },
    {
     "name": "stdout",
     "output_type": "stream",
     "text": [
      "Creating RawArray with float64 data, n_channels=17, n_times=2048\n",
      "    Range : 0 ... 2047 =      0.000 ...     7.996 secs\n",
      "Ready.\n",
      "Writing E:\\jupyter file\\EEG_process\\SE_train_processed\\Z何富桂20220225_bias_0.fif\n",
      "Closing E:\\jupyter file\\EEG_process\\SE_train_processed\\Z何富桂20220225_bias_0.fif\n",
      "[done]\n",
      "../SE_train_processed/Z何富桂20220228_bias_0.fif\n",
      "Opening raw data file ../SE_train\\Z何富桂20220228_bias_0.fif...\n",
      "Isotrak not found\n",
      "    Range : 10580 ... 18772 =     10.332 ...    18.332 secs\n",
      "Ready.\n",
      "data_256.shape (17, 2048)\n"
     ]
    },
    {
     "name": "stderr",
     "output_type": "stream",
     "text": [
      "<ipython-input-4-780c8fcbedab>:73: RuntimeWarning: This filename (E:\\jupyter file\\EEG_process\\SE_train_processed\\Z何富桂20220225_bias_0.fif) does not conform to MNE naming conventions. All raw files should end with raw.fif, raw_sss.fif, raw_tsss.fif, _meg.fif, _eeg.fif, _ieeg.fif, raw.fif.gz, raw_sss.fif.gz, raw_tsss.fif.gz, _meg.fif.gz, _eeg.fif.gz or _ieeg.fif.gz\n",
      "  custom_raw.save(save_path,overwrite=True)\n",
      "<ipython-input-4-780c8fcbedab>:2: RuntimeWarning: This filename (../SE_train\\Z何富桂20220228_bias_0.fif) does not conform to MNE naming conventions. All raw files should end with raw.fif, raw_sss.fif, raw_tsss.fif, _meg.fif, _eeg.fif, _ieeg.fif, raw.fif.gz, raw_sss.fif.gz, raw_tsss.fif.gz, _meg.fif.gz, _eeg.fif.gz or _ieeg.fif.gz\n",
      "  raw = read_raw_fif(file_path)\n"
     ]
    },
    {
     "name": "stdout",
     "output_type": "stream",
     "text": [
      "data_256_samples.shape (17, 4, 512)\n",
      "data_sta.shape (17, 4, 512)\n",
      "data_x.shape: (68, 512, 1)\n",
      "pred_channel.shape (17, 2048)\n",
      "Creating RawArray with float64 data, n_channels=17, n_times=2048\n",
      "    Range : 0 ... 2047 =      0.000 ...     7.996 secs\n",
      "Ready.\n",
      "Writing E:\\jupyter file\\EEG_process\\SE_train_processed\\Z何富桂20220228_bias_0.fif\n",
      "Closing E:\\jupyter file\\EEG_process\\SE_train_processed\\Z何富桂20220228_bias_0.fif\n",
      "[done]\n",
      "../SE_train_processed/Z何富桂20220302_bias_0.fif\n",
      "Opening raw data file ../SE_train\\Z何富桂20220302_bias_0.fif...\n",
      "Isotrak not found\n",
      "    Range : 133777 ... 141969 =    130.642 ...   138.642 secs\n",
      "Ready.\n",
      "data_256.shape (17, 2048)\n",
      "data_256_samples.shape (17, 4, 512)\n",
      "data_sta.shape (17, 4, 512)\n",
      "data_x.shape: (68, 512, 1)\n"
     ]
    },
    {
     "name": "stderr",
     "output_type": "stream",
     "text": [
      "<ipython-input-4-780c8fcbedab>:73: RuntimeWarning: This filename (E:\\jupyter file\\EEG_process\\SE_train_processed\\Z何富桂20220228_bias_0.fif) does not conform to MNE naming conventions. All raw files should end with raw.fif, raw_sss.fif, raw_tsss.fif, _meg.fif, _eeg.fif, _ieeg.fif, raw.fif.gz, raw_sss.fif.gz, raw_tsss.fif.gz, _meg.fif.gz, _eeg.fif.gz or _ieeg.fif.gz\n",
      "  custom_raw.save(save_path,overwrite=True)\n",
      "<ipython-input-4-780c8fcbedab>:2: RuntimeWarning: This filename (../SE_train\\Z何富桂20220302_bias_0.fif) does not conform to MNE naming conventions. All raw files should end with raw.fif, raw_sss.fif, raw_tsss.fif, _meg.fif, _eeg.fif, _ieeg.fif, raw.fif.gz, raw_sss.fif.gz, raw_tsss.fif.gz, _meg.fif.gz, _eeg.fif.gz or _ieeg.fif.gz\n",
      "  raw = read_raw_fif(file_path)\n"
     ]
    },
    {
     "name": "stdout",
     "output_type": "stream",
     "text": [
      "pred_channel.shape (17, 2048)\n",
      "Creating RawArray with float64 data, n_channels=17, n_times=2048\n",
      "    Range : 0 ... 2047 =      0.000 ...     7.996 secs\n",
      "Ready.\n",
      "Writing E:\\jupyter file\\EEG_process\\SE_train_processed\\Z何富桂20220302_bias_0.fif\n",
      "Closing E:\\jupyter file\\EEG_process\\SE_train_processed\\Z何富桂20220302_bias_0.fif\n",
      "[done]\n",
      "../SE_train_processed/Z倪诗瑄20220311_bias_0.fif\n",
      "Opening raw data file ../SE_train\\Z倪诗瑄20220311_bias_0.fif...\n",
      "Isotrak not found\n",
      "    Range : 2646 ... 10838 =      2.584 ...    10.584 secs\n",
      "Ready.\n",
      "data_256.shape (17, 2048)\n",
      "data_256_samples.shape (17, 4, 512)\n",
      "data_sta.shape (17, 4, 512)\n",
      "data_x.shape: (68, 512, 1)\n",
      "pred_channel.shape (17, 2048)\n"
     ]
    },
    {
     "name": "stderr",
     "output_type": "stream",
     "text": [
      "<ipython-input-4-780c8fcbedab>:73: RuntimeWarning: This filename (E:\\jupyter file\\EEG_process\\SE_train_processed\\Z何富桂20220302_bias_0.fif) does not conform to MNE naming conventions. All raw files should end with raw.fif, raw_sss.fif, raw_tsss.fif, _meg.fif, _eeg.fif, _ieeg.fif, raw.fif.gz, raw_sss.fif.gz, raw_tsss.fif.gz, _meg.fif.gz, _eeg.fif.gz or _ieeg.fif.gz\n",
      "  custom_raw.save(save_path,overwrite=True)\n",
      "<ipython-input-4-780c8fcbedab>:2: RuntimeWarning: This filename (../SE_train\\Z倪诗瑄20220311_bias_0.fif) does not conform to MNE naming conventions. All raw files should end with raw.fif, raw_sss.fif, raw_tsss.fif, _meg.fif, _eeg.fif, _ieeg.fif, raw.fif.gz, raw_sss.fif.gz, raw_tsss.fif.gz, _meg.fif.gz, _eeg.fif.gz or _ieeg.fif.gz\n",
      "  raw = read_raw_fif(file_path)\n"
     ]
    },
    {
     "name": "stdout",
     "output_type": "stream",
     "text": [
      "Creating RawArray with float64 data, n_channels=17, n_times=2048\n",
      "    Range : 0 ... 2047 =      0.000 ...     7.996 secs\n",
      "Ready.\n",
      "Writing E:\\jupyter file\\EEG_process\\SE_train_processed\\Z倪诗瑄20220311_bias_0.fif\n",
      "Closing E:\\jupyter file\\EEG_process\\SE_train_processed\\Z倪诗瑄20220311_bias_0.fif\n",
      "[done]\n",
      "../SE_train_processed/Z倪诗瑄20220314_bias_0.fif\n",
      "Opening raw data file ../SE_train\\Z倪诗瑄20220314_bias_0.fif...\n",
      "Isotrak not found\n",
      "    Range : 112910 ... 121102 =    110.264 ...   118.264 secs\n",
      "Ready.\n",
      "data_256.shape (17, 2048)\n",
      "data_256_samples.shape (17, 4, 512)\n",
      "data_sta.shape (17, 4, 512)\n",
      "data_x.shape: (68, 512, 1)\n"
     ]
    },
    {
     "name": "stderr",
     "output_type": "stream",
     "text": [
      "<ipython-input-4-780c8fcbedab>:73: RuntimeWarning: This filename (E:\\jupyter file\\EEG_process\\SE_train_processed\\Z倪诗瑄20220311_bias_0.fif) does not conform to MNE naming conventions. All raw files should end with raw.fif, raw_sss.fif, raw_tsss.fif, _meg.fif, _eeg.fif, _ieeg.fif, raw.fif.gz, raw_sss.fif.gz, raw_tsss.fif.gz, _meg.fif.gz, _eeg.fif.gz or _ieeg.fif.gz\n",
      "  custom_raw.save(save_path,overwrite=True)\n",
      "<ipython-input-4-780c8fcbedab>:2: RuntimeWarning: This filename (../SE_train\\Z倪诗瑄20220314_bias_0.fif) does not conform to MNE naming conventions. All raw files should end with raw.fif, raw_sss.fif, raw_tsss.fif, _meg.fif, _eeg.fif, _ieeg.fif, raw.fif.gz, raw_sss.fif.gz, raw_tsss.fif.gz, _meg.fif.gz, _eeg.fif.gz or _ieeg.fif.gz\n",
      "  raw = read_raw_fif(file_path)\n"
     ]
    },
    {
     "name": "stdout",
     "output_type": "stream",
     "text": [
      "pred_channel.shape (17, 2048)\n",
      "Creating RawArray with float64 data, n_channels=17, n_times=2048\n",
      "    Range : 0 ... 2047 =      0.000 ...     7.996 secs\n",
      "Ready.\n",
      "Writing E:\\jupyter file\\EEG_process\\SE_train_processed\\Z倪诗瑄20220314_bias_0.fif\n",
      "Closing E:\\jupyter file\\EEG_process\\SE_train_processed\\Z倪诗瑄20220314_bias_0.fif\n",
      "[done]\n",
      "../SE_train_processed/Z倪诗瑄20220316_bias_0.fif\n",
      "Opening raw data file ../SE_train\\Z倪诗瑄20220316_bias_0.fif...\n",
      "Isotrak not found\n",
      "    Range : 132169 ... 140361 =    129.071 ...   137.071 secs\n",
      "Ready.\n",
      "data_256.shape (17, 2048)\n",
      "data_256_samples.shape (17, 4, 512)\n",
      "data_sta.shape (17, 4, 512)\n",
      "data_x.shape: (68, 512, 1)\n",
      "pred_channel.shape (17, 2048)\n"
     ]
    },
    {
     "name": "stderr",
     "output_type": "stream",
     "text": [
      "<ipython-input-4-780c8fcbedab>:73: RuntimeWarning: This filename (E:\\jupyter file\\EEG_process\\SE_train_processed\\Z倪诗瑄20220314_bias_0.fif) does not conform to MNE naming conventions. All raw files should end with raw.fif, raw_sss.fif, raw_tsss.fif, _meg.fif, _eeg.fif, _ieeg.fif, raw.fif.gz, raw_sss.fif.gz, raw_tsss.fif.gz, _meg.fif.gz, _eeg.fif.gz or _ieeg.fif.gz\n",
      "  custom_raw.save(save_path,overwrite=True)\n",
      "<ipython-input-4-780c8fcbedab>:2: RuntimeWarning: This filename (../SE_train\\Z倪诗瑄20220316_bias_0.fif) does not conform to MNE naming conventions. All raw files should end with raw.fif, raw_sss.fif, raw_tsss.fif, _meg.fif, _eeg.fif, _ieeg.fif, raw.fif.gz, raw_sss.fif.gz, raw_tsss.fif.gz, _meg.fif.gz, _eeg.fif.gz or _ieeg.fif.gz\n",
      "  raw = read_raw_fif(file_path)\n"
     ]
    },
    {
     "name": "stdout",
     "output_type": "stream",
     "text": [
      "Creating RawArray with float64 data, n_channels=17, n_times=2048\n",
      "    Range : 0 ... 2047 =      0.000 ...     7.996 secs\n",
      "Ready.\n",
      "Writing E:\\jupyter file\\EEG_process\\SE_train_processed\\Z倪诗瑄20220316_bias_0.fif\n",
      "Closing E:\\jupyter file\\EEG_process\\SE_train_processed\\Z倪诗瑄20220316_bias_0.fif\n",
      "[done]\n",
      "../SE_train_processed/Z倪诗瑄20220318_bias_0.fif\n",
      "Opening raw data file ../SE_train\\Z倪诗瑄20220318_bias_0.fif...\n",
      "Isotrak not found\n",
      "    Range : 29274 ... 37466 =     28.588 ...    36.588 secs\n",
      "Ready.\n",
      "data_256.shape (17, 2048)\n",
      "data_256_samples.shape (17, 4, 512)\n",
      "data_sta.shape (17, 4, 512)\n",
      "data_x.shape: (68, 512, 1)\n"
     ]
    },
    {
     "name": "stderr",
     "output_type": "stream",
     "text": [
      "<ipython-input-4-780c8fcbedab>:73: RuntimeWarning: This filename (E:\\jupyter file\\EEG_process\\SE_train_processed\\Z倪诗瑄20220316_bias_0.fif) does not conform to MNE naming conventions. All raw files should end with raw.fif, raw_sss.fif, raw_tsss.fif, _meg.fif, _eeg.fif, _ieeg.fif, raw.fif.gz, raw_sss.fif.gz, raw_tsss.fif.gz, _meg.fif.gz, _eeg.fif.gz or _ieeg.fif.gz\n",
      "  custom_raw.save(save_path,overwrite=True)\n",
      "<ipython-input-4-780c8fcbedab>:2: RuntimeWarning: This filename (../SE_train\\Z倪诗瑄20220318_bias_0.fif) does not conform to MNE naming conventions. All raw files should end with raw.fif, raw_sss.fif, raw_tsss.fif, _meg.fif, _eeg.fif, _ieeg.fif, raw.fif.gz, raw_sss.fif.gz, raw_tsss.fif.gz, _meg.fif.gz, _eeg.fif.gz or _ieeg.fif.gz\n",
      "  raw = read_raw_fif(file_path)\n"
     ]
    },
    {
     "name": "stdout",
     "output_type": "stream",
     "text": [
      "pred_channel.shape (17, 2048)\n",
      "Creating RawArray with float64 data, n_channels=17, n_times=2048\n",
      "    Range : 0 ... 2047 =      0.000 ...     7.996 secs\n",
      "Ready.\n",
      "Writing E:\\jupyter file\\EEG_process\\SE_train_processed\\Z倪诗瑄20220318_bias_0.fif\n",
      "Closing E:\\jupyter file\\EEG_process\\SE_train_processed\\Z倪诗瑄20220318_bias_0.fif\n",
      "[done]\n",
      "../SE_train_processed/Z刘世清20220309_bias_0.fif\n",
      "Opening raw data file ../SE_train\\Z刘世清20220309_bias_0.fif...\n",
      "Isotrak not found\n",
      "    Range : 72862 ... 81054 =     71.154 ...    79.154 secs\n",
      "Ready.\n",
      "data_256.shape (17, 2048)\n",
      "data_256_samples.shape (17, 4, 512)\n",
      "data_sta.shape (17, 4, 512)\n",
      "data_x.shape: (68, 512, 1)\n",
      "pred_channel.shape (17, 2048)\n"
     ]
    },
    {
     "name": "stderr",
     "output_type": "stream",
     "text": [
      "<ipython-input-4-780c8fcbedab>:73: RuntimeWarning: This filename (E:\\jupyter file\\EEG_process\\SE_train_processed\\Z倪诗瑄20220318_bias_0.fif) does not conform to MNE naming conventions. All raw files should end with raw.fif, raw_sss.fif, raw_tsss.fif, _meg.fif, _eeg.fif, _ieeg.fif, raw.fif.gz, raw_sss.fif.gz, raw_tsss.fif.gz, _meg.fif.gz, _eeg.fif.gz or _ieeg.fif.gz\n",
      "  custom_raw.save(save_path,overwrite=True)\n",
      "<ipython-input-4-780c8fcbedab>:2: RuntimeWarning: This filename (../SE_train\\Z刘世清20220309_bias_0.fif) does not conform to MNE naming conventions. All raw files should end with raw.fif, raw_sss.fif, raw_tsss.fif, _meg.fif, _eeg.fif, _ieeg.fif, raw.fif.gz, raw_sss.fif.gz, raw_tsss.fif.gz, _meg.fif.gz, _eeg.fif.gz or _ieeg.fif.gz\n",
      "  raw = read_raw_fif(file_path)\n"
     ]
    },
    {
     "name": "stdout",
     "output_type": "stream",
     "text": [
      "Creating RawArray with float64 data, n_channels=17, n_times=2048\n",
      "    Range : 0 ... 2047 =      0.000 ...     7.996 secs\n",
      "Ready.\n",
      "Writing E:\\jupyter file\\EEG_process\\SE_train_processed\\Z刘世清20220309_bias_0.fif\n",
      "Closing E:\\jupyter file\\EEG_process\\SE_train_processed\\Z刘世清20220309_bias_0.fif\n",
      "[done]\n",
      "../SE_train_processed/Z刘世清20220311_bias_0.fif\n",
      "Opening raw data file ../SE_train\\Z刘世清20220311_bias_0.fif...\n",
      "Isotrak not found\n",
      "    Range : 39018 ... 47210 =     38.104 ...    46.104 secs\n",
      "Ready.\n",
      "data_256.shape (17, 2048)\n",
      "data_256_samples.shape (17, 4, 512)\n",
      "data_sta.shape (17, 4, 512)\n",
      "data_x.shape: (68, 512, 1)\n",
      "pred_channel.shape (17, 2048)\n",
      "Creating RawArray with float64 data, n_channels=17, n_times=2048\n",
      "    Range : 0 ... 2047 =      0.000 ...     7.996 secs\n",
      "Ready.\n",
      "Writing E:\\jupyter file\\EEG_process\\SE_train_processed\\Z刘世清20220311_bias_0.fif\n",
      "Closing E:\\jupyter file\\EEG_process\\SE_train_processed\\Z刘世清20220311_bias_0.fif\n",
      "[done]\n",
      "../SE_train_processed/Z刘世清20220314（未发作）_bias_0.fif\n",
      "Opening raw data file ../SE_train\\Z刘世清20220314（未发作）_bias_0.fif...\n"
     ]
    },
    {
     "name": "stderr",
     "output_type": "stream",
     "text": [
      "<ipython-input-4-780c8fcbedab>:73: RuntimeWarning: This filename (E:\\jupyter file\\EEG_process\\SE_train_processed\\Z刘世清20220309_bias_0.fif) does not conform to MNE naming conventions. All raw files should end with raw.fif, raw_sss.fif, raw_tsss.fif, _meg.fif, _eeg.fif, _ieeg.fif, raw.fif.gz, raw_sss.fif.gz, raw_tsss.fif.gz, _meg.fif.gz, _eeg.fif.gz or _ieeg.fif.gz\n",
      "  custom_raw.save(save_path,overwrite=True)\n",
      "<ipython-input-4-780c8fcbedab>:2: RuntimeWarning: This filename (../SE_train\\Z刘世清20220311_bias_0.fif) does not conform to MNE naming conventions. All raw files should end with raw.fif, raw_sss.fif, raw_tsss.fif, _meg.fif, _eeg.fif, _ieeg.fif, raw.fif.gz, raw_sss.fif.gz, raw_tsss.fif.gz, _meg.fif.gz, _eeg.fif.gz or _ieeg.fif.gz\n",
      "  raw = read_raw_fif(file_path)\n",
      "<ipython-input-4-780c8fcbedab>:73: RuntimeWarning: This filename (E:\\jupyter file\\EEG_process\\SE_train_processed\\Z刘世清20220311_bias_0.fif) does not conform to MNE naming conventions. All raw files should end with raw.fif, raw_sss.fif, raw_tsss.fif, _meg.fif, _eeg.fif, _ieeg.fif, raw.fif.gz, raw_sss.fif.gz, raw_tsss.fif.gz, _meg.fif.gz, _eeg.fif.gz or _ieeg.fif.gz\n",
      "  custom_raw.save(save_path,overwrite=True)\n",
      "<ipython-input-4-780c8fcbedab>:2: RuntimeWarning: This filename (../SE_train\\Z刘世清20220314（未发作）_bias_0.fif) does not conform to MNE naming conventions. All raw files should end with raw.fif, raw_sss.fif, raw_tsss.fif, _meg.fif, _eeg.fif, _ieeg.fif, raw.fif.gz, raw_sss.fif.gz, raw_tsss.fif.gz, _meg.fif.gz, _eeg.fif.gz or _ieeg.fif.gz\n",
      "  raw = read_raw_fif(file_path)\n"
     ]
    },
    {
     "name": "stdout",
     "output_type": "stream",
     "text": [
      "Isotrak not found\n",
      "    Range : 571218 ... 579410 =    557.830 ...   565.830 secs\n",
      "Ready.\n",
      "data_256.shape (17, 2048)\n",
      "data_256_samples.shape (17, 4, 512)\n",
      "data_sta.shape (17, 4, 512)\n",
      "data_x.shape: (68, 512, 1)\n",
      "pred_channel.shape (17, 2048)\n",
      "Creating RawArray with float64 data, n_channels=17, n_times=2048\n",
      "    Range : 0 ... 2047 =      0.000 ...     7.996 secs\n",
      "Ready.\n",
      "Writing E:\\jupyter file\\EEG_process\\SE_train_processed\\Z刘世清20220314（未发作）_bias_0.fif\n",
      "Closing E:\\jupyter file\\EEG_process\\SE_train_processed\\Z刘世清20220314（未发作）_bias_0.fif\n",
      "[done]\n",
      "../SE_train_processed/Z刘世清20220314（未发作）_bias_16.fif\n",
      "Opening raw data file ../SE_train\\Z刘世清20220314（未发作）_bias_16.fif...\n",
      "Isotrak not found\n",
      "    Range : 587602 ... 603986 =    573.830 ...   589.830 secs\n",
      "Ready.\n",
      "data_256.shape (17, 2048)\n",
      "data_256_samples.shape (17, 4, 512)\n",
      "data_sta.shape (17, 4, 512)\n",
      "data_x.shape: (68, 512, 1)\n"
     ]
    },
    {
     "name": "stderr",
     "output_type": "stream",
     "text": [
      "<ipython-input-4-780c8fcbedab>:73: RuntimeWarning: This filename (E:\\jupyter file\\EEG_process\\SE_train_processed\\Z刘世清20220314（未发作）_bias_0.fif) does not conform to MNE naming conventions. All raw files should end with raw.fif, raw_sss.fif, raw_tsss.fif, _meg.fif, _eeg.fif, _ieeg.fif, raw.fif.gz, raw_sss.fif.gz, raw_tsss.fif.gz, _meg.fif.gz, _eeg.fif.gz or _ieeg.fif.gz\n",
      "  custom_raw.save(save_path,overwrite=True)\n",
      "<ipython-input-4-780c8fcbedab>:2: RuntimeWarning: This filename (../SE_train\\Z刘世清20220314（未发作）_bias_16.fif) does not conform to MNE naming conventions. All raw files should end with raw.fif, raw_sss.fif, raw_tsss.fif, _meg.fif, _eeg.fif, _ieeg.fif, raw.fif.gz, raw_sss.fif.gz, raw_tsss.fif.gz, _meg.fif.gz, _eeg.fif.gz or _ieeg.fif.gz\n",
      "  raw = read_raw_fif(file_path)\n"
     ]
    },
    {
     "name": "stdout",
     "output_type": "stream",
     "text": [
      "pred_channel.shape (17, 2048)\n",
      "Creating RawArray with float64 data, n_channels=17, n_times=2048\n",
      "    Range : 0 ... 2047 =      0.000 ...     7.996 secs\n",
      "Ready.\n",
      "Writing E:\\jupyter file\\EEG_process\\SE_train_processed\\Z刘世清20220314（未发作）_bias_16.fif\n",
      "Closing E:\\jupyter file\\EEG_process\\SE_train_processed\\Z刘世清20220314（未发作）_bias_16.fif\n",
      "[done]\n",
      "../SE_train_processed/Z刘世清20220314（未发作）_bias_24.fif\n",
      "Opening raw data file ../SE_train\\Z刘世清20220314（未发作）_bias_24.fif...\n",
      "Isotrak not found\n",
      "    Range : 595794 ... 612178 =    581.830 ...   597.830 secs\n",
      "Ready.\n"
     ]
    },
    {
     "name": "stderr",
     "output_type": "stream",
     "text": [
      "<ipython-input-4-780c8fcbedab>:73: RuntimeWarning: This filename (E:\\jupyter file\\EEG_process\\SE_train_processed\\Z刘世清20220314（未发作）_bias_16.fif) does not conform to MNE naming conventions. All raw files should end with raw.fif, raw_sss.fif, raw_tsss.fif, _meg.fif, _eeg.fif, _ieeg.fif, raw.fif.gz, raw_sss.fif.gz, raw_tsss.fif.gz, _meg.fif.gz, _eeg.fif.gz or _ieeg.fif.gz\n",
      "  custom_raw.save(save_path,overwrite=True)\n",
      "<ipython-input-4-780c8fcbedab>:2: RuntimeWarning: This filename (../SE_train\\Z刘世清20220314（未发作）_bias_24.fif) does not conform to MNE naming conventions. All raw files should end with raw.fif, raw_sss.fif, raw_tsss.fif, _meg.fif, _eeg.fif, _ieeg.fif, raw.fif.gz, raw_sss.fif.gz, raw_tsss.fif.gz, _meg.fif.gz, _eeg.fif.gz or _ieeg.fif.gz\n",
      "  raw = read_raw_fif(file_path)\n"
     ]
    },
    {
     "name": "stdout",
     "output_type": "stream",
     "text": [
      "data_256.shape (17, 2048)\n",
      "data_256_samples.shape (17, 4, 512)\n",
      "data_sta.shape (17, 4, 512)\n",
      "data_x.shape: (68, 512, 1)\n",
      "pred_channel.shape (17, 2048)\n",
      "Creating RawArray with float64 data, n_channels=17, n_times=2048\n",
      "    Range : 0 ... 2047 =      0.000 ...     7.996 secs\n",
      "Ready.\n",
      "Writing E:\\jupyter file\\EEG_process\\SE_train_processed\\Z刘世清20220314（未发作）_bias_24.fif\n",
      "Closing E:\\jupyter file\\EEG_process\\SE_train_processed\\Z刘世清20220314（未发作）_bias_24.fif\n",
      "[done]\n",
      "../SE_train_processed/Z刘世清20220314（未发作）_bias_32.fif\n",
      "Opening raw data file ../SE_train\\Z刘世清20220314（未发作）_bias_32.fif...\n",
      "Isotrak not found\n",
      "    Range : 603986 ... 620370 =    589.830 ...   605.830 secs\n",
      "Ready.\n",
      "data_256.shape (17, 2048)\n",
      "data_256_samples.shape (17, 4, 512)\n",
      "data_sta.shape (17, 4, 512)\n",
      "data_x.shape: (68, 512, 1)\n",
      "pred_channel.shape (17, 2048)\n"
     ]
    },
    {
     "name": "stderr",
     "output_type": "stream",
     "text": [
      "<ipython-input-4-780c8fcbedab>:73: RuntimeWarning: This filename (E:\\jupyter file\\EEG_process\\SE_train_processed\\Z刘世清20220314（未发作）_bias_24.fif) does not conform to MNE naming conventions. All raw files should end with raw.fif, raw_sss.fif, raw_tsss.fif, _meg.fif, _eeg.fif, _ieeg.fif, raw.fif.gz, raw_sss.fif.gz, raw_tsss.fif.gz, _meg.fif.gz, _eeg.fif.gz or _ieeg.fif.gz\n",
      "  custom_raw.save(save_path,overwrite=True)\n",
      "<ipython-input-4-780c8fcbedab>:2: RuntimeWarning: This filename (../SE_train\\Z刘世清20220314（未发作）_bias_32.fif) does not conform to MNE naming conventions. All raw files should end with raw.fif, raw_sss.fif, raw_tsss.fif, _meg.fif, _eeg.fif, _ieeg.fif, raw.fif.gz, raw_sss.fif.gz, raw_tsss.fif.gz, _meg.fif.gz, _eeg.fif.gz or _ieeg.fif.gz\n",
      "  raw = read_raw_fif(file_path)\n"
     ]
    },
    {
     "name": "stdout",
     "output_type": "stream",
     "text": [
      "Creating RawArray with float64 data, n_channels=17, n_times=2048\n",
      "    Range : 0 ... 2047 =      0.000 ...     7.996 secs\n",
      "Ready.\n",
      "Writing E:\\jupyter file\\EEG_process\\SE_train_processed\\Z刘世清20220314（未发作）_bias_32.fif\n",
      "Closing E:\\jupyter file\\EEG_process\\SE_train_processed\\Z刘世清20220314（未发作）_bias_32.fif\n",
      "[done]\n",
      "../SE_train_processed/Z刘世清20220314（未发作）_bias_40.fif\n",
      "Opening raw data file ../SE_train\\Z刘世清20220314（未发作）_bias_40.fif...\n",
      "Isotrak not found\n",
      "    Range : 612178 ... 628562 =    597.830 ...   613.830 secs\n",
      "Ready.\n",
      "data_256.shape (17, 2048)\n",
      "data_256_samples.shape (17, 4, 512)\n",
      "data_sta.shape (17, 4, 512)\n",
      "data_x.shape: (68, 512, 1)\n"
     ]
    },
    {
     "name": "stderr",
     "output_type": "stream",
     "text": [
      "<ipython-input-4-780c8fcbedab>:73: RuntimeWarning: This filename (E:\\jupyter file\\EEG_process\\SE_train_processed\\Z刘世清20220314（未发作）_bias_32.fif) does not conform to MNE naming conventions. All raw files should end with raw.fif, raw_sss.fif, raw_tsss.fif, _meg.fif, _eeg.fif, _ieeg.fif, raw.fif.gz, raw_sss.fif.gz, raw_tsss.fif.gz, _meg.fif.gz, _eeg.fif.gz or _ieeg.fif.gz\n",
      "  custom_raw.save(save_path,overwrite=True)\n",
      "<ipython-input-4-780c8fcbedab>:2: RuntimeWarning: This filename (../SE_train\\Z刘世清20220314（未发作）_bias_40.fif) does not conform to MNE naming conventions. All raw files should end with raw.fif, raw_sss.fif, raw_tsss.fif, _meg.fif, _eeg.fif, _ieeg.fif, raw.fif.gz, raw_sss.fif.gz, raw_tsss.fif.gz, _meg.fif.gz, _eeg.fif.gz or _ieeg.fif.gz\n",
      "  raw = read_raw_fif(file_path)\n"
     ]
    },
    {
     "name": "stdout",
     "output_type": "stream",
     "text": [
      "pred_channel.shape (17, 2048)\n",
      "Creating RawArray with float64 data, n_channels=17, n_times=2048\n",
      "    Range : 0 ... 2047 =      0.000 ...     7.996 secs\n",
      "Ready.\n",
      "Writing E:\\jupyter file\\EEG_process\\SE_train_processed\\Z刘世清20220314（未发作）_bias_40.fif\n",
      "Closing E:\\jupyter file\\EEG_process\\SE_train_processed\\Z刘世清20220314（未发作）_bias_40.fif\n",
      "[done]\n",
      "../SE_train_processed/Z刘世清20220314（未发作）_bias_8.fif\n",
      "Opening raw data file ../SE_train\\Z刘世清20220314（未发作）_bias_8.fif...\n",
      "Isotrak not found\n",
      "    Range : 579410 ... 595794 =    565.830 ...   581.830 secs\n",
      "Ready.\n",
      "data_256.shape (17, 2048)\n",
      "data_256_samples.shape (17, 4, 512)\n",
      "data_sta.shape (17, 4, 512)\n",
      "data_x.shape: (68, 512, 1)\n",
      "pred_channel.shape (17, 2048)\n",
      "Creating RawArray with float64 data, n_channels=17, n_times=2048\n",
      "    Range : 0 ... 2047 =      0.000 ...     7.996 secs\n",
      "Ready.\n",
      "Writing E:\\jupyter file\\EEG_process\\SE_train_processed\\Z刘世清20220314（未发作）_bias_8.fif\n"
     ]
    },
    {
     "name": "stderr",
     "output_type": "stream",
     "text": [
      "<ipython-input-4-780c8fcbedab>:73: RuntimeWarning: This filename (E:\\jupyter file\\EEG_process\\SE_train_processed\\Z刘世清20220314（未发作）_bias_40.fif) does not conform to MNE naming conventions. All raw files should end with raw.fif, raw_sss.fif, raw_tsss.fif, _meg.fif, _eeg.fif, _ieeg.fif, raw.fif.gz, raw_sss.fif.gz, raw_tsss.fif.gz, _meg.fif.gz, _eeg.fif.gz or _ieeg.fif.gz\n",
      "  custom_raw.save(save_path,overwrite=True)\n",
      "<ipython-input-4-780c8fcbedab>:2: RuntimeWarning: This filename (../SE_train\\Z刘世清20220314（未发作）_bias_8.fif) does not conform to MNE naming conventions. All raw files should end with raw.fif, raw_sss.fif, raw_tsss.fif, _meg.fif, _eeg.fif, _ieeg.fif, raw.fif.gz, raw_sss.fif.gz, raw_tsss.fif.gz, _meg.fif.gz, _eeg.fif.gz or _ieeg.fif.gz\n",
      "  raw = read_raw_fif(file_path)\n",
      "<ipython-input-4-780c8fcbedab>:73: RuntimeWarning: This filename (E:\\jupyter file\\EEG_process\\SE_train_processed\\Z刘世清20220314（未发作）_bias_8.fif) does not conform to MNE naming conventions. All raw files should end with raw.fif, raw_sss.fif, raw_tsss.fif, _meg.fif, _eeg.fif, _ieeg.fif, raw.fif.gz, raw_sss.fif.gz, raw_tsss.fif.gz, _meg.fif.gz, _eeg.fif.gz or _ieeg.fif.gz\n",
      "  custom_raw.save(save_path,overwrite=True)\n"
     ]
    },
    {
     "name": "stdout",
     "output_type": "stream",
     "text": [
      "Closing E:\\jupyter file\\EEG_process\\SE_train_processed\\Z刘世清20220314（未发作）_bias_8.fif\n",
      "[done]\n",
      "../SE_train_processed/Z刘世清20220316_bias_0.fif\n",
      "Opening raw data file ../SE_train\\Z刘世清20220316_bias_0.fif...\n",
      "Isotrak not found\n",
      "    Range : 46144 ... 54336 =     45.062 ...    53.062 secs\n",
      "Ready.\n",
      "data_256.shape (17, 2048)\n",
      "data_256_samples.shape (17, 4, 512)\n",
      "data_sta.shape (17, 4, 512)\n",
      "data_x.shape: (68, 512, 1)\n"
     ]
    },
    {
     "name": "stderr",
     "output_type": "stream",
     "text": [
      "<ipython-input-4-780c8fcbedab>:2: RuntimeWarning: This filename (../SE_train\\Z刘世清20220316_bias_0.fif) does not conform to MNE naming conventions. All raw files should end with raw.fif, raw_sss.fif, raw_tsss.fif, _meg.fif, _eeg.fif, _ieeg.fif, raw.fif.gz, raw_sss.fif.gz, raw_tsss.fif.gz, _meg.fif.gz, _eeg.fif.gz or _ieeg.fif.gz\n",
      "  raw = read_raw_fif(file_path)\n"
     ]
    },
    {
     "name": "stdout",
     "output_type": "stream",
     "text": [
      "pred_channel.shape (17, 2048)\n",
      "Creating RawArray with float64 data, n_channels=17, n_times=2048\n",
      "    Range : 0 ... 2047 =      0.000 ...     7.996 secs\n",
      "Ready.\n",
      "Writing E:\\jupyter file\\EEG_process\\SE_train_processed\\Z刘世清20220316_bias_0.fif\n",
      "Closing E:\\jupyter file\\EEG_process\\SE_train_processed\\Z刘世清20220316_bias_0.fif\n",
      "[done]\n",
      "../SE_train_processed/Z刘家瑞20220225_bias_0.fif\n",
      "Opening raw data file ../SE_train\\Z刘家瑞20220225_bias_0.fif...\n",
      "Isotrak not found\n",
      "    Range : 167605 ... 175797 =    163.677 ...   171.677 secs\n",
      "Ready.\n",
      "data_256.shape (17, 2048)\n",
      "data_256_samples.shape (17, 4, 512)\n",
      "data_sta.shape (17, 4, 512)\n",
      "data_x.shape: (68, 512, 1)\n"
     ]
    },
    {
     "name": "stderr",
     "output_type": "stream",
     "text": [
      "<ipython-input-4-780c8fcbedab>:73: RuntimeWarning: This filename (E:\\jupyter file\\EEG_process\\SE_train_processed\\Z刘世清20220316_bias_0.fif) does not conform to MNE naming conventions. All raw files should end with raw.fif, raw_sss.fif, raw_tsss.fif, _meg.fif, _eeg.fif, _ieeg.fif, raw.fif.gz, raw_sss.fif.gz, raw_tsss.fif.gz, _meg.fif.gz, _eeg.fif.gz or _ieeg.fif.gz\n",
      "  custom_raw.save(save_path,overwrite=True)\n",
      "<ipython-input-4-780c8fcbedab>:2: RuntimeWarning: This filename (../SE_train\\Z刘家瑞20220225_bias_0.fif) does not conform to MNE naming conventions. All raw files should end with raw.fif, raw_sss.fif, raw_tsss.fif, _meg.fif, _eeg.fif, _ieeg.fif, raw.fif.gz, raw_sss.fif.gz, raw_tsss.fif.gz, _meg.fif.gz, _eeg.fif.gz or _ieeg.fif.gz\n",
      "  raw = read_raw_fif(file_path)\n"
     ]
    },
    {
     "name": "stdout",
     "output_type": "stream",
     "text": [
      "pred_channel.shape (17, 2048)\n",
      "Creating RawArray with float64 data, n_channels=17, n_times=2048\n",
      "    Range : 0 ... 2047 =      0.000 ...     7.996 secs\n",
      "Ready.\n",
      "Writing E:\\jupyter file\\EEG_process\\SE_train_processed\\Z刘家瑞20220225_bias_0.fif\n",
      "Closing E:\\jupyter file\\EEG_process\\SE_train_processed\\Z刘家瑞20220225_bias_0.fif\n",
      "[done]\n",
      "../SE_train_processed/Z刘家瑞20220228_bias_0.fif\n",
      "Opening raw data file ../SE_train\\Z刘家瑞20220228_bias_0.fif...\n",
      "Isotrak not found\n",
      "    Range : 112416 ... 120608 =    109.781 ...   117.781 secs\n",
      "Ready.\n",
      "data_256.shape (17, 2048)\n",
      "data_256_samples.shape (17, 4, 512)\n",
      "data_sta.shape (17, 4, 512)\n",
      "data_x.shape: (68, 512, 1)\n"
     ]
    },
    {
     "name": "stderr",
     "output_type": "stream",
     "text": [
      "<ipython-input-4-780c8fcbedab>:73: RuntimeWarning: This filename (E:\\jupyter file\\EEG_process\\SE_train_processed\\Z刘家瑞20220225_bias_0.fif) does not conform to MNE naming conventions. All raw files should end with raw.fif, raw_sss.fif, raw_tsss.fif, _meg.fif, _eeg.fif, _ieeg.fif, raw.fif.gz, raw_sss.fif.gz, raw_tsss.fif.gz, _meg.fif.gz, _eeg.fif.gz or _ieeg.fif.gz\n",
      "  custom_raw.save(save_path,overwrite=True)\n",
      "<ipython-input-4-780c8fcbedab>:2: RuntimeWarning: This filename (../SE_train\\Z刘家瑞20220228_bias_0.fif) does not conform to MNE naming conventions. All raw files should end with raw.fif, raw_sss.fif, raw_tsss.fif, _meg.fif, _eeg.fif, _ieeg.fif, raw.fif.gz, raw_sss.fif.gz, raw_tsss.fif.gz, _meg.fif.gz, _eeg.fif.gz or _ieeg.fif.gz\n",
      "  raw = read_raw_fif(file_path)\n"
     ]
    },
    {
     "name": "stdout",
     "output_type": "stream",
     "text": [
      "pred_channel.shape (17, 2048)\n",
      "Creating RawArray with float64 data, n_channels=17, n_times=2048\n",
      "    Range : 0 ... 2047 =      0.000 ...     7.996 secs\n",
      "Ready.\n",
      "Writing E:\\jupyter file\\EEG_process\\SE_train_processed\\Z刘家瑞20220228_bias_0.fif\n",
      "Closing E:\\jupyter file\\EEG_process\\SE_train_processed\\Z刘家瑞20220228_bias_0.fif\n",
      "[done]\n",
      "../SE_train_processed/Z刘家瑞20220302_bias_0.fif\n",
      "Opening raw data file ../SE_train\\Z刘家瑞20220302_bias_0.fif...\n",
      "Isotrak not found\n",
      "    Range : 46358 ... 54550 =     45.271 ...    53.271 secs\n",
      "Ready.\n",
      "data_256.shape (17, 2048)\n",
      "data_256_samples.shape (17, 4, 512)\n",
      "data_sta.shape (17, 4, 512)\n",
      "data_x.shape: (68, 512, 1)\n",
      "pred_channel.shape (17, 2048)\n"
     ]
    },
    {
     "name": "stderr",
     "output_type": "stream",
     "text": [
      "<ipython-input-4-780c8fcbedab>:73: RuntimeWarning: This filename (E:\\jupyter file\\EEG_process\\SE_train_processed\\Z刘家瑞20220228_bias_0.fif) does not conform to MNE naming conventions. All raw files should end with raw.fif, raw_sss.fif, raw_tsss.fif, _meg.fif, _eeg.fif, _ieeg.fif, raw.fif.gz, raw_sss.fif.gz, raw_tsss.fif.gz, _meg.fif.gz, _eeg.fif.gz or _ieeg.fif.gz\n",
      "  custom_raw.save(save_path,overwrite=True)\n",
      "<ipython-input-4-780c8fcbedab>:2: RuntimeWarning: This filename (../SE_train\\Z刘家瑞20220302_bias_0.fif) does not conform to MNE naming conventions. All raw files should end with raw.fif, raw_sss.fif, raw_tsss.fif, _meg.fif, _eeg.fif, _ieeg.fif, raw.fif.gz, raw_sss.fif.gz, raw_tsss.fif.gz, _meg.fif.gz, _eeg.fif.gz or _ieeg.fif.gz\n",
      "  raw = read_raw_fif(file_path)\n"
     ]
    },
    {
     "name": "stdout",
     "output_type": "stream",
     "text": [
      "Creating RawArray with float64 data, n_channels=17, n_times=2048\n",
      "    Range : 0 ... 2047 =      0.000 ...     7.996 secs\n",
      "Ready.\n",
      "Writing E:\\jupyter file\\EEG_process\\SE_train_processed\\Z刘家瑞20220302_bias_0.fif\n",
      "Closing E:\\jupyter file\\EEG_process\\SE_train_processed\\Z刘家瑞20220302_bias_0.fif\n",
      "[done]\n",
      "../SE_train_processed/Z周小凯20220314_bias_0.fif\n",
      "Opening raw data file ../SE_train\\Z周小凯20220314_bias_0.fif...\n",
      "Isotrak not found\n",
      "    Range : 147821 ... 156013 =    144.356 ...   152.356 secs\n",
      "Ready.\n",
      "data_256.shape (17, 2048)\n",
      "data_256_samples.shape (17, 4, 512)\n",
      "data_sta.shape (17, 4, 512)\n",
      "data_x.shape: (68, 512, 1)\n",
      "pred_channel.shape (17, 2048)\n"
     ]
    },
    {
     "name": "stderr",
     "output_type": "stream",
     "text": [
      "<ipython-input-4-780c8fcbedab>:73: RuntimeWarning: This filename (E:\\jupyter file\\EEG_process\\SE_train_processed\\Z刘家瑞20220302_bias_0.fif) does not conform to MNE naming conventions. All raw files should end with raw.fif, raw_sss.fif, raw_tsss.fif, _meg.fif, _eeg.fif, _ieeg.fif, raw.fif.gz, raw_sss.fif.gz, raw_tsss.fif.gz, _meg.fif.gz, _eeg.fif.gz or _ieeg.fif.gz\n",
      "  custom_raw.save(save_path,overwrite=True)\n",
      "<ipython-input-4-780c8fcbedab>:2: RuntimeWarning: This filename (../SE_train\\Z周小凯20220314_bias_0.fif) does not conform to MNE naming conventions. All raw files should end with raw.fif, raw_sss.fif, raw_tsss.fif, _meg.fif, _eeg.fif, _ieeg.fif, raw.fif.gz, raw_sss.fif.gz, raw_tsss.fif.gz, _meg.fif.gz, _eeg.fif.gz or _ieeg.fif.gz\n",
      "  raw = read_raw_fif(file_path)\n"
     ]
    },
    {
     "name": "stdout",
     "output_type": "stream",
     "text": [
      "Creating RawArray with float64 data, n_channels=17, n_times=2048\n",
      "    Range : 0 ... 2047 =      0.000 ...     7.996 secs\n",
      "Ready.\n",
      "Writing E:\\jupyter file\\EEG_process\\SE_train_processed\\Z周小凯20220314_bias_0.fif\n",
      "Closing E:\\jupyter file\\EEG_process\\SE_train_processed\\Z周小凯20220314_bias_0.fif\n",
      "[done]\n",
      "../SE_train_processed/Z周小凯20220316_bias_0.fif\n",
      "Opening raw data file ../SE_train\\Z周小凯20220316_bias_0.fif...\n",
      "Isotrak not found\n",
      "    Range : 101451 ... 109643 =     99.073 ...   107.073 secs\n",
      "Ready.\n",
      "data_256.shape (17, 2048)\n",
      "data_256_samples.shape (17, 4, 512)\n",
      "data_sta.shape (17, 4, 512)\n",
      "data_x.shape: (68, 512, 1)\n",
      "pred_channel.shape (17, 2048)\n",
      "Creating RawArray with float64 data, n_channels=17, n_times=2048\n"
     ]
    },
    {
     "name": "stderr",
     "output_type": "stream",
     "text": [
      "<ipython-input-4-780c8fcbedab>:73: RuntimeWarning: This filename (E:\\jupyter file\\EEG_process\\SE_train_processed\\Z周小凯20220314_bias_0.fif) does not conform to MNE naming conventions. All raw files should end with raw.fif, raw_sss.fif, raw_tsss.fif, _meg.fif, _eeg.fif, _ieeg.fif, raw.fif.gz, raw_sss.fif.gz, raw_tsss.fif.gz, _meg.fif.gz, _eeg.fif.gz or _ieeg.fif.gz\n",
      "  custom_raw.save(save_path,overwrite=True)\n",
      "<ipython-input-4-780c8fcbedab>:2: RuntimeWarning: This filename (../SE_train\\Z周小凯20220316_bias_0.fif) does not conform to MNE naming conventions. All raw files should end with raw.fif, raw_sss.fif, raw_tsss.fif, _meg.fif, _eeg.fif, _ieeg.fif, raw.fif.gz, raw_sss.fif.gz, raw_tsss.fif.gz, _meg.fif.gz, _eeg.fif.gz or _ieeg.fif.gz\n",
      "  raw = read_raw_fif(file_path)\n"
     ]
    },
    {
     "name": "stdout",
     "output_type": "stream",
     "text": [
      "    Range : 0 ... 2047 =      0.000 ...     7.996 secs\n",
      "Ready.\n",
      "Writing E:\\jupyter file\\EEG_process\\SE_train_processed\\Z周小凯20220316_bias_0.fif\n",
      "Closing E:\\jupyter file\\EEG_process\\SE_train_processed\\Z周小凯20220316_bias_0.fif\n",
      "[done]\n",
      "../SE_train_processed/Z周小凯20220318_bias_0.fif\n",
      "Opening raw data file ../SE_train\\Z周小凯20220318_bias_0.fif...\n",
      "Isotrak not found\n",
      "    Range : 995 ... 9187 =      0.972 ...     8.972 secs\n",
      "Ready.\n",
      "data_256.shape (17, 2048)\n",
      "data_256_samples.shape (17, 4, 512)\n",
      "data_sta.shape (17, 4, 512)\n",
      "data_x.shape: (68, 512, 1)\n",
      "pred_channel.shape (17, 2048)\n",
      "Creating RawArray with float64 data, n_channels=17, n_times=2048\n",
      "    Range : 0 ... 2047 =      0.000 ...     7.996 secs\n",
      "Ready.\n",
      "Writing E:\\jupyter file\\EEG_process\\SE_train_processed\\Z周小凯20220318_bias_0.fif\n",
      "Closing E:\\jupyter file\\EEG_process\\SE_train_processed\\Z周小凯20220318_bias_0.fif\n",
      "[done]\n"
     ]
    },
    {
     "name": "stderr",
     "output_type": "stream",
     "text": [
      "<ipython-input-4-780c8fcbedab>:73: RuntimeWarning: This filename (E:\\jupyter file\\EEG_process\\SE_train_processed\\Z周小凯20220316_bias_0.fif) does not conform to MNE naming conventions. All raw files should end with raw.fif, raw_sss.fif, raw_tsss.fif, _meg.fif, _eeg.fif, _ieeg.fif, raw.fif.gz, raw_sss.fif.gz, raw_tsss.fif.gz, _meg.fif.gz, _eeg.fif.gz or _ieeg.fif.gz\n",
      "  custom_raw.save(save_path,overwrite=True)\n",
      "<ipython-input-4-780c8fcbedab>:2: RuntimeWarning: This filename (../SE_train\\Z周小凯20220318_bias_0.fif) does not conform to MNE naming conventions. All raw files should end with raw.fif, raw_sss.fif, raw_tsss.fif, _meg.fif, _eeg.fif, _ieeg.fif, raw.fif.gz, raw_sss.fif.gz, raw_tsss.fif.gz, _meg.fif.gz, _eeg.fif.gz or _ieeg.fif.gz\n",
      "  raw = read_raw_fif(file_path)\n",
      "<ipython-input-4-780c8fcbedab>:73: RuntimeWarning: This filename (E:\\jupyter file\\EEG_process\\SE_train_processed\\Z周小凯20220318_bias_0.fif) does not conform to MNE naming conventions. All raw files should end with raw.fif, raw_sss.fif, raw_tsss.fif, _meg.fif, _eeg.fif, _ieeg.fif, raw.fif.gz, raw_sss.fif.gz, raw_tsss.fif.gz, _meg.fif.gz, _eeg.fif.gz or _ieeg.fif.gz\n",
      "  custom_raw.save(save_path,overwrite=True)\n"
     ]
    },
    {
     "name": "stdout",
     "output_type": "stream",
     "text": [
      "../SE_train_processed/Z周小凯20220321_bias_0.fif\n",
      "Opening raw data file ../SE_train\\Z周小凯20220321_bias_0.fif...\n",
      "Isotrak not found\n",
      "    Range : 61765 ... 69957 =     60.317 ...    68.317 secs\n",
      "Ready.\n",
      "data_256.shape (17, 2048)\n",
      "data_256_samples.shape (17, 4, 512)\n",
      "data_sta.shape (17, 4, 512)\n",
      "data_x.shape: (68, 512, 1)\n",
      "pred_channel.shape (17, 2048)\n"
     ]
    },
    {
     "name": "stderr",
     "output_type": "stream",
     "text": [
      "<ipython-input-4-780c8fcbedab>:2: RuntimeWarning: This filename (../SE_train\\Z周小凯20220321_bias_0.fif) does not conform to MNE naming conventions. All raw files should end with raw.fif, raw_sss.fif, raw_tsss.fif, _meg.fif, _eeg.fif, _ieeg.fif, raw.fif.gz, raw_sss.fif.gz, raw_tsss.fif.gz, _meg.fif.gz, _eeg.fif.gz or _ieeg.fif.gz\n",
      "  raw = read_raw_fif(file_path)\n"
     ]
    },
    {
     "name": "stdout",
     "output_type": "stream",
     "text": [
      "Creating RawArray with float64 data, n_channels=17, n_times=2048\n",
      "    Range : 0 ... 2047 =      0.000 ...     7.996 secs\n",
      "Ready.\n",
      "Writing E:\\jupyter file\\EEG_process\\SE_train_processed\\Z周小凯20220321_bias_0.fif\n",
      "Closing E:\\jupyter file\\EEG_process\\SE_train_processed\\Z周小凯20220321_bias_0.fif\n",
      "[done]\n",
      "../SE_train_processed/Z孙彭辉20220225_bias_0.fif\n",
      "Opening raw data file ../SE_train\\Z孙彭辉20220225_bias_0.fif...\n",
      "Isotrak not found\n",
      "    Range : 39640 ... 47832 =     38.711 ...    46.711 secs\n",
      "Ready.\n",
      "data_256.shape (17, 2048)\n",
      "data_256_samples.shape (17, 4, 512)\n",
      "data_sta.shape (17, 4, 512)\n",
      "data_x.shape: (68, 512, 1)\n",
      "pred_channel.shape (17, 2048)\n"
     ]
    },
    {
     "name": "stderr",
     "output_type": "stream",
     "text": [
      "<ipython-input-4-780c8fcbedab>:73: RuntimeWarning: This filename (E:\\jupyter file\\EEG_process\\SE_train_processed\\Z周小凯20220321_bias_0.fif) does not conform to MNE naming conventions. All raw files should end with raw.fif, raw_sss.fif, raw_tsss.fif, _meg.fif, _eeg.fif, _ieeg.fif, raw.fif.gz, raw_sss.fif.gz, raw_tsss.fif.gz, _meg.fif.gz, _eeg.fif.gz or _ieeg.fif.gz\n",
      "  custom_raw.save(save_path,overwrite=True)\n",
      "<ipython-input-4-780c8fcbedab>:2: RuntimeWarning: This filename (../SE_train\\Z孙彭辉20220225_bias_0.fif) does not conform to MNE naming conventions. All raw files should end with raw.fif, raw_sss.fif, raw_tsss.fif, _meg.fif, _eeg.fif, _ieeg.fif, raw.fif.gz, raw_sss.fif.gz, raw_tsss.fif.gz, _meg.fif.gz, _eeg.fif.gz or _ieeg.fif.gz\n",
      "  raw = read_raw_fif(file_path)\n"
     ]
    },
    {
     "name": "stdout",
     "output_type": "stream",
     "text": [
      "Creating RawArray with float64 data, n_channels=17, n_times=2048\n",
      "    Range : 0 ... 2047 =      0.000 ...     7.996 secs\n",
      "Ready.\n",
      "Writing E:\\jupyter file\\EEG_process\\SE_train_processed\\Z孙彭辉20220225_bias_0.fif\n",
      "Closing E:\\jupyter file\\EEG_process\\SE_train_processed\\Z孙彭辉20220225_bias_0.fif\n",
      "[done]\n",
      "../SE_train_processed/Z孙彭辉20220228_bias_0.fif\n",
      "Opening raw data file ../SE_train\\Z孙彭辉20220228_bias_0.fif...\n",
      "Isotrak not found\n",
      "    Range : 106204 ... 114396 =    103.715 ...   111.715 secs\n",
      "Ready.\n",
      "data_256.shape (17, 2048)\n",
      "data_256_samples.shape (17, 4, 512)\n",
      "data_sta.shape (17, 4, 512)\n",
      "data_x.shape: (68, 512, 1)\n",
      "pred_channel.shape (17, 2048)\n",
      "Creating RawArray with float64 data, n_channels=17, n_times=2048\n",
      "    Range : 0 ... 2047 =      0.000 ...     7.996 secs\n",
      "Ready.\n",
      "Writing E:\\jupyter file\\EEG_process\\SE_train_processed\\Z孙彭辉20220228_bias_0.fif\n"
     ]
    },
    {
     "name": "stderr",
     "output_type": "stream",
     "text": [
      "<ipython-input-4-780c8fcbedab>:73: RuntimeWarning: This filename (E:\\jupyter file\\EEG_process\\SE_train_processed\\Z孙彭辉20220225_bias_0.fif) does not conform to MNE naming conventions. All raw files should end with raw.fif, raw_sss.fif, raw_tsss.fif, _meg.fif, _eeg.fif, _ieeg.fif, raw.fif.gz, raw_sss.fif.gz, raw_tsss.fif.gz, _meg.fif.gz, _eeg.fif.gz or _ieeg.fif.gz\n",
      "  custom_raw.save(save_path,overwrite=True)\n",
      "<ipython-input-4-780c8fcbedab>:2: RuntimeWarning: This filename (../SE_train\\Z孙彭辉20220228_bias_0.fif) does not conform to MNE naming conventions. All raw files should end with raw.fif, raw_sss.fif, raw_tsss.fif, _meg.fif, _eeg.fif, _ieeg.fif, raw.fif.gz, raw_sss.fif.gz, raw_tsss.fif.gz, _meg.fif.gz, _eeg.fif.gz or _ieeg.fif.gz\n",
      "  raw = read_raw_fif(file_path)\n",
      "<ipython-input-4-780c8fcbedab>:73: RuntimeWarning: This filename (E:\\jupyter file\\EEG_process\\SE_train_processed\\Z孙彭辉20220228_bias_0.fif) does not conform to MNE naming conventions. All raw files should end with raw.fif, raw_sss.fif, raw_tsss.fif, _meg.fif, _eeg.fif, _ieeg.fif, raw.fif.gz, raw_sss.fif.gz, raw_tsss.fif.gz, _meg.fif.gz, _eeg.fif.gz or _ieeg.fif.gz\n",
      "  custom_raw.save(save_path,overwrite=True)\n"
     ]
    },
    {
     "name": "stdout",
     "output_type": "stream",
     "text": [
      "Closing E:\\jupyter file\\EEG_process\\SE_train_processed\\Z孙彭辉20220228_bias_0.fif\n",
      "[done]\n",
      "../SE_train_processed/Z孙彭辉20220302_bias_0.fif\n",
      "Opening raw data file ../SE_train\\Z孙彭辉20220302_bias_0.fif...\n",
      "Isotrak not found\n",
      "    Range : 54366 ... 62558 =     53.092 ...    61.092 secs\n",
      "Ready.\n",
      "data_256.shape (17, 2048)\n",
      "data_256_samples.shape (17, 4, 512)\n",
      "data_sta.shape (17, 4, 512)\n",
      "data_x.shape: (68, 512, 1)\n"
     ]
    },
    {
     "name": "stderr",
     "output_type": "stream",
     "text": [
      "<ipython-input-4-780c8fcbedab>:2: RuntimeWarning: This filename (../SE_train\\Z孙彭辉20220302_bias_0.fif) does not conform to MNE naming conventions. All raw files should end with raw.fif, raw_sss.fif, raw_tsss.fif, _meg.fif, _eeg.fif, _ieeg.fif, raw.fif.gz, raw_sss.fif.gz, raw_tsss.fif.gz, _meg.fif.gz, _eeg.fif.gz or _ieeg.fif.gz\n",
      "  raw = read_raw_fif(file_path)\n"
     ]
    },
    {
     "name": "stdout",
     "output_type": "stream",
     "text": [
      "pred_channel.shape (17, 2048)\n",
      "Creating RawArray with float64 data, n_channels=17, n_times=2048\n",
      "    Range : 0 ... 2047 =      0.000 ...     7.996 secs\n",
      "Ready.\n",
      "Writing E:\\jupyter file\\EEG_process\\SE_train_processed\\Z孙彭辉20220302_bias_0.fif\n",
      "Closing E:\\jupyter file\\EEG_process\\SE_train_processed\\Z孙彭辉20220302_bias_0.fif\n",
      "[done]\n",
      "../SE_train_processed/Z孙彭辉20220304_bias_0.fif\n",
      "Opening raw data file ../SE_train\\Z孙彭辉20220304_bias_0.fif...\n",
      "Isotrak not found\n",
      "    Range : 12352 ... 20544 =     12.062 ...    20.062 secs\n",
      "Ready.\n",
      "data_256.shape (17, 2048)\n",
      "data_256_samples.shape (17, 4, 512)\n",
      "data_sta.shape (17, 4, 512)\n",
      "data_x.shape: (68, 512, 1)\n"
     ]
    },
    {
     "name": "stderr",
     "output_type": "stream",
     "text": [
      "<ipython-input-4-780c8fcbedab>:73: RuntimeWarning: This filename (E:\\jupyter file\\EEG_process\\SE_train_processed\\Z孙彭辉20220302_bias_0.fif) does not conform to MNE naming conventions. All raw files should end with raw.fif, raw_sss.fif, raw_tsss.fif, _meg.fif, _eeg.fif, _ieeg.fif, raw.fif.gz, raw_sss.fif.gz, raw_tsss.fif.gz, _meg.fif.gz, _eeg.fif.gz or _ieeg.fif.gz\n",
      "  custom_raw.save(save_path,overwrite=True)\n",
      "<ipython-input-4-780c8fcbedab>:2: RuntimeWarning: This filename (../SE_train\\Z孙彭辉20220304_bias_0.fif) does not conform to MNE naming conventions. All raw files should end with raw.fif, raw_sss.fif, raw_tsss.fif, _meg.fif, _eeg.fif, _ieeg.fif, raw.fif.gz, raw_sss.fif.gz, raw_tsss.fif.gz, _meg.fif.gz, _eeg.fif.gz or _ieeg.fif.gz\n",
      "  raw = read_raw_fif(file_path)\n"
     ]
    },
    {
     "name": "stdout",
     "output_type": "stream",
     "text": [
      "pred_channel.shape (17, 2048)\n",
      "Creating RawArray with float64 data, n_channels=17, n_times=2048\n",
      "    Range : 0 ... 2047 =      0.000 ...     7.996 secs\n",
      "Ready.\n",
      "Writing E:\\jupyter file\\EEG_process\\SE_train_processed\\Z孙彭辉20220304_bias_0.fif\n",
      "Closing E:\\jupyter file\\EEG_process\\SE_train_processed\\Z孙彭辉20220304_bias_0.fif\n",
      "[done]\n",
      "../SE_train_processed/Z宋志辉20220318_bias_0.fif\n",
      "Opening raw data file ../SE_train\\Z宋志辉20220318_bias_0.fif...\n",
      "Isotrak not found\n",
      "    Range : 1938945 ... 1947137 =   1893.501 ...  1901.501 secs\n",
      "Ready.\n",
      "data_256.shape (17, 2048)\n",
      "data_256_samples.shape (17, 4, 512)\n",
      "data_sta.shape (17, 4, 512)\n",
      "data_x.shape: (68, 512, 1)\n"
     ]
    },
    {
     "name": "stderr",
     "output_type": "stream",
     "text": [
      "<ipython-input-4-780c8fcbedab>:73: RuntimeWarning: This filename (E:\\jupyter file\\EEG_process\\SE_train_processed\\Z孙彭辉20220304_bias_0.fif) does not conform to MNE naming conventions. All raw files should end with raw.fif, raw_sss.fif, raw_tsss.fif, _meg.fif, _eeg.fif, _ieeg.fif, raw.fif.gz, raw_sss.fif.gz, raw_tsss.fif.gz, _meg.fif.gz, _eeg.fif.gz or _ieeg.fif.gz\n",
      "  custom_raw.save(save_path,overwrite=True)\n",
      "<ipython-input-4-780c8fcbedab>:2: RuntimeWarning: This filename (../SE_train\\Z宋志辉20220318_bias_0.fif) does not conform to MNE naming conventions. All raw files should end with raw.fif, raw_sss.fif, raw_tsss.fif, _meg.fif, _eeg.fif, _ieeg.fif, raw.fif.gz, raw_sss.fif.gz, raw_tsss.fif.gz, _meg.fif.gz, _eeg.fif.gz or _ieeg.fif.gz\n",
      "  raw = read_raw_fif(file_path)\n"
     ]
    },
    {
     "name": "stdout",
     "output_type": "stream",
     "text": [
      "pred_channel.shape (17, 2048)\n",
      "Creating RawArray with float64 data, n_channels=17, n_times=2048\n",
      "    Range : 0 ... 2047 =      0.000 ...     7.996 secs\n",
      "Ready.\n",
      "Writing E:\\jupyter file\\EEG_process\\SE_train_processed\\Z宋志辉20220318_bias_0.fif\n",
      "Closing E:\\jupyter file\\EEG_process\\SE_train_processed\\Z宋志辉20220318_bias_0.fif\n",
      "[done]\n",
      "../SE_train_processed/Z宋志辉20220321_bias_0.fif\n",
      "Opening raw data file ../SE_train\\Z宋志辉20220321_bias_0.fif...\n",
      "Isotrak not found\n",
      "    Range : 45152 ... 53344 =     44.094 ...    52.094 secs\n",
      "Ready.\n",
      "data_256.shape (17, 2048)\n",
      "data_256_samples.shape (17, 4, 512)\n",
      "data_sta.shape (17, 4, 512)\n",
      "data_x.shape: (68, 512, 1)\n"
     ]
    },
    {
     "name": "stderr",
     "output_type": "stream",
     "text": [
      "<ipython-input-4-780c8fcbedab>:73: RuntimeWarning: This filename (E:\\jupyter file\\EEG_process\\SE_train_processed\\Z宋志辉20220318_bias_0.fif) does not conform to MNE naming conventions. All raw files should end with raw.fif, raw_sss.fif, raw_tsss.fif, _meg.fif, _eeg.fif, _ieeg.fif, raw.fif.gz, raw_sss.fif.gz, raw_tsss.fif.gz, _meg.fif.gz, _eeg.fif.gz or _ieeg.fif.gz\n",
      "  custom_raw.save(save_path,overwrite=True)\n",
      "<ipython-input-4-780c8fcbedab>:2: RuntimeWarning: This filename (../SE_train\\Z宋志辉20220321_bias_0.fif) does not conform to MNE naming conventions. All raw files should end with raw.fif, raw_sss.fif, raw_tsss.fif, _meg.fif, _eeg.fif, _ieeg.fif, raw.fif.gz, raw_sss.fif.gz, raw_tsss.fif.gz, _meg.fif.gz, _eeg.fif.gz or _ieeg.fif.gz\n",
      "  raw = read_raw_fif(file_path)\n"
     ]
    },
    {
     "name": "stdout",
     "output_type": "stream",
     "text": [
      "pred_channel.shape (17, 2048)\n",
      "Creating RawArray with float64 data, n_channels=17, n_times=2048\n",
      "    Range : 0 ... 2047 =      0.000 ...     7.996 secs\n",
      "Ready.\n",
      "Writing E:\\jupyter file\\EEG_process\\SE_train_processed\\Z宋志辉20220321_bias_0.fif\n",
      "Closing E:\\jupyter file\\EEG_process\\SE_train_processed\\Z宋志辉20220321_bias_0.fif\n",
      "[done]\n",
      "../SE_train_processed/Z宋志辉20220323_bias_0.fif\n",
      "Opening raw data file ../SE_train\\Z宋志辉20220323_bias_0.fif...\n",
      "Isotrak not found\n",
      "    Range : 114314 ... 122506 =    111.635 ...   119.635 secs\n",
      "Ready.\n",
      "data_256.shape (17, 2048)\n",
      "data_256_samples.shape (17, 4, 512)\n",
      "data_sta.shape (17, 4, 512)\n",
      "data_x.shape: (68, 512, 1)\n"
     ]
    },
    {
     "name": "stderr",
     "output_type": "stream",
     "text": [
      "<ipython-input-4-780c8fcbedab>:73: RuntimeWarning: This filename (E:\\jupyter file\\EEG_process\\SE_train_processed\\Z宋志辉20220321_bias_0.fif) does not conform to MNE naming conventions. All raw files should end with raw.fif, raw_sss.fif, raw_tsss.fif, _meg.fif, _eeg.fif, _ieeg.fif, raw.fif.gz, raw_sss.fif.gz, raw_tsss.fif.gz, _meg.fif.gz, _eeg.fif.gz or _ieeg.fif.gz\n",
      "  custom_raw.save(save_path,overwrite=True)\n",
      "<ipython-input-4-780c8fcbedab>:2: RuntimeWarning: This filename (../SE_train\\Z宋志辉20220323_bias_0.fif) does not conform to MNE naming conventions. All raw files should end with raw.fif, raw_sss.fif, raw_tsss.fif, _meg.fif, _eeg.fif, _ieeg.fif, raw.fif.gz, raw_sss.fif.gz, raw_tsss.fif.gz, _meg.fif.gz, _eeg.fif.gz or _ieeg.fif.gz\n",
      "  raw = read_raw_fif(file_path)\n"
     ]
    },
    {
     "name": "stdout",
     "output_type": "stream",
     "text": [
      "pred_channel.shape (17, 2048)\n",
      "Creating RawArray with float64 data, n_channels=17, n_times=2048\n",
      "    Range : 0 ... 2047 =      0.000 ...     7.996 secs\n",
      "Ready.\n",
      "Writing E:\\jupyter file\\EEG_process\\SE_train_processed\\Z宋志辉20220323_bias_0.fif\n",
      "Closing E:\\jupyter file\\EEG_process\\SE_train_processed\\Z宋志辉20220323_bias_0.fif\n",
      "[done]\n",
      "../SE_train_processed/Z宋志辉20220325_bias_0.fif\n",
      "Opening raw data file ../SE_train\\Z宋志辉20220325_bias_0.fif...\n",
      "Isotrak not found\n",
      "    Range : 30885 ... 39077 =     30.161 ...    38.161 secs\n",
      "Ready.\n",
      "data_256.shape (17, 2048)\n",
      "data_256_samples.shape (17, 4, 512)\n",
      "data_sta.shape (17, 4, 512)\n",
      "data_x.shape: (68, 512, 1)\n"
     ]
    },
    {
     "name": "stderr",
     "output_type": "stream",
     "text": [
      "<ipython-input-4-780c8fcbedab>:73: RuntimeWarning: This filename (E:\\jupyter file\\EEG_process\\SE_train_processed\\Z宋志辉20220323_bias_0.fif) does not conform to MNE naming conventions. All raw files should end with raw.fif, raw_sss.fif, raw_tsss.fif, _meg.fif, _eeg.fif, _ieeg.fif, raw.fif.gz, raw_sss.fif.gz, raw_tsss.fif.gz, _meg.fif.gz, _eeg.fif.gz or _ieeg.fif.gz\n",
      "  custom_raw.save(save_path,overwrite=True)\n",
      "<ipython-input-4-780c8fcbedab>:2: RuntimeWarning: This filename (../SE_train\\Z宋志辉20220325_bias_0.fif) does not conform to MNE naming conventions. All raw files should end with raw.fif, raw_sss.fif, raw_tsss.fif, _meg.fif, _eeg.fif, _ieeg.fif, raw.fif.gz, raw_sss.fif.gz, raw_tsss.fif.gz, _meg.fif.gz, _eeg.fif.gz or _ieeg.fif.gz\n",
      "  raw = read_raw_fif(file_path)\n"
     ]
    },
    {
     "name": "stdout",
     "output_type": "stream",
     "text": [
      "pred_channel.shape (17, 2048)\n",
      "Creating RawArray with float64 data, n_channels=17, n_times=2048\n",
      "    Range : 0 ... 2047 =      0.000 ...     7.996 secs\n",
      "Ready.\n",
      "Writing E:\\jupyter file\\EEG_process\\SE_train_processed\\Z宋志辉20220325_bias_0.fif\n",
      "Closing E:\\jupyter file\\EEG_process\\SE_train_processed\\Z宋志辉20220325_bias_0.fif\n",
      "[done]\n",
      "../SE_train_processed/Z张璐20220225_bias_0.fif\n",
      "Opening raw data file ../SE_train\\Z张璐20220225_bias_0.fif...\n",
      "Isotrak not found\n",
      "    Range : 25166 ... 33358 =     24.576 ...    32.576 secs\n",
      "Ready.\n",
      "data_256.shape (17, 2048)\n",
      "data_256_samples.shape (17, 4, 512)\n",
      "data_sta.shape (17, 4, 512)\n",
      "data_x.shape: (68, 512, 1)\n"
     ]
    },
    {
     "name": "stderr",
     "output_type": "stream",
     "text": [
      "<ipython-input-4-780c8fcbedab>:73: RuntimeWarning: This filename (E:\\jupyter file\\EEG_process\\SE_train_processed\\Z宋志辉20220325_bias_0.fif) does not conform to MNE naming conventions. All raw files should end with raw.fif, raw_sss.fif, raw_tsss.fif, _meg.fif, _eeg.fif, _ieeg.fif, raw.fif.gz, raw_sss.fif.gz, raw_tsss.fif.gz, _meg.fif.gz, _eeg.fif.gz or _ieeg.fif.gz\n",
      "  custom_raw.save(save_path,overwrite=True)\n",
      "<ipython-input-4-780c8fcbedab>:2: RuntimeWarning: This filename (../SE_train\\Z张璐20220225_bias_0.fif) does not conform to MNE naming conventions. All raw files should end with raw.fif, raw_sss.fif, raw_tsss.fif, _meg.fif, _eeg.fif, _ieeg.fif, raw.fif.gz, raw_sss.fif.gz, raw_tsss.fif.gz, _meg.fif.gz, _eeg.fif.gz or _ieeg.fif.gz\n",
      "  raw = read_raw_fif(file_path)\n"
     ]
    },
    {
     "name": "stdout",
     "output_type": "stream",
     "text": [
      "pred_channel.shape (17, 2048)\n",
      "Creating RawArray with float64 data, n_channels=17, n_times=2048\n",
      "    Range : 0 ... 2047 =      0.000 ...     7.996 secs\n",
      "Ready.\n",
      "Writing E:\\jupyter file\\EEG_process\\SE_train_processed\\Z张璐20220225_bias_0.fif\n",
      "Closing E:\\jupyter file\\EEG_process\\SE_train_processed\\Z张璐20220225_bias_0.fif\n",
      "[done]\n",
      "../SE_train_processed/Z张璐20220228_bias_0.fif\n",
      "Opening raw data file ../SE_train\\Z张璐20220228_bias_0.fif...\n",
      "Isotrak not found\n",
      "    Range : 189771 ... 197963 =    185.323 ...   193.323 secs\n",
      "Ready.\n",
      "data_256.shape (17, 2048)\n",
      "data_256_samples.shape (17, 4, 512)\n",
      "data_sta.shape (17, 4, 512)\n",
      "data_x.shape: (68, 512, 1)\n"
     ]
    },
    {
     "name": "stderr",
     "output_type": "stream",
     "text": [
      "<ipython-input-4-780c8fcbedab>:73: RuntimeWarning: This filename (E:\\jupyter file\\EEG_process\\SE_train_processed\\Z张璐20220225_bias_0.fif) does not conform to MNE naming conventions. All raw files should end with raw.fif, raw_sss.fif, raw_tsss.fif, _meg.fif, _eeg.fif, _ieeg.fif, raw.fif.gz, raw_sss.fif.gz, raw_tsss.fif.gz, _meg.fif.gz, _eeg.fif.gz or _ieeg.fif.gz\n",
      "  custom_raw.save(save_path,overwrite=True)\n",
      "<ipython-input-4-780c8fcbedab>:2: RuntimeWarning: This filename (../SE_train\\Z张璐20220228_bias_0.fif) does not conform to MNE naming conventions. All raw files should end with raw.fif, raw_sss.fif, raw_tsss.fif, _meg.fif, _eeg.fif, _ieeg.fif, raw.fif.gz, raw_sss.fif.gz, raw_tsss.fif.gz, _meg.fif.gz, _eeg.fif.gz or _ieeg.fif.gz\n",
      "  raw = read_raw_fif(file_path)\n"
     ]
    },
    {
     "name": "stdout",
     "output_type": "stream",
     "text": [
      "pred_channel.shape (17, 2048)\n",
      "Creating RawArray with float64 data, n_channels=17, n_times=2048\n",
      "    Range : 0 ... 2047 =      0.000 ...     7.996 secs\n",
      "Ready.\n",
      "Writing E:\\jupyter file\\EEG_process\\SE_train_processed\\Z张璐20220228_bias_0.fif\n",
      "Closing E:\\jupyter file\\EEG_process\\SE_train_processed\\Z张璐20220228_bias_0.fif\n",
      "[done]\n",
      "../SE_train_processed/Z张璐20220302_bias_0.fif\n",
      "Opening raw data file ../SE_train\\Z张璐20220302_bias_0.fif...\n",
      "Isotrak not found\n",
      "    Range : 22362 ... 30554 =     21.838 ...    29.838 secs\n",
      "Ready.\n",
      "data_256.shape (17, 2048)\n",
      "data_256_samples.shape (17, 4, 512)\n",
      "data_sta.shape (17, 4, 512)\n",
      "data_x.shape: (68, 512, 1)\n"
     ]
    },
    {
     "name": "stderr",
     "output_type": "stream",
     "text": [
      "<ipython-input-4-780c8fcbedab>:73: RuntimeWarning: This filename (E:\\jupyter file\\EEG_process\\SE_train_processed\\Z张璐20220228_bias_0.fif) does not conform to MNE naming conventions. All raw files should end with raw.fif, raw_sss.fif, raw_tsss.fif, _meg.fif, _eeg.fif, _ieeg.fif, raw.fif.gz, raw_sss.fif.gz, raw_tsss.fif.gz, _meg.fif.gz, _eeg.fif.gz or _ieeg.fif.gz\n",
      "  custom_raw.save(save_path,overwrite=True)\n",
      "<ipython-input-4-780c8fcbedab>:2: RuntimeWarning: This filename (../SE_train\\Z张璐20220302_bias_0.fif) does not conform to MNE naming conventions. All raw files should end with raw.fif, raw_sss.fif, raw_tsss.fif, _meg.fif, _eeg.fif, _ieeg.fif, raw.fif.gz, raw_sss.fif.gz, raw_tsss.fif.gz, _meg.fif.gz, _eeg.fif.gz or _ieeg.fif.gz\n",
      "  raw = read_raw_fif(file_path)\n"
     ]
    },
    {
     "name": "stdout",
     "output_type": "stream",
     "text": [
      "pred_channel.shape (17, 2048)\n",
      "Creating RawArray with float64 data, n_channels=17, n_times=2048\n",
      "    Range : 0 ... 2047 =      0.000 ...     7.996 secs\n",
      "Ready.\n",
      "Writing E:\\jupyter file\\EEG_process\\SE_train_processed\\Z张璐20220302_bias_0.fif\n",
      "Closing E:\\jupyter file\\EEG_process\\SE_train_processed\\Z张璐20220302_bias_0.fif\n",
      "[done]\n",
      "../SE_train_processed/Z曾刚20220216_bias_0.fif\n",
      "Opening raw data file ../SE_train\\Z曾刚20220216_bias_0.fif...\n",
      "Isotrak not found\n",
      "    Range : 38680 ... 46872 =     37.773 ...    45.773 secs\n",
      "Ready.\n",
      "data_256.shape (17, 2048)\n",
      "data_256_samples.shape (17, 4, 512)\n",
      "data_sta.shape (17, 4, 512)\n",
      "data_x.shape: (68, 512, 1)\n"
     ]
    },
    {
     "name": "stderr",
     "output_type": "stream",
     "text": [
      "<ipython-input-4-780c8fcbedab>:73: RuntimeWarning: This filename (E:\\jupyter file\\EEG_process\\SE_train_processed\\Z张璐20220302_bias_0.fif) does not conform to MNE naming conventions. All raw files should end with raw.fif, raw_sss.fif, raw_tsss.fif, _meg.fif, _eeg.fif, _ieeg.fif, raw.fif.gz, raw_sss.fif.gz, raw_tsss.fif.gz, _meg.fif.gz, _eeg.fif.gz or _ieeg.fif.gz\n",
      "  custom_raw.save(save_path,overwrite=True)\n",
      "<ipython-input-4-780c8fcbedab>:2: RuntimeWarning: This filename (../SE_train\\Z曾刚20220216_bias_0.fif) does not conform to MNE naming conventions. All raw files should end with raw.fif, raw_sss.fif, raw_tsss.fif, _meg.fif, _eeg.fif, _ieeg.fif, raw.fif.gz, raw_sss.fif.gz, raw_tsss.fif.gz, _meg.fif.gz, _eeg.fif.gz or _ieeg.fif.gz\n",
      "  raw = read_raw_fif(file_path)\n"
     ]
    },
    {
     "name": "stdout",
     "output_type": "stream",
     "text": [
      "pred_channel.shape (17, 2048)\n",
      "Creating RawArray with float64 data, n_channels=17, n_times=2048\n",
      "    Range : 0 ... 2047 =      0.000 ...     7.996 secs\n",
      "Ready.\n",
      "Writing E:\\jupyter file\\EEG_process\\SE_train_processed\\Z曾刚20220216_bias_0.fif\n",
      "Closing E:\\jupyter file\\EEG_process\\SE_train_processed\\Z曾刚20220216_bias_0.fif\n",
      "[done]\n",
      "../SE_train_processed/Z曾刚20220218（未发作）_bias_0.fif\n",
      "Opening raw data file ../SE_train\\Z曾刚20220218（未发作）_bias_0.fif...\n",
      "Isotrak not found\n",
      "    Range : 219924 ... 228116 =    214.770 ...   222.770 secs\n",
      "Ready.\n",
      "data_256.shape (17, 2048)\n",
      "data_256_samples.shape (17, 4, 512)\n",
      "data_sta.shape (17, 4, 512)\n",
      "data_x.shape: (68, 512, 1)\n"
     ]
    },
    {
     "name": "stderr",
     "output_type": "stream",
     "text": [
      "<ipython-input-4-780c8fcbedab>:73: RuntimeWarning: This filename (E:\\jupyter file\\EEG_process\\SE_train_processed\\Z曾刚20220216_bias_0.fif) does not conform to MNE naming conventions. All raw files should end with raw.fif, raw_sss.fif, raw_tsss.fif, _meg.fif, _eeg.fif, _ieeg.fif, raw.fif.gz, raw_sss.fif.gz, raw_tsss.fif.gz, _meg.fif.gz, _eeg.fif.gz or _ieeg.fif.gz\n",
      "  custom_raw.save(save_path,overwrite=True)\n",
      "<ipython-input-4-780c8fcbedab>:2: RuntimeWarning: This filename (../SE_train\\Z曾刚20220218（未发作）_bias_0.fif) does not conform to MNE naming conventions. All raw files should end with raw.fif, raw_sss.fif, raw_tsss.fif, _meg.fif, _eeg.fif, _ieeg.fif, raw.fif.gz, raw_sss.fif.gz, raw_tsss.fif.gz, _meg.fif.gz, _eeg.fif.gz or _ieeg.fif.gz\n",
      "  raw = read_raw_fif(file_path)\n"
     ]
    },
    {
     "name": "stdout",
     "output_type": "stream",
     "text": [
      "pred_channel.shape (17, 2048)\n",
      "Creating RawArray with float64 data, n_channels=17, n_times=2048\n",
      "    Range : 0 ... 2047 =      0.000 ...     7.996 secs\n",
      "Ready.\n",
      "Writing E:\\jupyter file\\EEG_process\\SE_train_processed\\Z曾刚20220218（未发作）_bias_0.fif\n",
      "Closing E:\\jupyter file\\EEG_process\\SE_train_processed\\Z曾刚20220218（未发作）_bias_0.fif\n",
      "[done]\n",
      "../SE_train_processed/Z曾刚20220218（未发作）_bias_16.fif\n",
      "Opening raw data file ../SE_train\\Z曾刚20220218（未发作）_bias_16.fif...\n",
      "Isotrak not found\n",
      "    Range : 236308 ... 252692 =    230.770 ...   246.770 secs\n",
      "Ready.\n",
      "data_256.shape (17, 2048)\n",
      "data_256_samples.shape (17, 4, 512)\n",
      "data_sta.shape (17, 4, 512)\n",
      "data_x.shape: (68, 512, 1)\n"
     ]
    },
    {
     "name": "stderr",
     "output_type": "stream",
     "text": [
      "<ipython-input-4-780c8fcbedab>:73: RuntimeWarning: This filename (E:\\jupyter file\\EEG_process\\SE_train_processed\\Z曾刚20220218（未发作）_bias_0.fif) does not conform to MNE naming conventions. All raw files should end with raw.fif, raw_sss.fif, raw_tsss.fif, _meg.fif, _eeg.fif, _ieeg.fif, raw.fif.gz, raw_sss.fif.gz, raw_tsss.fif.gz, _meg.fif.gz, _eeg.fif.gz or _ieeg.fif.gz\n",
      "  custom_raw.save(save_path,overwrite=True)\n",
      "<ipython-input-4-780c8fcbedab>:2: RuntimeWarning: This filename (../SE_train\\Z曾刚20220218（未发作）_bias_16.fif) does not conform to MNE naming conventions. All raw files should end with raw.fif, raw_sss.fif, raw_tsss.fif, _meg.fif, _eeg.fif, _ieeg.fif, raw.fif.gz, raw_sss.fif.gz, raw_tsss.fif.gz, _meg.fif.gz, _eeg.fif.gz or _ieeg.fif.gz\n",
      "  raw = read_raw_fif(file_path)\n"
     ]
    },
    {
     "name": "stdout",
     "output_type": "stream",
     "text": [
      "pred_channel.shape (17, 2048)\n",
      "Creating RawArray with float64 data, n_channels=17, n_times=2048\n",
      "    Range : 0 ... 2047 =      0.000 ...     7.996 secs\n",
      "Ready.\n",
      "Writing E:\\jupyter file\\EEG_process\\SE_train_processed\\Z曾刚20220218（未发作）_bias_16.fif\n",
      "Closing E:\\jupyter file\\EEG_process\\SE_train_processed\\Z曾刚20220218（未发作）_bias_16.fif\n",
      "[done]\n",
      "../SE_train_processed/Z曾刚20220218（未发作）_bias_24.fif\n",
      "Opening raw data file ../SE_train\\Z曾刚20220218（未发作）_bias_24.fif...\n",
      "Isotrak not found\n",
      "    Range : 244500 ... 260884 =    238.770 ...   254.770 secs\n",
      "Ready.\n",
      "data_256.shape (17, 2048)\n",
      "data_256_samples.shape (17, 4, 512)\n",
      "data_sta.shape (17, 4, 512)\n",
      "data_x.shape: (68, 512, 1)\n"
     ]
    },
    {
     "name": "stderr",
     "output_type": "stream",
     "text": [
      "<ipython-input-4-780c8fcbedab>:73: RuntimeWarning: This filename (E:\\jupyter file\\EEG_process\\SE_train_processed\\Z曾刚20220218（未发作）_bias_16.fif) does not conform to MNE naming conventions. All raw files should end with raw.fif, raw_sss.fif, raw_tsss.fif, _meg.fif, _eeg.fif, _ieeg.fif, raw.fif.gz, raw_sss.fif.gz, raw_tsss.fif.gz, _meg.fif.gz, _eeg.fif.gz or _ieeg.fif.gz\n",
      "  custom_raw.save(save_path,overwrite=True)\n",
      "<ipython-input-4-780c8fcbedab>:2: RuntimeWarning: This filename (../SE_train\\Z曾刚20220218（未发作）_bias_24.fif) does not conform to MNE naming conventions. All raw files should end with raw.fif, raw_sss.fif, raw_tsss.fif, _meg.fif, _eeg.fif, _ieeg.fif, raw.fif.gz, raw_sss.fif.gz, raw_tsss.fif.gz, _meg.fif.gz, _eeg.fif.gz or _ieeg.fif.gz\n",
      "  raw = read_raw_fif(file_path)\n"
     ]
    },
    {
     "name": "stdout",
     "output_type": "stream",
     "text": [
      "pred_channel.shape (17, 2048)\n",
      "Creating RawArray with float64 data, n_channels=17, n_times=2048\n",
      "    Range : 0 ... 2047 =      0.000 ...     7.996 secs\n",
      "Ready.\n",
      "Writing E:\\jupyter file\\EEG_process\\SE_train_processed\\Z曾刚20220218（未发作）_bias_24.fif\n",
      "Closing E:\\jupyter file\\EEG_process\\SE_train_processed\\Z曾刚20220218（未发作）_bias_24.fif\n",
      "[done]\n",
      "../SE_train_processed/Z曾刚20220218（未发作）_bias_32.fif\n",
      "Opening raw data file ../SE_train\\Z曾刚20220218（未发作）_bias_32.fif...\n",
      "Isotrak not found\n",
      "    Range : 252692 ... 269076 =    246.770 ...   262.770 secs\n",
      "Ready.\n",
      "data_256.shape (17, 2048)\n",
      "data_256_samples.shape (17, 4, 512)\n",
      "data_sta.shape (17, 4, 512)\n",
      "data_x.shape: (68, 512, 1)\n"
     ]
    },
    {
     "name": "stderr",
     "output_type": "stream",
     "text": [
      "<ipython-input-4-780c8fcbedab>:73: RuntimeWarning: This filename (E:\\jupyter file\\EEG_process\\SE_train_processed\\Z曾刚20220218（未发作）_bias_24.fif) does not conform to MNE naming conventions. All raw files should end with raw.fif, raw_sss.fif, raw_tsss.fif, _meg.fif, _eeg.fif, _ieeg.fif, raw.fif.gz, raw_sss.fif.gz, raw_tsss.fif.gz, _meg.fif.gz, _eeg.fif.gz or _ieeg.fif.gz\n",
      "  custom_raw.save(save_path,overwrite=True)\n",
      "<ipython-input-4-780c8fcbedab>:2: RuntimeWarning: This filename (../SE_train\\Z曾刚20220218（未发作）_bias_32.fif) does not conform to MNE naming conventions. All raw files should end with raw.fif, raw_sss.fif, raw_tsss.fif, _meg.fif, _eeg.fif, _ieeg.fif, raw.fif.gz, raw_sss.fif.gz, raw_tsss.fif.gz, _meg.fif.gz, _eeg.fif.gz or _ieeg.fif.gz\n",
      "  raw = read_raw_fif(file_path)\n"
     ]
    },
    {
     "name": "stdout",
     "output_type": "stream",
     "text": [
      "pred_channel.shape (17, 2048)\n",
      "Creating RawArray with float64 data, n_channels=17, n_times=2048\n",
      "    Range : 0 ... 2047 =      0.000 ...     7.996 secs\n",
      "Ready.\n",
      "Writing E:\\jupyter file\\EEG_process\\SE_train_processed\\Z曾刚20220218（未发作）_bias_32.fif\n",
      "Closing E:\\jupyter file\\EEG_process\\SE_train_processed\\Z曾刚20220218（未发作）_bias_32.fif\n",
      "[done]\n",
      "../SE_train_processed/Z曾刚20220218（未发作）_bias_40.fif\n",
      "Opening raw data file ../SE_train\\Z曾刚20220218（未发作）_bias_40.fif...\n",
      "Isotrak not found\n",
      "    Range : 260884 ... 277268 =    254.770 ...   270.770 secs\n",
      "Ready.\n",
      "data_256.shape (17, 2048)\n",
      "data_256_samples.shape (17, 4, 512)\n",
      "data_sta.shape (17, 4, 512)\n",
      "data_x.shape: (68, 512, 1)\n"
     ]
    },
    {
     "name": "stderr",
     "output_type": "stream",
     "text": [
      "<ipython-input-4-780c8fcbedab>:73: RuntimeWarning: This filename (E:\\jupyter file\\EEG_process\\SE_train_processed\\Z曾刚20220218（未发作）_bias_32.fif) does not conform to MNE naming conventions. All raw files should end with raw.fif, raw_sss.fif, raw_tsss.fif, _meg.fif, _eeg.fif, _ieeg.fif, raw.fif.gz, raw_sss.fif.gz, raw_tsss.fif.gz, _meg.fif.gz, _eeg.fif.gz or _ieeg.fif.gz\n",
      "  custom_raw.save(save_path,overwrite=True)\n",
      "<ipython-input-4-780c8fcbedab>:2: RuntimeWarning: This filename (../SE_train\\Z曾刚20220218（未发作）_bias_40.fif) does not conform to MNE naming conventions. All raw files should end with raw.fif, raw_sss.fif, raw_tsss.fif, _meg.fif, _eeg.fif, _ieeg.fif, raw.fif.gz, raw_sss.fif.gz, raw_tsss.fif.gz, _meg.fif.gz, _eeg.fif.gz or _ieeg.fif.gz\n",
      "  raw = read_raw_fif(file_path)\n"
     ]
    },
    {
     "name": "stdout",
     "output_type": "stream",
     "text": [
      "pred_channel.shape (17, 2048)\n",
      "Creating RawArray with float64 data, n_channels=17, n_times=2048\n",
      "    Range : 0 ... 2047 =      0.000 ...     7.996 secs\n",
      "Ready.\n",
      "Writing E:\\jupyter file\\EEG_process\\SE_train_processed\\Z曾刚20220218（未发作）_bias_40.fif\n",
      "Closing E:\\jupyter file\\EEG_process\\SE_train_processed\\Z曾刚20220218（未发作）_bias_40.fif\n",
      "[done]\n",
      "../SE_train_processed/Z曾刚20220218（未发作）_bias_8.fif\n",
      "Opening raw data file ../SE_train\\Z曾刚20220218（未发作）_bias_8.fif...\n",
      "Isotrak not found\n",
      "    Range : 228116 ... 244500 =    222.770 ...   238.770 secs\n",
      "Ready.\n",
      "data_256.shape (17, 2048)\n",
      "data_256_samples.shape (17, 4, 512)\n",
      "data_sta.shape (17, 4, 512)\n",
      "data_x.shape: (68, 512, 1)\n"
     ]
    },
    {
     "name": "stderr",
     "output_type": "stream",
     "text": [
      "<ipython-input-4-780c8fcbedab>:73: RuntimeWarning: This filename (E:\\jupyter file\\EEG_process\\SE_train_processed\\Z曾刚20220218（未发作）_bias_40.fif) does not conform to MNE naming conventions. All raw files should end with raw.fif, raw_sss.fif, raw_tsss.fif, _meg.fif, _eeg.fif, _ieeg.fif, raw.fif.gz, raw_sss.fif.gz, raw_tsss.fif.gz, _meg.fif.gz, _eeg.fif.gz or _ieeg.fif.gz\n",
      "  custom_raw.save(save_path,overwrite=True)\n",
      "<ipython-input-4-780c8fcbedab>:2: RuntimeWarning: This filename (../SE_train\\Z曾刚20220218（未发作）_bias_8.fif) does not conform to MNE naming conventions. All raw files should end with raw.fif, raw_sss.fif, raw_tsss.fif, _meg.fif, _eeg.fif, _ieeg.fif, raw.fif.gz, raw_sss.fif.gz, raw_tsss.fif.gz, _meg.fif.gz, _eeg.fif.gz or _ieeg.fif.gz\n",
      "  raw = read_raw_fif(file_path)\n"
     ]
    },
    {
     "name": "stdout",
     "output_type": "stream",
     "text": [
      "pred_channel.shape (17, 2048)\n",
      "Creating RawArray with float64 data, n_channels=17, n_times=2048\n",
      "    Range : 0 ... 2047 =      0.000 ...     7.996 secs\n",
      "Ready.\n",
      "Writing E:\\jupyter file\\EEG_process\\SE_train_processed\\Z曾刚20220218（未发作）_bias_8.fif\n",
      "Closing E:\\jupyter file\\EEG_process\\SE_train_processed\\Z曾刚20220218（未发作）_bias_8.fif\n",
      "[done]\n",
      "../SE_train_processed/Z曾刚20220221_bias_0.fif\n",
      "Opening raw data file ../SE_train\\Z曾刚20220221_bias_0.fif...\n",
      "Isotrak not found\n",
      "    Range : 17807 ... 25999 =     17.390 ...    25.390 secs\n",
      "Ready.\n",
      "data_256.shape (17, 2048)\n",
      "data_256_samples.shape (17, 4, 512)\n",
      "data_sta.shape (17, 4, 512)\n",
      "data_x.shape: (68, 512, 1)\n"
     ]
    },
    {
     "name": "stderr",
     "output_type": "stream",
     "text": [
      "<ipython-input-4-780c8fcbedab>:73: RuntimeWarning: This filename (E:\\jupyter file\\EEG_process\\SE_train_processed\\Z曾刚20220218（未发作）_bias_8.fif) does not conform to MNE naming conventions. All raw files should end with raw.fif, raw_sss.fif, raw_tsss.fif, _meg.fif, _eeg.fif, _ieeg.fif, raw.fif.gz, raw_sss.fif.gz, raw_tsss.fif.gz, _meg.fif.gz, _eeg.fif.gz or _ieeg.fif.gz\n",
      "  custom_raw.save(save_path,overwrite=True)\n",
      "<ipython-input-4-780c8fcbedab>:2: RuntimeWarning: This filename (../SE_train\\Z曾刚20220221_bias_0.fif) does not conform to MNE naming conventions. All raw files should end with raw.fif, raw_sss.fif, raw_tsss.fif, _meg.fif, _eeg.fif, _ieeg.fif, raw.fif.gz, raw_sss.fif.gz, raw_tsss.fif.gz, _meg.fif.gz, _eeg.fif.gz or _ieeg.fif.gz\n",
      "  raw = read_raw_fif(file_path)\n"
     ]
    },
    {
     "name": "stdout",
     "output_type": "stream",
     "text": [
      "pred_channel.shape (17, 2048)\n",
      "Creating RawArray with float64 data, n_channels=17, n_times=2048\n",
      "    Range : 0 ... 2047 =      0.000 ...     7.996 secs\n",
      "Ready.\n",
      "Writing E:\\jupyter file\\EEG_process\\SE_train_processed\\Z曾刚20220221_bias_0.fif\n",
      "Closing E:\\jupyter file\\EEG_process\\SE_train_processed\\Z曾刚20220221_bias_0.fif\n",
      "[done]\n",
      "../SE_train_processed/Z曾刚20220223_bias_0.fif\n",
      "Opening raw data file ../SE_train\\Z曾刚20220223_bias_0.fif...\n",
      "Isotrak not found\n",
      "    Range : 70270 ... 78462 =     68.623 ...    76.623 secs\n",
      "Ready.\n",
      "data_256.shape (17, 2048)\n",
      "data_256_samples.shape (17, 4, 512)\n",
      "data_sta.shape (17, 4, 512)\n",
      "data_x.shape: (68, 512, 1)\n"
     ]
    },
    {
     "name": "stderr",
     "output_type": "stream",
     "text": [
      "<ipython-input-4-780c8fcbedab>:73: RuntimeWarning: This filename (E:\\jupyter file\\EEG_process\\SE_train_processed\\Z曾刚20220221_bias_0.fif) does not conform to MNE naming conventions. All raw files should end with raw.fif, raw_sss.fif, raw_tsss.fif, _meg.fif, _eeg.fif, _ieeg.fif, raw.fif.gz, raw_sss.fif.gz, raw_tsss.fif.gz, _meg.fif.gz, _eeg.fif.gz or _ieeg.fif.gz\n",
      "  custom_raw.save(save_path,overwrite=True)\n",
      "<ipython-input-4-780c8fcbedab>:2: RuntimeWarning: This filename (../SE_train\\Z曾刚20220223_bias_0.fif) does not conform to MNE naming conventions. All raw files should end with raw.fif, raw_sss.fif, raw_tsss.fif, _meg.fif, _eeg.fif, _ieeg.fif, raw.fif.gz, raw_sss.fif.gz, raw_tsss.fif.gz, _meg.fif.gz, _eeg.fif.gz or _ieeg.fif.gz\n",
      "  raw = read_raw_fif(file_path)\n"
     ]
    },
    {
     "name": "stdout",
     "output_type": "stream",
     "text": [
      "pred_channel.shape (17, 2048)\n",
      "Creating RawArray with float64 data, n_channels=17, n_times=2048\n",
      "    Range : 0 ... 2047 =      0.000 ...     7.996 secs\n",
      "Ready.\n",
      "Writing E:\\jupyter file\\EEG_process\\SE_train_processed\\Z曾刚20220223_bias_0.fif\n",
      "Closing E:\\jupyter file\\EEG_process\\SE_train_processed\\Z曾刚20220223_bias_0.fif\n",
      "[done]\n",
      "../SE_train_processed/Z杜娇20220316_bias_0.fif\n",
      "Opening raw data file ../SE_train\\Z杜娇20220316_bias_0.fif...\n",
      "Isotrak not found\n",
      "    Range : 400805 ... 408997 =    391.411 ...   399.411 secs\n",
      "Ready.\n",
      "data_256.shape (17, 2048)\n",
      "data_256_samples.shape (17, 4, 512)\n",
      "data_sta.shape (17, 4, 512)\n",
      "data_x.shape: (68, 512, 1)\n"
     ]
    },
    {
     "name": "stderr",
     "output_type": "stream",
     "text": [
      "<ipython-input-4-780c8fcbedab>:73: RuntimeWarning: This filename (E:\\jupyter file\\EEG_process\\SE_train_processed\\Z曾刚20220223_bias_0.fif) does not conform to MNE naming conventions. All raw files should end with raw.fif, raw_sss.fif, raw_tsss.fif, _meg.fif, _eeg.fif, _ieeg.fif, raw.fif.gz, raw_sss.fif.gz, raw_tsss.fif.gz, _meg.fif.gz, _eeg.fif.gz or _ieeg.fif.gz\n",
      "  custom_raw.save(save_path,overwrite=True)\n",
      "<ipython-input-4-780c8fcbedab>:2: RuntimeWarning: This filename (../SE_train\\Z杜娇20220316_bias_0.fif) does not conform to MNE naming conventions. All raw files should end with raw.fif, raw_sss.fif, raw_tsss.fif, _meg.fif, _eeg.fif, _ieeg.fif, raw.fif.gz, raw_sss.fif.gz, raw_tsss.fif.gz, _meg.fif.gz, _eeg.fif.gz or _ieeg.fif.gz\n",
      "  raw = read_raw_fif(file_path)\n"
     ]
    },
    {
     "name": "stdout",
     "output_type": "stream",
     "text": [
      "pred_channel.shape (17, 2048)\n",
      "Creating RawArray with float64 data, n_channels=17, n_times=2048\n",
      "    Range : 0 ... 2047 =      0.000 ...     7.996 secs\n",
      "Ready.\n",
      "Writing E:\\jupyter file\\EEG_process\\SE_train_processed\\Z杜娇20220316_bias_0.fif\n",
      "Closing E:\\jupyter file\\EEG_process\\SE_train_processed\\Z杜娇20220316_bias_0.fif\n",
      "[done]\n",
      "../SE_train_processed/Z杜娇20220318_bias_0.fif\n",
      "Opening raw data file ../SE_train\\Z杜娇20220318_bias_0.fif...\n",
      "Isotrak not found\n",
      "    Range : 267966 ... 276158 =    261.686 ...   269.686 secs\n",
      "Ready.\n",
      "data_256.shape (17, 2048)\n",
      "data_256_samples.shape (17, 4, 512)\n",
      "data_sta.shape (17, 4, 512)\n",
      "data_x.shape: (68, 512, 1)\n"
     ]
    },
    {
     "name": "stderr",
     "output_type": "stream",
     "text": [
      "<ipython-input-4-780c8fcbedab>:73: RuntimeWarning: This filename (E:\\jupyter file\\EEG_process\\SE_train_processed\\Z杜娇20220316_bias_0.fif) does not conform to MNE naming conventions. All raw files should end with raw.fif, raw_sss.fif, raw_tsss.fif, _meg.fif, _eeg.fif, _ieeg.fif, raw.fif.gz, raw_sss.fif.gz, raw_tsss.fif.gz, _meg.fif.gz, _eeg.fif.gz or _ieeg.fif.gz\n",
      "  custom_raw.save(save_path,overwrite=True)\n",
      "<ipython-input-4-780c8fcbedab>:2: RuntimeWarning: This filename (../SE_train\\Z杜娇20220318_bias_0.fif) does not conform to MNE naming conventions. All raw files should end with raw.fif, raw_sss.fif, raw_tsss.fif, _meg.fif, _eeg.fif, _ieeg.fif, raw.fif.gz, raw_sss.fif.gz, raw_tsss.fif.gz, _meg.fif.gz, _eeg.fif.gz or _ieeg.fif.gz\n",
      "  raw = read_raw_fif(file_path)\n"
     ]
    },
    {
     "name": "stdout",
     "output_type": "stream",
     "text": [
      "pred_channel.shape (17, 2048)\n",
      "Creating RawArray with float64 data, n_channels=17, n_times=2048\n",
      "    Range : 0 ... 2047 =      0.000 ...     7.996 secs\n",
      "Ready.\n",
      "Writing E:\\jupyter file\\EEG_process\\SE_train_processed\\Z杜娇20220318_bias_0.fif\n",
      "Closing E:\\jupyter file\\EEG_process\\SE_train_processed\\Z杜娇20220318_bias_0.fif\n",
      "[done]\n",
      "../SE_train_processed/Z杜娇20220321_bias_0.fif\n",
      "Opening raw data file ../SE_train\\Z杜娇20220321_bias_0.fif...\n",
      "Isotrak not found\n",
      "    Range : 49993 ... 58185 =     48.821 ...    56.821 secs\n",
      "Ready.\n",
      "data_256.shape (17, 2048)\n",
      "data_256_samples.shape (17, 4, 512)\n",
      "data_sta.shape (17, 4, 512)\n",
      "data_x.shape: (68, 512, 1)\n"
     ]
    },
    {
     "name": "stderr",
     "output_type": "stream",
     "text": [
      "<ipython-input-4-780c8fcbedab>:73: RuntimeWarning: This filename (E:\\jupyter file\\EEG_process\\SE_train_processed\\Z杜娇20220318_bias_0.fif) does not conform to MNE naming conventions. All raw files should end with raw.fif, raw_sss.fif, raw_tsss.fif, _meg.fif, _eeg.fif, _ieeg.fif, raw.fif.gz, raw_sss.fif.gz, raw_tsss.fif.gz, _meg.fif.gz, _eeg.fif.gz or _ieeg.fif.gz\n",
      "  custom_raw.save(save_path,overwrite=True)\n",
      "<ipython-input-4-780c8fcbedab>:2: RuntimeWarning: This filename (../SE_train\\Z杜娇20220321_bias_0.fif) does not conform to MNE naming conventions. All raw files should end with raw.fif, raw_sss.fif, raw_tsss.fif, _meg.fif, _eeg.fif, _ieeg.fif, raw.fif.gz, raw_sss.fif.gz, raw_tsss.fif.gz, _meg.fif.gz, _eeg.fif.gz or _ieeg.fif.gz\n",
      "  raw = read_raw_fif(file_path)\n"
     ]
    },
    {
     "name": "stdout",
     "output_type": "stream",
     "text": [
      "pred_channel.shape (17, 2048)\n",
      "Creating RawArray with float64 data, n_channels=17, n_times=2048\n",
      "    Range : 0 ... 2047 =      0.000 ...     7.996 secs\n",
      "Ready.\n",
      "Writing E:\\jupyter file\\EEG_process\\SE_train_processed\\Z杜娇20220321_bias_0.fif\n",
      "Closing E:\\jupyter file\\EEG_process\\SE_train_processed\\Z杜娇20220321_bias_0.fif\n",
      "[done]\n",
      "../SE_train_processed/Z杜娇20220325（未发作）_bias_0.fif\n",
      "Opening raw data file ../SE_train\\Z杜娇20220325（未发作）_bias_0.fif...\n",
      "Isotrak not found\n",
      "    Range : 92841 ... 101033 =     90.665 ...    98.665 secs\n",
      "Ready.\n",
      "data_256.shape (17, 2048)\n",
      "data_256_samples.shape (17, 4, 512)\n",
      "data_sta.shape (17, 4, 512)\n",
      "data_x.shape: (68, 512, 1)\n"
     ]
    },
    {
     "name": "stderr",
     "output_type": "stream",
     "text": [
      "<ipython-input-4-780c8fcbedab>:73: RuntimeWarning: This filename (E:\\jupyter file\\EEG_process\\SE_train_processed\\Z杜娇20220321_bias_0.fif) does not conform to MNE naming conventions. All raw files should end with raw.fif, raw_sss.fif, raw_tsss.fif, _meg.fif, _eeg.fif, _ieeg.fif, raw.fif.gz, raw_sss.fif.gz, raw_tsss.fif.gz, _meg.fif.gz, _eeg.fif.gz or _ieeg.fif.gz\n",
      "  custom_raw.save(save_path,overwrite=True)\n",
      "<ipython-input-4-780c8fcbedab>:2: RuntimeWarning: This filename (../SE_train\\Z杜娇20220325（未发作）_bias_0.fif) does not conform to MNE naming conventions. All raw files should end with raw.fif, raw_sss.fif, raw_tsss.fif, _meg.fif, _eeg.fif, _ieeg.fif, raw.fif.gz, raw_sss.fif.gz, raw_tsss.fif.gz, _meg.fif.gz, _eeg.fif.gz or _ieeg.fif.gz\n",
      "  raw = read_raw_fif(file_path)\n"
     ]
    },
    {
     "name": "stdout",
     "output_type": "stream",
     "text": [
      "pred_channel.shape (17, 2048)\n",
      "Creating RawArray with float64 data, n_channels=17, n_times=2048\n",
      "    Range : 0 ... 2047 =      0.000 ...     7.996 secs\n",
      "Ready.\n",
      "Writing E:\\jupyter file\\EEG_process\\SE_train_processed\\Z杜娇20220325（未发作）_bias_0.fif\n",
      "Closing E:\\jupyter file\\EEG_process\\SE_train_processed\\Z杜娇20220325（未发作）_bias_0.fif\n",
      "[done]\n",
      "../SE_train_processed/Z杜娇20220325（未发作）_bias_16.fif\n",
      "Opening raw data file ../SE_train\\Z杜娇20220325（未发作）_bias_16.fif...\n",
      "Isotrak not found\n",
      "    Range : 109225 ... 125609 =    106.665 ...   122.665 secs\n",
      "Ready.\n",
      "data_256.shape (17, 2048)\n",
      "data_256_samples.shape (17, 4, 512)\n",
      "data_sta.shape (17, 4, 512)\n",
      "data_x.shape: (68, 512, 1)\n"
     ]
    },
    {
     "name": "stderr",
     "output_type": "stream",
     "text": [
      "<ipython-input-4-780c8fcbedab>:73: RuntimeWarning: This filename (E:\\jupyter file\\EEG_process\\SE_train_processed\\Z杜娇20220325（未发作）_bias_0.fif) does not conform to MNE naming conventions. All raw files should end with raw.fif, raw_sss.fif, raw_tsss.fif, _meg.fif, _eeg.fif, _ieeg.fif, raw.fif.gz, raw_sss.fif.gz, raw_tsss.fif.gz, _meg.fif.gz, _eeg.fif.gz or _ieeg.fif.gz\n",
      "  custom_raw.save(save_path,overwrite=True)\n",
      "<ipython-input-4-780c8fcbedab>:2: RuntimeWarning: This filename (../SE_train\\Z杜娇20220325（未发作）_bias_16.fif) does not conform to MNE naming conventions. All raw files should end with raw.fif, raw_sss.fif, raw_tsss.fif, _meg.fif, _eeg.fif, _ieeg.fif, raw.fif.gz, raw_sss.fif.gz, raw_tsss.fif.gz, _meg.fif.gz, _eeg.fif.gz or _ieeg.fif.gz\n",
      "  raw = read_raw_fif(file_path)\n"
     ]
    },
    {
     "name": "stdout",
     "output_type": "stream",
     "text": [
      "pred_channel.shape (17, 2048)\n",
      "Creating RawArray with float64 data, n_channels=17, n_times=2048\n",
      "    Range : 0 ... 2047 =      0.000 ...     7.996 secs\n",
      "Ready.\n",
      "Writing E:\\jupyter file\\EEG_process\\SE_train_processed\\Z杜娇20220325（未发作）_bias_16.fif\n",
      "Closing E:\\jupyter file\\EEG_process\\SE_train_processed\\Z杜娇20220325（未发作）_bias_16.fif\n",
      "[done]\n",
      "../SE_train_processed/Z杜娇20220325（未发作）_bias_24.fif\n",
      "Opening raw data file ../SE_train\\Z杜娇20220325（未发作）_bias_24.fif...\n",
      "Isotrak not found\n",
      "    Range : 117417 ... 133801 =    114.665 ...   130.665 secs\n",
      "Ready.\n",
      "data_256.shape (17, 2048)\n",
      "data_256_samples.shape (17, 4, 512)\n",
      "data_sta.shape (17, 4, 512)\n",
      "data_x.shape: (68, 512, 1)\n"
     ]
    },
    {
     "name": "stderr",
     "output_type": "stream",
     "text": [
      "<ipython-input-4-780c8fcbedab>:73: RuntimeWarning: This filename (E:\\jupyter file\\EEG_process\\SE_train_processed\\Z杜娇20220325（未发作）_bias_16.fif) does not conform to MNE naming conventions. All raw files should end with raw.fif, raw_sss.fif, raw_tsss.fif, _meg.fif, _eeg.fif, _ieeg.fif, raw.fif.gz, raw_sss.fif.gz, raw_tsss.fif.gz, _meg.fif.gz, _eeg.fif.gz or _ieeg.fif.gz\n",
      "  custom_raw.save(save_path,overwrite=True)\n",
      "<ipython-input-4-780c8fcbedab>:2: RuntimeWarning: This filename (../SE_train\\Z杜娇20220325（未发作）_bias_24.fif) does not conform to MNE naming conventions. All raw files should end with raw.fif, raw_sss.fif, raw_tsss.fif, _meg.fif, _eeg.fif, _ieeg.fif, raw.fif.gz, raw_sss.fif.gz, raw_tsss.fif.gz, _meg.fif.gz, _eeg.fif.gz or _ieeg.fif.gz\n",
      "  raw = read_raw_fif(file_path)\n"
     ]
    },
    {
     "name": "stdout",
     "output_type": "stream",
     "text": [
      "pred_channel.shape (17, 2048)\n",
      "Creating RawArray with float64 data, n_channels=17, n_times=2048\n",
      "    Range : 0 ... 2047 =      0.000 ...     7.996 secs\n",
      "Ready.\n",
      "Writing E:\\jupyter file\\EEG_process\\SE_train_processed\\Z杜娇20220325（未发作）_bias_24.fif\n",
      "Closing E:\\jupyter file\\EEG_process\\SE_train_processed\\Z杜娇20220325（未发作）_bias_24.fif\n",
      "[done]\n",
      "../SE_train_processed/Z杜娇20220325（未发作）_bias_32.fif\n",
      "Opening raw data file ../SE_train\\Z杜娇20220325（未发作）_bias_32.fif...\n",
      "Isotrak not found\n",
      "    Range : 125609 ... 141993 =    122.665 ...   138.665 secs\n",
      "Ready.\n",
      "data_256.shape (17, 2048)\n",
      "data_256_samples.shape (17, 4, 512)\n",
      "data_sta.shape (17, 4, 512)\n",
      "data_x.shape: (68, 512, 1)\n"
     ]
    },
    {
     "name": "stderr",
     "output_type": "stream",
     "text": [
      "<ipython-input-4-780c8fcbedab>:73: RuntimeWarning: This filename (E:\\jupyter file\\EEG_process\\SE_train_processed\\Z杜娇20220325（未发作）_bias_24.fif) does not conform to MNE naming conventions. All raw files should end with raw.fif, raw_sss.fif, raw_tsss.fif, _meg.fif, _eeg.fif, _ieeg.fif, raw.fif.gz, raw_sss.fif.gz, raw_tsss.fif.gz, _meg.fif.gz, _eeg.fif.gz or _ieeg.fif.gz\n",
      "  custom_raw.save(save_path,overwrite=True)\n",
      "<ipython-input-4-780c8fcbedab>:2: RuntimeWarning: This filename (../SE_train\\Z杜娇20220325（未发作）_bias_32.fif) does not conform to MNE naming conventions. All raw files should end with raw.fif, raw_sss.fif, raw_tsss.fif, _meg.fif, _eeg.fif, _ieeg.fif, raw.fif.gz, raw_sss.fif.gz, raw_tsss.fif.gz, _meg.fif.gz, _eeg.fif.gz or _ieeg.fif.gz\n",
      "  raw = read_raw_fif(file_path)\n"
     ]
    },
    {
     "name": "stdout",
     "output_type": "stream",
     "text": [
      "pred_channel.shape (17, 2048)\n",
      "Creating RawArray with float64 data, n_channels=17, n_times=2048\n",
      "    Range : 0 ... 2047 =      0.000 ...     7.996 secs\n",
      "Ready.\n",
      "Writing E:\\jupyter file\\EEG_process\\SE_train_processed\\Z杜娇20220325（未发作）_bias_32.fif\n",
      "Closing E:\\jupyter file\\EEG_process\\SE_train_processed\\Z杜娇20220325（未发作）_bias_32.fif\n",
      "[done]\n",
      "../SE_train_processed/Z杜娇20220325（未发作）_bias_40.fif\n",
      "Opening raw data file ../SE_train\\Z杜娇20220325（未发作）_bias_40.fif...\n",
      "Isotrak not found\n",
      "    Range : 133801 ... 150185 =    130.665 ...   146.665 secs\n",
      "Ready.\n",
      "data_256.shape (17, 2048)\n",
      "data_256_samples.shape (17, 4, 512)\n",
      "data_sta.shape (17, 4, 512)\n",
      "data_x.shape: (68, 512, 1)\n"
     ]
    },
    {
     "name": "stderr",
     "output_type": "stream",
     "text": [
      "<ipython-input-4-780c8fcbedab>:73: RuntimeWarning: This filename (E:\\jupyter file\\EEG_process\\SE_train_processed\\Z杜娇20220325（未发作）_bias_32.fif) does not conform to MNE naming conventions. All raw files should end with raw.fif, raw_sss.fif, raw_tsss.fif, _meg.fif, _eeg.fif, _ieeg.fif, raw.fif.gz, raw_sss.fif.gz, raw_tsss.fif.gz, _meg.fif.gz, _eeg.fif.gz or _ieeg.fif.gz\n",
      "  custom_raw.save(save_path,overwrite=True)\n",
      "<ipython-input-4-780c8fcbedab>:2: RuntimeWarning: This filename (../SE_train\\Z杜娇20220325（未发作）_bias_40.fif) does not conform to MNE naming conventions. All raw files should end with raw.fif, raw_sss.fif, raw_tsss.fif, _meg.fif, _eeg.fif, _ieeg.fif, raw.fif.gz, raw_sss.fif.gz, raw_tsss.fif.gz, _meg.fif.gz, _eeg.fif.gz or _ieeg.fif.gz\n",
      "  raw = read_raw_fif(file_path)\n"
     ]
    },
    {
     "name": "stdout",
     "output_type": "stream",
     "text": [
      "pred_channel.shape (17, 2048)\n",
      "Creating RawArray with float64 data, n_channels=17, n_times=2048\n",
      "    Range : 0 ... 2047 =      0.000 ...     7.996 secs\n",
      "Ready.\n",
      "Writing E:\\jupyter file\\EEG_process\\SE_train_processed\\Z杜娇20220325（未发作）_bias_40.fif\n",
      "Closing E:\\jupyter file\\EEG_process\\SE_train_processed\\Z杜娇20220325（未发作）_bias_40.fif\n",
      "[done]\n",
      "../SE_train_processed/Z杜娇20220325（未发作）_bias_8.fif\n",
      "Opening raw data file ../SE_train\\Z杜娇20220325（未发作）_bias_8.fif...\n",
      "Isotrak not found\n",
      "    Range : 101033 ... 117417 =     98.665 ...   114.665 secs\n",
      "Ready.\n",
      "data_256.shape (17, 2048)\n",
      "data_256_samples.shape (17, 4, 512)\n",
      "data_sta.shape (17, 4, 512)\n",
      "data_x.shape: (68, 512, 1)\n"
     ]
    },
    {
     "name": "stderr",
     "output_type": "stream",
     "text": [
      "<ipython-input-4-780c8fcbedab>:73: RuntimeWarning: This filename (E:\\jupyter file\\EEG_process\\SE_train_processed\\Z杜娇20220325（未发作）_bias_40.fif) does not conform to MNE naming conventions. All raw files should end with raw.fif, raw_sss.fif, raw_tsss.fif, _meg.fif, _eeg.fif, _ieeg.fif, raw.fif.gz, raw_sss.fif.gz, raw_tsss.fif.gz, _meg.fif.gz, _eeg.fif.gz or _ieeg.fif.gz\n",
      "  custom_raw.save(save_path,overwrite=True)\n",
      "<ipython-input-4-780c8fcbedab>:2: RuntimeWarning: This filename (../SE_train\\Z杜娇20220325（未发作）_bias_8.fif) does not conform to MNE naming conventions. All raw files should end with raw.fif, raw_sss.fif, raw_tsss.fif, _meg.fif, _eeg.fif, _ieeg.fif, raw.fif.gz, raw_sss.fif.gz, raw_tsss.fif.gz, _meg.fif.gz, _eeg.fif.gz or _ieeg.fif.gz\n",
      "  raw = read_raw_fif(file_path)\n"
     ]
    },
    {
     "name": "stdout",
     "output_type": "stream",
     "text": [
      "pred_channel.shape (17, 2048)\n",
      "Creating RawArray with float64 data, n_channels=17, n_times=2048\n",
      "    Range : 0 ... 2047 =      0.000 ...     7.996 secs\n",
      "Ready.\n",
      "Writing E:\\jupyter file\\EEG_process\\SE_train_processed\\Z杜娇20220325（未发作）_bias_8.fif\n",
      "Closing E:\\jupyter file\\EEG_process\\SE_train_processed\\Z杜娇20220325（未发作）_bias_8.fif\n",
      "[done]\n",
      "../SE_train_processed/Z林儒波20220323_bias_0.fif\n",
      "Opening raw data file ../SE_train\\Z林儒波20220323_bias_0.fif...\n",
      "Isotrak not found\n",
      "    Range : 467832 ... 476024 =    456.867 ...   464.867 secs\n",
      "Ready.\n",
      "data_256.shape (17, 2048)\n",
      "data_256_samples.shape (17, 4, 512)\n",
      "data_sta.shape (17, 4, 512)\n",
      "data_x.shape: (68, 512, 1)\n"
     ]
    },
    {
     "name": "stderr",
     "output_type": "stream",
     "text": [
      "<ipython-input-4-780c8fcbedab>:73: RuntimeWarning: This filename (E:\\jupyter file\\EEG_process\\SE_train_processed\\Z杜娇20220325（未发作）_bias_8.fif) does not conform to MNE naming conventions. All raw files should end with raw.fif, raw_sss.fif, raw_tsss.fif, _meg.fif, _eeg.fif, _ieeg.fif, raw.fif.gz, raw_sss.fif.gz, raw_tsss.fif.gz, _meg.fif.gz, _eeg.fif.gz or _ieeg.fif.gz\n",
      "  custom_raw.save(save_path,overwrite=True)\n",
      "<ipython-input-4-780c8fcbedab>:2: RuntimeWarning: This filename (../SE_train\\Z林儒波20220323_bias_0.fif) does not conform to MNE naming conventions. All raw files should end with raw.fif, raw_sss.fif, raw_tsss.fif, _meg.fif, _eeg.fif, _ieeg.fif, raw.fif.gz, raw_sss.fif.gz, raw_tsss.fif.gz, _meg.fif.gz, _eeg.fif.gz or _ieeg.fif.gz\n",
      "  raw = read_raw_fif(file_path)\n"
     ]
    },
    {
     "name": "stdout",
     "output_type": "stream",
     "text": [
      "pred_channel.shape (17, 2048)\n",
      "Creating RawArray with float64 data, n_channels=17, n_times=2048\n",
      "    Range : 0 ... 2047 =      0.000 ...     7.996 secs\n",
      "Ready.\n",
      "Writing E:\\jupyter file\\EEG_process\\SE_train_processed\\Z林儒波20220323_bias_0.fif\n",
      "Closing E:\\jupyter file\\EEG_process\\SE_train_processed\\Z林儒波20220323_bias_0.fif\n",
      "[done]\n",
      "../SE_train_processed/Z林儒波20220325_bias_0.fif\n",
      "Opening raw data file ../SE_train\\Z林儒波20220325_bias_0.fif...\n",
      "Isotrak not found\n",
      "    Range : 27199 ... 35391 =     26.562 ...    34.562 secs\n",
      "Ready.\n",
      "data_256.shape (17, 2048)\n",
      "data_256_samples.shape (17, 4, 512)\n",
      "data_sta.shape (17, 4, 512)\n",
      "data_x.shape: (68, 512, 1)\n"
     ]
    },
    {
     "name": "stderr",
     "output_type": "stream",
     "text": [
      "<ipython-input-4-780c8fcbedab>:73: RuntimeWarning: This filename (E:\\jupyter file\\EEG_process\\SE_train_processed\\Z林儒波20220323_bias_0.fif) does not conform to MNE naming conventions. All raw files should end with raw.fif, raw_sss.fif, raw_tsss.fif, _meg.fif, _eeg.fif, _ieeg.fif, raw.fif.gz, raw_sss.fif.gz, raw_tsss.fif.gz, _meg.fif.gz, _eeg.fif.gz or _ieeg.fif.gz\n",
      "  custom_raw.save(save_path,overwrite=True)\n",
      "<ipython-input-4-780c8fcbedab>:2: RuntimeWarning: This filename (../SE_train\\Z林儒波20220325_bias_0.fif) does not conform to MNE naming conventions. All raw files should end with raw.fif, raw_sss.fif, raw_tsss.fif, _meg.fif, _eeg.fif, _ieeg.fif, raw.fif.gz, raw_sss.fif.gz, raw_tsss.fif.gz, _meg.fif.gz, _eeg.fif.gz or _ieeg.fif.gz\n",
      "  raw = read_raw_fif(file_path)\n"
     ]
    },
    {
     "name": "stdout",
     "output_type": "stream",
     "text": [
      "pred_channel.shape (17, 2048)\n",
      "Creating RawArray with float64 data, n_channels=17, n_times=2048\n",
      "    Range : 0 ... 2047 =      0.000 ...     7.996 secs\n",
      "Ready.\n",
      "Writing E:\\jupyter file\\EEG_process\\SE_train_processed\\Z林儒波20220325_bias_0.fif\n",
      "Closing E:\\jupyter file\\EEG_process\\SE_train_processed\\Z林儒波20220325_bias_0.fif\n",
      "[done]\n",
      "../SE_train_processed/Z林儒波20220328（未发作）_bias_0.fif\n",
      "Opening raw data file ../SE_train\\Z林儒波20220328（未发作）_bias_0.fif...\n",
      "Isotrak not found\n",
      "    Range : 4054 ... 12246 =      3.959 ...    11.959 secs\n",
      "Ready.\n",
      "data_256.shape (17, 2048)\n",
      "data_256_samples.shape (17, 4, 512)\n",
      "data_sta.shape (17, 4, 512)\n",
      "data_x.shape: (68, 512, 1)\n"
     ]
    },
    {
     "name": "stderr",
     "output_type": "stream",
     "text": [
      "<ipython-input-4-780c8fcbedab>:73: RuntimeWarning: This filename (E:\\jupyter file\\EEG_process\\SE_train_processed\\Z林儒波20220325_bias_0.fif) does not conform to MNE naming conventions. All raw files should end with raw.fif, raw_sss.fif, raw_tsss.fif, _meg.fif, _eeg.fif, _ieeg.fif, raw.fif.gz, raw_sss.fif.gz, raw_tsss.fif.gz, _meg.fif.gz, _eeg.fif.gz or _ieeg.fif.gz\n",
      "  custom_raw.save(save_path,overwrite=True)\n",
      "<ipython-input-4-780c8fcbedab>:2: RuntimeWarning: This filename (../SE_train\\Z林儒波20220328（未发作）_bias_0.fif) does not conform to MNE naming conventions. All raw files should end with raw.fif, raw_sss.fif, raw_tsss.fif, _meg.fif, _eeg.fif, _ieeg.fif, raw.fif.gz, raw_sss.fif.gz, raw_tsss.fif.gz, _meg.fif.gz, _eeg.fif.gz or _ieeg.fif.gz\n",
      "  raw = read_raw_fif(file_path)\n"
     ]
    },
    {
     "name": "stdout",
     "output_type": "stream",
     "text": [
      "pred_channel.shape (17, 2048)\n",
      "Creating RawArray with float64 data, n_channels=17, n_times=2048\n",
      "    Range : 0 ... 2047 =      0.000 ...     7.996 secs\n",
      "Ready.\n",
      "Writing E:\\jupyter file\\EEG_process\\SE_train_processed\\Z林儒波20220328（未发作）_bias_0.fif\n",
      "Closing E:\\jupyter file\\EEG_process\\SE_train_processed\\Z林儒波20220328（未发作）_bias_0.fif\n",
      "[done]\n",
      "../SE_train_processed/Z林儒波20220328（未发作）_bias_16.fif\n",
      "Opening raw data file ../SE_train\\Z林儒波20220328（未发作）_bias_16.fif...\n",
      "Isotrak not found\n",
      "    Range : 20438 ... 36822 =     19.959 ...    35.959 secs\n",
      "Ready.\n",
      "data_256.shape (17, 2048)\n",
      "data_256_samples.shape (17, 4, 512)\n",
      "data_sta.shape (17, 4, 512)\n",
      "data_x.shape: (68, 512, 1)\n"
     ]
    },
    {
     "name": "stderr",
     "output_type": "stream",
     "text": [
      "<ipython-input-4-780c8fcbedab>:73: RuntimeWarning: This filename (E:\\jupyter file\\EEG_process\\SE_train_processed\\Z林儒波20220328（未发作）_bias_0.fif) does not conform to MNE naming conventions. All raw files should end with raw.fif, raw_sss.fif, raw_tsss.fif, _meg.fif, _eeg.fif, _ieeg.fif, raw.fif.gz, raw_sss.fif.gz, raw_tsss.fif.gz, _meg.fif.gz, _eeg.fif.gz or _ieeg.fif.gz\n",
      "  custom_raw.save(save_path,overwrite=True)\n",
      "<ipython-input-4-780c8fcbedab>:2: RuntimeWarning: This filename (../SE_train\\Z林儒波20220328（未发作）_bias_16.fif) does not conform to MNE naming conventions. All raw files should end with raw.fif, raw_sss.fif, raw_tsss.fif, _meg.fif, _eeg.fif, _ieeg.fif, raw.fif.gz, raw_sss.fif.gz, raw_tsss.fif.gz, _meg.fif.gz, _eeg.fif.gz or _ieeg.fif.gz\n",
      "  raw = read_raw_fif(file_path)\n"
     ]
    },
    {
     "name": "stdout",
     "output_type": "stream",
     "text": [
      "pred_channel.shape (17, 2048)\n",
      "Creating RawArray with float64 data, n_channels=17, n_times=2048\n",
      "    Range : 0 ... 2047 =      0.000 ...     7.996 secs\n",
      "Ready.\n",
      "Writing E:\\jupyter file\\EEG_process\\SE_train_processed\\Z林儒波20220328（未发作）_bias_16.fif\n",
      "Closing E:\\jupyter file\\EEG_process\\SE_train_processed\\Z林儒波20220328（未发作）_bias_16.fif\n",
      "[done]\n",
      "../SE_train_processed/Z林儒波20220328（未发作）_bias_24.fif\n",
      "Opening raw data file ../SE_train\\Z林儒波20220328（未发作）_bias_24.fif...\n",
      "Isotrak not found\n",
      "    Range : 28630 ... 45014 =     27.959 ...    43.959 secs\n",
      "Ready.\n",
      "data_256.shape (17, 2048)\n",
      "data_256_samples.shape (17, 4, 512)\n",
      "data_sta.shape (17, 4, 512)\n",
      "data_x.shape: (68, 512, 1)\n"
     ]
    },
    {
     "name": "stderr",
     "output_type": "stream",
     "text": [
      "<ipython-input-4-780c8fcbedab>:73: RuntimeWarning: This filename (E:\\jupyter file\\EEG_process\\SE_train_processed\\Z林儒波20220328（未发作）_bias_16.fif) does not conform to MNE naming conventions. All raw files should end with raw.fif, raw_sss.fif, raw_tsss.fif, _meg.fif, _eeg.fif, _ieeg.fif, raw.fif.gz, raw_sss.fif.gz, raw_tsss.fif.gz, _meg.fif.gz, _eeg.fif.gz or _ieeg.fif.gz\n",
      "  custom_raw.save(save_path,overwrite=True)\n",
      "<ipython-input-4-780c8fcbedab>:2: RuntimeWarning: This filename (../SE_train\\Z林儒波20220328（未发作）_bias_24.fif) does not conform to MNE naming conventions. All raw files should end with raw.fif, raw_sss.fif, raw_tsss.fif, _meg.fif, _eeg.fif, _ieeg.fif, raw.fif.gz, raw_sss.fif.gz, raw_tsss.fif.gz, _meg.fif.gz, _eeg.fif.gz or _ieeg.fif.gz\n",
      "  raw = read_raw_fif(file_path)\n"
     ]
    },
    {
     "name": "stdout",
     "output_type": "stream",
     "text": [
      "pred_channel.shape (17, 2048)\n",
      "Creating RawArray with float64 data, n_channels=17, n_times=2048\n",
      "    Range : 0 ... 2047 =      0.000 ...     7.996 secs\n",
      "Ready.\n",
      "Writing E:\\jupyter file\\EEG_process\\SE_train_processed\\Z林儒波20220328（未发作）_bias_24.fif\n",
      "Closing E:\\jupyter file\\EEG_process\\SE_train_processed\\Z林儒波20220328（未发作）_bias_24.fif\n",
      "[done]\n",
      "../SE_train_processed/Z林儒波20220328（未发作）_bias_32.fif\n",
      "Opening raw data file ../SE_train\\Z林儒波20220328（未发作）_bias_32.fif...\n",
      "Isotrak not found\n",
      "    Range : 36822 ... 53206 =     35.959 ...    51.959 secs\n",
      "Ready.\n",
      "data_256.shape (17, 2048)\n",
      "data_256_samples.shape (17, 4, 512)\n",
      "data_sta.shape (17, 4, 512)\n",
      "data_x.shape: (68, 512, 1)\n"
     ]
    },
    {
     "name": "stderr",
     "output_type": "stream",
     "text": [
      "<ipython-input-4-780c8fcbedab>:73: RuntimeWarning: This filename (E:\\jupyter file\\EEG_process\\SE_train_processed\\Z林儒波20220328（未发作）_bias_24.fif) does not conform to MNE naming conventions. All raw files should end with raw.fif, raw_sss.fif, raw_tsss.fif, _meg.fif, _eeg.fif, _ieeg.fif, raw.fif.gz, raw_sss.fif.gz, raw_tsss.fif.gz, _meg.fif.gz, _eeg.fif.gz or _ieeg.fif.gz\n",
      "  custom_raw.save(save_path,overwrite=True)\n",
      "<ipython-input-4-780c8fcbedab>:2: RuntimeWarning: This filename (../SE_train\\Z林儒波20220328（未发作）_bias_32.fif) does not conform to MNE naming conventions. All raw files should end with raw.fif, raw_sss.fif, raw_tsss.fif, _meg.fif, _eeg.fif, _ieeg.fif, raw.fif.gz, raw_sss.fif.gz, raw_tsss.fif.gz, _meg.fif.gz, _eeg.fif.gz or _ieeg.fif.gz\n",
      "  raw = read_raw_fif(file_path)\n"
     ]
    },
    {
     "name": "stdout",
     "output_type": "stream",
     "text": [
      "pred_channel.shape (17, 2048)\n",
      "Creating RawArray with float64 data, n_channels=17, n_times=2048\n",
      "    Range : 0 ... 2047 =      0.000 ...     7.996 secs\n",
      "Ready.\n",
      "Writing E:\\jupyter file\\EEG_process\\SE_train_processed\\Z林儒波20220328（未发作）_bias_32.fif\n",
      "Closing E:\\jupyter file\\EEG_process\\SE_train_processed\\Z林儒波20220328（未发作）_bias_32.fif\n",
      "[done]\n",
      "../SE_train_processed/Z林儒波20220328（未发作）_bias_40.fif\n",
      "Opening raw data file ../SE_train\\Z林儒波20220328（未发作）_bias_40.fif...\n",
      "Isotrak not found\n",
      "    Range : 45014 ... 61398 =     43.959 ...    59.959 secs\n",
      "Ready.\n",
      "data_256.shape (17, 2048)\n",
      "data_256_samples.shape (17, 4, 512)\n",
      "data_sta.shape (17, 4, 512)\n",
      "data_x.shape: (68, 512, 1)\n"
     ]
    },
    {
     "name": "stderr",
     "output_type": "stream",
     "text": [
      "<ipython-input-4-780c8fcbedab>:73: RuntimeWarning: This filename (E:\\jupyter file\\EEG_process\\SE_train_processed\\Z林儒波20220328（未发作）_bias_32.fif) does not conform to MNE naming conventions. All raw files should end with raw.fif, raw_sss.fif, raw_tsss.fif, _meg.fif, _eeg.fif, _ieeg.fif, raw.fif.gz, raw_sss.fif.gz, raw_tsss.fif.gz, _meg.fif.gz, _eeg.fif.gz or _ieeg.fif.gz\n",
      "  custom_raw.save(save_path,overwrite=True)\n",
      "<ipython-input-4-780c8fcbedab>:2: RuntimeWarning: This filename (../SE_train\\Z林儒波20220328（未发作）_bias_40.fif) does not conform to MNE naming conventions. All raw files should end with raw.fif, raw_sss.fif, raw_tsss.fif, _meg.fif, _eeg.fif, _ieeg.fif, raw.fif.gz, raw_sss.fif.gz, raw_tsss.fif.gz, _meg.fif.gz, _eeg.fif.gz or _ieeg.fif.gz\n",
      "  raw = read_raw_fif(file_path)\n"
     ]
    },
    {
     "name": "stdout",
     "output_type": "stream",
     "text": [
      "pred_channel.shape (17, 2048)\n",
      "Creating RawArray with float64 data, n_channels=17, n_times=2048\n",
      "    Range : 0 ... 2047 =      0.000 ...     7.996 secs\n",
      "Ready.\n",
      "Writing E:\\jupyter file\\EEG_process\\SE_train_processed\\Z林儒波20220328（未发作）_bias_40.fif\n",
      "Closing E:\\jupyter file\\EEG_process\\SE_train_processed\\Z林儒波20220328（未发作）_bias_40.fif\n",
      "[done]\n",
      "../SE_train_processed/Z林儒波20220328（未发作）_bias_8.fif\n",
      "Opening raw data file ../SE_train\\Z林儒波20220328（未发作）_bias_8.fif...\n",
      "Isotrak not found\n",
      "    Range : 12246 ... 28630 =     11.959 ...    27.959 secs\n",
      "Ready.\n",
      "data_256.shape (17, 2048)\n",
      "data_256_samples.shape (17, 4, 512)\n",
      "data_sta.shape (17, 4, 512)\n",
      "data_x.shape: (68, 512, 1)\n"
     ]
    },
    {
     "name": "stderr",
     "output_type": "stream",
     "text": [
      "<ipython-input-4-780c8fcbedab>:73: RuntimeWarning: This filename (E:\\jupyter file\\EEG_process\\SE_train_processed\\Z林儒波20220328（未发作）_bias_40.fif) does not conform to MNE naming conventions. All raw files should end with raw.fif, raw_sss.fif, raw_tsss.fif, _meg.fif, _eeg.fif, _ieeg.fif, raw.fif.gz, raw_sss.fif.gz, raw_tsss.fif.gz, _meg.fif.gz, _eeg.fif.gz or _ieeg.fif.gz\n",
      "  custom_raw.save(save_path,overwrite=True)\n",
      "<ipython-input-4-780c8fcbedab>:2: RuntimeWarning: This filename (../SE_train\\Z林儒波20220328（未发作）_bias_8.fif) does not conform to MNE naming conventions. All raw files should end with raw.fif, raw_sss.fif, raw_tsss.fif, _meg.fif, _eeg.fif, _ieeg.fif, raw.fif.gz, raw_sss.fif.gz, raw_tsss.fif.gz, _meg.fif.gz, _eeg.fif.gz or _ieeg.fif.gz\n",
      "  raw = read_raw_fif(file_path)\n"
     ]
    },
    {
     "name": "stdout",
     "output_type": "stream",
     "text": [
      "pred_channel.shape (17, 2048)\n",
      "Creating RawArray with float64 data, n_channels=17, n_times=2048\n",
      "    Range : 0 ... 2047 =      0.000 ...     7.996 secs\n",
      "Ready.\n",
      "Writing E:\\jupyter file\\EEG_process\\SE_train_processed\\Z林儒波20220328（未发作）_bias_8.fif\n",
      "Closing E:\\jupyter file\\EEG_process\\SE_train_processed\\Z林儒波20220328（未发作）_bias_8.fif\n",
      "[done]\n",
      "../SE_train_processed/Z林儒波20220330_bias_0.fif\n",
      "Opening raw data file ../SE_train\\Z林儒波20220330_bias_0.fif...\n",
      "Isotrak not found\n",
      "    Range : 281289 ... 289481 =    274.696 ...   282.696 secs\n",
      "Ready.\n",
      "data_256.shape (17, 2048)\n",
      "data_256_samples.shape (17, 4, 512)\n",
      "data_sta.shape (17, 4, 512)\n",
      "data_x.shape: (68, 512, 1)\n"
     ]
    },
    {
     "name": "stderr",
     "output_type": "stream",
     "text": [
      "<ipython-input-4-780c8fcbedab>:73: RuntimeWarning: This filename (E:\\jupyter file\\EEG_process\\SE_train_processed\\Z林儒波20220328（未发作）_bias_8.fif) does not conform to MNE naming conventions. All raw files should end with raw.fif, raw_sss.fif, raw_tsss.fif, _meg.fif, _eeg.fif, _ieeg.fif, raw.fif.gz, raw_sss.fif.gz, raw_tsss.fif.gz, _meg.fif.gz, _eeg.fif.gz or _ieeg.fif.gz\n",
      "  custom_raw.save(save_path,overwrite=True)\n",
      "<ipython-input-4-780c8fcbedab>:2: RuntimeWarning: This filename (../SE_train\\Z林儒波20220330_bias_0.fif) does not conform to MNE naming conventions. All raw files should end with raw.fif, raw_sss.fif, raw_tsss.fif, _meg.fif, _eeg.fif, _ieeg.fif, raw.fif.gz, raw_sss.fif.gz, raw_tsss.fif.gz, _meg.fif.gz, _eeg.fif.gz or _ieeg.fif.gz\n",
      "  raw = read_raw_fif(file_path)\n"
     ]
    },
    {
     "name": "stdout",
     "output_type": "stream",
     "text": [
      "pred_channel.shape (17, 2048)\n",
      "Creating RawArray with float64 data, n_channels=17, n_times=2048\n",
      "    Range : 0 ... 2047 =      0.000 ...     7.996 secs\n",
      "Ready.\n",
      "Writing E:\\jupyter file\\EEG_process\\SE_train_processed\\Z林儒波20220330_bias_0.fif\n",
      "Closing E:\\jupyter file\\EEG_process\\SE_train_processed\\Z林儒波20220330_bias_0.fif\n",
      "[done]\n",
      "../SE_train_processed/Z林攀攀20220223（未发作）_bias_0.fif\n",
      "Opening raw data file ../SE_train\\Z林攀攀20220223（未发作）_bias_0.fif...\n",
      "Isotrak not found\n",
      "    Range : 83008 ... 91200 =     81.062 ...    89.062 secs\n",
      "Ready.\n",
      "data_256.shape (17, 2048)\n",
      "data_256_samples.shape (17, 4, 512)\n",
      "data_sta.shape (17, 4, 512)\n",
      "data_x.shape: (68, 512, 1)\n"
     ]
    },
    {
     "name": "stderr",
     "output_type": "stream",
     "text": [
      "<ipython-input-4-780c8fcbedab>:73: RuntimeWarning: This filename (E:\\jupyter file\\EEG_process\\SE_train_processed\\Z林儒波20220330_bias_0.fif) does not conform to MNE naming conventions. All raw files should end with raw.fif, raw_sss.fif, raw_tsss.fif, _meg.fif, _eeg.fif, _ieeg.fif, raw.fif.gz, raw_sss.fif.gz, raw_tsss.fif.gz, _meg.fif.gz, _eeg.fif.gz or _ieeg.fif.gz\n",
      "  custom_raw.save(save_path,overwrite=True)\n",
      "<ipython-input-4-780c8fcbedab>:2: RuntimeWarning: This filename (../SE_train\\Z林攀攀20220223（未发作）_bias_0.fif) does not conform to MNE naming conventions. All raw files should end with raw.fif, raw_sss.fif, raw_tsss.fif, _meg.fif, _eeg.fif, _ieeg.fif, raw.fif.gz, raw_sss.fif.gz, raw_tsss.fif.gz, _meg.fif.gz, _eeg.fif.gz or _ieeg.fif.gz\n",
      "  raw = read_raw_fif(file_path)\n"
     ]
    },
    {
     "name": "stdout",
     "output_type": "stream",
     "text": [
      "pred_channel.shape (17, 2048)\n",
      "Creating RawArray with float64 data, n_channels=17, n_times=2048\n",
      "    Range : 0 ... 2047 =      0.000 ...     7.996 secs\n",
      "Ready.\n",
      "Writing E:\\jupyter file\\EEG_process\\SE_train_processed\\Z林攀攀20220223（未发作）_bias_0.fif\n",
      "Closing E:\\jupyter file\\EEG_process\\SE_train_processed\\Z林攀攀20220223（未发作）_bias_0.fif\n",
      "[done]\n",
      "../SE_train_processed/Z林攀攀20220223（未发作）_bias_16.fif\n",
      "Opening raw data file ../SE_train\\Z林攀攀20220223（未发作）_bias_16.fif...\n",
      "Isotrak not found\n",
      "    Range : 99392 ... 115776 =     97.062 ...   113.062 secs\n",
      "Ready.\n",
      "data_256.shape (17, 2048)\n",
      "data_256_samples.shape (17, 4, 512)\n",
      "data_sta.shape (17, 4, 512)\n",
      "data_x.shape: (68, 512, 1)\n"
     ]
    },
    {
     "name": "stderr",
     "output_type": "stream",
     "text": [
      "<ipython-input-4-780c8fcbedab>:73: RuntimeWarning: This filename (E:\\jupyter file\\EEG_process\\SE_train_processed\\Z林攀攀20220223（未发作）_bias_0.fif) does not conform to MNE naming conventions. All raw files should end with raw.fif, raw_sss.fif, raw_tsss.fif, _meg.fif, _eeg.fif, _ieeg.fif, raw.fif.gz, raw_sss.fif.gz, raw_tsss.fif.gz, _meg.fif.gz, _eeg.fif.gz or _ieeg.fif.gz\n",
      "  custom_raw.save(save_path,overwrite=True)\n",
      "<ipython-input-4-780c8fcbedab>:2: RuntimeWarning: This filename (../SE_train\\Z林攀攀20220223（未发作）_bias_16.fif) does not conform to MNE naming conventions. All raw files should end with raw.fif, raw_sss.fif, raw_tsss.fif, _meg.fif, _eeg.fif, _ieeg.fif, raw.fif.gz, raw_sss.fif.gz, raw_tsss.fif.gz, _meg.fif.gz, _eeg.fif.gz or _ieeg.fif.gz\n",
      "  raw = read_raw_fif(file_path)\n"
     ]
    },
    {
     "name": "stdout",
     "output_type": "stream",
     "text": [
      "pred_channel.shape (17, 2048)\n",
      "Creating RawArray with float64 data, n_channels=17, n_times=2048\n",
      "    Range : 0 ... 2047 =      0.000 ...     7.996 secs\n",
      "Ready.\n",
      "Writing E:\\jupyter file\\EEG_process\\SE_train_processed\\Z林攀攀20220223（未发作）_bias_16.fif\n",
      "Closing E:\\jupyter file\\EEG_process\\SE_train_processed\\Z林攀攀20220223（未发作）_bias_16.fif\n",
      "[done]\n",
      "../SE_train_processed/Z林攀攀20220223（未发作）_bias_24.fif\n",
      "Opening raw data file ../SE_train\\Z林攀攀20220223（未发作）_bias_24.fif...\n",
      "Isotrak not found\n",
      "    Range : 107584 ... 123968 =    105.062 ...   121.062 secs\n",
      "Ready.\n",
      "data_256.shape (17, 2048)\n",
      "data_256_samples.shape (17, 4, 512)\n",
      "data_sta.shape (17, 4, 512)\n",
      "data_x.shape: (68, 512, 1)\n"
     ]
    },
    {
     "name": "stderr",
     "output_type": "stream",
     "text": [
      "<ipython-input-4-780c8fcbedab>:73: RuntimeWarning: This filename (E:\\jupyter file\\EEG_process\\SE_train_processed\\Z林攀攀20220223（未发作）_bias_16.fif) does not conform to MNE naming conventions. All raw files should end with raw.fif, raw_sss.fif, raw_tsss.fif, _meg.fif, _eeg.fif, _ieeg.fif, raw.fif.gz, raw_sss.fif.gz, raw_tsss.fif.gz, _meg.fif.gz, _eeg.fif.gz or _ieeg.fif.gz\n",
      "  custom_raw.save(save_path,overwrite=True)\n",
      "<ipython-input-4-780c8fcbedab>:2: RuntimeWarning: This filename (../SE_train\\Z林攀攀20220223（未发作）_bias_24.fif) does not conform to MNE naming conventions. All raw files should end with raw.fif, raw_sss.fif, raw_tsss.fif, _meg.fif, _eeg.fif, _ieeg.fif, raw.fif.gz, raw_sss.fif.gz, raw_tsss.fif.gz, _meg.fif.gz, _eeg.fif.gz or _ieeg.fif.gz\n",
      "  raw = read_raw_fif(file_path)\n"
     ]
    },
    {
     "name": "stdout",
     "output_type": "stream",
     "text": [
      "pred_channel.shape (17, 2048)\n",
      "Creating RawArray with float64 data, n_channels=17, n_times=2048\n",
      "    Range : 0 ... 2047 =      0.000 ...     7.996 secs\n",
      "Ready.\n",
      "Writing E:\\jupyter file\\EEG_process\\SE_train_processed\\Z林攀攀20220223（未发作）_bias_24.fif\n",
      "Closing E:\\jupyter file\\EEG_process\\SE_train_processed\\Z林攀攀20220223（未发作）_bias_24.fif\n",
      "[done]\n",
      "../SE_train_processed/Z林攀攀20220223（未发作）_bias_32.fif\n",
      "Opening raw data file ../SE_train\\Z林攀攀20220223（未发作）_bias_32.fif...\n",
      "Isotrak not found\n",
      "    Range : 115776 ... 132160 =    113.062 ...   129.062 secs\n",
      "Ready.\n",
      "data_256.shape (17, 2048)\n",
      "data_256_samples.shape (17, 4, 512)\n",
      "data_sta.shape (17, 4, 512)\n",
      "data_x.shape: (68, 512, 1)\n"
     ]
    },
    {
     "name": "stderr",
     "output_type": "stream",
     "text": [
      "<ipython-input-4-780c8fcbedab>:73: RuntimeWarning: This filename (E:\\jupyter file\\EEG_process\\SE_train_processed\\Z林攀攀20220223（未发作）_bias_24.fif) does not conform to MNE naming conventions. All raw files should end with raw.fif, raw_sss.fif, raw_tsss.fif, _meg.fif, _eeg.fif, _ieeg.fif, raw.fif.gz, raw_sss.fif.gz, raw_tsss.fif.gz, _meg.fif.gz, _eeg.fif.gz or _ieeg.fif.gz\n",
      "  custom_raw.save(save_path,overwrite=True)\n",
      "<ipython-input-4-780c8fcbedab>:2: RuntimeWarning: This filename (../SE_train\\Z林攀攀20220223（未发作）_bias_32.fif) does not conform to MNE naming conventions. All raw files should end with raw.fif, raw_sss.fif, raw_tsss.fif, _meg.fif, _eeg.fif, _ieeg.fif, raw.fif.gz, raw_sss.fif.gz, raw_tsss.fif.gz, _meg.fif.gz, _eeg.fif.gz or _ieeg.fif.gz\n",
      "  raw = read_raw_fif(file_path)\n"
     ]
    },
    {
     "name": "stdout",
     "output_type": "stream",
     "text": [
      "pred_channel.shape (17, 2048)\n",
      "Creating RawArray with float64 data, n_channels=17, n_times=2048\n",
      "    Range : 0 ... 2047 =      0.000 ...     7.996 secs\n",
      "Ready.\n",
      "Writing E:\\jupyter file\\EEG_process\\SE_train_processed\\Z林攀攀20220223（未发作）_bias_32.fif\n",
      "Closing E:\\jupyter file\\EEG_process\\SE_train_processed\\Z林攀攀20220223（未发作）_bias_32.fif\n",
      "[done]\n",
      "../SE_train_processed/Z林攀攀20220223（未发作）_bias_40.fif\n",
      "Opening raw data file ../SE_train\\Z林攀攀20220223（未发作）_bias_40.fif...\n",
      "Isotrak not found\n",
      "    Range : 123968 ... 140352 =    121.062 ...   137.062 secs\n",
      "Ready.\n",
      "data_256.shape (17, 2048)\n",
      "data_256_samples.shape (17, 4, 512)\n",
      "data_sta.shape (17, 4, 512)\n",
      "data_x.shape: (68, 512, 1)\n"
     ]
    },
    {
     "name": "stderr",
     "output_type": "stream",
     "text": [
      "<ipython-input-4-780c8fcbedab>:73: RuntimeWarning: This filename (E:\\jupyter file\\EEG_process\\SE_train_processed\\Z林攀攀20220223（未发作）_bias_32.fif) does not conform to MNE naming conventions. All raw files should end with raw.fif, raw_sss.fif, raw_tsss.fif, _meg.fif, _eeg.fif, _ieeg.fif, raw.fif.gz, raw_sss.fif.gz, raw_tsss.fif.gz, _meg.fif.gz, _eeg.fif.gz or _ieeg.fif.gz\n",
      "  custom_raw.save(save_path,overwrite=True)\n",
      "<ipython-input-4-780c8fcbedab>:2: RuntimeWarning: This filename (../SE_train\\Z林攀攀20220223（未发作）_bias_40.fif) does not conform to MNE naming conventions. All raw files should end with raw.fif, raw_sss.fif, raw_tsss.fif, _meg.fif, _eeg.fif, _ieeg.fif, raw.fif.gz, raw_sss.fif.gz, raw_tsss.fif.gz, _meg.fif.gz, _eeg.fif.gz or _ieeg.fif.gz\n",
      "  raw = read_raw_fif(file_path)\n"
     ]
    },
    {
     "name": "stdout",
     "output_type": "stream",
     "text": [
      "pred_channel.shape (17, 2048)\n",
      "Creating RawArray with float64 data, n_channels=17, n_times=2048\n",
      "    Range : 0 ... 2047 =      0.000 ...     7.996 secs\n",
      "Ready.\n",
      "Writing E:\\jupyter file\\EEG_process\\SE_train_processed\\Z林攀攀20220223（未发作）_bias_40.fif\n",
      "Closing E:\\jupyter file\\EEG_process\\SE_train_processed\\Z林攀攀20220223（未发作）_bias_40.fif\n",
      "[done]\n",
      "../SE_train_processed/Z林攀攀20220223（未发作）_bias_8.fif\n",
      "Opening raw data file ../SE_train\\Z林攀攀20220223（未发作）_bias_8.fif...\n",
      "Isotrak not found\n",
      "    Range : 91200 ... 107584 =     89.062 ...   105.062 secs\n",
      "Ready.\n",
      "data_256.shape (17, 2048)\n",
      "data_256_samples.shape (17, 4, 512)\n",
      "data_sta.shape (17, 4, 512)\n",
      "data_x.shape: (68, 512, 1)\n"
     ]
    },
    {
     "name": "stderr",
     "output_type": "stream",
     "text": [
      "<ipython-input-4-780c8fcbedab>:73: RuntimeWarning: This filename (E:\\jupyter file\\EEG_process\\SE_train_processed\\Z林攀攀20220223（未发作）_bias_40.fif) does not conform to MNE naming conventions. All raw files should end with raw.fif, raw_sss.fif, raw_tsss.fif, _meg.fif, _eeg.fif, _ieeg.fif, raw.fif.gz, raw_sss.fif.gz, raw_tsss.fif.gz, _meg.fif.gz, _eeg.fif.gz or _ieeg.fif.gz\n",
      "  custom_raw.save(save_path,overwrite=True)\n",
      "<ipython-input-4-780c8fcbedab>:2: RuntimeWarning: This filename (../SE_train\\Z林攀攀20220223（未发作）_bias_8.fif) does not conform to MNE naming conventions. All raw files should end with raw.fif, raw_sss.fif, raw_tsss.fif, _meg.fif, _eeg.fif, _ieeg.fif, raw.fif.gz, raw_sss.fif.gz, raw_tsss.fif.gz, _meg.fif.gz, _eeg.fif.gz or _ieeg.fif.gz\n",
      "  raw = read_raw_fif(file_path)\n"
     ]
    },
    {
     "name": "stdout",
     "output_type": "stream",
     "text": [
      "pred_channel.shape (17, 2048)\n",
      "Creating RawArray with float64 data, n_channels=17, n_times=2048\n",
      "    Range : 0 ... 2047 =      0.000 ...     7.996 secs\n",
      "Ready.\n",
      "Writing E:\\jupyter file\\EEG_process\\SE_train_processed\\Z林攀攀20220223（未发作）_bias_8.fif\n",
      "Closing E:\\jupyter file\\EEG_process\\SE_train_processed\\Z林攀攀20220223（未发作）_bias_8.fif\n",
      "[done]\n",
      "../SE_train_processed/Z林攀攀20220225（未发作）_bias_0.fif\n",
      "Opening raw data file ../SE_train\\Z林攀攀20220225（未发作）_bias_0.fif...\n",
      "Isotrak not found\n",
      "    Range : 13771 ... 21963 =     13.448 ...    21.448 secs\n",
      "Ready.\n",
      "data_256.shape (17, 2048)\n",
      "data_256_samples.shape (17, 4, 512)\n",
      "data_sta.shape (17, 4, 512)\n",
      "data_x.shape: (68, 512, 1)\n"
     ]
    },
    {
     "name": "stderr",
     "output_type": "stream",
     "text": [
      "<ipython-input-4-780c8fcbedab>:73: RuntimeWarning: This filename (E:\\jupyter file\\EEG_process\\SE_train_processed\\Z林攀攀20220223（未发作）_bias_8.fif) does not conform to MNE naming conventions. All raw files should end with raw.fif, raw_sss.fif, raw_tsss.fif, _meg.fif, _eeg.fif, _ieeg.fif, raw.fif.gz, raw_sss.fif.gz, raw_tsss.fif.gz, _meg.fif.gz, _eeg.fif.gz or _ieeg.fif.gz\n",
      "  custom_raw.save(save_path,overwrite=True)\n",
      "<ipython-input-4-780c8fcbedab>:2: RuntimeWarning: This filename (../SE_train\\Z林攀攀20220225（未发作）_bias_0.fif) does not conform to MNE naming conventions. All raw files should end with raw.fif, raw_sss.fif, raw_tsss.fif, _meg.fif, _eeg.fif, _ieeg.fif, raw.fif.gz, raw_sss.fif.gz, raw_tsss.fif.gz, _meg.fif.gz, _eeg.fif.gz or _ieeg.fif.gz\n",
      "  raw = read_raw_fif(file_path)\n"
     ]
    },
    {
     "name": "stdout",
     "output_type": "stream",
     "text": [
      "pred_channel.shape (17, 2048)\n",
      "Creating RawArray with float64 data, n_channels=17, n_times=2048\n",
      "    Range : 0 ... 2047 =      0.000 ...     7.996 secs\n",
      "Ready.\n",
      "Writing E:\\jupyter file\\EEG_process\\SE_train_processed\\Z林攀攀20220225（未发作）_bias_0.fif\n",
      "Closing E:\\jupyter file\\EEG_process\\SE_train_processed\\Z林攀攀20220225（未发作）_bias_0.fif\n",
      "[done]\n",
      "../SE_train_processed/Z林攀攀20220225（未发作）_bias_16.fif\n",
      "Opening raw data file ../SE_train\\Z林攀攀20220225（未发作）_bias_16.fif...\n",
      "Isotrak not found\n",
      "    Range : 30155 ... 46539 =     29.448 ...    45.448 secs\n",
      "Ready.\n",
      "data_256.shape (17, 2048)\n",
      "data_256_samples.shape (17, 4, 512)\n",
      "data_sta.shape (17, 4, 512)\n",
      "data_x.shape: (68, 512, 1)\n"
     ]
    },
    {
     "name": "stderr",
     "output_type": "stream",
     "text": [
      "<ipython-input-4-780c8fcbedab>:73: RuntimeWarning: This filename (E:\\jupyter file\\EEG_process\\SE_train_processed\\Z林攀攀20220225（未发作）_bias_0.fif) does not conform to MNE naming conventions. All raw files should end with raw.fif, raw_sss.fif, raw_tsss.fif, _meg.fif, _eeg.fif, _ieeg.fif, raw.fif.gz, raw_sss.fif.gz, raw_tsss.fif.gz, _meg.fif.gz, _eeg.fif.gz or _ieeg.fif.gz\n",
      "  custom_raw.save(save_path,overwrite=True)\n",
      "<ipython-input-4-780c8fcbedab>:2: RuntimeWarning: This filename (../SE_train\\Z林攀攀20220225（未发作）_bias_16.fif) does not conform to MNE naming conventions. All raw files should end with raw.fif, raw_sss.fif, raw_tsss.fif, _meg.fif, _eeg.fif, _ieeg.fif, raw.fif.gz, raw_sss.fif.gz, raw_tsss.fif.gz, _meg.fif.gz, _eeg.fif.gz or _ieeg.fif.gz\n",
      "  raw = read_raw_fif(file_path)\n"
     ]
    },
    {
     "name": "stdout",
     "output_type": "stream",
     "text": [
      "pred_channel.shape (17, 2048)\n",
      "Creating RawArray with float64 data, n_channels=17, n_times=2048\n",
      "    Range : 0 ... 2047 =      0.000 ...     7.996 secs\n",
      "Ready.\n",
      "Writing E:\\jupyter file\\EEG_process\\SE_train_processed\\Z林攀攀20220225（未发作）_bias_16.fif\n",
      "Closing E:\\jupyter file\\EEG_process\\SE_train_processed\\Z林攀攀20220225（未发作）_bias_16.fif\n",
      "[done]\n",
      "../SE_train_processed/Z林攀攀20220225（未发作）_bias_24.fif\n",
      "Opening raw data file ../SE_train\\Z林攀攀20220225（未发作）_bias_24.fif...\n",
      "Isotrak not found\n",
      "    Range : 38347 ... 54731 =     37.448 ...    53.448 secs\n",
      "Ready.\n",
      "data_256.shape (17, 2048)\n",
      "data_256_samples.shape (17, 4, 512)\n",
      "data_sta.shape (17, 4, 512)\n",
      "data_x.shape: (68, 512, 1)\n"
     ]
    },
    {
     "name": "stderr",
     "output_type": "stream",
     "text": [
      "<ipython-input-4-780c8fcbedab>:73: RuntimeWarning: This filename (E:\\jupyter file\\EEG_process\\SE_train_processed\\Z林攀攀20220225（未发作）_bias_16.fif) does not conform to MNE naming conventions. All raw files should end with raw.fif, raw_sss.fif, raw_tsss.fif, _meg.fif, _eeg.fif, _ieeg.fif, raw.fif.gz, raw_sss.fif.gz, raw_tsss.fif.gz, _meg.fif.gz, _eeg.fif.gz or _ieeg.fif.gz\n",
      "  custom_raw.save(save_path,overwrite=True)\n",
      "<ipython-input-4-780c8fcbedab>:2: RuntimeWarning: This filename (../SE_train\\Z林攀攀20220225（未发作）_bias_24.fif) does not conform to MNE naming conventions. All raw files should end with raw.fif, raw_sss.fif, raw_tsss.fif, _meg.fif, _eeg.fif, _ieeg.fif, raw.fif.gz, raw_sss.fif.gz, raw_tsss.fif.gz, _meg.fif.gz, _eeg.fif.gz or _ieeg.fif.gz\n",
      "  raw = read_raw_fif(file_path)\n"
     ]
    },
    {
     "name": "stdout",
     "output_type": "stream",
     "text": [
      "pred_channel.shape (17, 2048)\n",
      "Creating RawArray with float64 data, n_channels=17, n_times=2048\n",
      "    Range : 0 ... 2047 =      0.000 ...     7.996 secs\n",
      "Ready.\n",
      "Writing E:\\jupyter file\\EEG_process\\SE_train_processed\\Z林攀攀20220225（未发作）_bias_24.fif\n",
      "Closing E:\\jupyter file\\EEG_process\\SE_train_processed\\Z林攀攀20220225（未发作）_bias_24.fif\n",
      "[done]\n",
      "../SE_train_processed/Z林攀攀20220225（未发作）_bias_32.fif\n",
      "Opening raw data file ../SE_train\\Z林攀攀20220225（未发作）_bias_32.fif...\n",
      "Isotrak not found\n",
      "    Range : 46539 ... 62923 =     45.448 ...    61.448 secs\n",
      "Ready.\n",
      "data_256.shape (17, 2048)\n",
      "data_256_samples.shape (17, 4, 512)\n",
      "data_sta.shape (17, 4, 512)\n",
      "data_x.shape: (68, 512, 1)\n"
     ]
    },
    {
     "name": "stderr",
     "output_type": "stream",
     "text": [
      "<ipython-input-4-780c8fcbedab>:73: RuntimeWarning: This filename (E:\\jupyter file\\EEG_process\\SE_train_processed\\Z林攀攀20220225（未发作）_bias_24.fif) does not conform to MNE naming conventions. All raw files should end with raw.fif, raw_sss.fif, raw_tsss.fif, _meg.fif, _eeg.fif, _ieeg.fif, raw.fif.gz, raw_sss.fif.gz, raw_tsss.fif.gz, _meg.fif.gz, _eeg.fif.gz or _ieeg.fif.gz\n",
      "  custom_raw.save(save_path,overwrite=True)\n",
      "<ipython-input-4-780c8fcbedab>:2: RuntimeWarning: This filename (../SE_train\\Z林攀攀20220225（未发作）_bias_32.fif) does not conform to MNE naming conventions. All raw files should end with raw.fif, raw_sss.fif, raw_tsss.fif, _meg.fif, _eeg.fif, _ieeg.fif, raw.fif.gz, raw_sss.fif.gz, raw_tsss.fif.gz, _meg.fif.gz, _eeg.fif.gz or _ieeg.fif.gz\n",
      "  raw = read_raw_fif(file_path)\n"
     ]
    },
    {
     "name": "stdout",
     "output_type": "stream",
     "text": [
      "pred_channel.shape (17, 2048)\n",
      "Creating RawArray with float64 data, n_channels=17, n_times=2048\n",
      "    Range : 0 ... 2047 =      0.000 ...     7.996 secs\n",
      "Ready.\n",
      "Writing E:\\jupyter file\\EEG_process\\SE_train_processed\\Z林攀攀20220225（未发作）_bias_32.fif\n",
      "Closing E:\\jupyter file\\EEG_process\\SE_train_processed\\Z林攀攀20220225（未发作）_bias_32.fif\n",
      "[done]\n",
      "../SE_train_processed/Z林攀攀20220225（未发作）_bias_40.fif\n",
      "Opening raw data file ../SE_train\\Z林攀攀20220225（未发作）_bias_40.fif...\n",
      "Isotrak not found\n",
      "    Range : 54731 ... 71115 =     53.448 ...    69.448 secs\n",
      "Ready.\n",
      "data_256.shape (17, 2048)\n",
      "data_256_samples.shape (17, 4, 512)\n",
      "data_sta.shape (17, 4, 512)\n",
      "data_x.shape: (68, 512, 1)\n"
     ]
    },
    {
     "name": "stderr",
     "output_type": "stream",
     "text": [
      "<ipython-input-4-780c8fcbedab>:73: RuntimeWarning: This filename (E:\\jupyter file\\EEG_process\\SE_train_processed\\Z林攀攀20220225（未发作）_bias_32.fif) does not conform to MNE naming conventions. All raw files should end with raw.fif, raw_sss.fif, raw_tsss.fif, _meg.fif, _eeg.fif, _ieeg.fif, raw.fif.gz, raw_sss.fif.gz, raw_tsss.fif.gz, _meg.fif.gz, _eeg.fif.gz or _ieeg.fif.gz\n",
      "  custom_raw.save(save_path,overwrite=True)\n",
      "<ipython-input-4-780c8fcbedab>:2: RuntimeWarning: This filename (../SE_train\\Z林攀攀20220225（未发作）_bias_40.fif) does not conform to MNE naming conventions. All raw files should end with raw.fif, raw_sss.fif, raw_tsss.fif, _meg.fif, _eeg.fif, _ieeg.fif, raw.fif.gz, raw_sss.fif.gz, raw_tsss.fif.gz, _meg.fif.gz, _eeg.fif.gz or _ieeg.fif.gz\n",
      "  raw = read_raw_fif(file_path)\n"
     ]
    },
    {
     "name": "stdout",
     "output_type": "stream",
     "text": [
      "pred_channel.shape (17, 2048)\n",
      "Creating RawArray with float64 data, n_channels=17, n_times=2048\n",
      "    Range : 0 ... 2047 =      0.000 ...     7.996 secs\n",
      "Ready.\n",
      "Writing E:\\jupyter file\\EEG_process\\SE_train_processed\\Z林攀攀20220225（未发作）_bias_40.fif\n",
      "Closing E:\\jupyter file\\EEG_process\\SE_train_processed\\Z林攀攀20220225（未发作）_bias_40.fif\n",
      "[done]\n",
      "../SE_train_processed/Z林攀攀20220225（未发作）_bias_8.fif\n",
      "Opening raw data file ../SE_train\\Z林攀攀20220225（未发作）_bias_8.fif...\n",
      "Isotrak not found\n",
      "    Range : 21963 ... 38347 =     21.448 ...    37.448 secs\n",
      "Ready.\n",
      "data_256.shape (17, 2048)\n",
      "data_256_samples.shape (17, 4, 512)\n",
      "data_sta.shape (17, 4, 512)\n",
      "data_x.shape: (68, 512, 1)\n"
     ]
    },
    {
     "name": "stderr",
     "output_type": "stream",
     "text": [
      "<ipython-input-4-780c8fcbedab>:73: RuntimeWarning: This filename (E:\\jupyter file\\EEG_process\\SE_train_processed\\Z林攀攀20220225（未发作）_bias_40.fif) does not conform to MNE naming conventions. All raw files should end with raw.fif, raw_sss.fif, raw_tsss.fif, _meg.fif, _eeg.fif, _ieeg.fif, raw.fif.gz, raw_sss.fif.gz, raw_tsss.fif.gz, _meg.fif.gz, _eeg.fif.gz or _ieeg.fif.gz\n",
      "  custom_raw.save(save_path,overwrite=True)\n",
      "<ipython-input-4-780c8fcbedab>:2: RuntimeWarning: This filename (../SE_train\\Z林攀攀20220225（未发作）_bias_8.fif) does not conform to MNE naming conventions. All raw files should end with raw.fif, raw_sss.fif, raw_tsss.fif, _meg.fif, _eeg.fif, _ieeg.fif, raw.fif.gz, raw_sss.fif.gz, raw_tsss.fif.gz, _meg.fif.gz, _eeg.fif.gz or _ieeg.fif.gz\n",
      "  raw = read_raw_fif(file_path)\n"
     ]
    },
    {
     "name": "stdout",
     "output_type": "stream",
     "text": [
      "pred_channel.shape (17, 2048)\n",
      "Creating RawArray with float64 data, n_channels=17, n_times=2048\n",
      "    Range : 0 ... 2047 =      0.000 ...     7.996 secs\n",
      "Ready.\n",
      "Writing E:\\jupyter file\\EEG_process\\SE_train_processed\\Z林攀攀20220225（未发作）_bias_8.fif\n",
      "Closing E:\\jupyter file\\EEG_process\\SE_train_processed\\Z林攀攀20220225（未发作）_bias_8.fif\n",
      "[done]\n",
      "../SE_train_processed/Z林攀攀20220228_bias_0.fif\n",
      "Opening raw data file ../SE_train\\Z林攀攀20220228_bias_0.fif...\n",
      "Isotrak not found\n",
      "    Range : 38073 ... 46265 =     37.181 ...    45.181 secs\n",
      "Ready.\n",
      "data_256.shape (17, 2048)\n",
      "data_256_samples.shape (17, 4, 512)\n",
      "data_sta.shape (17, 4, 512)\n",
      "data_x.shape: (68, 512, 1)\n"
     ]
    },
    {
     "name": "stderr",
     "output_type": "stream",
     "text": [
      "<ipython-input-4-780c8fcbedab>:73: RuntimeWarning: This filename (E:\\jupyter file\\EEG_process\\SE_train_processed\\Z林攀攀20220225（未发作）_bias_8.fif) does not conform to MNE naming conventions. All raw files should end with raw.fif, raw_sss.fif, raw_tsss.fif, _meg.fif, _eeg.fif, _ieeg.fif, raw.fif.gz, raw_sss.fif.gz, raw_tsss.fif.gz, _meg.fif.gz, _eeg.fif.gz or _ieeg.fif.gz\n",
      "  custom_raw.save(save_path,overwrite=True)\n",
      "<ipython-input-4-780c8fcbedab>:2: RuntimeWarning: This filename (../SE_train\\Z林攀攀20220228_bias_0.fif) does not conform to MNE naming conventions. All raw files should end with raw.fif, raw_sss.fif, raw_tsss.fif, _meg.fif, _eeg.fif, _ieeg.fif, raw.fif.gz, raw_sss.fif.gz, raw_tsss.fif.gz, _meg.fif.gz, _eeg.fif.gz or _ieeg.fif.gz\n",
      "  raw = read_raw_fif(file_path)\n"
     ]
    },
    {
     "name": "stdout",
     "output_type": "stream",
     "text": [
      "pred_channel.shape (17, 2048)\n",
      "Creating RawArray with float64 data, n_channels=17, n_times=2048\n",
      "    Range : 0 ... 2047 =      0.000 ...     7.996 secs\n",
      "Ready.\n",
      "Writing E:\\jupyter file\\EEG_process\\SE_train_processed\\Z林攀攀20220228_bias_0.fif\n",
      "Closing E:\\jupyter file\\EEG_process\\SE_train_processed\\Z林攀攀20220228_bias_0.fif\n",
      "[done]\n",
      "../SE_train_processed/Z沈伟20220311_bias_0.fif\n",
      "Opening raw data file ../SE_train\\Z沈伟20220311_bias_0.fif...\n",
      "Isotrak not found\n",
      "    Range : 331231 ... 339423 =    323.468 ...   331.468 secs\n",
      "Ready.\n",
      "data_256.shape (17, 2048)\n",
      "data_256_samples.shape (17, 4, 512)\n",
      "data_sta.shape (17, 4, 512)\n",
      "data_x.shape: (68, 512, 1)\n"
     ]
    },
    {
     "name": "stderr",
     "output_type": "stream",
     "text": [
      "<ipython-input-4-780c8fcbedab>:73: RuntimeWarning: This filename (E:\\jupyter file\\EEG_process\\SE_train_processed\\Z林攀攀20220228_bias_0.fif) does not conform to MNE naming conventions. All raw files should end with raw.fif, raw_sss.fif, raw_tsss.fif, _meg.fif, _eeg.fif, _ieeg.fif, raw.fif.gz, raw_sss.fif.gz, raw_tsss.fif.gz, _meg.fif.gz, _eeg.fif.gz or _ieeg.fif.gz\n",
      "  custom_raw.save(save_path,overwrite=True)\n",
      "<ipython-input-4-780c8fcbedab>:2: RuntimeWarning: This filename (../SE_train\\Z沈伟20220311_bias_0.fif) does not conform to MNE naming conventions. All raw files should end with raw.fif, raw_sss.fif, raw_tsss.fif, _meg.fif, _eeg.fif, _ieeg.fif, raw.fif.gz, raw_sss.fif.gz, raw_tsss.fif.gz, _meg.fif.gz, _eeg.fif.gz or _ieeg.fif.gz\n",
      "  raw = read_raw_fif(file_path)\n"
     ]
    },
    {
     "name": "stdout",
     "output_type": "stream",
     "text": [
      "pred_channel.shape (17, 2048)\n",
      "Creating RawArray with float64 data, n_channels=17, n_times=2048\n",
      "    Range : 0 ... 2047 =      0.000 ...     7.996 secs\n",
      "Ready.\n",
      "Writing E:\\jupyter file\\EEG_process\\SE_train_processed\\Z沈伟20220311_bias_0.fif\n",
      "Closing E:\\jupyter file\\EEG_process\\SE_train_processed\\Z沈伟20220311_bias_0.fif\n",
      "[done]\n",
      "../SE_train_processed/Z沈伟20220314（未发作）_bias_0.fif\n",
      "Opening raw data file ../SE_train\\Z沈伟20220314（未发作）_bias_0.fif...\n",
      "Isotrak not found\n",
      "    Range : 51179 ... 59371 =     49.979 ...    57.979 secs\n",
      "Ready.\n",
      "data_256.shape (17, 2048)\n",
      "data_256_samples.shape (17, 4, 512)\n",
      "data_sta.shape (17, 4, 512)\n",
      "data_x.shape: (68, 512, 1)\n"
     ]
    },
    {
     "name": "stderr",
     "output_type": "stream",
     "text": [
      "<ipython-input-4-780c8fcbedab>:73: RuntimeWarning: This filename (E:\\jupyter file\\EEG_process\\SE_train_processed\\Z沈伟20220311_bias_0.fif) does not conform to MNE naming conventions. All raw files should end with raw.fif, raw_sss.fif, raw_tsss.fif, _meg.fif, _eeg.fif, _ieeg.fif, raw.fif.gz, raw_sss.fif.gz, raw_tsss.fif.gz, _meg.fif.gz, _eeg.fif.gz or _ieeg.fif.gz\n",
      "  custom_raw.save(save_path,overwrite=True)\n",
      "<ipython-input-4-780c8fcbedab>:2: RuntimeWarning: This filename (../SE_train\\Z沈伟20220314（未发作）_bias_0.fif) does not conform to MNE naming conventions. All raw files should end with raw.fif, raw_sss.fif, raw_tsss.fif, _meg.fif, _eeg.fif, _ieeg.fif, raw.fif.gz, raw_sss.fif.gz, raw_tsss.fif.gz, _meg.fif.gz, _eeg.fif.gz or _ieeg.fif.gz\n",
      "  raw = read_raw_fif(file_path)\n"
     ]
    },
    {
     "name": "stdout",
     "output_type": "stream",
     "text": [
      "pred_channel.shape (17, 2048)\n",
      "Creating RawArray with float64 data, n_channels=17, n_times=2048\n",
      "    Range : 0 ... 2047 =      0.000 ...     7.996 secs\n",
      "Ready.\n",
      "Writing E:\\jupyter file\\EEG_process\\SE_train_processed\\Z沈伟20220314（未发作）_bias_0.fif\n",
      "Closing E:\\jupyter file\\EEG_process\\SE_train_processed\\Z沈伟20220314（未发作）_bias_0.fif\n",
      "[done]\n",
      "../SE_train_processed/Z沈伟20220314（未发作）_bias_16.fif\n",
      "Opening raw data file ../SE_train\\Z沈伟20220314（未发作）_bias_16.fif...\n",
      "Isotrak not found\n",
      "    Range : 67563 ... 83947 =     65.979 ...    81.979 secs\n",
      "Ready.\n",
      "data_256.shape (17, 2048)\n",
      "data_256_samples.shape (17, 4, 512)\n",
      "data_sta.shape (17, 4, 512)\n",
      "data_x.shape: (68, 512, 1)\n"
     ]
    },
    {
     "name": "stderr",
     "output_type": "stream",
     "text": [
      "<ipython-input-4-780c8fcbedab>:73: RuntimeWarning: This filename (E:\\jupyter file\\EEG_process\\SE_train_processed\\Z沈伟20220314（未发作）_bias_0.fif) does not conform to MNE naming conventions. All raw files should end with raw.fif, raw_sss.fif, raw_tsss.fif, _meg.fif, _eeg.fif, _ieeg.fif, raw.fif.gz, raw_sss.fif.gz, raw_tsss.fif.gz, _meg.fif.gz, _eeg.fif.gz or _ieeg.fif.gz\n",
      "  custom_raw.save(save_path,overwrite=True)\n",
      "<ipython-input-4-780c8fcbedab>:2: RuntimeWarning: This filename (../SE_train\\Z沈伟20220314（未发作）_bias_16.fif) does not conform to MNE naming conventions. All raw files should end with raw.fif, raw_sss.fif, raw_tsss.fif, _meg.fif, _eeg.fif, _ieeg.fif, raw.fif.gz, raw_sss.fif.gz, raw_tsss.fif.gz, _meg.fif.gz, _eeg.fif.gz or _ieeg.fif.gz\n",
      "  raw = read_raw_fif(file_path)\n"
     ]
    },
    {
     "name": "stdout",
     "output_type": "stream",
     "text": [
      "pred_channel.shape (17, 2048)\n",
      "Creating RawArray with float64 data, n_channels=17, n_times=2048\n",
      "    Range : 0 ... 2047 =      0.000 ...     7.996 secs\n",
      "Ready.\n",
      "Writing E:\\jupyter file\\EEG_process\\SE_train_processed\\Z沈伟20220314（未发作）_bias_16.fif\n",
      "Closing E:\\jupyter file\\EEG_process\\SE_train_processed\\Z沈伟20220314（未发作）_bias_16.fif\n",
      "[done]\n",
      "../SE_train_processed/Z沈伟20220314（未发作）_bias_24.fif\n",
      "Opening raw data file ../SE_train\\Z沈伟20220314（未发作）_bias_24.fif...\n",
      "Isotrak not found\n",
      "    Range : 75755 ... 92139 =     73.979 ...    89.979 secs\n",
      "Ready.\n",
      "data_256.shape (17, 2048)\n",
      "data_256_samples.shape (17, 4, 512)\n",
      "data_sta.shape (17, 4, 512)\n",
      "data_x.shape: (68, 512, 1)\n"
     ]
    },
    {
     "name": "stderr",
     "output_type": "stream",
     "text": [
      "<ipython-input-4-780c8fcbedab>:73: RuntimeWarning: This filename (E:\\jupyter file\\EEG_process\\SE_train_processed\\Z沈伟20220314（未发作）_bias_16.fif) does not conform to MNE naming conventions. All raw files should end with raw.fif, raw_sss.fif, raw_tsss.fif, _meg.fif, _eeg.fif, _ieeg.fif, raw.fif.gz, raw_sss.fif.gz, raw_tsss.fif.gz, _meg.fif.gz, _eeg.fif.gz or _ieeg.fif.gz\n",
      "  custom_raw.save(save_path,overwrite=True)\n",
      "<ipython-input-4-780c8fcbedab>:2: RuntimeWarning: This filename (../SE_train\\Z沈伟20220314（未发作）_bias_24.fif) does not conform to MNE naming conventions. All raw files should end with raw.fif, raw_sss.fif, raw_tsss.fif, _meg.fif, _eeg.fif, _ieeg.fif, raw.fif.gz, raw_sss.fif.gz, raw_tsss.fif.gz, _meg.fif.gz, _eeg.fif.gz or _ieeg.fif.gz\n",
      "  raw = read_raw_fif(file_path)\n"
     ]
    },
    {
     "name": "stdout",
     "output_type": "stream",
     "text": [
      "pred_channel.shape (17, 2048)\n",
      "Creating RawArray with float64 data, n_channels=17, n_times=2048\n",
      "    Range : 0 ... 2047 =      0.000 ...     7.996 secs\n",
      "Ready.\n",
      "Writing E:\\jupyter file\\EEG_process\\SE_train_processed\\Z沈伟20220314（未发作）_bias_24.fif\n",
      "Closing E:\\jupyter file\\EEG_process\\SE_train_processed\\Z沈伟20220314（未发作）_bias_24.fif\n",
      "[done]\n",
      "../SE_train_processed/Z沈伟20220314（未发作）_bias_32.fif\n",
      "Opening raw data file ../SE_train\\Z沈伟20220314（未发作）_bias_32.fif...\n",
      "Isotrak not found\n",
      "    Range : 83947 ... 100331 =     81.979 ...    97.979 secs\n",
      "Ready.\n",
      "data_256.shape (17, 2048)\n",
      "data_256_samples.shape (17, 4, 512)\n",
      "data_sta.shape (17, 4, 512)\n",
      "data_x.shape: (68, 512, 1)\n"
     ]
    },
    {
     "name": "stderr",
     "output_type": "stream",
     "text": [
      "<ipython-input-4-780c8fcbedab>:73: RuntimeWarning: This filename (E:\\jupyter file\\EEG_process\\SE_train_processed\\Z沈伟20220314（未发作）_bias_24.fif) does not conform to MNE naming conventions. All raw files should end with raw.fif, raw_sss.fif, raw_tsss.fif, _meg.fif, _eeg.fif, _ieeg.fif, raw.fif.gz, raw_sss.fif.gz, raw_tsss.fif.gz, _meg.fif.gz, _eeg.fif.gz or _ieeg.fif.gz\n",
      "  custom_raw.save(save_path,overwrite=True)\n",
      "<ipython-input-4-780c8fcbedab>:2: RuntimeWarning: This filename (../SE_train\\Z沈伟20220314（未发作）_bias_32.fif) does not conform to MNE naming conventions. All raw files should end with raw.fif, raw_sss.fif, raw_tsss.fif, _meg.fif, _eeg.fif, _ieeg.fif, raw.fif.gz, raw_sss.fif.gz, raw_tsss.fif.gz, _meg.fif.gz, _eeg.fif.gz or _ieeg.fif.gz\n",
      "  raw = read_raw_fif(file_path)\n"
     ]
    },
    {
     "name": "stdout",
     "output_type": "stream",
     "text": [
      "pred_channel.shape (17, 2048)\n",
      "Creating RawArray with float64 data, n_channels=17, n_times=2048\n",
      "    Range : 0 ... 2047 =      0.000 ...     7.996 secs\n",
      "Ready.\n",
      "Writing E:\\jupyter file\\EEG_process\\SE_train_processed\\Z沈伟20220314（未发作）_bias_32.fif\n",
      "Closing E:\\jupyter file\\EEG_process\\SE_train_processed\\Z沈伟20220314（未发作）_bias_32.fif\n",
      "[done]\n",
      "../SE_train_processed/Z沈伟20220314（未发作）_bias_40.fif\n",
      "Opening raw data file ../SE_train\\Z沈伟20220314（未发作）_bias_40.fif...\n",
      "Isotrak not found\n",
      "    Range : 92139 ... 108523 =     89.979 ...   105.979 secs\n",
      "Ready.\n",
      "data_256.shape (17, 2048)\n",
      "data_256_samples.shape (17, 4, 512)\n",
      "data_sta.shape (17, 4, 512)\n",
      "data_x.shape: (68, 512, 1)\n"
     ]
    },
    {
     "name": "stderr",
     "output_type": "stream",
     "text": [
      "<ipython-input-4-780c8fcbedab>:73: RuntimeWarning: This filename (E:\\jupyter file\\EEG_process\\SE_train_processed\\Z沈伟20220314（未发作）_bias_32.fif) does not conform to MNE naming conventions. All raw files should end with raw.fif, raw_sss.fif, raw_tsss.fif, _meg.fif, _eeg.fif, _ieeg.fif, raw.fif.gz, raw_sss.fif.gz, raw_tsss.fif.gz, _meg.fif.gz, _eeg.fif.gz or _ieeg.fif.gz\n",
      "  custom_raw.save(save_path,overwrite=True)\n",
      "<ipython-input-4-780c8fcbedab>:2: RuntimeWarning: This filename (../SE_train\\Z沈伟20220314（未发作）_bias_40.fif) does not conform to MNE naming conventions. All raw files should end with raw.fif, raw_sss.fif, raw_tsss.fif, _meg.fif, _eeg.fif, _ieeg.fif, raw.fif.gz, raw_sss.fif.gz, raw_tsss.fif.gz, _meg.fif.gz, _eeg.fif.gz or _ieeg.fif.gz\n",
      "  raw = read_raw_fif(file_path)\n"
     ]
    },
    {
     "name": "stdout",
     "output_type": "stream",
     "text": [
      "pred_channel.shape (17, 2048)\n",
      "Creating RawArray with float64 data, n_channels=17, n_times=2048\n",
      "    Range : 0 ... 2047 =      0.000 ...     7.996 secs\n",
      "Ready.\n",
      "Writing E:\\jupyter file\\EEG_process\\SE_train_processed\\Z沈伟20220314（未发作）_bias_40.fif\n",
      "Closing E:\\jupyter file\\EEG_process\\SE_train_processed\\Z沈伟20220314（未发作）_bias_40.fif\n",
      "[done]\n",
      "../SE_train_processed/Z沈伟20220314（未发作）_bias_8.fif\n",
      "Opening raw data file ../SE_train\\Z沈伟20220314（未发作）_bias_8.fif...\n",
      "Isotrak not found\n",
      "    Range : 59371 ... 75755 =     57.979 ...    73.979 secs\n",
      "Ready.\n",
      "data_256.shape (17, 2048)\n",
      "data_256_samples.shape (17, 4, 512)\n",
      "data_sta.shape (17, 4, 512)\n",
      "data_x.shape: (68, 512, 1)\n"
     ]
    },
    {
     "name": "stderr",
     "output_type": "stream",
     "text": [
      "<ipython-input-4-780c8fcbedab>:73: RuntimeWarning: This filename (E:\\jupyter file\\EEG_process\\SE_train_processed\\Z沈伟20220314（未发作）_bias_40.fif) does not conform to MNE naming conventions. All raw files should end with raw.fif, raw_sss.fif, raw_tsss.fif, _meg.fif, _eeg.fif, _ieeg.fif, raw.fif.gz, raw_sss.fif.gz, raw_tsss.fif.gz, _meg.fif.gz, _eeg.fif.gz or _ieeg.fif.gz\n",
      "  custom_raw.save(save_path,overwrite=True)\n",
      "<ipython-input-4-780c8fcbedab>:2: RuntimeWarning: This filename (../SE_train\\Z沈伟20220314（未发作）_bias_8.fif) does not conform to MNE naming conventions. All raw files should end with raw.fif, raw_sss.fif, raw_tsss.fif, _meg.fif, _eeg.fif, _ieeg.fif, raw.fif.gz, raw_sss.fif.gz, raw_tsss.fif.gz, _meg.fif.gz, _eeg.fif.gz or _ieeg.fif.gz\n",
      "  raw = read_raw_fif(file_path)\n"
     ]
    },
    {
     "name": "stdout",
     "output_type": "stream",
     "text": [
      "pred_channel.shape (17, 2048)\n",
      "Creating RawArray with float64 data, n_channels=17, n_times=2048\n",
      "    Range : 0 ... 2047 =      0.000 ...     7.996 secs\n",
      "Ready.\n",
      "Writing E:\\jupyter file\\EEG_process\\SE_train_processed\\Z沈伟20220314（未发作）_bias_8.fif\n",
      "Closing E:\\jupyter file\\EEG_process\\SE_train_processed\\Z沈伟20220314（未发作）_bias_8.fif\n",
      "[done]\n",
      "../SE_train_processed/Z沈伟20220316_bias_0.fif\n",
      "Opening raw data file ../SE_train\\Z沈伟20220316_bias_0.fif...\n",
      "Isotrak not found\n",
      "    Range : 156928 ... 165120 =    153.250 ...   161.250 secs\n",
      "Ready.\n",
      "data_256.shape (17, 2048)\n",
      "data_256_samples.shape (17, 4, 512)\n",
      "data_sta.shape (17, 4, 512)\n",
      "data_x.shape: (68, 512, 1)\n"
     ]
    },
    {
     "name": "stderr",
     "output_type": "stream",
     "text": [
      "<ipython-input-4-780c8fcbedab>:73: RuntimeWarning: This filename (E:\\jupyter file\\EEG_process\\SE_train_processed\\Z沈伟20220314（未发作）_bias_8.fif) does not conform to MNE naming conventions. All raw files should end with raw.fif, raw_sss.fif, raw_tsss.fif, _meg.fif, _eeg.fif, _ieeg.fif, raw.fif.gz, raw_sss.fif.gz, raw_tsss.fif.gz, _meg.fif.gz, _eeg.fif.gz or _ieeg.fif.gz\n",
      "  custom_raw.save(save_path,overwrite=True)\n",
      "<ipython-input-4-780c8fcbedab>:2: RuntimeWarning: This filename (../SE_train\\Z沈伟20220316_bias_0.fif) does not conform to MNE naming conventions. All raw files should end with raw.fif, raw_sss.fif, raw_tsss.fif, _meg.fif, _eeg.fif, _ieeg.fif, raw.fif.gz, raw_sss.fif.gz, raw_tsss.fif.gz, _meg.fif.gz, _eeg.fif.gz or _ieeg.fif.gz\n",
      "  raw = read_raw_fif(file_path)\n"
     ]
    },
    {
     "name": "stdout",
     "output_type": "stream",
     "text": [
      "pred_channel.shape (17, 2048)\n",
      "Creating RawArray with float64 data, n_channels=17, n_times=2048\n",
      "    Range : 0 ... 2047 =      0.000 ...     7.996 secs\n",
      "Ready.\n",
      "Writing E:\\jupyter file\\EEG_process\\SE_train_processed\\Z沈伟20220316_bias_0.fif\n",
      "Closing E:\\jupyter file\\EEG_process\\SE_train_processed\\Z沈伟20220316_bias_0.fif\n",
      "[done]\n",
      "../SE_train_processed/Z沈伟20220318_bias_0.fif\n",
      "Opening raw data file ../SE_train\\Z沈伟20220318_bias_0.fif...\n",
      "Isotrak not found\n",
      "    Range : 50914 ... 59106 =     49.721 ...    57.721 secs\n",
      "Ready.\n",
      "data_256.shape (17, 2048)\n",
      "data_256_samples.shape (17, 4, 512)\n",
      "data_sta.shape (17, 4, 512)\n",
      "data_x.shape: (68, 512, 1)\n"
     ]
    },
    {
     "name": "stderr",
     "output_type": "stream",
     "text": [
      "<ipython-input-4-780c8fcbedab>:73: RuntimeWarning: This filename (E:\\jupyter file\\EEG_process\\SE_train_processed\\Z沈伟20220316_bias_0.fif) does not conform to MNE naming conventions. All raw files should end with raw.fif, raw_sss.fif, raw_tsss.fif, _meg.fif, _eeg.fif, _ieeg.fif, raw.fif.gz, raw_sss.fif.gz, raw_tsss.fif.gz, _meg.fif.gz, _eeg.fif.gz or _ieeg.fif.gz\n",
      "  custom_raw.save(save_path,overwrite=True)\n",
      "<ipython-input-4-780c8fcbedab>:2: RuntimeWarning: This filename (../SE_train\\Z沈伟20220318_bias_0.fif) does not conform to MNE naming conventions. All raw files should end with raw.fif, raw_sss.fif, raw_tsss.fif, _meg.fif, _eeg.fif, _ieeg.fif, raw.fif.gz, raw_sss.fif.gz, raw_tsss.fif.gz, _meg.fif.gz, _eeg.fif.gz or _ieeg.fif.gz\n",
      "  raw = read_raw_fif(file_path)\n"
     ]
    },
    {
     "name": "stdout",
     "output_type": "stream",
     "text": [
      "pred_channel.shape (17, 2048)\n",
      "Creating RawArray with float64 data, n_channels=17, n_times=2048\n",
      "    Range : 0 ... 2047 =      0.000 ...     7.996 secs\n",
      "Ready.\n",
      "Writing E:\\jupyter file\\EEG_process\\SE_train_processed\\Z沈伟20220318_bias_0.fif\n",
      "Closing E:\\jupyter file\\EEG_process\\SE_train_processed\\Z沈伟20220318_bias_0.fif\n",
      "[done]\n",
      "../SE_train_processed/Z肖星星20220325_bias_0.fif\n",
      "Opening raw data file ../SE_train\\Z肖星星20220325_bias_0.fif...\n",
      "Isotrak not found\n",
      "    Range : 385800 ... 393992 =    376.758 ...   384.758 secs\n",
      "Ready.\n",
      "data_256.shape (17, 2048)\n",
      "data_256_samples.shape (17, 4, 512)\n",
      "data_sta.shape (17, 4, 512)\n",
      "data_x.shape: (68, 512, 1)\n"
     ]
    },
    {
     "name": "stderr",
     "output_type": "stream",
     "text": [
      "<ipython-input-4-780c8fcbedab>:73: RuntimeWarning: This filename (E:\\jupyter file\\EEG_process\\SE_train_processed\\Z沈伟20220318_bias_0.fif) does not conform to MNE naming conventions. All raw files should end with raw.fif, raw_sss.fif, raw_tsss.fif, _meg.fif, _eeg.fif, _ieeg.fif, raw.fif.gz, raw_sss.fif.gz, raw_tsss.fif.gz, _meg.fif.gz, _eeg.fif.gz or _ieeg.fif.gz\n",
      "  custom_raw.save(save_path,overwrite=True)\n",
      "<ipython-input-4-780c8fcbedab>:2: RuntimeWarning: This filename (../SE_train\\Z肖星星20220325_bias_0.fif) does not conform to MNE naming conventions. All raw files should end with raw.fif, raw_sss.fif, raw_tsss.fif, _meg.fif, _eeg.fif, _ieeg.fif, raw.fif.gz, raw_sss.fif.gz, raw_tsss.fif.gz, _meg.fif.gz, _eeg.fif.gz or _ieeg.fif.gz\n",
      "  raw = read_raw_fif(file_path)\n"
     ]
    },
    {
     "name": "stdout",
     "output_type": "stream",
     "text": [
      "pred_channel.shape (17, 2048)\n",
      "Creating RawArray with float64 data, n_channels=17, n_times=2048\n",
      "    Range : 0 ... 2047 =      0.000 ...     7.996 secs\n",
      "Ready.\n",
      "Writing E:\\jupyter file\\EEG_process\\SE_train_processed\\Z肖星星20220325_bias_0.fif\n",
      "Closing E:\\jupyter file\\EEG_process\\SE_train_processed\\Z肖星星20220325_bias_0.fif\n",
      "[done]\n",
      "../SE_train_processed/Z肖星星20220328_bias_0.fif\n",
      "Opening raw data file ../SE_train\\Z肖星星20220328_bias_0.fif...\n",
      "Isotrak not found\n",
      "    Range : 72393 ... 80585 =     70.696 ...    78.696 secs\n",
      "Ready.\n",
      "data_256.shape (17, 2048)\n",
      "data_256_samples.shape (17, 4, 512)\n",
      "data_sta.shape (17, 4, 512)\n",
      "data_x.shape: (68, 512, 1)\n"
     ]
    },
    {
     "name": "stderr",
     "output_type": "stream",
     "text": [
      "<ipython-input-4-780c8fcbedab>:73: RuntimeWarning: This filename (E:\\jupyter file\\EEG_process\\SE_train_processed\\Z肖星星20220325_bias_0.fif) does not conform to MNE naming conventions. All raw files should end with raw.fif, raw_sss.fif, raw_tsss.fif, _meg.fif, _eeg.fif, _ieeg.fif, raw.fif.gz, raw_sss.fif.gz, raw_tsss.fif.gz, _meg.fif.gz, _eeg.fif.gz or _ieeg.fif.gz\n",
      "  custom_raw.save(save_path,overwrite=True)\n",
      "<ipython-input-4-780c8fcbedab>:2: RuntimeWarning: This filename (../SE_train\\Z肖星星20220328_bias_0.fif) does not conform to MNE naming conventions. All raw files should end with raw.fif, raw_sss.fif, raw_tsss.fif, _meg.fif, _eeg.fif, _ieeg.fif, raw.fif.gz, raw_sss.fif.gz, raw_tsss.fif.gz, _meg.fif.gz, _eeg.fif.gz or _ieeg.fif.gz\n",
      "  raw = read_raw_fif(file_path)\n"
     ]
    },
    {
     "name": "stdout",
     "output_type": "stream",
     "text": [
      "pred_channel.shape (17, 2048)\n",
      "Creating RawArray with float64 data, n_channels=17, n_times=2048\n",
      "    Range : 0 ... 2047 =      0.000 ...     7.996 secs\n",
      "Ready.\n",
      "Writing E:\\jupyter file\\EEG_process\\SE_train_processed\\Z肖星星20220328_bias_0.fif\n",
      "Closing E:\\jupyter file\\EEG_process\\SE_train_processed\\Z肖星星20220328_bias_0.fif\n",
      "[done]\n",
      "../SE_train_processed/Z肖星星20220330（未发作）_bias_0.fif\n",
      "Opening raw data file ../SE_train\\Z肖星星20220330（未发作）_bias_0.fif...\n",
      "Isotrak not found\n",
      "    Range : 19135 ... 27327 =     18.687 ...    26.687 secs\n",
      "Ready.\n",
      "data_256.shape (17, 2048)\n",
      "data_256_samples.shape (17, 4, 512)\n",
      "data_sta.shape (17, 4, 512)\n",
      "data_x.shape: (68, 512, 1)\n"
     ]
    },
    {
     "name": "stderr",
     "output_type": "stream",
     "text": [
      "<ipython-input-4-780c8fcbedab>:73: RuntimeWarning: This filename (E:\\jupyter file\\EEG_process\\SE_train_processed\\Z肖星星20220328_bias_0.fif) does not conform to MNE naming conventions. All raw files should end with raw.fif, raw_sss.fif, raw_tsss.fif, _meg.fif, _eeg.fif, _ieeg.fif, raw.fif.gz, raw_sss.fif.gz, raw_tsss.fif.gz, _meg.fif.gz, _eeg.fif.gz or _ieeg.fif.gz\n",
      "  custom_raw.save(save_path,overwrite=True)\n",
      "<ipython-input-4-780c8fcbedab>:2: RuntimeWarning: This filename (../SE_train\\Z肖星星20220330（未发作）_bias_0.fif) does not conform to MNE naming conventions. All raw files should end with raw.fif, raw_sss.fif, raw_tsss.fif, _meg.fif, _eeg.fif, _ieeg.fif, raw.fif.gz, raw_sss.fif.gz, raw_tsss.fif.gz, _meg.fif.gz, _eeg.fif.gz or _ieeg.fif.gz\n",
      "  raw = read_raw_fif(file_path)\n"
     ]
    },
    {
     "name": "stdout",
     "output_type": "stream",
     "text": [
      "pred_channel.shape (17, 2048)\n",
      "Creating RawArray with float64 data, n_channels=17, n_times=2048\n",
      "    Range : 0 ... 2047 =      0.000 ...     7.996 secs\n",
      "Ready.\n",
      "Writing E:\\jupyter file\\EEG_process\\SE_train_processed\\Z肖星星20220330（未发作）_bias_0.fif\n",
      "Closing E:\\jupyter file\\EEG_process\\SE_train_processed\\Z肖星星20220330（未发作）_bias_0.fif\n",
      "[done]\n",
      "../SE_train_processed/Z肖星星20220330（未发作）_bias_16.fif\n",
      "Opening raw data file ../SE_train\\Z肖星星20220330（未发作）_bias_16.fif...\n",
      "Isotrak not found\n",
      "    Range : 35519 ... 51903 =     34.687 ...    50.687 secs\n",
      "Ready.\n",
      "data_256.shape (17, 2048)\n",
      "data_256_samples.shape (17, 4, 512)\n",
      "data_sta.shape (17, 4, 512)\n",
      "data_x.shape: (68, 512, 1)\n"
     ]
    },
    {
     "name": "stderr",
     "output_type": "stream",
     "text": [
      "<ipython-input-4-780c8fcbedab>:73: RuntimeWarning: This filename (E:\\jupyter file\\EEG_process\\SE_train_processed\\Z肖星星20220330（未发作）_bias_0.fif) does not conform to MNE naming conventions. All raw files should end with raw.fif, raw_sss.fif, raw_tsss.fif, _meg.fif, _eeg.fif, _ieeg.fif, raw.fif.gz, raw_sss.fif.gz, raw_tsss.fif.gz, _meg.fif.gz, _eeg.fif.gz or _ieeg.fif.gz\n",
      "  custom_raw.save(save_path,overwrite=True)\n",
      "<ipython-input-4-780c8fcbedab>:2: RuntimeWarning: This filename (../SE_train\\Z肖星星20220330（未发作）_bias_16.fif) does not conform to MNE naming conventions. All raw files should end with raw.fif, raw_sss.fif, raw_tsss.fif, _meg.fif, _eeg.fif, _ieeg.fif, raw.fif.gz, raw_sss.fif.gz, raw_tsss.fif.gz, _meg.fif.gz, _eeg.fif.gz or _ieeg.fif.gz\n",
      "  raw = read_raw_fif(file_path)\n"
     ]
    },
    {
     "name": "stdout",
     "output_type": "stream",
     "text": [
      "pred_channel.shape (17, 2048)\n",
      "Creating RawArray with float64 data, n_channels=17, n_times=2048\n",
      "    Range : 0 ... 2047 =      0.000 ...     7.996 secs\n",
      "Ready.\n",
      "Writing E:\\jupyter file\\EEG_process\\SE_train_processed\\Z肖星星20220330（未发作）_bias_16.fif\n",
      "Closing E:\\jupyter file\\EEG_process\\SE_train_processed\\Z肖星星20220330（未发作）_bias_16.fif\n",
      "[done]\n",
      "../SE_train_processed/Z肖星星20220330（未发作）_bias_24.fif\n",
      "Opening raw data file ../SE_train\\Z肖星星20220330（未发作）_bias_24.fif...\n",
      "Isotrak not found\n",
      "    Range : 43711 ... 60095 =     42.687 ...    58.687 secs\n",
      "Ready.\n",
      "data_256.shape (17, 2048)\n",
      "data_256_samples.shape (17, 4, 512)\n",
      "data_sta.shape (17, 4, 512)\n",
      "data_x.shape: (68, 512, 1)\n"
     ]
    },
    {
     "name": "stderr",
     "output_type": "stream",
     "text": [
      "<ipython-input-4-780c8fcbedab>:73: RuntimeWarning: This filename (E:\\jupyter file\\EEG_process\\SE_train_processed\\Z肖星星20220330（未发作）_bias_16.fif) does not conform to MNE naming conventions. All raw files should end with raw.fif, raw_sss.fif, raw_tsss.fif, _meg.fif, _eeg.fif, _ieeg.fif, raw.fif.gz, raw_sss.fif.gz, raw_tsss.fif.gz, _meg.fif.gz, _eeg.fif.gz or _ieeg.fif.gz\n",
      "  custom_raw.save(save_path,overwrite=True)\n",
      "<ipython-input-4-780c8fcbedab>:2: RuntimeWarning: This filename (../SE_train\\Z肖星星20220330（未发作）_bias_24.fif) does not conform to MNE naming conventions. All raw files should end with raw.fif, raw_sss.fif, raw_tsss.fif, _meg.fif, _eeg.fif, _ieeg.fif, raw.fif.gz, raw_sss.fif.gz, raw_tsss.fif.gz, _meg.fif.gz, _eeg.fif.gz or _ieeg.fif.gz\n",
      "  raw = read_raw_fif(file_path)\n"
     ]
    },
    {
     "name": "stdout",
     "output_type": "stream",
     "text": [
      "pred_channel.shape (17, 2048)\n",
      "Creating RawArray with float64 data, n_channels=17, n_times=2048\n",
      "    Range : 0 ... 2047 =      0.000 ...     7.996 secs\n",
      "Ready.\n",
      "Writing E:\\jupyter file\\EEG_process\\SE_train_processed\\Z肖星星20220330（未发作）_bias_24.fif\n",
      "Closing E:\\jupyter file\\EEG_process\\SE_train_processed\\Z肖星星20220330（未发作）_bias_24.fif\n",
      "[done]\n",
      "../SE_train_processed/Z肖星星20220330（未发作）_bias_32.fif\n",
      "Opening raw data file ../SE_train\\Z肖星星20220330（未发作）_bias_32.fif...\n",
      "Isotrak not found\n",
      "    Range : 51903 ... 68287 =     50.687 ...    66.687 secs\n",
      "Ready.\n",
      "data_256.shape (17, 2048)\n",
      "data_256_samples.shape (17, 4, 512)\n",
      "data_sta.shape (17, 4, 512)\n",
      "data_x.shape: (68, 512, 1)\n"
     ]
    },
    {
     "name": "stderr",
     "output_type": "stream",
     "text": [
      "<ipython-input-4-780c8fcbedab>:73: RuntimeWarning: This filename (E:\\jupyter file\\EEG_process\\SE_train_processed\\Z肖星星20220330（未发作）_bias_24.fif) does not conform to MNE naming conventions. All raw files should end with raw.fif, raw_sss.fif, raw_tsss.fif, _meg.fif, _eeg.fif, _ieeg.fif, raw.fif.gz, raw_sss.fif.gz, raw_tsss.fif.gz, _meg.fif.gz, _eeg.fif.gz or _ieeg.fif.gz\n",
      "  custom_raw.save(save_path,overwrite=True)\n",
      "<ipython-input-4-780c8fcbedab>:2: RuntimeWarning: This filename (../SE_train\\Z肖星星20220330（未发作）_bias_32.fif) does not conform to MNE naming conventions. All raw files should end with raw.fif, raw_sss.fif, raw_tsss.fif, _meg.fif, _eeg.fif, _ieeg.fif, raw.fif.gz, raw_sss.fif.gz, raw_tsss.fif.gz, _meg.fif.gz, _eeg.fif.gz or _ieeg.fif.gz\n",
      "  raw = read_raw_fif(file_path)\n"
     ]
    },
    {
     "name": "stdout",
     "output_type": "stream",
     "text": [
      "pred_channel.shape (17, 2048)\n",
      "Creating RawArray with float64 data, n_channels=17, n_times=2048\n",
      "    Range : 0 ... 2047 =      0.000 ...     7.996 secs\n",
      "Ready.\n",
      "Writing E:\\jupyter file\\EEG_process\\SE_train_processed\\Z肖星星20220330（未发作）_bias_32.fif\n",
      "Closing E:\\jupyter file\\EEG_process\\SE_train_processed\\Z肖星星20220330（未发作）_bias_32.fif\n",
      "[done]\n",
      "../SE_train_processed/Z肖星星20220330（未发作）_bias_40.fif\n",
      "Opening raw data file ../SE_train\\Z肖星星20220330（未发作）_bias_40.fif...\n",
      "Isotrak not found\n",
      "    Range : 60095 ... 76479 =     58.687 ...    74.687 secs\n",
      "Ready.\n",
      "data_256.shape (17, 2048)\n",
      "data_256_samples.shape (17, 4, 512)\n",
      "data_sta.shape (17, 4, 512)\n",
      "data_x.shape: (68, 512, 1)\n"
     ]
    },
    {
     "name": "stderr",
     "output_type": "stream",
     "text": [
      "<ipython-input-4-780c8fcbedab>:73: RuntimeWarning: This filename (E:\\jupyter file\\EEG_process\\SE_train_processed\\Z肖星星20220330（未发作）_bias_32.fif) does not conform to MNE naming conventions. All raw files should end with raw.fif, raw_sss.fif, raw_tsss.fif, _meg.fif, _eeg.fif, _ieeg.fif, raw.fif.gz, raw_sss.fif.gz, raw_tsss.fif.gz, _meg.fif.gz, _eeg.fif.gz or _ieeg.fif.gz\n",
      "  custom_raw.save(save_path,overwrite=True)\n",
      "<ipython-input-4-780c8fcbedab>:2: RuntimeWarning: This filename (../SE_train\\Z肖星星20220330（未发作）_bias_40.fif) does not conform to MNE naming conventions. All raw files should end with raw.fif, raw_sss.fif, raw_tsss.fif, _meg.fif, _eeg.fif, _ieeg.fif, raw.fif.gz, raw_sss.fif.gz, raw_tsss.fif.gz, _meg.fif.gz, _eeg.fif.gz or _ieeg.fif.gz\n",
      "  raw = read_raw_fif(file_path)\n"
     ]
    },
    {
     "name": "stdout",
     "output_type": "stream",
     "text": [
      "pred_channel.shape (17, 2048)\n",
      "Creating RawArray with float64 data, n_channels=17, n_times=2048\n",
      "    Range : 0 ... 2047 =      0.000 ...     7.996 secs\n",
      "Ready.\n",
      "Writing E:\\jupyter file\\EEG_process\\SE_train_processed\\Z肖星星20220330（未发作）_bias_40.fif\n",
      "Closing E:\\jupyter file\\EEG_process\\SE_train_processed\\Z肖星星20220330（未发作）_bias_40.fif\n",
      "[done]\n",
      "../SE_train_processed/Z肖星星20220330（未发作）_bias_8.fif\n",
      "Opening raw data file ../SE_train\\Z肖星星20220330（未发作）_bias_8.fif...\n",
      "Isotrak not found\n",
      "    Range : 27327 ... 43711 =     26.687 ...    42.687 secs\n",
      "Ready.\n",
      "data_256.shape (17, 2048)\n",
      "data_256_samples.shape (17, 4, 512)\n",
      "data_sta.shape (17, 4, 512)\n",
      "data_x.shape: (68, 512, 1)\n"
     ]
    },
    {
     "name": "stderr",
     "output_type": "stream",
     "text": [
      "<ipython-input-4-780c8fcbedab>:73: RuntimeWarning: This filename (E:\\jupyter file\\EEG_process\\SE_train_processed\\Z肖星星20220330（未发作）_bias_40.fif) does not conform to MNE naming conventions. All raw files should end with raw.fif, raw_sss.fif, raw_tsss.fif, _meg.fif, _eeg.fif, _ieeg.fif, raw.fif.gz, raw_sss.fif.gz, raw_tsss.fif.gz, _meg.fif.gz, _eeg.fif.gz or _ieeg.fif.gz\n",
      "  custom_raw.save(save_path,overwrite=True)\n",
      "<ipython-input-4-780c8fcbedab>:2: RuntimeWarning: This filename (../SE_train\\Z肖星星20220330（未发作）_bias_8.fif) does not conform to MNE naming conventions. All raw files should end with raw.fif, raw_sss.fif, raw_tsss.fif, _meg.fif, _eeg.fif, _ieeg.fif, raw.fif.gz, raw_sss.fif.gz, raw_tsss.fif.gz, _meg.fif.gz, _eeg.fif.gz or _ieeg.fif.gz\n",
      "  raw = read_raw_fif(file_path)\n"
     ]
    },
    {
     "name": "stdout",
     "output_type": "stream",
     "text": [
      "pred_channel.shape (17, 2048)\n",
      "Creating RawArray with float64 data, n_channels=17, n_times=2048\n",
      "    Range : 0 ... 2047 =      0.000 ...     7.996 secs\n",
      "Ready.\n",
      "Writing E:\\jupyter file\\EEG_process\\SE_train_processed\\Z肖星星20220330（未发作）_bias_8.fif\n",
      "Closing E:\\jupyter file\\EEG_process\\SE_train_processed\\Z肖星星20220330（未发作）_bias_8.fif\n",
      "[done]\n",
      "../SE_train_processed/Z肖星星20220401_bias_0.fif\n",
      "Opening raw data file ../SE_train\\Z肖星星20220401_bias_0.fif...\n",
      "Isotrak not found\n",
      "    Range : 84137 ... 92329 =     82.165 ...    90.165 secs\n",
      "Ready.\n",
      "data_256.shape (17, 2048)\n",
      "data_256_samples.shape (17, 4, 512)\n",
      "data_sta.shape (17, 4, 512)\n",
      "data_x.shape: (68, 512, 1)\n"
     ]
    },
    {
     "name": "stderr",
     "output_type": "stream",
     "text": [
      "<ipython-input-4-780c8fcbedab>:73: RuntimeWarning: This filename (E:\\jupyter file\\EEG_process\\SE_train_processed\\Z肖星星20220330（未发作）_bias_8.fif) does not conform to MNE naming conventions. All raw files should end with raw.fif, raw_sss.fif, raw_tsss.fif, _meg.fif, _eeg.fif, _ieeg.fif, raw.fif.gz, raw_sss.fif.gz, raw_tsss.fif.gz, _meg.fif.gz, _eeg.fif.gz or _ieeg.fif.gz\n",
      "  custom_raw.save(save_path,overwrite=True)\n",
      "<ipython-input-4-780c8fcbedab>:2: RuntimeWarning: This filename (../SE_train\\Z肖星星20220401_bias_0.fif) does not conform to MNE naming conventions. All raw files should end with raw.fif, raw_sss.fif, raw_tsss.fif, _meg.fif, _eeg.fif, _ieeg.fif, raw.fif.gz, raw_sss.fif.gz, raw_tsss.fif.gz, _meg.fif.gz, _eeg.fif.gz or _ieeg.fif.gz\n",
      "  raw = read_raw_fif(file_path)\n"
     ]
    },
    {
     "name": "stdout",
     "output_type": "stream",
     "text": [
      "pred_channel.shape (17, 2048)\n",
      "Creating RawArray with float64 data, n_channels=17, n_times=2048\n",
      "    Range : 0 ... 2047 =      0.000 ...     7.996 secs\n",
      "Ready.\n",
      "Writing E:\\jupyter file\\EEG_process\\SE_train_processed\\Z肖星星20220401_bias_0.fif\n",
      "Closing E:\\jupyter file\\EEG_process\\SE_train_processed\\Z肖星星20220401_bias_0.fif\n",
      "[done]\n",
      "../SE_train_processed/Z肖智华20220225（未发作）_bias_0.fif\n",
      "Opening raw data file ../SE_train\\Z肖智华20220225（未发作）_bias_0.fif...\n",
      "Isotrak not found\n",
      "    Range : 3029 ... 11221 =      2.958 ...    10.958 secs\n",
      "Ready.\n",
      "data_256.shape (17, 2048)\n",
      "data_256_samples.shape (17, 4, 512)\n",
      "data_sta.shape (17, 4, 512)\n",
      "data_x.shape: (68, 512, 1)\n"
     ]
    },
    {
     "name": "stderr",
     "output_type": "stream",
     "text": [
      "<ipython-input-4-780c8fcbedab>:73: RuntimeWarning: This filename (E:\\jupyter file\\EEG_process\\SE_train_processed\\Z肖星星20220401_bias_0.fif) does not conform to MNE naming conventions. All raw files should end with raw.fif, raw_sss.fif, raw_tsss.fif, _meg.fif, _eeg.fif, _ieeg.fif, raw.fif.gz, raw_sss.fif.gz, raw_tsss.fif.gz, _meg.fif.gz, _eeg.fif.gz or _ieeg.fif.gz\n",
      "  custom_raw.save(save_path,overwrite=True)\n",
      "<ipython-input-4-780c8fcbedab>:2: RuntimeWarning: This filename (../SE_train\\Z肖智华20220225（未发作）_bias_0.fif) does not conform to MNE naming conventions. All raw files should end with raw.fif, raw_sss.fif, raw_tsss.fif, _meg.fif, _eeg.fif, _ieeg.fif, raw.fif.gz, raw_sss.fif.gz, raw_tsss.fif.gz, _meg.fif.gz, _eeg.fif.gz or _ieeg.fif.gz\n",
      "  raw = read_raw_fif(file_path)\n"
     ]
    },
    {
     "name": "stdout",
     "output_type": "stream",
     "text": [
      "pred_channel.shape (17, 2048)\n",
      "Creating RawArray with float64 data, n_channels=17, n_times=2048\n",
      "    Range : 0 ... 2047 =      0.000 ...     7.996 secs\n",
      "Ready.\n",
      "Writing E:\\jupyter file\\EEG_process\\SE_train_processed\\Z肖智华20220225（未发作）_bias_0.fif\n",
      "Closing E:\\jupyter file\\EEG_process\\SE_train_processed\\Z肖智华20220225（未发作）_bias_0.fif\n",
      "[done]\n",
      "../SE_train_processed/Z肖智华20220225（未发作）_bias_16.fif\n",
      "Opening raw data file ../SE_train\\Z肖智华20220225（未发作）_bias_16.fif...\n",
      "Isotrak not found\n",
      "    Range : 19413 ... 35797 =     18.958 ...    34.958 secs\n",
      "Ready.\n",
      "data_256.shape (17, 2048)\n",
      "data_256_samples.shape (17, 4, 512)\n",
      "data_sta.shape (17, 4, 512)\n",
      "data_x.shape: (68, 512, 1)\n"
     ]
    },
    {
     "name": "stderr",
     "output_type": "stream",
     "text": [
      "<ipython-input-4-780c8fcbedab>:73: RuntimeWarning: This filename (E:\\jupyter file\\EEG_process\\SE_train_processed\\Z肖智华20220225（未发作）_bias_0.fif) does not conform to MNE naming conventions. All raw files should end with raw.fif, raw_sss.fif, raw_tsss.fif, _meg.fif, _eeg.fif, _ieeg.fif, raw.fif.gz, raw_sss.fif.gz, raw_tsss.fif.gz, _meg.fif.gz, _eeg.fif.gz or _ieeg.fif.gz\n",
      "  custom_raw.save(save_path,overwrite=True)\n",
      "<ipython-input-4-780c8fcbedab>:2: RuntimeWarning: This filename (../SE_train\\Z肖智华20220225（未发作）_bias_16.fif) does not conform to MNE naming conventions. All raw files should end with raw.fif, raw_sss.fif, raw_tsss.fif, _meg.fif, _eeg.fif, _ieeg.fif, raw.fif.gz, raw_sss.fif.gz, raw_tsss.fif.gz, _meg.fif.gz, _eeg.fif.gz or _ieeg.fif.gz\n",
      "  raw = read_raw_fif(file_path)\n"
     ]
    },
    {
     "name": "stdout",
     "output_type": "stream",
     "text": [
      "pred_channel.shape (17, 2048)\n",
      "Creating RawArray with float64 data, n_channels=17, n_times=2048\n",
      "    Range : 0 ... 2047 =      0.000 ...     7.996 secs\n",
      "Ready.\n",
      "Writing E:\\jupyter file\\EEG_process\\SE_train_processed\\Z肖智华20220225（未发作）_bias_16.fif\n",
      "Closing E:\\jupyter file\\EEG_process\\SE_train_processed\\Z肖智华20220225（未发作）_bias_16.fif\n",
      "[done]\n",
      "../SE_train_processed/Z肖智华20220225（未发作）_bias_24.fif\n",
      "Opening raw data file ../SE_train\\Z肖智华20220225（未发作）_bias_24.fif...\n",
      "Isotrak not found\n",
      "    Range : 27605 ... 43989 =     26.958 ...    42.958 secs\n",
      "Ready.\n",
      "data_256.shape (17, 2048)\n",
      "data_256_samples.shape (17, 4, 512)\n",
      "data_sta.shape (17, 4, 512)\n",
      "data_x.shape: (68, 512, 1)\n"
     ]
    },
    {
     "name": "stderr",
     "output_type": "stream",
     "text": [
      "<ipython-input-4-780c8fcbedab>:73: RuntimeWarning: This filename (E:\\jupyter file\\EEG_process\\SE_train_processed\\Z肖智华20220225（未发作）_bias_16.fif) does not conform to MNE naming conventions. All raw files should end with raw.fif, raw_sss.fif, raw_tsss.fif, _meg.fif, _eeg.fif, _ieeg.fif, raw.fif.gz, raw_sss.fif.gz, raw_tsss.fif.gz, _meg.fif.gz, _eeg.fif.gz or _ieeg.fif.gz\n",
      "  custom_raw.save(save_path,overwrite=True)\n",
      "<ipython-input-4-780c8fcbedab>:2: RuntimeWarning: This filename (../SE_train\\Z肖智华20220225（未发作）_bias_24.fif) does not conform to MNE naming conventions. All raw files should end with raw.fif, raw_sss.fif, raw_tsss.fif, _meg.fif, _eeg.fif, _ieeg.fif, raw.fif.gz, raw_sss.fif.gz, raw_tsss.fif.gz, _meg.fif.gz, _eeg.fif.gz or _ieeg.fif.gz\n",
      "  raw = read_raw_fif(file_path)\n"
     ]
    },
    {
     "name": "stdout",
     "output_type": "stream",
     "text": [
      "pred_channel.shape (17, 2048)\n",
      "Creating RawArray with float64 data, n_channels=17, n_times=2048\n",
      "    Range : 0 ... 2047 =      0.000 ...     7.996 secs\n",
      "Ready.\n",
      "Writing E:\\jupyter file\\EEG_process\\SE_train_processed\\Z肖智华20220225（未发作）_bias_24.fif\n",
      "Closing E:\\jupyter file\\EEG_process\\SE_train_processed\\Z肖智华20220225（未发作）_bias_24.fif\n",
      "[done]\n",
      "../SE_train_processed/Z肖智华20220225（未发作）_bias_32.fif\n",
      "Opening raw data file ../SE_train\\Z肖智华20220225（未发作）_bias_32.fif...\n",
      "Isotrak not found\n",
      "    Range : 35797 ... 52181 =     34.958 ...    50.958 secs\n",
      "Ready.\n",
      "data_256.shape (17, 2048)\n",
      "data_256_samples.shape (17, 4, 512)\n",
      "data_sta.shape (17, 4, 512)\n",
      "data_x.shape: (68, 512, 1)\n"
     ]
    },
    {
     "name": "stderr",
     "output_type": "stream",
     "text": [
      "<ipython-input-4-780c8fcbedab>:73: RuntimeWarning: This filename (E:\\jupyter file\\EEG_process\\SE_train_processed\\Z肖智华20220225（未发作）_bias_24.fif) does not conform to MNE naming conventions. All raw files should end with raw.fif, raw_sss.fif, raw_tsss.fif, _meg.fif, _eeg.fif, _ieeg.fif, raw.fif.gz, raw_sss.fif.gz, raw_tsss.fif.gz, _meg.fif.gz, _eeg.fif.gz or _ieeg.fif.gz\n",
      "  custom_raw.save(save_path,overwrite=True)\n",
      "<ipython-input-4-780c8fcbedab>:2: RuntimeWarning: This filename (../SE_train\\Z肖智华20220225（未发作）_bias_32.fif) does not conform to MNE naming conventions. All raw files should end with raw.fif, raw_sss.fif, raw_tsss.fif, _meg.fif, _eeg.fif, _ieeg.fif, raw.fif.gz, raw_sss.fif.gz, raw_tsss.fif.gz, _meg.fif.gz, _eeg.fif.gz or _ieeg.fif.gz\n",
      "  raw = read_raw_fif(file_path)\n"
     ]
    },
    {
     "name": "stdout",
     "output_type": "stream",
     "text": [
      "pred_channel.shape (17, 2048)\n",
      "Creating RawArray with float64 data, n_channels=17, n_times=2048\n",
      "    Range : 0 ... 2047 =      0.000 ...     7.996 secs\n",
      "Ready.\n",
      "Writing E:\\jupyter file\\EEG_process\\SE_train_processed\\Z肖智华20220225（未发作）_bias_32.fif\n",
      "Closing E:\\jupyter file\\EEG_process\\SE_train_processed\\Z肖智华20220225（未发作）_bias_32.fif\n",
      "[done]\n",
      "../SE_train_processed/Z肖智华20220225（未发作）_bias_40.fif\n",
      "Opening raw data file ../SE_train\\Z肖智华20220225（未发作）_bias_40.fif...\n",
      "Isotrak not found\n",
      "    Range : 43989 ... 60373 =     42.958 ...    58.958 secs\n",
      "Ready.\n",
      "data_256.shape (17, 2048)\n",
      "data_256_samples.shape (17, 4, 512)\n",
      "data_sta.shape (17, 4, 512)\n",
      "data_x.shape: (68, 512, 1)\n"
     ]
    },
    {
     "name": "stderr",
     "output_type": "stream",
     "text": [
      "<ipython-input-4-780c8fcbedab>:73: RuntimeWarning: This filename (E:\\jupyter file\\EEG_process\\SE_train_processed\\Z肖智华20220225（未发作）_bias_32.fif) does not conform to MNE naming conventions. All raw files should end with raw.fif, raw_sss.fif, raw_tsss.fif, _meg.fif, _eeg.fif, _ieeg.fif, raw.fif.gz, raw_sss.fif.gz, raw_tsss.fif.gz, _meg.fif.gz, _eeg.fif.gz or _ieeg.fif.gz\n",
      "  custom_raw.save(save_path,overwrite=True)\n",
      "<ipython-input-4-780c8fcbedab>:2: RuntimeWarning: This filename (../SE_train\\Z肖智华20220225（未发作）_bias_40.fif) does not conform to MNE naming conventions. All raw files should end with raw.fif, raw_sss.fif, raw_tsss.fif, _meg.fif, _eeg.fif, _ieeg.fif, raw.fif.gz, raw_sss.fif.gz, raw_tsss.fif.gz, _meg.fif.gz, _eeg.fif.gz or _ieeg.fif.gz\n",
      "  raw = read_raw_fif(file_path)\n"
     ]
    },
    {
     "name": "stdout",
     "output_type": "stream",
     "text": [
      "pred_channel.shape (17, 2048)\n",
      "Creating RawArray with float64 data, n_channels=17, n_times=2048\n",
      "    Range : 0 ... 2047 =      0.000 ...     7.996 secs\n",
      "Ready.\n",
      "Writing E:\\jupyter file\\EEG_process\\SE_train_processed\\Z肖智华20220225（未发作）_bias_40.fif\n",
      "Closing E:\\jupyter file\\EEG_process\\SE_train_processed\\Z肖智华20220225（未发作）_bias_40.fif\n",
      "[done]\n",
      "../SE_train_processed/Z肖智华20220225（未发作）_bias_8.fif\n",
      "Opening raw data file ../SE_train\\Z肖智华20220225（未发作）_bias_8.fif...\n",
      "Isotrak not found\n",
      "    Range : 11221 ... 27605 =     10.958 ...    26.958 secs\n",
      "Ready.\n",
      "data_256.shape (17, 2048)\n",
      "data_256_samples.shape (17, 4, 512)\n",
      "data_sta.shape (17, 4, 512)\n",
      "data_x.shape: (68, 512, 1)\n"
     ]
    },
    {
     "name": "stderr",
     "output_type": "stream",
     "text": [
      "<ipython-input-4-780c8fcbedab>:73: RuntimeWarning: This filename (E:\\jupyter file\\EEG_process\\SE_train_processed\\Z肖智华20220225（未发作）_bias_40.fif) does not conform to MNE naming conventions. All raw files should end with raw.fif, raw_sss.fif, raw_tsss.fif, _meg.fif, _eeg.fif, _ieeg.fif, raw.fif.gz, raw_sss.fif.gz, raw_tsss.fif.gz, _meg.fif.gz, _eeg.fif.gz or _ieeg.fif.gz\n",
      "  custom_raw.save(save_path,overwrite=True)\n",
      "<ipython-input-4-780c8fcbedab>:2: RuntimeWarning: This filename (../SE_train\\Z肖智华20220225（未发作）_bias_8.fif) does not conform to MNE naming conventions. All raw files should end with raw.fif, raw_sss.fif, raw_tsss.fif, _meg.fif, _eeg.fif, _ieeg.fif, raw.fif.gz, raw_sss.fif.gz, raw_tsss.fif.gz, _meg.fif.gz, _eeg.fif.gz or _ieeg.fif.gz\n",
      "  raw = read_raw_fif(file_path)\n"
     ]
    },
    {
     "name": "stdout",
     "output_type": "stream",
     "text": [
      "pred_channel.shape (17, 2048)\n",
      "Creating RawArray with float64 data, n_channels=17, n_times=2048\n",
      "    Range : 0 ... 2047 =      0.000 ...     7.996 secs\n",
      "Ready.\n",
      "Writing E:\\jupyter file\\EEG_process\\SE_train_processed\\Z肖智华20220225（未发作）_bias_8.fif\n",
      "Closing E:\\jupyter file\\EEG_process\\SE_train_processed\\Z肖智华20220225（未发作）_bias_8.fif\n",
      "[done]\n",
      "../SE_train_processed/Z肖智华20220228_bias_0.fif\n",
      "Opening raw data file ../SE_train\\Z肖智华20220228_bias_0.fif...\n",
      "Isotrak not found\n",
      "    Range : 25279 ... 33471 =     24.687 ...    32.687 secs\n",
      "Ready.\n",
      "data_256.shape (17, 2048)\n",
      "data_256_samples.shape (17, 4, 512)\n",
      "data_sta.shape (17, 4, 512)\n",
      "data_x.shape: (68, 512, 1)\n"
     ]
    },
    {
     "name": "stderr",
     "output_type": "stream",
     "text": [
      "<ipython-input-4-780c8fcbedab>:73: RuntimeWarning: This filename (E:\\jupyter file\\EEG_process\\SE_train_processed\\Z肖智华20220225（未发作）_bias_8.fif) does not conform to MNE naming conventions. All raw files should end with raw.fif, raw_sss.fif, raw_tsss.fif, _meg.fif, _eeg.fif, _ieeg.fif, raw.fif.gz, raw_sss.fif.gz, raw_tsss.fif.gz, _meg.fif.gz, _eeg.fif.gz or _ieeg.fif.gz\n",
      "  custom_raw.save(save_path,overwrite=True)\n",
      "<ipython-input-4-780c8fcbedab>:2: RuntimeWarning: This filename (../SE_train\\Z肖智华20220228_bias_0.fif) does not conform to MNE naming conventions. All raw files should end with raw.fif, raw_sss.fif, raw_tsss.fif, _meg.fif, _eeg.fif, _ieeg.fif, raw.fif.gz, raw_sss.fif.gz, raw_tsss.fif.gz, _meg.fif.gz, _eeg.fif.gz or _ieeg.fif.gz\n",
      "  raw = read_raw_fif(file_path)\n"
     ]
    },
    {
     "name": "stdout",
     "output_type": "stream",
     "text": [
      "pred_channel.shape (17, 2048)\n",
      "Creating RawArray with float64 data, n_channels=17, n_times=2048\n",
      "    Range : 0 ... 2047 =      0.000 ...     7.996 secs\n",
      "Ready.\n",
      "Writing E:\\jupyter file\\EEG_process\\SE_train_processed\\Z肖智华20220228_bias_0.fif\n",
      "Closing E:\\jupyter file\\EEG_process\\SE_train_processed\\Z肖智华20220228_bias_0.fif\n",
      "[done]\n",
      "../SE_train_processed/Z肖智华20220302_bias_0.fif\n",
      "Opening raw data file ../SE_train\\Z肖智华20220302_bias_0.fif...\n",
      "Isotrak not found\n",
      "    Range : 617238 ... 625430 =    602.771 ...   610.771 secs\n",
      "Ready.\n",
      "data_256.shape (17, 2048)\n",
      "data_256_samples.shape (17, 4, 512)\n",
      "data_sta.shape (17, 4, 512)\n",
      "data_x.shape: (68, 512, 1)\n"
     ]
    },
    {
     "name": "stderr",
     "output_type": "stream",
     "text": [
      "<ipython-input-4-780c8fcbedab>:73: RuntimeWarning: This filename (E:\\jupyter file\\EEG_process\\SE_train_processed\\Z肖智华20220228_bias_0.fif) does not conform to MNE naming conventions. All raw files should end with raw.fif, raw_sss.fif, raw_tsss.fif, _meg.fif, _eeg.fif, _ieeg.fif, raw.fif.gz, raw_sss.fif.gz, raw_tsss.fif.gz, _meg.fif.gz, _eeg.fif.gz or _ieeg.fif.gz\n",
      "  custom_raw.save(save_path,overwrite=True)\n",
      "<ipython-input-4-780c8fcbedab>:2: RuntimeWarning: This filename (../SE_train\\Z肖智华20220302_bias_0.fif) does not conform to MNE naming conventions. All raw files should end with raw.fif, raw_sss.fif, raw_tsss.fif, _meg.fif, _eeg.fif, _ieeg.fif, raw.fif.gz, raw_sss.fif.gz, raw_tsss.fif.gz, _meg.fif.gz, _eeg.fif.gz or _ieeg.fif.gz\n",
      "  raw = read_raw_fif(file_path)\n"
     ]
    },
    {
     "name": "stdout",
     "output_type": "stream",
     "text": [
      "pred_channel.shape (17, 2048)\n",
      "Creating RawArray with float64 data, n_channels=17, n_times=2048\n",
      "    Range : 0 ... 2047 =      0.000 ...     7.996 secs\n",
      "Ready.\n",
      "Writing E:\\jupyter file\\EEG_process\\SE_train_processed\\Z肖智华20220302_bias_0.fif\n",
      "Closing E:\\jupyter file\\EEG_process\\SE_train_processed\\Z肖智华20220302_bias_0.fif\n",
      "[done]\n",
      "../SE_train_processed/Z赵丽兰20220225_bias_0.fif\n",
      "Opening raw data file ../SE_train\\Z赵丽兰20220225_bias_0.fif...\n",
      "Isotrak not found\n",
      "    Range : 4874 ... 13066 =      4.760 ...    12.760 secs\n",
      "Ready.\n",
      "data_256.shape (17, 2048)\n",
      "data_256_samples.shape (17, 4, 512)\n",
      "data_sta.shape (17, 4, 512)\n",
      "data_x.shape: (68, 512, 1)\n"
     ]
    },
    {
     "name": "stderr",
     "output_type": "stream",
     "text": [
      "<ipython-input-4-780c8fcbedab>:73: RuntimeWarning: This filename (E:\\jupyter file\\EEG_process\\SE_train_processed\\Z肖智华20220302_bias_0.fif) does not conform to MNE naming conventions. All raw files should end with raw.fif, raw_sss.fif, raw_tsss.fif, _meg.fif, _eeg.fif, _ieeg.fif, raw.fif.gz, raw_sss.fif.gz, raw_tsss.fif.gz, _meg.fif.gz, _eeg.fif.gz or _ieeg.fif.gz\n",
      "  custom_raw.save(save_path,overwrite=True)\n",
      "<ipython-input-4-780c8fcbedab>:2: RuntimeWarning: This filename (../SE_train\\Z赵丽兰20220225_bias_0.fif) does not conform to MNE naming conventions. All raw files should end with raw.fif, raw_sss.fif, raw_tsss.fif, _meg.fif, _eeg.fif, _ieeg.fif, raw.fif.gz, raw_sss.fif.gz, raw_tsss.fif.gz, _meg.fif.gz, _eeg.fif.gz or _ieeg.fif.gz\n",
      "  raw = read_raw_fif(file_path)\n"
     ]
    },
    {
     "name": "stdout",
     "output_type": "stream",
     "text": [
      "pred_channel.shape (17, 2048)\n",
      "Creating RawArray with float64 data, n_channels=17, n_times=2048\n",
      "    Range : 0 ... 2047 =      0.000 ...     7.996 secs\n",
      "Ready.\n",
      "Writing E:\\jupyter file\\EEG_process\\SE_train_processed\\Z赵丽兰20220225_bias_0.fif\n",
      "Closing E:\\jupyter file\\EEG_process\\SE_train_processed\\Z赵丽兰20220225_bias_0.fif\n",
      "[done]\n",
      "../SE_train_processed/Z赵丽兰20220228_bias_0.fif\n",
      "Opening raw data file ../SE_train\\Z赵丽兰20220228_bias_0.fif...\n",
      "Isotrak not found\n",
      "    Range : 25224 ... 33416 =     24.633 ...    32.633 secs\n",
      "Ready.\n",
      "data_256.shape (17, 2048)\n",
      "data_256_samples.shape (17, 4, 512)\n",
      "data_sta.shape (17, 4, 512)\n",
      "data_x.shape: (68, 512, 1)\n"
     ]
    },
    {
     "name": "stderr",
     "output_type": "stream",
     "text": [
      "<ipython-input-4-780c8fcbedab>:73: RuntimeWarning: This filename (E:\\jupyter file\\EEG_process\\SE_train_processed\\Z赵丽兰20220225_bias_0.fif) does not conform to MNE naming conventions. All raw files should end with raw.fif, raw_sss.fif, raw_tsss.fif, _meg.fif, _eeg.fif, _ieeg.fif, raw.fif.gz, raw_sss.fif.gz, raw_tsss.fif.gz, _meg.fif.gz, _eeg.fif.gz or _ieeg.fif.gz\n",
      "  custom_raw.save(save_path,overwrite=True)\n",
      "<ipython-input-4-780c8fcbedab>:2: RuntimeWarning: This filename (../SE_train\\Z赵丽兰20220228_bias_0.fif) does not conform to MNE naming conventions. All raw files should end with raw.fif, raw_sss.fif, raw_tsss.fif, _meg.fif, _eeg.fif, _ieeg.fif, raw.fif.gz, raw_sss.fif.gz, raw_tsss.fif.gz, _meg.fif.gz, _eeg.fif.gz or _ieeg.fif.gz\n",
      "  raw = read_raw_fif(file_path)\n"
     ]
    },
    {
     "name": "stdout",
     "output_type": "stream",
     "text": [
      "pred_channel.shape (17, 2048)\n",
      "Creating RawArray with float64 data, n_channels=17, n_times=2048\n",
      "    Range : 0 ... 2047 =      0.000 ...     7.996 secs\n",
      "Ready.\n",
      "Writing E:\\jupyter file\\EEG_process\\SE_train_processed\\Z赵丽兰20220228_bias_0.fif\n",
      "Closing E:\\jupyter file\\EEG_process\\SE_train_processed\\Z赵丽兰20220228_bias_0.fif\n",
      "[done]\n",
      "../SE_train_processed/Z赵丽兰20220302_bias_0.fif\n",
      "Opening raw data file ../SE_train\\Z赵丽兰20220302_bias_0.fif...\n",
      "Isotrak not found\n",
      "    Range : 4442 ... 12634 =      4.338 ...    12.338 secs\n",
      "Ready.\n",
      "data_256.shape (17, 2048)\n",
      "data_256_samples.shape (17, 4, 512)\n",
      "data_sta.shape (17, 4, 512)\n",
      "data_x.shape: (68, 512, 1)\n"
     ]
    },
    {
     "name": "stderr",
     "output_type": "stream",
     "text": [
      "<ipython-input-4-780c8fcbedab>:73: RuntimeWarning: This filename (E:\\jupyter file\\EEG_process\\SE_train_processed\\Z赵丽兰20220228_bias_0.fif) does not conform to MNE naming conventions. All raw files should end with raw.fif, raw_sss.fif, raw_tsss.fif, _meg.fif, _eeg.fif, _ieeg.fif, raw.fif.gz, raw_sss.fif.gz, raw_tsss.fif.gz, _meg.fif.gz, _eeg.fif.gz or _ieeg.fif.gz\n",
      "  custom_raw.save(save_path,overwrite=True)\n",
      "<ipython-input-4-780c8fcbedab>:2: RuntimeWarning: This filename (../SE_train\\Z赵丽兰20220302_bias_0.fif) does not conform to MNE naming conventions. All raw files should end with raw.fif, raw_sss.fif, raw_tsss.fif, _meg.fif, _eeg.fif, _ieeg.fif, raw.fif.gz, raw_sss.fif.gz, raw_tsss.fif.gz, _meg.fif.gz, _eeg.fif.gz or _ieeg.fif.gz\n",
      "  raw = read_raw_fif(file_path)\n"
     ]
    },
    {
     "name": "stdout",
     "output_type": "stream",
     "text": [
      "pred_channel.shape (17, 2048)\n",
      "Creating RawArray with float64 data, n_channels=17, n_times=2048\n",
      "    Range : 0 ... 2047 =      0.000 ...     7.996 secs\n",
      "Ready.\n",
      "Writing E:\\jupyter file\\EEG_process\\SE_train_processed\\Z赵丽兰20220302_bias_0.fif\n",
      "Closing E:\\jupyter file\\EEG_process\\SE_train_processed\\Z赵丽兰20220302_bias_0.fif\n",
      "[done]\n",
      "../SE_train_processed/Z赵丽兰20220304_bias_0.fif\n",
      "Opening raw data file ../SE_train\\Z赵丽兰20220304_bias_0.fif...\n",
      "Isotrak not found\n",
      "    Range : 2779 ... 10971 =      2.714 ...    10.714 secs\n",
      "Ready.\n",
      "data_256.shape (17, 2048)\n",
      "data_256_samples.shape (17, 4, 512)\n",
      "data_sta.shape (17, 4, 512)\n",
      "data_x.shape: (68, 512, 1)\n"
     ]
    },
    {
     "name": "stderr",
     "output_type": "stream",
     "text": [
      "<ipython-input-4-780c8fcbedab>:73: RuntimeWarning: This filename (E:\\jupyter file\\EEG_process\\SE_train_processed\\Z赵丽兰20220302_bias_0.fif) does not conform to MNE naming conventions. All raw files should end with raw.fif, raw_sss.fif, raw_tsss.fif, _meg.fif, _eeg.fif, _ieeg.fif, raw.fif.gz, raw_sss.fif.gz, raw_tsss.fif.gz, _meg.fif.gz, _eeg.fif.gz or _ieeg.fif.gz\n",
      "  custom_raw.save(save_path,overwrite=True)\n",
      "<ipython-input-4-780c8fcbedab>:2: RuntimeWarning: This filename (../SE_train\\Z赵丽兰20220304_bias_0.fif) does not conform to MNE naming conventions. All raw files should end with raw.fif, raw_sss.fif, raw_tsss.fif, _meg.fif, _eeg.fif, _ieeg.fif, raw.fif.gz, raw_sss.fif.gz, raw_tsss.fif.gz, _meg.fif.gz, _eeg.fif.gz or _ieeg.fif.gz\n",
      "  raw = read_raw_fif(file_path)\n"
     ]
    },
    {
     "name": "stdout",
     "output_type": "stream",
     "text": [
      "pred_channel.shape (17, 2048)\n",
      "Creating RawArray with float64 data, n_channels=17, n_times=2048\n",
      "    Range : 0 ... 2047 =      0.000 ...     7.996 secs\n",
      "Ready.\n",
      "Writing E:\\jupyter file\\EEG_process\\SE_train_processed\\Z赵丽兰20220304_bias_0.fif\n",
      "Closing E:\\jupyter file\\EEG_process\\SE_train_processed\\Z赵丽兰20220304_bias_0.fif\n",
      "[done]\n",
      "../SE_train_processed/Z雷振20220321_bias_0.fif\n",
      "Opening raw data file ../SE_train\\Z雷振20220321_bias_0.fif...\n",
      "Isotrak not found\n",
      "    Range : 65290 ... 73482 =     63.760 ...    71.760 secs\n",
      "Ready.\n",
      "data_256.shape (17, 2048)\n",
      "data_256_samples.shape (17, 4, 512)\n",
      "data_sta.shape (17, 4, 512)\n",
      "data_x.shape: (68, 512, 1)\n"
     ]
    },
    {
     "name": "stderr",
     "output_type": "stream",
     "text": [
      "<ipython-input-4-780c8fcbedab>:73: RuntimeWarning: This filename (E:\\jupyter file\\EEG_process\\SE_train_processed\\Z赵丽兰20220304_bias_0.fif) does not conform to MNE naming conventions. All raw files should end with raw.fif, raw_sss.fif, raw_tsss.fif, _meg.fif, _eeg.fif, _ieeg.fif, raw.fif.gz, raw_sss.fif.gz, raw_tsss.fif.gz, _meg.fif.gz, _eeg.fif.gz or _ieeg.fif.gz\n",
      "  custom_raw.save(save_path,overwrite=True)\n",
      "<ipython-input-4-780c8fcbedab>:2: RuntimeWarning: This filename (../SE_train\\Z雷振20220321_bias_0.fif) does not conform to MNE naming conventions. All raw files should end with raw.fif, raw_sss.fif, raw_tsss.fif, _meg.fif, _eeg.fif, _ieeg.fif, raw.fif.gz, raw_sss.fif.gz, raw_tsss.fif.gz, _meg.fif.gz, _eeg.fif.gz or _ieeg.fif.gz\n",
      "  raw = read_raw_fif(file_path)\n"
     ]
    },
    {
     "name": "stdout",
     "output_type": "stream",
     "text": [
      "pred_channel.shape (17, 2048)\n",
      "Creating RawArray with float64 data, n_channels=17, n_times=2048\n",
      "    Range : 0 ... 2047 =      0.000 ...     7.996 secs\n",
      "Ready.\n",
      "Writing E:\\jupyter file\\EEG_process\\SE_train_processed\\Z雷振20220321_bias_0.fif\n",
      "Closing E:\\jupyter file\\EEG_process\\SE_train_processed\\Z雷振20220321_bias_0.fif\n",
      "[done]\n",
      "../SE_train_processed/Z雷振20220323_bias_0.fif\n",
      "Opening raw data file ../SE_train\\Z雷振20220323_bias_0.fif...\n",
      "Isotrak not found\n",
      "    Range : 203788 ... 211980 =    199.012 ...   207.012 secs\n",
      "Ready.\n",
      "data_256.shape (17, 2048)\n",
      "data_256_samples.shape (17, 4, 512)\n",
      "data_sta.shape (17, 4, 512)\n",
      "data_x.shape: (68, 512, 1)\n"
     ]
    },
    {
     "name": "stderr",
     "output_type": "stream",
     "text": [
      "<ipython-input-4-780c8fcbedab>:73: RuntimeWarning: This filename (E:\\jupyter file\\EEG_process\\SE_train_processed\\Z雷振20220321_bias_0.fif) does not conform to MNE naming conventions. All raw files should end with raw.fif, raw_sss.fif, raw_tsss.fif, _meg.fif, _eeg.fif, _ieeg.fif, raw.fif.gz, raw_sss.fif.gz, raw_tsss.fif.gz, _meg.fif.gz, _eeg.fif.gz or _ieeg.fif.gz\n",
      "  custom_raw.save(save_path,overwrite=True)\n",
      "<ipython-input-4-780c8fcbedab>:2: RuntimeWarning: This filename (../SE_train\\Z雷振20220323_bias_0.fif) does not conform to MNE naming conventions. All raw files should end with raw.fif, raw_sss.fif, raw_tsss.fif, _meg.fif, _eeg.fif, _ieeg.fif, raw.fif.gz, raw_sss.fif.gz, raw_tsss.fif.gz, _meg.fif.gz, _eeg.fif.gz or _ieeg.fif.gz\n",
      "  raw = read_raw_fif(file_path)\n"
     ]
    },
    {
     "name": "stdout",
     "output_type": "stream",
     "text": [
      "pred_channel.shape (17, 2048)\n",
      "Creating RawArray with float64 data, n_channels=17, n_times=2048\n",
      "    Range : 0 ... 2047 =      0.000 ...     7.996 secs\n",
      "Ready.\n",
      "Writing E:\\jupyter file\\EEG_process\\SE_train_processed\\Z雷振20220323_bias_0.fif\n",
      "Closing E:\\jupyter file\\EEG_process\\SE_train_processed\\Z雷振20220323_bias_0.fif\n",
      "[done]\n",
      "../SE_train_processed/Z雷振20220325_bias_0.fif\n",
      "Opening raw data file ../SE_train\\Z雷振20220325_bias_0.fif...\n",
      "Isotrak not found\n",
      "    Range : 45887 ... 54079 =     44.812 ...    52.812 secs\n",
      "Ready.\n",
      "data_256.shape (17, 2048)\n",
      "data_256_samples.shape (17, 4, 512)\n",
      "data_sta.shape (17, 4, 512)\n",
      "data_x.shape: (68, 512, 1)\n"
     ]
    },
    {
     "name": "stderr",
     "output_type": "stream",
     "text": [
      "<ipython-input-4-780c8fcbedab>:73: RuntimeWarning: This filename (E:\\jupyter file\\EEG_process\\SE_train_processed\\Z雷振20220323_bias_0.fif) does not conform to MNE naming conventions. All raw files should end with raw.fif, raw_sss.fif, raw_tsss.fif, _meg.fif, _eeg.fif, _ieeg.fif, raw.fif.gz, raw_sss.fif.gz, raw_tsss.fif.gz, _meg.fif.gz, _eeg.fif.gz or _ieeg.fif.gz\n",
      "  custom_raw.save(save_path,overwrite=True)\n",
      "<ipython-input-4-780c8fcbedab>:2: RuntimeWarning: This filename (../SE_train\\Z雷振20220325_bias_0.fif) does not conform to MNE naming conventions. All raw files should end with raw.fif, raw_sss.fif, raw_tsss.fif, _meg.fif, _eeg.fif, _ieeg.fif, raw.fif.gz, raw_sss.fif.gz, raw_tsss.fif.gz, _meg.fif.gz, _eeg.fif.gz or _ieeg.fif.gz\n",
      "  raw = read_raw_fif(file_path)\n"
     ]
    },
    {
     "name": "stdout",
     "output_type": "stream",
     "text": [
      "pred_channel.shape (17, 2048)\n",
      "Creating RawArray with float64 data, n_channels=17, n_times=2048\n",
      "    Range : 0 ... 2047 =      0.000 ...     7.996 secs\n",
      "Ready.\n",
      "Writing E:\\jupyter file\\EEG_process\\SE_train_processed\\Z雷振20220325_bias_0.fif\n",
      "Closing E:\\jupyter file\\EEG_process\\SE_train_processed\\Z雷振20220325_bias_0.fif\n",
      "[done]\n",
      "../SE_train_processed/Z雷振20220328_bias_0.fif\n",
      "Opening raw data file ../SE_train\\Z雷振20220328_bias_0.fif...\n",
      "Isotrak not found\n",
      "    Range : 6400 ... 14592 =      6.250 ...    14.250 secs\n",
      "Ready.\n",
      "data_256.shape (17, 2048)\n",
      "data_256_samples.shape (17, 4, 512)\n",
      "data_sta.shape (17, 4, 512)\n",
      "data_x.shape: (68, 512, 1)\n"
     ]
    },
    {
     "name": "stderr",
     "output_type": "stream",
     "text": [
      "<ipython-input-4-780c8fcbedab>:73: RuntimeWarning: This filename (E:\\jupyter file\\EEG_process\\SE_train_processed\\Z雷振20220325_bias_0.fif) does not conform to MNE naming conventions. All raw files should end with raw.fif, raw_sss.fif, raw_tsss.fif, _meg.fif, _eeg.fif, _ieeg.fif, raw.fif.gz, raw_sss.fif.gz, raw_tsss.fif.gz, _meg.fif.gz, _eeg.fif.gz or _ieeg.fif.gz\n",
      "  custom_raw.save(save_path,overwrite=True)\n",
      "<ipython-input-4-780c8fcbedab>:2: RuntimeWarning: This filename (../SE_train\\Z雷振20220328_bias_0.fif) does not conform to MNE naming conventions. All raw files should end with raw.fif, raw_sss.fif, raw_tsss.fif, _meg.fif, _eeg.fif, _ieeg.fif, raw.fif.gz, raw_sss.fif.gz, raw_tsss.fif.gz, _meg.fif.gz, _eeg.fif.gz or _ieeg.fif.gz\n",
      "  raw = read_raw_fif(file_path)\n"
     ]
    },
    {
     "name": "stdout",
     "output_type": "stream",
     "text": [
      "pred_channel.shape (17, 2048)\n",
      "Creating RawArray with float64 data, n_channels=17, n_times=2048\n",
      "    Range : 0 ... 2047 =      0.000 ...     7.996 secs\n",
      "Ready.\n",
      "Writing E:\\jupyter file\\EEG_process\\SE_train_processed\\Z雷振20220328_bias_0.fif\n",
      "Closing E:\\jupyter file\\EEG_process\\SE_train_processed\\Z雷振20220328_bias_0.fif\n",
      "[done]\n",
      "../SE_train_processed/Z黄盈雪20220314_bias_0.fif\n",
      "Opening raw data file ../SE_train\\Z黄盈雪20220314_bias_0.fif...\n",
      "Isotrak not found\n",
      "    Range : 20114 ... 28306 =     19.643 ...    27.643 secs\n",
      "Ready.\n",
      "data_256.shape (17, 2048)\n",
      "data_256_samples.shape (17, 4, 512)\n",
      "data_sta.shape (17, 4, 512)\n",
      "data_x.shape: (68, 512, 1)\n"
     ]
    },
    {
     "name": "stderr",
     "output_type": "stream",
     "text": [
      "<ipython-input-4-780c8fcbedab>:73: RuntimeWarning: This filename (E:\\jupyter file\\EEG_process\\SE_train_processed\\Z雷振20220328_bias_0.fif) does not conform to MNE naming conventions. All raw files should end with raw.fif, raw_sss.fif, raw_tsss.fif, _meg.fif, _eeg.fif, _ieeg.fif, raw.fif.gz, raw_sss.fif.gz, raw_tsss.fif.gz, _meg.fif.gz, _eeg.fif.gz or _ieeg.fif.gz\n",
      "  custom_raw.save(save_path,overwrite=True)\n",
      "<ipython-input-4-780c8fcbedab>:2: RuntimeWarning: This filename (../SE_train\\Z黄盈雪20220314_bias_0.fif) does not conform to MNE naming conventions. All raw files should end with raw.fif, raw_sss.fif, raw_tsss.fif, _meg.fif, _eeg.fif, _ieeg.fif, raw.fif.gz, raw_sss.fif.gz, raw_tsss.fif.gz, _meg.fif.gz, _eeg.fif.gz or _ieeg.fif.gz\n",
      "  raw = read_raw_fif(file_path)\n"
     ]
    },
    {
     "name": "stdout",
     "output_type": "stream",
     "text": [
      "pred_channel.shape (17, 2048)\n",
      "Creating RawArray with float64 data, n_channels=17, n_times=2048\n",
      "    Range : 0 ... 2047 =      0.000 ...     7.996 secs\n",
      "Ready.\n",
      "Writing E:\\jupyter file\\EEG_process\\SE_train_processed\\Z黄盈雪20220314_bias_0.fif\n",
      "Closing E:\\jupyter file\\EEG_process\\SE_train_processed\\Z黄盈雪20220314_bias_0.fif\n",
      "[done]\n",
      "../SE_train_processed/Z黄盈雪20220316_bias_0.fif\n",
      "Opening raw data file ../SE_train\\Z黄盈雪20220316_bias_0.fif...\n",
      "Isotrak not found\n",
      "    Range : 90303 ... 98495 =     88.187 ...    96.187 secs\n",
      "Ready.\n",
      "data_256.shape (17, 2048)\n",
      "data_256_samples.shape (17, 4, 512)\n",
      "data_sta.shape (17, 4, 512)\n",
      "data_x.shape: (68, 512, 1)\n"
     ]
    },
    {
     "name": "stderr",
     "output_type": "stream",
     "text": [
      "<ipython-input-4-780c8fcbedab>:73: RuntimeWarning: This filename (E:\\jupyter file\\EEG_process\\SE_train_processed\\Z黄盈雪20220314_bias_0.fif) does not conform to MNE naming conventions. All raw files should end with raw.fif, raw_sss.fif, raw_tsss.fif, _meg.fif, _eeg.fif, _ieeg.fif, raw.fif.gz, raw_sss.fif.gz, raw_tsss.fif.gz, _meg.fif.gz, _eeg.fif.gz or _ieeg.fif.gz\n",
      "  custom_raw.save(save_path,overwrite=True)\n",
      "<ipython-input-4-780c8fcbedab>:2: RuntimeWarning: This filename (../SE_train\\Z黄盈雪20220316_bias_0.fif) does not conform to MNE naming conventions. All raw files should end with raw.fif, raw_sss.fif, raw_tsss.fif, _meg.fif, _eeg.fif, _ieeg.fif, raw.fif.gz, raw_sss.fif.gz, raw_tsss.fif.gz, _meg.fif.gz, _eeg.fif.gz or _ieeg.fif.gz\n",
      "  raw = read_raw_fif(file_path)\n"
     ]
    },
    {
     "name": "stdout",
     "output_type": "stream",
     "text": [
      "pred_channel.shape (17, 2048)\n",
      "Creating RawArray with float64 data, n_channels=17, n_times=2048\n",
      "    Range : 0 ... 2047 =      0.000 ...     7.996 secs\n",
      "Ready.\n",
      "Writing E:\\jupyter file\\EEG_process\\SE_train_processed\\Z黄盈雪20220316_bias_0.fif\n",
      "Closing E:\\jupyter file\\EEG_process\\SE_train_processed\\Z黄盈雪20220316_bias_0.fif\n",
      "[done]\n",
      "../SE_train_processed/Z黄盈雪20220318_bias_0.fif\n",
      "Opening raw data file ../SE_train\\Z黄盈雪20220318_bias_0.fif...\n",
      "Isotrak not found\n",
      "    Range : 499 ... 8691 =      0.487 ...     8.487 secs\n",
      "Ready.\n",
      "data_256.shape (17, 2048)\n",
      "data_256_samples.shape (17, 4, 512)\n",
      "data_sta.shape (17, 4, 512)\n",
      "data_x.shape: (68, 512, 1)\n"
     ]
    },
    {
     "name": "stderr",
     "output_type": "stream",
     "text": [
      "<ipython-input-4-780c8fcbedab>:73: RuntimeWarning: This filename (E:\\jupyter file\\EEG_process\\SE_train_processed\\Z黄盈雪20220316_bias_0.fif) does not conform to MNE naming conventions. All raw files should end with raw.fif, raw_sss.fif, raw_tsss.fif, _meg.fif, _eeg.fif, _ieeg.fif, raw.fif.gz, raw_sss.fif.gz, raw_tsss.fif.gz, _meg.fif.gz, _eeg.fif.gz or _ieeg.fif.gz\n",
      "  custom_raw.save(save_path,overwrite=True)\n",
      "<ipython-input-4-780c8fcbedab>:2: RuntimeWarning: This filename (../SE_train\\Z黄盈雪20220318_bias_0.fif) does not conform to MNE naming conventions. All raw files should end with raw.fif, raw_sss.fif, raw_tsss.fif, _meg.fif, _eeg.fif, _ieeg.fif, raw.fif.gz, raw_sss.fif.gz, raw_tsss.fif.gz, _meg.fif.gz, _eeg.fif.gz or _ieeg.fif.gz\n",
      "  raw = read_raw_fif(file_path)\n"
     ]
    },
    {
     "name": "stdout",
     "output_type": "stream",
     "text": [
      "pred_channel.shape (17, 2048)\n",
      "Creating RawArray with float64 data, n_channels=17, n_times=2048\n",
      "    Range : 0 ... 2047 =      0.000 ...     7.996 secs\n",
      "Ready.\n",
      "Writing E:\\jupyter file\\EEG_process\\SE_train_processed\\Z黄盈雪20220318_bias_0.fif\n",
      "Closing E:\\jupyter file\\EEG_process\\SE_train_processed\\Z黄盈雪20220318_bias_0.fif\n",
      "[done]\n",
      "../SE_train_processed/Z黄盈雪20220323_bias_0.fif\n",
      "Opening raw data file ../SE_train\\Z黄盈雪20220323_bias_0.fif...\n",
      "Isotrak not found\n",
      "    Range : 116586 ... 124778 =    113.854 ...   121.854 secs\n",
      "Ready.\n",
      "data_256.shape (17, 2048)\n",
      "data_256_samples.shape (17, 4, 512)\n",
      "data_sta.shape (17, 4, 512)\n",
      "data_x.shape: (68, 512, 1)\n"
     ]
    },
    {
     "name": "stderr",
     "output_type": "stream",
     "text": [
      "<ipython-input-4-780c8fcbedab>:73: RuntimeWarning: This filename (E:\\jupyter file\\EEG_process\\SE_train_processed\\Z黄盈雪20220318_bias_0.fif) does not conform to MNE naming conventions. All raw files should end with raw.fif, raw_sss.fif, raw_tsss.fif, _meg.fif, _eeg.fif, _ieeg.fif, raw.fif.gz, raw_sss.fif.gz, raw_tsss.fif.gz, _meg.fif.gz, _eeg.fif.gz or _ieeg.fif.gz\n",
      "  custom_raw.save(save_path,overwrite=True)\n",
      "<ipython-input-4-780c8fcbedab>:2: RuntimeWarning: This filename (../SE_train\\Z黄盈雪20220323_bias_0.fif) does not conform to MNE naming conventions. All raw files should end with raw.fif, raw_sss.fif, raw_tsss.fif, _meg.fif, _eeg.fif, _ieeg.fif, raw.fif.gz, raw_sss.fif.gz, raw_tsss.fif.gz, _meg.fif.gz, _eeg.fif.gz or _ieeg.fif.gz\n",
      "  raw = read_raw_fif(file_path)\n"
     ]
    },
    {
     "name": "stdout",
     "output_type": "stream",
     "text": [
      "pred_channel.shape (17, 2048)\n",
      "Creating RawArray with float64 data, n_channels=17, n_times=2048\n",
      "    Range : 0 ... 2047 =      0.000 ...     7.996 secs\n",
      "Ready.\n",
      "Writing E:\\jupyter file\\EEG_process\\SE_train_processed\\Z黄盈雪20220323_bias_0.fif\n",
      "Closing E:\\jupyter file\\EEG_process\\SE_train_processed\\Z黄盈雪20220323_bias_0.fif\n",
      "[done]\n",
      "../SE_train_processed/Z黄金燕20220309_bias_0.fif\n",
      "Opening raw data file ../SE_train\\Z黄金燕20220309_bias_0.fif...\n",
      "Isotrak not found\n",
      "    Range : 27979 ... 36171 =     27.323 ...    35.323 secs\n",
      "Ready.\n",
      "data_256.shape (17, 2048)\n",
      "data_256_samples.shape (17, 4, 512)\n",
      "data_sta.shape (17, 4, 512)\n",
      "data_x.shape: (68, 512, 1)\n"
     ]
    },
    {
     "name": "stderr",
     "output_type": "stream",
     "text": [
      "<ipython-input-4-780c8fcbedab>:73: RuntimeWarning: This filename (E:\\jupyter file\\EEG_process\\SE_train_processed\\Z黄盈雪20220323_bias_0.fif) does not conform to MNE naming conventions. All raw files should end with raw.fif, raw_sss.fif, raw_tsss.fif, _meg.fif, _eeg.fif, _ieeg.fif, raw.fif.gz, raw_sss.fif.gz, raw_tsss.fif.gz, _meg.fif.gz, _eeg.fif.gz or _ieeg.fif.gz\n",
      "  custom_raw.save(save_path,overwrite=True)\n",
      "<ipython-input-4-780c8fcbedab>:2: RuntimeWarning: This filename (../SE_train\\Z黄金燕20220309_bias_0.fif) does not conform to MNE naming conventions. All raw files should end with raw.fif, raw_sss.fif, raw_tsss.fif, _meg.fif, _eeg.fif, _ieeg.fif, raw.fif.gz, raw_sss.fif.gz, raw_tsss.fif.gz, _meg.fif.gz, _eeg.fif.gz or _ieeg.fif.gz\n",
      "  raw = read_raw_fif(file_path)\n"
     ]
    },
    {
     "name": "stdout",
     "output_type": "stream",
     "text": [
      "pred_channel.shape (17, 2048)\n",
      "Creating RawArray with float64 data, n_channels=17, n_times=2048\n",
      "    Range : 0 ... 2047 =      0.000 ...     7.996 secs\n",
      "Ready.\n",
      "Writing E:\\jupyter file\\EEG_process\\SE_train_processed\\Z黄金燕20220309_bias_0.fif\n",
      "Closing E:\\jupyter file\\EEG_process\\SE_train_processed\\Z黄金燕20220309_bias_0.fif\n",
      "[done]\n",
      "../SE_train_processed/Z黄金燕20220311_bias_0.fif\n",
      "Opening raw data file ../SE_train\\Z黄金燕20220311_bias_0.fif...\n",
      "Isotrak not found\n",
      "    Range : 75866 ... 84058 =     74.088 ...    82.088 secs\n",
      "Ready.\n",
      "data_256.shape (17, 2048)\n",
      "data_256_samples.shape (17, 4, 512)\n",
      "data_sta.shape (17, 4, 512)\n",
      "data_x.shape: (68, 512, 1)\n"
     ]
    },
    {
     "name": "stderr",
     "output_type": "stream",
     "text": [
      "<ipython-input-4-780c8fcbedab>:73: RuntimeWarning: This filename (E:\\jupyter file\\EEG_process\\SE_train_processed\\Z黄金燕20220309_bias_0.fif) does not conform to MNE naming conventions. All raw files should end with raw.fif, raw_sss.fif, raw_tsss.fif, _meg.fif, _eeg.fif, _ieeg.fif, raw.fif.gz, raw_sss.fif.gz, raw_tsss.fif.gz, _meg.fif.gz, _eeg.fif.gz or _ieeg.fif.gz\n",
      "  custom_raw.save(save_path,overwrite=True)\n",
      "<ipython-input-4-780c8fcbedab>:2: RuntimeWarning: This filename (../SE_train\\Z黄金燕20220311_bias_0.fif) does not conform to MNE naming conventions. All raw files should end with raw.fif, raw_sss.fif, raw_tsss.fif, _meg.fif, _eeg.fif, _ieeg.fif, raw.fif.gz, raw_sss.fif.gz, raw_tsss.fif.gz, _meg.fif.gz, _eeg.fif.gz or _ieeg.fif.gz\n",
      "  raw = read_raw_fif(file_path)\n"
     ]
    },
    {
     "name": "stdout",
     "output_type": "stream",
     "text": [
      "pred_channel.shape (17, 2048)\n",
      "Creating RawArray with float64 data, n_channels=17, n_times=2048\n",
      "    Range : 0 ... 2047 =      0.000 ...     7.996 secs\n",
      "Ready.\n",
      "Writing E:\\jupyter file\\EEG_process\\SE_train_processed\\Z黄金燕20220311_bias_0.fif\n",
      "Closing E:\\jupyter file\\EEG_process\\SE_train_processed\\Z黄金燕20220311_bias_0.fif\n",
      "[done]\n",
      "../SE_train_processed/Z黄金燕20220314_bias_0.fif\n",
      "Opening raw data file ../SE_train\\Z黄金燕20220314_bias_0.fif...\n",
      "Isotrak not found\n",
      "    Range : 42873 ... 51065 =     41.868 ...    49.868 secs\n",
      "Ready.\n",
      "data_256.shape (17, 2048)\n",
      "data_256_samples.shape (17, 4, 512)\n",
      "data_sta.shape (17, 4, 512)\n",
      "data_x.shape: (68, 512, 1)\n"
     ]
    },
    {
     "name": "stderr",
     "output_type": "stream",
     "text": [
      "<ipython-input-4-780c8fcbedab>:73: RuntimeWarning: This filename (E:\\jupyter file\\EEG_process\\SE_train_processed\\Z黄金燕20220311_bias_0.fif) does not conform to MNE naming conventions. All raw files should end with raw.fif, raw_sss.fif, raw_tsss.fif, _meg.fif, _eeg.fif, _ieeg.fif, raw.fif.gz, raw_sss.fif.gz, raw_tsss.fif.gz, _meg.fif.gz, _eeg.fif.gz or _ieeg.fif.gz\n",
      "  custom_raw.save(save_path,overwrite=True)\n",
      "<ipython-input-4-780c8fcbedab>:2: RuntimeWarning: This filename (../SE_train\\Z黄金燕20220314_bias_0.fif) does not conform to MNE naming conventions. All raw files should end with raw.fif, raw_sss.fif, raw_tsss.fif, _meg.fif, _eeg.fif, _ieeg.fif, raw.fif.gz, raw_sss.fif.gz, raw_tsss.fif.gz, _meg.fif.gz, _eeg.fif.gz or _ieeg.fif.gz\n",
      "  raw = read_raw_fif(file_path)\n"
     ]
    },
    {
     "name": "stdout",
     "output_type": "stream",
     "text": [
      "pred_channel.shape (17, 2048)\n",
      "Creating RawArray with float64 data, n_channels=17, n_times=2048\n",
      "    Range : 0 ... 2047 =      0.000 ...     7.996 secs\n",
      "Ready.\n",
      "Writing E:\\jupyter file\\EEG_process\\SE_train_processed\\Z黄金燕20220314_bias_0.fif\n",
      "Closing E:\\jupyter file\\EEG_process\\SE_train_processed\\Z黄金燕20220314_bias_0.fif\n",
      "[done]\n",
      "../SE_train_processed/Z黄金燕20220316_bias_0.fif\n",
      "Opening raw data file ../SE_train\\Z黄金燕20220316_bias_0.fif...\n",
      "Isotrak not found\n",
      "    Range : 69652 ... 77844 =     68.020 ...    76.020 secs\n",
      "Ready.\n",
      "data_256.shape (17, 2048)\n",
      "data_256_samples.shape (17, 4, 512)\n",
      "data_sta.shape (17, 4, 512)\n",
      "data_x.shape: (68, 512, 1)\n"
     ]
    },
    {
     "name": "stderr",
     "output_type": "stream",
     "text": [
      "<ipython-input-4-780c8fcbedab>:73: RuntimeWarning: This filename (E:\\jupyter file\\EEG_process\\SE_train_processed\\Z黄金燕20220314_bias_0.fif) does not conform to MNE naming conventions. All raw files should end with raw.fif, raw_sss.fif, raw_tsss.fif, _meg.fif, _eeg.fif, _ieeg.fif, raw.fif.gz, raw_sss.fif.gz, raw_tsss.fif.gz, _meg.fif.gz, _eeg.fif.gz or _ieeg.fif.gz\n",
      "  custom_raw.save(save_path,overwrite=True)\n",
      "<ipython-input-4-780c8fcbedab>:2: RuntimeWarning: This filename (../SE_train\\Z黄金燕20220316_bias_0.fif) does not conform to MNE naming conventions. All raw files should end with raw.fif, raw_sss.fif, raw_tsss.fif, _meg.fif, _eeg.fif, _ieeg.fif, raw.fif.gz, raw_sss.fif.gz, raw_tsss.fif.gz, _meg.fif.gz, _eeg.fif.gz or _ieeg.fif.gz\n",
      "  raw = read_raw_fif(file_path)\n"
     ]
    },
    {
     "name": "stdout",
     "output_type": "stream",
     "text": [
      "pred_channel.shape (17, 2048)\n",
      "Creating RawArray with float64 data, n_channels=17, n_times=2048\n",
      "    Range : 0 ... 2047 =      0.000 ...     7.996 secs\n",
      "Ready.\n",
      "Writing E:\\jupyter file\\EEG_process\\SE_train_processed\\Z黄金燕20220316_bias_0.fif\n",
      "Closing E:\\jupyter file\\EEG_process\\SE_train_processed\\Z黄金燕20220316_bias_0.fif\n",
      "[done]\n",
      "../SE_train_processed/Z齐金钢20220223_bias_0.fif\n",
      "Opening raw data file ../SE_train\\Z齐金钢20220223_bias_0.fif...\n",
      "Isotrak not found\n",
      "    Range : 15380 ... 23572 =     15.020 ...    23.020 secs\n",
      "Ready.\n",
      "data_256.shape (17, 2048)\n",
      "data_256_samples.shape (17, 4, 512)\n",
      "data_sta.shape (17, 4, 512)\n",
      "data_x.shape: (68, 512, 1)\n"
     ]
    },
    {
     "name": "stderr",
     "output_type": "stream",
     "text": [
      "<ipython-input-4-780c8fcbedab>:73: RuntimeWarning: This filename (E:\\jupyter file\\EEG_process\\SE_train_processed\\Z黄金燕20220316_bias_0.fif) does not conform to MNE naming conventions. All raw files should end with raw.fif, raw_sss.fif, raw_tsss.fif, _meg.fif, _eeg.fif, _ieeg.fif, raw.fif.gz, raw_sss.fif.gz, raw_tsss.fif.gz, _meg.fif.gz, _eeg.fif.gz or _ieeg.fif.gz\n",
      "  custom_raw.save(save_path,overwrite=True)\n",
      "<ipython-input-4-780c8fcbedab>:2: RuntimeWarning: This filename (../SE_train\\Z齐金钢20220223_bias_0.fif) does not conform to MNE naming conventions. All raw files should end with raw.fif, raw_sss.fif, raw_tsss.fif, _meg.fif, _eeg.fif, _ieeg.fif, raw.fif.gz, raw_sss.fif.gz, raw_tsss.fif.gz, _meg.fif.gz, _eeg.fif.gz or _ieeg.fif.gz\n",
      "  raw = read_raw_fif(file_path)\n"
     ]
    },
    {
     "name": "stdout",
     "output_type": "stream",
     "text": [
      "pred_channel.shape (17, 2048)\n",
      "Creating RawArray with float64 data, n_channels=17, n_times=2048\n",
      "    Range : 0 ... 2047 =      0.000 ...     7.996 secs\n",
      "Ready.\n",
      "Writing E:\\jupyter file\\EEG_process\\SE_train_processed\\Z齐金钢20220223_bias_0.fif\n",
      "Closing E:\\jupyter file\\EEG_process\\SE_train_processed\\Z齐金钢20220223_bias_0.fif\n",
      "[done]\n",
      "../SE_train_processed/Z齐金钢20220225_bias_0.fif\n",
      "Opening raw data file ../SE_train\\Z齐金钢20220225_bias_0.fif...\n",
      "Isotrak not found\n",
      "    Range : 8174 ... 16366 =      7.982 ...    15.982 secs\n",
      "Ready.\n",
      "data_256.shape (17, 2048)\n",
      "data_256_samples.shape (17, 4, 512)\n",
      "data_sta.shape (17, 4, 512)\n",
      "data_x.shape: (68, 512, 1)\n"
     ]
    },
    {
     "name": "stderr",
     "output_type": "stream",
     "text": [
      "<ipython-input-4-780c8fcbedab>:73: RuntimeWarning: This filename (E:\\jupyter file\\EEG_process\\SE_train_processed\\Z齐金钢20220223_bias_0.fif) does not conform to MNE naming conventions. All raw files should end with raw.fif, raw_sss.fif, raw_tsss.fif, _meg.fif, _eeg.fif, _ieeg.fif, raw.fif.gz, raw_sss.fif.gz, raw_tsss.fif.gz, _meg.fif.gz, _eeg.fif.gz or _ieeg.fif.gz\n",
      "  custom_raw.save(save_path,overwrite=True)\n",
      "<ipython-input-4-780c8fcbedab>:2: RuntimeWarning: This filename (../SE_train\\Z齐金钢20220225_bias_0.fif) does not conform to MNE naming conventions. All raw files should end with raw.fif, raw_sss.fif, raw_tsss.fif, _meg.fif, _eeg.fif, _ieeg.fif, raw.fif.gz, raw_sss.fif.gz, raw_tsss.fif.gz, _meg.fif.gz, _eeg.fif.gz or _ieeg.fif.gz\n",
      "  raw = read_raw_fif(file_path)\n"
     ]
    },
    {
     "name": "stdout",
     "output_type": "stream",
     "text": [
      "pred_channel.shape (17, 2048)\n",
      "Creating RawArray with float64 data, n_channels=17, n_times=2048\n",
      "    Range : 0 ... 2047 =      0.000 ...     7.996 secs\n",
      "Ready.\n",
      "Writing E:\\jupyter file\\EEG_process\\SE_train_processed\\Z齐金钢20220225_bias_0.fif\n",
      "Closing E:\\jupyter file\\EEG_process\\SE_train_processed\\Z齐金钢20220225_bias_0.fif\n",
      "[done]\n",
      "../SE_train_processed/Z齐金钢20220228_bias_0.fif\n",
      "Opening raw data file ../SE_train\\Z齐金钢20220228_bias_0.fif...\n",
      "Isotrak not found\n",
      "    Range : 20991 ... 29183 =     20.499 ...    28.499 secs\n",
      "Ready.\n",
      "data_256.shape (17, 2048)\n",
      "data_256_samples.shape (17, 4, 512)\n",
      "data_sta.shape (17, 4, 512)\n",
      "data_x.shape: (68, 512, 1)\n"
     ]
    },
    {
     "name": "stderr",
     "output_type": "stream",
     "text": [
      "<ipython-input-4-780c8fcbedab>:73: RuntimeWarning: This filename (E:\\jupyter file\\EEG_process\\SE_train_processed\\Z齐金钢20220225_bias_0.fif) does not conform to MNE naming conventions. All raw files should end with raw.fif, raw_sss.fif, raw_tsss.fif, _meg.fif, _eeg.fif, _ieeg.fif, raw.fif.gz, raw_sss.fif.gz, raw_tsss.fif.gz, _meg.fif.gz, _eeg.fif.gz or _ieeg.fif.gz\n",
      "  custom_raw.save(save_path,overwrite=True)\n",
      "<ipython-input-4-780c8fcbedab>:2: RuntimeWarning: This filename (../SE_train\\Z齐金钢20220228_bias_0.fif) does not conform to MNE naming conventions. All raw files should end with raw.fif, raw_sss.fif, raw_tsss.fif, _meg.fif, _eeg.fif, _ieeg.fif, raw.fif.gz, raw_sss.fif.gz, raw_tsss.fif.gz, _meg.fif.gz, _eeg.fif.gz or _ieeg.fif.gz\n",
      "  raw = read_raw_fif(file_path)\n"
     ]
    },
    {
     "name": "stdout",
     "output_type": "stream",
     "text": [
      "pred_channel.shape (17, 2048)\n",
      "Creating RawArray with float64 data, n_channels=17, n_times=2048\n",
      "    Range : 0 ... 2047 =      0.000 ...     7.996 secs\n",
      "Ready.\n",
      "Writing E:\\jupyter file\\EEG_process\\SE_train_processed\\Z齐金钢20220228_bias_0.fif\n",
      "Closing E:\\jupyter file\\EEG_process\\SE_train_processed\\Z齐金钢20220228_bias_0.fif\n",
      "[done]\n",
      "../SE_train_processed/Z齐金钢20220302_bias_0.fif\n",
      "Opening raw data file ../SE_train\\Z齐金钢20220302_bias_0.fif...\n",
      "Isotrak not found\n",
      "    Range : 150366 ... 158558 =    146.842 ...   154.842 secs\n",
      "Ready.\n",
      "data_256.shape (17, 2048)\n",
      "data_256_samples.shape (17, 4, 512)\n",
      "data_sta.shape (17, 4, 512)\n",
      "data_x.shape: (68, 512, 1)\n"
     ]
    },
    {
     "name": "stderr",
     "output_type": "stream",
     "text": [
      "<ipython-input-4-780c8fcbedab>:73: RuntimeWarning: This filename (E:\\jupyter file\\EEG_process\\SE_train_processed\\Z齐金钢20220228_bias_0.fif) does not conform to MNE naming conventions. All raw files should end with raw.fif, raw_sss.fif, raw_tsss.fif, _meg.fif, _eeg.fif, _ieeg.fif, raw.fif.gz, raw_sss.fif.gz, raw_tsss.fif.gz, _meg.fif.gz, _eeg.fif.gz or _ieeg.fif.gz\n",
      "  custom_raw.save(save_path,overwrite=True)\n",
      "<ipython-input-4-780c8fcbedab>:2: RuntimeWarning: This filename (../SE_train\\Z齐金钢20220302_bias_0.fif) does not conform to MNE naming conventions. All raw files should end with raw.fif, raw_sss.fif, raw_tsss.fif, _meg.fif, _eeg.fif, _ieeg.fif, raw.fif.gz, raw_sss.fif.gz, raw_tsss.fif.gz, _meg.fif.gz, _eeg.fif.gz or _ieeg.fif.gz\n",
      "  raw = read_raw_fif(file_path)\n"
     ]
    },
    {
     "name": "stdout",
     "output_type": "stream",
     "text": [
      "pred_channel.shape (17, 2048)\n",
      "Creating RawArray with float64 data, n_channels=17, n_times=2048\n",
      "    Range : 0 ... 2047 =      0.000 ...     7.996 secs\n",
      "Ready.\n",
      "Writing E:\\jupyter file\\EEG_process\\SE_train_processed\\Z齐金钢20220302_bias_0.fif\n",
      "Closing E:\\jupyter file\\EEG_process\\SE_train_processed\\Z齐金钢20220302_bias_0.fif\n",
      "[done]\n",
      "../SE_test_processed/Z徐珍英20220218（未发作）.fif\n",
      "Opening raw data file ../SE_test\\Z徐珍英20220218（未发作）.fif...\n",
      "Isotrak not found\n",
      "    Range : 222292 ... 238676 =    217.082 ...   233.082 secs\n",
      "Ready.\n",
      "data_256.shape (17, 4096)\n",
      "data_256_samples.shape (17, 8, 512)\n",
      "data_sta.shape (17, 8, 512)\n",
      "data_x.shape: (136, 512, 1)\n"
     ]
    },
    {
     "name": "stderr",
     "output_type": "stream",
     "text": [
      "<ipython-input-4-780c8fcbedab>:73: RuntimeWarning: This filename (E:\\jupyter file\\EEG_process\\SE_train_processed\\Z齐金钢20220302_bias_0.fif) does not conform to MNE naming conventions. All raw files should end with raw.fif, raw_sss.fif, raw_tsss.fif, _meg.fif, _eeg.fif, _ieeg.fif, raw.fif.gz, raw_sss.fif.gz, raw_tsss.fif.gz, _meg.fif.gz, _eeg.fif.gz or _ieeg.fif.gz\n",
      "  custom_raw.save(save_path,overwrite=True)\n",
      "<ipython-input-4-780c8fcbedab>:2: RuntimeWarning: This filename (../SE_test\\Z徐珍英20220218（未发作）.fif) does not conform to MNE naming conventions. All raw files should end with raw.fif, raw_sss.fif, raw_tsss.fif, _meg.fif, _eeg.fif, _ieeg.fif, raw.fif.gz, raw_sss.fif.gz, raw_tsss.fif.gz, _meg.fif.gz, _eeg.fif.gz or _ieeg.fif.gz\n",
      "  raw = read_raw_fif(file_path)\n"
     ]
    },
    {
     "name": "stdout",
     "output_type": "stream",
     "text": [
      "pred_channel.shape (17, 4096)\n",
      "Creating RawArray with float64 data, n_channels=17, n_times=4096\n",
      "    Range : 0 ... 4095 =      0.000 ...    15.996 secs\n",
      "Ready.\n",
      "Writing E:\\jupyter file\\EEG_process\\SE_test_processed\\Z徐珍英20220218（未发作）.fif\n",
      "Closing E:\\jupyter file\\EEG_process\\SE_test_processed\\Z徐珍英20220218（未发作）.fif\n",
      "[done]\n",
      "../SE_test_processed/Z徐珍英20220221（未发作）.fif\n",
      "Opening raw data file ../SE_test\\Z徐珍英20220221（未发作）.fif...\n",
      "Isotrak not found\n",
      "    Range : 63336 ... 79720 =     61.852 ...    77.852 secs\n",
      "Ready.\n",
      "data_256.shape (17, 4096)\n",
      "data_256_samples.shape (17, 8, 512)\n",
      "data_sta.shape (17, 8, 512)\n",
      "data_x.shape: (136, 512, 1)\n"
     ]
    },
    {
     "name": "stderr",
     "output_type": "stream",
     "text": [
      "<ipython-input-4-780c8fcbedab>:73: RuntimeWarning: This filename (E:\\jupyter file\\EEG_process\\SE_test_processed\\Z徐珍英20220218（未发作）.fif) does not conform to MNE naming conventions. All raw files should end with raw.fif, raw_sss.fif, raw_tsss.fif, _meg.fif, _eeg.fif, _ieeg.fif, raw.fif.gz, raw_sss.fif.gz, raw_tsss.fif.gz, _meg.fif.gz, _eeg.fif.gz or _ieeg.fif.gz\n",
      "  custom_raw.save(save_path,overwrite=True)\n",
      "<ipython-input-4-780c8fcbedab>:2: RuntimeWarning: This filename (../SE_test\\Z徐珍英20220221（未发作）.fif) does not conform to MNE naming conventions. All raw files should end with raw.fif, raw_sss.fif, raw_tsss.fif, _meg.fif, _eeg.fif, _ieeg.fif, raw.fif.gz, raw_sss.fif.gz, raw_tsss.fif.gz, _meg.fif.gz, _eeg.fif.gz or _ieeg.fif.gz\n",
      "  raw = read_raw_fif(file_path)\n"
     ]
    },
    {
     "name": "stdout",
     "output_type": "stream",
     "text": [
      "pred_channel.shape (17, 4096)\n",
      "Creating RawArray with float64 data, n_channels=17, n_times=4096\n",
      "    Range : 0 ... 4095 =      0.000 ...    15.996 secs\n",
      "Ready.\n",
      "Writing E:\\jupyter file\\EEG_process\\SE_test_processed\\Z徐珍英20220221（未发作）.fif\n",
      "Closing E:\\jupyter file\\EEG_process\\SE_test_processed\\Z徐珍英20220221（未发作）.fif\n",
      "[done]\n",
      "../SE_test_processed/Z徐珍英20220223.fif\n",
      "Opening raw data file ../SE_test\\Z徐珍英20220223.fif...\n",
      "Isotrak not found\n",
      "    Range : 181813 ... 198197 =    177.552 ...   193.552 secs\n",
      "Ready.\n",
      "data_256.shape (17, 4096)\n",
      "data_256_samples.shape (17, 8, 512)\n",
      "data_sta.shape (17, 8, 512)\n",
      "data_x.shape: (136, 512, 1)\n"
     ]
    },
    {
     "name": "stderr",
     "output_type": "stream",
     "text": [
      "<ipython-input-4-780c8fcbedab>:73: RuntimeWarning: This filename (E:\\jupyter file\\EEG_process\\SE_test_processed\\Z徐珍英20220221（未发作）.fif) does not conform to MNE naming conventions. All raw files should end with raw.fif, raw_sss.fif, raw_tsss.fif, _meg.fif, _eeg.fif, _ieeg.fif, raw.fif.gz, raw_sss.fif.gz, raw_tsss.fif.gz, _meg.fif.gz, _eeg.fif.gz or _ieeg.fif.gz\n",
      "  custom_raw.save(save_path,overwrite=True)\n",
      "<ipython-input-4-780c8fcbedab>:2: RuntimeWarning: This filename (../SE_test\\Z徐珍英20220223.fif) does not conform to MNE naming conventions. All raw files should end with raw.fif, raw_sss.fif, raw_tsss.fif, _meg.fif, _eeg.fif, _ieeg.fif, raw.fif.gz, raw_sss.fif.gz, raw_tsss.fif.gz, _meg.fif.gz, _eeg.fif.gz or _ieeg.fif.gz\n",
      "  raw = read_raw_fif(file_path)\n"
     ]
    },
    {
     "name": "stdout",
     "output_type": "stream",
     "text": [
      "pred_channel.shape (17, 4096)\n",
      "Creating RawArray with float64 data, n_channels=17, n_times=4096\n",
      "    Range : 0 ... 4095 =      0.000 ...    15.996 secs\n",
      "Ready.\n",
      "Writing E:\\jupyter file\\EEG_process\\SE_test_processed\\Z徐珍英20220223.fif\n",
      "Closing E:\\jupyter file\\EEG_process\\SE_test_processed\\Z徐珍英20220223.fif\n",
      "[done]\n",
      "../SE_test_processed/Z徐珍英20220225.fif\n",
      "Opening raw data file ../SE_test\\Z徐珍英20220225.fif...\n",
      "Isotrak not found\n",
      "    Range : 23786 ... 40170 =     23.229 ...    39.229 secs\n",
      "Ready.\n",
      "data_256.shape (17, 4096)\n",
      "data_256_samples.shape (17, 8, 512)\n",
      "data_sta.shape (17, 8, 512)\n",
      "data_x.shape: (136, 512, 1)\n"
     ]
    },
    {
     "name": "stderr",
     "output_type": "stream",
     "text": [
      "<ipython-input-4-780c8fcbedab>:73: RuntimeWarning: This filename (E:\\jupyter file\\EEG_process\\SE_test_processed\\Z徐珍英20220223.fif) does not conform to MNE naming conventions. All raw files should end with raw.fif, raw_sss.fif, raw_tsss.fif, _meg.fif, _eeg.fif, _ieeg.fif, raw.fif.gz, raw_sss.fif.gz, raw_tsss.fif.gz, _meg.fif.gz, _eeg.fif.gz or _ieeg.fif.gz\n",
      "  custom_raw.save(save_path,overwrite=True)\n",
      "<ipython-input-4-780c8fcbedab>:2: RuntimeWarning: This filename (../SE_test\\Z徐珍英20220225.fif) does not conform to MNE naming conventions. All raw files should end with raw.fif, raw_sss.fif, raw_tsss.fif, _meg.fif, _eeg.fif, _ieeg.fif, raw.fif.gz, raw_sss.fif.gz, raw_tsss.fif.gz, _meg.fif.gz, _eeg.fif.gz or _ieeg.fif.gz\n",
      "  raw = read_raw_fif(file_path)\n"
     ]
    },
    {
     "name": "stdout",
     "output_type": "stream",
     "text": [
      "pred_channel.shape (17, 4096)\n",
      "Creating RawArray with float64 data, n_channels=17, n_times=4096\n",
      "    Range : 0 ... 4095 =      0.000 ...    15.996 secs\n",
      "Ready.\n",
      "Writing E:\\jupyter file\\EEG_process\\SE_test_processed\\Z徐珍英20220225.fif\n",
      "Closing E:\\jupyter file\\EEG_process\\SE_test_processed\\Z徐珍英20220225.fif\n",
      "[done]\n",
      "../SE_test_processed/Z李玉萍20220216.fif\n",
      "Opening raw data file ../SE_test\\Z李玉萍20220216.fif...\n",
      "Isotrak not found\n",
      "    Range : 50628 ... 67012 =     49.441 ...    65.441 secs\n",
      "Ready.\n",
      "data_256.shape (17, 4096)\n",
      "data_256_samples.shape (17, 8, 512)\n",
      "data_sta.shape (17, 8, 512)\n",
      "data_x.shape: (136, 512, 1)\n"
     ]
    },
    {
     "name": "stderr",
     "output_type": "stream",
     "text": [
      "<ipython-input-4-780c8fcbedab>:73: RuntimeWarning: This filename (E:\\jupyter file\\EEG_process\\SE_test_processed\\Z徐珍英20220225.fif) does not conform to MNE naming conventions. All raw files should end with raw.fif, raw_sss.fif, raw_tsss.fif, _meg.fif, _eeg.fif, _ieeg.fif, raw.fif.gz, raw_sss.fif.gz, raw_tsss.fif.gz, _meg.fif.gz, _eeg.fif.gz or _ieeg.fif.gz\n",
      "  custom_raw.save(save_path,overwrite=True)\n",
      "<ipython-input-4-780c8fcbedab>:2: RuntimeWarning: This filename (../SE_test\\Z李玉萍20220216.fif) does not conform to MNE naming conventions. All raw files should end with raw.fif, raw_sss.fif, raw_tsss.fif, _meg.fif, _eeg.fif, _ieeg.fif, raw.fif.gz, raw_sss.fif.gz, raw_tsss.fif.gz, _meg.fif.gz, _eeg.fif.gz or _ieeg.fif.gz\n",
      "  raw = read_raw_fif(file_path)\n"
     ]
    },
    {
     "name": "stdout",
     "output_type": "stream",
     "text": [
      "pred_channel.shape (17, 4096)\n",
      "Creating RawArray with float64 data, n_channels=17, n_times=4096\n",
      "    Range : 0 ... 4095 =      0.000 ...    15.996 secs\n",
      "Ready.\n",
      "Writing E:\\jupyter file\\EEG_process\\SE_test_processed\\Z李玉萍20220216.fif\n",
      "Closing E:\\jupyter file\\EEG_process\\SE_test_processed\\Z李玉萍20220216.fif\n",
      "[done]\n",
      "../SE_test_processed/Z李玉萍20220218.fif\n",
      "Opening raw data file ../SE_test\\Z李玉萍20220218.fif...\n",
      "Isotrak not found\n",
      "    Range : 55675 ... 72059 =     54.370 ...    70.370 secs\n",
      "Ready.\n",
      "data_256.shape (17, 4096)\n",
      "data_256_samples.shape (17, 8, 512)\n",
      "data_sta.shape (17, 8, 512)\n",
      "data_x.shape: (136, 512, 1)\n"
     ]
    },
    {
     "name": "stderr",
     "output_type": "stream",
     "text": [
      "<ipython-input-4-780c8fcbedab>:73: RuntimeWarning: This filename (E:\\jupyter file\\EEG_process\\SE_test_processed\\Z李玉萍20220216.fif) does not conform to MNE naming conventions. All raw files should end with raw.fif, raw_sss.fif, raw_tsss.fif, _meg.fif, _eeg.fif, _ieeg.fif, raw.fif.gz, raw_sss.fif.gz, raw_tsss.fif.gz, _meg.fif.gz, _eeg.fif.gz or _ieeg.fif.gz\n",
      "  custom_raw.save(save_path,overwrite=True)\n",
      "<ipython-input-4-780c8fcbedab>:2: RuntimeWarning: This filename (../SE_test\\Z李玉萍20220218.fif) does not conform to MNE naming conventions. All raw files should end with raw.fif, raw_sss.fif, raw_tsss.fif, _meg.fif, _eeg.fif, _ieeg.fif, raw.fif.gz, raw_sss.fif.gz, raw_tsss.fif.gz, _meg.fif.gz, _eeg.fif.gz or _ieeg.fif.gz\n",
      "  raw = read_raw_fif(file_path)\n"
     ]
    },
    {
     "name": "stdout",
     "output_type": "stream",
     "text": [
      "pred_channel.shape (17, 4096)\n",
      "Creating RawArray with float64 data, n_channels=17, n_times=4096\n",
      "    Range : 0 ... 4095 =      0.000 ...    15.996 secs\n",
      "Ready.\n",
      "Writing E:\\jupyter file\\EEG_process\\SE_test_processed\\Z李玉萍20220218.fif\n",
      "Closing E:\\jupyter file\\EEG_process\\SE_test_processed\\Z李玉萍20220218.fif\n",
      "[done]\n",
      "../SE_test_processed/Z李玉萍20220221（未发作）.fif\n",
      "Opening raw data file ../SE_test\\Z李玉萍20220221（未发作）.fif...\n",
      "Isotrak not found\n",
      "    Range : 37414 ... 53798 =     36.537 ...    52.537 secs\n",
      "Ready.\n",
      "data_256.shape (17, 4096)\n",
      "data_256_samples.shape (17, 8, 512)\n",
      "data_sta.shape (17, 8, 512)\n",
      "data_x.shape: (136, 512, 1)\n"
     ]
    },
    {
     "name": "stderr",
     "output_type": "stream",
     "text": [
      "<ipython-input-4-780c8fcbedab>:73: RuntimeWarning: This filename (E:\\jupyter file\\EEG_process\\SE_test_processed\\Z李玉萍20220218.fif) does not conform to MNE naming conventions. All raw files should end with raw.fif, raw_sss.fif, raw_tsss.fif, _meg.fif, _eeg.fif, _ieeg.fif, raw.fif.gz, raw_sss.fif.gz, raw_tsss.fif.gz, _meg.fif.gz, _eeg.fif.gz or _ieeg.fif.gz\n",
      "  custom_raw.save(save_path,overwrite=True)\n",
      "<ipython-input-4-780c8fcbedab>:2: RuntimeWarning: This filename (../SE_test\\Z李玉萍20220221（未发作）.fif) does not conform to MNE naming conventions. All raw files should end with raw.fif, raw_sss.fif, raw_tsss.fif, _meg.fif, _eeg.fif, _ieeg.fif, raw.fif.gz, raw_sss.fif.gz, raw_tsss.fif.gz, _meg.fif.gz, _eeg.fif.gz or _ieeg.fif.gz\n",
      "  raw = read_raw_fif(file_path)\n"
     ]
    },
    {
     "name": "stdout",
     "output_type": "stream",
     "text": [
      "pred_channel.shape (17, 4096)\n",
      "Creating RawArray with float64 data, n_channels=17, n_times=4096\n",
      "    Range : 0 ... 4095 =      0.000 ...    15.996 secs\n",
      "Ready.\n",
      "Writing E:\\jupyter file\\EEG_process\\SE_test_processed\\Z李玉萍20220221（未发作）.fif\n",
      "Closing E:\\jupyter file\\EEG_process\\SE_test_processed\\Z李玉萍20220221（未发作）.fif\n",
      "[done]\n",
      "../SE_test_processed/Z李玉萍20220223.fif\n",
      "Opening raw data file ../SE_test\\Z李玉萍20220223.fif...\n",
      "Isotrak not found\n",
      "    Range : 58082 ... 74466 =     56.721 ...    72.721 secs\n",
      "Ready.\n",
      "data_256.shape (17, 4096)\n",
      "data_256_samples.shape (17, 8, 512)\n",
      "data_sta.shape (17, 8, 512)\n",
      "data_x.shape: (136, 512, 1)\n"
     ]
    },
    {
     "name": "stderr",
     "output_type": "stream",
     "text": [
      "<ipython-input-4-780c8fcbedab>:73: RuntimeWarning: This filename (E:\\jupyter file\\EEG_process\\SE_test_processed\\Z李玉萍20220221（未发作）.fif) does not conform to MNE naming conventions. All raw files should end with raw.fif, raw_sss.fif, raw_tsss.fif, _meg.fif, _eeg.fif, _ieeg.fif, raw.fif.gz, raw_sss.fif.gz, raw_tsss.fif.gz, _meg.fif.gz, _eeg.fif.gz or _ieeg.fif.gz\n",
      "  custom_raw.save(save_path,overwrite=True)\n",
      "<ipython-input-4-780c8fcbedab>:2: RuntimeWarning: This filename (../SE_test\\Z李玉萍20220223.fif) does not conform to MNE naming conventions. All raw files should end with raw.fif, raw_sss.fif, raw_tsss.fif, _meg.fif, _eeg.fif, _ieeg.fif, raw.fif.gz, raw_sss.fif.gz, raw_tsss.fif.gz, _meg.fif.gz, _eeg.fif.gz or _ieeg.fif.gz\n",
      "  raw = read_raw_fif(file_path)\n"
     ]
    },
    {
     "name": "stdout",
     "output_type": "stream",
     "text": [
      "pred_channel.shape (17, 4096)\n",
      "Creating RawArray with float64 data, n_channels=17, n_times=4096\n",
      "    Range : 0 ... 4095 =      0.000 ...    15.996 secs\n",
      "Ready.\n",
      "Writing E:\\jupyter file\\EEG_process\\SE_test_processed\\Z李玉萍20220223.fif\n",
      "Closing E:\\jupyter file\\EEG_process\\SE_test_processed\\Z李玉萍20220223.fif\n",
      "[done]\n",
      "../SE_test_processed/Z王宜凡20220318.fif\n",
      "Opening raw data file ../SE_test\\Z王宜凡20220318.fif...\n",
      "Isotrak not found\n",
      "    Range : 118132 ... 134516 =    115.363 ...   131.363 secs\n",
      "Ready.\n",
      "data_256.shape (17, 4096)\n",
      "data_256_samples.shape (17, 8, 512)\n",
      "data_sta.shape (17, 8, 512)\n",
      "data_x.shape: (136, 512, 1)\n"
     ]
    },
    {
     "name": "stderr",
     "output_type": "stream",
     "text": [
      "<ipython-input-4-780c8fcbedab>:73: RuntimeWarning: This filename (E:\\jupyter file\\EEG_process\\SE_test_processed\\Z李玉萍20220223.fif) does not conform to MNE naming conventions. All raw files should end with raw.fif, raw_sss.fif, raw_tsss.fif, _meg.fif, _eeg.fif, _ieeg.fif, raw.fif.gz, raw_sss.fif.gz, raw_tsss.fif.gz, _meg.fif.gz, _eeg.fif.gz or _ieeg.fif.gz\n",
      "  custom_raw.save(save_path,overwrite=True)\n",
      "<ipython-input-4-780c8fcbedab>:2: RuntimeWarning: This filename (../SE_test\\Z王宜凡20220318.fif) does not conform to MNE naming conventions. All raw files should end with raw.fif, raw_sss.fif, raw_tsss.fif, _meg.fif, _eeg.fif, _ieeg.fif, raw.fif.gz, raw_sss.fif.gz, raw_tsss.fif.gz, _meg.fif.gz, _eeg.fif.gz or _ieeg.fif.gz\n",
      "  raw = read_raw_fif(file_path)\n"
     ]
    },
    {
     "name": "stdout",
     "output_type": "stream",
     "text": [
      "pred_channel.shape (17, 4096)\n",
      "Creating RawArray with float64 data, n_channels=17, n_times=4096\n",
      "    Range : 0 ... 4095 =      0.000 ...    15.996 secs\n",
      "Ready.\n",
      "Writing E:\\jupyter file\\EEG_process\\SE_test_processed\\Z王宜凡20220318.fif\n",
      "Closing E:\\jupyter file\\EEG_process\\SE_test_processed\\Z王宜凡20220318.fif\n",
      "[done]\n",
      "../SE_test_processed/Z王宜凡20220321.fif\n",
      "Opening raw data file ../SE_test\\Z王宜凡20220321.fif...\n",
      "Isotrak not found\n",
      "    Range : 67221 ... 83605 =     65.646 ...    81.646 secs\n",
      "Ready.\n",
      "data_256.shape (17, 4096)\n",
      "data_256_samples.shape (17, 8, 512)\n",
      "data_sta.shape (17, 8, 512)\n",
      "data_x.shape: (136, 512, 1)\n"
     ]
    },
    {
     "name": "stderr",
     "output_type": "stream",
     "text": [
      "<ipython-input-4-780c8fcbedab>:73: RuntimeWarning: This filename (E:\\jupyter file\\EEG_process\\SE_test_processed\\Z王宜凡20220318.fif) does not conform to MNE naming conventions. All raw files should end with raw.fif, raw_sss.fif, raw_tsss.fif, _meg.fif, _eeg.fif, _ieeg.fif, raw.fif.gz, raw_sss.fif.gz, raw_tsss.fif.gz, _meg.fif.gz, _eeg.fif.gz or _ieeg.fif.gz\n",
      "  custom_raw.save(save_path,overwrite=True)\n",
      "<ipython-input-4-780c8fcbedab>:2: RuntimeWarning: This filename (../SE_test\\Z王宜凡20220321.fif) does not conform to MNE naming conventions. All raw files should end with raw.fif, raw_sss.fif, raw_tsss.fif, _meg.fif, _eeg.fif, _ieeg.fif, raw.fif.gz, raw_sss.fif.gz, raw_tsss.fif.gz, _meg.fif.gz, _eeg.fif.gz or _ieeg.fif.gz\n",
      "  raw = read_raw_fif(file_path)\n"
     ]
    },
    {
     "name": "stdout",
     "output_type": "stream",
     "text": [
      "pred_channel.shape (17, 4096)\n",
      "Creating RawArray with float64 data, n_channels=17, n_times=4096\n",
      "    Range : 0 ... 4095 =      0.000 ...    15.996 secs\n",
      "Ready.\n",
      "Writing E:\\jupyter file\\EEG_process\\SE_test_processed\\Z王宜凡20220321.fif\n",
      "Closing E:\\jupyter file\\EEG_process\\SE_test_processed\\Z王宜凡20220321.fif\n",
      "[done]\n",
      "../SE_test_processed/Z王宜凡20220323.fif\n",
      "Opening raw data file ../SE_test\\Z王宜凡20220323.fif...\n",
      "Isotrak not found\n",
      "    Range : 103436 ... 119820 =    101.012 ...   117.012 secs\n",
      "Ready.\n",
      "data_256.shape (17, 4096)\n",
      "data_256_samples.shape (17, 8, 512)\n",
      "data_sta.shape (17, 8, 512)\n",
      "data_x.shape: (136, 512, 1)\n"
     ]
    },
    {
     "name": "stderr",
     "output_type": "stream",
     "text": [
      "<ipython-input-4-780c8fcbedab>:73: RuntimeWarning: This filename (E:\\jupyter file\\EEG_process\\SE_test_processed\\Z王宜凡20220321.fif) does not conform to MNE naming conventions. All raw files should end with raw.fif, raw_sss.fif, raw_tsss.fif, _meg.fif, _eeg.fif, _ieeg.fif, raw.fif.gz, raw_sss.fif.gz, raw_tsss.fif.gz, _meg.fif.gz, _eeg.fif.gz or _ieeg.fif.gz\n",
      "  custom_raw.save(save_path,overwrite=True)\n",
      "<ipython-input-4-780c8fcbedab>:2: RuntimeWarning: This filename (../SE_test\\Z王宜凡20220323.fif) does not conform to MNE naming conventions. All raw files should end with raw.fif, raw_sss.fif, raw_tsss.fif, _meg.fif, _eeg.fif, _ieeg.fif, raw.fif.gz, raw_sss.fif.gz, raw_tsss.fif.gz, _meg.fif.gz, _eeg.fif.gz or _ieeg.fif.gz\n",
      "  raw = read_raw_fif(file_path)\n"
     ]
    },
    {
     "name": "stdout",
     "output_type": "stream",
     "text": [
      "pred_channel.shape (17, 4096)\n",
      "Creating RawArray with float64 data, n_channels=17, n_times=4096\n",
      "    Range : 0 ... 4095 =      0.000 ...    15.996 secs\n",
      "Ready.\n",
      "Writing E:\\jupyter file\\EEG_process\\SE_test_processed\\Z王宜凡20220323.fif\n",
      "Closing E:\\jupyter file\\EEG_process\\SE_test_processed\\Z王宜凡20220323.fif\n",
      "[done]\n",
      "../SE_test_processed/Z王宜凡20220325.fif\n",
      "Opening raw data file ../SE_test\\Z王宜凡20220325.fif...\n",
      "Isotrak not found\n",
      "    Range : 75082 ... 91466 =     73.322 ...    89.322 secs\n",
      "Ready.\n",
      "data_256.shape (17, 4096)\n",
      "data_256_samples.shape (17, 8, 512)\n",
      "data_sta.shape (17, 8, 512)\n",
      "data_x.shape: (136, 512, 1)\n"
     ]
    },
    {
     "name": "stderr",
     "output_type": "stream",
     "text": [
      "<ipython-input-4-780c8fcbedab>:73: RuntimeWarning: This filename (E:\\jupyter file\\EEG_process\\SE_test_processed\\Z王宜凡20220323.fif) does not conform to MNE naming conventions. All raw files should end with raw.fif, raw_sss.fif, raw_tsss.fif, _meg.fif, _eeg.fif, _ieeg.fif, raw.fif.gz, raw_sss.fif.gz, raw_tsss.fif.gz, _meg.fif.gz, _eeg.fif.gz or _ieeg.fif.gz\n",
      "  custom_raw.save(save_path,overwrite=True)\n",
      "<ipython-input-4-780c8fcbedab>:2: RuntimeWarning: This filename (../SE_test\\Z王宜凡20220325.fif) does not conform to MNE naming conventions. All raw files should end with raw.fif, raw_sss.fif, raw_tsss.fif, _meg.fif, _eeg.fif, _ieeg.fif, raw.fif.gz, raw_sss.fif.gz, raw_tsss.fif.gz, _meg.fif.gz, _eeg.fif.gz or _ieeg.fif.gz\n",
      "  raw = read_raw_fif(file_path)\n"
     ]
    },
    {
     "name": "stdout",
     "output_type": "stream",
     "text": [
      "pred_channel.shape (17, 4096)\n",
      "Creating RawArray with float64 data, n_channels=17, n_times=4096\n",
      "    Range : 0 ... 4095 =      0.000 ...    15.996 secs\n",
      "Ready.\n",
      "Writing E:\\jupyter file\\EEG_process\\SE_test_processed\\Z王宜凡20220325.fif\n",
      "Closing E:\\jupyter file\\EEG_process\\SE_test_processed\\Z王宜凡20220325.fif\n",
      "[done]\n",
      "../SE_test_processed/Z王纯刚20220321.fif\n",
      "Opening raw data file ../SE_test\\Z王纯刚20220321.fif...\n",
      "Isotrak not found\n",
      "    Range : 93782 ... 110166 =     91.584 ...   107.584 secs\n",
      "Ready.\n",
      "data_256.shape (17, 4096)\n",
      "data_256_samples.shape (17, 8, 512)\n",
      "data_sta.shape (17, 8, 512)\n",
      "data_x.shape: (136, 512, 1)\n"
     ]
    },
    {
     "name": "stderr",
     "output_type": "stream",
     "text": [
      "<ipython-input-4-780c8fcbedab>:73: RuntimeWarning: This filename (E:\\jupyter file\\EEG_process\\SE_test_processed\\Z王宜凡20220325.fif) does not conform to MNE naming conventions. All raw files should end with raw.fif, raw_sss.fif, raw_tsss.fif, _meg.fif, _eeg.fif, _ieeg.fif, raw.fif.gz, raw_sss.fif.gz, raw_tsss.fif.gz, _meg.fif.gz, _eeg.fif.gz or _ieeg.fif.gz\n",
      "  custom_raw.save(save_path,overwrite=True)\n",
      "<ipython-input-4-780c8fcbedab>:2: RuntimeWarning: This filename (../SE_test\\Z王纯刚20220321.fif) does not conform to MNE naming conventions. All raw files should end with raw.fif, raw_sss.fif, raw_tsss.fif, _meg.fif, _eeg.fif, _ieeg.fif, raw.fif.gz, raw_sss.fif.gz, raw_tsss.fif.gz, _meg.fif.gz, _eeg.fif.gz or _ieeg.fif.gz\n",
      "  raw = read_raw_fif(file_path)\n"
     ]
    },
    {
     "name": "stdout",
     "output_type": "stream",
     "text": [
      "pred_channel.shape (17, 4096)\n",
      "Creating RawArray with float64 data, n_channels=17, n_times=4096\n",
      "    Range : 0 ... 4095 =      0.000 ...    15.996 secs\n",
      "Ready.\n",
      "Writing E:\\jupyter file\\EEG_process\\SE_test_processed\\Z王纯刚20220321.fif\n",
      "Closing E:\\jupyter file\\EEG_process\\SE_test_processed\\Z王纯刚20220321.fif\n",
      "[done]\n",
      "../SE_test_processed/Z王纯刚20220323.fif\n",
      "Opening raw data file ../SE_test\\Z王纯刚20220323.fif...\n",
      "Isotrak not found\n",
      "    Range : 69018 ... 85402 =     67.400 ...    83.400 secs\n",
      "Ready.\n",
      "data_256.shape (17, 4096)\n",
      "data_256_samples.shape (17, 8, 512)\n",
      "data_sta.shape (17, 8, 512)\n",
      "data_x.shape: (136, 512, 1)\n"
     ]
    },
    {
     "name": "stderr",
     "output_type": "stream",
     "text": [
      "<ipython-input-4-780c8fcbedab>:73: RuntimeWarning: This filename (E:\\jupyter file\\EEG_process\\SE_test_processed\\Z王纯刚20220321.fif) does not conform to MNE naming conventions. All raw files should end with raw.fif, raw_sss.fif, raw_tsss.fif, _meg.fif, _eeg.fif, _ieeg.fif, raw.fif.gz, raw_sss.fif.gz, raw_tsss.fif.gz, _meg.fif.gz, _eeg.fif.gz or _ieeg.fif.gz\n",
      "  custom_raw.save(save_path,overwrite=True)\n",
      "<ipython-input-4-780c8fcbedab>:2: RuntimeWarning: This filename (../SE_test\\Z王纯刚20220323.fif) does not conform to MNE naming conventions. All raw files should end with raw.fif, raw_sss.fif, raw_tsss.fif, _meg.fif, _eeg.fif, _ieeg.fif, raw.fif.gz, raw_sss.fif.gz, raw_tsss.fif.gz, _meg.fif.gz, _eeg.fif.gz or _ieeg.fif.gz\n",
      "  raw = read_raw_fif(file_path)\n"
     ]
    },
    {
     "name": "stdout",
     "output_type": "stream",
     "text": [
      "pred_channel.shape (17, 4096)\n",
      "Creating RawArray with float64 data, n_channels=17, n_times=4096\n",
      "    Range : 0 ... 4095 =      0.000 ...    15.996 secs\n",
      "Ready.\n",
      "Writing E:\\jupyter file\\EEG_process\\SE_test_processed\\Z王纯刚20220323.fif\n",
      "Closing E:\\jupyter file\\EEG_process\\SE_test_processed\\Z王纯刚20220323.fif\n",
      "[done]\n",
      "../SE_test_processed/Z王纯刚20220325.fif\n",
      "Opening raw data file ../SE_test\\Z王纯刚20220325.fif...\n",
      "Isotrak not found\n",
      "    Range : 24319 ... 40703 =     23.749 ...    39.749 secs\n",
      "Ready.\n",
      "data_256.shape (17, 4096)\n",
      "data_256_samples.shape (17, 8, 512)\n",
      "data_sta.shape (17, 8, 512)\n",
      "data_x.shape: (136, 512, 1)\n"
     ]
    },
    {
     "name": "stderr",
     "output_type": "stream",
     "text": [
      "<ipython-input-4-780c8fcbedab>:73: RuntimeWarning: This filename (E:\\jupyter file\\EEG_process\\SE_test_processed\\Z王纯刚20220323.fif) does not conform to MNE naming conventions. All raw files should end with raw.fif, raw_sss.fif, raw_tsss.fif, _meg.fif, _eeg.fif, _ieeg.fif, raw.fif.gz, raw_sss.fif.gz, raw_tsss.fif.gz, _meg.fif.gz, _eeg.fif.gz or _ieeg.fif.gz\n",
      "  custom_raw.save(save_path,overwrite=True)\n",
      "<ipython-input-4-780c8fcbedab>:2: RuntimeWarning: This filename (../SE_test\\Z王纯刚20220325.fif) does not conform to MNE naming conventions. All raw files should end with raw.fif, raw_sss.fif, raw_tsss.fif, _meg.fif, _eeg.fif, _ieeg.fif, raw.fif.gz, raw_sss.fif.gz, raw_tsss.fif.gz, _meg.fif.gz, _eeg.fif.gz or _ieeg.fif.gz\n",
      "  raw = read_raw_fif(file_path)\n"
     ]
    },
    {
     "name": "stdout",
     "output_type": "stream",
     "text": [
      "pred_channel.shape (17, 4096)\n",
      "Creating RawArray with float64 data, n_channels=17, n_times=4096\n",
      "    Range : 0 ... 4095 =      0.000 ...    15.996 secs\n",
      "Ready.\n",
      "Writing E:\\jupyter file\\EEG_process\\SE_test_processed\\Z王纯刚20220325.fif\n",
      "Closing E:\\jupyter file\\EEG_process\\SE_test_processed\\Z王纯刚20220325.fif\n",
      "[done]\n",
      "../SE_test_processed/Z王纯刚20220328.fif\n",
      "Opening raw data file ../SE_test\\Z王纯刚20220328.fif...\n",
      "Isotrak not found\n",
      "    Range : 289606 ... 305990 =    282.818 ...   298.818 secs\n",
      "Ready.\n",
      "data_256.shape (17, 4096)\n",
      "data_256_samples.shape (17, 8, 512)\n",
      "data_sta.shape (17, 8, 512)\n",
      "data_x.shape: (136, 512, 1)\n"
     ]
    },
    {
     "name": "stderr",
     "output_type": "stream",
     "text": [
      "<ipython-input-4-780c8fcbedab>:73: RuntimeWarning: This filename (E:\\jupyter file\\EEG_process\\SE_test_processed\\Z王纯刚20220325.fif) does not conform to MNE naming conventions. All raw files should end with raw.fif, raw_sss.fif, raw_tsss.fif, _meg.fif, _eeg.fif, _ieeg.fif, raw.fif.gz, raw_sss.fif.gz, raw_tsss.fif.gz, _meg.fif.gz, _eeg.fif.gz or _ieeg.fif.gz\n",
      "  custom_raw.save(save_path,overwrite=True)\n",
      "<ipython-input-4-780c8fcbedab>:2: RuntimeWarning: This filename (../SE_test\\Z王纯刚20220328.fif) does not conform to MNE naming conventions. All raw files should end with raw.fif, raw_sss.fif, raw_tsss.fif, _meg.fif, _eeg.fif, _ieeg.fif, raw.fif.gz, raw_sss.fif.gz, raw_tsss.fif.gz, _meg.fif.gz, _eeg.fif.gz or _ieeg.fif.gz\n",
      "  raw = read_raw_fif(file_path)\n"
     ]
    },
    {
     "name": "stdout",
     "output_type": "stream",
     "text": [
      "pred_channel.shape (17, 4096)\n",
      "Creating RawArray with float64 data, n_channels=17, n_times=4096\n",
      "    Range : 0 ... 4095 =      0.000 ...    15.996 secs\n",
      "Ready.\n",
      "Writing E:\\jupyter file\\EEG_process\\SE_test_processed\\Z王纯刚20220328.fif\n",
      "Closing E:\\jupyter file\\EEG_process\\SE_test_processed\\Z王纯刚20220328.fif\n",
      "[done]\n"
     ]
    },
    {
     "name": "stderr",
     "output_type": "stream",
     "text": [
      "<ipython-input-4-780c8fcbedab>:73: RuntimeWarning: This filename (E:\\jupyter file\\EEG_process\\SE_test_processed\\Z王纯刚20220328.fif) does not conform to MNE naming conventions. All raw files should end with raw.fif, raw_sss.fif, raw_tsss.fif, _meg.fif, _eeg.fif, _ieeg.fif, raw.fif.gz, raw_sss.fif.gz, raw_tsss.fif.gz, _meg.fif.gz, _eeg.fif.gz or _ieeg.fif.gz\n",
      "  custom_raw.save(save_path,overwrite=True)\n"
     ]
    }
   ],
   "source": [
    "for file_path in train_directory:\n",
    "    file_name = file_path.split(\"\\\\\")[-1]\n",
    "    save_path = \"../SE_train_processed/\" + \"\".join(file_name)\n",
    "    print(save_path)\n",
    "    #训练集为8s\n",
    "    SE_process(file_path,save_path,8)\n",
    "    \n",
    "for file_path in test_directory:\n",
    "    file_name = file_path.split(\"\\\\\")[-1]\n",
    "    save_path = \"../SE_test_processed/\" + \"\".join(file_name)\n",
    "    print(save_path)\n",
    "    #测试集为16s\n",
    "    SE_process(file_path,save_path,16)"
   ]
  },
  {
   "cell_type": "code",
   "execution_count": null,
   "id": "123b150c",
   "metadata": {},
   "outputs": [],
   "source": []
  }
 ],
 "metadata": {
  "kernelspec": {
   "display_name": "Python 3",
   "language": "python",
   "name": "python3"
  },
  "language_info": {
   "codemirror_mode": {
    "name": "ipython",
    "version": 3
   },
   "file_extension": ".py",
   "mimetype": "text/x-python",
   "name": "python",
   "nbconvert_exporter": "python",
   "pygments_lexer": "ipython3",
   "version": "3.8.8"
  }
 },
 "nbformat": 4,
 "nbformat_minor": 5
}
