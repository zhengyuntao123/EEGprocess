{
 "cells": [
  {
   "cell_type": "code",
   "execution_count": 1,
   "id": "91b88329",
   "metadata": {},
   "outputs": [],
   "source": [
    "# 该代码用于处理第三批病人的SE数据 利用课题组提供的H5黑盒模型"
   ]
  },
  {
   "cell_type": "code",
   "execution_count": 2,
   "id": "10734cde",
   "metadata": {},
   "outputs": [],
   "source": [
    "# 引入工具包\n",
    "from mne.io import concatenate_raws,read_raw_fif\n",
    "import matplotlib.pyplot as plt\n",
    "import mne\n",
    "import tensorflow as tf\n",
    "import numpy as np\n",
    "from numpy.lib.utils import safe_eval\n",
    "from keras.models import load_model\n",
    "import keras.backend as K\n",
    "import glob\n",
    "import scipy.signal\n",
    "import scipy.io as scio\n",
    "import pandas as pd\n",
    "import seaborn as sns\n",
    "import matplotlib.pyplot as plt\n",
    "%matplotlib inline"
   ]
  },
  {
   "cell_type": "code",
   "execution_count": 3,
   "id": "5421c042",
   "metadata": {
    "code_folding": [
     0
    ]
   },
   "outputs": [],
   "source": [
    "def pearson_r(y_true, y_pred):\n",
    "    x = y_true\n",
    "    y = y_pred\n",
    "    mx = K.mean(x, axis=0)\n",
    "    my = K.mean(y, axis=0)\n",
    "    xm, ym = x - mx, y - my\n",
    "    r_num = K.sum(xm * ym)\n",
    "    x_square_sum = K.sum(xm * xm)\n",
    "    y_square_sum = K.sum(ym * ym)\n",
    "    r_den = K.sqrt(x_square_sum * y_square_sum)\n",
    "    r = r_num / r_den\n",
    "    return K.mean(r)\n",
    "# % 模型准备 %\n",
    "model_path = r'../others/Gao_Novel_CNN_RNN16_2561630689427.h5'\n",
    "model = load_model(model_path, custom_objects={'pearson_r': pearson_r})"
   ]
  },
  {
   "cell_type": "code",
   "execution_count": 4,
   "id": "29eb6ea2",
   "metadata": {
    "code_folding": []
   },
   "outputs": [],
   "source": [
    "def SE_process(file_path,save_path,select_time):\n",
    "    raw = read_raw_fif(file_path)\n",
    "    #改成了15通道\n",
    "    data,times=raw[:15,:]\n",
    "    \n",
    "    samps = int(select_time * 256)\n",
    "    \n",
    "    # 重采样为256Hz\n",
    "    data_256 = []\n",
    "    for i in range(data.shape[0]):\n",
    "            data_temp = scipy.signal.resample(data[i],samps)\n",
    "            data_256.append(data_temp)\n",
    "    # 重新转换为np.array\n",
    "    data_256 = np.array(data_256)                                    \n",
    "    print(\"data_256.shape\",data_256.shape)\n",
    "    \n",
    "    # 分成 epoches，256*2的形状\n",
    "    data_256_samples = []\n",
    "    # 对每个通道\n",
    "    for i in range(data_256.shape[0]):\n",
    "        # 进行片段切片\n",
    "        channel = data_256[i];\n",
    "        # samps = 2*256 两秒，每秒256个采样点\n",
    "        data_channels = []\n",
    "        for j in range(0,channel.shape[0],2*256):\n",
    "            # print(\"第\" + str(j//samps) + \"个片段\")\n",
    "            data_temp = channel[j:j+2*256]\n",
    "            data_channels.append(data_temp)\n",
    "        # 每个通道整合起来\n",
    "        data_256_samples.append(data_channels)\n",
    "\n",
    "    # 转回np.array\n",
    "    data_256_samples = np.array(data_256_samples)\n",
    "    print(\"data_256_samples.shape\",data_256_samples.shape)\n",
    "\n",
    "    # 进行标准化处理,sta表示Standardization\n",
    "    data_sta = []\n",
    "    # 对每个通道\n",
    "    for i in range(data_256_samples.shape[0]):\n",
    "        # np.mean和np.std计算均值和标准差\n",
    "        tmp_mean = np.mean(data_256_samples[i])\n",
    "        tmp_std = np.std(data_256_samples[i])\n",
    "        data_temp_std = (data_256_samples[i] - tmp_mean) / tmp_std\n",
    "        data_sta.append(data_temp_std)\n",
    "    # 转回np.array\n",
    "    data_sta = np.array(data_sta)\n",
    "    print(\"data_sta.shape\",data_sta.shape) \n",
    "\n",
    "    # 整理成神经网络训练所需的形状，这里把数据展平成一维，所有通道合并，之后再还原\n",
    "    data_x = data_sta.reshape(-1,512,1)\n",
    "    print(\"data_x.shape:\",data_x.shape)\n",
    "    # 模型进行预测\n",
    "    y_pred = model.predict(data_x, verbose=0)\n",
    "    # 先把通道分开\n",
    "    # data_256_samples.shape[1] = 30 即降采样后的片段数\n",
    "    \n",
    "    pred_channel = []\n",
    "\n",
    "    for i in range(0,y_pred.shape[0],data_256_samples.shape[1]):\n",
    "        channel_temp = y_pred[i:i+data_256_samples.shape[1]]\n",
    "        channel_temp = channel_temp.flatten()\n",
    "        pred_channel.append(channel_temp)\n",
    "\n",
    "    pred_channel = np.array(pred_channel)\n",
    "    print(\"pred_channel.shape\",pred_channel.shape)\n",
    "    \n",
    "    #改成了15通道\n",
    "    info = mne.create_info(ch_names=raw.ch_names[:15],ch_types=[\"eeg\"]*15,sfreq=256)\n",
    "    \"\"\"\n",
    "    利用mne.io.RawArray类创建Raw对象\n",
    "    \"\"\"\n",
    "    custom_raw = mne.io.RawArray(data=pred_channel, info=info)\n",
    "    custom_raw.save(save_path,overwrite=True)\n",
    "    \n",
    "    \n",
    "    return True"
   ]
  },
  {
   "cell_type": "code",
   "execution_count": 5,
   "id": "328a3c0b",
   "metadata": {},
   "outputs": [],
   "source": [
    "# file_path = \"./se(已筛选)/SE(1)_eeg.fif\"\n",
    "# save_path = \"./SE(processed)/\"\n",
    "# SE_process(file_path,save_path)"
   ]
  },
  {
   "cell_type": "code",
   "execution_count": 6,
   "id": "f4107768",
   "metadata": {},
   "outputs": [
    {
     "name": "stdout",
     "output_type": "stream",
     "text": [
      "118 16\n"
     ]
    }
   ],
   "source": [
    "train_directory = glob.glob(\"../SE_train/\"+\"*\")\n",
    "test_directory = glob.glob(\"../SE_test/\"+\"*\")\n",
    "print(len(train_directory),len(test_directory))"
   ]
  },
  {
   "cell_type": "code",
   "execution_count": 7,
   "id": "f2978bb8",
   "metadata": {},
   "outputs": [],
   "source": [
    "train_SE_len=16\n",
    "test_SE_len=16"
   ]
  },
  {
   "cell_type": "code",
   "execution_count": 8,
   "id": "430ada5a",
   "metadata": {},
   "outputs": [
    {
     "name": "stdout",
     "output_type": "stream",
     "text": [
      "../SE_train_processed/Z何富桂20220221_bias_0.fif\n",
      "Opening raw data file ../SE_train\\Z何富桂20220221_bias_0.fif...\n",
      "Isotrak not found\n",
      "    Range : 8919 ... 25303 =      8.710 ...    24.710 secs\n",
      "Ready.\n"
     ]
    },
    {
     "name": "stderr",
     "output_type": "stream",
     "text": [
      "<ipython-input-4-6623eb51b1f6>:2: RuntimeWarning: This filename (../SE_train\\Z何富桂20220221_bias_0.fif) does not conform to MNE naming conventions. All raw files should end with raw.fif, raw_sss.fif, raw_tsss.fif, _meg.fif, _eeg.fif, _ieeg.fif, raw.fif.gz, raw_sss.fif.gz, raw_tsss.fif.gz, _meg.fif.gz, _eeg.fif.gz or _ieeg.fif.gz\n",
      "  raw = read_raw_fif(file_path)\n"
     ]
    },
    {
     "name": "stdout",
     "output_type": "stream",
     "text": [
      "data_256.shape (15, 4096)\n",
      "data_256_samples.shape (15, 8, 512)\n",
      "data_sta.shape (15, 8, 512)\n",
      "data_x.shape: (120, 512, 1)\n",
      "pred_channel.shape (15, 4096)\n",
      "Creating RawArray with float64 data, n_channels=15, n_times=4096\n",
      "    Range : 0 ... 4095 =      0.000 ...    15.996 secs\n",
      "Ready.\n",
      "Writing E:\\jupyter file\\EEG_process\\SE_train_processed\\Z何富桂20220221_bias_0.fif\n",
      "Closing E:\\jupyter file\\EEG_process\\SE_train_processed\\Z何富桂20220221_bias_0.fif\n",
      "[done]\n",
      "../SE_train_processed/Z何富桂20220225_bias_0.fif\n",
      "Opening raw data file ../SE_train\\Z何富桂20220225_bias_0.fif...\n",
      "Isotrak not found\n",
      "    Range : 233098 ... 249482 =    227.635 ...   243.635 secs\n",
      "Ready.\n",
      "data_256.shape (15, 4096)\n",
      "data_256_samples.shape (15, 8, 512)\n",
      "data_sta.shape (15, 8, 512)\n",
      "data_x.shape: (120, 512, 1)\n"
     ]
    },
    {
     "name": "stderr",
     "output_type": "stream",
     "text": [
      "<ipython-input-4-6623eb51b1f6>:73: RuntimeWarning: This filename (E:\\jupyter file\\EEG_process\\SE_train_processed\\Z何富桂20220221_bias_0.fif) does not conform to MNE naming conventions. All raw files should end with raw.fif, raw_sss.fif, raw_tsss.fif, _meg.fif, _eeg.fif, _ieeg.fif, raw.fif.gz, raw_sss.fif.gz, raw_tsss.fif.gz, _meg.fif.gz, _eeg.fif.gz or _ieeg.fif.gz\n",
      "  custom_raw.save(save_path,overwrite=True)\n",
      "<ipython-input-4-6623eb51b1f6>:2: RuntimeWarning: This filename (../SE_train\\Z何富桂20220225_bias_0.fif) does not conform to MNE naming conventions. All raw files should end with raw.fif, raw_sss.fif, raw_tsss.fif, _meg.fif, _eeg.fif, _ieeg.fif, raw.fif.gz, raw_sss.fif.gz, raw_tsss.fif.gz, _meg.fif.gz, _eeg.fif.gz or _ieeg.fif.gz\n",
      "  raw = read_raw_fif(file_path)\n"
     ]
    },
    {
     "name": "stdout",
     "output_type": "stream",
     "text": [
      "pred_channel.shape (15, 4096)\n",
      "Creating RawArray with float64 data, n_channels=15, n_times=4096\n",
      "    Range : 0 ... 4095 =      0.000 ...    15.996 secs\n",
      "Ready.\n",
      "Writing E:\\jupyter file\\EEG_process\\SE_train_processed\\Z何富桂20220225_bias_0.fif\n",
      "Closing E:\\jupyter file\\EEG_process\\SE_train_processed\\Z何富桂20220225_bias_0.fif\n",
      "[done]\n",
      "../SE_train_processed/Z何富桂20220228_bias_0.fif\n",
      "Opening raw data file ../SE_train\\Z何富桂20220228_bias_0.fif...\n",
      "Isotrak not found\n",
      "    Range : 10580 ... 26964 =     10.332 ...    26.332 secs\n",
      "Ready.\n",
      "data_256.shape (15, 4096)\n",
      "data_256_samples.shape (15, 8, 512)\n",
      "data_sta.shape (15, 8, 512)\n",
      "data_x.shape: (120, 512, 1)\n"
     ]
    },
    {
     "name": "stderr",
     "output_type": "stream",
     "text": [
      "<ipython-input-4-6623eb51b1f6>:73: RuntimeWarning: This filename (E:\\jupyter file\\EEG_process\\SE_train_processed\\Z何富桂20220225_bias_0.fif) does not conform to MNE naming conventions. All raw files should end with raw.fif, raw_sss.fif, raw_tsss.fif, _meg.fif, _eeg.fif, _ieeg.fif, raw.fif.gz, raw_sss.fif.gz, raw_tsss.fif.gz, _meg.fif.gz, _eeg.fif.gz or _ieeg.fif.gz\n",
      "  custom_raw.save(save_path,overwrite=True)\n",
      "<ipython-input-4-6623eb51b1f6>:2: RuntimeWarning: This filename (../SE_train\\Z何富桂20220228_bias_0.fif) does not conform to MNE naming conventions. All raw files should end with raw.fif, raw_sss.fif, raw_tsss.fif, _meg.fif, _eeg.fif, _ieeg.fif, raw.fif.gz, raw_sss.fif.gz, raw_tsss.fif.gz, _meg.fif.gz, _eeg.fif.gz or _ieeg.fif.gz\n",
      "  raw = read_raw_fif(file_path)\n"
     ]
    },
    {
     "name": "stdout",
     "output_type": "stream",
     "text": [
      "pred_channel.shape (15, 4096)\n",
      "Creating RawArray with float64 data, n_channels=15, n_times=4096\n",
      "    Range : 0 ... 4095 =      0.000 ...    15.996 secs\n",
      "Ready.\n",
      "Writing E:\\jupyter file\\EEG_process\\SE_train_processed\\Z何富桂20220228_bias_0.fif\n",
      "Closing E:\\jupyter file\\EEG_process\\SE_train_processed\\Z何富桂20220228_bias_0.fif\n",
      "[done]\n",
      "../SE_train_processed/Z何富桂20220302_bias_0.fif\n",
      "Opening raw data file ../SE_train\\Z何富桂20220302_bias_0.fif...\n",
      "Isotrak not found\n",
      "    Range : 133777 ... 150161 =    130.642 ...   146.642 secs\n",
      "Ready.\n",
      "data_256.shape (15, 4096)\n",
      "data_256_samples.shape (15, 8, 512)\n",
      "data_sta.shape (15, 8, 512)\n",
      "data_x.shape: (120, 512, 1)\n"
     ]
    },
    {
     "name": "stderr",
     "output_type": "stream",
     "text": [
      "<ipython-input-4-6623eb51b1f6>:73: RuntimeWarning: This filename (E:\\jupyter file\\EEG_process\\SE_train_processed\\Z何富桂20220228_bias_0.fif) does not conform to MNE naming conventions. All raw files should end with raw.fif, raw_sss.fif, raw_tsss.fif, _meg.fif, _eeg.fif, _ieeg.fif, raw.fif.gz, raw_sss.fif.gz, raw_tsss.fif.gz, _meg.fif.gz, _eeg.fif.gz or _ieeg.fif.gz\n",
      "  custom_raw.save(save_path,overwrite=True)\n",
      "<ipython-input-4-6623eb51b1f6>:2: RuntimeWarning: This filename (../SE_train\\Z何富桂20220302_bias_0.fif) does not conform to MNE naming conventions. All raw files should end with raw.fif, raw_sss.fif, raw_tsss.fif, _meg.fif, _eeg.fif, _ieeg.fif, raw.fif.gz, raw_sss.fif.gz, raw_tsss.fif.gz, _meg.fif.gz, _eeg.fif.gz or _ieeg.fif.gz\n",
      "  raw = read_raw_fif(file_path)\n"
     ]
    },
    {
     "name": "stdout",
     "output_type": "stream",
     "text": [
      "pred_channel.shape (15, 4096)\n",
      "Creating RawArray with float64 data, n_channels=15, n_times=4096\n",
      "    Range : 0 ... 4095 =      0.000 ...    15.996 secs\n",
      "Ready.\n",
      "Writing E:\\jupyter file\\EEG_process\\SE_train_processed\\Z何富桂20220302_bias_0.fif\n",
      "Closing E:\\jupyter file\\EEG_process\\SE_train_processed\\Z何富桂20220302_bias_0.fif\n",
      "[done]\n",
      "../SE_train_processed/Z倪诗瑄20220311_bias_0.fif\n",
      "Opening raw data file ../SE_train\\Z倪诗瑄20220311_bias_0.fif...\n",
      "Isotrak not found\n",
      "    Range : 2646 ... 19030 =      2.584 ...    18.584 secs\n",
      "Ready.\n",
      "data_256.shape (15, 4096)\n",
      "data_256_samples.shape (15, 8, 512)\n",
      "data_sta.shape (15, 8, 512)\n",
      "data_x.shape: (120, 512, 1)\n"
     ]
    },
    {
     "name": "stderr",
     "output_type": "stream",
     "text": [
      "<ipython-input-4-6623eb51b1f6>:73: RuntimeWarning: This filename (E:\\jupyter file\\EEG_process\\SE_train_processed\\Z何富桂20220302_bias_0.fif) does not conform to MNE naming conventions. All raw files should end with raw.fif, raw_sss.fif, raw_tsss.fif, _meg.fif, _eeg.fif, _ieeg.fif, raw.fif.gz, raw_sss.fif.gz, raw_tsss.fif.gz, _meg.fif.gz, _eeg.fif.gz or _ieeg.fif.gz\n",
      "  custom_raw.save(save_path,overwrite=True)\n",
      "<ipython-input-4-6623eb51b1f6>:2: RuntimeWarning: This filename (../SE_train\\Z倪诗瑄20220311_bias_0.fif) does not conform to MNE naming conventions. All raw files should end with raw.fif, raw_sss.fif, raw_tsss.fif, _meg.fif, _eeg.fif, _ieeg.fif, raw.fif.gz, raw_sss.fif.gz, raw_tsss.fif.gz, _meg.fif.gz, _eeg.fif.gz or _ieeg.fif.gz\n",
      "  raw = read_raw_fif(file_path)\n"
     ]
    },
    {
     "name": "stdout",
     "output_type": "stream",
     "text": [
      "pred_channel.shape (15, 4096)\n",
      "Creating RawArray with float64 data, n_channels=15, n_times=4096\n",
      "    Range : 0 ... 4095 =      0.000 ...    15.996 secs\n",
      "Ready.\n",
      "Writing E:\\jupyter file\\EEG_process\\SE_train_processed\\Z倪诗瑄20220311_bias_0.fif\n",
      "Closing E:\\jupyter file\\EEG_process\\SE_train_processed\\Z倪诗瑄20220311_bias_0.fif\n",
      "[done]\n",
      "../SE_train_processed/Z倪诗瑄20220314_bias_0.fif\n",
      "Opening raw data file ../SE_train\\Z倪诗瑄20220314_bias_0.fif...\n",
      "Isotrak not found\n",
      "    Range : 112910 ... 129294 =    110.264 ...   126.264 secs\n",
      "Ready.\n",
      "data_256.shape (15, 4096)\n",
      "data_256_samples.shape (15, 8, 512)\n",
      "data_sta.shape (15, 8, 512)\n",
      "data_x.shape: (120, 512, 1)\n"
     ]
    },
    {
     "name": "stderr",
     "output_type": "stream",
     "text": [
      "<ipython-input-4-6623eb51b1f6>:73: RuntimeWarning: This filename (E:\\jupyter file\\EEG_process\\SE_train_processed\\Z倪诗瑄20220311_bias_0.fif) does not conform to MNE naming conventions. All raw files should end with raw.fif, raw_sss.fif, raw_tsss.fif, _meg.fif, _eeg.fif, _ieeg.fif, raw.fif.gz, raw_sss.fif.gz, raw_tsss.fif.gz, _meg.fif.gz, _eeg.fif.gz or _ieeg.fif.gz\n",
      "  custom_raw.save(save_path,overwrite=True)\n",
      "<ipython-input-4-6623eb51b1f6>:2: RuntimeWarning: This filename (../SE_train\\Z倪诗瑄20220314_bias_0.fif) does not conform to MNE naming conventions. All raw files should end with raw.fif, raw_sss.fif, raw_tsss.fif, _meg.fif, _eeg.fif, _ieeg.fif, raw.fif.gz, raw_sss.fif.gz, raw_tsss.fif.gz, _meg.fif.gz, _eeg.fif.gz or _ieeg.fif.gz\n",
      "  raw = read_raw_fif(file_path)\n"
     ]
    },
    {
     "name": "stdout",
     "output_type": "stream",
     "text": [
      "pred_channel.shape (15, 4096)\n",
      "Creating RawArray with float64 data, n_channels=15, n_times=4096\n",
      "    Range : 0 ... 4095 =      0.000 ...    15.996 secs\n",
      "Ready.\n",
      "Writing E:\\jupyter file\\EEG_process\\SE_train_processed\\Z倪诗瑄20220314_bias_0.fif\n",
      "Closing E:\\jupyter file\\EEG_process\\SE_train_processed\\Z倪诗瑄20220314_bias_0.fif\n",
      "[done]\n",
      "../SE_train_processed/Z倪诗瑄20220316_bias_0.fif\n",
      "Opening raw data file ../SE_train\\Z倪诗瑄20220316_bias_0.fif...\n",
      "Isotrak not found\n",
      "    Range : 132169 ... 148553 =    129.071 ...   145.071 secs\n",
      "Ready.\n",
      "data_256.shape (15, 4096)\n",
      "data_256_samples.shape (15, 8, 512)\n",
      "data_sta.shape (15, 8, 512)\n",
      "data_x.shape: (120, 512, 1)\n"
     ]
    },
    {
     "name": "stderr",
     "output_type": "stream",
     "text": [
      "<ipython-input-4-6623eb51b1f6>:73: RuntimeWarning: This filename (E:\\jupyter file\\EEG_process\\SE_train_processed\\Z倪诗瑄20220314_bias_0.fif) does not conform to MNE naming conventions. All raw files should end with raw.fif, raw_sss.fif, raw_tsss.fif, _meg.fif, _eeg.fif, _ieeg.fif, raw.fif.gz, raw_sss.fif.gz, raw_tsss.fif.gz, _meg.fif.gz, _eeg.fif.gz or _ieeg.fif.gz\n",
      "  custom_raw.save(save_path,overwrite=True)\n",
      "<ipython-input-4-6623eb51b1f6>:2: RuntimeWarning: This filename (../SE_train\\Z倪诗瑄20220316_bias_0.fif) does not conform to MNE naming conventions. All raw files should end with raw.fif, raw_sss.fif, raw_tsss.fif, _meg.fif, _eeg.fif, _ieeg.fif, raw.fif.gz, raw_sss.fif.gz, raw_tsss.fif.gz, _meg.fif.gz, _eeg.fif.gz or _ieeg.fif.gz\n",
      "  raw = read_raw_fif(file_path)\n"
     ]
    },
    {
     "name": "stdout",
     "output_type": "stream",
     "text": [
      "pred_channel.shape (15, 4096)\n",
      "Creating RawArray with float64 data, n_channels=15, n_times=4096\n",
      "    Range : 0 ... 4095 =      0.000 ...    15.996 secs\n",
      "Ready.\n",
      "Writing E:\\jupyter file\\EEG_process\\SE_train_processed\\Z倪诗瑄20220316_bias_0.fif\n",
      "Closing E:\\jupyter file\\EEG_process\\SE_train_processed\\Z倪诗瑄20220316_bias_0.fif\n",
      "[done]\n",
      "../SE_train_processed/Z倪诗瑄20220318_bias_0.fif\n",
      "Opening raw data file ../SE_train\\Z倪诗瑄20220318_bias_0.fif...\n",
      "Isotrak not found\n",
      "    Range : 29274 ... 45658 =     28.588 ...    44.588 secs\n",
      "Ready.\n",
      "data_256.shape (15, 4096)\n",
      "data_256_samples.shape (15, 8, 512)\n",
      "data_sta.shape (15, 8, 512)\n",
      "data_x.shape: (120, 512, 1)\n"
     ]
    },
    {
     "name": "stderr",
     "output_type": "stream",
     "text": [
      "<ipython-input-4-6623eb51b1f6>:73: RuntimeWarning: This filename (E:\\jupyter file\\EEG_process\\SE_train_processed\\Z倪诗瑄20220316_bias_0.fif) does not conform to MNE naming conventions. All raw files should end with raw.fif, raw_sss.fif, raw_tsss.fif, _meg.fif, _eeg.fif, _ieeg.fif, raw.fif.gz, raw_sss.fif.gz, raw_tsss.fif.gz, _meg.fif.gz, _eeg.fif.gz or _ieeg.fif.gz\n",
      "  custom_raw.save(save_path,overwrite=True)\n",
      "<ipython-input-4-6623eb51b1f6>:2: RuntimeWarning: This filename (../SE_train\\Z倪诗瑄20220318_bias_0.fif) does not conform to MNE naming conventions. All raw files should end with raw.fif, raw_sss.fif, raw_tsss.fif, _meg.fif, _eeg.fif, _ieeg.fif, raw.fif.gz, raw_sss.fif.gz, raw_tsss.fif.gz, _meg.fif.gz, _eeg.fif.gz or _ieeg.fif.gz\n",
      "  raw = read_raw_fif(file_path)\n"
     ]
    },
    {
     "name": "stdout",
     "output_type": "stream",
     "text": [
      "pred_channel.shape (15, 4096)\n",
      "Creating RawArray with float64 data, n_channels=15, n_times=4096\n",
      "    Range : 0 ... 4095 =      0.000 ...    15.996 secs\n",
      "Ready.\n",
      "Writing E:\\jupyter file\\EEG_process\\SE_train_processed\\Z倪诗瑄20220318_bias_0.fif\n",
      "Closing E:\\jupyter file\\EEG_process\\SE_train_processed\\Z倪诗瑄20220318_bias_0.fif\n",
      "[done]\n",
      "../SE_train_processed/Z刘世清20220309_bias_0.fif\n",
      "Opening raw data file ../SE_train\\Z刘世清20220309_bias_0.fif...\n",
      "Isotrak not found\n",
      "    Range : 72862 ... 89246 =     71.154 ...    87.154 secs\n",
      "Ready.\n",
      "data_256.shape (15, 4096)\n",
      "data_256_samples.shape (15, 8, 512)\n",
      "data_sta.shape (15, 8, 512)\n",
      "data_x.shape: (120, 512, 1)\n"
     ]
    },
    {
     "name": "stderr",
     "output_type": "stream",
     "text": [
      "<ipython-input-4-6623eb51b1f6>:73: RuntimeWarning: This filename (E:\\jupyter file\\EEG_process\\SE_train_processed\\Z倪诗瑄20220318_bias_0.fif) does not conform to MNE naming conventions. All raw files should end with raw.fif, raw_sss.fif, raw_tsss.fif, _meg.fif, _eeg.fif, _ieeg.fif, raw.fif.gz, raw_sss.fif.gz, raw_tsss.fif.gz, _meg.fif.gz, _eeg.fif.gz or _ieeg.fif.gz\n",
      "  custom_raw.save(save_path,overwrite=True)\n",
      "<ipython-input-4-6623eb51b1f6>:2: RuntimeWarning: This filename (../SE_train\\Z刘世清20220309_bias_0.fif) does not conform to MNE naming conventions. All raw files should end with raw.fif, raw_sss.fif, raw_tsss.fif, _meg.fif, _eeg.fif, _ieeg.fif, raw.fif.gz, raw_sss.fif.gz, raw_tsss.fif.gz, _meg.fif.gz, _eeg.fif.gz or _ieeg.fif.gz\n",
      "  raw = read_raw_fif(file_path)\n"
     ]
    },
    {
     "name": "stdout",
     "output_type": "stream",
     "text": [
      "pred_channel.shape (15, 4096)\n",
      "Creating RawArray with float64 data, n_channels=15, n_times=4096\n",
      "    Range : 0 ... 4095 =      0.000 ...    15.996 secs\n",
      "Ready.\n",
      "Writing E:\\jupyter file\\EEG_process\\SE_train_processed\\Z刘世清20220309_bias_0.fif\n",
      "Closing E:\\jupyter file\\EEG_process\\SE_train_processed\\Z刘世清20220309_bias_0.fif\n",
      "[done]\n",
      "../SE_train_processed/Z刘世清20220311_bias_0.fif\n",
      "Opening raw data file ../SE_train\\Z刘世清20220311_bias_0.fif...\n",
      "Isotrak not found\n",
      "    Range : 39018 ... 55402 =     38.104 ...    54.104 secs\n",
      "Ready.\n",
      "data_256.shape (15, 4096)\n",
      "data_256_samples.shape (15, 8, 512)\n",
      "data_sta.shape (15, 8, 512)\n",
      "data_x.shape: (120, 512, 1)\n"
     ]
    },
    {
     "name": "stderr",
     "output_type": "stream",
     "text": [
      "<ipython-input-4-6623eb51b1f6>:73: RuntimeWarning: This filename (E:\\jupyter file\\EEG_process\\SE_train_processed\\Z刘世清20220309_bias_0.fif) does not conform to MNE naming conventions. All raw files should end with raw.fif, raw_sss.fif, raw_tsss.fif, _meg.fif, _eeg.fif, _ieeg.fif, raw.fif.gz, raw_sss.fif.gz, raw_tsss.fif.gz, _meg.fif.gz, _eeg.fif.gz or _ieeg.fif.gz\n",
      "  custom_raw.save(save_path,overwrite=True)\n",
      "<ipython-input-4-6623eb51b1f6>:2: RuntimeWarning: This filename (../SE_train\\Z刘世清20220311_bias_0.fif) does not conform to MNE naming conventions. All raw files should end with raw.fif, raw_sss.fif, raw_tsss.fif, _meg.fif, _eeg.fif, _ieeg.fif, raw.fif.gz, raw_sss.fif.gz, raw_tsss.fif.gz, _meg.fif.gz, _eeg.fif.gz or _ieeg.fif.gz\n",
      "  raw = read_raw_fif(file_path)\n"
     ]
    },
    {
     "name": "stdout",
     "output_type": "stream",
     "text": [
      "pred_channel.shape (15, 4096)\n",
      "Creating RawArray with float64 data, n_channels=15, n_times=4096\n",
      "    Range : 0 ... 4095 =      0.000 ...    15.996 secs\n",
      "Ready.\n",
      "Writing E:\\jupyter file\\EEG_process\\SE_train_processed\\Z刘世清20220311_bias_0.fif\n",
      "Closing E:\\jupyter file\\EEG_process\\SE_train_processed\\Z刘世清20220311_bias_0.fif\n",
      "[done]\n",
      "../SE_train_processed/Z刘世清20220314（未发作）_bias_0.fif\n",
      "Opening raw data file ../SE_train\\Z刘世清20220314（未发作）_bias_0.fif...\n",
      "Isotrak not found\n",
      "    Range : 571218 ... 587602 =    557.830 ...   573.830 secs\n",
      "Ready.\n",
      "data_256.shape (15, 4096)\n",
      "data_256_samples.shape (15, 8, 512)\n",
      "data_sta.shape (15, 8, 512)\n",
      "data_x.shape: (120, 512, 1)\n"
     ]
    },
    {
     "name": "stderr",
     "output_type": "stream",
     "text": [
      "<ipython-input-4-6623eb51b1f6>:73: RuntimeWarning: This filename (E:\\jupyter file\\EEG_process\\SE_train_processed\\Z刘世清20220311_bias_0.fif) does not conform to MNE naming conventions. All raw files should end with raw.fif, raw_sss.fif, raw_tsss.fif, _meg.fif, _eeg.fif, _ieeg.fif, raw.fif.gz, raw_sss.fif.gz, raw_tsss.fif.gz, _meg.fif.gz, _eeg.fif.gz or _ieeg.fif.gz\n",
      "  custom_raw.save(save_path,overwrite=True)\n",
      "<ipython-input-4-6623eb51b1f6>:2: RuntimeWarning: This filename (../SE_train\\Z刘世清20220314（未发作）_bias_0.fif) does not conform to MNE naming conventions. All raw files should end with raw.fif, raw_sss.fif, raw_tsss.fif, _meg.fif, _eeg.fif, _ieeg.fif, raw.fif.gz, raw_sss.fif.gz, raw_tsss.fif.gz, _meg.fif.gz, _eeg.fif.gz or _ieeg.fif.gz\n",
      "  raw = read_raw_fif(file_path)\n"
     ]
    },
    {
     "name": "stdout",
     "output_type": "stream",
     "text": [
      "pred_channel.shape (15, 4096)\n",
      "Creating RawArray with float64 data, n_channels=15, n_times=4096\n",
      "    Range : 0 ... 4095 =      0.000 ...    15.996 secs\n",
      "Ready.\n",
      "Writing E:\\jupyter file\\EEG_process\\SE_train_processed\\Z刘世清20220314（未发作）_bias_0.fif\n",
      "Closing E:\\jupyter file\\EEG_process\\SE_train_processed\\Z刘世清20220314（未发作）_bias_0.fif\n",
      "[done]\n",
      "../SE_train_processed/Z刘世清20220314（未发作）_bias_2.fif\n",
      "Opening raw data file ../SE_train\\Z刘世清20220314（未发作）_bias_2.fif...\n",
      "Isotrak not found\n",
      "    Range : 573266 ... 589650 =    559.830 ...   575.830 secs\n",
      "Ready.\n",
      "data_256.shape (15, 4096)\n",
      "data_256_samples.shape (15, 8, 512)\n",
      "data_sta.shape (15, 8, 512)\n",
      "data_x.shape: (120, 512, 1)\n"
     ]
    },
    {
     "name": "stderr",
     "output_type": "stream",
     "text": [
      "<ipython-input-4-6623eb51b1f6>:73: RuntimeWarning: This filename (E:\\jupyter file\\EEG_process\\SE_train_processed\\Z刘世清20220314（未发作）_bias_0.fif) does not conform to MNE naming conventions. All raw files should end with raw.fif, raw_sss.fif, raw_tsss.fif, _meg.fif, _eeg.fif, _ieeg.fif, raw.fif.gz, raw_sss.fif.gz, raw_tsss.fif.gz, _meg.fif.gz, _eeg.fif.gz or _ieeg.fif.gz\n",
      "  custom_raw.save(save_path,overwrite=True)\n",
      "<ipython-input-4-6623eb51b1f6>:2: RuntimeWarning: This filename (../SE_train\\Z刘世清20220314（未发作）_bias_2.fif) does not conform to MNE naming conventions. All raw files should end with raw.fif, raw_sss.fif, raw_tsss.fif, _meg.fif, _eeg.fif, _ieeg.fif, raw.fif.gz, raw_sss.fif.gz, raw_tsss.fif.gz, _meg.fif.gz, _eeg.fif.gz or _ieeg.fif.gz\n",
      "  raw = read_raw_fif(file_path)\n"
     ]
    },
    {
     "name": "stdout",
     "output_type": "stream",
     "text": [
      "pred_channel.shape (15, 4096)\n",
      "Creating RawArray with float64 data, n_channels=15, n_times=4096\n",
      "    Range : 0 ... 4095 =      0.000 ...    15.996 secs\n",
      "Ready.\n",
      "Writing E:\\jupyter file\\EEG_process\\SE_train_processed\\Z刘世清20220314（未发作）_bias_2.fif\n",
      "Closing E:\\jupyter file\\EEG_process\\SE_train_processed\\Z刘世清20220314（未发作）_bias_2.fif\n",
      "[done]\n",
      "../SE_train_processed/Z刘世清20220314（未发作）_bias_4.fif\n",
      "Opening raw data file ../SE_train\\Z刘世清20220314（未发作）_bias_4.fif...\n",
      "Isotrak not found\n",
      "    Range : 575314 ... 591698 =    561.830 ...   577.830 secs\n",
      "Ready.\n",
      "data_256.shape (15, 4096)\n",
      "data_256_samples.shape (15, 8, 512)\n",
      "data_sta.shape (15, 8, 512)\n",
      "data_x.shape: (120, 512, 1)\n"
     ]
    },
    {
     "name": "stderr",
     "output_type": "stream",
     "text": [
      "<ipython-input-4-6623eb51b1f6>:73: RuntimeWarning: This filename (E:\\jupyter file\\EEG_process\\SE_train_processed\\Z刘世清20220314（未发作）_bias_2.fif) does not conform to MNE naming conventions. All raw files should end with raw.fif, raw_sss.fif, raw_tsss.fif, _meg.fif, _eeg.fif, _ieeg.fif, raw.fif.gz, raw_sss.fif.gz, raw_tsss.fif.gz, _meg.fif.gz, _eeg.fif.gz or _ieeg.fif.gz\n",
      "  custom_raw.save(save_path,overwrite=True)\n",
      "<ipython-input-4-6623eb51b1f6>:2: RuntimeWarning: This filename (../SE_train\\Z刘世清20220314（未发作）_bias_4.fif) does not conform to MNE naming conventions. All raw files should end with raw.fif, raw_sss.fif, raw_tsss.fif, _meg.fif, _eeg.fif, _ieeg.fif, raw.fif.gz, raw_sss.fif.gz, raw_tsss.fif.gz, _meg.fif.gz, _eeg.fif.gz or _ieeg.fif.gz\n",
      "  raw = read_raw_fif(file_path)\n"
     ]
    },
    {
     "name": "stdout",
     "output_type": "stream",
     "text": [
      "pred_channel.shape (15, 4096)\n",
      "Creating RawArray with float64 data, n_channels=15, n_times=4096\n",
      "    Range : 0 ... 4095 =      0.000 ...    15.996 secs\n",
      "Ready.\n",
      "Writing E:\\jupyter file\\EEG_process\\SE_train_processed\\Z刘世清20220314（未发作）_bias_4.fif\n",
      "Closing E:\\jupyter file\\EEG_process\\SE_train_processed\\Z刘世清20220314（未发作）_bias_4.fif\n",
      "[done]\n",
      "../SE_train_processed/Z刘世清20220314（未发作）_bias_6.fif\n",
      "Opening raw data file ../SE_train\\Z刘世清20220314（未发作）_bias_6.fif...\n",
      "Isotrak not found\n",
      "    Range : 577362 ... 593746 =    563.830 ...   579.830 secs\n",
      "Ready.\n",
      "data_256.shape (15, 4096)\n",
      "data_256_samples.shape (15, 8, 512)\n",
      "data_sta.shape (15, 8, 512)\n",
      "data_x.shape: (120, 512, 1)\n"
     ]
    },
    {
     "name": "stderr",
     "output_type": "stream",
     "text": [
      "<ipython-input-4-6623eb51b1f6>:73: RuntimeWarning: This filename (E:\\jupyter file\\EEG_process\\SE_train_processed\\Z刘世清20220314（未发作）_bias_4.fif) does not conform to MNE naming conventions. All raw files should end with raw.fif, raw_sss.fif, raw_tsss.fif, _meg.fif, _eeg.fif, _ieeg.fif, raw.fif.gz, raw_sss.fif.gz, raw_tsss.fif.gz, _meg.fif.gz, _eeg.fif.gz or _ieeg.fif.gz\n",
      "  custom_raw.save(save_path,overwrite=True)\n",
      "<ipython-input-4-6623eb51b1f6>:2: RuntimeWarning: This filename (../SE_train\\Z刘世清20220314（未发作）_bias_6.fif) does not conform to MNE naming conventions. All raw files should end with raw.fif, raw_sss.fif, raw_tsss.fif, _meg.fif, _eeg.fif, _ieeg.fif, raw.fif.gz, raw_sss.fif.gz, raw_tsss.fif.gz, _meg.fif.gz, _eeg.fif.gz or _ieeg.fif.gz\n",
      "  raw = read_raw_fif(file_path)\n"
     ]
    },
    {
     "name": "stdout",
     "output_type": "stream",
     "text": [
      "pred_channel.shape (15, 4096)\n",
      "Creating RawArray with float64 data, n_channels=15, n_times=4096\n",
      "    Range : 0 ... 4095 =      0.000 ...    15.996 secs\n",
      "Ready.\n",
      "Writing E:\\jupyter file\\EEG_process\\SE_train_processed\\Z刘世清20220314（未发作）_bias_6.fif\n",
      "Closing E:\\jupyter file\\EEG_process\\SE_train_processed\\Z刘世清20220314（未发作）_bias_6.fif\n",
      "[done]\n",
      "../SE_train_processed/Z刘世清20220316_bias_0.fif\n",
      "Opening raw data file ../SE_train\\Z刘世清20220316_bias_0.fif...\n",
      "Isotrak not found\n",
      "    Range : 46144 ... 62528 =     45.062 ...    61.062 secs\n",
      "Ready.\n",
      "data_256.shape (15, 4096)\n",
      "data_256_samples.shape (15, 8, 512)\n",
      "data_sta.shape (15, 8, 512)\n",
      "data_x.shape: (120, 512, 1)\n"
     ]
    },
    {
     "name": "stderr",
     "output_type": "stream",
     "text": [
      "<ipython-input-4-6623eb51b1f6>:73: RuntimeWarning: This filename (E:\\jupyter file\\EEG_process\\SE_train_processed\\Z刘世清20220314（未发作）_bias_6.fif) does not conform to MNE naming conventions. All raw files should end with raw.fif, raw_sss.fif, raw_tsss.fif, _meg.fif, _eeg.fif, _ieeg.fif, raw.fif.gz, raw_sss.fif.gz, raw_tsss.fif.gz, _meg.fif.gz, _eeg.fif.gz or _ieeg.fif.gz\n",
      "  custom_raw.save(save_path,overwrite=True)\n",
      "<ipython-input-4-6623eb51b1f6>:2: RuntimeWarning: This filename (../SE_train\\Z刘世清20220316_bias_0.fif) does not conform to MNE naming conventions. All raw files should end with raw.fif, raw_sss.fif, raw_tsss.fif, _meg.fif, _eeg.fif, _ieeg.fif, raw.fif.gz, raw_sss.fif.gz, raw_tsss.fif.gz, _meg.fif.gz, _eeg.fif.gz or _ieeg.fif.gz\n",
      "  raw = read_raw_fif(file_path)\n"
     ]
    },
    {
     "name": "stdout",
     "output_type": "stream",
     "text": [
      "pred_channel.shape (15, 4096)\n",
      "Creating RawArray with float64 data, n_channels=15, n_times=4096\n",
      "    Range : 0 ... 4095 =      0.000 ...    15.996 secs\n",
      "Ready.\n",
      "Writing E:\\jupyter file\\EEG_process\\SE_train_processed\\Z刘世清20220316_bias_0.fif\n",
      "Closing E:\\jupyter file\\EEG_process\\SE_train_processed\\Z刘世清20220316_bias_0.fif\n",
      "[done]\n",
      "../SE_train_processed/Z刘家瑞20220225_bias_0.fif\n",
      "Opening raw data file ../SE_train\\Z刘家瑞20220225_bias_0.fif...\n",
      "Isotrak not found\n",
      "    Range : 167605 ... 183989 =    163.677 ...   179.677 secs\n",
      "Ready.\n",
      "data_256.shape (15, 4096)\n",
      "data_256_samples.shape (15, 8, 512)\n",
      "data_sta.shape (15, 8, 512)\n",
      "data_x.shape: (120, 512, 1)\n"
     ]
    },
    {
     "name": "stderr",
     "output_type": "stream",
     "text": [
      "<ipython-input-4-6623eb51b1f6>:73: RuntimeWarning: This filename (E:\\jupyter file\\EEG_process\\SE_train_processed\\Z刘世清20220316_bias_0.fif) does not conform to MNE naming conventions. All raw files should end with raw.fif, raw_sss.fif, raw_tsss.fif, _meg.fif, _eeg.fif, _ieeg.fif, raw.fif.gz, raw_sss.fif.gz, raw_tsss.fif.gz, _meg.fif.gz, _eeg.fif.gz or _ieeg.fif.gz\n",
      "  custom_raw.save(save_path,overwrite=True)\n",
      "<ipython-input-4-6623eb51b1f6>:2: RuntimeWarning: This filename (../SE_train\\Z刘家瑞20220225_bias_0.fif) does not conform to MNE naming conventions. All raw files should end with raw.fif, raw_sss.fif, raw_tsss.fif, _meg.fif, _eeg.fif, _ieeg.fif, raw.fif.gz, raw_sss.fif.gz, raw_tsss.fif.gz, _meg.fif.gz, _eeg.fif.gz or _ieeg.fif.gz\n",
      "  raw = read_raw_fif(file_path)\n"
     ]
    },
    {
     "name": "stdout",
     "output_type": "stream",
     "text": [
      "pred_channel.shape (15, 4096)\n",
      "Creating RawArray with float64 data, n_channels=15, n_times=4096\n",
      "    Range : 0 ... 4095 =      0.000 ...    15.996 secs\n",
      "Ready.\n",
      "Writing E:\\jupyter file\\EEG_process\\SE_train_processed\\Z刘家瑞20220225_bias_0.fif\n",
      "Closing E:\\jupyter file\\EEG_process\\SE_train_processed\\Z刘家瑞20220225_bias_0.fif\n",
      "[done]\n",
      "../SE_train_processed/Z刘家瑞20220228_bias_0.fif\n",
      "Opening raw data file ../SE_train\\Z刘家瑞20220228_bias_0.fif...\n",
      "Isotrak not found\n",
      "    Range : 112416 ... 128800 =    109.781 ...   125.781 secs\n",
      "Ready.\n",
      "data_256.shape (15, 4096)\n",
      "data_256_samples.shape (15, 8, 512)\n",
      "data_sta.shape (15, 8, 512)\n",
      "data_x.shape: (120, 512, 1)\n"
     ]
    },
    {
     "name": "stderr",
     "output_type": "stream",
     "text": [
      "<ipython-input-4-6623eb51b1f6>:73: RuntimeWarning: This filename (E:\\jupyter file\\EEG_process\\SE_train_processed\\Z刘家瑞20220225_bias_0.fif) does not conform to MNE naming conventions. All raw files should end with raw.fif, raw_sss.fif, raw_tsss.fif, _meg.fif, _eeg.fif, _ieeg.fif, raw.fif.gz, raw_sss.fif.gz, raw_tsss.fif.gz, _meg.fif.gz, _eeg.fif.gz or _ieeg.fif.gz\n",
      "  custom_raw.save(save_path,overwrite=True)\n",
      "<ipython-input-4-6623eb51b1f6>:2: RuntimeWarning: This filename (../SE_train\\Z刘家瑞20220228_bias_0.fif) does not conform to MNE naming conventions. All raw files should end with raw.fif, raw_sss.fif, raw_tsss.fif, _meg.fif, _eeg.fif, _ieeg.fif, raw.fif.gz, raw_sss.fif.gz, raw_tsss.fif.gz, _meg.fif.gz, _eeg.fif.gz or _ieeg.fif.gz\n",
      "  raw = read_raw_fif(file_path)\n"
     ]
    },
    {
     "name": "stdout",
     "output_type": "stream",
     "text": [
      "pred_channel.shape (15, 4096)\n",
      "Creating RawArray with float64 data, n_channels=15, n_times=4096\n",
      "    Range : 0 ... 4095 =      0.000 ...    15.996 secs\n",
      "Ready.\n",
      "Writing E:\\jupyter file\\EEG_process\\SE_train_processed\\Z刘家瑞20220228_bias_0.fif\n",
      "Closing E:\\jupyter file\\EEG_process\\SE_train_processed\\Z刘家瑞20220228_bias_0.fif\n",
      "[done]\n",
      "../SE_train_processed/Z刘家瑞20220302_bias_0.fif\n",
      "Opening raw data file ../SE_train\\Z刘家瑞20220302_bias_0.fif...\n",
      "Isotrak not found\n",
      "    Range : 46358 ... 62742 =     45.271 ...    61.271 secs\n",
      "Ready.\n",
      "data_256.shape (15, 4096)\n",
      "data_256_samples.shape (15, 8, 512)\n",
      "data_sta.shape (15, 8, 512)\n",
      "data_x.shape: (120, 512, 1)\n"
     ]
    },
    {
     "name": "stderr",
     "output_type": "stream",
     "text": [
      "<ipython-input-4-6623eb51b1f6>:73: RuntimeWarning: This filename (E:\\jupyter file\\EEG_process\\SE_train_processed\\Z刘家瑞20220228_bias_0.fif) does not conform to MNE naming conventions. All raw files should end with raw.fif, raw_sss.fif, raw_tsss.fif, _meg.fif, _eeg.fif, _ieeg.fif, raw.fif.gz, raw_sss.fif.gz, raw_tsss.fif.gz, _meg.fif.gz, _eeg.fif.gz or _ieeg.fif.gz\n",
      "  custom_raw.save(save_path,overwrite=True)\n",
      "<ipython-input-4-6623eb51b1f6>:2: RuntimeWarning: This filename (../SE_train\\Z刘家瑞20220302_bias_0.fif) does not conform to MNE naming conventions. All raw files should end with raw.fif, raw_sss.fif, raw_tsss.fif, _meg.fif, _eeg.fif, _ieeg.fif, raw.fif.gz, raw_sss.fif.gz, raw_tsss.fif.gz, _meg.fif.gz, _eeg.fif.gz or _ieeg.fif.gz\n",
      "  raw = read_raw_fif(file_path)\n"
     ]
    },
    {
     "name": "stdout",
     "output_type": "stream",
     "text": [
      "pred_channel.shape (15, 4096)\n",
      "Creating RawArray with float64 data, n_channels=15, n_times=4096\n",
      "    Range : 0 ... 4095 =      0.000 ...    15.996 secs\n",
      "Ready.\n",
      "Writing E:\\jupyter file\\EEG_process\\SE_train_processed\\Z刘家瑞20220302_bias_0.fif\n",
      "Closing E:\\jupyter file\\EEG_process\\SE_train_processed\\Z刘家瑞20220302_bias_0.fif\n",
      "[done]\n",
      "../SE_train_processed/Z周小凯20220314（未发作）_bias_0.fif\n",
      "Opening raw data file ../SE_train\\Z周小凯20220314（未发作）_bias_0.fif...\n",
      "Isotrak not found\n",
      "    Range : 147821 ... 164205 =    144.356 ...   160.356 secs\n",
      "Ready.\n",
      "data_256.shape (15, 4096)\n",
      "data_256_samples.shape (15, 8, 512)\n",
      "data_sta.shape (15, 8, 512)\n",
      "data_x.shape: (120, 512, 1)\n"
     ]
    },
    {
     "name": "stderr",
     "output_type": "stream",
     "text": [
      "<ipython-input-4-6623eb51b1f6>:73: RuntimeWarning: This filename (E:\\jupyter file\\EEG_process\\SE_train_processed\\Z刘家瑞20220302_bias_0.fif) does not conform to MNE naming conventions. All raw files should end with raw.fif, raw_sss.fif, raw_tsss.fif, _meg.fif, _eeg.fif, _ieeg.fif, raw.fif.gz, raw_sss.fif.gz, raw_tsss.fif.gz, _meg.fif.gz, _eeg.fif.gz or _ieeg.fif.gz\n",
      "  custom_raw.save(save_path,overwrite=True)\n",
      "<ipython-input-4-6623eb51b1f6>:2: RuntimeWarning: This filename (../SE_train\\Z周小凯20220314（未发作）_bias_0.fif) does not conform to MNE naming conventions. All raw files should end with raw.fif, raw_sss.fif, raw_tsss.fif, _meg.fif, _eeg.fif, _ieeg.fif, raw.fif.gz, raw_sss.fif.gz, raw_tsss.fif.gz, _meg.fif.gz, _eeg.fif.gz or _ieeg.fif.gz\n",
      "  raw = read_raw_fif(file_path)\n"
     ]
    },
    {
     "name": "stdout",
     "output_type": "stream",
     "text": [
      "pred_channel.shape (15, 4096)\n",
      "Creating RawArray with float64 data, n_channels=15, n_times=4096\n",
      "    Range : 0 ... 4095 =      0.000 ...    15.996 secs\n",
      "Ready.\n",
      "Writing E:\\jupyter file\\EEG_process\\SE_train_processed\\Z周小凯20220314（未发作）_bias_0.fif\n",
      "Closing E:\\jupyter file\\EEG_process\\SE_train_processed\\Z周小凯20220314（未发作）_bias_0.fif\n",
      "[done]\n",
      "../SE_train_processed/Z周小凯20220314（未发作）_bias_2.fif\n",
      "Opening raw data file ../SE_train\\Z周小凯20220314（未发作）_bias_2.fif...\n",
      "Isotrak not found\n",
      "    Range : 149869 ... 166253 =    146.356 ...   162.356 secs\n",
      "Ready.\n",
      "data_256.shape (15, 4096)\n",
      "data_256_samples.shape (15, 8, 512)\n",
      "data_sta.shape (15, 8, 512)\n",
      "data_x.shape: (120, 512, 1)\n"
     ]
    },
    {
     "name": "stderr",
     "output_type": "stream",
     "text": [
      "<ipython-input-4-6623eb51b1f6>:73: RuntimeWarning: This filename (E:\\jupyter file\\EEG_process\\SE_train_processed\\Z周小凯20220314（未发作）_bias_0.fif) does not conform to MNE naming conventions. All raw files should end with raw.fif, raw_sss.fif, raw_tsss.fif, _meg.fif, _eeg.fif, _ieeg.fif, raw.fif.gz, raw_sss.fif.gz, raw_tsss.fif.gz, _meg.fif.gz, _eeg.fif.gz or _ieeg.fif.gz\n",
      "  custom_raw.save(save_path,overwrite=True)\n",
      "<ipython-input-4-6623eb51b1f6>:2: RuntimeWarning: This filename (../SE_train\\Z周小凯20220314（未发作）_bias_2.fif) does not conform to MNE naming conventions. All raw files should end with raw.fif, raw_sss.fif, raw_tsss.fif, _meg.fif, _eeg.fif, _ieeg.fif, raw.fif.gz, raw_sss.fif.gz, raw_tsss.fif.gz, _meg.fif.gz, _eeg.fif.gz or _ieeg.fif.gz\n",
      "  raw = read_raw_fif(file_path)\n"
     ]
    },
    {
     "name": "stdout",
     "output_type": "stream",
     "text": [
      "pred_channel.shape (15, 4096)\n",
      "Creating RawArray with float64 data, n_channels=15, n_times=4096\n",
      "    Range : 0 ... 4095 =      0.000 ...    15.996 secs\n",
      "Ready.\n",
      "Writing E:\\jupyter file\\EEG_process\\SE_train_processed\\Z周小凯20220314（未发作）_bias_2.fif\n",
      "Closing E:\\jupyter file\\EEG_process\\SE_train_processed\\Z周小凯20220314（未发作）_bias_2.fif\n",
      "[done]\n",
      "../SE_train_processed/Z周小凯20220314（未发作）_bias_4.fif\n",
      "Opening raw data file ../SE_train\\Z周小凯20220314（未发作）_bias_4.fif...\n",
      "Isotrak not found\n",
      "    Range : 151917 ... 168301 =    148.356 ...   164.356 secs\n",
      "Ready.\n",
      "data_256.shape (15, 4096)\n",
      "data_256_samples.shape (15, 8, 512)\n",
      "data_sta.shape (15, 8, 512)\n",
      "data_x.shape: (120, 512, 1)\n"
     ]
    },
    {
     "name": "stderr",
     "output_type": "stream",
     "text": [
      "<ipython-input-4-6623eb51b1f6>:73: RuntimeWarning: This filename (E:\\jupyter file\\EEG_process\\SE_train_processed\\Z周小凯20220314（未发作）_bias_2.fif) does not conform to MNE naming conventions. All raw files should end with raw.fif, raw_sss.fif, raw_tsss.fif, _meg.fif, _eeg.fif, _ieeg.fif, raw.fif.gz, raw_sss.fif.gz, raw_tsss.fif.gz, _meg.fif.gz, _eeg.fif.gz or _ieeg.fif.gz\n",
      "  custom_raw.save(save_path,overwrite=True)\n",
      "<ipython-input-4-6623eb51b1f6>:2: RuntimeWarning: This filename (../SE_train\\Z周小凯20220314（未发作）_bias_4.fif) does not conform to MNE naming conventions. All raw files should end with raw.fif, raw_sss.fif, raw_tsss.fif, _meg.fif, _eeg.fif, _ieeg.fif, raw.fif.gz, raw_sss.fif.gz, raw_tsss.fif.gz, _meg.fif.gz, _eeg.fif.gz or _ieeg.fif.gz\n",
      "  raw = read_raw_fif(file_path)\n"
     ]
    },
    {
     "name": "stdout",
     "output_type": "stream",
     "text": [
      "pred_channel.shape (15, 4096)\n",
      "Creating RawArray with float64 data, n_channels=15, n_times=4096\n",
      "    Range : 0 ... 4095 =      0.000 ...    15.996 secs\n",
      "Ready.\n",
      "Writing E:\\jupyter file\\EEG_process\\SE_train_processed\\Z周小凯20220314（未发作）_bias_4.fif\n",
      "Closing E:\\jupyter file\\EEG_process\\SE_train_processed\\Z周小凯20220314（未发作）_bias_4.fif\n",
      "[done]\n",
      "../SE_train_processed/Z周小凯20220314（未发作）_bias_6.fif\n",
      "Opening raw data file ../SE_train\\Z周小凯20220314（未发作）_bias_6.fif...\n",
      "Isotrak not found\n",
      "    Range : 153965 ... 170349 =    150.356 ...   166.356 secs\n",
      "Ready.\n",
      "data_256.shape (15, 4096)\n",
      "data_256_samples.shape (15, 8, 512)\n",
      "data_sta.shape (15, 8, 512)\n",
      "data_x.shape: (120, 512, 1)\n"
     ]
    },
    {
     "name": "stderr",
     "output_type": "stream",
     "text": [
      "<ipython-input-4-6623eb51b1f6>:73: RuntimeWarning: This filename (E:\\jupyter file\\EEG_process\\SE_train_processed\\Z周小凯20220314（未发作）_bias_4.fif) does not conform to MNE naming conventions. All raw files should end with raw.fif, raw_sss.fif, raw_tsss.fif, _meg.fif, _eeg.fif, _ieeg.fif, raw.fif.gz, raw_sss.fif.gz, raw_tsss.fif.gz, _meg.fif.gz, _eeg.fif.gz or _ieeg.fif.gz\n",
      "  custom_raw.save(save_path,overwrite=True)\n",
      "<ipython-input-4-6623eb51b1f6>:2: RuntimeWarning: This filename (../SE_train\\Z周小凯20220314（未发作）_bias_6.fif) does not conform to MNE naming conventions. All raw files should end with raw.fif, raw_sss.fif, raw_tsss.fif, _meg.fif, _eeg.fif, _ieeg.fif, raw.fif.gz, raw_sss.fif.gz, raw_tsss.fif.gz, _meg.fif.gz, _eeg.fif.gz or _ieeg.fif.gz\n",
      "  raw = read_raw_fif(file_path)\n"
     ]
    },
    {
     "name": "stdout",
     "output_type": "stream",
     "text": [
      "pred_channel.shape (15, 4096)\n",
      "Creating RawArray with float64 data, n_channels=15, n_times=4096\n",
      "    Range : 0 ... 4095 =      0.000 ...    15.996 secs\n",
      "Ready.\n",
      "Writing E:\\jupyter file\\EEG_process\\SE_train_processed\\Z周小凯20220314（未发作）_bias_6.fif\n",
      "Closing E:\\jupyter file\\EEG_process\\SE_train_processed\\Z周小凯20220314（未发作）_bias_6.fif\n",
      "[done]\n",
      "../SE_train_processed/Z周小凯20220316_bias_0.fif\n",
      "Opening raw data file ../SE_train\\Z周小凯20220316_bias_0.fif...\n",
      "Isotrak not found\n",
      "    Range : 101451 ... 117835 =     99.073 ...   115.073 secs\n",
      "Ready.\n",
      "data_256.shape (15, 4096)\n",
      "data_256_samples.shape (15, 8, 512)\n",
      "data_sta.shape (15, 8, 512)\n",
      "data_x.shape: (120, 512, 1)\n"
     ]
    },
    {
     "name": "stderr",
     "output_type": "stream",
     "text": [
      "<ipython-input-4-6623eb51b1f6>:73: RuntimeWarning: This filename (E:\\jupyter file\\EEG_process\\SE_train_processed\\Z周小凯20220314（未发作）_bias_6.fif) does not conform to MNE naming conventions. All raw files should end with raw.fif, raw_sss.fif, raw_tsss.fif, _meg.fif, _eeg.fif, _ieeg.fif, raw.fif.gz, raw_sss.fif.gz, raw_tsss.fif.gz, _meg.fif.gz, _eeg.fif.gz or _ieeg.fif.gz\n",
      "  custom_raw.save(save_path,overwrite=True)\n",
      "<ipython-input-4-6623eb51b1f6>:2: RuntimeWarning: This filename (../SE_train\\Z周小凯20220316_bias_0.fif) does not conform to MNE naming conventions. All raw files should end with raw.fif, raw_sss.fif, raw_tsss.fif, _meg.fif, _eeg.fif, _ieeg.fif, raw.fif.gz, raw_sss.fif.gz, raw_tsss.fif.gz, _meg.fif.gz, _eeg.fif.gz or _ieeg.fif.gz\n",
      "  raw = read_raw_fif(file_path)\n"
     ]
    },
    {
     "name": "stdout",
     "output_type": "stream",
     "text": [
      "pred_channel.shape (15, 4096)\n",
      "Creating RawArray with float64 data, n_channels=15, n_times=4096\n",
      "    Range : 0 ... 4095 =      0.000 ...    15.996 secs\n",
      "Ready.\n",
      "Writing E:\\jupyter file\\EEG_process\\SE_train_processed\\Z周小凯20220316_bias_0.fif\n",
      "Closing E:\\jupyter file\\EEG_process\\SE_train_processed\\Z周小凯20220316_bias_0.fif\n",
      "[done]\n",
      "../SE_train_processed/Z周小凯20220318_bias_0.fif\n",
      "Opening raw data file ../SE_train\\Z周小凯20220318_bias_0.fif...\n",
      "Isotrak not found\n",
      "    Range : 995 ... 17379 =      0.972 ...    16.972 secs\n",
      "Ready.\n",
      "data_256.shape (15, 4096)\n",
      "data_256_samples.shape (15, 8, 512)\n",
      "data_sta.shape (15, 8, 512)\n",
      "data_x.shape: (120, 512, 1)\n"
     ]
    },
    {
     "name": "stderr",
     "output_type": "stream",
     "text": [
      "<ipython-input-4-6623eb51b1f6>:73: RuntimeWarning: This filename (E:\\jupyter file\\EEG_process\\SE_train_processed\\Z周小凯20220316_bias_0.fif) does not conform to MNE naming conventions. All raw files should end with raw.fif, raw_sss.fif, raw_tsss.fif, _meg.fif, _eeg.fif, _ieeg.fif, raw.fif.gz, raw_sss.fif.gz, raw_tsss.fif.gz, _meg.fif.gz, _eeg.fif.gz or _ieeg.fif.gz\n",
      "  custom_raw.save(save_path,overwrite=True)\n",
      "<ipython-input-4-6623eb51b1f6>:2: RuntimeWarning: This filename (../SE_train\\Z周小凯20220318_bias_0.fif) does not conform to MNE naming conventions. All raw files should end with raw.fif, raw_sss.fif, raw_tsss.fif, _meg.fif, _eeg.fif, _ieeg.fif, raw.fif.gz, raw_sss.fif.gz, raw_tsss.fif.gz, _meg.fif.gz, _eeg.fif.gz or _ieeg.fif.gz\n",
      "  raw = read_raw_fif(file_path)\n"
     ]
    },
    {
     "name": "stdout",
     "output_type": "stream",
     "text": [
      "pred_channel.shape (15, 4096)\n",
      "Creating RawArray with float64 data, n_channels=15, n_times=4096\n",
      "    Range : 0 ... 4095 =      0.000 ...    15.996 secs\n",
      "Ready.\n",
      "Writing E:\\jupyter file\\EEG_process\\SE_train_processed\\Z周小凯20220318_bias_0.fif\n",
      "Closing E:\\jupyter file\\EEG_process\\SE_train_processed\\Z周小凯20220318_bias_0.fif\n",
      "[done]\n",
      "../SE_train_processed/Z周小凯20220321_bias_0.fif\n",
      "Opening raw data file ../SE_train\\Z周小凯20220321_bias_0.fif...\n",
      "Isotrak not found\n",
      "    Range : 61765 ... 78149 =     60.317 ...    76.317 secs\n",
      "Ready.\n",
      "data_256.shape (15, 4096)\n",
      "data_256_samples.shape (15, 8, 512)\n",
      "data_sta.shape (15, 8, 512)\n",
      "data_x.shape: (120, 512, 1)\n"
     ]
    },
    {
     "name": "stderr",
     "output_type": "stream",
     "text": [
      "<ipython-input-4-6623eb51b1f6>:73: RuntimeWarning: This filename (E:\\jupyter file\\EEG_process\\SE_train_processed\\Z周小凯20220318_bias_0.fif) does not conform to MNE naming conventions. All raw files should end with raw.fif, raw_sss.fif, raw_tsss.fif, _meg.fif, _eeg.fif, _ieeg.fif, raw.fif.gz, raw_sss.fif.gz, raw_tsss.fif.gz, _meg.fif.gz, _eeg.fif.gz or _ieeg.fif.gz\n",
      "  custom_raw.save(save_path,overwrite=True)\n",
      "<ipython-input-4-6623eb51b1f6>:2: RuntimeWarning: This filename (../SE_train\\Z周小凯20220321_bias_0.fif) does not conform to MNE naming conventions. All raw files should end with raw.fif, raw_sss.fif, raw_tsss.fif, _meg.fif, _eeg.fif, _ieeg.fif, raw.fif.gz, raw_sss.fif.gz, raw_tsss.fif.gz, _meg.fif.gz, _eeg.fif.gz or _ieeg.fif.gz\n",
      "  raw = read_raw_fif(file_path)\n"
     ]
    },
    {
     "name": "stdout",
     "output_type": "stream",
     "text": [
      "pred_channel.shape (15, 4096)\n",
      "Creating RawArray with float64 data, n_channels=15, n_times=4096\n",
      "    Range : 0 ... 4095 =      0.000 ...    15.996 secs\n",
      "Ready.\n",
      "Writing E:\\jupyter file\\EEG_process\\SE_train_processed\\Z周小凯20220321_bias_0.fif\n",
      "Closing E:\\jupyter file\\EEG_process\\SE_train_processed\\Z周小凯20220321_bias_0.fif\n",
      "[done]\n",
      "../SE_train_processed/Z孙彭辉20220225_bias_0.fif\n",
      "Opening raw data file ../SE_train\\Z孙彭辉20220225_bias_0.fif...\n",
      "Isotrak not found\n",
      "    Range : 39640 ... 56024 =     38.711 ...    54.711 secs\n",
      "Ready.\n",
      "data_256.shape (15, 4096)\n",
      "data_256_samples.shape (15, 8, 512)\n",
      "data_sta.shape (15, 8, 512)\n",
      "data_x.shape: (120, 512, 1)\n"
     ]
    },
    {
     "name": "stderr",
     "output_type": "stream",
     "text": [
      "<ipython-input-4-6623eb51b1f6>:73: RuntimeWarning: This filename (E:\\jupyter file\\EEG_process\\SE_train_processed\\Z周小凯20220321_bias_0.fif) does not conform to MNE naming conventions. All raw files should end with raw.fif, raw_sss.fif, raw_tsss.fif, _meg.fif, _eeg.fif, _ieeg.fif, raw.fif.gz, raw_sss.fif.gz, raw_tsss.fif.gz, _meg.fif.gz, _eeg.fif.gz or _ieeg.fif.gz\n",
      "  custom_raw.save(save_path,overwrite=True)\n",
      "<ipython-input-4-6623eb51b1f6>:2: RuntimeWarning: This filename (../SE_train\\Z孙彭辉20220225_bias_0.fif) does not conform to MNE naming conventions. All raw files should end with raw.fif, raw_sss.fif, raw_tsss.fif, _meg.fif, _eeg.fif, _ieeg.fif, raw.fif.gz, raw_sss.fif.gz, raw_tsss.fif.gz, _meg.fif.gz, _eeg.fif.gz or _ieeg.fif.gz\n",
      "  raw = read_raw_fif(file_path)\n"
     ]
    },
    {
     "name": "stdout",
     "output_type": "stream",
     "text": [
      "pred_channel.shape (15, 4096)\n",
      "Creating RawArray with float64 data, n_channels=15, n_times=4096\n",
      "    Range : 0 ... 4095 =      0.000 ...    15.996 secs\n",
      "Ready.\n",
      "Writing E:\\jupyter file\\EEG_process\\SE_train_processed\\Z孙彭辉20220225_bias_0.fif\n",
      "Closing E:\\jupyter file\\EEG_process\\SE_train_processed\\Z孙彭辉20220225_bias_0.fif\n",
      "[done]\n",
      "../SE_train_processed/Z孙彭辉20220228_bias_0.fif\n",
      "Opening raw data file ../SE_train\\Z孙彭辉20220228_bias_0.fif...\n",
      "Isotrak not found\n",
      "    Range : 106204 ... 122588 =    103.715 ...   119.715 secs\n",
      "Ready.\n",
      "data_256.shape (15, 4096)\n",
      "data_256_samples.shape (15, 8, 512)\n",
      "data_sta.shape (15, 8, 512)\n",
      "data_x.shape: (120, 512, 1)\n"
     ]
    },
    {
     "name": "stderr",
     "output_type": "stream",
     "text": [
      "<ipython-input-4-6623eb51b1f6>:73: RuntimeWarning: This filename (E:\\jupyter file\\EEG_process\\SE_train_processed\\Z孙彭辉20220225_bias_0.fif) does not conform to MNE naming conventions. All raw files should end with raw.fif, raw_sss.fif, raw_tsss.fif, _meg.fif, _eeg.fif, _ieeg.fif, raw.fif.gz, raw_sss.fif.gz, raw_tsss.fif.gz, _meg.fif.gz, _eeg.fif.gz or _ieeg.fif.gz\n",
      "  custom_raw.save(save_path,overwrite=True)\n",
      "<ipython-input-4-6623eb51b1f6>:2: RuntimeWarning: This filename (../SE_train\\Z孙彭辉20220228_bias_0.fif) does not conform to MNE naming conventions. All raw files should end with raw.fif, raw_sss.fif, raw_tsss.fif, _meg.fif, _eeg.fif, _ieeg.fif, raw.fif.gz, raw_sss.fif.gz, raw_tsss.fif.gz, _meg.fif.gz, _eeg.fif.gz or _ieeg.fif.gz\n",
      "  raw = read_raw_fif(file_path)\n"
     ]
    },
    {
     "name": "stdout",
     "output_type": "stream",
     "text": [
      "pred_channel.shape (15, 4096)\n",
      "Creating RawArray with float64 data, n_channels=15, n_times=4096\n",
      "    Range : 0 ... 4095 =      0.000 ...    15.996 secs\n",
      "Ready.\n",
      "Writing E:\\jupyter file\\EEG_process\\SE_train_processed\\Z孙彭辉20220228_bias_0.fif\n",
      "Closing E:\\jupyter file\\EEG_process\\SE_train_processed\\Z孙彭辉20220228_bias_0.fif\n",
      "[done]\n",
      "../SE_train_processed/Z孙彭辉20220302_bias_0.fif\n",
      "Opening raw data file ../SE_train\\Z孙彭辉20220302_bias_0.fif...\n",
      "Isotrak not found\n",
      "    Range : 54366 ... 70750 =     53.092 ...    69.092 secs\n",
      "Ready.\n",
      "data_256.shape (15, 4096)\n",
      "data_256_samples.shape (15, 8, 512)\n",
      "data_sta.shape (15, 8, 512)\n",
      "data_x.shape: (120, 512, 1)\n"
     ]
    },
    {
     "name": "stderr",
     "output_type": "stream",
     "text": [
      "<ipython-input-4-6623eb51b1f6>:73: RuntimeWarning: This filename (E:\\jupyter file\\EEG_process\\SE_train_processed\\Z孙彭辉20220228_bias_0.fif) does not conform to MNE naming conventions. All raw files should end with raw.fif, raw_sss.fif, raw_tsss.fif, _meg.fif, _eeg.fif, _ieeg.fif, raw.fif.gz, raw_sss.fif.gz, raw_tsss.fif.gz, _meg.fif.gz, _eeg.fif.gz or _ieeg.fif.gz\n",
      "  custom_raw.save(save_path,overwrite=True)\n",
      "<ipython-input-4-6623eb51b1f6>:2: RuntimeWarning: This filename (../SE_train\\Z孙彭辉20220302_bias_0.fif) does not conform to MNE naming conventions. All raw files should end with raw.fif, raw_sss.fif, raw_tsss.fif, _meg.fif, _eeg.fif, _ieeg.fif, raw.fif.gz, raw_sss.fif.gz, raw_tsss.fif.gz, _meg.fif.gz, _eeg.fif.gz or _ieeg.fif.gz\n",
      "  raw = read_raw_fif(file_path)\n"
     ]
    },
    {
     "name": "stdout",
     "output_type": "stream",
     "text": [
      "pred_channel.shape (15, 4096)\n",
      "Creating RawArray with float64 data, n_channels=15, n_times=4096\n",
      "    Range : 0 ... 4095 =      0.000 ...    15.996 secs\n",
      "Ready.\n",
      "Writing E:\\jupyter file\\EEG_process\\SE_train_processed\\Z孙彭辉20220302_bias_0.fif\n",
      "Closing E:\\jupyter file\\EEG_process\\SE_train_processed\\Z孙彭辉20220302_bias_0.fif\n",
      "[done]\n",
      "../SE_train_processed/Z孙彭辉20220304_bias_0.fif\n",
      "Opening raw data file ../SE_train\\Z孙彭辉20220304_bias_0.fif...\n",
      "Isotrak not found\n",
      "    Range : 12352 ... 28736 =     12.062 ...    28.062 secs\n",
      "Ready.\n",
      "data_256.shape (15, 4096)\n",
      "data_256_samples.shape (15, 8, 512)\n",
      "data_sta.shape (15, 8, 512)\n",
      "data_x.shape: (120, 512, 1)\n"
     ]
    },
    {
     "name": "stderr",
     "output_type": "stream",
     "text": [
      "<ipython-input-4-6623eb51b1f6>:73: RuntimeWarning: This filename (E:\\jupyter file\\EEG_process\\SE_train_processed\\Z孙彭辉20220302_bias_0.fif) does not conform to MNE naming conventions. All raw files should end with raw.fif, raw_sss.fif, raw_tsss.fif, _meg.fif, _eeg.fif, _ieeg.fif, raw.fif.gz, raw_sss.fif.gz, raw_tsss.fif.gz, _meg.fif.gz, _eeg.fif.gz or _ieeg.fif.gz\n",
      "  custom_raw.save(save_path,overwrite=True)\n",
      "<ipython-input-4-6623eb51b1f6>:2: RuntimeWarning: This filename (../SE_train\\Z孙彭辉20220304_bias_0.fif) does not conform to MNE naming conventions. All raw files should end with raw.fif, raw_sss.fif, raw_tsss.fif, _meg.fif, _eeg.fif, _ieeg.fif, raw.fif.gz, raw_sss.fif.gz, raw_tsss.fif.gz, _meg.fif.gz, _eeg.fif.gz or _ieeg.fif.gz\n",
      "  raw = read_raw_fif(file_path)\n"
     ]
    },
    {
     "name": "stdout",
     "output_type": "stream",
     "text": [
      "pred_channel.shape (15, 4096)\n",
      "Creating RawArray with float64 data, n_channels=15, n_times=4096\n",
      "    Range : 0 ... 4095 =      0.000 ...    15.996 secs\n",
      "Ready.\n",
      "Writing E:\\jupyter file\\EEG_process\\SE_train_processed\\Z孙彭辉20220304_bias_0.fif\n",
      "Closing E:\\jupyter file\\EEG_process\\SE_train_processed\\Z孙彭辉20220304_bias_0.fif\n",
      "[done]\n",
      "../SE_train_processed/Z张璐20220225_bias_0.fif\n",
      "Opening raw data file ../SE_train\\Z张璐20220225_bias_0.fif...\n",
      "Isotrak not found\n",
      "    Range : 25166 ... 41550 =     24.576 ...    40.576 secs\n",
      "Ready.\n",
      "data_256.shape (15, 4096)\n",
      "data_256_samples.shape (15, 8, 512)\n",
      "data_sta.shape (15, 8, 512)\n",
      "data_x.shape: (120, 512, 1)\n"
     ]
    },
    {
     "name": "stderr",
     "output_type": "stream",
     "text": [
      "<ipython-input-4-6623eb51b1f6>:73: RuntimeWarning: This filename (E:\\jupyter file\\EEG_process\\SE_train_processed\\Z孙彭辉20220304_bias_0.fif) does not conform to MNE naming conventions. All raw files should end with raw.fif, raw_sss.fif, raw_tsss.fif, _meg.fif, _eeg.fif, _ieeg.fif, raw.fif.gz, raw_sss.fif.gz, raw_tsss.fif.gz, _meg.fif.gz, _eeg.fif.gz or _ieeg.fif.gz\n",
      "  custom_raw.save(save_path,overwrite=True)\n",
      "<ipython-input-4-6623eb51b1f6>:2: RuntimeWarning: This filename (../SE_train\\Z张璐20220225_bias_0.fif) does not conform to MNE naming conventions. All raw files should end with raw.fif, raw_sss.fif, raw_tsss.fif, _meg.fif, _eeg.fif, _ieeg.fif, raw.fif.gz, raw_sss.fif.gz, raw_tsss.fif.gz, _meg.fif.gz, _eeg.fif.gz or _ieeg.fif.gz\n",
      "  raw = read_raw_fif(file_path)\n"
     ]
    },
    {
     "name": "stdout",
     "output_type": "stream",
     "text": [
      "pred_channel.shape (15, 4096)\n",
      "Creating RawArray with float64 data, n_channels=15, n_times=4096\n",
      "    Range : 0 ... 4095 =      0.000 ...    15.996 secs\n",
      "Ready.\n",
      "Writing E:\\jupyter file\\EEG_process\\SE_train_processed\\Z张璐20220225_bias_0.fif\n",
      "Closing E:\\jupyter file\\EEG_process\\SE_train_processed\\Z张璐20220225_bias_0.fif\n",
      "[done]\n",
      "../SE_train_processed/Z张璐20220228_bias_0.fif\n",
      "Opening raw data file ../SE_train\\Z张璐20220228_bias_0.fif...\n",
      "Isotrak not found\n",
      "    Range : 189771 ... 206155 =    185.323 ...   201.323 secs\n",
      "Ready.\n",
      "data_256.shape (15, 4096)\n",
      "data_256_samples.shape (15, 8, 512)\n",
      "data_sta.shape (15, 8, 512)\n",
      "data_x.shape: (120, 512, 1)\n"
     ]
    },
    {
     "name": "stderr",
     "output_type": "stream",
     "text": [
      "<ipython-input-4-6623eb51b1f6>:73: RuntimeWarning: This filename (E:\\jupyter file\\EEG_process\\SE_train_processed\\Z张璐20220225_bias_0.fif) does not conform to MNE naming conventions. All raw files should end with raw.fif, raw_sss.fif, raw_tsss.fif, _meg.fif, _eeg.fif, _ieeg.fif, raw.fif.gz, raw_sss.fif.gz, raw_tsss.fif.gz, _meg.fif.gz, _eeg.fif.gz or _ieeg.fif.gz\n",
      "  custom_raw.save(save_path,overwrite=True)\n",
      "<ipython-input-4-6623eb51b1f6>:2: RuntimeWarning: This filename (../SE_train\\Z张璐20220228_bias_0.fif) does not conform to MNE naming conventions. All raw files should end with raw.fif, raw_sss.fif, raw_tsss.fif, _meg.fif, _eeg.fif, _ieeg.fif, raw.fif.gz, raw_sss.fif.gz, raw_tsss.fif.gz, _meg.fif.gz, _eeg.fif.gz or _ieeg.fif.gz\n",
      "  raw = read_raw_fif(file_path)\n"
     ]
    },
    {
     "name": "stdout",
     "output_type": "stream",
     "text": [
      "pred_channel.shape (15, 4096)\n",
      "Creating RawArray with float64 data, n_channels=15, n_times=4096\n",
      "    Range : 0 ... 4095 =      0.000 ...    15.996 secs\n",
      "Ready.\n",
      "Writing E:\\jupyter file\\EEG_process\\SE_train_processed\\Z张璐20220228_bias_0.fif\n",
      "Closing E:\\jupyter file\\EEG_process\\SE_train_processed\\Z张璐20220228_bias_0.fif\n",
      "[done]\n",
      "../SE_train_processed/Z张璐20220302（未发作）_bias_0.fif\n",
      "Opening raw data file ../SE_train\\Z张璐20220302（未发作）_bias_0.fif...\n",
      "Isotrak not found\n",
      "    Range : 22362 ... 38746 =     21.838 ...    37.838 secs\n",
      "Ready.\n",
      "data_256.shape (15, 4096)\n",
      "data_256_samples.shape (15, 8, 512)\n",
      "data_sta.shape (15, 8, 512)\n",
      "data_x.shape: (120, 512, 1)\n"
     ]
    },
    {
     "name": "stderr",
     "output_type": "stream",
     "text": [
      "<ipython-input-4-6623eb51b1f6>:73: RuntimeWarning: This filename (E:\\jupyter file\\EEG_process\\SE_train_processed\\Z张璐20220228_bias_0.fif) does not conform to MNE naming conventions. All raw files should end with raw.fif, raw_sss.fif, raw_tsss.fif, _meg.fif, _eeg.fif, _ieeg.fif, raw.fif.gz, raw_sss.fif.gz, raw_tsss.fif.gz, _meg.fif.gz, _eeg.fif.gz or _ieeg.fif.gz\n",
      "  custom_raw.save(save_path,overwrite=True)\n",
      "<ipython-input-4-6623eb51b1f6>:2: RuntimeWarning: This filename (../SE_train\\Z张璐20220302（未发作）_bias_0.fif) does not conform to MNE naming conventions. All raw files should end with raw.fif, raw_sss.fif, raw_tsss.fif, _meg.fif, _eeg.fif, _ieeg.fif, raw.fif.gz, raw_sss.fif.gz, raw_tsss.fif.gz, _meg.fif.gz, _eeg.fif.gz or _ieeg.fif.gz\n",
      "  raw = read_raw_fif(file_path)\n"
     ]
    },
    {
     "name": "stdout",
     "output_type": "stream",
     "text": [
      "pred_channel.shape (15, 4096)\n",
      "Creating RawArray with float64 data, n_channels=15, n_times=4096\n",
      "    Range : 0 ... 4095 =      0.000 ...    15.996 secs\n",
      "Ready.\n",
      "Writing E:\\jupyter file\\EEG_process\\SE_train_processed\\Z张璐20220302（未发作）_bias_0.fif\n",
      "Closing E:\\jupyter file\\EEG_process\\SE_train_processed\\Z张璐20220302（未发作）_bias_0.fif\n",
      "[done]\n",
      "../SE_train_processed/Z张璐20220302（未发作）_bias_2.fif\n",
      "Opening raw data file ../SE_train\\Z张璐20220302（未发作）_bias_2.fif...\n",
      "Isotrak not found\n",
      "    Range : 24410 ... 40794 =     23.838 ...    39.838 secs\n",
      "Ready.\n",
      "data_256.shape (15, 4096)\n",
      "data_256_samples.shape (15, 8, 512)\n",
      "data_sta.shape (15, 8, 512)\n",
      "data_x.shape: (120, 512, 1)\n"
     ]
    },
    {
     "name": "stderr",
     "output_type": "stream",
     "text": [
      "<ipython-input-4-6623eb51b1f6>:73: RuntimeWarning: This filename (E:\\jupyter file\\EEG_process\\SE_train_processed\\Z张璐20220302（未发作）_bias_0.fif) does not conform to MNE naming conventions. All raw files should end with raw.fif, raw_sss.fif, raw_tsss.fif, _meg.fif, _eeg.fif, _ieeg.fif, raw.fif.gz, raw_sss.fif.gz, raw_tsss.fif.gz, _meg.fif.gz, _eeg.fif.gz or _ieeg.fif.gz\n",
      "  custom_raw.save(save_path,overwrite=True)\n",
      "<ipython-input-4-6623eb51b1f6>:2: RuntimeWarning: This filename (../SE_train\\Z张璐20220302（未发作）_bias_2.fif) does not conform to MNE naming conventions. All raw files should end with raw.fif, raw_sss.fif, raw_tsss.fif, _meg.fif, _eeg.fif, _ieeg.fif, raw.fif.gz, raw_sss.fif.gz, raw_tsss.fif.gz, _meg.fif.gz, _eeg.fif.gz or _ieeg.fif.gz\n",
      "  raw = read_raw_fif(file_path)\n"
     ]
    },
    {
     "name": "stdout",
     "output_type": "stream",
     "text": [
      "pred_channel.shape (15, 4096)\n",
      "Creating RawArray with float64 data, n_channels=15, n_times=4096\n",
      "    Range : 0 ... 4095 =      0.000 ...    15.996 secs\n",
      "Ready.\n",
      "Writing E:\\jupyter file\\EEG_process\\SE_train_processed\\Z张璐20220302（未发作）_bias_2.fif\n",
      "Closing E:\\jupyter file\\EEG_process\\SE_train_processed\\Z张璐20220302（未发作）_bias_2.fif\n",
      "[done]\n",
      "../SE_train_processed/Z张璐20220302（未发作）_bias_4.fif\n",
      "Opening raw data file ../SE_train\\Z张璐20220302（未发作）_bias_4.fif...\n",
      "Isotrak not found\n",
      "    Range : 26458 ... 42842 =     25.838 ...    41.838 secs\n",
      "Ready.\n",
      "data_256.shape (15, 4096)\n",
      "data_256_samples.shape (15, 8, 512)\n",
      "data_sta.shape (15, 8, 512)\n",
      "data_x.shape: (120, 512, 1)\n"
     ]
    },
    {
     "name": "stderr",
     "output_type": "stream",
     "text": [
      "<ipython-input-4-6623eb51b1f6>:73: RuntimeWarning: This filename (E:\\jupyter file\\EEG_process\\SE_train_processed\\Z张璐20220302（未发作）_bias_2.fif) does not conform to MNE naming conventions. All raw files should end with raw.fif, raw_sss.fif, raw_tsss.fif, _meg.fif, _eeg.fif, _ieeg.fif, raw.fif.gz, raw_sss.fif.gz, raw_tsss.fif.gz, _meg.fif.gz, _eeg.fif.gz or _ieeg.fif.gz\n",
      "  custom_raw.save(save_path,overwrite=True)\n",
      "<ipython-input-4-6623eb51b1f6>:2: RuntimeWarning: This filename (../SE_train\\Z张璐20220302（未发作）_bias_4.fif) does not conform to MNE naming conventions. All raw files should end with raw.fif, raw_sss.fif, raw_tsss.fif, _meg.fif, _eeg.fif, _ieeg.fif, raw.fif.gz, raw_sss.fif.gz, raw_tsss.fif.gz, _meg.fif.gz, _eeg.fif.gz or _ieeg.fif.gz\n",
      "  raw = read_raw_fif(file_path)\n"
     ]
    },
    {
     "name": "stdout",
     "output_type": "stream",
     "text": [
      "pred_channel.shape (15, 4096)\n",
      "Creating RawArray with float64 data, n_channels=15, n_times=4096\n",
      "    Range : 0 ... 4095 =      0.000 ...    15.996 secs\n",
      "Ready.\n",
      "Writing E:\\jupyter file\\EEG_process\\SE_train_processed\\Z张璐20220302（未发作）_bias_4.fif\n",
      "Closing E:\\jupyter file\\EEG_process\\SE_train_processed\\Z张璐20220302（未发作）_bias_4.fif\n",
      "[done]\n",
      "../SE_train_processed/Z张璐20220302（未发作）_bias_6.fif\n",
      "Opening raw data file ../SE_train\\Z张璐20220302（未发作）_bias_6.fif...\n",
      "Isotrak not found\n",
      "    Range : 28506 ... 44890 =     27.838 ...    43.838 secs\n",
      "Ready.\n",
      "data_256.shape (15, 4096)\n",
      "data_256_samples.shape (15, 8, 512)\n",
      "data_sta.shape (15, 8, 512)\n",
      "data_x.shape: (120, 512, 1)\n"
     ]
    },
    {
     "name": "stderr",
     "output_type": "stream",
     "text": [
      "<ipython-input-4-6623eb51b1f6>:73: RuntimeWarning: This filename (E:\\jupyter file\\EEG_process\\SE_train_processed\\Z张璐20220302（未发作）_bias_4.fif) does not conform to MNE naming conventions. All raw files should end with raw.fif, raw_sss.fif, raw_tsss.fif, _meg.fif, _eeg.fif, _ieeg.fif, raw.fif.gz, raw_sss.fif.gz, raw_tsss.fif.gz, _meg.fif.gz, _eeg.fif.gz or _ieeg.fif.gz\n",
      "  custom_raw.save(save_path,overwrite=True)\n",
      "<ipython-input-4-6623eb51b1f6>:2: RuntimeWarning: This filename (../SE_train\\Z张璐20220302（未发作）_bias_6.fif) does not conform to MNE naming conventions. All raw files should end with raw.fif, raw_sss.fif, raw_tsss.fif, _meg.fif, _eeg.fif, _ieeg.fif, raw.fif.gz, raw_sss.fif.gz, raw_tsss.fif.gz, _meg.fif.gz, _eeg.fif.gz or _ieeg.fif.gz\n",
      "  raw = read_raw_fif(file_path)\n"
     ]
    },
    {
     "name": "stdout",
     "output_type": "stream",
     "text": [
      "pred_channel.shape (15, 4096)\n",
      "Creating RawArray with float64 data, n_channels=15, n_times=4096\n",
      "    Range : 0 ... 4095 =      0.000 ...    15.996 secs\n",
      "Ready.\n",
      "Writing E:\\jupyter file\\EEG_process\\SE_train_processed\\Z张璐20220302（未发作）_bias_6.fif\n",
      "Closing E:\\jupyter file\\EEG_process\\SE_train_processed\\Z张璐20220302（未发作）_bias_6.fif\n",
      "[done]\n",
      "../SE_train_processed/Z徐珍英20220218（未发作）_bias_0.fif\n",
      "Opening raw data file ../SE_train\\Z徐珍英20220218（未发作）_bias_0.fif...\n",
      "Isotrak not found\n",
      "    Range : 222292 ... 238676 =    217.082 ...   233.082 secs\n",
      "Ready.\n",
      "data_256.shape (15, 4096)\n",
      "data_256_samples.shape (15, 8, 512)\n",
      "data_sta.shape (15, 8, 512)\n",
      "data_x.shape: (120, 512, 1)\n"
     ]
    },
    {
     "name": "stderr",
     "output_type": "stream",
     "text": [
      "<ipython-input-4-6623eb51b1f6>:73: RuntimeWarning: This filename (E:\\jupyter file\\EEG_process\\SE_train_processed\\Z张璐20220302（未发作）_bias_6.fif) does not conform to MNE naming conventions. All raw files should end with raw.fif, raw_sss.fif, raw_tsss.fif, _meg.fif, _eeg.fif, _ieeg.fif, raw.fif.gz, raw_sss.fif.gz, raw_tsss.fif.gz, _meg.fif.gz, _eeg.fif.gz or _ieeg.fif.gz\n",
      "  custom_raw.save(save_path,overwrite=True)\n",
      "<ipython-input-4-6623eb51b1f6>:2: RuntimeWarning: This filename (../SE_train\\Z徐珍英20220218（未发作）_bias_0.fif) does not conform to MNE naming conventions. All raw files should end with raw.fif, raw_sss.fif, raw_tsss.fif, _meg.fif, _eeg.fif, _ieeg.fif, raw.fif.gz, raw_sss.fif.gz, raw_tsss.fif.gz, _meg.fif.gz, _eeg.fif.gz or _ieeg.fif.gz\n",
      "  raw = read_raw_fif(file_path)\n"
     ]
    },
    {
     "name": "stdout",
     "output_type": "stream",
     "text": [
      "pred_channel.shape (15, 4096)\n",
      "Creating RawArray with float64 data, n_channels=15, n_times=4096\n",
      "    Range : 0 ... 4095 =      0.000 ...    15.996 secs\n",
      "Ready.\n",
      "Writing E:\\jupyter file\\EEG_process\\SE_train_processed\\Z徐珍英20220218（未发作）_bias_0.fif\n",
      "Closing E:\\jupyter file\\EEG_process\\SE_train_processed\\Z徐珍英20220218（未发作）_bias_0.fif\n",
      "[done]\n",
      "../SE_train_processed/Z徐珍英20220218（未发作）_bias_2.fif\n",
      "Opening raw data file ../SE_train\\Z徐珍英20220218（未发作）_bias_2.fif...\n",
      "Isotrak not found\n",
      "    Range : 224340 ... 240724 =    219.082 ...   235.082 secs\n",
      "Ready.\n",
      "data_256.shape (15, 4096)\n",
      "data_256_samples.shape (15, 8, 512)\n",
      "data_sta.shape (15, 8, 512)\n",
      "data_x.shape: (120, 512, 1)\n"
     ]
    },
    {
     "name": "stderr",
     "output_type": "stream",
     "text": [
      "<ipython-input-4-6623eb51b1f6>:73: RuntimeWarning: This filename (E:\\jupyter file\\EEG_process\\SE_train_processed\\Z徐珍英20220218（未发作）_bias_0.fif) does not conform to MNE naming conventions. All raw files should end with raw.fif, raw_sss.fif, raw_tsss.fif, _meg.fif, _eeg.fif, _ieeg.fif, raw.fif.gz, raw_sss.fif.gz, raw_tsss.fif.gz, _meg.fif.gz, _eeg.fif.gz or _ieeg.fif.gz\n",
      "  custom_raw.save(save_path,overwrite=True)\n",
      "<ipython-input-4-6623eb51b1f6>:2: RuntimeWarning: This filename (../SE_train\\Z徐珍英20220218（未发作）_bias_2.fif) does not conform to MNE naming conventions. All raw files should end with raw.fif, raw_sss.fif, raw_tsss.fif, _meg.fif, _eeg.fif, _ieeg.fif, raw.fif.gz, raw_sss.fif.gz, raw_tsss.fif.gz, _meg.fif.gz, _eeg.fif.gz or _ieeg.fif.gz\n",
      "  raw = read_raw_fif(file_path)\n"
     ]
    },
    {
     "name": "stdout",
     "output_type": "stream",
     "text": [
      "pred_channel.shape (15, 4096)\n",
      "Creating RawArray with float64 data, n_channels=15, n_times=4096\n",
      "    Range : 0 ... 4095 =      0.000 ...    15.996 secs\n",
      "Ready.\n",
      "Writing E:\\jupyter file\\EEG_process\\SE_train_processed\\Z徐珍英20220218（未发作）_bias_2.fif\n",
      "Closing E:\\jupyter file\\EEG_process\\SE_train_processed\\Z徐珍英20220218（未发作）_bias_2.fif\n",
      "[done]\n",
      "../SE_train_processed/Z徐珍英20220218（未发作）_bias_4.fif\n",
      "Opening raw data file ../SE_train\\Z徐珍英20220218（未发作）_bias_4.fif...\n",
      "Isotrak not found\n",
      "    Range : 226388 ... 242772 =    221.082 ...   237.082 secs\n",
      "Ready.\n",
      "data_256.shape (15, 4096)\n",
      "data_256_samples.shape (15, 8, 512)\n",
      "data_sta.shape (15, 8, 512)\n",
      "data_x.shape: (120, 512, 1)\n"
     ]
    },
    {
     "name": "stderr",
     "output_type": "stream",
     "text": [
      "<ipython-input-4-6623eb51b1f6>:73: RuntimeWarning: This filename (E:\\jupyter file\\EEG_process\\SE_train_processed\\Z徐珍英20220218（未发作）_bias_2.fif) does not conform to MNE naming conventions. All raw files should end with raw.fif, raw_sss.fif, raw_tsss.fif, _meg.fif, _eeg.fif, _ieeg.fif, raw.fif.gz, raw_sss.fif.gz, raw_tsss.fif.gz, _meg.fif.gz, _eeg.fif.gz or _ieeg.fif.gz\n",
      "  custom_raw.save(save_path,overwrite=True)\n",
      "<ipython-input-4-6623eb51b1f6>:2: RuntimeWarning: This filename (../SE_train\\Z徐珍英20220218（未发作）_bias_4.fif) does not conform to MNE naming conventions. All raw files should end with raw.fif, raw_sss.fif, raw_tsss.fif, _meg.fif, _eeg.fif, _ieeg.fif, raw.fif.gz, raw_sss.fif.gz, raw_tsss.fif.gz, _meg.fif.gz, _eeg.fif.gz or _ieeg.fif.gz\n",
      "  raw = read_raw_fif(file_path)\n"
     ]
    },
    {
     "name": "stdout",
     "output_type": "stream",
     "text": [
      "pred_channel.shape (15, 4096)\n",
      "Creating RawArray with float64 data, n_channels=15, n_times=4096\n",
      "    Range : 0 ... 4095 =      0.000 ...    15.996 secs\n",
      "Ready.\n",
      "Writing E:\\jupyter file\\EEG_process\\SE_train_processed\\Z徐珍英20220218（未发作）_bias_4.fif\n",
      "Closing E:\\jupyter file\\EEG_process\\SE_train_processed\\Z徐珍英20220218（未发作）_bias_4.fif\n",
      "[done]\n",
      "../SE_train_processed/Z徐珍英20220218（未发作）_bias_6.fif\n",
      "Opening raw data file ../SE_train\\Z徐珍英20220218（未发作）_bias_6.fif...\n",
      "Isotrak not found\n",
      "    Range : 228436 ... 244820 =    223.082 ...   239.082 secs\n",
      "Ready.\n",
      "data_256.shape (15, 4096)\n",
      "data_256_samples.shape (15, 8, 512)\n",
      "data_sta.shape (15, 8, 512)\n",
      "data_x.shape: (120, 512, 1)\n"
     ]
    },
    {
     "name": "stderr",
     "output_type": "stream",
     "text": [
      "<ipython-input-4-6623eb51b1f6>:73: RuntimeWarning: This filename (E:\\jupyter file\\EEG_process\\SE_train_processed\\Z徐珍英20220218（未发作）_bias_4.fif) does not conform to MNE naming conventions. All raw files should end with raw.fif, raw_sss.fif, raw_tsss.fif, _meg.fif, _eeg.fif, _ieeg.fif, raw.fif.gz, raw_sss.fif.gz, raw_tsss.fif.gz, _meg.fif.gz, _eeg.fif.gz or _ieeg.fif.gz\n",
      "  custom_raw.save(save_path,overwrite=True)\n",
      "<ipython-input-4-6623eb51b1f6>:2: RuntimeWarning: This filename (../SE_train\\Z徐珍英20220218（未发作）_bias_6.fif) does not conform to MNE naming conventions. All raw files should end with raw.fif, raw_sss.fif, raw_tsss.fif, _meg.fif, _eeg.fif, _ieeg.fif, raw.fif.gz, raw_sss.fif.gz, raw_tsss.fif.gz, _meg.fif.gz, _eeg.fif.gz or _ieeg.fif.gz\n",
      "  raw = read_raw_fif(file_path)\n"
     ]
    },
    {
     "name": "stdout",
     "output_type": "stream",
     "text": [
      "pred_channel.shape (15, 4096)\n",
      "Creating RawArray with float64 data, n_channels=15, n_times=4096\n",
      "    Range : 0 ... 4095 =      0.000 ...    15.996 secs\n",
      "Ready.\n",
      "Writing E:\\jupyter file\\EEG_process\\SE_train_processed\\Z徐珍英20220218（未发作）_bias_6.fif\n",
      "Closing E:\\jupyter file\\EEG_process\\SE_train_processed\\Z徐珍英20220218（未发作）_bias_6.fif\n",
      "[done]\n",
      "../SE_train_processed/Z徐珍英20220221（未发作）_bias_0.fif\n",
      "Opening raw data file ../SE_train\\Z徐珍英20220221（未发作）_bias_0.fif...\n",
      "Isotrak not found\n",
      "    Range : 63336 ... 79720 =     61.852 ...    77.852 secs\n",
      "Ready.\n",
      "data_256.shape (15, 4096)\n",
      "data_256_samples.shape (15, 8, 512)\n",
      "data_sta.shape (15, 8, 512)\n",
      "data_x.shape: (120, 512, 1)\n"
     ]
    },
    {
     "name": "stderr",
     "output_type": "stream",
     "text": [
      "<ipython-input-4-6623eb51b1f6>:73: RuntimeWarning: This filename (E:\\jupyter file\\EEG_process\\SE_train_processed\\Z徐珍英20220218（未发作）_bias_6.fif) does not conform to MNE naming conventions. All raw files should end with raw.fif, raw_sss.fif, raw_tsss.fif, _meg.fif, _eeg.fif, _ieeg.fif, raw.fif.gz, raw_sss.fif.gz, raw_tsss.fif.gz, _meg.fif.gz, _eeg.fif.gz or _ieeg.fif.gz\n",
      "  custom_raw.save(save_path,overwrite=True)\n",
      "<ipython-input-4-6623eb51b1f6>:2: RuntimeWarning: This filename (../SE_train\\Z徐珍英20220221（未发作）_bias_0.fif) does not conform to MNE naming conventions. All raw files should end with raw.fif, raw_sss.fif, raw_tsss.fif, _meg.fif, _eeg.fif, _ieeg.fif, raw.fif.gz, raw_sss.fif.gz, raw_tsss.fif.gz, _meg.fif.gz, _eeg.fif.gz or _ieeg.fif.gz\n",
      "  raw = read_raw_fif(file_path)\n"
     ]
    },
    {
     "name": "stdout",
     "output_type": "stream",
     "text": [
      "pred_channel.shape (15, 4096)\n",
      "Creating RawArray with float64 data, n_channels=15, n_times=4096\n",
      "    Range : 0 ... 4095 =      0.000 ...    15.996 secs\n",
      "Ready.\n",
      "Writing E:\\jupyter file\\EEG_process\\SE_train_processed\\Z徐珍英20220221（未发作）_bias_0.fif\n",
      "Closing E:\\jupyter file\\EEG_process\\SE_train_processed\\Z徐珍英20220221（未发作）_bias_0.fif\n",
      "[done]\n",
      "../SE_train_processed/Z徐珍英20220221（未发作）_bias_2.fif\n",
      "Opening raw data file ../SE_train\\Z徐珍英20220221（未发作）_bias_2.fif...\n",
      "Isotrak not found\n",
      "    Range : 65384 ... 81768 =     63.852 ...    79.852 secs\n",
      "Ready.\n",
      "data_256.shape (15, 4096)\n",
      "data_256_samples.shape (15, 8, 512)\n",
      "data_sta.shape (15, 8, 512)\n",
      "data_x.shape: (120, 512, 1)\n"
     ]
    },
    {
     "name": "stderr",
     "output_type": "stream",
     "text": [
      "<ipython-input-4-6623eb51b1f6>:73: RuntimeWarning: This filename (E:\\jupyter file\\EEG_process\\SE_train_processed\\Z徐珍英20220221（未发作）_bias_0.fif) does not conform to MNE naming conventions. All raw files should end with raw.fif, raw_sss.fif, raw_tsss.fif, _meg.fif, _eeg.fif, _ieeg.fif, raw.fif.gz, raw_sss.fif.gz, raw_tsss.fif.gz, _meg.fif.gz, _eeg.fif.gz or _ieeg.fif.gz\n",
      "  custom_raw.save(save_path,overwrite=True)\n",
      "<ipython-input-4-6623eb51b1f6>:2: RuntimeWarning: This filename (../SE_train\\Z徐珍英20220221（未发作）_bias_2.fif) does not conform to MNE naming conventions. All raw files should end with raw.fif, raw_sss.fif, raw_tsss.fif, _meg.fif, _eeg.fif, _ieeg.fif, raw.fif.gz, raw_sss.fif.gz, raw_tsss.fif.gz, _meg.fif.gz, _eeg.fif.gz or _ieeg.fif.gz\n",
      "  raw = read_raw_fif(file_path)\n"
     ]
    },
    {
     "name": "stdout",
     "output_type": "stream",
     "text": [
      "pred_channel.shape (15, 4096)\n",
      "Creating RawArray with float64 data, n_channels=15, n_times=4096\n",
      "    Range : 0 ... 4095 =      0.000 ...    15.996 secs\n",
      "Ready.\n",
      "Writing E:\\jupyter file\\EEG_process\\SE_train_processed\\Z徐珍英20220221（未发作）_bias_2.fif\n",
      "Closing E:\\jupyter file\\EEG_process\\SE_train_processed\\Z徐珍英20220221（未发作）_bias_2.fif\n",
      "[done]\n",
      "../SE_train_processed/Z徐珍英20220221（未发作）_bias_4.fif\n",
      "Opening raw data file ../SE_train\\Z徐珍英20220221（未发作）_bias_4.fif...\n",
      "Isotrak not found\n",
      "    Range : 67432 ... 83816 =     65.852 ...    81.852 secs\n",
      "Ready.\n",
      "data_256.shape (15, 4096)\n",
      "data_256_samples.shape (15, 8, 512)\n",
      "data_sta.shape (15, 8, 512)\n",
      "data_x.shape: (120, 512, 1)\n"
     ]
    },
    {
     "name": "stderr",
     "output_type": "stream",
     "text": [
      "<ipython-input-4-6623eb51b1f6>:73: RuntimeWarning: This filename (E:\\jupyter file\\EEG_process\\SE_train_processed\\Z徐珍英20220221（未发作）_bias_2.fif) does not conform to MNE naming conventions. All raw files should end with raw.fif, raw_sss.fif, raw_tsss.fif, _meg.fif, _eeg.fif, _ieeg.fif, raw.fif.gz, raw_sss.fif.gz, raw_tsss.fif.gz, _meg.fif.gz, _eeg.fif.gz or _ieeg.fif.gz\n",
      "  custom_raw.save(save_path,overwrite=True)\n",
      "<ipython-input-4-6623eb51b1f6>:2: RuntimeWarning: This filename (../SE_train\\Z徐珍英20220221（未发作）_bias_4.fif) does not conform to MNE naming conventions. All raw files should end with raw.fif, raw_sss.fif, raw_tsss.fif, _meg.fif, _eeg.fif, _ieeg.fif, raw.fif.gz, raw_sss.fif.gz, raw_tsss.fif.gz, _meg.fif.gz, _eeg.fif.gz or _ieeg.fif.gz\n",
      "  raw = read_raw_fif(file_path)\n"
     ]
    },
    {
     "name": "stdout",
     "output_type": "stream",
     "text": [
      "pred_channel.shape (15, 4096)\n",
      "Creating RawArray with float64 data, n_channels=15, n_times=4096\n",
      "    Range : 0 ... 4095 =      0.000 ...    15.996 secs\n",
      "Ready.\n",
      "Writing E:\\jupyter file\\EEG_process\\SE_train_processed\\Z徐珍英20220221（未发作）_bias_4.fif\n",
      "Closing E:\\jupyter file\\EEG_process\\SE_train_processed\\Z徐珍英20220221（未发作）_bias_4.fif\n",
      "[done]\n",
      "../SE_train_processed/Z徐珍英20220221（未发作）_bias_6.fif\n",
      "Opening raw data file ../SE_train\\Z徐珍英20220221（未发作）_bias_6.fif...\n",
      "Isotrak not found\n",
      "    Range : 69480 ... 85864 =     67.852 ...    83.852 secs\n",
      "Ready.\n",
      "data_256.shape (15, 4096)\n",
      "data_256_samples.shape (15, 8, 512)\n",
      "data_sta.shape (15, 8, 512)\n",
      "data_x.shape: (120, 512, 1)\n"
     ]
    },
    {
     "name": "stderr",
     "output_type": "stream",
     "text": [
      "<ipython-input-4-6623eb51b1f6>:73: RuntimeWarning: This filename (E:\\jupyter file\\EEG_process\\SE_train_processed\\Z徐珍英20220221（未发作）_bias_4.fif) does not conform to MNE naming conventions. All raw files should end with raw.fif, raw_sss.fif, raw_tsss.fif, _meg.fif, _eeg.fif, _ieeg.fif, raw.fif.gz, raw_sss.fif.gz, raw_tsss.fif.gz, _meg.fif.gz, _eeg.fif.gz or _ieeg.fif.gz\n",
      "  custom_raw.save(save_path,overwrite=True)\n",
      "<ipython-input-4-6623eb51b1f6>:2: RuntimeWarning: This filename (../SE_train\\Z徐珍英20220221（未发作）_bias_6.fif) does not conform to MNE naming conventions. All raw files should end with raw.fif, raw_sss.fif, raw_tsss.fif, _meg.fif, _eeg.fif, _ieeg.fif, raw.fif.gz, raw_sss.fif.gz, raw_tsss.fif.gz, _meg.fif.gz, _eeg.fif.gz or _ieeg.fif.gz\n",
      "  raw = read_raw_fif(file_path)\n"
     ]
    },
    {
     "name": "stdout",
     "output_type": "stream",
     "text": [
      "pred_channel.shape (15, 4096)\n",
      "Creating RawArray with float64 data, n_channels=15, n_times=4096\n",
      "    Range : 0 ... 4095 =      0.000 ...    15.996 secs\n",
      "Ready.\n",
      "Writing E:\\jupyter file\\EEG_process\\SE_train_processed\\Z徐珍英20220221（未发作）_bias_6.fif\n",
      "Closing E:\\jupyter file\\EEG_process\\SE_train_processed\\Z徐珍英20220221（未发作）_bias_6.fif\n",
      "[done]\n",
      "../SE_train_processed/Z徐珍英20220223_bias_0.fif\n",
      "Opening raw data file ../SE_train\\Z徐珍英20220223_bias_0.fif...\n",
      "Isotrak not found\n",
      "    Range : 181813 ... 198197 =    177.552 ...   193.552 secs\n",
      "Ready.\n",
      "data_256.shape (15, 4096)\n",
      "data_256_samples.shape (15, 8, 512)\n",
      "data_sta.shape (15, 8, 512)\n",
      "data_x.shape: (120, 512, 1)\n"
     ]
    },
    {
     "name": "stderr",
     "output_type": "stream",
     "text": [
      "<ipython-input-4-6623eb51b1f6>:73: RuntimeWarning: This filename (E:\\jupyter file\\EEG_process\\SE_train_processed\\Z徐珍英20220221（未发作）_bias_6.fif) does not conform to MNE naming conventions. All raw files should end with raw.fif, raw_sss.fif, raw_tsss.fif, _meg.fif, _eeg.fif, _ieeg.fif, raw.fif.gz, raw_sss.fif.gz, raw_tsss.fif.gz, _meg.fif.gz, _eeg.fif.gz or _ieeg.fif.gz\n",
      "  custom_raw.save(save_path,overwrite=True)\n",
      "<ipython-input-4-6623eb51b1f6>:2: RuntimeWarning: This filename (../SE_train\\Z徐珍英20220223_bias_0.fif) does not conform to MNE naming conventions. All raw files should end with raw.fif, raw_sss.fif, raw_tsss.fif, _meg.fif, _eeg.fif, _ieeg.fif, raw.fif.gz, raw_sss.fif.gz, raw_tsss.fif.gz, _meg.fif.gz, _eeg.fif.gz or _ieeg.fif.gz\n",
      "  raw = read_raw_fif(file_path)\n"
     ]
    },
    {
     "name": "stdout",
     "output_type": "stream",
     "text": [
      "pred_channel.shape (15, 4096)\n",
      "Creating RawArray with float64 data, n_channels=15, n_times=4096\n",
      "    Range : 0 ... 4095 =      0.000 ...    15.996 secs\n",
      "Ready.\n",
      "Writing E:\\jupyter file\\EEG_process\\SE_train_processed\\Z徐珍英20220223_bias_0.fif\n",
      "Closing E:\\jupyter file\\EEG_process\\SE_train_processed\\Z徐珍英20220223_bias_0.fif\n",
      "[done]\n",
      "../SE_train_processed/Z徐珍英20220225_bias_0.fif\n",
      "Opening raw data file ../SE_train\\Z徐珍英20220225_bias_0.fif...\n",
      "Isotrak not found\n",
      "    Range : 23786 ... 40170 =     23.229 ...    39.229 secs\n",
      "Ready.\n",
      "data_256.shape (15, 4096)\n",
      "data_256_samples.shape (15, 8, 512)\n",
      "data_sta.shape (15, 8, 512)\n",
      "data_x.shape: (120, 512, 1)\n"
     ]
    },
    {
     "name": "stderr",
     "output_type": "stream",
     "text": [
      "<ipython-input-4-6623eb51b1f6>:73: RuntimeWarning: This filename (E:\\jupyter file\\EEG_process\\SE_train_processed\\Z徐珍英20220223_bias_0.fif) does not conform to MNE naming conventions. All raw files should end with raw.fif, raw_sss.fif, raw_tsss.fif, _meg.fif, _eeg.fif, _ieeg.fif, raw.fif.gz, raw_sss.fif.gz, raw_tsss.fif.gz, _meg.fif.gz, _eeg.fif.gz or _ieeg.fif.gz\n",
      "  custom_raw.save(save_path,overwrite=True)\n",
      "<ipython-input-4-6623eb51b1f6>:2: RuntimeWarning: This filename (../SE_train\\Z徐珍英20220225_bias_0.fif) does not conform to MNE naming conventions. All raw files should end with raw.fif, raw_sss.fif, raw_tsss.fif, _meg.fif, _eeg.fif, _ieeg.fif, raw.fif.gz, raw_sss.fif.gz, raw_tsss.fif.gz, _meg.fif.gz, _eeg.fif.gz or _ieeg.fif.gz\n",
      "  raw = read_raw_fif(file_path)\n"
     ]
    },
    {
     "name": "stdout",
     "output_type": "stream",
     "text": [
      "pred_channel.shape (15, 4096)\n",
      "Creating RawArray with float64 data, n_channels=15, n_times=4096\n",
      "    Range : 0 ... 4095 =      0.000 ...    15.996 secs\n",
      "Ready.\n",
      "Writing E:\\jupyter file\\EEG_process\\SE_train_processed\\Z徐珍英20220225_bias_0.fif\n",
      "Closing E:\\jupyter file\\EEG_process\\SE_train_processed\\Z徐珍英20220225_bias_0.fif\n",
      "[done]\n",
      "../SE_train_processed/Z曾刚20220216_bias_0.fif\n",
      "Opening raw data file ../SE_train\\Z曾刚20220216_bias_0.fif...\n",
      "Isotrak not found\n",
      "    Range : 38680 ... 55064 =     37.773 ...    53.773 secs\n",
      "Ready.\n",
      "data_256.shape (15, 4096)\n",
      "data_256_samples.shape (15, 8, 512)\n",
      "data_sta.shape (15, 8, 512)\n",
      "data_x.shape: (120, 512, 1)\n"
     ]
    },
    {
     "name": "stderr",
     "output_type": "stream",
     "text": [
      "<ipython-input-4-6623eb51b1f6>:73: RuntimeWarning: This filename (E:\\jupyter file\\EEG_process\\SE_train_processed\\Z徐珍英20220225_bias_0.fif) does not conform to MNE naming conventions. All raw files should end with raw.fif, raw_sss.fif, raw_tsss.fif, _meg.fif, _eeg.fif, _ieeg.fif, raw.fif.gz, raw_sss.fif.gz, raw_tsss.fif.gz, _meg.fif.gz, _eeg.fif.gz or _ieeg.fif.gz\n",
      "  custom_raw.save(save_path,overwrite=True)\n",
      "<ipython-input-4-6623eb51b1f6>:2: RuntimeWarning: This filename (../SE_train\\Z曾刚20220216_bias_0.fif) does not conform to MNE naming conventions. All raw files should end with raw.fif, raw_sss.fif, raw_tsss.fif, _meg.fif, _eeg.fif, _ieeg.fif, raw.fif.gz, raw_sss.fif.gz, raw_tsss.fif.gz, _meg.fif.gz, _eeg.fif.gz or _ieeg.fif.gz\n",
      "  raw = read_raw_fif(file_path)\n"
     ]
    },
    {
     "name": "stdout",
     "output_type": "stream",
     "text": [
      "pred_channel.shape (15, 4096)\n",
      "Creating RawArray with float64 data, n_channels=15, n_times=4096\n",
      "    Range : 0 ... 4095 =      0.000 ...    15.996 secs\n",
      "Ready.\n",
      "Writing E:\\jupyter file\\EEG_process\\SE_train_processed\\Z曾刚20220216_bias_0.fif\n",
      "Closing E:\\jupyter file\\EEG_process\\SE_train_processed\\Z曾刚20220216_bias_0.fif\n",
      "[done]\n",
      "../SE_train_processed/Z曾刚20220218（未发作）_bias_0.fif\n",
      "Opening raw data file ../SE_train\\Z曾刚20220218（未发作）_bias_0.fif...\n",
      "Isotrak not found\n",
      "    Range : 219924 ... 236308 =    214.770 ...   230.770 secs\n",
      "Ready.\n",
      "data_256.shape (15, 4096)\n",
      "data_256_samples.shape (15, 8, 512)\n",
      "data_sta.shape (15, 8, 512)\n",
      "data_x.shape: (120, 512, 1)\n"
     ]
    },
    {
     "name": "stderr",
     "output_type": "stream",
     "text": [
      "<ipython-input-4-6623eb51b1f6>:73: RuntimeWarning: This filename (E:\\jupyter file\\EEG_process\\SE_train_processed\\Z曾刚20220216_bias_0.fif) does not conform to MNE naming conventions. All raw files should end with raw.fif, raw_sss.fif, raw_tsss.fif, _meg.fif, _eeg.fif, _ieeg.fif, raw.fif.gz, raw_sss.fif.gz, raw_tsss.fif.gz, _meg.fif.gz, _eeg.fif.gz or _ieeg.fif.gz\n",
      "  custom_raw.save(save_path,overwrite=True)\n",
      "<ipython-input-4-6623eb51b1f6>:2: RuntimeWarning: This filename (../SE_train\\Z曾刚20220218（未发作）_bias_0.fif) does not conform to MNE naming conventions. All raw files should end with raw.fif, raw_sss.fif, raw_tsss.fif, _meg.fif, _eeg.fif, _ieeg.fif, raw.fif.gz, raw_sss.fif.gz, raw_tsss.fif.gz, _meg.fif.gz, _eeg.fif.gz or _ieeg.fif.gz\n",
      "  raw = read_raw_fif(file_path)\n"
     ]
    },
    {
     "name": "stdout",
     "output_type": "stream",
     "text": [
      "pred_channel.shape (15, 4096)\n",
      "Creating RawArray with float64 data, n_channels=15, n_times=4096\n",
      "    Range : 0 ... 4095 =      0.000 ...    15.996 secs\n",
      "Ready.\n",
      "Writing E:\\jupyter file\\EEG_process\\SE_train_processed\\Z曾刚20220218（未发作）_bias_0.fif\n",
      "Closing E:\\jupyter file\\EEG_process\\SE_train_processed\\Z曾刚20220218（未发作）_bias_0.fif\n",
      "[done]\n",
      "../SE_train_processed/Z曾刚20220218（未发作）_bias_2.fif\n",
      "Opening raw data file ../SE_train\\Z曾刚20220218（未发作）_bias_2.fif...\n",
      "Isotrak not found\n",
      "    Range : 221972 ... 238356 =    216.770 ...   232.770 secs\n",
      "Ready.\n",
      "data_256.shape (15, 4096)\n",
      "data_256_samples.shape (15, 8, 512)\n",
      "data_sta.shape (15, 8, 512)\n",
      "data_x.shape: (120, 512, 1)\n"
     ]
    },
    {
     "name": "stderr",
     "output_type": "stream",
     "text": [
      "<ipython-input-4-6623eb51b1f6>:73: RuntimeWarning: This filename (E:\\jupyter file\\EEG_process\\SE_train_processed\\Z曾刚20220218（未发作）_bias_0.fif) does not conform to MNE naming conventions. All raw files should end with raw.fif, raw_sss.fif, raw_tsss.fif, _meg.fif, _eeg.fif, _ieeg.fif, raw.fif.gz, raw_sss.fif.gz, raw_tsss.fif.gz, _meg.fif.gz, _eeg.fif.gz or _ieeg.fif.gz\n",
      "  custom_raw.save(save_path,overwrite=True)\n",
      "<ipython-input-4-6623eb51b1f6>:2: RuntimeWarning: This filename (../SE_train\\Z曾刚20220218（未发作）_bias_2.fif) does not conform to MNE naming conventions. All raw files should end with raw.fif, raw_sss.fif, raw_tsss.fif, _meg.fif, _eeg.fif, _ieeg.fif, raw.fif.gz, raw_sss.fif.gz, raw_tsss.fif.gz, _meg.fif.gz, _eeg.fif.gz or _ieeg.fif.gz\n",
      "  raw = read_raw_fif(file_path)\n"
     ]
    },
    {
     "name": "stdout",
     "output_type": "stream",
     "text": [
      "pred_channel.shape (15, 4096)\n",
      "Creating RawArray with float64 data, n_channels=15, n_times=4096\n",
      "    Range : 0 ... 4095 =      0.000 ...    15.996 secs\n",
      "Ready.\n",
      "Writing E:\\jupyter file\\EEG_process\\SE_train_processed\\Z曾刚20220218（未发作）_bias_2.fif\n",
      "Closing E:\\jupyter file\\EEG_process\\SE_train_processed\\Z曾刚20220218（未发作）_bias_2.fif\n",
      "[done]\n",
      "../SE_train_processed/Z曾刚20220218（未发作）_bias_4.fif\n",
      "Opening raw data file ../SE_train\\Z曾刚20220218（未发作）_bias_4.fif...\n",
      "Isotrak not found\n",
      "    Range : 224020 ... 240404 =    218.770 ...   234.770 secs\n",
      "Ready.\n",
      "data_256.shape (15, 4096)\n",
      "data_256_samples.shape (15, 8, 512)\n",
      "data_sta.shape (15, 8, 512)\n",
      "data_x.shape: (120, 512, 1)\n"
     ]
    },
    {
     "name": "stderr",
     "output_type": "stream",
     "text": [
      "<ipython-input-4-6623eb51b1f6>:73: RuntimeWarning: This filename (E:\\jupyter file\\EEG_process\\SE_train_processed\\Z曾刚20220218（未发作）_bias_2.fif) does not conform to MNE naming conventions. All raw files should end with raw.fif, raw_sss.fif, raw_tsss.fif, _meg.fif, _eeg.fif, _ieeg.fif, raw.fif.gz, raw_sss.fif.gz, raw_tsss.fif.gz, _meg.fif.gz, _eeg.fif.gz or _ieeg.fif.gz\n",
      "  custom_raw.save(save_path,overwrite=True)\n",
      "<ipython-input-4-6623eb51b1f6>:2: RuntimeWarning: This filename (../SE_train\\Z曾刚20220218（未发作）_bias_4.fif) does not conform to MNE naming conventions. All raw files should end with raw.fif, raw_sss.fif, raw_tsss.fif, _meg.fif, _eeg.fif, _ieeg.fif, raw.fif.gz, raw_sss.fif.gz, raw_tsss.fif.gz, _meg.fif.gz, _eeg.fif.gz or _ieeg.fif.gz\n",
      "  raw = read_raw_fif(file_path)\n"
     ]
    },
    {
     "name": "stdout",
     "output_type": "stream",
     "text": [
      "pred_channel.shape (15, 4096)\n",
      "Creating RawArray with float64 data, n_channels=15, n_times=4096\n",
      "    Range : 0 ... 4095 =      0.000 ...    15.996 secs\n",
      "Ready.\n",
      "Writing E:\\jupyter file\\EEG_process\\SE_train_processed\\Z曾刚20220218（未发作）_bias_4.fif\n",
      "Closing E:\\jupyter file\\EEG_process\\SE_train_processed\\Z曾刚20220218（未发作）_bias_4.fif\n",
      "[done]\n",
      "../SE_train_processed/Z曾刚20220218（未发作）_bias_6.fif\n",
      "Opening raw data file ../SE_train\\Z曾刚20220218（未发作）_bias_6.fif...\n",
      "Isotrak not found\n",
      "    Range : 226068 ... 242452 =    220.770 ...   236.770 secs\n",
      "Ready.\n",
      "data_256.shape (15, 4096)\n",
      "data_256_samples.shape (15, 8, 512)\n",
      "data_sta.shape (15, 8, 512)\n",
      "data_x.shape: (120, 512, 1)\n"
     ]
    },
    {
     "name": "stderr",
     "output_type": "stream",
     "text": [
      "<ipython-input-4-6623eb51b1f6>:73: RuntimeWarning: This filename (E:\\jupyter file\\EEG_process\\SE_train_processed\\Z曾刚20220218（未发作）_bias_4.fif) does not conform to MNE naming conventions. All raw files should end with raw.fif, raw_sss.fif, raw_tsss.fif, _meg.fif, _eeg.fif, _ieeg.fif, raw.fif.gz, raw_sss.fif.gz, raw_tsss.fif.gz, _meg.fif.gz, _eeg.fif.gz or _ieeg.fif.gz\n",
      "  custom_raw.save(save_path,overwrite=True)\n",
      "<ipython-input-4-6623eb51b1f6>:2: RuntimeWarning: This filename (../SE_train\\Z曾刚20220218（未发作）_bias_6.fif) does not conform to MNE naming conventions. All raw files should end with raw.fif, raw_sss.fif, raw_tsss.fif, _meg.fif, _eeg.fif, _ieeg.fif, raw.fif.gz, raw_sss.fif.gz, raw_tsss.fif.gz, _meg.fif.gz, _eeg.fif.gz or _ieeg.fif.gz\n",
      "  raw = read_raw_fif(file_path)\n"
     ]
    },
    {
     "name": "stdout",
     "output_type": "stream",
     "text": [
      "pred_channel.shape (15, 4096)\n",
      "Creating RawArray with float64 data, n_channels=15, n_times=4096\n",
      "    Range : 0 ... 4095 =      0.000 ...    15.996 secs\n",
      "Ready.\n",
      "Writing E:\\jupyter file\\EEG_process\\SE_train_processed\\Z曾刚20220218（未发作）_bias_6.fif\n",
      "Closing E:\\jupyter file\\EEG_process\\SE_train_processed\\Z曾刚20220218（未发作）_bias_6.fif\n",
      "[done]\n",
      "../SE_train_processed/Z曾刚20220221_bias_0.fif\n",
      "Opening raw data file ../SE_train\\Z曾刚20220221_bias_0.fif...\n",
      "Isotrak not found\n",
      "    Range : 17807 ... 34191 =     17.390 ...    33.390 secs\n",
      "Ready.\n",
      "data_256.shape (15, 4096)\n",
      "data_256_samples.shape (15, 8, 512)\n",
      "data_sta.shape (15, 8, 512)\n",
      "data_x.shape: (120, 512, 1)\n"
     ]
    },
    {
     "name": "stderr",
     "output_type": "stream",
     "text": [
      "<ipython-input-4-6623eb51b1f6>:73: RuntimeWarning: This filename (E:\\jupyter file\\EEG_process\\SE_train_processed\\Z曾刚20220218（未发作）_bias_6.fif) does not conform to MNE naming conventions. All raw files should end with raw.fif, raw_sss.fif, raw_tsss.fif, _meg.fif, _eeg.fif, _ieeg.fif, raw.fif.gz, raw_sss.fif.gz, raw_tsss.fif.gz, _meg.fif.gz, _eeg.fif.gz or _ieeg.fif.gz\n",
      "  custom_raw.save(save_path,overwrite=True)\n",
      "<ipython-input-4-6623eb51b1f6>:2: RuntimeWarning: This filename (../SE_train\\Z曾刚20220221_bias_0.fif) does not conform to MNE naming conventions. All raw files should end with raw.fif, raw_sss.fif, raw_tsss.fif, _meg.fif, _eeg.fif, _ieeg.fif, raw.fif.gz, raw_sss.fif.gz, raw_tsss.fif.gz, _meg.fif.gz, _eeg.fif.gz or _ieeg.fif.gz\n",
      "  raw = read_raw_fif(file_path)\n"
     ]
    },
    {
     "name": "stdout",
     "output_type": "stream",
     "text": [
      "pred_channel.shape (15, 4096)\n",
      "Creating RawArray with float64 data, n_channels=15, n_times=4096\n",
      "    Range : 0 ... 4095 =      0.000 ...    15.996 secs\n",
      "Ready.\n",
      "Writing E:\\jupyter file\\EEG_process\\SE_train_processed\\Z曾刚20220221_bias_0.fif\n",
      "Closing E:\\jupyter file\\EEG_process\\SE_train_processed\\Z曾刚20220221_bias_0.fif\n",
      "[done]\n",
      "../SE_train_processed/Z曾刚20220223_bias_0.fif\n",
      "Opening raw data file ../SE_train\\Z曾刚20220223_bias_0.fif...\n",
      "Isotrak not found\n",
      "    Range : 70270 ... 86654 =     68.623 ...    84.623 secs\n",
      "Ready.\n",
      "data_256.shape (15, 4096)\n",
      "data_256_samples.shape (15, 8, 512)\n",
      "data_sta.shape (15, 8, 512)\n",
      "data_x.shape: (120, 512, 1)\n"
     ]
    },
    {
     "name": "stderr",
     "output_type": "stream",
     "text": [
      "<ipython-input-4-6623eb51b1f6>:73: RuntimeWarning: This filename (E:\\jupyter file\\EEG_process\\SE_train_processed\\Z曾刚20220221_bias_0.fif) does not conform to MNE naming conventions. All raw files should end with raw.fif, raw_sss.fif, raw_tsss.fif, _meg.fif, _eeg.fif, _ieeg.fif, raw.fif.gz, raw_sss.fif.gz, raw_tsss.fif.gz, _meg.fif.gz, _eeg.fif.gz or _ieeg.fif.gz\n",
      "  custom_raw.save(save_path,overwrite=True)\n",
      "<ipython-input-4-6623eb51b1f6>:2: RuntimeWarning: This filename (../SE_train\\Z曾刚20220223_bias_0.fif) does not conform to MNE naming conventions. All raw files should end with raw.fif, raw_sss.fif, raw_tsss.fif, _meg.fif, _eeg.fif, _ieeg.fif, raw.fif.gz, raw_sss.fif.gz, raw_tsss.fif.gz, _meg.fif.gz, _eeg.fif.gz or _ieeg.fif.gz\n",
      "  raw = read_raw_fif(file_path)\n"
     ]
    },
    {
     "name": "stdout",
     "output_type": "stream",
     "text": [
      "pred_channel.shape (15, 4096)\n",
      "Creating RawArray with float64 data, n_channels=15, n_times=4096\n",
      "    Range : 0 ... 4095 =      0.000 ...    15.996 secs\n",
      "Ready.\n",
      "Writing E:\\jupyter file\\EEG_process\\SE_train_processed\\Z曾刚20220223_bias_0.fif\n",
      "Closing E:\\jupyter file\\EEG_process\\SE_train_processed\\Z曾刚20220223_bias_0.fif\n",
      "[done]\n",
      "../SE_train_processed/Z杜娇20220316_bias_0.fif\n",
      "Opening raw data file ../SE_train\\Z杜娇20220316_bias_0.fif...\n",
      "Isotrak not found\n",
      "    Range : 400805 ... 417189 =    391.411 ...   407.411 secs\n",
      "Ready.\n",
      "data_256.shape (15, 4096)\n",
      "data_256_samples.shape (15, 8, 512)\n",
      "data_sta.shape (15, 8, 512)\n",
      "data_x.shape: (120, 512, 1)\n"
     ]
    },
    {
     "name": "stderr",
     "output_type": "stream",
     "text": [
      "<ipython-input-4-6623eb51b1f6>:73: RuntimeWarning: This filename (E:\\jupyter file\\EEG_process\\SE_train_processed\\Z曾刚20220223_bias_0.fif) does not conform to MNE naming conventions. All raw files should end with raw.fif, raw_sss.fif, raw_tsss.fif, _meg.fif, _eeg.fif, _ieeg.fif, raw.fif.gz, raw_sss.fif.gz, raw_tsss.fif.gz, _meg.fif.gz, _eeg.fif.gz or _ieeg.fif.gz\n",
      "  custom_raw.save(save_path,overwrite=True)\n",
      "<ipython-input-4-6623eb51b1f6>:2: RuntimeWarning: This filename (../SE_train\\Z杜娇20220316_bias_0.fif) does not conform to MNE naming conventions. All raw files should end with raw.fif, raw_sss.fif, raw_tsss.fif, _meg.fif, _eeg.fif, _ieeg.fif, raw.fif.gz, raw_sss.fif.gz, raw_tsss.fif.gz, _meg.fif.gz, _eeg.fif.gz or _ieeg.fif.gz\n",
      "  raw = read_raw_fif(file_path)\n"
     ]
    },
    {
     "name": "stdout",
     "output_type": "stream",
     "text": [
      "pred_channel.shape (15, 4096)\n",
      "Creating RawArray with float64 data, n_channels=15, n_times=4096\n",
      "    Range : 0 ... 4095 =      0.000 ...    15.996 secs\n",
      "Ready.\n",
      "Writing E:\\jupyter file\\EEG_process\\SE_train_processed\\Z杜娇20220316_bias_0.fif\n",
      "Closing E:\\jupyter file\\EEG_process\\SE_train_processed\\Z杜娇20220316_bias_0.fif\n",
      "[done]\n",
      "../SE_train_processed/Z杜娇20220318_bias_0.fif\n",
      "Opening raw data file ../SE_train\\Z杜娇20220318_bias_0.fif...\n",
      "Isotrak not found\n",
      "    Range : 267966 ... 284350 =    261.686 ...   277.686 secs\n",
      "Ready.\n",
      "data_256.shape (15, 4096)\n",
      "data_256_samples.shape (15, 8, 512)\n",
      "data_sta.shape (15, 8, 512)\n",
      "data_x.shape: (120, 512, 1)\n"
     ]
    },
    {
     "name": "stderr",
     "output_type": "stream",
     "text": [
      "<ipython-input-4-6623eb51b1f6>:73: RuntimeWarning: This filename (E:\\jupyter file\\EEG_process\\SE_train_processed\\Z杜娇20220316_bias_0.fif) does not conform to MNE naming conventions. All raw files should end with raw.fif, raw_sss.fif, raw_tsss.fif, _meg.fif, _eeg.fif, _ieeg.fif, raw.fif.gz, raw_sss.fif.gz, raw_tsss.fif.gz, _meg.fif.gz, _eeg.fif.gz or _ieeg.fif.gz\n",
      "  custom_raw.save(save_path,overwrite=True)\n",
      "<ipython-input-4-6623eb51b1f6>:2: RuntimeWarning: This filename (../SE_train\\Z杜娇20220318_bias_0.fif) does not conform to MNE naming conventions. All raw files should end with raw.fif, raw_sss.fif, raw_tsss.fif, _meg.fif, _eeg.fif, _ieeg.fif, raw.fif.gz, raw_sss.fif.gz, raw_tsss.fif.gz, _meg.fif.gz, _eeg.fif.gz or _ieeg.fif.gz\n",
      "  raw = read_raw_fif(file_path)\n"
     ]
    },
    {
     "name": "stdout",
     "output_type": "stream",
     "text": [
      "pred_channel.shape (15, 4096)\n",
      "Creating RawArray with float64 data, n_channels=15, n_times=4096\n",
      "    Range : 0 ... 4095 =      0.000 ...    15.996 secs\n",
      "Ready.\n",
      "Writing E:\\jupyter file\\EEG_process\\SE_train_processed\\Z杜娇20220318_bias_0.fif\n",
      "Closing E:\\jupyter file\\EEG_process\\SE_train_processed\\Z杜娇20220318_bias_0.fif\n",
      "[done]\n",
      "../SE_train_processed/Z杜娇20220321_bias_0.fif\n",
      "Opening raw data file ../SE_train\\Z杜娇20220321_bias_0.fif...\n",
      "Isotrak not found\n",
      "    Range : 49993 ... 66377 =     48.821 ...    64.821 secs\n",
      "Ready.\n",
      "data_256.shape (15, 4096)\n",
      "data_256_samples.shape (15, 8, 512)\n",
      "data_sta.shape (15, 8, 512)\n",
      "data_x.shape: (120, 512, 1)\n"
     ]
    },
    {
     "name": "stderr",
     "output_type": "stream",
     "text": [
      "<ipython-input-4-6623eb51b1f6>:73: RuntimeWarning: This filename (E:\\jupyter file\\EEG_process\\SE_train_processed\\Z杜娇20220318_bias_0.fif) does not conform to MNE naming conventions. All raw files should end with raw.fif, raw_sss.fif, raw_tsss.fif, _meg.fif, _eeg.fif, _ieeg.fif, raw.fif.gz, raw_sss.fif.gz, raw_tsss.fif.gz, _meg.fif.gz, _eeg.fif.gz or _ieeg.fif.gz\n",
      "  custom_raw.save(save_path,overwrite=True)\n",
      "<ipython-input-4-6623eb51b1f6>:2: RuntimeWarning: This filename (../SE_train\\Z杜娇20220321_bias_0.fif) does not conform to MNE naming conventions. All raw files should end with raw.fif, raw_sss.fif, raw_tsss.fif, _meg.fif, _eeg.fif, _ieeg.fif, raw.fif.gz, raw_sss.fif.gz, raw_tsss.fif.gz, _meg.fif.gz, _eeg.fif.gz or _ieeg.fif.gz\n",
      "  raw = read_raw_fif(file_path)\n"
     ]
    },
    {
     "name": "stdout",
     "output_type": "stream",
     "text": [
      "pred_channel.shape (15, 4096)\n",
      "Creating RawArray with float64 data, n_channels=15, n_times=4096\n",
      "    Range : 0 ... 4095 =      0.000 ...    15.996 secs\n",
      "Ready.\n",
      "Writing E:\\jupyter file\\EEG_process\\SE_train_processed\\Z杜娇20220321_bias_0.fif\n",
      "Closing E:\\jupyter file\\EEG_process\\SE_train_processed\\Z杜娇20220321_bias_0.fif\n",
      "[done]\n",
      "../SE_train_processed/Z杜娇20220325（未发作）_bias_0.fif\n",
      "Opening raw data file ../SE_train\\Z杜娇20220325（未发作）_bias_0.fif...\n",
      "Isotrak not found\n",
      "    Range : 92841 ... 109225 =     90.665 ...   106.665 secs\n",
      "Ready.\n",
      "data_256.shape (15, 4096)\n",
      "data_256_samples.shape (15, 8, 512)\n",
      "data_sta.shape (15, 8, 512)\n",
      "data_x.shape: (120, 512, 1)\n"
     ]
    },
    {
     "name": "stderr",
     "output_type": "stream",
     "text": [
      "<ipython-input-4-6623eb51b1f6>:73: RuntimeWarning: This filename (E:\\jupyter file\\EEG_process\\SE_train_processed\\Z杜娇20220321_bias_0.fif) does not conform to MNE naming conventions. All raw files should end with raw.fif, raw_sss.fif, raw_tsss.fif, _meg.fif, _eeg.fif, _ieeg.fif, raw.fif.gz, raw_sss.fif.gz, raw_tsss.fif.gz, _meg.fif.gz, _eeg.fif.gz or _ieeg.fif.gz\n",
      "  custom_raw.save(save_path,overwrite=True)\n",
      "<ipython-input-4-6623eb51b1f6>:2: RuntimeWarning: This filename (../SE_train\\Z杜娇20220325（未发作）_bias_0.fif) does not conform to MNE naming conventions. All raw files should end with raw.fif, raw_sss.fif, raw_tsss.fif, _meg.fif, _eeg.fif, _ieeg.fif, raw.fif.gz, raw_sss.fif.gz, raw_tsss.fif.gz, _meg.fif.gz, _eeg.fif.gz or _ieeg.fif.gz\n",
      "  raw = read_raw_fif(file_path)\n"
     ]
    },
    {
     "name": "stdout",
     "output_type": "stream",
     "text": [
      "pred_channel.shape (15, 4096)\n",
      "Creating RawArray with float64 data, n_channels=15, n_times=4096\n",
      "    Range : 0 ... 4095 =      0.000 ...    15.996 secs\n",
      "Ready.\n",
      "Writing E:\\jupyter file\\EEG_process\\SE_train_processed\\Z杜娇20220325（未发作）_bias_0.fif\n",
      "Closing E:\\jupyter file\\EEG_process\\SE_train_processed\\Z杜娇20220325（未发作）_bias_0.fif\n",
      "[done]\n",
      "../SE_train_processed/Z杜娇20220325（未发作）_bias_2.fif\n",
      "Opening raw data file ../SE_train\\Z杜娇20220325（未发作）_bias_2.fif...\n",
      "Isotrak not found\n",
      "    Range : 94889 ... 111273 =     92.665 ...   108.665 secs\n",
      "Ready.\n",
      "data_256.shape (15, 4096)\n",
      "data_256_samples.shape (15, 8, 512)\n",
      "data_sta.shape (15, 8, 512)\n",
      "data_x.shape: (120, 512, 1)\n"
     ]
    },
    {
     "name": "stderr",
     "output_type": "stream",
     "text": [
      "<ipython-input-4-6623eb51b1f6>:73: RuntimeWarning: This filename (E:\\jupyter file\\EEG_process\\SE_train_processed\\Z杜娇20220325（未发作）_bias_0.fif) does not conform to MNE naming conventions. All raw files should end with raw.fif, raw_sss.fif, raw_tsss.fif, _meg.fif, _eeg.fif, _ieeg.fif, raw.fif.gz, raw_sss.fif.gz, raw_tsss.fif.gz, _meg.fif.gz, _eeg.fif.gz or _ieeg.fif.gz\n",
      "  custom_raw.save(save_path,overwrite=True)\n",
      "<ipython-input-4-6623eb51b1f6>:2: RuntimeWarning: This filename (../SE_train\\Z杜娇20220325（未发作）_bias_2.fif) does not conform to MNE naming conventions. All raw files should end with raw.fif, raw_sss.fif, raw_tsss.fif, _meg.fif, _eeg.fif, _ieeg.fif, raw.fif.gz, raw_sss.fif.gz, raw_tsss.fif.gz, _meg.fif.gz, _eeg.fif.gz or _ieeg.fif.gz\n",
      "  raw = read_raw_fif(file_path)\n"
     ]
    },
    {
     "name": "stdout",
     "output_type": "stream",
     "text": [
      "pred_channel.shape (15, 4096)\n",
      "Creating RawArray with float64 data, n_channels=15, n_times=4096\n",
      "    Range : 0 ... 4095 =      0.000 ...    15.996 secs\n",
      "Ready.\n",
      "Writing E:\\jupyter file\\EEG_process\\SE_train_processed\\Z杜娇20220325（未发作）_bias_2.fif\n",
      "Closing E:\\jupyter file\\EEG_process\\SE_train_processed\\Z杜娇20220325（未发作）_bias_2.fif\n",
      "[done]\n",
      "../SE_train_processed/Z杜娇20220325（未发作）_bias_4.fif\n",
      "Opening raw data file ../SE_train\\Z杜娇20220325（未发作）_bias_4.fif...\n",
      "Isotrak not found\n",
      "    Range : 96937 ... 113321 =     94.665 ...   110.665 secs\n",
      "Ready.\n",
      "data_256.shape (15, 4096)\n",
      "data_256_samples.shape (15, 8, 512)\n",
      "data_sta.shape (15, 8, 512)\n",
      "data_x.shape: (120, 512, 1)\n"
     ]
    },
    {
     "name": "stderr",
     "output_type": "stream",
     "text": [
      "<ipython-input-4-6623eb51b1f6>:73: RuntimeWarning: This filename (E:\\jupyter file\\EEG_process\\SE_train_processed\\Z杜娇20220325（未发作）_bias_2.fif) does not conform to MNE naming conventions. All raw files should end with raw.fif, raw_sss.fif, raw_tsss.fif, _meg.fif, _eeg.fif, _ieeg.fif, raw.fif.gz, raw_sss.fif.gz, raw_tsss.fif.gz, _meg.fif.gz, _eeg.fif.gz or _ieeg.fif.gz\n",
      "  custom_raw.save(save_path,overwrite=True)\n",
      "<ipython-input-4-6623eb51b1f6>:2: RuntimeWarning: This filename (../SE_train\\Z杜娇20220325（未发作）_bias_4.fif) does not conform to MNE naming conventions. All raw files should end with raw.fif, raw_sss.fif, raw_tsss.fif, _meg.fif, _eeg.fif, _ieeg.fif, raw.fif.gz, raw_sss.fif.gz, raw_tsss.fif.gz, _meg.fif.gz, _eeg.fif.gz or _ieeg.fif.gz\n",
      "  raw = read_raw_fif(file_path)\n"
     ]
    },
    {
     "name": "stdout",
     "output_type": "stream",
     "text": [
      "pred_channel.shape (15, 4096)\n",
      "Creating RawArray with float64 data, n_channels=15, n_times=4096\n",
      "    Range : 0 ... 4095 =      0.000 ...    15.996 secs\n",
      "Ready.\n",
      "Writing E:\\jupyter file\\EEG_process\\SE_train_processed\\Z杜娇20220325（未发作）_bias_4.fif\n",
      "Closing E:\\jupyter file\\EEG_process\\SE_train_processed\\Z杜娇20220325（未发作）_bias_4.fif\n",
      "[done]\n",
      "../SE_train_processed/Z杜娇20220325（未发作）_bias_6.fif\n",
      "Opening raw data file ../SE_train\\Z杜娇20220325（未发作）_bias_6.fif...\n",
      "Isotrak not found\n",
      "    Range : 98985 ... 115369 =     96.665 ...   112.665 secs\n",
      "Ready.\n",
      "data_256.shape (15, 4096)\n",
      "data_256_samples.shape (15, 8, 512)\n",
      "data_sta.shape (15, 8, 512)\n",
      "data_x.shape: (120, 512, 1)\n"
     ]
    },
    {
     "name": "stderr",
     "output_type": "stream",
     "text": [
      "<ipython-input-4-6623eb51b1f6>:73: RuntimeWarning: This filename (E:\\jupyter file\\EEG_process\\SE_train_processed\\Z杜娇20220325（未发作）_bias_4.fif) does not conform to MNE naming conventions. All raw files should end with raw.fif, raw_sss.fif, raw_tsss.fif, _meg.fif, _eeg.fif, _ieeg.fif, raw.fif.gz, raw_sss.fif.gz, raw_tsss.fif.gz, _meg.fif.gz, _eeg.fif.gz or _ieeg.fif.gz\n",
      "  custom_raw.save(save_path,overwrite=True)\n",
      "<ipython-input-4-6623eb51b1f6>:2: RuntimeWarning: This filename (../SE_train\\Z杜娇20220325（未发作）_bias_6.fif) does not conform to MNE naming conventions. All raw files should end with raw.fif, raw_sss.fif, raw_tsss.fif, _meg.fif, _eeg.fif, _ieeg.fif, raw.fif.gz, raw_sss.fif.gz, raw_tsss.fif.gz, _meg.fif.gz, _eeg.fif.gz or _ieeg.fif.gz\n",
      "  raw = read_raw_fif(file_path)\n"
     ]
    },
    {
     "name": "stdout",
     "output_type": "stream",
     "text": [
      "pred_channel.shape (15, 4096)\n",
      "Creating RawArray with float64 data, n_channels=15, n_times=4096\n",
      "    Range : 0 ... 4095 =      0.000 ...    15.996 secs\n",
      "Ready.\n",
      "Writing E:\\jupyter file\\EEG_process\\SE_train_processed\\Z杜娇20220325（未发作）_bias_6.fif\n",
      "Closing E:\\jupyter file\\EEG_process\\SE_train_processed\\Z杜娇20220325（未发作）_bias_6.fif\n",
      "[done]\n",
      "../SE_train_processed/Z林儒波20220323（未发作）_bias_0.fif\n",
      "Opening raw data file ../SE_train\\Z林儒波20220323（未发作）_bias_0.fif...\n",
      "Isotrak not found\n",
      "    Range : 467832 ... 484216 =    456.867 ...   472.867 secs\n",
      "Ready.\n",
      "data_256.shape (15, 4096)\n",
      "data_256_samples.shape (15, 8, 512)\n",
      "data_sta.shape (15, 8, 512)\n",
      "data_x.shape: (120, 512, 1)\n"
     ]
    },
    {
     "name": "stderr",
     "output_type": "stream",
     "text": [
      "<ipython-input-4-6623eb51b1f6>:73: RuntimeWarning: This filename (E:\\jupyter file\\EEG_process\\SE_train_processed\\Z杜娇20220325（未发作）_bias_6.fif) does not conform to MNE naming conventions. All raw files should end with raw.fif, raw_sss.fif, raw_tsss.fif, _meg.fif, _eeg.fif, _ieeg.fif, raw.fif.gz, raw_sss.fif.gz, raw_tsss.fif.gz, _meg.fif.gz, _eeg.fif.gz or _ieeg.fif.gz\n",
      "  custom_raw.save(save_path,overwrite=True)\n",
      "<ipython-input-4-6623eb51b1f6>:2: RuntimeWarning: This filename (../SE_train\\Z林儒波20220323（未发作）_bias_0.fif) does not conform to MNE naming conventions. All raw files should end with raw.fif, raw_sss.fif, raw_tsss.fif, _meg.fif, _eeg.fif, _ieeg.fif, raw.fif.gz, raw_sss.fif.gz, raw_tsss.fif.gz, _meg.fif.gz, _eeg.fif.gz or _ieeg.fif.gz\n",
      "  raw = read_raw_fif(file_path)\n"
     ]
    },
    {
     "name": "stdout",
     "output_type": "stream",
     "text": [
      "pred_channel.shape (15, 4096)\n",
      "Creating RawArray with float64 data, n_channels=15, n_times=4096\n",
      "    Range : 0 ... 4095 =      0.000 ...    15.996 secs\n",
      "Ready.\n",
      "Writing E:\\jupyter file\\EEG_process\\SE_train_processed\\Z林儒波20220323（未发作）_bias_0.fif\n",
      "Closing E:\\jupyter file\\EEG_process\\SE_train_processed\\Z林儒波20220323（未发作）_bias_0.fif\n",
      "[done]\n",
      "../SE_train_processed/Z林儒波20220323（未发作）_bias_2.fif\n",
      "Opening raw data file ../SE_train\\Z林儒波20220323（未发作）_bias_2.fif...\n",
      "Isotrak not found\n",
      "    Range : 469880 ... 486264 =    458.867 ...   474.867 secs\n",
      "Ready.\n",
      "data_256.shape (15, 4096)\n",
      "data_256_samples.shape (15, 8, 512)\n",
      "data_sta.shape (15, 8, 512)\n",
      "data_x.shape: (120, 512, 1)\n"
     ]
    },
    {
     "name": "stderr",
     "output_type": "stream",
     "text": [
      "<ipython-input-4-6623eb51b1f6>:73: RuntimeWarning: This filename (E:\\jupyter file\\EEG_process\\SE_train_processed\\Z林儒波20220323（未发作）_bias_0.fif) does not conform to MNE naming conventions. All raw files should end with raw.fif, raw_sss.fif, raw_tsss.fif, _meg.fif, _eeg.fif, _ieeg.fif, raw.fif.gz, raw_sss.fif.gz, raw_tsss.fif.gz, _meg.fif.gz, _eeg.fif.gz or _ieeg.fif.gz\n",
      "  custom_raw.save(save_path,overwrite=True)\n",
      "<ipython-input-4-6623eb51b1f6>:2: RuntimeWarning: This filename (../SE_train\\Z林儒波20220323（未发作）_bias_2.fif) does not conform to MNE naming conventions. All raw files should end with raw.fif, raw_sss.fif, raw_tsss.fif, _meg.fif, _eeg.fif, _ieeg.fif, raw.fif.gz, raw_sss.fif.gz, raw_tsss.fif.gz, _meg.fif.gz, _eeg.fif.gz or _ieeg.fif.gz\n",
      "  raw = read_raw_fif(file_path)\n"
     ]
    },
    {
     "name": "stdout",
     "output_type": "stream",
     "text": [
      "pred_channel.shape (15, 4096)\n",
      "Creating RawArray with float64 data, n_channels=15, n_times=4096\n",
      "    Range : 0 ... 4095 =      0.000 ...    15.996 secs\n",
      "Ready.\n",
      "Writing E:\\jupyter file\\EEG_process\\SE_train_processed\\Z林儒波20220323（未发作）_bias_2.fif\n",
      "Closing E:\\jupyter file\\EEG_process\\SE_train_processed\\Z林儒波20220323（未发作）_bias_2.fif\n",
      "[done]\n",
      "../SE_train_processed/Z林儒波20220323（未发作）_bias_4.fif\n",
      "Opening raw data file ../SE_train\\Z林儒波20220323（未发作）_bias_4.fif...\n",
      "Isotrak not found\n",
      "    Range : 471928 ... 488312 =    460.867 ...   476.867 secs\n",
      "Ready.\n",
      "data_256.shape (15, 4096)\n",
      "data_256_samples.shape (15, 8, 512)\n",
      "data_sta.shape (15, 8, 512)\n",
      "data_x.shape: (120, 512, 1)\n"
     ]
    },
    {
     "name": "stderr",
     "output_type": "stream",
     "text": [
      "<ipython-input-4-6623eb51b1f6>:73: RuntimeWarning: This filename (E:\\jupyter file\\EEG_process\\SE_train_processed\\Z林儒波20220323（未发作）_bias_2.fif) does not conform to MNE naming conventions. All raw files should end with raw.fif, raw_sss.fif, raw_tsss.fif, _meg.fif, _eeg.fif, _ieeg.fif, raw.fif.gz, raw_sss.fif.gz, raw_tsss.fif.gz, _meg.fif.gz, _eeg.fif.gz or _ieeg.fif.gz\n",
      "  custom_raw.save(save_path,overwrite=True)\n",
      "<ipython-input-4-6623eb51b1f6>:2: RuntimeWarning: This filename (../SE_train\\Z林儒波20220323（未发作）_bias_4.fif) does not conform to MNE naming conventions. All raw files should end with raw.fif, raw_sss.fif, raw_tsss.fif, _meg.fif, _eeg.fif, _ieeg.fif, raw.fif.gz, raw_sss.fif.gz, raw_tsss.fif.gz, _meg.fif.gz, _eeg.fif.gz or _ieeg.fif.gz\n",
      "  raw = read_raw_fif(file_path)\n"
     ]
    },
    {
     "name": "stdout",
     "output_type": "stream",
     "text": [
      "pred_channel.shape (15, 4096)\n",
      "Creating RawArray with float64 data, n_channels=15, n_times=4096\n",
      "    Range : 0 ... 4095 =      0.000 ...    15.996 secs\n",
      "Ready.\n",
      "Writing E:\\jupyter file\\EEG_process\\SE_train_processed\\Z林儒波20220323（未发作）_bias_4.fif\n",
      "Closing E:\\jupyter file\\EEG_process\\SE_train_processed\\Z林儒波20220323（未发作）_bias_4.fif\n",
      "[done]\n",
      "../SE_train_processed/Z林儒波20220323（未发作）_bias_6.fif\n",
      "Opening raw data file ../SE_train\\Z林儒波20220323（未发作）_bias_6.fif...\n",
      "Isotrak not found\n",
      "    Range : 473976 ... 490360 =    462.867 ...   478.867 secs\n",
      "Ready.\n",
      "data_256.shape (15, 4096)\n",
      "data_256_samples.shape (15, 8, 512)\n",
      "data_sta.shape (15, 8, 512)\n",
      "data_x.shape: (120, 512, 1)\n"
     ]
    },
    {
     "name": "stderr",
     "output_type": "stream",
     "text": [
      "<ipython-input-4-6623eb51b1f6>:73: RuntimeWarning: This filename (E:\\jupyter file\\EEG_process\\SE_train_processed\\Z林儒波20220323（未发作）_bias_4.fif) does not conform to MNE naming conventions. All raw files should end with raw.fif, raw_sss.fif, raw_tsss.fif, _meg.fif, _eeg.fif, _ieeg.fif, raw.fif.gz, raw_sss.fif.gz, raw_tsss.fif.gz, _meg.fif.gz, _eeg.fif.gz or _ieeg.fif.gz\n",
      "  custom_raw.save(save_path,overwrite=True)\n",
      "<ipython-input-4-6623eb51b1f6>:2: RuntimeWarning: This filename (../SE_train\\Z林儒波20220323（未发作）_bias_6.fif) does not conform to MNE naming conventions. All raw files should end with raw.fif, raw_sss.fif, raw_tsss.fif, _meg.fif, _eeg.fif, _ieeg.fif, raw.fif.gz, raw_sss.fif.gz, raw_tsss.fif.gz, _meg.fif.gz, _eeg.fif.gz or _ieeg.fif.gz\n",
      "  raw = read_raw_fif(file_path)\n"
     ]
    },
    {
     "name": "stdout",
     "output_type": "stream",
     "text": [
      "pred_channel.shape (15, 4096)\n",
      "Creating RawArray with float64 data, n_channels=15, n_times=4096\n",
      "    Range : 0 ... 4095 =      0.000 ...    15.996 secs\n",
      "Ready.\n",
      "Writing E:\\jupyter file\\EEG_process\\SE_train_processed\\Z林儒波20220323（未发作）_bias_6.fif\n",
      "Closing E:\\jupyter file\\EEG_process\\SE_train_processed\\Z林儒波20220323（未发作）_bias_6.fif\n",
      "[done]\n",
      "../SE_train_processed/Z林儒波20220325_bias_0.fif\n",
      "Opening raw data file ../SE_train\\Z林儒波20220325_bias_0.fif...\n",
      "Isotrak not found\n",
      "    Range : 27199 ... 43583 =     26.562 ...    42.562 secs\n",
      "Ready.\n",
      "data_256.shape (15, 4096)\n",
      "data_256_samples.shape (15, 8, 512)\n",
      "data_sta.shape (15, 8, 512)\n",
      "data_x.shape: (120, 512, 1)\n"
     ]
    },
    {
     "name": "stderr",
     "output_type": "stream",
     "text": [
      "<ipython-input-4-6623eb51b1f6>:73: RuntimeWarning: This filename (E:\\jupyter file\\EEG_process\\SE_train_processed\\Z林儒波20220323（未发作）_bias_6.fif) does not conform to MNE naming conventions. All raw files should end with raw.fif, raw_sss.fif, raw_tsss.fif, _meg.fif, _eeg.fif, _ieeg.fif, raw.fif.gz, raw_sss.fif.gz, raw_tsss.fif.gz, _meg.fif.gz, _eeg.fif.gz or _ieeg.fif.gz\n",
      "  custom_raw.save(save_path,overwrite=True)\n",
      "<ipython-input-4-6623eb51b1f6>:2: RuntimeWarning: This filename (../SE_train\\Z林儒波20220325_bias_0.fif) does not conform to MNE naming conventions. All raw files should end with raw.fif, raw_sss.fif, raw_tsss.fif, _meg.fif, _eeg.fif, _ieeg.fif, raw.fif.gz, raw_sss.fif.gz, raw_tsss.fif.gz, _meg.fif.gz, _eeg.fif.gz or _ieeg.fif.gz\n",
      "  raw = read_raw_fif(file_path)\n"
     ]
    },
    {
     "name": "stdout",
     "output_type": "stream",
     "text": [
      "pred_channel.shape (15, 4096)\n",
      "Creating RawArray with float64 data, n_channels=15, n_times=4096\n",
      "    Range : 0 ... 4095 =      0.000 ...    15.996 secs\n",
      "Ready.\n",
      "Writing E:\\jupyter file\\EEG_process\\SE_train_processed\\Z林儒波20220325_bias_0.fif\n",
      "Closing E:\\jupyter file\\EEG_process\\SE_train_processed\\Z林儒波20220325_bias_0.fif\n",
      "[done]\n",
      "../SE_train_processed/Z林儒波20220328（未发作）_bias_0.fif\n",
      "Opening raw data file ../SE_train\\Z林儒波20220328（未发作）_bias_0.fif...\n",
      "Isotrak not found\n",
      "    Range : 4054 ... 20438 =      3.959 ...    19.959 secs\n",
      "Ready.\n",
      "data_256.shape (15, 4096)\n",
      "data_256_samples.shape (15, 8, 512)\n",
      "data_sta.shape (15, 8, 512)\n",
      "data_x.shape: (120, 512, 1)\n"
     ]
    },
    {
     "name": "stderr",
     "output_type": "stream",
     "text": [
      "<ipython-input-4-6623eb51b1f6>:73: RuntimeWarning: This filename (E:\\jupyter file\\EEG_process\\SE_train_processed\\Z林儒波20220325_bias_0.fif) does not conform to MNE naming conventions. All raw files should end with raw.fif, raw_sss.fif, raw_tsss.fif, _meg.fif, _eeg.fif, _ieeg.fif, raw.fif.gz, raw_sss.fif.gz, raw_tsss.fif.gz, _meg.fif.gz, _eeg.fif.gz or _ieeg.fif.gz\n",
      "  custom_raw.save(save_path,overwrite=True)\n",
      "<ipython-input-4-6623eb51b1f6>:2: RuntimeWarning: This filename (../SE_train\\Z林儒波20220328（未发作）_bias_0.fif) does not conform to MNE naming conventions. All raw files should end with raw.fif, raw_sss.fif, raw_tsss.fif, _meg.fif, _eeg.fif, _ieeg.fif, raw.fif.gz, raw_sss.fif.gz, raw_tsss.fif.gz, _meg.fif.gz, _eeg.fif.gz or _ieeg.fif.gz\n",
      "  raw = read_raw_fif(file_path)\n"
     ]
    },
    {
     "name": "stdout",
     "output_type": "stream",
     "text": [
      "pred_channel.shape (15, 4096)\n",
      "Creating RawArray with float64 data, n_channels=15, n_times=4096\n",
      "    Range : 0 ... 4095 =      0.000 ...    15.996 secs\n",
      "Ready.\n",
      "Writing E:\\jupyter file\\EEG_process\\SE_train_processed\\Z林儒波20220328（未发作）_bias_0.fif\n",
      "Closing E:\\jupyter file\\EEG_process\\SE_train_processed\\Z林儒波20220328（未发作）_bias_0.fif\n",
      "[done]\n",
      "../SE_train_processed/Z林儒波20220328（未发作）_bias_2.fif\n",
      "Opening raw data file ../SE_train\\Z林儒波20220328（未发作）_bias_2.fif...\n",
      "Isotrak not found\n",
      "    Range : 6102 ... 22486 =      5.959 ...    21.959 secs\n",
      "Ready.\n",
      "data_256.shape (15, 4096)\n",
      "data_256_samples.shape (15, 8, 512)\n",
      "data_sta.shape (15, 8, 512)\n",
      "data_x.shape: (120, 512, 1)\n"
     ]
    },
    {
     "name": "stderr",
     "output_type": "stream",
     "text": [
      "<ipython-input-4-6623eb51b1f6>:73: RuntimeWarning: This filename (E:\\jupyter file\\EEG_process\\SE_train_processed\\Z林儒波20220328（未发作）_bias_0.fif) does not conform to MNE naming conventions. All raw files should end with raw.fif, raw_sss.fif, raw_tsss.fif, _meg.fif, _eeg.fif, _ieeg.fif, raw.fif.gz, raw_sss.fif.gz, raw_tsss.fif.gz, _meg.fif.gz, _eeg.fif.gz or _ieeg.fif.gz\n",
      "  custom_raw.save(save_path,overwrite=True)\n",
      "<ipython-input-4-6623eb51b1f6>:2: RuntimeWarning: This filename (../SE_train\\Z林儒波20220328（未发作）_bias_2.fif) does not conform to MNE naming conventions. All raw files should end with raw.fif, raw_sss.fif, raw_tsss.fif, _meg.fif, _eeg.fif, _ieeg.fif, raw.fif.gz, raw_sss.fif.gz, raw_tsss.fif.gz, _meg.fif.gz, _eeg.fif.gz or _ieeg.fif.gz\n",
      "  raw = read_raw_fif(file_path)\n"
     ]
    },
    {
     "name": "stdout",
     "output_type": "stream",
     "text": [
      "pred_channel.shape (15, 4096)\n",
      "Creating RawArray with float64 data, n_channels=15, n_times=4096\n",
      "    Range : 0 ... 4095 =      0.000 ...    15.996 secs\n",
      "Ready.\n",
      "Writing E:\\jupyter file\\EEG_process\\SE_train_processed\\Z林儒波20220328（未发作）_bias_2.fif\n",
      "Closing E:\\jupyter file\\EEG_process\\SE_train_processed\\Z林儒波20220328（未发作）_bias_2.fif\n",
      "[done]\n",
      "../SE_train_processed/Z林儒波20220328（未发作）_bias_4.fif\n",
      "Opening raw data file ../SE_train\\Z林儒波20220328（未发作）_bias_4.fif...\n",
      "Isotrak not found\n",
      "    Range : 8150 ... 24534 =      7.959 ...    23.959 secs\n",
      "Ready.\n",
      "data_256.shape (15, 4096)\n",
      "data_256_samples.shape (15, 8, 512)\n",
      "data_sta.shape (15, 8, 512)\n",
      "data_x.shape: (120, 512, 1)\n"
     ]
    },
    {
     "name": "stderr",
     "output_type": "stream",
     "text": [
      "<ipython-input-4-6623eb51b1f6>:73: RuntimeWarning: This filename (E:\\jupyter file\\EEG_process\\SE_train_processed\\Z林儒波20220328（未发作）_bias_2.fif) does not conform to MNE naming conventions. All raw files should end with raw.fif, raw_sss.fif, raw_tsss.fif, _meg.fif, _eeg.fif, _ieeg.fif, raw.fif.gz, raw_sss.fif.gz, raw_tsss.fif.gz, _meg.fif.gz, _eeg.fif.gz or _ieeg.fif.gz\n",
      "  custom_raw.save(save_path,overwrite=True)\n",
      "<ipython-input-4-6623eb51b1f6>:2: RuntimeWarning: This filename (../SE_train\\Z林儒波20220328（未发作）_bias_4.fif) does not conform to MNE naming conventions. All raw files should end with raw.fif, raw_sss.fif, raw_tsss.fif, _meg.fif, _eeg.fif, _ieeg.fif, raw.fif.gz, raw_sss.fif.gz, raw_tsss.fif.gz, _meg.fif.gz, _eeg.fif.gz or _ieeg.fif.gz\n",
      "  raw = read_raw_fif(file_path)\n"
     ]
    },
    {
     "name": "stdout",
     "output_type": "stream",
     "text": [
      "pred_channel.shape (15, 4096)\n",
      "Creating RawArray with float64 data, n_channels=15, n_times=4096\n",
      "    Range : 0 ... 4095 =      0.000 ...    15.996 secs\n",
      "Ready.\n",
      "Writing E:\\jupyter file\\EEG_process\\SE_train_processed\\Z林儒波20220328（未发作）_bias_4.fif\n",
      "Closing E:\\jupyter file\\EEG_process\\SE_train_processed\\Z林儒波20220328（未发作）_bias_4.fif\n",
      "[done]\n",
      "../SE_train_processed/Z林儒波20220328（未发作）_bias_6.fif\n",
      "Opening raw data file ../SE_train\\Z林儒波20220328（未发作）_bias_6.fif...\n",
      "Isotrak not found\n",
      "    Range : 10198 ... 26582 =      9.959 ...    25.959 secs\n",
      "Ready.\n",
      "data_256.shape (15, 4096)\n",
      "data_256_samples.shape (15, 8, 512)\n",
      "data_sta.shape (15, 8, 512)\n",
      "data_x.shape: (120, 512, 1)\n"
     ]
    },
    {
     "name": "stderr",
     "output_type": "stream",
     "text": [
      "<ipython-input-4-6623eb51b1f6>:73: RuntimeWarning: This filename (E:\\jupyter file\\EEG_process\\SE_train_processed\\Z林儒波20220328（未发作）_bias_4.fif) does not conform to MNE naming conventions. All raw files should end with raw.fif, raw_sss.fif, raw_tsss.fif, _meg.fif, _eeg.fif, _ieeg.fif, raw.fif.gz, raw_sss.fif.gz, raw_tsss.fif.gz, _meg.fif.gz, _eeg.fif.gz or _ieeg.fif.gz\n",
      "  custom_raw.save(save_path,overwrite=True)\n",
      "<ipython-input-4-6623eb51b1f6>:2: RuntimeWarning: This filename (../SE_train\\Z林儒波20220328（未发作）_bias_6.fif) does not conform to MNE naming conventions. All raw files should end with raw.fif, raw_sss.fif, raw_tsss.fif, _meg.fif, _eeg.fif, _ieeg.fif, raw.fif.gz, raw_sss.fif.gz, raw_tsss.fif.gz, _meg.fif.gz, _eeg.fif.gz or _ieeg.fif.gz\n",
      "  raw = read_raw_fif(file_path)\n"
     ]
    },
    {
     "name": "stdout",
     "output_type": "stream",
     "text": [
      "pred_channel.shape (15, 4096)\n",
      "Creating RawArray with float64 data, n_channels=15, n_times=4096\n",
      "    Range : 0 ... 4095 =      0.000 ...    15.996 secs\n",
      "Ready.\n",
      "Writing E:\\jupyter file\\EEG_process\\SE_train_processed\\Z林儒波20220328（未发作）_bias_6.fif\n",
      "Closing E:\\jupyter file\\EEG_process\\SE_train_processed\\Z林儒波20220328（未发作）_bias_6.fif\n",
      "[done]\n",
      "../SE_train_processed/Z林儒波20220330_bias_0.fif\n",
      "Opening raw data file ../SE_train\\Z林儒波20220330_bias_0.fif...\n",
      "Isotrak not found\n",
      "    Range : 281289 ... 297673 =    274.696 ...   290.696 secs\n",
      "Ready.\n",
      "data_256.shape (15, 4096)\n",
      "data_256_samples.shape (15, 8, 512)\n",
      "data_sta.shape (15, 8, 512)\n",
      "data_x.shape: (120, 512, 1)\n"
     ]
    },
    {
     "name": "stderr",
     "output_type": "stream",
     "text": [
      "<ipython-input-4-6623eb51b1f6>:73: RuntimeWarning: This filename (E:\\jupyter file\\EEG_process\\SE_train_processed\\Z林儒波20220328（未发作）_bias_6.fif) does not conform to MNE naming conventions. All raw files should end with raw.fif, raw_sss.fif, raw_tsss.fif, _meg.fif, _eeg.fif, _ieeg.fif, raw.fif.gz, raw_sss.fif.gz, raw_tsss.fif.gz, _meg.fif.gz, _eeg.fif.gz or _ieeg.fif.gz\n",
      "  custom_raw.save(save_path,overwrite=True)\n",
      "<ipython-input-4-6623eb51b1f6>:2: RuntimeWarning: This filename (../SE_train\\Z林儒波20220330_bias_0.fif) does not conform to MNE naming conventions. All raw files should end with raw.fif, raw_sss.fif, raw_tsss.fif, _meg.fif, _eeg.fif, _ieeg.fif, raw.fif.gz, raw_sss.fif.gz, raw_tsss.fif.gz, _meg.fif.gz, _eeg.fif.gz or _ieeg.fif.gz\n",
      "  raw = read_raw_fif(file_path)\n"
     ]
    },
    {
     "name": "stdout",
     "output_type": "stream",
     "text": [
      "pred_channel.shape (15, 4096)\n",
      "Creating RawArray with float64 data, n_channels=15, n_times=4096\n",
      "    Range : 0 ... 4095 =      0.000 ...    15.996 secs\n",
      "Ready.\n",
      "Writing E:\\jupyter file\\EEG_process\\SE_train_processed\\Z林儒波20220330_bias_0.fif\n",
      "Closing E:\\jupyter file\\EEG_process\\SE_train_processed\\Z林儒波20220330_bias_0.fif\n",
      "[done]\n",
      "../SE_train_processed/Z林攀攀20220223（未发作）_bias_0.fif\n",
      "Opening raw data file ../SE_train\\Z林攀攀20220223（未发作）_bias_0.fif...\n",
      "Isotrak not found\n",
      "    Range : 83008 ... 99392 =     81.062 ...    97.062 secs\n",
      "Ready.\n",
      "data_256.shape (15, 4096)\n",
      "data_256_samples.shape (15, 8, 512)\n",
      "data_sta.shape (15, 8, 512)\n",
      "data_x.shape: (120, 512, 1)\n"
     ]
    },
    {
     "name": "stderr",
     "output_type": "stream",
     "text": [
      "<ipython-input-4-6623eb51b1f6>:73: RuntimeWarning: This filename (E:\\jupyter file\\EEG_process\\SE_train_processed\\Z林儒波20220330_bias_0.fif) does not conform to MNE naming conventions. All raw files should end with raw.fif, raw_sss.fif, raw_tsss.fif, _meg.fif, _eeg.fif, _ieeg.fif, raw.fif.gz, raw_sss.fif.gz, raw_tsss.fif.gz, _meg.fif.gz, _eeg.fif.gz or _ieeg.fif.gz\n",
      "  custom_raw.save(save_path,overwrite=True)\n",
      "<ipython-input-4-6623eb51b1f6>:2: RuntimeWarning: This filename (../SE_train\\Z林攀攀20220223（未发作）_bias_0.fif) does not conform to MNE naming conventions. All raw files should end with raw.fif, raw_sss.fif, raw_tsss.fif, _meg.fif, _eeg.fif, _ieeg.fif, raw.fif.gz, raw_sss.fif.gz, raw_tsss.fif.gz, _meg.fif.gz, _eeg.fif.gz or _ieeg.fif.gz\n",
      "  raw = read_raw_fif(file_path)\n"
     ]
    },
    {
     "name": "stdout",
     "output_type": "stream",
     "text": [
      "pred_channel.shape (15, 4096)\n",
      "Creating RawArray with float64 data, n_channels=15, n_times=4096\n",
      "    Range : 0 ... 4095 =      0.000 ...    15.996 secs\n",
      "Ready.\n",
      "Writing E:\\jupyter file\\EEG_process\\SE_train_processed\\Z林攀攀20220223（未发作）_bias_0.fif\n",
      "Closing E:\\jupyter file\\EEG_process\\SE_train_processed\\Z林攀攀20220223（未发作）_bias_0.fif\n",
      "[done]\n",
      "../SE_train_processed/Z林攀攀20220223（未发作）_bias_2.fif\n",
      "Opening raw data file ../SE_train\\Z林攀攀20220223（未发作）_bias_2.fif...\n",
      "Isotrak not found\n",
      "    Range : 85056 ... 101440 =     83.062 ...    99.062 secs\n",
      "Ready.\n",
      "data_256.shape (15, 4096)\n",
      "data_256_samples.shape (15, 8, 512)\n",
      "data_sta.shape (15, 8, 512)\n",
      "data_x.shape: (120, 512, 1)\n"
     ]
    },
    {
     "name": "stderr",
     "output_type": "stream",
     "text": [
      "<ipython-input-4-6623eb51b1f6>:73: RuntimeWarning: This filename (E:\\jupyter file\\EEG_process\\SE_train_processed\\Z林攀攀20220223（未发作）_bias_0.fif) does not conform to MNE naming conventions. All raw files should end with raw.fif, raw_sss.fif, raw_tsss.fif, _meg.fif, _eeg.fif, _ieeg.fif, raw.fif.gz, raw_sss.fif.gz, raw_tsss.fif.gz, _meg.fif.gz, _eeg.fif.gz or _ieeg.fif.gz\n",
      "  custom_raw.save(save_path,overwrite=True)\n",
      "<ipython-input-4-6623eb51b1f6>:2: RuntimeWarning: This filename (../SE_train\\Z林攀攀20220223（未发作）_bias_2.fif) does not conform to MNE naming conventions. All raw files should end with raw.fif, raw_sss.fif, raw_tsss.fif, _meg.fif, _eeg.fif, _ieeg.fif, raw.fif.gz, raw_sss.fif.gz, raw_tsss.fif.gz, _meg.fif.gz, _eeg.fif.gz or _ieeg.fif.gz\n",
      "  raw = read_raw_fif(file_path)\n"
     ]
    },
    {
     "name": "stdout",
     "output_type": "stream",
     "text": [
      "pred_channel.shape (15, 4096)\n",
      "Creating RawArray with float64 data, n_channels=15, n_times=4096\n",
      "    Range : 0 ... 4095 =      0.000 ...    15.996 secs\n",
      "Ready.\n",
      "Writing E:\\jupyter file\\EEG_process\\SE_train_processed\\Z林攀攀20220223（未发作）_bias_2.fif\n",
      "Closing E:\\jupyter file\\EEG_process\\SE_train_processed\\Z林攀攀20220223（未发作）_bias_2.fif\n",
      "[done]\n",
      "../SE_train_processed/Z林攀攀20220223（未发作）_bias_4.fif\n",
      "Opening raw data file ../SE_train\\Z林攀攀20220223（未发作）_bias_4.fif...\n",
      "Isotrak not found\n",
      "    Range : 87104 ... 103488 =     85.062 ...   101.062 secs\n",
      "Ready.\n",
      "data_256.shape (15, 4096)\n",
      "data_256_samples.shape (15, 8, 512)\n",
      "data_sta.shape (15, 8, 512)\n",
      "data_x.shape: (120, 512, 1)\n"
     ]
    },
    {
     "name": "stderr",
     "output_type": "stream",
     "text": [
      "<ipython-input-4-6623eb51b1f6>:73: RuntimeWarning: This filename (E:\\jupyter file\\EEG_process\\SE_train_processed\\Z林攀攀20220223（未发作）_bias_2.fif) does not conform to MNE naming conventions. All raw files should end with raw.fif, raw_sss.fif, raw_tsss.fif, _meg.fif, _eeg.fif, _ieeg.fif, raw.fif.gz, raw_sss.fif.gz, raw_tsss.fif.gz, _meg.fif.gz, _eeg.fif.gz or _ieeg.fif.gz\n",
      "  custom_raw.save(save_path,overwrite=True)\n",
      "<ipython-input-4-6623eb51b1f6>:2: RuntimeWarning: This filename (../SE_train\\Z林攀攀20220223（未发作）_bias_4.fif) does not conform to MNE naming conventions. All raw files should end with raw.fif, raw_sss.fif, raw_tsss.fif, _meg.fif, _eeg.fif, _ieeg.fif, raw.fif.gz, raw_sss.fif.gz, raw_tsss.fif.gz, _meg.fif.gz, _eeg.fif.gz or _ieeg.fif.gz\n",
      "  raw = read_raw_fif(file_path)\n"
     ]
    },
    {
     "name": "stdout",
     "output_type": "stream",
     "text": [
      "pred_channel.shape (15, 4096)\n",
      "Creating RawArray with float64 data, n_channels=15, n_times=4096\n",
      "    Range : 0 ... 4095 =      0.000 ...    15.996 secs\n",
      "Ready.\n",
      "Writing E:\\jupyter file\\EEG_process\\SE_train_processed\\Z林攀攀20220223（未发作）_bias_4.fif\n",
      "Closing E:\\jupyter file\\EEG_process\\SE_train_processed\\Z林攀攀20220223（未发作）_bias_4.fif\n",
      "[done]\n",
      "../SE_train_processed/Z林攀攀20220223（未发作）_bias_6.fif\n",
      "Opening raw data file ../SE_train\\Z林攀攀20220223（未发作）_bias_6.fif...\n",
      "Isotrak not found\n",
      "    Range : 89152 ... 105536 =     87.062 ...   103.062 secs\n",
      "Ready.\n",
      "data_256.shape (15, 4096)\n",
      "data_256_samples.shape (15, 8, 512)\n",
      "data_sta.shape (15, 8, 512)\n",
      "data_x.shape: (120, 512, 1)\n"
     ]
    },
    {
     "name": "stderr",
     "output_type": "stream",
     "text": [
      "<ipython-input-4-6623eb51b1f6>:73: RuntimeWarning: This filename (E:\\jupyter file\\EEG_process\\SE_train_processed\\Z林攀攀20220223（未发作）_bias_4.fif) does not conform to MNE naming conventions. All raw files should end with raw.fif, raw_sss.fif, raw_tsss.fif, _meg.fif, _eeg.fif, _ieeg.fif, raw.fif.gz, raw_sss.fif.gz, raw_tsss.fif.gz, _meg.fif.gz, _eeg.fif.gz or _ieeg.fif.gz\n",
      "  custom_raw.save(save_path,overwrite=True)\n",
      "<ipython-input-4-6623eb51b1f6>:2: RuntimeWarning: This filename (../SE_train\\Z林攀攀20220223（未发作）_bias_6.fif) does not conform to MNE naming conventions. All raw files should end with raw.fif, raw_sss.fif, raw_tsss.fif, _meg.fif, _eeg.fif, _ieeg.fif, raw.fif.gz, raw_sss.fif.gz, raw_tsss.fif.gz, _meg.fif.gz, _eeg.fif.gz or _ieeg.fif.gz\n",
      "  raw = read_raw_fif(file_path)\n"
     ]
    },
    {
     "name": "stdout",
     "output_type": "stream",
     "text": [
      "pred_channel.shape (15, 4096)\n",
      "Creating RawArray with float64 data, n_channels=15, n_times=4096\n",
      "    Range : 0 ... 4095 =      0.000 ...    15.996 secs\n",
      "Ready.\n",
      "Writing E:\\jupyter file\\EEG_process\\SE_train_processed\\Z林攀攀20220223（未发作）_bias_6.fif\n",
      "Closing E:\\jupyter file\\EEG_process\\SE_train_processed\\Z林攀攀20220223（未发作）_bias_6.fif\n",
      "[done]\n",
      "../SE_train_processed/Z林攀攀20220225（未发作）_bias_0.fif\n",
      "Opening raw data file ../SE_train\\Z林攀攀20220225（未发作）_bias_0.fif...\n",
      "Isotrak not found\n",
      "    Range : 13771 ... 30155 =     13.448 ...    29.448 secs\n",
      "Ready.\n",
      "data_256.shape (15, 4096)\n",
      "data_256_samples.shape (15, 8, 512)\n",
      "data_sta.shape (15, 8, 512)\n",
      "data_x.shape: (120, 512, 1)\n"
     ]
    },
    {
     "name": "stderr",
     "output_type": "stream",
     "text": [
      "<ipython-input-4-6623eb51b1f6>:73: RuntimeWarning: This filename (E:\\jupyter file\\EEG_process\\SE_train_processed\\Z林攀攀20220223（未发作）_bias_6.fif) does not conform to MNE naming conventions. All raw files should end with raw.fif, raw_sss.fif, raw_tsss.fif, _meg.fif, _eeg.fif, _ieeg.fif, raw.fif.gz, raw_sss.fif.gz, raw_tsss.fif.gz, _meg.fif.gz, _eeg.fif.gz or _ieeg.fif.gz\n",
      "  custom_raw.save(save_path,overwrite=True)\n",
      "<ipython-input-4-6623eb51b1f6>:2: RuntimeWarning: This filename (../SE_train\\Z林攀攀20220225（未发作）_bias_0.fif) does not conform to MNE naming conventions. All raw files should end with raw.fif, raw_sss.fif, raw_tsss.fif, _meg.fif, _eeg.fif, _ieeg.fif, raw.fif.gz, raw_sss.fif.gz, raw_tsss.fif.gz, _meg.fif.gz, _eeg.fif.gz or _ieeg.fif.gz\n",
      "  raw = read_raw_fif(file_path)\n"
     ]
    },
    {
     "name": "stdout",
     "output_type": "stream",
     "text": [
      "pred_channel.shape (15, 4096)\n",
      "Creating RawArray with float64 data, n_channels=15, n_times=4096\n",
      "    Range : 0 ... 4095 =      0.000 ...    15.996 secs\n",
      "Ready.\n",
      "Writing E:\\jupyter file\\EEG_process\\SE_train_processed\\Z林攀攀20220225（未发作）_bias_0.fif\n",
      "Closing E:\\jupyter file\\EEG_process\\SE_train_processed\\Z林攀攀20220225（未发作）_bias_0.fif\n",
      "[done]\n",
      "../SE_train_processed/Z林攀攀20220225（未发作）_bias_2.fif\n",
      "Opening raw data file ../SE_train\\Z林攀攀20220225（未发作）_bias_2.fif...\n",
      "Isotrak not found\n",
      "    Range : 15819 ... 32203 =     15.448 ...    31.448 secs\n",
      "Ready.\n",
      "data_256.shape (15, 4096)\n",
      "data_256_samples.shape (15, 8, 512)\n",
      "data_sta.shape (15, 8, 512)\n",
      "data_x.shape: (120, 512, 1)\n"
     ]
    },
    {
     "name": "stderr",
     "output_type": "stream",
     "text": [
      "<ipython-input-4-6623eb51b1f6>:73: RuntimeWarning: This filename (E:\\jupyter file\\EEG_process\\SE_train_processed\\Z林攀攀20220225（未发作）_bias_0.fif) does not conform to MNE naming conventions. All raw files should end with raw.fif, raw_sss.fif, raw_tsss.fif, _meg.fif, _eeg.fif, _ieeg.fif, raw.fif.gz, raw_sss.fif.gz, raw_tsss.fif.gz, _meg.fif.gz, _eeg.fif.gz or _ieeg.fif.gz\n",
      "  custom_raw.save(save_path,overwrite=True)\n",
      "<ipython-input-4-6623eb51b1f6>:2: RuntimeWarning: This filename (../SE_train\\Z林攀攀20220225（未发作）_bias_2.fif) does not conform to MNE naming conventions. All raw files should end with raw.fif, raw_sss.fif, raw_tsss.fif, _meg.fif, _eeg.fif, _ieeg.fif, raw.fif.gz, raw_sss.fif.gz, raw_tsss.fif.gz, _meg.fif.gz, _eeg.fif.gz or _ieeg.fif.gz\n",
      "  raw = read_raw_fif(file_path)\n"
     ]
    },
    {
     "name": "stdout",
     "output_type": "stream",
     "text": [
      "pred_channel.shape (15, 4096)\n",
      "Creating RawArray with float64 data, n_channels=15, n_times=4096\n",
      "    Range : 0 ... 4095 =      0.000 ...    15.996 secs\n",
      "Ready.\n",
      "Writing E:\\jupyter file\\EEG_process\\SE_train_processed\\Z林攀攀20220225（未发作）_bias_2.fif\n",
      "Closing E:\\jupyter file\\EEG_process\\SE_train_processed\\Z林攀攀20220225（未发作）_bias_2.fif\n",
      "[done]\n",
      "../SE_train_processed/Z林攀攀20220225（未发作）_bias_4.fif\n",
      "Opening raw data file ../SE_train\\Z林攀攀20220225（未发作）_bias_4.fif...\n",
      "Isotrak not found\n",
      "    Range : 17867 ... 34251 =     17.448 ...    33.448 secs\n",
      "Ready.\n",
      "data_256.shape (15, 4096)\n",
      "data_256_samples.shape (15, 8, 512)\n",
      "data_sta.shape (15, 8, 512)\n",
      "data_x.shape: (120, 512, 1)\n"
     ]
    },
    {
     "name": "stderr",
     "output_type": "stream",
     "text": [
      "<ipython-input-4-6623eb51b1f6>:73: RuntimeWarning: This filename (E:\\jupyter file\\EEG_process\\SE_train_processed\\Z林攀攀20220225（未发作）_bias_2.fif) does not conform to MNE naming conventions. All raw files should end with raw.fif, raw_sss.fif, raw_tsss.fif, _meg.fif, _eeg.fif, _ieeg.fif, raw.fif.gz, raw_sss.fif.gz, raw_tsss.fif.gz, _meg.fif.gz, _eeg.fif.gz or _ieeg.fif.gz\n",
      "  custom_raw.save(save_path,overwrite=True)\n",
      "<ipython-input-4-6623eb51b1f6>:2: RuntimeWarning: This filename (../SE_train\\Z林攀攀20220225（未发作）_bias_4.fif) does not conform to MNE naming conventions. All raw files should end with raw.fif, raw_sss.fif, raw_tsss.fif, _meg.fif, _eeg.fif, _ieeg.fif, raw.fif.gz, raw_sss.fif.gz, raw_tsss.fif.gz, _meg.fif.gz, _eeg.fif.gz or _ieeg.fif.gz\n",
      "  raw = read_raw_fif(file_path)\n"
     ]
    },
    {
     "name": "stdout",
     "output_type": "stream",
     "text": [
      "pred_channel.shape (15, 4096)\n",
      "Creating RawArray with float64 data, n_channels=15, n_times=4096\n",
      "    Range : 0 ... 4095 =      0.000 ...    15.996 secs\n",
      "Ready.\n",
      "Writing E:\\jupyter file\\EEG_process\\SE_train_processed\\Z林攀攀20220225（未发作）_bias_4.fif\n",
      "Closing E:\\jupyter file\\EEG_process\\SE_train_processed\\Z林攀攀20220225（未发作）_bias_4.fif\n",
      "[done]\n",
      "../SE_train_processed/Z林攀攀20220225（未发作）_bias_6.fif\n",
      "Opening raw data file ../SE_train\\Z林攀攀20220225（未发作）_bias_6.fif...\n",
      "Isotrak not found\n",
      "    Range : 19915 ... 36299 =     19.448 ...    35.448 secs\n",
      "Ready.\n",
      "data_256.shape (15, 4096)\n",
      "data_256_samples.shape (15, 8, 512)\n",
      "data_sta.shape (15, 8, 512)\n",
      "data_x.shape: (120, 512, 1)\n"
     ]
    },
    {
     "name": "stderr",
     "output_type": "stream",
     "text": [
      "<ipython-input-4-6623eb51b1f6>:73: RuntimeWarning: This filename (E:\\jupyter file\\EEG_process\\SE_train_processed\\Z林攀攀20220225（未发作）_bias_4.fif) does not conform to MNE naming conventions. All raw files should end with raw.fif, raw_sss.fif, raw_tsss.fif, _meg.fif, _eeg.fif, _ieeg.fif, raw.fif.gz, raw_sss.fif.gz, raw_tsss.fif.gz, _meg.fif.gz, _eeg.fif.gz or _ieeg.fif.gz\n",
      "  custom_raw.save(save_path,overwrite=True)\n",
      "<ipython-input-4-6623eb51b1f6>:2: RuntimeWarning: This filename (../SE_train\\Z林攀攀20220225（未发作）_bias_6.fif) does not conform to MNE naming conventions. All raw files should end with raw.fif, raw_sss.fif, raw_tsss.fif, _meg.fif, _eeg.fif, _ieeg.fif, raw.fif.gz, raw_sss.fif.gz, raw_tsss.fif.gz, _meg.fif.gz, _eeg.fif.gz or _ieeg.fif.gz\n",
      "  raw = read_raw_fif(file_path)\n"
     ]
    },
    {
     "name": "stdout",
     "output_type": "stream",
     "text": [
      "pred_channel.shape (15, 4096)\n",
      "Creating RawArray with float64 data, n_channels=15, n_times=4096\n",
      "    Range : 0 ... 4095 =      0.000 ...    15.996 secs\n",
      "Ready.\n",
      "Writing E:\\jupyter file\\EEG_process\\SE_train_processed\\Z林攀攀20220225（未发作）_bias_6.fif\n",
      "Closing E:\\jupyter file\\EEG_process\\SE_train_processed\\Z林攀攀20220225（未发作）_bias_6.fif\n",
      "[done]\n",
      "../SE_train_processed/Z林攀攀20220228_bias_0.fif\n",
      "Opening raw data file ../SE_train\\Z林攀攀20220228_bias_0.fif...\n",
      "Isotrak not found\n",
      "    Range : 38073 ... 54457 =     37.181 ...    53.181 secs\n",
      "Ready.\n",
      "data_256.shape (15, 4096)\n",
      "data_256_samples.shape (15, 8, 512)\n",
      "data_sta.shape (15, 8, 512)\n",
      "data_x.shape: (120, 512, 1)\n"
     ]
    },
    {
     "name": "stderr",
     "output_type": "stream",
     "text": [
      "<ipython-input-4-6623eb51b1f6>:73: RuntimeWarning: This filename (E:\\jupyter file\\EEG_process\\SE_train_processed\\Z林攀攀20220225（未发作）_bias_6.fif) does not conform to MNE naming conventions. All raw files should end with raw.fif, raw_sss.fif, raw_tsss.fif, _meg.fif, _eeg.fif, _ieeg.fif, raw.fif.gz, raw_sss.fif.gz, raw_tsss.fif.gz, _meg.fif.gz, _eeg.fif.gz or _ieeg.fif.gz\n",
      "  custom_raw.save(save_path,overwrite=True)\n",
      "<ipython-input-4-6623eb51b1f6>:2: RuntimeWarning: This filename (../SE_train\\Z林攀攀20220228_bias_0.fif) does not conform to MNE naming conventions. All raw files should end with raw.fif, raw_sss.fif, raw_tsss.fif, _meg.fif, _eeg.fif, _ieeg.fif, raw.fif.gz, raw_sss.fif.gz, raw_tsss.fif.gz, _meg.fif.gz, _eeg.fif.gz or _ieeg.fif.gz\n",
      "  raw = read_raw_fif(file_path)\n"
     ]
    },
    {
     "name": "stdout",
     "output_type": "stream",
     "text": [
      "pred_channel.shape (15, 4096)\n",
      "Creating RawArray with float64 data, n_channels=15, n_times=4096\n",
      "    Range : 0 ... 4095 =      0.000 ...    15.996 secs\n",
      "Ready.\n",
      "Writing E:\\jupyter file\\EEG_process\\SE_train_processed\\Z林攀攀20220228_bias_0.fif\n",
      "Closing E:\\jupyter file\\EEG_process\\SE_train_processed\\Z林攀攀20220228_bias_0.fif\n",
      "[done]\n",
      "../SE_train_processed/Z王宜凡20220318_bias_0.fif\n",
      "Opening raw data file ../SE_train\\Z王宜凡20220318_bias_0.fif...\n",
      "Isotrak not found\n",
      "    Range : 118132 ... 134516 =    115.363 ...   131.363 secs\n",
      "Ready.\n",
      "data_256.shape (15, 4096)\n",
      "data_256_samples.shape (15, 8, 512)\n",
      "data_sta.shape (15, 8, 512)\n",
      "data_x.shape: (120, 512, 1)\n"
     ]
    },
    {
     "name": "stderr",
     "output_type": "stream",
     "text": [
      "<ipython-input-4-6623eb51b1f6>:73: RuntimeWarning: This filename (E:\\jupyter file\\EEG_process\\SE_train_processed\\Z林攀攀20220228_bias_0.fif) does not conform to MNE naming conventions. All raw files should end with raw.fif, raw_sss.fif, raw_tsss.fif, _meg.fif, _eeg.fif, _ieeg.fif, raw.fif.gz, raw_sss.fif.gz, raw_tsss.fif.gz, _meg.fif.gz, _eeg.fif.gz or _ieeg.fif.gz\n",
      "  custom_raw.save(save_path,overwrite=True)\n",
      "<ipython-input-4-6623eb51b1f6>:2: RuntimeWarning: This filename (../SE_train\\Z王宜凡20220318_bias_0.fif) does not conform to MNE naming conventions. All raw files should end with raw.fif, raw_sss.fif, raw_tsss.fif, _meg.fif, _eeg.fif, _ieeg.fif, raw.fif.gz, raw_sss.fif.gz, raw_tsss.fif.gz, _meg.fif.gz, _eeg.fif.gz or _ieeg.fif.gz\n",
      "  raw = read_raw_fif(file_path)\n"
     ]
    },
    {
     "name": "stdout",
     "output_type": "stream",
     "text": [
      "pred_channel.shape (15, 4096)\n",
      "Creating RawArray with float64 data, n_channels=15, n_times=4096\n",
      "    Range : 0 ... 4095 =      0.000 ...    15.996 secs\n",
      "Ready.\n",
      "Writing E:\\jupyter file\\EEG_process\\SE_train_processed\\Z王宜凡20220318_bias_0.fif\n",
      "Closing E:\\jupyter file\\EEG_process\\SE_train_processed\\Z王宜凡20220318_bias_0.fif\n",
      "[done]\n",
      "../SE_train_processed/Z王宜凡20220321_bias_0.fif\n",
      "Opening raw data file ../SE_train\\Z王宜凡20220321_bias_0.fif...\n",
      "Isotrak not found\n",
      "    Range : 67221 ... 83605 =     65.646 ...    81.646 secs\n",
      "Ready.\n",
      "data_256.shape (15, 4096)\n",
      "data_256_samples.shape (15, 8, 512)\n",
      "data_sta.shape (15, 8, 512)\n",
      "data_x.shape: (120, 512, 1)\n"
     ]
    },
    {
     "name": "stderr",
     "output_type": "stream",
     "text": [
      "<ipython-input-4-6623eb51b1f6>:73: RuntimeWarning: This filename (E:\\jupyter file\\EEG_process\\SE_train_processed\\Z王宜凡20220318_bias_0.fif) does not conform to MNE naming conventions. All raw files should end with raw.fif, raw_sss.fif, raw_tsss.fif, _meg.fif, _eeg.fif, _ieeg.fif, raw.fif.gz, raw_sss.fif.gz, raw_tsss.fif.gz, _meg.fif.gz, _eeg.fif.gz or _ieeg.fif.gz\n",
      "  custom_raw.save(save_path,overwrite=True)\n",
      "<ipython-input-4-6623eb51b1f6>:2: RuntimeWarning: This filename (../SE_train\\Z王宜凡20220321_bias_0.fif) does not conform to MNE naming conventions. All raw files should end with raw.fif, raw_sss.fif, raw_tsss.fif, _meg.fif, _eeg.fif, _ieeg.fif, raw.fif.gz, raw_sss.fif.gz, raw_tsss.fif.gz, _meg.fif.gz, _eeg.fif.gz or _ieeg.fif.gz\n",
      "  raw = read_raw_fif(file_path)\n"
     ]
    },
    {
     "name": "stdout",
     "output_type": "stream",
     "text": [
      "pred_channel.shape (15, 4096)\n",
      "Creating RawArray with float64 data, n_channels=15, n_times=4096\n",
      "    Range : 0 ... 4095 =      0.000 ...    15.996 secs\n",
      "Ready.\n",
      "Writing E:\\jupyter file\\EEG_process\\SE_train_processed\\Z王宜凡20220321_bias_0.fif\n",
      "Closing E:\\jupyter file\\EEG_process\\SE_train_processed\\Z王宜凡20220321_bias_0.fif\n",
      "[done]\n",
      "../SE_train_processed/Z王宜凡20220323_bias_0.fif\n",
      "Opening raw data file ../SE_train\\Z王宜凡20220323_bias_0.fif...\n",
      "Isotrak not found\n",
      "    Range : 103436 ... 119820 =    101.012 ...   117.012 secs\n",
      "Ready.\n",
      "data_256.shape (15, 4096)\n",
      "data_256_samples.shape (15, 8, 512)\n",
      "data_sta.shape (15, 8, 512)\n",
      "data_x.shape: (120, 512, 1)\n"
     ]
    },
    {
     "name": "stderr",
     "output_type": "stream",
     "text": [
      "<ipython-input-4-6623eb51b1f6>:73: RuntimeWarning: This filename (E:\\jupyter file\\EEG_process\\SE_train_processed\\Z王宜凡20220321_bias_0.fif) does not conform to MNE naming conventions. All raw files should end with raw.fif, raw_sss.fif, raw_tsss.fif, _meg.fif, _eeg.fif, _ieeg.fif, raw.fif.gz, raw_sss.fif.gz, raw_tsss.fif.gz, _meg.fif.gz, _eeg.fif.gz or _ieeg.fif.gz\n",
      "  custom_raw.save(save_path,overwrite=True)\n",
      "<ipython-input-4-6623eb51b1f6>:2: RuntimeWarning: This filename (../SE_train\\Z王宜凡20220323_bias_0.fif) does not conform to MNE naming conventions. All raw files should end with raw.fif, raw_sss.fif, raw_tsss.fif, _meg.fif, _eeg.fif, _ieeg.fif, raw.fif.gz, raw_sss.fif.gz, raw_tsss.fif.gz, _meg.fif.gz, _eeg.fif.gz or _ieeg.fif.gz\n",
      "  raw = read_raw_fif(file_path)\n"
     ]
    },
    {
     "name": "stdout",
     "output_type": "stream",
     "text": [
      "pred_channel.shape (15, 4096)\n",
      "Creating RawArray with float64 data, n_channels=15, n_times=4096\n",
      "    Range : 0 ... 4095 =      0.000 ...    15.996 secs\n",
      "Ready.\n",
      "Writing E:\\jupyter file\\EEG_process\\SE_train_processed\\Z王宜凡20220323_bias_0.fif\n",
      "Closing E:\\jupyter file\\EEG_process\\SE_train_processed\\Z王宜凡20220323_bias_0.fif\n",
      "[done]\n",
      "../SE_train_processed/Z王宜凡20220325_bias_0.fif\n",
      "Opening raw data file ../SE_train\\Z王宜凡20220325_bias_0.fif...\n",
      "Isotrak not found\n",
      "    Range : 75082 ... 91466 =     73.322 ...    89.322 secs\n",
      "Ready.\n",
      "data_256.shape (15, 4096)\n",
      "data_256_samples.shape (15, 8, 512)\n",
      "data_sta.shape (15, 8, 512)\n",
      "data_x.shape: (120, 512, 1)\n"
     ]
    },
    {
     "name": "stderr",
     "output_type": "stream",
     "text": [
      "<ipython-input-4-6623eb51b1f6>:73: RuntimeWarning: This filename (E:\\jupyter file\\EEG_process\\SE_train_processed\\Z王宜凡20220323_bias_0.fif) does not conform to MNE naming conventions. All raw files should end with raw.fif, raw_sss.fif, raw_tsss.fif, _meg.fif, _eeg.fif, _ieeg.fif, raw.fif.gz, raw_sss.fif.gz, raw_tsss.fif.gz, _meg.fif.gz, _eeg.fif.gz or _ieeg.fif.gz\n",
      "  custom_raw.save(save_path,overwrite=True)\n",
      "<ipython-input-4-6623eb51b1f6>:2: RuntimeWarning: This filename (../SE_train\\Z王宜凡20220325_bias_0.fif) does not conform to MNE naming conventions. All raw files should end with raw.fif, raw_sss.fif, raw_tsss.fif, _meg.fif, _eeg.fif, _ieeg.fif, raw.fif.gz, raw_sss.fif.gz, raw_tsss.fif.gz, _meg.fif.gz, _eeg.fif.gz or _ieeg.fif.gz\n",
      "  raw = read_raw_fif(file_path)\n"
     ]
    },
    {
     "name": "stdout",
     "output_type": "stream",
     "text": [
      "pred_channel.shape (15, 4096)\n",
      "Creating RawArray with float64 data, n_channels=15, n_times=4096\n",
      "    Range : 0 ... 4095 =      0.000 ...    15.996 secs\n",
      "Ready.\n",
      "Writing E:\\jupyter file\\EEG_process\\SE_train_processed\\Z王宜凡20220325_bias_0.fif\n",
      "Closing E:\\jupyter file\\EEG_process\\SE_train_processed\\Z王宜凡20220325_bias_0.fif\n",
      "[done]\n",
      "../SE_train_processed/Z王纯刚20220321_bias_0.fif\n",
      "Opening raw data file ../SE_train\\Z王纯刚20220321_bias_0.fif...\n",
      "Isotrak not found\n",
      "    Range : 93782 ... 110166 =     91.584 ...   107.584 secs\n",
      "Ready.\n",
      "data_256.shape (15, 4096)\n",
      "data_256_samples.shape (15, 8, 512)\n",
      "data_sta.shape (15, 8, 512)\n",
      "data_x.shape: (120, 512, 1)\n"
     ]
    },
    {
     "name": "stderr",
     "output_type": "stream",
     "text": [
      "<ipython-input-4-6623eb51b1f6>:73: RuntimeWarning: This filename (E:\\jupyter file\\EEG_process\\SE_train_processed\\Z王宜凡20220325_bias_0.fif) does not conform to MNE naming conventions. All raw files should end with raw.fif, raw_sss.fif, raw_tsss.fif, _meg.fif, _eeg.fif, _ieeg.fif, raw.fif.gz, raw_sss.fif.gz, raw_tsss.fif.gz, _meg.fif.gz, _eeg.fif.gz or _ieeg.fif.gz\n",
      "  custom_raw.save(save_path,overwrite=True)\n",
      "<ipython-input-4-6623eb51b1f6>:2: RuntimeWarning: This filename (../SE_train\\Z王纯刚20220321_bias_0.fif) does not conform to MNE naming conventions. All raw files should end with raw.fif, raw_sss.fif, raw_tsss.fif, _meg.fif, _eeg.fif, _ieeg.fif, raw.fif.gz, raw_sss.fif.gz, raw_tsss.fif.gz, _meg.fif.gz, _eeg.fif.gz or _ieeg.fif.gz\n",
      "  raw = read_raw_fif(file_path)\n"
     ]
    },
    {
     "name": "stdout",
     "output_type": "stream",
     "text": [
      "pred_channel.shape (15, 4096)\n",
      "Creating RawArray with float64 data, n_channels=15, n_times=4096\n",
      "    Range : 0 ... 4095 =      0.000 ...    15.996 secs\n",
      "Ready.\n",
      "Writing E:\\jupyter file\\EEG_process\\SE_train_processed\\Z王纯刚20220321_bias_0.fif\n",
      "Closing E:\\jupyter file\\EEG_process\\SE_train_processed\\Z王纯刚20220321_bias_0.fif\n",
      "[done]\n",
      "../SE_train_processed/Z王纯刚20220323_bias_0.fif\n",
      "Opening raw data file ../SE_train\\Z王纯刚20220323_bias_0.fif...\n",
      "Isotrak not found\n",
      "    Range : 69018 ... 85402 =     67.400 ...    83.400 secs\n",
      "Ready.\n",
      "data_256.shape (15, 4096)\n",
      "data_256_samples.shape (15, 8, 512)\n",
      "data_sta.shape (15, 8, 512)\n",
      "data_x.shape: (120, 512, 1)\n"
     ]
    },
    {
     "name": "stderr",
     "output_type": "stream",
     "text": [
      "<ipython-input-4-6623eb51b1f6>:73: RuntimeWarning: This filename (E:\\jupyter file\\EEG_process\\SE_train_processed\\Z王纯刚20220321_bias_0.fif) does not conform to MNE naming conventions. All raw files should end with raw.fif, raw_sss.fif, raw_tsss.fif, _meg.fif, _eeg.fif, _ieeg.fif, raw.fif.gz, raw_sss.fif.gz, raw_tsss.fif.gz, _meg.fif.gz, _eeg.fif.gz or _ieeg.fif.gz\n",
      "  custom_raw.save(save_path,overwrite=True)\n",
      "<ipython-input-4-6623eb51b1f6>:2: RuntimeWarning: This filename (../SE_train\\Z王纯刚20220323_bias_0.fif) does not conform to MNE naming conventions. All raw files should end with raw.fif, raw_sss.fif, raw_tsss.fif, _meg.fif, _eeg.fif, _ieeg.fif, raw.fif.gz, raw_sss.fif.gz, raw_tsss.fif.gz, _meg.fif.gz, _eeg.fif.gz or _ieeg.fif.gz\n",
      "  raw = read_raw_fif(file_path)\n"
     ]
    },
    {
     "name": "stdout",
     "output_type": "stream",
     "text": [
      "pred_channel.shape (15, 4096)\n",
      "Creating RawArray with float64 data, n_channels=15, n_times=4096\n",
      "    Range : 0 ... 4095 =      0.000 ...    15.996 secs\n",
      "Ready.\n",
      "Writing E:\\jupyter file\\EEG_process\\SE_train_processed\\Z王纯刚20220323_bias_0.fif\n",
      "Closing E:\\jupyter file\\EEG_process\\SE_train_processed\\Z王纯刚20220323_bias_0.fif\n",
      "[done]\n",
      "../SE_train_processed/Z王纯刚20220325_bias_0.fif\n",
      "Opening raw data file ../SE_train\\Z王纯刚20220325_bias_0.fif...\n",
      "Isotrak not found\n",
      "    Range : 24319 ... 40703 =     23.749 ...    39.749 secs\n",
      "Ready.\n",
      "data_256.shape (15, 4096)\n",
      "data_256_samples.shape (15, 8, 512)\n",
      "data_sta.shape (15, 8, 512)\n",
      "data_x.shape: (120, 512, 1)\n"
     ]
    },
    {
     "name": "stderr",
     "output_type": "stream",
     "text": [
      "<ipython-input-4-6623eb51b1f6>:73: RuntimeWarning: This filename (E:\\jupyter file\\EEG_process\\SE_train_processed\\Z王纯刚20220323_bias_0.fif) does not conform to MNE naming conventions. All raw files should end with raw.fif, raw_sss.fif, raw_tsss.fif, _meg.fif, _eeg.fif, _ieeg.fif, raw.fif.gz, raw_sss.fif.gz, raw_tsss.fif.gz, _meg.fif.gz, _eeg.fif.gz or _ieeg.fif.gz\n",
      "  custom_raw.save(save_path,overwrite=True)\n",
      "<ipython-input-4-6623eb51b1f6>:2: RuntimeWarning: This filename (../SE_train\\Z王纯刚20220325_bias_0.fif) does not conform to MNE naming conventions. All raw files should end with raw.fif, raw_sss.fif, raw_tsss.fif, _meg.fif, _eeg.fif, _ieeg.fif, raw.fif.gz, raw_sss.fif.gz, raw_tsss.fif.gz, _meg.fif.gz, _eeg.fif.gz or _ieeg.fif.gz\n",
      "  raw = read_raw_fif(file_path)\n"
     ]
    },
    {
     "name": "stdout",
     "output_type": "stream",
     "text": [
      "pred_channel.shape (15, 4096)\n",
      "Creating RawArray with float64 data, n_channels=15, n_times=4096\n",
      "    Range : 0 ... 4095 =      0.000 ...    15.996 secs\n",
      "Ready.\n",
      "Writing E:\\jupyter file\\EEG_process\\SE_train_processed\\Z王纯刚20220325_bias_0.fif\n",
      "Closing E:\\jupyter file\\EEG_process\\SE_train_processed\\Z王纯刚20220325_bias_0.fif\n",
      "[done]\n",
      "../SE_train_processed/Z王纯刚20220328_bias_0.fif\n",
      "Opening raw data file ../SE_train\\Z王纯刚20220328_bias_0.fif...\n",
      "Isotrak not found\n",
      "    Range : 289606 ... 305990 =    282.818 ...   298.818 secs\n",
      "Ready.\n",
      "data_256.shape (15, 4096)\n",
      "data_256_samples.shape (15, 8, 512)\n",
      "data_sta.shape (15, 8, 512)\n",
      "data_x.shape: (120, 512, 1)\n"
     ]
    },
    {
     "name": "stderr",
     "output_type": "stream",
     "text": [
      "<ipython-input-4-6623eb51b1f6>:73: RuntimeWarning: This filename (E:\\jupyter file\\EEG_process\\SE_train_processed\\Z王纯刚20220325_bias_0.fif) does not conform to MNE naming conventions. All raw files should end with raw.fif, raw_sss.fif, raw_tsss.fif, _meg.fif, _eeg.fif, _ieeg.fif, raw.fif.gz, raw_sss.fif.gz, raw_tsss.fif.gz, _meg.fif.gz, _eeg.fif.gz or _ieeg.fif.gz\n",
      "  custom_raw.save(save_path,overwrite=True)\n",
      "<ipython-input-4-6623eb51b1f6>:2: RuntimeWarning: This filename (../SE_train\\Z王纯刚20220328_bias_0.fif) does not conform to MNE naming conventions. All raw files should end with raw.fif, raw_sss.fif, raw_tsss.fif, _meg.fif, _eeg.fif, _ieeg.fif, raw.fif.gz, raw_sss.fif.gz, raw_tsss.fif.gz, _meg.fif.gz, _eeg.fif.gz or _ieeg.fif.gz\n",
      "  raw = read_raw_fif(file_path)\n"
     ]
    },
    {
     "name": "stdout",
     "output_type": "stream",
     "text": [
      "pred_channel.shape (15, 4096)\n",
      "Creating RawArray with float64 data, n_channels=15, n_times=4096\n",
      "    Range : 0 ... 4095 =      0.000 ...    15.996 secs\n",
      "Ready.\n",
      "Writing E:\\jupyter file\\EEG_process\\SE_train_processed\\Z王纯刚20220328_bias_0.fif\n",
      "Closing E:\\jupyter file\\EEG_process\\SE_train_processed\\Z王纯刚20220328_bias_0.fif\n",
      "[done]\n",
      "../SE_train_processed/Z肖星星20220325_bias_0.fif\n",
      "Opening raw data file ../SE_train\\Z肖星星20220325_bias_0.fif...\n",
      "Isotrak not found\n",
      "    Range : 385800 ... 402184 =    376.758 ...   392.758 secs\n",
      "Ready.\n",
      "data_256.shape (15, 4096)\n",
      "data_256_samples.shape (15, 8, 512)\n",
      "data_sta.shape (15, 8, 512)\n",
      "data_x.shape: (120, 512, 1)\n"
     ]
    },
    {
     "name": "stderr",
     "output_type": "stream",
     "text": [
      "<ipython-input-4-6623eb51b1f6>:73: RuntimeWarning: This filename (E:\\jupyter file\\EEG_process\\SE_train_processed\\Z王纯刚20220328_bias_0.fif) does not conform to MNE naming conventions. All raw files should end with raw.fif, raw_sss.fif, raw_tsss.fif, _meg.fif, _eeg.fif, _ieeg.fif, raw.fif.gz, raw_sss.fif.gz, raw_tsss.fif.gz, _meg.fif.gz, _eeg.fif.gz or _ieeg.fif.gz\n",
      "  custom_raw.save(save_path,overwrite=True)\n",
      "<ipython-input-4-6623eb51b1f6>:2: RuntimeWarning: This filename (../SE_train\\Z肖星星20220325_bias_0.fif) does not conform to MNE naming conventions. All raw files should end with raw.fif, raw_sss.fif, raw_tsss.fif, _meg.fif, _eeg.fif, _ieeg.fif, raw.fif.gz, raw_sss.fif.gz, raw_tsss.fif.gz, _meg.fif.gz, _eeg.fif.gz or _ieeg.fif.gz\n",
      "  raw = read_raw_fif(file_path)\n"
     ]
    },
    {
     "name": "stdout",
     "output_type": "stream",
     "text": [
      "pred_channel.shape (15, 4096)\n",
      "Creating RawArray with float64 data, n_channels=15, n_times=4096\n",
      "    Range : 0 ... 4095 =      0.000 ...    15.996 secs\n",
      "Ready.\n",
      "Writing E:\\jupyter file\\EEG_process\\SE_train_processed\\Z肖星星20220325_bias_0.fif\n",
      "Closing E:\\jupyter file\\EEG_process\\SE_train_processed\\Z肖星星20220325_bias_0.fif\n",
      "[done]\n",
      "../SE_train_processed/Z肖星星20220328_bias_0.fif\n",
      "Opening raw data file ../SE_train\\Z肖星星20220328_bias_0.fif...\n",
      "Isotrak not found\n",
      "    Range : 72393 ... 88777 =     70.696 ...    86.696 secs\n",
      "Ready.\n",
      "data_256.shape (15, 4096)\n",
      "data_256_samples.shape (15, 8, 512)\n",
      "data_sta.shape (15, 8, 512)\n",
      "data_x.shape: (120, 512, 1)\n"
     ]
    },
    {
     "name": "stderr",
     "output_type": "stream",
     "text": [
      "<ipython-input-4-6623eb51b1f6>:73: RuntimeWarning: This filename (E:\\jupyter file\\EEG_process\\SE_train_processed\\Z肖星星20220325_bias_0.fif) does not conform to MNE naming conventions. All raw files should end with raw.fif, raw_sss.fif, raw_tsss.fif, _meg.fif, _eeg.fif, _ieeg.fif, raw.fif.gz, raw_sss.fif.gz, raw_tsss.fif.gz, _meg.fif.gz, _eeg.fif.gz or _ieeg.fif.gz\n",
      "  custom_raw.save(save_path,overwrite=True)\n",
      "<ipython-input-4-6623eb51b1f6>:2: RuntimeWarning: This filename (../SE_train\\Z肖星星20220328_bias_0.fif) does not conform to MNE naming conventions. All raw files should end with raw.fif, raw_sss.fif, raw_tsss.fif, _meg.fif, _eeg.fif, _ieeg.fif, raw.fif.gz, raw_sss.fif.gz, raw_tsss.fif.gz, _meg.fif.gz, _eeg.fif.gz or _ieeg.fif.gz\n",
      "  raw = read_raw_fif(file_path)\n"
     ]
    },
    {
     "name": "stdout",
     "output_type": "stream",
     "text": [
      "pred_channel.shape (15, 4096)\n",
      "Creating RawArray with float64 data, n_channels=15, n_times=4096\n",
      "    Range : 0 ... 4095 =      0.000 ...    15.996 secs\n",
      "Ready.\n",
      "Writing E:\\jupyter file\\EEG_process\\SE_train_processed\\Z肖星星20220328_bias_0.fif\n",
      "Closing E:\\jupyter file\\EEG_process\\SE_train_processed\\Z肖星星20220328_bias_0.fif\n",
      "[done]\n",
      "../SE_train_processed/Z肖星星20220330（未发作）_bias_0.fif\n",
      "Opening raw data file ../SE_train\\Z肖星星20220330（未发作）_bias_0.fif...\n",
      "Isotrak not found\n",
      "    Range : 19135 ... 35519 =     18.687 ...    34.687 secs\n",
      "Ready.\n",
      "data_256.shape (15, 4096)\n",
      "data_256_samples.shape (15, 8, 512)\n",
      "data_sta.shape (15, 8, 512)\n",
      "data_x.shape: (120, 512, 1)\n"
     ]
    },
    {
     "name": "stderr",
     "output_type": "stream",
     "text": [
      "<ipython-input-4-6623eb51b1f6>:73: RuntimeWarning: This filename (E:\\jupyter file\\EEG_process\\SE_train_processed\\Z肖星星20220328_bias_0.fif) does not conform to MNE naming conventions. All raw files should end with raw.fif, raw_sss.fif, raw_tsss.fif, _meg.fif, _eeg.fif, _ieeg.fif, raw.fif.gz, raw_sss.fif.gz, raw_tsss.fif.gz, _meg.fif.gz, _eeg.fif.gz or _ieeg.fif.gz\n",
      "  custom_raw.save(save_path,overwrite=True)\n",
      "<ipython-input-4-6623eb51b1f6>:2: RuntimeWarning: This filename (../SE_train\\Z肖星星20220330（未发作）_bias_0.fif) does not conform to MNE naming conventions. All raw files should end with raw.fif, raw_sss.fif, raw_tsss.fif, _meg.fif, _eeg.fif, _ieeg.fif, raw.fif.gz, raw_sss.fif.gz, raw_tsss.fif.gz, _meg.fif.gz, _eeg.fif.gz or _ieeg.fif.gz\n",
      "  raw = read_raw_fif(file_path)\n"
     ]
    },
    {
     "name": "stdout",
     "output_type": "stream",
     "text": [
      "pred_channel.shape (15, 4096)\n",
      "Creating RawArray with float64 data, n_channels=15, n_times=4096\n",
      "    Range : 0 ... 4095 =      0.000 ...    15.996 secs\n",
      "Ready.\n",
      "Writing E:\\jupyter file\\EEG_process\\SE_train_processed\\Z肖星星20220330（未发作）_bias_0.fif\n",
      "Closing E:\\jupyter file\\EEG_process\\SE_train_processed\\Z肖星星20220330（未发作）_bias_0.fif\n",
      "[done]\n",
      "../SE_train_processed/Z肖星星20220330（未发作）_bias_2.fif\n",
      "Opening raw data file ../SE_train\\Z肖星星20220330（未发作）_bias_2.fif...\n",
      "Isotrak not found\n",
      "    Range : 21183 ... 37567 =     20.687 ...    36.687 secs\n",
      "Ready.\n",
      "data_256.shape (15, 4096)\n",
      "data_256_samples.shape (15, 8, 512)\n",
      "data_sta.shape (15, 8, 512)\n",
      "data_x.shape: (120, 512, 1)\n"
     ]
    },
    {
     "name": "stderr",
     "output_type": "stream",
     "text": [
      "<ipython-input-4-6623eb51b1f6>:73: RuntimeWarning: This filename (E:\\jupyter file\\EEG_process\\SE_train_processed\\Z肖星星20220330（未发作）_bias_0.fif) does not conform to MNE naming conventions. All raw files should end with raw.fif, raw_sss.fif, raw_tsss.fif, _meg.fif, _eeg.fif, _ieeg.fif, raw.fif.gz, raw_sss.fif.gz, raw_tsss.fif.gz, _meg.fif.gz, _eeg.fif.gz or _ieeg.fif.gz\n",
      "  custom_raw.save(save_path,overwrite=True)\n",
      "<ipython-input-4-6623eb51b1f6>:2: RuntimeWarning: This filename (../SE_train\\Z肖星星20220330（未发作）_bias_2.fif) does not conform to MNE naming conventions. All raw files should end with raw.fif, raw_sss.fif, raw_tsss.fif, _meg.fif, _eeg.fif, _ieeg.fif, raw.fif.gz, raw_sss.fif.gz, raw_tsss.fif.gz, _meg.fif.gz, _eeg.fif.gz or _ieeg.fif.gz\n",
      "  raw = read_raw_fif(file_path)\n"
     ]
    },
    {
     "name": "stdout",
     "output_type": "stream",
     "text": [
      "pred_channel.shape (15, 4096)\n",
      "Creating RawArray with float64 data, n_channels=15, n_times=4096\n",
      "    Range : 0 ... 4095 =      0.000 ...    15.996 secs\n",
      "Ready.\n",
      "Writing E:\\jupyter file\\EEG_process\\SE_train_processed\\Z肖星星20220330（未发作）_bias_2.fif\n",
      "Closing E:\\jupyter file\\EEG_process\\SE_train_processed\\Z肖星星20220330（未发作）_bias_2.fif\n",
      "[done]\n",
      "../SE_train_processed/Z肖星星20220330（未发作）_bias_4.fif\n",
      "Opening raw data file ../SE_train\\Z肖星星20220330（未发作）_bias_4.fif...\n",
      "Isotrak not found\n",
      "    Range : 23231 ... 39615 =     22.687 ...    38.687 secs\n",
      "Ready.\n",
      "data_256.shape (15, 4096)\n",
      "data_256_samples.shape (15, 8, 512)\n",
      "data_sta.shape (15, 8, 512)\n",
      "data_x.shape: (120, 512, 1)\n"
     ]
    },
    {
     "name": "stderr",
     "output_type": "stream",
     "text": [
      "<ipython-input-4-6623eb51b1f6>:73: RuntimeWarning: This filename (E:\\jupyter file\\EEG_process\\SE_train_processed\\Z肖星星20220330（未发作）_bias_2.fif) does not conform to MNE naming conventions. All raw files should end with raw.fif, raw_sss.fif, raw_tsss.fif, _meg.fif, _eeg.fif, _ieeg.fif, raw.fif.gz, raw_sss.fif.gz, raw_tsss.fif.gz, _meg.fif.gz, _eeg.fif.gz or _ieeg.fif.gz\n",
      "  custom_raw.save(save_path,overwrite=True)\n",
      "<ipython-input-4-6623eb51b1f6>:2: RuntimeWarning: This filename (../SE_train\\Z肖星星20220330（未发作）_bias_4.fif) does not conform to MNE naming conventions. All raw files should end with raw.fif, raw_sss.fif, raw_tsss.fif, _meg.fif, _eeg.fif, _ieeg.fif, raw.fif.gz, raw_sss.fif.gz, raw_tsss.fif.gz, _meg.fif.gz, _eeg.fif.gz or _ieeg.fif.gz\n",
      "  raw = read_raw_fif(file_path)\n"
     ]
    },
    {
     "name": "stdout",
     "output_type": "stream",
     "text": [
      "pred_channel.shape (15, 4096)\n",
      "Creating RawArray with float64 data, n_channels=15, n_times=4096\n",
      "    Range : 0 ... 4095 =      0.000 ...    15.996 secs\n",
      "Ready.\n",
      "Writing E:\\jupyter file\\EEG_process\\SE_train_processed\\Z肖星星20220330（未发作）_bias_4.fif\n",
      "Closing E:\\jupyter file\\EEG_process\\SE_train_processed\\Z肖星星20220330（未发作）_bias_4.fif\n",
      "[done]\n",
      "../SE_train_processed/Z肖星星20220330（未发作）_bias_6.fif\n",
      "Opening raw data file ../SE_train\\Z肖星星20220330（未发作）_bias_6.fif...\n",
      "Isotrak not found\n",
      "    Range : 25279 ... 41663 =     24.687 ...    40.687 secs\n",
      "Ready.\n",
      "data_256.shape (15, 4096)\n",
      "data_256_samples.shape (15, 8, 512)\n",
      "data_sta.shape (15, 8, 512)\n",
      "data_x.shape: (120, 512, 1)\n"
     ]
    },
    {
     "name": "stderr",
     "output_type": "stream",
     "text": [
      "<ipython-input-4-6623eb51b1f6>:73: RuntimeWarning: This filename (E:\\jupyter file\\EEG_process\\SE_train_processed\\Z肖星星20220330（未发作）_bias_4.fif) does not conform to MNE naming conventions. All raw files should end with raw.fif, raw_sss.fif, raw_tsss.fif, _meg.fif, _eeg.fif, _ieeg.fif, raw.fif.gz, raw_sss.fif.gz, raw_tsss.fif.gz, _meg.fif.gz, _eeg.fif.gz or _ieeg.fif.gz\n",
      "  custom_raw.save(save_path,overwrite=True)\n",
      "<ipython-input-4-6623eb51b1f6>:2: RuntimeWarning: This filename (../SE_train\\Z肖星星20220330（未发作）_bias_6.fif) does not conform to MNE naming conventions. All raw files should end with raw.fif, raw_sss.fif, raw_tsss.fif, _meg.fif, _eeg.fif, _ieeg.fif, raw.fif.gz, raw_sss.fif.gz, raw_tsss.fif.gz, _meg.fif.gz, _eeg.fif.gz or _ieeg.fif.gz\n",
      "  raw = read_raw_fif(file_path)\n"
     ]
    },
    {
     "name": "stdout",
     "output_type": "stream",
     "text": [
      "pred_channel.shape (15, 4096)\n",
      "Creating RawArray with float64 data, n_channels=15, n_times=4096\n",
      "    Range : 0 ... 4095 =      0.000 ...    15.996 secs\n",
      "Ready.\n",
      "Writing E:\\jupyter file\\EEG_process\\SE_train_processed\\Z肖星星20220330（未发作）_bias_6.fif\n",
      "Closing E:\\jupyter file\\EEG_process\\SE_train_processed\\Z肖星星20220330（未发作）_bias_6.fif\n",
      "[done]\n",
      "../SE_train_processed/Z肖星星20220401_bias_0.fif\n",
      "Opening raw data file ../SE_train\\Z肖星星20220401_bias_0.fif...\n",
      "Isotrak not found\n",
      "    Range : 84137 ... 100521 =     82.165 ...    98.165 secs\n",
      "Ready.\n",
      "data_256.shape (15, 4096)\n",
      "data_256_samples.shape (15, 8, 512)\n",
      "data_sta.shape (15, 8, 512)\n",
      "data_x.shape: (120, 512, 1)\n"
     ]
    },
    {
     "name": "stderr",
     "output_type": "stream",
     "text": [
      "<ipython-input-4-6623eb51b1f6>:73: RuntimeWarning: This filename (E:\\jupyter file\\EEG_process\\SE_train_processed\\Z肖星星20220330（未发作）_bias_6.fif) does not conform to MNE naming conventions. All raw files should end with raw.fif, raw_sss.fif, raw_tsss.fif, _meg.fif, _eeg.fif, _ieeg.fif, raw.fif.gz, raw_sss.fif.gz, raw_tsss.fif.gz, _meg.fif.gz, _eeg.fif.gz or _ieeg.fif.gz\n",
      "  custom_raw.save(save_path,overwrite=True)\n",
      "<ipython-input-4-6623eb51b1f6>:2: RuntimeWarning: This filename (../SE_train\\Z肖星星20220401_bias_0.fif) does not conform to MNE naming conventions. All raw files should end with raw.fif, raw_sss.fif, raw_tsss.fif, _meg.fif, _eeg.fif, _ieeg.fif, raw.fif.gz, raw_sss.fif.gz, raw_tsss.fif.gz, _meg.fif.gz, _eeg.fif.gz or _ieeg.fif.gz\n",
      "  raw = read_raw_fif(file_path)\n"
     ]
    },
    {
     "name": "stdout",
     "output_type": "stream",
     "text": [
      "pred_channel.shape (15, 4096)\n",
      "Creating RawArray with float64 data, n_channels=15, n_times=4096\n",
      "    Range : 0 ... 4095 =      0.000 ...    15.996 secs\n",
      "Ready.\n",
      "Writing E:\\jupyter file\\EEG_process\\SE_train_processed\\Z肖星星20220401_bias_0.fif\n",
      "Closing E:\\jupyter file\\EEG_process\\SE_train_processed\\Z肖星星20220401_bias_0.fif\n",
      "[done]\n",
      "../SE_train_processed/Z肖智华20220225（未发作）_bias_0.fif\n",
      "Opening raw data file ../SE_train\\Z肖智华20220225（未发作）_bias_0.fif...\n",
      "Isotrak not found\n",
      "    Range : 3029 ... 19413 =      2.958 ...    18.958 secs\n",
      "Ready.\n",
      "data_256.shape (15, 4096)\n",
      "data_256_samples.shape (15, 8, 512)\n",
      "data_sta.shape (15, 8, 512)\n",
      "data_x.shape: (120, 512, 1)\n"
     ]
    },
    {
     "name": "stderr",
     "output_type": "stream",
     "text": [
      "<ipython-input-4-6623eb51b1f6>:73: RuntimeWarning: This filename (E:\\jupyter file\\EEG_process\\SE_train_processed\\Z肖星星20220401_bias_0.fif) does not conform to MNE naming conventions. All raw files should end with raw.fif, raw_sss.fif, raw_tsss.fif, _meg.fif, _eeg.fif, _ieeg.fif, raw.fif.gz, raw_sss.fif.gz, raw_tsss.fif.gz, _meg.fif.gz, _eeg.fif.gz or _ieeg.fif.gz\n",
      "  custom_raw.save(save_path,overwrite=True)\n",
      "<ipython-input-4-6623eb51b1f6>:2: RuntimeWarning: This filename (../SE_train\\Z肖智华20220225（未发作）_bias_0.fif) does not conform to MNE naming conventions. All raw files should end with raw.fif, raw_sss.fif, raw_tsss.fif, _meg.fif, _eeg.fif, _ieeg.fif, raw.fif.gz, raw_sss.fif.gz, raw_tsss.fif.gz, _meg.fif.gz, _eeg.fif.gz or _ieeg.fif.gz\n",
      "  raw = read_raw_fif(file_path)\n"
     ]
    },
    {
     "name": "stdout",
     "output_type": "stream",
     "text": [
      "pred_channel.shape (15, 4096)\n",
      "Creating RawArray with float64 data, n_channels=15, n_times=4096\n",
      "    Range : 0 ... 4095 =      0.000 ...    15.996 secs\n",
      "Ready.\n",
      "Writing E:\\jupyter file\\EEG_process\\SE_train_processed\\Z肖智华20220225（未发作）_bias_0.fif\n",
      "Closing E:\\jupyter file\\EEG_process\\SE_train_processed\\Z肖智华20220225（未发作）_bias_0.fif\n",
      "[done]\n",
      "../SE_train_processed/Z肖智华20220225（未发作）_bias_2.fif\n",
      "Opening raw data file ../SE_train\\Z肖智华20220225（未发作）_bias_2.fif...\n",
      "Isotrak not found\n",
      "    Range : 5077 ... 21461 =      4.958 ...    20.958 secs\n",
      "Ready.\n",
      "data_256.shape (15, 4096)\n",
      "data_256_samples.shape (15, 8, 512)\n",
      "data_sta.shape (15, 8, 512)\n",
      "data_x.shape: (120, 512, 1)\n"
     ]
    },
    {
     "name": "stderr",
     "output_type": "stream",
     "text": [
      "<ipython-input-4-6623eb51b1f6>:73: RuntimeWarning: This filename (E:\\jupyter file\\EEG_process\\SE_train_processed\\Z肖智华20220225（未发作）_bias_0.fif) does not conform to MNE naming conventions. All raw files should end with raw.fif, raw_sss.fif, raw_tsss.fif, _meg.fif, _eeg.fif, _ieeg.fif, raw.fif.gz, raw_sss.fif.gz, raw_tsss.fif.gz, _meg.fif.gz, _eeg.fif.gz or _ieeg.fif.gz\n",
      "  custom_raw.save(save_path,overwrite=True)\n",
      "<ipython-input-4-6623eb51b1f6>:2: RuntimeWarning: This filename (../SE_train\\Z肖智华20220225（未发作）_bias_2.fif) does not conform to MNE naming conventions. All raw files should end with raw.fif, raw_sss.fif, raw_tsss.fif, _meg.fif, _eeg.fif, _ieeg.fif, raw.fif.gz, raw_sss.fif.gz, raw_tsss.fif.gz, _meg.fif.gz, _eeg.fif.gz or _ieeg.fif.gz\n",
      "  raw = read_raw_fif(file_path)\n"
     ]
    },
    {
     "name": "stdout",
     "output_type": "stream",
     "text": [
      "pred_channel.shape (15, 4096)\n",
      "Creating RawArray with float64 data, n_channels=15, n_times=4096\n",
      "    Range : 0 ... 4095 =      0.000 ...    15.996 secs\n",
      "Ready.\n",
      "Writing E:\\jupyter file\\EEG_process\\SE_train_processed\\Z肖智华20220225（未发作）_bias_2.fif\n",
      "Closing E:\\jupyter file\\EEG_process\\SE_train_processed\\Z肖智华20220225（未发作）_bias_2.fif\n",
      "[done]\n",
      "../SE_train_processed/Z肖智华20220225（未发作）_bias_4.fif\n",
      "Opening raw data file ../SE_train\\Z肖智华20220225（未发作）_bias_4.fif...\n",
      "Isotrak not found\n",
      "    Range : 7125 ... 23509 =      6.958 ...    22.958 secs\n",
      "Ready.\n",
      "data_256.shape (15, 4096)\n",
      "data_256_samples.shape (15, 8, 512)\n",
      "data_sta.shape (15, 8, 512)\n",
      "data_x.shape: (120, 512, 1)\n"
     ]
    },
    {
     "name": "stderr",
     "output_type": "stream",
     "text": [
      "<ipython-input-4-6623eb51b1f6>:73: RuntimeWarning: This filename (E:\\jupyter file\\EEG_process\\SE_train_processed\\Z肖智华20220225（未发作）_bias_2.fif) does not conform to MNE naming conventions. All raw files should end with raw.fif, raw_sss.fif, raw_tsss.fif, _meg.fif, _eeg.fif, _ieeg.fif, raw.fif.gz, raw_sss.fif.gz, raw_tsss.fif.gz, _meg.fif.gz, _eeg.fif.gz or _ieeg.fif.gz\n",
      "  custom_raw.save(save_path,overwrite=True)\n",
      "<ipython-input-4-6623eb51b1f6>:2: RuntimeWarning: This filename (../SE_train\\Z肖智华20220225（未发作）_bias_4.fif) does not conform to MNE naming conventions. All raw files should end with raw.fif, raw_sss.fif, raw_tsss.fif, _meg.fif, _eeg.fif, _ieeg.fif, raw.fif.gz, raw_sss.fif.gz, raw_tsss.fif.gz, _meg.fif.gz, _eeg.fif.gz or _ieeg.fif.gz\n",
      "  raw = read_raw_fif(file_path)\n"
     ]
    },
    {
     "name": "stdout",
     "output_type": "stream",
     "text": [
      "pred_channel.shape (15, 4096)\n",
      "Creating RawArray with float64 data, n_channels=15, n_times=4096\n",
      "    Range : 0 ... 4095 =      0.000 ...    15.996 secs\n",
      "Ready.\n",
      "Writing E:\\jupyter file\\EEG_process\\SE_train_processed\\Z肖智华20220225（未发作）_bias_4.fif\n",
      "Closing E:\\jupyter file\\EEG_process\\SE_train_processed\\Z肖智华20220225（未发作）_bias_4.fif\n",
      "[done]\n",
      "../SE_train_processed/Z肖智华20220225（未发作）_bias_6.fif\n",
      "Opening raw data file ../SE_train\\Z肖智华20220225（未发作）_bias_6.fif...\n",
      "Isotrak not found\n",
      "    Range : 9173 ... 25557 =      8.958 ...    24.958 secs\n",
      "Ready.\n",
      "data_256.shape (15, 4096)\n",
      "data_256_samples.shape (15, 8, 512)\n",
      "data_sta.shape (15, 8, 512)\n",
      "data_x.shape: (120, 512, 1)\n"
     ]
    },
    {
     "name": "stderr",
     "output_type": "stream",
     "text": [
      "<ipython-input-4-6623eb51b1f6>:73: RuntimeWarning: This filename (E:\\jupyter file\\EEG_process\\SE_train_processed\\Z肖智华20220225（未发作）_bias_4.fif) does not conform to MNE naming conventions. All raw files should end with raw.fif, raw_sss.fif, raw_tsss.fif, _meg.fif, _eeg.fif, _ieeg.fif, raw.fif.gz, raw_sss.fif.gz, raw_tsss.fif.gz, _meg.fif.gz, _eeg.fif.gz or _ieeg.fif.gz\n",
      "  custom_raw.save(save_path,overwrite=True)\n",
      "<ipython-input-4-6623eb51b1f6>:2: RuntimeWarning: This filename (../SE_train\\Z肖智华20220225（未发作）_bias_6.fif) does not conform to MNE naming conventions. All raw files should end with raw.fif, raw_sss.fif, raw_tsss.fif, _meg.fif, _eeg.fif, _ieeg.fif, raw.fif.gz, raw_sss.fif.gz, raw_tsss.fif.gz, _meg.fif.gz, _eeg.fif.gz or _ieeg.fif.gz\n",
      "  raw = read_raw_fif(file_path)\n"
     ]
    },
    {
     "name": "stdout",
     "output_type": "stream",
     "text": [
      "pred_channel.shape (15, 4096)\n",
      "Creating RawArray with float64 data, n_channels=15, n_times=4096\n",
      "    Range : 0 ... 4095 =      0.000 ...    15.996 secs\n",
      "Ready.\n",
      "Writing E:\\jupyter file\\EEG_process\\SE_train_processed\\Z肖智华20220225（未发作）_bias_6.fif\n",
      "Closing E:\\jupyter file\\EEG_process\\SE_train_processed\\Z肖智华20220225（未发作）_bias_6.fif\n",
      "[done]\n",
      "../SE_train_processed/Z肖智华20220228_bias_0.fif\n",
      "Opening raw data file ../SE_train\\Z肖智华20220228_bias_0.fif...\n",
      "Isotrak not found\n",
      "    Range : 25279 ... 41663 =     24.687 ...    40.687 secs\n",
      "Ready.\n",
      "data_256.shape (15, 4096)\n",
      "data_256_samples.shape (15, 8, 512)\n",
      "data_sta.shape (15, 8, 512)\n",
      "data_x.shape: (120, 512, 1)\n"
     ]
    },
    {
     "name": "stderr",
     "output_type": "stream",
     "text": [
      "<ipython-input-4-6623eb51b1f6>:73: RuntimeWarning: This filename (E:\\jupyter file\\EEG_process\\SE_train_processed\\Z肖智华20220225（未发作）_bias_6.fif) does not conform to MNE naming conventions. All raw files should end with raw.fif, raw_sss.fif, raw_tsss.fif, _meg.fif, _eeg.fif, _ieeg.fif, raw.fif.gz, raw_sss.fif.gz, raw_tsss.fif.gz, _meg.fif.gz, _eeg.fif.gz or _ieeg.fif.gz\n",
      "  custom_raw.save(save_path,overwrite=True)\n",
      "<ipython-input-4-6623eb51b1f6>:2: RuntimeWarning: This filename (../SE_train\\Z肖智华20220228_bias_0.fif) does not conform to MNE naming conventions. All raw files should end with raw.fif, raw_sss.fif, raw_tsss.fif, _meg.fif, _eeg.fif, _ieeg.fif, raw.fif.gz, raw_sss.fif.gz, raw_tsss.fif.gz, _meg.fif.gz, _eeg.fif.gz or _ieeg.fif.gz\n",
      "  raw = read_raw_fif(file_path)\n"
     ]
    },
    {
     "name": "stdout",
     "output_type": "stream",
     "text": [
      "pred_channel.shape (15, 4096)\n",
      "Creating RawArray with float64 data, n_channels=15, n_times=4096\n",
      "    Range : 0 ... 4095 =      0.000 ...    15.996 secs\n",
      "Ready.\n",
      "Writing E:\\jupyter file\\EEG_process\\SE_train_processed\\Z肖智华20220228_bias_0.fif\n",
      "Closing E:\\jupyter file\\EEG_process\\SE_train_processed\\Z肖智华20220228_bias_0.fif\n",
      "[done]\n",
      "../SE_train_processed/Z肖智华20220302_bias_0.fif\n",
      "Opening raw data file ../SE_train\\Z肖智华20220302_bias_0.fif...\n",
      "Isotrak not found\n",
      "    Range : 617238 ... 633622 =    602.771 ...   618.771 secs\n",
      "Ready.\n",
      "data_256.shape (15, 4096)\n",
      "data_256_samples.shape (15, 8, 512)\n",
      "data_sta.shape (15, 8, 512)\n",
      "data_x.shape: (120, 512, 1)\n"
     ]
    },
    {
     "name": "stderr",
     "output_type": "stream",
     "text": [
      "<ipython-input-4-6623eb51b1f6>:73: RuntimeWarning: This filename (E:\\jupyter file\\EEG_process\\SE_train_processed\\Z肖智华20220228_bias_0.fif) does not conform to MNE naming conventions. All raw files should end with raw.fif, raw_sss.fif, raw_tsss.fif, _meg.fif, _eeg.fif, _ieeg.fif, raw.fif.gz, raw_sss.fif.gz, raw_tsss.fif.gz, _meg.fif.gz, _eeg.fif.gz or _ieeg.fif.gz\n",
      "  custom_raw.save(save_path,overwrite=True)\n",
      "<ipython-input-4-6623eb51b1f6>:2: RuntimeWarning: This filename (../SE_train\\Z肖智华20220302_bias_0.fif) does not conform to MNE naming conventions. All raw files should end with raw.fif, raw_sss.fif, raw_tsss.fif, _meg.fif, _eeg.fif, _ieeg.fif, raw.fif.gz, raw_sss.fif.gz, raw_tsss.fif.gz, _meg.fif.gz, _eeg.fif.gz or _ieeg.fif.gz\n",
      "  raw = read_raw_fif(file_path)\n"
     ]
    },
    {
     "name": "stdout",
     "output_type": "stream",
     "text": [
      "pred_channel.shape (15, 4096)\n",
      "Creating RawArray with float64 data, n_channels=15, n_times=4096\n",
      "    Range : 0 ... 4095 =      0.000 ...    15.996 secs\n",
      "Ready.\n",
      "Writing E:\\jupyter file\\EEG_process\\SE_train_processed\\Z肖智华20220302_bias_0.fif\n",
      "Closing E:\\jupyter file\\EEG_process\\SE_train_processed\\Z肖智华20220302_bias_0.fif\n",
      "[done]\n",
      "../SE_train_processed/Z雷振20220321_bias_0.fif\n",
      "Opening raw data file ../SE_train\\Z雷振20220321_bias_0.fif...\n",
      "Isotrak not found\n",
      "    Range : 65290 ... 81674 =     63.760 ...    79.760 secs\n",
      "Ready.\n",
      "data_256.shape (15, 4096)\n",
      "data_256_samples.shape (15, 8, 512)\n",
      "data_sta.shape (15, 8, 512)\n",
      "data_x.shape: (120, 512, 1)\n"
     ]
    },
    {
     "name": "stderr",
     "output_type": "stream",
     "text": [
      "<ipython-input-4-6623eb51b1f6>:73: RuntimeWarning: This filename (E:\\jupyter file\\EEG_process\\SE_train_processed\\Z肖智华20220302_bias_0.fif) does not conform to MNE naming conventions. All raw files should end with raw.fif, raw_sss.fif, raw_tsss.fif, _meg.fif, _eeg.fif, _ieeg.fif, raw.fif.gz, raw_sss.fif.gz, raw_tsss.fif.gz, _meg.fif.gz, _eeg.fif.gz or _ieeg.fif.gz\n",
      "  custom_raw.save(save_path,overwrite=True)\n",
      "<ipython-input-4-6623eb51b1f6>:2: RuntimeWarning: This filename (../SE_train\\Z雷振20220321_bias_0.fif) does not conform to MNE naming conventions. All raw files should end with raw.fif, raw_sss.fif, raw_tsss.fif, _meg.fif, _eeg.fif, _ieeg.fif, raw.fif.gz, raw_sss.fif.gz, raw_tsss.fif.gz, _meg.fif.gz, _eeg.fif.gz or _ieeg.fif.gz\n",
      "  raw = read_raw_fif(file_path)\n"
     ]
    },
    {
     "name": "stdout",
     "output_type": "stream",
     "text": [
      "pred_channel.shape (15, 4096)\n",
      "Creating RawArray with float64 data, n_channels=15, n_times=4096\n",
      "    Range : 0 ... 4095 =      0.000 ...    15.996 secs\n",
      "Ready.\n",
      "Writing E:\\jupyter file\\EEG_process\\SE_train_processed\\Z雷振20220321_bias_0.fif\n",
      "Closing E:\\jupyter file\\EEG_process\\SE_train_processed\\Z雷振20220321_bias_0.fif\n",
      "[done]\n",
      "../SE_train_processed/Z雷振20220323_bias_0.fif\n",
      "Opening raw data file ../SE_train\\Z雷振20220323_bias_0.fif...\n",
      "Isotrak not found\n",
      "    Range : 203788 ... 220172 =    199.012 ...   215.012 secs\n",
      "Ready.\n",
      "data_256.shape (15, 4096)\n",
      "data_256_samples.shape (15, 8, 512)\n",
      "data_sta.shape (15, 8, 512)\n",
      "data_x.shape: (120, 512, 1)\n"
     ]
    },
    {
     "name": "stderr",
     "output_type": "stream",
     "text": [
      "<ipython-input-4-6623eb51b1f6>:73: RuntimeWarning: This filename (E:\\jupyter file\\EEG_process\\SE_train_processed\\Z雷振20220321_bias_0.fif) does not conform to MNE naming conventions. All raw files should end with raw.fif, raw_sss.fif, raw_tsss.fif, _meg.fif, _eeg.fif, _ieeg.fif, raw.fif.gz, raw_sss.fif.gz, raw_tsss.fif.gz, _meg.fif.gz, _eeg.fif.gz or _ieeg.fif.gz\n",
      "  custom_raw.save(save_path,overwrite=True)\n",
      "<ipython-input-4-6623eb51b1f6>:2: RuntimeWarning: This filename (../SE_train\\Z雷振20220323_bias_0.fif) does not conform to MNE naming conventions. All raw files should end with raw.fif, raw_sss.fif, raw_tsss.fif, _meg.fif, _eeg.fif, _ieeg.fif, raw.fif.gz, raw_sss.fif.gz, raw_tsss.fif.gz, _meg.fif.gz, _eeg.fif.gz or _ieeg.fif.gz\n",
      "  raw = read_raw_fif(file_path)\n"
     ]
    },
    {
     "name": "stdout",
     "output_type": "stream",
     "text": [
      "pred_channel.shape (15, 4096)\n",
      "Creating RawArray with float64 data, n_channels=15, n_times=4096\n",
      "    Range : 0 ... 4095 =      0.000 ...    15.996 secs\n",
      "Ready.\n",
      "Writing E:\\jupyter file\\EEG_process\\SE_train_processed\\Z雷振20220323_bias_0.fif\n",
      "Closing E:\\jupyter file\\EEG_process\\SE_train_processed\\Z雷振20220323_bias_0.fif\n",
      "[done]\n",
      "../SE_train_processed/Z雷振20220325_bias_0.fif\n",
      "Opening raw data file ../SE_train\\Z雷振20220325_bias_0.fif...\n",
      "Isotrak not found\n",
      "    Range : 45887 ... 62271 =     44.812 ...    60.812 secs\n",
      "Ready.\n",
      "data_256.shape (15, 4096)\n",
      "data_256_samples.shape (15, 8, 512)\n",
      "data_sta.shape (15, 8, 512)\n",
      "data_x.shape: (120, 512, 1)\n"
     ]
    },
    {
     "name": "stderr",
     "output_type": "stream",
     "text": [
      "<ipython-input-4-6623eb51b1f6>:73: RuntimeWarning: This filename (E:\\jupyter file\\EEG_process\\SE_train_processed\\Z雷振20220323_bias_0.fif) does not conform to MNE naming conventions. All raw files should end with raw.fif, raw_sss.fif, raw_tsss.fif, _meg.fif, _eeg.fif, _ieeg.fif, raw.fif.gz, raw_sss.fif.gz, raw_tsss.fif.gz, _meg.fif.gz, _eeg.fif.gz or _ieeg.fif.gz\n",
      "  custom_raw.save(save_path,overwrite=True)\n",
      "<ipython-input-4-6623eb51b1f6>:2: RuntimeWarning: This filename (../SE_train\\Z雷振20220325_bias_0.fif) does not conform to MNE naming conventions. All raw files should end with raw.fif, raw_sss.fif, raw_tsss.fif, _meg.fif, _eeg.fif, _ieeg.fif, raw.fif.gz, raw_sss.fif.gz, raw_tsss.fif.gz, _meg.fif.gz, _eeg.fif.gz or _ieeg.fif.gz\n",
      "  raw = read_raw_fif(file_path)\n"
     ]
    },
    {
     "name": "stdout",
     "output_type": "stream",
     "text": [
      "pred_channel.shape (15, 4096)\n",
      "Creating RawArray with float64 data, n_channels=15, n_times=4096\n",
      "    Range : 0 ... 4095 =      0.000 ...    15.996 secs\n",
      "Ready.\n",
      "Writing E:\\jupyter file\\EEG_process\\SE_train_processed\\Z雷振20220325_bias_0.fif\n",
      "Closing E:\\jupyter file\\EEG_process\\SE_train_processed\\Z雷振20220325_bias_0.fif\n",
      "[done]\n",
      "../SE_train_processed/Z雷振20220328_bias_0.fif\n",
      "Opening raw data file ../SE_train\\Z雷振20220328_bias_0.fif...\n",
      "Isotrak not found\n",
      "    Range : 6400 ... 22784 =      6.250 ...    22.250 secs\n",
      "Ready.\n",
      "data_256.shape (15, 4096)\n",
      "data_256_samples.shape (15, 8, 512)\n",
      "data_sta.shape (15, 8, 512)\n",
      "data_x.shape: (120, 512, 1)\n"
     ]
    },
    {
     "name": "stderr",
     "output_type": "stream",
     "text": [
      "<ipython-input-4-6623eb51b1f6>:73: RuntimeWarning: This filename (E:\\jupyter file\\EEG_process\\SE_train_processed\\Z雷振20220325_bias_0.fif) does not conform to MNE naming conventions. All raw files should end with raw.fif, raw_sss.fif, raw_tsss.fif, _meg.fif, _eeg.fif, _ieeg.fif, raw.fif.gz, raw_sss.fif.gz, raw_tsss.fif.gz, _meg.fif.gz, _eeg.fif.gz or _ieeg.fif.gz\n",
      "  custom_raw.save(save_path,overwrite=True)\n",
      "<ipython-input-4-6623eb51b1f6>:2: RuntimeWarning: This filename (../SE_train\\Z雷振20220328_bias_0.fif) does not conform to MNE naming conventions. All raw files should end with raw.fif, raw_sss.fif, raw_tsss.fif, _meg.fif, _eeg.fif, _ieeg.fif, raw.fif.gz, raw_sss.fif.gz, raw_tsss.fif.gz, _meg.fif.gz, _eeg.fif.gz or _ieeg.fif.gz\n",
      "  raw = read_raw_fif(file_path)\n"
     ]
    },
    {
     "name": "stdout",
     "output_type": "stream",
     "text": [
      "pred_channel.shape (15, 4096)\n",
      "Creating RawArray with float64 data, n_channels=15, n_times=4096\n",
      "    Range : 0 ... 4095 =      0.000 ...    15.996 secs\n",
      "Ready.\n",
      "Writing E:\\jupyter file\\EEG_process\\SE_train_processed\\Z雷振20220328_bias_0.fif\n",
      "Closing E:\\jupyter file\\EEG_process\\SE_train_processed\\Z雷振20220328_bias_0.fif\n",
      "[done]\n",
      "../SE_train_processed/Z黄盈雪20220314_bias_0.fif\n",
      "Opening raw data file ../SE_train\\Z黄盈雪20220314_bias_0.fif...\n",
      "Isotrak not found\n",
      "    Range : 20114 ... 36498 =     19.643 ...    35.643 secs\n",
      "Ready.\n",
      "data_256.shape (15, 4096)\n",
      "data_256_samples.shape (15, 8, 512)\n",
      "data_sta.shape (15, 8, 512)\n",
      "data_x.shape: (120, 512, 1)\n"
     ]
    },
    {
     "name": "stderr",
     "output_type": "stream",
     "text": [
      "<ipython-input-4-6623eb51b1f6>:73: RuntimeWarning: This filename (E:\\jupyter file\\EEG_process\\SE_train_processed\\Z雷振20220328_bias_0.fif) does not conform to MNE naming conventions. All raw files should end with raw.fif, raw_sss.fif, raw_tsss.fif, _meg.fif, _eeg.fif, _ieeg.fif, raw.fif.gz, raw_sss.fif.gz, raw_tsss.fif.gz, _meg.fif.gz, _eeg.fif.gz or _ieeg.fif.gz\n",
      "  custom_raw.save(save_path,overwrite=True)\n",
      "<ipython-input-4-6623eb51b1f6>:2: RuntimeWarning: This filename (../SE_train\\Z黄盈雪20220314_bias_0.fif) does not conform to MNE naming conventions. All raw files should end with raw.fif, raw_sss.fif, raw_tsss.fif, _meg.fif, _eeg.fif, _ieeg.fif, raw.fif.gz, raw_sss.fif.gz, raw_tsss.fif.gz, _meg.fif.gz, _eeg.fif.gz or _ieeg.fif.gz\n",
      "  raw = read_raw_fif(file_path)\n"
     ]
    },
    {
     "name": "stdout",
     "output_type": "stream",
     "text": [
      "pred_channel.shape (15, 4096)\n",
      "Creating RawArray with float64 data, n_channels=15, n_times=4096\n",
      "    Range : 0 ... 4095 =      0.000 ...    15.996 secs\n",
      "Ready.\n",
      "Writing E:\\jupyter file\\EEG_process\\SE_train_processed\\Z黄盈雪20220314_bias_0.fif\n",
      "Closing E:\\jupyter file\\EEG_process\\SE_train_processed\\Z黄盈雪20220314_bias_0.fif\n",
      "[done]\n",
      "../SE_train_processed/Z黄盈雪20220316_bias_0.fif\n",
      "Opening raw data file ../SE_train\\Z黄盈雪20220316_bias_0.fif...\n",
      "Isotrak not found\n",
      "    Range : 90303 ... 106687 =     88.187 ...   104.187 secs\n",
      "Ready.\n",
      "data_256.shape (15, 4096)\n",
      "data_256_samples.shape (15, 8, 512)\n",
      "data_sta.shape (15, 8, 512)\n",
      "data_x.shape: (120, 512, 1)\n"
     ]
    },
    {
     "name": "stderr",
     "output_type": "stream",
     "text": [
      "<ipython-input-4-6623eb51b1f6>:73: RuntimeWarning: This filename (E:\\jupyter file\\EEG_process\\SE_train_processed\\Z黄盈雪20220314_bias_0.fif) does not conform to MNE naming conventions. All raw files should end with raw.fif, raw_sss.fif, raw_tsss.fif, _meg.fif, _eeg.fif, _ieeg.fif, raw.fif.gz, raw_sss.fif.gz, raw_tsss.fif.gz, _meg.fif.gz, _eeg.fif.gz or _ieeg.fif.gz\n",
      "  custom_raw.save(save_path,overwrite=True)\n",
      "<ipython-input-4-6623eb51b1f6>:2: RuntimeWarning: This filename (../SE_train\\Z黄盈雪20220316_bias_0.fif) does not conform to MNE naming conventions. All raw files should end with raw.fif, raw_sss.fif, raw_tsss.fif, _meg.fif, _eeg.fif, _ieeg.fif, raw.fif.gz, raw_sss.fif.gz, raw_tsss.fif.gz, _meg.fif.gz, _eeg.fif.gz or _ieeg.fif.gz\n",
      "  raw = read_raw_fif(file_path)\n"
     ]
    },
    {
     "name": "stdout",
     "output_type": "stream",
     "text": [
      "pred_channel.shape (15, 4096)\n",
      "Creating RawArray with float64 data, n_channels=15, n_times=4096\n",
      "    Range : 0 ... 4095 =      0.000 ...    15.996 secs\n",
      "Ready.\n",
      "Writing E:\\jupyter file\\EEG_process\\SE_train_processed\\Z黄盈雪20220316_bias_0.fif\n",
      "Closing E:\\jupyter file\\EEG_process\\SE_train_processed\\Z黄盈雪20220316_bias_0.fif\n",
      "[done]\n",
      "../SE_train_processed/Z黄盈雪20220318_bias_0.fif\n",
      "Opening raw data file ../SE_train\\Z黄盈雪20220318_bias_0.fif...\n",
      "Isotrak not found\n",
      "    Range : 499 ... 16883 =      0.487 ...    16.487 secs\n",
      "Ready.\n",
      "data_256.shape (15, 4096)\n",
      "data_256_samples.shape (15, 8, 512)\n",
      "data_sta.shape (15, 8, 512)\n",
      "data_x.shape: (120, 512, 1)\n"
     ]
    },
    {
     "name": "stderr",
     "output_type": "stream",
     "text": [
      "<ipython-input-4-6623eb51b1f6>:73: RuntimeWarning: This filename (E:\\jupyter file\\EEG_process\\SE_train_processed\\Z黄盈雪20220316_bias_0.fif) does not conform to MNE naming conventions. All raw files should end with raw.fif, raw_sss.fif, raw_tsss.fif, _meg.fif, _eeg.fif, _ieeg.fif, raw.fif.gz, raw_sss.fif.gz, raw_tsss.fif.gz, _meg.fif.gz, _eeg.fif.gz or _ieeg.fif.gz\n",
      "  custom_raw.save(save_path,overwrite=True)\n",
      "<ipython-input-4-6623eb51b1f6>:2: RuntimeWarning: This filename (../SE_train\\Z黄盈雪20220318_bias_0.fif) does not conform to MNE naming conventions. All raw files should end with raw.fif, raw_sss.fif, raw_tsss.fif, _meg.fif, _eeg.fif, _ieeg.fif, raw.fif.gz, raw_sss.fif.gz, raw_tsss.fif.gz, _meg.fif.gz, _eeg.fif.gz or _ieeg.fif.gz\n",
      "  raw = read_raw_fif(file_path)\n"
     ]
    },
    {
     "name": "stdout",
     "output_type": "stream",
     "text": [
      "pred_channel.shape (15, 4096)\n",
      "Creating RawArray with float64 data, n_channels=15, n_times=4096\n",
      "    Range : 0 ... 4095 =      0.000 ...    15.996 secs\n",
      "Ready.\n",
      "Writing E:\\jupyter file\\EEG_process\\SE_train_processed\\Z黄盈雪20220318_bias_0.fif\n",
      "Closing E:\\jupyter file\\EEG_process\\SE_train_processed\\Z黄盈雪20220318_bias_0.fif\n",
      "[done]\n",
      "../SE_train_processed/Z黄盈雪20220323（未发作）_bias_0.fif\n",
      "Opening raw data file ../SE_train\\Z黄盈雪20220323（未发作）_bias_0.fif...\n",
      "Isotrak not found\n",
      "    Range : 116586 ... 132970 =    113.854 ...   129.854 secs\n",
      "Ready.\n",
      "data_256.shape (15, 4096)\n",
      "data_256_samples.shape (15, 8, 512)\n",
      "data_sta.shape (15, 8, 512)\n",
      "data_x.shape: (120, 512, 1)\n"
     ]
    },
    {
     "name": "stderr",
     "output_type": "stream",
     "text": [
      "<ipython-input-4-6623eb51b1f6>:73: RuntimeWarning: This filename (E:\\jupyter file\\EEG_process\\SE_train_processed\\Z黄盈雪20220318_bias_0.fif) does not conform to MNE naming conventions. All raw files should end with raw.fif, raw_sss.fif, raw_tsss.fif, _meg.fif, _eeg.fif, _ieeg.fif, raw.fif.gz, raw_sss.fif.gz, raw_tsss.fif.gz, _meg.fif.gz, _eeg.fif.gz or _ieeg.fif.gz\n",
      "  custom_raw.save(save_path,overwrite=True)\n",
      "<ipython-input-4-6623eb51b1f6>:2: RuntimeWarning: This filename (../SE_train\\Z黄盈雪20220323（未发作）_bias_0.fif) does not conform to MNE naming conventions. All raw files should end with raw.fif, raw_sss.fif, raw_tsss.fif, _meg.fif, _eeg.fif, _ieeg.fif, raw.fif.gz, raw_sss.fif.gz, raw_tsss.fif.gz, _meg.fif.gz, _eeg.fif.gz or _ieeg.fif.gz\n",
      "  raw = read_raw_fif(file_path)\n"
     ]
    },
    {
     "name": "stdout",
     "output_type": "stream",
     "text": [
      "pred_channel.shape (15, 4096)\n",
      "Creating RawArray with float64 data, n_channels=15, n_times=4096\n",
      "    Range : 0 ... 4095 =      0.000 ...    15.996 secs\n",
      "Ready.\n",
      "Writing E:\\jupyter file\\EEG_process\\SE_train_processed\\Z黄盈雪20220323（未发作）_bias_0.fif\n",
      "Closing E:\\jupyter file\\EEG_process\\SE_train_processed\\Z黄盈雪20220323（未发作）_bias_0.fif\n",
      "[done]\n",
      "../SE_train_processed/Z黄盈雪20220323（未发作）_bias_2.fif\n",
      "Opening raw data file ../SE_train\\Z黄盈雪20220323（未发作）_bias_2.fif...\n",
      "Isotrak not found\n",
      "    Range : 118634 ... 135018 =    115.854 ...   131.854 secs\n",
      "Ready.\n"
     ]
    },
    {
     "name": "stderr",
     "output_type": "stream",
     "text": [
      "<ipython-input-4-6623eb51b1f6>:73: RuntimeWarning: This filename (E:\\jupyter file\\EEG_process\\SE_train_processed\\Z黄盈雪20220323（未发作）_bias_0.fif) does not conform to MNE naming conventions. All raw files should end with raw.fif, raw_sss.fif, raw_tsss.fif, _meg.fif, _eeg.fif, _ieeg.fif, raw.fif.gz, raw_sss.fif.gz, raw_tsss.fif.gz, _meg.fif.gz, _eeg.fif.gz or _ieeg.fif.gz\n",
      "  custom_raw.save(save_path,overwrite=True)\n",
      "<ipython-input-4-6623eb51b1f6>:2: RuntimeWarning: This filename (../SE_train\\Z黄盈雪20220323（未发作）_bias_2.fif) does not conform to MNE naming conventions. All raw files should end with raw.fif, raw_sss.fif, raw_tsss.fif, _meg.fif, _eeg.fif, _ieeg.fif, raw.fif.gz, raw_sss.fif.gz, raw_tsss.fif.gz, _meg.fif.gz, _eeg.fif.gz or _ieeg.fif.gz\n",
      "  raw = read_raw_fif(file_path)\n"
     ]
    },
    {
     "name": "stdout",
     "output_type": "stream",
     "text": [
      "data_256.shape (15, 4096)\n",
      "data_256_samples.shape (15, 8, 512)\n",
      "data_sta.shape (15, 8, 512)\n",
      "data_x.shape: (120, 512, 1)\n",
      "pred_channel.shape (15, 4096)\n",
      "Creating RawArray with float64 data, n_channels=15, n_times=4096\n",
      "    Range : 0 ... 4095 =      0.000 ...    15.996 secs\n",
      "Ready.\n",
      "Writing E:\\jupyter file\\EEG_process\\SE_train_processed\\Z黄盈雪20220323（未发作）_bias_2.fif\n",
      "Closing E:\\jupyter file\\EEG_process\\SE_train_processed\\Z黄盈雪20220323（未发作）_bias_2.fif\n",
      "[done]\n",
      "../SE_train_processed/Z黄盈雪20220323（未发作）_bias_4.fif\n",
      "Opening raw data file ../SE_train\\Z黄盈雪20220323（未发作）_bias_4.fif...\n",
      "Isotrak not found\n",
      "    Range : 120682 ... 137066 =    117.854 ...   133.854 secs\n",
      "Ready.\n",
      "data_256.shape (15, 4096)\n",
      "data_256_samples.shape (15, 8, 512)\n",
      "data_sta.shape (15, 8, 512)\n",
      "data_x.shape: (120, 512, 1)\n"
     ]
    },
    {
     "name": "stderr",
     "output_type": "stream",
     "text": [
      "<ipython-input-4-6623eb51b1f6>:73: RuntimeWarning: This filename (E:\\jupyter file\\EEG_process\\SE_train_processed\\Z黄盈雪20220323（未发作）_bias_2.fif) does not conform to MNE naming conventions. All raw files should end with raw.fif, raw_sss.fif, raw_tsss.fif, _meg.fif, _eeg.fif, _ieeg.fif, raw.fif.gz, raw_sss.fif.gz, raw_tsss.fif.gz, _meg.fif.gz, _eeg.fif.gz or _ieeg.fif.gz\n",
      "  custom_raw.save(save_path,overwrite=True)\n",
      "<ipython-input-4-6623eb51b1f6>:2: RuntimeWarning: This filename (../SE_train\\Z黄盈雪20220323（未发作）_bias_4.fif) does not conform to MNE naming conventions. All raw files should end with raw.fif, raw_sss.fif, raw_tsss.fif, _meg.fif, _eeg.fif, _ieeg.fif, raw.fif.gz, raw_sss.fif.gz, raw_tsss.fif.gz, _meg.fif.gz, _eeg.fif.gz or _ieeg.fif.gz\n",
      "  raw = read_raw_fif(file_path)\n"
     ]
    },
    {
     "name": "stdout",
     "output_type": "stream",
     "text": [
      "pred_channel.shape (15, 4096)\n",
      "Creating RawArray with float64 data, n_channels=15, n_times=4096\n",
      "    Range : 0 ... 4095 =      0.000 ...    15.996 secs\n",
      "Ready.\n",
      "Writing E:\\jupyter file\\EEG_process\\SE_train_processed\\Z黄盈雪20220323（未发作）_bias_4.fif\n",
      "Closing E:\\jupyter file\\EEG_process\\SE_train_processed\\Z黄盈雪20220323（未发作）_bias_4.fif\n",
      "[done]\n",
      "../SE_train_processed/Z黄盈雪20220323（未发作）_bias_6.fif\n",
      "Opening raw data file ../SE_train\\Z黄盈雪20220323（未发作）_bias_6.fif...\n",
      "Isotrak not found\n",
      "    Range : 122730 ... 139114 =    119.854 ...   135.854 secs\n",
      "Ready.\n",
      "data_256.shape (15, 4096)\n",
      "data_256_samples.shape (15, 8, 512)\n",
      "data_sta.shape (15, 8, 512)\n",
      "data_x.shape: (120, 512, 1)\n"
     ]
    },
    {
     "name": "stderr",
     "output_type": "stream",
     "text": [
      "<ipython-input-4-6623eb51b1f6>:73: RuntimeWarning: This filename (E:\\jupyter file\\EEG_process\\SE_train_processed\\Z黄盈雪20220323（未发作）_bias_4.fif) does not conform to MNE naming conventions. All raw files should end with raw.fif, raw_sss.fif, raw_tsss.fif, _meg.fif, _eeg.fif, _ieeg.fif, raw.fif.gz, raw_sss.fif.gz, raw_tsss.fif.gz, _meg.fif.gz, _eeg.fif.gz or _ieeg.fif.gz\n",
      "  custom_raw.save(save_path,overwrite=True)\n",
      "<ipython-input-4-6623eb51b1f6>:2: RuntimeWarning: This filename (../SE_train\\Z黄盈雪20220323（未发作）_bias_6.fif) does not conform to MNE naming conventions. All raw files should end with raw.fif, raw_sss.fif, raw_tsss.fif, _meg.fif, _eeg.fif, _ieeg.fif, raw.fif.gz, raw_sss.fif.gz, raw_tsss.fif.gz, _meg.fif.gz, _eeg.fif.gz or _ieeg.fif.gz\n",
      "  raw = read_raw_fif(file_path)\n"
     ]
    },
    {
     "name": "stdout",
     "output_type": "stream",
     "text": [
      "pred_channel.shape (15, 4096)\n",
      "Creating RawArray with float64 data, n_channels=15, n_times=4096\n",
      "    Range : 0 ... 4095 =      0.000 ...    15.996 secs\n",
      "Ready.\n",
      "Writing E:\\jupyter file\\EEG_process\\SE_train_processed\\Z黄盈雪20220323（未发作）_bias_6.fif\n",
      "Closing E:\\jupyter file\\EEG_process\\SE_train_processed\\Z黄盈雪20220323（未发作）_bias_6.fif\n",
      "[done]\n",
      "../SE_train_processed/Z黄金燕20220309_bias_0.fif\n",
      "Opening raw data file ../SE_train\\Z黄金燕20220309_bias_0.fif...\n",
      "Isotrak not found\n",
      "    Range : 27979 ... 44363 =     27.323 ...    43.323 secs\n",
      "Ready.\n",
      "data_256.shape (15, 4096)\n",
      "data_256_samples.shape (15, 8, 512)\n",
      "data_sta.shape (15, 8, 512)\n",
      "data_x.shape: (120, 512, 1)\n"
     ]
    },
    {
     "name": "stderr",
     "output_type": "stream",
     "text": [
      "<ipython-input-4-6623eb51b1f6>:73: RuntimeWarning: This filename (E:\\jupyter file\\EEG_process\\SE_train_processed\\Z黄盈雪20220323（未发作）_bias_6.fif) does not conform to MNE naming conventions. All raw files should end with raw.fif, raw_sss.fif, raw_tsss.fif, _meg.fif, _eeg.fif, _ieeg.fif, raw.fif.gz, raw_sss.fif.gz, raw_tsss.fif.gz, _meg.fif.gz, _eeg.fif.gz or _ieeg.fif.gz\n",
      "  custom_raw.save(save_path,overwrite=True)\n",
      "<ipython-input-4-6623eb51b1f6>:2: RuntimeWarning: This filename (../SE_train\\Z黄金燕20220309_bias_0.fif) does not conform to MNE naming conventions. All raw files should end with raw.fif, raw_sss.fif, raw_tsss.fif, _meg.fif, _eeg.fif, _ieeg.fif, raw.fif.gz, raw_sss.fif.gz, raw_tsss.fif.gz, _meg.fif.gz, _eeg.fif.gz or _ieeg.fif.gz\n",
      "  raw = read_raw_fif(file_path)\n"
     ]
    },
    {
     "name": "stdout",
     "output_type": "stream",
     "text": [
      "pred_channel.shape (15, 4096)\n",
      "Creating RawArray with float64 data, n_channels=15, n_times=4096\n",
      "    Range : 0 ... 4095 =      0.000 ...    15.996 secs\n",
      "Ready.\n",
      "Writing E:\\jupyter file\\EEG_process\\SE_train_processed\\Z黄金燕20220309_bias_0.fif\n",
      "Closing E:\\jupyter file\\EEG_process\\SE_train_processed\\Z黄金燕20220309_bias_0.fif\n",
      "[done]\n",
      "../SE_train_processed/Z黄金燕20220311_bias_0.fif\n",
      "Opening raw data file ../SE_train\\Z黄金燕20220311_bias_0.fif...\n",
      "Isotrak not found\n",
      "    Range : 75866 ... 92250 =     74.088 ...    90.088 secs\n",
      "Ready.\n",
      "data_256.shape (15, 4096)\n",
      "data_256_samples.shape (15, 8, 512)\n",
      "data_sta.shape (15, 8, 512)\n",
      "data_x.shape: (120, 512, 1)\n"
     ]
    },
    {
     "name": "stderr",
     "output_type": "stream",
     "text": [
      "<ipython-input-4-6623eb51b1f6>:73: RuntimeWarning: This filename (E:\\jupyter file\\EEG_process\\SE_train_processed\\Z黄金燕20220309_bias_0.fif) does not conform to MNE naming conventions. All raw files should end with raw.fif, raw_sss.fif, raw_tsss.fif, _meg.fif, _eeg.fif, _ieeg.fif, raw.fif.gz, raw_sss.fif.gz, raw_tsss.fif.gz, _meg.fif.gz, _eeg.fif.gz or _ieeg.fif.gz\n",
      "  custom_raw.save(save_path,overwrite=True)\n",
      "<ipython-input-4-6623eb51b1f6>:2: RuntimeWarning: This filename (../SE_train\\Z黄金燕20220311_bias_0.fif) does not conform to MNE naming conventions. All raw files should end with raw.fif, raw_sss.fif, raw_tsss.fif, _meg.fif, _eeg.fif, _ieeg.fif, raw.fif.gz, raw_sss.fif.gz, raw_tsss.fif.gz, _meg.fif.gz, _eeg.fif.gz or _ieeg.fif.gz\n",
      "  raw = read_raw_fif(file_path)\n"
     ]
    },
    {
     "name": "stdout",
     "output_type": "stream",
     "text": [
      "pred_channel.shape (15, 4096)\n",
      "Creating RawArray with float64 data, n_channels=15, n_times=4096\n",
      "    Range : 0 ... 4095 =      0.000 ...    15.996 secs\n",
      "Ready.\n",
      "Writing E:\\jupyter file\\EEG_process\\SE_train_processed\\Z黄金燕20220311_bias_0.fif\n",
      "Closing E:\\jupyter file\\EEG_process\\SE_train_processed\\Z黄金燕20220311_bias_0.fif\n",
      "[done]\n",
      "../SE_train_processed/Z黄金燕20220314_bias_0.fif\n",
      "Opening raw data file ../SE_train\\Z黄金燕20220314_bias_0.fif...\n",
      "Isotrak not found\n",
      "    Range : 42873 ... 59257 =     41.868 ...    57.868 secs\n",
      "Ready.\n",
      "data_256.shape (15, 4096)\n",
      "data_256_samples.shape (15, 8, 512)\n",
      "data_sta.shape (15, 8, 512)\n",
      "data_x.shape: (120, 512, 1)\n"
     ]
    },
    {
     "name": "stderr",
     "output_type": "stream",
     "text": [
      "<ipython-input-4-6623eb51b1f6>:73: RuntimeWarning: This filename (E:\\jupyter file\\EEG_process\\SE_train_processed\\Z黄金燕20220311_bias_0.fif) does not conform to MNE naming conventions. All raw files should end with raw.fif, raw_sss.fif, raw_tsss.fif, _meg.fif, _eeg.fif, _ieeg.fif, raw.fif.gz, raw_sss.fif.gz, raw_tsss.fif.gz, _meg.fif.gz, _eeg.fif.gz or _ieeg.fif.gz\n",
      "  custom_raw.save(save_path,overwrite=True)\n",
      "<ipython-input-4-6623eb51b1f6>:2: RuntimeWarning: This filename (../SE_train\\Z黄金燕20220314_bias_0.fif) does not conform to MNE naming conventions. All raw files should end with raw.fif, raw_sss.fif, raw_tsss.fif, _meg.fif, _eeg.fif, _ieeg.fif, raw.fif.gz, raw_sss.fif.gz, raw_tsss.fif.gz, _meg.fif.gz, _eeg.fif.gz or _ieeg.fif.gz\n",
      "  raw = read_raw_fif(file_path)\n"
     ]
    },
    {
     "name": "stdout",
     "output_type": "stream",
     "text": [
      "pred_channel.shape (15, 4096)\n",
      "Creating RawArray with float64 data, n_channels=15, n_times=4096\n",
      "    Range : 0 ... 4095 =      0.000 ...    15.996 secs\n",
      "Ready.\n",
      "Writing E:\\jupyter file\\EEG_process\\SE_train_processed\\Z黄金燕20220314_bias_0.fif\n",
      "Closing E:\\jupyter file\\EEG_process\\SE_train_processed\\Z黄金燕20220314_bias_0.fif\n",
      "[done]\n",
      "../SE_train_processed/Z黄金燕20220316_bias_0.fif\n",
      "Opening raw data file ../SE_train\\Z黄金燕20220316_bias_0.fif...\n",
      "Isotrak not found\n",
      "    Range : 69652 ... 86036 =     68.020 ...    84.020 secs\n",
      "Ready.\n",
      "data_256.shape (15, 4096)\n",
      "data_256_samples.shape (15, 8, 512)\n",
      "data_sta.shape (15, 8, 512)\n",
      "data_x.shape: (120, 512, 1)\n"
     ]
    },
    {
     "name": "stderr",
     "output_type": "stream",
     "text": [
      "<ipython-input-4-6623eb51b1f6>:73: RuntimeWarning: This filename (E:\\jupyter file\\EEG_process\\SE_train_processed\\Z黄金燕20220314_bias_0.fif) does not conform to MNE naming conventions. All raw files should end with raw.fif, raw_sss.fif, raw_tsss.fif, _meg.fif, _eeg.fif, _ieeg.fif, raw.fif.gz, raw_sss.fif.gz, raw_tsss.fif.gz, _meg.fif.gz, _eeg.fif.gz or _ieeg.fif.gz\n",
      "  custom_raw.save(save_path,overwrite=True)\n",
      "<ipython-input-4-6623eb51b1f6>:2: RuntimeWarning: This filename (../SE_train\\Z黄金燕20220316_bias_0.fif) does not conform to MNE naming conventions. All raw files should end with raw.fif, raw_sss.fif, raw_tsss.fif, _meg.fif, _eeg.fif, _ieeg.fif, raw.fif.gz, raw_sss.fif.gz, raw_tsss.fif.gz, _meg.fif.gz, _eeg.fif.gz or _ieeg.fif.gz\n",
      "  raw = read_raw_fif(file_path)\n"
     ]
    },
    {
     "name": "stdout",
     "output_type": "stream",
     "text": [
      "pred_channel.shape (15, 4096)\n",
      "Creating RawArray with float64 data, n_channels=15, n_times=4096\n",
      "    Range : 0 ... 4095 =      0.000 ...    15.996 secs\n",
      "Ready.\n",
      "Writing E:\\jupyter file\\EEG_process\\SE_train_processed\\Z黄金燕20220316_bias_0.fif\n",
      "Closing E:\\jupyter file\\EEG_process\\SE_train_processed\\Z黄金燕20220316_bias_0.fif\n",
      "[done]\n",
      "../SE_train_processed/Z齐金钢20220223_bias_0.fif\n",
      "Opening raw data file ../SE_train\\Z齐金钢20220223_bias_0.fif...\n",
      "Isotrak not found\n",
      "    Range : 15380 ... 31764 =     15.020 ...    31.020 secs\n",
      "Ready.\n",
      "data_256.shape (15, 4096)\n",
      "data_256_samples.shape (15, 8, 512)\n",
      "data_sta.shape (15, 8, 512)\n",
      "data_x.shape: (120, 512, 1)\n"
     ]
    },
    {
     "name": "stderr",
     "output_type": "stream",
     "text": [
      "<ipython-input-4-6623eb51b1f6>:73: RuntimeWarning: This filename (E:\\jupyter file\\EEG_process\\SE_train_processed\\Z黄金燕20220316_bias_0.fif) does not conform to MNE naming conventions. All raw files should end with raw.fif, raw_sss.fif, raw_tsss.fif, _meg.fif, _eeg.fif, _ieeg.fif, raw.fif.gz, raw_sss.fif.gz, raw_tsss.fif.gz, _meg.fif.gz, _eeg.fif.gz or _ieeg.fif.gz\n",
      "  custom_raw.save(save_path,overwrite=True)\n",
      "<ipython-input-4-6623eb51b1f6>:2: RuntimeWarning: This filename (../SE_train\\Z齐金钢20220223_bias_0.fif) does not conform to MNE naming conventions. All raw files should end with raw.fif, raw_sss.fif, raw_tsss.fif, _meg.fif, _eeg.fif, _ieeg.fif, raw.fif.gz, raw_sss.fif.gz, raw_tsss.fif.gz, _meg.fif.gz, _eeg.fif.gz or _ieeg.fif.gz\n",
      "  raw = read_raw_fif(file_path)\n"
     ]
    },
    {
     "name": "stdout",
     "output_type": "stream",
     "text": [
      "pred_channel.shape (15, 4096)\n",
      "Creating RawArray with float64 data, n_channels=15, n_times=4096\n",
      "    Range : 0 ... 4095 =      0.000 ...    15.996 secs\n",
      "Ready.\n",
      "Writing E:\\jupyter file\\EEG_process\\SE_train_processed\\Z齐金钢20220223_bias_0.fif\n",
      "Closing E:\\jupyter file\\EEG_process\\SE_train_processed\\Z齐金钢20220223_bias_0.fif\n",
      "[done]\n",
      "../SE_train_processed/Z齐金钢20220225_bias_0.fif\n",
      "Opening raw data file ../SE_train\\Z齐金钢20220225_bias_0.fif...\n",
      "Isotrak not found\n",
      "    Range : 8174 ... 24558 =      7.982 ...    23.982 secs\n",
      "Ready.\n",
      "data_256.shape (15, 4096)\n",
      "data_256_samples.shape (15, 8, 512)\n",
      "data_sta.shape (15, 8, 512)\n",
      "data_x.shape: (120, 512, 1)\n"
     ]
    },
    {
     "name": "stderr",
     "output_type": "stream",
     "text": [
      "<ipython-input-4-6623eb51b1f6>:73: RuntimeWarning: This filename (E:\\jupyter file\\EEG_process\\SE_train_processed\\Z齐金钢20220223_bias_0.fif) does not conform to MNE naming conventions. All raw files should end with raw.fif, raw_sss.fif, raw_tsss.fif, _meg.fif, _eeg.fif, _ieeg.fif, raw.fif.gz, raw_sss.fif.gz, raw_tsss.fif.gz, _meg.fif.gz, _eeg.fif.gz or _ieeg.fif.gz\n",
      "  custom_raw.save(save_path,overwrite=True)\n",
      "<ipython-input-4-6623eb51b1f6>:2: RuntimeWarning: This filename (../SE_train\\Z齐金钢20220225_bias_0.fif) does not conform to MNE naming conventions. All raw files should end with raw.fif, raw_sss.fif, raw_tsss.fif, _meg.fif, _eeg.fif, _ieeg.fif, raw.fif.gz, raw_sss.fif.gz, raw_tsss.fif.gz, _meg.fif.gz, _eeg.fif.gz or _ieeg.fif.gz\n",
      "  raw = read_raw_fif(file_path)\n"
     ]
    },
    {
     "name": "stdout",
     "output_type": "stream",
     "text": [
      "pred_channel.shape (15, 4096)\n",
      "Creating RawArray with float64 data, n_channels=15, n_times=4096\n",
      "    Range : 0 ... 4095 =      0.000 ...    15.996 secs\n",
      "Ready.\n",
      "Writing E:\\jupyter file\\EEG_process\\SE_train_processed\\Z齐金钢20220225_bias_0.fif\n",
      "Closing E:\\jupyter file\\EEG_process\\SE_train_processed\\Z齐金钢20220225_bias_0.fif\n",
      "[done]\n",
      "../SE_train_processed/Z齐金钢20220228_bias_0.fif\n",
      "Opening raw data file ../SE_train\\Z齐金钢20220228_bias_0.fif...\n",
      "Isotrak not found\n",
      "    Range : 20991 ... 37375 =     20.499 ...    36.499 secs\n",
      "Ready.\n",
      "data_256.shape (15, 4096)\n",
      "data_256_samples.shape (15, 8, 512)\n",
      "data_sta.shape (15, 8, 512)\n",
      "data_x.shape: (120, 512, 1)\n"
     ]
    },
    {
     "name": "stderr",
     "output_type": "stream",
     "text": [
      "<ipython-input-4-6623eb51b1f6>:73: RuntimeWarning: This filename (E:\\jupyter file\\EEG_process\\SE_train_processed\\Z齐金钢20220225_bias_0.fif) does not conform to MNE naming conventions. All raw files should end with raw.fif, raw_sss.fif, raw_tsss.fif, _meg.fif, _eeg.fif, _ieeg.fif, raw.fif.gz, raw_sss.fif.gz, raw_tsss.fif.gz, _meg.fif.gz, _eeg.fif.gz or _ieeg.fif.gz\n",
      "  custom_raw.save(save_path,overwrite=True)\n",
      "<ipython-input-4-6623eb51b1f6>:2: RuntimeWarning: This filename (../SE_train\\Z齐金钢20220228_bias_0.fif) does not conform to MNE naming conventions. All raw files should end with raw.fif, raw_sss.fif, raw_tsss.fif, _meg.fif, _eeg.fif, _ieeg.fif, raw.fif.gz, raw_sss.fif.gz, raw_tsss.fif.gz, _meg.fif.gz, _eeg.fif.gz or _ieeg.fif.gz\n",
      "  raw = read_raw_fif(file_path)\n"
     ]
    },
    {
     "name": "stdout",
     "output_type": "stream",
     "text": [
      "pred_channel.shape (15, 4096)\n",
      "Creating RawArray with float64 data, n_channels=15, n_times=4096\n",
      "    Range : 0 ... 4095 =      0.000 ...    15.996 secs\n",
      "Ready.\n",
      "Writing E:\\jupyter file\\EEG_process\\SE_train_processed\\Z齐金钢20220228_bias_0.fif\n",
      "Closing E:\\jupyter file\\EEG_process\\SE_train_processed\\Z齐金钢20220228_bias_0.fif\n",
      "[done]\n",
      "../SE_train_processed/Z齐金钢20220302_bias_0.fif\n",
      "Opening raw data file ../SE_train\\Z齐金钢20220302_bias_0.fif...\n",
      "Isotrak not found\n",
      "    Range : 150366 ... 166750 =    146.842 ...   162.842 secs\n",
      "Ready.\n",
      "data_256.shape (15, 4096)\n",
      "data_256_samples.shape (15, 8, 512)\n",
      "data_sta.shape (15, 8, 512)\n",
      "data_x.shape: (120, 512, 1)\n"
     ]
    },
    {
     "name": "stderr",
     "output_type": "stream",
     "text": [
      "<ipython-input-4-6623eb51b1f6>:73: RuntimeWarning: This filename (E:\\jupyter file\\EEG_process\\SE_train_processed\\Z齐金钢20220228_bias_0.fif) does not conform to MNE naming conventions. All raw files should end with raw.fif, raw_sss.fif, raw_tsss.fif, _meg.fif, _eeg.fif, _ieeg.fif, raw.fif.gz, raw_sss.fif.gz, raw_tsss.fif.gz, _meg.fif.gz, _eeg.fif.gz or _ieeg.fif.gz\n",
      "  custom_raw.save(save_path,overwrite=True)\n",
      "<ipython-input-4-6623eb51b1f6>:2: RuntimeWarning: This filename (../SE_train\\Z齐金钢20220302_bias_0.fif) does not conform to MNE naming conventions. All raw files should end with raw.fif, raw_sss.fif, raw_tsss.fif, _meg.fif, _eeg.fif, _ieeg.fif, raw.fif.gz, raw_sss.fif.gz, raw_tsss.fif.gz, _meg.fif.gz, _eeg.fif.gz or _ieeg.fif.gz\n",
      "  raw = read_raw_fif(file_path)\n"
     ]
    },
    {
     "name": "stdout",
     "output_type": "stream",
     "text": [
      "pred_channel.shape (15, 4096)\n",
      "Creating RawArray with float64 data, n_channels=15, n_times=4096\n",
      "    Range : 0 ... 4095 =      0.000 ...    15.996 secs\n",
      "Ready.\n",
      "Writing E:\\jupyter file\\EEG_process\\SE_train_processed\\Z齐金钢20220302_bias_0.fif\n",
      "Closing E:\\jupyter file\\EEG_process\\SE_train_processed\\Z齐金钢20220302_bias_0.fif\n",
      "[done]\n",
      "../SE_test_processed/Z宋志辉20220318.fif\n",
      "Opening raw data file ../SE_test\\Z宋志辉20220318.fif...\n",
      "Isotrak not found\n",
      "    Range : 1938945 ... 1955329 =   1893.501 ...  1909.501 secs\n",
      "Ready.\n",
      "data_256.shape (15, 4096)\n",
      "data_256_samples.shape (15, 8, 512)\n",
      "data_sta.shape (15, 8, 512)\n",
      "data_x.shape: (120, 512, 1)\n"
     ]
    },
    {
     "name": "stderr",
     "output_type": "stream",
     "text": [
      "<ipython-input-4-6623eb51b1f6>:73: RuntimeWarning: This filename (E:\\jupyter file\\EEG_process\\SE_train_processed\\Z齐金钢20220302_bias_0.fif) does not conform to MNE naming conventions. All raw files should end with raw.fif, raw_sss.fif, raw_tsss.fif, _meg.fif, _eeg.fif, _ieeg.fif, raw.fif.gz, raw_sss.fif.gz, raw_tsss.fif.gz, _meg.fif.gz, _eeg.fif.gz or _ieeg.fif.gz\n",
      "  custom_raw.save(save_path,overwrite=True)\n",
      "<ipython-input-4-6623eb51b1f6>:2: RuntimeWarning: This filename (../SE_test\\Z宋志辉20220318.fif) does not conform to MNE naming conventions. All raw files should end with raw.fif, raw_sss.fif, raw_tsss.fif, _meg.fif, _eeg.fif, _ieeg.fif, raw.fif.gz, raw_sss.fif.gz, raw_tsss.fif.gz, _meg.fif.gz, _eeg.fif.gz or _ieeg.fif.gz\n",
      "  raw = read_raw_fif(file_path)\n"
     ]
    },
    {
     "name": "stdout",
     "output_type": "stream",
     "text": [
      "pred_channel.shape (15, 4096)\n",
      "Creating RawArray with float64 data, n_channels=15, n_times=4096\n",
      "    Range : 0 ... 4095 =      0.000 ...    15.996 secs\n",
      "Ready.\n",
      "Writing E:\\jupyter file\\EEG_process\\SE_test_processed\\Z宋志辉20220318.fif\n",
      "Closing E:\\jupyter file\\EEG_process\\SE_test_processed\\Z宋志辉20220318.fif\n",
      "[done]\n",
      "../SE_test_processed/Z宋志辉20220321.fif\n",
      "Opening raw data file ../SE_test\\Z宋志辉20220321.fif...\n",
      "Isotrak not found\n",
      "    Range : 45152 ... 61536 =     44.094 ...    60.094 secs\n",
      "Ready.\n",
      "data_256.shape (15, 4096)\n",
      "data_256_samples.shape (15, 8, 512)\n",
      "data_sta.shape (15, 8, 512)\n",
      "data_x.shape: (120, 512, 1)\n"
     ]
    },
    {
     "name": "stderr",
     "output_type": "stream",
     "text": [
      "<ipython-input-4-6623eb51b1f6>:73: RuntimeWarning: This filename (E:\\jupyter file\\EEG_process\\SE_test_processed\\Z宋志辉20220318.fif) does not conform to MNE naming conventions. All raw files should end with raw.fif, raw_sss.fif, raw_tsss.fif, _meg.fif, _eeg.fif, _ieeg.fif, raw.fif.gz, raw_sss.fif.gz, raw_tsss.fif.gz, _meg.fif.gz, _eeg.fif.gz or _ieeg.fif.gz\n",
      "  custom_raw.save(save_path,overwrite=True)\n",
      "<ipython-input-4-6623eb51b1f6>:2: RuntimeWarning: This filename (../SE_test\\Z宋志辉20220321.fif) does not conform to MNE naming conventions. All raw files should end with raw.fif, raw_sss.fif, raw_tsss.fif, _meg.fif, _eeg.fif, _ieeg.fif, raw.fif.gz, raw_sss.fif.gz, raw_tsss.fif.gz, _meg.fif.gz, _eeg.fif.gz or _ieeg.fif.gz\n",
      "  raw = read_raw_fif(file_path)\n"
     ]
    },
    {
     "name": "stdout",
     "output_type": "stream",
     "text": [
      "pred_channel.shape (15, 4096)\n",
      "Creating RawArray with float64 data, n_channels=15, n_times=4096\n",
      "    Range : 0 ... 4095 =      0.000 ...    15.996 secs\n",
      "Ready.\n",
      "Writing E:\\jupyter file\\EEG_process\\SE_test_processed\\Z宋志辉20220321.fif\n",
      "Closing E:\\jupyter file\\EEG_process\\SE_test_processed\\Z宋志辉20220321.fif\n",
      "[done]\n",
      "../SE_test_processed/Z宋志辉20220323.fif\n",
      "Opening raw data file ../SE_test\\Z宋志辉20220323.fif...\n",
      "Isotrak not found\n",
      "    Range : 114314 ... 130698 =    111.635 ...   127.635 secs\n",
      "Ready.\n",
      "data_256.shape (15, 4096)\n",
      "data_256_samples.shape (15, 8, 512)\n",
      "data_sta.shape (15, 8, 512)\n",
      "data_x.shape: (120, 512, 1)\n"
     ]
    },
    {
     "name": "stderr",
     "output_type": "stream",
     "text": [
      "<ipython-input-4-6623eb51b1f6>:73: RuntimeWarning: This filename (E:\\jupyter file\\EEG_process\\SE_test_processed\\Z宋志辉20220321.fif) does not conform to MNE naming conventions. All raw files should end with raw.fif, raw_sss.fif, raw_tsss.fif, _meg.fif, _eeg.fif, _ieeg.fif, raw.fif.gz, raw_sss.fif.gz, raw_tsss.fif.gz, _meg.fif.gz, _eeg.fif.gz or _ieeg.fif.gz\n",
      "  custom_raw.save(save_path,overwrite=True)\n",
      "<ipython-input-4-6623eb51b1f6>:2: RuntimeWarning: This filename (../SE_test\\Z宋志辉20220323.fif) does not conform to MNE naming conventions. All raw files should end with raw.fif, raw_sss.fif, raw_tsss.fif, _meg.fif, _eeg.fif, _ieeg.fif, raw.fif.gz, raw_sss.fif.gz, raw_tsss.fif.gz, _meg.fif.gz, _eeg.fif.gz or _ieeg.fif.gz\n",
      "  raw = read_raw_fif(file_path)\n"
     ]
    },
    {
     "name": "stdout",
     "output_type": "stream",
     "text": [
      "pred_channel.shape (15, 4096)\n",
      "Creating RawArray with float64 data, n_channels=15, n_times=4096\n",
      "    Range : 0 ... 4095 =      0.000 ...    15.996 secs\n",
      "Ready.\n",
      "Writing E:\\jupyter file\\EEG_process\\SE_test_processed\\Z宋志辉20220323.fif\n",
      "Closing E:\\jupyter file\\EEG_process\\SE_test_processed\\Z宋志辉20220323.fif\n",
      "[done]\n",
      "../SE_test_processed/Z宋志辉20220325.fif\n",
      "Opening raw data file ../SE_test\\Z宋志辉20220325.fif...\n",
      "Isotrak not found\n",
      "    Range : 30885 ... 47269 =     30.161 ...    46.161 secs\n",
      "Ready.\n",
      "data_256.shape (15, 4096)\n",
      "data_256_samples.shape (15, 8, 512)\n",
      "data_sta.shape (15, 8, 512)\n",
      "data_x.shape: (120, 512, 1)\n"
     ]
    },
    {
     "name": "stderr",
     "output_type": "stream",
     "text": [
      "<ipython-input-4-6623eb51b1f6>:73: RuntimeWarning: This filename (E:\\jupyter file\\EEG_process\\SE_test_processed\\Z宋志辉20220323.fif) does not conform to MNE naming conventions. All raw files should end with raw.fif, raw_sss.fif, raw_tsss.fif, _meg.fif, _eeg.fif, _ieeg.fif, raw.fif.gz, raw_sss.fif.gz, raw_tsss.fif.gz, _meg.fif.gz, _eeg.fif.gz or _ieeg.fif.gz\n",
      "  custom_raw.save(save_path,overwrite=True)\n",
      "<ipython-input-4-6623eb51b1f6>:2: RuntimeWarning: This filename (../SE_test\\Z宋志辉20220325.fif) does not conform to MNE naming conventions. All raw files should end with raw.fif, raw_sss.fif, raw_tsss.fif, _meg.fif, _eeg.fif, _ieeg.fif, raw.fif.gz, raw_sss.fif.gz, raw_tsss.fif.gz, _meg.fif.gz, _eeg.fif.gz or _ieeg.fif.gz\n",
      "  raw = read_raw_fif(file_path)\n"
     ]
    },
    {
     "name": "stdout",
     "output_type": "stream",
     "text": [
      "pred_channel.shape (15, 4096)\n",
      "Creating RawArray with float64 data, n_channels=15, n_times=4096\n",
      "    Range : 0 ... 4095 =      0.000 ...    15.996 secs\n",
      "Ready.\n",
      "Writing E:\\jupyter file\\EEG_process\\SE_test_processed\\Z宋志辉20220325.fif\n",
      "Closing E:\\jupyter file\\EEG_process\\SE_test_processed\\Z宋志辉20220325.fif\n",
      "[done]\n",
      "../SE_test_processed/Z李玉萍20220216.fif\n",
      "Opening raw data file ../SE_test\\Z李玉萍20220216.fif...\n",
      "Isotrak not found\n",
      "    Range : 50628 ... 67012 =     49.441 ...    65.441 secs\n",
      "Ready.\n",
      "data_256.shape (15, 4096)\n",
      "data_256_samples.shape (15, 8, 512)\n",
      "data_sta.shape (15, 8, 512)\n",
      "data_x.shape: (120, 512, 1)\n"
     ]
    },
    {
     "name": "stderr",
     "output_type": "stream",
     "text": [
      "<ipython-input-4-6623eb51b1f6>:73: RuntimeWarning: This filename (E:\\jupyter file\\EEG_process\\SE_test_processed\\Z宋志辉20220325.fif) does not conform to MNE naming conventions. All raw files should end with raw.fif, raw_sss.fif, raw_tsss.fif, _meg.fif, _eeg.fif, _ieeg.fif, raw.fif.gz, raw_sss.fif.gz, raw_tsss.fif.gz, _meg.fif.gz, _eeg.fif.gz or _ieeg.fif.gz\n",
      "  custom_raw.save(save_path,overwrite=True)\n",
      "<ipython-input-4-6623eb51b1f6>:2: RuntimeWarning: This filename (../SE_test\\Z李玉萍20220216.fif) does not conform to MNE naming conventions. All raw files should end with raw.fif, raw_sss.fif, raw_tsss.fif, _meg.fif, _eeg.fif, _ieeg.fif, raw.fif.gz, raw_sss.fif.gz, raw_tsss.fif.gz, _meg.fif.gz, _eeg.fif.gz or _ieeg.fif.gz\n",
      "  raw = read_raw_fif(file_path)\n"
     ]
    },
    {
     "name": "stdout",
     "output_type": "stream",
     "text": [
      "pred_channel.shape (15, 4096)\n",
      "Creating RawArray with float64 data, n_channels=15, n_times=4096\n",
      "    Range : 0 ... 4095 =      0.000 ...    15.996 secs\n",
      "Ready.\n",
      "Writing E:\\jupyter file\\EEG_process\\SE_test_processed\\Z李玉萍20220216.fif\n",
      "Closing E:\\jupyter file\\EEG_process\\SE_test_processed\\Z李玉萍20220216.fif\n",
      "[done]\n",
      "../SE_test_processed/Z李玉萍20220218.fif\n",
      "Opening raw data file ../SE_test\\Z李玉萍20220218.fif...\n",
      "Isotrak not found\n",
      "    Range : 55675 ... 72059 =     54.370 ...    70.370 secs\n",
      "Ready.\n",
      "data_256.shape (15, 4096)\n",
      "data_256_samples.shape (15, 8, 512)\n",
      "data_sta.shape (15, 8, 512)\n",
      "data_x.shape: (120, 512, 1)\n"
     ]
    },
    {
     "name": "stderr",
     "output_type": "stream",
     "text": [
      "<ipython-input-4-6623eb51b1f6>:73: RuntimeWarning: This filename (E:\\jupyter file\\EEG_process\\SE_test_processed\\Z李玉萍20220216.fif) does not conform to MNE naming conventions. All raw files should end with raw.fif, raw_sss.fif, raw_tsss.fif, _meg.fif, _eeg.fif, _ieeg.fif, raw.fif.gz, raw_sss.fif.gz, raw_tsss.fif.gz, _meg.fif.gz, _eeg.fif.gz or _ieeg.fif.gz\n",
      "  custom_raw.save(save_path,overwrite=True)\n",
      "<ipython-input-4-6623eb51b1f6>:2: RuntimeWarning: This filename (../SE_test\\Z李玉萍20220218.fif) does not conform to MNE naming conventions. All raw files should end with raw.fif, raw_sss.fif, raw_tsss.fif, _meg.fif, _eeg.fif, _ieeg.fif, raw.fif.gz, raw_sss.fif.gz, raw_tsss.fif.gz, _meg.fif.gz, _eeg.fif.gz or _ieeg.fif.gz\n",
      "  raw = read_raw_fif(file_path)\n"
     ]
    },
    {
     "name": "stdout",
     "output_type": "stream",
     "text": [
      "pred_channel.shape (15, 4096)\n",
      "Creating RawArray with float64 data, n_channels=15, n_times=4096\n",
      "    Range : 0 ... 4095 =      0.000 ...    15.996 secs\n",
      "Ready.\n",
      "Writing E:\\jupyter file\\EEG_process\\SE_test_processed\\Z李玉萍20220218.fif\n",
      "Closing E:\\jupyter file\\EEG_process\\SE_test_processed\\Z李玉萍20220218.fif\n",
      "[done]\n",
      "../SE_test_processed/Z李玉萍20220221（未发作）.fif\n",
      "Opening raw data file ../SE_test\\Z李玉萍20220221（未发作）.fif...\n",
      "Isotrak not found\n",
      "    Range : 37414 ... 53798 =     36.537 ...    52.537 secs\n",
      "Ready.\n",
      "data_256.shape (15, 4096)\n",
      "data_256_samples.shape (15, 8, 512)\n",
      "data_sta.shape (15, 8, 512)\n",
      "data_x.shape: (120, 512, 1)\n"
     ]
    },
    {
     "name": "stderr",
     "output_type": "stream",
     "text": [
      "<ipython-input-4-6623eb51b1f6>:73: RuntimeWarning: This filename (E:\\jupyter file\\EEG_process\\SE_test_processed\\Z李玉萍20220218.fif) does not conform to MNE naming conventions. All raw files should end with raw.fif, raw_sss.fif, raw_tsss.fif, _meg.fif, _eeg.fif, _ieeg.fif, raw.fif.gz, raw_sss.fif.gz, raw_tsss.fif.gz, _meg.fif.gz, _eeg.fif.gz or _ieeg.fif.gz\n",
      "  custom_raw.save(save_path,overwrite=True)\n",
      "<ipython-input-4-6623eb51b1f6>:2: RuntimeWarning: This filename (../SE_test\\Z李玉萍20220221（未发作）.fif) does not conform to MNE naming conventions. All raw files should end with raw.fif, raw_sss.fif, raw_tsss.fif, _meg.fif, _eeg.fif, _ieeg.fif, raw.fif.gz, raw_sss.fif.gz, raw_tsss.fif.gz, _meg.fif.gz, _eeg.fif.gz or _ieeg.fif.gz\n",
      "  raw = read_raw_fif(file_path)\n"
     ]
    },
    {
     "name": "stdout",
     "output_type": "stream",
     "text": [
      "pred_channel.shape (15, 4096)\n",
      "Creating RawArray with float64 data, n_channels=15, n_times=4096\n",
      "    Range : 0 ... 4095 =      0.000 ...    15.996 secs\n",
      "Ready.\n",
      "Writing E:\\jupyter file\\EEG_process\\SE_test_processed\\Z李玉萍20220221（未发作）.fif\n",
      "Closing E:\\jupyter file\\EEG_process\\SE_test_processed\\Z李玉萍20220221（未发作）.fif\n",
      "[done]\n",
      "../SE_test_processed/Z李玉萍20220223.fif\n",
      "Opening raw data file ../SE_test\\Z李玉萍20220223.fif...\n",
      "Isotrak not found\n",
      "    Range : 58082 ... 74466 =     56.721 ...    72.721 secs\n",
      "Ready.\n",
      "data_256.shape (15, 4096)\n",
      "data_256_samples.shape (15, 8, 512)\n",
      "data_sta.shape (15, 8, 512)\n",
      "data_x.shape: (120, 512, 1)\n"
     ]
    },
    {
     "name": "stderr",
     "output_type": "stream",
     "text": [
      "<ipython-input-4-6623eb51b1f6>:73: RuntimeWarning: This filename (E:\\jupyter file\\EEG_process\\SE_test_processed\\Z李玉萍20220221（未发作）.fif) does not conform to MNE naming conventions. All raw files should end with raw.fif, raw_sss.fif, raw_tsss.fif, _meg.fif, _eeg.fif, _ieeg.fif, raw.fif.gz, raw_sss.fif.gz, raw_tsss.fif.gz, _meg.fif.gz, _eeg.fif.gz or _ieeg.fif.gz\n",
      "  custom_raw.save(save_path,overwrite=True)\n",
      "<ipython-input-4-6623eb51b1f6>:2: RuntimeWarning: This filename (../SE_test\\Z李玉萍20220223.fif) does not conform to MNE naming conventions. All raw files should end with raw.fif, raw_sss.fif, raw_tsss.fif, _meg.fif, _eeg.fif, _ieeg.fif, raw.fif.gz, raw_sss.fif.gz, raw_tsss.fif.gz, _meg.fif.gz, _eeg.fif.gz or _ieeg.fif.gz\n",
      "  raw = read_raw_fif(file_path)\n"
     ]
    },
    {
     "name": "stdout",
     "output_type": "stream",
     "text": [
      "pred_channel.shape (15, 4096)\n",
      "Creating RawArray with float64 data, n_channels=15, n_times=4096\n",
      "    Range : 0 ... 4095 =      0.000 ...    15.996 secs\n",
      "Ready.\n",
      "Writing E:\\jupyter file\\EEG_process\\SE_test_processed\\Z李玉萍20220223.fif\n",
      "Closing E:\\jupyter file\\EEG_process\\SE_test_processed\\Z李玉萍20220223.fif\n",
      "[done]\n",
      "../SE_test_processed/Z沈伟20220311.fif\n",
      "Opening raw data file ../SE_test\\Z沈伟20220311.fif...\n",
      "Isotrak not found\n",
      "    Range : 331231 ... 347615 =    323.468 ...   339.468 secs\n",
      "Ready.\n",
      "data_256.shape (15, 4096)\n",
      "data_256_samples.shape (15, 8, 512)\n",
      "data_sta.shape (15, 8, 512)\n",
      "data_x.shape: (120, 512, 1)\n"
     ]
    },
    {
     "name": "stderr",
     "output_type": "stream",
     "text": [
      "<ipython-input-4-6623eb51b1f6>:73: RuntimeWarning: This filename (E:\\jupyter file\\EEG_process\\SE_test_processed\\Z李玉萍20220223.fif) does not conform to MNE naming conventions. All raw files should end with raw.fif, raw_sss.fif, raw_tsss.fif, _meg.fif, _eeg.fif, _ieeg.fif, raw.fif.gz, raw_sss.fif.gz, raw_tsss.fif.gz, _meg.fif.gz, _eeg.fif.gz or _ieeg.fif.gz\n",
      "  custom_raw.save(save_path,overwrite=True)\n",
      "<ipython-input-4-6623eb51b1f6>:2: RuntimeWarning: This filename (../SE_test\\Z沈伟20220311.fif) does not conform to MNE naming conventions. All raw files should end with raw.fif, raw_sss.fif, raw_tsss.fif, _meg.fif, _eeg.fif, _ieeg.fif, raw.fif.gz, raw_sss.fif.gz, raw_tsss.fif.gz, _meg.fif.gz, _eeg.fif.gz or _ieeg.fif.gz\n",
      "  raw = read_raw_fif(file_path)\n"
     ]
    },
    {
     "name": "stdout",
     "output_type": "stream",
     "text": [
      "pred_channel.shape (15, 4096)\n",
      "Creating RawArray with float64 data, n_channels=15, n_times=4096\n",
      "    Range : 0 ... 4095 =      0.000 ...    15.996 secs\n",
      "Ready.\n",
      "Writing E:\\jupyter file\\EEG_process\\SE_test_processed\\Z沈伟20220311.fif\n",
      "Closing E:\\jupyter file\\EEG_process\\SE_test_processed\\Z沈伟20220311.fif\n",
      "[done]\n",
      "../SE_test_processed/Z沈伟20220314（未发作）.fif\n",
      "Opening raw data file ../SE_test\\Z沈伟20220314（未发作）.fif...\n",
      "Isotrak not found\n",
      "    Range : 51179 ... 67563 =     49.979 ...    65.979 secs\n",
      "Ready.\n",
      "data_256.shape (15, 4096)\n",
      "data_256_samples.shape (15, 8, 512)\n",
      "data_sta.shape (15, 8, 512)\n",
      "data_x.shape: (120, 512, 1)\n"
     ]
    },
    {
     "name": "stderr",
     "output_type": "stream",
     "text": [
      "<ipython-input-4-6623eb51b1f6>:73: RuntimeWarning: This filename (E:\\jupyter file\\EEG_process\\SE_test_processed\\Z沈伟20220311.fif) does not conform to MNE naming conventions. All raw files should end with raw.fif, raw_sss.fif, raw_tsss.fif, _meg.fif, _eeg.fif, _ieeg.fif, raw.fif.gz, raw_sss.fif.gz, raw_tsss.fif.gz, _meg.fif.gz, _eeg.fif.gz or _ieeg.fif.gz\n",
      "  custom_raw.save(save_path,overwrite=True)\n",
      "<ipython-input-4-6623eb51b1f6>:2: RuntimeWarning: This filename (../SE_test\\Z沈伟20220314（未发作）.fif) does not conform to MNE naming conventions. All raw files should end with raw.fif, raw_sss.fif, raw_tsss.fif, _meg.fif, _eeg.fif, _ieeg.fif, raw.fif.gz, raw_sss.fif.gz, raw_tsss.fif.gz, _meg.fif.gz, _eeg.fif.gz or _ieeg.fif.gz\n",
      "  raw = read_raw_fif(file_path)\n"
     ]
    },
    {
     "name": "stdout",
     "output_type": "stream",
     "text": [
      "pred_channel.shape (15, 4096)\n",
      "Creating RawArray with float64 data, n_channels=15, n_times=4096\n",
      "    Range : 0 ... 4095 =      0.000 ...    15.996 secs\n",
      "Ready.\n",
      "Writing E:\\jupyter file\\EEG_process\\SE_test_processed\\Z沈伟20220314（未发作）.fif\n",
      "Closing E:\\jupyter file\\EEG_process\\SE_test_processed\\Z沈伟20220314（未发作）.fif\n",
      "[done]\n",
      "../SE_test_processed/Z沈伟20220316.fif\n",
      "Opening raw data file ../SE_test\\Z沈伟20220316.fif...\n",
      "Isotrak not found\n",
      "    Range : 156928 ... 173312 =    153.250 ...   169.250 secs\n",
      "Ready.\n",
      "data_256.shape (15, 4096)\n",
      "data_256_samples.shape (15, 8, 512)\n",
      "data_sta.shape (15, 8, 512)\n",
      "data_x.shape: (120, 512, 1)\n"
     ]
    },
    {
     "name": "stderr",
     "output_type": "stream",
     "text": [
      "<ipython-input-4-6623eb51b1f6>:73: RuntimeWarning: This filename (E:\\jupyter file\\EEG_process\\SE_test_processed\\Z沈伟20220314（未发作）.fif) does not conform to MNE naming conventions. All raw files should end with raw.fif, raw_sss.fif, raw_tsss.fif, _meg.fif, _eeg.fif, _ieeg.fif, raw.fif.gz, raw_sss.fif.gz, raw_tsss.fif.gz, _meg.fif.gz, _eeg.fif.gz or _ieeg.fif.gz\n",
      "  custom_raw.save(save_path,overwrite=True)\n",
      "<ipython-input-4-6623eb51b1f6>:2: RuntimeWarning: This filename (../SE_test\\Z沈伟20220316.fif) does not conform to MNE naming conventions. All raw files should end with raw.fif, raw_sss.fif, raw_tsss.fif, _meg.fif, _eeg.fif, _ieeg.fif, raw.fif.gz, raw_sss.fif.gz, raw_tsss.fif.gz, _meg.fif.gz, _eeg.fif.gz or _ieeg.fif.gz\n",
      "  raw = read_raw_fif(file_path)\n"
     ]
    },
    {
     "name": "stdout",
     "output_type": "stream",
     "text": [
      "pred_channel.shape (15, 4096)\n",
      "Creating RawArray with float64 data, n_channels=15, n_times=4096\n",
      "    Range : 0 ... 4095 =      0.000 ...    15.996 secs\n",
      "Ready.\n",
      "Writing E:\\jupyter file\\EEG_process\\SE_test_processed\\Z沈伟20220316.fif\n",
      "Closing E:\\jupyter file\\EEG_process\\SE_test_processed\\Z沈伟20220316.fif\n",
      "[done]\n",
      "../SE_test_processed/Z沈伟20220318.fif\n",
      "Opening raw data file ../SE_test\\Z沈伟20220318.fif...\n",
      "Isotrak not found\n",
      "    Range : 50914 ... 67298 =     49.721 ...    65.721 secs\n",
      "Ready.\n",
      "data_256.shape (15, 4096)\n",
      "data_256_samples.shape (15, 8, 512)\n",
      "data_sta.shape (15, 8, 512)\n",
      "data_x.shape: (120, 512, 1)\n"
     ]
    },
    {
     "name": "stderr",
     "output_type": "stream",
     "text": [
      "<ipython-input-4-6623eb51b1f6>:73: RuntimeWarning: This filename (E:\\jupyter file\\EEG_process\\SE_test_processed\\Z沈伟20220316.fif) does not conform to MNE naming conventions. All raw files should end with raw.fif, raw_sss.fif, raw_tsss.fif, _meg.fif, _eeg.fif, _ieeg.fif, raw.fif.gz, raw_sss.fif.gz, raw_tsss.fif.gz, _meg.fif.gz, _eeg.fif.gz or _ieeg.fif.gz\n",
      "  custom_raw.save(save_path,overwrite=True)\n",
      "<ipython-input-4-6623eb51b1f6>:2: RuntimeWarning: This filename (../SE_test\\Z沈伟20220318.fif) does not conform to MNE naming conventions. All raw files should end with raw.fif, raw_sss.fif, raw_tsss.fif, _meg.fif, _eeg.fif, _ieeg.fif, raw.fif.gz, raw_sss.fif.gz, raw_tsss.fif.gz, _meg.fif.gz, _eeg.fif.gz or _ieeg.fif.gz\n",
      "  raw = read_raw_fif(file_path)\n"
     ]
    },
    {
     "name": "stdout",
     "output_type": "stream",
     "text": [
      "pred_channel.shape (15, 4096)\n",
      "Creating RawArray with float64 data, n_channels=15, n_times=4096\n",
      "    Range : 0 ... 4095 =      0.000 ...    15.996 secs\n",
      "Ready.\n",
      "Writing E:\\jupyter file\\EEG_process\\SE_test_processed\\Z沈伟20220318.fif\n",
      "Closing E:\\jupyter file\\EEG_process\\SE_test_processed\\Z沈伟20220318.fif\n",
      "[done]\n",
      "../SE_test_processed/Z赵丽兰20220225.fif\n",
      "Opening raw data file ../SE_test\\Z赵丽兰20220225.fif...\n",
      "Isotrak not found\n",
      "    Range : 4874 ... 21258 =      4.760 ...    20.760 secs\n",
      "Ready.\n",
      "data_256.shape (15, 4096)\n",
      "data_256_samples.shape (15, 8, 512)\n",
      "data_sta.shape (15, 8, 512)\n",
      "data_x.shape: (120, 512, 1)\n"
     ]
    },
    {
     "name": "stderr",
     "output_type": "stream",
     "text": [
      "<ipython-input-4-6623eb51b1f6>:73: RuntimeWarning: This filename (E:\\jupyter file\\EEG_process\\SE_test_processed\\Z沈伟20220318.fif) does not conform to MNE naming conventions. All raw files should end with raw.fif, raw_sss.fif, raw_tsss.fif, _meg.fif, _eeg.fif, _ieeg.fif, raw.fif.gz, raw_sss.fif.gz, raw_tsss.fif.gz, _meg.fif.gz, _eeg.fif.gz or _ieeg.fif.gz\n",
      "  custom_raw.save(save_path,overwrite=True)\n",
      "<ipython-input-4-6623eb51b1f6>:2: RuntimeWarning: This filename (../SE_test\\Z赵丽兰20220225.fif) does not conform to MNE naming conventions. All raw files should end with raw.fif, raw_sss.fif, raw_tsss.fif, _meg.fif, _eeg.fif, _ieeg.fif, raw.fif.gz, raw_sss.fif.gz, raw_tsss.fif.gz, _meg.fif.gz, _eeg.fif.gz or _ieeg.fif.gz\n",
      "  raw = read_raw_fif(file_path)\n"
     ]
    },
    {
     "name": "stdout",
     "output_type": "stream",
     "text": [
      "pred_channel.shape (15, 4096)\n",
      "Creating RawArray with float64 data, n_channels=15, n_times=4096\n",
      "    Range : 0 ... 4095 =      0.000 ...    15.996 secs\n",
      "Ready.\n",
      "Writing E:\\jupyter file\\EEG_process\\SE_test_processed\\Z赵丽兰20220225.fif\n",
      "Closing E:\\jupyter file\\EEG_process\\SE_test_processed\\Z赵丽兰20220225.fif\n",
      "[done]\n",
      "../SE_test_processed/Z赵丽兰20220228.fif\n",
      "Opening raw data file ../SE_test\\Z赵丽兰20220228.fif...\n",
      "Isotrak not found\n",
      "    Range : 25224 ... 41608 =     24.633 ...    40.633 secs\n",
      "Ready.\n",
      "data_256.shape (15, 4096)\n",
      "data_256_samples.shape (15, 8, 512)\n",
      "data_sta.shape (15, 8, 512)\n",
      "data_x.shape: (120, 512, 1)\n"
     ]
    },
    {
     "name": "stderr",
     "output_type": "stream",
     "text": [
      "<ipython-input-4-6623eb51b1f6>:73: RuntimeWarning: This filename (E:\\jupyter file\\EEG_process\\SE_test_processed\\Z赵丽兰20220225.fif) does not conform to MNE naming conventions. All raw files should end with raw.fif, raw_sss.fif, raw_tsss.fif, _meg.fif, _eeg.fif, _ieeg.fif, raw.fif.gz, raw_sss.fif.gz, raw_tsss.fif.gz, _meg.fif.gz, _eeg.fif.gz or _ieeg.fif.gz\n",
      "  custom_raw.save(save_path,overwrite=True)\n",
      "<ipython-input-4-6623eb51b1f6>:2: RuntimeWarning: This filename (../SE_test\\Z赵丽兰20220228.fif) does not conform to MNE naming conventions. All raw files should end with raw.fif, raw_sss.fif, raw_tsss.fif, _meg.fif, _eeg.fif, _ieeg.fif, raw.fif.gz, raw_sss.fif.gz, raw_tsss.fif.gz, _meg.fif.gz, _eeg.fif.gz or _ieeg.fif.gz\n",
      "  raw = read_raw_fif(file_path)\n"
     ]
    },
    {
     "name": "stdout",
     "output_type": "stream",
     "text": [
      "pred_channel.shape (15, 4096)\n",
      "Creating RawArray with float64 data, n_channels=15, n_times=4096\n",
      "    Range : 0 ... 4095 =      0.000 ...    15.996 secs\n",
      "Ready.\n",
      "Writing E:\\jupyter file\\EEG_process\\SE_test_processed\\Z赵丽兰20220228.fif\n",
      "Closing E:\\jupyter file\\EEG_process\\SE_test_processed\\Z赵丽兰20220228.fif\n",
      "[done]\n",
      "../SE_test_processed/Z赵丽兰20220302.fif\n",
      "Opening raw data file ../SE_test\\Z赵丽兰20220302.fif...\n",
      "Isotrak not found\n",
      "    Range : 4442 ... 20826 =      4.338 ...    20.338 secs\n",
      "Ready.\n",
      "data_256.shape (15, 4096)\n",
      "data_256_samples.shape (15, 8, 512)\n",
      "data_sta.shape (15, 8, 512)\n",
      "data_x.shape: (120, 512, 1)\n"
     ]
    },
    {
     "name": "stderr",
     "output_type": "stream",
     "text": [
      "<ipython-input-4-6623eb51b1f6>:73: RuntimeWarning: This filename (E:\\jupyter file\\EEG_process\\SE_test_processed\\Z赵丽兰20220228.fif) does not conform to MNE naming conventions. All raw files should end with raw.fif, raw_sss.fif, raw_tsss.fif, _meg.fif, _eeg.fif, _ieeg.fif, raw.fif.gz, raw_sss.fif.gz, raw_tsss.fif.gz, _meg.fif.gz, _eeg.fif.gz or _ieeg.fif.gz\n",
      "  custom_raw.save(save_path,overwrite=True)\n",
      "<ipython-input-4-6623eb51b1f6>:2: RuntimeWarning: This filename (../SE_test\\Z赵丽兰20220302.fif) does not conform to MNE naming conventions. All raw files should end with raw.fif, raw_sss.fif, raw_tsss.fif, _meg.fif, _eeg.fif, _ieeg.fif, raw.fif.gz, raw_sss.fif.gz, raw_tsss.fif.gz, _meg.fif.gz, _eeg.fif.gz or _ieeg.fif.gz\n",
      "  raw = read_raw_fif(file_path)\n"
     ]
    },
    {
     "name": "stdout",
     "output_type": "stream",
     "text": [
      "pred_channel.shape (15, 4096)\n",
      "Creating RawArray with float64 data, n_channels=15, n_times=4096\n",
      "    Range : 0 ... 4095 =      0.000 ...    15.996 secs\n",
      "Ready.\n",
      "Writing E:\\jupyter file\\EEG_process\\SE_test_processed\\Z赵丽兰20220302.fif\n",
      "Closing E:\\jupyter file\\EEG_process\\SE_test_processed\\Z赵丽兰20220302.fif\n",
      "[done]\n",
      "../SE_test_processed/Z赵丽兰20220304.fif\n",
      "Opening raw data file ../SE_test\\Z赵丽兰20220304.fif...\n",
      "Isotrak not found\n",
      "    Range : 2779 ... 19163 =      2.714 ...    18.714 secs\n",
      "Ready.\n",
      "data_256.shape (15, 4096)\n",
      "data_256_samples.shape (15, 8, 512)\n",
      "data_sta.shape (15, 8, 512)\n",
      "data_x.shape: (120, 512, 1)\n"
     ]
    },
    {
     "name": "stderr",
     "output_type": "stream",
     "text": [
      "<ipython-input-4-6623eb51b1f6>:73: RuntimeWarning: This filename (E:\\jupyter file\\EEG_process\\SE_test_processed\\Z赵丽兰20220302.fif) does not conform to MNE naming conventions. All raw files should end with raw.fif, raw_sss.fif, raw_tsss.fif, _meg.fif, _eeg.fif, _ieeg.fif, raw.fif.gz, raw_sss.fif.gz, raw_tsss.fif.gz, _meg.fif.gz, _eeg.fif.gz or _ieeg.fif.gz\n",
      "  custom_raw.save(save_path,overwrite=True)\n",
      "<ipython-input-4-6623eb51b1f6>:2: RuntimeWarning: This filename (../SE_test\\Z赵丽兰20220304.fif) does not conform to MNE naming conventions. All raw files should end with raw.fif, raw_sss.fif, raw_tsss.fif, _meg.fif, _eeg.fif, _ieeg.fif, raw.fif.gz, raw_sss.fif.gz, raw_tsss.fif.gz, _meg.fif.gz, _eeg.fif.gz or _ieeg.fif.gz\n",
      "  raw = read_raw_fif(file_path)\n"
     ]
    },
    {
     "name": "stdout",
     "output_type": "stream",
     "text": [
      "pred_channel.shape (15, 4096)\n",
      "Creating RawArray with float64 data, n_channels=15, n_times=4096\n",
      "    Range : 0 ... 4095 =      0.000 ...    15.996 secs\n",
      "Ready.\n",
      "Writing E:\\jupyter file\\EEG_process\\SE_test_processed\\Z赵丽兰20220304.fif\n",
      "Closing E:\\jupyter file\\EEG_process\\SE_test_processed\\Z赵丽兰20220304.fif\n",
      "[done]\n"
     ]
    },
    {
     "name": "stderr",
     "output_type": "stream",
     "text": [
      "<ipython-input-4-6623eb51b1f6>:73: RuntimeWarning: This filename (E:\\jupyter file\\EEG_process\\SE_test_processed\\Z赵丽兰20220304.fif) does not conform to MNE naming conventions. All raw files should end with raw.fif, raw_sss.fif, raw_tsss.fif, _meg.fif, _eeg.fif, _ieeg.fif, raw.fif.gz, raw_sss.fif.gz, raw_tsss.fif.gz, _meg.fif.gz, _eeg.fif.gz or _ieeg.fif.gz\n",
      "  custom_raw.save(save_path,overwrite=True)\n"
     ]
    }
   ],
   "source": [
    "for file_path in train_directory:\n",
    "    file_name = file_path.split(\"\\\\\")[-1]\n",
    "    save_path = \"../SE_train_processed/\" + \"\".join(file_name)\n",
    "    print(save_path)\n",
    "    #训练集为16s\n",
    "    SE_process(file_path,save_path,train_SE_len)\n",
    "    \n",
    "for file_path in test_directory:\n",
    "    file_name = file_path.split(\"\\\\\")[-1]\n",
    "    save_path = \"../SE_test_processed/\" + \"\".join(file_name)\n",
    "    print(save_path)\n",
    "    #测试集为16s\n",
    "    SE_process(file_path,save_path,test_SE_len)"
   ]
  },
  {
   "cell_type": "code",
   "execution_count": 9,
   "id": "123b150c",
   "metadata": {},
   "outputs": [
    {
     "name": "stdout",
     "output_type": "stream",
     "text": [
      "finish\n"
     ]
    }
   ],
   "source": [
    "print(\"finish\")"
   ]
  },
  {
   "cell_type": "code",
   "execution_count": null,
   "id": "596aeb08",
   "metadata": {},
   "outputs": [],
   "source": []
  }
 ],
 "metadata": {
  "kernelspec": {
   "display_name": "Python 3",
   "language": "python",
   "name": "python3"
  },
  "language_info": {
   "codemirror_mode": {
    "name": "ipython",
    "version": 3
   },
   "file_extension": ".py",
   "mimetype": "text/x-python",
   "name": "python",
   "nbconvert_exporter": "python",
   "pygments_lexer": "ipython3",
   "version": "3.8.8"
  }
 },
 "nbformat": 4,
 "nbformat_minor": 5
}
