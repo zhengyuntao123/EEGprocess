{
 "cells": [
  {
   "cell_type": "code",
   "execution_count": 1,
   "id": "91b88329",
   "metadata": {},
   "outputs": [],
   "source": [
    "# 该代码用于处理第三批病人的SE数据 利用课题组提供的H5黑盒模型"
   ]
  },
  {
   "cell_type": "code",
   "execution_count": 2,
   "id": "10734cde",
   "metadata": {},
   "outputs": [],
   "source": [
    "# 引入工具包\n",
    "from mne.io import concatenate_raws,read_raw_fif\n",
    "import matplotlib.pyplot as plt\n",
    "import mne\n",
    "import tensorflow as tf\n",
    "import numpy as np\n",
    "from numpy.lib.utils import safe_eval\n",
    "from keras.models import load_model\n",
    "import keras.backend as K\n",
    "import glob\n",
    "import scipy.signal\n",
    "import scipy.io as scio\n",
    "import pandas as pd\n",
    "import seaborn as sns\n",
    "import matplotlib.pyplot as plt\n",
    "%matplotlib inline"
   ]
  },
  {
   "cell_type": "code",
   "execution_count": 3,
   "id": "5421c042",
   "metadata": {
    "code_folding": [
     0
    ]
   },
   "outputs": [],
   "source": [
    "def pearson_r(y_true, y_pred):\n",
    "    x = y_true\n",
    "    y = y_pred\n",
    "    mx = K.mean(x, axis=0)\n",
    "    my = K.mean(y, axis=0)\n",
    "    xm, ym = x - mx, y - my\n",
    "    r_num = K.sum(xm * ym)\n",
    "    x_square_sum = K.sum(xm * xm)\n",
    "    y_square_sum = K.sum(ym * ym)\n",
    "    r_den = K.sqrt(x_square_sum * y_square_sum)\n",
    "    r = r_num / r_den\n",
    "    return K.mean(r)\n",
    "# % 模型准备 %\n",
    "model_path = r'../others/Gao_Novel_CNN_RNN16_2561630689427.h5'\n",
    "model = load_model(model_path, custom_objects={'pearson_r': pearson_r})"
   ]
  },
  {
   "cell_type": "code",
   "execution_count": 4,
   "id": "29eb6ea2",
   "metadata": {
    "code_folding": []
   },
   "outputs": [],
   "source": [
    "def SE_process(file_path,save_path,select_time):\n",
    "    raw = read_raw_fif(file_path)\n",
    "    #改成了15通道\n",
    "    data,times=raw[:15,:]\n",
    "    # select_time = 4 #抽取2s的片段，可修改为偶数秒  \n",
    "    \n",
    "    samps = int(select_time * 256)\n",
    "    \n",
    "    # 重采样为256Hz\n",
    "    data_256 = []\n",
    "    for i in range(data.shape[0]):\n",
    "            data_temp = scipy.signal.resample(data[i],samps)\n",
    "            data_256.append(data_temp)\n",
    "    # 重新转换为np.array\n",
    "    data_256 = np.array(data_256)                                    \n",
    "    print(\"data_256.shape\",data_256.shape)\n",
    "    \n",
    "    # 分成 epoches，256*2的形状\n",
    "    data_256_samples = []\n",
    "    # 对每个通道\n",
    "    for i in range(data_256.shape[0]):\n",
    "        # 进行片段切片\n",
    "        channel = data_256[i];\n",
    "        # samps = 2*256 两秒，每秒256个采样点\n",
    "        data_channels = []\n",
    "        for j in range(0,channel.shape[0],2*256):\n",
    "            # print(\"第\" + str(j//samps) + \"个片段\")\n",
    "            data_temp = channel[j:j+2*256]\n",
    "            data_channels.append(data_temp)\n",
    "        # 每个通道整合起来\n",
    "        data_256_samples.append(data_channels)\n",
    "\n",
    "    # 转回np.array\n",
    "    data_256_samples = np.array(data_256_samples)\n",
    "    print(\"data_256_samples.shape\",data_256_samples.shape)\n",
    "\n",
    "    # 进行标准化处理,sta表示Standardization\n",
    "    data_sta = []\n",
    "    # 对每个通道\n",
    "    for i in range(data_256_samples.shape[0]):\n",
    "        # np.mean和np.std计算均值和标准差\n",
    "        tmp_mean = np.mean(data_256_samples[i])\n",
    "        tmp_std = np.std(data_256_samples[i])\n",
    "        data_temp_std = (data_256_samples[i] - tmp_mean) / tmp_std\n",
    "        data_sta.append(data_temp_std)\n",
    "    # 转回np.array\n",
    "    data_sta = np.array(data_sta)\n",
    "    print(\"data_sta.shape\",data_sta.shape) \n",
    "\n",
    "    # 整理成神经网络训练所需的形状，这里把数据展平成一维，所有通道合并，之后再还原\n",
    "    data_x = data_sta.reshape(-1,512,1)\n",
    "    print(\"data_x.shape:\",data_x.shape)\n",
    "    # 模型进行预测\n",
    "    y_pred = model.predict(data_x, verbose=0)\n",
    "    # 先把通道分开\n",
    "    # data_256_samples.shape[1] = 30 即降采样后的片段数\n",
    "    \n",
    "    pred_channel = []\n",
    "\n",
    "    for i in range(0,y_pred.shape[0],data_256_samples.shape[1]):\n",
    "        channel_temp = y_pred[i:i+data_256_samples.shape[1]]\n",
    "        channel_temp = channel_temp.flatten()\n",
    "        pred_channel.append(channel_temp)\n",
    "\n",
    "    pred_channel = np.array(pred_channel)\n",
    "    print(\"pred_channel.shape\",pred_channel.shape)\n",
    "    \n",
    "    #改成了15通道\n",
    "    info = mne.create_info(ch_names=raw.ch_names[:15],ch_types=[\"eeg\"]*15,sfreq=256)\n",
    "    \"\"\"\n",
    "    利用mne.io.RawArray类创建Raw对象\n",
    "    \"\"\"\n",
    "    custom_raw = mne.io.RawArray(data=pred_channel, info=info)\n",
    "    custom_raw.save(save_path,overwrite=True)\n",
    "    \n",
    "    \n",
    "    return True"
   ]
  },
  {
   "cell_type": "code",
   "execution_count": 5,
   "id": "328a3c0b",
   "metadata": {},
   "outputs": [],
   "source": [
    "# file_path = \"./se(已筛选)/SE(1)_eeg.fif\"\n",
    "# save_path = \"./SE(processed)/\"\n",
    "# SE_process(file_path,save_path)"
   ]
  },
  {
   "cell_type": "code",
   "execution_count": 6,
   "id": "f4107768",
   "metadata": {},
   "outputs": [
    {
     "name": "stdout",
     "output_type": "stream",
     "text": [
      "257 28\n"
     ]
    }
   ],
   "source": [
    "train_directory = glob.glob(\"../SE_train/\"+\"*\")\n",
    "test_directory = glob.glob(\"../SE_test/\"+\"*\")\n",
    "print(len(train_directory),len(test_directory))"
   ]
  },
  {
   "cell_type": "code",
   "execution_count": 7,
   "id": "430ada5a",
   "metadata": {},
   "outputs": [
    {
     "name": "stdout",
     "output_type": "stream",
     "text": [
      "../SE_train_processed/Z何富桂20220221_bias_0.fif\n",
      "Opening raw data file ../SE_train\\Z何富桂20220221_bias_0.fif...\n",
      "Isotrak not found\n",
      "    Range : 8919 ... 17111 =      8.710 ...    16.710 secs\n",
      "Ready.\n"
     ]
    },
    {
     "name": "stderr",
     "output_type": "stream",
     "text": [
      "<ipython-input-4-d8650b052227>:2: RuntimeWarning: This filename (../SE_train\\Z何富桂20220221_bias_0.fif) does not conform to MNE naming conventions. All raw files should end with raw.fif, raw_sss.fif, raw_tsss.fif, _meg.fif, _eeg.fif, _ieeg.fif, raw.fif.gz, raw_sss.fif.gz, raw_tsss.fif.gz, _meg.fif.gz, _eeg.fif.gz or _ieeg.fif.gz\n",
      "  raw = read_raw_fif(file_path)\n"
     ]
    },
    {
     "name": "stdout",
     "output_type": "stream",
     "text": [
      "data_256.shape (15, 2048)\n",
      "data_256_samples.shape (15, 4, 512)\n",
      "data_sta.shape (15, 4, 512)\n",
      "data_x.shape: (60, 512, 1)\n",
      "pred_channel.shape (15, 2048)\n",
      "Creating RawArray with float64 data, n_channels=15, n_times=2048\n",
      "    Range : 0 ... 2047 =      0.000 ...     7.996 secs\n",
      "Ready.\n",
      "Writing E:\\jupyter file\\EEG_process\\SE_train_processed\\Z何富桂20220221_bias_0.fif\n",
      "Closing E:\\jupyter file\\EEG_process\\SE_train_processed\\Z何富桂20220221_bias_0.fif\n",
      "[done]\n",
      "../SE_train_processed/Z何富桂20220225_bias_0.fif\n",
      "Opening raw data file ../SE_train\\Z何富桂20220225_bias_0.fif...\n",
      "Isotrak not found\n",
      "    Range : 233098 ... 241290 =    227.635 ...   235.635 secs\n",
      "Ready.\n",
      "data_256.shape (15, 2048)\n",
      "data_256_samples.shape (15, 4, 512)\n",
      "data_sta.shape (15, 4, 512)\n",
      "data_x.shape: (60, 512, 1)\n",
      "pred_channel.shape (15, 2048)\n",
      "Creating RawArray with float64 data, n_channels=15, n_times=2048\n",
      "    Range : 0 ... 2047 =      0.000 ...     7.996 secs\n",
      "Ready.\n",
      "Writing E:\\jupyter file\\EEG_process\\SE_train_processed\\Z何富桂20220225_bias_0.fif\n",
      "Closing E:\\jupyter file\\EEG_process\\SE_train_processed\\Z何富桂20220225_bias_0.fif\n"
     ]
    },
    {
     "name": "stderr",
     "output_type": "stream",
     "text": [
      "<ipython-input-4-d8650b052227>:74: RuntimeWarning: This filename (E:\\jupyter file\\EEG_process\\SE_train_processed\\Z何富桂20220221_bias_0.fif) does not conform to MNE naming conventions. All raw files should end with raw.fif, raw_sss.fif, raw_tsss.fif, _meg.fif, _eeg.fif, _ieeg.fif, raw.fif.gz, raw_sss.fif.gz, raw_tsss.fif.gz, _meg.fif.gz, _eeg.fif.gz or _ieeg.fif.gz\n",
      "  custom_raw.save(save_path,overwrite=True)\n",
      "<ipython-input-4-d8650b052227>:2: RuntimeWarning: This filename (../SE_train\\Z何富桂20220225_bias_0.fif) does not conform to MNE naming conventions. All raw files should end with raw.fif, raw_sss.fif, raw_tsss.fif, _meg.fif, _eeg.fif, _ieeg.fif, raw.fif.gz, raw_sss.fif.gz, raw_tsss.fif.gz, _meg.fif.gz, _eeg.fif.gz or _ieeg.fif.gz\n",
      "  raw = read_raw_fif(file_path)\n",
      "<ipython-input-4-d8650b052227>:74: RuntimeWarning: This filename (E:\\jupyter file\\EEG_process\\SE_train_processed\\Z何富桂20220225_bias_0.fif) does not conform to MNE naming conventions. All raw files should end with raw.fif, raw_sss.fif, raw_tsss.fif, _meg.fif, _eeg.fif, _ieeg.fif, raw.fif.gz, raw_sss.fif.gz, raw_tsss.fif.gz, _meg.fif.gz, _eeg.fif.gz or _ieeg.fif.gz\n",
      "  custom_raw.save(save_path,overwrite=True)\n"
     ]
    },
    {
     "name": "stdout",
     "output_type": "stream",
     "text": [
      "[done]\n",
      "../SE_train_processed/Z何富桂20220228_bias_0.fif\n",
      "Opening raw data file ../SE_train\\Z何富桂20220228_bias_0.fif...\n",
      "Isotrak not found\n",
      "    Range : 10580 ... 18772 =     10.332 ...    18.332 secs\n",
      "Ready.\n",
      "data_256.shape (15, 2048)\n",
      "data_256_samples.shape (15, 4, 512)\n",
      "data_sta.shape (15, 4, 512)\n",
      "data_x.shape: (60, 512, 1)\n",
      "pred_channel.shape (15, 2048)\n",
      "Creating RawArray with float64 data, n_channels=15, n_times=2048\n",
      "    Range : 0 ... 2047 =      0.000 ...     7.996 secs\n",
      "Ready.\n",
      "Writing E:\\jupyter file\\EEG_process\\SE_train_processed\\Z何富桂20220228_bias_0.fif\n",
      "Closing E:\\jupyter file\\EEG_process\\SE_train_processed\\Z何富桂20220228_bias_0.fif\n",
      "[done]\n",
      "../SE_train_processed/Z何富桂20220302_bias_0.fif\n",
      "Opening raw data file ../SE_train\\Z何富桂20220302_bias_0.fif...\n",
      "Isotrak not found\n"
     ]
    },
    {
     "name": "stderr",
     "output_type": "stream",
     "text": [
      "<ipython-input-4-d8650b052227>:2: RuntimeWarning: This filename (../SE_train\\Z何富桂20220228_bias_0.fif) does not conform to MNE naming conventions. All raw files should end with raw.fif, raw_sss.fif, raw_tsss.fif, _meg.fif, _eeg.fif, _ieeg.fif, raw.fif.gz, raw_sss.fif.gz, raw_tsss.fif.gz, _meg.fif.gz, _eeg.fif.gz or _ieeg.fif.gz\n",
      "  raw = read_raw_fif(file_path)\n",
      "<ipython-input-4-d8650b052227>:74: RuntimeWarning: This filename (E:\\jupyter file\\EEG_process\\SE_train_processed\\Z何富桂20220228_bias_0.fif) does not conform to MNE naming conventions. All raw files should end with raw.fif, raw_sss.fif, raw_tsss.fif, _meg.fif, _eeg.fif, _ieeg.fif, raw.fif.gz, raw_sss.fif.gz, raw_tsss.fif.gz, _meg.fif.gz, _eeg.fif.gz or _ieeg.fif.gz\n",
      "  custom_raw.save(save_path,overwrite=True)\n",
      "<ipython-input-4-d8650b052227>:2: RuntimeWarning: This filename (../SE_train\\Z何富桂20220302_bias_0.fif) does not conform to MNE naming conventions. All raw files should end with raw.fif, raw_sss.fif, raw_tsss.fif, _meg.fif, _eeg.fif, _ieeg.fif, raw.fif.gz, raw_sss.fif.gz, raw_tsss.fif.gz, _meg.fif.gz, _eeg.fif.gz or _ieeg.fif.gz\n",
      "  raw = read_raw_fif(file_path)\n"
     ]
    },
    {
     "name": "stdout",
     "output_type": "stream",
     "text": [
      "    Range : 133777 ... 141969 =    130.642 ...   138.642 secs\n",
      "Ready.\n",
      "data_256.shape (15, 2048)\n",
      "data_256_samples.shape (15, 4, 512)\n",
      "data_sta.shape (15, 4, 512)\n",
      "data_x.shape: (60, 512, 1)\n",
      "pred_channel.shape (15, 2048)\n",
      "Creating RawArray with float64 data, n_channels=15, n_times=2048\n",
      "    Range : 0 ... 2047 =      0.000 ...     7.996 secs\n",
      "Ready.\n",
      "Writing E:\\jupyter file\\EEG_process\\SE_train_processed\\Z何富桂20220302_bias_0.fif\n",
      "Closing E:\\jupyter file\\EEG_process\\SE_train_processed\\Z何富桂20220302_bias_0.fif\n",
      "[done]\n",
      "../SE_train_processed/Z何金蓓20220511_bias_0.fif\n",
      "Opening raw data file ../SE_train\\Z何金蓓20220511_bias_0.fif...\n",
      "Isotrak not found\n",
      "    Range : 73191 ... 77287 =    142.951 ...   150.951 secs\n",
      "Ready.\n",
      "data_256.shape (15, 2048)\n",
      "data_256_samples.shape (15, 4, 512)\n",
      "data_sta.shape (15, 4, 512)\n",
      "data_x.shape: (60, 512, 1)\n",
      "pred_channel.shape (15, 2048)\n"
     ]
    },
    {
     "name": "stderr",
     "output_type": "stream",
     "text": [
      "<ipython-input-4-d8650b052227>:74: RuntimeWarning: This filename (E:\\jupyter file\\EEG_process\\SE_train_processed\\Z何富桂20220302_bias_0.fif) does not conform to MNE naming conventions. All raw files should end with raw.fif, raw_sss.fif, raw_tsss.fif, _meg.fif, _eeg.fif, _ieeg.fif, raw.fif.gz, raw_sss.fif.gz, raw_tsss.fif.gz, _meg.fif.gz, _eeg.fif.gz or _ieeg.fif.gz\n",
      "  custom_raw.save(save_path,overwrite=True)\n",
      "<ipython-input-4-d8650b052227>:2: RuntimeWarning: This filename (../SE_train\\Z何金蓓20220511_bias_0.fif) does not conform to MNE naming conventions. All raw files should end with raw.fif, raw_sss.fif, raw_tsss.fif, _meg.fif, _eeg.fif, _ieeg.fif, raw.fif.gz, raw_sss.fif.gz, raw_tsss.fif.gz, _meg.fif.gz, _eeg.fif.gz or _ieeg.fif.gz\n",
      "  raw = read_raw_fif(file_path)\n"
     ]
    },
    {
     "name": "stdout",
     "output_type": "stream",
     "text": [
      "Creating RawArray with float64 data, n_channels=15, n_times=2048\n",
      "    Range : 0 ... 2047 =      0.000 ...     7.996 secs\n",
      "Ready.\n",
      "Writing E:\\jupyter file\\EEG_process\\SE_train_processed\\Z何金蓓20220511_bias_0.fif\n",
      "Closing E:\\jupyter file\\EEG_process\\SE_train_processed\\Z何金蓓20220511_bias_0.fif\n",
      "[done]\n",
      "../SE_train_processed/Z何金蓓20220516_bias_0.fif\n",
      "Opening raw data file ../SE_train\\Z何金蓓20220516_bias_0.fif...\n",
      "Isotrak not found\n",
      "    Range : 36038 ... 52422 =     17.597 ...    25.597 secs\n",
      "Ready.\n"
     ]
    },
    {
     "name": "stderr",
     "output_type": "stream",
     "text": [
      "<ipython-input-4-d8650b052227>:74: RuntimeWarning: This filename (E:\\jupyter file\\EEG_process\\SE_train_processed\\Z何金蓓20220511_bias_0.fif) does not conform to MNE naming conventions. All raw files should end with raw.fif, raw_sss.fif, raw_tsss.fif, _meg.fif, _eeg.fif, _ieeg.fif, raw.fif.gz, raw_sss.fif.gz, raw_tsss.fif.gz, _meg.fif.gz, _eeg.fif.gz or _ieeg.fif.gz\n",
      "  custom_raw.save(save_path,overwrite=True)\n",
      "<ipython-input-4-d8650b052227>:2: RuntimeWarning: This filename (../SE_train\\Z何金蓓20220516_bias_0.fif) does not conform to MNE naming conventions. All raw files should end with raw.fif, raw_sss.fif, raw_tsss.fif, _meg.fif, _eeg.fif, _ieeg.fif, raw.fif.gz, raw_sss.fif.gz, raw_tsss.fif.gz, _meg.fif.gz, _eeg.fif.gz or _ieeg.fif.gz\n",
      "  raw = read_raw_fif(file_path)\n"
     ]
    },
    {
     "name": "stdout",
     "output_type": "stream",
     "text": [
      "data_256.shape (15, 2048)\n",
      "data_256_samples.shape (15, 4, 512)\n",
      "data_sta.shape (15, 4, 512)\n",
      "data_x.shape: (60, 512, 1)\n",
      "pred_channel.shape (15, 2048)\n",
      "Creating RawArray with float64 data, n_channels=15, n_times=2048\n",
      "    Range : 0 ... 2047 =      0.000 ...     7.996 secs\n",
      "Ready.\n",
      "Writing E:\\jupyter file\\EEG_process\\SE_train_processed\\Z何金蓓20220516_bias_0.fif\n",
      "Closing E:\\jupyter file\\EEG_process\\SE_train_processed\\Z何金蓓20220516_bias_0.fif\n",
      "[done]\n",
      "../SE_train_processed/Z何金蓓20220518_bias_0.fif\n",
      "Opening raw data file ../SE_train\\Z何金蓓20220518_bias_0.fif...\n",
      "Isotrak not found\n",
      "    Range : 164 ... 16548 =      0.080 ...     8.080 secs\n",
      "Ready.\n",
      "data_256.shape (15, 2048)\n",
      "data_256_samples.shape (15, 4, 512)\n",
      "data_sta.shape (15, 4, 512)\n",
      "data_x.shape: (60, 512, 1)\n",
      "pred_channel.shape (15, 2048)\n",
      "Creating RawArray with float64 data, n_channels=15, n_times=2048\n",
      "    Range : 0 ... 2047 =      0.000 ...     7.996 secs\n",
      "Ready.\n",
      "Writing E:\\jupyter file\\EEG_process\\SE_train_processed\\Z何金蓓20220518_bias_0.fif\n",
      "Closing E:\\jupyter file\\EEG_process\\SE_train_processed\\Z何金蓓20220518_bias_0.fif\n",
      "[done]\n",
      "../SE_train_processed/Z何金蓓20220520（未发作）_bias_0.fif\n",
      "Opening raw data file ../SE_train\\Z何金蓓20220520（未发作）_bias_0.fif...\n",
      "Isotrak not found\n"
     ]
    },
    {
     "name": "stderr",
     "output_type": "stream",
     "text": [
      "<ipython-input-4-d8650b052227>:74: RuntimeWarning: This filename (E:\\jupyter file\\EEG_process\\SE_train_processed\\Z何金蓓20220516_bias_0.fif) does not conform to MNE naming conventions. All raw files should end with raw.fif, raw_sss.fif, raw_tsss.fif, _meg.fif, _eeg.fif, _ieeg.fif, raw.fif.gz, raw_sss.fif.gz, raw_tsss.fif.gz, _meg.fif.gz, _eeg.fif.gz or _ieeg.fif.gz\n",
      "  custom_raw.save(save_path,overwrite=True)\n",
      "<ipython-input-4-d8650b052227>:2: RuntimeWarning: This filename (../SE_train\\Z何金蓓20220518_bias_0.fif) does not conform to MNE naming conventions. All raw files should end with raw.fif, raw_sss.fif, raw_tsss.fif, _meg.fif, _eeg.fif, _ieeg.fif, raw.fif.gz, raw_sss.fif.gz, raw_tsss.fif.gz, _meg.fif.gz, _eeg.fif.gz or _ieeg.fif.gz\n",
      "  raw = read_raw_fif(file_path)\n",
      "<ipython-input-4-d8650b052227>:74: RuntimeWarning: This filename (E:\\jupyter file\\EEG_process\\SE_train_processed\\Z何金蓓20220518_bias_0.fif) does not conform to MNE naming conventions. All raw files should end with raw.fif, raw_sss.fif, raw_tsss.fif, _meg.fif, _eeg.fif, _ieeg.fif, raw.fif.gz, raw_sss.fif.gz, raw_tsss.fif.gz, _meg.fif.gz, _eeg.fif.gz or _ieeg.fif.gz\n",
      "  custom_raw.save(save_path,overwrite=True)\n",
      "<ipython-input-4-d8650b052227>:2: RuntimeWarning: This filename (../SE_train\\Z何金蓓20220520（未发作）_bias_0.fif) does not conform to MNE naming conventions. All raw files should end with raw.fif, raw_sss.fif, raw_tsss.fif, _meg.fif, _eeg.fif, _ieeg.fif, raw.fif.gz, raw_sss.fif.gz, raw_tsss.fif.gz, _meg.fif.gz, _eeg.fif.gz or _ieeg.fif.gz\n",
      "  raw = read_raw_fif(file_path)\n"
     ]
    },
    {
     "name": "stdout",
     "output_type": "stream",
     "text": [
      "    Range : 53760 ... 57856 =    105.000 ...   113.000 secs\n",
      "Ready.\n",
      "data_256.shape (15, 2048)\n",
      "data_256_samples.shape (15, 4, 512)\n",
      "data_sta.shape (15, 4, 512)\n",
      "data_x.shape: (60, 512, 1)\n",
      "pred_channel.shape (15, 2048)\n",
      "Creating RawArray with float64 data, n_channels=15, n_times=2048\n",
      "    Range : 0 ... 2047 =      0.000 ...     7.996 secs\n",
      "Ready.\n",
      "Writing E:\\jupyter file\\EEG_process\\SE_train_processed\\Z何金蓓20220520（未发作）_bias_0.fif\n",
      "Closing E:\\jupyter file\\EEG_process\\SE_train_processed\\Z何金蓓20220520（未发作）_bias_0.fif\n",
      "[done]\n",
      "../SE_train_processed/Z何金蓓20220520（未发作）_bias_16.fif\n",
      "Opening raw data file ../SE_train\\Z何金蓓20220520（未发作）_bias_16.fif...\n",
      "Isotrak not found\n",
      "    Range : 61952 ... 70144 =    121.000 ...   137.000 secs\n",
      "Ready.\n",
      "data_256.shape (15, 2048)\n",
      "data_256_samples.shape (15, 4, 512)\n",
      "data_sta.shape (15, 4, 512)\n",
      "data_x.shape: (60, 512, 1)\n",
      "pred_channel.shape (15, 2048)\n",
      "Creating RawArray with float64 data, n_channels=15, n_times=2048\n",
      "    Range : 0 ... 2047 =      0.000 ...     7.996 secs\n",
      "Ready.\n",
      "Writing E:\\jupyter file\\EEG_process\\SE_train_processed\\Z何金蓓20220520（未发作）_bias_16.fif\n",
      "Closing E:\\jupyter file\\EEG_process\\SE_train_processed\\Z何金蓓20220520（未发作）_bias_16.fif\n",
      "[done]\n",
      "../SE_train_processed/Z何金蓓20220520（未发作）_bias_24.fif\n",
      "Opening raw data file ../SE_train\\Z何金蓓20220520（未发作）_bias_24.fif...\n",
      "Isotrak not found\n"
     ]
    },
    {
     "name": "stderr",
     "output_type": "stream",
     "text": [
      "<ipython-input-4-d8650b052227>:74: RuntimeWarning: This filename (E:\\jupyter file\\EEG_process\\SE_train_processed\\Z何金蓓20220520（未发作）_bias_0.fif) does not conform to MNE naming conventions. All raw files should end with raw.fif, raw_sss.fif, raw_tsss.fif, _meg.fif, _eeg.fif, _ieeg.fif, raw.fif.gz, raw_sss.fif.gz, raw_tsss.fif.gz, _meg.fif.gz, _eeg.fif.gz or _ieeg.fif.gz\n",
      "  custom_raw.save(save_path,overwrite=True)\n",
      "<ipython-input-4-d8650b052227>:2: RuntimeWarning: This filename (../SE_train\\Z何金蓓20220520（未发作）_bias_16.fif) does not conform to MNE naming conventions. All raw files should end with raw.fif, raw_sss.fif, raw_tsss.fif, _meg.fif, _eeg.fif, _ieeg.fif, raw.fif.gz, raw_sss.fif.gz, raw_tsss.fif.gz, _meg.fif.gz, _eeg.fif.gz or _ieeg.fif.gz\n",
      "  raw = read_raw_fif(file_path)\n",
      "<ipython-input-4-d8650b052227>:74: RuntimeWarning: This filename (E:\\jupyter file\\EEG_process\\SE_train_processed\\Z何金蓓20220520（未发作）_bias_16.fif) does not conform to MNE naming conventions. All raw files should end with raw.fif, raw_sss.fif, raw_tsss.fif, _meg.fif, _eeg.fif, _ieeg.fif, raw.fif.gz, raw_sss.fif.gz, raw_tsss.fif.gz, _meg.fif.gz, _eeg.fif.gz or _ieeg.fif.gz\n",
      "  custom_raw.save(save_path,overwrite=True)\n",
      "<ipython-input-4-d8650b052227>:2: RuntimeWarning: This filename (../SE_train\\Z何金蓓20220520（未发作）_bias_24.fif) does not conform to MNE naming conventions. All raw files should end with raw.fif, raw_sss.fif, raw_tsss.fif, _meg.fif, _eeg.fif, _ieeg.fif, raw.fif.gz, raw_sss.fif.gz, raw_tsss.fif.gz, _meg.fif.gz, _eeg.fif.gz or _ieeg.fif.gz\n",
      "  raw = read_raw_fif(file_path)\n"
     ]
    },
    {
     "name": "stdout",
     "output_type": "stream",
     "text": [
      "    Range : 66048 ... 74240 =    129.000 ...   145.000 secs\n",
      "Ready.\n",
      "data_256.shape (15, 2048)\n",
      "data_256_samples.shape (15, 4, 512)\n",
      "data_sta.shape (15, 4, 512)\n",
      "data_x.shape: (60, 512, 1)\n",
      "pred_channel.shape (15, 2048)\n",
      "Creating RawArray with float64 data, n_channels=15, n_times=2048\n",
      "    Range : 0 ... 2047 =      0.000 ...     7.996 secs\n",
      "Ready.\n",
      "Writing E:\\jupyter file\\EEG_process\\SE_train_processed\\Z何金蓓20220520（未发作）_bias_24.fif\n",
      "Closing E:\\jupyter file\\EEG_process\\SE_train_processed\\Z何金蓓20220520（未发作）_bias_24.fif\n",
      "[done]\n",
      "../SE_train_processed/Z何金蓓20220520（未发作）_bias_32.fif\n",
      "Opening raw data file ../SE_train\\Z何金蓓20220520（未发作）_bias_32.fif...\n",
      "Isotrak not found\n",
      "    Range : 70144 ... 78336 =    137.000 ...   153.000 secs\n",
      "Ready.\n",
      "data_256.shape (15, 2048)\n",
      "data_256_samples.shape (15, 4, 512)\n",
      "data_sta.shape (15, 4, 512)\n",
      "data_x.shape: (60, 512, 1)\n",
      "pred_channel.shape (15, 2048)\n",
      "Creating RawArray with float64 data, n_channels=15, n_times=2048\n",
      "    Range : 0 ... 2047 =      0.000 ...     7.996 secs\n",
      "Ready.\n",
      "Writing E:\\jupyter file\\EEG_process\\SE_train_processed\\Z何金蓓20220520（未发作）_bias_32.fif\n"
     ]
    },
    {
     "name": "stderr",
     "output_type": "stream",
     "text": [
      "<ipython-input-4-d8650b052227>:74: RuntimeWarning: This filename (E:\\jupyter file\\EEG_process\\SE_train_processed\\Z何金蓓20220520（未发作）_bias_24.fif) does not conform to MNE naming conventions. All raw files should end with raw.fif, raw_sss.fif, raw_tsss.fif, _meg.fif, _eeg.fif, _ieeg.fif, raw.fif.gz, raw_sss.fif.gz, raw_tsss.fif.gz, _meg.fif.gz, _eeg.fif.gz or _ieeg.fif.gz\n",
      "  custom_raw.save(save_path,overwrite=True)\n",
      "<ipython-input-4-d8650b052227>:2: RuntimeWarning: This filename (../SE_train\\Z何金蓓20220520（未发作）_bias_32.fif) does not conform to MNE naming conventions. All raw files should end with raw.fif, raw_sss.fif, raw_tsss.fif, _meg.fif, _eeg.fif, _ieeg.fif, raw.fif.gz, raw_sss.fif.gz, raw_tsss.fif.gz, _meg.fif.gz, _eeg.fif.gz or _ieeg.fif.gz\n",
      "  raw = read_raw_fif(file_path)\n",
      "<ipython-input-4-d8650b052227>:74: RuntimeWarning: This filename (E:\\jupyter file\\EEG_process\\SE_train_processed\\Z何金蓓20220520（未发作）_bias_32.fif) does not conform to MNE naming conventions. All raw files should end with raw.fif, raw_sss.fif, raw_tsss.fif, _meg.fif, _eeg.fif, _ieeg.fif, raw.fif.gz, raw_sss.fif.gz, raw_tsss.fif.gz, _meg.fif.gz, _eeg.fif.gz or _ieeg.fif.gz\n",
      "  custom_raw.save(save_path,overwrite=True)\n"
     ]
    },
    {
     "name": "stdout",
     "output_type": "stream",
     "text": [
      "Closing E:\\jupyter file\\EEG_process\\SE_train_processed\\Z何金蓓20220520（未发作）_bias_32.fif\n",
      "[done]\n",
      "../SE_train_processed/Z何金蓓20220520（未发作）_bias_40.fif\n",
      "Opening raw data file ../SE_train\\Z何金蓓20220520（未发作）_bias_40.fif...\n",
      "Isotrak not found\n",
      "    Range : 74240 ... 82432 =    145.000 ...   161.000 secs\n",
      "Ready.\n",
      "data_256.shape (15, 2048)\n",
      "data_256_samples.shape (15, 4, 512)\n",
      "data_sta.shape (15, 4, 512)\n",
      "data_x.shape: (60, 512, 1)\n",
      "pred_channel.shape (15, 2048)\n",
      "Creating RawArray with float64 data, n_channels=15, n_times=2048\n",
      "    Range : 0 ... 2047 =      0.000 ...     7.996 secs\n",
      "Ready.\n",
      "Writing E:\\jupyter file\\EEG_process\\SE_train_processed\\Z何金蓓20220520（未发作）_bias_40.fif\n",
      "Closing E:\\jupyter file\\EEG_process\\SE_train_processed\\Z何金蓓20220520（未发作）_bias_40.fif\n",
      "[done]\n",
      "../SE_train_processed/Z何金蓓20220520（未发作）_bias_8.fif\n",
      "Opening raw data file ../SE_train\\Z何金蓓20220520（未发作）_bias_8.fif...\n",
      "Isotrak not found\n",
      "    Range : 57856 ... 66048 =    113.000 ...   129.000 secs\n",
      "Ready.\n"
     ]
    },
    {
     "name": "stderr",
     "output_type": "stream",
     "text": [
      "<ipython-input-4-d8650b052227>:2: RuntimeWarning: This filename (../SE_train\\Z何金蓓20220520（未发作）_bias_40.fif) does not conform to MNE naming conventions. All raw files should end with raw.fif, raw_sss.fif, raw_tsss.fif, _meg.fif, _eeg.fif, _ieeg.fif, raw.fif.gz, raw_sss.fif.gz, raw_tsss.fif.gz, _meg.fif.gz, _eeg.fif.gz or _ieeg.fif.gz\n",
      "  raw = read_raw_fif(file_path)\n",
      "<ipython-input-4-d8650b052227>:74: RuntimeWarning: This filename (E:\\jupyter file\\EEG_process\\SE_train_processed\\Z何金蓓20220520（未发作）_bias_40.fif) does not conform to MNE naming conventions. All raw files should end with raw.fif, raw_sss.fif, raw_tsss.fif, _meg.fif, _eeg.fif, _ieeg.fif, raw.fif.gz, raw_sss.fif.gz, raw_tsss.fif.gz, _meg.fif.gz, _eeg.fif.gz or _ieeg.fif.gz\n",
      "  custom_raw.save(save_path,overwrite=True)\n",
      "<ipython-input-4-d8650b052227>:2: RuntimeWarning: This filename (../SE_train\\Z何金蓓20220520（未发作）_bias_8.fif) does not conform to MNE naming conventions. All raw files should end with raw.fif, raw_sss.fif, raw_tsss.fif, _meg.fif, _eeg.fif, _ieeg.fif, raw.fif.gz, raw_sss.fif.gz, raw_tsss.fif.gz, _meg.fif.gz, _eeg.fif.gz or _ieeg.fif.gz\n",
      "  raw = read_raw_fif(file_path)\n"
     ]
    },
    {
     "name": "stdout",
     "output_type": "stream",
     "text": [
      "data_256.shape (15, 2048)\n",
      "data_256_samples.shape (15, 4, 512)\n",
      "data_sta.shape (15, 4, 512)\n",
      "data_x.shape: (60, 512, 1)\n",
      "pred_channel.shape (15, 2048)\n",
      "Creating RawArray with float64 data, n_channels=15, n_times=2048\n",
      "    Range : 0 ... 2047 =      0.000 ...     7.996 secs\n",
      "Ready.\n",
      "Writing E:\\jupyter file\\EEG_process\\SE_train_processed\\Z何金蓓20220520（未发作）_bias_8.fif\n",
      "Closing E:\\jupyter file\\EEG_process\\SE_train_processed\\Z何金蓓20220520（未发作）_bias_8.fif\n",
      "[done]\n",
      "../SE_train_processed/Z余琛宇20220411_bias_0.fif\n",
      "Opening raw data file ../SE_train\\Z余琛宇20220411_bias_0.fif...\n",
      "Isotrak not found\n",
      "    Range : 53842 ... 62034 =     52.580 ...    60.580 secs\n",
      "Ready.\n",
      "data_256.shape (15, 2048)\n",
      "data_256_samples.shape (15, 4, 512)\n",
      "data_sta.shape (15, 4, 512)\n",
      "data_x.shape: (60, 512, 1)\n",
      "pred_channel.shape (15, 2048)\n"
     ]
    },
    {
     "name": "stderr",
     "output_type": "stream",
     "text": [
      "<ipython-input-4-d8650b052227>:74: RuntimeWarning: This filename (E:\\jupyter file\\EEG_process\\SE_train_processed\\Z何金蓓20220520（未发作）_bias_8.fif) does not conform to MNE naming conventions. All raw files should end with raw.fif, raw_sss.fif, raw_tsss.fif, _meg.fif, _eeg.fif, _ieeg.fif, raw.fif.gz, raw_sss.fif.gz, raw_tsss.fif.gz, _meg.fif.gz, _eeg.fif.gz or _ieeg.fif.gz\n",
      "  custom_raw.save(save_path,overwrite=True)\n",
      "<ipython-input-4-d8650b052227>:2: RuntimeWarning: This filename (../SE_train\\Z余琛宇20220411_bias_0.fif) does not conform to MNE naming conventions. All raw files should end with raw.fif, raw_sss.fif, raw_tsss.fif, _meg.fif, _eeg.fif, _ieeg.fif, raw.fif.gz, raw_sss.fif.gz, raw_tsss.fif.gz, _meg.fif.gz, _eeg.fif.gz or _ieeg.fif.gz\n",
      "  raw = read_raw_fif(file_path)\n"
     ]
    },
    {
     "name": "stdout",
     "output_type": "stream",
     "text": [
      "Creating RawArray with float64 data, n_channels=15, n_times=2048\n",
      "    Range : 0 ... 2047 =      0.000 ...     7.996 secs\n",
      "Ready.\n",
      "Writing E:\\jupyter file\\EEG_process\\SE_train_processed\\Z余琛宇20220411_bias_0.fif\n",
      "Closing E:\\jupyter file\\EEG_process\\SE_train_processed\\Z余琛宇20220411_bias_0.fif\n",
      "[done]\n",
      "../SE_train_processed/Z余琛宇20220413_bias_0.fif\n",
      "Opening raw data file ../SE_train\\Z余琛宇20220413_bias_0.fif...\n",
      "Isotrak not found\n",
      "    Range : 28991 ... 37183 =     28.312 ...    36.312 secs\n",
      "Ready.\n",
      "data_256.shape (15, 2048)\n",
      "data_256_samples.shape (15, 4, 512)\n",
      "data_sta.shape (15, 4, 512)\n",
      "data_x.shape: (60, 512, 1)\n",
      "pred_channel.shape (15, 2048)\n",
      "Creating RawArray with float64 data, n_channels=15, n_times=2048\n",
      "    Range : 0 ... 2047 =      0.000 ...     7.996 secs\n",
      "Ready.\n",
      "Writing E:\\jupyter file\\EEG_process\\SE_train_processed\\Z余琛宇20220413_bias_0.fif\n",
      "Closing E:\\jupyter file\\EEG_process\\SE_train_processed\\Z余琛宇20220413_bias_0.fif\n"
     ]
    },
    {
     "name": "stderr",
     "output_type": "stream",
     "text": [
      "<ipython-input-4-d8650b052227>:74: RuntimeWarning: This filename (E:\\jupyter file\\EEG_process\\SE_train_processed\\Z余琛宇20220411_bias_0.fif) does not conform to MNE naming conventions. All raw files should end with raw.fif, raw_sss.fif, raw_tsss.fif, _meg.fif, _eeg.fif, _ieeg.fif, raw.fif.gz, raw_sss.fif.gz, raw_tsss.fif.gz, _meg.fif.gz, _eeg.fif.gz or _ieeg.fif.gz\n",
      "  custom_raw.save(save_path,overwrite=True)\n",
      "<ipython-input-4-d8650b052227>:2: RuntimeWarning: This filename (../SE_train\\Z余琛宇20220413_bias_0.fif) does not conform to MNE naming conventions. All raw files should end with raw.fif, raw_sss.fif, raw_tsss.fif, _meg.fif, _eeg.fif, _ieeg.fif, raw.fif.gz, raw_sss.fif.gz, raw_tsss.fif.gz, _meg.fif.gz, _eeg.fif.gz or _ieeg.fif.gz\n",
      "  raw = read_raw_fif(file_path)\n",
      "<ipython-input-4-d8650b052227>:74: RuntimeWarning: This filename (E:\\jupyter file\\EEG_process\\SE_train_processed\\Z余琛宇20220413_bias_0.fif) does not conform to MNE naming conventions. All raw files should end with raw.fif, raw_sss.fif, raw_tsss.fif, _meg.fif, _eeg.fif, _ieeg.fif, raw.fif.gz, raw_sss.fif.gz, raw_tsss.fif.gz, _meg.fif.gz, _eeg.fif.gz or _ieeg.fif.gz\n",
      "  custom_raw.save(save_path,overwrite=True)\n"
     ]
    },
    {
     "name": "stdout",
     "output_type": "stream",
     "text": [
      "[done]\n",
      "../SE_train_processed/Z余琛宇20220415_bias_0.fif\n",
      "Opening raw data file ../SE_train\\Z余琛宇20220415_bias_0.fif...\n",
      "Isotrak not found\n",
      "    Range : 43531 ... 51723 =     42.511 ...    50.511 secs\n",
      "Ready.\n",
      "data_256.shape (15, 2048)\n",
      "data_256_samples.shape (15, 4, 512)\n",
      "data_sta.shape (15, 4, 512)\n",
      "data_x.shape: (60, 512, 1)\n",
      "pred_channel.shape (15, 2048)\n",
      "Creating RawArray with float64 data, n_channels=15, n_times=2048\n",
      "    Range : 0 ... 2047 =      0.000 ...     7.996 secs\n",
      "Ready.\n",
      "Writing E:\\jupyter file\\EEG_process\\SE_train_processed\\Z余琛宇20220415_bias_0.fif\n",
      "Closing E:\\jupyter file\\EEG_process\\SE_train_processed\\Z余琛宇20220415_bias_0.fif\n",
      "[done]\n",
      "../SE_train_processed/Z余琛宇20220422_bias_0.fif\n",
      "Opening raw data file ../SE_train\\Z余琛宇20220422_bias_0.fif...\n",
      "Isotrak not found\n",
      "    Range : 33257 ... 41449 =     32.478 ...    40.478 secs\n",
      "Ready.\n",
      "data_256.shape (15, 2048)\n"
     ]
    },
    {
     "name": "stderr",
     "output_type": "stream",
     "text": [
      "<ipython-input-4-d8650b052227>:2: RuntimeWarning: This filename (../SE_train\\Z余琛宇20220415_bias_0.fif) does not conform to MNE naming conventions. All raw files should end with raw.fif, raw_sss.fif, raw_tsss.fif, _meg.fif, _eeg.fif, _ieeg.fif, raw.fif.gz, raw_sss.fif.gz, raw_tsss.fif.gz, _meg.fif.gz, _eeg.fif.gz or _ieeg.fif.gz\n",
      "  raw = read_raw_fif(file_path)\n",
      "<ipython-input-4-d8650b052227>:74: RuntimeWarning: This filename (E:\\jupyter file\\EEG_process\\SE_train_processed\\Z余琛宇20220415_bias_0.fif) does not conform to MNE naming conventions. All raw files should end with raw.fif, raw_sss.fif, raw_tsss.fif, _meg.fif, _eeg.fif, _ieeg.fif, raw.fif.gz, raw_sss.fif.gz, raw_tsss.fif.gz, _meg.fif.gz, _eeg.fif.gz or _ieeg.fif.gz\n",
      "  custom_raw.save(save_path,overwrite=True)\n",
      "<ipython-input-4-d8650b052227>:2: RuntimeWarning: This filename (../SE_train\\Z余琛宇20220422_bias_0.fif) does not conform to MNE naming conventions. All raw files should end with raw.fif, raw_sss.fif, raw_tsss.fif, _meg.fif, _eeg.fif, _ieeg.fif, raw.fif.gz, raw_sss.fif.gz, raw_tsss.fif.gz, _meg.fif.gz, _eeg.fif.gz or _ieeg.fif.gz\n",
      "  raw = read_raw_fif(file_path)\n"
     ]
    },
    {
     "name": "stdout",
     "output_type": "stream",
     "text": [
      "data_256_samples.shape (15, 4, 512)\n",
      "data_sta.shape (15, 4, 512)\n",
      "data_x.shape: (60, 512, 1)\n",
      "pred_channel.shape (15, 2048)\n",
      "Creating RawArray with float64 data, n_channels=15, n_times=2048\n",
      "    Range : 0 ... 2047 =      0.000 ...     7.996 secs\n",
      "Ready.\n",
      "Writing E:\\jupyter file\\EEG_process\\SE_train_processed\\Z余琛宇20220422_bias_0.fif\n",
      "Closing E:\\jupyter file\\EEG_process\\SE_train_processed\\Z余琛宇20220422_bias_0.fif\n",
      "[done]\n",
      "../SE_train_processed/Z倪诗瑄20220311_bias_0.fif\n",
      "Opening raw data file ../SE_train\\Z倪诗瑄20220311_bias_0.fif...\n",
      "Isotrak not found\n",
      "    Range : 2646 ... 10838 =      2.584 ...    10.584 secs\n",
      "Ready.\n",
      "data_256.shape (15, 2048)\n",
      "data_256_samples.shape (15, 4, 512)\n",
      "data_sta.shape (15, 4, 512)\n",
      "data_x.shape: (60, 512, 1)\n",
      "pred_channel.shape (15, 2048)\n"
     ]
    },
    {
     "name": "stderr",
     "output_type": "stream",
     "text": [
      "<ipython-input-4-d8650b052227>:74: RuntimeWarning: This filename (E:\\jupyter file\\EEG_process\\SE_train_processed\\Z余琛宇20220422_bias_0.fif) does not conform to MNE naming conventions. All raw files should end with raw.fif, raw_sss.fif, raw_tsss.fif, _meg.fif, _eeg.fif, _ieeg.fif, raw.fif.gz, raw_sss.fif.gz, raw_tsss.fif.gz, _meg.fif.gz, _eeg.fif.gz or _ieeg.fif.gz\n",
      "  custom_raw.save(save_path,overwrite=True)\n",
      "<ipython-input-4-d8650b052227>:2: RuntimeWarning: This filename (../SE_train\\Z倪诗瑄20220311_bias_0.fif) does not conform to MNE naming conventions. All raw files should end with raw.fif, raw_sss.fif, raw_tsss.fif, _meg.fif, _eeg.fif, _ieeg.fif, raw.fif.gz, raw_sss.fif.gz, raw_tsss.fif.gz, _meg.fif.gz, _eeg.fif.gz or _ieeg.fif.gz\n",
      "  raw = read_raw_fif(file_path)\n"
     ]
    },
    {
     "name": "stdout",
     "output_type": "stream",
     "text": [
      "Creating RawArray with float64 data, n_channels=15, n_times=2048\n",
      "    Range : 0 ... 2047 =      0.000 ...     7.996 secs\n",
      "Ready.\n",
      "Writing E:\\jupyter file\\EEG_process\\SE_train_processed\\Z倪诗瑄20220311_bias_0.fif\n",
      "Closing E:\\jupyter file\\EEG_process\\SE_train_processed\\Z倪诗瑄20220311_bias_0.fif\n",
      "[done]\n",
      "../SE_train_processed/Z倪诗瑄20220314_bias_0.fif\n",
      "Opening raw data file ../SE_train\\Z倪诗瑄20220314_bias_0.fif...\n",
      "Isotrak not found\n",
      "    Range : 112910 ... 121102 =    110.264 ...   118.264 secs\n",
      "Ready.\n",
      "data_256.shape (15, 2048)\n",
      "data_256_samples.shape (15, 4, 512)\n",
      "data_sta.shape (15, 4, 512)\n",
      "data_x.shape: (60, 512, 1)\n",
      "pred_channel.shape (15, 2048)\n",
      "Creating RawArray with float64 data, n_channels=15, n_times=2048\n",
      "    Range : 0 ... 2047 =      0.000 ...     7.996 secs\n",
      "Ready.\n",
      "Writing E:\\jupyter file\\EEG_process\\SE_train_processed\\Z倪诗瑄20220314_bias_0.fif\n",
      "Closing E:\\jupyter file\\EEG_process\\SE_train_processed\\Z倪诗瑄20220314_bias_0.fif\n",
      "[done]\n",
      "../SE_train_processed/Z倪诗瑄20220316_bias_0.fif\n",
      "Opening raw data file ../SE_train\\Z倪诗瑄20220316_bias_0.fif...\n",
      "Isotrak not found\n"
     ]
    },
    {
     "name": "stderr",
     "output_type": "stream",
     "text": [
      "<ipython-input-4-d8650b052227>:74: RuntimeWarning: This filename (E:\\jupyter file\\EEG_process\\SE_train_processed\\Z倪诗瑄20220311_bias_0.fif) does not conform to MNE naming conventions. All raw files should end with raw.fif, raw_sss.fif, raw_tsss.fif, _meg.fif, _eeg.fif, _ieeg.fif, raw.fif.gz, raw_sss.fif.gz, raw_tsss.fif.gz, _meg.fif.gz, _eeg.fif.gz or _ieeg.fif.gz\n",
      "  custom_raw.save(save_path,overwrite=True)\n",
      "<ipython-input-4-d8650b052227>:2: RuntimeWarning: This filename (../SE_train\\Z倪诗瑄20220314_bias_0.fif) does not conform to MNE naming conventions. All raw files should end with raw.fif, raw_sss.fif, raw_tsss.fif, _meg.fif, _eeg.fif, _ieeg.fif, raw.fif.gz, raw_sss.fif.gz, raw_tsss.fif.gz, _meg.fif.gz, _eeg.fif.gz or _ieeg.fif.gz\n",
      "  raw = read_raw_fif(file_path)\n",
      "<ipython-input-4-d8650b052227>:74: RuntimeWarning: This filename (E:\\jupyter file\\EEG_process\\SE_train_processed\\Z倪诗瑄20220314_bias_0.fif) does not conform to MNE naming conventions. All raw files should end with raw.fif, raw_sss.fif, raw_tsss.fif, _meg.fif, _eeg.fif, _ieeg.fif, raw.fif.gz, raw_sss.fif.gz, raw_tsss.fif.gz, _meg.fif.gz, _eeg.fif.gz or _ieeg.fif.gz\n",
      "  custom_raw.save(save_path,overwrite=True)\n",
      "<ipython-input-4-d8650b052227>:2: RuntimeWarning: This filename (../SE_train\\Z倪诗瑄20220316_bias_0.fif) does not conform to MNE naming conventions. All raw files should end with raw.fif, raw_sss.fif, raw_tsss.fif, _meg.fif, _eeg.fif, _ieeg.fif, raw.fif.gz, raw_sss.fif.gz, raw_tsss.fif.gz, _meg.fif.gz, _eeg.fif.gz or _ieeg.fif.gz\n",
      "  raw = read_raw_fif(file_path)\n"
     ]
    },
    {
     "name": "stdout",
     "output_type": "stream",
     "text": [
      "    Range : 132169 ... 140361 =    129.071 ...   137.071 secs\n",
      "Ready.\n",
      "data_256.shape (15, 2048)\n",
      "data_256_samples.shape (15, 4, 512)\n",
      "data_sta.shape (15, 4, 512)\n",
      "data_x.shape: (60, 512, 1)\n",
      "pred_channel.shape (15, 2048)\n",
      "Creating RawArray with float64 data, n_channels=15, n_times=2048\n",
      "    Range : 0 ... 2047 =      0.000 ...     7.996 secs\n",
      "Ready.\n",
      "Writing E:\\jupyter file\\EEG_process\\SE_train_processed\\Z倪诗瑄20220316_bias_0.fif\n",
      "Closing E:\\jupyter file\\EEG_process\\SE_train_processed\\Z倪诗瑄20220316_bias_0.fif\n",
      "[done]\n",
      "../SE_train_processed/Z倪诗瑄20220318_bias_0.fif\n",
      "Opening raw data file ../SE_train\\Z倪诗瑄20220318_bias_0.fif...\n",
      "Isotrak not found\n",
      "    Range : 29274 ... 37466 =     28.588 ...    36.588 secs\n",
      "Ready.\n",
      "data_256.shape (15, 2048)\n",
      "data_256_samples.shape (15, 4, 512)\n",
      "data_sta.shape (15, 4, 512)\n",
      "data_x.shape: (60, 512, 1)\n",
      "pred_channel.shape (15, 2048)\n",
      "Creating RawArray with float64 data, n_channels=15, n_times=2048\n",
      "    Range : 0 ... 2047 =      0.000 ...     7.996 secs\n",
      "Ready.\n",
      "Writing E:\\jupyter file\\EEG_process\\SE_train_processed\\Z倪诗瑄20220318_bias_0.fif\n",
      "Closing E:\\jupyter file\\EEG_process\\SE_train_processed\\Z倪诗瑄20220318_bias_0.fif\n"
     ]
    },
    {
     "name": "stderr",
     "output_type": "stream",
     "text": [
      "<ipython-input-4-d8650b052227>:74: RuntimeWarning: This filename (E:\\jupyter file\\EEG_process\\SE_train_processed\\Z倪诗瑄20220316_bias_0.fif) does not conform to MNE naming conventions. All raw files should end with raw.fif, raw_sss.fif, raw_tsss.fif, _meg.fif, _eeg.fif, _ieeg.fif, raw.fif.gz, raw_sss.fif.gz, raw_tsss.fif.gz, _meg.fif.gz, _eeg.fif.gz or _ieeg.fif.gz\n",
      "  custom_raw.save(save_path,overwrite=True)\n",
      "<ipython-input-4-d8650b052227>:2: RuntimeWarning: This filename (../SE_train\\Z倪诗瑄20220318_bias_0.fif) does not conform to MNE naming conventions. All raw files should end with raw.fif, raw_sss.fif, raw_tsss.fif, _meg.fif, _eeg.fif, _ieeg.fif, raw.fif.gz, raw_sss.fif.gz, raw_tsss.fif.gz, _meg.fif.gz, _eeg.fif.gz or _ieeg.fif.gz\n",
      "  raw = read_raw_fif(file_path)\n",
      "<ipython-input-4-d8650b052227>:74: RuntimeWarning: This filename (E:\\jupyter file\\EEG_process\\SE_train_processed\\Z倪诗瑄20220318_bias_0.fif) does not conform to MNE naming conventions. All raw files should end with raw.fif, raw_sss.fif, raw_tsss.fif, _meg.fif, _eeg.fif, _ieeg.fif, raw.fif.gz, raw_sss.fif.gz, raw_tsss.fif.gz, _meg.fif.gz, _eeg.fif.gz or _ieeg.fif.gz\n",
      "  custom_raw.save(save_path,overwrite=True)\n"
     ]
    },
    {
     "name": "stdout",
     "output_type": "stream",
     "text": [
      "[done]\n",
      "../SE_train_processed/Z刘世清20220309_bias_0.fif\n",
      "Opening raw data file ../SE_train\\Z刘世清20220309_bias_0.fif...\n",
      "Isotrak not found\n",
      "    Range : 72862 ... 81054 =     71.154 ...    79.154 secs\n",
      "Ready.\n",
      "data_256.shape (15, 2048)\n",
      "data_256_samples.shape (15, 4, 512)\n",
      "data_sta.shape (15, 4, 512)\n",
      "data_x.shape: (60, 512, 1)\n",
      "pred_channel.shape (15, 2048)\n"
     ]
    },
    {
     "name": "stderr",
     "output_type": "stream",
     "text": [
      "<ipython-input-4-d8650b052227>:2: RuntimeWarning: This filename (../SE_train\\Z刘世清20220309_bias_0.fif) does not conform to MNE naming conventions. All raw files should end with raw.fif, raw_sss.fif, raw_tsss.fif, _meg.fif, _eeg.fif, _ieeg.fif, raw.fif.gz, raw_sss.fif.gz, raw_tsss.fif.gz, _meg.fif.gz, _eeg.fif.gz or _ieeg.fif.gz\n",
      "  raw = read_raw_fif(file_path)\n"
     ]
    },
    {
     "name": "stdout",
     "output_type": "stream",
     "text": [
      "Creating RawArray with float64 data, n_channels=15, n_times=2048\n",
      "    Range : 0 ... 2047 =      0.000 ...     7.996 secs\n",
      "Ready.\n",
      "Writing E:\\jupyter file\\EEG_process\\SE_train_processed\\Z刘世清20220309_bias_0.fif\n",
      "Closing E:\\jupyter file\\EEG_process\\SE_train_processed\\Z刘世清20220309_bias_0.fif\n",
      "[done]\n",
      "../SE_train_processed/Z刘世清20220311_bias_0.fif\n",
      "Opening raw data file ../SE_train\\Z刘世清20220311_bias_0.fif...\n",
      "Isotrak not found\n",
      "    Range : 39018 ... 47210 =     38.104 ...    46.104 secs\n",
      "Ready.\n",
      "data_256.shape (15, 2048)\n",
      "data_256_samples.shape (15, 4, 512)\n",
      "data_sta.shape (15, 4, 512)\n",
      "data_x.shape: (60, 512, 1)\n",
      "pred_channel.shape (15, 2048)\n"
     ]
    },
    {
     "name": "stderr",
     "output_type": "stream",
     "text": [
      "<ipython-input-4-d8650b052227>:74: RuntimeWarning: This filename (E:\\jupyter file\\EEG_process\\SE_train_processed\\Z刘世清20220309_bias_0.fif) does not conform to MNE naming conventions. All raw files should end with raw.fif, raw_sss.fif, raw_tsss.fif, _meg.fif, _eeg.fif, _ieeg.fif, raw.fif.gz, raw_sss.fif.gz, raw_tsss.fif.gz, _meg.fif.gz, _eeg.fif.gz or _ieeg.fif.gz\n",
      "  custom_raw.save(save_path,overwrite=True)\n",
      "<ipython-input-4-d8650b052227>:2: RuntimeWarning: This filename (../SE_train\\Z刘世清20220311_bias_0.fif) does not conform to MNE naming conventions. All raw files should end with raw.fif, raw_sss.fif, raw_tsss.fif, _meg.fif, _eeg.fif, _ieeg.fif, raw.fif.gz, raw_sss.fif.gz, raw_tsss.fif.gz, _meg.fif.gz, _eeg.fif.gz or _ieeg.fif.gz\n",
      "  raw = read_raw_fif(file_path)\n"
     ]
    },
    {
     "name": "stdout",
     "output_type": "stream",
     "text": [
      "Creating RawArray with float64 data, n_channels=15, n_times=2048\n",
      "    Range : 0 ... 2047 =      0.000 ...     7.996 secs\n",
      "Ready.\n",
      "Writing E:\\jupyter file\\EEG_process\\SE_train_processed\\Z刘世清20220311_bias_0.fif\n",
      "Closing E:\\jupyter file\\EEG_process\\SE_train_processed\\Z刘世清20220311_bias_0.fif\n",
      "[done]\n",
      "../SE_train_processed/Z刘世清20220314（未发作）_bias_0.fif\n",
      "Opening raw data file ../SE_train\\Z刘世清20220314（未发作）_bias_0.fif...\n",
      "Isotrak not found\n",
      "    Range : 571218 ... 579410 =    557.830 ...   565.830 secs\n",
      "Ready.\n",
      "data_256.shape (15, 2048)\n",
      "data_256_samples.shape (15, 4, 512)\n",
      "data_sta.shape (15, 4, 512)\n",
      "data_x.shape: (60, 512, 1)\n",
      "pred_channel.shape (15, 2048)\n",
      "Creating RawArray with float64 data, n_channels=15, n_times=2048\n",
      "    Range : 0 ... 2047 =      0.000 ...     7.996 secs\n",
      "Ready.\n",
      "Writing E:\\jupyter file\\EEG_process\\SE_train_processed\\Z刘世清20220314（未发作）_bias_0.fif\n"
     ]
    },
    {
     "name": "stderr",
     "output_type": "stream",
     "text": [
      "<ipython-input-4-d8650b052227>:74: RuntimeWarning: This filename (E:\\jupyter file\\EEG_process\\SE_train_processed\\Z刘世清20220311_bias_0.fif) does not conform to MNE naming conventions. All raw files should end with raw.fif, raw_sss.fif, raw_tsss.fif, _meg.fif, _eeg.fif, _ieeg.fif, raw.fif.gz, raw_sss.fif.gz, raw_tsss.fif.gz, _meg.fif.gz, _eeg.fif.gz or _ieeg.fif.gz\n",
      "  custom_raw.save(save_path,overwrite=True)\n",
      "<ipython-input-4-d8650b052227>:2: RuntimeWarning: This filename (../SE_train\\Z刘世清20220314（未发作）_bias_0.fif) does not conform to MNE naming conventions. All raw files should end with raw.fif, raw_sss.fif, raw_tsss.fif, _meg.fif, _eeg.fif, _ieeg.fif, raw.fif.gz, raw_sss.fif.gz, raw_tsss.fif.gz, _meg.fif.gz, _eeg.fif.gz or _ieeg.fif.gz\n",
      "  raw = read_raw_fif(file_path)\n",
      "<ipython-input-4-d8650b052227>:74: RuntimeWarning: This filename (E:\\jupyter file\\EEG_process\\SE_train_processed\\Z刘世清20220314（未发作）_bias_0.fif) does not conform to MNE naming conventions. All raw files should end with raw.fif, raw_sss.fif, raw_tsss.fif, _meg.fif, _eeg.fif, _ieeg.fif, raw.fif.gz, raw_sss.fif.gz, raw_tsss.fif.gz, _meg.fif.gz, _eeg.fif.gz or _ieeg.fif.gz\n",
      "  custom_raw.save(save_path,overwrite=True)\n"
     ]
    },
    {
     "name": "stdout",
     "output_type": "stream",
     "text": [
      "Closing E:\\jupyter file\\EEG_process\\SE_train_processed\\Z刘世清20220314（未发作）_bias_0.fif\n",
      "[done]\n",
      "../SE_train_processed/Z刘世清20220314（未发作）_bias_16.fif\n",
      "Opening raw data file ../SE_train\\Z刘世清20220314（未发作）_bias_16.fif...\n",
      "Isotrak not found\n",
      "    Range : 587602 ... 603986 =    573.830 ...   589.830 secs\n",
      "Ready.\n",
      "data_256.shape (15, 2048)\n",
      "data_256_samples.shape (15, 4, 512)\n",
      "data_sta.shape (15, 4, 512)\n",
      "data_x.shape: (60, 512, 1)\n",
      "pred_channel.shape (15, 2048)\n",
      "Creating RawArray with float64 data, n_channels=15, n_times=2048\n",
      "    Range : 0 ... 2047 =      0.000 ...     7.996 secs\n",
      "Ready.\n",
      "Writing E:\\jupyter file\\EEG_process\\SE_train_processed\\Z刘世清20220314（未发作）_bias_16.fif\n",
      "Closing E:\\jupyter file\\EEG_process\\SE_train_processed\\Z刘世清20220314（未发作）_bias_16.fif\n",
      "[done]\n",
      "../SE_train_processed/Z刘世清20220314（未发作）_bias_24.fif\n",
      "Opening raw data file ../SE_train\\Z刘世清20220314（未发作）_bias_24.fif...\n",
      "Isotrak not found\n",
      "    Range : 595794 ... 612178 =    581.830 ...   597.830 secs\n",
      "Ready.\n"
     ]
    },
    {
     "name": "stderr",
     "output_type": "stream",
     "text": [
      "<ipython-input-4-d8650b052227>:2: RuntimeWarning: This filename (../SE_train\\Z刘世清20220314（未发作）_bias_16.fif) does not conform to MNE naming conventions. All raw files should end with raw.fif, raw_sss.fif, raw_tsss.fif, _meg.fif, _eeg.fif, _ieeg.fif, raw.fif.gz, raw_sss.fif.gz, raw_tsss.fif.gz, _meg.fif.gz, _eeg.fif.gz or _ieeg.fif.gz\n",
      "  raw = read_raw_fif(file_path)\n",
      "<ipython-input-4-d8650b052227>:74: RuntimeWarning: This filename (E:\\jupyter file\\EEG_process\\SE_train_processed\\Z刘世清20220314（未发作）_bias_16.fif) does not conform to MNE naming conventions. All raw files should end with raw.fif, raw_sss.fif, raw_tsss.fif, _meg.fif, _eeg.fif, _ieeg.fif, raw.fif.gz, raw_sss.fif.gz, raw_tsss.fif.gz, _meg.fif.gz, _eeg.fif.gz or _ieeg.fif.gz\n",
      "  custom_raw.save(save_path,overwrite=True)\n",
      "<ipython-input-4-d8650b052227>:2: RuntimeWarning: This filename (../SE_train\\Z刘世清20220314（未发作）_bias_24.fif) does not conform to MNE naming conventions. All raw files should end with raw.fif, raw_sss.fif, raw_tsss.fif, _meg.fif, _eeg.fif, _ieeg.fif, raw.fif.gz, raw_sss.fif.gz, raw_tsss.fif.gz, _meg.fif.gz, _eeg.fif.gz or _ieeg.fif.gz\n",
      "  raw = read_raw_fif(file_path)\n"
     ]
    },
    {
     "name": "stdout",
     "output_type": "stream",
     "text": [
      "data_256.shape (15, 2048)\n",
      "data_256_samples.shape (15, 4, 512)\n",
      "data_sta.shape (15, 4, 512)\n",
      "data_x.shape: (60, 512, 1)\n",
      "pred_channel.shape (15, 2048)\n",
      "Creating RawArray with float64 data, n_channels=15, n_times=2048\n",
      "    Range : 0 ... 2047 =      0.000 ...     7.996 secs\n",
      "Ready.\n",
      "Writing E:\\jupyter file\\EEG_process\\SE_train_processed\\Z刘世清20220314（未发作）_bias_24.fif\n",
      "Closing E:\\jupyter file\\EEG_process\\SE_train_processed\\Z刘世清20220314（未发作）_bias_24.fif\n",
      "[done]\n",
      "../SE_train_processed/Z刘世清20220314（未发作）_bias_32.fif\n",
      "Opening raw data file ../SE_train\\Z刘世清20220314（未发作）_bias_32.fif...\n",
      "Isotrak not found\n",
      "    Range : 603986 ... 620370 =    589.830 ...   605.830 secs\n",
      "Ready.\n",
      "data_256.shape (15, 2048)\n",
      "data_256_samples.shape (15, 4, 512)\n",
      "data_sta.shape (15, 4, 512)\n",
      "data_x.shape: (60, 512, 1)\n",
      "pred_channel.shape (15, 2048)\n",
      "Creating RawArray with float64 data, n_channels=15, n_times=2048\n",
      "    Range : 0 ... 2047 =      0.000 ...     7.996 secs\n",
      "Ready.\n",
      "Writing E:\\jupyter file\\EEG_process\\SE_train_processed\\Z刘世清20220314（未发作）_bias_32.fif\n",
      "Closing E:\\jupyter file\\EEG_process\\SE_train_processed\\Z刘世清20220314（未发作）_bias_32.fif\n",
      "[done]\n",
      "../SE_train_processed/Z刘世清20220314（未发作）_bias_40.fif\n",
      "Opening raw data file ../SE_train\\Z刘世清20220314（未发作）_bias_40.fif...\n",
      "Isotrak not found\n"
     ]
    },
    {
     "name": "stderr",
     "output_type": "stream",
     "text": [
      "<ipython-input-4-d8650b052227>:74: RuntimeWarning: This filename (E:\\jupyter file\\EEG_process\\SE_train_processed\\Z刘世清20220314（未发作）_bias_24.fif) does not conform to MNE naming conventions. All raw files should end with raw.fif, raw_sss.fif, raw_tsss.fif, _meg.fif, _eeg.fif, _ieeg.fif, raw.fif.gz, raw_sss.fif.gz, raw_tsss.fif.gz, _meg.fif.gz, _eeg.fif.gz or _ieeg.fif.gz\n",
      "  custom_raw.save(save_path,overwrite=True)\n",
      "<ipython-input-4-d8650b052227>:2: RuntimeWarning: This filename (../SE_train\\Z刘世清20220314（未发作）_bias_32.fif) does not conform to MNE naming conventions. All raw files should end with raw.fif, raw_sss.fif, raw_tsss.fif, _meg.fif, _eeg.fif, _ieeg.fif, raw.fif.gz, raw_sss.fif.gz, raw_tsss.fif.gz, _meg.fif.gz, _eeg.fif.gz or _ieeg.fif.gz\n",
      "  raw = read_raw_fif(file_path)\n",
      "<ipython-input-4-d8650b052227>:74: RuntimeWarning: This filename (E:\\jupyter file\\EEG_process\\SE_train_processed\\Z刘世清20220314（未发作）_bias_32.fif) does not conform to MNE naming conventions. All raw files should end with raw.fif, raw_sss.fif, raw_tsss.fif, _meg.fif, _eeg.fif, _ieeg.fif, raw.fif.gz, raw_sss.fif.gz, raw_tsss.fif.gz, _meg.fif.gz, _eeg.fif.gz or _ieeg.fif.gz\n",
      "  custom_raw.save(save_path,overwrite=True)\n",
      "<ipython-input-4-d8650b052227>:2: RuntimeWarning: This filename (../SE_train\\Z刘世清20220314（未发作）_bias_40.fif) does not conform to MNE naming conventions. All raw files should end with raw.fif, raw_sss.fif, raw_tsss.fif, _meg.fif, _eeg.fif, _ieeg.fif, raw.fif.gz, raw_sss.fif.gz, raw_tsss.fif.gz, _meg.fif.gz, _eeg.fif.gz or _ieeg.fif.gz\n",
      "  raw = read_raw_fif(file_path)\n"
     ]
    },
    {
     "name": "stdout",
     "output_type": "stream",
     "text": [
      "    Range : 612178 ... 628562 =    597.830 ...   613.830 secs\n",
      "Ready.\n",
      "data_256.shape (15, 2048)\n",
      "data_256_samples.shape (15, 4, 512)\n",
      "data_sta.shape (15, 4, 512)\n",
      "data_x.shape: (60, 512, 1)\n",
      "pred_channel.shape (15, 2048)\n",
      "Creating RawArray with float64 data, n_channels=15, n_times=2048\n",
      "    Range : 0 ... 2047 =      0.000 ...     7.996 secs\n",
      "Ready.\n",
      "Writing E:\\jupyter file\\EEG_process\\SE_train_processed\\Z刘世清20220314（未发作）_bias_40.fif\n",
      "Closing E:\\jupyter file\\EEG_process\\SE_train_processed\\Z刘世清20220314（未发作）_bias_40.fif\n",
      "[done]\n",
      "../SE_train_processed/Z刘世清20220314（未发作）_bias_8.fif\n",
      "Opening raw data file ../SE_train\\Z刘世清20220314（未发作）_bias_8.fif...\n",
      "Isotrak not found\n",
      "    Range : 579410 ... 595794 =    565.830 ...   581.830 secs\n",
      "Ready.\n",
      "data_256.shape (15, 2048)\n",
      "data_256_samples.shape (15, 4, 512)\n",
      "data_sta.shape (15, 4, 512)\n",
      "data_x.shape: (60, 512, 1)\n",
      "pred_channel.shape (15, 2048)\n",
      "Creating RawArray with float64 data, n_channels=15, n_times=2048\n",
      "    Range : 0 ... 2047 =      0.000 ...     7.996 secs\n",
      "Ready.\n",
      "Writing E:\\jupyter file\\EEG_process\\SE_train_processed\\Z刘世清20220314（未发作）_bias_8.fif\n"
     ]
    },
    {
     "name": "stderr",
     "output_type": "stream",
     "text": [
      "<ipython-input-4-d8650b052227>:74: RuntimeWarning: This filename (E:\\jupyter file\\EEG_process\\SE_train_processed\\Z刘世清20220314（未发作）_bias_40.fif) does not conform to MNE naming conventions. All raw files should end with raw.fif, raw_sss.fif, raw_tsss.fif, _meg.fif, _eeg.fif, _ieeg.fif, raw.fif.gz, raw_sss.fif.gz, raw_tsss.fif.gz, _meg.fif.gz, _eeg.fif.gz or _ieeg.fif.gz\n",
      "  custom_raw.save(save_path,overwrite=True)\n",
      "<ipython-input-4-d8650b052227>:2: RuntimeWarning: This filename (../SE_train\\Z刘世清20220314（未发作）_bias_8.fif) does not conform to MNE naming conventions. All raw files should end with raw.fif, raw_sss.fif, raw_tsss.fif, _meg.fif, _eeg.fif, _ieeg.fif, raw.fif.gz, raw_sss.fif.gz, raw_tsss.fif.gz, _meg.fif.gz, _eeg.fif.gz or _ieeg.fif.gz\n",
      "  raw = read_raw_fif(file_path)\n",
      "<ipython-input-4-d8650b052227>:74: RuntimeWarning: This filename (E:\\jupyter file\\EEG_process\\SE_train_processed\\Z刘世清20220314（未发作）_bias_8.fif) does not conform to MNE naming conventions. All raw files should end with raw.fif, raw_sss.fif, raw_tsss.fif, _meg.fif, _eeg.fif, _ieeg.fif, raw.fif.gz, raw_sss.fif.gz, raw_tsss.fif.gz, _meg.fif.gz, _eeg.fif.gz or _ieeg.fif.gz\n",
      "  custom_raw.save(save_path,overwrite=True)\n"
     ]
    },
    {
     "name": "stdout",
     "output_type": "stream",
     "text": [
      "Closing E:\\jupyter file\\EEG_process\\SE_train_processed\\Z刘世清20220314（未发作）_bias_8.fif\n",
      "[done]\n",
      "../SE_train_processed/Z刘世清20220316_bias_0.fif\n",
      "Opening raw data file ../SE_train\\Z刘世清20220316_bias_0.fif...\n",
      "Isotrak not found\n",
      "    Range : 46144 ... 54336 =     45.062 ...    53.062 secs\n",
      "Ready.\n",
      "data_256.shape (15, 2048)\n",
      "data_256_samples.shape (15, 4, 512)\n",
      "data_sta.shape (15, 4, 512)\n",
      "data_x.shape: (60, 512, 1)\n"
     ]
    },
    {
     "name": "stderr",
     "output_type": "stream",
     "text": [
      "<ipython-input-4-d8650b052227>:2: RuntimeWarning: This filename (../SE_train\\Z刘世清20220316_bias_0.fif) does not conform to MNE naming conventions. All raw files should end with raw.fif, raw_sss.fif, raw_tsss.fif, _meg.fif, _eeg.fif, _ieeg.fif, raw.fif.gz, raw_sss.fif.gz, raw_tsss.fif.gz, _meg.fif.gz, _eeg.fif.gz or _ieeg.fif.gz\n",
      "  raw = read_raw_fif(file_path)\n"
     ]
    },
    {
     "name": "stdout",
     "output_type": "stream",
     "text": [
      "pred_channel.shape (15, 2048)\n",
      "Creating RawArray with float64 data, n_channels=15, n_times=2048\n",
      "    Range : 0 ... 2047 =      0.000 ...     7.996 secs\n",
      "Ready.\n",
      "Writing E:\\jupyter file\\EEG_process\\SE_train_processed\\Z刘世清20220316_bias_0.fif\n",
      "Closing E:\\jupyter file\\EEG_process\\SE_train_processed\\Z刘世清20220316_bias_0.fif\n",
      "[done]\n",
      "../SE_train_processed/Z刘浩天20220513_bias_0.fif\n",
      "Opening raw data file ../SE_train\\Z刘浩天20220513_bias_0.fif...\n",
      "Isotrak not found\n",
      "    Range : 43367 ... 47464 =     84.701 ...    92.703 secs\n",
      "Ready.\n",
      "data_256.shape (15, 2048)\n",
      "data_256_samples.shape (15, 4, 512)\n",
      "data_sta.shape (15, 4, 512)\n",
      "data_x.shape: (60, 512, 1)\n",
      "pred_channel.shape (15, 2048)\n",
      "Creating RawArray with float64 data, n_channels=15, n_times=2048\n",
      "    Range : 0 ... 2047 =      0.000 ...     7.996 secs\n",
      "Ready.\n",
      "Writing E:\\jupyter file\\EEG_process\\SE_train_processed\\Z刘浩天20220513_bias_0.fif\n",
      "Closing E:\\jupyter file\\EEG_process\\SE_train_processed\\Z刘浩天20220513_bias_0.fif\n",
      "[done]\n",
      "../SE_train_processed/Z刘浩天20220516_bias_0.fif\n",
      "Opening raw data file ../SE_train\\Z刘浩天20220516_bias_0.fif...\n"
     ]
    },
    {
     "name": "stderr",
     "output_type": "stream",
     "text": [
      "<ipython-input-4-d8650b052227>:74: RuntimeWarning: This filename (E:\\jupyter file\\EEG_process\\SE_train_processed\\Z刘世清20220316_bias_0.fif) does not conform to MNE naming conventions. All raw files should end with raw.fif, raw_sss.fif, raw_tsss.fif, _meg.fif, _eeg.fif, _ieeg.fif, raw.fif.gz, raw_sss.fif.gz, raw_tsss.fif.gz, _meg.fif.gz, _eeg.fif.gz or _ieeg.fif.gz\n",
      "  custom_raw.save(save_path,overwrite=True)\n",
      "<ipython-input-4-d8650b052227>:2: RuntimeWarning: This filename (../SE_train\\Z刘浩天20220513_bias_0.fif) does not conform to MNE naming conventions. All raw files should end with raw.fif, raw_sss.fif, raw_tsss.fif, _meg.fif, _eeg.fif, _ieeg.fif, raw.fif.gz, raw_sss.fif.gz, raw_tsss.fif.gz, _meg.fif.gz, _eeg.fif.gz or _ieeg.fif.gz\n",
      "  raw = read_raw_fif(file_path)\n",
      "<ipython-input-4-d8650b052227>:74: RuntimeWarning: This filename (E:\\jupyter file\\EEG_process\\SE_train_processed\\Z刘浩天20220513_bias_0.fif) does not conform to MNE naming conventions. All raw files should end with raw.fif, raw_sss.fif, raw_tsss.fif, _meg.fif, _eeg.fif, _ieeg.fif, raw.fif.gz, raw_sss.fif.gz, raw_tsss.fif.gz, _meg.fif.gz, _eeg.fif.gz or _ieeg.fif.gz\n",
      "  custom_raw.save(save_path,overwrite=True)\n"
     ]
    },
    {
     "name": "stdout",
     "output_type": "stream",
     "text": [
      "Isotrak not found\n",
      "    Range : 149932 ... 166316 =     73.209 ...    81.209 secs\n",
      "Ready.\n",
      "data_256.shape (15, 2048)\n",
      "data_256_samples.shape (15, 4, 512)\n",
      "data_sta.shape (15, 4, 512)\n",
      "data_x.shape: (60, 512, 1)\n",
      "pred_channel.shape (15, 2048)\n",
      "Creating RawArray with float64 data, n_channels=15, n_times=2048\n",
      "    Range : 0 ... 2047 =      0.000 ...     7.996 secs\n",
      "Ready.\n",
      "Writing E:\\jupyter file\\EEG_process\\SE_train_processed\\Z刘浩天20220516_bias_0.fif\n",
      "Closing E:\\jupyter file\\EEG_process\\SE_train_processed\\Z刘浩天20220516_bias_0.fif\n",
      "[done]\n",
      "../SE_train_processed/Z刘浩天20220518_bias_0.fif\n",
      "Opening raw data file ../SE_train\\Z刘浩天20220518_bias_0.fif...\n",
      "Isotrak not found\n",
      "    Range : 8 ... 16392 =      0.004 ...     8.004 secs\n",
      "Ready.\n"
     ]
    },
    {
     "name": "stderr",
     "output_type": "stream",
     "text": [
      "<ipython-input-4-d8650b052227>:2: RuntimeWarning: This filename (../SE_train\\Z刘浩天20220516_bias_0.fif) does not conform to MNE naming conventions. All raw files should end with raw.fif, raw_sss.fif, raw_tsss.fif, _meg.fif, _eeg.fif, _ieeg.fif, raw.fif.gz, raw_sss.fif.gz, raw_tsss.fif.gz, _meg.fif.gz, _eeg.fif.gz or _ieeg.fif.gz\n",
      "  raw = read_raw_fif(file_path)\n",
      "<ipython-input-4-d8650b052227>:74: RuntimeWarning: This filename (E:\\jupyter file\\EEG_process\\SE_train_processed\\Z刘浩天20220516_bias_0.fif) does not conform to MNE naming conventions. All raw files should end with raw.fif, raw_sss.fif, raw_tsss.fif, _meg.fif, _eeg.fif, _ieeg.fif, raw.fif.gz, raw_sss.fif.gz, raw_tsss.fif.gz, _meg.fif.gz, _eeg.fif.gz or _ieeg.fif.gz\n",
      "  custom_raw.save(save_path,overwrite=True)\n",
      "<ipython-input-4-d8650b052227>:2: RuntimeWarning: This filename (../SE_train\\Z刘浩天20220518_bias_0.fif) does not conform to MNE naming conventions. All raw files should end with raw.fif, raw_sss.fif, raw_tsss.fif, _meg.fif, _eeg.fif, _ieeg.fif, raw.fif.gz, raw_sss.fif.gz, raw_tsss.fif.gz, _meg.fif.gz, _eeg.fif.gz or _ieeg.fif.gz\n",
      "  raw = read_raw_fif(file_path)\n"
     ]
    },
    {
     "name": "stdout",
     "output_type": "stream",
     "text": [
      "data_256.shape (15, 2048)\n",
      "data_256_samples.shape (15, 4, 512)\n",
      "data_sta.shape (15, 4, 512)\n",
      "data_x.shape: (60, 512, 1)\n",
      "pred_channel.shape (15, 2048)\n",
      "Creating RawArray with float64 data, n_channels=15, n_times=2048\n",
      "    Range : 0 ... 2047 =      0.000 ...     7.996 secs\n",
      "Ready.\n",
      "Writing E:\\jupyter file\\EEG_process\\SE_train_processed\\Z刘浩天20220518_bias_0.fif\n",
      "Closing E:\\jupyter file\\EEG_process\\SE_train_processed\\Z刘浩天20220518_bias_0.fif\n",
      "[done]\n",
      "../SE_train_processed/Z刘浩天20220520_bias_0.fif\n",
      "Opening raw data file ../SE_train\\Z刘浩天20220520_bias_0.fif...\n",
      "Isotrak not found\n",
      "    Range : 48388 ... 52484 =     94.508 ...   102.508 secs\n",
      "Ready.\n",
      "data_256.shape (15, 2048)\n",
      "data_256_samples.shape (15, 4, 512)\n",
      "data_sta.shape (15, 4, 512)\n",
      "data_x.shape: (60, 512, 1)\n",
      "pred_channel.shape (15, 2048)\n"
     ]
    },
    {
     "name": "stderr",
     "output_type": "stream",
     "text": [
      "<ipython-input-4-d8650b052227>:74: RuntimeWarning: This filename (E:\\jupyter file\\EEG_process\\SE_train_processed\\Z刘浩天20220518_bias_0.fif) does not conform to MNE naming conventions. All raw files should end with raw.fif, raw_sss.fif, raw_tsss.fif, _meg.fif, _eeg.fif, _ieeg.fif, raw.fif.gz, raw_sss.fif.gz, raw_tsss.fif.gz, _meg.fif.gz, _eeg.fif.gz or _ieeg.fif.gz\n",
      "  custom_raw.save(save_path,overwrite=True)\n",
      "<ipython-input-4-d8650b052227>:2: RuntimeWarning: This filename (../SE_train\\Z刘浩天20220520_bias_0.fif) does not conform to MNE naming conventions. All raw files should end with raw.fif, raw_sss.fif, raw_tsss.fif, _meg.fif, _eeg.fif, _ieeg.fif, raw.fif.gz, raw_sss.fif.gz, raw_tsss.fif.gz, _meg.fif.gz, _eeg.fif.gz or _ieeg.fif.gz\n",
      "  raw = read_raw_fif(file_path)\n"
     ]
    },
    {
     "name": "stdout",
     "output_type": "stream",
     "text": [
      "Creating RawArray with float64 data, n_channels=15, n_times=2048\n",
      "    Range : 0 ... 2047 =      0.000 ...     7.996 secs\n",
      "Ready.\n",
      "Writing E:\\jupyter file\\EEG_process\\SE_train_processed\\Z刘浩天20220520_bias_0.fif\n",
      "Closing E:\\jupyter file\\EEG_process\\SE_train_processed\\Z刘浩天20220520_bias_0.fif\n",
      "[done]\n",
      "../SE_train_processed/Z南添仁20220509_bias_0.fif\n",
      "Opening raw data file ../SE_train\\Z南添仁20220509_bias_0.fif...\n",
      "Isotrak not found\n",
      "    Range : 37899 ... 41995 =     74.021 ...    82.021 secs\n",
      "Ready.\n",
      "data_256.shape (15, 2048)\n",
      "data_256_samples.shape (15, 4, 512)\n",
      "data_sta.shape (15, 4, 512)\n",
      "data_x.shape: (60, 512, 1)\n"
     ]
    },
    {
     "name": "stderr",
     "output_type": "stream",
     "text": [
      "<ipython-input-4-d8650b052227>:74: RuntimeWarning: This filename (E:\\jupyter file\\EEG_process\\SE_train_processed\\Z刘浩天20220520_bias_0.fif) does not conform to MNE naming conventions. All raw files should end with raw.fif, raw_sss.fif, raw_tsss.fif, _meg.fif, _eeg.fif, _ieeg.fif, raw.fif.gz, raw_sss.fif.gz, raw_tsss.fif.gz, _meg.fif.gz, _eeg.fif.gz or _ieeg.fif.gz\n",
      "  custom_raw.save(save_path,overwrite=True)\n",
      "<ipython-input-4-d8650b052227>:2: RuntimeWarning: This filename (../SE_train\\Z南添仁20220509_bias_0.fif) does not conform to MNE naming conventions. All raw files should end with raw.fif, raw_sss.fif, raw_tsss.fif, _meg.fif, _eeg.fif, _ieeg.fif, raw.fif.gz, raw_sss.fif.gz, raw_tsss.fif.gz, _meg.fif.gz, _eeg.fif.gz or _ieeg.fif.gz\n",
      "  raw = read_raw_fif(file_path)\n"
     ]
    },
    {
     "name": "stdout",
     "output_type": "stream",
     "text": [
      "pred_channel.shape (15, 2048)\n",
      "Creating RawArray with float64 data, n_channels=15, n_times=2048\n",
      "    Range : 0 ... 2047 =      0.000 ...     7.996 secs\n",
      "Ready.\n",
      "Writing E:\\jupyter file\\EEG_process\\SE_train_processed\\Z南添仁20220509_bias_0.fif\n",
      "Closing E:\\jupyter file\\EEG_process\\SE_train_processed\\Z南添仁20220509_bias_0.fif\n",
      "[done]\n",
      "../SE_train_processed/Z南添仁20220511_bias_0.fif\n",
      "Opening raw data file ../SE_train\\Z南添仁20220511_bias_0.fif...\n",
      "Isotrak not found\n",
      "    Range : 46646 ... 50742 =     91.105 ...    99.105 secs\n",
      "Ready.\n",
      "data_256.shape (15, 2048)\n",
      "data_256_samples.shape (15, 4, 512)\n",
      "data_sta.shape (15, 4, 512)\n",
      "data_x.shape: (60, 512, 1)\n"
     ]
    },
    {
     "name": "stderr",
     "output_type": "stream",
     "text": [
      "<ipython-input-4-d8650b052227>:74: RuntimeWarning: This filename (E:\\jupyter file\\EEG_process\\SE_train_processed\\Z南添仁20220509_bias_0.fif) does not conform to MNE naming conventions. All raw files should end with raw.fif, raw_sss.fif, raw_tsss.fif, _meg.fif, _eeg.fif, _ieeg.fif, raw.fif.gz, raw_sss.fif.gz, raw_tsss.fif.gz, _meg.fif.gz, _eeg.fif.gz or _ieeg.fif.gz\n",
      "  custom_raw.save(save_path,overwrite=True)\n",
      "<ipython-input-4-d8650b052227>:2: RuntimeWarning: This filename (../SE_train\\Z南添仁20220511_bias_0.fif) does not conform to MNE naming conventions. All raw files should end with raw.fif, raw_sss.fif, raw_tsss.fif, _meg.fif, _eeg.fif, _ieeg.fif, raw.fif.gz, raw_sss.fif.gz, raw_tsss.fif.gz, _meg.fif.gz, _eeg.fif.gz or _ieeg.fif.gz\n",
      "  raw = read_raw_fif(file_path)\n"
     ]
    },
    {
     "name": "stdout",
     "output_type": "stream",
     "text": [
      "pred_channel.shape (15, 2048)\n",
      "Creating RawArray with float64 data, n_channels=15, n_times=2048\n",
      "    Range : 0 ... 2047 =      0.000 ...     7.996 secs\n",
      "Ready.\n",
      "Writing E:\\jupyter file\\EEG_process\\SE_train_processed\\Z南添仁20220511_bias_0.fif\n",
      "Closing E:\\jupyter file\\EEG_process\\SE_train_processed\\Z南添仁20220511_bias_0.fif\n",
      "[done]\n",
      "../SE_train_processed/Z南添仁20220513_bias_0.fif\n",
      "Opening raw data file ../SE_train\\Z南添仁20220513_bias_0.fif...\n",
      "Isotrak not found\n",
      "    Range : 87105 ... 91201 =    170.127 ...   178.127 secs\n",
      "Ready.\n",
      "data_256.shape (15, 2048)\n",
      "data_256_samples.shape (15, 4, 512)\n",
      "data_sta.shape (15, 4, 512)\n",
      "data_x.shape: (60, 512, 1)\n"
     ]
    },
    {
     "name": "stderr",
     "output_type": "stream",
     "text": [
      "<ipython-input-4-d8650b052227>:74: RuntimeWarning: This filename (E:\\jupyter file\\EEG_process\\SE_train_processed\\Z南添仁20220511_bias_0.fif) does not conform to MNE naming conventions. All raw files should end with raw.fif, raw_sss.fif, raw_tsss.fif, _meg.fif, _eeg.fif, _ieeg.fif, raw.fif.gz, raw_sss.fif.gz, raw_tsss.fif.gz, _meg.fif.gz, _eeg.fif.gz or _ieeg.fif.gz\n",
      "  custom_raw.save(save_path,overwrite=True)\n",
      "<ipython-input-4-d8650b052227>:2: RuntimeWarning: This filename (../SE_train\\Z南添仁20220513_bias_0.fif) does not conform to MNE naming conventions. All raw files should end with raw.fif, raw_sss.fif, raw_tsss.fif, _meg.fif, _eeg.fif, _ieeg.fif, raw.fif.gz, raw_sss.fif.gz, raw_tsss.fif.gz, _meg.fif.gz, _eeg.fif.gz or _ieeg.fif.gz\n",
      "  raw = read_raw_fif(file_path)\n"
     ]
    },
    {
     "name": "stdout",
     "output_type": "stream",
     "text": [
      "pred_channel.shape (15, 2048)\n",
      "Creating RawArray with float64 data, n_channels=15, n_times=2048\n",
      "    Range : 0 ... 2047 =      0.000 ...     7.996 secs\n",
      "Ready.\n",
      "Writing E:\\jupyter file\\EEG_process\\SE_train_processed\\Z南添仁20220513_bias_0.fif\n",
      "Closing E:\\jupyter file\\EEG_process\\SE_train_processed\\Z南添仁20220513_bias_0.fif\n",
      "[done]\n",
      "../SE_train_processed/Z南添仁20220516_bias_0.fif\n",
      "Opening raw data file ../SE_train\\Z南添仁20220516_bias_0.fif...\n",
      "Isotrak not found\n",
      "    Range : 159918 ... 176302 =     78.085 ...    86.085 secs\n",
      "Ready.\n",
      "data_256.shape (15, 2048)\n",
      "data_256_samples.shape (15, 4, 512)\n",
      "data_sta.shape (15, 4, 512)\n",
      "data_x.shape: (60, 512, 1)\n"
     ]
    },
    {
     "name": "stderr",
     "output_type": "stream",
     "text": [
      "<ipython-input-4-d8650b052227>:74: RuntimeWarning: This filename (E:\\jupyter file\\EEG_process\\SE_train_processed\\Z南添仁20220513_bias_0.fif) does not conform to MNE naming conventions. All raw files should end with raw.fif, raw_sss.fif, raw_tsss.fif, _meg.fif, _eeg.fif, _ieeg.fif, raw.fif.gz, raw_sss.fif.gz, raw_tsss.fif.gz, _meg.fif.gz, _eeg.fif.gz or _ieeg.fif.gz\n",
      "  custom_raw.save(save_path,overwrite=True)\n",
      "<ipython-input-4-d8650b052227>:2: RuntimeWarning: This filename (../SE_train\\Z南添仁20220516_bias_0.fif) does not conform to MNE naming conventions. All raw files should end with raw.fif, raw_sss.fif, raw_tsss.fif, _meg.fif, _eeg.fif, _ieeg.fif, raw.fif.gz, raw_sss.fif.gz, raw_tsss.fif.gz, _meg.fif.gz, _eeg.fif.gz or _ieeg.fif.gz\n",
      "  raw = read_raw_fif(file_path)\n"
     ]
    },
    {
     "name": "stdout",
     "output_type": "stream",
     "text": [
      "pred_channel.shape (15, 2048)\n",
      "Creating RawArray with float64 data, n_channels=15, n_times=2048\n",
      "    Range : 0 ... 2047 =      0.000 ...     7.996 secs\n",
      "Ready.\n",
      "Writing E:\\jupyter file\\EEG_process\\SE_train_processed\\Z南添仁20220516_bias_0.fif\n",
      "Closing E:\\jupyter file\\EEG_process\\SE_train_processed\\Z南添仁20220516_bias_0.fif\n",
      "[done]\n",
      "../SE_train_processed/Z周博20220408_bias_0.fif\n",
      "Opening raw data file ../SE_train\\Z周博20220408_bias_0.fif...\n",
      "Isotrak not found\n",
      "    Range : 102 ... 8294 =      0.100 ...     8.100 secs\n",
      "Ready.\n",
      "data_256.shape (15, 2048)\n",
      "data_256_samples.shape (15, 4, 512)\n",
      "data_sta.shape (15, 4, 512)\n",
      "data_x.shape: (60, 512, 1)\n"
     ]
    },
    {
     "name": "stderr",
     "output_type": "stream",
     "text": [
      "<ipython-input-4-d8650b052227>:74: RuntimeWarning: This filename (E:\\jupyter file\\EEG_process\\SE_train_processed\\Z南添仁20220516_bias_0.fif) does not conform to MNE naming conventions. All raw files should end with raw.fif, raw_sss.fif, raw_tsss.fif, _meg.fif, _eeg.fif, _ieeg.fif, raw.fif.gz, raw_sss.fif.gz, raw_tsss.fif.gz, _meg.fif.gz, _eeg.fif.gz or _ieeg.fif.gz\n",
      "  custom_raw.save(save_path,overwrite=True)\n",
      "<ipython-input-4-d8650b052227>:2: RuntimeWarning: This filename (../SE_train\\Z周博20220408_bias_0.fif) does not conform to MNE naming conventions. All raw files should end with raw.fif, raw_sss.fif, raw_tsss.fif, _meg.fif, _eeg.fif, _ieeg.fif, raw.fif.gz, raw_sss.fif.gz, raw_tsss.fif.gz, _meg.fif.gz, _eeg.fif.gz or _ieeg.fif.gz\n",
      "  raw = read_raw_fif(file_path)\n"
     ]
    },
    {
     "name": "stdout",
     "output_type": "stream",
     "text": [
      "pred_channel.shape (15, 2048)\n",
      "Creating RawArray with float64 data, n_channels=15, n_times=2048\n",
      "    Range : 0 ... 2047 =      0.000 ...     7.996 secs\n",
      "Ready.\n",
      "Writing E:\\jupyter file\\EEG_process\\SE_train_processed\\Z周博20220408_bias_0.fif\n",
      "Closing E:\\jupyter file\\EEG_process\\SE_train_processed\\Z周博20220408_bias_0.fif\n",
      "[done]\n",
      "../SE_train_processed/Z周博20220415_bias_0.fif\n",
      "Opening raw data file ../SE_train\\Z周博20220415_bias_0.fif...\n",
      "Isotrak not found\n",
      "    Range : 13343 ... 21535 =     13.030 ...    21.030 secs\n",
      "Ready.\n",
      "data_256.shape (15, 2048)\n",
      "data_256_samples.shape (15, 4, 512)\n",
      "data_sta.shape (15, 4, 512)\n",
      "data_x.shape: (60, 512, 1)\n"
     ]
    },
    {
     "name": "stderr",
     "output_type": "stream",
     "text": [
      "<ipython-input-4-d8650b052227>:74: RuntimeWarning: This filename (E:\\jupyter file\\EEG_process\\SE_train_processed\\Z周博20220408_bias_0.fif) does not conform to MNE naming conventions. All raw files should end with raw.fif, raw_sss.fif, raw_tsss.fif, _meg.fif, _eeg.fif, _ieeg.fif, raw.fif.gz, raw_sss.fif.gz, raw_tsss.fif.gz, _meg.fif.gz, _eeg.fif.gz or _ieeg.fif.gz\n",
      "  custom_raw.save(save_path,overwrite=True)\n",
      "<ipython-input-4-d8650b052227>:2: RuntimeWarning: This filename (../SE_train\\Z周博20220415_bias_0.fif) does not conform to MNE naming conventions. All raw files should end with raw.fif, raw_sss.fif, raw_tsss.fif, _meg.fif, _eeg.fif, _ieeg.fif, raw.fif.gz, raw_sss.fif.gz, raw_tsss.fif.gz, _meg.fif.gz, _eeg.fif.gz or _ieeg.fif.gz\n",
      "  raw = read_raw_fif(file_path)\n"
     ]
    },
    {
     "name": "stdout",
     "output_type": "stream",
     "text": [
      "pred_channel.shape (15, 2048)\n",
      "Creating RawArray with float64 data, n_channels=15, n_times=2048\n",
      "    Range : 0 ... 2047 =      0.000 ...     7.996 secs\n",
      "Ready.\n",
      "Writing E:\\jupyter file\\EEG_process\\SE_train_processed\\Z周博20220415_bias_0.fif\n",
      "Closing E:\\jupyter file\\EEG_process\\SE_train_processed\\Z周博20220415_bias_0.fif\n",
      "[done]\n",
      "../SE_train_processed/Z周博20220422_bias_0.fif\n",
      "Opening raw data file ../SE_train\\Z周博20220422_bias_0.fif...\n",
      "Isotrak not found\n",
      "    Range : 32149 ... 40341 =     31.396 ...    39.396 secs\n",
      "Ready.\n",
      "data_256.shape (15, 2048)\n",
      "data_256_samples.shape (15, 4, 512)\n",
      "data_sta.shape (15, 4, 512)\n",
      "data_x.shape: (60, 512, 1)\n"
     ]
    },
    {
     "name": "stderr",
     "output_type": "stream",
     "text": [
      "<ipython-input-4-d8650b052227>:74: RuntimeWarning: This filename (E:\\jupyter file\\EEG_process\\SE_train_processed\\Z周博20220415_bias_0.fif) does not conform to MNE naming conventions. All raw files should end with raw.fif, raw_sss.fif, raw_tsss.fif, _meg.fif, _eeg.fif, _ieeg.fif, raw.fif.gz, raw_sss.fif.gz, raw_tsss.fif.gz, _meg.fif.gz, _eeg.fif.gz or _ieeg.fif.gz\n",
      "  custom_raw.save(save_path,overwrite=True)\n",
      "<ipython-input-4-d8650b052227>:2: RuntimeWarning: This filename (../SE_train\\Z周博20220422_bias_0.fif) does not conform to MNE naming conventions. All raw files should end with raw.fif, raw_sss.fif, raw_tsss.fif, _meg.fif, _eeg.fif, _ieeg.fif, raw.fif.gz, raw_sss.fif.gz, raw_tsss.fif.gz, _meg.fif.gz, _eeg.fif.gz or _ieeg.fif.gz\n",
      "  raw = read_raw_fif(file_path)\n"
     ]
    },
    {
     "name": "stdout",
     "output_type": "stream",
     "text": [
      "pred_channel.shape (15, 2048)\n",
      "Creating RawArray with float64 data, n_channels=15, n_times=2048\n",
      "    Range : 0 ... 2047 =      0.000 ...     7.996 secs\n",
      "Ready.\n",
      "Writing E:\\jupyter file\\EEG_process\\SE_train_processed\\Z周博20220422_bias_0.fif\n",
      "Closing E:\\jupyter file\\EEG_process\\SE_train_processed\\Z周博20220422_bias_0.fif\n",
      "[done]\n",
      "../SE_train_processed/Z周小凯20220314_bias_0.fif\n",
      "Opening raw data file ../SE_train\\Z周小凯20220314_bias_0.fif...\n",
      "Isotrak not found\n",
      "    Range : 147821 ... 156013 =    144.356 ...   152.356 secs\n",
      "Ready.\n",
      "data_256.shape (15, 2048)\n",
      "data_256_samples.shape (15, 4, 512)\n",
      "data_sta.shape (15, 4, 512)\n",
      "data_x.shape: (60, 512, 1)\n"
     ]
    },
    {
     "name": "stderr",
     "output_type": "stream",
     "text": [
      "<ipython-input-4-d8650b052227>:74: RuntimeWarning: This filename (E:\\jupyter file\\EEG_process\\SE_train_processed\\Z周博20220422_bias_0.fif) does not conform to MNE naming conventions. All raw files should end with raw.fif, raw_sss.fif, raw_tsss.fif, _meg.fif, _eeg.fif, _ieeg.fif, raw.fif.gz, raw_sss.fif.gz, raw_tsss.fif.gz, _meg.fif.gz, _eeg.fif.gz or _ieeg.fif.gz\n",
      "  custom_raw.save(save_path,overwrite=True)\n",
      "<ipython-input-4-d8650b052227>:2: RuntimeWarning: This filename (../SE_train\\Z周小凯20220314_bias_0.fif) does not conform to MNE naming conventions. All raw files should end with raw.fif, raw_sss.fif, raw_tsss.fif, _meg.fif, _eeg.fif, _ieeg.fif, raw.fif.gz, raw_sss.fif.gz, raw_tsss.fif.gz, _meg.fif.gz, _eeg.fif.gz or _ieeg.fif.gz\n",
      "  raw = read_raw_fif(file_path)\n"
     ]
    },
    {
     "name": "stdout",
     "output_type": "stream",
     "text": [
      "pred_channel.shape (15, 2048)\n",
      "Creating RawArray with float64 data, n_channels=15, n_times=2048\n",
      "    Range : 0 ... 2047 =      0.000 ...     7.996 secs\n",
      "Ready.\n",
      "Writing E:\\jupyter file\\EEG_process\\SE_train_processed\\Z周小凯20220314_bias_0.fif\n",
      "Closing E:\\jupyter file\\EEG_process\\SE_train_processed\\Z周小凯20220314_bias_0.fif\n",
      "[done]\n",
      "../SE_train_processed/Z周小凯20220316_bias_0.fif\n",
      "Opening raw data file ../SE_train\\Z周小凯20220316_bias_0.fif...\n",
      "Isotrak not found\n",
      "    Range : 101451 ... 109643 =     99.073 ...   107.073 secs\n",
      "Ready.\n",
      "data_256.shape (15, 2048)\n",
      "data_256_samples.shape (15, 4, 512)\n",
      "data_sta.shape (15, 4, 512)\n",
      "data_x.shape: (60, 512, 1)\n"
     ]
    },
    {
     "name": "stderr",
     "output_type": "stream",
     "text": [
      "<ipython-input-4-d8650b052227>:74: RuntimeWarning: This filename (E:\\jupyter file\\EEG_process\\SE_train_processed\\Z周小凯20220314_bias_0.fif) does not conform to MNE naming conventions. All raw files should end with raw.fif, raw_sss.fif, raw_tsss.fif, _meg.fif, _eeg.fif, _ieeg.fif, raw.fif.gz, raw_sss.fif.gz, raw_tsss.fif.gz, _meg.fif.gz, _eeg.fif.gz or _ieeg.fif.gz\n",
      "  custom_raw.save(save_path,overwrite=True)\n",
      "<ipython-input-4-d8650b052227>:2: RuntimeWarning: This filename (../SE_train\\Z周小凯20220316_bias_0.fif) does not conform to MNE naming conventions. All raw files should end with raw.fif, raw_sss.fif, raw_tsss.fif, _meg.fif, _eeg.fif, _ieeg.fif, raw.fif.gz, raw_sss.fif.gz, raw_tsss.fif.gz, _meg.fif.gz, _eeg.fif.gz or _ieeg.fif.gz\n",
      "  raw = read_raw_fif(file_path)\n"
     ]
    },
    {
     "name": "stdout",
     "output_type": "stream",
     "text": [
      "pred_channel.shape (15, 2048)\n",
      "Creating RawArray with float64 data, n_channels=15, n_times=2048\n",
      "    Range : 0 ... 2047 =      0.000 ...     7.996 secs\n",
      "Ready.\n",
      "Writing E:\\jupyter file\\EEG_process\\SE_train_processed\\Z周小凯20220316_bias_0.fif\n",
      "Closing E:\\jupyter file\\EEG_process\\SE_train_processed\\Z周小凯20220316_bias_0.fif\n",
      "[done]\n",
      "../SE_train_processed/Z周小凯20220318_bias_0.fif\n",
      "Opening raw data file ../SE_train\\Z周小凯20220318_bias_0.fif...\n",
      "Isotrak not found\n",
      "    Range : 995 ... 9187 =      0.972 ...     8.972 secs\n",
      "Ready.\n",
      "data_256.shape (15, 2048)\n",
      "data_256_samples.shape (15, 4, 512)\n",
      "data_sta.shape (15, 4, 512)\n",
      "data_x.shape: (60, 512, 1)\n"
     ]
    },
    {
     "name": "stderr",
     "output_type": "stream",
     "text": [
      "<ipython-input-4-d8650b052227>:74: RuntimeWarning: This filename (E:\\jupyter file\\EEG_process\\SE_train_processed\\Z周小凯20220316_bias_0.fif) does not conform to MNE naming conventions. All raw files should end with raw.fif, raw_sss.fif, raw_tsss.fif, _meg.fif, _eeg.fif, _ieeg.fif, raw.fif.gz, raw_sss.fif.gz, raw_tsss.fif.gz, _meg.fif.gz, _eeg.fif.gz or _ieeg.fif.gz\n",
      "  custom_raw.save(save_path,overwrite=True)\n",
      "<ipython-input-4-d8650b052227>:2: RuntimeWarning: This filename (../SE_train\\Z周小凯20220318_bias_0.fif) does not conform to MNE naming conventions. All raw files should end with raw.fif, raw_sss.fif, raw_tsss.fif, _meg.fif, _eeg.fif, _ieeg.fif, raw.fif.gz, raw_sss.fif.gz, raw_tsss.fif.gz, _meg.fif.gz, _eeg.fif.gz or _ieeg.fif.gz\n",
      "  raw = read_raw_fif(file_path)\n"
     ]
    },
    {
     "name": "stdout",
     "output_type": "stream",
     "text": [
      "pred_channel.shape (15, 2048)\n",
      "Creating RawArray with float64 data, n_channels=15, n_times=2048\n",
      "    Range : 0 ... 2047 =      0.000 ...     7.996 secs\n",
      "Ready.\n",
      "Writing E:\\jupyter file\\EEG_process\\SE_train_processed\\Z周小凯20220318_bias_0.fif\n",
      "Closing E:\\jupyter file\\EEG_process\\SE_train_processed\\Z周小凯20220318_bias_0.fif\n",
      "[done]\n",
      "../SE_train_processed/Z周小凯20220321_bias_0.fif\n",
      "Opening raw data file ../SE_train\\Z周小凯20220321_bias_0.fif...\n",
      "Isotrak not found\n",
      "    Range : 61765 ... 69957 =     60.317 ...    68.317 secs\n",
      "Ready.\n",
      "data_256.shape (15, 2048)\n",
      "data_256_samples.shape (15, 4, 512)\n",
      "data_sta.shape (15, 4, 512)\n",
      "data_x.shape: (60, 512, 1)\n"
     ]
    },
    {
     "name": "stderr",
     "output_type": "stream",
     "text": [
      "<ipython-input-4-d8650b052227>:74: RuntimeWarning: This filename (E:\\jupyter file\\EEG_process\\SE_train_processed\\Z周小凯20220318_bias_0.fif) does not conform to MNE naming conventions. All raw files should end with raw.fif, raw_sss.fif, raw_tsss.fif, _meg.fif, _eeg.fif, _ieeg.fif, raw.fif.gz, raw_sss.fif.gz, raw_tsss.fif.gz, _meg.fif.gz, _eeg.fif.gz or _ieeg.fif.gz\n",
      "  custom_raw.save(save_path,overwrite=True)\n",
      "<ipython-input-4-d8650b052227>:2: RuntimeWarning: This filename (../SE_train\\Z周小凯20220321_bias_0.fif) does not conform to MNE naming conventions. All raw files should end with raw.fif, raw_sss.fif, raw_tsss.fif, _meg.fif, _eeg.fif, _ieeg.fif, raw.fif.gz, raw_sss.fif.gz, raw_tsss.fif.gz, _meg.fif.gz, _eeg.fif.gz or _ieeg.fif.gz\n",
      "  raw = read_raw_fif(file_path)\n"
     ]
    },
    {
     "name": "stdout",
     "output_type": "stream",
     "text": [
      "pred_channel.shape (15, 2048)\n",
      "Creating RawArray with float64 data, n_channels=15, n_times=2048\n",
      "    Range : 0 ... 2047 =      0.000 ...     7.996 secs\n",
      "Ready.\n",
      "Writing E:\\jupyter file\\EEG_process\\SE_train_processed\\Z周小凯20220321_bias_0.fif\n",
      "Closing E:\\jupyter file\\EEG_process\\SE_train_processed\\Z周小凯20220321_bias_0.fif\n",
      "[done]\n",
      "../SE_train_processed/Z周牧涵20220511_bias_0.fif\n",
      "Opening raw data file ../SE_train\\Z周牧涵20220511_bias_0.fif...\n",
      "Isotrak not found\n",
      "    Range : 166782 ... 170878 =    325.746 ...   333.746 secs\n",
      "Ready.\n",
      "data_256.shape (15, 2048)\n",
      "data_256_samples.shape (15, 4, 512)\n",
      "data_sta.shape (15, 4, 512)\n",
      "data_x.shape: (60, 512, 1)\n"
     ]
    },
    {
     "name": "stderr",
     "output_type": "stream",
     "text": [
      "<ipython-input-4-d8650b052227>:74: RuntimeWarning: This filename (E:\\jupyter file\\EEG_process\\SE_train_processed\\Z周小凯20220321_bias_0.fif) does not conform to MNE naming conventions. All raw files should end with raw.fif, raw_sss.fif, raw_tsss.fif, _meg.fif, _eeg.fif, _ieeg.fif, raw.fif.gz, raw_sss.fif.gz, raw_tsss.fif.gz, _meg.fif.gz, _eeg.fif.gz or _ieeg.fif.gz\n",
      "  custom_raw.save(save_path,overwrite=True)\n",
      "<ipython-input-4-d8650b052227>:2: RuntimeWarning: This filename (../SE_train\\Z周牧涵20220511_bias_0.fif) does not conform to MNE naming conventions. All raw files should end with raw.fif, raw_sss.fif, raw_tsss.fif, _meg.fif, _eeg.fif, _ieeg.fif, raw.fif.gz, raw_sss.fif.gz, raw_tsss.fif.gz, _meg.fif.gz, _eeg.fif.gz or _ieeg.fif.gz\n",
      "  raw = read_raw_fif(file_path)\n"
     ]
    },
    {
     "name": "stdout",
     "output_type": "stream",
     "text": [
      "pred_channel.shape (15, 2048)\n",
      "Creating RawArray with float64 data, n_channels=15, n_times=2048\n",
      "    Range : 0 ... 2047 =      0.000 ...     7.996 secs\n",
      "Ready.\n",
      "Writing E:\\jupyter file\\EEG_process\\SE_train_processed\\Z周牧涵20220511_bias_0.fif\n",
      "Closing E:\\jupyter file\\EEG_process\\SE_train_processed\\Z周牧涵20220511_bias_0.fif\n",
      "[done]\n",
      "../SE_train_processed/Z周牧涵20220513（未发作）_bias_0.fif\n",
      "Opening raw data file ../SE_train\\Z周牧涵20220513（未发作）_bias_0.fif...\n",
      "Isotrak not found\n",
      "    Range : 60160 ... 64256 =    117.500 ...   125.500 secs\n",
      "Ready.\n",
      "data_256.shape (15, 2048)\n",
      "data_256_samples.shape (15, 4, 512)\n",
      "data_sta.shape (15, 4, 512)\n",
      "data_x.shape: (60, 512, 1)\n"
     ]
    },
    {
     "name": "stderr",
     "output_type": "stream",
     "text": [
      "<ipython-input-4-d8650b052227>:74: RuntimeWarning: This filename (E:\\jupyter file\\EEG_process\\SE_train_processed\\Z周牧涵20220511_bias_0.fif) does not conform to MNE naming conventions. All raw files should end with raw.fif, raw_sss.fif, raw_tsss.fif, _meg.fif, _eeg.fif, _ieeg.fif, raw.fif.gz, raw_sss.fif.gz, raw_tsss.fif.gz, _meg.fif.gz, _eeg.fif.gz or _ieeg.fif.gz\n",
      "  custom_raw.save(save_path,overwrite=True)\n",
      "<ipython-input-4-d8650b052227>:2: RuntimeWarning: This filename (../SE_train\\Z周牧涵20220513（未发作）_bias_0.fif) does not conform to MNE naming conventions. All raw files should end with raw.fif, raw_sss.fif, raw_tsss.fif, _meg.fif, _eeg.fif, _ieeg.fif, raw.fif.gz, raw_sss.fif.gz, raw_tsss.fif.gz, _meg.fif.gz, _eeg.fif.gz or _ieeg.fif.gz\n",
      "  raw = read_raw_fif(file_path)\n"
     ]
    },
    {
     "name": "stdout",
     "output_type": "stream",
     "text": [
      "pred_channel.shape (15, 2048)\n",
      "Creating RawArray with float64 data, n_channels=15, n_times=2048\n",
      "    Range : 0 ... 2047 =      0.000 ...     7.996 secs\n",
      "Ready.\n",
      "Writing E:\\jupyter file\\EEG_process\\SE_train_processed\\Z周牧涵20220513（未发作）_bias_0.fif\n",
      "Closing E:\\jupyter file\\EEG_process\\SE_train_processed\\Z周牧涵20220513（未发作）_bias_0.fif\n",
      "[done]\n",
      "../SE_train_processed/Z周牧涵20220513（未发作）_bias_16.fif\n",
      "Opening raw data file ../SE_train\\Z周牧涵20220513（未发作）_bias_16.fif...\n",
      "Isotrak not found\n",
      "    Range : 68352 ... 76544 =    133.500 ...   149.500 secs\n",
      "Ready.\n",
      "data_256.shape (15, 2048)\n",
      "data_256_samples.shape (15, 4, 512)\n",
      "data_sta.shape (15, 4, 512)\n",
      "data_x.shape: (60, 512, 1)\n"
     ]
    },
    {
     "name": "stderr",
     "output_type": "stream",
     "text": [
      "<ipython-input-4-d8650b052227>:74: RuntimeWarning: This filename (E:\\jupyter file\\EEG_process\\SE_train_processed\\Z周牧涵20220513（未发作）_bias_0.fif) does not conform to MNE naming conventions. All raw files should end with raw.fif, raw_sss.fif, raw_tsss.fif, _meg.fif, _eeg.fif, _ieeg.fif, raw.fif.gz, raw_sss.fif.gz, raw_tsss.fif.gz, _meg.fif.gz, _eeg.fif.gz or _ieeg.fif.gz\n",
      "  custom_raw.save(save_path,overwrite=True)\n",
      "<ipython-input-4-d8650b052227>:2: RuntimeWarning: This filename (../SE_train\\Z周牧涵20220513（未发作）_bias_16.fif) does not conform to MNE naming conventions. All raw files should end with raw.fif, raw_sss.fif, raw_tsss.fif, _meg.fif, _eeg.fif, _ieeg.fif, raw.fif.gz, raw_sss.fif.gz, raw_tsss.fif.gz, _meg.fif.gz, _eeg.fif.gz or _ieeg.fif.gz\n",
      "  raw = read_raw_fif(file_path)\n"
     ]
    },
    {
     "name": "stdout",
     "output_type": "stream",
     "text": [
      "pred_channel.shape (15, 2048)\n",
      "Creating RawArray with float64 data, n_channels=15, n_times=2048\n",
      "    Range : 0 ... 2047 =      0.000 ...     7.996 secs\n",
      "Ready.\n",
      "Writing E:\\jupyter file\\EEG_process\\SE_train_processed\\Z周牧涵20220513（未发作）_bias_16.fif\n",
      "Closing E:\\jupyter file\\EEG_process\\SE_train_processed\\Z周牧涵20220513（未发作）_bias_16.fif\n",
      "[done]\n",
      "../SE_train_processed/Z周牧涵20220513（未发作）_bias_24.fif\n",
      "Opening raw data file ../SE_train\\Z周牧涵20220513（未发作）_bias_24.fif...\n",
      "Isotrak not found\n",
      "    Range : 72448 ... 80640 =    141.500 ...   157.500 secs\n",
      "Ready.\n",
      "data_256.shape (15, 2048)\n",
      "data_256_samples.shape (15, 4, 512)\n",
      "data_sta.shape (15, 4, 512)\n",
      "data_x.shape: (60, 512, 1)\n"
     ]
    },
    {
     "name": "stderr",
     "output_type": "stream",
     "text": [
      "<ipython-input-4-d8650b052227>:74: RuntimeWarning: This filename (E:\\jupyter file\\EEG_process\\SE_train_processed\\Z周牧涵20220513（未发作）_bias_16.fif) does not conform to MNE naming conventions. All raw files should end with raw.fif, raw_sss.fif, raw_tsss.fif, _meg.fif, _eeg.fif, _ieeg.fif, raw.fif.gz, raw_sss.fif.gz, raw_tsss.fif.gz, _meg.fif.gz, _eeg.fif.gz or _ieeg.fif.gz\n",
      "  custom_raw.save(save_path,overwrite=True)\n",
      "<ipython-input-4-d8650b052227>:2: RuntimeWarning: This filename (../SE_train\\Z周牧涵20220513（未发作）_bias_24.fif) does not conform to MNE naming conventions. All raw files should end with raw.fif, raw_sss.fif, raw_tsss.fif, _meg.fif, _eeg.fif, _ieeg.fif, raw.fif.gz, raw_sss.fif.gz, raw_tsss.fif.gz, _meg.fif.gz, _eeg.fif.gz or _ieeg.fif.gz\n",
      "  raw = read_raw_fif(file_path)\n"
     ]
    },
    {
     "name": "stdout",
     "output_type": "stream",
     "text": [
      "pred_channel.shape (15, 2048)\n",
      "Creating RawArray with float64 data, n_channels=15, n_times=2048\n",
      "    Range : 0 ... 2047 =      0.000 ...     7.996 secs\n",
      "Ready.\n",
      "Writing E:\\jupyter file\\EEG_process\\SE_train_processed\\Z周牧涵20220513（未发作）_bias_24.fif\n",
      "Closing E:\\jupyter file\\EEG_process\\SE_train_processed\\Z周牧涵20220513（未发作）_bias_24.fif\n",
      "[done]\n",
      "../SE_train_processed/Z周牧涵20220513（未发作）_bias_32.fif\n",
      "Opening raw data file ../SE_train\\Z周牧涵20220513（未发作）_bias_32.fif...\n",
      "Isotrak not found\n",
      "    Range : 76544 ... 84736 =    149.500 ...   165.500 secs\n",
      "Ready.\n",
      "data_256.shape (15, 2048)\n",
      "data_256_samples.shape (15, 4, 512)\n",
      "data_sta.shape (15, 4, 512)\n",
      "data_x.shape: (60, 512, 1)\n"
     ]
    },
    {
     "name": "stderr",
     "output_type": "stream",
     "text": [
      "<ipython-input-4-d8650b052227>:74: RuntimeWarning: This filename (E:\\jupyter file\\EEG_process\\SE_train_processed\\Z周牧涵20220513（未发作）_bias_24.fif) does not conform to MNE naming conventions. All raw files should end with raw.fif, raw_sss.fif, raw_tsss.fif, _meg.fif, _eeg.fif, _ieeg.fif, raw.fif.gz, raw_sss.fif.gz, raw_tsss.fif.gz, _meg.fif.gz, _eeg.fif.gz or _ieeg.fif.gz\n",
      "  custom_raw.save(save_path,overwrite=True)\n",
      "<ipython-input-4-d8650b052227>:2: RuntimeWarning: This filename (../SE_train\\Z周牧涵20220513（未发作）_bias_32.fif) does not conform to MNE naming conventions. All raw files should end with raw.fif, raw_sss.fif, raw_tsss.fif, _meg.fif, _eeg.fif, _ieeg.fif, raw.fif.gz, raw_sss.fif.gz, raw_tsss.fif.gz, _meg.fif.gz, _eeg.fif.gz or _ieeg.fif.gz\n",
      "  raw = read_raw_fif(file_path)\n"
     ]
    },
    {
     "name": "stdout",
     "output_type": "stream",
     "text": [
      "pred_channel.shape (15, 2048)\n",
      "Creating RawArray with float64 data, n_channels=15, n_times=2048\n",
      "    Range : 0 ... 2047 =      0.000 ...     7.996 secs\n",
      "Ready.\n",
      "Writing E:\\jupyter file\\EEG_process\\SE_train_processed\\Z周牧涵20220513（未发作）_bias_32.fif\n",
      "Closing E:\\jupyter file\\EEG_process\\SE_train_processed\\Z周牧涵20220513（未发作）_bias_32.fif\n",
      "[done]\n",
      "../SE_train_processed/Z周牧涵20220513（未发作）_bias_40.fif\n",
      "Opening raw data file ../SE_train\\Z周牧涵20220513（未发作）_bias_40.fif...\n",
      "Isotrak not found\n",
      "    Range : 80640 ... 88832 =    157.500 ...   173.500 secs\n",
      "Ready.\n",
      "data_256.shape (15, 2048)\n",
      "data_256_samples.shape (15, 4, 512)\n",
      "data_sta.shape (15, 4, 512)\n",
      "data_x.shape: (60, 512, 1)\n"
     ]
    },
    {
     "name": "stderr",
     "output_type": "stream",
     "text": [
      "<ipython-input-4-d8650b052227>:74: RuntimeWarning: This filename (E:\\jupyter file\\EEG_process\\SE_train_processed\\Z周牧涵20220513（未发作）_bias_32.fif) does not conform to MNE naming conventions. All raw files should end with raw.fif, raw_sss.fif, raw_tsss.fif, _meg.fif, _eeg.fif, _ieeg.fif, raw.fif.gz, raw_sss.fif.gz, raw_tsss.fif.gz, _meg.fif.gz, _eeg.fif.gz or _ieeg.fif.gz\n",
      "  custom_raw.save(save_path,overwrite=True)\n",
      "<ipython-input-4-d8650b052227>:2: RuntimeWarning: This filename (../SE_train\\Z周牧涵20220513（未发作）_bias_40.fif) does not conform to MNE naming conventions. All raw files should end with raw.fif, raw_sss.fif, raw_tsss.fif, _meg.fif, _eeg.fif, _ieeg.fif, raw.fif.gz, raw_sss.fif.gz, raw_tsss.fif.gz, _meg.fif.gz, _eeg.fif.gz or _ieeg.fif.gz\n",
      "  raw = read_raw_fif(file_path)\n"
     ]
    },
    {
     "name": "stdout",
     "output_type": "stream",
     "text": [
      "pred_channel.shape (15, 2048)\n",
      "Creating RawArray with float64 data, n_channels=15, n_times=2048\n",
      "    Range : 0 ... 2047 =      0.000 ...     7.996 secs\n",
      "Ready.\n",
      "Writing E:\\jupyter file\\EEG_process\\SE_train_processed\\Z周牧涵20220513（未发作）_bias_40.fif\n",
      "Closing E:\\jupyter file\\EEG_process\\SE_train_processed\\Z周牧涵20220513（未发作）_bias_40.fif\n",
      "[done]\n",
      "../SE_train_processed/Z周牧涵20220513（未发作）_bias_8.fif\n",
      "Opening raw data file ../SE_train\\Z周牧涵20220513（未发作）_bias_8.fif...\n",
      "Isotrak not found\n",
      "    Range : 64256 ... 72448 =    125.500 ...   141.500 secs\n",
      "Ready.\n",
      "data_256.shape (15, 2048)\n",
      "data_256_samples.shape (15, 4, 512)\n",
      "data_sta.shape (15, 4, 512)\n",
      "data_x.shape: (60, 512, 1)\n",
      "pred_channel.shape (15, 2048)\n"
     ]
    },
    {
     "name": "stderr",
     "output_type": "stream",
     "text": [
      "<ipython-input-4-d8650b052227>:74: RuntimeWarning: This filename (E:\\jupyter file\\EEG_process\\SE_train_processed\\Z周牧涵20220513（未发作）_bias_40.fif) does not conform to MNE naming conventions. All raw files should end with raw.fif, raw_sss.fif, raw_tsss.fif, _meg.fif, _eeg.fif, _ieeg.fif, raw.fif.gz, raw_sss.fif.gz, raw_tsss.fif.gz, _meg.fif.gz, _eeg.fif.gz or _ieeg.fif.gz\n",
      "  custom_raw.save(save_path,overwrite=True)\n",
      "<ipython-input-4-d8650b052227>:2: RuntimeWarning: This filename (../SE_train\\Z周牧涵20220513（未发作）_bias_8.fif) does not conform to MNE naming conventions. All raw files should end with raw.fif, raw_sss.fif, raw_tsss.fif, _meg.fif, _eeg.fif, _ieeg.fif, raw.fif.gz, raw_sss.fif.gz, raw_tsss.fif.gz, _meg.fif.gz, _eeg.fif.gz or _ieeg.fif.gz\n",
      "  raw = read_raw_fif(file_path)\n"
     ]
    },
    {
     "name": "stdout",
     "output_type": "stream",
     "text": [
      "Creating RawArray with float64 data, n_channels=15, n_times=2048\n",
      "    Range : 0 ... 2047 =      0.000 ...     7.996 secs\n",
      "Ready.\n",
      "Writing E:\\jupyter file\\EEG_process\\SE_train_processed\\Z周牧涵20220513（未发作）_bias_8.fif\n",
      "Closing E:\\jupyter file\\EEG_process\\SE_train_processed\\Z周牧涵20220513（未发作）_bias_8.fif\n",
      "[done]\n",
      "../SE_train_processed/Z周牧涵20220516（未发作）_bias_0.fif\n",
      "Opening raw data file ../SE_train\\Z周牧涵20220516（未发作）_bias_0.fif...\n",
      "Isotrak not found\n",
      "    Range : 61392 ... 77776 =     29.977 ...    37.977 secs\n",
      "Ready.\n",
      "data_256.shape (15, 2048)\n",
      "data_256_samples.shape (15, 4, 512)\n",
      "data_sta.shape (15, 4, 512)\n",
      "data_x.shape: (60, 512, 1)\n"
     ]
    },
    {
     "name": "stderr",
     "output_type": "stream",
     "text": [
      "<ipython-input-4-d8650b052227>:74: RuntimeWarning: This filename (E:\\jupyter file\\EEG_process\\SE_train_processed\\Z周牧涵20220513（未发作）_bias_8.fif) does not conform to MNE naming conventions. All raw files should end with raw.fif, raw_sss.fif, raw_tsss.fif, _meg.fif, _eeg.fif, _ieeg.fif, raw.fif.gz, raw_sss.fif.gz, raw_tsss.fif.gz, _meg.fif.gz, _eeg.fif.gz or _ieeg.fif.gz\n",
      "  custom_raw.save(save_path,overwrite=True)\n",
      "<ipython-input-4-d8650b052227>:2: RuntimeWarning: This filename (../SE_train\\Z周牧涵20220516（未发作）_bias_0.fif) does not conform to MNE naming conventions. All raw files should end with raw.fif, raw_sss.fif, raw_tsss.fif, _meg.fif, _eeg.fif, _ieeg.fif, raw.fif.gz, raw_sss.fif.gz, raw_tsss.fif.gz, _meg.fif.gz, _eeg.fif.gz or _ieeg.fif.gz\n",
      "  raw = read_raw_fif(file_path)\n"
     ]
    },
    {
     "name": "stdout",
     "output_type": "stream",
     "text": [
      "pred_channel.shape (15, 2048)\n",
      "Creating RawArray with float64 data, n_channels=15, n_times=2048\n",
      "    Range : 0 ... 2047 =      0.000 ...     7.996 secs\n",
      "Ready.\n",
      "Writing E:\\jupyter file\\EEG_process\\SE_train_processed\\Z周牧涵20220516（未发作）_bias_0.fif\n",
      "Closing E:\\jupyter file\\EEG_process\\SE_train_processed\\Z周牧涵20220516（未发作）_bias_0.fif\n",
      "[done]\n",
      "../SE_train_processed/Z周牧涵20220516（未发作）_bias_16.fif\n",
      "Opening raw data file ../SE_train\\Z周牧涵20220516（未发作）_bias_16.fif...\n",
      "Isotrak not found\n",
      "    Range : 94160 ... 126928 =     45.977 ...    61.977 secs\n",
      "Ready.\n",
      "data_256.shape (15, 2048)\n",
      "data_256_samples.shape (15, 4, 512)\n",
      "data_sta.shape (15, 4, 512)\n",
      "data_x.shape: (60, 512, 1)\n"
     ]
    },
    {
     "name": "stderr",
     "output_type": "stream",
     "text": [
      "<ipython-input-4-d8650b052227>:74: RuntimeWarning: This filename (E:\\jupyter file\\EEG_process\\SE_train_processed\\Z周牧涵20220516（未发作）_bias_0.fif) does not conform to MNE naming conventions. All raw files should end with raw.fif, raw_sss.fif, raw_tsss.fif, _meg.fif, _eeg.fif, _ieeg.fif, raw.fif.gz, raw_sss.fif.gz, raw_tsss.fif.gz, _meg.fif.gz, _eeg.fif.gz or _ieeg.fif.gz\n",
      "  custom_raw.save(save_path,overwrite=True)\n",
      "<ipython-input-4-d8650b052227>:2: RuntimeWarning: This filename (../SE_train\\Z周牧涵20220516（未发作）_bias_16.fif) does not conform to MNE naming conventions. All raw files should end with raw.fif, raw_sss.fif, raw_tsss.fif, _meg.fif, _eeg.fif, _ieeg.fif, raw.fif.gz, raw_sss.fif.gz, raw_tsss.fif.gz, _meg.fif.gz, _eeg.fif.gz or _ieeg.fif.gz\n",
      "  raw = read_raw_fif(file_path)\n"
     ]
    },
    {
     "name": "stdout",
     "output_type": "stream",
     "text": [
      "pred_channel.shape (15, 2048)\n",
      "Creating RawArray with float64 data, n_channels=15, n_times=2048\n",
      "    Range : 0 ... 2047 =      0.000 ...     7.996 secs\n",
      "Ready.\n",
      "Writing E:\\jupyter file\\EEG_process\\SE_train_processed\\Z周牧涵20220516（未发作）_bias_16.fif\n",
      "Closing E:\\jupyter file\\EEG_process\\SE_train_processed\\Z周牧涵20220516（未发作）_bias_16.fif\n",
      "[done]\n",
      "../SE_train_processed/Z周牧涵20220516（未发作）_bias_24.fif\n",
      "Opening raw data file ../SE_train\\Z周牧涵20220516（未发作）_bias_24.fif...\n",
      "Isotrak not found\n",
      "    Range : 110544 ... 143312 =     53.977 ...    69.977 secs\n",
      "Ready.\n",
      "data_256.shape (15, 2048)\n",
      "data_256_samples.shape (15, 4, 512)\n",
      "data_sta.shape (15, 4, 512)\n",
      "data_x.shape: (60, 512, 1)\n"
     ]
    },
    {
     "name": "stderr",
     "output_type": "stream",
     "text": [
      "<ipython-input-4-d8650b052227>:74: RuntimeWarning: This filename (E:\\jupyter file\\EEG_process\\SE_train_processed\\Z周牧涵20220516（未发作）_bias_16.fif) does not conform to MNE naming conventions. All raw files should end with raw.fif, raw_sss.fif, raw_tsss.fif, _meg.fif, _eeg.fif, _ieeg.fif, raw.fif.gz, raw_sss.fif.gz, raw_tsss.fif.gz, _meg.fif.gz, _eeg.fif.gz or _ieeg.fif.gz\n",
      "  custom_raw.save(save_path,overwrite=True)\n",
      "<ipython-input-4-d8650b052227>:2: RuntimeWarning: This filename (../SE_train\\Z周牧涵20220516（未发作）_bias_24.fif) does not conform to MNE naming conventions. All raw files should end with raw.fif, raw_sss.fif, raw_tsss.fif, _meg.fif, _eeg.fif, _ieeg.fif, raw.fif.gz, raw_sss.fif.gz, raw_tsss.fif.gz, _meg.fif.gz, _eeg.fif.gz or _ieeg.fif.gz\n",
      "  raw = read_raw_fif(file_path)\n"
     ]
    },
    {
     "name": "stdout",
     "output_type": "stream",
     "text": [
      "pred_channel.shape (15, 2048)\n",
      "Creating RawArray with float64 data, n_channels=15, n_times=2048\n",
      "    Range : 0 ... 2047 =      0.000 ...     7.996 secs\n",
      "Ready.\n",
      "Writing E:\\jupyter file\\EEG_process\\SE_train_processed\\Z周牧涵20220516（未发作）_bias_24.fif\n",
      "Closing E:\\jupyter file\\EEG_process\\SE_train_processed\\Z周牧涵20220516（未发作）_bias_24.fif\n",
      "[done]\n",
      "../SE_train_processed/Z周牧涵20220516（未发作）_bias_32.fif\n",
      "Opening raw data file ../SE_train\\Z周牧涵20220516（未发作）_bias_32.fif...\n",
      "Isotrak not found\n",
      "    Range : 126928 ... 159696 =     61.977 ...    77.977 secs\n",
      "Ready.\n",
      "data_256.shape (15, 2048)\n",
      "data_256_samples.shape (15, 4, 512)\n",
      "data_sta.shape (15, 4, 512)\n",
      "data_x.shape: (60, 512, 1)\n"
     ]
    },
    {
     "name": "stderr",
     "output_type": "stream",
     "text": [
      "<ipython-input-4-d8650b052227>:74: RuntimeWarning: This filename (E:\\jupyter file\\EEG_process\\SE_train_processed\\Z周牧涵20220516（未发作）_bias_24.fif) does not conform to MNE naming conventions. All raw files should end with raw.fif, raw_sss.fif, raw_tsss.fif, _meg.fif, _eeg.fif, _ieeg.fif, raw.fif.gz, raw_sss.fif.gz, raw_tsss.fif.gz, _meg.fif.gz, _eeg.fif.gz or _ieeg.fif.gz\n",
      "  custom_raw.save(save_path,overwrite=True)\n",
      "<ipython-input-4-d8650b052227>:2: RuntimeWarning: This filename (../SE_train\\Z周牧涵20220516（未发作）_bias_32.fif) does not conform to MNE naming conventions. All raw files should end with raw.fif, raw_sss.fif, raw_tsss.fif, _meg.fif, _eeg.fif, _ieeg.fif, raw.fif.gz, raw_sss.fif.gz, raw_tsss.fif.gz, _meg.fif.gz, _eeg.fif.gz or _ieeg.fif.gz\n",
      "  raw = read_raw_fif(file_path)\n"
     ]
    },
    {
     "name": "stdout",
     "output_type": "stream",
     "text": [
      "pred_channel.shape (15, 2048)\n",
      "Creating RawArray with float64 data, n_channels=15, n_times=2048\n",
      "    Range : 0 ... 2047 =      0.000 ...     7.996 secs\n",
      "Ready.\n",
      "Writing E:\\jupyter file\\EEG_process\\SE_train_processed\\Z周牧涵20220516（未发作）_bias_32.fif\n",
      "Closing E:\\jupyter file\\EEG_process\\SE_train_processed\\Z周牧涵20220516（未发作）_bias_32.fif\n",
      "[done]\n",
      "../SE_train_processed/Z周牧涵20220516（未发作）_bias_40.fif\n",
      "Opening raw data file ../SE_train\\Z周牧涵20220516（未发作）_bias_40.fif...\n",
      "Isotrak not found\n",
      "    Range : 143312 ... 176080 =     69.977 ...    85.977 secs\n",
      "Ready.\n",
      "data_256.shape (15, 2048)\n",
      "data_256_samples.shape (15, 4, 512)\n",
      "data_sta.shape (15, 4, 512)\n",
      "data_x.shape: (60, 512, 1)\n"
     ]
    },
    {
     "name": "stderr",
     "output_type": "stream",
     "text": [
      "<ipython-input-4-d8650b052227>:74: RuntimeWarning: This filename (E:\\jupyter file\\EEG_process\\SE_train_processed\\Z周牧涵20220516（未发作）_bias_32.fif) does not conform to MNE naming conventions. All raw files should end with raw.fif, raw_sss.fif, raw_tsss.fif, _meg.fif, _eeg.fif, _ieeg.fif, raw.fif.gz, raw_sss.fif.gz, raw_tsss.fif.gz, _meg.fif.gz, _eeg.fif.gz or _ieeg.fif.gz\n",
      "  custom_raw.save(save_path,overwrite=True)\n",
      "<ipython-input-4-d8650b052227>:2: RuntimeWarning: This filename (../SE_train\\Z周牧涵20220516（未发作）_bias_40.fif) does not conform to MNE naming conventions. All raw files should end with raw.fif, raw_sss.fif, raw_tsss.fif, _meg.fif, _eeg.fif, _ieeg.fif, raw.fif.gz, raw_sss.fif.gz, raw_tsss.fif.gz, _meg.fif.gz, _eeg.fif.gz or _ieeg.fif.gz\n",
      "  raw = read_raw_fif(file_path)\n"
     ]
    },
    {
     "name": "stdout",
     "output_type": "stream",
     "text": [
      "pred_channel.shape (15, 2048)\n",
      "Creating RawArray with float64 data, n_channels=15, n_times=2048\n",
      "    Range : 0 ... 2047 =      0.000 ...     7.996 secs\n",
      "Ready.\n",
      "Writing E:\\jupyter file\\EEG_process\\SE_train_processed\\Z周牧涵20220516（未发作）_bias_40.fif\n",
      "Closing E:\\jupyter file\\EEG_process\\SE_train_processed\\Z周牧涵20220516（未发作）_bias_40.fif\n",
      "[done]\n",
      "../SE_train_processed/Z周牧涵20220516（未发作）_bias_8.fif\n",
      "Opening raw data file ../SE_train\\Z周牧涵20220516（未发作）_bias_8.fif...\n",
      "Isotrak not found\n",
      "    Range : 77776 ... 110544 =     37.977 ...    53.977 secs\n",
      "Ready.\n",
      "data_256.shape (15, 2048)\n",
      "data_256_samples.shape (15, 4, 512)\n",
      "data_sta.shape (15, 4, 512)\n",
      "data_x.shape: (60, 512, 1)\n"
     ]
    },
    {
     "name": "stderr",
     "output_type": "stream",
     "text": [
      "<ipython-input-4-d8650b052227>:74: RuntimeWarning: This filename (E:\\jupyter file\\EEG_process\\SE_train_processed\\Z周牧涵20220516（未发作）_bias_40.fif) does not conform to MNE naming conventions. All raw files should end with raw.fif, raw_sss.fif, raw_tsss.fif, _meg.fif, _eeg.fif, _ieeg.fif, raw.fif.gz, raw_sss.fif.gz, raw_tsss.fif.gz, _meg.fif.gz, _eeg.fif.gz or _ieeg.fif.gz\n",
      "  custom_raw.save(save_path,overwrite=True)\n",
      "<ipython-input-4-d8650b052227>:2: RuntimeWarning: This filename (../SE_train\\Z周牧涵20220516（未发作）_bias_8.fif) does not conform to MNE naming conventions. All raw files should end with raw.fif, raw_sss.fif, raw_tsss.fif, _meg.fif, _eeg.fif, _ieeg.fif, raw.fif.gz, raw_sss.fif.gz, raw_tsss.fif.gz, _meg.fif.gz, _eeg.fif.gz or _ieeg.fif.gz\n",
      "  raw = read_raw_fif(file_path)\n"
     ]
    },
    {
     "name": "stdout",
     "output_type": "stream",
     "text": [
      "pred_channel.shape (15, 2048)\n",
      "Creating RawArray with float64 data, n_channels=15, n_times=2048\n",
      "    Range : 0 ... 2047 =      0.000 ...     7.996 secs\n",
      "Ready.\n",
      "Writing E:\\jupyter file\\EEG_process\\SE_train_processed\\Z周牧涵20220516（未发作）_bias_8.fif\n",
      "Closing E:\\jupyter file\\EEG_process\\SE_train_processed\\Z周牧涵20220516（未发作）_bias_8.fif\n",
      "[done]\n",
      "../SE_train_processed/Z周牧涵20220518_bias_0.fif\n",
      "Opening raw data file ../SE_train\\Z周牧涵20220518_bias_0.fif...\n",
      "Isotrak not found\n",
      "    Range : 138 ... 16522 =      0.067 ...     8.067 secs\n",
      "Ready.\n",
      "data_256.shape (15, 2048)\n",
      "data_256_samples.shape (15, 4, 512)\n",
      "data_sta.shape (15, 4, 512)\n",
      "data_x.shape: (60, 512, 1)\n"
     ]
    },
    {
     "name": "stderr",
     "output_type": "stream",
     "text": [
      "<ipython-input-4-d8650b052227>:74: RuntimeWarning: This filename (E:\\jupyter file\\EEG_process\\SE_train_processed\\Z周牧涵20220516（未发作）_bias_8.fif) does not conform to MNE naming conventions. All raw files should end with raw.fif, raw_sss.fif, raw_tsss.fif, _meg.fif, _eeg.fif, _ieeg.fif, raw.fif.gz, raw_sss.fif.gz, raw_tsss.fif.gz, _meg.fif.gz, _eeg.fif.gz or _ieeg.fif.gz\n",
      "  custom_raw.save(save_path,overwrite=True)\n",
      "<ipython-input-4-d8650b052227>:2: RuntimeWarning: This filename (../SE_train\\Z周牧涵20220518_bias_0.fif) does not conform to MNE naming conventions. All raw files should end with raw.fif, raw_sss.fif, raw_tsss.fif, _meg.fif, _eeg.fif, _ieeg.fif, raw.fif.gz, raw_sss.fif.gz, raw_tsss.fif.gz, _meg.fif.gz, _eeg.fif.gz or _ieeg.fif.gz\n",
      "  raw = read_raw_fif(file_path)\n"
     ]
    },
    {
     "name": "stdout",
     "output_type": "stream",
     "text": [
      "pred_channel.shape (15, 2048)\n",
      "Creating RawArray with float64 data, n_channels=15, n_times=2048\n",
      "    Range : 0 ... 2047 =      0.000 ...     7.996 secs\n",
      "Ready.\n",
      "Writing E:\\jupyter file\\EEG_process\\SE_train_processed\\Z周牧涵20220518_bias_0.fif\n",
      "Closing E:\\jupyter file\\EEG_process\\SE_train_processed\\Z周牧涵20220518_bias_0.fif\n",
      "[done]\n",
      "../SE_train_processed/Z孙彭辉20220225_bias_0.fif\n",
      "Opening raw data file ../SE_train\\Z孙彭辉20220225_bias_0.fif...\n",
      "Isotrak not found\n",
      "    Range : 39640 ... 47832 =     38.711 ...    46.711 secs\n",
      "Ready.\n",
      "data_256.shape (15, 2048)\n",
      "data_256_samples.shape (15, 4, 512)\n",
      "data_sta.shape (15, 4, 512)\n",
      "data_x.shape: (60, 512, 1)\n"
     ]
    },
    {
     "name": "stderr",
     "output_type": "stream",
     "text": [
      "<ipython-input-4-d8650b052227>:74: RuntimeWarning: This filename (E:\\jupyter file\\EEG_process\\SE_train_processed\\Z周牧涵20220518_bias_0.fif) does not conform to MNE naming conventions. All raw files should end with raw.fif, raw_sss.fif, raw_tsss.fif, _meg.fif, _eeg.fif, _ieeg.fif, raw.fif.gz, raw_sss.fif.gz, raw_tsss.fif.gz, _meg.fif.gz, _eeg.fif.gz or _ieeg.fif.gz\n",
      "  custom_raw.save(save_path,overwrite=True)\n",
      "<ipython-input-4-d8650b052227>:2: RuntimeWarning: This filename (../SE_train\\Z孙彭辉20220225_bias_0.fif) does not conform to MNE naming conventions. All raw files should end with raw.fif, raw_sss.fif, raw_tsss.fif, _meg.fif, _eeg.fif, _ieeg.fif, raw.fif.gz, raw_sss.fif.gz, raw_tsss.fif.gz, _meg.fif.gz, _eeg.fif.gz or _ieeg.fif.gz\n",
      "  raw = read_raw_fif(file_path)\n"
     ]
    },
    {
     "name": "stdout",
     "output_type": "stream",
     "text": [
      "pred_channel.shape (15, 2048)\n",
      "Creating RawArray with float64 data, n_channels=15, n_times=2048\n",
      "    Range : 0 ... 2047 =      0.000 ...     7.996 secs\n",
      "Ready.\n",
      "Writing E:\\jupyter file\\EEG_process\\SE_train_processed\\Z孙彭辉20220225_bias_0.fif\n",
      "Closing E:\\jupyter file\\EEG_process\\SE_train_processed\\Z孙彭辉20220225_bias_0.fif\n",
      "[done]\n",
      "../SE_train_processed/Z孙彭辉20220228_bias_0.fif\n",
      "Opening raw data file ../SE_train\\Z孙彭辉20220228_bias_0.fif...\n",
      "Isotrak not found\n",
      "    Range : 106204 ... 114396 =    103.715 ...   111.715 secs\n",
      "Ready.\n",
      "data_256.shape (15, 2048)\n",
      "data_256_samples.shape (15, 4, 512)\n",
      "data_sta.shape (15, 4, 512)\n",
      "data_x.shape: (60, 512, 1)\n"
     ]
    },
    {
     "name": "stderr",
     "output_type": "stream",
     "text": [
      "<ipython-input-4-d8650b052227>:74: RuntimeWarning: This filename (E:\\jupyter file\\EEG_process\\SE_train_processed\\Z孙彭辉20220225_bias_0.fif) does not conform to MNE naming conventions. All raw files should end with raw.fif, raw_sss.fif, raw_tsss.fif, _meg.fif, _eeg.fif, _ieeg.fif, raw.fif.gz, raw_sss.fif.gz, raw_tsss.fif.gz, _meg.fif.gz, _eeg.fif.gz or _ieeg.fif.gz\n",
      "  custom_raw.save(save_path,overwrite=True)\n",
      "<ipython-input-4-d8650b052227>:2: RuntimeWarning: This filename (../SE_train\\Z孙彭辉20220228_bias_0.fif) does not conform to MNE naming conventions. All raw files should end with raw.fif, raw_sss.fif, raw_tsss.fif, _meg.fif, _eeg.fif, _ieeg.fif, raw.fif.gz, raw_sss.fif.gz, raw_tsss.fif.gz, _meg.fif.gz, _eeg.fif.gz or _ieeg.fif.gz\n",
      "  raw = read_raw_fif(file_path)\n"
     ]
    },
    {
     "name": "stdout",
     "output_type": "stream",
     "text": [
      "pred_channel.shape (15, 2048)\n",
      "Creating RawArray with float64 data, n_channels=15, n_times=2048\n",
      "    Range : 0 ... 2047 =      0.000 ...     7.996 secs\n",
      "Ready.\n",
      "Writing E:\\jupyter file\\EEG_process\\SE_train_processed\\Z孙彭辉20220228_bias_0.fif\n",
      "Closing E:\\jupyter file\\EEG_process\\SE_train_processed\\Z孙彭辉20220228_bias_0.fif\n",
      "[done]\n",
      "../SE_train_processed/Z孙彭辉20220302_bias_0.fif\n",
      "Opening raw data file ../SE_train\\Z孙彭辉20220302_bias_0.fif...\n",
      "Isotrak not found\n",
      "    Range : 54366 ... 62558 =     53.092 ...    61.092 secs\n",
      "Ready.\n",
      "data_256.shape (15, 2048)\n",
      "data_256_samples.shape (15, 4, 512)\n",
      "data_sta.shape (15, 4, 512)\n",
      "data_x.shape: (60, 512, 1)\n"
     ]
    },
    {
     "name": "stderr",
     "output_type": "stream",
     "text": [
      "<ipython-input-4-d8650b052227>:74: RuntimeWarning: This filename (E:\\jupyter file\\EEG_process\\SE_train_processed\\Z孙彭辉20220228_bias_0.fif) does not conform to MNE naming conventions. All raw files should end with raw.fif, raw_sss.fif, raw_tsss.fif, _meg.fif, _eeg.fif, _ieeg.fif, raw.fif.gz, raw_sss.fif.gz, raw_tsss.fif.gz, _meg.fif.gz, _eeg.fif.gz or _ieeg.fif.gz\n",
      "  custom_raw.save(save_path,overwrite=True)\n",
      "<ipython-input-4-d8650b052227>:2: RuntimeWarning: This filename (../SE_train\\Z孙彭辉20220302_bias_0.fif) does not conform to MNE naming conventions. All raw files should end with raw.fif, raw_sss.fif, raw_tsss.fif, _meg.fif, _eeg.fif, _ieeg.fif, raw.fif.gz, raw_sss.fif.gz, raw_tsss.fif.gz, _meg.fif.gz, _eeg.fif.gz or _ieeg.fif.gz\n",
      "  raw = read_raw_fif(file_path)\n"
     ]
    },
    {
     "name": "stdout",
     "output_type": "stream",
     "text": [
      "pred_channel.shape (15, 2048)\n",
      "Creating RawArray with float64 data, n_channels=15, n_times=2048\n",
      "    Range : 0 ... 2047 =      0.000 ...     7.996 secs\n",
      "Ready.\n",
      "Writing E:\\jupyter file\\EEG_process\\SE_train_processed\\Z孙彭辉20220302_bias_0.fif\n",
      "Closing E:\\jupyter file\\EEG_process\\SE_train_processed\\Z孙彭辉20220302_bias_0.fif\n",
      "[done]\n",
      "../SE_train_processed/Z孙彭辉20220304_bias_0.fif\n",
      "Opening raw data file ../SE_train\\Z孙彭辉20220304_bias_0.fif...\n",
      "Isotrak not found\n",
      "    Range : 12352 ... 20544 =     12.062 ...    20.062 secs\n",
      "Ready.\n",
      "data_256.shape (15, 2048)\n",
      "data_256_samples.shape (15, 4, 512)\n",
      "data_sta.shape (15, 4, 512)\n",
      "data_x.shape: (60, 512, 1)\n"
     ]
    },
    {
     "name": "stderr",
     "output_type": "stream",
     "text": [
      "<ipython-input-4-d8650b052227>:74: RuntimeWarning: This filename (E:\\jupyter file\\EEG_process\\SE_train_processed\\Z孙彭辉20220302_bias_0.fif) does not conform to MNE naming conventions. All raw files should end with raw.fif, raw_sss.fif, raw_tsss.fif, _meg.fif, _eeg.fif, _ieeg.fif, raw.fif.gz, raw_sss.fif.gz, raw_tsss.fif.gz, _meg.fif.gz, _eeg.fif.gz or _ieeg.fif.gz\n",
      "  custom_raw.save(save_path,overwrite=True)\n",
      "<ipython-input-4-d8650b052227>:2: RuntimeWarning: This filename (../SE_train\\Z孙彭辉20220304_bias_0.fif) does not conform to MNE naming conventions. All raw files should end with raw.fif, raw_sss.fif, raw_tsss.fif, _meg.fif, _eeg.fif, _ieeg.fif, raw.fif.gz, raw_sss.fif.gz, raw_tsss.fif.gz, _meg.fif.gz, _eeg.fif.gz or _ieeg.fif.gz\n",
      "  raw = read_raw_fif(file_path)\n"
     ]
    },
    {
     "name": "stdout",
     "output_type": "stream",
     "text": [
      "pred_channel.shape (15, 2048)\n",
      "Creating RawArray with float64 data, n_channels=15, n_times=2048\n",
      "    Range : 0 ... 2047 =      0.000 ...     7.996 secs\n",
      "Ready.\n",
      "Writing E:\\jupyter file\\EEG_process\\SE_train_processed\\Z孙彭辉20220304_bias_0.fif\n",
      "Closing E:\\jupyter file\\EEG_process\\SE_train_processed\\Z孙彭辉20220304_bias_0.fif\n",
      "[done]\n",
      "../SE_train_processed/Z宋志辉20220318_bias_0.fif\n",
      "Opening raw data file ../SE_train\\Z宋志辉20220318_bias_0.fif...\n",
      "Isotrak not found\n",
      "    Range : 1938945 ... 1947137 =   1893.501 ...  1901.501 secs\n",
      "Ready.\n",
      "data_256.shape (15, 2048)\n",
      "data_256_samples.shape (15, 4, 512)\n",
      "data_sta.shape (15, 4, 512)\n",
      "data_x.shape: (60, 512, 1)\n"
     ]
    },
    {
     "name": "stderr",
     "output_type": "stream",
     "text": [
      "<ipython-input-4-d8650b052227>:74: RuntimeWarning: This filename (E:\\jupyter file\\EEG_process\\SE_train_processed\\Z孙彭辉20220304_bias_0.fif) does not conform to MNE naming conventions. All raw files should end with raw.fif, raw_sss.fif, raw_tsss.fif, _meg.fif, _eeg.fif, _ieeg.fif, raw.fif.gz, raw_sss.fif.gz, raw_tsss.fif.gz, _meg.fif.gz, _eeg.fif.gz or _ieeg.fif.gz\n",
      "  custom_raw.save(save_path,overwrite=True)\n",
      "<ipython-input-4-d8650b052227>:2: RuntimeWarning: This filename (../SE_train\\Z宋志辉20220318_bias_0.fif) does not conform to MNE naming conventions. All raw files should end with raw.fif, raw_sss.fif, raw_tsss.fif, _meg.fif, _eeg.fif, _ieeg.fif, raw.fif.gz, raw_sss.fif.gz, raw_tsss.fif.gz, _meg.fif.gz, _eeg.fif.gz or _ieeg.fif.gz\n",
      "  raw = read_raw_fif(file_path)\n"
     ]
    },
    {
     "name": "stdout",
     "output_type": "stream",
     "text": [
      "pred_channel.shape (15, 2048)\n",
      "Creating RawArray with float64 data, n_channels=15, n_times=2048\n",
      "    Range : 0 ... 2047 =      0.000 ...     7.996 secs\n",
      "Ready.\n",
      "Writing E:\\jupyter file\\EEG_process\\SE_train_processed\\Z宋志辉20220318_bias_0.fif\n",
      "Closing E:\\jupyter file\\EEG_process\\SE_train_processed\\Z宋志辉20220318_bias_0.fif\n",
      "[done]\n",
      "../SE_train_processed/Z宋志辉20220321_bias_0.fif\n",
      "Opening raw data file ../SE_train\\Z宋志辉20220321_bias_0.fif...\n",
      "Isotrak not found\n",
      "    Range : 45152 ... 53344 =     44.094 ...    52.094 secs\n",
      "Ready.\n",
      "data_256.shape (15, 2048)\n",
      "data_256_samples.shape (15, 4, 512)\n",
      "data_sta.shape (15, 4, 512)\n",
      "data_x.shape: (60, 512, 1)\n"
     ]
    },
    {
     "name": "stderr",
     "output_type": "stream",
     "text": [
      "<ipython-input-4-d8650b052227>:74: RuntimeWarning: This filename (E:\\jupyter file\\EEG_process\\SE_train_processed\\Z宋志辉20220318_bias_0.fif) does not conform to MNE naming conventions. All raw files should end with raw.fif, raw_sss.fif, raw_tsss.fif, _meg.fif, _eeg.fif, _ieeg.fif, raw.fif.gz, raw_sss.fif.gz, raw_tsss.fif.gz, _meg.fif.gz, _eeg.fif.gz or _ieeg.fif.gz\n",
      "  custom_raw.save(save_path,overwrite=True)\n",
      "<ipython-input-4-d8650b052227>:2: RuntimeWarning: This filename (../SE_train\\Z宋志辉20220321_bias_0.fif) does not conform to MNE naming conventions. All raw files should end with raw.fif, raw_sss.fif, raw_tsss.fif, _meg.fif, _eeg.fif, _ieeg.fif, raw.fif.gz, raw_sss.fif.gz, raw_tsss.fif.gz, _meg.fif.gz, _eeg.fif.gz or _ieeg.fif.gz\n",
      "  raw = read_raw_fif(file_path)\n"
     ]
    },
    {
     "name": "stdout",
     "output_type": "stream",
     "text": [
      "pred_channel.shape (15, 2048)\n",
      "Creating RawArray with float64 data, n_channels=15, n_times=2048\n",
      "    Range : 0 ... 2047 =      0.000 ...     7.996 secs\n",
      "Ready.\n",
      "Writing E:\\jupyter file\\EEG_process\\SE_train_processed\\Z宋志辉20220321_bias_0.fif\n",
      "Closing E:\\jupyter file\\EEG_process\\SE_train_processed\\Z宋志辉20220321_bias_0.fif\n",
      "[done]\n",
      "../SE_train_processed/Z宋志辉20220323_bias_0.fif\n",
      "Opening raw data file ../SE_train\\Z宋志辉20220323_bias_0.fif...\n",
      "Isotrak not found\n",
      "    Range : 114314 ... 122506 =    111.635 ...   119.635 secs\n",
      "Ready.\n",
      "data_256.shape (15, 2048)\n",
      "data_256_samples.shape (15, 4, 512)\n",
      "data_sta.shape (15, 4, 512)\n",
      "data_x.shape: (60, 512, 1)\n"
     ]
    },
    {
     "name": "stderr",
     "output_type": "stream",
     "text": [
      "<ipython-input-4-d8650b052227>:74: RuntimeWarning: This filename (E:\\jupyter file\\EEG_process\\SE_train_processed\\Z宋志辉20220321_bias_0.fif) does not conform to MNE naming conventions. All raw files should end with raw.fif, raw_sss.fif, raw_tsss.fif, _meg.fif, _eeg.fif, _ieeg.fif, raw.fif.gz, raw_sss.fif.gz, raw_tsss.fif.gz, _meg.fif.gz, _eeg.fif.gz or _ieeg.fif.gz\n",
      "  custom_raw.save(save_path,overwrite=True)\n",
      "<ipython-input-4-d8650b052227>:2: RuntimeWarning: This filename (../SE_train\\Z宋志辉20220323_bias_0.fif) does not conform to MNE naming conventions. All raw files should end with raw.fif, raw_sss.fif, raw_tsss.fif, _meg.fif, _eeg.fif, _ieeg.fif, raw.fif.gz, raw_sss.fif.gz, raw_tsss.fif.gz, _meg.fif.gz, _eeg.fif.gz or _ieeg.fif.gz\n",
      "  raw = read_raw_fif(file_path)\n"
     ]
    },
    {
     "name": "stdout",
     "output_type": "stream",
     "text": [
      "pred_channel.shape (15, 2048)\n",
      "Creating RawArray with float64 data, n_channels=15, n_times=2048\n",
      "    Range : 0 ... 2047 =      0.000 ...     7.996 secs\n",
      "Ready.\n",
      "Writing E:\\jupyter file\\EEG_process\\SE_train_processed\\Z宋志辉20220323_bias_0.fif\n",
      "Closing E:\\jupyter file\\EEG_process\\SE_train_processed\\Z宋志辉20220323_bias_0.fif\n",
      "[done]\n",
      "../SE_train_processed/Z宋志辉20220325_bias_0.fif\n",
      "Opening raw data file ../SE_train\\Z宋志辉20220325_bias_0.fif...\n",
      "Isotrak not found\n",
      "    Range : 30885 ... 39077 =     30.161 ...    38.161 secs\n",
      "Ready.\n",
      "data_256.shape (15, 2048)\n",
      "data_256_samples.shape (15, 4, 512)\n",
      "data_sta.shape (15, 4, 512)\n",
      "data_x.shape: (60, 512, 1)\n"
     ]
    },
    {
     "name": "stderr",
     "output_type": "stream",
     "text": [
      "<ipython-input-4-d8650b052227>:74: RuntimeWarning: This filename (E:\\jupyter file\\EEG_process\\SE_train_processed\\Z宋志辉20220323_bias_0.fif) does not conform to MNE naming conventions. All raw files should end with raw.fif, raw_sss.fif, raw_tsss.fif, _meg.fif, _eeg.fif, _ieeg.fif, raw.fif.gz, raw_sss.fif.gz, raw_tsss.fif.gz, _meg.fif.gz, _eeg.fif.gz or _ieeg.fif.gz\n",
      "  custom_raw.save(save_path,overwrite=True)\n",
      "<ipython-input-4-d8650b052227>:2: RuntimeWarning: This filename (../SE_train\\Z宋志辉20220325_bias_0.fif) does not conform to MNE naming conventions. All raw files should end with raw.fif, raw_sss.fif, raw_tsss.fif, _meg.fif, _eeg.fif, _ieeg.fif, raw.fif.gz, raw_sss.fif.gz, raw_tsss.fif.gz, _meg.fif.gz, _eeg.fif.gz or _ieeg.fif.gz\n",
      "  raw = read_raw_fif(file_path)\n"
     ]
    },
    {
     "name": "stdout",
     "output_type": "stream",
     "text": [
      "pred_channel.shape (15, 2048)\n",
      "Creating RawArray with float64 data, n_channels=15, n_times=2048\n",
      "    Range : 0 ... 2047 =      0.000 ...     7.996 secs\n",
      "Ready.\n",
      "Writing E:\\jupyter file\\EEG_process\\SE_train_processed\\Z宋志辉20220325_bias_0.fif\n",
      "Closing E:\\jupyter file\\EEG_process\\SE_train_processed\\Z宋志辉20220325_bias_0.fif\n",
      "[done]\n",
      "../SE_train_processed/Z徐珍英20220218（未发作）_bias_0.fif\n",
      "Opening raw data file ../SE_train\\Z徐珍英20220218（未发作）_bias_0.fif...\n",
      "Isotrak not found\n",
      "    Range : 222292 ... 230484 =    217.082 ...   225.082 secs\n",
      "Ready.\n",
      "data_256.shape (15, 2048)\n",
      "data_256_samples.shape (15, 4, 512)\n",
      "data_sta.shape (15, 4, 512)\n",
      "data_x.shape: (60, 512, 1)\n"
     ]
    },
    {
     "name": "stderr",
     "output_type": "stream",
     "text": [
      "<ipython-input-4-d8650b052227>:74: RuntimeWarning: This filename (E:\\jupyter file\\EEG_process\\SE_train_processed\\Z宋志辉20220325_bias_0.fif) does not conform to MNE naming conventions. All raw files should end with raw.fif, raw_sss.fif, raw_tsss.fif, _meg.fif, _eeg.fif, _ieeg.fif, raw.fif.gz, raw_sss.fif.gz, raw_tsss.fif.gz, _meg.fif.gz, _eeg.fif.gz or _ieeg.fif.gz\n",
      "  custom_raw.save(save_path,overwrite=True)\n",
      "<ipython-input-4-d8650b052227>:2: RuntimeWarning: This filename (../SE_train\\Z徐珍英20220218（未发作）_bias_0.fif) does not conform to MNE naming conventions. All raw files should end with raw.fif, raw_sss.fif, raw_tsss.fif, _meg.fif, _eeg.fif, _ieeg.fif, raw.fif.gz, raw_sss.fif.gz, raw_tsss.fif.gz, _meg.fif.gz, _eeg.fif.gz or _ieeg.fif.gz\n",
      "  raw = read_raw_fif(file_path)\n"
     ]
    },
    {
     "name": "stdout",
     "output_type": "stream",
     "text": [
      "pred_channel.shape (15, 2048)\n",
      "Creating RawArray with float64 data, n_channels=15, n_times=2048\n",
      "    Range : 0 ... 2047 =      0.000 ...     7.996 secs\n",
      "Ready.\n",
      "Writing E:\\jupyter file\\EEG_process\\SE_train_processed\\Z徐珍英20220218（未发作）_bias_0.fif\n",
      "Closing E:\\jupyter file\\EEG_process\\SE_train_processed\\Z徐珍英20220218（未发作）_bias_0.fif\n",
      "[done]\n",
      "../SE_train_processed/Z徐珍英20220218（未发作）_bias_16.fif\n",
      "Opening raw data file ../SE_train\\Z徐珍英20220218（未发作）_bias_16.fif...\n",
      "Isotrak not found\n",
      "    Range : 238676 ... 255060 =    233.082 ...   249.082 secs\n",
      "Ready.\n",
      "data_256.shape (15, 2048)\n",
      "data_256_samples.shape (15, 4, 512)\n",
      "data_sta.shape (15, 4, 512)\n",
      "data_x.shape: (60, 512, 1)\n"
     ]
    },
    {
     "name": "stderr",
     "output_type": "stream",
     "text": [
      "<ipython-input-4-d8650b052227>:74: RuntimeWarning: This filename (E:\\jupyter file\\EEG_process\\SE_train_processed\\Z徐珍英20220218（未发作）_bias_0.fif) does not conform to MNE naming conventions. All raw files should end with raw.fif, raw_sss.fif, raw_tsss.fif, _meg.fif, _eeg.fif, _ieeg.fif, raw.fif.gz, raw_sss.fif.gz, raw_tsss.fif.gz, _meg.fif.gz, _eeg.fif.gz or _ieeg.fif.gz\n",
      "  custom_raw.save(save_path,overwrite=True)\n",
      "<ipython-input-4-d8650b052227>:2: RuntimeWarning: This filename (../SE_train\\Z徐珍英20220218（未发作）_bias_16.fif) does not conform to MNE naming conventions. All raw files should end with raw.fif, raw_sss.fif, raw_tsss.fif, _meg.fif, _eeg.fif, _ieeg.fif, raw.fif.gz, raw_sss.fif.gz, raw_tsss.fif.gz, _meg.fif.gz, _eeg.fif.gz or _ieeg.fif.gz\n",
      "  raw = read_raw_fif(file_path)\n"
     ]
    },
    {
     "name": "stdout",
     "output_type": "stream",
     "text": [
      "pred_channel.shape (15, 2048)\n",
      "Creating RawArray with float64 data, n_channels=15, n_times=2048\n",
      "    Range : 0 ... 2047 =      0.000 ...     7.996 secs\n",
      "Ready.\n",
      "Writing E:\\jupyter file\\EEG_process\\SE_train_processed\\Z徐珍英20220218（未发作）_bias_16.fif\n",
      "Closing E:\\jupyter file\\EEG_process\\SE_train_processed\\Z徐珍英20220218（未发作）_bias_16.fif\n",
      "[done]\n",
      "../SE_train_processed/Z徐珍英20220218（未发作）_bias_24.fif\n",
      "Opening raw data file ../SE_train\\Z徐珍英20220218（未发作）_bias_24.fif...\n",
      "Isotrak not found\n",
      "    Range : 246868 ... 263252 =    241.082 ...   257.082 secs\n",
      "Ready.\n",
      "data_256.shape (15, 2048)\n",
      "data_256_samples.shape (15, 4, 512)\n",
      "data_sta.shape (15, 4, 512)\n",
      "data_x.shape: (60, 512, 1)\n"
     ]
    },
    {
     "name": "stderr",
     "output_type": "stream",
     "text": [
      "<ipython-input-4-d8650b052227>:74: RuntimeWarning: This filename (E:\\jupyter file\\EEG_process\\SE_train_processed\\Z徐珍英20220218（未发作）_bias_16.fif) does not conform to MNE naming conventions. All raw files should end with raw.fif, raw_sss.fif, raw_tsss.fif, _meg.fif, _eeg.fif, _ieeg.fif, raw.fif.gz, raw_sss.fif.gz, raw_tsss.fif.gz, _meg.fif.gz, _eeg.fif.gz or _ieeg.fif.gz\n",
      "  custom_raw.save(save_path,overwrite=True)\n",
      "<ipython-input-4-d8650b052227>:2: RuntimeWarning: This filename (../SE_train\\Z徐珍英20220218（未发作）_bias_24.fif) does not conform to MNE naming conventions. All raw files should end with raw.fif, raw_sss.fif, raw_tsss.fif, _meg.fif, _eeg.fif, _ieeg.fif, raw.fif.gz, raw_sss.fif.gz, raw_tsss.fif.gz, _meg.fif.gz, _eeg.fif.gz or _ieeg.fif.gz\n",
      "  raw = read_raw_fif(file_path)\n"
     ]
    },
    {
     "name": "stdout",
     "output_type": "stream",
     "text": [
      "pred_channel.shape (15, 2048)\n",
      "Creating RawArray with float64 data, n_channels=15, n_times=2048\n",
      "    Range : 0 ... 2047 =      0.000 ...     7.996 secs\n",
      "Ready.\n",
      "Writing E:\\jupyter file\\EEG_process\\SE_train_processed\\Z徐珍英20220218（未发作）_bias_24.fif\n",
      "Closing E:\\jupyter file\\EEG_process\\SE_train_processed\\Z徐珍英20220218（未发作）_bias_24.fif\n",
      "[done]\n",
      "../SE_train_processed/Z徐珍英20220218（未发作）_bias_32.fif\n",
      "Opening raw data file ../SE_train\\Z徐珍英20220218（未发作）_bias_32.fif...\n",
      "Isotrak not found\n",
      "    Range : 255060 ... 271444 =    249.082 ...   265.082 secs\n",
      "Ready.\n",
      "data_256.shape (15, 2048)\n",
      "data_256_samples.shape (15, 4, 512)\n",
      "data_sta.shape (15, 4, 512)\n",
      "data_x.shape: (60, 512, 1)\n"
     ]
    },
    {
     "name": "stderr",
     "output_type": "stream",
     "text": [
      "<ipython-input-4-d8650b052227>:74: RuntimeWarning: This filename (E:\\jupyter file\\EEG_process\\SE_train_processed\\Z徐珍英20220218（未发作）_bias_24.fif) does not conform to MNE naming conventions. All raw files should end with raw.fif, raw_sss.fif, raw_tsss.fif, _meg.fif, _eeg.fif, _ieeg.fif, raw.fif.gz, raw_sss.fif.gz, raw_tsss.fif.gz, _meg.fif.gz, _eeg.fif.gz or _ieeg.fif.gz\n",
      "  custom_raw.save(save_path,overwrite=True)\n",
      "<ipython-input-4-d8650b052227>:2: RuntimeWarning: This filename (../SE_train\\Z徐珍英20220218（未发作）_bias_32.fif) does not conform to MNE naming conventions. All raw files should end with raw.fif, raw_sss.fif, raw_tsss.fif, _meg.fif, _eeg.fif, _ieeg.fif, raw.fif.gz, raw_sss.fif.gz, raw_tsss.fif.gz, _meg.fif.gz, _eeg.fif.gz or _ieeg.fif.gz\n",
      "  raw = read_raw_fif(file_path)\n"
     ]
    },
    {
     "name": "stdout",
     "output_type": "stream",
     "text": [
      "pred_channel.shape (15, 2048)\n",
      "Creating RawArray with float64 data, n_channels=15, n_times=2048\n",
      "    Range : 0 ... 2047 =      0.000 ...     7.996 secs\n",
      "Ready.\n",
      "Writing E:\\jupyter file\\EEG_process\\SE_train_processed\\Z徐珍英20220218（未发作）_bias_32.fif\n",
      "Closing E:\\jupyter file\\EEG_process\\SE_train_processed\\Z徐珍英20220218（未发作）_bias_32.fif\n",
      "[done]\n",
      "../SE_train_processed/Z徐珍英20220218（未发作）_bias_40.fif\n",
      "Opening raw data file ../SE_train\\Z徐珍英20220218（未发作）_bias_40.fif...\n",
      "Isotrak not found\n",
      "    Range : 263252 ... 279636 =    257.082 ...   273.082 secs\n",
      "Ready.\n",
      "data_256.shape (15, 2048)\n",
      "data_256_samples.shape (15, 4, 512)\n",
      "data_sta.shape (15, 4, 512)\n",
      "data_x.shape: (60, 512, 1)\n"
     ]
    },
    {
     "name": "stderr",
     "output_type": "stream",
     "text": [
      "<ipython-input-4-d8650b052227>:74: RuntimeWarning: This filename (E:\\jupyter file\\EEG_process\\SE_train_processed\\Z徐珍英20220218（未发作）_bias_32.fif) does not conform to MNE naming conventions. All raw files should end with raw.fif, raw_sss.fif, raw_tsss.fif, _meg.fif, _eeg.fif, _ieeg.fif, raw.fif.gz, raw_sss.fif.gz, raw_tsss.fif.gz, _meg.fif.gz, _eeg.fif.gz or _ieeg.fif.gz\n",
      "  custom_raw.save(save_path,overwrite=True)\n",
      "<ipython-input-4-d8650b052227>:2: RuntimeWarning: This filename (../SE_train\\Z徐珍英20220218（未发作）_bias_40.fif) does not conform to MNE naming conventions. All raw files should end with raw.fif, raw_sss.fif, raw_tsss.fif, _meg.fif, _eeg.fif, _ieeg.fif, raw.fif.gz, raw_sss.fif.gz, raw_tsss.fif.gz, _meg.fif.gz, _eeg.fif.gz or _ieeg.fif.gz\n",
      "  raw = read_raw_fif(file_path)\n"
     ]
    },
    {
     "name": "stdout",
     "output_type": "stream",
     "text": [
      "pred_channel.shape (15, 2048)\n",
      "Creating RawArray with float64 data, n_channels=15, n_times=2048\n",
      "    Range : 0 ... 2047 =      0.000 ...     7.996 secs\n",
      "Ready.\n",
      "Writing E:\\jupyter file\\EEG_process\\SE_train_processed\\Z徐珍英20220218（未发作）_bias_40.fif\n",
      "Closing E:\\jupyter file\\EEG_process\\SE_train_processed\\Z徐珍英20220218（未发作）_bias_40.fif\n",
      "[done]\n",
      "../SE_train_processed/Z徐珍英20220218（未发作）_bias_8.fif\n",
      "Opening raw data file ../SE_train\\Z徐珍英20220218（未发作）_bias_8.fif...\n",
      "Isotrak not found\n",
      "    Range : 230484 ... 246868 =    225.082 ...   241.082 secs\n",
      "Ready.\n",
      "data_256.shape (15, 2048)\n",
      "data_256_samples.shape (15, 4, 512)\n",
      "data_sta.shape (15, 4, 512)\n",
      "data_x.shape: (60, 512, 1)\n"
     ]
    },
    {
     "name": "stderr",
     "output_type": "stream",
     "text": [
      "<ipython-input-4-d8650b052227>:74: RuntimeWarning: This filename (E:\\jupyter file\\EEG_process\\SE_train_processed\\Z徐珍英20220218（未发作）_bias_40.fif) does not conform to MNE naming conventions. All raw files should end with raw.fif, raw_sss.fif, raw_tsss.fif, _meg.fif, _eeg.fif, _ieeg.fif, raw.fif.gz, raw_sss.fif.gz, raw_tsss.fif.gz, _meg.fif.gz, _eeg.fif.gz or _ieeg.fif.gz\n",
      "  custom_raw.save(save_path,overwrite=True)\n",
      "<ipython-input-4-d8650b052227>:2: RuntimeWarning: This filename (../SE_train\\Z徐珍英20220218（未发作）_bias_8.fif) does not conform to MNE naming conventions. All raw files should end with raw.fif, raw_sss.fif, raw_tsss.fif, _meg.fif, _eeg.fif, _ieeg.fif, raw.fif.gz, raw_sss.fif.gz, raw_tsss.fif.gz, _meg.fif.gz, _eeg.fif.gz or _ieeg.fif.gz\n",
      "  raw = read_raw_fif(file_path)\n"
     ]
    },
    {
     "name": "stdout",
     "output_type": "stream",
     "text": [
      "pred_channel.shape (15, 2048)\n",
      "Creating RawArray with float64 data, n_channels=15, n_times=2048\n",
      "    Range : 0 ... 2047 =      0.000 ...     7.996 secs\n",
      "Ready.\n",
      "Writing E:\\jupyter file\\EEG_process\\SE_train_processed\\Z徐珍英20220218（未发作）_bias_8.fif\n",
      "Closing E:\\jupyter file\\EEG_process\\SE_train_processed\\Z徐珍英20220218（未发作）_bias_8.fif\n",
      "[done]\n",
      "../SE_train_processed/Z徐珍英20220221（未发作）_bias_0.fif\n",
      "Opening raw data file ../SE_train\\Z徐珍英20220221（未发作）_bias_0.fif...\n",
      "Isotrak not found\n",
      "    Range : 63336 ... 71528 =     61.852 ...    69.852 secs\n",
      "Ready.\n",
      "data_256.shape (15, 2048)\n",
      "data_256_samples.shape (15, 4, 512)\n",
      "data_sta.shape (15, 4, 512)\n",
      "data_x.shape: (60, 512, 1)\n"
     ]
    },
    {
     "name": "stderr",
     "output_type": "stream",
     "text": [
      "<ipython-input-4-d8650b052227>:74: RuntimeWarning: This filename (E:\\jupyter file\\EEG_process\\SE_train_processed\\Z徐珍英20220218（未发作）_bias_8.fif) does not conform to MNE naming conventions. All raw files should end with raw.fif, raw_sss.fif, raw_tsss.fif, _meg.fif, _eeg.fif, _ieeg.fif, raw.fif.gz, raw_sss.fif.gz, raw_tsss.fif.gz, _meg.fif.gz, _eeg.fif.gz or _ieeg.fif.gz\n",
      "  custom_raw.save(save_path,overwrite=True)\n",
      "<ipython-input-4-d8650b052227>:2: RuntimeWarning: This filename (../SE_train\\Z徐珍英20220221（未发作）_bias_0.fif) does not conform to MNE naming conventions. All raw files should end with raw.fif, raw_sss.fif, raw_tsss.fif, _meg.fif, _eeg.fif, _ieeg.fif, raw.fif.gz, raw_sss.fif.gz, raw_tsss.fif.gz, _meg.fif.gz, _eeg.fif.gz or _ieeg.fif.gz\n",
      "  raw = read_raw_fif(file_path)\n"
     ]
    },
    {
     "name": "stdout",
     "output_type": "stream",
     "text": [
      "pred_channel.shape (15, 2048)\n",
      "Creating RawArray with float64 data, n_channels=15, n_times=2048\n",
      "    Range : 0 ... 2047 =      0.000 ...     7.996 secs\n",
      "Ready.\n",
      "Writing E:\\jupyter file\\EEG_process\\SE_train_processed\\Z徐珍英20220221（未发作）_bias_0.fif\n",
      "Closing E:\\jupyter file\\EEG_process\\SE_train_processed\\Z徐珍英20220221（未发作）_bias_0.fif\n",
      "[done]\n",
      "../SE_train_processed/Z徐珍英20220221（未发作）_bias_16.fif\n",
      "Opening raw data file ../SE_train\\Z徐珍英20220221（未发作）_bias_16.fif...\n",
      "Isotrak not found\n",
      "    Range : 79720 ... 96104 =     77.852 ...    93.852 secs\n",
      "Ready.\n",
      "data_256.shape (15, 2048)\n",
      "data_256_samples.shape (15, 4, 512)\n",
      "data_sta.shape (15, 4, 512)\n",
      "data_x.shape: (60, 512, 1)\n"
     ]
    },
    {
     "name": "stderr",
     "output_type": "stream",
     "text": [
      "<ipython-input-4-d8650b052227>:74: RuntimeWarning: This filename (E:\\jupyter file\\EEG_process\\SE_train_processed\\Z徐珍英20220221（未发作）_bias_0.fif) does not conform to MNE naming conventions. All raw files should end with raw.fif, raw_sss.fif, raw_tsss.fif, _meg.fif, _eeg.fif, _ieeg.fif, raw.fif.gz, raw_sss.fif.gz, raw_tsss.fif.gz, _meg.fif.gz, _eeg.fif.gz or _ieeg.fif.gz\n",
      "  custom_raw.save(save_path,overwrite=True)\n",
      "<ipython-input-4-d8650b052227>:2: RuntimeWarning: This filename (../SE_train\\Z徐珍英20220221（未发作）_bias_16.fif) does not conform to MNE naming conventions. All raw files should end with raw.fif, raw_sss.fif, raw_tsss.fif, _meg.fif, _eeg.fif, _ieeg.fif, raw.fif.gz, raw_sss.fif.gz, raw_tsss.fif.gz, _meg.fif.gz, _eeg.fif.gz or _ieeg.fif.gz\n",
      "  raw = read_raw_fif(file_path)\n"
     ]
    },
    {
     "name": "stdout",
     "output_type": "stream",
     "text": [
      "pred_channel.shape (15, 2048)\n",
      "Creating RawArray with float64 data, n_channels=15, n_times=2048\n",
      "    Range : 0 ... 2047 =      0.000 ...     7.996 secs\n",
      "Ready.\n",
      "Writing E:\\jupyter file\\EEG_process\\SE_train_processed\\Z徐珍英20220221（未发作）_bias_16.fif\n",
      "Closing E:\\jupyter file\\EEG_process\\SE_train_processed\\Z徐珍英20220221（未发作）_bias_16.fif\n",
      "[done]\n",
      "../SE_train_processed/Z徐珍英20220221（未发作）_bias_24.fif\n",
      "Opening raw data file ../SE_train\\Z徐珍英20220221（未发作）_bias_24.fif...\n",
      "Isotrak not found\n",
      "    Range : 87912 ... 104296 =     85.852 ...   101.852 secs\n",
      "Ready.\n",
      "data_256.shape (15, 2048)\n",
      "data_256_samples.shape (15, 4, 512)\n",
      "data_sta.shape (15, 4, 512)\n",
      "data_x.shape: (60, 512, 1)\n",
      "pred_channel.shape (15, 2048)\n"
     ]
    },
    {
     "name": "stderr",
     "output_type": "stream",
     "text": [
      "<ipython-input-4-d8650b052227>:74: RuntimeWarning: This filename (E:\\jupyter file\\EEG_process\\SE_train_processed\\Z徐珍英20220221（未发作）_bias_16.fif) does not conform to MNE naming conventions. All raw files should end with raw.fif, raw_sss.fif, raw_tsss.fif, _meg.fif, _eeg.fif, _ieeg.fif, raw.fif.gz, raw_sss.fif.gz, raw_tsss.fif.gz, _meg.fif.gz, _eeg.fif.gz or _ieeg.fif.gz\n",
      "  custom_raw.save(save_path,overwrite=True)\n",
      "<ipython-input-4-d8650b052227>:2: RuntimeWarning: This filename (../SE_train\\Z徐珍英20220221（未发作）_bias_24.fif) does not conform to MNE naming conventions. All raw files should end with raw.fif, raw_sss.fif, raw_tsss.fif, _meg.fif, _eeg.fif, _ieeg.fif, raw.fif.gz, raw_sss.fif.gz, raw_tsss.fif.gz, _meg.fif.gz, _eeg.fif.gz or _ieeg.fif.gz\n",
      "  raw = read_raw_fif(file_path)\n"
     ]
    },
    {
     "name": "stdout",
     "output_type": "stream",
     "text": [
      "Creating RawArray with float64 data, n_channels=15, n_times=2048\n",
      "    Range : 0 ... 2047 =      0.000 ...     7.996 secs\n",
      "Ready.\n",
      "Writing E:\\jupyter file\\EEG_process\\SE_train_processed\\Z徐珍英20220221（未发作）_bias_24.fif\n",
      "Closing E:\\jupyter file\\EEG_process\\SE_train_processed\\Z徐珍英20220221（未发作）_bias_24.fif\n",
      "[done]\n",
      "../SE_train_processed/Z徐珍英20220221（未发作）_bias_32.fif\n",
      "Opening raw data file ../SE_train\\Z徐珍英20220221（未发作）_bias_32.fif...\n",
      "Isotrak not found\n",
      "    Range : 96104 ... 112488 =     93.852 ...   109.852 secs\n",
      "Ready.\n",
      "data_256.shape (15, 2048)\n",
      "data_256_samples.shape (15, 4, 512)\n",
      "data_sta.shape (15, 4, 512)\n",
      "data_x.shape: (60, 512, 1)\n"
     ]
    },
    {
     "name": "stderr",
     "output_type": "stream",
     "text": [
      "<ipython-input-4-d8650b052227>:74: RuntimeWarning: This filename (E:\\jupyter file\\EEG_process\\SE_train_processed\\Z徐珍英20220221（未发作）_bias_24.fif) does not conform to MNE naming conventions. All raw files should end with raw.fif, raw_sss.fif, raw_tsss.fif, _meg.fif, _eeg.fif, _ieeg.fif, raw.fif.gz, raw_sss.fif.gz, raw_tsss.fif.gz, _meg.fif.gz, _eeg.fif.gz or _ieeg.fif.gz\n",
      "  custom_raw.save(save_path,overwrite=True)\n",
      "<ipython-input-4-d8650b052227>:2: RuntimeWarning: This filename (../SE_train\\Z徐珍英20220221（未发作）_bias_32.fif) does not conform to MNE naming conventions. All raw files should end with raw.fif, raw_sss.fif, raw_tsss.fif, _meg.fif, _eeg.fif, _ieeg.fif, raw.fif.gz, raw_sss.fif.gz, raw_tsss.fif.gz, _meg.fif.gz, _eeg.fif.gz or _ieeg.fif.gz\n",
      "  raw = read_raw_fif(file_path)\n"
     ]
    },
    {
     "name": "stdout",
     "output_type": "stream",
     "text": [
      "pred_channel.shape (15, 2048)\n",
      "Creating RawArray with float64 data, n_channels=15, n_times=2048\n",
      "    Range : 0 ... 2047 =      0.000 ...     7.996 secs\n",
      "Ready.\n",
      "Writing E:\\jupyter file\\EEG_process\\SE_train_processed\\Z徐珍英20220221（未发作）_bias_32.fif\n",
      "Closing E:\\jupyter file\\EEG_process\\SE_train_processed\\Z徐珍英20220221（未发作）_bias_32.fif\n",
      "[done]\n",
      "../SE_train_processed/Z徐珍英20220221（未发作）_bias_40.fif\n",
      "Opening raw data file ../SE_train\\Z徐珍英20220221（未发作）_bias_40.fif...\n",
      "Isotrak not found\n",
      "    Range : 104296 ... 120680 =    101.852 ...   117.852 secs\n",
      "Ready.\n",
      "data_256.shape (15, 2048)\n",
      "data_256_samples.shape (15, 4, 512)\n",
      "data_sta.shape (15, 4, 512)\n",
      "data_x.shape: (60, 512, 1)\n"
     ]
    },
    {
     "name": "stderr",
     "output_type": "stream",
     "text": [
      "<ipython-input-4-d8650b052227>:74: RuntimeWarning: This filename (E:\\jupyter file\\EEG_process\\SE_train_processed\\Z徐珍英20220221（未发作）_bias_32.fif) does not conform to MNE naming conventions. All raw files should end with raw.fif, raw_sss.fif, raw_tsss.fif, _meg.fif, _eeg.fif, _ieeg.fif, raw.fif.gz, raw_sss.fif.gz, raw_tsss.fif.gz, _meg.fif.gz, _eeg.fif.gz or _ieeg.fif.gz\n",
      "  custom_raw.save(save_path,overwrite=True)\n",
      "<ipython-input-4-d8650b052227>:2: RuntimeWarning: This filename (../SE_train\\Z徐珍英20220221（未发作）_bias_40.fif) does not conform to MNE naming conventions. All raw files should end with raw.fif, raw_sss.fif, raw_tsss.fif, _meg.fif, _eeg.fif, _ieeg.fif, raw.fif.gz, raw_sss.fif.gz, raw_tsss.fif.gz, _meg.fif.gz, _eeg.fif.gz or _ieeg.fif.gz\n",
      "  raw = read_raw_fif(file_path)\n"
     ]
    },
    {
     "name": "stdout",
     "output_type": "stream",
     "text": [
      "pred_channel.shape (15, 2048)\n",
      "Creating RawArray with float64 data, n_channels=15, n_times=2048\n",
      "    Range : 0 ... 2047 =      0.000 ...     7.996 secs\n",
      "Ready.\n",
      "Writing E:\\jupyter file\\EEG_process\\SE_train_processed\\Z徐珍英20220221（未发作）_bias_40.fif\n",
      "Closing E:\\jupyter file\\EEG_process\\SE_train_processed\\Z徐珍英20220221（未发作）_bias_40.fif\n",
      "[done]\n",
      "../SE_train_processed/Z徐珍英20220221（未发作）_bias_8.fif\n",
      "Opening raw data file ../SE_train\\Z徐珍英20220221（未发作）_bias_8.fif...\n",
      "Isotrak not found\n",
      "    Range : 71528 ... 87912 =     69.852 ...    85.852 secs\n",
      "Ready.\n",
      "data_256.shape (15, 2048)\n",
      "data_256_samples.shape (15, 4, 512)\n",
      "data_sta.shape (15, 4, 512)\n",
      "data_x.shape: (60, 512, 1)\n"
     ]
    },
    {
     "name": "stderr",
     "output_type": "stream",
     "text": [
      "<ipython-input-4-d8650b052227>:74: RuntimeWarning: This filename (E:\\jupyter file\\EEG_process\\SE_train_processed\\Z徐珍英20220221（未发作）_bias_40.fif) does not conform to MNE naming conventions. All raw files should end with raw.fif, raw_sss.fif, raw_tsss.fif, _meg.fif, _eeg.fif, _ieeg.fif, raw.fif.gz, raw_sss.fif.gz, raw_tsss.fif.gz, _meg.fif.gz, _eeg.fif.gz or _ieeg.fif.gz\n",
      "  custom_raw.save(save_path,overwrite=True)\n",
      "<ipython-input-4-d8650b052227>:2: RuntimeWarning: This filename (../SE_train\\Z徐珍英20220221（未发作）_bias_8.fif) does not conform to MNE naming conventions. All raw files should end with raw.fif, raw_sss.fif, raw_tsss.fif, _meg.fif, _eeg.fif, _ieeg.fif, raw.fif.gz, raw_sss.fif.gz, raw_tsss.fif.gz, _meg.fif.gz, _eeg.fif.gz or _ieeg.fif.gz\n",
      "  raw = read_raw_fif(file_path)\n"
     ]
    },
    {
     "name": "stdout",
     "output_type": "stream",
     "text": [
      "pred_channel.shape (15, 2048)\n",
      "Creating RawArray with float64 data, n_channels=15, n_times=2048\n",
      "    Range : 0 ... 2047 =      0.000 ...     7.996 secs\n",
      "Ready.\n",
      "Writing E:\\jupyter file\\EEG_process\\SE_train_processed\\Z徐珍英20220221（未发作）_bias_8.fif\n",
      "Closing E:\\jupyter file\\EEG_process\\SE_train_processed\\Z徐珍英20220221（未发作）_bias_8.fif\n",
      "[done]\n",
      "../SE_train_processed/Z徐珍英20220223_bias_0.fif\n",
      "Opening raw data file ../SE_train\\Z徐珍英20220223_bias_0.fif...\n",
      "Isotrak not found\n",
      "    Range : 181813 ... 190005 =    177.552 ...   185.552 secs\n",
      "Ready.\n",
      "data_256.shape (15, 2048)\n",
      "data_256_samples.shape (15, 4, 512)\n",
      "data_sta.shape (15, 4, 512)\n",
      "data_x.shape: (60, 512, 1)\n"
     ]
    },
    {
     "name": "stderr",
     "output_type": "stream",
     "text": [
      "<ipython-input-4-d8650b052227>:74: RuntimeWarning: This filename (E:\\jupyter file\\EEG_process\\SE_train_processed\\Z徐珍英20220221（未发作）_bias_8.fif) does not conform to MNE naming conventions. All raw files should end with raw.fif, raw_sss.fif, raw_tsss.fif, _meg.fif, _eeg.fif, _ieeg.fif, raw.fif.gz, raw_sss.fif.gz, raw_tsss.fif.gz, _meg.fif.gz, _eeg.fif.gz or _ieeg.fif.gz\n",
      "  custom_raw.save(save_path,overwrite=True)\n",
      "<ipython-input-4-d8650b052227>:2: RuntimeWarning: This filename (../SE_train\\Z徐珍英20220223_bias_0.fif) does not conform to MNE naming conventions. All raw files should end with raw.fif, raw_sss.fif, raw_tsss.fif, _meg.fif, _eeg.fif, _ieeg.fif, raw.fif.gz, raw_sss.fif.gz, raw_tsss.fif.gz, _meg.fif.gz, _eeg.fif.gz or _ieeg.fif.gz\n",
      "  raw = read_raw_fif(file_path)\n"
     ]
    },
    {
     "name": "stdout",
     "output_type": "stream",
     "text": [
      "pred_channel.shape (15, 2048)\n",
      "Creating RawArray with float64 data, n_channels=15, n_times=2048\n",
      "    Range : 0 ... 2047 =      0.000 ...     7.996 secs\n",
      "Ready.\n",
      "Writing E:\\jupyter file\\EEG_process\\SE_train_processed\\Z徐珍英20220223_bias_0.fif\n",
      "Closing E:\\jupyter file\\EEG_process\\SE_train_processed\\Z徐珍英20220223_bias_0.fif\n",
      "[done]\n",
      "../SE_train_processed/Z徐珍英20220225_bias_0.fif\n",
      "Opening raw data file ../SE_train\\Z徐珍英20220225_bias_0.fif...\n",
      "Isotrak not found\n",
      "    Range : 23786 ... 31978 =     23.229 ...    31.229 secs\n",
      "Ready.\n",
      "data_256.shape (15, 2048)\n",
      "data_256_samples.shape (15, 4, 512)\n",
      "data_sta.shape (15, 4, 512)\n",
      "data_x.shape: (60, 512, 1)\n"
     ]
    },
    {
     "name": "stderr",
     "output_type": "stream",
     "text": [
      "<ipython-input-4-d8650b052227>:74: RuntimeWarning: This filename (E:\\jupyter file\\EEG_process\\SE_train_processed\\Z徐珍英20220223_bias_0.fif) does not conform to MNE naming conventions. All raw files should end with raw.fif, raw_sss.fif, raw_tsss.fif, _meg.fif, _eeg.fif, _ieeg.fif, raw.fif.gz, raw_sss.fif.gz, raw_tsss.fif.gz, _meg.fif.gz, _eeg.fif.gz or _ieeg.fif.gz\n",
      "  custom_raw.save(save_path,overwrite=True)\n",
      "<ipython-input-4-d8650b052227>:2: RuntimeWarning: This filename (../SE_train\\Z徐珍英20220225_bias_0.fif) does not conform to MNE naming conventions. All raw files should end with raw.fif, raw_sss.fif, raw_tsss.fif, _meg.fif, _eeg.fif, _ieeg.fif, raw.fif.gz, raw_sss.fif.gz, raw_tsss.fif.gz, _meg.fif.gz, _eeg.fif.gz or _ieeg.fif.gz\n",
      "  raw = read_raw_fif(file_path)\n"
     ]
    },
    {
     "name": "stdout",
     "output_type": "stream",
     "text": [
      "pred_channel.shape (15, 2048)\n",
      "Creating RawArray with float64 data, n_channels=15, n_times=2048\n",
      "    Range : 0 ... 2047 =      0.000 ...     7.996 secs\n",
      "Ready.\n",
      "Writing E:\\jupyter file\\EEG_process\\SE_train_processed\\Z徐珍英20220225_bias_0.fif\n",
      "Closing E:\\jupyter file\\EEG_process\\SE_train_processed\\Z徐珍英20220225_bias_0.fif\n",
      "[done]\n",
      "../SE_train_processed/Z曾刚20220216_bias_0.fif\n",
      "Opening raw data file ../SE_train\\Z曾刚20220216_bias_0.fif...\n",
      "Isotrak not found\n",
      "    Range : 38680 ... 46872 =     37.773 ...    45.773 secs\n",
      "Ready.\n",
      "data_256.shape (15, 2048)\n",
      "data_256_samples.shape (15, 4, 512)\n",
      "data_sta.shape (15, 4, 512)\n",
      "data_x.shape: (60, 512, 1)\n"
     ]
    },
    {
     "name": "stderr",
     "output_type": "stream",
     "text": [
      "<ipython-input-4-d8650b052227>:74: RuntimeWarning: This filename (E:\\jupyter file\\EEG_process\\SE_train_processed\\Z徐珍英20220225_bias_0.fif) does not conform to MNE naming conventions. All raw files should end with raw.fif, raw_sss.fif, raw_tsss.fif, _meg.fif, _eeg.fif, _ieeg.fif, raw.fif.gz, raw_sss.fif.gz, raw_tsss.fif.gz, _meg.fif.gz, _eeg.fif.gz or _ieeg.fif.gz\n",
      "  custom_raw.save(save_path,overwrite=True)\n",
      "<ipython-input-4-d8650b052227>:2: RuntimeWarning: This filename (../SE_train\\Z曾刚20220216_bias_0.fif) does not conform to MNE naming conventions. All raw files should end with raw.fif, raw_sss.fif, raw_tsss.fif, _meg.fif, _eeg.fif, _ieeg.fif, raw.fif.gz, raw_sss.fif.gz, raw_tsss.fif.gz, _meg.fif.gz, _eeg.fif.gz or _ieeg.fif.gz\n",
      "  raw = read_raw_fif(file_path)\n"
     ]
    },
    {
     "name": "stdout",
     "output_type": "stream",
     "text": [
      "pred_channel.shape (15, 2048)\n",
      "Creating RawArray with float64 data, n_channels=15, n_times=2048\n",
      "    Range : 0 ... 2047 =      0.000 ...     7.996 secs\n",
      "Ready.\n",
      "Writing E:\\jupyter file\\EEG_process\\SE_train_processed\\Z曾刚20220216_bias_0.fif\n",
      "Closing E:\\jupyter file\\EEG_process\\SE_train_processed\\Z曾刚20220216_bias_0.fif\n",
      "[done]\n",
      "../SE_train_processed/Z曾刚20220218（未发作）_bias_0.fif\n",
      "Opening raw data file ../SE_train\\Z曾刚20220218（未发作）_bias_0.fif...\n",
      "Isotrak not found\n",
      "    Range : 219924 ... 228116 =    214.770 ...   222.770 secs\n",
      "Ready.\n",
      "data_256.shape (15, 2048)\n",
      "data_256_samples.shape (15, 4, 512)\n",
      "data_sta.shape (15, 4, 512)\n",
      "data_x.shape: (60, 512, 1)\n"
     ]
    },
    {
     "name": "stderr",
     "output_type": "stream",
     "text": [
      "<ipython-input-4-d8650b052227>:74: RuntimeWarning: This filename (E:\\jupyter file\\EEG_process\\SE_train_processed\\Z曾刚20220216_bias_0.fif) does not conform to MNE naming conventions. All raw files should end with raw.fif, raw_sss.fif, raw_tsss.fif, _meg.fif, _eeg.fif, _ieeg.fif, raw.fif.gz, raw_sss.fif.gz, raw_tsss.fif.gz, _meg.fif.gz, _eeg.fif.gz or _ieeg.fif.gz\n",
      "  custom_raw.save(save_path,overwrite=True)\n",
      "<ipython-input-4-d8650b052227>:2: RuntimeWarning: This filename (../SE_train\\Z曾刚20220218（未发作）_bias_0.fif) does not conform to MNE naming conventions. All raw files should end with raw.fif, raw_sss.fif, raw_tsss.fif, _meg.fif, _eeg.fif, _ieeg.fif, raw.fif.gz, raw_sss.fif.gz, raw_tsss.fif.gz, _meg.fif.gz, _eeg.fif.gz or _ieeg.fif.gz\n",
      "  raw = read_raw_fif(file_path)\n"
     ]
    },
    {
     "name": "stdout",
     "output_type": "stream",
     "text": [
      "pred_channel.shape (15, 2048)\n",
      "Creating RawArray with float64 data, n_channels=15, n_times=2048\n",
      "    Range : 0 ... 2047 =      0.000 ...     7.996 secs\n",
      "Ready.\n",
      "Writing E:\\jupyter file\\EEG_process\\SE_train_processed\\Z曾刚20220218（未发作）_bias_0.fif\n",
      "Closing E:\\jupyter file\\EEG_process\\SE_train_processed\\Z曾刚20220218（未发作）_bias_0.fif\n",
      "[done]\n",
      "../SE_train_processed/Z曾刚20220218（未发作）_bias_16.fif\n",
      "Opening raw data file ../SE_train\\Z曾刚20220218（未发作）_bias_16.fif...\n",
      "Isotrak not found\n",
      "    Range : 236308 ... 252692 =    230.770 ...   246.770 secs\n",
      "Ready.\n",
      "data_256.shape (15, 2048)\n",
      "data_256_samples.shape (15, 4, 512)\n",
      "data_sta.shape (15, 4, 512)\n",
      "data_x.shape: (60, 512, 1)\n"
     ]
    },
    {
     "name": "stderr",
     "output_type": "stream",
     "text": [
      "<ipython-input-4-d8650b052227>:74: RuntimeWarning: This filename (E:\\jupyter file\\EEG_process\\SE_train_processed\\Z曾刚20220218（未发作）_bias_0.fif) does not conform to MNE naming conventions. All raw files should end with raw.fif, raw_sss.fif, raw_tsss.fif, _meg.fif, _eeg.fif, _ieeg.fif, raw.fif.gz, raw_sss.fif.gz, raw_tsss.fif.gz, _meg.fif.gz, _eeg.fif.gz or _ieeg.fif.gz\n",
      "  custom_raw.save(save_path,overwrite=True)\n",
      "<ipython-input-4-d8650b052227>:2: RuntimeWarning: This filename (../SE_train\\Z曾刚20220218（未发作）_bias_16.fif) does not conform to MNE naming conventions. All raw files should end with raw.fif, raw_sss.fif, raw_tsss.fif, _meg.fif, _eeg.fif, _ieeg.fif, raw.fif.gz, raw_sss.fif.gz, raw_tsss.fif.gz, _meg.fif.gz, _eeg.fif.gz or _ieeg.fif.gz\n",
      "  raw = read_raw_fif(file_path)\n"
     ]
    },
    {
     "name": "stdout",
     "output_type": "stream",
     "text": [
      "pred_channel.shape (15, 2048)\n",
      "Creating RawArray with float64 data, n_channels=15, n_times=2048\n",
      "    Range : 0 ... 2047 =      0.000 ...     7.996 secs\n",
      "Ready.\n",
      "Writing E:\\jupyter file\\EEG_process\\SE_train_processed\\Z曾刚20220218（未发作）_bias_16.fif\n",
      "Closing E:\\jupyter file\\EEG_process\\SE_train_processed\\Z曾刚20220218（未发作）_bias_16.fif\n",
      "[done]\n",
      "../SE_train_processed/Z曾刚20220218（未发作）_bias_24.fif\n",
      "Opening raw data file ../SE_train\\Z曾刚20220218（未发作）_bias_24.fif...\n",
      "Isotrak not found\n",
      "    Range : 244500 ... 260884 =    238.770 ...   254.770 secs\n",
      "Ready.\n",
      "data_256.shape (15, 2048)\n",
      "data_256_samples.shape (15, 4, 512)\n",
      "data_sta.shape (15, 4, 512)\n",
      "data_x.shape: (60, 512, 1)\n"
     ]
    },
    {
     "name": "stderr",
     "output_type": "stream",
     "text": [
      "<ipython-input-4-d8650b052227>:74: RuntimeWarning: This filename (E:\\jupyter file\\EEG_process\\SE_train_processed\\Z曾刚20220218（未发作）_bias_16.fif) does not conform to MNE naming conventions. All raw files should end with raw.fif, raw_sss.fif, raw_tsss.fif, _meg.fif, _eeg.fif, _ieeg.fif, raw.fif.gz, raw_sss.fif.gz, raw_tsss.fif.gz, _meg.fif.gz, _eeg.fif.gz or _ieeg.fif.gz\n",
      "  custom_raw.save(save_path,overwrite=True)\n",
      "<ipython-input-4-d8650b052227>:2: RuntimeWarning: This filename (../SE_train\\Z曾刚20220218（未发作）_bias_24.fif) does not conform to MNE naming conventions. All raw files should end with raw.fif, raw_sss.fif, raw_tsss.fif, _meg.fif, _eeg.fif, _ieeg.fif, raw.fif.gz, raw_sss.fif.gz, raw_tsss.fif.gz, _meg.fif.gz, _eeg.fif.gz or _ieeg.fif.gz\n",
      "  raw = read_raw_fif(file_path)\n"
     ]
    },
    {
     "name": "stdout",
     "output_type": "stream",
     "text": [
      "pred_channel.shape (15, 2048)\n",
      "Creating RawArray with float64 data, n_channels=15, n_times=2048\n",
      "    Range : 0 ... 2047 =      0.000 ...     7.996 secs\n",
      "Ready.\n",
      "Writing E:\\jupyter file\\EEG_process\\SE_train_processed\\Z曾刚20220218（未发作）_bias_24.fif\n",
      "Closing E:\\jupyter file\\EEG_process\\SE_train_processed\\Z曾刚20220218（未发作）_bias_24.fif\n",
      "[done]\n",
      "../SE_train_processed/Z曾刚20220218（未发作）_bias_32.fif\n",
      "Opening raw data file ../SE_train\\Z曾刚20220218（未发作）_bias_32.fif...\n",
      "Isotrak not found\n",
      "    Range : 252692 ... 269076 =    246.770 ...   262.770 secs\n",
      "Ready.\n",
      "data_256.shape (15, 2048)\n",
      "data_256_samples.shape (15, 4, 512)\n",
      "data_sta.shape (15, 4, 512)\n",
      "data_x.shape: (60, 512, 1)\n"
     ]
    },
    {
     "name": "stderr",
     "output_type": "stream",
     "text": [
      "<ipython-input-4-d8650b052227>:74: RuntimeWarning: This filename (E:\\jupyter file\\EEG_process\\SE_train_processed\\Z曾刚20220218（未发作）_bias_24.fif) does not conform to MNE naming conventions. All raw files should end with raw.fif, raw_sss.fif, raw_tsss.fif, _meg.fif, _eeg.fif, _ieeg.fif, raw.fif.gz, raw_sss.fif.gz, raw_tsss.fif.gz, _meg.fif.gz, _eeg.fif.gz or _ieeg.fif.gz\n",
      "  custom_raw.save(save_path,overwrite=True)\n",
      "<ipython-input-4-d8650b052227>:2: RuntimeWarning: This filename (../SE_train\\Z曾刚20220218（未发作）_bias_32.fif) does not conform to MNE naming conventions. All raw files should end with raw.fif, raw_sss.fif, raw_tsss.fif, _meg.fif, _eeg.fif, _ieeg.fif, raw.fif.gz, raw_sss.fif.gz, raw_tsss.fif.gz, _meg.fif.gz, _eeg.fif.gz or _ieeg.fif.gz\n",
      "  raw = read_raw_fif(file_path)\n"
     ]
    },
    {
     "name": "stdout",
     "output_type": "stream",
     "text": [
      "pred_channel.shape (15, 2048)\n",
      "Creating RawArray with float64 data, n_channels=15, n_times=2048\n",
      "    Range : 0 ... 2047 =      0.000 ...     7.996 secs\n",
      "Ready.\n",
      "Writing E:\\jupyter file\\EEG_process\\SE_train_processed\\Z曾刚20220218（未发作）_bias_32.fif\n",
      "Closing E:\\jupyter file\\EEG_process\\SE_train_processed\\Z曾刚20220218（未发作）_bias_32.fif\n",
      "[done]\n",
      "../SE_train_processed/Z曾刚20220218（未发作）_bias_40.fif\n",
      "Opening raw data file ../SE_train\\Z曾刚20220218（未发作）_bias_40.fif...\n",
      "Isotrak not found\n",
      "    Range : 260884 ... 277268 =    254.770 ...   270.770 secs\n",
      "Ready.\n",
      "data_256.shape (15, 2048)\n",
      "data_256_samples.shape (15, 4, 512)\n",
      "data_sta.shape (15, 4, 512)\n",
      "data_x.shape: (60, 512, 1)\n"
     ]
    },
    {
     "name": "stderr",
     "output_type": "stream",
     "text": [
      "<ipython-input-4-d8650b052227>:74: RuntimeWarning: This filename (E:\\jupyter file\\EEG_process\\SE_train_processed\\Z曾刚20220218（未发作）_bias_32.fif) does not conform to MNE naming conventions. All raw files should end with raw.fif, raw_sss.fif, raw_tsss.fif, _meg.fif, _eeg.fif, _ieeg.fif, raw.fif.gz, raw_sss.fif.gz, raw_tsss.fif.gz, _meg.fif.gz, _eeg.fif.gz or _ieeg.fif.gz\n",
      "  custom_raw.save(save_path,overwrite=True)\n",
      "<ipython-input-4-d8650b052227>:2: RuntimeWarning: This filename (../SE_train\\Z曾刚20220218（未发作）_bias_40.fif) does not conform to MNE naming conventions. All raw files should end with raw.fif, raw_sss.fif, raw_tsss.fif, _meg.fif, _eeg.fif, _ieeg.fif, raw.fif.gz, raw_sss.fif.gz, raw_tsss.fif.gz, _meg.fif.gz, _eeg.fif.gz or _ieeg.fif.gz\n",
      "  raw = read_raw_fif(file_path)\n"
     ]
    },
    {
     "name": "stdout",
     "output_type": "stream",
     "text": [
      "pred_channel.shape (15, 2048)\n",
      "Creating RawArray with float64 data, n_channels=15, n_times=2048\n",
      "    Range : 0 ... 2047 =      0.000 ...     7.996 secs\n",
      "Ready.\n",
      "Writing E:\\jupyter file\\EEG_process\\SE_train_processed\\Z曾刚20220218（未发作）_bias_40.fif\n",
      "Closing E:\\jupyter file\\EEG_process\\SE_train_processed\\Z曾刚20220218（未发作）_bias_40.fif\n",
      "[done]\n",
      "../SE_train_processed/Z曾刚20220218（未发作）_bias_8.fif\n",
      "Opening raw data file ../SE_train\\Z曾刚20220218（未发作）_bias_8.fif...\n",
      "Isotrak not found\n",
      "    Range : 228116 ... 244500 =    222.770 ...   238.770 secs\n",
      "Ready.\n",
      "data_256.shape (15, 2048)\n",
      "data_256_samples.shape (15, 4, 512)\n",
      "data_sta.shape (15, 4, 512)\n",
      "data_x.shape: (60, 512, 1)\n"
     ]
    },
    {
     "name": "stderr",
     "output_type": "stream",
     "text": [
      "<ipython-input-4-d8650b052227>:74: RuntimeWarning: This filename (E:\\jupyter file\\EEG_process\\SE_train_processed\\Z曾刚20220218（未发作）_bias_40.fif) does not conform to MNE naming conventions. All raw files should end with raw.fif, raw_sss.fif, raw_tsss.fif, _meg.fif, _eeg.fif, _ieeg.fif, raw.fif.gz, raw_sss.fif.gz, raw_tsss.fif.gz, _meg.fif.gz, _eeg.fif.gz or _ieeg.fif.gz\n",
      "  custom_raw.save(save_path,overwrite=True)\n",
      "<ipython-input-4-d8650b052227>:2: RuntimeWarning: This filename (../SE_train\\Z曾刚20220218（未发作）_bias_8.fif) does not conform to MNE naming conventions. All raw files should end with raw.fif, raw_sss.fif, raw_tsss.fif, _meg.fif, _eeg.fif, _ieeg.fif, raw.fif.gz, raw_sss.fif.gz, raw_tsss.fif.gz, _meg.fif.gz, _eeg.fif.gz or _ieeg.fif.gz\n",
      "  raw = read_raw_fif(file_path)\n"
     ]
    },
    {
     "name": "stdout",
     "output_type": "stream",
     "text": [
      "pred_channel.shape (15, 2048)\n",
      "Creating RawArray with float64 data, n_channels=15, n_times=2048\n",
      "    Range : 0 ... 2047 =      0.000 ...     7.996 secs\n",
      "Ready.\n",
      "Writing E:\\jupyter file\\EEG_process\\SE_train_processed\\Z曾刚20220218（未发作）_bias_8.fif\n",
      "Closing E:\\jupyter file\\EEG_process\\SE_train_processed\\Z曾刚20220218（未发作）_bias_8.fif\n",
      "[done]\n",
      "../SE_train_processed/Z曾刚20220221_bias_0.fif\n",
      "Opening raw data file ../SE_train\\Z曾刚20220221_bias_0.fif...\n",
      "Isotrak not found\n",
      "    Range : 17807 ... 25999 =     17.390 ...    25.390 secs\n",
      "Ready.\n",
      "data_256.shape (15, 2048)\n",
      "data_256_samples.shape (15, 4, 512)\n",
      "data_sta.shape (15, 4, 512)\n",
      "data_x.shape: (60, 512, 1)\n"
     ]
    },
    {
     "name": "stderr",
     "output_type": "stream",
     "text": [
      "<ipython-input-4-d8650b052227>:74: RuntimeWarning: This filename (E:\\jupyter file\\EEG_process\\SE_train_processed\\Z曾刚20220218（未发作）_bias_8.fif) does not conform to MNE naming conventions. All raw files should end with raw.fif, raw_sss.fif, raw_tsss.fif, _meg.fif, _eeg.fif, _ieeg.fif, raw.fif.gz, raw_sss.fif.gz, raw_tsss.fif.gz, _meg.fif.gz, _eeg.fif.gz or _ieeg.fif.gz\n",
      "  custom_raw.save(save_path,overwrite=True)\n",
      "<ipython-input-4-d8650b052227>:2: RuntimeWarning: This filename (../SE_train\\Z曾刚20220221_bias_0.fif) does not conform to MNE naming conventions. All raw files should end with raw.fif, raw_sss.fif, raw_tsss.fif, _meg.fif, _eeg.fif, _ieeg.fif, raw.fif.gz, raw_sss.fif.gz, raw_tsss.fif.gz, _meg.fif.gz, _eeg.fif.gz or _ieeg.fif.gz\n",
      "  raw = read_raw_fif(file_path)\n"
     ]
    },
    {
     "name": "stdout",
     "output_type": "stream",
     "text": [
      "pred_channel.shape (15, 2048)\n",
      "Creating RawArray with float64 data, n_channels=15, n_times=2048\n",
      "    Range : 0 ... 2047 =      0.000 ...     7.996 secs\n",
      "Ready.\n",
      "Writing E:\\jupyter file\\EEG_process\\SE_train_processed\\Z曾刚20220221_bias_0.fif\n",
      "Closing E:\\jupyter file\\EEG_process\\SE_train_processed\\Z曾刚20220221_bias_0.fif\n",
      "[done]\n",
      "../SE_train_processed/Z曾刚20220223_bias_0.fif\n",
      "Opening raw data file ../SE_train\\Z曾刚20220223_bias_0.fif...\n",
      "Isotrak not found\n",
      "    Range : 70270 ... 78462 =     68.623 ...    76.623 secs\n",
      "Ready.\n",
      "data_256.shape (15, 2048)\n",
      "data_256_samples.shape (15, 4, 512)\n",
      "data_sta.shape (15, 4, 512)\n",
      "data_x.shape: (60, 512, 1)\n"
     ]
    },
    {
     "name": "stderr",
     "output_type": "stream",
     "text": [
      "<ipython-input-4-d8650b052227>:74: RuntimeWarning: This filename (E:\\jupyter file\\EEG_process\\SE_train_processed\\Z曾刚20220221_bias_0.fif) does not conform to MNE naming conventions. All raw files should end with raw.fif, raw_sss.fif, raw_tsss.fif, _meg.fif, _eeg.fif, _ieeg.fif, raw.fif.gz, raw_sss.fif.gz, raw_tsss.fif.gz, _meg.fif.gz, _eeg.fif.gz or _ieeg.fif.gz\n",
      "  custom_raw.save(save_path,overwrite=True)\n",
      "<ipython-input-4-d8650b052227>:2: RuntimeWarning: This filename (../SE_train\\Z曾刚20220223_bias_0.fif) does not conform to MNE naming conventions. All raw files should end with raw.fif, raw_sss.fif, raw_tsss.fif, _meg.fif, _eeg.fif, _ieeg.fif, raw.fif.gz, raw_sss.fif.gz, raw_tsss.fif.gz, _meg.fif.gz, _eeg.fif.gz or _ieeg.fif.gz\n",
      "  raw = read_raw_fif(file_path)\n"
     ]
    },
    {
     "name": "stdout",
     "output_type": "stream",
     "text": [
      "pred_channel.shape (15, 2048)\n",
      "Creating RawArray with float64 data, n_channels=15, n_times=2048\n",
      "    Range : 0 ... 2047 =      0.000 ...     7.996 secs\n",
      "Ready.\n",
      "Writing E:\\jupyter file\\EEG_process\\SE_train_processed\\Z曾刚20220223_bias_0.fif\n",
      "Closing E:\\jupyter file\\EEG_process\\SE_train_processed\\Z曾刚20220223_bias_0.fif\n",
      "[done]\n",
      "../SE_train_processed/Z李坤铣20220525_bias_0.fif\n",
      "Opening raw data file ../SE_train\\Z李坤铣20220525_bias_0.fif...\n",
      "Isotrak not found\n",
      "    Range : 55394 ... 59490 =    108.191 ...   116.191 secs\n",
      "Ready.\n",
      "data_256.shape (15, 2048)\n",
      "data_256_samples.shape (15, 4, 512)\n",
      "data_sta.shape (15, 4, 512)\n",
      "data_x.shape: (60, 512, 1)\n"
     ]
    },
    {
     "name": "stderr",
     "output_type": "stream",
     "text": [
      "<ipython-input-4-d8650b052227>:74: RuntimeWarning: This filename (E:\\jupyter file\\EEG_process\\SE_train_processed\\Z曾刚20220223_bias_0.fif) does not conform to MNE naming conventions. All raw files should end with raw.fif, raw_sss.fif, raw_tsss.fif, _meg.fif, _eeg.fif, _ieeg.fif, raw.fif.gz, raw_sss.fif.gz, raw_tsss.fif.gz, _meg.fif.gz, _eeg.fif.gz or _ieeg.fif.gz\n",
      "  custom_raw.save(save_path,overwrite=True)\n",
      "<ipython-input-4-d8650b052227>:2: RuntimeWarning: This filename (../SE_train\\Z李坤铣20220525_bias_0.fif) does not conform to MNE naming conventions. All raw files should end with raw.fif, raw_sss.fif, raw_tsss.fif, _meg.fif, _eeg.fif, _ieeg.fif, raw.fif.gz, raw_sss.fif.gz, raw_tsss.fif.gz, _meg.fif.gz, _eeg.fif.gz or _ieeg.fif.gz\n",
      "  raw = read_raw_fif(file_path)\n"
     ]
    },
    {
     "name": "stdout",
     "output_type": "stream",
     "text": [
      "pred_channel.shape (15, 2048)\n",
      "Creating RawArray with float64 data, n_channels=15, n_times=2048\n",
      "    Range : 0 ... 2047 =      0.000 ...     7.996 secs\n",
      "Ready.\n",
      "Writing E:\\jupyter file\\EEG_process\\SE_train_processed\\Z李坤铣20220525_bias_0.fif\n",
      "Closing E:\\jupyter file\\EEG_process\\SE_train_processed\\Z李坤铣20220525_bias_0.fif\n",
      "[done]\n",
      "../SE_train_processed/Z李坤铣20220527_bias_0.fif\n",
      "Opening raw data file ../SE_train\\Z李坤铣20220527_bias_0.fif...\n",
      "Isotrak not found\n",
      "    Range : 43256 ... 47352 =     84.484 ...    92.484 secs\n",
      "Ready.\n",
      "data_256.shape (15, 2048)\n",
      "data_256_samples.shape (15, 4, 512)\n",
      "data_sta.shape (15, 4, 512)\n",
      "data_x.shape: (60, 512, 1)\n"
     ]
    },
    {
     "name": "stderr",
     "output_type": "stream",
     "text": [
      "<ipython-input-4-d8650b052227>:74: RuntimeWarning: This filename (E:\\jupyter file\\EEG_process\\SE_train_processed\\Z李坤铣20220525_bias_0.fif) does not conform to MNE naming conventions. All raw files should end with raw.fif, raw_sss.fif, raw_tsss.fif, _meg.fif, _eeg.fif, _ieeg.fif, raw.fif.gz, raw_sss.fif.gz, raw_tsss.fif.gz, _meg.fif.gz, _eeg.fif.gz or _ieeg.fif.gz\n",
      "  custom_raw.save(save_path,overwrite=True)\n",
      "<ipython-input-4-d8650b052227>:2: RuntimeWarning: This filename (../SE_train\\Z李坤铣20220527_bias_0.fif) does not conform to MNE naming conventions. All raw files should end with raw.fif, raw_sss.fif, raw_tsss.fif, _meg.fif, _eeg.fif, _ieeg.fif, raw.fif.gz, raw_sss.fif.gz, raw_tsss.fif.gz, _meg.fif.gz, _eeg.fif.gz or _ieeg.fif.gz\n",
      "  raw = read_raw_fif(file_path)\n"
     ]
    },
    {
     "name": "stdout",
     "output_type": "stream",
     "text": [
      "pred_channel.shape (15, 2048)\n",
      "Creating RawArray with float64 data, n_channels=15, n_times=2048\n",
      "    Range : 0 ... 2047 =      0.000 ...     7.996 secs\n",
      "Ready.\n",
      "Writing E:\\jupyter file\\EEG_process\\SE_train_processed\\Z李坤铣20220527_bias_0.fif\n",
      "Closing E:\\jupyter file\\EEG_process\\SE_train_processed\\Z李坤铣20220527_bias_0.fif\n",
      "[done]\n",
      "../SE_train_processed/Z李坤铣20220530_bias_0.fif\n",
      "Opening raw data file ../SE_train\\Z李坤铣20220530_bias_0.fif...\n",
      "Isotrak not found\n",
      "    Range : 3826 ... 7922 =      7.473 ...    15.473 secs\n",
      "Ready.\n",
      "data_256.shape (15, 2048)\n",
      "data_256_samples.shape (15, 4, 512)\n",
      "data_sta.shape (15, 4, 512)\n",
      "data_x.shape: (60, 512, 1)\n"
     ]
    },
    {
     "name": "stderr",
     "output_type": "stream",
     "text": [
      "<ipython-input-4-d8650b052227>:74: RuntimeWarning: This filename (E:\\jupyter file\\EEG_process\\SE_train_processed\\Z李坤铣20220527_bias_0.fif) does not conform to MNE naming conventions. All raw files should end with raw.fif, raw_sss.fif, raw_tsss.fif, _meg.fif, _eeg.fif, _ieeg.fif, raw.fif.gz, raw_sss.fif.gz, raw_tsss.fif.gz, _meg.fif.gz, _eeg.fif.gz or _ieeg.fif.gz\n",
      "  custom_raw.save(save_path,overwrite=True)\n",
      "<ipython-input-4-d8650b052227>:2: RuntimeWarning: This filename (../SE_train\\Z李坤铣20220530_bias_0.fif) does not conform to MNE naming conventions. All raw files should end with raw.fif, raw_sss.fif, raw_tsss.fif, _meg.fif, _eeg.fif, _ieeg.fif, raw.fif.gz, raw_sss.fif.gz, raw_tsss.fif.gz, _meg.fif.gz, _eeg.fif.gz or _ieeg.fif.gz\n",
      "  raw = read_raw_fif(file_path)\n"
     ]
    },
    {
     "name": "stdout",
     "output_type": "stream",
     "text": [
      "pred_channel.shape (15, 2048)\n",
      "Creating RawArray with float64 data, n_channels=15, n_times=2048\n",
      "    Range : 0 ... 2047 =      0.000 ...     7.996 secs\n",
      "Ready.\n",
      "Writing E:\\jupyter file\\EEG_process\\SE_train_processed\\Z李坤铣20220530_bias_0.fif\n",
      "Closing E:\\jupyter file\\EEG_process\\SE_train_processed\\Z李坤铣20220530_bias_0.fif\n",
      "[done]\n",
      "../SE_train_processed/Z李振千20220608_bias_0.fif\n",
      "Opening raw data file ../SE_train\\Z李振千20220608_bias_0.fif...\n",
      "Isotrak not found\n",
      "    Range : 60681 ... 64777 =    118.518 ...   126.518 secs\n",
      "Ready.\n",
      "data_256.shape (15, 2048)\n",
      "data_256_samples.shape (15, 4, 512)\n",
      "data_sta.shape (15, 4, 512)\n",
      "data_x.shape: (60, 512, 1)\n"
     ]
    },
    {
     "name": "stderr",
     "output_type": "stream",
     "text": [
      "<ipython-input-4-d8650b052227>:74: RuntimeWarning: This filename (E:\\jupyter file\\EEG_process\\SE_train_processed\\Z李坤铣20220530_bias_0.fif) does not conform to MNE naming conventions. All raw files should end with raw.fif, raw_sss.fif, raw_tsss.fif, _meg.fif, _eeg.fif, _ieeg.fif, raw.fif.gz, raw_sss.fif.gz, raw_tsss.fif.gz, _meg.fif.gz, _eeg.fif.gz or _ieeg.fif.gz\n",
      "  custom_raw.save(save_path,overwrite=True)\n",
      "<ipython-input-4-d8650b052227>:2: RuntimeWarning: This filename (../SE_train\\Z李振千20220608_bias_0.fif) does not conform to MNE naming conventions. All raw files should end with raw.fif, raw_sss.fif, raw_tsss.fif, _meg.fif, _eeg.fif, _ieeg.fif, raw.fif.gz, raw_sss.fif.gz, raw_tsss.fif.gz, _meg.fif.gz, _eeg.fif.gz or _ieeg.fif.gz\n",
      "  raw = read_raw_fif(file_path)\n"
     ]
    },
    {
     "name": "stdout",
     "output_type": "stream",
     "text": [
      "pred_channel.shape (15, 2048)\n",
      "Creating RawArray with float64 data, n_channels=15, n_times=2048\n",
      "    Range : 0 ... 2047 =      0.000 ...     7.996 secs\n",
      "Ready.\n",
      "Writing E:\\jupyter file\\EEG_process\\SE_train_processed\\Z李振千20220608_bias_0.fif\n",
      "Closing E:\\jupyter file\\EEG_process\\SE_train_processed\\Z李振千20220608_bias_0.fif\n",
      "[done]\n",
      "../SE_train_processed/Z李振千20220610_bias_0.fif\n",
      "Opening raw data file ../SE_train\\Z李振千20220610_bias_0.fif...\n",
      "Isotrak not found\n",
      "    Range : 46360 ... 50456 =     90.547 ...    98.547 secs\n",
      "Ready.\n",
      "data_256.shape (15, 2048)\n",
      "data_256_samples.shape (15, 4, 512)\n",
      "data_sta.shape (15, 4, 512)\n",
      "data_x.shape: (60, 512, 1)\n",
      "pred_channel.shape (15, 2048)\n"
     ]
    },
    {
     "name": "stderr",
     "output_type": "stream",
     "text": [
      "<ipython-input-4-d8650b052227>:74: RuntimeWarning: This filename (E:\\jupyter file\\EEG_process\\SE_train_processed\\Z李振千20220608_bias_0.fif) does not conform to MNE naming conventions. All raw files should end with raw.fif, raw_sss.fif, raw_tsss.fif, _meg.fif, _eeg.fif, _ieeg.fif, raw.fif.gz, raw_sss.fif.gz, raw_tsss.fif.gz, _meg.fif.gz, _eeg.fif.gz or _ieeg.fif.gz\n",
      "  custom_raw.save(save_path,overwrite=True)\n",
      "<ipython-input-4-d8650b052227>:2: RuntimeWarning: This filename (../SE_train\\Z李振千20220610_bias_0.fif) does not conform to MNE naming conventions. All raw files should end with raw.fif, raw_sss.fif, raw_tsss.fif, _meg.fif, _eeg.fif, _ieeg.fif, raw.fif.gz, raw_sss.fif.gz, raw_tsss.fif.gz, _meg.fif.gz, _eeg.fif.gz or _ieeg.fif.gz\n",
      "  raw = read_raw_fif(file_path)\n"
     ]
    },
    {
     "name": "stdout",
     "output_type": "stream",
     "text": [
      "Creating RawArray with float64 data, n_channels=15, n_times=2048\n",
      "    Range : 0 ... 2047 =      0.000 ...     7.996 secs\n",
      "Ready.\n",
      "Writing E:\\jupyter file\\EEG_process\\SE_train_processed\\Z李振千20220610_bias_0.fif\n",
      "Closing E:\\jupyter file\\EEG_process\\SE_train_processed\\Z李振千20220610_bias_0.fif\n",
      "[done]\n",
      "../SE_train_processed/Z李振千20220613_bias_0.fif\n",
      "Opening raw data file ../SE_train\\Z李振千20220613_bias_0.fif...\n",
      "Isotrak not found\n",
      "    Range : 48120 ... 52216 =     93.984 ...   101.984 secs\n",
      "Ready.\n",
      "data_256.shape (15, 2048)\n",
      "data_256_samples.shape (15, 4, 512)\n",
      "data_sta.shape (15, 4, 512)\n",
      "data_x.shape: (60, 512, 1)\n"
     ]
    },
    {
     "name": "stderr",
     "output_type": "stream",
     "text": [
      "<ipython-input-4-d8650b052227>:74: RuntimeWarning: This filename (E:\\jupyter file\\EEG_process\\SE_train_processed\\Z李振千20220610_bias_0.fif) does not conform to MNE naming conventions. All raw files should end with raw.fif, raw_sss.fif, raw_tsss.fif, _meg.fif, _eeg.fif, _ieeg.fif, raw.fif.gz, raw_sss.fif.gz, raw_tsss.fif.gz, _meg.fif.gz, _eeg.fif.gz or _ieeg.fif.gz\n",
      "  custom_raw.save(save_path,overwrite=True)\n",
      "<ipython-input-4-d8650b052227>:2: RuntimeWarning: This filename (../SE_train\\Z李振千20220613_bias_0.fif) does not conform to MNE naming conventions. All raw files should end with raw.fif, raw_sss.fif, raw_tsss.fif, _meg.fif, _eeg.fif, _ieeg.fif, raw.fif.gz, raw_sss.fif.gz, raw_tsss.fif.gz, _meg.fif.gz, _eeg.fif.gz or _ieeg.fif.gz\n",
      "  raw = read_raw_fif(file_path)\n"
     ]
    },
    {
     "name": "stdout",
     "output_type": "stream",
     "text": [
      "pred_channel.shape (15, 2048)\n",
      "Creating RawArray with float64 data, n_channels=15, n_times=2048\n",
      "    Range : 0 ... 2047 =      0.000 ...     7.996 secs\n",
      "Ready.\n",
      "Writing E:\\jupyter file\\EEG_process\\SE_train_processed\\Z李振千20220613_bias_0.fif\n",
      "Closing E:\\jupyter file\\EEG_process\\SE_train_processed\\Z李振千20220613_bias_0.fif\n",
      "[done]\n",
      "../SE_train_processed/Z李玉萍20220216_bias_0.fif\n",
      "Opening raw data file ../SE_train\\Z李玉萍20220216_bias_0.fif...\n",
      "Isotrak not found\n",
      "    Range : 50628 ... 58820 =     49.441 ...    57.441 secs\n",
      "Ready.\n",
      "data_256.shape (15, 2048)\n",
      "data_256_samples.shape (15, 4, 512)\n",
      "data_sta.shape (15, 4, 512)\n",
      "data_x.shape: (60, 512, 1)\n"
     ]
    },
    {
     "name": "stderr",
     "output_type": "stream",
     "text": [
      "<ipython-input-4-d8650b052227>:74: RuntimeWarning: This filename (E:\\jupyter file\\EEG_process\\SE_train_processed\\Z李振千20220613_bias_0.fif) does not conform to MNE naming conventions. All raw files should end with raw.fif, raw_sss.fif, raw_tsss.fif, _meg.fif, _eeg.fif, _ieeg.fif, raw.fif.gz, raw_sss.fif.gz, raw_tsss.fif.gz, _meg.fif.gz, _eeg.fif.gz or _ieeg.fif.gz\n",
      "  custom_raw.save(save_path,overwrite=True)\n",
      "<ipython-input-4-d8650b052227>:2: RuntimeWarning: This filename (../SE_train\\Z李玉萍20220216_bias_0.fif) does not conform to MNE naming conventions. All raw files should end with raw.fif, raw_sss.fif, raw_tsss.fif, _meg.fif, _eeg.fif, _ieeg.fif, raw.fif.gz, raw_sss.fif.gz, raw_tsss.fif.gz, _meg.fif.gz, _eeg.fif.gz or _ieeg.fif.gz\n",
      "  raw = read_raw_fif(file_path)\n"
     ]
    },
    {
     "name": "stdout",
     "output_type": "stream",
     "text": [
      "pred_channel.shape (15, 2048)\n",
      "Creating RawArray with float64 data, n_channels=15, n_times=2048\n",
      "    Range : 0 ... 2047 =      0.000 ...     7.996 secs\n",
      "Ready.\n",
      "Writing E:\\jupyter file\\EEG_process\\SE_train_processed\\Z李玉萍20220216_bias_0.fif\n",
      "Closing E:\\jupyter file\\EEG_process\\SE_train_processed\\Z李玉萍20220216_bias_0.fif\n",
      "[done]\n",
      "../SE_train_processed/Z李玉萍20220218_bias_0.fif\n",
      "Opening raw data file ../SE_train\\Z李玉萍20220218_bias_0.fif...\n",
      "Isotrak not found\n",
      "    Range : 55675 ... 63867 =     54.370 ...    62.370 secs\n",
      "Ready.\n",
      "data_256.shape (15, 2048)\n",
      "data_256_samples.shape (15, 4, 512)\n",
      "data_sta.shape (15, 4, 512)\n",
      "data_x.shape: (60, 512, 1)\n"
     ]
    },
    {
     "name": "stderr",
     "output_type": "stream",
     "text": [
      "<ipython-input-4-d8650b052227>:74: RuntimeWarning: This filename (E:\\jupyter file\\EEG_process\\SE_train_processed\\Z李玉萍20220216_bias_0.fif) does not conform to MNE naming conventions. All raw files should end with raw.fif, raw_sss.fif, raw_tsss.fif, _meg.fif, _eeg.fif, _ieeg.fif, raw.fif.gz, raw_sss.fif.gz, raw_tsss.fif.gz, _meg.fif.gz, _eeg.fif.gz or _ieeg.fif.gz\n",
      "  custom_raw.save(save_path,overwrite=True)\n",
      "<ipython-input-4-d8650b052227>:2: RuntimeWarning: This filename (../SE_train\\Z李玉萍20220218_bias_0.fif) does not conform to MNE naming conventions. All raw files should end with raw.fif, raw_sss.fif, raw_tsss.fif, _meg.fif, _eeg.fif, _ieeg.fif, raw.fif.gz, raw_sss.fif.gz, raw_tsss.fif.gz, _meg.fif.gz, _eeg.fif.gz or _ieeg.fif.gz\n",
      "  raw = read_raw_fif(file_path)\n"
     ]
    },
    {
     "name": "stdout",
     "output_type": "stream",
     "text": [
      "pred_channel.shape (15, 2048)\n",
      "Creating RawArray with float64 data, n_channels=15, n_times=2048\n",
      "    Range : 0 ... 2047 =      0.000 ...     7.996 secs\n",
      "Ready.\n",
      "Writing E:\\jupyter file\\EEG_process\\SE_train_processed\\Z李玉萍20220218_bias_0.fif\n",
      "Closing E:\\jupyter file\\EEG_process\\SE_train_processed\\Z李玉萍20220218_bias_0.fif\n",
      "[done]\n",
      "../SE_train_processed/Z李玉萍20220221（未发作）_bias_0.fif\n",
      "Opening raw data file ../SE_train\\Z李玉萍20220221（未发作）_bias_0.fif...\n",
      "Isotrak not found\n",
      "    Range : 37414 ... 45606 =     36.537 ...    44.537 secs\n",
      "Ready.\n",
      "data_256.shape (15, 2048)\n",
      "data_256_samples.shape (15, 4, 512)\n",
      "data_sta.shape (15, 4, 512)\n",
      "data_x.shape: (60, 512, 1)\n"
     ]
    },
    {
     "name": "stderr",
     "output_type": "stream",
     "text": [
      "<ipython-input-4-d8650b052227>:74: RuntimeWarning: This filename (E:\\jupyter file\\EEG_process\\SE_train_processed\\Z李玉萍20220218_bias_0.fif) does not conform to MNE naming conventions. All raw files should end with raw.fif, raw_sss.fif, raw_tsss.fif, _meg.fif, _eeg.fif, _ieeg.fif, raw.fif.gz, raw_sss.fif.gz, raw_tsss.fif.gz, _meg.fif.gz, _eeg.fif.gz or _ieeg.fif.gz\n",
      "  custom_raw.save(save_path,overwrite=True)\n",
      "<ipython-input-4-d8650b052227>:2: RuntimeWarning: This filename (../SE_train\\Z李玉萍20220221（未发作）_bias_0.fif) does not conform to MNE naming conventions. All raw files should end with raw.fif, raw_sss.fif, raw_tsss.fif, _meg.fif, _eeg.fif, _ieeg.fif, raw.fif.gz, raw_sss.fif.gz, raw_tsss.fif.gz, _meg.fif.gz, _eeg.fif.gz or _ieeg.fif.gz\n",
      "  raw = read_raw_fif(file_path)\n"
     ]
    },
    {
     "name": "stdout",
     "output_type": "stream",
     "text": [
      "pred_channel.shape (15, 2048)\n",
      "Creating RawArray with float64 data, n_channels=15, n_times=2048\n",
      "    Range : 0 ... 2047 =      0.000 ...     7.996 secs\n",
      "Ready.\n",
      "Writing E:\\jupyter file\\EEG_process\\SE_train_processed\\Z李玉萍20220221（未发作）_bias_0.fif\n",
      "Closing E:\\jupyter file\\EEG_process\\SE_train_processed\\Z李玉萍20220221（未发作）_bias_0.fif\n",
      "[done]\n",
      "../SE_train_processed/Z李玉萍20220221（未发作）_bias_16.fif\n",
      "Opening raw data file ../SE_train\\Z李玉萍20220221（未发作）_bias_16.fif...\n",
      "Isotrak not found\n",
      "    Range : 53798 ... 70182 =     52.537 ...    68.537 secs\n",
      "Ready.\n",
      "data_256.shape (15, 2048)\n",
      "data_256_samples.shape (15, 4, 512)\n",
      "data_sta.shape (15, 4, 512)\n",
      "data_x.shape: (60, 512, 1)\n"
     ]
    },
    {
     "name": "stderr",
     "output_type": "stream",
     "text": [
      "<ipython-input-4-d8650b052227>:74: RuntimeWarning: This filename (E:\\jupyter file\\EEG_process\\SE_train_processed\\Z李玉萍20220221（未发作）_bias_0.fif) does not conform to MNE naming conventions. All raw files should end with raw.fif, raw_sss.fif, raw_tsss.fif, _meg.fif, _eeg.fif, _ieeg.fif, raw.fif.gz, raw_sss.fif.gz, raw_tsss.fif.gz, _meg.fif.gz, _eeg.fif.gz or _ieeg.fif.gz\n",
      "  custom_raw.save(save_path,overwrite=True)\n",
      "<ipython-input-4-d8650b052227>:2: RuntimeWarning: This filename (../SE_train\\Z李玉萍20220221（未发作）_bias_16.fif) does not conform to MNE naming conventions. All raw files should end with raw.fif, raw_sss.fif, raw_tsss.fif, _meg.fif, _eeg.fif, _ieeg.fif, raw.fif.gz, raw_sss.fif.gz, raw_tsss.fif.gz, _meg.fif.gz, _eeg.fif.gz or _ieeg.fif.gz\n",
      "  raw = read_raw_fif(file_path)\n"
     ]
    },
    {
     "name": "stdout",
     "output_type": "stream",
     "text": [
      "pred_channel.shape (15, 2048)\n",
      "Creating RawArray with float64 data, n_channels=15, n_times=2048\n",
      "    Range : 0 ... 2047 =      0.000 ...     7.996 secs\n",
      "Ready.\n",
      "Writing E:\\jupyter file\\EEG_process\\SE_train_processed\\Z李玉萍20220221（未发作）_bias_16.fif\n",
      "Closing E:\\jupyter file\\EEG_process\\SE_train_processed\\Z李玉萍20220221（未发作）_bias_16.fif\n",
      "[done]\n",
      "../SE_train_processed/Z李玉萍20220221（未发作）_bias_24.fif\n",
      "Opening raw data file ../SE_train\\Z李玉萍20220221（未发作）_bias_24.fif...\n",
      "Isotrak not found\n",
      "    Range : 61990 ... 78374 =     60.537 ...    76.537 secs\n",
      "Ready.\n",
      "data_256.shape (15, 2048)\n",
      "data_256_samples.shape (15, 4, 512)\n",
      "data_sta.shape (15, 4, 512)\n",
      "data_x.shape: (60, 512, 1)\n"
     ]
    },
    {
     "name": "stderr",
     "output_type": "stream",
     "text": [
      "<ipython-input-4-d8650b052227>:74: RuntimeWarning: This filename (E:\\jupyter file\\EEG_process\\SE_train_processed\\Z李玉萍20220221（未发作）_bias_16.fif) does not conform to MNE naming conventions. All raw files should end with raw.fif, raw_sss.fif, raw_tsss.fif, _meg.fif, _eeg.fif, _ieeg.fif, raw.fif.gz, raw_sss.fif.gz, raw_tsss.fif.gz, _meg.fif.gz, _eeg.fif.gz or _ieeg.fif.gz\n",
      "  custom_raw.save(save_path,overwrite=True)\n",
      "<ipython-input-4-d8650b052227>:2: RuntimeWarning: This filename (../SE_train\\Z李玉萍20220221（未发作）_bias_24.fif) does not conform to MNE naming conventions. All raw files should end with raw.fif, raw_sss.fif, raw_tsss.fif, _meg.fif, _eeg.fif, _ieeg.fif, raw.fif.gz, raw_sss.fif.gz, raw_tsss.fif.gz, _meg.fif.gz, _eeg.fif.gz or _ieeg.fif.gz\n",
      "  raw = read_raw_fif(file_path)\n"
     ]
    },
    {
     "name": "stdout",
     "output_type": "stream",
     "text": [
      "pred_channel.shape (15, 2048)\n",
      "Creating RawArray with float64 data, n_channels=15, n_times=2048\n",
      "    Range : 0 ... 2047 =      0.000 ...     7.996 secs\n",
      "Ready.\n",
      "Writing E:\\jupyter file\\EEG_process\\SE_train_processed\\Z李玉萍20220221（未发作）_bias_24.fif\n",
      "Closing E:\\jupyter file\\EEG_process\\SE_train_processed\\Z李玉萍20220221（未发作）_bias_24.fif\n",
      "[done]\n",
      "../SE_train_processed/Z李玉萍20220221（未发作）_bias_32.fif\n",
      "Opening raw data file ../SE_train\\Z李玉萍20220221（未发作）_bias_32.fif...\n",
      "Isotrak not found\n",
      "    Range : 70182 ... 86566 =     68.537 ...    84.537 secs\n",
      "Ready.\n",
      "data_256.shape (15, 2048)\n",
      "data_256_samples.shape (15, 4, 512)\n",
      "data_sta.shape (15, 4, 512)\n",
      "data_x.shape: (60, 512, 1)\n"
     ]
    },
    {
     "name": "stderr",
     "output_type": "stream",
     "text": [
      "<ipython-input-4-d8650b052227>:74: RuntimeWarning: This filename (E:\\jupyter file\\EEG_process\\SE_train_processed\\Z李玉萍20220221（未发作）_bias_24.fif) does not conform to MNE naming conventions. All raw files should end with raw.fif, raw_sss.fif, raw_tsss.fif, _meg.fif, _eeg.fif, _ieeg.fif, raw.fif.gz, raw_sss.fif.gz, raw_tsss.fif.gz, _meg.fif.gz, _eeg.fif.gz or _ieeg.fif.gz\n",
      "  custom_raw.save(save_path,overwrite=True)\n",
      "<ipython-input-4-d8650b052227>:2: RuntimeWarning: This filename (../SE_train\\Z李玉萍20220221（未发作）_bias_32.fif) does not conform to MNE naming conventions. All raw files should end with raw.fif, raw_sss.fif, raw_tsss.fif, _meg.fif, _eeg.fif, _ieeg.fif, raw.fif.gz, raw_sss.fif.gz, raw_tsss.fif.gz, _meg.fif.gz, _eeg.fif.gz or _ieeg.fif.gz\n",
      "  raw = read_raw_fif(file_path)\n"
     ]
    },
    {
     "name": "stdout",
     "output_type": "stream",
     "text": [
      "pred_channel.shape (15, 2048)\n",
      "Creating RawArray with float64 data, n_channels=15, n_times=2048\n",
      "    Range : 0 ... 2047 =      0.000 ...     7.996 secs\n",
      "Ready.\n",
      "Writing E:\\jupyter file\\EEG_process\\SE_train_processed\\Z李玉萍20220221（未发作）_bias_32.fif\n",
      "Closing E:\\jupyter file\\EEG_process\\SE_train_processed\\Z李玉萍20220221（未发作）_bias_32.fif\n",
      "[done]\n",
      "../SE_train_processed/Z李玉萍20220221（未发作）_bias_40.fif\n",
      "Opening raw data file ../SE_train\\Z李玉萍20220221（未发作）_bias_40.fif...\n",
      "Isotrak not found\n",
      "    Range : 78374 ... 94758 =     76.537 ...    92.537 secs\n",
      "Ready.\n",
      "data_256.shape (15, 2048)\n",
      "data_256_samples.shape (15, 4, 512)\n",
      "data_sta.shape (15, 4, 512)\n",
      "data_x.shape: (60, 512, 1)\n"
     ]
    },
    {
     "name": "stderr",
     "output_type": "stream",
     "text": [
      "<ipython-input-4-d8650b052227>:74: RuntimeWarning: This filename (E:\\jupyter file\\EEG_process\\SE_train_processed\\Z李玉萍20220221（未发作）_bias_32.fif) does not conform to MNE naming conventions. All raw files should end with raw.fif, raw_sss.fif, raw_tsss.fif, _meg.fif, _eeg.fif, _ieeg.fif, raw.fif.gz, raw_sss.fif.gz, raw_tsss.fif.gz, _meg.fif.gz, _eeg.fif.gz or _ieeg.fif.gz\n",
      "  custom_raw.save(save_path,overwrite=True)\n",
      "<ipython-input-4-d8650b052227>:2: RuntimeWarning: This filename (../SE_train\\Z李玉萍20220221（未发作）_bias_40.fif) does not conform to MNE naming conventions. All raw files should end with raw.fif, raw_sss.fif, raw_tsss.fif, _meg.fif, _eeg.fif, _ieeg.fif, raw.fif.gz, raw_sss.fif.gz, raw_tsss.fif.gz, _meg.fif.gz, _eeg.fif.gz or _ieeg.fif.gz\n",
      "  raw = read_raw_fif(file_path)\n"
     ]
    },
    {
     "name": "stdout",
     "output_type": "stream",
     "text": [
      "pred_channel.shape (15, 2048)\n",
      "Creating RawArray with float64 data, n_channels=15, n_times=2048\n",
      "    Range : 0 ... 2047 =      0.000 ...     7.996 secs\n",
      "Ready.\n",
      "Writing E:\\jupyter file\\EEG_process\\SE_train_processed\\Z李玉萍20220221（未发作）_bias_40.fif\n",
      "Closing E:\\jupyter file\\EEG_process\\SE_train_processed\\Z李玉萍20220221（未发作）_bias_40.fif\n",
      "[done]\n",
      "../SE_train_processed/Z李玉萍20220221（未发作）_bias_8.fif\n",
      "Opening raw data file ../SE_train\\Z李玉萍20220221（未发作）_bias_8.fif...\n",
      "Isotrak not found\n",
      "    Range : 45606 ... 61990 =     44.537 ...    60.537 secs\n",
      "Ready.\n",
      "data_256.shape (15, 2048)\n",
      "data_256_samples.shape (15, 4, 512)\n",
      "data_sta.shape (15, 4, 512)\n",
      "data_x.shape: (60, 512, 1)\n"
     ]
    },
    {
     "name": "stderr",
     "output_type": "stream",
     "text": [
      "<ipython-input-4-d8650b052227>:74: RuntimeWarning: This filename (E:\\jupyter file\\EEG_process\\SE_train_processed\\Z李玉萍20220221（未发作）_bias_40.fif) does not conform to MNE naming conventions. All raw files should end with raw.fif, raw_sss.fif, raw_tsss.fif, _meg.fif, _eeg.fif, _ieeg.fif, raw.fif.gz, raw_sss.fif.gz, raw_tsss.fif.gz, _meg.fif.gz, _eeg.fif.gz or _ieeg.fif.gz\n",
      "  custom_raw.save(save_path,overwrite=True)\n",
      "<ipython-input-4-d8650b052227>:2: RuntimeWarning: This filename (../SE_train\\Z李玉萍20220221（未发作）_bias_8.fif) does not conform to MNE naming conventions. All raw files should end with raw.fif, raw_sss.fif, raw_tsss.fif, _meg.fif, _eeg.fif, _ieeg.fif, raw.fif.gz, raw_sss.fif.gz, raw_tsss.fif.gz, _meg.fif.gz, _eeg.fif.gz or _ieeg.fif.gz\n",
      "  raw = read_raw_fif(file_path)\n"
     ]
    },
    {
     "name": "stdout",
     "output_type": "stream",
     "text": [
      "pred_channel.shape (15, 2048)\n",
      "Creating RawArray with float64 data, n_channels=15, n_times=2048\n",
      "    Range : 0 ... 2047 =      0.000 ...     7.996 secs\n",
      "Ready.\n",
      "Writing E:\\jupyter file\\EEG_process\\SE_train_processed\\Z李玉萍20220221（未发作）_bias_8.fif\n",
      "Closing E:\\jupyter file\\EEG_process\\SE_train_processed\\Z李玉萍20220221（未发作）_bias_8.fif\n",
      "[done]\n",
      "../SE_train_processed/Z李玉萍20220223_bias_0.fif\n",
      "Opening raw data file ../SE_train\\Z李玉萍20220223_bias_0.fif...\n",
      "Isotrak not found\n",
      "    Range : 58082 ... 66274 =     56.721 ...    64.721 secs\n",
      "Ready.\n",
      "data_256.shape (15, 2048)\n",
      "data_256_samples.shape (15, 4, 512)\n",
      "data_sta.shape (15, 4, 512)\n",
      "data_x.shape: (60, 512, 1)\n"
     ]
    },
    {
     "name": "stderr",
     "output_type": "stream",
     "text": [
      "<ipython-input-4-d8650b052227>:74: RuntimeWarning: This filename (E:\\jupyter file\\EEG_process\\SE_train_processed\\Z李玉萍20220221（未发作）_bias_8.fif) does not conform to MNE naming conventions. All raw files should end with raw.fif, raw_sss.fif, raw_tsss.fif, _meg.fif, _eeg.fif, _ieeg.fif, raw.fif.gz, raw_sss.fif.gz, raw_tsss.fif.gz, _meg.fif.gz, _eeg.fif.gz or _ieeg.fif.gz\n",
      "  custom_raw.save(save_path,overwrite=True)\n",
      "<ipython-input-4-d8650b052227>:2: RuntimeWarning: This filename (../SE_train\\Z李玉萍20220223_bias_0.fif) does not conform to MNE naming conventions. All raw files should end with raw.fif, raw_sss.fif, raw_tsss.fif, _meg.fif, _eeg.fif, _ieeg.fif, raw.fif.gz, raw_sss.fif.gz, raw_tsss.fif.gz, _meg.fif.gz, _eeg.fif.gz or _ieeg.fif.gz\n",
      "  raw = read_raw_fif(file_path)\n"
     ]
    },
    {
     "name": "stdout",
     "output_type": "stream",
     "text": [
      "pred_channel.shape (15, 2048)\n",
      "Creating RawArray with float64 data, n_channels=15, n_times=2048\n",
      "    Range : 0 ... 2047 =      0.000 ...     7.996 secs\n",
      "Ready.\n",
      "Writing E:\\jupyter file\\EEG_process\\SE_train_processed\\Z李玉萍20220223_bias_0.fif\n",
      "Closing E:\\jupyter file\\EEG_process\\SE_train_processed\\Z李玉萍20220223_bias_0.fif\n",
      "[done]\n",
      "../SE_train_processed/Z杜娇20220316_bias_0.fif\n",
      "Opening raw data file ../SE_train\\Z杜娇20220316_bias_0.fif...\n",
      "Isotrak not found\n",
      "    Range : 400805 ... 408997 =    391.411 ...   399.411 secs\n",
      "Ready.\n",
      "data_256.shape (15, 2048)\n",
      "data_256_samples.shape (15, 4, 512)\n",
      "data_sta.shape (15, 4, 512)\n",
      "data_x.shape: (60, 512, 1)\n"
     ]
    },
    {
     "name": "stderr",
     "output_type": "stream",
     "text": [
      "<ipython-input-4-d8650b052227>:74: RuntimeWarning: This filename (E:\\jupyter file\\EEG_process\\SE_train_processed\\Z李玉萍20220223_bias_0.fif) does not conform to MNE naming conventions. All raw files should end with raw.fif, raw_sss.fif, raw_tsss.fif, _meg.fif, _eeg.fif, _ieeg.fif, raw.fif.gz, raw_sss.fif.gz, raw_tsss.fif.gz, _meg.fif.gz, _eeg.fif.gz or _ieeg.fif.gz\n",
      "  custom_raw.save(save_path,overwrite=True)\n",
      "<ipython-input-4-d8650b052227>:2: RuntimeWarning: This filename (../SE_train\\Z杜娇20220316_bias_0.fif) does not conform to MNE naming conventions. All raw files should end with raw.fif, raw_sss.fif, raw_tsss.fif, _meg.fif, _eeg.fif, _ieeg.fif, raw.fif.gz, raw_sss.fif.gz, raw_tsss.fif.gz, _meg.fif.gz, _eeg.fif.gz or _ieeg.fif.gz\n",
      "  raw = read_raw_fif(file_path)\n"
     ]
    },
    {
     "name": "stdout",
     "output_type": "stream",
     "text": [
      "pred_channel.shape (15, 2048)\n",
      "Creating RawArray with float64 data, n_channels=15, n_times=2048\n",
      "    Range : 0 ... 2047 =      0.000 ...     7.996 secs\n",
      "Ready.\n",
      "Writing E:\\jupyter file\\EEG_process\\SE_train_processed\\Z杜娇20220316_bias_0.fif\n",
      "Closing E:\\jupyter file\\EEG_process\\SE_train_processed\\Z杜娇20220316_bias_0.fif\n",
      "[done]\n",
      "../SE_train_processed/Z杜娇20220318_bias_0.fif\n",
      "Opening raw data file ../SE_train\\Z杜娇20220318_bias_0.fif...\n",
      "Isotrak not found\n",
      "    Range : 267966 ... 276158 =    261.686 ...   269.686 secs\n",
      "Ready.\n",
      "data_256.shape (15, 2048)\n",
      "data_256_samples.shape (15, 4, 512)\n",
      "data_sta.shape (15, 4, 512)\n",
      "data_x.shape: (60, 512, 1)\n"
     ]
    },
    {
     "name": "stderr",
     "output_type": "stream",
     "text": [
      "<ipython-input-4-d8650b052227>:74: RuntimeWarning: This filename (E:\\jupyter file\\EEG_process\\SE_train_processed\\Z杜娇20220316_bias_0.fif) does not conform to MNE naming conventions. All raw files should end with raw.fif, raw_sss.fif, raw_tsss.fif, _meg.fif, _eeg.fif, _ieeg.fif, raw.fif.gz, raw_sss.fif.gz, raw_tsss.fif.gz, _meg.fif.gz, _eeg.fif.gz or _ieeg.fif.gz\n",
      "  custom_raw.save(save_path,overwrite=True)\n",
      "<ipython-input-4-d8650b052227>:2: RuntimeWarning: This filename (../SE_train\\Z杜娇20220318_bias_0.fif) does not conform to MNE naming conventions. All raw files should end with raw.fif, raw_sss.fif, raw_tsss.fif, _meg.fif, _eeg.fif, _ieeg.fif, raw.fif.gz, raw_sss.fif.gz, raw_tsss.fif.gz, _meg.fif.gz, _eeg.fif.gz or _ieeg.fif.gz\n",
      "  raw = read_raw_fif(file_path)\n"
     ]
    },
    {
     "name": "stdout",
     "output_type": "stream",
     "text": [
      "pred_channel.shape (15, 2048)\n",
      "Creating RawArray with float64 data, n_channels=15, n_times=2048\n",
      "    Range : 0 ... 2047 =      0.000 ...     7.996 secs\n",
      "Ready.\n",
      "Writing E:\\jupyter file\\EEG_process\\SE_train_processed\\Z杜娇20220318_bias_0.fif\n",
      "Closing E:\\jupyter file\\EEG_process\\SE_train_processed\\Z杜娇20220318_bias_0.fif\n",
      "[done]\n",
      "../SE_train_processed/Z杜娇20220321_bias_0.fif\n",
      "Opening raw data file ../SE_train\\Z杜娇20220321_bias_0.fif...\n",
      "Isotrak not found\n",
      "    Range : 49993 ... 58185 =     48.821 ...    56.821 secs\n",
      "Ready.\n",
      "data_256.shape (15, 2048)\n",
      "data_256_samples.shape (15, 4, 512)\n",
      "data_sta.shape (15, 4, 512)\n",
      "data_x.shape: (60, 512, 1)\n"
     ]
    },
    {
     "name": "stderr",
     "output_type": "stream",
     "text": [
      "<ipython-input-4-d8650b052227>:74: RuntimeWarning: This filename (E:\\jupyter file\\EEG_process\\SE_train_processed\\Z杜娇20220318_bias_0.fif) does not conform to MNE naming conventions. All raw files should end with raw.fif, raw_sss.fif, raw_tsss.fif, _meg.fif, _eeg.fif, _ieeg.fif, raw.fif.gz, raw_sss.fif.gz, raw_tsss.fif.gz, _meg.fif.gz, _eeg.fif.gz or _ieeg.fif.gz\n",
      "  custom_raw.save(save_path,overwrite=True)\n",
      "<ipython-input-4-d8650b052227>:2: RuntimeWarning: This filename (../SE_train\\Z杜娇20220321_bias_0.fif) does not conform to MNE naming conventions. All raw files should end with raw.fif, raw_sss.fif, raw_tsss.fif, _meg.fif, _eeg.fif, _ieeg.fif, raw.fif.gz, raw_sss.fif.gz, raw_tsss.fif.gz, _meg.fif.gz, _eeg.fif.gz or _ieeg.fif.gz\n",
      "  raw = read_raw_fif(file_path)\n"
     ]
    },
    {
     "name": "stdout",
     "output_type": "stream",
     "text": [
      "pred_channel.shape (15, 2048)\n",
      "Creating RawArray with float64 data, n_channels=15, n_times=2048\n",
      "    Range : 0 ... 2047 =      0.000 ...     7.996 secs\n",
      "Ready.\n",
      "Writing E:\\jupyter file\\EEG_process\\SE_train_processed\\Z杜娇20220321_bias_0.fif\n",
      "Closing E:\\jupyter file\\EEG_process\\SE_train_processed\\Z杜娇20220321_bias_0.fif\n",
      "[done]\n",
      "../SE_train_processed/Z杜娇20220325（未发作）_bias_0.fif\n",
      "Opening raw data file ../SE_train\\Z杜娇20220325（未发作）_bias_0.fif...\n",
      "Isotrak not found\n",
      "    Range : 92841 ... 101033 =     90.665 ...    98.665 secs\n",
      "Ready.\n",
      "data_256.shape (15, 2048)\n",
      "data_256_samples.shape (15, 4, 512)\n",
      "data_sta.shape (15, 4, 512)\n",
      "data_x.shape: (60, 512, 1)\n"
     ]
    },
    {
     "name": "stderr",
     "output_type": "stream",
     "text": [
      "<ipython-input-4-d8650b052227>:74: RuntimeWarning: This filename (E:\\jupyter file\\EEG_process\\SE_train_processed\\Z杜娇20220321_bias_0.fif) does not conform to MNE naming conventions. All raw files should end with raw.fif, raw_sss.fif, raw_tsss.fif, _meg.fif, _eeg.fif, _ieeg.fif, raw.fif.gz, raw_sss.fif.gz, raw_tsss.fif.gz, _meg.fif.gz, _eeg.fif.gz or _ieeg.fif.gz\n",
      "  custom_raw.save(save_path,overwrite=True)\n",
      "<ipython-input-4-d8650b052227>:2: RuntimeWarning: This filename (../SE_train\\Z杜娇20220325（未发作）_bias_0.fif) does not conform to MNE naming conventions. All raw files should end with raw.fif, raw_sss.fif, raw_tsss.fif, _meg.fif, _eeg.fif, _ieeg.fif, raw.fif.gz, raw_sss.fif.gz, raw_tsss.fif.gz, _meg.fif.gz, _eeg.fif.gz or _ieeg.fif.gz\n",
      "  raw = read_raw_fif(file_path)\n"
     ]
    },
    {
     "name": "stdout",
     "output_type": "stream",
     "text": [
      "pred_channel.shape (15, 2048)\n",
      "Creating RawArray with float64 data, n_channels=15, n_times=2048\n",
      "    Range : 0 ... 2047 =      0.000 ...     7.996 secs\n",
      "Ready.\n",
      "Writing E:\\jupyter file\\EEG_process\\SE_train_processed\\Z杜娇20220325（未发作）_bias_0.fif\n",
      "Closing E:\\jupyter file\\EEG_process\\SE_train_processed\\Z杜娇20220325（未发作）_bias_0.fif\n",
      "[done]\n",
      "../SE_train_processed/Z杜娇20220325（未发作）_bias_16.fif\n",
      "Opening raw data file ../SE_train\\Z杜娇20220325（未发作）_bias_16.fif...\n",
      "Isotrak not found\n",
      "    Range : 109225 ... 125609 =    106.665 ...   122.665 secs\n",
      "Ready.\n",
      "data_256.shape (15, 2048)\n",
      "data_256_samples.shape (15, 4, 512)\n",
      "data_sta.shape (15, 4, 512)\n",
      "data_x.shape: (60, 512, 1)\n"
     ]
    },
    {
     "name": "stderr",
     "output_type": "stream",
     "text": [
      "<ipython-input-4-d8650b052227>:74: RuntimeWarning: This filename (E:\\jupyter file\\EEG_process\\SE_train_processed\\Z杜娇20220325（未发作）_bias_0.fif) does not conform to MNE naming conventions. All raw files should end with raw.fif, raw_sss.fif, raw_tsss.fif, _meg.fif, _eeg.fif, _ieeg.fif, raw.fif.gz, raw_sss.fif.gz, raw_tsss.fif.gz, _meg.fif.gz, _eeg.fif.gz or _ieeg.fif.gz\n",
      "  custom_raw.save(save_path,overwrite=True)\n",
      "<ipython-input-4-d8650b052227>:2: RuntimeWarning: This filename (../SE_train\\Z杜娇20220325（未发作）_bias_16.fif) does not conform to MNE naming conventions. All raw files should end with raw.fif, raw_sss.fif, raw_tsss.fif, _meg.fif, _eeg.fif, _ieeg.fif, raw.fif.gz, raw_sss.fif.gz, raw_tsss.fif.gz, _meg.fif.gz, _eeg.fif.gz or _ieeg.fif.gz\n",
      "  raw = read_raw_fif(file_path)\n"
     ]
    },
    {
     "name": "stdout",
     "output_type": "stream",
     "text": [
      "pred_channel.shape (15, 2048)\n",
      "Creating RawArray with float64 data, n_channels=15, n_times=2048\n",
      "    Range : 0 ... 2047 =      0.000 ...     7.996 secs\n",
      "Ready.\n",
      "Writing E:\\jupyter file\\EEG_process\\SE_train_processed\\Z杜娇20220325（未发作）_bias_16.fif\n",
      "Closing E:\\jupyter file\\EEG_process\\SE_train_processed\\Z杜娇20220325（未发作）_bias_16.fif\n",
      "[done]\n",
      "../SE_train_processed/Z杜娇20220325（未发作）_bias_24.fif\n",
      "Opening raw data file ../SE_train\\Z杜娇20220325（未发作）_bias_24.fif...\n",
      "Isotrak not found\n",
      "    Range : 117417 ... 133801 =    114.665 ...   130.665 secs\n",
      "Ready.\n",
      "data_256.shape (15, 2048)\n",
      "data_256_samples.shape (15, 4, 512)\n",
      "data_sta.shape (15, 4, 512)\n",
      "data_x.shape: (60, 512, 1)\n"
     ]
    },
    {
     "name": "stderr",
     "output_type": "stream",
     "text": [
      "<ipython-input-4-d8650b052227>:74: RuntimeWarning: This filename (E:\\jupyter file\\EEG_process\\SE_train_processed\\Z杜娇20220325（未发作）_bias_16.fif) does not conform to MNE naming conventions. All raw files should end with raw.fif, raw_sss.fif, raw_tsss.fif, _meg.fif, _eeg.fif, _ieeg.fif, raw.fif.gz, raw_sss.fif.gz, raw_tsss.fif.gz, _meg.fif.gz, _eeg.fif.gz or _ieeg.fif.gz\n",
      "  custom_raw.save(save_path,overwrite=True)\n",
      "<ipython-input-4-d8650b052227>:2: RuntimeWarning: This filename (../SE_train\\Z杜娇20220325（未发作）_bias_24.fif) does not conform to MNE naming conventions. All raw files should end with raw.fif, raw_sss.fif, raw_tsss.fif, _meg.fif, _eeg.fif, _ieeg.fif, raw.fif.gz, raw_sss.fif.gz, raw_tsss.fif.gz, _meg.fif.gz, _eeg.fif.gz or _ieeg.fif.gz\n",
      "  raw = read_raw_fif(file_path)\n"
     ]
    },
    {
     "name": "stdout",
     "output_type": "stream",
     "text": [
      "pred_channel.shape (15, 2048)\n",
      "Creating RawArray with float64 data, n_channels=15, n_times=2048\n",
      "    Range : 0 ... 2047 =      0.000 ...     7.996 secs\n",
      "Ready.\n",
      "Writing E:\\jupyter file\\EEG_process\\SE_train_processed\\Z杜娇20220325（未发作）_bias_24.fif\n",
      "Closing E:\\jupyter file\\EEG_process\\SE_train_processed\\Z杜娇20220325（未发作）_bias_24.fif\n",
      "[done]\n",
      "../SE_train_processed/Z杜娇20220325（未发作）_bias_32.fif\n",
      "Opening raw data file ../SE_train\\Z杜娇20220325（未发作）_bias_32.fif...\n",
      "Isotrak not found\n",
      "    Range : 125609 ... 141993 =    122.665 ...   138.665 secs\n",
      "Ready.\n",
      "data_256.shape (15, 2048)\n",
      "data_256_samples.shape (15, 4, 512)\n",
      "data_sta.shape (15, 4, 512)\n",
      "data_x.shape: (60, 512, 1)\n"
     ]
    },
    {
     "name": "stderr",
     "output_type": "stream",
     "text": [
      "<ipython-input-4-d8650b052227>:74: RuntimeWarning: This filename (E:\\jupyter file\\EEG_process\\SE_train_processed\\Z杜娇20220325（未发作）_bias_24.fif) does not conform to MNE naming conventions. All raw files should end with raw.fif, raw_sss.fif, raw_tsss.fif, _meg.fif, _eeg.fif, _ieeg.fif, raw.fif.gz, raw_sss.fif.gz, raw_tsss.fif.gz, _meg.fif.gz, _eeg.fif.gz or _ieeg.fif.gz\n",
      "  custom_raw.save(save_path,overwrite=True)\n",
      "<ipython-input-4-d8650b052227>:2: RuntimeWarning: This filename (../SE_train\\Z杜娇20220325（未发作）_bias_32.fif) does not conform to MNE naming conventions. All raw files should end with raw.fif, raw_sss.fif, raw_tsss.fif, _meg.fif, _eeg.fif, _ieeg.fif, raw.fif.gz, raw_sss.fif.gz, raw_tsss.fif.gz, _meg.fif.gz, _eeg.fif.gz or _ieeg.fif.gz\n",
      "  raw = read_raw_fif(file_path)\n"
     ]
    },
    {
     "name": "stdout",
     "output_type": "stream",
     "text": [
      "pred_channel.shape (15, 2048)\n",
      "Creating RawArray with float64 data, n_channels=15, n_times=2048\n",
      "    Range : 0 ... 2047 =      0.000 ...     7.996 secs\n",
      "Ready.\n",
      "Writing E:\\jupyter file\\EEG_process\\SE_train_processed\\Z杜娇20220325（未发作）_bias_32.fif\n",
      "Closing E:\\jupyter file\\EEG_process\\SE_train_processed\\Z杜娇20220325（未发作）_bias_32.fif\n",
      "[done]\n",
      "../SE_train_processed/Z杜娇20220325（未发作）_bias_40.fif\n",
      "Opening raw data file ../SE_train\\Z杜娇20220325（未发作）_bias_40.fif...\n",
      "Isotrak not found\n",
      "    Range : 133801 ... 150185 =    130.665 ...   146.665 secs\n",
      "Ready.\n",
      "data_256.shape (15, 2048)\n",
      "data_256_samples.shape (15, 4, 512)\n",
      "data_sta.shape (15, 4, 512)\n",
      "data_x.shape: (60, 512, 1)\n"
     ]
    },
    {
     "name": "stderr",
     "output_type": "stream",
     "text": [
      "<ipython-input-4-d8650b052227>:74: RuntimeWarning: This filename (E:\\jupyter file\\EEG_process\\SE_train_processed\\Z杜娇20220325（未发作）_bias_32.fif) does not conform to MNE naming conventions. All raw files should end with raw.fif, raw_sss.fif, raw_tsss.fif, _meg.fif, _eeg.fif, _ieeg.fif, raw.fif.gz, raw_sss.fif.gz, raw_tsss.fif.gz, _meg.fif.gz, _eeg.fif.gz or _ieeg.fif.gz\n",
      "  custom_raw.save(save_path,overwrite=True)\n",
      "<ipython-input-4-d8650b052227>:2: RuntimeWarning: This filename (../SE_train\\Z杜娇20220325（未发作）_bias_40.fif) does not conform to MNE naming conventions. All raw files should end with raw.fif, raw_sss.fif, raw_tsss.fif, _meg.fif, _eeg.fif, _ieeg.fif, raw.fif.gz, raw_sss.fif.gz, raw_tsss.fif.gz, _meg.fif.gz, _eeg.fif.gz or _ieeg.fif.gz\n",
      "  raw = read_raw_fif(file_path)\n"
     ]
    },
    {
     "name": "stdout",
     "output_type": "stream",
     "text": [
      "pred_channel.shape (15, 2048)\n",
      "Creating RawArray with float64 data, n_channels=15, n_times=2048\n",
      "    Range : 0 ... 2047 =      0.000 ...     7.996 secs\n",
      "Ready.\n",
      "Writing E:\\jupyter file\\EEG_process\\SE_train_processed\\Z杜娇20220325（未发作）_bias_40.fif\n",
      "Closing E:\\jupyter file\\EEG_process\\SE_train_processed\\Z杜娇20220325（未发作）_bias_40.fif\n",
      "[done]\n",
      "../SE_train_processed/Z杜娇20220325（未发作）_bias_8.fif\n",
      "Opening raw data file ../SE_train\\Z杜娇20220325（未发作）_bias_8.fif...\n",
      "Isotrak not found\n",
      "    Range : 101033 ... 117417 =     98.665 ...   114.665 secs\n",
      "Ready.\n",
      "data_256.shape (15, 2048)\n",
      "data_256_samples.shape (15, 4, 512)\n",
      "data_sta.shape (15, 4, 512)\n",
      "data_x.shape: (60, 512, 1)\n"
     ]
    },
    {
     "name": "stderr",
     "output_type": "stream",
     "text": [
      "<ipython-input-4-d8650b052227>:74: RuntimeWarning: This filename (E:\\jupyter file\\EEG_process\\SE_train_processed\\Z杜娇20220325（未发作）_bias_40.fif) does not conform to MNE naming conventions. All raw files should end with raw.fif, raw_sss.fif, raw_tsss.fif, _meg.fif, _eeg.fif, _ieeg.fif, raw.fif.gz, raw_sss.fif.gz, raw_tsss.fif.gz, _meg.fif.gz, _eeg.fif.gz or _ieeg.fif.gz\n",
      "  custom_raw.save(save_path,overwrite=True)\n",
      "<ipython-input-4-d8650b052227>:2: RuntimeWarning: This filename (../SE_train\\Z杜娇20220325（未发作）_bias_8.fif) does not conform to MNE naming conventions. All raw files should end with raw.fif, raw_sss.fif, raw_tsss.fif, _meg.fif, _eeg.fif, _ieeg.fif, raw.fif.gz, raw_sss.fif.gz, raw_tsss.fif.gz, _meg.fif.gz, _eeg.fif.gz or _ieeg.fif.gz\n",
      "  raw = read_raw_fif(file_path)\n"
     ]
    },
    {
     "name": "stdout",
     "output_type": "stream",
     "text": [
      "pred_channel.shape (15, 2048)\n",
      "Creating RawArray with float64 data, n_channels=15, n_times=2048\n",
      "    Range : 0 ... 2047 =      0.000 ...     7.996 secs\n",
      "Ready.\n",
      "Writing E:\\jupyter file\\EEG_process\\SE_train_processed\\Z杜娇20220325（未发作）_bias_8.fif\n",
      "Closing E:\\jupyter file\\EEG_process\\SE_train_processed\\Z杜娇20220325（未发作）_bias_8.fif\n",
      "[done]\n",
      "../SE_train_processed/Z林子幸20220411_bias_0.fif\n",
      "Opening raw data file ../SE_train\\Z林子幸20220411_bias_0.fif...\n",
      "Isotrak not found\n",
      "    Range : 38425 ... 46617 =     37.524 ...    45.524 secs\n",
      "Ready.\n",
      "data_256.shape (15, 2048)\n",
      "data_256_samples.shape (15, 4, 512)\n",
      "data_sta.shape (15, 4, 512)\n",
      "data_x.shape: (60, 512, 1)\n"
     ]
    },
    {
     "name": "stderr",
     "output_type": "stream",
     "text": [
      "<ipython-input-4-d8650b052227>:74: RuntimeWarning: This filename (E:\\jupyter file\\EEG_process\\SE_train_processed\\Z杜娇20220325（未发作）_bias_8.fif) does not conform to MNE naming conventions. All raw files should end with raw.fif, raw_sss.fif, raw_tsss.fif, _meg.fif, _eeg.fif, _ieeg.fif, raw.fif.gz, raw_sss.fif.gz, raw_tsss.fif.gz, _meg.fif.gz, _eeg.fif.gz or _ieeg.fif.gz\n",
      "  custom_raw.save(save_path,overwrite=True)\n",
      "<ipython-input-4-d8650b052227>:2: RuntimeWarning: This filename (../SE_train\\Z林子幸20220411_bias_0.fif) does not conform to MNE naming conventions. All raw files should end with raw.fif, raw_sss.fif, raw_tsss.fif, _meg.fif, _eeg.fif, _ieeg.fif, raw.fif.gz, raw_sss.fif.gz, raw_tsss.fif.gz, _meg.fif.gz, _eeg.fif.gz or _ieeg.fif.gz\n",
      "  raw = read_raw_fif(file_path)\n"
     ]
    },
    {
     "name": "stdout",
     "output_type": "stream",
     "text": [
      "pred_channel.shape (15, 2048)\n",
      "Creating RawArray with float64 data, n_channels=15, n_times=2048\n",
      "    Range : 0 ... 2047 =      0.000 ...     7.996 secs\n",
      "Ready.\n",
      "Writing E:\\jupyter file\\EEG_process\\SE_train_processed\\Z林子幸20220411_bias_0.fif\n",
      "Closing E:\\jupyter file\\EEG_process\\SE_train_processed\\Z林子幸20220411_bias_0.fif\n",
      "[done]\n",
      "../SE_train_processed/Z林子幸20220415_bias_0.fif\n",
      "Opening raw data file ../SE_train\\Z林子幸20220415_bias_0.fif...\n",
      "Isotrak not found\n",
      "    Range : 20501 ... 28693 =     20.021 ...    28.021 secs\n",
      "Ready.\n",
      "data_256.shape (15, 2048)\n",
      "data_256_samples.shape (15, 4, 512)\n",
      "data_sta.shape (15, 4, 512)\n",
      "data_x.shape: (60, 512, 1)\n"
     ]
    },
    {
     "name": "stderr",
     "output_type": "stream",
     "text": [
      "<ipython-input-4-d8650b052227>:74: RuntimeWarning: This filename (E:\\jupyter file\\EEG_process\\SE_train_processed\\Z林子幸20220411_bias_0.fif) does not conform to MNE naming conventions. All raw files should end with raw.fif, raw_sss.fif, raw_tsss.fif, _meg.fif, _eeg.fif, _ieeg.fif, raw.fif.gz, raw_sss.fif.gz, raw_tsss.fif.gz, _meg.fif.gz, _eeg.fif.gz or _ieeg.fif.gz\n",
      "  custom_raw.save(save_path,overwrite=True)\n",
      "<ipython-input-4-d8650b052227>:2: RuntimeWarning: This filename (../SE_train\\Z林子幸20220415_bias_0.fif) does not conform to MNE naming conventions. All raw files should end with raw.fif, raw_sss.fif, raw_tsss.fif, _meg.fif, _eeg.fif, _ieeg.fif, raw.fif.gz, raw_sss.fif.gz, raw_tsss.fif.gz, _meg.fif.gz, _eeg.fif.gz or _ieeg.fif.gz\n",
      "  raw = read_raw_fif(file_path)\n"
     ]
    },
    {
     "name": "stdout",
     "output_type": "stream",
     "text": [
      "pred_channel.shape (15, 2048)\n",
      "Creating RawArray with float64 data, n_channels=15, n_times=2048\n",
      "    Range : 0 ... 2047 =      0.000 ...     7.996 secs\n",
      "Ready.\n",
      "Writing E:\\jupyter file\\EEG_process\\SE_train_processed\\Z林子幸20220415_bias_0.fif\n",
      "Closing E:\\jupyter file\\EEG_process\\SE_train_processed\\Z林子幸20220415_bias_0.fif\n",
      "[done]\n",
      "../SE_train_processed/Z林子幸20220420_bias_0.fif\n",
      "Opening raw data file ../SE_train\\Z林子幸20220420_bias_0.fif...\n",
      "Isotrak not found\n",
      "    Range : 4174 ... 12366 =      4.076 ...    12.076 secs\n",
      "Ready.\n",
      "data_256.shape (15, 2048)\n",
      "data_256_samples.shape (15, 4, 512)\n",
      "data_sta.shape (15, 4, 512)\n",
      "data_x.shape: (60, 512, 1)\n"
     ]
    },
    {
     "name": "stderr",
     "output_type": "stream",
     "text": [
      "<ipython-input-4-d8650b052227>:74: RuntimeWarning: This filename (E:\\jupyter file\\EEG_process\\SE_train_processed\\Z林子幸20220415_bias_0.fif) does not conform to MNE naming conventions. All raw files should end with raw.fif, raw_sss.fif, raw_tsss.fif, _meg.fif, _eeg.fif, _ieeg.fif, raw.fif.gz, raw_sss.fif.gz, raw_tsss.fif.gz, _meg.fif.gz, _eeg.fif.gz or _ieeg.fif.gz\n",
      "  custom_raw.save(save_path,overwrite=True)\n",
      "<ipython-input-4-d8650b052227>:2: RuntimeWarning: This filename (../SE_train\\Z林子幸20220420_bias_0.fif) does not conform to MNE naming conventions. All raw files should end with raw.fif, raw_sss.fif, raw_tsss.fif, _meg.fif, _eeg.fif, _ieeg.fif, raw.fif.gz, raw_sss.fif.gz, raw_tsss.fif.gz, _meg.fif.gz, _eeg.fif.gz or _ieeg.fif.gz\n",
      "  raw = read_raw_fif(file_path)\n"
     ]
    },
    {
     "name": "stdout",
     "output_type": "stream",
     "text": [
      "pred_channel.shape (15, 2048)\n",
      "Creating RawArray with float64 data, n_channels=15, n_times=2048\n",
      "    Range : 0 ... 2047 =      0.000 ...     7.996 secs\n",
      "Ready.\n",
      "Writing E:\\jupyter file\\EEG_process\\SE_train_processed\\Z林子幸20220420_bias_0.fif\n",
      "Closing E:\\jupyter file\\EEG_process\\SE_train_processed\\Z林子幸20220420_bias_0.fif\n",
      "[done]\n",
      "../SE_train_processed/Z林子幸20220422_bias_0.fif\n",
      "Opening raw data file ../SE_train\\Z林子幸20220422_bias_0.fif...\n",
      "Isotrak not found\n",
      "    Range : 50857 ... 59049 =     49.665 ...    57.665 secs\n",
      "Ready.\n",
      "data_256.shape (15, 2048)\n",
      "data_256_samples.shape (15, 4, 512)\n",
      "data_sta.shape (15, 4, 512)\n",
      "data_x.shape: (60, 512, 1)\n"
     ]
    },
    {
     "name": "stderr",
     "output_type": "stream",
     "text": [
      "<ipython-input-4-d8650b052227>:74: RuntimeWarning: This filename (E:\\jupyter file\\EEG_process\\SE_train_processed\\Z林子幸20220420_bias_0.fif) does not conform to MNE naming conventions. All raw files should end with raw.fif, raw_sss.fif, raw_tsss.fif, _meg.fif, _eeg.fif, _ieeg.fif, raw.fif.gz, raw_sss.fif.gz, raw_tsss.fif.gz, _meg.fif.gz, _eeg.fif.gz or _ieeg.fif.gz\n",
      "  custom_raw.save(save_path,overwrite=True)\n",
      "<ipython-input-4-d8650b052227>:2: RuntimeWarning: This filename (../SE_train\\Z林子幸20220422_bias_0.fif) does not conform to MNE naming conventions. All raw files should end with raw.fif, raw_sss.fif, raw_tsss.fif, _meg.fif, _eeg.fif, _ieeg.fif, raw.fif.gz, raw_sss.fif.gz, raw_tsss.fif.gz, _meg.fif.gz, _eeg.fif.gz or _ieeg.fif.gz\n",
      "  raw = read_raw_fif(file_path)\n"
     ]
    },
    {
     "name": "stdout",
     "output_type": "stream",
     "text": [
      "pred_channel.shape (15, 2048)\n",
      "Creating RawArray with float64 data, n_channels=15, n_times=2048\n",
      "    Range : 0 ... 2047 =      0.000 ...     7.996 secs\n",
      "Ready.\n",
      "Writing E:\\jupyter file\\EEG_process\\SE_train_processed\\Z林子幸20220422_bias_0.fif\n",
      "Closing E:\\jupyter file\\EEG_process\\SE_train_processed\\Z林子幸20220422_bias_0.fif\n",
      "[done]\n",
      "../SE_train_processed/Z沈伟20220311_bias_0.fif\n",
      "Opening raw data file ../SE_train\\Z沈伟20220311_bias_0.fif...\n",
      "Isotrak not found\n",
      "    Range : 331231 ... 339423 =    323.468 ...   331.468 secs\n",
      "Ready.\n",
      "data_256.shape (15, 2048)\n",
      "data_256_samples.shape (15, 4, 512)\n",
      "data_sta.shape (15, 4, 512)\n",
      "data_x.shape: (60, 512, 1)\n"
     ]
    },
    {
     "name": "stderr",
     "output_type": "stream",
     "text": [
      "<ipython-input-4-d8650b052227>:74: RuntimeWarning: This filename (E:\\jupyter file\\EEG_process\\SE_train_processed\\Z林子幸20220422_bias_0.fif) does not conform to MNE naming conventions. All raw files should end with raw.fif, raw_sss.fif, raw_tsss.fif, _meg.fif, _eeg.fif, _ieeg.fif, raw.fif.gz, raw_sss.fif.gz, raw_tsss.fif.gz, _meg.fif.gz, _eeg.fif.gz or _ieeg.fif.gz\n",
      "  custom_raw.save(save_path,overwrite=True)\n",
      "<ipython-input-4-d8650b052227>:2: RuntimeWarning: This filename (../SE_train\\Z沈伟20220311_bias_0.fif) does not conform to MNE naming conventions. All raw files should end with raw.fif, raw_sss.fif, raw_tsss.fif, _meg.fif, _eeg.fif, _ieeg.fif, raw.fif.gz, raw_sss.fif.gz, raw_tsss.fif.gz, _meg.fif.gz, _eeg.fif.gz or _ieeg.fif.gz\n",
      "  raw = read_raw_fif(file_path)\n"
     ]
    },
    {
     "name": "stdout",
     "output_type": "stream",
     "text": [
      "pred_channel.shape (15, 2048)\n",
      "Creating RawArray with float64 data, n_channels=15, n_times=2048\n",
      "    Range : 0 ... 2047 =      0.000 ...     7.996 secs\n",
      "Ready.\n",
      "Writing E:\\jupyter file\\EEG_process\\SE_train_processed\\Z沈伟20220311_bias_0.fif\n",
      "Closing E:\\jupyter file\\EEG_process\\SE_train_processed\\Z沈伟20220311_bias_0.fif\n",
      "[done]\n",
      "../SE_train_processed/Z沈伟20220314（未发作）_bias_0.fif\n",
      "Opening raw data file ../SE_train\\Z沈伟20220314（未发作）_bias_0.fif...\n",
      "Isotrak not found\n",
      "    Range : 51179 ... 59371 =     49.979 ...    57.979 secs\n",
      "Ready.\n",
      "data_256.shape (15, 2048)\n",
      "data_256_samples.shape (15, 4, 512)\n",
      "data_sta.shape (15, 4, 512)\n",
      "data_x.shape: (60, 512, 1)\n"
     ]
    },
    {
     "name": "stderr",
     "output_type": "stream",
     "text": [
      "<ipython-input-4-d8650b052227>:74: RuntimeWarning: This filename (E:\\jupyter file\\EEG_process\\SE_train_processed\\Z沈伟20220311_bias_0.fif) does not conform to MNE naming conventions. All raw files should end with raw.fif, raw_sss.fif, raw_tsss.fif, _meg.fif, _eeg.fif, _ieeg.fif, raw.fif.gz, raw_sss.fif.gz, raw_tsss.fif.gz, _meg.fif.gz, _eeg.fif.gz or _ieeg.fif.gz\n",
      "  custom_raw.save(save_path,overwrite=True)\n",
      "<ipython-input-4-d8650b052227>:2: RuntimeWarning: This filename (../SE_train\\Z沈伟20220314（未发作）_bias_0.fif) does not conform to MNE naming conventions. All raw files should end with raw.fif, raw_sss.fif, raw_tsss.fif, _meg.fif, _eeg.fif, _ieeg.fif, raw.fif.gz, raw_sss.fif.gz, raw_tsss.fif.gz, _meg.fif.gz, _eeg.fif.gz or _ieeg.fif.gz\n",
      "  raw = read_raw_fif(file_path)\n"
     ]
    },
    {
     "name": "stdout",
     "output_type": "stream",
     "text": [
      "pred_channel.shape (15, 2048)\n",
      "Creating RawArray with float64 data, n_channels=15, n_times=2048\n",
      "    Range : 0 ... 2047 =      0.000 ...     7.996 secs\n",
      "Ready.\n",
      "Writing E:\\jupyter file\\EEG_process\\SE_train_processed\\Z沈伟20220314（未发作）_bias_0.fif\n",
      "Closing E:\\jupyter file\\EEG_process\\SE_train_processed\\Z沈伟20220314（未发作）_bias_0.fif\n",
      "[done]\n",
      "../SE_train_processed/Z沈伟20220314（未发作）_bias_16.fif\n",
      "Opening raw data file ../SE_train\\Z沈伟20220314（未发作）_bias_16.fif...\n",
      "Isotrak not found\n",
      "    Range : 67563 ... 83947 =     65.979 ...    81.979 secs\n",
      "Ready.\n",
      "data_256.shape (15, 2048)\n",
      "data_256_samples.shape (15, 4, 512)\n",
      "data_sta.shape (15, 4, 512)\n",
      "data_x.shape: (60, 512, 1)\n"
     ]
    },
    {
     "name": "stderr",
     "output_type": "stream",
     "text": [
      "<ipython-input-4-d8650b052227>:74: RuntimeWarning: This filename (E:\\jupyter file\\EEG_process\\SE_train_processed\\Z沈伟20220314（未发作）_bias_0.fif) does not conform to MNE naming conventions. All raw files should end with raw.fif, raw_sss.fif, raw_tsss.fif, _meg.fif, _eeg.fif, _ieeg.fif, raw.fif.gz, raw_sss.fif.gz, raw_tsss.fif.gz, _meg.fif.gz, _eeg.fif.gz or _ieeg.fif.gz\n",
      "  custom_raw.save(save_path,overwrite=True)\n",
      "<ipython-input-4-d8650b052227>:2: RuntimeWarning: This filename (../SE_train\\Z沈伟20220314（未发作）_bias_16.fif) does not conform to MNE naming conventions. All raw files should end with raw.fif, raw_sss.fif, raw_tsss.fif, _meg.fif, _eeg.fif, _ieeg.fif, raw.fif.gz, raw_sss.fif.gz, raw_tsss.fif.gz, _meg.fif.gz, _eeg.fif.gz or _ieeg.fif.gz\n",
      "  raw = read_raw_fif(file_path)\n"
     ]
    },
    {
     "name": "stdout",
     "output_type": "stream",
     "text": [
      "pred_channel.shape (15, 2048)\n",
      "Creating RawArray with float64 data, n_channels=15, n_times=2048\n",
      "    Range : 0 ... 2047 =      0.000 ...     7.996 secs\n",
      "Ready.\n",
      "Writing E:\\jupyter file\\EEG_process\\SE_train_processed\\Z沈伟20220314（未发作）_bias_16.fif\n",
      "Closing E:\\jupyter file\\EEG_process\\SE_train_processed\\Z沈伟20220314（未发作）_bias_16.fif\n",
      "[done]\n",
      "../SE_train_processed/Z沈伟20220314（未发作）_bias_24.fif\n",
      "Opening raw data file ../SE_train\\Z沈伟20220314（未发作）_bias_24.fif...\n",
      "Isotrak not found\n",
      "    Range : 75755 ... 92139 =     73.979 ...    89.979 secs\n",
      "Ready.\n",
      "data_256.shape (15, 2048)\n",
      "data_256_samples.shape (15, 4, 512)\n",
      "data_sta.shape (15, 4, 512)\n",
      "data_x.shape: (60, 512, 1)\n"
     ]
    },
    {
     "name": "stderr",
     "output_type": "stream",
     "text": [
      "<ipython-input-4-d8650b052227>:74: RuntimeWarning: This filename (E:\\jupyter file\\EEG_process\\SE_train_processed\\Z沈伟20220314（未发作）_bias_16.fif) does not conform to MNE naming conventions. All raw files should end with raw.fif, raw_sss.fif, raw_tsss.fif, _meg.fif, _eeg.fif, _ieeg.fif, raw.fif.gz, raw_sss.fif.gz, raw_tsss.fif.gz, _meg.fif.gz, _eeg.fif.gz or _ieeg.fif.gz\n",
      "  custom_raw.save(save_path,overwrite=True)\n",
      "<ipython-input-4-d8650b052227>:2: RuntimeWarning: This filename (../SE_train\\Z沈伟20220314（未发作）_bias_24.fif) does not conform to MNE naming conventions. All raw files should end with raw.fif, raw_sss.fif, raw_tsss.fif, _meg.fif, _eeg.fif, _ieeg.fif, raw.fif.gz, raw_sss.fif.gz, raw_tsss.fif.gz, _meg.fif.gz, _eeg.fif.gz or _ieeg.fif.gz\n",
      "  raw = read_raw_fif(file_path)\n"
     ]
    },
    {
     "name": "stdout",
     "output_type": "stream",
     "text": [
      "pred_channel.shape (15, 2048)\n",
      "Creating RawArray with float64 data, n_channels=15, n_times=2048\n",
      "    Range : 0 ... 2047 =      0.000 ...     7.996 secs\n",
      "Ready.\n",
      "Writing E:\\jupyter file\\EEG_process\\SE_train_processed\\Z沈伟20220314（未发作）_bias_24.fif\n",
      "Closing E:\\jupyter file\\EEG_process\\SE_train_processed\\Z沈伟20220314（未发作）_bias_24.fif\n",
      "[done]\n",
      "../SE_train_processed/Z沈伟20220314（未发作）_bias_32.fif\n",
      "Opening raw data file ../SE_train\\Z沈伟20220314（未发作）_bias_32.fif...\n",
      "Isotrak not found\n",
      "    Range : 83947 ... 100331 =     81.979 ...    97.979 secs\n",
      "Ready.\n",
      "data_256.shape (15, 2048)\n",
      "data_256_samples.shape (15, 4, 512)\n",
      "data_sta.shape (15, 4, 512)\n",
      "data_x.shape: (60, 512, 1)\n"
     ]
    },
    {
     "name": "stderr",
     "output_type": "stream",
     "text": [
      "<ipython-input-4-d8650b052227>:74: RuntimeWarning: This filename (E:\\jupyter file\\EEG_process\\SE_train_processed\\Z沈伟20220314（未发作）_bias_24.fif) does not conform to MNE naming conventions. All raw files should end with raw.fif, raw_sss.fif, raw_tsss.fif, _meg.fif, _eeg.fif, _ieeg.fif, raw.fif.gz, raw_sss.fif.gz, raw_tsss.fif.gz, _meg.fif.gz, _eeg.fif.gz or _ieeg.fif.gz\n",
      "  custom_raw.save(save_path,overwrite=True)\n",
      "<ipython-input-4-d8650b052227>:2: RuntimeWarning: This filename (../SE_train\\Z沈伟20220314（未发作）_bias_32.fif) does not conform to MNE naming conventions. All raw files should end with raw.fif, raw_sss.fif, raw_tsss.fif, _meg.fif, _eeg.fif, _ieeg.fif, raw.fif.gz, raw_sss.fif.gz, raw_tsss.fif.gz, _meg.fif.gz, _eeg.fif.gz or _ieeg.fif.gz\n",
      "  raw = read_raw_fif(file_path)\n"
     ]
    },
    {
     "name": "stdout",
     "output_type": "stream",
     "text": [
      "pred_channel.shape (15, 2048)\n",
      "Creating RawArray with float64 data, n_channels=15, n_times=2048\n",
      "    Range : 0 ... 2047 =      0.000 ...     7.996 secs\n",
      "Ready.\n",
      "Writing E:\\jupyter file\\EEG_process\\SE_train_processed\\Z沈伟20220314（未发作）_bias_32.fif\n",
      "Closing E:\\jupyter file\\EEG_process\\SE_train_processed\\Z沈伟20220314（未发作）_bias_32.fif\n",
      "[done]\n",
      "../SE_train_processed/Z沈伟20220314（未发作）_bias_40.fif\n",
      "Opening raw data file ../SE_train\\Z沈伟20220314（未发作）_bias_40.fif...\n",
      "Isotrak not found\n",
      "    Range : 92139 ... 108523 =     89.979 ...   105.979 secs\n",
      "Ready.\n",
      "data_256.shape (15, 2048)\n",
      "data_256_samples.shape (15, 4, 512)\n",
      "data_sta.shape (15, 4, 512)\n",
      "data_x.shape: (60, 512, 1)\n"
     ]
    },
    {
     "name": "stderr",
     "output_type": "stream",
     "text": [
      "<ipython-input-4-d8650b052227>:74: RuntimeWarning: This filename (E:\\jupyter file\\EEG_process\\SE_train_processed\\Z沈伟20220314（未发作）_bias_32.fif) does not conform to MNE naming conventions. All raw files should end with raw.fif, raw_sss.fif, raw_tsss.fif, _meg.fif, _eeg.fif, _ieeg.fif, raw.fif.gz, raw_sss.fif.gz, raw_tsss.fif.gz, _meg.fif.gz, _eeg.fif.gz or _ieeg.fif.gz\n",
      "  custom_raw.save(save_path,overwrite=True)\n",
      "<ipython-input-4-d8650b052227>:2: RuntimeWarning: This filename (../SE_train\\Z沈伟20220314（未发作）_bias_40.fif) does not conform to MNE naming conventions. All raw files should end with raw.fif, raw_sss.fif, raw_tsss.fif, _meg.fif, _eeg.fif, _ieeg.fif, raw.fif.gz, raw_sss.fif.gz, raw_tsss.fif.gz, _meg.fif.gz, _eeg.fif.gz or _ieeg.fif.gz\n",
      "  raw = read_raw_fif(file_path)\n"
     ]
    },
    {
     "name": "stdout",
     "output_type": "stream",
     "text": [
      "pred_channel.shape (15, 2048)\n",
      "Creating RawArray with float64 data, n_channels=15, n_times=2048\n",
      "    Range : 0 ... 2047 =      0.000 ...     7.996 secs\n",
      "Ready.\n",
      "Writing E:\\jupyter file\\EEG_process\\SE_train_processed\\Z沈伟20220314（未发作）_bias_40.fif\n",
      "Closing E:\\jupyter file\\EEG_process\\SE_train_processed\\Z沈伟20220314（未发作）_bias_40.fif\n",
      "[done]\n",
      "../SE_train_processed/Z沈伟20220314（未发作）_bias_8.fif\n",
      "Opening raw data file ../SE_train\\Z沈伟20220314（未发作）_bias_8.fif...\n",
      "Isotrak not found\n",
      "    Range : 59371 ... 75755 =     57.979 ...    73.979 secs\n",
      "Ready.\n",
      "data_256.shape (15, 2048)\n",
      "data_256_samples.shape (15, 4, 512)\n",
      "data_sta.shape (15, 4, 512)\n",
      "data_x.shape: (60, 512, 1)\n"
     ]
    },
    {
     "name": "stderr",
     "output_type": "stream",
     "text": [
      "<ipython-input-4-d8650b052227>:74: RuntimeWarning: This filename (E:\\jupyter file\\EEG_process\\SE_train_processed\\Z沈伟20220314（未发作）_bias_40.fif) does not conform to MNE naming conventions. All raw files should end with raw.fif, raw_sss.fif, raw_tsss.fif, _meg.fif, _eeg.fif, _ieeg.fif, raw.fif.gz, raw_sss.fif.gz, raw_tsss.fif.gz, _meg.fif.gz, _eeg.fif.gz or _ieeg.fif.gz\n",
      "  custom_raw.save(save_path,overwrite=True)\n",
      "<ipython-input-4-d8650b052227>:2: RuntimeWarning: This filename (../SE_train\\Z沈伟20220314（未发作）_bias_8.fif) does not conform to MNE naming conventions. All raw files should end with raw.fif, raw_sss.fif, raw_tsss.fif, _meg.fif, _eeg.fif, _ieeg.fif, raw.fif.gz, raw_sss.fif.gz, raw_tsss.fif.gz, _meg.fif.gz, _eeg.fif.gz or _ieeg.fif.gz\n",
      "  raw = read_raw_fif(file_path)\n"
     ]
    },
    {
     "name": "stdout",
     "output_type": "stream",
     "text": [
      "pred_channel.shape (15, 2048)\n",
      "Creating RawArray with float64 data, n_channels=15, n_times=2048\n",
      "    Range : 0 ... 2047 =      0.000 ...     7.996 secs\n",
      "Ready.\n",
      "Writing E:\\jupyter file\\EEG_process\\SE_train_processed\\Z沈伟20220314（未发作）_bias_8.fif\n",
      "Closing E:\\jupyter file\\EEG_process\\SE_train_processed\\Z沈伟20220314（未发作）_bias_8.fif\n",
      "[done]\n",
      "../SE_train_processed/Z沈伟20220316_bias_0.fif\n",
      "Opening raw data file ../SE_train\\Z沈伟20220316_bias_0.fif...\n",
      "Isotrak not found\n",
      "    Range : 156928 ... 165120 =    153.250 ...   161.250 secs\n",
      "Ready.\n",
      "data_256.shape (15, 2048)\n",
      "data_256_samples.shape (15, 4, 512)\n",
      "data_sta.shape (15, 4, 512)\n",
      "data_x.shape: (60, 512, 1)\n"
     ]
    },
    {
     "name": "stderr",
     "output_type": "stream",
     "text": [
      "<ipython-input-4-d8650b052227>:74: RuntimeWarning: This filename (E:\\jupyter file\\EEG_process\\SE_train_processed\\Z沈伟20220314（未发作）_bias_8.fif) does not conform to MNE naming conventions. All raw files should end with raw.fif, raw_sss.fif, raw_tsss.fif, _meg.fif, _eeg.fif, _ieeg.fif, raw.fif.gz, raw_sss.fif.gz, raw_tsss.fif.gz, _meg.fif.gz, _eeg.fif.gz or _ieeg.fif.gz\n",
      "  custom_raw.save(save_path,overwrite=True)\n",
      "<ipython-input-4-d8650b052227>:2: RuntimeWarning: This filename (../SE_train\\Z沈伟20220316_bias_0.fif) does not conform to MNE naming conventions. All raw files should end with raw.fif, raw_sss.fif, raw_tsss.fif, _meg.fif, _eeg.fif, _ieeg.fif, raw.fif.gz, raw_sss.fif.gz, raw_tsss.fif.gz, _meg.fif.gz, _eeg.fif.gz or _ieeg.fif.gz\n",
      "  raw = read_raw_fif(file_path)\n"
     ]
    },
    {
     "name": "stdout",
     "output_type": "stream",
     "text": [
      "pred_channel.shape (15, 2048)\n",
      "Creating RawArray with float64 data, n_channels=15, n_times=2048\n",
      "    Range : 0 ... 2047 =      0.000 ...     7.996 secs\n",
      "Ready.\n",
      "Writing E:\\jupyter file\\EEG_process\\SE_train_processed\\Z沈伟20220316_bias_0.fif\n",
      "Closing E:\\jupyter file\\EEG_process\\SE_train_processed\\Z沈伟20220316_bias_0.fif\n",
      "[done]\n",
      "../SE_train_processed/Z沈伟20220318_bias_0.fif\n",
      "Opening raw data file ../SE_train\\Z沈伟20220318_bias_0.fif...\n",
      "Isotrak not found\n",
      "    Range : 50914 ... 59106 =     49.721 ...    57.721 secs\n",
      "Ready.\n",
      "data_256.shape (15, 2048)\n",
      "data_256_samples.shape (15, 4, 512)\n",
      "data_sta.shape (15, 4, 512)\n",
      "data_x.shape: (60, 512, 1)\n"
     ]
    },
    {
     "name": "stderr",
     "output_type": "stream",
     "text": [
      "<ipython-input-4-d8650b052227>:74: RuntimeWarning: This filename (E:\\jupyter file\\EEG_process\\SE_train_processed\\Z沈伟20220316_bias_0.fif) does not conform to MNE naming conventions. All raw files should end with raw.fif, raw_sss.fif, raw_tsss.fif, _meg.fif, _eeg.fif, _ieeg.fif, raw.fif.gz, raw_sss.fif.gz, raw_tsss.fif.gz, _meg.fif.gz, _eeg.fif.gz or _ieeg.fif.gz\n",
      "  custom_raw.save(save_path,overwrite=True)\n",
      "<ipython-input-4-d8650b052227>:2: RuntimeWarning: This filename (../SE_train\\Z沈伟20220318_bias_0.fif) does not conform to MNE naming conventions. All raw files should end with raw.fif, raw_sss.fif, raw_tsss.fif, _meg.fif, _eeg.fif, _ieeg.fif, raw.fif.gz, raw_sss.fif.gz, raw_tsss.fif.gz, _meg.fif.gz, _eeg.fif.gz or _ieeg.fif.gz\n",
      "  raw = read_raw_fif(file_path)\n"
     ]
    },
    {
     "name": "stdout",
     "output_type": "stream",
     "text": [
      "pred_channel.shape (15, 2048)\n",
      "Creating RawArray with float64 data, n_channels=15, n_times=2048\n",
      "    Range : 0 ... 2047 =      0.000 ...     7.996 secs\n",
      "Ready.\n",
      "Writing E:\\jupyter file\\EEG_process\\SE_train_processed\\Z沈伟20220318_bias_0.fif\n",
      "Closing E:\\jupyter file\\EEG_process\\SE_train_processed\\Z沈伟20220318_bias_0.fif\n",
      "[done]\n",
      "../SE_train_processed/Z沈祺雨20220511_bias_0.fif\n",
      "Opening raw data file ../SE_train\\Z沈祺雨20220511_bias_0.fif...\n",
      "Isotrak not found\n",
      "    Range : 35637 ... 39733 =     69.604 ...    77.604 secs\n",
      "Ready.\n",
      "data_256.shape (15, 2048)\n",
      "data_256_samples.shape (15, 4, 512)\n",
      "data_sta.shape (15, 4, 512)\n",
      "data_x.shape: (60, 512, 1)\n"
     ]
    },
    {
     "name": "stderr",
     "output_type": "stream",
     "text": [
      "<ipython-input-4-d8650b052227>:74: RuntimeWarning: This filename (E:\\jupyter file\\EEG_process\\SE_train_processed\\Z沈伟20220318_bias_0.fif) does not conform to MNE naming conventions. All raw files should end with raw.fif, raw_sss.fif, raw_tsss.fif, _meg.fif, _eeg.fif, _ieeg.fif, raw.fif.gz, raw_sss.fif.gz, raw_tsss.fif.gz, _meg.fif.gz, _eeg.fif.gz or _ieeg.fif.gz\n",
      "  custom_raw.save(save_path,overwrite=True)\n",
      "<ipython-input-4-d8650b052227>:2: RuntimeWarning: This filename (../SE_train\\Z沈祺雨20220511_bias_0.fif) does not conform to MNE naming conventions. All raw files should end with raw.fif, raw_sss.fif, raw_tsss.fif, _meg.fif, _eeg.fif, _ieeg.fif, raw.fif.gz, raw_sss.fif.gz, raw_tsss.fif.gz, _meg.fif.gz, _eeg.fif.gz or _ieeg.fif.gz\n",
      "  raw = read_raw_fif(file_path)\n"
     ]
    },
    {
     "name": "stdout",
     "output_type": "stream",
     "text": [
      "pred_channel.shape (15, 2048)\n",
      "Creating RawArray with float64 data, n_channels=15, n_times=2048\n",
      "    Range : 0 ... 2047 =      0.000 ...     7.996 secs\n",
      "Ready.\n",
      "Writing E:\\jupyter file\\EEG_process\\SE_train_processed\\Z沈祺雨20220511_bias_0.fif\n",
      "Closing E:\\jupyter file\\EEG_process\\SE_train_processed\\Z沈祺雨20220511_bias_0.fif\n",
      "[done]\n",
      "../SE_train_processed/Z沈祺雨20220513_bias_0.fif\n",
      "Opening raw data file ../SE_train\\Z沈祺雨20220513_bias_0.fif...\n",
      "Isotrak not found\n",
      "    Range : 62056 ... 66152 =    121.203 ...   129.203 secs\n",
      "Ready.\n",
      "data_256.shape (15, 2048)\n",
      "data_256_samples.shape (15, 4, 512)\n",
      "data_sta.shape (15, 4, 512)\n",
      "data_x.shape: (60, 512, 1)\n"
     ]
    },
    {
     "name": "stderr",
     "output_type": "stream",
     "text": [
      "<ipython-input-4-d8650b052227>:74: RuntimeWarning: This filename (E:\\jupyter file\\EEG_process\\SE_train_processed\\Z沈祺雨20220511_bias_0.fif) does not conform to MNE naming conventions. All raw files should end with raw.fif, raw_sss.fif, raw_tsss.fif, _meg.fif, _eeg.fif, _ieeg.fif, raw.fif.gz, raw_sss.fif.gz, raw_tsss.fif.gz, _meg.fif.gz, _eeg.fif.gz or _ieeg.fif.gz\n",
      "  custom_raw.save(save_path,overwrite=True)\n",
      "<ipython-input-4-d8650b052227>:2: RuntimeWarning: This filename (../SE_train\\Z沈祺雨20220513_bias_0.fif) does not conform to MNE naming conventions. All raw files should end with raw.fif, raw_sss.fif, raw_tsss.fif, _meg.fif, _eeg.fif, _ieeg.fif, raw.fif.gz, raw_sss.fif.gz, raw_tsss.fif.gz, _meg.fif.gz, _eeg.fif.gz or _ieeg.fif.gz\n",
      "  raw = read_raw_fif(file_path)\n"
     ]
    },
    {
     "name": "stdout",
     "output_type": "stream",
     "text": [
      "pred_channel.shape (15, 2048)\n",
      "Creating RawArray with float64 data, n_channels=15, n_times=2048\n",
      "    Range : 0 ... 2047 =      0.000 ...     7.996 secs\n",
      "Ready.\n",
      "Writing E:\\jupyter file\\EEG_process\\SE_train_processed\\Z沈祺雨20220513_bias_0.fif\n",
      "Closing E:\\jupyter file\\EEG_process\\SE_train_processed\\Z沈祺雨20220513_bias_0.fif\n",
      "[done]\n",
      "../SE_train_processed/Z沈祺雨20220518_bias_0.fif\n",
      "Opening raw data file ../SE_train\\Z沈祺雨20220518_bias_0.fif...\n",
      "Isotrak not found\n",
      "    Range : 66 ... 16450 =      0.032 ...     8.032 secs\n",
      "Ready.\n",
      "data_256.shape (15, 2048)\n",
      "data_256_samples.shape (15, 4, 512)\n",
      "data_sta.shape (15, 4, 512)\n",
      "data_x.shape: (60, 512, 1)\n"
     ]
    },
    {
     "name": "stderr",
     "output_type": "stream",
     "text": [
      "<ipython-input-4-d8650b052227>:74: RuntimeWarning: This filename (E:\\jupyter file\\EEG_process\\SE_train_processed\\Z沈祺雨20220513_bias_0.fif) does not conform to MNE naming conventions. All raw files should end with raw.fif, raw_sss.fif, raw_tsss.fif, _meg.fif, _eeg.fif, _ieeg.fif, raw.fif.gz, raw_sss.fif.gz, raw_tsss.fif.gz, _meg.fif.gz, _eeg.fif.gz or _ieeg.fif.gz\n",
      "  custom_raw.save(save_path,overwrite=True)\n",
      "<ipython-input-4-d8650b052227>:2: RuntimeWarning: This filename (../SE_train\\Z沈祺雨20220518_bias_0.fif) does not conform to MNE naming conventions. All raw files should end with raw.fif, raw_sss.fif, raw_tsss.fif, _meg.fif, _eeg.fif, _ieeg.fif, raw.fif.gz, raw_sss.fif.gz, raw_tsss.fif.gz, _meg.fif.gz, _eeg.fif.gz or _ieeg.fif.gz\n",
      "  raw = read_raw_fif(file_path)\n"
     ]
    },
    {
     "name": "stdout",
     "output_type": "stream",
     "text": [
      "pred_channel.shape (15, 2048)\n",
      "Creating RawArray with float64 data, n_channels=15, n_times=2048\n",
      "    Range : 0 ... 2047 =      0.000 ...     7.996 secs\n",
      "Ready.\n",
      "Writing E:\\jupyter file\\EEG_process\\SE_train_processed\\Z沈祺雨20220518_bias_0.fif\n",
      "Closing E:\\jupyter file\\EEG_process\\SE_train_processed\\Z沈祺雨20220518_bias_0.fif\n",
      "[done]\n",
      "../SE_train_processed/Z王宜凡20220318_bias_0.fif\n",
      "Opening raw data file ../SE_train\\Z王宜凡20220318_bias_0.fif...\n",
      "Isotrak not found\n",
      "    Range : 118132 ... 126324 =    115.363 ...   123.363 secs\n",
      "Ready.\n",
      "data_256.shape (15, 2048)\n",
      "data_256_samples.shape (15, 4, 512)\n",
      "data_sta.shape (15, 4, 512)\n",
      "data_x.shape: (60, 512, 1)\n"
     ]
    },
    {
     "name": "stderr",
     "output_type": "stream",
     "text": [
      "<ipython-input-4-d8650b052227>:74: RuntimeWarning: This filename (E:\\jupyter file\\EEG_process\\SE_train_processed\\Z沈祺雨20220518_bias_0.fif) does not conform to MNE naming conventions. All raw files should end with raw.fif, raw_sss.fif, raw_tsss.fif, _meg.fif, _eeg.fif, _ieeg.fif, raw.fif.gz, raw_sss.fif.gz, raw_tsss.fif.gz, _meg.fif.gz, _eeg.fif.gz or _ieeg.fif.gz\n",
      "  custom_raw.save(save_path,overwrite=True)\n",
      "<ipython-input-4-d8650b052227>:2: RuntimeWarning: This filename (../SE_train\\Z王宜凡20220318_bias_0.fif) does not conform to MNE naming conventions. All raw files should end with raw.fif, raw_sss.fif, raw_tsss.fif, _meg.fif, _eeg.fif, _ieeg.fif, raw.fif.gz, raw_sss.fif.gz, raw_tsss.fif.gz, _meg.fif.gz, _eeg.fif.gz or _ieeg.fif.gz\n",
      "  raw = read_raw_fif(file_path)\n"
     ]
    },
    {
     "name": "stdout",
     "output_type": "stream",
     "text": [
      "pred_channel.shape (15, 2048)\n",
      "Creating RawArray with float64 data, n_channels=15, n_times=2048\n",
      "    Range : 0 ... 2047 =      0.000 ...     7.996 secs\n",
      "Ready.\n",
      "Writing E:\\jupyter file\\EEG_process\\SE_train_processed\\Z王宜凡20220318_bias_0.fif\n",
      "Closing E:\\jupyter file\\EEG_process\\SE_train_processed\\Z王宜凡20220318_bias_0.fif\n",
      "[done]\n",
      "../SE_train_processed/Z王宜凡20220321_bias_0.fif\n",
      "Opening raw data file ../SE_train\\Z王宜凡20220321_bias_0.fif...\n",
      "Isotrak not found\n",
      "    Range : 67221 ... 75413 =     65.646 ...    73.646 secs\n",
      "Ready.\n",
      "data_256.shape (15, 2048)\n",
      "data_256_samples.shape (15, 4, 512)\n",
      "data_sta.shape (15, 4, 512)\n",
      "data_x.shape: (60, 512, 1)\n"
     ]
    },
    {
     "name": "stderr",
     "output_type": "stream",
     "text": [
      "<ipython-input-4-d8650b052227>:74: RuntimeWarning: This filename (E:\\jupyter file\\EEG_process\\SE_train_processed\\Z王宜凡20220318_bias_0.fif) does not conform to MNE naming conventions. All raw files should end with raw.fif, raw_sss.fif, raw_tsss.fif, _meg.fif, _eeg.fif, _ieeg.fif, raw.fif.gz, raw_sss.fif.gz, raw_tsss.fif.gz, _meg.fif.gz, _eeg.fif.gz or _ieeg.fif.gz\n",
      "  custom_raw.save(save_path,overwrite=True)\n",
      "<ipython-input-4-d8650b052227>:2: RuntimeWarning: This filename (../SE_train\\Z王宜凡20220321_bias_0.fif) does not conform to MNE naming conventions. All raw files should end with raw.fif, raw_sss.fif, raw_tsss.fif, _meg.fif, _eeg.fif, _ieeg.fif, raw.fif.gz, raw_sss.fif.gz, raw_tsss.fif.gz, _meg.fif.gz, _eeg.fif.gz or _ieeg.fif.gz\n",
      "  raw = read_raw_fif(file_path)\n"
     ]
    },
    {
     "name": "stdout",
     "output_type": "stream",
     "text": [
      "pred_channel.shape (15, 2048)\n",
      "Creating RawArray with float64 data, n_channels=15, n_times=2048\n",
      "    Range : 0 ... 2047 =      0.000 ...     7.996 secs\n",
      "Ready.\n",
      "Writing E:\\jupyter file\\EEG_process\\SE_train_processed\\Z王宜凡20220321_bias_0.fif\n",
      "Closing E:\\jupyter file\\EEG_process\\SE_train_processed\\Z王宜凡20220321_bias_0.fif\n",
      "[done]\n",
      "../SE_train_processed/Z王宜凡20220323_bias_0.fif\n",
      "Opening raw data file ../SE_train\\Z王宜凡20220323_bias_0.fif...\n",
      "Isotrak not found\n",
      "    Range : 103436 ... 111628 =    101.012 ...   109.012 secs\n",
      "Ready.\n",
      "data_256.shape (15, 2048)\n",
      "data_256_samples.shape (15, 4, 512)\n",
      "data_sta.shape (15, 4, 512)\n",
      "data_x.shape: (60, 512, 1)\n"
     ]
    },
    {
     "name": "stderr",
     "output_type": "stream",
     "text": [
      "<ipython-input-4-d8650b052227>:74: RuntimeWarning: This filename (E:\\jupyter file\\EEG_process\\SE_train_processed\\Z王宜凡20220321_bias_0.fif) does not conform to MNE naming conventions. All raw files should end with raw.fif, raw_sss.fif, raw_tsss.fif, _meg.fif, _eeg.fif, _ieeg.fif, raw.fif.gz, raw_sss.fif.gz, raw_tsss.fif.gz, _meg.fif.gz, _eeg.fif.gz or _ieeg.fif.gz\n",
      "  custom_raw.save(save_path,overwrite=True)\n",
      "<ipython-input-4-d8650b052227>:2: RuntimeWarning: This filename (../SE_train\\Z王宜凡20220323_bias_0.fif) does not conform to MNE naming conventions. All raw files should end with raw.fif, raw_sss.fif, raw_tsss.fif, _meg.fif, _eeg.fif, _ieeg.fif, raw.fif.gz, raw_sss.fif.gz, raw_tsss.fif.gz, _meg.fif.gz, _eeg.fif.gz or _ieeg.fif.gz\n",
      "  raw = read_raw_fif(file_path)\n"
     ]
    },
    {
     "name": "stdout",
     "output_type": "stream",
     "text": [
      "pred_channel.shape (15, 2048)\n",
      "Creating RawArray with float64 data, n_channels=15, n_times=2048\n",
      "    Range : 0 ... 2047 =      0.000 ...     7.996 secs\n",
      "Ready.\n",
      "Writing E:\\jupyter file\\EEG_process\\SE_train_processed\\Z王宜凡20220323_bias_0.fif\n",
      "Closing E:\\jupyter file\\EEG_process\\SE_train_processed\\Z王宜凡20220323_bias_0.fif\n",
      "[done]\n",
      "../SE_train_processed/Z王宜凡20220325_bias_0.fif\n",
      "Opening raw data file ../SE_train\\Z王宜凡20220325_bias_0.fif...\n",
      "Isotrak not found\n",
      "    Range : 75082 ... 83274 =     73.322 ...    81.322 secs\n",
      "Ready.\n",
      "data_256.shape (15, 2048)\n",
      "data_256_samples.shape (15, 4, 512)\n",
      "data_sta.shape (15, 4, 512)\n",
      "data_x.shape: (60, 512, 1)\n"
     ]
    },
    {
     "name": "stderr",
     "output_type": "stream",
     "text": [
      "<ipython-input-4-d8650b052227>:74: RuntimeWarning: This filename (E:\\jupyter file\\EEG_process\\SE_train_processed\\Z王宜凡20220323_bias_0.fif) does not conform to MNE naming conventions. All raw files should end with raw.fif, raw_sss.fif, raw_tsss.fif, _meg.fif, _eeg.fif, _ieeg.fif, raw.fif.gz, raw_sss.fif.gz, raw_tsss.fif.gz, _meg.fif.gz, _eeg.fif.gz or _ieeg.fif.gz\n",
      "  custom_raw.save(save_path,overwrite=True)\n",
      "<ipython-input-4-d8650b052227>:2: RuntimeWarning: This filename (../SE_train\\Z王宜凡20220325_bias_0.fif) does not conform to MNE naming conventions. All raw files should end with raw.fif, raw_sss.fif, raw_tsss.fif, _meg.fif, _eeg.fif, _ieeg.fif, raw.fif.gz, raw_sss.fif.gz, raw_tsss.fif.gz, _meg.fif.gz, _eeg.fif.gz or _ieeg.fif.gz\n",
      "  raw = read_raw_fif(file_path)\n"
     ]
    },
    {
     "name": "stdout",
     "output_type": "stream",
     "text": [
      "pred_channel.shape (15, 2048)\n",
      "Creating RawArray with float64 data, n_channels=15, n_times=2048\n",
      "    Range : 0 ... 2047 =      0.000 ...     7.996 secs\n",
      "Ready.\n",
      "Writing E:\\jupyter file\\EEG_process\\SE_train_processed\\Z王宜凡20220325_bias_0.fif\n",
      "Closing E:\\jupyter file\\EEG_process\\SE_train_processed\\Z王宜凡20220325_bias_0.fif\n",
      "[done]\n",
      "../SE_train_processed/Z王文珊202203023_bias_0.fif\n",
      "Opening raw data file ../SE_train\\Z王文珊202203023_bias_0.fif...\n",
      "Isotrak not found\n",
      "    Range : 96920 ... 105112 =     94.648 ...   102.648 secs\n",
      "Ready.\n",
      "data_256.shape (15, 2048)\n",
      "data_256_samples.shape (15, 4, 512)\n",
      "data_sta.shape (15, 4, 512)\n",
      "data_x.shape: (60, 512, 1)\n"
     ]
    },
    {
     "name": "stderr",
     "output_type": "stream",
     "text": [
      "<ipython-input-4-d8650b052227>:74: RuntimeWarning: This filename (E:\\jupyter file\\EEG_process\\SE_train_processed\\Z王宜凡20220325_bias_0.fif) does not conform to MNE naming conventions. All raw files should end with raw.fif, raw_sss.fif, raw_tsss.fif, _meg.fif, _eeg.fif, _ieeg.fif, raw.fif.gz, raw_sss.fif.gz, raw_tsss.fif.gz, _meg.fif.gz, _eeg.fif.gz or _ieeg.fif.gz\n",
      "  custom_raw.save(save_path,overwrite=True)\n",
      "<ipython-input-4-d8650b052227>:2: RuntimeWarning: This filename (../SE_train\\Z王文珊202203023_bias_0.fif) does not conform to MNE naming conventions. All raw files should end with raw.fif, raw_sss.fif, raw_tsss.fif, _meg.fif, _eeg.fif, _ieeg.fif, raw.fif.gz, raw_sss.fif.gz, raw_tsss.fif.gz, _meg.fif.gz, _eeg.fif.gz or _ieeg.fif.gz\n",
      "  raw = read_raw_fif(file_path)\n"
     ]
    },
    {
     "name": "stdout",
     "output_type": "stream",
     "text": [
      "pred_channel.shape (15, 2048)\n",
      "Creating RawArray with float64 data, n_channels=15, n_times=2048\n",
      "    Range : 0 ... 2047 =      0.000 ...     7.996 secs\n",
      "Ready.\n",
      "Writing E:\\jupyter file\\EEG_process\\SE_train_processed\\Z王文珊202203023_bias_0.fif\n",
      "Closing E:\\jupyter file\\EEG_process\\SE_train_processed\\Z王文珊202203023_bias_0.fif\n",
      "[done]\n",
      "../SE_train_processed/Z王文珊202203025_bias_0.fif\n",
      "Opening raw data file ../SE_train\\Z王文珊202203025_bias_0.fif...\n",
      "Isotrak not found\n",
      "    Range : 15061 ... 23253 =     14.708 ...    22.708 secs\n",
      "Ready.\n",
      "data_256.shape (15, 2048)\n",
      "data_256_samples.shape (15, 4, 512)\n",
      "data_sta.shape (15, 4, 512)\n",
      "data_x.shape: (60, 512, 1)\n"
     ]
    },
    {
     "name": "stderr",
     "output_type": "stream",
     "text": [
      "<ipython-input-4-d8650b052227>:74: RuntimeWarning: This filename (E:\\jupyter file\\EEG_process\\SE_train_processed\\Z王文珊202203023_bias_0.fif) does not conform to MNE naming conventions. All raw files should end with raw.fif, raw_sss.fif, raw_tsss.fif, _meg.fif, _eeg.fif, _ieeg.fif, raw.fif.gz, raw_sss.fif.gz, raw_tsss.fif.gz, _meg.fif.gz, _eeg.fif.gz or _ieeg.fif.gz\n",
      "  custom_raw.save(save_path,overwrite=True)\n",
      "<ipython-input-4-d8650b052227>:2: RuntimeWarning: This filename (../SE_train\\Z王文珊202203025_bias_0.fif) does not conform to MNE naming conventions. All raw files should end with raw.fif, raw_sss.fif, raw_tsss.fif, _meg.fif, _eeg.fif, _ieeg.fif, raw.fif.gz, raw_sss.fif.gz, raw_tsss.fif.gz, _meg.fif.gz, _eeg.fif.gz or _ieeg.fif.gz\n",
      "  raw = read_raw_fif(file_path)\n"
     ]
    },
    {
     "name": "stdout",
     "output_type": "stream",
     "text": [
      "pred_channel.shape (15, 2048)\n",
      "Creating RawArray with float64 data, n_channels=15, n_times=2048\n",
      "    Range : 0 ... 2047 =      0.000 ...     7.996 secs\n",
      "Ready.\n",
      "Writing E:\\jupyter file\\EEG_process\\SE_train_processed\\Z王文珊202203025_bias_0.fif\n",
      "Closing E:\\jupyter file\\EEG_process\\SE_train_processed\\Z王文珊202203025_bias_0.fif\n",
      "[done]\n",
      "../SE_train_processed/Z王文珊202203028_bias_0.fif\n",
      "Opening raw data file ../SE_train\\Z王文珊202203028_bias_0.fif...\n",
      "Isotrak not found\n",
      "    Range : 99241 ... 107433 =     96.915 ...   104.915 secs\n",
      "Ready.\n",
      "data_256.shape (15, 2048)\n",
      "data_256_samples.shape (15, 4, 512)\n",
      "data_sta.shape (15, 4, 512)\n",
      "data_x.shape: (60, 512, 1)\n"
     ]
    },
    {
     "name": "stderr",
     "output_type": "stream",
     "text": [
      "<ipython-input-4-d8650b052227>:74: RuntimeWarning: This filename (E:\\jupyter file\\EEG_process\\SE_train_processed\\Z王文珊202203025_bias_0.fif) does not conform to MNE naming conventions. All raw files should end with raw.fif, raw_sss.fif, raw_tsss.fif, _meg.fif, _eeg.fif, _ieeg.fif, raw.fif.gz, raw_sss.fif.gz, raw_tsss.fif.gz, _meg.fif.gz, _eeg.fif.gz or _ieeg.fif.gz\n",
      "  custom_raw.save(save_path,overwrite=True)\n",
      "<ipython-input-4-d8650b052227>:2: RuntimeWarning: This filename (../SE_train\\Z王文珊202203028_bias_0.fif) does not conform to MNE naming conventions. All raw files should end with raw.fif, raw_sss.fif, raw_tsss.fif, _meg.fif, _eeg.fif, _ieeg.fif, raw.fif.gz, raw_sss.fif.gz, raw_tsss.fif.gz, _meg.fif.gz, _eeg.fif.gz or _ieeg.fif.gz\n",
      "  raw = read_raw_fif(file_path)\n"
     ]
    },
    {
     "name": "stdout",
     "output_type": "stream",
     "text": [
      "pred_channel.shape (15, 2048)\n",
      "Creating RawArray with float64 data, n_channels=15, n_times=2048\n",
      "    Range : 0 ... 2047 =      0.000 ...     7.996 secs\n",
      "Ready.\n",
      "Writing E:\\jupyter file\\EEG_process\\SE_train_processed\\Z王文珊202203028_bias_0.fif\n",
      "Closing E:\\jupyter file\\EEG_process\\SE_train_processed\\Z王文珊202203028_bias_0.fif\n",
      "[done]\n",
      "../SE_train_processed/Z王文珊202203030_bias_0.fif\n",
      "Opening raw data file ../SE_train\\Z王文珊202203030_bias_0.fif...\n",
      "Isotrak not found\n",
      "    Range : 181898 ... 190090 =    177.635 ...   185.635 secs\n",
      "Ready.\n",
      "data_256.shape (15, 2048)\n",
      "data_256_samples.shape (15, 4, 512)\n",
      "data_sta.shape (15, 4, 512)\n",
      "data_x.shape: (60, 512, 1)\n"
     ]
    },
    {
     "name": "stderr",
     "output_type": "stream",
     "text": [
      "<ipython-input-4-d8650b052227>:74: RuntimeWarning: This filename (E:\\jupyter file\\EEG_process\\SE_train_processed\\Z王文珊202203028_bias_0.fif) does not conform to MNE naming conventions. All raw files should end with raw.fif, raw_sss.fif, raw_tsss.fif, _meg.fif, _eeg.fif, _ieeg.fif, raw.fif.gz, raw_sss.fif.gz, raw_tsss.fif.gz, _meg.fif.gz, _eeg.fif.gz or _ieeg.fif.gz\n",
      "  custom_raw.save(save_path,overwrite=True)\n",
      "<ipython-input-4-d8650b052227>:2: RuntimeWarning: This filename (../SE_train\\Z王文珊202203030_bias_0.fif) does not conform to MNE naming conventions. All raw files should end with raw.fif, raw_sss.fif, raw_tsss.fif, _meg.fif, _eeg.fif, _ieeg.fif, raw.fif.gz, raw_sss.fif.gz, raw_tsss.fif.gz, _meg.fif.gz, _eeg.fif.gz or _ieeg.fif.gz\n",
      "  raw = read_raw_fif(file_path)\n"
     ]
    },
    {
     "name": "stdout",
     "output_type": "stream",
     "text": [
      "pred_channel.shape (15, 2048)\n",
      "Creating RawArray with float64 data, n_channels=15, n_times=2048\n",
      "    Range : 0 ... 2047 =      0.000 ...     7.996 secs\n",
      "Ready.\n",
      "Writing E:\\jupyter file\\EEG_process\\SE_train_processed\\Z王文珊202203030_bias_0.fif\n",
      "Closing E:\\jupyter file\\EEG_process\\SE_train_processed\\Z王文珊202203030_bias_0.fif\n",
      "[done]\n",
      "../SE_train_processed/Z王纯刚20220321_bias_0.fif\n",
      "Opening raw data file ../SE_train\\Z王纯刚20220321_bias_0.fif...\n",
      "Isotrak not found\n",
      "    Range : 93782 ... 101974 =     91.584 ...    99.584 secs\n",
      "Ready.\n",
      "data_256.shape (15, 2048)\n",
      "data_256_samples.shape (15, 4, 512)\n",
      "data_sta.shape (15, 4, 512)\n",
      "data_x.shape: (60, 512, 1)\n"
     ]
    },
    {
     "name": "stderr",
     "output_type": "stream",
     "text": [
      "<ipython-input-4-d8650b052227>:74: RuntimeWarning: This filename (E:\\jupyter file\\EEG_process\\SE_train_processed\\Z王文珊202203030_bias_0.fif) does not conform to MNE naming conventions. All raw files should end with raw.fif, raw_sss.fif, raw_tsss.fif, _meg.fif, _eeg.fif, _ieeg.fif, raw.fif.gz, raw_sss.fif.gz, raw_tsss.fif.gz, _meg.fif.gz, _eeg.fif.gz or _ieeg.fif.gz\n",
      "  custom_raw.save(save_path,overwrite=True)\n",
      "<ipython-input-4-d8650b052227>:2: RuntimeWarning: This filename (../SE_train\\Z王纯刚20220321_bias_0.fif) does not conform to MNE naming conventions. All raw files should end with raw.fif, raw_sss.fif, raw_tsss.fif, _meg.fif, _eeg.fif, _ieeg.fif, raw.fif.gz, raw_sss.fif.gz, raw_tsss.fif.gz, _meg.fif.gz, _eeg.fif.gz or _ieeg.fif.gz\n",
      "  raw = read_raw_fif(file_path)\n"
     ]
    },
    {
     "name": "stdout",
     "output_type": "stream",
     "text": [
      "pred_channel.shape (15, 2048)\n",
      "Creating RawArray with float64 data, n_channels=15, n_times=2048\n",
      "    Range : 0 ... 2047 =      0.000 ...     7.996 secs\n",
      "Ready.\n",
      "Writing E:\\jupyter file\\EEG_process\\SE_train_processed\\Z王纯刚20220321_bias_0.fif\n",
      "Closing E:\\jupyter file\\EEG_process\\SE_train_processed\\Z王纯刚20220321_bias_0.fif\n",
      "[done]\n",
      "../SE_train_processed/Z王纯刚20220323_bias_0.fif\n",
      "Opening raw data file ../SE_train\\Z王纯刚20220323_bias_0.fif...\n",
      "Isotrak not found\n",
      "    Range : 69018 ... 77210 =     67.400 ...    75.400 secs\n",
      "Ready.\n",
      "data_256.shape (15, 2048)\n",
      "data_256_samples.shape (15, 4, 512)\n",
      "data_sta.shape (15, 4, 512)\n",
      "data_x.shape: (60, 512, 1)\n"
     ]
    },
    {
     "name": "stderr",
     "output_type": "stream",
     "text": [
      "<ipython-input-4-d8650b052227>:74: RuntimeWarning: This filename (E:\\jupyter file\\EEG_process\\SE_train_processed\\Z王纯刚20220321_bias_0.fif) does not conform to MNE naming conventions. All raw files should end with raw.fif, raw_sss.fif, raw_tsss.fif, _meg.fif, _eeg.fif, _ieeg.fif, raw.fif.gz, raw_sss.fif.gz, raw_tsss.fif.gz, _meg.fif.gz, _eeg.fif.gz or _ieeg.fif.gz\n",
      "  custom_raw.save(save_path,overwrite=True)\n",
      "<ipython-input-4-d8650b052227>:2: RuntimeWarning: This filename (../SE_train\\Z王纯刚20220323_bias_0.fif) does not conform to MNE naming conventions. All raw files should end with raw.fif, raw_sss.fif, raw_tsss.fif, _meg.fif, _eeg.fif, _ieeg.fif, raw.fif.gz, raw_sss.fif.gz, raw_tsss.fif.gz, _meg.fif.gz, _eeg.fif.gz or _ieeg.fif.gz\n",
      "  raw = read_raw_fif(file_path)\n"
     ]
    },
    {
     "name": "stdout",
     "output_type": "stream",
     "text": [
      "pred_channel.shape (15, 2048)\n",
      "Creating RawArray with float64 data, n_channels=15, n_times=2048\n",
      "    Range : 0 ... 2047 =      0.000 ...     7.996 secs\n",
      "Ready.\n",
      "Writing E:\\jupyter file\\EEG_process\\SE_train_processed\\Z王纯刚20220323_bias_0.fif\n",
      "Closing E:\\jupyter file\\EEG_process\\SE_train_processed\\Z王纯刚20220323_bias_0.fif\n",
      "[done]\n",
      "../SE_train_processed/Z王纯刚20220325_bias_0.fif\n",
      "Opening raw data file ../SE_train\\Z王纯刚20220325_bias_0.fif...\n",
      "Isotrak not found\n",
      "    Range : 24319 ... 32511 =     23.749 ...    31.749 secs\n",
      "Ready.\n",
      "data_256.shape (15, 2048)\n",
      "data_256_samples.shape (15, 4, 512)\n",
      "data_sta.shape (15, 4, 512)\n",
      "data_x.shape: (60, 512, 1)\n"
     ]
    },
    {
     "name": "stderr",
     "output_type": "stream",
     "text": [
      "<ipython-input-4-d8650b052227>:74: RuntimeWarning: This filename (E:\\jupyter file\\EEG_process\\SE_train_processed\\Z王纯刚20220323_bias_0.fif) does not conform to MNE naming conventions. All raw files should end with raw.fif, raw_sss.fif, raw_tsss.fif, _meg.fif, _eeg.fif, _ieeg.fif, raw.fif.gz, raw_sss.fif.gz, raw_tsss.fif.gz, _meg.fif.gz, _eeg.fif.gz or _ieeg.fif.gz\n",
      "  custom_raw.save(save_path,overwrite=True)\n",
      "<ipython-input-4-d8650b052227>:2: RuntimeWarning: This filename (../SE_train\\Z王纯刚20220325_bias_0.fif) does not conform to MNE naming conventions. All raw files should end with raw.fif, raw_sss.fif, raw_tsss.fif, _meg.fif, _eeg.fif, _ieeg.fif, raw.fif.gz, raw_sss.fif.gz, raw_tsss.fif.gz, _meg.fif.gz, _eeg.fif.gz or _ieeg.fif.gz\n",
      "  raw = read_raw_fif(file_path)\n"
     ]
    },
    {
     "name": "stdout",
     "output_type": "stream",
     "text": [
      "pred_channel.shape (15, 2048)\n",
      "Creating RawArray with float64 data, n_channels=15, n_times=2048\n",
      "    Range : 0 ... 2047 =      0.000 ...     7.996 secs\n",
      "Ready.\n",
      "Writing E:\\jupyter file\\EEG_process\\SE_train_processed\\Z王纯刚20220325_bias_0.fif\n",
      "Closing E:\\jupyter file\\EEG_process\\SE_train_processed\\Z王纯刚20220325_bias_0.fif\n",
      "[done]\n",
      "../SE_train_processed/Z王纯刚20220328_bias_0.fif\n",
      "Opening raw data file ../SE_train\\Z王纯刚20220328_bias_0.fif...\n",
      "Isotrak not found\n",
      "    Range : 289606 ... 297798 =    282.818 ...   290.818 secs\n",
      "Ready.\n",
      "data_256.shape (15, 2048)\n",
      "data_256_samples.shape (15, 4, 512)\n",
      "data_sta.shape (15, 4, 512)\n",
      "data_x.shape: (60, 512, 1)\n"
     ]
    },
    {
     "name": "stderr",
     "output_type": "stream",
     "text": [
      "<ipython-input-4-d8650b052227>:74: RuntimeWarning: This filename (E:\\jupyter file\\EEG_process\\SE_train_processed\\Z王纯刚20220325_bias_0.fif) does not conform to MNE naming conventions. All raw files should end with raw.fif, raw_sss.fif, raw_tsss.fif, _meg.fif, _eeg.fif, _ieeg.fif, raw.fif.gz, raw_sss.fif.gz, raw_tsss.fif.gz, _meg.fif.gz, _eeg.fif.gz or _ieeg.fif.gz\n",
      "  custom_raw.save(save_path,overwrite=True)\n",
      "<ipython-input-4-d8650b052227>:2: RuntimeWarning: This filename (../SE_train\\Z王纯刚20220328_bias_0.fif) does not conform to MNE naming conventions. All raw files should end with raw.fif, raw_sss.fif, raw_tsss.fif, _meg.fif, _eeg.fif, _ieeg.fif, raw.fif.gz, raw_sss.fif.gz, raw_tsss.fif.gz, _meg.fif.gz, _eeg.fif.gz or _ieeg.fif.gz\n",
      "  raw = read_raw_fif(file_path)\n"
     ]
    },
    {
     "name": "stdout",
     "output_type": "stream",
     "text": [
      "pred_channel.shape (15, 2048)\n",
      "Creating RawArray with float64 data, n_channels=15, n_times=2048\n",
      "    Range : 0 ... 2047 =      0.000 ...     7.996 secs\n",
      "Ready.\n",
      "Writing E:\\jupyter file\\EEG_process\\SE_train_processed\\Z王纯刚20220328_bias_0.fif\n",
      "Closing E:\\jupyter file\\EEG_process\\SE_train_processed\\Z王纯刚20220328_bias_0.fif\n",
      "[done]\n",
      "../SE_train_processed/Z王胜银20220513（未发作）_bias_0.fif\n",
      "Opening raw data file ../SE_train\\Z王胜银20220513（未发作）_bias_0.fif...\n",
      "Isotrak not found\n",
      "    Range : 79360 ... 83456 =    155.000 ...   163.000 secs\n",
      "Ready.\n",
      "data_256.shape (15, 2048)\n",
      "data_256_samples.shape (15, 4, 512)\n",
      "data_sta.shape (15, 4, 512)\n",
      "data_x.shape: (60, 512, 1)\n"
     ]
    },
    {
     "name": "stderr",
     "output_type": "stream",
     "text": [
      "<ipython-input-4-d8650b052227>:74: RuntimeWarning: This filename (E:\\jupyter file\\EEG_process\\SE_train_processed\\Z王纯刚20220328_bias_0.fif) does not conform to MNE naming conventions. All raw files should end with raw.fif, raw_sss.fif, raw_tsss.fif, _meg.fif, _eeg.fif, _ieeg.fif, raw.fif.gz, raw_sss.fif.gz, raw_tsss.fif.gz, _meg.fif.gz, _eeg.fif.gz or _ieeg.fif.gz\n",
      "  custom_raw.save(save_path,overwrite=True)\n",
      "<ipython-input-4-d8650b052227>:2: RuntimeWarning: This filename (../SE_train\\Z王胜银20220513（未发作）_bias_0.fif) does not conform to MNE naming conventions. All raw files should end with raw.fif, raw_sss.fif, raw_tsss.fif, _meg.fif, _eeg.fif, _ieeg.fif, raw.fif.gz, raw_sss.fif.gz, raw_tsss.fif.gz, _meg.fif.gz, _eeg.fif.gz or _ieeg.fif.gz\n",
      "  raw = read_raw_fif(file_path)\n"
     ]
    },
    {
     "name": "stdout",
     "output_type": "stream",
     "text": [
      "pred_channel.shape (15, 2048)\n",
      "Creating RawArray with float64 data, n_channels=15, n_times=2048\n",
      "    Range : 0 ... 2047 =      0.000 ...     7.996 secs\n",
      "Ready.\n",
      "Writing E:\\jupyter file\\EEG_process\\SE_train_processed\\Z王胜银20220513（未发作）_bias_0.fif\n",
      "Closing E:\\jupyter file\\EEG_process\\SE_train_processed\\Z王胜银20220513（未发作）_bias_0.fif\n",
      "[done]\n",
      "../SE_train_processed/Z王胜银20220513（未发作）_bias_16.fif\n",
      "Opening raw data file ../SE_train\\Z王胜银20220513（未发作）_bias_16.fif...\n",
      "Isotrak not found\n",
      "    Range : 87552 ... 95744 =    171.000 ...   187.000 secs\n",
      "Ready.\n",
      "data_256.shape (15, 2048)\n",
      "data_256_samples.shape (15, 4, 512)\n",
      "data_sta.shape (15, 4, 512)\n",
      "data_x.shape: (60, 512, 1)\n"
     ]
    },
    {
     "name": "stderr",
     "output_type": "stream",
     "text": [
      "<ipython-input-4-d8650b052227>:74: RuntimeWarning: This filename (E:\\jupyter file\\EEG_process\\SE_train_processed\\Z王胜银20220513（未发作）_bias_0.fif) does not conform to MNE naming conventions. All raw files should end with raw.fif, raw_sss.fif, raw_tsss.fif, _meg.fif, _eeg.fif, _ieeg.fif, raw.fif.gz, raw_sss.fif.gz, raw_tsss.fif.gz, _meg.fif.gz, _eeg.fif.gz or _ieeg.fif.gz\n",
      "  custom_raw.save(save_path,overwrite=True)\n",
      "<ipython-input-4-d8650b052227>:2: RuntimeWarning: This filename (../SE_train\\Z王胜银20220513（未发作）_bias_16.fif) does not conform to MNE naming conventions. All raw files should end with raw.fif, raw_sss.fif, raw_tsss.fif, _meg.fif, _eeg.fif, _ieeg.fif, raw.fif.gz, raw_sss.fif.gz, raw_tsss.fif.gz, _meg.fif.gz, _eeg.fif.gz or _ieeg.fif.gz\n",
      "  raw = read_raw_fif(file_path)\n"
     ]
    },
    {
     "name": "stdout",
     "output_type": "stream",
     "text": [
      "pred_channel.shape (15, 2048)\n",
      "Creating RawArray with float64 data, n_channels=15, n_times=2048\n",
      "    Range : 0 ... 2047 =      0.000 ...     7.996 secs\n",
      "Ready.\n",
      "Writing E:\\jupyter file\\EEG_process\\SE_train_processed\\Z王胜银20220513（未发作）_bias_16.fif\n",
      "Closing E:\\jupyter file\\EEG_process\\SE_train_processed\\Z王胜银20220513（未发作）_bias_16.fif\n",
      "[done]\n",
      "../SE_train_processed/Z王胜银20220513（未发作）_bias_24.fif\n",
      "Opening raw data file ../SE_train\\Z王胜银20220513（未发作）_bias_24.fif...\n",
      "Isotrak not found\n",
      "    Range : 91648 ... 99840 =    179.000 ...   195.000 secs\n",
      "Ready.\n",
      "data_256.shape (15, 2048)\n",
      "data_256_samples.shape (15, 4, 512)\n",
      "data_sta.shape (15, 4, 512)\n",
      "data_x.shape: (60, 512, 1)\n"
     ]
    },
    {
     "name": "stderr",
     "output_type": "stream",
     "text": [
      "<ipython-input-4-d8650b052227>:74: RuntimeWarning: This filename (E:\\jupyter file\\EEG_process\\SE_train_processed\\Z王胜银20220513（未发作）_bias_16.fif) does not conform to MNE naming conventions. All raw files should end with raw.fif, raw_sss.fif, raw_tsss.fif, _meg.fif, _eeg.fif, _ieeg.fif, raw.fif.gz, raw_sss.fif.gz, raw_tsss.fif.gz, _meg.fif.gz, _eeg.fif.gz or _ieeg.fif.gz\n",
      "  custom_raw.save(save_path,overwrite=True)\n",
      "<ipython-input-4-d8650b052227>:2: RuntimeWarning: This filename (../SE_train\\Z王胜银20220513（未发作）_bias_24.fif) does not conform to MNE naming conventions. All raw files should end with raw.fif, raw_sss.fif, raw_tsss.fif, _meg.fif, _eeg.fif, _ieeg.fif, raw.fif.gz, raw_sss.fif.gz, raw_tsss.fif.gz, _meg.fif.gz, _eeg.fif.gz or _ieeg.fif.gz\n",
      "  raw = read_raw_fif(file_path)\n"
     ]
    },
    {
     "name": "stdout",
     "output_type": "stream",
     "text": [
      "pred_channel.shape (15, 2048)\n",
      "Creating RawArray with float64 data, n_channels=15, n_times=2048\n",
      "    Range : 0 ... 2047 =      0.000 ...     7.996 secs\n",
      "Ready.\n",
      "Writing E:\\jupyter file\\EEG_process\\SE_train_processed\\Z王胜银20220513（未发作）_bias_24.fif\n",
      "Closing E:\\jupyter file\\EEG_process\\SE_train_processed\\Z王胜银20220513（未发作）_bias_24.fif\n",
      "[done]\n",
      "../SE_train_processed/Z王胜银20220513（未发作）_bias_32.fif\n",
      "Opening raw data file ../SE_train\\Z王胜银20220513（未发作）_bias_32.fif...\n",
      "Isotrak not found\n",
      "    Range : 95744 ... 103936 =    187.000 ...   203.000 secs\n",
      "Ready.\n",
      "data_256.shape (15, 2048)\n",
      "data_256_samples.shape (15, 4, 512)\n",
      "data_sta.shape (15, 4, 512)\n",
      "data_x.shape: (60, 512, 1)\n"
     ]
    },
    {
     "name": "stderr",
     "output_type": "stream",
     "text": [
      "<ipython-input-4-d8650b052227>:74: RuntimeWarning: This filename (E:\\jupyter file\\EEG_process\\SE_train_processed\\Z王胜银20220513（未发作）_bias_24.fif) does not conform to MNE naming conventions. All raw files should end with raw.fif, raw_sss.fif, raw_tsss.fif, _meg.fif, _eeg.fif, _ieeg.fif, raw.fif.gz, raw_sss.fif.gz, raw_tsss.fif.gz, _meg.fif.gz, _eeg.fif.gz or _ieeg.fif.gz\n",
      "  custom_raw.save(save_path,overwrite=True)\n",
      "<ipython-input-4-d8650b052227>:2: RuntimeWarning: This filename (../SE_train\\Z王胜银20220513（未发作）_bias_32.fif) does not conform to MNE naming conventions. All raw files should end with raw.fif, raw_sss.fif, raw_tsss.fif, _meg.fif, _eeg.fif, _ieeg.fif, raw.fif.gz, raw_sss.fif.gz, raw_tsss.fif.gz, _meg.fif.gz, _eeg.fif.gz or _ieeg.fif.gz\n",
      "  raw = read_raw_fif(file_path)\n"
     ]
    },
    {
     "name": "stdout",
     "output_type": "stream",
     "text": [
      "pred_channel.shape (15, 2048)\n",
      "Creating RawArray with float64 data, n_channels=15, n_times=2048\n",
      "    Range : 0 ... 2047 =      0.000 ...     7.996 secs\n",
      "Ready.\n",
      "Writing E:\\jupyter file\\EEG_process\\SE_train_processed\\Z王胜银20220513（未发作）_bias_32.fif\n",
      "Closing E:\\jupyter file\\EEG_process\\SE_train_processed\\Z王胜银20220513（未发作）_bias_32.fif\n",
      "[done]\n",
      "../SE_train_processed/Z王胜银20220513（未发作）_bias_40.fif\n",
      "Opening raw data file ../SE_train\\Z王胜银20220513（未发作）_bias_40.fif...\n",
      "Isotrak not found\n",
      "    Range : 99840 ... 108032 =    195.000 ...   211.000 secs\n",
      "Ready.\n",
      "data_256.shape (15, 2048)\n",
      "data_256_samples.shape (15, 4, 512)\n",
      "data_sta.shape (15, 4, 512)\n",
      "data_x.shape: (60, 512, 1)\n"
     ]
    },
    {
     "name": "stderr",
     "output_type": "stream",
     "text": [
      "<ipython-input-4-d8650b052227>:74: RuntimeWarning: This filename (E:\\jupyter file\\EEG_process\\SE_train_processed\\Z王胜银20220513（未发作）_bias_32.fif) does not conform to MNE naming conventions. All raw files should end with raw.fif, raw_sss.fif, raw_tsss.fif, _meg.fif, _eeg.fif, _ieeg.fif, raw.fif.gz, raw_sss.fif.gz, raw_tsss.fif.gz, _meg.fif.gz, _eeg.fif.gz or _ieeg.fif.gz\n",
      "  custom_raw.save(save_path,overwrite=True)\n",
      "<ipython-input-4-d8650b052227>:2: RuntimeWarning: This filename (../SE_train\\Z王胜银20220513（未发作）_bias_40.fif) does not conform to MNE naming conventions. All raw files should end with raw.fif, raw_sss.fif, raw_tsss.fif, _meg.fif, _eeg.fif, _ieeg.fif, raw.fif.gz, raw_sss.fif.gz, raw_tsss.fif.gz, _meg.fif.gz, _eeg.fif.gz or _ieeg.fif.gz\n",
      "  raw = read_raw_fif(file_path)\n"
     ]
    },
    {
     "name": "stdout",
     "output_type": "stream",
     "text": [
      "pred_channel.shape (15, 2048)\n",
      "Creating RawArray with float64 data, n_channels=15, n_times=2048\n",
      "    Range : 0 ... 2047 =      0.000 ...     7.996 secs\n",
      "Ready.\n",
      "Writing E:\\jupyter file\\EEG_process\\SE_train_processed\\Z王胜银20220513（未发作）_bias_40.fif\n",
      "Closing E:\\jupyter file\\EEG_process\\SE_train_processed\\Z王胜银20220513（未发作）_bias_40.fif\n",
      "[done]\n",
      "../SE_train_processed/Z王胜银20220513（未发作）_bias_8.fif\n",
      "Opening raw data file ../SE_train\\Z王胜银20220513（未发作）_bias_8.fif...\n",
      "Isotrak not found\n",
      "    Range : 83456 ... 91648 =    163.000 ...   179.000 secs\n",
      "Ready.\n",
      "data_256.shape (15, 2048)\n",
      "data_256_samples.shape (15, 4, 512)\n",
      "data_sta.shape (15, 4, 512)\n",
      "data_x.shape: (60, 512, 1)\n"
     ]
    },
    {
     "name": "stderr",
     "output_type": "stream",
     "text": [
      "<ipython-input-4-d8650b052227>:74: RuntimeWarning: This filename (E:\\jupyter file\\EEG_process\\SE_train_processed\\Z王胜银20220513（未发作）_bias_40.fif) does not conform to MNE naming conventions. All raw files should end with raw.fif, raw_sss.fif, raw_tsss.fif, _meg.fif, _eeg.fif, _ieeg.fif, raw.fif.gz, raw_sss.fif.gz, raw_tsss.fif.gz, _meg.fif.gz, _eeg.fif.gz or _ieeg.fif.gz\n",
      "  custom_raw.save(save_path,overwrite=True)\n",
      "<ipython-input-4-d8650b052227>:2: RuntimeWarning: This filename (../SE_train\\Z王胜银20220513（未发作）_bias_8.fif) does not conform to MNE naming conventions. All raw files should end with raw.fif, raw_sss.fif, raw_tsss.fif, _meg.fif, _eeg.fif, _ieeg.fif, raw.fif.gz, raw_sss.fif.gz, raw_tsss.fif.gz, _meg.fif.gz, _eeg.fif.gz or _ieeg.fif.gz\n",
      "  raw = read_raw_fif(file_path)\n"
     ]
    },
    {
     "name": "stdout",
     "output_type": "stream",
     "text": [
      "pred_channel.shape (15, 2048)\n",
      "Creating RawArray with float64 data, n_channels=15, n_times=2048\n",
      "    Range : 0 ... 2047 =      0.000 ...     7.996 secs\n",
      "Ready.\n",
      "Writing E:\\jupyter file\\EEG_process\\SE_train_processed\\Z王胜银20220513（未发作）_bias_8.fif\n",
      "Closing E:\\jupyter file\\EEG_process\\SE_train_processed\\Z王胜银20220513（未发作）_bias_8.fif\n",
      "[done]\n",
      "../SE_train_processed/Z王胜银20220516_bias_0.fif\n",
      "Opening raw data file ../SE_train\\Z王胜银20220516_bias_0.fif...\n",
      "Isotrak not found\n",
      "    Range : 131632 ... 148016 =     64.273 ...    72.273 secs\n",
      "Ready.\n",
      "data_256.shape (15, 2048)\n",
      "data_256_samples.shape (15, 4, 512)\n",
      "data_sta.shape (15, 4, 512)\n",
      "data_x.shape: (60, 512, 1)\n"
     ]
    },
    {
     "name": "stderr",
     "output_type": "stream",
     "text": [
      "<ipython-input-4-d8650b052227>:74: RuntimeWarning: This filename (E:\\jupyter file\\EEG_process\\SE_train_processed\\Z王胜银20220513（未发作）_bias_8.fif) does not conform to MNE naming conventions. All raw files should end with raw.fif, raw_sss.fif, raw_tsss.fif, _meg.fif, _eeg.fif, _ieeg.fif, raw.fif.gz, raw_sss.fif.gz, raw_tsss.fif.gz, _meg.fif.gz, _eeg.fif.gz or _ieeg.fif.gz\n",
      "  custom_raw.save(save_path,overwrite=True)\n",
      "<ipython-input-4-d8650b052227>:2: RuntimeWarning: This filename (../SE_train\\Z王胜银20220516_bias_0.fif) does not conform to MNE naming conventions. All raw files should end with raw.fif, raw_sss.fif, raw_tsss.fif, _meg.fif, _eeg.fif, _ieeg.fif, raw.fif.gz, raw_sss.fif.gz, raw_tsss.fif.gz, _meg.fif.gz, _eeg.fif.gz or _ieeg.fif.gz\n",
      "  raw = read_raw_fif(file_path)\n"
     ]
    },
    {
     "name": "stdout",
     "output_type": "stream",
     "text": [
      "pred_channel.shape (15, 2048)\n",
      "Creating RawArray with float64 data, n_channels=15, n_times=2048\n",
      "    Range : 0 ... 2047 =      0.000 ...     7.996 secs\n",
      "Ready.\n",
      "Writing E:\\jupyter file\\EEG_process\\SE_train_processed\\Z王胜银20220516_bias_0.fif\n",
      "Closing E:\\jupyter file\\EEG_process\\SE_train_processed\\Z王胜银20220516_bias_0.fif\n",
      "[done]\n",
      "../SE_train_processed/Z王胜银20220520_bias_0.fif\n",
      "Opening raw data file ../SE_train\\Z王胜银20220520_bias_0.fif...\n",
      "Isotrak not found\n",
      "    Range : 47090 ... 51186 =     91.973 ...    99.973 secs\n",
      "Ready.\n",
      "data_256.shape (15, 2048)\n",
      "data_256_samples.shape (15, 4, 512)\n",
      "data_sta.shape (15, 4, 512)\n",
      "data_x.shape: (60, 512, 1)\n"
     ]
    },
    {
     "name": "stderr",
     "output_type": "stream",
     "text": [
      "<ipython-input-4-d8650b052227>:74: RuntimeWarning: This filename (E:\\jupyter file\\EEG_process\\SE_train_processed\\Z王胜银20220516_bias_0.fif) does not conform to MNE naming conventions. All raw files should end with raw.fif, raw_sss.fif, raw_tsss.fif, _meg.fif, _eeg.fif, _ieeg.fif, raw.fif.gz, raw_sss.fif.gz, raw_tsss.fif.gz, _meg.fif.gz, _eeg.fif.gz or _ieeg.fif.gz\n",
      "  custom_raw.save(save_path,overwrite=True)\n",
      "<ipython-input-4-d8650b052227>:2: RuntimeWarning: This filename (../SE_train\\Z王胜银20220520_bias_0.fif) does not conform to MNE naming conventions. All raw files should end with raw.fif, raw_sss.fif, raw_tsss.fif, _meg.fif, _eeg.fif, _ieeg.fif, raw.fif.gz, raw_sss.fif.gz, raw_tsss.fif.gz, _meg.fif.gz, _eeg.fif.gz or _ieeg.fif.gz\n",
      "  raw = read_raw_fif(file_path)\n"
     ]
    },
    {
     "name": "stdout",
     "output_type": "stream",
     "text": [
      "pred_channel.shape (15, 2048)\n",
      "Creating RawArray with float64 data, n_channels=15, n_times=2048\n",
      "    Range : 0 ... 2047 =      0.000 ...     7.996 secs\n",
      "Ready.\n",
      "Writing E:\\jupyter file\\EEG_process\\SE_train_processed\\Z王胜银20220520_bias_0.fif\n",
      "Closing E:\\jupyter file\\EEG_process\\SE_train_processed\\Z王胜银20220520_bias_0.fif\n",
      "[done]\n",
      "../SE_train_processed/Z王莹20220413_bias_0.fif\n",
      "Opening raw data file ../SE_train\\Z王莹20220413_bias_0.fif...\n",
      "Isotrak not found\n",
      "    Range : 16874 ... 25066 =     16.479 ...    24.479 secs\n",
      "Ready.\n",
      "data_256.shape (15, 2048)\n",
      "data_256_samples.shape (15, 4, 512)\n",
      "data_sta.shape (15, 4, 512)\n",
      "data_x.shape: (60, 512, 1)\n"
     ]
    },
    {
     "name": "stderr",
     "output_type": "stream",
     "text": [
      "<ipython-input-4-d8650b052227>:74: RuntimeWarning: This filename (E:\\jupyter file\\EEG_process\\SE_train_processed\\Z王胜银20220520_bias_0.fif) does not conform to MNE naming conventions. All raw files should end with raw.fif, raw_sss.fif, raw_tsss.fif, _meg.fif, _eeg.fif, _ieeg.fif, raw.fif.gz, raw_sss.fif.gz, raw_tsss.fif.gz, _meg.fif.gz, _eeg.fif.gz or _ieeg.fif.gz\n",
      "  custom_raw.save(save_path,overwrite=True)\n",
      "<ipython-input-4-d8650b052227>:2: RuntimeWarning: This filename (../SE_train\\Z王莹20220413_bias_0.fif) does not conform to MNE naming conventions. All raw files should end with raw.fif, raw_sss.fif, raw_tsss.fif, _meg.fif, _eeg.fif, _ieeg.fif, raw.fif.gz, raw_sss.fif.gz, raw_tsss.fif.gz, _meg.fif.gz, _eeg.fif.gz or _ieeg.fif.gz\n",
      "  raw = read_raw_fif(file_path)\n"
     ]
    },
    {
     "name": "stdout",
     "output_type": "stream",
     "text": [
      "pred_channel.shape (15, 2048)\n",
      "Creating RawArray with float64 data, n_channels=15, n_times=2048\n",
      "    Range : 0 ... 2047 =      0.000 ...     7.996 secs\n",
      "Ready.\n",
      "Writing E:\\jupyter file\\EEG_process\\SE_train_processed\\Z王莹20220413_bias_0.fif\n",
      "Closing E:\\jupyter file\\EEG_process\\SE_train_processed\\Z王莹20220413_bias_0.fif\n",
      "[done]\n",
      "../SE_train_processed/Z王莹20220415_bias_0.fif\n",
      "Opening raw data file ../SE_train\\Z王莹20220415_bias_0.fif...\n",
      "Isotrak not found\n",
      "    Range : 36554 ... 44746 =     35.697 ...    43.697 secs\n",
      "Ready.\n",
      "data_256.shape (15, 2048)\n",
      "data_256_samples.shape (15, 4, 512)\n",
      "data_sta.shape (15, 4, 512)\n",
      "data_x.shape: (60, 512, 1)\n"
     ]
    },
    {
     "name": "stderr",
     "output_type": "stream",
     "text": [
      "<ipython-input-4-d8650b052227>:74: RuntimeWarning: This filename (E:\\jupyter file\\EEG_process\\SE_train_processed\\Z王莹20220413_bias_0.fif) does not conform to MNE naming conventions. All raw files should end with raw.fif, raw_sss.fif, raw_tsss.fif, _meg.fif, _eeg.fif, _ieeg.fif, raw.fif.gz, raw_sss.fif.gz, raw_tsss.fif.gz, _meg.fif.gz, _eeg.fif.gz or _ieeg.fif.gz\n",
      "  custom_raw.save(save_path,overwrite=True)\n",
      "<ipython-input-4-d8650b052227>:2: RuntimeWarning: This filename (../SE_train\\Z王莹20220415_bias_0.fif) does not conform to MNE naming conventions. All raw files should end with raw.fif, raw_sss.fif, raw_tsss.fif, _meg.fif, _eeg.fif, _ieeg.fif, raw.fif.gz, raw_sss.fif.gz, raw_tsss.fif.gz, _meg.fif.gz, _eeg.fif.gz or _ieeg.fif.gz\n",
      "  raw = read_raw_fif(file_path)\n"
     ]
    },
    {
     "name": "stdout",
     "output_type": "stream",
     "text": [
      "pred_channel.shape (15, 2048)\n",
      "Creating RawArray with float64 data, n_channels=15, n_times=2048\n",
      "    Range : 0 ... 2047 =      0.000 ...     7.996 secs\n",
      "Ready.\n",
      "Writing E:\\jupyter file\\EEG_process\\SE_train_processed\\Z王莹20220415_bias_0.fif\n",
      "Closing E:\\jupyter file\\EEG_process\\SE_train_processed\\Z王莹20220415_bias_0.fif\n",
      "[done]\n",
      "../SE_train_processed/Z王莹20220420_bias_0.fif\n",
      "Opening raw data file ../SE_train\\Z王莹20220420_bias_0.fif...\n",
      "Isotrak not found\n",
      "    Range : 735 ... 8927 =      0.718 ...     8.718 secs\n",
      "Ready.\n",
      "data_256.shape (15, 2048)\n",
      "data_256_samples.shape (15, 4, 512)\n",
      "data_sta.shape (15, 4, 512)\n",
      "data_x.shape: (60, 512, 1)\n"
     ]
    },
    {
     "name": "stderr",
     "output_type": "stream",
     "text": [
      "<ipython-input-4-d8650b052227>:74: RuntimeWarning: This filename (E:\\jupyter file\\EEG_process\\SE_train_processed\\Z王莹20220415_bias_0.fif) does not conform to MNE naming conventions. All raw files should end with raw.fif, raw_sss.fif, raw_tsss.fif, _meg.fif, _eeg.fif, _ieeg.fif, raw.fif.gz, raw_sss.fif.gz, raw_tsss.fif.gz, _meg.fif.gz, _eeg.fif.gz or _ieeg.fif.gz\n",
      "  custom_raw.save(save_path,overwrite=True)\n",
      "<ipython-input-4-d8650b052227>:2: RuntimeWarning: This filename (../SE_train\\Z王莹20220420_bias_0.fif) does not conform to MNE naming conventions. All raw files should end with raw.fif, raw_sss.fif, raw_tsss.fif, _meg.fif, _eeg.fif, _ieeg.fif, raw.fif.gz, raw_sss.fif.gz, raw_tsss.fif.gz, _meg.fif.gz, _eeg.fif.gz or _ieeg.fif.gz\n",
      "  raw = read_raw_fif(file_path)\n"
     ]
    },
    {
     "name": "stdout",
     "output_type": "stream",
     "text": [
      "pred_channel.shape (15, 2048)\n",
      "Creating RawArray with float64 data, n_channels=15, n_times=2048\n",
      "    Range : 0 ... 2047 =      0.000 ...     7.996 secs\n",
      "Ready.\n",
      "Writing E:\\jupyter file\\EEG_process\\SE_train_processed\\Z王莹20220420_bias_0.fif\n",
      "Closing E:\\jupyter file\\EEG_process\\SE_train_processed\\Z王莹20220420_bias_0.fif\n",
      "[done]\n",
      "../SE_train_processed/Z王莹20220422_bias_0.fif\n",
      "Opening raw data file ../SE_train\\Z王莹20220422_bias_0.fif...\n",
      "Isotrak not found\n",
      "    Range : 113652 ... 121844 =    110.988 ...   118.988 secs\n",
      "Ready.\n",
      "data_256.shape (15, 2048)\n",
      "data_256_samples.shape (15, 4, 512)\n",
      "data_sta.shape (15, 4, 512)\n",
      "data_x.shape: (60, 512, 1)\n"
     ]
    },
    {
     "name": "stderr",
     "output_type": "stream",
     "text": [
      "<ipython-input-4-d8650b052227>:74: RuntimeWarning: This filename (E:\\jupyter file\\EEG_process\\SE_train_processed\\Z王莹20220420_bias_0.fif) does not conform to MNE naming conventions. All raw files should end with raw.fif, raw_sss.fif, raw_tsss.fif, _meg.fif, _eeg.fif, _ieeg.fif, raw.fif.gz, raw_sss.fif.gz, raw_tsss.fif.gz, _meg.fif.gz, _eeg.fif.gz or _ieeg.fif.gz\n",
      "  custom_raw.save(save_path,overwrite=True)\n",
      "<ipython-input-4-d8650b052227>:2: RuntimeWarning: This filename (../SE_train\\Z王莹20220422_bias_0.fif) does not conform to MNE naming conventions. All raw files should end with raw.fif, raw_sss.fif, raw_tsss.fif, _meg.fif, _eeg.fif, _ieeg.fif, raw.fif.gz, raw_sss.fif.gz, raw_tsss.fif.gz, _meg.fif.gz, _eeg.fif.gz or _ieeg.fif.gz\n",
      "  raw = read_raw_fif(file_path)\n"
     ]
    },
    {
     "name": "stdout",
     "output_type": "stream",
     "text": [
      "pred_channel.shape (15, 2048)\n",
      "Creating RawArray with float64 data, n_channels=15, n_times=2048\n",
      "    Range : 0 ... 2047 =      0.000 ...     7.996 secs\n",
      "Ready.\n",
      "Writing E:\\jupyter file\\EEG_process\\SE_train_processed\\Z王莹20220422_bias_0.fif\n",
      "Closing E:\\jupyter file\\EEG_process\\SE_train_processed\\Z王莹20220422_bias_0.fif\n",
      "[done]\n",
      "../SE_train_processed/Z祁燕20220413_bias_0.fif\n",
      "Opening raw data file ../SE_train\\Z祁燕20220413_bias_0.fif...\n",
      "Isotrak not found\n",
      "    Range : 40144 ... 48336 =     39.203 ...    47.203 secs\n",
      "Ready.\n",
      "data_256.shape (15, 2048)\n",
      "data_256_samples.shape (15, 4, 512)\n",
      "data_sta.shape (15, 4, 512)\n",
      "data_x.shape: (60, 512, 1)\n"
     ]
    },
    {
     "name": "stderr",
     "output_type": "stream",
     "text": [
      "<ipython-input-4-d8650b052227>:74: RuntimeWarning: This filename (E:\\jupyter file\\EEG_process\\SE_train_processed\\Z王莹20220422_bias_0.fif) does not conform to MNE naming conventions. All raw files should end with raw.fif, raw_sss.fif, raw_tsss.fif, _meg.fif, _eeg.fif, _ieeg.fif, raw.fif.gz, raw_sss.fif.gz, raw_tsss.fif.gz, _meg.fif.gz, _eeg.fif.gz or _ieeg.fif.gz\n",
      "  custom_raw.save(save_path,overwrite=True)\n",
      "<ipython-input-4-d8650b052227>:2: RuntimeWarning: This filename (../SE_train\\Z祁燕20220413_bias_0.fif) does not conform to MNE naming conventions. All raw files should end with raw.fif, raw_sss.fif, raw_tsss.fif, _meg.fif, _eeg.fif, _ieeg.fif, raw.fif.gz, raw_sss.fif.gz, raw_tsss.fif.gz, _meg.fif.gz, _eeg.fif.gz or _ieeg.fif.gz\n",
      "  raw = read_raw_fif(file_path)\n"
     ]
    },
    {
     "name": "stdout",
     "output_type": "stream",
     "text": [
      "pred_channel.shape (15, 2048)\n",
      "Creating RawArray with float64 data, n_channels=15, n_times=2048\n",
      "    Range : 0 ... 2047 =      0.000 ...     7.996 secs\n",
      "Ready.\n",
      "Writing E:\\jupyter file\\EEG_process\\SE_train_processed\\Z祁燕20220413_bias_0.fif\n",
      "Closing E:\\jupyter file\\EEG_process\\SE_train_processed\\Z祁燕20220413_bias_0.fif\n",
      "[done]\n",
      "../SE_train_processed/Z祁燕20220415_bias_0.fif\n",
      "Opening raw data file ../SE_train\\Z祁燕20220415_bias_0.fif...\n",
      "Isotrak not found\n",
      "    Range : 85335 ... 93527 =     83.335 ...    91.335 secs\n",
      "Ready.\n",
      "data_256.shape (15, 2048)\n",
      "data_256_samples.shape (15, 4, 512)\n",
      "data_sta.shape (15, 4, 512)\n",
      "data_x.shape: (60, 512, 1)\n"
     ]
    },
    {
     "name": "stderr",
     "output_type": "stream",
     "text": [
      "<ipython-input-4-d8650b052227>:74: RuntimeWarning: This filename (E:\\jupyter file\\EEG_process\\SE_train_processed\\Z祁燕20220413_bias_0.fif) does not conform to MNE naming conventions. All raw files should end with raw.fif, raw_sss.fif, raw_tsss.fif, _meg.fif, _eeg.fif, _ieeg.fif, raw.fif.gz, raw_sss.fif.gz, raw_tsss.fif.gz, _meg.fif.gz, _eeg.fif.gz or _ieeg.fif.gz\n",
      "  custom_raw.save(save_path,overwrite=True)\n",
      "<ipython-input-4-d8650b052227>:2: RuntimeWarning: This filename (../SE_train\\Z祁燕20220415_bias_0.fif) does not conform to MNE naming conventions. All raw files should end with raw.fif, raw_sss.fif, raw_tsss.fif, _meg.fif, _eeg.fif, _ieeg.fif, raw.fif.gz, raw_sss.fif.gz, raw_tsss.fif.gz, _meg.fif.gz, _eeg.fif.gz or _ieeg.fif.gz\n",
      "  raw = read_raw_fif(file_path)\n"
     ]
    },
    {
     "name": "stdout",
     "output_type": "stream",
     "text": [
      "pred_channel.shape (15, 2048)\n",
      "Creating RawArray with float64 data, n_channels=15, n_times=2048\n",
      "    Range : 0 ... 2047 =      0.000 ...     7.996 secs\n",
      "Ready.\n",
      "Writing E:\\jupyter file\\EEG_process\\SE_train_processed\\Z祁燕20220415_bias_0.fif\n",
      "Closing E:\\jupyter file\\EEG_process\\SE_train_processed\\Z祁燕20220415_bias_0.fif\n",
      "[done]\n",
      "../SE_train_processed/Z祁燕20220422_bias_0.fif\n",
      "Opening raw data file ../SE_train\\Z祁燕20220422_bias_0.fif...\n",
      "Isotrak not found\n",
      "    Range : 51664 ... 59856 =     50.453 ...    58.453 secs\n",
      "Ready.\n",
      "data_256.shape (15, 2048)\n",
      "data_256_samples.shape (15, 4, 512)\n",
      "data_sta.shape (15, 4, 512)\n",
      "data_x.shape: (60, 512, 1)\n"
     ]
    },
    {
     "name": "stderr",
     "output_type": "stream",
     "text": [
      "<ipython-input-4-d8650b052227>:74: RuntimeWarning: This filename (E:\\jupyter file\\EEG_process\\SE_train_processed\\Z祁燕20220415_bias_0.fif) does not conform to MNE naming conventions. All raw files should end with raw.fif, raw_sss.fif, raw_tsss.fif, _meg.fif, _eeg.fif, _ieeg.fif, raw.fif.gz, raw_sss.fif.gz, raw_tsss.fif.gz, _meg.fif.gz, _eeg.fif.gz or _ieeg.fif.gz\n",
      "  custom_raw.save(save_path,overwrite=True)\n",
      "<ipython-input-4-d8650b052227>:2: RuntimeWarning: This filename (../SE_train\\Z祁燕20220422_bias_0.fif) does not conform to MNE naming conventions. All raw files should end with raw.fif, raw_sss.fif, raw_tsss.fif, _meg.fif, _eeg.fif, _ieeg.fif, raw.fif.gz, raw_sss.fif.gz, raw_tsss.fif.gz, _meg.fif.gz, _eeg.fif.gz or _ieeg.fif.gz\n",
      "  raw = read_raw_fif(file_path)\n"
     ]
    },
    {
     "name": "stdout",
     "output_type": "stream",
     "text": [
      "pred_channel.shape (15, 2048)\n",
      "Creating RawArray with float64 data, n_channels=15, n_times=2048\n",
      "    Range : 0 ... 2047 =      0.000 ...     7.996 secs\n",
      "Ready.\n",
      "Writing E:\\jupyter file\\EEG_process\\SE_train_processed\\Z祁燕20220422_bias_0.fif\n",
      "Closing E:\\jupyter file\\EEG_process\\SE_train_processed\\Z祁燕20220422_bias_0.fif\n",
      "[done]\n",
      "../SE_train_processed/Z祁燕20220425（未发作）_bias_0.fif\n",
      "Opening raw data file ../SE_train\\Z祁燕20220425（未发作）_bias_0.fif...\n",
      "Isotrak not found\n",
      "    Range : 1151 ... 9343 =      1.124 ...     9.124 secs\n",
      "Ready.\n",
      "data_256.shape (15, 2048)\n",
      "data_256_samples.shape (15, 4, 512)\n",
      "data_sta.shape (15, 4, 512)\n",
      "data_x.shape: (60, 512, 1)\n"
     ]
    },
    {
     "name": "stderr",
     "output_type": "stream",
     "text": [
      "<ipython-input-4-d8650b052227>:74: RuntimeWarning: This filename (E:\\jupyter file\\EEG_process\\SE_train_processed\\Z祁燕20220422_bias_0.fif) does not conform to MNE naming conventions. All raw files should end with raw.fif, raw_sss.fif, raw_tsss.fif, _meg.fif, _eeg.fif, _ieeg.fif, raw.fif.gz, raw_sss.fif.gz, raw_tsss.fif.gz, _meg.fif.gz, _eeg.fif.gz or _ieeg.fif.gz\n",
      "  custom_raw.save(save_path,overwrite=True)\n",
      "<ipython-input-4-d8650b052227>:2: RuntimeWarning: This filename (../SE_train\\Z祁燕20220425（未发作）_bias_0.fif) does not conform to MNE naming conventions. All raw files should end with raw.fif, raw_sss.fif, raw_tsss.fif, _meg.fif, _eeg.fif, _ieeg.fif, raw.fif.gz, raw_sss.fif.gz, raw_tsss.fif.gz, _meg.fif.gz, _eeg.fif.gz or _ieeg.fif.gz\n",
      "  raw = read_raw_fif(file_path)\n"
     ]
    },
    {
     "name": "stdout",
     "output_type": "stream",
     "text": [
      "pred_channel.shape (15, 2048)\n",
      "Creating RawArray with float64 data, n_channels=15, n_times=2048\n",
      "    Range : 0 ... 2047 =      0.000 ...     7.996 secs\n",
      "Ready.\n",
      "Writing E:\\jupyter file\\EEG_process\\SE_train_processed\\Z祁燕20220425（未发作）_bias_0.fif\n",
      "Closing E:\\jupyter file\\EEG_process\\SE_train_processed\\Z祁燕20220425（未发作）_bias_0.fif\n",
      "[done]\n",
      "../SE_train_processed/Z祁燕20220425（未发作）_bias_16.fif\n",
      "Opening raw data file ../SE_train\\Z祁燕20220425（未发作）_bias_16.fif...\n",
      "Isotrak not found\n",
      "    Range : 17535 ... 33919 =     17.124 ...    33.124 secs\n",
      "Ready.\n",
      "data_256.shape (15, 2048)\n",
      "data_256_samples.shape (15, 4, 512)\n",
      "data_sta.shape (15, 4, 512)\n",
      "data_x.shape: (60, 512, 1)\n"
     ]
    },
    {
     "name": "stderr",
     "output_type": "stream",
     "text": [
      "<ipython-input-4-d8650b052227>:74: RuntimeWarning: This filename (E:\\jupyter file\\EEG_process\\SE_train_processed\\Z祁燕20220425（未发作）_bias_0.fif) does not conform to MNE naming conventions. All raw files should end with raw.fif, raw_sss.fif, raw_tsss.fif, _meg.fif, _eeg.fif, _ieeg.fif, raw.fif.gz, raw_sss.fif.gz, raw_tsss.fif.gz, _meg.fif.gz, _eeg.fif.gz or _ieeg.fif.gz\n",
      "  custom_raw.save(save_path,overwrite=True)\n",
      "<ipython-input-4-d8650b052227>:2: RuntimeWarning: This filename (../SE_train\\Z祁燕20220425（未发作）_bias_16.fif) does not conform to MNE naming conventions. All raw files should end with raw.fif, raw_sss.fif, raw_tsss.fif, _meg.fif, _eeg.fif, _ieeg.fif, raw.fif.gz, raw_sss.fif.gz, raw_tsss.fif.gz, _meg.fif.gz, _eeg.fif.gz or _ieeg.fif.gz\n",
      "  raw = read_raw_fif(file_path)\n"
     ]
    },
    {
     "name": "stdout",
     "output_type": "stream",
     "text": [
      "pred_channel.shape (15, 2048)\n",
      "Creating RawArray with float64 data, n_channels=15, n_times=2048\n",
      "    Range : 0 ... 2047 =      0.000 ...     7.996 secs\n",
      "Ready.\n",
      "Writing E:\\jupyter file\\EEG_process\\SE_train_processed\\Z祁燕20220425（未发作）_bias_16.fif\n",
      "Closing E:\\jupyter file\\EEG_process\\SE_train_processed\\Z祁燕20220425（未发作）_bias_16.fif\n",
      "[done]\n",
      "../SE_train_processed/Z祁燕20220425（未发作）_bias_24.fif\n",
      "Opening raw data file ../SE_train\\Z祁燕20220425（未发作）_bias_24.fif...\n",
      "Isotrak not found\n",
      "    Range : 25727 ... 42111 =     25.124 ...    41.124 secs\n",
      "Ready.\n",
      "data_256.shape (15, 2048)\n",
      "data_256_samples.shape (15, 4, 512)\n",
      "data_sta.shape (15, 4, 512)\n",
      "data_x.shape: (60, 512, 1)\n"
     ]
    },
    {
     "name": "stderr",
     "output_type": "stream",
     "text": [
      "<ipython-input-4-d8650b052227>:74: RuntimeWarning: This filename (E:\\jupyter file\\EEG_process\\SE_train_processed\\Z祁燕20220425（未发作）_bias_16.fif) does not conform to MNE naming conventions. All raw files should end with raw.fif, raw_sss.fif, raw_tsss.fif, _meg.fif, _eeg.fif, _ieeg.fif, raw.fif.gz, raw_sss.fif.gz, raw_tsss.fif.gz, _meg.fif.gz, _eeg.fif.gz or _ieeg.fif.gz\n",
      "  custom_raw.save(save_path,overwrite=True)\n",
      "<ipython-input-4-d8650b052227>:2: RuntimeWarning: This filename (../SE_train\\Z祁燕20220425（未发作）_bias_24.fif) does not conform to MNE naming conventions. All raw files should end with raw.fif, raw_sss.fif, raw_tsss.fif, _meg.fif, _eeg.fif, _ieeg.fif, raw.fif.gz, raw_sss.fif.gz, raw_tsss.fif.gz, _meg.fif.gz, _eeg.fif.gz or _ieeg.fif.gz\n",
      "  raw = read_raw_fif(file_path)\n"
     ]
    },
    {
     "name": "stdout",
     "output_type": "stream",
     "text": [
      "pred_channel.shape (15, 2048)\n",
      "Creating RawArray with float64 data, n_channels=15, n_times=2048\n",
      "    Range : 0 ... 2047 =      0.000 ...     7.996 secs\n",
      "Ready.\n",
      "Writing E:\\jupyter file\\EEG_process\\SE_train_processed\\Z祁燕20220425（未发作）_bias_24.fif\n",
      "Closing E:\\jupyter file\\EEG_process\\SE_train_processed\\Z祁燕20220425（未发作）_bias_24.fif\n",
      "[done]\n",
      "../SE_train_processed/Z祁燕20220425（未发作）_bias_32.fif\n",
      "Opening raw data file ../SE_train\\Z祁燕20220425（未发作）_bias_32.fif...\n",
      "Isotrak not found\n",
      "    Range : 33919 ... 50303 =     33.124 ...    49.124 secs\n",
      "Ready.\n",
      "data_256.shape (15, 2048)\n",
      "data_256_samples.shape (15, 4, 512)\n",
      "data_sta.shape (15, 4, 512)\n",
      "data_x.shape: (60, 512, 1)\n"
     ]
    },
    {
     "name": "stderr",
     "output_type": "stream",
     "text": [
      "<ipython-input-4-d8650b052227>:74: RuntimeWarning: This filename (E:\\jupyter file\\EEG_process\\SE_train_processed\\Z祁燕20220425（未发作）_bias_24.fif) does not conform to MNE naming conventions. All raw files should end with raw.fif, raw_sss.fif, raw_tsss.fif, _meg.fif, _eeg.fif, _ieeg.fif, raw.fif.gz, raw_sss.fif.gz, raw_tsss.fif.gz, _meg.fif.gz, _eeg.fif.gz or _ieeg.fif.gz\n",
      "  custom_raw.save(save_path,overwrite=True)\n",
      "<ipython-input-4-d8650b052227>:2: RuntimeWarning: This filename (../SE_train\\Z祁燕20220425（未发作）_bias_32.fif) does not conform to MNE naming conventions. All raw files should end with raw.fif, raw_sss.fif, raw_tsss.fif, _meg.fif, _eeg.fif, _ieeg.fif, raw.fif.gz, raw_sss.fif.gz, raw_tsss.fif.gz, _meg.fif.gz, _eeg.fif.gz or _ieeg.fif.gz\n",
      "  raw = read_raw_fif(file_path)\n"
     ]
    },
    {
     "name": "stdout",
     "output_type": "stream",
     "text": [
      "pred_channel.shape (15, 2048)\n",
      "Creating RawArray with float64 data, n_channels=15, n_times=2048\n",
      "    Range : 0 ... 2047 =      0.000 ...     7.996 secs\n",
      "Ready.\n",
      "Writing E:\\jupyter file\\EEG_process\\SE_train_processed\\Z祁燕20220425（未发作）_bias_32.fif\n",
      "Closing E:\\jupyter file\\EEG_process\\SE_train_processed\\Z祁燕20220425（未发作）_bias_32.fif\n",
      "[done]\n",
      "../SE_train_processed/Z祁燕20220425（未发作）_bias_40.fif\n",
      "Opening raw data file ../SE_train\\Z祁燕20220425（未发作）_bias_40.fif...\n",
      "Isotrak not found\n",
      "    Range : 42111 ... 58495 =     41.124 ...    57.124 secs\n",
      "Ready.\n",
      "data_256.shape (15, 2048)\n",
      "data_256_samples.shape (15, 4, 512)\n",
      "data_sta.shape (15, 4, 512)\n",
      "data_x.shape: (60, 512, 1)\n"
     ]
    },
    {
     "name": "stderr",
     "output_type": "stream",
     "text": [
      "<ipython-input-4-d8650b052227>:74: RuntimeWarning: This filename (E:\\jupyter file\\EEG_process\\SE_train_processed\\Z祁燕20220425（未发作）_bias_32.fif) does not conform to MNE naming conventions. All raw files should end with raw.fif, raw_sss.fif, raw_tsss.fif, _meg.fif, _eeg.fif, _ieeg.fif, raw.fif.gz, raw_sss.fif.gz, raw_tsss.fif.gz, _meg.fif.gz, _eeg.fif.gz or _ieeg.fif.gz\n",
      "  custom_raw.save(save_path,overwrite=True)\n",
      "<ipython-input-4-d8650b052227>:2: RuntimeWarning: This filename (../SE_train\\Z祁燕20220425（未发作）_bias_40.fif) does not conform to MNE naming conventions. All raw files should end with raw.fif, raw_sss.fif, raw_tsss.fif, _meg.fif, _eeg.fif, _ieeg.fif, raw.fif.gz, raw_sss.fif.gz, raw_tsss.fif.gz, _meg.fif.gz, _eeg.fif.gz or _ieeg.fif.gz\n",
      "  raw = read_raw_fif(file_path)\n"
     ]
    },
    {
     "name": "stdout",
     "output_type": "stream",
     "text": [
      "pred_channel.shape (15, 2048)\n",
      "Creating RawArray with float64 data, n_channels=15, n_times=2048\n",
      "    Range : 0 ... 2047 =      0.000 ...     7.996 secs\n",
      "Ready.\n",
      "Writing E:\\jupyter file\\EEG_process\\SE_train_processed\\Z祁燕20220425（未发作）_bias_40.fif\n",
      "Closing E:\\jupyter file\\EEG_process\\SE_train_processed\\Z祁燕20220425（未发作）_bias_40.fif\n",
      "[done]\n",
      "../SE_train_processed/Z祁燕20220425（未发作）_bias_8.fif\n",
      "Opening raw data file ../SE_train\\Z祁燕20220425（未发作）_bias_8.fif...\n",
      "Isotrak not found\n",
      "    Range : 9343 ... 25727 =      9.124 ...    25.124 secs\n",
      "Ready.\n",
      "data_256.shape (15, 2048)\n",
      "data_256_samples.shape (15, 4, 512)\n",
      "data_sta.shape (15, 4, 512)\n",
      "data_x.shape: (60, 512, 1)\n"
     ]
    },
    {
     "name": "stderr",
     "output_type": "stream",
     "text": [
      "<ipython-input-4-d8650b052227>:74: RuntimeWarning: This filename (E:\\jupyter file\\EEG_process\\SE_train_processed\\Z祁燕20220425（未发作）_bias_40.fif) does not conform to MNE naming conventions. All raw files should end with raw.fif, raw_sss.fif, raw_tsss.fif, _meg.fif, _eeg.fif, _ieeg.fif, raw.fif.gz, raw_sss.fif.gz, raw_tsss.fif.gz, _meg.fif.gz, _eeg.fif.gz or _ieeg.fif.gz\n",
      "  custom_raw.save(save_path,overwrite=True)\n",
      "<ipython-input-4-d8650b052227>:2: RuntimeWarning: This filename (../SE_train\\Z祁燕20220425（未发作）_bias_8.fif) does not conform to MNE naming conventions. All raw files should end with raw.fif, raw_sss.fif, raw_tsss.fif, _meg.fif, _eeg.fif, _ieeg.fif, raw.fif.gz, raw_sss.fif.gz, raw_tsss.fif.gz, _meg.fif.gz, _eeg.fif.gz or _ieeg.fif.gz\n",
      "  raw = read_raw_fif(file_path)\n"
     ]
    },
    {
     "name": "stdout",
     "output_type": "stream",
     "text": [
      "pred_channel.shape (15, 2048)\n",
      "Creating RawArray with float64 data, n_channels=15, n_times=2048\n",
      "    Range : 0 ... 2047 =      0.000 ...     7.996 secs\n",
      "Ready.\n",
      "Writing E:\\jupyter file\\EEG_process\\SE_train_processed\\Z祁燕20220425（未发作）_bias_8.fif\n",
      "Closing E:\\jupyter file\\EEG_process\\SE_train_processed\\Z祁燕20220425（未发作）_bias_8.fif\n",
      "[done]\n",
      "../SE_train_processed/Z程婉君20220330_bias_0.fif\n",
      "Opening raw data file ../SE_train\\Z程婉君20220330_bias_0.fif...\n",
      "Isotrak not found\n",
      "    Range : 1870 ... 10062 =      1.826 ...     9.826 secs\n",
      "Ready.\n",
      "data_256.shape (15, 2048)\n",
      "data_256_samples.shape (15, 4, 512)\n",
      "data_sta.shape (15, 4, 512)\n",
      "data_x.shape: (60, 512, 1)\n"
     ]
    },
    {
     "name": "stderr",
     "output_type": "stream",
     "text": [
      "<ipython-input-4-d8650b052227>:74: RuntimeWarning: This filename (E:\\jupyter file\\EEG_process\\SE_train_processed\\Z祁燕20220425（未发作）_bias_8.fif) does not conform to MNE naming conventions. All raw files should end with raw.fif, raw_sss.fif, raw_tsss.fif, _meg.fif, _eeg.fif, _ieeg.fif, raw.fif.gz, raw_sss.fif.gz, raw_tsss.fif.gz, _meg.fif.gz, _eeg.fif.gz or _ieeg.fif.gz\n",
      "  custom_raw.save(save_path,overwrite=True)\n",
      "<ipython-input-4-d8650b052227>:2: RuntimeWarning: This filename (../SE_train\\Z程婉君20220330_bias_0.fif) does not conform to MNE naming conventions. All raw files should end with raw.fif, raw_sss.fif, raw_tsss.fif, _meg.fif, _eeg.fif, _ieeg.fif, raw.fif.gz, raw_sss.fif.gz, raw_tsss.fif.gz, _meg.fif.gz, _eeg.fif.gz or _ieeg.fif.gz\n",
      "  raw = read_raw_fif(file_path)\n"
     ]
    },
    {
     "name": "stdout",
     "output_type": "stream",
     "text": [
      "pred_channel.shape (15, 2048)\n",
      "Creating RawArray with float64 data, n_channels=15, n_times=2048\n",
      "    Range : 0 ... 2047 =      0.000 ...     7.996 secs\n",
      "Ready.\n",
      "Writing E:\\jupyter file\\EEG_process\\SE_train_processed\\Z程婉君20220330_bias_0.fif\n",
      "Closing E:\\jupyter file\\EEG_process\\SE_train_processed\\Z程婉君20220330_bias_0.fif\n",
      "[done]\n",
      "../SE_train_processed/Z程婉君20220401_bias_0.fif\n",
      "Opening raw data file ../SE_train\\Z程婉君20220401_bias_0.fif...\n",
      "Isotrak not found\n",
      "    Range : 41299 ... 49491 =     40.331 ...    48.331 secs\n",
      "Ready.\n",
      "data_256.shape (15, 2048)\n",
      "data_256_samples.shape (15, 4, 512)\n",
      "data_sta.shape (15, 4, 512)\n",
      "data_x.shape: (60, 512, 1)\n"
     ]
    },
    {
     "name": "stderr",
     "output_type": "stream",
     "text": [
      "<ipython-input-4-d8650b052227>:74: RuntimeWarning: This filename (E:\\jupyter file\\EEG_process\\SE_train_processed\\Z程婉君20220330_bias_0.fif) does not conform to MNE naming conventions. All raw files should end with raw.fif, raw_sss.fif, raw_tsss.fif, _meg.fif, _eeg.fif, _ieeg.fif, raw.fif.gz, raw_sss.fif.gz, raw_tsss.fif.gz, _meg.fif.gz, _eeg.fif.gz or _ieeg.fif.gz\n",
      "  custom_raw.save(save_path,overwrite=True)\n",
      "<ipython-input-4-d8650b052227>:2: RuntimeWarning: This filename (../SE_train\\Z程婉君20220401_bias_0.fif) does not conform to MNE naming conventions. All raw files should end with raw.fif, raw_sss.fif, raw_tsss.fif, _meg.fif, _eeg.fif, _ieeg.fif, raw.fif.gz, raw_sss.fif.gz, raw_tsss.fif.gz, _meg.fif.gz, _eeg.fif.gz or _ieeg.fif.gz\n",
      "  raw = read_raw_fif(file_path)\n"
     ]
    },
    {
     "name": "stdout",
     "output_type": "stream",
     "text": [
      "pred_channel.shape (15, 2048)\n",
      "Creating RawArray with float64 data, n_channels=15, n_times=2048\n",
      "    Range : 0 ... 2047 =      0.000 ...     7.996 secs\n",
      "Ready.\n",
      "Writing E:\\jupyter file\\EEG_process\\SE_train_processed\\Z程婉君20220401_bias_0.fif\n",
      "Closing E:\\jupyter file\\EEG_process\\SE_train_processed\\Z程婉君20220401_bias_0.fif\n",
      "[done]\n",
      "../SE_train_processed/Z程婉君20220408_bias_0.fif\n",
      "Opening raw data file ../SE_train\\Z程婉君20220408_bias_0.fif...\n",
      "Isotrak not found\n",
      "    Range : 87884 ... 96076 =     85.824 ...    93.824 secs\n",
      "Ready.\n",
      "data_256.shape (15, 2048)\n",
      "data_256_samples.shape (15, 4, 512)\n",
      "data_sta.shape (15, 4, 512)\n",
      "data_x.shape: (60, 512, 1)\n"
     ]
    },
    {
     "name": "stderr",
     "output_type": "stream",
     "text": [
      "<ipython-input-4-d8650b052227>:74: RuntimeWarning: This filename (E:\\jupyter file\\EEG_process\\SE_train_processed\\Z程婉君20220401_bias_0.fif) does not conform to MNE naming conventions. All raw files should end with raw.fif, raw_sss.fif, raw_tsss.fif, _meg.fif, _eeg.fif, _ieeg.fif, raw.fif.gz, raw_sss.fif.gz, raw_tsss.fif.gz, _meg.fif.gz, _eeg.fif.gz or _ieeg.fif.gz\n",
      "  custom_raw.save(save_path,overwrite=True)\n",
      "<ipython-input-4-d8650b052227>:2: RuntimeWarning: This filename (../SE_train\\Z程婉君20220408_bias_0.fif) does not conform to MNE naming conventions. All raw files should end with raw.fif, raw_sss.fif, raw_tsss.fif, _meg.fif, _eeg.fif, _ieeg.fif, raw.fif.gz, raw_sss.fif.gz, raw_tsss.fif.gz, _meg.fif.gz, _eeg.fif.gz or _ieeg.fif.gz\n",
      "  raw = read_raw_fif(file_path)\n"
     ]
    },
    {
     "name": "stdout",
     "output_type": "stream",
     "text": [
      "pred_channel.shape (15, 2048)\n",
      "Creating RawArray with float64 data, n_channels=15, n_times=2048\n",
      "    Range : 0 ... 2047 =      0.000 ...     7.996 secs\n",
      "Ready.\n",
      "Writing E:\\jupyter file\\EEG_process\\SE_train_processed\\Z程婉君20220408_bias_0.fif\n",
      "Closing E:\\jupyter file\\EEG_process\\SE_train_processed\\Z程婉君20220408_bias_0.fif\n",
      "[done]\n",
      "../SE_train_processed/Z程婉君20220411_bias_0.fif\n",
      "Opening raw data file ../SE_train\\Z程婉君20220411_bias_0.fif...\n",
      "Isotrak not found\n",
      "    Range : 15501 ... 23693 =     15.138 ...    23.138 secs\n",
      "Ready.\n",
      "data_256.shape (15, 2048)\n",
      "data_256_samples.shape (15, 4, 512)\n",
      "data_sta.shape (15, 4, 512)\n",
      "data_x.shape: (60, 512, 1)\n"
     ]
    },
    {
     "name": "stderr",
     "output_type": "stream",
     "text": [
      "<ipython-input-4-d8650b052227>:74: RuntimeWarning: This filename (E:\\jupyter file\\EEG_process\\SE_train_processed\\Z程婉君20220408_bias_0.fif) does not conform to MNE naming conventions. All raw files should end with raw.fif, raw_sss.fif, raw_tsss.fif, _meg.fif, _eeg.fif, _ieeg.fif, raw.fif.gz, raw_sss.fif.gz, raw_tsss.fif.gz, _meg.fif.gz, _eeg.fif.gz or _ieeg.fif.gz\n",
      "  custom_raw.save(save_path,overwrite=True)\n",
      "<ipython-input-4-d8650b052227>:2: RuntimeWarning: This filename (../SE_train\\Z程婉君20220411_bias_0.fif) does not conform to MNE naming conventions. All raw files should end with raw.fif, raw_sss.fif, raw_tsss.fif, _meg.fif, _eeg.fif, _ieeg.fif, raw.fif.gz, raw_sss.fif.gz, raw_tsss.fif.gz, _meg.fif.gz, _eeg.fif.gz or _ieeg.fif.gz\n",
      "  raw = read_raw_fif(file_path)\n"
     ]
    },
    {
     "name": "stdout",
     "output_type": "stream",
     "text": [
      "pred_channel.shape (15, 2048)\n",
      "Creating RawArray with float64 data, n_channels=15, n_times=2048\n",
      "    Range : 0 ... 2047 =      0.000 ...     7.996 secs\n",
      "Ready.\n",
      "Writing E:\\jupyter file\\EEG_process\\SE_train_processed\\Z程婉君20220411_bias_0.fif\n",
      "Closing E:\\jupyter file\\EEG_process\\SE_train_processed\\Z程婉君20220411_bias_0.fif\n",
      "[done]\n",
      "../SE_train_processed/Z肖星星20220325_bias_0.fif\n",
      "Opening raw data file ../SE_train\\Z肖星星20220325_bias_0.fif...\n",
      "Isotrak not found\n",
      "    Range : 385800 ... 393992 =    376.758 ...   384.758 secs\n",
      "Ready.\n",
      "data_256.shape (15, 2048)\n",
      "data_256_samples.shape (15, 4, 512)\n",
      "data_sta.shape (15, 4, 512)\n",
      "data_x.shape: (60, 512, 1)\n"
     ]
    },
    {
     "name": "stderr",
     "output_type": "stream",
     "text": [
      "<ipython-input-4-d8650b052227>:74: RuntimeWarning: This filename (E:\\jupyter file\\EEG_process\\SE_train_processed\\Z程婉君20220411_bias_0.fif) does not conform to MNE naming conventions. All raw files should end with raw.fif, raw_sss.fif, raw_tsss.fif, _meg.fif, _eeg.fif, _ieeg.fif, raw.fif.gz, raw_sss.fif.gz, raw_tsss.fif.gz, _meg.fif.gz, _eeg.fif.gz or _ieeg.fif.gz\n",
      "  custom_raw.save(save_path,overwrite=True)\n",
      "<ipython-input-4-d8650b052227>:2: RuntimeWarning: This filename (../SE_train\\Z肖星星20220325_bias_0.fif) does not conform to MNE naming conventions. All raw files should end with raw.fif, raw_sss.fif, raw_tsss.fif, _meg.fif, _eeg.fif, _ieeg.fif, raw.fif.gz, raw_sss.fif.gz, raw_tsss.fif.gz, _meg.fif.gz, _eeg.fif.gz or _ieeg.fif.gz\n",
      "  raw = read_raw_fif(file_path)\n"
     ]
    },
    {
     "name": "stdout",
     "output_type": "stream",
     "text": [
      "pred_channel.shape (15, 2048)\n",
      "Creating RawArray with float64 data, n_channels=15, n_times=2048\n",
      "    Range : 0 ... 2047 =      0.000 ...     7.996 secs\n",
      "Ready.\n",
      "Writing E:\\jupyter file\\EEG_process\\SE_train_processed\\Z肖星星20220325_bias_0.fif\n",
      "Closing E:\\jupyter file\\EEG_process\\SE_train_processed\\Z肖星星20220325_bias_0.fif\n",
      "[done]\n",
      "../SE_train_processed/Z肖星星20220328_bias_0.fif\n",
      "Opening raw data file ../SE_train\\Z肖星星20220328_bias_0.fif...\n",
      "Isotrak not found\n",
      "    Range : 72393 ... 80585 =     70.696 ...    78.696 secs\n",
      "Ready.\n",
      "data_256.shape (15, 2048)\n",
      "data_256_samples.shape (15, 4, 512)\n",
      "data_sta.shape (15, 4, 512)\n",
      "data_x.shape: (60, 512, 1)\n"
     ]
    },
    {
     "name": "stderr",
     "output_type": "stream",
     "text": [
      "<ipython-input-4-d8650b052227>:74: RuntimeWarning: This filename (E:\\jupyter file\\EEG_process\\SE_train_processed\\Z肖星星20220325_bias_0.fif) does not conform to MNE naming conventions. All raw files should end with raw.fif, raw_sss.fif, raw_tsss.fif, _meg.fif, _eeg.fif, _ieeg.fif, raw.fif.gz, raw_sss.fif.gz, raw_tsss.fif.gz, _meg.fif.gz, _eeg.fif.gz or _ieeg.fif.gz\n",
      "  custom_raw.save(save_path,overwrite=True)\n",
      "<ipython-input-4-d8650b052227>:2: RuntimeWarning: This filename (../SE_train\\Z肖星星20220328_bias_0.fif) does not conform to MNE naming conventions. All raw files should end with raw.fif, raw_sss.fif, raw_tsss.fif, _meg.fif, _eeg.fif, _ieeg.fif, raw.fif.gz, raw_sss.fif.gz, raw_tsss.fif.gz, _meg.fif.gz, _eeg.fif.gz or _ieeg.fif.gz\n",
      "  raw = read_raw_fif(file_path)\n"
     ]
    },
    {
     "name": "stdout",
     "output_type": "stream",
     "text": [
      "pred_channel.shape (15, 2048)\n",
      "Creating RawArray with float64 data, n_channels=15, n_times=2048\n",
      "    Range : 0 ... 2047 =      0.000 ...     7.996 secs\n",
      "Ready.\n",
      "Writing E:\\jupyter file\\EEG_process\\SE_train_processed\\Z肖星星20220328_bias_0.fif\n",
      "Closing E:\\jupyter file\\EEG_process\\SE_train_processed\\Z肖星星20220328_bias_0.fif\n",
      "[done]\n",
      "../SE_train_processed/Z肖星星20220330（未发作）_bias_0.fif\n",
      "Opening raw data file ../SE_train\\Z肖星星20220330（未发作）_bias_0.fif...\n",
      "Isotrak not found\n",
      "    Range : 19135 ... 27327 =     18.687 ...    26.687 secs\n",
      "Ready.\n",
      "data_256.shape (15, 2048)\n",
      "data_256_samples.shape (15, 4, 512)\n",
      "data_sta.shape (15, 4, 512)\n",
      "data_x.shape: (60, 512, 1)\n"
     ]
    },
    {
     "name": "stderr",
     "output_type": "stream",
     "text": [
      "<ipython-input-4-d8650b052227>:74: RuntimeWarning: This filename (E:\\jupyter file\\EEG_process\\SE_train_processed\\Z肖星星20220328_bias_0.fif) does not conform to MNE naming conventions. All raw files should end with raw.fif, raw_sss.fif, raw_tsss.fif, _meg.fif, _eeg.fif, _ieeg.fif, raw.fif.gz, raw_sss.fif.gz, raw_tsss.fif.gz, _meg.fif.gz, _eeg.fif.gz or _ieeg.fif.gz\n",
      "  custom_raw.save(save_path,overwrite=True)\n",
      "<ipython-input-4-d8650b052227>:2: RuntimeWarning: This filename (../SE_train\\Z肖星星20220330（未发作）_bias_0.fif) does not conform to MNE naming conventions. All raw files should end with raw.fif, raw_sss.fif, raw_tsss.fif, _meg.fif, _eeg.fif, _ieeg.fif, raw.fif.gz, raw_sss.fif.gz, raw_tsss.fif.gz, _meg.fif.gz, _eeg.fif.gz or _ieeg.fif.gz\n",
      "  raw = read_raw_fif(file_path)\n"
     ]
    },
    {
     "name": "stdout",
     "output_type": "stream",
     "text": [
      "pred_channel.shape (15, 2048)\n",
      "Creating RawArray with float64 data, n_channels=15, n_times=2048\n",
      "    Range : 0 ... 2047 =      0.000 ...     7.996 secs\n",
      "Ready.\n",
      "Writing E:\\jupyter file\\EEG_process\\SE_train_processed\\Z肖星星20220330（未发作）_bias_0.fif\n",
      "Closing E:\\jupyter file\\EEG_process\\SE_train_processed\\Z肖星星20220330（未发作）_bias_0.fif\n",
      "[done]\n",
      "../SE_train_processed/Z肖星星20220330（未发作）_bias_16.fif\n",
      "Opening raw data file ../SE_train\\Z肖星星20220330（未发作）_bias_16.fif...\n",
      "Isotrak not found\n",
      "    Range : 35519 ... 51903 =     34.687 ...    50.687 secs\n",
      "Ready.\n",
      "data_256.shape (15, 2048)\n",
      "data_256_samples.shape (15, 4, 512)\n",
      "data_sta.shape (15, 4, 512)\n",
      "data_x.shape: (60, 512, 1)\n"
     ]
    },
    {
     "name": "stderr",
     "output_type": "stream",
     "text": [
      "<ipython-input-4-d8650b052227>:74: RuntimeWarning: This filename (E:\\jupyter file\\EEG_process\\SE_train_processed\\Z肖星星20220330（未发作）_bias_0.fif) does not conform to MNE naming conventions. All raw files should end with raw.fif, raw_sss.fif, raw_tsss.fif, _meg.fif, _eeg.fif, _ieeg.fif, raw.fif.gz, raw_sss.fif.gz, raw_tsss.fif.gz, _meg.fif.gz, _eeg.fif.gz or _ieeg.fif.gz\n",
      "  custom_raw.save(save_path,overwrite=True)\n",
      "<ipython-input-4-d8650b052227>:2: RuntimeWarning: This filename (../SE_train\\Z肖星星20220330（未发作）_bias_16.fif) does not conform to MNE naming conventions. All raw files should end with raw.fif, raw_sss.fif, raw_tsss.fif, _meg.fif, _eeg.fif, _ieeg.fif, raw.fif.gz, raw_sss.fif.gz, raw_tsss.fif.gz, _meg.fif.gz, _eeg.fif.gz or _ieeg.fif.gz\n",
      "  raw = read_raw_fif(file_path)\n"
     ]
    },
    {
     "name": "stdout",
     "output_type": "stream",
     "text": [
      "pred_channel.shape (15, 2048)\n",
      "Creating RawArray with float64 data, n_channels=15, n_times=2048\n",
      "    Range : 0 ... 2047 =      0.000 ...     7.996 secs\n",
      "Ready.\n",
      "Writing E:\\jupyter file\\EEG_process\\SE_train_processed\\Z肖星星20220330（未发作）_bias_16.fif\n",
      "Closing E:\\jupyter file\\EEG_process\\SE_train_processed\\Z肖星星20220330（未发作）_bias_16.fif\n",
      "[done]\n",
      "../SE_train_processed/Z肖星星20220330（未发作）_bias_24.fif\n",
      "Opening raw data file ../SE_train\\Z肖星星20220330（未发作）_bias_24.fif...\n",
      "Isotrak not found\n",
      "    Range : 43711 ... 60095 =     42.687 ...    58.687 secs\n",
      "Ready.\n",
      "data_256.shape (15, 2048)\n",
      "data_256_samples.shape (15, 4, 512)\n",
      "data_sta.shape (15, 4, 512)\n",
      "data_x.shape: (60, 512, 1)\n"
     ]
    },
    {
     "name": "stderr",
     "output_type": "stream",
     "text": [
      "<ipython-input-4-d8650b052227>:74: RuntimeWarning: This filename (E:\\jupyter file\\EEG_process\\SE_train_processed\\Z肖星星20220330（未发作）_bias_16.fif) does not conform to MNE naming conventions. All raw files should end with raw.fif, raw_sss.fif, raw_tsss.fif, _meg.fif, _eeg.fif, _ieeg.fif, raw.fif.gz, raw_sss.fif.gz, raw_tsss.fif.gz, _meg.fif.gz, _eeg.fif.gz or _ieeg.fif.gz\n",
      "  custom_raw.save(save_path,overwrite=True)\n",
      "<ipython-input-4-d8650b052227>:2: RuntimeWarning: This filename (../SE_train\\Z肖星星20220330（未发作）_bias_24.fif) does not conform to MNE naming conventions. All raw files should end with raw.fif, raw_sss.fif, raw_tsss.fif, _meg.fif, _eeg.fif, _ieeg.fif, raw.fif.gz, raw_sss.fif.gz, raw_tsss.fif.gz, _meg.fif.gz, _eeg.fif.gz or _ieeg.fif.gz\n",
      "  raw = read_raw_fif(file_path)\n"
     ]
    },
    {
     "name": "stdout",
     "output_type": "stream",
     "text": [
      "pred_channel.shape (15, 2048)\n",
      "Creating RawArray with float64 data, n_channels=15, n_times=2048\n",
      "    Range : 0 ... 2047 =      0.000 ...     7.996 secs\n",
      "Ready.\n",
      "Writing E:\\jupyter file\\EEG_process\\SE_train_processed\\Z肖星星20220330（未发作）_bias_24.fif\n",
      "Closing E:\\jupyter file\\EEG_process\\SE_train_processed\\Z肖星星20220330（未发作）_bias_24.fif\n",
      "[done]\n",
      "../SE_train_processed/Z肖星星20220330（未发作）_bias_32.fif\n",
      "Opening raw data file ../SE_train\\Z肖星星20220330（未发作）_bias_32.fif...\n",
      "Isotrak not found\n",
      "    Range : 51903 ... 68287 =     50.687 ...    66.687 secs\n",
      "Ready.\n",
      "data_256.shape (15, 2048)\n",
      "data_256_samples.shape (15, 4, 512)\n",
      "data_sta.shape (15, 4, 512)\n",
      "data_x.shape: (60, 512, 1)\n"
     ]
    },
    {
     "name": "stderr",
     "output_type": "stream",
     "text": [
      "<ipython-input-4-d8650b052227>:74: RuntimeWarning: This filename (E:\\jupyter file\\EEG_process\\SE_train_processed\\Z肖星星20220330（未发作）_bias_24.fif) does not conform to MNE naming conventions. All raw files should end with raw.fif, raw_sss.fif, raw_tsss.fif, _meg.fif, _eeg.fif, _ieeg.fif, raw.fif.gz, raw_sss.fif.gz, raw_tsss.fif.gz, _meg.fif.gz, _eeg.fif.gz or _ieeg.fif.gz\n",
      "  custom_raw.save(save_path,overwrite=True)\n",
      "<ipython-input-4-d8650b052227>:2: RuntimeWarning: This filename (../SE_train\\Z肖星星20220330（未发作）_bias_32.fif) does not conform to MNE naming conventions. All raw files should end with raw.fif, raw_sss.fif, raw_tsss.fif, _meg.fif, _eeg.fif, _ieeg.fif, raw.fif.gz, raw_sss.fif.gz, raw_tsss.fif.gz, _meg.fif.gz, _eeg.fif.gz or _ieeg.fif.gz\n",
      "  raw = read_raw_fif(file_path)\n"
     ]
    },
    {
     "name": "stdout",
     "output_type": "stream",
     "text": [
      "pred_channel.shape (15, 2048)\n",
      "Creating RawArray with float64 data, n_channels=15, n_times=2048\n",
      "    Range : 0 ... 2047 =      0.000 ...     7.996 secs\n",
      "Ready.\n",
      "Writing E:\\jupyter file\\EEG_process\\SE_train_processed\\Z肖星星20220330（未发作）_bias_32.fif\n",
      "Closing E:\\jupyter file\\EEG_process\\SE_train_processed\\Z肖星星20220330（未发作）_bias_32.fif\n",
      "[done]\n",
      "../SE_train_processed/Z肖星星20220330（未发作）_bias_40.fif\n",
      "Opening raw data file ../SE_train\\Z肖星星20220330（未发作）_bias_40.fif...\n",
      "Isotrak not found\n",
      "    Range : 60095 ... 76479 =     58.687 ...    74.687 secs\n",
      "Ready.\n",
      "data_256.shape (15, 2048)\n",
      "data_256_samples.shape (15, 4, 512)\n",
      "data_sta.shape (15, 4, 512)\n",
      "data_x.shape: (60, 512, 1)\n"
     ]
    },
    {
     "name": "stderr",
     "output_type": "stream",
     "text": [
      "<ipython-input-4-d8650b052227>:74: RuntimeWarning: This filename (E:\\jupyter file\\EEG_process\\SE_train_processed\\Z肖星星20220330（未发作）_bias_32.fif) does not conform to MNE naming conventions. All raw files should end with raw.fif, raw_sss.fif, raw_tsss.fif, _meg.fif, _eeg.fif, _ieeg.fif, raw.fif.gz, raw_sss.fif.gz, raw_tsss.fif.gz, _meg.fif.gz, _eeg.fif.gz or _ieeg.fif.gz\n",
      "  custom_raw.save(save_path,overwrite=True)\n",
      "<ipython-input-4-d8650b052227>:2: RuntimeWarning: This filename (../SE_train\\Z肖星星20220330（未发作）_bias_40.fif) does not conform to MNE naming conventions. All raw files should end with raw.fif, raw_sss.fif, raw_tsss.fif, _meg.fif, _eeg.fif, _ieeg.fif, raw.fif.gz, raw_sss.fif.gz, raw_tsss.fif.gz, _meg.fif.gz, _eeg.fif.gz or _ieeg.fif.gz\n",
      "  raw = read_raw_fif(file_path)\n"
     ]
    },
    {
     "name": "stdout",
     "output_type": "stream",
     "text": [
      "pred_channel.shape (15, 2048)\n",
      "Creating RawArray with float64 data, n_channels=15, n_times=2048\n",
      "    Range : 0 ... 2047 =      0.000 ...     7.996 secs\n",
      "Ready.\n",
      "Writing E:\\jupyter file\\EEG_process\\SE_train_processed\\Z肖星星20220330（未发作）_bias_40.fif\n",
      "Closing E:\\jupyter file\\EEG_process\\SE_train_processed\\Z肖星星20220330（未发作）_bias_40.fif\n",
      "[done]\n",
      "../SE_train_processed/Z肖星星20220330（未发作）_bias_8.fif\n",
      "Opening raw data file ../SE_train\\Z肖星星20220330（未发作）_bias_8.fif...\n",
      "Isotrak not found\n",
      "    Range : 27327 ... 43711 =     26.687 ...    42.687 secs\n",
      "Ready.\n",
      "data_256.shape (15, 2048)\n",
      "data_256_samples.shape (15, 4, 512)\n",
      "data_sta.shape (15, 4, 512)\n",
      "data_x.shape: (60, 512, 1)\n"
     ]
    },
    {
     "name": "stderr",
     "output_type": "stream",
     "text": [
      "<ipython-input-4-d8650b052227>:74: RuntimeWarning: This filename (E:\\jupyter file\\EEG_process\\SE_train_processed\\Z肖星星20220330（未发作）_bias_40.fif) does not conform to MNE naming conventions. All raw files should end with raw.fif, raw_sss.fif, raw_tsss.fif, _meg.fif, _eeg.fif, _ieeg.fif, raw.fif.gz, raw_sss.fif.gz, raw_tsss.fif.gz, _meg.fif.gz, _eeg.fif.gz or _ieeg.fif.gz\n",
      "  custom_raw.save(save_path,overwrite=True)\n",
      "<ipython-input-4-d8650b052227>:2: RuntimeWarning: This filename (../SE_train\\Z肖星星20220330（未发作）_bias_8.fif) does not conform to MNE naming conventions. All raw files should end with raw.fif, raw_sss.fif, raw_tsss.fif, _meg.fif, _eeg.fif, _ieeg.fif, raw.fif.gz, raw_sss.fif.gz, raw_tsss.fif.gz, _meg.fif.gz, _eeg.fif.gz or _ieeg.fif.gz\n",
      "  raw = read_raw_fif(file_path)\n"
     ]
    },
    {
     "name": "stdout",
     "output_type": "stream",
     "text": [
      "pred_channel.shape (15, 2048)\n",
      "Creating RawArray with float64 data, n_channels=15, n_times=2048\n",
      "    Range : 0 ... 2047 =      0.000 ...     7.996 secs\n",
      "Ready.\n",
      "Writing E:\\jupyter file\\EEG_process\\SE_train_processed\\Z肖星星20220330（未发作）_bias_8.fif\n",
      "Closing E:\\jupyter file\\EEG_process\\SE_train_processed\\Z肖星星20220330（未发作）_bias_8.fif\n",
      "[done]\n",
      "../SE_train_processed/Z肖星星20220401_bias_0.fif\n",
      "Opening raw data file ../SE_train\\Z肖星星20220401_bias_0.fif...\n",
      "Isotrak not found\n",
      "    Range : 84137 ... 92329 =     82.165 ...    90.165 secs\n",
      "Ready.\n",
      "data_256.shape (15, 2048)\n",
      "data_256_samples.shape (15, 4, 512)\n",
      "data_sta.shape (15, 4, 512)\n",
      "data_x.shape: (60, 512, 1)\n"
     ]
    },
    {
     "name": "stderr",
     "output_type": "stream",
     "text": [
      "<ipython-input-4-d8650b052227>:74: RuntimeWarning: This filename (E:\\jupyter file\\EEG_process\\SE_train_processed\\Z肖星星20220330（未发作）_bias_8.fif) does not conform to MNE naming conventions. All raw files should end with raw.fif, raw_sss.fif, raw_tsss.fif, _meg.fif, _eeg.fif, _ieeg.fif, raw.fif.gz, raw_sss.fif.gz, raw_tsss.fif.gz, _meg.fif.gz, _eeg.fif.gz or _ieeg.fif.gz\n",
      "  custom_raw.save(save_path,overwrite=True)\n",
      "<ipython-input-4-d8650b052227>:2: RuntimeWarning: This filename (../SE_train\\Z肖星星20220401_bias_0.fif) does not conform to MNE naming conventions. All raw files should end with raw.fif, raw_sss.fif, raw_tsss.fif, _meg.fif, _eeg.fif, _ieeg.fif, raw.fif.gz, raw_sss.fif.gz, raw_tsss.fif.gz, _meg.fif.gz, _eeg.fif.gz or _ieeg.fif.gz\n",
      "  raw = read_raw_fif(file_path)\n"
     ]
    },
    {
     "name": "stdout",
     "output_type": "stream",
     "text": [
      "pred_channel.shape (15, 2048)\n",
      "Creating RawArray with float64 data, n_channels=15, n_times=2048\n",
      "    Range : 0 ... 2047 =      0.000 ...     7.996 secs\n",
      "Ready.\n",
      "Writing E:\\jupyter file\\EEG_process\\SE_train_processed\\Z肖星星20220401_bias_0.fif\n",
      "Closing E:\\jupyter file\\EEG_process\\SE_train_processed\\Z肖星星20220401_bias_0.fif\n",
      "[done]\n",
      "../SE_train_processed/Z肖智华20220225（未发作）_bias_0.fif\n",
      "Opening raw data file ../SE_train\\Z肖智华20220225（未发作）_bias_0.fif...\n",
      "Isotrak not found\n",
      "    Range : 3029 ... 11221 =      2.958 ...    10.958 secs\n",
      "Ready.\n",
      "data_256.shape (15, 2048)\n",
      "data_256_samples.shape (15, 4, 512)\n",
      "data_sta.shape (15, 4, 512)\n",
      "data_x.shape: (60, 512, 1)\n"
     ]
    },
    {
     "name": "stderr",
     "output_type": "stream",
     "text": [
      "<ipython-input-4-d8650b052227>:74: RuntimeWarning: This filename (E:\\jupyter file\\EEG_process\\SE_train_processed\\Z肖星星20220401_bias_0.fif) does not conform to MNE naming conventions. All raw files should end with raw.fif, raw_sss.fif, raw_tsss.fif, _meg.fif, _eeg.fif, _ieeg.fif, raw.fif.gz, raw_sss.fif.gz, raw_tsss.fif.gz, _meg.fif.gz, _eeg.fif.gz or _ieeg.fif.gz\n",
      "  custom_raw.save(save_path,overwrite=True)\n",
      "<ipython-input-4-d8650b052227>:2: RuntimeWarning: This filename (../SE_train\\Z肖智华20220225（未发作）_bias_0.fif) does not conform to MNE naming conventions. All raw files should end with raw.fif, raw_sss.fif, raw_tsss.fif, _meg.fif, _eeg.fif, _ieeg.fif, raw.fif.gz, raw_sss.fif.gz, raw_tsss.fif.gz, _meg.fif.gz, _eeg.fif.gz or _ieeg.fif.gz\n",
      "  raw = read_raw_fif(file_path)\n"
     ]
    },
    {
     "name": "stdout",
     "output_type": "stream",
     "text": [
      "pred_channel.shape (15, 2048)\n",
      "Creating RawArray with float64 data, n_channels=15, n_times=2048\n",
      "    Range : 0 ... 2047 =      0.000 ...     7.996 secs\n",
      "Ready.\n",
      "Writing E:\\jupyter file\\EEG_process\\SE_train_processed\\Z肖智华20220225（未发作）_bias_0.fif\n",
      "Closing E:\\jupyter file\\EEG_process\\SE_train_processed\\Z肖智华20220225（未发作）_bias_0.fif\n",
      "[done]\n",
      "../SE_train_processed/Z肖智华20220225（未发作）_bias_16.fif\n",
      "Opening raw data file ../SE_train\\Z肖智华20220225（未发作）_bias_16.fif...\n",
      "Isotrak not found\n",
      "    Range : 19413 ... 35797 =     18.958 ...    34.958 secs\n",
      "Ready.\n",
      "data_256.shape (15, 2048)\n",
      "data_256_samples.shape (15, 4, 512)\n",
      "data_sta.shape (15, 4, 512)\n",
      "data_x.shape: (60, 512, 1)\n"
     ]
    },
    {
     "name": "stderr",
     "output_type": "stream",
     "text": [
      "<ipython-input-4-d8650b052227>:74: RuntimeWarning: This filename (E:\\jupyter file\\EEG_process\\SE_train_processed\\Z肖智华20220225（未发作）_bias_0.fif) does not conform to MNE naming conventions. All raw files should end with raw.fif, raw_sss.fif, raw_tsss.fif, _meg.fif, _eeg.fif, _ieeg.fif, raw.fif.gz, raw_sss.fif.gz, raw_tsss.fif.gz, _meg.fif.gz, _eeg.fif.gz or _ieeg.fif.gz\n",
      "  custom_raw.save(save_path,overwrite=True)\n",
      "<ipython-input-4-d8650b052227>:2: RuntimeWarning: This filename (../SE_train\\Z肖智华20220225（未发作）_bias_16.fif) does not conform to MNE naming conventions. All raw files should end with raw.fif, raw_sss.fif, raw_tsss.fif, _meg.fif, _eeg.fif, _ieeg.fif, raw.fif.gz, raw_sss.fif.gz, raw_tsss.fif.gz, _meg.fif.gz, _eeg.fif.gz or _ieeg.fif.gz\n",
      "  raw = read_raw_fif(file_path)\n"
     ]
    },
    {
     "name": "stdout",
     "output_type": "stream",
     "text": [
      "pred_channel.shape (15, 2048)\n",
      "Creating RawArray with float64 data, n_channels=15, n_times=2048\n",
      "    Range : 0 ... 2047 =      0.000 ...     7.996 secs\n",
      "Ready.\n",
      "Writing E:\\jupyter file\\EEG_process\\SE_train_processed\\Z肖智华20220225（未发作）_bias_16.fif\n",
      "Closing E:\\jupyter file\\EEG_process\\SE_train_processed\\Z肖智华20220225（未发作）_bias_16.fif\n",
      "[done]\n",
      "../SE_train_processed/Z肖智华20220225（未发作）_bias_24.fif\n",
      "Opening raw data file ../SE_train\\Z肖智华20220225（未发作）_bias_24.fif...\n",
      "Isotrak not found\n",
      "    Range : 27605 ... 43989 =     26.958 ...    42.958 secs\n",
      "Ready.\n",
      "data_256.shape (15, 2048)\n",
      "data_256_samples.shape (15, 4, 512)\n",
      "data_sta.shape (15, 4, 512)\n",
      "data_x.shape: (60, 512, 1)\n"
     ]
    },
    {
     "name": "stderr",
     "output_type": "stream",
     "text": [
      "<ipython-input-4-d8650b052227>:74: RuntimeWarning: This filename (E:\\jupyter file\\EEG_process\\SE_train_processed\\Z肖智华20220225（未发作）_bias_16.fif) does not conform to MNE naming conventions. All raw files should end with raw.fif, raw_sss.fif, raw_tsss.fif, _meg.fif, _eeg.fif, _ieeg.fif, raw.fif.gz, raw_sss.fif.gz, raw_tsss.fif.gz, _meg.fif.gz, _eeg.fif.gz or _ieeg.fif.gz\n",
      "  custom_raw.save(save_path,overwrite=True)\n",
      "<ipython-input-4-d8650b052227>:2: RuntimeWarning: This filename (../SE_train\\Z肖智华20220225（未发作）_bias_24.fif) does not conform to MNE naming conventions. All raw files should end with raw.fif, raw_sss.fif, raw_tsss.fif, _meg.fif, _eeg.fif, _ieeg.fif, raw.fif.gz, raw_sss.fif.gz, raw_tsss.fif.gz, _meg.fif.gz, _eeg.fif.gz or _ieeg.fif.gz\n",
      "  raw = read_raw_fif(file_path)\n"
     ]
    },
    {
     "name": "stdout",
     "output_type": "stream",
     "text": [
      "pred_channel.shape (15, 2048)\n",
      "Creating RawArray with float64 data, n_channels=15, n_times=2048\n",
      "    Range : 0 ... 2047 =      0.000 ...     7.996 secs\n",
      "Ready.\n",
      "Writing E:\\jupyter file\\EEG_process\\SE_train_processed\\Z肖智华20220225（未发作）_bias_24.fif\n",
      "Closing E:\\jupyter file\\EEG_process\\SE_train_processed\\Z肖智华20220225（未发作）_bias_24.fif\n",
      "[done]\n",
      "../SE_train_processed/Z肖智华20220225（未发作）_bias_32.fif\n",
      "Opening raw data file ../SE_train\\Z肖智华20220225（未发作）_bias_32.fif...\n",
      "Isotrak not found\n",
      "    Range : 35797 ... 52181 =     34.958 ...    50.958 secs\n",
      "Ready.\n",
      "data_256.shape (15, 2048)\n",
      "data_256_samples.shape (15, 4, 512)\n",
      "data_sta.shape (15, 4, 512)\n",
      "data_x.shape: (60, 512, 1)\n"
     ]
    },
    {
     "name": "stderr",
     "output_type": "stream",
     "text": [
      "<ipython-input-4-d8650b052227>:74: RuntimeWarning: This filename (E:\\jupyter file\\EEG_process\\SE_train_processed\\Z肖智华20220225（未发作）_bias_24.fif) does not conform to MNE naming conventions. All raw files should end with raw.fif, raw_sss.fif, raw_tsss.fif, _meg.fif, _eeg.fif, _ieeg.fif, raw.fif.gz, raw_sss.fif.gz, raw_tsss.fif.gz, _meg.fif.gz, _eeg.fif.gz or _ieeg.fif.gz\n",
      "  custom_raw.save(save_path,overwrite=True)\n",
      "<ipython-input-4-d8650b052227>:2: RuntimeWarning: This filename (../SE_train\\Z肖智华20220225（未发作）_bias_32.fif) does not conform to MNE naming conventions. All raw files should end with raw.fif, raw_sss.fif, raw_tsss.fif, _meg.fif, _eeg.fif, _ieeg.fif, raw.fif.gz, raw_sss.fif.gz, raw_tsss.fif.gz, _meg.fif.gz, _eeg.fif.gz or _ieeg.fif.gz\n",
      "  raw = read_raw_fif(file_path)\n"
     ]
    },
    {
     "name": "stdout",
     "output_type": "stream",
     "text": [
      "pred_channel.shape (15, 2048)\n",
      "Creating RawArray with float64 data, n_channels=15, n_times=2048\n",
      "    Range : 0 ... 2047 =      0.000 ...     7.996 secs\n",
      "Ready.\n",
      "Writing E:\\jupyter file\\EEG_process\\SE_train_processed\\Z肖智华20220225（未发作）_bias_32.fif\n",
      "Closing E:\\jupyter file\\EEG_process\\SE_train_processed\\Z肖智华20220225（未发作）_bias_32.fif\n",
      "[done]\n",
      "../SE_train_processed/Z肖智华20220225（未发作）_bias_40.fif\n",
      "Opening raw data file ../SE_train\\Z肖智华20220225（未发作）_bias_40.fif...\n",
      "Isotrak not found\n",
      "    Range : 43989 ... 60373 =     42.958 ...    58.958 secs\n",
      "Ready.\n",
      "data_256.shape (15, 2048)\n",
      "data_256_samples.shape (15, 4, 512)\n",
      "data_sta.shape (15, 4, 512)\n",
      "data_x.shape: (60, 512, 1)\n",
      "pred_channel.shape (15, 2048)\n"
     ]
    },
    {
     "name": "stderr",
     "output_type": "stream",
     "text": [
      "<ipython-input-4-d8650b052227>:74: RuntimeWarning: This filename (E:\\jupyter file\\EEG_process\\SE_train_processed\\Z肖智华20220225（未发作）_bias_32.fif) does not conform to MNE naming conventions. All raw files should end with raw.fif, raw_sss.fif, raw_tsss.fif, _meg.fif, _eeg.fif, _ieeg.fif, raw.fif.gz, raw_sss.fif.gz, raw_tsss.fif.gz, _meg.fif.gz, _eeg.fif.gz or _ieeg.fif.gz\n",
      "  custom_raw.save(save_path,overwrite=True)\n",
      "<ipython-input-4-d8650b052227>:2: RuntimeWarning: This filename (../SE_train\\Z肖智华20220225（未发作）_bias_40.fif) does not conform to MNE naming conventions. All raw files should end with raw.fif, raw_sss.fif, raw_tsss.fif, _meg.fif, _eeg.fif, _ieeg.fif, raw.fif.gz, raw_sss.fif.gz, raw_tsss.fif.gz, _meg.fif.gz, _eeg.fif.gz or _ieeg.fif.gz\n",
      "  raw = read_raw_fif(file_path)\n"
     ]
    },
    {
     "name": "stdout",
     "output_type": "stream",
     "text": [
      "Creating RawArray with float64 data, n_channels=15, n_times=2048\n",
      "    Range : 0 ... 2047 =      0.000 ...     7.996 secs\n",
      "Ready.\n",
      "Writing E:\\jupyter file\\EEG_process\\SE_train_processed\\Z肖智华20220225（未发作）_bias_40.fif\n",
      "Closing E:\\jupyter file\\EEG_process\\SE_train_processed\\Z肖智华20220225（未发作）_bias_40.fif\n",
      "[done]\n",
      "../SE_train_processed/Z肖智华20220225（未发作）_bias_8.fif\n",
      "Opening raw data file ../SE_train\\Z肖智华20220225（未发作）_bias_8.fif...\n",
      "Isotrak not found\n",
      "    Range : 11221 ... 27605 =     10.958 ...    26.958 secs\n",
      "Ready.\n",
      "data_256.shape (15, 2048)\n",
      "data_256_samples.shape (15, 4, 512)\n",
      "data_sta.shape (15, 4, 512)\n",
      "data_x.shape: (60, 512, 1)\n"
     ]
    },
    {
     "name": "stderr",
     "output_type": "stream",
     "text": [
      "<ipython-input-4-d8650b052227>:74: RuntimeWarning: This filename (E:\\jupyter file\\EEG_process\\SE_train_processed\\Z肖智华20220225（未发作）_bias_40.fif) does not conform to MNE naming conventions. All raw files should end with raw.fif, raw_sss.fif, raw_tsss.fif, _meg.fif, _eeg.fif, _ieeg.fif, raw.fif.gz, raw_sss.fif.gz, raw_tsss.fif.gz, _meg.fif.gz, _eeg.fif.gz or _ieeg.fif.gz\n",
      "  custom_raw.save(save_path,overwrite=True)\n",
      "<ipython-input-4-d8650b052227>:2: RuntimeWarning: This filename (../SE_train\\Z肖智华20220225（未发作）_bias_8.fif) does not conform to MNE naming conventions. All raw files should end with raw.fif, raw_sss.fif, raw_tsss.fif, _meg.fif, _eeg.fif, _ieeg.fif, raw.fif.gz, raw_sss.fif.gz, raw_tsss.fif.gz, _meg.fif.gz, _eeg.fif.gz or _ieeg.fif.gz\n",
      "  raw = read_raw_fif(file_path)\n"
     ]
    },
    {
     "name": "stdout",
     "output_type": "stream",
     "text": [
      "pred_channel.shape (15, 2048)\n",
      "Creating RawArray with float64 data, n_channels=15, n_times=2048\n",
      "    Range : 0 ... 2047 =      0.000 ...     7.996 secs\n",
      "Ready.\n",
      "Writing E:\\jupyter file\\EEG_process\\SE_train_processed\\Z肖智华20220225（未发作）_bias_8.fif\n",
      "Closing E:\\jupyter file\\EEG_process\\SE_train_processed\\Z肖智华20220225（未发作）_bias_8.fif\n",
      "[done]\n",
      "../SE_train_processed/Z肖智华20220228_bias_0.fif\n",
      "Opening raw data file ../SE_train\\Z肖智华20220228_bias_0.fif...\n",
      "Isotrak not found\n",
      "    Range : 25279 ... 33471 =     24.687 ...    32.687 secs\n",
      "Ready.\n",
      "data_256.shape (15, 2048)\n",
      "data_256_samples.shape (15, 4, 512)\n",
      "data_sta.shape (15, 4, 512)\n",
      "data_x.shape: (60, 512, 1)\n",
      "pred_channel.shape (15, 2048)\n"
     ]
    },
    {
     "name": "stderr",
     "output_type": "stream",
     "text": [
      "<ipython-input-4-d8650b052227>:74: RuntimeWarning: This filename (E:\\jupyter file\\EEG_process\\SE_train_processed\\Z肖智华20220225（未发作）_bias_8.fif) does not conform to MNE naming conventions. All raw files should end with raw.fif, raw_sss.fif, raw_tsss.fif, _meg.fif, _eeg.fif, _ieeg.fif, raw.fif.gz, raw_sss.fif.gz, raw_tsss.fif.gz, _meg.fif.gz, _eeg.fif.gz or _ieeg.fif.gz\n",
      "  custom_raw.save(save_path,overwrite=True)\n",
      "<ipython-input-4-d8650b052227>:2: RuntimeWarning: This filename (../SE_train\\Z肖智华20220228_bias_0.fif) does not conform to MNE naming conventions. All raw files should end with raw.fif, raw_sss.fif, raw_tsss.fif, _meg.fif, _eeg.fif, _ieeg.fif, raw.fif.gz, raw_sss.fif.gz, raw_tsss.fif.gz, _meg.fif.gz, _eeg.fif.gz or _ieeg.fif.gz\n",
      "  raw = read_raw_fif(file_path)\n"
     ]
    },
    {
     "name": "stdout",
     "output_type": "stream",
     "text": [
      "Creating RawArray with float64 data, n_channels=15, n_times=2048\n",
      "    Range : 0 ... 2047 =      0.000 ...     7.996 secs\n",
      "Ready.\n",
      "Writing E:\\jupyter file\\EEG_process\\SE_train_processed\\Z肖智华20220228_bias_0.fif\n",
      "Closing E:\\jupyter file\\EEG_process\\SE_train_processed\\Z肖智华20220228_bias_0.fif\n",
      "[done]\n",
      "../SE_train_processed/Z肖智华20220302_bias_0.fif\n",
      "Opening raw data file ../SE_train\\Z肖智华20220302_bias_0.fif...\n",
      "Isotrak not found\n",
      "    Range : 617238 ... 625430 =    602.771 ...   610.771 secs\n",
      "Ready.\n",
      "data_256.shape (15, 2048)\n",
      "data_256_samples.shape (15, 4, 512)\n",
      "data_sta.shape (15, 4, 512)\n",
      "data_x.shape: (60, 512, 1)\n"
     ]
    },
    {
     "name": "stderr",
     "output_type": "stream",
     "text": [
      "<ipython-input-4-d8650b052227>:74: RuntimeWarning: This filename (E:\\jupyter file\\EEG_process\\SE_train_processed\\Z肖智华20220228_bias_0.fif) does not conform to MNE naming conventions. All raw files should end with raw.fif, raw_sss.fif, raw_tsss.fif, _meg.fif, _eeg.fif, _ieeg.fif, raw.fif.gz, raw_sss.fif.gz, raw_tsss.fif.gz, _meg.fif.gz, _eeg.fif.gz or _ieeg.fif.gz\n",
      "  custom_raw.save(save_path,overwrite=True)\n",
      "<ipython-input-4-d8650b052227>:2: RuntimeWarning: This filename (../SE_train\\Z肖智华20220302_bias_0.fif) does not conform to MNE naming conventions. All raw files should end with raw.fif, raw_sss.fif, raw_tsss.fif, _meg.fif, _eeg.fif, _ieeg.fif, raw.fif.gz, raw_sss.fif.gz, raw_tsss.fif.gz, _meg.fif.gz, _eeg.fif.gz or _ieeg.fif.gz\n",
      "  raw = read_raw_fif(file_path)\n"
     ]
    },
    {
     "name": "stdout",
     "output_type": "stream",
     "text": [
      "pred_channel.shape (15, 2048)\n",
      "Creating RawArray with float64 data, n_channels=15, n_times=2048\n",
      "    Range : 0 ... 2047 =      0.000 ...     7.996 secs\n",
      "Ready.\n",
      "Writing E:\\jupyter file\\EEG_process\\SE_train_processed\\Z肖智华20220302_bias_0.fif\n",
      "Closing E:\\jupyter file\\EEG_process\\SE_train_processed\\Z肖智华20220302_bias_0.fif\n",
      "[done]\n",
      "../SE_train_processed/Z裴瑞婷20220420_bias_0.fif\n",
      "Opening raw data file ../SE_train\\Z裴瑞婷20220420_bias_0.fif...\n",
      "Isotrak not found\n",
      "    Range : 5821 ... 14013 =      5.685 ...    13.685 secs\n",
      "Ready.\n",
      "data_256.shape (15, 2048)\n",
      "data_256_samples.shape (15, 4, 512)\n",
      "data_sta.shape (15, 4, 512)\n",
      "data_x.shape: (60, 512, 1)\n",
      "pred_channel.shape (15, 2048)\n"
     ]
    },
    {
     "name": "stderr",
     "output_type": "stream",
     "text": [
      "<ipython-input-4-d8650b052227>:74: RuntimeWarning: This filename (E:\\jupyter file\\EEG_process\\SE_train_processed\\Z肖智华20220302_bias_0.fif) does not conform to MNE naming conventions. All raw files should end with raw.fif, raw_sss.fif, raw_tsss.fif, _meg.fif, _eeg.fif, _ieeg.fif, raw.fif.gz, raw_sss.fif.gz, raw_tsss.fif.gz, _meg.fif.gz, _eeg.fif.gz or _ieeg.fif.gz\n",
      "  custom_raw.save(save_path,overwrite=True)\n",
      "<ipython-input-4-d8650b052227>:2: RuntimeWarning: This filename (../SE_train\\Z裴瑞婷20220420_bias_0.fif) does not conform to MNE naming conventions. All raw files should end with raw.fif, raw_sss.fif, raw_tsss.fif, _meg.fif, _eeg.fif, _ieeg.fif, raw.fif.gz, raw_sss.fif.gz, raw_tsss.fif.gz, _meg.fif.gz, _eeg.fif.gz or _ieeg.fif.gz\n",
      "  raw = read_raw_fif(file_path)\n"
     ]
    },
    {
     "name": "stdout",
     "output_type": "stream",
     "text": [
      "Creating RawArray with float64 data, n_channels=15, n_times=2048\n",
      "    Range : 0 ... 2047 =      0.000 ...     7.996 secs\n",
      "Ready.\n",
      "Writing E:\\jupyter file\\EEG_process\\SE_train_processed\\Z裴瑞婷20220420_bias_0.fif\n",
      "Closing E:\\jupyter file\\EEG_process\\SE_train_processed\\Z裴瑞婷20220420_bias_0.fif\n",
      "[done]\n",
      "../SE_train_processed/Z裴瑞婷20220422_bias_0.fif\n",
      "Opening raw data file ../SE_train\\Z裴瑞婷20220422_bias_0.fif...\n",
      "Isotrak not found\n",
      "    Range : 167423 ... 175615 =    163.499 ...   171.499 secs\n",
      "Ready.\n",
      "data_256.shape (15, 2048)\n",
      "data_256_samples.shape (15, 4, 512)\n",
      "data_sta.shape (15, 4, 512)\n",
      "data_x.shape: (60, 512, 1)\n"
     ]
    },
    {
     "name": "stderr",
     "output_type": "stream",
     "text": [
      "<ipython-input-4-d8650b052227>:74: RuntimeWarning: This filename (E:\\jupyter file\\EEG_process\\SE_train_processed\\Z裴瑞婷20220420_bias_0.fif) does not conform to MNE naming conventions. All raw files should end with raw.fif, raw_sss.fif, raw_tsss.fif, _meg.fif, _eeg.fif, _ieeg.fif, raw.fif.gz, raw_sss.fif.gz, raw_tsss.fif.gz, _meg.fif.gz, _eeg.fif.gz or _ieeg.fif.gz\n",
      "  custom_raw.save(save_path,overwrite=True)\n",
      "<ipython-input-4-d8650b052227>:2: RuntimeWarning: This filename (../SE_train\\Z裴瑞婷20220422_bias_0.fif) does not conform to MNE naming conventions. All raw files should end with raw.fif, raw_sss.fif, raw_tsss.fif, _meg.fif, _eeg.fif, _ieeg.fif, raw.fif.gz, raw_sss.fif.gz, raw_tsss.fif.gz, _meg.fif.gz, _eeg.fif.gz or _ieeg.fif.gz\n",
      "  raw = read_raw_fif(file_path)\n"
     ]
    },
    {
     "name": "stdout",
     "output_type": "stream",
     "text": [
      "pred_channel.shape (15, 2048)\n",
      "Creating RawArray with float64 data, n_channels=15, n_times=2048\n",
      "    Range : 0 ... 2047 =      0.000 ...     7.996 secs\n",
      "Ready.\n",
      "Writing E:\\jupyter file\\EEG_process\\SE_train_processed\\Z裴瑞婷20220422_bias_0.fif\n",
      "Closing E:\\jupyter file\\EEG_process\\SE_train_processed\\Z裴瑞婷20220422_bias_0.fif\n",
      "[done]\n",
      "../SE_train_processed/Z裴瑞婷20220425（未发作）_bias_0.fif\n",
      "Opening raw data file ../SE_train\\Z裴瑞婷20220425（未发作）_bias_0.fif...\n",
      "Isotrak not found\n",
      "    Range : 20757 ... 28949 =     20.271 ...    28.271 secs\n",
      "Ready.\n",
      "data_256.shape (15, 2048)\n",
      "data_256_samples.shape (15, 4, 512)\n",
      "data_sta.shape (15, 4, 512)\n",
      "data_x.shape: (60, 512, 1)\n"
     ]
    },
    {
     "name": "stderr",
     "output_type": "stream",
     "text": [
      "<ipython-input-4-d8650b052227>:74: RuntimeWarning: This filename (E:\\jupyter file\\EEG_process\\SE_train_processed\\Z裴瑞婷20220422_bias_0.fif) does not conform to MNE naming conventions. All raw files should end with raw.fif, raw_sss.fif, raw_tsss.fif, _meg.fif, _eeg.fif, _ieeg.fif, raw.fif.gz, raw_sss.fif.gz, raw_tsss.fif.gz, _meg.fif.gz, _eeg.fif.gz or _ieeg.fif.gz\n",
      "  custom_raw.save(save_path,overwrite=True)\n",
      "<ipython-input-4-d8650b052227>:2: RuntimeWarning: This filename (../SE_train\\Z裴瑞婷20220425（未发作）_bias_0.fif) does not conform to MNE naming conventions. All raw files should end with raw.fif, raw_sss.fif, raw_tsss.fif, _meg.fif, _eeg.fif, _ieeg.fif, raw.fif.gz, raw_sss.fif.gz, raw_tsss.fif.gz, _meg.fif.gz, _eeg.fif.gz or _ieeg.fif.gz\n",
      "  raw = read_raw_fif(file_path)\n"
     ]
    },
    {
     "name": "stdout",
     "output_type": "stream",
     "text": [
      "pred_channel.shape (15, 2048)\n",
      "Creating RawArray with float64 data, n_channels=15, n_times=2048\n",
      "    Range : 0 ... 2047 =      0.000 ...     7.996 secs\n",
      "Ready.\n",
      "Writing E:\\jupyter file\\EEG_process\\SE_train_processed\\Z裴瑞婷20220425（未发作）_bias_0.fif\n",
      "Closing E:\\jupyter file\\EEG_process\\SE_train_processed\\Z裴瑞婷20220425（未发作）_bias_0.fif\n",
      "[done]\n",
      "../SE_train_processed/Z裴瑞婷20220425（未发作）_bias_16.fif\n",
      "Opening raw data file ../SE_train\\Z裴瑞婷20220425（未发作）_bias_16.fif...\n",
      "Isotrak not found\n",
      "    Range : 37141 ... 53525 =     36.271 ...    52.271 secs\n",
      "Ready.\n",
      "data_256.shape (15, 2048)\n",
      "data_256_samples.shape (15, 4, 512)\n",
      "data_sta.shape (15, 4, 512)\n",
      "data_x.shape: (60, 512, 1)\n"
     ]
    },
    {
     "name": "stderr",
     "output_type": "stream",
     "text": [
      "<ipython-input-4-d8650b052227>:74: RuntimeWarning: This filename (E:\\jupyter file\\EEG_process\\SE_train_processed\\Z裴瑞婷20220425（未发作）_bias_0.fif) does not conform to MNE naming conventions. All raw files should end with raw.fif, raw_sss.fif, raw_tsss.fif, _meg.fif, _eeg.fif, _ieeg.fif, raw.fif.gz, raw_sss.fif.gz, raw_tsss.fif.gz, _meg.fif.gz, _eeg.fif.gz or _ieeg.fif.gz\n",
      "  custom_raw.save(save_path,overwrite=True)\n",
      "<ipython-input-4-d8650b052227>:2: RuntimeWarning: This filename (../SE_train\\Z裴瑞婷20220425（未发作）_bias_16.fif) does not conform to MNE naming conventions. All raw files should end with raw.fif, raw_sss.fif, raw_tsss.fif, _meg.fif, _eeg.fif, _ieeg.fif, raw.fif.gz, raw_sss.fif.gz, raw_tsss.fif.gz, _meg.fif.gz, _eeg.fif.gz or _ieeg.fif.gz\n",
      "  raw = read_raw_fif(file_path)\n"
     ]
    },
    {
     "name": "stdout",
     "output_type": "stream",
     "text": [
      "pred_channel.shape (15, 2048)\n",
      "Creating RawArray with float64 data, n_channels=15, n_times=2048\n",
      "    Range : 0 ... 2047 =      0.000 ...     7.996 secs\n",
      "Ready.\n",
      "Writing E:\\jupyter file\\EEG_process\\SE_train_processed\\Z裴瑞婷20220425（未发作）_bias_16.fif\n",
      "Closing E:\\jupyter file\\EEG_process\\SE_train_processed\\Z裴瑞婷20220425（未发作）_bias_16.fif\n",
      "[done]\n",
      "../SE_train_processed/Z裴瑞婷20220425（未发作）_bias_24.fif\n",
      "Opening raw data file ../SE_train\\Z裴瑞婷20220425（未发作）_bias_24.fif...\n",
      "Isotrak not found\n",
      "    Range : 45333 ... 61717 =     44.271 ...    60.271 secs\n",
      "Ready.\n",
      "data_256.shape (15, 2048)\n",
      "data_256_samples.shape (15, 4, 512)\n",
      "data_sta.shape (15, 4, 512)\n",
      "data_x.shape: (60, 512, 1)\n"
     ]
    },
    {
     "name": "stderr",
     "output_type": "stream",
     "text": [
      "<ipython-input-4-d8650b052227>:74: RuntimeWarning: This filename (E:\\jupyter file\\EEG_process\\SE_train_processed\\Z裴瑞婷20220425（未发作）_bias_16.fif) does not conform to MNE naming conventions. All raw files should end with raw.fif, raw_sss.fif, raw_tsss.fif, _meg.fif, _eeg.fif, _ieeg.fif, raw.fif.gz, raw_sss.fif.gz, raw_tsss.fif.gz, _meg.fif.gz, _eeg.fif.gz or _ieeg.fif.gz\n",
      "  custom_raw.save(save_path,overwrite=True)\n",
      "<ipython-input-4-d8650b052227>:2: RuntimeWarning: This filename (../SE_train\\Z裴瑞婷20220425（未发作）_bias_24.fif) does not conform to MNE naming conventions. All raw files should end with raw.fif, raw_sss.fif, raw_tsss.fif, _meg.fif, _eeg.fif, _ieeg.fif, raw.fif.gz, raw_sss.fif.gz, raw_tsss.fif.gz, _meg.fif.gz, _eeg.fif.gz or _ieeg.fif.gz\n",
      "  raw = read_raw_fif(file_path)\n"
     ]
    },
    {
     "name": "stdout",
     "output_type": "stream",
     "text": [
      "pred_channel.shape (15, 2048)\n",
      "Creating RawArray with float64 data, n_channels=15, n_times=2048\n",
      "    Range : 0 ... 2047 =      0.000 ...     7.996 secs\n",
      "Ready.\n",
      "Writing E:\\jupyter file\\EEG_process\\SE_train_processed\\Z裴瑞婷20220425（未发作）_bias_24.fif\n",
      "Closing E:\\jupyter file\\EEG_process\\SE_train_processed\\Z裴瑞婷20220425（未发作）_bias_24.fif\n",
      "[done]\n",
      "../SE_train_processed/Z裴瑞婷20220425（未发作）_bias_32.fif\n",
      "Opening raw data file ../SE_train\\Z裴瑞婷20220425（未发作）_bias_32.fif...\n",
      "Isotrak not found\n",
      "    Range : 53525 ... 69909 =     52.271 ...    68.271 secs\n",
      "Ready.\n",
      "data_256.shape (15, 2048)\n",
      "data_256_samples.shape (15, 4, 512)\n",
      "data_sta.shape (15, 4, 512)\n",
      "data_x.shape: (60, 512, 1)\n"
     ]
    },
    {
     "name": "stderr",
     "output_type": "stream",
     "text": [
      "<ipython-input-4-d8650b052227>:74: RuntimeWarning: This filename (E:\\jupyter file\\EEG_process\\SE_train_processed\\Z裴瑞婷20220425（未发作）_bias_24.fif) does not conform to MNE naming conventions. All raw files should end with raw.fif, raw_sss.fif, raw_tsss.fif, _meg.fif, _eeg.fif, _ieeg.fif, raw.fif.gz, raw_sss.fif.gz, raw_tsss.fif.gz, _meg.fif.gz, _eeg.fif.gz or _ieeg.fif.gz\n",
      "  custom_raw.save(save_path,overwrite=True)\n",
      "<ipython-input-4-d8650b052227>:2: RuntimeWarning: This filename (../SE_train\\Z裴瑞婷20220425（未发作）_bias_32.fif) does not conform to MNE naming conventions. All raw files should end with raw.fif, raw_sss.fif, raw_tsss.fif, _meg.fif, _eeg.fif, _ieeg.fif, raw.fif.gz, raw_sss.fif.gz, raw_tsss.fif.gz, _meg.fif.gz, _eeg.fif.gz or _ieeg.fif.gz\n",
      "  raw = read_raw_fif(file_path)\n"
     ]
    },
    {
     "name": "stdout",
     "output_type": "stream",
     "text": [
      "pred_channel.shape (15, 2048)\n",
      "Creating RawArray with float64 data, n_channels=15, n_times=2048\n",
      "    Range : 0 ... 2047 =      0.000 ...     7.996 secs\n",
      "Ready.\n",
      "Writing E:\\jupyter file\\EEG_process\\SE_train_processed\\Z裴瑞婷20220425（未发作）_bias_32.fif\n",
      "Closing E:\\jupyter file\\EEG_process\\SE_train_processed\\Z裴瑞婷20220425（未发作）_bias_32.fif\n",
      "[done]\n",
      "../SE_train_processed/Z裴瑞婷20220425（未发作）_bias_40.fif\n",
      "Opening raw data file ../SE_train\\Z裴瑞婷20220425（未发作）_bias_40.fif...\n",
      "Isotrak not found\n",
      "    Range : 61717 ... 78101 =     60.271 ...    76.271 secs\n",
      "Ready.\n",
      "data_256.shape (15, 2048)\n",
      "data_256_samples.shape (15, 4, 512)\n",
      "data_sta.shape (15, 4, 512)\n",
      "data_x.shape: (60, 512, 1)\n"
     ]
    },
    {
     "name": "stderr",
     "output_type": "stream",
     "text": [
      "<ipython-input-4-d8650b052227>:74: RuntimeWarning: This filename (E:\\jupyter file\\EEG_process\\SE_train_processed\\Z裴瑞婷20220425（未发作）_bias_32.fif) does not conform to MNE naming conventions. All raw files should end with raw.fif, raw_sss.fif, raw_tsss.fif, _meg.fif, _eeg.fif, _ieeg.fif, raw.fif.gz, raw_sss.fif.gz, raw_tsss.fif.gz, _meg.fif.gz, _eeg.fif.gz or _ieeg.fif.gz\n",
      "  custom_raw.save(save_path,overwrite=True)\n",
      "<ipython-input-4-d8650b052227>:2: RuntimeWarning: This filename (../SE_train\\Z裴瑞婷20220425（未发作）_bias_40.fif) does not conform to MNE naming conventions. All raw files should end with raw.fif, raw_sss.fif, raw_tsss.fif, _meg.fif, _eeg.fif, _ieeg.fif, raw.fif.gz, raw_sss.fif.gz, raw_tsss.fif.gz, _meg.fif.gz, _eeg.fif.gz or _ieeg.fif.gz\n",
      "  raw = read_raw_fif(file_path)\n"
     ]
    },
    {
     "name": "stdout",
     "output_type": "stream",
     "text": [
      "pred_channel.shape (15, 2048)\n",
      "Creating RawArray with float64 data, n_channels=15, n_times=2048\n",
      "    Range : 0 ... 2047 =      0.000 ...     7.996 secs\n",
      "Ready.\n",
      "Writing E:\\jupyter file\\EEG_process\\SE_train_processed\\Z裴瑞婷20220425（未发作）_bias_40.fif\n",
      "Closing E:\\jupyter file\\EEG_process\\SE_train_processed\\Z裴瑞婷20220425（未发作）_bias_40.fif\n",
      "[done]\n",
      "../SE_train_processed/Z裴瑞婷20220425（未发作）_bias_8.fif\n",
      "Opening raw data file ../SE_train\\Z裴瑞婷20220425（未发作）_bias_8.fif...\n",
      "Isotrak not found\n",
      "    Range : 28949 ... 45333 =     28.271 ...    44.271 secs\n",
      "Ready.\n",
      "data_256.shape (15, 2048)\n",
      "data_256_samples.shape (15, 4, 512)\n",
      "data_sta.shape (15, 4, 512)\n",
      "data_x.shape: (60, 512, 1)\n"
     ]
    },
    {
     "name": "stderr",
     "output_type": "stream",
     "text": [
      "<ipython-input-4-d8650b052227>:74: RuntimeWarning: This filename (E:\\jupyter file\\EEG_process\\SE_train_processed\\Z裴瑞婷20220425（未发作）_bias_40.fif) does not conform to MNE naming conventions. All raw files should end with raw.fif, raw_sss.fif, raw_tsss.fif, _meg.fif, _eeg.fif, _ieeg.fif, raw.fif.gz, raw_sss.fif.gz, raw_tsss.fif.gz, _meg.fif.gz, _eeg.fif.gz or _ieeg.fif.gz\n",
      "  custom_raw.save(save_path,overwrite=True)\n",
      "<ipython-input-4-d8650b052227>:2: RuntimeWarning: This filename (../SE_train\\Z裴瑞婷20220425（未发作）_bias_8.fif) does not conform to MNE naming conventions. All raw files should end with raw.fif, raw_sss.fif, raw_tsss.fif, _meg.fif, _eeg.fif, _ieeg.fif, raw.fif.gz, raw_sss.fif.gz, raw_tsss.fif.gz, _meg.fif.gz, _eeg.fif.gz or _ieeg.fif.gz\n",
      "  raw = read_raw_fif(file_path)\n"
     ]
    },
    {
     "name": "stdout",
     "output_type": "stream",
     "text": [
      "pred_channel.shape (15, 2048)\n",
      "Creating RawArray with float64 data, n_channels=15, n_times=2048\n",
      "    Range : 0 ... 2047 =      0.000 ...     7.996 secs\n",
      "Ready.\n",
      "Writing E:\\jupyter file\\EEG_process\\SE_train_processed\\Z裴瑞婷20220425（未发作）_bias_8.fif\n",
      "Closing E:\\jupyter file\\EEG_process\\SE_train_processed\\Z裴瑞婷20220425（未发作）_bias_8.fif\n",
      "[done]\n",
      "../SE_train_processed/Z裴瑞婷20220427（未发作）_bias_0.fif\n",
      "Opening raw data file ../SE_train\\Z裴瑞婷20220427（未发作）_bias_0.fif...\n",
      "Isotrak not found\n",
      "    Range : 54939 ... 63131 =     53.651 ...    61.651 secs\n",
      "Ready.\n",
      "data_256.shape (15, 2048)\n",
      "data_256_samples.shape (15, 4, 512)\n",
      "data_sta.shape (15, 4, 512)\n",
      "data_x.shape: (60, 512, 1)\n"
     ]
    },
    {
     "name": "stderr",
     "output_type": "stream",
     "text": [
      "<ipython-input-4-d8650b052227>:74: RuntimeWarning: This filename (E:\\jupyter file\\EEG_process\\SE_train_processed\\Z裴瑞婷20220425（未发作）_bias_8.fif) does not conform to MNE naming conventions. All raw files should end with raw.fif, raw_sss.fif, raw_tsss.fif, _meg.fif, _eeg.fif, _ieeg.fif, raw.fif.gz, raw_sss.fif.gz, raw_tsss.fif.gz, _meg.fif.gz, _eeg.fif.gz or _ieeg.fif.gz\n",
      "  custom_raw.save(save_path,overwrite=True)\n",
      "<ipython-input-4-d8650b052227>:2: RuntimeWarning: This filename (../SE_train\\Z裴瑞婷20220427（未发作）_bias_0.fif) does not conform to MNE naming conventions. All raw files should end with raw.fif, raw_sss.fif, raw_tsss.fif, _meg.fif, _eeg.fif, _ieeg.fif, raw.fif.gz, raw_sss.fif.gz, raw_tsss.fif.gz, _meg.fif.gz, _eeg.fif.gz or _ieeg.fif.gz\n",
      "  raw = read_raw_fif(file_path)\n"
     ]
    },
    {
     "name": "stdout",
     "output_type": "stream",
     "text": [
      "pred_channel.shape (15, 2048)\n",
      "Creating RawArray with float64 data, n_channels=15, n_times=2048\n",
      "    Range : 0 ... 2047 =      0.000 ...     7.996 secs\n",
      "Ready.\n",
      "Writing E:\\jupyter file\\EEG_process\\SE_train_processed\\Z裴瑞婷20220427（未发作）_bias_0.fif\n",
      "Closing E:\\jupyter file\\EEG_process\\SE_train_processed\\Z裴瑞婷20220427（未发作）_bias_0.fif\n",
      "[done]\n",
      "../SE_train_processed/Z裴瑞婷20220427（未发作）_bias_16.fif\n",
      "Opening raw data file ../SE_train\\Z裴瑞婷20220427（未发作）_bias_16.fif...\n",
      "Isotrak not found\n",
      "    Range : 71323 ... 87707 =     69.651 ...    85.651 secs\n",
      "Ready.\n",
      "data_256.shape (15, 2048)\n",
      "data_256_samples.shape (15, 4, 512)\n",
      "data_sta.shape (15, 4, 512)\n",
      "data_x.shape: (60, 512, 1)\n"
     ]
    },
    {
     "name": "stderr",
     "output_type": "stream",
     "text": [
      "<ipython-input-4-d8650b052227>:74: RuntimeWarning: This filename (E:\\jupyter file\\EEG_process\\SE_train_processed\\Z裴瑞婷20220427（未发作）_bias_0.fif) does not conform to MNE naming conventions. All raw files should end with raw.fif, raw_sss.fif, raw_tsss.fif, _meg.fif, _eeg.fif, _ieeg.fif, raw.fif.gz, raw_sss.fif.gz, raw_tsss.fif.gz, _meg.fif.gz, _eeg.fif.gz or _ieeg.fif.gz\n",
      "  custom_raw.save(save_path,overwrite=True)\n",
      "<ipython-input-4-d8650b052227>:2: RuntimeWarning: This filename (../SE_train\\Z裴瑞婷20220427（未发作）_bias_16.fif) does not conform to MNE naming conventions. All raw files should end with raw.fif, raw_sss.fif, raw_tsss.fif, _meg.fif, _eeg.fif, _ieeg.fif, raw.fif.gz, raw_sss.fif.gz, raw_tsss.fif.gz, _meg.fif.gz, _eeg.fif.gz or _ieeg.fif.gz\n",
      "  raw = read_raw_fif(file_path)\n"
     ]
    },
    {
     "name": "stdout",
     "output_type": "stream",
     "text": [
      "pred_channel.shape (15, 2048)\n",
      "Creating RawArray with float64 data, n_channels=15, n_times=2048\n",
      "    Range : 0 ... 2047 =      0.000 ...     7.996 secs\n",
      "Ready.\n",
      "Writing E:\\jupyter file\\EEG_process\\SE_train_processed\\Z裴瑞婷20220427（未发作）_bias_16.fif\n",
      "Closing E:\\jupyter file\\EEG_process\\SE_train_processed\\Z裴瑞婷20220427（未发作）_bias_16.fif\n",
      "[done]\n",
      "../SE_train_processed/Z裴瑞婷20220427（未发作）_bias_24.fif\n",
      "Opening raw data file ../SE_train\\Z裴瑞婷20220427（未发作）_bias_24.fif...\n",
      "Isotrak not found\n",
      "    Range : 79515 ... 95899 =     77.651 ...    93.651 secs\n",
      "Ready.\n",
      "data_256.shape (15, 2048)\n",
      "data_256_samples.shape (15, 4, 512)\n",
      "data_sta.shape (15, 4, 512)\n",
      "data_x.shape: (60, 512, 1)\n"
     ]
    },
    {
     "name": "stderr",
     "output_type": "stream",
     "text": [
      "<ipython-input-4-d8650b052227>:74: RuntimeWarning: This filename (E:\\jupyter file\\EEG_process\\SE_train_processed\\Z裴瑞婷20220427（未发作）_bias_16.fif) does not conform to MNE naming conventions. All raw files should end with raw.fif, raw_sss.fif, raw_tsss.fif, _meg.fif, _eeg.fif, _ieeg.fif, raw.fif.gz, raw_sss.fif.gz, raw_tsss.fif.gz, _meg.fif.gz, _eeg.fif.gz or _ieeg.fif.gz\n",
      "  custom_raw.save(save_path,overwrite=True)\n",
      "<ipython-input-4-d8650b052227>:2: RuntimeWarning: This filename (../SE_train\\Z裴瑞婷20220427（未发作）_bias_24.fif) does not conform to MNE naming conventions. All raw files should end with raw.fif, raw_sss.fif, raw_tsss.fif, _meg.fif, _eeg.fif, _ieeg.fif, raw.fif.gz, raw_sss.fif.gz, raw_tsss.fif.gz, _meg.fif.gz, _eeg.fif.gz or _ieeg.fif.gz\n",
      "  raw = read_raw_fif(file_path)\n"
     ]
    },
    {
     "name": "stdout",
     "output_type": "stream",
     "text": [
      "pred_channel.shape (15, 2048)\n",
      "Creating RawArray with float64 data, n_channels=15, n_times=2048\n",
      "    Range : 0 ... 2047 =      0.000 ...     7.996 secs\n",
      "Ready.\n",
      "Writing E:\\jupyter file\\EEG_process\\SE_train_processed\\Z裴瑞婷20220427（未发作）_bias_24.fif\n",
      "Closing E:\\jupyter file\\EEG_process\\SE_train_processed\\Z裴瑞婷20220427（未发作）_bias_24.fif\n",
      "[done]\n",
      "../SE_train_processed/Z裴瑞婷20220427（未发作）_bias_32.fif\n",
      "Opening raw data file ../SE_train\\Z裴瑞婷20220427（未发作）_bias_32.fif...\n",
      "Isotrak not found\n",
      "    Range : 87707 ... 104091 =     85.651 ...   101.651 secs\n",
      "Ready.\n",
      "data_256.shape (15, 2048)\n",
      "data_256_samples.shape (15, 4, 512)\n",
      "data_sta.shape (15, 4, 512)\n",
      "data_x.shape: (60, 512, 1)\n"
     ]
    },
    {
     "name": "stderr",
     "output_type": "stream",
     "text": [
      "<ipython-input-4-d8650b052227>:74: RuntimeWarning: This filename (E:\\jupyter file\\EEG_process\\SE_train_processed\\Z裴瑞婷20220427（未发作）_bias_24.fif) does not conform to MNE naming conventions. All raw files should end with raw.fif, raw_sss.fif, raw_tsss.fif, _meg.fif, _eeg.fif, _ieeg.fif, raw.fif.gz, raw_sss.fif.gz, raw_tsss.fif.gz, _meg.fif.gz, _eeg.fif.gz or _ieeg.fif.gz\n",
      "  custom_raw.save(save_path,overwrite=True)\n",
      "<ipython-input-4-d8650b052227>:2: RuntimeWarning: This filename (../SE_train\\Z裴瑞婷20220427（未发作）_bias_32.fif) does not conform to MNE naming conventions. All raw files should end with raw.fif, raw_sss.fif, raw_tsss.fif, _meg.fif, _eeg.fif, _ieeg.fif, raw.fif.gz, raw_sss.fif.gz, raw_tsss.fif.gz, _meg.fif.gz, _eeg.fif.gz or _ieeg.fif.gz\n",
      "  raw = read_raw_fif(file_path)\n"
     ]
    },
    {
     "name": "stdout",
     "output_type": "stream",
     "text": [
      "pred_channel.shape (15, 2048)\n",
      "Creating RawArray with float64 data, n_channels=15, n_times=2048\n",
      "    Range : 0 ... 2047 =      0.000 ...     7.996 secs\n",
      "Ready.\n",
      "Writing E:\\jupyter file\\EEG_process\\SE_train_processed\\Z裴瑞婷20220427（未发作）_bias_32.fif\n",
      "Closing E:\\jupyter file\\EEG_process\\SE_train_processed\\Z裴瑞婷20220427（未发作）_bias_32.fif\n",
      "[done]\n",
      "../SE_train_processed/Z裴瑞婷20220427（未发作）_bias_40.fif\n",
      "Opening raw data file ../SE_train\\Z裴瑞婷20220427（未发作）_bias_40.fif...\n",
      "Isotrak not found\n",
      "    Range : 95899 ... 112283 =     93.651 ...   109.651 secs\n",
      "Ready.\n",
      "data_256.shape (15, 2048)\n",
      "data_256_samples.shape (15, 4, 512)\n",
      "data_sta.shape (15, 4, 512)\n",
      "data_x.shape: (60, 512, 1)\n"
     ]
    },
    {
     "name": "stderr",
     "output_type": "stream",
     "text": [
      "<ipython-input-4-d8650b052227>:74: RuntimeWarning: This filename (E:\\jupyter file\\EEG_process\\SE_train_processed\\Z裴瑞婷20220427（未发作）_bias_32.fif) does not conform to MNE naming conventions. All raw files should end with raw.fif, raw_sss.fif, raw_tsss.fif, _meg.fif, _eeg.fif, _ieeg.fif, raw.fif.gz, raw_sss.fif.gz, raw_tsss.fif.gz, _meg.fif.gz, _eeg.fif.gz or _ieeg.fif.gz\n",
      "  custom_raw.save(save_path,overwrite=True)\n",
      "<ipython-input-4-d8650b052227>:2: RuntimeWarning: This filename (../SE_train\\Z裴瑞婷20220427（未发作）_bias_40.fif) does not conform to MNE naming conventions. All raw files should end with raw.fif, raw_sss.fif, raw_tsss.fif, _meg.fif, _eeg.fif, _ieeg.fif, raw.fif.gz, raw_sss.fif.gz, raw_tsss.fif.gz, _meg.fif.gz, _eeg.fif.gz or _ieeg.fif.gz\n",
      "  raw = read_raw_fif(file_path)\n"
     ]
    },
    {
     "name": "stdout",
     "output_type": "stream",
     "text": [
      "pred_channel.shape (15, 2048)\n",
      "Creating RawArray with float64 data, n_channels=15, n_times=2048\n",
      "    Range : 0 ... 2047 =      0.000 ...     7.996 secs\n",
      "Ready.\n",
      "Writing E:\\jupyter file\\EEG_process\\SE_train_processed\\Z裴瑞婷20220427（未发作）_bias_40.fif\n",
      "Closing E:\\jupyter file\\EEG_process\\SE_train_processed\\Z裴瑞婷20220427（未发作）_bias_40.fif\n",
      "[done]\n",
      "../SE_train_processed/Z裴瑞婷20220427（未发作）_bias_8.fif\n",
      "Opening raw data file ../SE_train\\Z裴瑞婷20220427（未发作）_bias_8.fif...\n",
      "Isotrak not found\n",
      "    Range : 63131 ... 79515 =     61.651 ...    77.651 secs\n",
      "Ready.\n",
      "data_256.shape (15, 2048)\n",
      "data_256_samples.shape (15, 4, 512)\n",
      "data_sta.shape (15, 4, 512)\n",
      "data_x.shape: (60, 512, 1)\n"
     ]
    },
    {
     "name": "stderr",
     "output_type": "stream",
     "text": [
      "<ipython-input-4-d8650b052227>:74: RuntimeWarning: This filename (E:\\jupyter file\\EEG_process\\SE_train_processed\\Z裴瑞婷20220427（未发作）_bias_40.fif) does not conform to MNE naming conventions. All raw files should end with raw.fif, raw_sss.fif, raw_tsss.fif, _meg.fif, _eeg.fif, _ieeg.fif, raw.fif.gz, raw_sss.fif.gz, raw_tsss.fif.gz, _meg.fif.gz, _eeg.fif.gz or _ieeg.fif.gz\n",
      "  custom_raw.save(save_path,overwrite=True)\n",
      "<ipython-input-4-d8650b052227>:2: RuntimeWarning: This filename (../SE_train\\Z裴瑞婷20220427（未发作）_bias_8.fif) does not conform to MNE naming conventions. All raw files should end with raw.fif, raw_sss.fif, raw_tsss.fif, _meg.fif, _eeg.fif, _ieeg.fif, raw.fif.gz, raw_sss.fif.gz, raw_tsss.fif.gz, _meg.fif.gz, _eeg.fif.gz or _ieeg.fif.gz\n",
      "  raw = read_raw_fif(file_path)\n"
     ]
    },
    {
     "name": "stdout",
     "output_type": "stream",
     "text": [
      "pred_channel.shape (15, 2048)\n",
      "Creating RawArray with float64 data, n_channels=15, n_times=2048\n",
      "    Range : 0 ... 2047 =      0.000 ...     7.996 secs\n",
      "Ready.\n",
      "Writing E:\\jupyter file\\EEG_process\\SE_train_processed\\Z裴瑞婷20220427（未发作）_bias_8.fif\n",
      "Closing E:\\jupyter file\\EEG_process\\SE_train_processed\\Z裴瑞婷20220427（未发作）_bias_8.fif\n",
      "[done]\n",
      "../SE_train_processed/Z赵丽兰20220225_bias_0.fif\n",
      "Opening raw data file ../SE_train\\Z赵丽兰20220225_bias_0.fif...\n",
      "Isotrak not found\n",
      "    Range : 4874 ... 13066 =      4.760 ...    12.760 secs\n",
      "Ready.\n",
      "data_256.shape (15, 2048)\n",
      "data_256_samples.shape (15, 4, 512)\n",
      "data_sta.shape (15, 4, 512)\n",
      "data_x.shape: (60, 512, 1)\n"
     ]
    },
    {
     "name": "stderr",
     "output_type": "stream",
     "text": [
      "<ipython-input-4-d8650b052227>:74: RuntimeWarning: This filename (E:\\jupyter file\\EEG_process\\SE_train_processed\\Z裴瑞婷20220427（未发作）_bias_8.fif) does not conform to MNE naming conventions. All raw files should end with raw.fif, raw_sss.fif, raw_tsss.fif, _meg.fif, _eeg.fif, _ieeg.fif, raw.fif.gz, raw_sss.fif.gz, raw_tsss.fif.gz, _meg.fif.gz, _eeg.fif.gz or _ieeg.fif.gz\n",
      "  custom_raw.save(save_path,overwrite=True)\n",
      "<ipython-input-4-d8650b052227>:2: RuntimeWarning: This filename (../SE_train\\Z赵丽兰20220225_bias_0.fif) does not conform to MNE naming conventions. All raw files should end with raw.fif, raw_sss.fif, raw_tsss.fif, _meg.fif, _eeg.fif, _ieeg.fif, raw.fif.gz, raw_sss.fif.gz, raw_tsss.fif.gz, _meg.fif.gz, _eeg.fif.gz or _ieeg.fif.gz\n",
      "  raw = read_raw_fif(file_path)\n"
     ]
    },
    {
     "name": "stdout",
     "output_type": "stream",
     "text": [
      "pred_channel.shape (15, 2048)\n",
      "Creating RawArray with float64 data, n_channels=15, n_times=2048\n",
      "    Range : 0 ... 2047 =      0.000 ...     7.996 secs\n",
      "Ready.\n",
      "Writing E:\\jupyter file\\EEG_process\\SE_train_processed\\Z赵丽兰20220225_bias_0.fif\n",
      "Closing E:\\jupyter file\\EEG_process\\SE_train_processed\\Z赵丽兰20220225_bias_0.fif\n",
      "[done]\n",
      "../SE_train_processed/Z赵丽兰20220228_bias_0.fif\n",
      "Opening raw data file ../SE_train\\Z赵丽兰20220228_bias_0.fif...\n",
      "Isotrak not found\n",
      "    Range : 25224 ... 33416 =     24.633 ...    32.633 secs\n",
      "Ready.\n",
      "data_256.shape (15, 2048)\n",
      "data_256_samples.shape (15, 4, 512)\n",
      "data_sta.shape (15, 4, 512)\n",
      "data_x.shape: (60, 512, 1)\n"
     ]
    },
    {
     "name": "stderr",
     "output_type": "stream",
     "text": [
      "<ipython-input-4-d8650b052227>:74: RuntimeWarning: This filename (E:\\jupyter file\\EEG_process\\SE_train_processed\\Z赵丽兰20220225_bias_0.fif) does not conform to MNE naming conventions. All raw files should end with raw.fif, raw_sss.fif, raw_tsss.fif, _meg.fif, _eeg.fif, _ieeg.fif, raw.fif.gz, raw_sss.fif.gz, raw_tsss.fif.gz, _meg.fif.gz, _eeg.fif.gz or _ieeg.fif.gz\n",
      "  custom_raw.save(save_path,overwrite=True)\n",
      "<ipython-input-4-d8650b052227>:2: RuntimeWarning: This filename (../SE_train\\Z赵丽兰20220228_bias_0.fif) does not conform to MNE naming conventions. All raw files should end with raw.fif, raw_sss.fif, raw_tsss.fif, _meg.fif, _eeg.fif, _ieeg.fif, raw.fif.gz, raw_sss.fif.gz, raw_tsss.fif.gz, _meg.fif.gz, _eeg.fif.gz or _ieeg.fif.gz\n",
      "  raw = read_raw_fif(file_path)\n"
     ]
    },
    {
     "name": "stdout",
     "output_type": "stream",
     "text": [
      "pred_channel.shape (15, 2048)\n",
      "Creating RawArray with float64 data, n_channels=15, n_times=2048\n",
      "    Range : 0 ... 2047 =      0.000 ...     7.996 secs\n",
      "Ready.\n",
      "Writing E:\\jupyter file\\EEG_process\\SE_train_processed\\Z赵丽兰20220228_bias_0.fif\n",
      "Closing E:\\jupyter file\\EEG_process\\SE_train_processed\\Z赵丽兰20220228_bias_0.fif\n",
      "[done]\n",
      "../SE_train_processed/Z赵丽兰20220302_bias_0.fif\n",
      "Opening raw data file ../SE_train\\Z赵丽兰20220302_bias_0.fif...\n",
      "Isotrak not found\n",
      "    Range : 4442 ... 12634 =      4.338 ...    12.338 secs\n",
      "Ready.\n",
      "data_256.shape (15, 2048)\n",
      "data_256_samples.shape (15, 4, 512)\n",
      "data_sta.shape (15, 4, 512)\n",
      "data_x.shape: (60, 512, 1)\n"
     ]
    },
    {
     "name": "stderr",
     "output_type": "stream",
     "text": [
      "<ipython-input-4-d8650b052227>:74: RuntimeWarning: This filename (E:\\jupyter file\\EEG_process\\SE_train_processed\\Z赵丽兰20220228_bias_0.fif) does not conform to MNE naming conventions. All raw files should end with raw.fif, raw_sss.fif, raw_tsss.fif, _meg.fif, _eeg.fif, _ieeg.fif, raw.fif.gz, raw_sss.fif.gz, raw_tsss.fif.gz, _meg.fif.gz, _eeg.fif.gz or _ieeg.fif.gz\n",
      "  custom_raw.save(save_path,overwrite=True)\n",
      "<ipython-input-4-d8650b052227>:2: RuntimeWarning: This filename (../SE_train\\Z赵丽兰20220302_bias_0.fif) does not conform to MNE naming conventions. All raw files should end with raw.fif, raw_sss.fif, raw_tsss.fif, _meg.fif, _eeg.fif, _ieeg.fif, raw.fif.gz, raw_sss.fif.gz, raw_tsss.fif.gz, _meg.fif.gz, _eeg.fif.gz or _ieeg.fif.gz\n",
      "  raw = read_raw_fif(file_path)\n"
     ]
    },
    {
     "name": "stdout",
     "output_type": "stream",
     "text": [
      "pred_channel.shape (15, 2048)\n",
      "Creating RawArray with float64 data, n_channels=15, n_times=2048\n",
      "    Range : 0 ... 2047 =      0.000 ...     7.996 secs\n",
      "Ready.\n",
      "Writing E:\\jupyter file\\EEG_process\\SE_train_processed\\Z赵丽兰20220302_bias_0.fif\n",
      "Closing E:\\jupyter file\\EEG_process\\SE_train_processed\\Z赵丽兰20220302_bias_0.fif\n",
      "[done]\n",
      "../SE_train_processed/Z赵丽兰20220304_bias_0.fif\n",
      "Opening raw data file ../SE_train\\Z赵丽兰20220304_bias_0.fif...\n",
      "Isotrak not found\n",
      "    Range : 2779 ... 10971 =      2.714 ...    10.714 secs\n",
      "Ready.\n",
      "data_256.shape (15, 2048)\n",
      "data_256_samples.shape (15, 4, 512)\n",
      "data_sta.shape (15, 4, 512)\n",
      "data_x.shape: (60, 512, 1)\n"
     ]
    },
    {
     "name": "stderr",
     "output_type": "stream",
     "text": [
      "<ipython-input-4-d8650b052227>:74: RuntimeWarning: This filename (E:\\jupyter file\\EEG_process\\SE_train_processed\\Z赵丽兰20220302_bias_0.fif) does not conform to MNE naming conventions. All raw files should end with raw.fif, raw_sss.fif, raw_tsss.fif, _meg.fif, _eeg.fif, _ieeg.fif, raw.fif.gz, raw_sss.fif.gz, raw_tsss.fif.gz, _meg.fif.gz, _eeg.fif.gz or _ieeg.fif.gz\n",
      "  custom_raw.save(save_path,overwrite=True)\n",
      "<ipython-input-4-d8650b052227>:2: RuntimeWarning: This filename (../SE_train\\Z赵丽兰20220304_bias_0.fif) does not conform to MNE naming conventions. All raw files should end with raw.fif, raw_sss.fif, raw_tsss.fif, _meg.fif, _eeg.fif, _ieeg.fif, raw.fif.gz, raw_sss.fif.gz, raw_tsss.fif.gz, _meg.fif.gz, _eeg.fif.gz or _ieeg.fif.gz\n",
      "  raw = read_raw_fif(file_path)\n"
     ]
    },
    {
     "name": "stdout",
     "output_type": "stream",
     "text": [
      "pred_channel.shape (15, 2048)\n",
      "Creating RawArray with float64 data, n_channels=15, n_times=2048\n",
      "    Range : 0 ... 2047 =      0.000 ...     7.996 secs\n",
      "Ready.\n",
      "Writing E:\\jupyter file\\EEG_process\\SE_train_processed\\Z赵丽兰20220304_bias_0.fif\n",
      "Closing E:\\jupyter file\\EEG_process\\SE_train_processed\\Z赵丽兰20220304_bias_0.fif\n",
      "[done]\n",
      "../SE_train_processed/Z陈莎莎20220418（硬件问题）_bias_0.fif\n",
      "Opening raw data file ../SE_train\\Z陈莎莎20220418（硬件问题）_bias_0.fif...\n",
      "Isotrak not found\n",
      "    Range : 2097 ... 10289 =      2.048 ...    10.048 secs\n",
      "Ready.\n",
      "data_256.shape (15, 2048)\n",
      "data_256_samples.shape (15, 4, 512)\n",
      "data_sta.shape (15, 4, 512)\n",
      "data_x.shape: (60, 512, 1)\n"
     ]
    },
    {
     "name": "stderr",
     "output_type": "stream",
     "text": [
      "<ipython-input-4-d8650b052227>:74: RuntimeWarning: This filename (E:\\jupyter file\\EEG_process\\SE_train_processed\\Z赵丽兰20220304_bias_0.fif) does not conform to MNE naming conventions. All raw files should end with raw.fif, raw_sss.fif, raw_tsss.fif, _meg.fif, _eeg.fif, _ieeg.fif, raw.fif.gz, raw_sss.fif.gz, raw_tsss.fif.gz, _meg.fif.gz, _eeg.fif.gz or _ieeg.fif.gz\n",
      "  custom_raw.save(save_path,overwrite=True)\n",
      "<ipython-input-4-d8650b052227>:2: RuntimeWarning: This filename (../SE_train\\Z陈莎莎20220418（硬件问题）_bias_0.fif) does not conform to MNE naming conventions. All raw files should end with raw.fif, raw_sss.fif, raw_tsss.fif, _meg.fif, _eeg.fif, _ieeg.fif, raw.fif.gz, raw_sss.fif.gz, raw_tsss.fif.gz, _meg.fif.gz, _eeg.fif.gz or _ieeg.fif.gz\n",
      "  raw = read_raw_fif(file_path)\n"
     ]
    },
    {
     "name": "stdout",
     "output_type": "stream",
     "text": [
      "pred_channel.shape (15, 2048)\n",
      "Creating RawArray with float64 data, n_channels=15, n_times=2048\n",
      "    Range : 0 ... 2047 =      0.000 ...     7.996 secs\n",
      "Ready.\n",
      "Writing E:\\jupyter file\\EEG_process\\SE_train_processed\\Z陈莎莎20220418（硬件问题）_bias_0.fif\n",
      "Closing E:\\jupyter file\\EEG_process\\SE_train_processed\\Z陈莎莎20220418（硬件问题）_bias_0.fif\n",
      "[done]\n",
      "../SE_train_processed/Z陈莎莎20220422_bias_0.fif\n",
      "Opening raw data file ../SE_train\\Z陈莎莎20220422_bias_0.fif...\n",
      "Isotrak not found\n",
      "    Range : 190613 ... 198805 =    186.146 ...   194.146 secs\n",
      "Ready.\n",
      "data_256.shape (15, 2048)\n",
      "data_256_samples.shape (15, 4, 512)\n",
      "data_sta.shape (15, 4, 512)\n",
      "data_x.shape: (60, 512, 1)\n"
     ]
    },
    {
     "name": "stderr",
     "output_type": "stream",
     "text": [
      "<ipython-input-4-d8650b052227>:74: RuntimeWarning: This filename (E:\\jupyter file\\EEG_process\\SE_train_processed\\Z陈莎莎20220418（硬件问题）_bias_0.fif) does not conform to MNE naming conventions. All raw files should end with raw.fif, raw_sss.fif, raw_tsss.fif, _meg.fif, _eeg.fif, _ieeg.fif, raw.fif.gz, raw_sss.fif.gz, raw_tsss.fif.gz, _meg.fif.gz, _eeg.fif.gz or _ieeg.fif.gz\n",
      "  custom_raw.save(save_path,overwrite=True)\n",
      "<ipython-input-4-d8650b052227>:2: RuntimeWarning: This filename (../SE_train\\Z陈莎莎20220422_bias_0.fif) does not conform to MNE naming conventions. All raw files should end with raw.fif, raw_sss.fif, raw_tsss.fif, _meg.fif, _eeg.fif, _ieeg.fif, raw.fif.gz, raw_sss.fif.gz, raw_tsss.fif.gz, _meg.fif.gz, _eeg.fif.gz or _ieeg.fif.gz\n",
      "  raw = read_raw_fif(file_path)\n"
     ]
    },
    {
     "name": "stdout",
     "output_type": "stream",
     "text": [
      "pred_channel.shape (15, 2048)\n",
      "Creating RawArray with float64 data, n_channels=15, n_times=2048\n",
      "    Range : 0 ... 2047 =      0.000 ...     7.996 secs\n",
      "Ready.\n",
      "Writing E:\\jupyter file\\EEG_process\\SE_train_processed\\Z陈莎莎20220422_bias_0.fif\n",
      "Closing E:\\jupyter file\\EEG_process\\SE_train_processed\\Z陈莎莎20220422_bias_0.fif\n",
      "[done]\n",
      "../SE_train_processed/Z陈莎莎20220425（未发作）_bias_0.fif\n",
      "Opening raw data file ../SE_train\\Z陈莎莎20220425（未发作）_bias_0.fif...\n",
      "Isotrak not found\n",
      "    Range : 19894 ... 28086 =     19.428 ...    27.428 secs\n",
      "Ready.\n",
      "data_256.shape (15, 2048)\n",
      "data_256_samples.shape (15, 4, 512)\n",
      "data_sta.shape (15, 4, 512)\n",
      "data_x.shape: (60, 512, 1)\n"
     ]
    },
    {
     "name": "stderr",
     "output_type": "stream",
     "text": [
      "<ipython-input-4-d8650b052227>:74: RuntimeWarning: This filename (E:\\jupyter file\\EEG_process\\SE_train_processed\\Z陈莎莎20220422_bias_0.fif) does not conform to MNE naming conventions. All raw files should end with raw.fif, raw_sss.fif, raw_tsss.fif, _meg.fif, _eeg.fif, _ieeg.fif, raw.fif.gz, raw_sss.fif.gz, raw_tsss.fif.gz, _meg.fif.gz, _eeg.fif.gz or _ieeg.fif.gz\n",
      "  custom_raw.save(save_path,overwrite=True)\n",
      "<ipython-input-4-d8650b052227>:2: RuntimeWarning: This filename (../SE_train\\Z陈莎莎20220425（未发作）_bias_0.fif) does not conform to MNE naming conventions. All raw files should end with raw.fif, raw_sss.fif, raw_tsss.fif, _meg.fif, _eeg.fif, _ieeg.fif, raw.fif.gz, raw_sss.fif.gz, raw_tsss.fif.gz, _meg.fif.gz, _eeg.fif.gz or _ieeg.fif.gz\n",
      "  raw = read_raw_fif(file_path)\n"
     ]
    },
    {
     "name": "stdout",
     "output_type": "stream",
     "text": [
      "pred_channel.shape (15, 2048)\n",
      "Creating RawArray with float64 data, n_channels=15, n_times=2048\n",
      "    Range : 0 ... 2047 =      0.000 ...     7.996 secs\n",
      "Ready.\n",
      "Writing E:\\jupyter file\\EEG_process\\SE_train_processed\\Z陈莎莎20220425（未发作）_bias_0.fif\n",
      "Closing E:\\jupyter file\\EEG_process\\SE_train_processed\\Z陈莎莎20220425（未发作）_bias_0.fif\n",
      "[done]\n",
      "../SE_train_processed/Z陈莎莎20220425（未发作）_bias_16.fif\n",
      "Opening raw data file ../SE_train\\Z陈莎莎20220425（未发作）_bias_16.fif...\n",
      "Isotrak not found\n",
      "    Range : 36278 ... 52662 =     35.428 ...    51.428 secs\n",
      "Ready.\n",
      "data_256.shape (15, 2048)\n",
      "data_256_samples.shape (15, 4, 512)\n",
      "data_sta.shape (15, 4, 512)\n",
      "data_x.shape: (60, 512, 1)\n"
     ]
    },
    {
     "name": "stderr",
     "output_type": "stream",
     "text": [
      "<ipython-input-4-d8650b052227>:74: RuntimeWarning: This filename (E:\\jupyter file\\EEG_process\\SE_train_processed\\Z陈莎莎20220425（未发作）_bias_0.fif) does not conform to MNE naming conventions. All raw files should end with raw.fif, raw_sss.fif, raw_tsss.fif, _meg.fif, _eeg.fif, _ieeg.fif, raw.fif.gz, raw_sss.fif.gz, raw_tsss.fif.gz, _meg.fif.gz, _eeg.fif.gz or _ieeg.fif.gz\n",
      "  custom_raw.save(save_path,overwrite=True)\n",
      "<ipython-input-4-d8650b052227>:2: RuntimeWarning: This filename (../SE_train\\Z陈莎莎20220425（未发作）_bias_16.fif) does not conform to MNE naming conventions. All raw files should end with raw.fif, raw_sss.fif, raw_tsss.fif, _meg.fif, _eeg.fif, _ieeg.fif, raw.fif.gz, raw_sss.fif.gz, raw_tsss.fif.gz, _meg.fif.gz, _eeg.fif.gz or _ieeg.fif.gz\n",
      "  raw = read_raw_fif(file_path)\n"
     ]
    },
    {
     "name": "stdout",
     "output_type": "stream",
     "text": [
      "pred_channel.shape (15, 2048)\n",
      "Creating RawArray with float64 data, n_channels=15, n_times=2048\n",
      "    Range : 0 ... 2047 =      0.000 ...     7.996 secs\n",
      "Ready.\n",
      "Writing E:\\jupyter file\\EEG_process\\SE_train_processed\\Z陈莎莎20220425（未发作）_bias_16.fif\n",
      "Closing E:\\jupyter file\\EEG_process\\SE_train_processed\\Z陈莎莎20220425（未发作）_bias_16.fif\n",
      "[done]\n",
      "../SE_train_processed/Z陈莎莎20220425（未发作）_bias_24.fif\n",
      "Opening raw data file ../SE_train\\Z陈莎莎20220425（未发作）_bias_24.fif...\n",
      "Isotrak not found\n",
      "    Range : 44470 ... 60854 =     43.428 ...    59.428 secs\n",
      "Ready.\n",
      "data_256.shape (15, 2048)\n",
      "data_256_samples.shape (15, 4, 512)\n",
      "data_sta.shape (15, 4, 512)\n",
      "data_x.shape: (60, 512, 1)\n"
     ]
    },
    {
     "name": "stderr",
     "output_type": "stream",
     "text": [
      "<ipython-input-4-d8650b052227>:74: RuntimeWarning: This filename (E:\\jupyter file\\EEG_process\\SE_train_processed\\Z陈莎莎20220425（未发作）_bias_16.fif) does not conform to MNE naming conventions. All raw files should end with raw.fif, raw_sss.fif, raw_tsss.fif, _meg.fif, _eeg.fif, _ieeg.fif, raw.fif.gz, raw_sss.fif.gz, raw_tsss.fif.gz, _meg.fif.gz, _eeg.fif.gz or _ieeg.fif.gz\n",
      "  custom_raw.save(save_path,overwrite=True)\n",
      "<ipython-input-4-d8650b052227>:2: RuntimeWarning: This filename (../SE_train\\Z陈莎莎20220425（未发作）_bias_24.fif) does not conform to MNE naming conventions. All raw files should end with raw.fif, raw_sss.fif, raw_tsss.fif, _meg.fif, _eeg.fif, _ieeg.fif, raw.fif.gz, raw_sss.fif.gz, raw_tsss.fif.gz, _meg.fif.gz, _eeg.fif.gz or _ieeg.fif.gz\n",
      "  raw = read_raw_fif(file_path)\n"
     ]
    },
    {
     "name": "stdout",
     "output_type": "stream",
     "text": [
      "pred_channel.shape (15, 2048)\n",
      "Creating RawArray with float64 data, n_channels=15, n_times=2048\n",
      "    Range : 0 ... 2047 =      0.000 ...     7.996 secs\n",
      "Ready.\n",
      "Writing E:\\jupyter file\\EEG_process\\SE_train_processed\\Z陈莎莎20220425（未发作）_bias_24.fif\n",
      "Closing E:\\jupyter file\\EEG_process\\SE_train_processed\\Z陈莎莎20220425（未发作）_bias_24.fif\n",
      "[done]\n",
      "../SE_train_processed/Z陈莎莎20220425（未发作）_bias_32.fif\n",
      "Opening raw data file ../SE_train\\Z陈莎莎20220425（未发作）_bias_32.fif...\n",
      "Isotrak not found\n",
      "    Range : 52662 ... 69046 =     51.428 ...    67.428 secs\n",
      "Ready.\n",
      "data_256.shape (15, 2048)\n",
      "data_256_samples.shape (15, 4, 512)\n",
      "data_sta.shape (15, 4, 512)\n",
      "data_x.shape: (60, 512, 1)\n"
     ]
    },
    {
     "name": "stderr",
     "output_type": "stream",
     "text": [
      "<ipython-input-4-d8650b052227>:74: RuntimeWarning: This filename (E:\\jupyter file\\EEG_process\\SE_train_processed\\Z陈莎莎20220425（未发作）_bias_24.fif) does not conform to MNE naming conventions. All raw files should end with raw.fif, raw_sss.fif, raw_tsss.fif, _meg.fif, _eeg.fif, _ieeg.fif, raw.fif.gz, raw_sss.fif.gz, raw_tsss.fif.gz, _meg.fif.gz, _eeg.fif.gz or _ieeg.fif.gz\n",
      "  custom_raw.save(save_path,overwrite=True)\n",
      "<ipython-input-4-d8650b052227>:2: RuntimeWarning: This filename (../SE_train\\Z陈莎莎20220425（未发作）_bias_32.fif) does not conform to MNE naming conventions. All raw files should end with raw.fif, raw_sss.fif, raw_tsss.fif, _meg.fif, _eeg.fif, _ieeg.fif, raw.fif.gz, raw_sss.fif.gz, raw_tsss.fif.gz, _meg.fif.gz, _eeg.fif.gz or _ieeg.fif.gz\n",
      "  raw = read_raw_fif(file_path)\n"
     ]
    },
    {
     "name": "stdout",
     "output_type": "stream",
     "text": [
      "pred_channel.shape (15, 2048)\n",
      "Creating RawArray with float64 data, n_channels=15, n_times=2048\n",
      "    Range : 0 ... 2047 =      0.000 ...     7.996 secs\n",
      "Ready.\n",
      "Writing E:\\jupyter file\\EEG_process\\SE_train_processed\\Z陈莎莎20220425（未发作）_bias_32.fif\n",
      "Closing E:\\jupyter file\\EEG_process\\SE_train_processed\\Z陈莎莎20220425（未发作）_bias_32.fif\n",
      "[done]\n",
      "../SE_train_processed/Z陈莎莎20220425（未发作）_bias_40.fif\n",
      "Opening raw data file ../SE_train\\Z陈莎莎20220425（未发作）_bias_40.fif...\n",
      "Isotrak not found\n",
      "    Range : 60854 ... 77238 =     59.428 ...    75.428 secs\n",
      "Ready.\n",
      "data_256.shape (15, 2048)\n",
      "data_256_samples.shape (15, 4, 512)\n",
      "data_sta.shape (15, 4, 512)\n",
      "data_x.shape: (60, 512, 1)\n"
     ]
    },
    {
     "name": "stderr",
     "output_type": "stream",
     "text": [
      "<ipython-input-4-d8650b052227>:74: RuntimeWarning: This filename (E:\\jupyter file\\EEG_process\\SE_train_processed\\Z陈莎莎20220425（未发作）_bias_32.fif) does not conform to MNE naming conventions. All raw files should end with raw.fif, raw_sss.fif, raw_tsss.fif, _meg.fif, _eeg.fif, _ieeg.fif, raw.fif.gz, raw_sss.fif.gz, raw_tsss.fif.gz, _meg.fif.gz, _eeg.fif.gz or _ieeg.fif.gz\n",
      "  custom_raw.save(save_path,overwrite=True)\n",
      "<ipython-input-4-d8650b052227>:2: RuntimeWarning: This filename (../SE_train\\Z陈莎莎20220425（未发作）_bias_40.fif) does not conform to MNE naming conventions. All raw files should end with raw.fif, raw_sss.fif, raw_tsss.fif, _meg.fif, _eeg.fif, _ieeg.fif, raw.fif.gz, raw_sss.fif.gz, raw_tsss.fif.gz, _meg.fif.gz, _eeg.fif.gz or _ieeg.fif.gz\n",
      "  raw = read_raw_fif(file_path)\n"
     ]
    },
    {
     "name": "stdout",
     "output_type": "stream",
     "text": [
      "pred_channel.shape (15, 2048)\n",
      "Creating RawArray with float64 data, n_channels=15, n_times=2048\n",
      "    Range : 0 ... 2047 =      0.000 ...     7.996 secs\n",
      "Ready.\n",
      "Writing E:\\jupyter file\\EEG_process\\SE_train_processed\\Z陈莎莎20220425（未发作）_bias_40.fif\n",
      "Closing E:\\jupyter file\\EEG_process\\SE_train_processed\\Z陈莎莎20220425（未发作）_bias_40.fif\n",
      "[done]\n",
      "../SE_train_processed/Z陈莎莎20220425（未发作）_bias_8.fif\n",
      "Opening raw data file ../SE_train\\Z陈莎莎20220425（未发作）_bias_8.fif...\n",
      "Isotrak not found\n",
      "    Range : 28086 ... 44470 =     27.428 ...    43.428 secs\n",
      "Ready.\n",
      "data_256.shape (15, 2048)\n",
      "data_256_samples.shape (15, 4, 512)\n",
      "data_sta.shape (15, 4, 512)\n",
      "data_x.shape: (60, 512, 1)\n"
     ]
    },
    {
     "name": "stderr",
     "output_type": "stream",
     "text": [
      "<ipython-input-4-d8650b052227>:74: RuntimeWarning: This filename (E:\\jupyter file\\EEG_process\\SE_train_processed\\Z陈莎莎20220425（未发作）_bias_40.fif) does not conform to MNE naming conventions. All raw files should end with raw.fif, raw_sss.fif, raw_tsss.fif, _meg.fif, _eeg.fif, _ieeg.fif, raw.fif.gz, raw_sss.fif.gz, raw_tsss.fif.gz, _meg.fif.gz, _eeg.fif.gz or _ieeg.fif.gz\n",
      "  custom_raw.save(save_path,overwrite=True)\n",
      "<ipython-input-4-d8650b052227>:2: RuntimeWarning: This filename (../SE_train\\Z陈莎莎20220425（未发作）_bias_8.fif) does not conform to MNE naming conventions. All raw files should end with raw.fif, raw_sss.fif, raw_tsss.fif, _meg.fif, _eeg.fif, _ieeg.fif, raw.fif.gz, raw_sss.fif.gz, raw_tsss.fif.gz, _meg.fif.gz, _eeg.fif.gz or _ieeg.fif.gz\n",
      "  raw = read_raw_fif(file_path)\n"
     ]
    },
    {
     "name": "stdout",
     "output_type": "stream",
     "text": [
      "pred_channel.shape (15, 2048)\n",
      "Creating RawArray with float64 data, n_channels=15, n_times=2048\n",
      "    Range : 0 ... 2047 =      0.000 ...     7.996 secs\n",
      "Ready.\n",
      "Writing E:\\jupyter file\\EEG_process\\SE_train_processed\\Z陈莎莎20220425（未发作）_bias_8.fif\n",
      "Closing E:\\jupyter file\\EEG_process\\SE_train_processed\\Z陈莎莎20220425（未发作）_bias_8.fif\n",
      "[done]\n",
      "../SE_train_processed/Z雷振20220321_bias_0.fif\n",
      "Opening raw data file ../SE_train\\Z雷振20220321_bias_0.fif...\n",
      "Isotrak not found\n",
      "    Range : 65290 ... 73482 =     63.760 ...    71.760 secs\n",
      "Ready.\n",
      "data_256.shape (15, 2048)\n",
      "data_256_samples.shape (15, 4, 512)\n",
      "data_sta.shape (15, 4, 512)\n",
      "data_x.shape: (60, 512, 1)\n"
     ]
    },
    {
     "name": "stderr",
     "output_type": "stream",
     "text": [
      "<ipython-input-4-d8650b052227>:74: RuntimeWarning: This filename (E:\\jupyter file\\EEG_process\\SE_train_processed\\Z陈莎莎20220425（未发作）_bias_8.fif) does not conform to MNE naming conventions. All raw files should end with raw.fif, raw_sss.fif, raw_tsss.fif, _meg.fif, _eeg.fif, _ieeg.fif, raw.fif.gz, raw_sss.fif.gz, raw_tsss.fif.gz, _meg.fif.gz, _eeg.fif.gz or _ieeg.fif.gz\n",
      "  custom_raw.save(save_path,overwrite=True)\n",
      "<ipython-input-4-d8650b052227>:2: RuntimeWarning: This filename (../SE_train\\Z雷振20220321_bias_0.fif) does not conform to MNE naming conventions. All raw files should end with raw.fif, raw_sss.fif, raw_tsss.fif, _meg.fif, _eeg.fif, _ieeg.fif, raw.fif.gz, raw_sss.fif.gz, raw_tsss.fif.gz, _meg.fif.gz, _eeg.fif.gz or _ieeg.fif.gz\n",
      "  raw = read_raw_fif(file_path)\n"
     ]
    },
    {
     "name": "stdout",
     "output_type": "stream",
     "text": [
      "pred_channel.shape (15, 2048)\n",
      "Creating RawArray with float64 data, n_channels=15, n_times=2048\n",
      "    Range : 0 ... 2047 =      0.000 ...     7.996 secs\n",
      "Ready.\n",
      "Writing E:\\jupyter file\\EEG_process\\SE_train_processed\\Z雷振20220321_bias_0.fif\n",
      "Closing E:\\jupyter file\\EEG_process\\SE_train_processed\\Z雷振20220321_bias_0.fif\n",
      "[done]\n",
      "../SE_train_processed/Z雷振20220323_bias_0.fif\n",
      "Opening raw data file ../SE_train\\Z雷振20220323_bias_0.fif...\n",
      "Isotrak not found\n",
      "    Range : 203788 ... 211980 =    199.012 ...   207.012 secs\n",
      "Ready.\n",
      "data_256.shape (15, 2048)\n",
      "data_256_samples.shape (15, 4, 512)\n",
      "data_sta.shape (15, 4, 512)\n",
      "data_x.shape: (60, 512, 1)\n"
     ]
    },
    {
     "name": "stderr",
     "output_type": "stream",
     "text": [
      "<ipython-input-4-d8650b052227>:74: RuntimeWarning: This filename (E:\\jupyter file\\EEG_process\\SE_train_processed\\Z雷振20220321_bias_0.fif) does not conform to MNE naming conventions. All raw files should end with raw.fif, raw_sss.fif, raw_tsss.fif, _meg.fif, _eeg.fif, _ieeg.fif, raw.fif.gz, raw_sss.fif.gz, raw_tsss.fif.gz, _meg.fif.gz, _eeg.fif.gz or _ieeg.fif.gz\n",
      "  custom_raw.save(save_path,overwrite=True)\n",
      "<ipython-input-4-d8650b052227>:2: RuntimeWarning: This filename (../SE_train\\Z雷振20220323_bias_0.fif) does not conform to MNE naming conventions. All raw files should end with raw.fif, raw_sss.fif, raw_tsss.fif, _meg.fif, _eeg.fif, _ieeg.fif, raw.fif.gz, raw_sss.fif.gz, raw_tsss.fif.gz, _meg.fif.gz, _eeg.fif.gz or _ieeg.fif.gz\n",
      "  raw = read_raw_fif(file_path)\n"
     ]
    },
    {
     "name": "stdout",
     "output_type": "stream",
     "text": [
      "pred_channel.shape (15, 2048)\n",
      "Creating RawArray with float64 data, n_channels=15, n_times=2048\n",
      "    Range : 0 ... 2047 =      0.000 ...     7.996 secs\n",
      "Ready.\n",
      "Writing E:\\jupyter file\\EEG_process\\SE_train_processed\\Z雷振20220323_bias_0.fif\n",
      "Closing E:\\jupyter file\\EEG_process\\SE_train_processed\\Z雷振20220323_bias_0.fif\n",
      "[done]\n",
      "../SE_train_processed/Z雷振20220325_bias_0.fif\n",
      "Opening raw data file ../SE_train\\Z雷振20220325_bias_0.fif...\n",
      "Isotrak not found\n",
      "    Range : 45887 ... 54079 =     44.812 ...    52.812 secs\n",
      "Ready.\n",
      "data_256.shape (15, 2048)\n",
      "data_256_samples.shape (15, 4, 512)\n",
      "data_sta.shape (15, 4, 512)\n",
      "data_x.shape: (60, 512, 1)\n"
     ]
    },
    {
     "name": "stderr",
     "output_type": "stream",
     "text": [
      "<ipython-input-4-d8650b052227>:74: RuntimeWarning: This filename (E:\\jupyter file\\EEG_process\\SE_train_processed\\Z雷振20220323_bias_0.fif) does not conform to MNE naming conventions. All raw files should end with raw.fif, raw_sss.fif, raw_tsss.fif, _meg.fif, _eeg.fif, _ieeg.fif, raw.fif.gz, raw_sss.fif.gz, raw_tsss.fif.gz, _meg.fif.gz, _eeg.fif.gz or _ieeg.fif.gz\n",
      "  custom_raw.save(save_path,overwrite=True)\n",
      "<ipython-input-4-d8650b052227>:2: RuntimeWarning: This filename (../SE_train\\Z雷振20220325_bias_0.fif) does not conform to MNE naming conventions. All raw files should end with raw.fif, raw_sss.fif, raw_tsss.fif, _meg.fif, _eeg.fif, _ieeg.fif, raw.fif.gz, raw_sss.fif.gz, raw_tsss.fif.gz, _meg.fif.gz, _eeg.fif.gz or _ieeg.fif.gz\n",
      "  raw = read_raw_fif(file_path)\n"
     ]
    },
    {
     "name": "stdout",
     "output_type": "stream",
     "text": [
      "pred_channel.shape (15, 2048)\n",
      "Creating RawArray with float64 data, n_channels=15, n_times=2048\n",
      "    Range : 0 ... 2047 =      0.000 ...     7.996 secs\n",
      "Ready.\n",
      "Writing E:\\jupyter file\\EEG_process\\SE_train_processed\\Z雷振20220325_bias_0.fif\n",
      "Closing E:\\jupyter file\\EEG_process\\SE_train_processed\\Z雷振20220325_bias_0.fif\n",
      "[done]\n",
      "../SE_train_processed/Z雷振20220328_bias_0.fif\n",
      "Opening raw data file ../SE_train\\Z雷振20220328_bias_0.fif...\n",
      "Isotrak not found\n",
      "    Range : 6400 ... 14592 =      6.250 ...    14.250 secs\n",
      "Ready.\n",
      "data_256.shape (15, 2048)\n",
      "data_256_samples.shape (15, 4, 512)\n",
      "data_sta.shape (15, 4, 512)\n",
      "data_x.shape: (60, 512, 1)\n"
     ]
    },
    {
     "name": "stderr",
     "output_type": "stream",
     "text": [
      "<ipython-input-4-d8650b052227>:74: RuntimeWarning: This filename (E:\\jupyter file\\EEG_process\\SE_train_processed\\Z雷振20220325_bias_0.fif) does not conform to MNE naming conventions. All raw files should end with raw.fif, raw_sss.fif, raw_tsss.fif, _meg.fif, _eeg.fif, _ieeg.fif, raw.fif.gz, raw_sss.fif.gz, raw_tsss.fif.gz, _meg.fif.gz, _eeg.fif.gz or _ieeg.fif.gz\n",
      "  custom_raw.save(save_path,overwrite=True)\n",
      "<ipython-input-4-d8650b052227>:2: RuntimeWarning: This filename (../SE_train\\Z雷振20220328_bias_0.fif) does not conform to MNE naming conventions. All raw files should end with raw.fif, raw_sss.fif, raw_tsss.fif, _meg.fif, _eeg.fif, _ieeg.fif, raw.fif.gz, raw_sss.fif.gz, raw_tsss.fif.gz, _meg.fif.gz, _eeg.fif.gz or _ieeg.fif.gz\n",
      "  raw = read_raw_fif(file_path)\n"
     ]
    },
    {
     "name": "stdout",
     "output_type": "stream",
     "text": [
      "pred_channel.shape (15, 2048)\n",
      "Creating RawArray with float64 data, n_channels=15, n_times=2048\n",
      "    Range : 0 ... 2047 =      0.000 ...     7.996 secs\n",
      "Ready.\n",
      "Writing E:\\jupyter file\\EEG_process\\SE_train_processed\\Z雷振20220328_bias_0.fif\n",
      "Closing E:\\jupyter file\\EEG_process\\SE_train_processed\\Z雷振20220328_bias_0.fif\n",
      "[done]\n",
      "../SE_train_processed/Z魏平20220427_bias_0.fif\n",
      "Opening raw data file ../SE_train\\Z魏平20220427_bias_0.fif...\n",
      "Isotrak not found\n",
      "    Range : 78137 ... 86329 =     76.306 ...    84.306 secs\n",
      "Ready.\n",
      "data_256.shape (15, 2048)\n",
      "data_256_samples.shape (15, 4, 512)\n",
      "data_sta.shape (15, 4, 512)\n",
      "data_x.shape: (60, 512, 1)\n"
     ]
    },
    {
     "name": "stderr",
     "output_type": "stream",
     "text": [
      "<ipython-input-4-d8650b052227>:74: RuntimeWarning: This filename (E:\\jupyter file\\EEG_process\\SE_train_processed\\Z雷振20220328_bias_0.fif) does not conform to MNE naming conventions. All raw files should end with raw.fif, raw_sss.fif, raw_tsss.fif, _meg.fif, _eeg.fif, _ieeg.fif, raw.fif.gz, raw_sss.fif.gz, raw_tsss.fif.gz, _meg.fif.gz, _eeg.fif.gz or _ieeg.fif.gz\n",
      "  custom_raw.save(save_path,overwrite=True)\n",
      "<ipython-input-4-d8650b052227>:2: RuntimeWarning: This filename (../SE_train\\Z魏平20220427_bias_0.fif) does not conform to MNE naming conventions. All raw files should end with raw.fif, raw_sss.fif, raw_tsss.fif, _meg.fif, _eeg.fif, _ieeg.fif, raw.fif.gz, raw_sss.fif.gz, raw_tsss.fif.gz, _meg.fif.gz, _eeg.fif.gz or _ieeg.fif.gz\n",
      "  raw = read_raw_fif(file_path)\n"
     ]
    },
    {
     "name": "stdout",
     "output_type": "stream",
     "text": [
      "pred_channel.shape (15, 2048)\n",
      "Creating RawArray with float64 data, n_channels=15, n_times=2048\n",
      "    Range : 0 ... 2047 =      0.000 ...     7.996 secs\n",
      "Ready.\n",
      "Writing E:\\jupyter file\\EEG_process\\SE_train_processed\\Z魏平20220427_bias_0.fif\n",
      "Closing E:\\jupyter file\\EEG_process\\SE_train_processed\\Z魏平20220427_bias_0.fif\n",
      "[done]\n",
      "../SE_train_processed/Z魏平20220429_bias_0.fif\n",
      "Opening raw data file ../SE_train\\Z魏平20220429_bias_0.fif...\n",
      "Isotrak not found\n",
      "    Range : 37108 ... 45300 =     36.238 ...    44.238 secs\n",
      "Ready.\n",
      "data_256.shape (15, 2048)\n",
      "data_256_samples.shape (15, 4, 512)\n",
      "data_sta.shape (15, 4, 512)\n",
      "data_x.shape: (60, 512, 1)\n"
     ]
    },
    {
     "name": "stderr",
     "output_type": "stream",
     "text": [
      "<ipython-input-4-d8650b052227>:74: RuntimeWarning: This filename (E:\\jupyter file\\EEG_process\\SE_train_processed\\Z魏平20220427_bias_0.fif) does not conform to MNE naming conventions. All raw files should end with raw.fif, raw_sss.fif, raw_tsss.fif, _meg.fif, _eeg.fif, _ieeg.fif, raw.fif.gz, raw_sss.fif.gz, raw_tsss.fif.gz, _meg.fif.gz, _eeg.fif.gz or _ieeg.fif.gz\n",
      "  custom_raw.save(save_path,overwrite=True)\n",
      "<ipython-input-4-d8650b052227>:2: RuntimeWarning: This filename (../SE_train\\Z魏平20220429_bias_0.fif) does not conform to MNE naming conventions. All raw files should end with raw.fif, raw_sss.fif, raw_tsss.fif, _meg.fif, _eeg.fif, _ieeg.fif, raw.fif.gz, raw_sss.fif.gz, raw_tsss.fif.gz, _meg.fif.gz, _eeg.fif.gz or _ieeg.fif.gz\n",
      "  raw = read_raw_fif(file_path)\n"
     ]
    },
    {
     "name": "stdout",
     "output_type": "stream",
     "text": [
      "pred_channel.shape (15, 2048)\n",
      "Creating RawArray with float64 data, n_channels=15, n_times=2048\n",
      "    Range : 0 ... 2047 =      0.000 ...     7.996 secs\n",
      "Ready.\n",
      "Writing E:\\jupyter file\\EEG_process\\SE_train_processed\\Z魏平20220429_bias_0.fif\n",
      "Closing E:\\jupyter file\\EEG_process\\SE_train_processed\\Z魏平20220429_bias_0.fif\n",
      "[done]\n",
      "../SE_train_processed/Z魏平20220509（未发作）_bias_0.fif\n",
      "Opening raw data file ../SE_train\\Z魏平20220509（未发作）_bias_0.fif...\n",
      "Isotrak not found\n",
      "    Range : 91648 ... 95744 =    179.000 ...   187.000 secs\n",
      "Ready.\n",
      "data_256.shape (15, 2048)\n",
      "data_256_samples.shape (15, 4, 512)\n",
      "data_sta.shape (15, 4, 512)\n",
      "data_x.shape: (60, 512, 1)\n"
     ]
    },
    {
     "name": "stderr",
     "output_type": "stream",
     "text": [
      "<ipython-input-4-d8650b052227>:74: RuntimeWarning: This filename (E:\\jupyter file\\EEG_process\\SE_train_processed\\Z魏平20220429_bias_0.fif) does not conform to MNE naming conventions. All raw files should end with raw.fif, raw_sss.fif, raw_tsss.fif, _meg.fif, _eeg.fif, _ieeg.fif, raw.fif.gz, raw_sss.fif.gz, raw_tsss.fif.gz, _meg.fif.gz, _eeg.fif.gz or _ieeg.fif.gz\n",
      "  custom_raw.save(save_path,overwrite=True)\n",
      "<ipython-input-4-d8650b052227>:2: RuntimeWarning: This filename (../SE_train\\Z魏平20220509（未发作）_bias_0.fif) does not conform to MNE naming conventions. All raw files should end with raw.fif, raw_sss.fif, raw_tsss.fif, _meg.fif, _eeg.fif, _ieeg.fif, raw.fif.gz, raw_sss.fif.gz, raw_tsss.fif.gz, _meg.fif.gz, _eeg.fif.gz or _ieeg.fif.gz\n",
      "  raw = read_raw_fif(file_path)\n"
     ]
    },
    {
     "name": "stdout",
     "output_type": "stream",
     "text": [
      "pred_channel.shape (15, 2048)\n",
      "Creating RawArray with float64 data, n_channels=15, n_times=2048\n",
      "    Range : 0 ... 2047 =      0.000 ...     7.996 secs\n",
      "Ready.\n",
      "Writing E:\\jupyter file\\EEG_process\\SE_train_processed\\Z魏平20220509（未发作）_bias_0.fif\n",
      "Closing E:\\jupyter file\\EEG_process\\SE_train_processed\\Z魏平20220509（未发作）_bias_0.fif\n",
      "[done]\n",
      "../SE_train_processed/Z魏平20220509（未发作）_bias_16.fif\n",
      "Opening raw data file ../SE_train\\Z魏平20220509（未发作）_bias_16.fif...\n",
      "Isotrak not found\n",
      "    Range : 99840 ... 108032 =    195.000 ...   211.000 secs\n",
      "Ready.\n",
      "data_256.shape (15, 2048)\n",
      "data_256_samples.shape (15, 4, 512)\n",
      "data_sta.shape (15, 4, 512)\n",
      "data_x.shape: (60, 512, 1)\n"
     ]
    },
    {
     "name": "stderr",
     "output_type": "stream",
     "text": [
      "<ipython-input-4-d8650b052227>:74: RuntimeWarning: This filename (E:\\jupyter file\\EEG_process\\SE_train_processed\\Z魏平20220509（未发作）_bias_0.fif) does not conform to MNE naming conventions. All raw files should end with raw.fif, raw_sss.fif, raw_tsss.fif, _meg.fif, _eeg.fif, _ieeg.fif, raw.fif.gz, raw_sss.fif.gz, raw_tsss.fif.gz, _meg.fif.gz, _eeg.fif.gz or _ieeg.fif.gz\n",
      "  custom_raw.save(save_path,overwrite=True)\n",
      "<ipython-input-4-d8650b052227>:2: RuntimeWarning: This filename (../SE_train\\Z魏平20220509（未发作）_bias_16.fif) does not conform to MNE naming conventions. All raw files should end with raw.fif, raw_sss.fif, raw_tsss.fif, _meg.fif, _eeg.fif, _ieeg.fif, raw.fif.gz, raw_sss.fif.gz, raw_tsss.fif.gz, _meg.fif.gz, _eeg.fif.gz or _ieeg.fif.gz\n",
      "  raw = read_raw_fif(file_path)\n"
     ]
    },
    {
     "name": "stdout",
     "output_type": "stream",
     "text": [
      "pred_channel.shape (15, 2048)\n",
      "Creating RawArray with float64 data, n_channels=15, n_times=2048\n",
      "    Range : 0 ... 2047 =      0.000 ...     7.996 secs\n",
      "Ready.\n",
      "Writing E:\\jupyter file\\EEG_process\\SE_train_processed\\Z魏平20220509（未发作）_bias_16.fif\n",
      "Closing E:\\jupyter file\\EEG_process\\SE_train_processed\\Z魏平20220509（未发作）_bias_16.fif\n",
      "[done]\n",
      "../SE_train_processed/Z魏平20220509（未发作）_bias_24.fif\n",
      "Opening raw data file ../SE_train\\Z魏平20220509（未发作）_bias_24.fif...\n",
      "Isotrak not found\n",
      "    Range : 103936 ... 112128 =    203.000 ...   219.000 secs\n",
      "Ready.\n",
      "data_256.shape (15, 2048)\n",
      "data_256_samples.shape (15, 4, 512)\n",
      "data_sta.shape (15, 4, 512)\n",
      "data_x.shape: (60, 512, 1)\n"
     ]
    },
    {
     "name": "stderr",
     "output_type": "stream",
     "text": [
      "<ipython-input-4-d8650b052227>:74: RuntimeWarning: This filename (E:\\jupyter file\\EEG_process\\SE_train_processed\\Z魏平20220509（未发作）_bias_16.fif) does not conform to MNE naming conventions. All raw files should end with raw.fif, raw_sss.fif, raw_tsss.fif, _meg.fif, _eeg.fif, _ieeg.fif, raw.fif.gz, raw_sss.fif.gz, raw_tsss.fif.gz, _meg.fif.gz, _eeg.fif.gz or _ieeg.fif.gz\n",
      "  custom_raw.save(save_path,overwrite=True)\n",
      "<ipython-input-4-d8650b052227>:2: RuntimeWarning: This filename (../SE_train\\Z魏平20220509（未发作）_bias_24.fif) does not conform to MNE naming conventions. All raw files should end with raw.fif, raw_sss.fif, raw_tsss.fif, _meg.fif, _eeg.fif, _ieeg.fif, raw.fif.gz, raw_sss.fif.gz, raw_tsss.fif.gz, _meg.fif.gz, _eeg.fif.gz or _ieeg.fif.gz\n",
      "  raw = read_raw_fif(file_path)\n"
     ]
    },
    {
     "name": "stdout",
     "output_type": "stream",
     "text": [
      "pred_channel.shape (15, 2048)\n",
      "Creating RawArray with float64 data, n_channels=15, n_times=2048\n",
      "    Range : 0 ... 2047 =      0.000 ...     7.996 secs\n",
      "Ready.\n",
      "Writing E:\\jupyter file\\EEG_process\\SE_train_processed\\Z魏平20220509（未发作）_bias_24.fif\n",
      "Closing E:\\jupyter file\\EEG_process\\SE_train_processed\\Z魏平20220509（未发作）_bias_24.fif\n",
      "[done]\n",
      "../SE_train_processed/Z魏平20220509（未发作）_bias_32.fif\n",
      "Opening raw data file ../SE_train\\Z魏平20220509（未发作）_bias_32.fif...\n",
      "Isotrak not found\n",
      "    Range : 108032 ... 116224 =    211.000 ...   227.000 secs\n",
      "Ready.\n",
      "data_256.shape (15, 2048)\n",
      "data_256_samples.shape (15, 4, 512)\n",
      "data_sta.shape (15, 4, 512)\n",
      "data_x.shape: (60, 512, 1)\n"
     ]
    },
    {
     "name": "stderr",
     "output_type": "stream",
     "text": [
      "<ipython-input-4-d8650b052227>:74: RuntimeWarning: This filename (E:\\jupyter file\\EEG_process\\SE_train_processed\\Z魏平20220509（未发作）_bias_24.fif) does not conform to MNE naming conventions. All raw files should end with raw.fif, raw_sss.fif, raw_tsss.fif, _meg.fif, _eeg.fif, _ieeg.fif, raw.fif.gz, raw_sss.fif.gz, raw_tsss.fif.gz, _meg.fif.gz, _eeg.fif.gz or _ieeg.fif.gz\n",
      "  custom_raw.save(save_path,overwrite=True)\n",
      "<ipython-input-4-d8650b052227>:2: RuntimeWarning: This filename (../SE_train\\Z魏平20220509（未发作）_bias_32.fif) does not conform to MNE naming conventions. All raw files should end with raw.fif, raw_sss.fif, raw_tsss.fif, _meg.fif, _eeg.fif, _ieeg.fif, raw.fif.gz, raw_sss.fif.gz, raw_tsss.fif.gz, _meg.fif.gz, _eeg.fif.gz or _ieeg.fif.gz\n",
      "  raw = read_raw_fif(file_path)\n"
     ]
    },
    {
     "name": "stdout",
     "output_type": "stream",
     "text": [
      "pred_channel.shape (15, 2048)\n",
      "Creating RawArray with float64 data, n_channels=15, n_times=2048\n",
      "    Range : 0 ... 2047 =      0.000 ...     7.996 secs\n",
      "Ready.\n",
      "Writing E:\\jupyter file\\EEG_process\\SE_train_processed\\Z魏平20220509（未发作）_bias_32.fif\n",
      "Closing E:\\jupyter file\\EEG_process\\SE_train_processed\\Z魏平20220509（未发作）_bias_32.fif\n",
      "[done]\n",
      "../SE_train_processed/Z魏平20220509（未发作）_bias_40.fif\n",
      "Opening raw data file ../SE_train\\Z魏平20220509（未发作）_bias_40.fif...\n",
      "Isotrak not found\n",
      "    Range : 112128 ... 120320 =    219.000 ...   235.000 secs\n",
      "Ready.\n",
      "data_256.shape (15, 2048)\n",
      "data_256_samples.shape (15, 4, 512)\n",
      "data_sta.shape (15, 4, 512)\n",
      "data_x.shape: (60, 512, 1)\n"
     ]
    },
    {
     "name": "stderr",
     "output_type": "stream",
     "text": [
      "<ipython-input-4-d8650b052227>:74: RuntimeWarning: This filename (E:\\jupyter file\\EEG_process\\SE_train_processed\\Z魏平20220509（未发作）_bias_32.fif) does not conform to MNE naming conventions. All raw files should end with raw.fif, raw_sss.fif, raw_tsss.fif, _meg.fif, _eeg.fif, _ieeg.fif, raw.fif.gz, raw_sss.fif.gz, raw_tsss.fif.gz, _meg.fif.gz, _eeg.fif.gz or _ieeg.fif.gz\n",
      "  custom_raw.save(save_path,overwrite=True)\n",
      "<ipython-input-4-d8650b052227>:2: RuntimeWarning: This filename (../SE_train\\Z魏平20220509（未发作）_bias_40.fif) does not conform to MNE naming conventions. All raw files should end with raw.fif, raw_sss.fif, raw_tsss.fif, _meg.fif, _eeg.fif, _ieeg.fif, raw.fif.gz, raw_sss.fif.gz, raw_tsss.fif.gz, _meg.fif.gz, _eeg.fif.gz or _ieeg.fif.gz\n",
      "  raw = read_raw_fif(file_path)\n"
     ]
    },
    {
     "name": "stdout",
     "output_type": "stream",
     "text": [
      "pred_channel.shape (15, 2048)\n",
      "Creating RawArray with float64 data, n_channels=15, n_times=2048\n",
      "    Range : 0 ... 2047 =      0.000 ...     7.996 secs\n",
      "Ready.\n",
      "Writing E:\\jupyter file\\EEG_process\\SE_train_processed\\Z魏平20220509（未发作）_bias_40.fif\n",
      "Closing E:\\jupyter file\\EEG_process\\SE_train_processed\\Z魏平20220509（未发作）_bias_40.fif\n",
      "[done]\n",
      "../SE_train_processed/Z魏平20220509（未发作）_bias_8.fif\n",
      "Opening raw data file ../SE_train\\Z魏平20220509（未发作）_bias_8.fif...\n",
      "Isotrak not found\n",
      "    Range : 95744 ... 103936 =    187.000 ...   203.000 secs\n",
      "Ready.\n",
      "data_256.shape (15, 2048)\n",
      "data_256_samples.shape (15, 4, 512)\n",
      "data_sta.shape (15, 4, 512)\n",
      "data_x.shape: (60, 512, 1)\n"
     ]
    },
    {
     "name": "stderr",
     "output_type": "stream",
     "text": [
      "<ipython-input-4-d8650b052227>:74: RuntimeWarning: This filename (E:\\jupyter file\\EEG_process\\SE_train_processed\\Z魏平20220509（未发作）_bias_40.fif) does not conform to MNE naming conventions. All raw files should end with raw.fif, raw_sss.fif, raw_tsss.fif, _meg.fif, _eeg.fif, _ieeg.fif, raw.fif.gz, raw_sss.fif.gz, raw_tsss.fif.gz, _meg.fif.gz, _eeg.fif.gz or _ieeg.fif.gz\n",
      "  custom_raw.save(save_path,overwrite=True)\n",
      "<ipython-input-4-d8650b052227>:2: RuntimeWarning: This filename (../SE_train\\Z魏平20220509（未发作）_bias_8.fif) does not conform to MNE naming conventions. All raw files should end with raw.fif, raw_sss.fif, raw_tsss.fif, _meg.fif, _eeg.fif, _ieeg.fif, raw.fif.gz, raw_sss.fif.gz, raw_tsss.fif.gz, _meg.fif.gz, _eeg.fif.gz or _ieeg.fif.gz\n",
      "  raw = read_raw_fif(file_path)\n"
     ]
    },
    {
     "name": "stdout",
     "output_type": "stream",
     "text": [
      "pred_channel.shape (15, 2048)\n",
      "Creating RawArray with float64 data, n_channels=15, n_times=2048\n",
      "    Range : 0 ... 2047 =      0.000 ...     7.996 secs\n",
      "Ready.\n",
      "Writing E:\\jupyter file\\EEG_process\\SE_train_processed\\Z魏平20220509（未发作）_bias_8.fif\n",
      "Closing E:\\jupyter file\\EEG_process\\SE_train_processed\\Z魏平20220509（未发作）_bias_8.fif\n",
      "[done]\n",
      "../SE_train_processed/Z魏平20220513_bias_0.fif\n",
      "Opening raw data file ../SE_train\\Z魏平20220513_bias_0.fif...\n",
      "Isotrak not found\n",
      "    Range : 34772 ... 38868 =     67.914 ...    75.914 secs\n",
      "Ready.\n",
      "data_256.shape (15, 2048)\n",
      "data_256_samples.shape (15, 4, 512)\n",
      "data_sta.shape (15, 4, 512)\n",
      "data_x.shape: (60, 512, 1)\n"
     ]
    },
    {
     "name": "stderr",
     "output_type": "stream",
     "text": [
      "<ipython-input-4-d8650b052227>:74: RuntimeWarning: This filename (E:\\jupyter file\\EEG_process\\SE_train_processed\\Z魏平20220509（未发作）_bias_8.fif) does not conform to MNE naming conventions. All raw files should end with raw.fif, raw_sss.fif, raw_tsss.fif, _meg.fif, _eeg.fif, _ieeg.fif, raw.fif.gz, raw_sss.fif.gz, raw_tsss.fif.gz, _meg.fif.gz, _eeg.fif.gz or _ieeg.fif.gz\n",
      "  custom_raw.save(save_path,overwrite=True)\n",
      "<ipython-input-4-d8650b052227>:2: RuntimeWarning: This filename (../SE_train\\Z魏平20220513_bias_0.fif) does not conform to MNE naming conventions. All raw files should end with raw.fif, raw_sss.fif, raw_tsss.fif, _meg.fif, _eeg.fif, _ieeg.fif, raw.fif.gz, raw_sss.fif.gz, raw_tsss.fif.gz, _meg.fif.gz, _eeg.fif.gz or _ieeg.fif.gz\n",
      "  raw = read_raw_fif(file_path)\n"
     ]
    },
    {
     "name": "stdout",
     "output_type": "stream",
     "text": [
      "pred_channel.shape (15, 2048)\n",
      "Creating RawArray with float64 data, n_channels=15, n_times=2048\n",
      "    Range : 0 ... 2047 =      0.000 ...     7.996 secs\n",
      "Ready.\n",
      "Writing E:\\jupyter file\\EEG_process\\SE_train_processed\\Z魏平20220513_bias_0.fif\n",
      "Closing E:\\jupyter file\\EEG_process\\SE_train_processed\\Z魏平20220513_bias_0.fif\n",
      "[done]\n",
      "../SE_train_processed/Z黄晓旸20220511_bias_0.fif\n",
      "Opening raw data file ../SE_train\\Z黄晓旸20220511_bias_0.fif...\n",
      "Isotrak not found\n",
      "    Range : 67053 ... 71150 =    130.963 ...   138.965 secs\n",
      "Ready.\n",
      "data_256.shape (15, 2048)\n",
      "data_256_samples.shape (15, 4, 512)\n",
      "data_sta.shape (15, 4, 512)\n",
      "data_x.shape: (60, 512, 1)\n"
     ]
    },
    {
     "name": "stderr",
     "output_type": "stream",
     "text": [
      "<ipython-input-4-d8650b052227>:74: RuntimeWarning: This filename (E:\\jupyter file\\EEG_process\\SE_train_processed\\Z魏平20220513_bias_0.fif) does not conform to MNE naming conventions. All raw files should end with raw.fif, raw_sss.fif, raw_tsss.fif, _meg.fif, _eeg.fif, _ieeg.fif, raw.fif.gz, raw_sss.fif.gz, raw_tsss.fif.gz, _meg.fif.gz, _eeg.fif.gz or _ieeg.fif.gz\n",
      "  custom_raw.save(save_path,overwrite=True)\n",
      "<ipython-input-4-d8650b052227>:2: RuntimeWarning: This filename (../SE_train\\Z黄晓旸20220511_bias_0.fif) does not conform to MNE naming conventions. All raw files should end with raw.fif, raw_sss.fif, raw_tsss.fif, _meg.fif, _eeg.fif, _ieeg.fif, raw.fif.gz, raw_sss.fif.gz, raw_tsss.fif.gz, _meg.fif.gz, _eeg.fif.gz or _ieeg.fif.gz\n",
      "  raw = read_raw_fif(file_path)\n"
     ]
    },
    {
     "name": "stdout",
     "output_type": "stream",
     "text": [
      "pred_channel.shape (15, 2048)\n",
      "Creating RawArray with float64 data, n_channels=15, n_times=2048\n",
      "    Range : 0 ... 2047 =      0.000 ...     7.996 secs\n",
      "Ready.\n",
      "Writing E:\\jupyter file\\EEG_process\\SE_train_processed\\Z黄晓旸20220511_bias_0.fif\n",
      "Closing E:\\jupyter file\\EEG_process\\SE_train_processed\\Z黄晓旸20220511_bias_0.fif\n",
      "[done]\n",
      "../SE_train_processed/Z黄晓旸20220513_bias_0.fif\n",
      "Opening raw data file ../SE_train\\Z黄晓旸20220513_bias_0.fif...\n",
      "Isotrak not found\n",
      "    Range : 50324 ... 54420 =     98.289 ...   106.289 secs\n",
      "Ready.\n",
      "data_256.shape (15, 2048)\n",
      "data_256_samples.shape (15, 4, 512)\n",
      "data_sta.shape (15, 4, 512)\n",
      "data_x.shape: (60, 512, 1)\n"
     ]
    },
    {
     "name": "stderr",
     "output_type": "stream",
     "text": [
      "<ipython-input-4-d8650b052227>:74: RuntimeWarning: This filename (E:\\jupyter file\\EEG_process\\SE_train_processed\\Z黄晓旸20220511_bias_0.fif) does not conform to MNE naming conventions. All raw files should end with raw.fif, raw_sss.fif, raw_tsss.fif, _meg.fif, _eeg.fif, _ieeg.fif, raw.fif.gz, raw_sss.fif.gz, raw_tsss.fif.gz, _meg.fif.gz, _eeg.fif.gz or _ieeg.fif.gz\n",
      "  custom_raw.save(save_path,overwrite=True)\n",
      "<ipython-input-4-d8650b052227>:2: RuntimeWarning: This filename (../SE_train\\Z黄晓旸20220513_bias_0.fif) does not conform to MNE naming conventions. All raw files should end with raw.fif, raw_sss.fif, raw_tsss.fif, _meg.fif, _eeg.fif, _ieeg.fif, raw.fif.gz, raw_sss.fif.gz, raw_tsss.fif.gz, _meg.fif.gz, _eeg.fif.gz or _ieeg.fif.gz\n",
      "  raw = read_raw_fif(file_path)\n"
     ]
    },
    {
     "name": "stdout",
     "output_type": "stream",
     "text": [
      "pred_channel.shape (15, 2048)\n",
      "Creating RawArray with float64 data, n_channels=15, n_times=2048\n",
      "    Range : 0 ... 2047 =      0.000 ...     7.996 secs\n",
      "Ready.\n",
      "Writing E:\\jupyter file\\EEG_process\\SE_train_processed\\Z黄晓旸20220513_bias_0.fif\n",
      "Closing E:\\jupyter file\\EEG_process\\SE_train_processed\\Z黄晓旸20220513_bias_0.fif\n",
      "[done]\n",
      "../SE_train_processed/Z黄晓旸20220516_bias_0.fif\n",
      "Opening raw data file ../SE_train\\Z黄晓旸20220516_bias_0.fif...\n",
      "Isotrak not found\n",
      "    Range : 63824 ... 80208 =     31.164 ...    39.164 secs\n",
      "Ready.\n",
      "data_256.shape (15, 2048)\n",
      "data_256_samples.shape (15, 4, 512)\n",
      "data_sta.shape (15, 4, 512)\n",
      "data_x.shape: (60, 512, 1)\n"
     ]
    },
    {
     "name": "stderr",
     "output_type": "stream",
     "text": [
      "<ipython-input-4-d8650b052227>:74: RuntimeWarning: This filename (E:\\jupyter file\\EEG_process\\SE_train_processed\\Z黄晓旸20220513_bias_0.fif) does not conform to MNE naming conventions. All raw files should end with raw.fif, raw_sss.fif, raw_tsss.fif, _meg.fif, _eeg.fif, _ieeg.fif, raw.fif.gz, raw_sss.fif.gz, raw_tsss.fif.gz, _meg.fif.gz, _eeg.fif.gz or _ieeg.fif.gz\n",
      "  custom_raw.save(save_path,overwrite=True)\n",
      "<ipython-input-4-d8650b052227>:2: RuntimeWarning: This filename (../SE_train\\Z黄晓旸20220516_bias_0.fif) does not conform to MNE naming conventions. All raw files should end with raw.fif, raw_sss.fif, raw_tsss.fif, _meg.fif, _eeg.fif, _ieeg.fif, raw.fif.gz, raw_sss.fif.gz, raw_tsss.fif.gz, _meg.fif.gz, _eeg.fif.gz or _ieeg.fif.gz\n",
      "  raw = read_raw_fif(file_path)\n"
     ]
    },
    {
     "name": "stdout",
     "output_type": "stream",
     "text": [
      "pred_channel.shape (15, 2048)\n",
      "Creating RawArray with float64 data, n_channels=15, n_times=2048\n",
      "    Range : 0 ... 2047 =      0.000 ...     7.996 secs\n",
      "Ready.\n",
      "Writing E:\\jupyter file\\EEG_process\\SE_train_processed\\Z黄晓旸20220516_bias_0.fif\n",
      "Closing E:\\jupyter file\\EEG_process\\SE_train_processed\\Z黄晓旸20220516_bias_0.fif\n",
      "[done]\n",
      "../SE_train_processed/Z黄盈雪20220314_bias_0.fif\n",
      "Opening raw data file ../SE_train\\Z黄盈雪20220314_bias_0.fif...\n",
      "Isotrak not found\n",
      "    Range : 20114 ... 28306 =     19.643 ...    27.643 secs\n",
      "Ready.\n",
      "data_256.shape (15, 2048)\n",
      "data_256_samples.shape (15, 4, 512)\n",
      "data_sta.shape (15, 4, 512)\n",
      "data_x.shape: (60, 512, 1)\n",
      "pred_channel.shape (15, 2048)\n"
     ]
    },
    {
     "name": "stderr",
     "output_type": "stream",
     "text": [
      "<ipython-input-4-d8650b052227>:74: RuntimeWarning: This filename (E:\\jupyter file\\EEG_process\\SE_train_processed\\Z黄晓旸20220516_bias_0.fif) does not conform to MNE naming conventions. All raw files should end with raw.fif, raw_sss.fif, raw_tsss.fif, _meg.fif, _eeg.fif, _ieeg.fif, raw.fif.gz, raw_sss.fif.gz, raw_tsss.fif.gz, _meg.fif.gz, _eeg.fif.gz or _ieeg.fif.gz\n",
      "  custom_raw.save(save_path,overwrite=True)\n",
      "<ipython-input-4-d8650b052227>:2: RuntimeWarning: This filename (../SE_train\\Z黄盈雪20220314_bias_0.fif) does not conform to MNE naming conventions. All raw files should end with raw.fif, raw_sss.fif, raw_tsss.fif, _meg.fif, _eeg.fif, _ieeg.fif, raw.fif.gz, raw_sss.fif.gz, raw_tsss.fif.gz, _meg.fif.gz, _eeg.fif.gz or _ieeg.fif.gz\n",
      "  raw = read_raw_fif(file_path)\n"
     ]
    },
    {
     "name": "stdout",
     "output_type": "stream",
     "text": [
      "Creating RawArray with float64 data, n_channels=15, n_times=2048\n",
      "    Range : 0 ... 2047 =      0.000 ...     7.996 secs\n",
      "Ready.\n",
      "Writing E:\\jupyter file\\EEG_process\\SE_train_processed\\Z黄盈雪20220314_bias_0.fif\n",
      "Closing E:\\jupyter file\\EEG_process\\SE_train_processed\\Z黄盈雪20220314_bias_0.fif\n",
      "[done]\n",
      "../SE_train_processed/Z黄盈雪20220316_bias_0.fif\n",
      "Opening raw data file ../SE_train\\Z黄盈雪20220316_bias_0.fif...\n",
      "Isotrak not found\n",
      "    Range : 90303 ... 98495 =     88.187 ...    96.187 secs\n",
      "Ready.\n",
      "data_256.shape (15, 2048)\n",
      "data_256_samples.shape (15, 4, 512)\n",
      "data_sta.shape (15, 4, 512)\n",
      "data_x.shape: (60, 512, 1)\n"
     ]
    },
    {
     "name": "stderr",
     "output_type": "stream",
     "text": [
      "<ipython-input-4-d8650b052227>:74: RuntimeWarning: This filename (E:\\jupyter file\\EEG_process\\SE_train_processed\\Z黄盈雪20220314_bias_0.fif) does not conform to MNE naming conventions. All raw files should end with raw.fif, raw_sss.fif, raw_tsss.fif, _meg.fif, _eeg.fif, _ieeg.fif, raw.fif.gz, raw_sss.fif.gz, raw_tsss.fif.gz, _meg.fif.gz, _eeg.fif.gz or _ieeg.fif.gz\n",
      "  custom_raw.save(save_path,overwrite=True)\n",
      "<ipython-input-4-d8650b052227>:2: RuntimeWarning: This filename (../SE_train\\Z黄盈雪20220316_bias_0.fif) does not conform to MNE naming conventions. All raw files should end with raw.fif, raw_sss.fif, raw_tsss.fif, _meg.fif, _eeg.fif, _ieeg.fif, raw.fif.gz, raw_sss.fif.gz, raw_tsss.fif.gz, _meg.fif.gz, _eeg.fif.gz or _ieeg.fif.gz\n",
      "  raw = read_raw_fif(file_path)\n"
     ]
    },
    {
     "name": "stdout",
     "output_type": "stream",
     "text": [
      "pred_channel.shape (15, 2048)\n",
      "Creating RawArray with float64 data, n_channels=15, n_times=2048\n",
      "    Range : 0 ... 2047 =      0.000 ...     7.996 secs\n",
      "Ready.\n",
      "Writing E:\\jupyter file\\EEG_process\\SE_train_processed\\Z黄盈雪20220316_bias_0.fif\n",
      "Closing E:\\jupyter file\\EEG_process\\SE_train_processed\\Z黄盈雪20220316_bias_0.fif\n",
      "[done]\n",
      "../SE_train_processed/Z黄盈雪20220318_bias_0.fif\n",
      "Opening raw data file ../SE_train\\Z黄盈雪20220318_bias_0.fif...\n",
      "Isotrak not found\n",
      "    Range : 499 ... 8691 =      0.487 ...     8.487 secs\n",
      "Ready.\n",
      "data_256.shape (15, 2048)\n",
      "data_256_samples.shape (15, 4, 512)\n",
      "data_sta.shape (15, 4, 512)\n",
      "data_x.shape: (60, 512, 1)\n"
     ]
    },
    {
     "name": "stderr",
     "output_type": "stream",
     "text": [
      "<ipython-input-4-d8650b052227>:74: RuntimeWarning: This filename (E:\\jupyter file\\EEG_process\\SE_train_processed\\Z黄盈雪20220316_bias_0.fif) does not conform to MNE naming conventions. All raw files should end with raw.fif, raw_sss.fif, raw_tsss.fif, _meg.fif, _eeg.fif, _ieeg.fif, raw.fif.gz, raw_sss.fif.gz, raw_tsss.fif.gz, _meg.fif.gz, _eeg.fif.gz or _ieeg.fif.gz\n",
      "  custom_raw.save(save_path,overwrite=True)\n",
      "<ipython-input-4-d8650b052227>:2: RuntimeWarning: This filename (../SE_train\\Z黄盈雪20220318_bias_0.fif) does not conform to MNE naming conventions. All raw files should end with raw.fif, raw_sss.fif, raw_tsss.fif, _meg.fif, _eeg.fif, _ieeg.fif, raw.fif.gz, raw_sss.fif.gz, raw_tsss.fif.gz, _meg.fif.gz, _eeg.fif.gz or _ieeg.fif.gz\n",
      "  raw = read_raw_fif(file_path)\n"
     ]
    },
    {
     "name": "stdout",
     "output_type": "stream",
     "text": [
      "pred_channel.shape (15, 2048)\n",
      "Creating RawArray with float64 data, n_channels=15, n_times=2048\n",
      "    Range : 0 ... 2047 =      0.000 ...     7.996 secs\n",
      "Ready.\n",
      "Writing E:\\jupyter file\\EEG_process\\SE_train_processed\\Z黄盈雪20220318_bias_0.fif\n",
      "Closing E:\\jupyter file\\EEG_process\\SE_train_processed\\Z黄盈雪20220318_bias_0.fif\n",
      "[done]\n",
      "../SE_train_processed/Z黄盈雪20220323_bias_0.fif\n",
      "Opening raw data file ../SE_train\\Z黄盈雪20220323_bias_0.fif...\n",
      "Isotrak not found\n",
      "    Range : 116586 ... 124778 =    113.854 ...   121.854 secs\n",
      "Ready.\n",
      "data_256.shape (15, 2048)\n",
      "data_256_samples.shape (15, 4, 512)\n",
      "data_sta.shape (15, 4, 512)\n",
      "data_x.shape: (60, 512, 1)\n"
     ]
    },
    {
     "name": "stderr",
     "output_type": "stream",
     "text": [
      "<ipython-input-4-d8650b052227>:74: RuntimeWarning: This filename (E:\\jupyter file\\EEG_process\\SE_train_processed\\Z黄盈雪20220318_bias_0.fif) does not conform to MNE naming conventions. All raw files should end with raw.fif, raw_sss.fif, raw_tsss.fif, _meg.fif, _eeg.fif, _ieeg.fif, raw.fif.gz, raw_sss.fif.gz, raw_tsss.fif.gz, _meg.fif.gz, _eeg.fif.gz or _ieeg.fif.gz\n",
      "  custom_raw.save(save_path,overwrite=True)\n",
      "<ipython-input-4-d8650b052227>:2: RuntimeWarning: This filename (../SE_train\\Z黄盈雪20220323_bias_0.fif) does not conform to MNE naming conventions. All raw files should end with raw.fif, raw_sss.fif, raw_tsss.fif, _meg.fif, _eeg.fif, _ieeg.fif, raw.fif.gz, raw_sss.fif.gz, raw_tsss.fif.gz, _meg.fif.gz, _eeg.fif.gz or _ieeg.fif.gz\n",
      "  raw = read_raw_fif(file_path)\n"
     ]
    },
    {
     "name": "stdout",
     "output_type": "stream",
     "text": [
      "pred_channel.shape (15, 2048)\n",
      "Creating RawArray with float64 data, n_channels=15, n_times=2048\n",
      "    Range : 0 ... 2047 =      0.000 ...     7.996 secs\n",
      "Ready.\n",
      "Writing E:\\jupyter file\\EEG_process\\SE_train_processed\\Z黄盈雪20220323_bias_0.fif\n",
      "Closing E:\\jupyter file\\EEG_process\\SE_train_processed\\Z黄盈雪20220323_bias_0.fif\n",
      "[done]\n",
      "../SE_train_processed/Z黄金燕20220309_bias_0.fif\n",
      "Opening raw data file ../SE_train\\Z黄金燕20220309_bias_0.fif...\n",
      "Isotrak not found\n",
      "    Range : 27979 ... 36171 =     27.323 ...    35.323 secs\n",
      "Ready.\n",
      "data_256.shape (15, 2048)\n",
      "data_256_samples.shape (15, 4, 512)\n",
      "data_sta.shape (15, 4, 512)\n",
      "data_x.shape: (60, 512, 1)\n"
     ]
    },
    {
     "name": "stderr",
     "output_type": "stream",
     "text": [
      "<ipython-input-4-d8650b052227>:74: RuntimeWarning: This filename (E:\\jupyter file\\EEG_process\\SE_train_processed\\Z黄盈雪20220323_bias_0.fif) does not conform to MNE naming conventions. All raw files should end with raw.fif, raw_sss.fif, raw_tsss.fif, _meg.fif, _eeg.fif, _ieeg.fif, raw.fif.gz, raw_sss.fif.gz, raw_tsss.fif.gz, _meg.fif.gz, _eeg.fif.gz or _ieeg.fif.gz\n",
      "  custom_raw.save(save_path,overwrite=True)\n",
      "<ipython-input-4-d8650b052227>:2: RuntimeWarning: This filename (../SE_train\\Z黄金燕20220309_bias_0.fif) does not conform to MNE naming conventions. All raw files should end with raw.fif, raw_sss.fif, raw_tsss.fif, _meg.fif, _eeg.fif, _ieeg.fif, raw.fif.gz, raw_sss.fif.gz, raw_tsss.fif.gz, _meg.fif.gz, _eeg.fif.gz or _ieeg.fif.gz\n",
      "  raw = read_raw_fif(file_path)\n"
     ]
    },
    {
     "name": "stdout",
     "output_type": "stream",
     "text": [
      "pred_channel.shape (15, 2048)\n",
      "Creating RawArray with float64 data, n_channels=15, n_times=2048\n",
      "    Range : 0 ... 2047 =      0.000 ...     7.996 secs\n",
      "Ready.\n",
      "Writing E:\\jupyter file\\EEG_process\\SE_train_processed\\Z黄金燕20220309_bias_0.fif\n",
      "Closing E:\\jupyter file\\EEG_process\\SE_train_processed\\Z黄金燕20220309_bias_0.fif\n",
      "[done]\n",
      "../SE_train_processed/Z黄金燕20220311_bias_0.fif\n",
      "Opening raw data file ../SE_train\\Z黄金燕20220311_bias_0.fif...\n",
      "Isotrak not found\n",
      "    Range : 75866 ... 84058 =     74.088 ...    82.088 secs\n",
      "Ready.\n",
      "data_256.shape (15, 2048)\n",
      "data_256_samples.shape (15, 4, 512)\n",
      "data_sta.shape (15, 4, 512)\n",
      "data_x.shape: (60, 512, 1)\n"
     ]
    },
    {
     "name": "stderr",
     "output_type": "stream",
     "text": [
      "<ipython-input-4-d8650b052227>:74: RuntimeWarning: This filename (E:\\jupyter file\\EEG_process\\SE_train_processed\\Z黄金燕20220309_bias_0.fif) does not conform to MNE naming conventions. All raw files should end with raw.fif, raw_sss.fif, raw_tsss.fif, _meg.fif, _eeg.fif, _ieeg.fif, raw.fif.gz, raw_sss.fif.gz, raw_tsss.fif.gz, _meg.fif.gz, _eeg.fif.gz or _ieeg.fif.gz\n",
      "  custom_raw.save(save_path,overwrite=True)\n",
      "<ipython-input-4-d8650b052227>:2: RuntimeWarning: This filename (../SE_train\\Z黄金燕20220311_bias_0.fif) does not conform to MNE naming conventions. All raw files should end with raw.fif, raw_sss.fif, raw_tsss.fif, _meg.fif, _eeg.fif, _ieeg.fif, raw.fif.gz, raw_sss.fif.gz, raw_tsss.fif.gz, _meg.fif.gz, _eeg.fif.gz or _ieeg.fif.gz\n",
      "  raw = read_raw_fif(file_path)\n"
     ]
    },
    {
     "name": "stdout",
     "output_type": "stream",
     "text": [
      "pred_channel.shape (15, 2048)\n",
      "Creating RawArray with float64 data, n_channels=15, n_times=2048\n",
      "    Range : 0 ... 2047 =      0.000 ...     7.996 secs\n",
      "Ready.\n",
      "Writing E:\\jupyter file\\EEG_process\\SE_train_processed\\Z黄金燕20220311_bias_0.fif\n",
      "Closing E:\\jupyter file\\EEG_process\\SE_train_processed\\Z黄金燕20220311_bias_0.fif\n",
      "[done]\n",
      "../SE_train_processed/Z黄金燕20220314_bias_0.fif\n",
      "Opening raw data file ../SE_train\\Z黄金燕20220314_bias_0.fif...\n",
      "Isotrak not found\n",
      "    Range : 42873 ... 51065 =     41.868 ...    49.868 secs\n",
      "Ready.\n",
      "data_256.shape (15, 2048)\n",
      "data_256_samples.shape (15, 4, 512)\n",
      "data_sta.shape (15, 4, 512)\n",
      "data_x.shape: (60, 512, 1)\n"
     ]
    },
    {
     "name": "stderr",
     "output_type": "stream",
     "text": [
      "<ipython-input-4-d8650b052227>:74: RuntimeWarning: This filename (E:\\jupyter file\\EEG_process\\SE_train_processed\\Z黄金燕20220311_bias_0.fif) does not conform to MNE naming conventions. All raw files should end with raw.fif, raw_sss.fif, raw_tsss.fif, _meg.fif, _eeg.fif, _ieeg.fif, raw.fif.gz, raw_sss.fif.gz, raw_tsss.fif.gz, _meg.fif.gz, _eeg.fif.gz or _ieeg.fif.gz\n",
      "  custom_raw.save(save_path,overwrite=True)\n",
      "<ipython-input-4-d8650b052227>:2: RuntimeWarning: This filename (../SE_train\\Z黄金燕20220314_bias_0.fif) does not conform to MNE naming conventions. All raw files should end with raw.fif, raw_sss.fif, raw_tsss.fif, _meg.fif, _eeg.fif, _ieeg.fif, raw.fif.gz, raw_sss.fif.gz, raw_tsss.fif.gz, _meg.fif.gz, _eeg.fif.gz or _ieeg.fif.gz\n",
      "  raw = read_raw_fif(file_path)\n"
     ]
    },
    {
     "name": "stdout",
     "output_type": "stream",
     "text": [
      "pred_channel.shape (15, 2048)\n",
      "Creating RawArray with float64 data, n_channels=15, n_times=2048\n",
      "    Range : 0 ... 2047 =      0.000 ...     7.996 secs\n",
      "Ready.\n",
      "Writing E:\\jupyter file\\EEG_process\\SE_train_processed\\Z黄金燕20220314_bias_0.fif\n",
      "Closing E:\\jupyter file\\EEG_process\\SE_train_processed\\Z黄金燕20220314_bias_0.fif\n",
      "[done]\n",
      "../SE_train_processed/Z黄金燕20220316_bias_0.fif\n",
      "Opening raw data file ../SE_train\\Z黄金燕20220316_bias_0.fif...\n",
      "Isotrak not found\n",
      "    Range : 69652 ... 77844 =     68.020 ...    76.020 secs\n",
      "Ready.\n",
      "data_256.shape (15, 2048)\n",
      "data_256_samples.shape (15, 4, 512)\n",
      "data_sta.shape (15, 4, 512)\n",
      "data_x.shape: (60, 512, 1)\n"
     ]
    },
    {
     "name": "stderr",
     "output_type": "stream",
     "text": [
      "<ipython-input-4-d8650b052227>:74: RuntimeWarning: This filename (E:\\jupyter file\\EEG_process\\SE_train_processed\\Z黄金燕20220314_bias_0.fif) does not conform to MNE naming conventions. All raw files should end with raw.fif, raw_sss.fif, raw_tsss.fif, _meg.fif, _eeg.fif, _ieeg.fif, raw.fif.gz, raw_sss.fif.gz, raw_tsss.fif.gz, _meg.fif.gz, _eeg.fif.gz or _ieeg.fif.gz\n",
      "  custom_raw.save(save_path,overwrite=True)\n",
      "<ipython-input-4-d8650b052227>:2: RuntimeWarning: This filename (../SE_train\\Z黄金燕20220316_bias_0.fif) does not conform to MNE naming conventions. All raw files should end with raw.fif, raw_sss.fif, raw_tsss.fif, _meg.fif, _eeg.fif, _ieeg.fif, raw.fif.gz, raw_sss.fif.gz, raw_tsss.fif.gz, _meg.fif.gz, _eeg.fif.gz or _ieeg.fif.gz\n",
      "  raw = read_raw_fif(file_path)\n"
     ]
    },
    {
     "name": "stdout",
     "output_type": "stream",
     "text": [
      "pred_channel.shape (15, 2048)\n",
      "Creating RawArray with float64 data, n_channels=15, n_times=2048\n",
      "    Range : 0 ... 2047 =      0.000 ...     7.996 secs\n",
      "Ready.\n",
      "Writing E:\\jupyter file\\EEG_process\\SE_train_processed\\Z黄金燕20220316_bias_0.fif\n",
      "Closing E:\\jupyter file\\EEG_process\\SE_train_processed\\Z黄金燕20220316_bias_0.fif\n",
      "[done]\n",
      "../SE_train_processed/Z齐金钢20220223_bias_0.fif\n",
      "Opening raw data file ../SE_train\\Z齐金钢20220223_bias_0.fif...\n",
      "Isotrak not found\n",
      "    Range : 15380 ... 23572 =     15.020 ...    23.020 secs\n",
      "Ready.\n",
      "data_256.shape (15, 2048)\n",
      "data_256_samples.shape (15, 4, 512)\n",
      "data_sta.shape (15, 4, 512)\n",
      "data_x.shape: (60, 512, 1)\n"
     ]
    },
    {
     "name": "stderr",
     "output_type": "stream",
     "text": [
      "<ipython-input-4-d8650b052227>:74: RuntimeWarning: This filename (E:\\jupyter file\\EEG_process\\SE_train_processed\\Z黄金燕20220316_bias_0.fif) does not conform to MNE naming conventions. All raw files should end with raw.fif, raw_sss.fif, raw_tsss.fif, _meg.fif, _eeg.fif, _ieeg.fif, raw.fif.gz, raw_sss.fif.gz, raw_tsss.fif.gz, _meg.fif.gz, _eeg.fif.gz or _ieeg.fif.gz\n",
      "  custom_raw.save(save_path,overwrite=True)\n",
      "<ipython-input-4-d8650b052227>:2: RuntimeWarning: This filename (../SE_train\\Z齐金钢20220223_bias_0.fif) does not conform to MNE naming conventions. All raw files should end with raw.fif, raw_sss.fif, raw_tsss.fif, _meg.fif, _eeg.fif, _ieeg.fif, raw.fif.gz, raw_sss.fif.gz, raw_tsss.fif.gz, _meg.fif.gz, _eeg.fif.gz or _ieeg.fif.gz\n",
      "  raw = read_raw_fif(file_path)\n"
     ]
    },
    {
     "name": "stdout",
     "output_type": "stream",
     "text": [
      "pred_channel.shape (15, 2048)\n",
      "Creating RawArray with float64 data, n_channels=15, n_times=2048\n",
      "    Range : 0 ... 2047 =      0.000 ...     7.996 secs\n",
      "Ready.\n",
      "Writing E:\\jupyter file\\EEG_process\\SE_train_processed\\Z齐金钢20220223_bias_0.fif\n",
      "Closing E:\\jupyter file\\EEG_process\\SE_train_processed\\Z齐金钢20220223_bias_0.fif\n",
      "[done]\n",
      "../SE_train_processed/Z齐金钢20220225_bias_0.fif\n",
      "Opening raw data file ../SE_train\\Z齐金钢20220225_bias_0.fif...\n",
      "Isotrak not found\n",
      "    Range : 8174 ... 16366 =      7.982 ...    15.982 secs\n",
      "Ready.\n",
      "data_256.shape (15, 2048)\n",
      "data_256_samples.shape (15, 4, 512)\n",
      "data_sta.shape (15, 4, 512)\n",
      "data_x.shape: (60, 512, 1)\n"
     ]
    },
    {
     "name": "stderr",
     "output_type": "stream",
     "text": [
      "<ipython-input-4-d8650b052227>:74: RuntimeWarning: This filename (E:\\jupyter file\\EEG_process\\SE_train_processed\\Z齐金钢20220223_bias_0.fif) does not conform to MNE naming conventions. All raw files should end with raw.fif, raw_sss.fif, raw_tsss.fif, _meg.fif, _eeg.fif, _ieeg.fif, raw.fif.gz, raw_sss.fif.gz, raw_tsss.fif.gz, _meg.fif.gz, _eeg.fif.gz or _ieeg.fif.gz\n",
      "  custom_raw.save(save_path,overwrite=True)\n",
      "<ipython-input-4-d8650b052227>:2: RuntimeWarning: This filename (../SE_train\\Z齐金钢20220225_bias_0.fif) does not conform to MNE naming conventions. All raw files should end with raw.fif, raw_sss.fif, raw_tsss.fif, _meg.fif, _eeg.fif, _ieeg.fif, raw.fif.gz, raw_sss.fif.gz, raw_tsss.fif.gz, _meg.fif.gz, _eeg.fif.gz or _ieeg.fif.gz\n",
      "  raw = read_raw_fif(file_path)\n"
     ]
    },
    {
     "name": "stdout",
     "output_type": "stream",
     "text": [
      "pred_channel.shape (15, 2048)\n",
      "Creating RawArray with float64 data, n_channels=15, n_times=2048\n",
      "    Range : 0 ... 2047 =      0.000 ...     7.996 secs\n",
      "Ready.\n",
      "Writing E:\\jupyter file\\EEG_process\\SE_train_processed\\Z齐金钢20220225_bias_0.fif\n",
      "Closing E:\\jupyter file\\EEG_process\\SE_train_processed\\Z齐金钢20220225_bias_0.fif\n",
      "[done]\n",
      "../SE_train_processed/Z齐金钢20220228_bias_0.fif\n",
      "Opening raw data file ../SE_train\\Z齐金钢20220228_bias_0.fif...\n",
      "Isotrak not found\n",
      "    Range : 20991 ... 29183 =     20.499 ...    28.499 secs\n",
      "Ready.\n",
      "data_256.shape (15, 2048)\n",
      "data_256_samples.shape (15, 4, 512)\n",
      "data_sta.shape (15, 4, 512)\n",
      "data_x.shape: (60, 512, 1)\n"
     ]
    },
    {
     "name": "stderr",
     "output_type": "stream",
     "text": [
      "<ipython-input-4-d8650b052227>:74: RuntimeWarning: This filename (E:\\jupyter file\\EEG_process\\SE_train_processed\\Z齐金钢20220225_bias_0.fif) does not conform to MNE naming conventions. All raw files should end with raw.fif, raw_sss.fif, raw_tsss.fif, _meg.fif, _eeg.fif, _ieeg.fif, raw.fif.gz, raw_sss.fif.gz, raw_tsss.fif.gz, _meg.fif.gz, _eeg.fif.gz or _ieeg.fif.gz\n",
      "  custom_raw.save(save_path,overwrite=True)\n",
      "<ipython-input-4-d8650b052227>:2: RuntimeWarning: This filename (../SE_train\\Z齐金钢20220228_bias_0.fif) does not conform to MNE naming conventions. All raw files should end with raw.fif, raw_sss.fif, raw_tsss.fif, _meg.fif, _eeg.fif, _ieeg.fif, raw.fif.gz, raw_sss.fif.gz, raw_tsss.fif.gz, _meg.fif.gz, _eeg.fif.gz or _ieeg.fif.gz\n",
      "  raw = read_raw_fif(file_path)\n"
     ]
    },
    {
     "name": "stdout",
     "output_type": "stream",
     "text": [
      "pred_channel.shape (15, 2048)\n",
      "Creating RawArray with float64 data, n_channels=15, n_times=2048\n",
      "    Range : 0 ... 2047 =      0.000 ...     7.996 secs\n",
      "Ready.\n",
      "Writing E:\\jupyter file\\EEG_process\\SE_train_processed\\Z齐金钢20220228_bias_0.fif\n",
      "Closing E:\\jupyter file\\EEG_process\\SE_train_processed\\Z齐金钢20220228_bias_0.fif\n",
      "[done]\n",
      "../SE_train_processed/Z齐金钢20220302_bias_0.fif\n",
      "Opening raw data file ../SE_train\\Z齐金钢20220302_bias_0.fif...\n",
      "Isotrak not found\n",
      "    Range : 150366 ... 158558 =    146.842 ...   154.842 secs\n",
      "Ready.\n",
      "data_256.shape (15, 2048)\n",
      "data_256_samples.shape (15, 4, 512)\n",
      "data_sta.shape (15, 4, 512)\n",
      "data_x.shape: (60, 512, 1)\n"
     ]
    },
    {
     "name": "stderr",
     "output_type": "stream",
     "text": [
      "<ipython-input-4-d8650b052227>:74: RuntimeWarning: This filename (E:\\jupyter file\\EEG_process\\SE_train_processed\\Z齐金钢20220228_bias_0.fif) does not conform to MNE naming conventions. All raw files should end with raw.fif, raw_sss.fif, raw_tsss.fif, _meg.fif, _eeg.fif, _ieeg.fif, raw.fif.gz, raw_sss.fif.gz, raw_tsss.fif.gz, _meg.fif.gz, _eeg.fif.gz or _ieeg.fif.gz\n",
      "  custom_raw.save(save_path,overwrite=True)\n",
      "<ipython-input-4-d8650b052227>:2: RuntimeWarning: This filename (../SE_train\\Z齐金钢20220302_bias_0.fif) does not conform to MNE naming conventions. All raw files should end with raw.fif, raw_sss.fif, raw_tsss.fif, _meg.fif, _eeg.fif, _ieeg.fif, raw.fif.gz, raw_sss.fif.gz, raw_tsss.fif.gz, _meg.fif.gz, _eeg.fif.gz or _ieeg.fif.gz\n",
      "  raw = read_raw_fif(file_path)\n"
     ]
    },
    {
     "name": "stdout",
     "output_type": "stream",
     "text": [
      "pred_channel.shape (15, 2048)\n",
      "Creating RawArray with float64 data, n_channels=15, n_times=2048\n",
      "    Range : 0 ... 2047 =      0.000 ...     7.996 secs\n",
      "Ready.\n",
      "Writing E:\\jupyter file\\EEG_process\\SE_train_processed\\Z齐金钢20220302_bias_0.fif\n",
      "Closing E:\\jupyter file\\EEG_process\\SE_train_processed\\Z齐金钢20220302_bias_0.fif\n",
      "[done]\n",
      "../SE_train_processed/Z龙园芳20220509_bias_0.fif\n",
      "Opening raw data file ../SE_train\\Z龙园芳20220509_bias_0.fif...\n",
      "Isotrak not found\n",
      "    Range : 60942 ... 65038 =    119.027 ...   127.027 secs\n",
      "Ready.\n",
      "data_256.shape (15, 2048)\n",
      "data_256_samples.shape (15, 4, 512)\n",
      "data_sta.shape (15, 4, 512)\n",
      "data_x.shape: (60, 512, 1)\n",
      "pred_channel.shape (15, 2048)\n"
     ]
    },
    {
     "name": "stderr",
     "output_type": "stream",
     "text": [
      "<ipython-input-4-d8650b052227>:74: RuntimeWarning: This filename (E:\\jupyter file\\EEG_process\\SE_train_processed\\Z齐金钢20220302_bias_0.fif) does not conform to MNE naming conventions. All raw files should end with raw.fif, raw_sss.fif, raw_tsss.fif, _meg.fif, _eeg.fif, _ieeg.fif, raw.fif.gz, raw_sss.fif.gz, raw_tsss.fif.gz, _meg.fif.gz, _eeg.fif.gz or _ieeg.fif.gz\n",
      "  custom_raw.save(save_path,overwrite=True)\n",
      "<ipython-input-4-d8650b052227>:2: RuntimeWarning: This filename (../SE_train\\Z龙园芳20220509_bias_0.fif) does not conform to MNE naming conventions. All raw files should end with raw.fif, raw_sss.fif, raw_tsss.fif, _meg.fif, _eeg.fif, _ieeg.fif, raw.fif.gz, raw_sss.fif.gz, raw_tsss.fif.gz, _meg.fif.gz, _eeg.fif.gz or _ieeg.fif.gz\n",
      "  raw = read_raw_fif(file_path)\n"
     ]
    },
    {
     "name": "stdout",
     "output_type": "stream",
     "text": [
      "Creating RawArray with float64 data, n_channels=15, n_times=2048\n",
      "    Range : 0 ... 2047 =      0.000 ...     7.996 secs\n",
      "Ready.\n",
      "Writing E:\\jupyter file\\EEG_process\\SE_train_processed\\Z龙园芳20220509_bias_0.fif\n",
      "Closing E:\\jupyter file\\EEG_process\\SE_train_processed\\Z龙园芳20220509_bias_0.fif\n",
      "[done]\n",
      "../SE_train_processed/Z龙园芳20220511（未发作）_bias_0.fif\n",
      "Opening raw data file ../SE_train\\Z龙园芳20220511（未发作）_bias_0.fif...\n",
      "Isotrak not found\n",
      "    Range : 95744 ... 99840 =    187.000 ...   195.000 secs\n",
      "Ready.\n",
      "data_256.shape (15, 2048)\n",
      "data_256_samples.shape (15, 4, 512)\n",
      "data_sta.shape (15, 4, 512)\n",
      "data_x.shape: (60, 512, 1)\n"
     ]
    },
    {
     "name": "stderr",
     "output_type": "stream",
     "text": [
      "<ipython-input-4-d8650b052227>:74: RuntimeWarning: This filename (E:\\jupyter file\\EEG_process\\SE_train_processed\\Z龙园芳20220509_bias_0.fif) does not conform to MNE naming conventions. All raw files should end with raw.fif, raw_sss.fif, raw_tsss.fif, _meg.fif, _eeg.fif, _ieeg.fif, raw.fif.gz, raw_sss.fif.gz, raw_tsss.fif.gz, _meg.fif.gz, _eeg.fif.gz or _ieeg.fif.gz\n",
      "  custom_raw.save(save_path,overwrite=True)\n",
      "<ipython-input-4-d8650b052227>:2: RuntimeWarning: This filename (../SE_train\\Z龙园芳20220511（未发作）_bias_0.fif) does not conform to MNE naming conventions. All raw files should end with raw.fif, raw_sss.fif, raw_tsss.fif, _meg.fif, _eeg.fif, _ieeg.fif, raw.fif.gz, raw_sss.fif.gz, raw_tsss.fif.gz, _meg.fif.gz, _eeg.fif.gz or _ieeg.fif.gz\n",
      "  raw = read_raw_fif(file_path)\n"
     ]
    },
    {
     "name": "stdout",
     "output_type": "stream",
     "text": [
      "pred_channel.shape (15, 2048)\n",
      "Creating RawArray with float64 data, n_channels=15, n_times=2048\n",
      "    Range : 0 ... 2047 =      0.000 ...     7.996 secs\n",
      "Ready.\n",
      "Writing E:\\jupyter file\\EEG_process\\SE_train_processed\\Z龙园芳20220511（未发作）_bias_0.fif\n",
      "Closing E:\\jupyter file\\EEG_process\\SE_train_processed\\Z龙园芳20220511（未发作）_bias_0.fif\n",
      "[done]\n",
      "../SE_train_processed/Z龙园芳20220511（未发作）_bias_16.fif\n",
      "Opening raw data file ../SE_train\\Z龙园芳20220511（未发作）_bias_16.fif...\n",
      "Isotrak not found\n",
      "    Range : 103936 ... 112128 =    203.000 ...   219.000 secs\n",
      "Ready.\n",
      "data_256.shape (15, 2048)\n",
      "data_256_samples.shape (15, 4, 512)\n",
      "data_sta.shape (15, 4, 512)\n",
      "data_x.shape: (60, 512, 1)\n"
     ]
    },
    {
     "name": "stderr",
     "output_type": "stream",
     "text": [
      "<ipython-input-4-d8650b052227>:74: RuntimeWarning: This filename (E:\\jupyter file\\EEG_process\\SE_train_processed\\Z龙园芳20220511（未发作）_bias_0.fif) does not conform to MNE naming conventions. All raw files should end with raw.fif, raw_sss.fif, raw_tsss.fif, _meg.fif, _eeg.fif, _ieeg.fif, raw.fif.gz, raw_sss.fif.gz, raw_tsss.fif.gz, _meg.fif.gz, _eeg.fif.gz or _ieeg.fif.gz\n",
      "  custom_raw.save(save_path,overwrite=True)\n",
      "<ipython-input-4-d8650b052227>:2: RuntimeWarning: This filename (../SE_train\\Z龙园芳20220511（未发作）_bias_16.fif) does not conform to MNE naming conventions. All raw files should end with raw.fif, raw_sss.fif, raw_tsss.fif, _meg.fif, _eeg.fif, _ieeg.fif, raw.fif.gz, raw_sss.fif.gz, raw_tsss.fif.gz, _meg.fif.gz, _eeg.fif.gz or _ieeg.fif.gz\n",
      "  raw = read_raw_fif(file_path)\n"
     ]
    },
    {
     "name": "stdout",
     "output_type": "stream",
     "text": [
      "pred_channel.shape (15, 2048)\n",
      "Creating RawArray with float64 data, n_channels=15, n_times=2048\n",
      "    Range : 0 ... 2047 =      0.000 ...     7.996 secs\n",
      "Ready.\n",
      "Writing E:\\jupyter file\\EEG_process\\SE_train_processed\\Z龙园芳20220511（未发作）_bias_16.fif\n",
      "Closing E:\\jupyter file\\EEG_process\\SE_train_processed\\Z龙园芳20220511（未发作）_bias_16.fif\n",
      "[done]\n",
      "../SE_train_processed/Z龙园芳20220511（未发作）_bias_24.fif\n",
      "Opening raw data file ../SE_train\\Z龙园芳20220511（未发作）_bias_24.fif...\n",
      "Isotrak not found\n",
      "    Range : 108032 ... 116224 =    211.000 ...   227.000 secs\n",
      "Ready.\n",
      "data_256.shape (15, 2048)\n",
      "data_256_samples.shape (15, 4, 512)\n",
      "data_sta.shape (15, 4, 512)\n",
      "data_x.shape: (60, 512, 1)\n"
     ]
    },
    {
     "name": "stderr",
     "output_type": "stream",
     "text": [
      "<ipython-input-4-d8650b052227>:74: RuntimeWarning: This filename (E:\\jupyter file\\EEG_process\\SE_train_processed\\Z龙园芳20220511（未发作）_bias_16.fif) does not conform to MNE naming conventions. All raw files should end with raw.fif, raw_sss.fif, raw_tsss.fif, _meg.fif, _eeg.fif, _ieeg.fif, raw.fif.gz, raw_sss.fif.gz, raw_tsss.fif.gz, _meg.fif.gz, _eeg.fif.gz or _ieeg.fif.gz\n",
      "  custom_raw.save(save_path,overwrite=True)\n",
      "<ipython-input-4-d8650b052227>:2: RuntimeWarning: This filename (../SE_train\\Z龙园芳20220511（未发作）_bias_24.fif) does not conform to MNE naming conventions. All raw files should end with raw.fif, raw_sss.fif, raw_tsss.fif, _meg.fif, _eeg.fif, _ieeg.fif, raw.fif.gz, raw_sss.fif.gz, raw_tsss.fif.gz, _meg.fif.gz, _eeg.fif.gz or _ieeg.fif.gz\n",
      "  raw = read_raw_fif(file_path)\n"
     ]
    },
    {
     "name": "stdout",
     "output_type": "stream",
     "text": [
      "pred_channel.shape (15, 2048)\n",
      "Creating RawArray with float64 data, n_channels=15, n_times=2048\n",
      "    Range : 0 ... 2047 =      0.000 ...     7.996 secs\n",
      "Ready.\n",
      "Writing E:\\jupyter file\\EEG_process\\SE_train_processed\\Z龙园芳20220511（未发作）_bias_24.fif\n",
      "Closing E:\\jupyter file\\EEG_process\\SE_train_processed\\Z龙园芳20220511（未发作）_bias_24.fif\n",
      "[done]\n",
      "../SE_train_processed/Z龙园芳20220511（未发作）_bias_32.fif\n",
      "Opening raw data file ../SE_train\\Z龙园芳20220511（未发作）_bias_32.fif...\n",
      "Isotrak not found\n",
      "    Range : 112128 ... 120320 =    219.000 ...   235.000 secs\n",
      "Ready.\n",
      "data_256.shape (15, 2048)\n",
      "data_256_samples.shape (15, 4, 512)\n",
      "data_sta.shape (15, 4, 512)\n",
      "data_x.shape: (60, 512, 1)\n"
     ]
    },
    {
     "name": "stderr",
     "output_type": "stream",
     "text": [
      "<ipython-input-4-d8650b052227>:74: RuntimeWarning: This filename (E:\\jupyter file\\EEG_process\\SE_train_processed\\Z龙园芳20220511（未发作）_bias_24.fif) does not conform to MNE naming conventions. All raw files should end with raw.fif, raw_sss.fif, raw_tsss.fif, _meg.fif, _eeg.fif, _ieeg.fif, raw.fif.gz, raw_sss.fif.gz, raw_tsss.fif.gz, _meg.fif.gz, _eeg.fif.gz or _ieeg.fif.gz\n",
      "  custom_raw.save(save_path,overwrite=True)\n",
      "<ipython-input-4-d8650b052227>:2: RuntimeWarning: This filename (../SE_train\\Z龙园芳20220511（未发作）_bias_32.fif) does not conform to MNE naming conventions. All raw files should end with raw.fif, raw_sss.fif, raw_tsss.fif, _meg.fif, _eeg.fif, _ieeg.fif, raw.fif.gz, raw_sss.fif.gz, raw_tsss.fif.gz, _meg.fif.gz, _eeg.fif.gz or _ieeg.fif.gz\n",
      "  raw = read_raw_fif(file_path)\n"
     ]
    },
    {
     "name": "stdout",
     "output_type": "stream",
     "text": [
      "pred_channel.shape (15, 2048)\n",
      "Creating RawArray with float64 data, n_channels=15, n_times=2048\n",
      "    Range : 0 ... 2047 =      0.000 ...     7.996 secs\n",
      "Ready.\n",
      "Writing E:\\jupyter file\\EEG_process\\SE_train_processed\\Z龙园芳20220511（未发作）_bias_32.fif\n",
      "Closing E:\\jupyter file\\EEG_process\\SE_train_processed\\Z龙园芳20220511（未发作）_bias_32.fif\n",
      "[done]\n",
      "../SE_train_processed/Z龙园芳20220511（未发作）_bias_40.fif\n",
      "Opening raw data file ../SE_train\\Z龙园芳20220511（未发作）_bias_40.fif...\n",
      "Isotrak not found\n",
      "    Range : 116224 ... 124416 =    227.000 ...   243.000 secs\n",
      "Ready.\n",
      "data_256.shape (15, 2048)\n",
      "data_256_samples.shape (15, 4, 512)\n",
      "data_sta.shape (15, 4, 512)\n",
      "data_x.shape: (60, 512, 1)\n"
     ]
    },
    {
     "name": "stderr",
     "output_type": "stream",
     "text": [
      "<ipython-input-4-d8650b052227>:74: RuntimeWarning: This filename (E:\\jupyter file\\EEG_process\\SE_train_processed\\Z龙园芳20220511（未发作）_bias_32.fif) does not conform to MNE naming conventions. All raw files should end with raw.fif, raw_sss.fif, raw_tsss.fif, _meg.fif, _eeg.fif, _ieeg.fif, raw.fif.gz, raw_sss.fif.gz, raw_tsss.fif.gz, _meg.fif.gz, _eeg.fif.gz or _ieeg.fif.gz\n",
      "  custom_raw.save(save_path,overwrite=True)\n",
      "<ipython-input-4-d8650b052227>:2: RuntimeWarning: This filename (../SE_train\\Z龙园芳20220511（未发作）_bias_40.fif) does not conform to MNE naming conventions. All raw files should end with raw.fif, raw_sss.fif, raw_tsss.fif, _meg.fif, _eeg.fif, _ieeg.fif, raw.fif.gz, raw_sss.fif.gz, raw_tsss.fif.gz, _meg.fif.gz, _eeg.fif.gz or _ieeg.fif.gz\n",
      "  raw = read_raw_fif(file_path)\n"
     ]
    },
    {
     "name": "stdout",
     "output_type": "stream",
     "text": [
      "pred_channel.shape (15, 2048)\n",
      "Creating RawArray with float64 data, n_channels=15, n_times=2048\n",
      "    Range : 0 ... 2047 =      0.000 ...     7.996 secs\n",
      "Ready.\n",
      "Writing E:\\jupyter file\\EEG_process\\SE_train_processed\\Z龙园芳20220511（未发作）_bias_40.fif\n",
      "Closing E:\\jupyter file\\EEG_process\\SE_train_processed\\Z龙园芳20220511（未发作）_bias_40.fif\n",
      "[done]\n",
      "../SE_train_processed/Z龙园芳20220511（未发作）_bias_8.fif\n",
      "Opening raw data file ../SE_train\\Z龙园芳20220511（未发作）_bias_8.fif...\n",
      "Isotrak not found\n",
      "    Range : 99840 ... 108032 =    195.000 ...   211.000 secs\n",
      "Ready.\n",
      "data_256.shape (15, 2048)\n",
      "data_256_samples.shape (15, 4, 512)\n",
      "data_sta.shape (15, 4, 512)\n",
      "data_x.shape: (60, 512, 1)\n"
     ]
    },
    {
     "name": "stderr",
     "output_type": "stream",
     "text": [
      "<ipython-input-4-d8650b052227>:74: RuntimeWarning: This filename (E:\\jupyter file\\EEG_process\\SE_train_processed\\Z龙园芳20220511（未发作）_bias_40.fif) does not conform to MNE naming conventions. All raw files should end with raw.fif, raw_sss.fif, raw_tsss.fif, _meg.fif, _eeg.fif, _ieeg.fif, raw.fif.gz, raw_sss.fif.gz, raw_tsss.fif.gz, _meg.fif.gz, _eeg.fif.gz or _ieeg.fif.gz\n",
      "  custom_raw.save(save_path,overwrite=True)\n",
      "<ipython-input-4-d8650b052227>:2: RuntimeWarning: This filename (../SE_train\\Z龙园芳20220511（未发作）_bias_8.fif) does not conform to MNE naming conventions. All raw files should end with raw.fif, raw_sss.fif, raw_tsss.fif, _meg.fif, _eeg.fif, _ieeg.fif, raw.fif.gz, raw_sss.fif.gz, raw_tsss.fif.gz, _meg.fif.gz, _eeg.fif.gz or _ieeg.fif.gz\n",
      "  raw = read_raw_fif(file_path)\n"
     ]
    },
    {
     "name": "stdout",
     "output_type": "stream",
     "text": [
      "pred_channel.shape (15, 2048)\n",
      "Creating RawArray with float64 data, n_channels=15, n_times=2048\n",
      "    Range : 0 ... 2047 =      0.000 ...     7.996 secs\n",
      "Ready.\n",
      "Writing E:\\jupyter file\\EEG_process\\SE_train_processed\\Z龙园芳20220511（未发作）_bias_8.fif\n",
      "Closing E:\\jupyter file\\EEG_process\\SE_train_processed\\Z龙园芳20220511（未发作）_bias_8.fif\n",
      "[done]\n",
      "../SE_train_processed/Z龙园芳20220513（未发作）_bias_0.fif\n",
      "Opening raw data file ../SE_train\\Z龙园芳20220513（未发作）_bias_0.fif...\n",
      "Isotrak not found\n",
      "    Range : 56832 ... 60928 =    111.000 ...   119.000 secs\n",
      "Ready.\n",
      "data_256.shape (15, 2048)\n",
      "data_256_samples.shape (15, 4, 512)\n",
      "data_sta.shape (15, 4, 512)\n",
      "data_x.shape: (60, 512, 1)\n"
     ]
    },
    {
     "name": "stderr",
     "output_type": "stream",
     "text": [
      "<ipython-input-4-d8650b052227>:74: RuntimeWarning: This filename (E:\\jupyter file\\EEG_process\\SE_train_processed\\Z龙园芳20220511（未发作）_bias_8.fif) does not conform to MNE naming conventions. All raw files should end with raw.fif, raw_sss.fif, raw_tsss.fif, _meg.fif, _eeg.fif, _ieeg.fif, raw.fif.gz, raw_sss.fif.gz, raw_tsss.fif.gz, _meg.fif.gz, _eeg.fif.gz or _ieeg.fif.gz\n",
      "  custom_raw.save(save_path,overwrite=True)\n",
      "<ipython-input-4-d8650b052227>:2: RuntimeWarning: This filename (../SE_train\\Z龙园芳20220513（未发作）_bias_0.fif) does not conform to MNE naming conventions. All raw files should end with raw.fif, raw_sss.fif, raw_tsss.fif, _meg.fif, _eeg.fif, _ieeg.fif, raw.fif.gz, raw_sss.fif.gz, raw_tsss.fif.gz, _meg.fif.gz, _eeg.fif.gz or _ieeg.fif.gz\n",
      "  raw = read_raw_fif(file_path)\n"
     ]
    },
    {
     "name": "stdout",
     "output_type": "stream",
     "text": [
      "pred_channel.shape (15, 2048)\n",
      "Creating RawArray with float64 data, n_channels=15, n_times=2048\n",
      "    Range : 0 ... 2047 =      0.000 ...     7.996 secs\n",
      "Ready.\n",
      "Writing E:\\jupyter file\\EEG_process\\SE_train_processed\\Z龙园芳20220513（未发作）_bias_0.fif\n",
      "Closing E:\\jupyter file\\EEG_process\\SE_train_processed\\Z龙园芳20220513（未发作）_bias_0.fif\n",
      "[done]\n",
      "../SE_train_processed/Z龙园芳20220513（未发作）_bias_16.fif\n",
      "Opening raw data file ../SE_train\\Z龙园芳20220513（未发作）_bias_16.fif...\n",
      "Isotrak not found\n",
      "    Range : 65024 ... 73216 =    127.000 ...   143.000 secs\n",
      "Ready.\n",
      "data_256.shape (15, 2048)\n",
      "data_256_samples.shape (15, 4, 512)\n",
      "data_sta.shape (15, 4, 512)\n",
      "data_x.shape: (60, 512, 1)\n"
     ]
    },
    {
     "name": "stderr",
     "output_type": "stream",
     "text": [
      "<ipython-input-4-d8650b052227>:74: RuntimeWarning: This filename (E:\\jupyter file\\EEG_process\\SE_train_processed\\Z龙园芳20220513（未发作）_bias_0.fif) does not conform to MNE naming conventions. All raw files should end with raw.fif, raw_sss.fif, raw_tsss.fif, _meg.fif, _eeg.fif, _ieeg.fif, raw.fif.gz, raw_sss.fif.gz, raw_tsss.fif.gz, _meg.fif.gz, _eeg.fif.gz or _ieeg.fif.gz\n",
      "  custom_raw.save(save_path,overwrite=True)\n",
      "<ipython-input-4-d8650b052227>:2: RuntimeWarning: This filename (../SE_train\\Z龙园芳20220513（未发作）_bias_16.fif) does not conform to MNE naming conventions. All raw files should end with raw.fif, raw_sss.fif, raw_tsss.fif, _meg.fif, _eeg.fif, _ieeg.fif, raw.fif.gz, raw_sss.fif.gz, raw_tsss.fif.gz, _meg.fif.gz, _eeg.fif.gz or _ieeg.fif.gz\n",
      "  raw = read_raw_fif(file_path)\n"
     ]
    },
    {
     "name": "stdout",
     "output_type": "stream",
     "text": [
      "pred_channel.shape (15, 2048)\n",
      "Creating RawArray with float64 data, n_channels=15, n_times=2048\n",
      "    Range : 0 ... 2047 =      0.000 ...     7.996 secs\n",
      "Ready.\n",
      "Writing E:\\jupyter file\\EEG_process\\SE_train_processed\\Z龙园芳20220513（未发作）_bias_16.fif\n",
      "Closing E:\\jupyter file\\EEG_process\\SE_train_processed\\Z龙园芳20220513（未发作）_bias_16.fif\n",
      "[done]\n",
      "../SE_train_processed/Z龙园芳20220513（未发作）_bias_24.fif\n",
      "Opening raw data file ../SE_train\\Z龙园芳20220513（未发作）_bias_24.fif...\n",
      "Isotrak not found\n",
      "    Range : 69120 ... 77312 =    135.000 ...   151.000 secs\n",
      "Ready.\n",
      "data_256.shape (15, 2048)\n",
      "data_256_samples.shape (15, 4, 512)\n",
      "data_sta.shape (15, 4, 512)\n",
      "data_x.shape: (60, 512, 1)\n"
     ]
    },
    {
     "name": "stderr",
     "output_type": "stream",
     "text": [
      "<ipython-input-4-d8650b052227>:74: RuntimeWarning: This filename (E:\\jupyter file\\EEG_process\\SE_train_processed\\Z龙园芳20220513（未发作）_bias_16.fif) does not conform to MNE naming conventions. All raw files should end with raw.fif, raw_sss.fif, raw_tsss.fif, _meg.fif, _eeg.fif, _ieeg.fif, raw.fif.gz, raw_sss.fif.gz, raw_tsss.fif.gz, _meg.fif.gz, _eeg.fif.gz or _ieeg.fif.gz\n",
      "  custom_raw.save(save_path,overwrite=True)\n",
      "<ipython-input-4-d8650b052227>:2: RuntimeWarning: This filename (../SE_train\\Z龙园芳20220513（未发作）_bias_24.fif) does not conform to MNE naming conventions. All raw files should end with raw.fif, raw_sss.fif, raw_tsss.fif, _meg.fif, _eeg.fif, _ieeg.fif, raw.fif.gz, raw_sss.fif.gz, raw_tsss.fif.gz, _meg.fif.gz, _eeg.fif.gz or _ieeg.fif.gz\n",
      "  raw = read_raw_fif(file_path)\n"
     ]
    },
    {
     "name": "stdout",
     "output_type": "stream",
     "text": [
      "pred_channel.shape (15, 2048)\n",
      "Creating RawArray with float64 data, n_channels=15, n_times=2048\n",
      "    Range : 0 ... 2047 =      0.000 ...     7.996 secs\n",
      "Ready.\n",
      "Writing E:\\jupyter file\\EEG_process\\SE_train_processed\\Z龙园芳20220513（未发作）_bias_24.fif\n",
      "Closing E:\\jupyter file\\EEG_process\\SE_train_processed\\Z龙园芳20220513（未发作）_bias_24.fif\n",
      "[done]\n",
      "../SE_train_processed/Z龙园芳20220513（未发作）_bias_32.fif\n",
      "Opening raw data file ../SE_train\\Z龙园芳20220513（未发作）_bias_32.fif...\n",
      "Isotrak not found\n",
      "    Range : 73216 ... 81408 =    143.000 ...   159.000 secs\n",
      "Ready.\n",
      "data_256.shape (15, 2048)\n",
      "data_256_samples.shape (15, 4, 512)\n",
      "data_sta.shape (15, 4, 512)\n",
      "data_x.shape: (60, 512, 1)\n"
     ]
    },
    {
     "name": "stderr",
     "output_type": "stream",
     "text": [
      "<ipython-input-4-d8650b052227>:74: RuntimeWarning: This filename (E:\\jupyter file\\EEG_process\\SE_train_processed\\Z龙园芳20220513（未发作）_bias_24.fif) does not conform to MNE naming conventions. All raw files should end with raw.fif, raw_sss.fif, raw_tsss.fif, _meg.fif, _eeg.fif, _ieeg.fif, raw.fif.gz, raw_sss.fif.gz, raw_tsss.fif.gz, _meg.fif.gz, _eeg.fif.gz or _ieeg.fif.gz\n",
      "  custom_raw.save(save_path,overwrite=True)\n",
      "<ipython-input-4-d8650b052227>:2: RuntimeWarning: This filename (../SE_train\\Z龙园芳20220513（未发作）_bias_32.fif) does not conform to MNE naming conventions. All raw files should end with raw.fif, raw_sss.fif, raw_tsss.fif, _meg.fif, _eeg.fif, _ieeg.fif, raw.fif.gz, raw_sss.fif.gz, raw_tsss.fif.gz, _meg.fif.gz, _eeg.fif.gz or _ieeg.fif.gz\n",
      "  raw = read_raw_fif(file_path)\n"
     ]
    },
    {
     "name": "stdout",
     "output_type": "stream",
     "text": [
      "pred_channel.shape (15, 2048)\n",
      "Creating RawArray with float64 data, n_channels=15, n_times=2048\n",
      "    Range : 0 ... 2047 =      0.000 ...     7.996 secs\n",
      "Ready.\n",
      "Writing E:\\jupyter file\\EEG_process\\SE_train_processed\\Z龙园芳20220513（未发作）_bias_32.fif\n",
      "Closing E:\\jupyter file\\EEG_process\\SE_train_processed\\Z龙园芳20220513（未发作）_bias_32.fif\n",
      "[done]\n",
      "../SE_train_processed/Z龙园芳20220513（未发作）_bias_40.fif\n",
      "Opening raw data file ../SE_train\\Z龙园芳20220513（未发作）_bias_40.fif...\n",
      "Isotrak not found\n",
      "    Range : 77312 ... 85504 =    151.000 ...   167.000 secs\n",
      "Ready.\n",
      "data_256.shape (15, 2048)\n",
      "data_256_samples.shape (15, 4, 512)\n",
      "data_sta.shape (15, 4, 512)\n",
      "data_x.shape: (60, 512, 1)\n"
     ]
    },
    {
     "name": "stderr",
     "output_type": "stream",
     "text": [
      "<ipython-input-4-d8650b052227>:74: RuntimeWarning: This filename (E:\\jupyter file\\EEG_process\\SE_train_processed\\Z龙园芳20220513（未发作）_bias_32.fif) does not conform to MNE naming conventions. All raw files should end with raw.fif, raw_sss.fif, raw_tsss.fif, _meg.fif, _eeg.fif, _ieeg.fif, raw.fif.gz, raw_sss.fif.gz, raw_tsss.fif.gz, _meg.fif.gz, _eeg.fif.gz or _ieeg.fif.gz\n",
      "  custom_raw.save(save_path,overwrite=True)\n",
      "<ipython-input-4-d8650b052227>:2: RuntimeWarning: This filename (../SE_train\\Z龙园芳20220513（未发作）_bias_40.fif) does not conform to MNE naming conventions. All raw files should end with raw.fif, raw_sss.fif, raw_tsss.fif, _meg.fif, _eeg.fif, _ieeg.fif, raw.fif.gz, raw_sss.fif.gz, raw_tsss.fif.gz, _meg.fif.gz, _eeg.fif.gz or _ieeg.fif.gz\n",
      "  raw = read_raw_fif(file_path)\n"
     ]
    },
    {
     "name": "stdout",
     "output_type": "stream",
     "text": [
      "pred_channel.shape (15, 2048)\n",
      "Creating RawArray with float64 data, n_channels=15, n_times=2048\n",
      "    Range : 0 ... 2047 =      0.000 ...     7.996 secs\n",
      "Ready.\n",
      "Writing E:\\jupyter file\\EEG_process\\SE_train_processed\\Z龙园芳20220513（未发作）_bias_40.fif\n",
      "Closing E:\\jupyter file\\EEG_process\\SE_train_processed\\Z龙园芳20220513（未发作）_bias_40.fif\n",
      "[done]\n",
      "../SE_train_processed/Z龙园芳20220513（未发作）_bias_8.fif\n",
      "Opening raw data file ../SE_train\\Z龙园芳20220513（未发作）_bias_8.fif...\n",
      "Isotrak not found\n",
      "    Range : 60928 ... 69120 =    119.000 ...   135.000 secs\n",
      "Ready.\n",
      "data_256.shape (15, 2048)\n",
      "data_256_samples.shape (15, 4, 512)\n",
      "data_sta.shape (15, 4, 512)\n",
      "data_x.shape: (60, 512, 1)\n"
     ]
    },
    {
     "name": "stderr",
     "output_type": "stream",
     "text": [
      "<ipython-input-4-d8650b052227>:74: RuntimeWarning: This filename (E:\\jupyter file\\EEG_process\\SE_train_processed\\Z龙园芳20220513（未发作）_bias_40.fif) does not conform to MNE naming conventions. All raw files should end with raw.fif, raw_sss.fif, raw_tsss.fif, _meg.fif, _eeg.fif, _ieeg.fif, raw.fif.gz, raw_sss.fif.gz, raw_tsss.fif.gz, _meg.fif.gz, _eeg.fif.gz or _ieeg.fif.gz\n",
      "  custom_raw.save(save_path,overwrite=True)\n",
      "<ipython-input-4-d8650b052227>:2: RuntimeWarning: This filename (../SE_train\\Z龙园芳20220513（未发作）_bias_8.fif) does not conform to MNE naming conventions. All raw files should end with raw.fif, raw_sss.fif, raw_tsss.fif, _meg.fif, _eeg.fif, _ieeg.fif, raw.fif.gz, raw_sss.fif.gz, raw_tsss.fif.gz, _meg.fif.gz, _eeg.fif.gz or _ieeg.fif.gz\n",
      "  raw = read_raw_fif(file_path)\n"
     ]
    },
    {
     "name": "stdout",
     "output_type": "stream",
     "text": [
      "pred_channel.shape (15, 2048)\n",
      "Creating RawArray with float64 data, n_channels=15, n_times=2048\n",
      "    Range : 0 ... 2047 =      0.000 ...     7.996 secs\n",
      "Ready.\n",
      "Writing E:\\jupyter file\\EEG_process\\SE_train_processed\\Z龙园芳20220513（未发作）_bias_8.fif\n",
      "Closing E:\\jupyter file\\EEG_process\\SE_train_processed\\Z龙园芳20220513（未发作）_bias_8.fif\n",
      "[done]\n",
      "../SE_train_processed/Z龙园芳20220516（脑电采集不好，未发作）_bias_0.fif\n",
      "Opening raw data file ../SE_train\\Z龙园芳20220516（脑电采集不好，未发作）_bias_0.fif...\n",
      "Isotrak not found\n",
      "    Range : 46874 ... 63258 =     22.888 ...    30.888 secs\n",
      "Ready.\n",
      "data_256.shape (15, 2048)\n",
      "data_256_samples.shape (15, 4, 512)\n",
      "data_sta.shape (15, 4, 512)\n",
      "data_x.shape: (60, 512, 1)\n"
     ]
    },
    {
     "name": "stderr",
     "output_type": "stream",
     "text": [
      "<ipython-input-4-d8650b052227>:74: RuntimeWarning: This filename (E:\\jupyter file\\EEG_process\\SE_train_processed\\Z龙园芳20220513（未发作）_bias_8.fif) does not conform to MNE naming conventions. All raw files should end with raw.fif, raw_sss.fif, raw_tsss.fif, _meg.fif, _eeg.fif, _ieeg.fif, raw.fif.gz, raw_sss.fif.gz, raw_tsss.fif.gz, _meg.fif.gz, _eeg.fif.gz or _ieeg.fif.gz\n",
      "  custom_raw.save(save_path,overwrite=True)\n",
      "<ipython-input-4-d8650b052227>:2: RuntimeWarning: This filename (../SE_train\\Z龙园芳20220516（脑电采集不好，未发作）_bias_0.fif) does not conform to MNE naming conventions. All raw files should end with raw.fif, raw_sss.fif, raw_tsss.fif, _meg.fif, _eeg.fif, _ieeg.fif, raw.fif.gz, raw_sss.fif.gz, raw_tsss.fif.gz, _meg.fif.gz, _eeg.fif.gz or _ieeg.fif.gz\n",
      "  raw = read_raw_fif(file_path)\n"
     ]
    },
    {
     "name": "stdout",
     "output_type": "stream",
     "text": [
      "pred_channel.shape (15, 2048)\n",
      "Creating RawArray with float64 data, n_channels=15, n_times=2048\n",
      "    Range : 0 ... 2047 =      0.000 ...     7.996 secs\n",
      "Ready.\n",
      "Writing E:\\jupyter file\\EEG_process\\SE_train_processed\\Z龙园芳20220516（脑电采集不好，未发作）_bias_0.fif\n",
      "Closing E:\\jupyter file\\EEG_process\\SE_train_processed\\Z龙园芳20220516（脑电采集不好，未发作）_bias_0.fif\n",
      "[done]\n",
      "../SE_train_processed/Z龙园芳20220516（脑电采集不好，未发作）_bias_16.fif\n",
      "Opening raw data file ../SE_train\\Z龙园芳20220516（脑电采集不好，未发作）_bias_16.fif...\n",
      "Isotrak not found\n",
      "    Range : 79642 ... 112410 =     38.888 ...    54.888 secs\n",
      "Ready.\n",
      "data_256.shape (15, 2048)\n",
      "data_256_samples.shape (15, 4, 512)\n",
      "data_sta.shape (15, 4, 512)\n",
      "data_x.shape: (60, 512, 1)\n"
     ]
    },
    {
     "name": "stderr",
     "output_type": "stream",
     "text": [
      "<ipython-input-4-d8650b052227>:74: RuntimeWarning: This filename (E:\\jupyter file\\EEG_process\\SE_train_processed\\Z龙园芳20220516（脑电采集不好，未发作）_bias_0.fif) does not conform to MNE naming conventions. All raw files should end with raw.fif, raw_sss.fif, raw_tsss.fif, _meg.fif, _eeg.fif, _ieeg.fif, raw.fif.gz, raw_sss.fif.gz, raw_tsss.fif.gz, _meg.fif.gz, _eeg.fif.gz or _ieeg.fif.gz\n",
      "  custom_raw.save(save_path,overwrite=True)\n",
      "<ipython-input-4-d8650b052227>:2: RuntimeWarning: This filename (../SE_train\\Z龙园芳20220516（脑电采集不好，未发作）_bias_16.fif) does not conform to MNE naming conventions. All raw files should end with raw.fif, raw_sss.fif, raw_tsss.fif, _meg.fif, _eeg.fif, _ieeg.fif, raw.fif.gz, raw_sss.fif.gz, raw_tsss.fif.gz, _meg.fif.gz, _eeg.fif.gz or _ieeg.fif.gz\n",
      "  raw = read_raw_fif(file_path)\n"
     ]
    },
    {
     "name": "stdout",
     "output_type": "stream",
     "text": [
      "pred_channel.shape (15, 2048)\n",
      "Creating RawArray with float64 data, n_channels=15, n_times=2048\n",
      "    Range : 0 ... 2047 =      0.000 ...     7.996 secs\n",
      "Ready.\n",
      "Writing E:\\jupyter file\\EEG_process\\SE_train_processed\\Z龙园芳20220516（脑电采集不好，未发作）_bias_16.fif\n",
      "Closing E:\\jupyter file\\EEG_process\\SE_train_processed\\Z龙园芳20220516（脑电采集不好，未发作）_bias_16.fif\n",
      "[done]\n",
      "../SE_train_processed/Z龙园芳20220516（脑电采集不好，未发作）_bias_24.fif\n",
      "Opening raw data file ../SE_train\\Z龙园芳20220516（脑电采集不好，未发作）_bias_24.fif...\n",
      "Isotrak not found\n",
      "    Range : 96026 ... 128794 =     46.888 ...    62.888 secs\n",
      "Ready.\n",
      "data_256.shape (15, 2048)\n",
      "data_256_samples.shape (15, 4, 512)\n",
      "data_sta.shape (15, 4, 512)\n",
      "data_x.shape: (60, 512, 1)\n"
     ]
    },
    {
     "name": "stderr",
     "output_type": "stream",
     "text": [
      "<ipython-input-4-d8650b052227>:74: RuntimeWarning: This filename (E:\\jupyter file\\EEG_process\\SE_train_processed\\Z龙园芳20220516（脑电采集不好，未发作）_bias_16.fif) does not conform to MNE naming conventions. All raw files should end with raw.fif, raw_sss.fif, raw_tsss.fif, _meg.fif, _eeg.fif, _ieeg.fif, raw.fif.gz, raw_sss.fif.gz, raw_tsss.fif.gz, _meg.fif.gz, _eeg.fif.gz or _ieeg.fif.gz\n",
      "  custom_raw.save(save_path,overwrite=True)\n",
      "<ipython-input-4-d8650b052227>:2: RuntimeWarning: This filename (../SE_train\\Z龙园芳20220516（脑电采集不好，未发作）_bias_24.fif) does not conform to MNE naming conventions. All raw files should end with raw.fif, raw_sss.fif, raw_tsss.fif, _meg.fif, _eeg.fif, _ieeg.fif, raw.fif.gz, raw_sss.fif.gz, raw_tsss.fif.gz, _meg.fif.gz, _eeg.fif.gz or _ieeg.fif.gz\n",
      "  raw = read_raw_fif(file_path)\n"
     ]
    },
    {
     "name": "stdout",
     "output_type": "stream",
     "text": [
      "pred_channel.shape (15, 2048)\n",
      "Creating RawArray with float64 data, n_channels=15, n_times=2048\n",
      "    Range : 0 ... 2047 =      0.000 ...     7.996 secs\n",
      "Ready.\n",
      "Writing E:\\jupyter file\\EEG_process\\SE_train_processed\\Z龙园芳20220516（脑电采集不好，未发作）_bias_24.fif\n",
      "Closing E:\\jupyter file\\EEG_process\\SE_train_processed\\Z龙园芳20220516（脑电采集不好，未发作）_bias_24.fif\n",
      "[done]\n",
      "../SE_train_processed/Z龙园芳20220516（脑电采集不好，未发作）_bias_32.fif\n",
      "Opening raw data file ../SE_train\\Z龙园芳20220516（脑电采集不好，未发作）_bias_32.fif...\n",
      "Isotrak not found\n",
      "    Range : 112410 ... 145178 =     54.888 ...    70.888 secs\n",
      "Ready.\n",
      "data_256.shape (15, 2048)\n",
      "data_256_samples.shape (15, 4, 512)\n",
      "data_sta.shape (15, 4, 512)\n",
      "data_x.shape: (60, 512, 1)\n"
     ]
    },
    {
     "name": "stderr",
     "output_type": "stream",
     "text": [
      "<ipython-input-4-d8650b052227>:74: RuntimeWarning: This filename (E:\\jupyter file\\EEG_process\\SE_train_processed\\Z龙园芳20220516（脑电采集不好，未发作）_bias_24.fif) does not conform to MNE naming conventions. All raw files should end with raw.fif, raw_sss.fif, raw_tsss.fif, _meg.fif, _eeg.fif, _ieeg.fif, raw.fif.gz, raw_sss.fif.gz, raw_tsss.fif.gz, _meg.fif.gz, _eeg.fif.gz or _ieeg.fif.gz\n",
      "  custom_raw.save(save_path,overwrite=True)\n",
      "<ipython-input-4-d8650b052227>:2: RuntimeWarning: This filename (../SE_train\\Z龙园芳20220516（脑电采集不好，未发作）_bias_32.fif) does not conform to MNE naming conventions. All raw files should end with raw.fif, raw_sss.fif, raw_tsss.fif, _meg.fif, _eeg.fif, _ieeg.fif, raw.fif.gz, raw_sss.fif.gz, raw_tsss.fif.gz, _meg.fif.gz, _eeg.fif.gz or _ieeg.fif.gz\n",
      "  raw = read_raw_fif(file_path)\n"
     ]
    },
    {
     "name": "stdout",
     "output_type": "stream",
     "text": [
      "pred_channel.shape (15, 2048)\n",
      "Creating RawArray with float64 data, n_channels=15, n_times=2048\n",
      "    Range : 0 ... 2047 =      0.000 ...     7.996 secs\n",
      "Ready.\n",
      "Writing E:\\jupyter file\\EEG_process\\SE_train_processed\\Z龙园芳20220516（脑电采集不好，未发作）_bias_32.fif\n",
      "Closing E:\\jupyter file\\EEG_process\\SE_train_processed\\Z龙园芳20220516（脑电采集不好，未发作）_bias_32.fif\n",
      "[done]\n",
      "../SE_train_processed/Z龙园芳20220516（脑电采集不好，未发作）_bias_40.fif\n",
      "Opening raw data file ../SE_train\\Z龙园芳20220516（脑电采集不好，未发作）_bias_40.fif...\n",
      "Isotrak not found\n",
      "    Range : 128794 ... 161562 =     62.888 ...    78.888 secs\n",
      "Ready.\n",
      "data_256.shape (15, 2048)\n",
      "data_256_samples.shape (15, 4, 512)\n",
      "data_sta.shape (15, 4, 512)\n",
      "data_x.shape: (60, 512, 1)\n"
     ]
    },
    {
     "name": "stderr",
     "output_type": "stream",
     "text": [
      "<ipython-input-4-d8650b052227>:74: RuntimeWarning: This filename (E:\\jupyter file\\EEG_process\\SE_train_processed\\Z龙园芳20220516（脑电采集不好，未发作）_bias_32.fif) does not conform to MNE naming conventions. All raw files should end with raw.fif, raw_sss.fif, raw_tsss.fif, _meg.fif, _eeg.fif, _ieeg.fif, raw.fif.gz, raw_sss.fif.gz, raw_tsss.fif.gz, _meg.fif.gz, _eeg.fif.gz or _ieeg.fif.gz\n",
      "  custom_raw.save(save_path,overwrite=True)\n",
      "<ipython-input-4-d8650b052227>:2: RuntimeWarning: This filename (../SE_train\\Z龙园芳20220516（脑电采集不好，未发作）_bias_40.fif) does not conform to MNE naming conventions. All raw files should end with raw.fif, raw_sss.fif, raw_tsss.fif, _meg.fif, _eeg.fif, _ieeg.fif, raw.fif.gz, raw_sss.fif.gz, raw_tsss.fif.gz, _meg.fif.gz, _eeg.fif.gz or _ieeg.fif.gz\n",
      "  raw = read_raw_fif(file_path)\n"
     ]
    },
    {
     "name": "stdout",
     "output_type": "stream",
     "text": [
      "pred_channel.shape (15, 2048)\n",
      "Creating RawArray with float64 data, n_channels=15, n_times=2048\n",
      "    Range : 0 ... 2047 =      0.000 ...     7.996 secs\n",
      "Ready.\n",
      "Writing E:\\jupyter file\\EEG_process\\SE_train_processed\\Z龙园芳20220516（脑电采集不好，未发作）_bias_40.fif\n",
      "Closing E:\\jupyter file\\EEG_process\\SE_train_processed\\Z龙园芳20220516（脑电采集不好，未发作）_bias_40.fif\n",
      "[done]\n",
      "../SE_train_processed/Z龙园芳20220516（脑电采集不好，未发作）_bias_8.fif\n",
      "Opening raw data file ../SE_train\\Z龙园芳20220516（脑电采集不好，未发作）_bias_8.fif...\n",
      "Isotrak not found\n",
      "    Range : 63258 ... 96026 =     30.888 ...    46.888 secs\n",
      "Ready.\n",
      "data_256.shape (15, 2048)\n",
      "data_256_samples.shape (15, 4, 512)\n",
      "data_sta.shape (15, 4, 512)\n",
      "data_x.shape: (60, 512, 1)\n"
     ]
    },
    {
     "name": "stderr",
     "output_type": "stream",
     "text": [
      "<ipython-input-4-d8650b052227>:74: RuntimeWarning: This filename (E:\\jupyter file\\EEG_process\\SE_train_processed\\Z龙园芳20220516（脑电采集不好，未发作）_bias_40.fif) does not conform to MNE naming conventions. All raw files should end with raw.fif, raw_sss.fif, raw_tsss.fif, _meg.fif, _eeg.fif, _ieeg.fif, raw.fif.gz, raw_sss.fif.gz, raw_tsss.fif.gz, _meg.fif.gz, _eeg.fif.gz or _ieeg.fif.gz\n",
      "  custom_raw.save(save_path,overwrite=True)\n",
      "<ipython-input-4-d8650b052227>:2: RuntimeWarning: This filename (../SE_train\\Z龙园芳20220516（脑电采集不好，未发作）_bias_8.fif) does not conform to MNE naming conventions. All raw files should end with raw.fif, raw_sss.fif, raw_tsss.fif, _meg.fif, _eeg.fif, _ieeg.fif, raw.fif.gz, raw_sss.fif.gz, raw_tsss.fif.gz, _meg.fif.gz, _eeg.fif.gz or _ieeg.fif.gz\n",
      "  raw = read_raw_fif(file_path)\n"
     ]
    },
    {
     "name": "stdout",
     "output_type": "stream",
     "text": [
      "pred_channel.shape (15, 2048)\n",
      "Creating RawArray with float64 data, n_channels=15, n_times=2048\n",
      "    Range : 0 ... 2047 =      0.000 ...     7.996 secs\n",
      "Ready.\n",
      "Writing E:\\jupyter file\\EEG_process\\SE_train_processed\\Z龙园芳20220516（脑电采集不好，未发作）_bias_8.fif\n",
      "Closing E:\\jupyter file\\EEG_process\\SE_train_processed\\Z龙园芳20220516（脑电采集不好，未发作）_bias_8.fif\n",
      "[done]\n",
      "../SE_test_processed/Z刘家瑞20220225.fif\n",
      "Opening raw data file ../SE_test\\Z刘家瑞20220225.fif...\n",
      "Isotrak not found\n",
      "    Range : 167605 ... 183989 =    163.677 ...   179.677 secs\n",
      "Ready.\n",
      "data_256.shape (15, 4096)\n",
      "data_256_samples.shape (15, 8, 512)\n",
      "data_sta.shape (15, 8, 512)\n",
      "data_x.shape: (120, 512, 1)\n"
     ]
    },
    {
     "name": "stderr",
     "output_type": "stream",
     "text": [
      "<ipython-input-4-d8650b052227>:74: RuntimeWarning: This filename (E:\\jupyter file\\EEG_process\\SE_train_processed\\Z龙园芳20220516（脑电采集不好，未发作）_bias_8.fif) does not conform to MNE naming conventions. All raw files should end with raw.fif, raw_sss.fif, raw_tsss.fif, _meg.fif, _eeg.fif, _ieeg.fif, raw.fif.gz, raw_sss.fif.gz, raw_tsss.fif.gz, _meg.fif.gz, _eeg.fif.gz or _ieeg.fif.gz\n",
      "  custom_raw.save(save_path,overwrite=True)\n",
      "<ipython-input-4-d8650b052227>:2: RuntimeWarning: This filename (../SE_test\\Z刘家瑞20220225.fif) does not conform to MNE naming conventions. All raw files should end with raw.fif, raw_sss.fif, raw_tsss.fif, _meg.fif, _eeg.fif, _ieeg.fif, raw.fif.gz, raw_sss.fif.gz, raw_tsss.fif.gz, _meg.fif.gz, _eeg.fif.gz or _ieeg.fif.gz\n",
      "  raw = read_raw_fif(file_path)\n"
     ]
    },
    {
     "name": "stdout",
     "output_type": "stream",
     "text": [
      "pred_channel.shape (15, 4096)\n",
      "Creating RawArray with float64 data, n_channels=15, n_times=4096\n",
      "    Range : 0 ... 4095 =      0.000 ...    15.996 secs\n",
      "Ready.\n",
      "Writing E:\\jupyter file\\EEG_process\\SE_test_processed\\Z刘家瑞20220225.fif\n",
      "Closing E:\\jupyter file\\EEG_process\\SE_test_processed\\Z刘家瑞20220225.fif\n",
      "[done]\n",
      "../SE_test_processed/Z刘家瑞20220228.fif\n",
      "Opening raw data file ../SE_test\\Z刘家瑞20220228.fif...\n",
      "Isotrak not found\n",
      "    Range : 112416 ... 128800 =    109.781 ...   125.781 secs\n",
      "Ready.\n",
      "data_256.shape (15, 4096)\n",
      "data_256_samples.shape (15, 8, 512)\n",
      "data_sta.shape (15, 8, 512)\n",
      "data_x.shape: (120, 512, 1)\n"
     ]
    },
    {
     "name": "stderr",
     "output_type": "stream",
     "text": [
      "<ipython-input-4-d8650b052227>:74: RuntimeWarning: This filename (E:\\jupyter file\\EEG_process\\SE_test_processed\\Z刘家瑞20220225.fif) does not conform to MNE naming conventions. All raw files should end with raw.fif, raw_sss.fif, raw_tsss.fif, _meg.fif, _eeg.fif, _ieeg.fif, raw.fif.gz, raw_sss.fif.gz, raw_tsss.fif.gz, _meg.fif.gz, _eeg.fif.gz or _ieeg.fif.gz\n",
      "  custom_raw.save(save_path,overwrite=True)\n",
      "<ipython-input-4-d8650b052227>:2: RuntimeWarning: This filename (../SE_test\\Z刘家瑞20220228.fif) does not conform to MNE naming conventions. All raw files should end with raw.fif, raw_sss.fif, raw_tsss.fif, _meg.fif, _eeg.fif, _ieeg.fif, raw.fif.gz, raw_sss.fif.gz, raw_tsss.fif.gz, _meg.fif.gz, _eeg.fif.gz or _ieeg.fif.gz\n",
      "  raw = read_raw_fif(file_path)\n"
     ]
    },
    {
     "name": "stdout",
     "output_type": "stream",
     "text": [
      "pred_channel.shape (15, 4096)\n",
      "Creating RawArray with float64 data, n_channels=15, n_times=4096\n",
      "    Range : 0 ... 4095 =      0.000 ...    15.996 secs\n",
      "Ready.\n",
      "Writing E:\\jupyter file\\EEG_process\\SE_test_processed\\Z刘家瑞20220228.fif\n",
      "Closing E:\\jupyter file\\EEG_process\\SE_test_processed\\Z刘家瑞20220228.fif\n",
      "[done]\n",
      "../SE_test_processed/Z刘家瑞20220302.fif\n",
      "Opening raw data file ../SE_test\\Z刘家瑞20220302.fif...\n",
      "Isotrak not found\n",
      "    Range : 46358 ... 62742 =     45.271 ...    61.271 secs\n",
      "Ready.\n",
      "data_256.shape (15, 4096)\n",
      "data_256_samples.shape (15, 8, 512)\n",
      "data_sta.shape (15, 8, 512)\n",
      "data_x.shape: (120, 512, 1)\n"
     ]
    },
    {
     "name": "stderr",
     "output_type": "stream",
     "text": [
      "<ipython-input-4-d8650b052227>:74: RuntimeWarning: This filename (E:\\jupyter file\\EEG_process\\SE_test_processed\\Z刘家瑞20220228.fif) does not conform to MNE naming conventions. All raw files should end with raw.fif, raw_sss.fif, raw_tsss.fif, _meg.fif, _eeg.fif, _ieeg.fif, raw.fif.gz, raw_sss.fif.gz, raw_tsss.fif.gz, _meg.fif.gz, _eeg.fif.gz or _ieeg.fif.gz\n",
      "  custom_raw.save(save_path,overwrite=True)\n",
      "<ipython-input-4-d8650b052227>:2: RuntimeWarning: This filename (../SE_test\\Z刘家瑞20220302.fif) does not conform to MNE naming conventions. All raw files should end with raw.fif, raw_sss.fif, raw_tsss.fif, _meg.fif, _eeg.fif, _ieeg.fif, raw.fif.gz, raw_sss.fif.gz, raw_tsss.fif.gz, _meg.fif.gz, _eeg.fif.gz or _ieeg.fif.gz\n",
      "  raw = read_raw_fif(file_path)\n"
     ]
    },
    {
     "name": "stdout",
     "output_type": "stream",
     "text": [
      "pred_channel.shape (15, 4096)\n",
      "Creating RawArray with float64 data, n_channels=15, n_times=4096\n",
      "    Range : 0 ... 4095 =      0.000 ...    15.996 secs\n",
      "Ready.\n",
      "Writing E:\\jupyter file\\EEG_process\\SE_test_processed\\Z刘家瑞20220302.fif\n",
      "Closing E:\\jupyter file\\EEG_process\\SE_test_processed\\Z刘家瑞20220302.fif\n",
      "[done]\n",
      "../SE_test_processed/Z张璐20220225.fif\n",
      "Opening raw data file ../SE_test\\Z张璐20220225.fif...\n",
      "Isotrak not found\n",
      "    Range : 25166 ... 41550 =     24.576 ...    40.576 secs\n",
      "Ready.\n",
      "data_256.shape (15, 4096)\n",
      "data_256_samples.shape (15, 8, 512)\n",
      "data_sta.shape (15, 8, 512)\n",
      "data_x.shape: (120, 512, 1)\n"
     ]
    },
    {
     "name": "stderr",
     "output_type": "stream",
     "text": [
      "<ipython-input-4-d8650b052227>:74: RuntimeWarning: This filename (E:\\jupyter file\\EEG_process\\SE_test_processed\\Z刘家瑞20220302.fif) does not conform to MNE naming conventions. All raw files should end with raw.fif, raw_sss.fif, raw_tsss.fif, _meg.fif, _eeg.fif, _ieeg.fif, raw.fif.gz, raw_sss.fif.gz, raw_tsss.fif.gz, _meg.fif.gz, _eeg.fif.gz or _ieeg.fif.gz\n",
      "  custom_raw.save(save_path,overwrite=True)\n",
      "<ipython-input-4-d8650b052227>:2: RuntimeWarning: This filename (../SE_test\\Z张璐20220225.fif) does not conform to MNE naming conventions. All raw files should end with raw.fif, raw_sss.fif, raw_tsss.fif, _meg.fif, _eeg.fif, _ieeg.fif, raw.fif.gz, raw_sss.fif.gz, raw_tsss.fif.gz, _meg.fif.gz, _eeg.fif.gz or _ieeg.fif.gz\n",
      "  raw = read_raw_fif(file_path)\n"
     ]
    },
    {
     "name": "stdout",
     "output_type": "stream",
     "text": [
      "pred_channel.shape (15, 4096)\n",
      "Creating RawArray with float64 data, n_channels=15, n_times=4096\n",
      "    Range : 0 ... 4095 =      0.000 ...    15.996 secs\n",
      "Ready.\n",
      "Writing E:\\jupyter file\\EEG_process\\SE_test_processed\\Z张璐20220225.fif\n",
      "Closing E:\\jupyter file\\EEG_process\\SE_test_processed\\Z张璐20220225.fif\n",
      "[done]\n",
      "../SE_test_processed/Z张璐20220228.fif\n",
      "Opening raw data file ../SE_test\\Z张璐20220228.fif...\n",
      "Isotrak not found\n",
      "    Range : 189771 ... 206155 =    185.323 ...   201.323 secs\n",
      "Ready.\n",
      "data_256.shape (15, 4096)\n",
      "data_256_samples.shape (15, 8, 512)\n",
      "data_sta.shape (15, 8, 512)\n",
      "data_x.shape: (120, 512, 1)\n"
     ]
    },
    {
     "name": "stderr",
     "output_type": "stream",
     "text": [
      "<ipython-input-4-d8650b052227>:74: RuntimeWarning: This filename (E:\\jupyter file\\EEG_process\\SE_test_processed\\Z张璐20220225.fif) does not conform to MNE naming conventions. All raw files should end with raw.fif, raw_sss.fif, raw_tsss.fif, _meg.fif, _eeg.fif, _ieeg.fif, raw.fif.gz, raw_sss.fif.gz, raw_tsss.fif.gz, _meg.fif.gz, _eeg.fif.gz or _ieeg.fif.gz\n",
      "  custom_raw.save(save_path,overwrite=True)\n",
      "<ipython-input-4-d8650b052227>:2: RuntimeWarning: This filename (../SE_test\\Z张璐20220228.fif) does not conform to MNE naming conventions. All raw files should end with raw.fif, raw_sss.fif, raw_tsss.fif, _meg.fif, _eeg.fif, _ieeg.fif, raw.fif.gz, raw_sss.fif.gz, raw_tsss.fif.gz, _meg.fif.gz, _eeg.fif.gz or _ieeg.fif.gz\n",
      "  raw = read_raw_fif(file_path)\n"
     ]
    },
    {
     "name": "stdout",
     "output_type": "stream",
     "text": [
      "pred_channel.shape (15, 4096)\n",
      "Creating RawArray with float64 data, n_channels=15, n_times=4096\n",
      "    Range : 0 ... 4095 =      0.000 ...    15.996 secs\n",
      "Ready.\n",
      "Writing E:\\jupyter file\\EEG_process\\SE_test_processed\\Z张璐20220228.fif\n",
      "Closing E:\\jupyter file\\EEG_process\\SE_test_processed\\Z张璐20220228.fif\n",
      "[done]\n",
      "../SE_test_processed/Z张璐20220302.fif\n",
      "Opening raw data file ../SE_test\\Z张璐20220302.fif...\n",
      "Isotrak not found\n",
      "    Range : 22362 ... 38746 =     21.838 ...    37.838 secs\n",
      "Ready.\n",
      "data_256.shape (15, 4096)\n",
      "data_256_samples.shape (15, 8, 512)\n",
      "data_sta.shape (15, 8, 512)\n",
      "data_x.shape: (120, 512, 1)\n"
     ]
    },
    {
     "name": "stderr",
     "output_type": "stream",
     "text": [
      "<ipython-input-4-d8650b052227>:74: RuntimeWarning: This filename (E:\\jupyter file\\EEG_process\\SE_test_processed\\Z张璐20220228.fif) does not conform to MNE naming conventions. All raw files should end with raw.fif, raw_sss.fif, raw_tsss.fif, _meg.fif, _eeg.fif, _ieeg.fif, raw.fif.gz, raw_sss.fif.gz, raw_tsss.fif.gz, _meg.fif.gz, _eeg.fif.gz or _ieeg.fif.gz\n",
      "  custom_raw.save(save_path,overwrite=True)\n",
      "<ipython-input-4-d8650b052227>:2: RuntimeWarning: This filename (../SE_test\\Z张璐20220302.fif) does not conform to MNE naming conventions. All raw files should end with raw.fif, raw_sss.fif, raw_tsss.fif, _meg.fif, _eeg.fif, _ieeg.fif, raw.fif.gz, raw_sss.fif.gz, raw_tsss.fif.gz, _meg.fif.gz, _eeg.fif.gz or _ieeg.fif.gz\n",
      "  raw = read_raw_fif(file_path)\n"
     ]
    },
    {
     "name": "stdout",
     "output_type": "stream",
     "text": [
      "pred_channel.shape (15, 4096)\n",
      "Creating RawArray with float64 data, n_channels=15, n_times=4096\n",
      "    Range : 0 ... 4095 =      0.000 ...    15.996 secs\n",
      "Ready.\n",
      "Writing E:\\jupyter file\\EEG_process\\SE_test_processed\\Z张璐20220302.fif\n",
      "Closing E:\\jupyter file\\EEG_process\\SE_test_processed\\Z张璐20220302.fif\n",
      "[done]\n",
      "../SE_test_processed/Z林儒波20220323.fif\n",
      "Opening raw data file ../SE_test\\Z林儒波20220323.fif...\n",
      "Isotrak not found\n",
      "    Range : 467832 ... 484216 =    456.867 ...   472.867 secs\n",
      "Ready.\n",
      "data_256.shape (15, 4096)\n",
      "data_256_samples.shape (15, 8, 512)\n",
      "data_sta.shape (15, 8, 512)\n",
      "data_x.shape: (120, 512, 1)\n"
     ]
    },
    {
     "name": "stderr",
     "output_type": "stream",
     "text": [
      "<ipython-input-4-d8650b052227>:74: RuntimeWarning: This filename (E:\\jupyter file\\EEG_process\\SE_test_processed\\Z张璐20220302.fif) does not conform to MNE naming conventions. All raw files should end with raw.fif, raw_sss.fif, raw_tsss.fif, _meg.fif, _eeg.fif, _ieeg.fif, raw.fif.gz, raw_sss.fif.gz, raw_tsss.fif.gz, _meg.fif.gz, _eeg.fif.gz or _ieeg.fif.gz\n",
      "  custom_raw.save(save_path,overwrite=True)\n",
      "<ipython-input-4-d8650b052227>:2: RuntimeWarning: This filename (../SE_test\\Z林儒波20220323.fif) does not conform to MNE naming conventions. All raw files should end with raw.fif, raw_sss.fif, raw_tsss.fif, _meg.fif, _eeg.fif, _ieeg.fif, raw.fif.gz, raw_sss.fif.gz, raw_tsss.fif.gz, _meg.fif.gz, _eeg.fif.gz or _ieeg.fif.gz\n",
      "  raw = read_raw_fif(file_path)\n"
     ]
    },
    {
     "name": "stdout",
     "output_type": "stream",
     "text": [
      "pred_channel.shape (15, 4096)\n",
      "Creating RawArray with float64 data, n_channels=15, n_times=4096\n",
      "    Range : 0 ... 4095 =      0.000 ...    15.996 secs\n",
      "Ready.\n",
      "Writing E:\\jupyter file\\EEG_process\\SE_test_processed\\Z林儒波20220323.fif\n",
      "Closing E:\\jupyter file\\EEG_process\\SE_test_processed\\Z林儒波20220323.fif\n",
      "[done]\n",
      "../SE_test_processed/Z林儒波20220325.fif\n",
      "Opening raw data file ../SE_test\\Z林儒波20220325.fif...\n",
      "Isotrak not found\n",
      "    Range : 27199 ... 43583 =     26.562 ...    42.562 secs\n",
      "Ready.\n",
      "data_256.shape (15, 4096)\n",
      "data_256_samples.shape (15, 8, 512)\n",
      "data_sta.shape (15, 8, 512)\n",
      "data_x.shape: (120, 512, 1)\n"
     ]
    },
    {
     "name": "stderr",
     "output_type": "stream",
     "text": [
      "<ipython-input-4-d8650b052227>:74: RuntimeWarning: This filename (E:\\jupyter file\\EEG_process\\SE_test_processed\\Z林儒波20220323.fif) does not conform to MNE naming conventions. All raw files should end with raw.fif, raw_sss.fif, raw_tsss.fif, _meg.fif, _eeg.fif, _ieeg.fif, raw.fif.gz, raw_sss.fif.gz, raw_tsss.fif.gz, _meg.fif.gz, _eeg.fif.gz or _ieeg.fif.gz\n",
      "  custom_raw.save(save_path,overwrite=True)\n",
      "<ipython-input-4-d8650b052227>:2: RuntimeWarning: This filename (../SE_test\\Z林儒波20220325.fif) does not conform to MNE naming conventions. All raw files should end with raw.fif, raw_sss.fif, raw_tsss.fif, _meg.fif, _eeg.fif, _ieeg.fif, raw.fif.gz, raw_sss.fif.gz, raw_tsss.fif.gz, _meg.fif.gz, _eeg.fif.gz or _ieeg.fif.gz\n",
      "  raw = read_raw_fif(file_path)\n"
     ]
    },
    {
     "name": "stdout",
     "output_type": "stream",
     "text": [
      "pred_channel.shape (15, 4096)\n",
      "Creating RawArray with float64 data, n_channels=15, n_times=4096\n",
      "    Range : 0 ... 4095 =      0.000 ...    15.996 secs\n",
      "Ready.\n",
      "Writing E:\\jupyter file\\EEG_process\\SE_test_processed\\Z林儒波20220325.fif\n",
      "Closing E:\\jupyter file\\EEG_process\\SE_test_processed\\Z林儒波20220325.fif\n",
      "[done]\n",
      "../SE_test_processed/Z林儒波20220328（未发作）.fif\n",
      "Opening raw data file ../SE_test\\Z林儒波20220328（未发作）.fif...\n",
      "Isotrak not found\n",
      "    Range : 4054 ... 20438 =      3.959 ...    19.959 secs\n",
      "Ready.\n",
      "data_256.shape (15, 4096)\n",
      "data_256_samples.shape (15, 8, 512)\n",
      "data_sta.shape (15, 8, 512)\n",
      "data_x.shape: (120, 512, 1)\n"
     ]
    },
    {
     "name": "stderr",
     "output_type": "stream",
     "text": [
      "<ipython-input-4-d8650b052227>:74: RuntimeWarning: This filename (E:\\jupyter file\\EEG_process\\SE_test_processed\\Z林儒波20220325.fif) does not conform to MNE naming conventions. All raw files should end with raw.fif, raw_sss.fif, raw_tsss.fif, _meg.fif, _eeg.fif, _ieeg.fif, raw.fif.gz, raw_sss.fif.gz, raw_tsss.fif.gz, _meg.fif.gz, _eeg.fif.gz or _ieeg.fif.gz\n",
      "  custom_raw.save(save_path,overwrite=True)\n",
      "<ipython-input-4-d8650b052227>:2: RuntimeWarning: This filename (../SE_test\\Z林儒波20220328（未发作）.fif) does not conform to MNE naming conventions. All raw files should end with raw.fif, raw_sss.fif, raw_tsss.fif, _meg.fif, _eeg.fif, _ieeg.fif, raw.fif.gz, raw_sss.fif.gz, raw_tsss.fif.gz, _meg.fif.gz, _eeg.fif.gz or _ieeg.fif.gz\n",
      "  raw = read_raw_fif(file_path)\n"
     ]
    },
    {
     "name": "stdout",
     "output_type": "stream",
     "text": [
      "pred_channel.shape (15, 4096)\n",
      "Creating RawArray with float64 data, n_channels=15, n_times=4096\n",
      "    Range : 0 ... 4095 =      0.000 ...    15.996 secs\n",
      "Ready.\n",
      "Writing E:\\jupyter file\\EEG_process\\SE_test_processed\\Z林儒波20220328（未发作）.fif\n",
      "Closing E:\\jupyter file\\EEG_process\\SE_test_processed\\Z林儒波20220328（未发作）.fif\n",
      "[done]\n",
      "../SE_test_processed/Z林儒波20220330.fif\n",
      "Opening raw data file ../SE_test\\Z林儒波20220330.fif...\n",
      "Isotrak not found\n",
      "    Range : 281289 ... 297673 =    274.696 ...   290.696 secs\n",
      "Ready.\n",
      "data_256.shape (15, 4096)\n",
      "data_256_samples.shape (15, 8, 512)\n",
      "data_sta.shape (15, 8, 512)\n",
      "data_x.shape: (120, 512, 1)\n"
     ]
    },
    {
     "name": "stderr",
     "output_type": "stream",
     "text": [
      "<ipython-input-4-d8650b052227>:74: RuntimeWarning: This filename (E:\\jupyter file\\EEG_process\\SE_test_processed\\Z林儒波20220328（未发作）.fif) does not conform to MNE naming conventions. All raw files should end with raw.fif, raw_sss.fif, raw_tsss.fif, _meg.fif, _eeg.fif, _ieeg.fif, raw.fif.gz, raw_sss.fif.gz, raw_tsss.fif.gz, _meg.fif.gz, _eeg.fif.gz or _ieeg.fif.gz\n",
      "  custom_raw.save(save_path,overwrite=True)\n",
      "<ipython-input-4-d8650b052227>:2: RuntimeWarning: This filename (../SE_test\\Z林儒波20220330.fif) does not conform to MNE naming conventions. All raw files should end with raw.fif, raw_sss.fif, raw_tsss.fif, _meg.fif, _eeg.fif, _ieeg.fif, raw.fif.gz, raw_sss.fif.gz, raw_tsss.fif.gz, _meg.fif.gz, _eeg.fif.gz or _ieeg.fif.gz\n",
      "  raw = read_raw_fif(file_path)\n"
     ]
    },
    {
     "name": "stdout",
     "output_type": "stream",
     "text": [
      "pred_channel.shape (15, 4096)\n",
      "Creating RawArray with float64 data, n_channels=15, n_times=4096\n",
      "    Range : 0 ... 4095 =      0.000 ...    15.996 secs\n",
      "Ready.\n",
      "Writing E:\\jupyter file\\EEG_process\\SE_test_processed\\Z林儒波20220330.fif\n",
      "Closing E:\\jupyter file\\EEG_process\\SE_test_processed\\Z林儒波20220330.fif\n",
      "[done]\n",
      "../SE_test_processed/Z林攀攀20220223（未发作）.fif\n",
      "Opening raw data file ../SE_test\\Z林攀攀20220223（未发作）.fif...\n",
      "Isotrak not found\n",
      "    Range : 83008 ... 99392 =     81.062 ...    97.062 secs\n",
      "Ready.\n",
      "data_256.shape (15, 4096)\n",
      "data_256_samples.shape (15, 8, 512)\n",
      "data_sta.shape (15, 8, 512)\n",
      "data_x.shape: (120, 512, 1)\n"
     ]
    },
    {
     "name": "stderr",
     "output_type": "stream",
     "text": [
      "<ipython-input-4-d8650b052227>:74: RuntimeWarning: This filename (E:\\jupyter file\\EEG_process\\SE_test_processed\\Z林儒波20220330.fif) does not conform to MNE naming conventions. All raw files should end with raw.fif, raw_sss.fif, raw_tsss.fif, _meg.fif, _eeg.fif, _ieeg.fif, raw.fif.gz, raw_sss.fif.gz, raw_tsss.fif.gz, _meg.fif.gz, _eeg.fif.gz or _ieeg.fif.gz\n",
      "  custom_raw.save(save_path,overwrite=True)\n",
      "<ipython-input-4-d8650b052227>:2: RuntimeWarning: This filename (../SE_test\\Z林攀攀20220223（未发作）.fif) does not conform to MNE naming conventions. All raw files should end with raw.fif, raw_sss.fif, raw_tsss.fif, _meg.fif, _eeg.fif, _ieeg.fif, raw.fif.gz, raw_sss.fif.gz, raw_tsss.fif.gz, _meg.fif.gz, _eeg.fif.gz or _ieeg.fif.gz\n",
      "  raw = read_raw_fif(file_path)\n"
     ]
    },
    {
     "name": "stdout",
     "output_type": "stream",
     "text": [
      "pred_channel.shape (15, 4096)\n",
      "Creating RawArray with float64 data, n_channels=15, n_times=4096\n",
      "    Range : 0 ... 4095 =      0.000 ...    15.996 secs\n",
      "Ready.\n",
      "Writing E:\\jupyter file\\EEG_process\\SE_test_processed\\Z林攀攀20220223（未发作）.fif\n",
      "Closing E:\\jupyter file\\EEG_process\\SE_test_processed\\Z林攀攀20220223（未发作）.fif\n",
      "[done]\n",
      "../SE_test_processed/Z林攀攀20220225（未发作）.fif\n",
      "Opening raw data file ../SE_test\\Z林攀攀20220225（未发作）.fif...\n",
      "Isotrak not found\n",
      "    Range : 13771 ... 30155 =     13.448 ...    29.448 secs\n",
      "Ready.\n",
      "data_256.shape (15, 4096)\n",
      "data_256_samples.shape (15, 8, 512)\n",
      "data_sta.shape (15, 8, 512)\n",
      "data_x.shape: (120, 512, 1)\n"
     ]
    },
    {
     "name": "stderr",
     "output_type": "stream",
     "text": [
      "<ipython-input-4-d8650b052227>:74: RuntimeWarning: This filename (E:\\jupyter file\\EEG_process\\SE_test_processed\\Z林攀攀20220223（未发作）.fif) does not conform to MNE naming conventions. All raw files should end with raw.fif, raw_sss.fif, raw_tsss.fif, _meg.fif, _eeg.fif, _ieeg.fif, raw.fif.gz, raw_sss.fif.gz, raw_tsss.fif.gz, _meg.fif.gz, _eeg.fif.gz or _ieeg.fif.gz\n",
      "  custom_raw.save(save_path,overwrite=True)\n",
      "<ipython-input-4-d8650b052227>:2: RuntimeWarning: This filename (../SE_test\\Z林攀攀20220225（未发作）.fif) does not conform to MNE naming conventions. All raw files should end with raw.fif, raw_sss.fif, raw_tsss.fif, _meg.fif, _eeg.fif, _ieeg.fif, raw.fif.gz, raw_sss.fif.gz, raw_tsss.fif.gz, _meg.fif.gz, _eeg.fif.gz or _ieeg.fif.gz\n",
      "  raw = read_raw_fif(file_path)\n"
     ]
    },
    {
     "name": "stdout",
     "output_type": "stream",
     "text": [
      "pred_channel.shape (15, 4096)\n",
      "Creating RawArray with float64 data, n_channels=15, n_times=4096\n",
      "    Range : 0 ... 4095 =      0.000 ...    15.996 secs\n",
      "Ready.\n",
      "Writing E:\\jupyter file\\EEG_process\\SE_test_processed\\Z林攀攀20220225（未发作）.fif\n",
      "Closing E:\\jupyter file\\EEG_process\\SE_test_processed\\Z林攀攀20220225（未发作）.fif\n",
      "[done]\n",
      "../SE_test_processed/Z林攀攀20220228.fif\n",
      "Opening raw data file ../SE_test\\Z林攀攀20220228.fif...\n",
      "Isotrak not found\n",
      "    Range : 38073 ... 54457 =     37.181 ...    53.181 secs\n",
      "Ready.\n",
      "data_256.shape (15, 4096)\n",
      "data_256_samples.shape (15, 8, 512)\n",
      "data_sta.shape (15, 8, 512)\n",
      "data_x.shape: (120, 512, 1)\n"
     ]
    },
    {
     "name": "stderr",
     "output_type": "stream",
     "text": [
      "<ipython-input-4-d8650b052227>:74: RuntimeWarning: This filename (E:\\jupyter file\\EEG_process\\SE_test_processed\\Z林攀攀20220225（未发作）.fif) does not conform to MNE naming conventions. All raw files should end with raw.fif, raw_sss.fif, raw_tsss.fif, _meg.fif, _eeg.fif, _ieeg.fif, raw.fif.gz, raw_sss.fif.gz, raw_tsss.fif.gz, _meg.fif.gz, _eeg.fif.gz or _ieeg.fif.gz\n",
      "  custom_raw.save(save_path,overwrite=True)\n",
      "<ipython-input-4-d8650b052227>:2: RuntimeWarning: This filename (../SE_test\\Z林攀攀20220228.fif) does not conform to MNE naming conventions. All raw files should end with raw.fif, raw_sss.fif, raw_tsss.fif, _meg.fif, _eeg.fif, _ieeg.fif, raw.fif.gz, raw_sss.fif.gz, raw_tsss.fif.gz, _meg.fif.gz, _eeg.fif.gz or _ieeg.fif.gz\n",
      "  raw = read_raw_fif(file_path)\n"
     ]
    },
    {
     "name": "stdout",
     "output_type": "stream",
     "text": [
      "pred_channel.shape (15, 4096)\n",
      "Creating RawArray with float64 data, n_channels=15, n_times=4096\n",
      "    Range : 0 ... 4095 =      0.000 ...    15.996 secs\n",
      "Ready.\n",
      "Writing E:\\jupyter file\\EEG_process\\SE_test_processed\\Z林攀攀20220228.fif\n",
      "Closing E:\\jupyter file\\EEG_process\\SE_test_processed\\Z林攀攀20220228.fif\n",
      "[done]\n",
      "../SE_test_processed/Z柯志祥20220406.fif\n",
      "Opening raw data file ../SE_test\\Z柯志祥20220406.fif...\n",
      "Isotrak not found\n",
      "    Range : 920598 ... 936982 =    899.021 ...   915.021 secs\n",
      "Ready.\n",
      "data_256.shape (15, 4096)\n",
      "data_256_samples.shape (15, 8, 512)\n",
      "data_sta.shape (15, 8, 512)\n",
      "data_x.shape: (120, 512, 1)\n"
     ]
    },
    {
     "name": "stderr",
     "output_type": "stream",
     "text": [
      "<ipython-input-4-d8650b052227>:74: RuntimeWarning: This filename (E:\\jupyter file\\EEG_process\\SE_test_processed\\Z林攀攀20220228.fif) does not conform to MNE naming conventions. All raw files should end with raw.fif, raw_sss.fif, raw_tsss.fif, _meg.fif, _eeg.fif, _ieeg.fif, raw.fif.gz, raw_sss.fif.gz, raw_tsss.fif.gz, _meg.fif.gz, _eeg.fif.gz or _ieeg.fif.gz\n",
      "  custom_raw.save(save_path,overwrite=True)\n",
      "<ipython-input-4-d8650b052227>:2: RuntimeWarning: This filename (../SE_test\\Z柯志祥20220406.fif) does not conform to MNE naming conventions. All raw files should end with raw.fif, raw_sss.fif, raw_tsss.fif, _meg.fif, _eeg.fif, _ieeg.fif, raw.fif.gz, raw_sss.fif.gz, raw_tsss.fif.gz, _meg.fif.gz, _eeg.fif.gz or _ieeg.fif.gz\n",
      "  raw = read_raw_fif(file_path)\n"
     ]
    },
    {
     "name": "stdout",
     "output_type": "stream",
     "text": [
      "pred_channel.shape (15, 4096)\n",
      "Creating RawArray with float64 data, n_channels=15, n_times=4096\n",
      "    Range : 0 ... 4095 =      0.000 ...    15.996 secs\n",
      "Ready.\n",
      "Writing E:\\jupyter file\\EEG_process\\SE_test_processed\\Z柯志祥20220406.fif\n",
      "Closing E:\\jupyter file\\EEG_process\\SE_test_processed\\Z柯志祥20220406.fif\n",
      "[done]\n",
      "../SE_test_processed/Z柯志祥20220411.fif\n",
      "Opening raw data file ../SE_test\\Z柯志祥20220411.fif...\n",
      "Isotrak not found\n",
      "    Range : 948596 ... 964980 =    926.363 ...   942.363 secs\n",
      "Ready.\n",
      "data_256.shape (15, 4096)\n",
      "data_256_samples.shape (15, 8, 512)\n",
      "data_sta.shape (15, 8, 512)\n",
      "data_x.shape: (120, 512, 1)\n"
     ]
    },
    {
     "name": "stderr",
     "output_type": "stream",
     "text": [
      "<ipython-input-4-d8650b052227>:74: RuntimeWarning: This filename (E:\\jupyter file\\EEG_process\\SE_test_processed\\Z柯志祥20220406.fif) does not conform to MNE naming conventions. All raw files should end with raw.fif, raw_sss.fif, raw_tsss.fif, _meg.fif, _eeg.fif, _ieeg.fif, raw.fif.gz, raw_sss.fif.gz, raw_tsss.fif.gz, _meg.fif.gz, _eeg.fif.gz or _ieeg.fif.gz\n",
      "  custom_raw.save(save_path,overwrite=True)\n",
      "<ipython-input-4-d8650b052227>:2: RuntimeWarning: This filename (../SE_test\\Z柯志祥20220411.fif) does not conform to MNE naming conventions. All raw files should end with raw.fif, raw_sss.fif, raw_tsss.fif, _meg.fif, _eeg.fif, _ieeg.fif, raw.fif.gz, raw_sss.fif.gz, raw_tsss.fif.gz, _meg.fif.gz, _eeg.fif.gz or _ieeg.fif.gz\n",
      "  raw = read_raw_fif(file_path)\n"
     ]
    },
    {
     "name": "stdout",
     "output_type": "stream",
     "text": [
      "pred_channel.shape (15, 4096)\n",
      "Creating RawArray with float64 data, n_channels=15, n_times=4096\n",
      "    Range : 0 ... 4095 =      0.000 ...    15.996 secs\n",
      "Ready.\n",
      "Writing E:\\jupyter file\\EEG_process\\SE_test_processed\\Z柯志祥20220411.fif\n",
      "Closing E:\\jupyter file\\EEG_process\\SE_test_processed\\Z柯志祥20220411.fif\n",
      "[done]\n",
      "../SE_test_processed/Z柯志祥20220413.fif\n",
      "Opening raw data file ../SE_test\\Z柯志祥20220413.fif...\n",
      "Isotrak not found\n",
      "    Range : 39773 ... 56157 =     38.841 ...    54.841 secs\n",
      "Ready.\n",
      "data_256.shape (15, 4096)\n",
      "data_256_samples.shape (15, 8, 512)\n",
      "data_sta.shape (15, 8, 512)\n",
      "data_x.shape: (120, 512, 1)\n"
     ]
    },
    {
     "name": "stderr",
     "output_type": "stream",
     "text": [
      "<ipython-input-4-d8650b052227>:74: RuntimeWarning: This filename (E:\\jupyter file\\EEG_process\\SE_test_processed\\Z柯志祥20220411.fif) does not conform to MNE naming conventions. All raw files should end with raw.fif, raw_sss.fif, raw_tsss.fif, _meg.fif, _eeg.fif, _ieeg.fif, raw.fif.gz, raw_sss.fif.gz, raw_tsss.fif.gz, _meg.fif.gz, _eeg.fif.gz or _ieeg.fif.gz\n",
      "  custom_raw.save(save_path,overwrite=True)\n",
      "<ipython-input-4-d8650b052227>:2: RuntimeWarning: This filename (../SE_test\\Z柯志祥20220413.fif) does not conform to MNE naming conventions. All raw files should end with raw.fif, raw_sss.fif, raw_tsss.fif, _meg.fif, _eeg.fif, _ieeg.fif, raw.fif.gz, raw_sss.fif.gz, raw_tsss.fif.gz, _meg.fif.gz, _eeg.fif.gz or _ieeg.fif.gz\n",
      "  raw = read_raw_fif(file_path)\n"
     ]
    },
    {
     "name": "stdout",
     "output_type": "stream",
     "text": [
      "pred_channel.shape (15, 4096)\n",
      "Creating RawArray with float64 data, n_channels=15, n_times=4096\n",
      "    Range : 0 ... 4095 =      0.000 ...    15.996 secs\n",
      "Ready.\n",
      "Writing E:\\jupyter file\\EEG_process\\SE_test_processed\\Z柯志祥20220413.fif\n",
      "Closing E:\\jupyter file\\EEG_process\\SE_test_processed\\Z柯志祥20220413.fif\n",
      "[done]\n",
      "../SE_test_processed/Z柯志祥20220420.fif\n",
      "Opening raw data file ../SE_test\\Z柯志祥20220420.fif...\n",
      "Isotrak not found\n",
      "    Range : 9939 ... 26323 =      9.706 ...    25.706 secs\n",
      "Ready.\n",
      "data_256.shape (15, 4096)\n",
      "data_256_samples.shape (15, 8, 512)\n",
      "data_sta.shape (15, 8, 512)\n",
      "data_x.shape: (120, 512, 1)\n"
     ]
    },
    {
     "name": "stderr",
     "output_type": "stream",
     "text": [
      "<ipython-input-4-d8650b052227>:74: RuntimeWarning: This filename (E:\\jupyter file\\EEG_process\\SE_test_processed\\Z柯志祥20220413.fif) does not conform to MNE naming conventions. All raw files should end with raw.fif, raw_sss.fif, raw_tsss.fif, _meg.fif, _eeg.fif, _ieeg.fif, raw.fif.gz, raw_sss.fif.gz, raw_tsss.fif.gz, _meg.fif.gz, _eeg.fif.gz or _ieeg.fif.gz\n",
      "  custom_raw.save(save_path,overwrite=True)\n",
      "<ipython-input-4-d8650b052227>:2: RuntimeWarning: This filename (../SE_test\\Z柯志祥20220420.fif) does not conform to MNE naming conventions. All raw files should end with raw.fif, raw_sss.fif, raw_tsss.fif, _meg.fif, _eeg.fif, _ieeg.fif, raw.fif.gz, raw_sss.fif.gz, raw_tsss.fif.gz, _meg.fif.gz, _eeg.fif.gz or _ieeg.fif.gz\n",
      "  raw = read_raw_fif(file_path)\n"
     ]
    },
    {
     "name": "stdout",
     "output_type": "stream",
     "text": [
      "pred_channel.shape (15, 4096)\n",
      "Creating RawArray with float64 data, n_channels=15, n_times=4096\n",
      "    Range : 0 ... 4095 =      0.000 ...    15.996 secs\n",
      "Ready.\n",
      "Writing E:\\jupyter file\\EEG_process\\SE_test_processed\\Z柯志祥20220420.fif\n",
      "Closing E:\\jupyter file\\EEG_process\\SE_test_processed\\Z柯志祥20220420.fif\n",
      "[done]\n",
      "../SE_test_processed/Z邵子健20220511（未发作）.fif\n",
      "Opening raw data file ../SE_test\\Z邵子健20220511（未发作）.fif...\n",
      "Isotrak not found\n",
      "    Range : 95232 ... 103424 =    186.000 ...   202.000 secs\n",
      "Ready.\n",
      "data_256.shape (15, 4096)\n",
      "data_256_samples.shape (15, 8, 512)\n",
      "data_sta.shape (15, 8, 512)\n",
      "data_x.shape: (120, 512, 1)\n"
     ]
    },
    {
     "name": "stderr",
     "output_type": "stream",
     "text": [
      "<ipython-input-4-d8650b052227>:74: RuntimeWarning: This filename (E:\\jupyter file\\EEG_process\\SE_test_processed\\Z柯志祥20220420.fif) does not conform to MNE naming conventions. All raw files should end with raw.fif, raw_sss.fif, raw_tsss.fif, _meg.fif, _eeg.fif, _ieeg.fif, raw.fif.gz, raw_sss.fif.gz, raw_tsss.fif.gz, _meg.fif.gz, _eeg.fif.gz or _ieeg.fif.gz\n",
      "  custom_raw.save(save_path,overwrite=True)\n",
      "<ipython-input-4-d8650b052227>:2: RuntimeWarning: This filename (../SE_test\\Z邵子健20220511（未发作）.fif) does not conform to MNE naming conventions. All raw files should end with raw.fif, raw_sss.fif, raw_tsss.fif, _meg.fif, _eeg.fif, _ieeg.fif, raw.fif.gz, raw_sss.fif.gz, raw_tsss.fif.gz, _meg.fif.gz, _eeg.fif.gz or _ieeg.fif.gz\n",
      "  raw = read_raw_fif(file_path)\n"
     ]
    },
    {
     "name": "stdout",
     "output_type": "stream",
     "text": [
      "pred_channel.shape (15, 4096)\n",
      "Creating RawArray with float64 data, n_channels=15, n_times=4096\n",
      "    Range : 0 ... 4095 =      0.000 ...    15.996 secs\n",
      "Ready.\n",
      "Writing E:\\jupyter file\\EEG_process\\SE_test_processed\\Z邵子健20220511（未发作）.fif\n",
      "Closing E:\\jupyter file\\EEG_process\\SE_test_processed\\Z邵子健20220511（未发作）.fif\n",
      "[done]\n",
      "../SE_test_processed/Z邵子健20220516（未发作）.fif\n",
      "Opening raw data file ../SE_test\\Z邵子健20220516（未发作）.fif...\n",
      "Isotrak not found\n",
      "    Range : 128700 ... 161468 =     62.842 ...    78.842 secs\n",
      "Ready.\n",
      "data_256.shape (15, 4096)\n",
      "data_256_samples.shape (15, 8, 512)\n",
      "data_sta.shape (15, 8, 512)\n",
      "data_x.shape: (120, 512, 1)\n"
     ]
    },
    {
     "name": "stderr",
     "output_type": "stream",
     "text": [
      "<ipython-input-4-d8650b052227>:74: RuntimeWarning: This filename (E:\\jupyter file\\EEG_process\\SE_test_processed\\Z邵子健20220511（未发作）.fif) does not conform to MNE naming conventions. All raw files should end with raw.fif, raw_sss.fif, raw_tsss.fif, _meg.fif, _eeg.fif, _ieeg.fif, raw.fif.gz, raw_sss.fif.gz, raw_tsss.fif.gz, _meg.fif.gz, _eeg.fif.gz or _ieeg.fif.gz\n",
      "  custom_raw.save(save_path,overwrite=True)\n",
      "<ipython-input-4-d8650b052227>:2: RuntimeWarning: This filename (../SE_test\\Z邵子健20220516（未发作）.fif) does not conform to MNE naming conventions. All raw files should end with raw.fif, raw_sss.fif, raw_tsss.fif, _meg.fif, _eeg.fif, _ieeg.fif, raw.fif.gz, raw_sss.fif.gz, raw_tsss.fif.gz, _meg.fif.gz, _eeg.fif.gz or _ieeg.fif.gz\n",
      "  raw = read_raw_fif(file_path)\n"
     ]
    },
    {
     "name": "stdout",
     "output_type": "stream",
     "text": [
      "pred_channel.shape (15, 4096)\n",
      "Creating RawArray with float64 data, n_channels=15, n_times=4096\n",
      "    Range : 0 ... 4095 =      0.000 ...    15.996 secs\n",
      "Ready.\n",
      "Writing E:\\jupyter file\\EEG_process\\SE_test_processed\\Z邵子健20220516（未发作）.fif\n",
      "Closing E:\\jupyter file\\EEG_process\\SE_test_processed\\Z邵子健20220516（未发作）.fif\n",
      "[done]\n",
      "../SE_test_processed/Z邵子健20220518.fif\n",
      "Opening raw data file ../SE_test\\Z邵子健20220518.fif...\n",
      "Isotrak not found\n",
      "    Range : 8 ... 32776 =      0.004 ...    16.004 secs\n",
      "Ready.\n",
      "data_256.shape (15, 4096)\n",
      "data_256_samples.shape (15, 8, 512)\n",
      "data_sta.shape (15, 8, 512)\n",
      "data_x.shape: (120, 512, 1)\n"
     ]
    },
    {
     "name": "stderr",
     "output_type": "stream",
     "text": [
      "<ipython-input-4-d8650b052227>:74: RuntimeWarning: This filename (E:\\jupyter file\\EEG_process\\SE_test_processed\\Z邵子健20220516（未发作）.fif) does not conform to MNE naming conventions. All raw files should end with raw.fif, raw_sss.fif, raw_tsss.fif, _meg.fif, _eeg.fif, _ieeg.fif, raw.fif.gz, raw_sss.fif.gz, raw_tsss.fif.gz, _meg.fif.gz, _eeg.fif.gz or _ieeg.fif.gz\n",
      "  custom_raw.save(save_path,overwrite=True)\n",
      "<ipython-input-4-d8650b052227>:2: RuntimeWarning: This filename (../SE_test\\Z邵子健20220518.fif) does not conform to MNE naming conventions. All raw files should end with raw.fif, raw_sss.fif, raw_tsss.fif, _meg.fif, _eeg.fif, _ieeg.fif, raw.fif.gz, raw_sss.fif.gz, raw_tsss.fif.gz, _meg.fif.gz, _eeg.fif.gz or _ieeg.fif.gz\n",
      "  raw = read_raw_fif(file_path)\n"
     ]
    },
    {
     "name": "stdout",
     "output_type": "stream",
     "text": [
      "pred_channel.shape (15, 4096)\n",
      "Creating RawArray with float64 data, n_channels=15, n_times=4096\n",
      "    Range : 0 ... 4095 =      0.000 ...    15.996 secs\n",
      "Ready.\n",
      "Writing E:\\jupyter file\\EEG_process\\SE_test_processed\\Z邵子健20220518.fif\n",
      "Closing E:\\jupyter file\\EEG_process\\SE_test_processed\\Z邵子健20220518.fif\n",
      "[done]\n",
      "../SE_test_processed/Z陈倩20220420.fif\n",
      "Opening raw data file ../SE_test\\Z陈倩20220420.fif...\n",
      "Isotrak not found\n",
      "    Range : 3392 ... 19776 =      3.312 ...    19.312 secs\n",
      "Ready.\n",
      "data_256.shape (15, 4096)\n",
      "data_256_samples.shape (15, 8, 512)\n",
      "data_sta.shape (15, 8, 512)\n",
      "data_x.shape: (120, 512, 1)\n"
     ]
    },
    {
     "name": "stderr",
     "output_type": "stream",
     "text": [
      "<ipython-input-4-d8650b052227>:74: RuntimeWarning: This filename (E:\\jupyter file\\EEG_process\\SE_test_processed\\Z邵子健20220518.fif) does not conform to MNE naming conventions. All raw files should end with raw.fif, raw_sss.fif, raw_tsss.fif, _meg.fif, _eeg.fif, _ieeg.fif, raw.fif.gz, raw_sss.fif.gz, raw_tsss.fif.gz, _meg.fif.gz, _eeg.fif.gz or _ieeg.fif.gz\n",
      "  custom_raw.save(save_path,overwrite=True)\n",
      "<ipython-input-4-d8650b052227>:2: RuntimeWarning: This filename (../SE_test\\Z陈倩20220420.fif) does not conform to MNE naming conventions. All raw files should end with raw.fif, raw_sss.fif, raw_tsss.fif, _meg.fif, _eeg.fif, _ieeg.fif, raw.fif.gz, raw_sss.fif.gz, raw_tsss.fif.gz, _meg.fif.gz, _eeg.fif.gz or _ieeg.fif.gz\n",
      "  raw = read_raw_fif(file_path)\n"
     ]
    },
    {
     "name": "stdout",
     "output_type": "stream",
     "text": [
      "pred_channel.shape (15, 4096)\n",
      "Creating RawArray with float64 data, n_channels=15, n_times=4096\n",
      "    Range : 0 ... 4095 =      0.000 ...    15.996 secs\n",
      "Ready.\n",
      "Writing E:\\jupyter file\\EEG_process\\SE_test_processed\\Z陈倩20220420.fif\n",
      "Closing E:\\jupyter file\\EEG_process\\SE_test_processed\\Z陈倩20220420.fif\n",
      "[done]\n",
      "../SE_test_processed/Z陈倩20220422.fif\n",
      "Opening raw data file ../SE_test\\Z陈倩20220422.fif...\n",
      "Isotrak not found\n",
      "    Range : 31327 ... 47711 =     30.593 ...    46.593 secs\n",
      "Ready.\n",
      "data_256.shape (15, 4096)\n",
      "data_256_samples.shape (15, 8, 512)\n",
      "data_sta.shape (15, 8, 512)\n",
      "data_x.shape: (120, 512, 1)\n"
     ]
    },
    {
     "name": "stderr",
     "output_type": "stream",
     "text": [
      "<ipython-input-4-d8650b052227>:74: RuntimeWarning: This filename (E:\\jupyter file\\EEG_process\\SE_test_processed\\Z陈倩20220420.fif) does not conform to MNE naming conventions. All raw files should end with raw.fif, raw_sss.fif, raw_tsss.fif, _meg.fif, _eeg.fif, _ieeg.fif, raw.fif.gz, raw_sss.fif.gz, raw_tsss.fif.gz, _meg.fif.gz, _eeg.fif.gz or _ieeg.fif.gz\n",
      "  custom_raw.save(save_path,overwrite=True)\n",
      "<ipython-input-4-d8650b052227>:2: RuntimeWarning: This filename (../SE_test\\Z陈倩20220422.fif) does not conform to MNE naming conventions. All raw files should end with raw.fif, raw_sss.fif, raw_tsss.fif, _meg.fif, _eeg.fif, _ieeg.fif, raw.fif.gz, raw_sss.fif.gz, raw_tsss.fif.gz, _meg.fif.gz, _eeg.fif.gz or _ieeg.fif.gz\n",
      "  raw = read_raw_fif(file_path)\n"
     ]
    },
    {
     "name": "stdout",
     "output_type": "stream",
     "text": [
      "pred_channel.shape (15, 4096)\n",
      "Creating RawArray with float64 data, n_channels=15, n_times=4096\n",
      "    Range : 0 ... 4095 =      0.000 ...    15.996 secs\n",
      "Ready.\n",
      "Writing E:\\jupyter file\\EEG_process\\SE_test_processed\\Z陈倩20220422.fif\n",
      "Closing E:\\jupyter file\\EEG_process\\SE_test_processed\\Z陈倩20220422.fif\n",
      "[done]\n",
      "../SE_test_processed/Z陈倩20220425.fif\n",
      "Opening raw data file ../SE_test\\Z陈倩20220425.fif...\n",
      "Isotrak not found\n",
      "    Range : 62985 ... 79369 =     61.509 ...    77.509 secs\n",
      "Ready.\n",
      "data_256.shape (15, 4096)\n",
      "data_256_samples.shape (15, 8, 512)\n",
      "data_sta.shape (15, 8, 512)\n",
      "data_x.shape: (120, 512, 1)\n"
     ]
    },
    {
     "name": "stderr",
     "output_type": "stream",
     "text": [
      "<ipython-input-4-d8650b052227>:74: RuntimeWarning: This filename (E:\\jupyter file\\EEG_process\\SE_test_processed\\Z陈倩20220422.fif) does not conform to MNE naming conventions. All raw files should end with raw.fif, raw_sss.fif, raw_tsss.fif, _meg.fif, _eeg.fif, _ieeg.fif, raw.fif.gz, raw_sss.fif.gz, raw_tsss.fif.gz, _meg.fif.gz, _eeg.fif.gz or _ieeg.fif.gz\n",
      "  custom_raw.save(save_path,overwrite=True)\n",
      "<ipython-input-4-d8650b052227>:2: RuntimeWarning: This filename (../SE_test\\Z陈倩20220425.fif) does not conform to MNE naming conventions. All raw files should end with raw.fif, raw_sss.fif, raw_tsss.fif, _meg.fif, _eeg.fif, _ieeg.fif, raw.fif.gz, raw_sss.fif.gz, raw_tsss.fif.gz, _meg.fif.gz, _eeg.fif.gz or _ieeg.fif.gz\n",
      "  raw = read_raw_fif(file_path)\n"
     ]
    },
    {
     "name": "stdout",
     "output_type": "stream",
     "text": [
      "pred_channel.shape (15, 4096)\n",
      "Creating RawArray with float64 data, n_channels=15, n_times=4096\n",
      "    Range : 0 ... 4095 =      0.000 ...    15.996 secs\n",
      "Ready.\n",
      "Writing E:\\jupyter file\\EEG_process\\SE_test_processed\\Z陈倩20220425.fif\n",
      "Closing E:\\jupyter file\\EEG_process\\SE_test_processed\\Z陈倩20220425.fif\n",
      "[done]\n",
      "../SE_test_processed/Z陈倩20220427.fif\n",
      "Opening raw data file ../SE_test\\Z陈倩20220427.fif...\n",
      "Isotrak not found\n",
      "    Range : 39161 ... 55545 =     38.243 ...    54.243 secs\n",
      "Ready.\n",
      "data_256.shape (15, 4096)\n",
      "data_256_samples.shape (15, 8, 512)\n",
      "data_sta.shape (15, 8, 512)\n",
      "data_x.shape: (120, 512, 1)\n"
     ]
    },
    {
     "name": "stderr",
     "output_type": "stream",
     "text": [
      "<ipython-input-4-d8650b052227>:74: RuntimeWarning: This filename (E:\\jupyter file\\EEG_process\\SE_test_processed\\Z陈倩20220425.fif) does not conform to MNE naming conventions. All raw files should end with raw.fif, raw_sss.fif, raw_tsss.fif, _meg.fif, _eeg.fif, _ieeg.fif, raw.fif.gz, raw_sss.fif.gz, raw_tsss.fif.gz, _meg.fif.gz, _eeg.fif.gz or _ieeg.fif.gz\n",
      "  custom_raw.save(save_path,overwrite=True)\n",
      "<ipython-input-4-d8650b052227>:2: RuntimeWarning: This filename (../SE_test\\Z陈倩20220427.fif) does not conform to MNE naming conventions. All raw files should end with raw.fif, raw_sss.fif, raw_tsss.fif, _meg.fif, _eeg.fif, _ieeg.fif, raw.fif.gz, raw_sss.fif.gz, raw_tsss.fif.gz, _meg.fif.gz, _eeg.fif.gz or _ieeg.fif.gz\n",
      "  raw = read_raw_fif(file_path)\n"
     ]
    },
    {
     "name": "stdout",
     "output_type": "stream",
     "text": [
      "pred_channel.shape (15, 4096)\n",
      "Creating RawArray with float64 data, n_channels=15, n_times=4096\n",
      "    Range : 0 ... 4095 =      0.000 ...    15.996 secs\n",
      "Ready.\n",
      "Writing E:\\jupyter file\\EEG_process\\SE_test_processed\\Z陈倩20220427.fif\n",
      "Closing E:\\jupyter file\\EEG_process\\SE_test_processed\\Z陈倩20220427.fif\n",
      "[done]\n",
      "../SE_test_processed/Z陈琳20220509（未发作）.fif\n",
      "Opening raw data file ../SE_test\\Z陈琳20220509（未发作）.fif...\n",
      "Isotrak not found\n",
      "    Range : 70144 ... 78336 =    137.000 ...   153.000 secs\n",
      "Ready.\n",
      "data_256.shape (15, 4096)\n",
      "data_256_samples.shape (15, 8, 512)\n",
      "data_sta.shape (15, 8, 512)\n",
      "data_x.shape: (120, 512, 1)\n"
     ]
    },
    {
     "name": "stderr",
     "output_type": "stream",
     "text": [
      "<ipython-input-4-d8650b052227>:74: RuntimeWarning: This filename (E:\\jupyter file\\EEG_process\\SE_test_processed\\Z陈倩20220427.fif) does not conform to MNE naming conventions. All raw files should end with raw.fif, raw_sss.fif, raw_tsss.fif, _meg.fif, _eeg.fif, _ieeg.fif, raw.fif.gz, raw_sss.fif.gz, raw_tsss.fif.gz, _meg.fif.gz, _eeg.fif.gz or _ieeg.fif.gz\n",
      "  custom_raw.save(save_path,overwrite=True)\n",
      "<ipython-input-4-d8650b052227>:2: RuntimeWarning: This filename (../SE_test\\Z陈琳20220509（未发作）.fif) does not conform to MNE naming conventions. All raw files should end with raw.fif, raw_sss.fif, raw_tsss.fif, _meg.fif, _eeg.fif, _ieeg.fif, raw.fif.gz, raw_sss.fif.gz, raw_tsss.fif.gz, _meg.fif.gz, _eeg.fif.gz or _ieeg.fif.gz\n",
      "  raw = read_raw_fif(file_path)\n"
     ]
    },
    {
     "name": "stdout",
     "output_type": "stream",
     "text": [
      "pred_channel.shape (15, 4096)\n",
      "Creating RawArray with float64 data, n_channels=15, n_times=4096\n",
      "    Range : 0 ... 4095 =      0.000 ...    15.996 secs\n",
      "Ready.\n",
      "Writing E:\\jupyter file\\EEG_process\\SE_test_processed\\Z陈琳20220509（未发作）.fif\n",
      "Closing E:\\jupyter file\\EEG_process\\SE_test_processed\\Z陈琳20220509（未发作）.fif\n",
      "[done]\n",
      "../SE_test_processed/Z陈琳20220513（未发作）.fif\n",
      "Opening raw data file ../SE_test\\Z陈琳20220513（未发作）.fif...\n",
      "Isotrak not found\n",
      "    Range : 68608 ... 76800 =    134.000 ...   150.000 secs\n",
      "Ready.\n",
      "data_256.shape (15, 4096)\n",
      "data_256_samples.shape (15, 8, 512)\n",
      "data_sta.shape (15, 8, 512)\n",
      "data_x.shape: (120, 512, 1)\n"
     ]
    },
    {
     "name": "stderr",
     "output_type": "stream",
     "text": [
      "<ipython-input-4-d8650b052227>:74: RuntimeWarning: This filename (E:\\jupyter file\\EEG_process\\SE_test_processed\\Z陈琳20220509（未发作）.fif) does not conform to MNE naming conventions. All raw files should end with raw.fif, raw_sss.fif, raw_tsss.fif, _meg.fif, _eeg.fif, _ieeg.fif, raw.fif.gz, raw_sss.fif.gz, raw_tsss.fif.gz, _meg.fif.gz, _eeg.fif.gz or _ieeg.fif.gz\n",
      "  custom_raw.save(save_path,overwrite=True)\n",
      "<ipython-input-4-d8650b052227>:2: RuntimeWarning: This filename (../SE_test\\Z陈琳20220513（未发作）.fif) does not conform to MNE naming conventions. All raw files should end with raw.fif, raw_sss.fif, raw_tsss.fif, _meg.fif, _eeg.fif, _ieeg.fif, raw.fif.gz, raw_sss.fif.gz, raw_tsss.fif.gz, _meg.fif.gz, _eeg.fif.gz or _ieeg.fif.gz\n",
      "  raw = read_raw_fif(file_path)\n"
     ]
    },
    {
     "name": "stdout",
     "output_type": "stream",
     "text": [
      "pred_channel.shape (15, 4096)\n",
      "Creating RawArray with float64 data, n_channels=15, n_times=4096\n",
      "    Range : 0 ... 4095 =      0.000 ...    15.996 secs\n",
      "Ready.\n",
      "Writing E:\\jupyter file\\EEG_process\\SE_test_processed\\Z陈琳20220513（未发作）.fif\n",
      "Closing E:\\jupyter file\\EEG_process\\SE_test_processed\\Z陈琳20220513（未发作）.fif\n",
      "[done]\n",
      "../SE_test_processed/Z陈琳20220516.fif\n",
      "Opening raw data file ../SE_test\\Z陈琳20220516.fif...\n",
      "Isotrak not found\n",
      "    Range : 250286 ... 283054 =    122.210 ...   138.210 secs\n",
      "Ready.\n",
      "data_256.shape (15, 4096)\n",
      "data_256_samples.shape (15, 8, 512)\n",
      "data_sta.shape (15, 8, 512)\n",
      "data_x.shape: (120, 512, 1)\n"
     ]
    },
    {
     "name": "stderr",
     "output_type": "stream",
     "text": [
      "<ipython-input-4-d8650b052227>:74: RuntimeWarning: This filename (E:\\jupyter file\\EEG_process\\SE_test_processed\\Z陈琳20220513（未发作）.fif) does not conform to MNE naming conventions. All raw files should end with raw.fif, raw_sss.fif, raw_tsss.fif, _meg.fif, _eeg.fif, _ieeg.fif, raw.fif.gz, raw_sss.fif.gz, raw_tsss.fif.gz, _meg.fif.gz, _eeg.fif.gz or _ieeg.fif.gz\n",
      "  custom_raw.save(save_path,overwrite=True)\n",
      "<ipython-input-4-d8650b052227>:2: RuntimeWarning: This filename (../SE_test\\Z陈琳20220516.fif) does not conform to MNE naming conventions. All raw files should end with raw.fif, raw_sss.fif, raw_tsss.fif, _meg.fif, _eeg.fif, _ieeg.fif, raw.fif.gz, raw_sss.fif.gz, raw_tsss.fif.gz, _meg.fif.gz, _eeg.fif.gz or _ieeg.fif.gz\n",
      "  raw = read_raw_fif(file_path)\n"
     ]
    },
    {
     "name": "stdout",
     "output_type": "stream",
     "text": [
      "pred_channel.shape (15, 4096)\n",
      "Creating RawArray with float64 data, n_channels=15, n_times=4096\n",
      "    Range : 0 ... 4095 =      0.000 ...    15.996 secs\n",
      "Ready.\n",
      "Writing E:\\jupyter file\\EEG_process\\SE_test_processed\\Z陈琳20220516.fif\n",
      "Closing E:\\jupyter file\\EEG_process\\SE_test_processed\\Z陈琳20220516.fif\n",
      "[done]\n",
      "../SE_test_processed/Z陈琳20220518（未发作）.fif\n",
      "Opening raw data file ../SE_test\\Z陈琳20220518（未发作）.fif...\n",
      "Isotrak not found\n",
      "    Range : 146 ... 32914 =      0.071 ...    16.071 secs\n",
      "Ready.\n",
      "data_256.shape (15, 4096)\n",
      "data_256_samples.shape (15, 8, 512)\n",
      "data_sta.shape (15, 8, 512)\n",
      "data_x.shape: (120, 512, 1)\n"
     ]
    },
    {
     "name": "stderr",
     "output_type": "stream",
     "text": [
      "<ipython-input-4-d8650b052227>:74: RuntimeWarning: This filename (E:\\jupyter file\\EEG_process\\SE_test_processed\\Z陈琳20220516.fif) does not conform to MNE naming conventions. All raw files should end with raw.fif, raw_sss.fif, raw_tsss.fif, _meg.fif, _eeg.fif, _ieeg.fif, raw.fif.gz, raw_sss.fif.gz, raw_tsss.fif.gz, _meg.fif.gz, _eeg.fif.gz or _ieeg.fif.gz\n",
      "  custom_raw.save(save_path,overwrite=True)\n",
      "<ipython-input-4-d8650b052227>:2: RuntimeWarning: This filename (../SE_test\\Z陈琳20220518（未发作）.fif) does not conform to MNE naming conventions. All raw files should end with raw.fif, raw_sss.fif, raw_tsss.fif, _meg.fif, _eeg.fif, _ieeg.fif, raw.fif.gz, raw_sss.fif.gz, raw_tsss.fif.gz, _meg.fif.gz, _eeg.fif.gz or _ieeg.fif.gz\n",
      "  raw = read_raw_fif(file_path)\n"
     ]
    },
    {
     "name": "stdout",
     "output_type": "stream",
     "text": [
      "pred_channel.shape (15, 4096)\n",
      "Creating RawArray with float64 data, n_channels=15, n_times=4096\n",
      "    Range : 0 ... 4095 =      0.000 ...    15.996 secs\n",
      "Ready.\n",
      "Writing E:\\jupyter file\\EEG_process\\SE_test_processed\\Z陈琳20220518（未发作）.fif\n",
      "Closing E:\\jupyter file\\EEG_process\\SE_test_processed\\Z陈琳20220518（未发作）.fif\n",
      "[done]\n"
     ]
    },
    {
     "name": "stderr",
     "output_type": "stream",
     "text": [
      "<ipython-input-4-d8650b052227>:74: RuntimeWarning: This filename (E:\\jupyter file\\EEG_process\\SE_test_processed\\Z陈琳20220518（未发作）.fif) does not conform to MNE naming conventions. All raw files should end with raw.fif, raw_sss.fif, raw_tsss.fif, _meg.fif, _eeg.fif, _ieeg.fif, raw.fif.gz, raw_sss.fif.gz, raw_tsss.fif.gz, _meg.fif.gz, _eeg.fif.gz or _ieeg.fif.gz\n",
      "  custom_raw.save(save_path,overwrite=True)\n"
     ]
    }
   ],
   "source": [
    "for file_path in train_directory:\n",
    "    file_name = file_path.split(\"\\\\\")[-1]\n",
    "    save_path = \"../SE_train_processed/\" + \"\".join(file_name)\n",
    "    print(save_path)\n",
    "    #训练集为8s\n",
    "    SE_process(file_path,save_path,8)\n",
    "    \n",
    "for file_path in test_directory:\n",
    "    file_name = file_path.split(\"\\\\\")[-1]\n",
    "    save_path = \"../SE_test_processed/\" + \"\".join(file_name)\n",
    "    print(save_path)\n",
    "    #测试集为16s\n",
    "    SE_process(file_path,save_path,16)"
   ]
  },
  {
   "cell_type": "code",
   "execution_count": null,
   "id": "123b150c",
   "metadata": {},
   "outputs": [],
   "source": []
  }
 ],
 "metadata": {
  "kernelspec": {
   "display_name": "Python 3",
   "language": "python",
   "name": "python3"
  },
  "language_info": {
   "codemirror_mode": {
    "name": "ipython",
    "version": 3
   },
   "file_extension": ".py",
   "mimetype": "text/x-python",
   "name": "python",
   "nbconvert_exporter": "python",
   "pygments_lexer": "ipython3",
   "version": "3.8.8"
  }
 },
 "nbformat": 4,
 "nbformat_minor": 5
}
