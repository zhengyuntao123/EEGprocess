{
 "cells": [
  {
   "cell_type": "code",
   "execution_count": 1,
   "id": "bece53e8",
   "metadata": {},
   "outputs": [],
   "source": [
    "from mne.io import concatenate_raws, read_raw_edf\n",
    "import mne\n",
    "import glob\n",
    "import numpy as np\n",
    "import xlrd\n",
    "import pandas as pd"
   ]
  },
  {
   "cell_type": "code",
   "execution_count": 2,
   "id": "99c8a03c",
   "metadata": {},
   "outputs": [],
   "source": [
    "path = \"../SE_parameter/stimulate_parameter.xlsx\"\n",
    "df = pd.read_excel(path,engine='openpyxl')\n",
    "#df= df.astype({'完成时间':'object'})\n",
    "#对df进行排序，为了和glob.glob的顺序相匹配\n",
    "df=df.sort_values(by=[\"姓名\",\"完成时间\"])"
   ]
  },
  {
   "cell_type": "code",
   "execution_count": 3,
   "id": "e2e92191",
   "metadata": {},
   "outputs": [],
   "source": [
    "df=df.reset_index()\n",
    "df=df.drop(['index','Unnamed: 0'],axis=1)"
   ]
  },
  {
   "cell_type": "code",
   "execution_count": 4,
   "id": "e161d989",
   "metadata": {},
   "outputs": [
    {
     "data": {
      "text/plain": [
       "(96, 5)"
      ]
     },
     "execution_count": 4,
     "metadata": {},
     "output_type": "execute_result"
    }
   ],
   "source": [
    "df.shape"
   ]
  },
  {
   "cell_type": "code",
   "execution_count": 5,
   "id": "2d0e67c2",
   "metadata": {},
   "outputs": [],
   "source": [
    "ECT_code = []"
   ]
  },
  {
   "cell_type": "code",
   "execution_count": 6,
   "id": "7bda472f",
   "metadata": {},
   "outputs": [],
   "source": [
    "for i in range(df.shape[0]):\n",
    "    ECT_code.append(df.iloc[i,3])"
   ]
  },
  {
   "cell_type": "code",
   "execution_count": 7,
   "id": "665da035",
   "metadata": {},
   "outputs": [],
   "source": [
    "ECT_code = np.array(ECT_code)"
   ]
  },
  {
   "cell_type": "code",
   "execution_count": 8,
   "id": "b4e160df",
   "metadata": {},
   "outputs": [
    {
     "data": {
      "text/plain": [
       "array([1, 4, 3, 2, 3, 4, 2, 1, 4, 2, 1, 3, 4, 2, 3, 1, 2, 4, 1, 3, 4, 3,\n",
       "       1, 2, 3, 2, 1, 4, 2, 3, 1, 4, 3, 1, 2, 4, 2, 3, 4, 1, 3, 1, 4, 2,\n",
       "       4, 1, 2, 3, 1, 3, 2, 4, 2, 1, 3, 4, 4, 1, 2, 3, 4, 3, 2, 1, 2, 4,\n",
       "       3, 1, 1, 2, 3, 4, 3, 2, 4, 1, 2, 1, 4, 3, 3, 4, 1, 2, 1, 2, 4, 3,\n",
       "       1, 3, 4, 2, 1, 4, 2, 3], dtype=int64)"
      ]
     },
     "execution_count": 8,
     "metadata": {},
     "output_type": "execute_result"
    }
   ],
   "source": [
    "ECT_code"
   ]
  },
  {
   "cell_type": "code",
   "execution_count": 9,
   "id": "da1ef5b4",
   "metadata": {},
   "outputs": [],
   "source": [
    "rest_path = r\"../patient_data/静息脑电（第一批次）/\"\n",
    "therapy_path=r\"../patient_data/治疗脑电（第一批次）/\"\n",
    "\n",
    "# rest_subdirectory = sorted(glob.glob(rest_path+\"*\"))\n",
    "# therapy_subdirectory = sorted(glob.glob(therapy_path+\"*\"))\n",
    "therapy_file_path = sorted(glob.glob(therapy_path+\"*\"))"
   ]
  },
  {
   "cell_type": "code",
   "execution_count": 10,
   "id": "caf705a4",
   "metadata": {},
   "outputs": [
    {
     "data": {
      "text/plain": [
       "['../patient_data/治疗脑电（第一批次）\\\\Z何富桂20220221.edf',\n",
       " '../patient_data/治疗脑电（第一批次）\\\\Z何富桂20220225.edf',\n",
       " '../patient_data/治疗脑电（第一批次）\\\\Z何富桂20220228.edf',\n",
       " '../patient_data/治疗脑电（第一批次）\\\\Z何富桂20220302.edf',\n",
       " '../patient_data/治疗脑电（第一批次）\\\\Z倪诗瑄20220311.edf',\n",
       " '../patient_data/治疗脑电（第一批次）\\\\Z倪诗瑄20220314.edf',\n",
       " '../patient_data/治疗脑电（第一批次）\\\\Z倪诗瑄20220316.edf',\n",
       " '../patient_data/治疗脑电（第一批次）\\\\Z倪诗瑄20220318.edf',\n",
       " '../patient_data/治疗脑电（第一批次）\\\\Z刘世清20220309.edf',\n",
       " '../patient_data/治疗脑电（第一批次）\\\\Z刘世清20220311.edf',\n",
       " '../patient_data/治疗脑电（第一批次）\\\\Z刘世清20220314（未发作）.edf',\n",
       " '../patient_data/治疗脑电（第一批次）\\\\Z刘世清20220316.edf',\n",
       " '../patient_data/治疗脑电（第一批次）\\\\Z刘家瑞20220225.edf',\n",
       " '../patient_data/治疗脑电（第一批次）\\\\Z刘家瑞20220228.edf',\n",
       " '../patient_data/治疗脑电（第一批次）\\\\Z刘家瑞20220302.edf',\n",
       " '../patient_data/治疗脑电（第一批次）\\\\Z刘家瑞20220304.edf',\n",
       " '../patient_data/治疗脑电（第一批次）\\\\Z周小凯20220314.edf',\n",
       " '../patient_data/治疗脑电（第一批次）\\\\Z周小凯20220316.edf',\n",
       " '../patient_data/治疗脑电（第一批次）\\\\Z周小凯20220318.edf',\n",
       " '../patient_data/治疗脑电（第一批次）\\\\Z周小凯20220321.edf',\n",
       " '../patient_data/治疗脑电（第一批次）\\\\Z孙彭辉20220225.edf',\n",
       " '../patient_data/治疗脑电（第一批次）\\\\Z孙彭辉20220228.edf',\n",
       " '../patient_data/治疗脑电（第一批次）\\\\Z孙彭辉20220302.edf',\n",
       " '../patient_data/治疗脑电（第一批次）\\\\Z孙彭辉20220304.edf',\n",
       " '../patient_data/治疗脑电（第一批次）\\\\Z宋志辉20220318.edf',\n",
       " '../patient_data/治疗脑电（第一批次）\\\\Z宋志辉20220321.edf',\n",
       " '../patient_data/治疗脑电（第一批次）\\\\Z宋志辉20220323.edf',\n",
       " '../patient_data/治疗脑电（第一批次）\\\\Z宋志辉20220325.edf',\n",
       " '../patient_data/治疗脑电（第一批次）\\\\Z张璐20220225.edf',\n",
       " '../patient_data/治疗脑电（第一批次）\\\\Z张璐20220228.edf',\n",
       " '../patient_data/治疗脑电（第一批次）\\\\Z张璐20220302.edf',\n",
       " '../patient_data/治疗脑电（第一批次）\\\\Z张璐20220304.edf',\n",
       " '../patient_data/治疗脑电（第一批次）\\\\Z徐珍英20220218（未发作）.edf',\n",
       " '../patient_data/治疗脑电（第一批次）\\\\Z徐珍英20220221（未发作）.edf',\n",
       " '../patient_data/治疗脑电（第一批次）\\\\Z徐珍英20220223.edf',\n",
       " '../patient_data/治疗脑电（第一批次）\\\\Z徐珍英20220225.edf',\n",
       " '../patient_data/治疗脑电（第一批次）\\\\Z曾刚20220216.edf',\n",
       " '../patient_data/治疗脑电（第一批次）\\\\Z曾刚20220218（未发作）.edf',\n",
       " '../patient_data/治疗脑电（第一批次）\\\\Z曾刚20220221.edf',\n",
       " '../patient_data/治疗脑电（第一批次）\\\\Z曾刚20220223.edf',\n",
       " '../patient_data/治疗脑电（第一批次）\\\\Z李玉萍20220216.edf',\n",
       " '../patient_data/治疗脑电（第一批次）\\\\Z李玉萍20220218.edf',\n",
       " '../patient_data/治疗脑电（第一批次）\\\\Z李玉萍20220221（未发作）.edf',\n",
       " '../patient_data/治疗脑电（第一批次）\\\\Z李玉萍20220223.edf',\n",
       " '../patient_data/治疗脑电（第一批次）\\\\Z杜娇20220316.edf',\n",
       " '../patient_data/治疗脑电（第一批次）\\\\Z杜娇20220318.edf',\n",
       " '../patient_data/治疗脑电（第一批次）\\\\Z杜娇20220321.edf',\n",
       " '../patient_data/治疗脑电（第一批次）\\\\Z杜娇20220325（未发作）.edf',\n",
       " '../patient_data/治疗脑电（第一批次）\\\\Z林儒波20220323.edf',\n",
       " '../patient_data/治疗脑电（第一批次）\\\\Z林儒波20220325.edf',\n",
       " '../patient_data/治疗脑电（第一批次）\\\\Z林儒波20220328（未发作）.edf',\n",
       " '../patient_data/治疗脑电（第一批次）\\\\Z林儒波20220330.edf',\n",
       " '../patient_data/治疗脑电（第一批次）\\\\Z林攀攀20220221（未发作）.edf',\n",
       " '../patient_data/治疗脑电（第一批次）\\\\Z林攀攀20220223（未发作）.edf',\n",
       " '../patient_data/治疗脑电（第一批次）\\\\Z林攀攀20220225（未发作）.edf',\n",
       " '../patient_data/治疗脑电（第一批次）\\\\Z林攀攀20220228.edf',\n",
       " '../patient_data/治疗脑电（第一批次）\\\\Z沈伟20220311.edf',\n",
       " '../patient_data/治疗脑电（第一批次）\\\\Z沈伟20220314（未发作）.edf',\n",
       " '../patient_data/治疗脑电（第一批次）\\\\Z沈伟20220316.edf',\n",
       " '../patient_data/治疗脑电（第一批次）\\\\Z沈伟20220318.edf',\n",
       " '../patient_data/治疗脑电（第一批次）\\\\Z王宜凡20220318.edf',\n",
       " '../patient_data/治疗脑电（第一批次）\\\\Z王宜凡20220321.edf',\n",
       " '../patient_data/治疗脑电（第一批次）\\\\Z王宜凡20220323.edf',\n",
       " '../patient_data/治疗脑电（第一批次）\\\\Z王宜凡20220325.edf',\n",
       " '../patient_data/治疗脑电（第一批次）\\\\Z王纯刚20220321.edf',\n",
       " '../patient_data/治疗脑电（第一批次）\\\\Z王纯刚20220323.edf',\n",
       " '../patient_data/治疗脑电（第一批次）\\\\Z王纯刚20220325.edf',\n",
       " '../patient_data/治疗脑电（第一批次）\\\\Z王纯刚20220328.edf',\n",
       " '../patient_data/治疗脑电（第一批次）\\\\Z肖星星20220325.edf',\n",
       " '../patient_data/治疗脑电（第一批次）\\\\Z肖星星20220328.edf',\n",
       " '../patient_data/治疗脑电（第一批次）\\\\Z肖星星20220330（未发作）.edf',\n",
       " '../patient_data/治疗脑电（第一批次）\\\\Z肖星星20220401.edf',\n",
       " '../patient_data/治疗脑电（第一批次）\\\\Z肖智华20220225（未发作）.edf',\n",
       " '../patient_data/治疗脑电（第一批次）\\\\Z肖智华20220228.edf',\n",
       " '../patient_data/治疗脑电（第一批次）\\\\Z肖智华20220302.edf',\n",
       " '../patient_data/治疗脑电（第一批次）\\\\Z肖智华20220307（未发作）.edf',\n",
       " '../patient_data/治疗脑电（第一批次）\\\\Z赵丽兰20220225.edf',\n",
       " '../patient_data/治疗脑电（第一批次）\\\\Z赵丽兰20220228.edf',\n",
       " '../patient_data/治疗脑电（第一批次）\\\\Z赵丽兰20220302.edf',\n",
       " '../patient_data/治疗脑电（第一批次）\\\\Z赵丽兰20220304.edf',\n",
       " '../patient_data/治疗脑电（第一批次）\\\\Z雷振20220321.edf',\n",
       " '../patient_data/治疗脑电（第一批次）\\\\Z雷振20220323.edf',\n",
       " '../patient_data/治疗脑电（第一批次）\\\\Z雷振20220325.edf',\n",
       " '../patient_data/治疗脑电（第一批次）\\\\Z雷振20220328.edf',\n",
       " '../patient_data/治疗脑电（第一批次）\\\\Z黄盈雪20220314.edf',\n",
       " '../patient_data/治疗脑电（第一批次）\\\\Z黄盈雪20220316.edf',\n",
       " '../patient_data/治疗脑电（第一批次）\\\\Z黄盈雪20220318.edf',\n",
       " '../patient_data/治疗脑电（第一批次）\\\\Z黄盈雪20220323.edf',\n",
       " '../patient_data/治疗脑电（第一批次）\\\\Z黄金燕20220309.edf',\n",
       " '../patient_data/治疗脑电（第一批次）\\\\Z黄金燕20220311.edf',\n",
       " '../patient_data/治疗脑电（第一批次）\\\\Z黄金燕20220314.edf',\n",
       " '../patient_data/治疗脑电（第一批次）\\\\Z黄金燕20220316.edf',\n",
       " '../patient_data/治疗脑电（第一批次）\\\\Z齐金钢20220223.edf',\n",
       " '../patient_data/治疗脑电（第一批次）\\\\Z齐金钢20220225.edf',\n",
       " '../patient_data/治疗脑电（第一批次）\\\\Z齐金钢20220228.edf',\n",
       " '../patient_data/治疗脑电（第一批次）\\\\Z齐金钢20220302.edf']"
      ]
     },
     "execution_count": 10,
     "metadata": {},
     "output_type": "execute_result"
    }
   ],
   "source": [
    "therapy_file_path"
   ]
  },
  {
   "cell_type": "code",
   "execution_count": 11,
   "id": "7d9c03a4",
   "metadata": {},
   "outputs": [],
   "source": [
    "path_parameter_dict={}"
   ]
  },
  {
   "cell_type": "code",
   "execution_count": 12,
   "id": "c15cad1f",
   "metadata": {},
   "outputs": [
    {
     "data": {
      "text/plain": [
       "96"
      ]
     },
     "execution_count": 12,
     "metadata": {},
     "output_type": "execute_result"
    }
   ],
   "source": [
    "len(therapy_file_path)"
   ]
  },
  {
   "cell_type": "code",
   "execution_count": 13,
   "id": "4a630c3d",
   "metadata": {},
   "outputs": [],
   "source": [
    "#构建一个 {路径:ECT参数} 的字典，方便打乱顺序后，仍能保持一一对应\n",
    "for i in range(len(therapy_file_path)):\n",
    "    path_parameter_dict[therapy_file_path[i]]=ECT_code[i]"
   ]
  },
  {
   "cell_type": "code",
   "execution_count": 14,
   "id": "bced982d",
   "metadata": {},
   "outputs": [
    {
     "data": {
      "text/plain": [
       "{'../patient_data/治疗脑电（第一批次）\\\\Z何富桂20220221.edf': 1,\n",
       " '../patient_data/治疗脑电（第一批次）\\\\Z何富桂20220225.edf': 4,\n",
       " '../patient_data/治疗脑电（第一批次）\\\\Z何富桂20220228.edf': 3,\n",
       " '../patient_data/治疗脑电（第一批次）\\\\Z何富桂20220302.edf': 2,\n",
       " '../patient_data/治疗脑电（第一批次）\\\\Z倪诗瑄20220311.edf': 3,\n",
       " '../patient_data/治疗脑电（第一批次）\\\\Z倪诗瑄20220314.edf': 4,\n",
       " '../patient_data/治疗脑电（第一批次）\\\\Z倪诗瑄20220316.edf': 2,\n",
       " '../patient_data/治疗脑电（第一批次）\\\\Z倪诗瑄20220318.edf': 1,\n",
       " '../patient_data/治疗脑电（第一批次）\\\\Z刘世清20220309.edf': 4,\n",
       " '../patient_data/治疗脑电（第一批次）\\\\Z刘世清20220311.edf': 2,\n",
       " '../patient_data/治疗脑电（第一批次）\\\\Z刘世清20220314（未发作）.edf': 1,\n",
       " '../patient_data/治疗脑电（第一批次）\\\\Z刘世清20220316.edf': 3,\n",
       " '../patient_data/治疗脑电（第一批次）\\\\Z刘家瑞20220225.edf': 4,\n",
       " '../patient_data/治疗脑电（第一批次）\\\\Z刘家瑞20220228.edf': 2,\n",
       " '../patient_data/治疗脑电（第一批次）\\\\Z刘家瑞20220302.edf': 3,\n",
       " '../patient_data/治疗脑电（第一批次）\\\\Z刘家瑞20220304.edf': 1,\n",
       " '../patient_data/治疗脑电（第一批次）\\\\Z周小凯20220314.edf': 2,\n",
       " '../patient_data/治疗脑电（第一批次）\\\\Z周小凯20220316.edf': 4,\n",
       " '../patient_data/治疗脑电（第一批次）\\\\Z周小凯20220318.edf': 1,\n",
       " '../patient_data/治疗脑电（第一批次）\\\\Z周小凯20220321.edf': 3,\n",
       " '../patient_data/治疗脑电（第一批次）\\\\Z孙彭辉20220225.edf': 4,\n",
       " '../patient_data/治疗脑电（第一批次）\\\\Z孙彭辉20220228.edf': 3,\n",
       " '../patient_data/治疗脑电（第一批次）\\\\Z孙彭辉20220302.edf': 1,\n",
       " '../patient_data/治疗脑电（第一批次）\\\\Z孙彭辉20220304.edf': 2,\n",
       " '../patient_data/治疗脑电（第一批次）\\\\Z宋志辉20220318.edf': 3,\n",
       " '../patient_data/治疗脑电（第一批次）\\\\Z宋志辉20220321.edf': 2,\n",
       " '../patient_data/治疗脑电（第一批次）\\\\Z宋志辉20220323.edf': 1,\n",
       " '../patient_data/治疗脑电（第一批次）\\\\Z宋志辉20220325.edf': 4,\n",
       " '../patient_data/治疗脑电（第一批次）\\\\Z张璐20220225.edf': 2,\n",
       " '../patient_data/治疗脑电（第一批次）\\\\Z张璐20220228.edf': 3,\n",
       " '../patient_data/治疗脑电（第一批次）\\\\Z张璐20220302.edf': 1,\n",
       " '../patient_data/治疗脑电（第一批次）\\\\Z张璐20220304.edf': 4,\n",
       " '../patient_data/治疗脑电（第一批次）\\\\Z徐珍英20220218（未发作）.edf': 3,\n",
       " '../patient_data/治疗脑电（第一批次）\\\\Z徐珍英20220221（未发作）.edf': 1,\n",
       " '../patient_data/治疗脑电（第一批次）\\\\Z徐珍英20220223.edf': 2,\n",
       " '../patient_data/治疗脑电（第一批次）\\\\Z徐珍英20220225.edf': 4,\n",
       " '../patient_data/治疗脑电（第一批次）\\\\Z曾刚20220216.edf': 2,\n",
       " '../patient_data/治疗脑电（第一批次）\\\\Z曾刚20220218（未发作）.edf': 3,\n",
       " '../patient_data/治疗脑电（第一批次）\\\\Z曾刚20220221.edf': 4,\n",
       " '../patient_data/治疗脑电（第一批次）\\\\Z曾刚20220223.edf': 1,\n",
       " '../patient_data/治疗脑电（第一批次）\\\\Z李玉萍20220216.edf': 3,\n",
       " '../patient_data/治疗脑电（第一批次）\\\\Z李玉萍20220218.edf': 1,\n",
       " '../patient_data/治疗脑电（第一批次）\\\\Z李玉萍20220221（未发作）.edf': 4,\n",
       " '../patient_data/治疗脑电（第一批次）\\\\Z李玉萍20220223.edf': 2,\n",
       " '../patient_data/治疗脑电（第一批次）\\\\Z杜娇20220316.edf': 4,\n",
       " '../patient_data/治疗脑电（第一批次）\\\\Z杜娇20220318.edf': 1,\n",
       " '../patient_data/治疗脑电（第一批次）\\\\Z杜娇20220321.edf': 2,\n",
       " '../patient_data/治疗脑电（第一批次）\\\\Z杜娇20220325（未发作）.edf': 3,\n",
       " '../patient_data/治疗脑电（第一批次）\\\\Z林儒波20220323.edf': 1,\n",
       " '../patient_data/治疗脑电（第一批次）\\\\Z林儒波20220325.edf': 3,\n",
       " '../patient_data/治疗脑电（第一批次）\\\\Z林儒波20220328（未发作）.edf': 2,\n",
       " '../patient_data/治疗脑电（第一批次）\\\\Z林儒波20220330.edf': 4,\n",
       " '../patient_data/治疗脑电（第一批次）\\\\Z林攀攀20220221（未发作）.edf': 2,\n",
       " '../patient_data/治疗脑电（第一批次）\\\\Z林攀攀20220223（未发作）.edf': 1,\n",
       " '../patient_data/治疗脑电（第一批次）\\\\Z林攀攀20220225（未发作）.edf': 3,\n",
       " '../patient_data/治疗脑电（第一批次）\\\\Z林攀攀20220228.edf': 4,\n",
       " '../patient_data/治疗脑电（第一批次）\\\\Z沈伟20220311.edf': 4,\n",
       " '../patient_data/治疗脑电（第一批次）\\\\Z沈伟20220314（未发作）.edf': 1,\n",
       " '../patient_data/治疗脑电（第一批次）\\\\Z沈伟20220316.edf': 2,\n",
       " '../patient_data/治疗脑电（第一批次）\\\\Z沈伟20220318.edf': 3,\n",
       " '../patient_data/治疗脑电（第一批次）\\\\Z王宜凡20220318.edf': 4,\n",
       " '../patient_data/治疗脑电（第一批次）\\\\Z王宜凡20220321.edf': 3,\n",
       " '../patient_data/治疗脑电（第一批次）\\\\Z王宜凡20220323.edf': 2,\n",
       " '../patient_data/治疗脑电（第一批次）\\\\Z王宜凡20220325.edf': 1,\n",
       " '../patient_data/治疗脑电（第一批次）\\\\Z王纯刚20220321.edf': 2,\n",
       " '../patient_data/治疗脑电（第一批次）\\\\Z王纯刚20220323.edf': 4,\n",
       " '../patient_data/治疗脑电（第一批次）\\\\Z王纯刚20220325.edf': 3,\n",
       " '../patient_data/治疗脑电（第一批次）\\\\Z王纯刚20220328.edf': 1,\n",
       " '../patient_data/治疗脑电（第一批次）\\\\Z肖星星20220325.edf': 1,\n",
       " '../patient_data/治疗脑电（第一批次）\\\\Z肖星星20220328.edf': 2,\n",
       " '../patient_data/治疗脑电（第一批次）\\\\Z肖星星20220330（未发作）.edf': 3,\n",
       " '../patient_data/治疗脑电（第一批次）\\\\Z肖星星20220401.edf': 4,\n",
       " '../patient_data/治疗脑电（第一批次）\\\\Z肖智华20220225（未发作）.edf': 3,\n",
       " '../patient_data/治疗脑电（第一批次）\\\\Z肖智华20220228.edf': 2,\n",
       " '../patient_data/治疗脑电（第一批次）\\\\Z肖智华20220302.edf': 4,\n",
       " '../patient_data/治疗脑电（第一批次）\\\\Z肖智华20220307（未发作）.edf': 1,\n",
       " '../patient_data/治疗脑电（第一批次）\\\\Z赵丽兰20220225.edf': 2,\n",
       " '../patient_data/治疗脑电（第一批次）\\\\Z赵丽兰20220228.edf': 1,\n",
       " '../patient_data/治疗脑电（第一批次）\\\\Z赵丽兰20220302.edf': 4,\n",
       " '../patient_data/治疗脑电（第一批次）\\\\Z赵丽兰20220304.edf': 3,\n",
       " '../patient_data/治疗脑电（第一批次）\\\\Z雷振20220321.edf': 3,\n",
       " '../patient_data/治疗脑电（第一批次）\\\\Z雷振20220323.edf': 4,\n",
       " '../patient_data/治疗脑电（第一批次）\\\\Z雷振20220325.edf': 1,\n",
       " '../patient_data/治疗脑电（第一批次）\\\\Z雷振20220328.edf': 2,\n",
       " '../patient_data/治疗脑电（第一批次）\\\\Z黄盈雪20220314.edf': 1,\n",
       " '../patient_data/治疗脑电（第一批次）\\\\Z黄盈雪20220316.edf': 2,\n",
       " '../patient_data/治疗脑电（第一批次）\\\\Z黄盈雪20220318.edf': 4,\n",
       " '../patient_data/治疗脑电（第一批次）\\\\Z黄盈雪20220323.edf': 3,\n",
       " '../patient_data/治疗脑电（第一批次）\\\\Z黄金燕20220309.edf': 1,\n",
       " '../patient_data/治疗脑电（第一批次）\\\\Z黄金燕20220311.edf': 3,\n",
       " '../patient_data/治疗脑电（第一批次）\\\\Z黄金燕20220314.edf': 4,\n",
       " '../patient_data/治疗脑电（第一批次）\\\\Z黄金燕20220316.edf': 2,\n",
       " '../patient_data/治疗脑电（第一批次）\\\\Z齐金钢20220223.edf': 1,\n",
       " '../patient_data/治疗脑电（第一批次）\\\\Z齐金钢20220225.edf': 4,\n",
       " '../patient_data/治疗脑电（第一批次）\\\\Z齐金钢20220228.edf': 2,\n",
       " '../patient_data/治疗脑电（第一批次）\\\\Z齐金钢20220302.edf': 3}"
      ]
     },
     "execution_count": 14,
     "metadata": {},
     "output_type": "execute_result"
    }
   ],
   "source": [
    "path_parameter_dict"
   ]
  },
  {
   "cell_type": "code",
   "execution_count": 15,
   "id": "acb9a08e",
   "metadata": {},
   "outputs": [
    {
     "data": {
      "text/plain": [
       "'何富桂'"
      ]
     },
     "execution_count": 15,
     "metadata": {},
     "output_type": "execute_result"
    }
   ],
   "source": [
    "#观察文件名，发现所有文件名均为“Z人名日期”，所以取文件名的[1:4]为人名，前后对照，如果不同则表示是不同的人\n",
    "#思路：首先将所有人名取出，然后随机打乱顺序，前20个人作为训练数据，后4个人作为测试数据\n",
    "therapy_file_path[0].replace('\\\\','/').split('/')[-1][1:4]"
   ]
  },
  {
   "cell_type": "code",
   "execution_count": 16,
   "id": "afe398dc",
   "metadata": {},
   "outputs": [],
   "source": [
    "#获得名单\n",
    "def getNameList(file_path,name_list):\n",
    "    last_name='1'\n",
    "    for i in file_path:\n",
    "        cur_name=i.replace('\\\\','/').split('/')[-1][1:4]\n",
    "        if (last_name!=cur_name):\n",
    "            name_list.append(cur_name)\n",
    "        last_name=cur_name      "
   ]
  },
  {
   "cell_type": "code",
   "execution_count": 17,
   "id": "911ddf6d",
   "metadata": {},
   "outputs": [
    {
     "data": {
      "text/plain": [
       "['刘家瑞',\n",
       " '刘世清',\n",
       " '宋志辉',\n",
       " '沈伟2',\n",
       " '齐金钢',\n",
       " '黄金燕',\n",
       " '雷振2',\n",
       " '林儒波',\n",
       " '张璐2',\n",
       " '孙彭辉',\n",
       " '杜娇2',\n",
       " '林攀攀',\n",
       " '何富桂',\n",
       " '肖星星',\n",
       " '曾刚2',\n",
       " '周小凯',\n",
       " '肖智华',\n",
       " '倪诗瑄',\n",
       " '赵丽兰',\n",
       " '黄盈雪',\n",
       " '徐珍英',\n",
       " '王宜凡',\n",
       " '李玉萍',\n",
       " '王纯刚']"
      ]
     },
     "execution_count": 17,
     "metadata": {},
     "output_type": "execute_result"
    }
   ],
   "source": [
    "#打乱名单，体现随机性\n",
    "name_list=[]\n",
    "getNameList(therapy_file_path,name_list)\n",
    "np.random.shuffle(name_list)\n",
    "name_list"
   ]
  },
  {
   "cell_type": "code",
   "execution_count": 18,
   "id": "e11d8b33",
   "metadata": {},
   "outputs": [],
   "source": [
    "#此处设定有多少患者用于训练集\n",
    "train_patient_num=20\n",
    "total_patient_num=len(name_list)\n",
    "train_therapy_file_path=[]\n",
    "test_therapy_file_path=[]\n",
    "for i in range(train_patient_num):\n",
    "    temp_file_path=sorted(glob.glob(therapy_path+'*'+name_list[i]+'*'))\n",
    "    for j in temp_file_path:\n",
    "        train_therapy_file_path.append(j)\n",
    "for i in range(train_patient_num,total_patient_num):\n",
    "    temp_file_path=sorted(glob.glob(therapy_path+'*'+name_list[i]+'*'))\n",
    "    for j in temp_file_path:\n",
    "        test_therapy_file_path.append(j)"
   ]
  },
  {
   "cell_type": "code",
   "execution_count": 19,
   "id": "4b728ddd",
   "metadata": {},
   "outputs": [],
   "source": [
    "#这里必须要排序\n",
    "train_therapy_file_path.sort()\n",
    "test_therapy_file_path.sort()"
   ]
  },
  {
   "cell_type": "code",
   "execution_count": 20,
   "id": "6e3c6aac",
   "metadata": {},
   "outputs": [
    {
     "name": "stdout",
     "output_type": "stream",
     "text": [
      "6.2727272727272725\n"
     ]
    }
   ],
   "source": [
    "#统计未发作和发作的样本数\n",
    "trigger_num=0\n",
    "non_trigger_num=0\n",
    "for i in train_therapy_file_path:\n",
    "    # 找不到未发作，即发作\n",
    "    if i.find('未发作')==-1:\n",
    "        trigger_num+=1\n",
    "    else:\n",
    "        non_trigger_num+=1\n",
    "print(trigger_num/non_trigger_num)\n",
    "#例如发作样本采集SE后8s，multiple=5，那么未发作样本就从offset=2,4,6,8,10采集8s SE片段\n",
    "multiple=trigger_num/non_trigger_num"
   ]
  },
  {
   "cell_type": "code",
   "execution_count": 21,
   "id": "51282611",
   "metadata": {},
   "outputs": [
    {
     "data": {
      "text/plain": [
       "11"
      ]
     },
     "execution_count": 21,
     "metadata": {},
     "output_type": "execute_result"
    }
   ],
   "source": [
    "non_trigger_num"
   ]
  },
  {
   "cell_type": "code",
   "execution_count": 22,
   "id": "b51a25f1",
   "metadata": {},
   "outputs": [
    {
     "data": {
      "text/plain": [
       "135"
      ]
     },
     "execution_count": 22,
     "metadata": {},
     "output_type": "execute_result"
    }
   ],
   "source": [
    "trigger_num+non_trigger_num*(int)(multiple)"
   ]
  },
  {
   "cell_type": "code",
   "execution_count": 23,
   "id": "74813590",
   "metadata": {
    "code_folding": []
   },
   "outputs": [],
   "source": [
    "#检测EEG文件是否有flag标记,返回true/false\n",
    "def judgeflag(file_path,flag):\n",
    "    raw = read_raw_edf(file_path,preload=False)\n",
    "    events_from_annot, event_dict = mne.events_from_annotations(raw)\n",
    "    if flag in event_dict:\n",
    "        return True\n",
    "    else:\n",
    "        return False"
   ]
  },
  {
   "cell_type": "code",
   "execution_count": 24,
   "id": "be52f2c0",
   "metadata": {},
   "outputs": [],
   "source": [
    "# 数据采样率1024Hz,文件路径；采集时间；麻醉起始点的偏移(s);是否为测试集标志\n",
    "def get_se_epochs(path,select_time,bias,is_test):\n",
    "    # select_time 采集的时间\n",
    "    raw=read_raw_edf(path,preload=False)\n",
    "    events_from_annot, event_dict = mne.events_from_annotations(raw)\n",
    "    # 第二个标记是SE，麻醉标记,save函数的参数单位是s，所以要除以1024\n",
    "    start_time=float(events_from_annot[2][0])/1024 + bias\n",
    "    end_time=start_time+select_time\n",
    "    print(start_time,\"+\",end_time)\n",
    "    data,time = raw[:17,:] \n",
    "    picks=None\n",
    "    path_name=path.split('\\\\')[1:]\n",
    "    path_name=\"\".join(path_name)\n",
    "    path_name=path_name.split('.')[0]\n",
    "    #在这里将训练集和测试集分开,需要新建SE_train和SE_test两个文件夹\n",
    "    if (is_test):      \n",
    "        path_name=r\"../SE_test/\" + path_name + \".fif\"\n",
    "    else:\n",
    "        #此处不可写成_bias: 因为命名规则里面不能写  ':'\n",
    "        path_name=r\"../SE_train/\" + path_name + \"_bias_\" + str(bias) +\".fif\"\n",
    "    path_name=path_name.replace('/','\\\\')\n",
    "    print(path_name)\n",
    "    raw.save(path_name,picks,start_time,end_time,overwrite=True)"
   ]
  },
  {
   "cell_type": "code",
   "execution_count": 25,
   "id": "ec3afc44",
   "metadata": {},
   "outputs": [],
   "source": [
    "file_without_se = []\n",
    "df_parameter_train=pd.DataFrame(columns=['parameter'])\n",
    "df_parameter_test=pd.DataFrame(columns=['parameter'])"
   ]
  },
  {
   "cell_type": "code",
   "execution_count": 26,
   "id": "d19d4c79",
   "metadata": {},
   "outputs": [
    {
     "name": "stdout",
     "output_type": "stream",
     "text": [
      "Extracting EDF parameters from E:\\jupyter file\\EEG_process\\patient_data\\治疗脑电（第一批次）\\Z何富桂20220221.edf...\n",
      "EDF file detected\n",
      "Setting channel info structure...\n",
      "Creating raw.info structure...\n",
      "Used Annotations descriptions: ['File Create', 'Recording ends', 'Recording starts', 'SE', 'end', 'start']\n",
      "Extracting EDF parameters from E:\\jupyter file\\EEG_process\\patient_data\\治疗脑电（第一批次）\\Z何富桂20220221.edf...\n",
      "EDF file detected\n",
      "Setting channel info structure...\n",
      "Creating raw.info structure...\n",
      "Used Annotations descriptions: ['File Create', 'Recording ends', 'Recording starts', 'SE', 'end', 'start']\n",
      "8.7099609375 + 16.7099609375\n",
      "..\\SE_train\\Z何富桂20220221_bias_0.fif\n",
      "Writing E:\\jupyter file\\EEG_process\\SE_train\\Z何富桂20220221_bias_0.fif\n",
      "Closing E:\\jupyter file\\EEG_process\\SE_train\\Z何富桂20220221_bias_0.fif\n",
      "[done]\n",
      "Extracting EDF parameters from E:\\jupyter file\\EEG_process\\patient_data\\治疗脑电（第一批次）\\Z何富桂20220225.edf...\n",
      "EDF file detected\n",
      "Setting channel info structure...\n",
      "Creating raw.info structure...\n",
      "Used Annotations descriptions: ['File Create', 'Recording ends', 'Recording starts', 'SE', 'end', 'start']\n",
      "Extracting EDF parameters from E:\\jupyter file\\EEG_process\\patient_data\\治疗脑电（第一批次）\\Z何富桂20220225.edf...\n",
      "EDF file detected\n",
      "Setting channel info structure...\n",
      "Creating raw.info structure...\n",
      "Used Annotations descriptions: ['File Create', 'Recording ends', 'Recording starts', 'SE', 'end', 'start']\n",
      "227.634765625 + 235.634765625\n"
     ]
    },
    {
     "name": "stderr",
     "output_type": "stream",
     "text": [
      "<ipython-input-24-63daf20ba1ee>:23: RuntimeWarning: This filename (E:\\jupyter file\\EEG_process\\SE_train\\Z何富桂20220221_bias_0.fif) does not conform to MNE naming conventions. All raw files should end with raw.fif, raw_sss.fif, raw_tsss.fif, _meg.fif, _eeg.fif, _ieeg.fif, raw.fif.gz, raw_sss.fif.gz, raw_tsss.fif.gz, _meg.fif.gz, _eeg.fif.gz or _ieeg.fif.gz\n",
      "  raw.save(path_name,picks,start_time,end_time,overwrite=True)\n",
      "<ipython-input-24-63daf20ba1ee>:23: RuntimeWarning: This filename (E:\\jupyter file\\EEG_process\\SE_train\\Z何富桂20220225_bias_0.fif) does not conform to MNE naming conventions. All raw files should end with raw.fif, raw_sss.fif, raw_tsss.fif, _meg.fif, _eeg.fif, _ieeg.fif, raw.fif.gz, raw_sss.fif.gz, raw_tsss.fif.gz, _meg.fif.gz, _eeg.fif.gz or _ieeg.fif.gz\n",
      "  raw.save(path_name,picks,start_time,end_time,overwrite=True)\n"
     ]
    },
    {
     "name": "stdout",
     "output_type": "stream",
     "text": [
      "..\\SE_train\\Z何富桂20220225_bias_0.fif\n",
      "Writing E:\\jupyter file\\EEG_process\\SE_train\\Z何富桂20220225_bias_0.fif\n",
      "Closing E:\\jupyter file\\EEG_process\\SE_train\\Z何富桂20220225_bias_0.fif\n",
      "[done]\n",
      "Extracting EDF parameters from E:\\jupyter file\\EEG_process\\patient_data\\治疗脑电（第一批次）\\Z何富桂20220228.edf...\n",
      "EDF file detected\n",
      "Setting channel info structure...\n",
      "Creating raw.info structure...\n",
      "Used Annotations descriptions: ['File Create', 'Recording ends', 'Recording starts', 'SE', 'end', 'start']\n",
      "Extracting EDF parameters from E:\\jupyter file\\EEG_process\\patient_data\\治疗脑电（第一批次）\\Z何富桂20220228.edf...\n",
      "EDF file detected\n",
      "Setting channel info structure...\n",
      "Creating raw.info structure...\n",
      "Used Annotations descriptions: ['File Create', 'Recording ends', 'Recording starts', 'SE', 'end', 'start']\n",
      "10.33203125 + 18.33203125\n",
      "..\\SE_train\\Z何富桂20220228_bias_0.fif\n",
      "Writing E:\\jupyter file\\EEG_process\\SE_train\\Z何富桂20220228_bias_0.fif\n",
      "Closing E:\\jupyter file\\EEG_process\\SE_train\\Z何富桂20220228_bias_0.fif\n",
      "[done]\n",
      "Extracting EDF parameters from E:\\jupyter file\\EEG_process\\patient_data\\治疗脑电（第一批次）\\Z何富桂20220302.edf...\n",
      "EDF file detected\n",
      "Setting channel info structure...\n",
      "Creating raw.info structure...\n",
      "Used Annotations descriptions: ['File Create', 'Recording ends', 'Recording starts', 'SE', 'end', 'start']\n",
      "Extracting EDF parameters from E:\\jupyter file\\EEG_process\\patient_data\\治疗脑电（第一批次）\\Z何富桂20220302.edf...\n",
      "EDF file detected\n",
      "Setting channel info structure...\n",
      "Creating raw.info structure...\n",
      "Used Annotations descriptions: ['File Create', 'Recording ends', 'Recording starts', 'SE', 'end', 'start']\n",
      "130.6416015625 + 138.6416015625\n",
      "..\\SE_train\\Z何富桂20220302_bias_0.fif\n",
      "Writing E:\\jupyter file\\EEG_process\\SE_train\\Z何富桂20220302_bias_0.fif\n",
      "Closing E:\\jupyter file\\EEG_process\\SE_train\\Z何富桂20220302_bias_0.fif\n",
      "[done]\n",
      "Extracting EDF parameters from E:\\jupyter file\\EEG_process\\patient_data\\治疗脑电（第一批次）\\Z倪诗瑄20220311.edf...\n"
     ]
    },
    {
     "name": "stderr",
     "output_type": "stream",
     "text": [
      "<ipython-input-24-63daf20ba1ee>:23: RuntimeWarning: This filename (E:\\jupyter file\\EEG_process\\SE_train\\Z何富桂20220228_bias_0.fif) does not conform to MNE naming conventions. All raw files should end with raw.fif, raw_sss.fif, raw_tsss.fif, _meg.fif, _eeg.fif, _ieeg.fif, raw.fif.gz, raw_sss.fif.gz, raw_tsss.fif.gz, _meg.fif.gz, _eeg.fif.gz or _ieeg.fif.gz\n",
      "  raw.save(path_name,picks,start_time,end_time,overwrite=True)\n",
      "<ipython-input-24-63daf20ba1ee>:23: RuntimeWarning: This filename (E:\\jupyter file\\EEG_process\\SE_train\\Z何富桂20220302_bias_0.fif) does not conform to MNE naming conventions. All raw files should end with raw.fif, raw_sss.fif, raw_tsss.fif, _meg.fif, _eeg.fif, _ieeg.fif, raw.fif.gz, raw_sss.fif.gz, raw_tsss.fif.gz, _meg.fif.gz, _eeg.fif.gz or _ieeg.fif.gz\n",
      "  raw.save(path_name,picks,start_time,end_time,overwrite=True)\n"
     ]
    },
    {
     "name": "stdout",
     "output_type": "stream",
     "text": [
      "EDF file detected\n",
      "Setting channel info structure...\n",
      "Creating raw.info structure...\n",
      "Used Annotations descriptions: ['File Create', 'Recording ends', 'Recording starts', 'SE', 'end', 'start']\n",
      "Extracting EDF parameters from E:\\jupyter file\\EEG_process\\patient_data\\治疗脑电（第一批次）\\Z倪诗瑄20220311.edf...\n",
      "EDF file detected\n",
      "Setting channel info structure...\n",
      "Creating raw.info structure...\n",
      "Used Annotations descriptions: ['File Create', 'Recording ends', 'Recording starts', 'SE', 'end', 'start']\n",
      "2.583984375 + 10.583984375\n",
      "..\\SE_train\\Z倪诗瑄20220311_bias_0.fif\n",
      "Writing E:\\jupyter file\\EEG_process\\SE_train\\Z倪诗瑄20220311_bias_0.fif\n",
      "Closing E:\\jupyter file\\EEG_process\\SE_train\\Z倪诗瑄20220311_bias_0.fif\n",
      "[done]\n",
      "Extracting EDF parameters from E:\\jupyter file\\EEG_process\\patient_data\\治疗脑电（第一批次）\\Z倪诗瑄20220314.edf...\n",
      "EDF file detected\n",
      "Setting channel info structure...\n",
      "Creating raw.info structure...\n",
      "Used Annotations descriptions: ['File Create', 'Recording ends', 'Recording starts', 'SE', 'end', 'start']\n",
      "Extracting EDF parameters from E:\\jupyter file\\EEG_process\\patient_data\\治疗脑电（第一批次）\\Z倪诗瑄20220314.edf...\n",
      "EDF file detected\n",
      "Setting channel info structure...\n",
      "Creating raw.info structure...\n",
      "Used Annotations descriptions: ['File Create', 'Recording ends', 'Recording starts', 'SE', 'end', 'start']\n",
      "110.263671875 + 118.263671875\n",
      "..\\SE_train\\Z倪诗瑄20220314_bias_0.fif\n",
      "Writing E:\\jupyter file\\EEG_process\\SE_train\\Z倪诗瑄20220314_bias_0.fif\n",
      "Closing E:\\jupyter file\\EEG_process\\SE_train\\Z倪诗瑄20220314_bias_0.fif\n"
     ]
    },
    {
     "name": "stderr",
     "output_type": "stream",
     "text": [
      "<ipython-input-24-63daf20ba1ee>:23: RuntimeWarning: This filename (E:\\jupyter file\\EEG_process\\SE_train\\Z倪诗瑄20220311_bias_0.fif) does not conform to MNE naming conventions. All raw files should end with raw.fif, raw_sss.fif, raw_tsss.fif, _meg.fif, _eeg.fif, _ieeg.fif, raw.fif.gz, raw_sss.fif.gz, raw_tsss.fif.gz, _meg.fif.gz, _eeg.fif.gz or _ieeg.fif.gz\n",
      "  raw.save(path_name,picks,start_time,end_time,overwrite=True)\n",
      "<ipython-input-24-63daf20ba1ee>:23: RuntimeWarning: This filename (E:\\jupyter file\\EEG_process\\SE_train\\Z倪诗瑄20220314_bias_0.fif) does not conform to MNE naming conventions. All raw files should end with raw.fif, raw_sss.fif, raw_tsss.fif, _meg.fif, _eeg.fif, _ieeg.fif, raw.fif.gz, raw_sss.fif.gz, raw_tsss.fif.gz, _meg.fif.gz, _eeg.fif.gz or _ieeg.fif.gz\n",
      "  raw.save(path_name,picks,start_time,end_time,overwrite=True)\n"
     ]
    },
    {
     "name": "stdout",
     "output_type": "stream",
     "text": [
      "[done]\n",
      "Extracting EDF parameters from E:\\jupyter file\\EEG_process\\patient_data\\治疗脑电（第一批次）\\Z倪诗瑄20220316.edf...\n",
      "EDF file detected\n",
      "Setting channel info structure...\n",
      "Creating raw.info structure...\n",
      "Used Annotations descriptions: ['File Create', 'Recording ends', 'Recording starts', 'SE', 'end', 'start']\n",
      "Extracting EDF parameters from E:\\jupyter file\\EEG_process\\patient_data\\治疗脑电（第一批次）\\Z倪诗瑄20220316.edf...\n",
      "EDF file detected\n",
      "Setting channel info structure...\n",
      "Creating raw.info structure...\n",
      "Used Annotations descriptions: ['File Create', 'Recording ends', 'Recording starts', 'SE', 'end', 'start']\n",
      "129.0712890625 + 137.0712890625\n",
      "..\\SE_train\\Z倪诗瑄20220316_bias_0.fif\n",
      "Writing E:\\jupyter file\\EEG_process\\SE_train\\Z倪诗瑄20220316_bias_0.fif\n",
      "Closing E:\\jupyter file\\EEG_process\\SE_train\\Z倪诗瑄20220316_bias_0.fif\n",
      "[done]\n",
      "Extracting EDF parameters from E:\\jupyter file\\EEG_process\\patient_data\\治疗脑电（第一批次）\\Z倪诗瑄20220318.edf...\n",
      "EDF file detected\n",
      "Setting channel info structure...\n",
      "Creating raw.info structure...\n",
      "Used Annotations descriptions: ['File Create', 'Recording ends', 'Recording starts', 'SE', 'end', 'start']\n",
      "Extracting EDF parameters from E:\\jupyter file\\EEG_process\\patient_data\\治疗脑电（第一批次）\\Z倪诗瑄20220318.edf...\n",
      "EDF file detected\n",
      "Setting channel info structure...\n",
      "Creating raw.info structure...\n",
      "Used Annotations descriptions: ['File Create', 'Recording ends', 'Recording starts', 'SE', 'end', 'start']\n",
      "28.587890625 + 36.587890625\n",
      "..\\SE_train\\Z倪诗瑄20220318_bias_0.fif\n",
      "Writing E:\\jupyter file\\EEG_process\\SE_train\\Z倪诗瑄20220318_bias_0.fif\n",
      "Closing E:\\jupyter file\\EEG_process\\SE_train\\Z倪诗瑄20220318_bias_0.fif\n"
     ]
    },
    {
     "name": "stderr",
     "output_type": "stream",
     "text": [
      "<ipython-input-24-63daf20ba1ee>:23: RuntimeWarning: This filename (E:\\jupyter file\\EEG_process\\SE_train\\Z倪诗瑄20220316_bias_0.fif) does not conform to MNE naming conventions. All raw files should end with raw.fif, raw_sss.fif, raw_tsss.fif, _meg.fif, _eeg.fif, _ieeg.fif, raw.fif.gz, raw_sss.fif.gz, raw_tsss.fif.gz, _meg.fif.gz, _eeg.fif.gz or _ieeg.fif.gz\n",
      "  raw.save(path_name,picks,start_time,end_time,overwrite=True)\n",
      "<ipython-input-24-63daf20ba1ee>:23: RuntimeWarning: This filename (E:\\jupyter file\\EEG_process\\SE_train\\Z倪诗瑄20220318_bias_0.fif) does not conform to MNE naming conventions. All raw files should end with raw.fif, raw_sss.fif, raw_tsss.fif, _meg.fif, _eeg.fif, _ieeg.fif, raw.fif.gz, raw_sss.fif.gz, raw_tsss.fif.gz, _meg.fif.gz, _eeg.fif.gz or _ieeg.fif.gz\n",
      "  raw.save(path_name,picks,start_time,end_time,overwrite=True)\n"
     ]
    },
    {
     "name": "stdout",
     "output_type": "stream",
     "text": [
      "[done]\n",
      "Extracting EDF parameters from E:\\jupyter file\\EEG_process\\patient_data\\治疗脑电（第一批次）\\Z刘世清20220309.edf...\n",
      "EDF file detected\n",
      "Setting channel info structure...\n",
      "Creating raw.info structure...\n",
      "Used Annotations descriptions: ['File Create', 'Recording ends', 'Recording starts', 'SE', 'end', 'start']\n",
      "Extracting EDF parameters from E:\\jupyter file\\EEG_process\\patient_data\\治疗脑电（第一批次）\\Z刘世清20220309.edf...\n",
      "EDF file detected\n",
      "Setting channel info structure...\n",
      "Creating raw.info structure...\n",
      "Used Annotations descriptions: ['File Create', 'Recording ends', 'Recording starts', 'SE', 'end', 'start']\n",
      "71.154296875 + 79.154296875\n",
      "..\\SE_train\\Z刘世清20220309_bias_0.fif\n",
      "Writing E:\\jupyter file\\EEG_process\\SE_train\\Z刘世清20220309_bias_0.fif\n",
      "Closing E:\\jupyter file\\EEG_process\\SE_train\\Z刘世清20220309_bias_0.fif\n",
      "[done]\n",
      "Extracting EDF parameters from E:\\jupyter file\\EEG_process\\patient_data\\治疗脑电（第一批次）\\Z刘世清20220311.edf...\n",
      "EDF file detected\n",
      "Setting channel info structure...\n",
      "Creating raw.info structure...\n",
      "Used Annotations descriptions: ['File Create', 'Recording ends', 'Recording starts', 'SE', 'end', 'start']\n",
      "Extracting EDF parameters from E:\\jupyter file\\EEG_process\\patient_data\\治疗脑电（第一批次）\\Z刘世清20220311.edf...\n",
      "EDF file detected\n",
      "Setting channel info structure...\n",
      "Creating raw.info structure...\n",
      "Used Annotations descriptions: ['File Create', 'Recording ends', 'Recording starts', 'SE', 'end', 'start']\n",
      "38.103515625 + 46.103515625\n",
      "..\\SE_train\\Z刘世清20220311_bias_0.fif\n",
      "Writing E:\\jupyter file\\EEG_process\\SE_train\\Z刘世清20220311_bias_0.fif\n",
      "Closing E:\\jupyter file\\EEG_process\\SE_train\\Z刘世清20220311_bias_0.fif\n",
      "[done]\n",
      "Extracting EDF parameters from E:\\jupyter file\\EEG_process\\patient_data\\治疗脑电（第一批次）\\Z刘世清20220314（未发作）.edf...\n",
      "EDF file detected\n",
      "Setting channel info structure...\n",
      "Creating raw.info structure...\n"
     ]
    },
    {
     "name": "stderr",
     "output_type": "stream",
     "text": [
      "<ipython-input-24-63daf20ba1ee>:23: RuntimeWarning: This filename (E:\\jupyter file\\EEG_process\\SE_train\\Z刘世清20220309_bias_0.fif) does not conform to MNE naming conventions. All raw files should end with raw.fif, raw_sss.fif, raw_tsss.fif, _meg.fif, _eeg.fif, _ieeg.fif, raw.fif.gz, raw_sss.fif.gz, raw_tsss.fif.gz, _meg.fif.gz, _eeg.fif.gz or _ieeg.fif.gz\n",
      "  raw.save(path_name,picks,start_time,end_time,overwrite=True)\n",
      "<ipython-input-24-63daf20ba1ee>:23: RuntimeWarning: This filename (E:\\jupyter file\\EEG_process\\SE_train\\Z刘世清20220311_bias_0.fif) does not conform to MNE naming conventions. All raw files should end with raw.fif, raw_sss.fif, raw_tsss.fif, _meg.fif, _eeg.fif, _ieeg.fif, raw.fif.gz, raw_sss.fif.gz, raw_tsss.fif.gz, _meg.fif.gz, _eeg.fif.gz or _ieeg.fif.gz\n",
      "  raw.save(path_name,picks,start_time,end_time,overwrite=True)\n"
     ]
    },
    {
     "name": "stdout",
     "output_type": "stream",
     "text": [
      "Used Annotations descriptions: ['File Create', 'Recording ends', 'Recording starts', 'SE']\n",
      "Extracting EDF parameters from E:\\jupyter file\\EEG_process\\patient_data\\治疗脑电（第一批次）\\Z刘世清20220314（未发作）.edf...\n",
      "EDF file detected\n",
      "Setting channel info structure...\n",
      "Creating raw.info structure...\n",
      "Used Annotations descriptions: ['File Create', 'Recording ends', 'Recording starts', 'SE']\n",
      "557.830078125 + 565.830078125\n",
      "..\\SE_train\\Z刘世清20220314（未发作）_bias_0.fif\n",
      "Writing E:\\jupyter file\\EEG_process\\SE_train\\Z刘世清20220314（未发作）_bias_0.fif\n",
      "Closing E:\\jupyter file\\EEG_process\\SE_train\\Z刘世清20220314（未发作）_bias_0.fif\n",
      "[done]\n",
      "Extracting EDF parameters from E:\\jupyter file\\EEG_process\\patient_data\\治疗脑电（第一批次）\\Z刘世清20220314（未发作）.edf...\n",
      "EDF file detected\n",
      "Setting channel info structure...\n",
      "Creating raw.info structure...\n",
      "Used Annotations descriptions: ['File Create', 'Recording ends', 'Recording starts', 'SE']\n",
      "565.830078125 + 581.830078125\n"
     ]
    },
    {
     "name": "stderr",
     "output_type": "stream",
     "text": [
      "<ipython-input-24-63daf20ba1ee>:23: RuntimeWarning: This filename (E:\\jupyter file\\EEG_process\\SE_train\\Z刘世清20220314（未发作）_bias_0.fif) does not conform to MNE naming conventions. All raw files should end with raw.fif, raw_sss.fif, raw_tsss.fif, _meg.fif, _eeg.fif, _ieeg.fif, raw.fif.gz, raw_sss.fif.gz, raw_tsss.fif.gz, _meg.fif.gz, _eeg.fif.gz or _ieeg.fif.gz\n",
      "  raw.save(path_name,picks,start_time,end_time,overwrite=True)\n"
     ]
    },
    {
     "name": "stdout",
     "output_type": "stream",
     "text": [
      "..\\SE_train\\Z刘世清20220314（未发作）_bias_8.fif\n",
      "Writing E:\\jupyter file\\EEG_process\\SE_train\\Z刘世清20220314（未发作）_bias_8.fif\n",
      "Closing E:\\jupyter file\\EEG_process\\SE_train\\Z刘世清20220314（未发作）_bias_8.fif\n",
      "[done]\n",
      "Extracting EDF parameters from E:\\jupyter file\\EEG_process\\patient_data\\治疗脑电（第一批次）\\Z刘世清20220314（未发作）.edf...\n",
      "EDF file detected\n",
      "Setting channel info structure...\n",
      "Creating raw.info structure...\n",
      "Used Annotations descriptions: ['File Create', 'Recording ends', 'Recording starts', 'SE']\n"
     ]
    },
    {
     "name": "stderr",
     "output_type": "stream",
     "text": [
      "<ipython-input-24-63daf20ba1ee>:23: RuntimeWarning: This filename (E:\\jupyter file\\EEG_process\\SE_train\\Z刘世清20220314（未发作）_bias_8.fif) does not conform to MNE naming conventions. All raw files should end with raw.fif, raw_sss.fif, raw_tsss.fif, _meg.fif, _eeg.fif, _ieeg.fif, raw.fif.gz, raw_sss.fif.gz, raw_tsss.fif.gz, _meg.fif.gz, _eeg.fif.gz or _ieeg.fif.gz\n",
      "  raw.save(path_name,picks,start_time,end_time,overwrite=True)\n"
     ]
    },
    {
     "name": "stdout",
     "output_type": "stream",
     "text": [
      "573.830078125 + 589.830078125\n",
      "..\\SE_train\\Z刘世清20220314（未发作）_bias_16.fif\n",
      "Writing E:\\jupyter file\\EEG_process\\SE_train\\Z刘世清20220314（未发作）_bias_16.fif\n",
      "Closing E:\\jupyter file\\EEG_process\\SE_train\\Z刘世清20220314（未发作）_bias_16.fif\n",
      "[done]\n",
      "Extracting EDF parameters from E:\\jupyter file\\EEG_process\\patient_data\\治疗脑电（第一批次）\\Z刘世清20220314（未发作）.edf...\n",
      "EDF file detected\n",
      "Setting channel info structure...\n",
      "Creating raw.info structure...\n",
      "Used Annotations descriptions: ['File Create', 'Recording ends', 'Recording starts', 'SE']\n"
     ]
    },
    {
     "name": "stderr",
     "output_type": "stream",
     "text": [
      "<ipython-input-24-63daf20ba1ee>:23: RuntimeWarning: This filename (E:\\jupyter file\\EEG_process\\SE_train\\Z刘世清20220314（未发作）_bias_16.fif) does not conform to MNE naming conventions. All raw files should end with raw.fif, raw_sss.fif, raw_tsss.fif, _meg.fif, _eeg.fif, _ieeg.fif, raw.fif.gz, raw_sss.fif.gz, raw_tsss.fif.gz, _meg.fif.gz, _eeg.fif.gz or _ieeg.fif.gz\n",
      "  raw.save(path_name,picks,start_time,end_time,overwrite=True)\n"
     ]
    },
    {
     "name": "stdout",
     "output_type": "stream",
     "text": [
      "581.830078125 + 597.830078125\n",
      "..\\SE_train\\Z刘世清20220314（未发作）_bias_24.fif\n",
      "Writing E:\\jupyter file\\EEG_process\\SE_train\\Z刘世清20220314（未发作）_bias_24.fif\n",
      "Closing E:\\jupyter file\\EEG_process\\SE_train\\Z刘世清20220314（未发作）_bias_24.fif\n",
      "[done]\n",
      "Extracting EDF parameters from E:\\jupyter file\\EEG_process\\patient_data\\治疗脑电（第一批次）\\Z刘世清20220314（未发作）.edf...\n",
      "EDF file detected\n",
      "Setting channel info structure...\n",
      "Creating raw.info structure...\n",
      "Used Annotations descriptions: ['File Create', 'Recording ends', 'Recording starts', 'SE']\n",
      "589.830078125 + 605.830078125\n"
     ]
    },
    {
     "name": "stderr",
     "output_type": "stream",
     "text": [
      "<ipython-input-24-63daf20ba1ee>:23: RuntimeWarning: This filename (E:\\jupyter file\\EEG_process\\SE_train\\Z刘世清20220314（未发作）_bias_24.fif) does not conform to MNE naming conventions. All raw files should end with raw.fif, raw_sss.fif, raw_tsss.fif, _meg.fif, _eeg.fif, _ieeg.fif, raw.fif.gz, raw_sss.fif.gz, raw_tsss.fif.gz, _meg.fif.gz, _eeg.fif.gz or _ieeg.fif.gz\n",
      "  raw.save(path_name,picks,start_time,end_time,overwrite=True)\n"
     ]
    },
    {
     "name": "stdout",
     "output_type": "stream",
     "text": [
      "..\\SE_train\\Z刘世清20220314（未发作）_bias_32.fif\n",
      "Writing E:\\jupyter file\\EEG_process\\SE_train\\Z刘世清20220314（未发作）_bias_32.fif\n",
      "Closing E:\\jupyter file\\EEG_process\\SE_train\\Z刘世清20220314（未发作）_bias_32.fif\n",
      "[done]\n",
      "Extracting EDF parameters from E:\\jupyter file\\EEG_process\\patient_data\\治疗脑电（第一批次）\\Z刘世清20220314（未发作）.edf...\n",
      "EDF file detected\n",
      "Setting channel info structure...\n",
      "Creating raw.info structure...\n",
      "Used Annotations descriptions: ['File Create', 'Recording ends', 'Recording starts', 'SE']\n"
     ]
    },
    {
     "name": "stderr",
     "output_type": "stream",
     "text": [
      "<ipython-input-24-63daf20ba1ee>:23: RuntimeWarning: This filename (E:\\jupyter file\\EEG_process\\SE_train\\Z刘世清20220314（未发作）_bias_32.fif) does not conform to MNE naming conventions. All raw files should end with raw.fif, raw_sss.fif, raw_tsss.fif, _meg.fif, _eeg.fif, _ieeg.fif, raw.fif.gz, raw_sss.fif.gz, raw_tsss.fif.gz, _meg.fif.gz, _eeg.fif.gz or _ieeg.fif.gz\n",
      "  raw.save(path_name,picks,start_time,end_time,overwrite=True)\n"
     ]
    },
    {
     "name": "stdout",
     "output_type": "stream",
     "text": [
      "597.830078125 + 613.830078125\n",
      "..\\SE_train\\Z刘世清20220314（未发作）_bias_40.fif\n",
      "Writing E:\\jupyter file\\EEG_process\\SE_train\\Z刘世清20220314（未发作）_bias_40.fif\n",
      "Closing E:\\jupyter file\\EEG_process\\SE_train\\Z刘世清20220314（未发作）_bias_40.fif\n",
      "[done]\n",
      "Extracting EDF parameters from E:\\jupyter file\\EEG_process\\patient_data\\治疗脑电（第一批次）\\Z刘世清20220316.edf...\n",
      "EDF file detected\n",
      "Setting channel info structure...\n",
      "Creating raw.info structure...\n",
      "Used Annotations descriptions: ['File Create', 'Recording ends', 'Recording starts', 'SE', 'end', 'start']\n",
      "Extracting EDF parameters from E:\\jupyter file\\EEG_process\\patient_data\\治疗脑电（第一批次）\\Z刘世清20220316.edf...\n",
      "EDF file detected\n",
      "Setting channel info structure...\n",
      "Creating raw.info structure...\n",
      "Used Annotations descriptions: ['File Create', 'Recording ends', 'Recording starts', 'SE', 'end', 'start']\n",
      "45.0625 + 53.0625\n",
      "..\\SE_train\\Z刘世清20220316_bias_0.fif\n",
      "Writing E:\\jupyter file\\EEG_process\\SE_train\\Z刘世清20220316_bias_0.fif\n",
      "Closing E:\\jupyter file\\EEG_process\\SE_train\\Z刘世清20220316_bias_0.fif\n",
      "[done]\n",
      "Extracting EDF parameters from E:\\jupyter file\\EEG_process\\patient_data\\治疗脑电（第一批次）\\Z刘家瑞20220225.edf...\n",
      "EDF file detected\n",
      "Setting channel info structure...\n",
      "Creating raw.info structure...\n",
      "Used Annotations descriptions: ['File Create', 'Recording ends', 'Recording starts', 'SE', 'end', 'start']\n"
     ]
    },
    {
     "name": "stderr",
     "output_type": "stream",
     "text": [
      "<ipython-input-24-63daf20ba1ee>:23: RuntimeWarning: This filename (E:\\jupyter file\\EEG_process\\SE_train\\Z刘世清20220314（未发作）_bias_40.fif) does not conform to MNE naming conventions. All raw files should end with raw.fif, raw_sss.fif, raw_tsss.fif, _meg.fif, _eeg.fif, _ieeg.fif, raw.fif.gz, raw_sss.fif.gz, raw_tsss.fif.gz, _meg.fif.gz, _eeg.fif.gz or _ieeg.fif.gz\n",
      "  raw.save(path_name,picks,start_time,end_time,overwrite=True)\n",
      "<ipython-input-24-63daf20ba1ee>:23: RuntimeWarning: This filename (E:\\jupyter file\\EEG_process\\SE_train\\Z刘世清20220316_bias_0.fif) does not conform to MNE naming conventions. All raw files should end with raw.fif, raw_sss.fif, raw_tsss.fif, _meg.fif, _eeg.fif, _ieeg.fif, raw.fif.gz, raw_sss.fif.gz, raw_tsss.fif.gz, _meg.fif.gz, _eeg.fif.gz or _ieeg.fif.gz\n",
      "  raw.save(path_name,picks,start_time,end_time,overwrite=True)\n"
     ]
    },
    {
     "name": "stdout",
     "output_type": "stream",
     "text": [
      "Extracting EDF parameters from E:\\jupyter file\\EEG_process\\patient_data\\治疗脑电（第一批次）\\Z刘家瑞20220225.edf...\n",
      "EDF file detected\n",
      "Setting channel info structure...\n",
      "Creating raw.info structure...\n",
      "Used Annotations descriptions: ['File Create', 'Recording ends', 'Recording starts', 'SE', 'end', 'start']\n",
      "163.6767578125 + 171.6767578125\n",
      "..\\SE_train\\Z刘家瑞20220225_bias_0.fif\n",
      "Writing E:\\jupyter file\\EEG_process\\SE_train\\Z刘家瑞20220225_bias_0.fif\n",
      "Closing E:\\jupyter file\\EEG_process\\SE_train\\Z刘家瑞20220225_bias_0.fif\n",
      "[done]\n",
      "Extracting EDF parameters from E:\\jupyter file\\EEG_process\\patient_data\\治疗脑电（第一批次）\\Z刘家瑞20220228.edf...\n",
      "EDF file detected\n",
      "Setting channel info structure...\n",
      "Creating raw.info structure...\n",
      "Used Annotations descriptions: ['File Create', 'Recording ends', 'Recording starts', 'SE', 'end', 'start']\n",
      "Extracting EDF parameters from E:\\jupyter file\\EEG_process\\patient_data\\治疗脑电（第一批次）\\Z刘家瑞20220228.edf...\n",
      "EDF file detected\n",
      "Setting channel info structure...\n",
      "Creating raw.info structure...\n",
      "Used Annotations descriptions: ['File Create', 'Recording ends', 'Recording starts', 'SE', 'end', 'start']\n",
      "109.78125 + 117.78125\n",
      "..\\SE_train\\Z刘家瑞20220228_bias_0.fif\n",
      "Writing E:\\jupyter file\\EEG_process\\SE_train\\Z刘家瑞20220228_bias_0.fif\n",
      "Closing E:\\jupyter file\\EEG_process\\SE_train\\Z刘家瑞20220228_bias_0.fif\n"
     ]
    },
    {
     "name": "stderr",
     "output_type": "stream",
     "text": [
      "<ipython-input-24-63daf20ba1ee>:23: RuntimeWarning: This filename (E:\\jupyter file\\EEG_process\\SE_train\\Z刘家瑞20220225_bias_0.fif) does not conform to MNE naming conventions. All raw files should end with raw.fif, raw_sss.fif, raw_tsss.fif, _meg.fif, _eeg.fif, _ieeg.fif, raw.fif.gz, raw_sss.fif.gz, raw_tsss.fif.gz, _meg.fif.gz, _eeg.fif.gz or _ieeg.fif.gz\n",
      "  raw.save(path_name,picks,start_time,end_time,overwrite=True)\n",
      "<ipython-input-24-63daf20ba1ee>:23: RuntimeWarning: This filename (E:\\jupyter file\\EEG_process\\SE_train\\Z刘家瑞20220228_bias_0.fif) does not conform to MNE naming conventions. All raw files should end with raw.fif, raw_sss.fif, raw_tsss.fif, _meg.fif, _eeg.fif, _ieeg.fif, raw.fif.gz, raw_sss.fif.gz, raw_tsss.fif.gz, _meg.fif.gz, _eeg.fif.gz or _ieeg.fif.gz\n",
      "  raw.save(path_name,picks,start_time,end_time,overwrite=True)\n"
     ]
    },
    {
     "name": "stdout",
     "output_type": "stream",
     "text": [
      "[done]\n",
      "Extracting EDF parameters from E:\\jupyter file\\EEG_process\\patient_data\\治疗脑电（第一批次）\\Z刘家瑞20220302.edf...\n",
      "EDF file detected\n",
      "Setting channel info structure...\n",
      "Creating raw.info structure...\n",
      "Used Annotations descriptions: ['File Create', 'Recording ends', 'Recording starts', 'SE', 'end', 'start']\n",
      "Extracting EDF parameters from E:\\jupyter file\\EEG_process\\patient_data\\治疗脑电（第一批次）\\Z刘家瑞20220302.edf...\n",
      "EDF file detected\n",
      "Setting channel info structure...\n",
      "Creating raw.info structure...\n",
      "Used Annotations descriptions: ['File Create', 'Recording ends', 'Recording starts', 'SE', 'end', 'start']\n",
      "45.271484375 + 53.271484375\n",
      "..\\SE_train\\Z刘家瑞20220302_bias_0.fif\n",
      "Writing E:\\jupyter file\\EEG_process\\SE_train\\Z刘家瑞20220302_bias_0.fif\n",
      "Closing E:\\jupyter file\\EEG_process\\SE_train\\Z刘家瑞20220302_bias_0.fif\n",
      "[done]\n",
      "Extracting EDF parameters from E:\\jupyter file\\EEG_process\\patient_data\\治疗脑电（第一批次）\\Z刘家瑞20220304.edf...\n",
      "EDF file detected\n",
      "Setting channel info structure...\n",
      "Creating raw.info structure...\n",
      "Used Annotations descriptions: ['File Create', 'Recording ends', 'Recording starts', 'start']\n",
      "Extracting EDF parameters from E:\\jupyter file\\EEG_process\\patient_data\\治疗脑电（第一批次）\\Z周小凯20220314.edf...\n",
      "EDF file detected\n",
      "Setting channel info structure...\n",
      "Creating raw.info structure...\n",
      "Used Annotations descriptions: ['File Create', 'Recording ends', 'Recording starts', 'SE', 'Â¼Â¡Ã\\x95Ã³Ã\\x82']\n",
      "Extracting EDF parameters from E:\\jupyter file\\EEG_process\\patient_data\\治疗脑电（第一批次）\\Z周小凯20220314.edf...\n",
      "EDF file detected\n",
      "Setting channel info structure...\n",
      "Creating raw.info structure...\n",
      "Used Annotations descriptions: ['File Create', 'Recording ends', 'Recording starts', 'SE', 'Â¼Â¡Ã\\x95Ã³Ã\\x82']\n",
      "144.3564453125 + 152.3564453125\n"
     ]
    },
    {
     "name": "stderr",
     "output_type": "stream",
     "text": [
      "<ipython-input-24-63daf20ba1ee>:23: RuntimeWarning: This filename (E:\\jupyter file\\EEG_process\\SE_train\\Z刘家瑞20220302_bias_0.fif) does not conform to MNE naming conventions. All raw files should end with raw.fif, raw_sss.fif, raw_tsss.fif, _meg.fif, _eeg.fif, _ieeg.fif, raw.fif.gz, raw_sss.fif.gz, raw_tsss.fif.gz, _meg.fif.gz, _eeg.fif.gz or _ieeg.fif.gz\n",
      "  raw.save(path_name,picks,start_time,end_time,overwrite=True)\n"
     ]
    },
    {
     "name": "stdout",
     "output_type": "stream",
     "text": [
      "..\\SE_train\\Z周小凯20220314_bias_0.fif\n",
      "Writing E:\\jupyter file\\EEG_process\\SE_train\\Z周小凯20220314_bias_0.fif\n",
      "Closing E:\\jupyter file\\EEG_process\\SE_train\\Z周小凯20220314_bias_0.fif\n",
      "[done]\n",
      "Extracting EDF parameters from E:\\jupyter file\\EEG_process\\patient_data\\治疗脑电（第一批次）\\Z周小凯20220316.edf...\n",
      "EDF file detected\n",
      "Setting channel info structure...\n",
      "Creating raw.info structure...\n",
      "Used Annotations descriptions: ['File Create', 'Recording ends', 'Recording starts', 'SE', 'end', 'start']\n",
      "Extracting EDF parameters from E:\\jupyter file\\EEG_process\\patient_data\\治疗脑电（第一批次）\\Z周小凯20220316.edf...\n",
      "EDF file detected\n",
      "Setting channel info structure...\n",
      "Creating raw.info structure...\n",
      "Used Annotations descriptions: ['File Create', 'Recording ends', 'Recording starts', 'SE', 'end', 'start']\n",
      "99.0732421875 + 107.0732421875\n",
      "..\\SE_train\\Z周小凯20220316_bias_0.fif\n",
      "Writing E:\\jupyter file\\EEG_process\\SE_train\\Z周小凯20220316_bias_0.fif\n",
      "Closing E:\\jupyter file\\EEG_process\\SE_train\\Z周小凯20220316_bias_0.fif\n",
      "[done]\n",
      "Extracting EDF parameters from E:\\jupyter file\\EEG_process\\patient_data\\治疗脑电（第一批次）\\Z周小凯20220318.edf...\n"
     ]
    },
    {
     "name": "stderr",
     "output_type": "stream",
     "text": [
      "<ipython-input-24-63daf20ba1ee>:23: RuntimeWarning: This filename (E:\\jupyter file\\EEG_process\\SE_train\\Z周小凯20220314_bias_0.fif) does not conform to MNE naming conventions. All raw files should end with raw.fif, raw_sss.fif, raw_tsss.fif, _meg.fif, _eeg.fif, _ieeg.fif, raw.fif.gz, raw_sss.fif.gz, raw_tsss.fif.gz, _meg.fif.gz, _eeg.fif.gz or _ieeg.fif.gz\n",
      "  raw.save(path_name,picks,start_time,end_time,overwrite=True)\n",
      "<ipython-input-24-63daf20ba1ee>:23: RuntimeWarning: This filename (E:\\jupyter file\\EEG_process\\SE_train\\Z周小凯20220316_bias_0.fif) does not conform to MNE naming conventions. All raw files should end with raw.fif, raw_sss.fif, raw_tsss.fif, _meg.fif, _eeg.fif, _ieeg.fif, raw.fif.gz, raw_sss.fif.gz, raw_tsss.fif.gz, _meg.fif.gz, _eeg.fif.gz or _ieeg.fif.gz\n",
      "  raw.save(path_name,picks,start_time,end_time,overwrite=True)\n"
     ]
    },
    {
     "name": "stdout",
     "output_type": "stream",
     "text": [
      "EDF file detected\n",
      "Setting channel info structure...\n",
      "Creating raw.info structure...\n",
      "Used Annotations descriptions: ['File Create', 'Recording ends', 'Recording starts', 'SE', 'end', 'start']\n",
      "Extracting EDF parameters from E:\\jupyter file\\EEG_process\\patient_data\\治疗脑电（第一批次）\\Z周小凯20220318.edf...\n",
      "EDF file detected\n",
      "Setting channel info structure...\n",
      "Creating raw.info structure...\n",
      "Used Annotations descriptions: ['File Create', 'Recording ends', 'Recording starts', 'SE', 'end', 'start']\n",
      "0.9716796875 + 8.9716796875\n",
      "..\\SE_train\\Z周小凯20220318_bias_0.fif\n",
      "Writing E:\\jupyter file\\EEG_process\\SE_train\\Z周小凯20220318_bias_0.fif\n",
      "Closing E:\\jupyter file\\EEG_process\\SE_train\\Z周小凯20220318_bias_0.fif\n",
      "[done]\n",
      "Extracting EDF parameters from E:\\jupyter file\\EEG_process\\patient_data\\治疗脑电（第一批次）\\Z周小凯20220321.edf...\n",
      "EDF file detected\n",
      "Setting channel info structure...\n",
      "Creating raw.info structure...\n",
      "Used Annotations descriptions: ['File Create', 'Recording ends', 'Recording starts', 'SE', 'end', 'start']\n",
      "Extracting EDF parameters from E:\\jupyter file\\EEG_process\\patient_data\\治疗脑电（第一批次）\\Z周小凯20220321.edf...\n",
      "EDF file detected\n",
      "Setting channel info structure...\n",
      "Creating raw.info structure...\n",
      "Used Annotations descriptions: ['File Create', 'Recording ends', 'Recording starts', 'SE', 'end', 'start']\n",
      "60.3173828125 + 68.3173828125\n",
      "..\\SE_train\\Z周小凯20220321_bias_0.fif\n",
      "Writing E:\\jupyter file\\EEG_process\\SE_train\\Z周小凯20220321_bias_0.fif\n",
      "Closing E:\\jupyter file\\EEG_process\\SE_train\\Z周小凯20220321_bias_0.fif\n",
      "[done]\n",
      "Extracting EDF parameters from E:\\jupyter file\\EEG_process\\patient_data\\治疗脑电（第一批次）\\Z孙彭辉20220225.edf...\n",
      "EDF file detected\n",
      "Setting channel info structure...\n",
      "Creating raw.info structure...\n",
      "Used Annotations descriptions: ['File Create', 'Recording ends', 'Recording starts', 'SE', 'end', 'start']\n"
     ]
    },
    {
     "name": "stderr",
     "output_type": "stream",
     "text": [
      "<ipython-input-24-63daf20ba1ee>:23: RuntimeWarning: This filename (E:\\jupyter file\\EEG_process\\SE_train\\Z周小凯20220318_bias_0.fif) does not conform to MNE naming conventions. All raw files should end with raw.fif, raw_sss.fif, raw_tsss.fif, _meg.fif, _eeg.fif, _ieeg.fif, raw.fif.gz, raw_sss.fif.gz, raw_tsss.fif.gz, _meg.fif.gz, _eeg.fif.gz or _ieeg.fif.gz\n",
      "  raw.save(path_name,picks,start_time,end_time,overwrite=True)\n",
      "<ipython-input-24-63daf20ba1ee>:23: RuntimeWarning: This filename (E:\\jupyter file\\EEG_process\\SE_train\\Z周小凯20220321_bias_0.fif) does not conform to MNE naming conventions. All raw files should end with raw.fif, raw_sss.fif, raw_tsss.fif, _meg.fif, _eeg.fif, _ieeg.fif, raw.fif.gz, raw_sss.fif.gz, raw_tsss.fif.gz, _meg.fif.gz, _eeg.fif.gz or _ieeg.fif.gz\n",
      "  raw.save(path_name,picks,start_time,end_time,overwrite=True)\n"
     ]
    },
    {
     "name": "stdout",
     "output_type": "stream",
     "text": [
      "Extracting EDF parameters from E:\\jupyter file\\EEG_process\\patient_data\\治疗脑电（第一批次）\\Z孙彭辉20220225.edf...\n",
      "EDF file detected\n",
      "Setting channel info structure...\n",
      "Creating raw.info structure...\n",
      "Used Annotations descriptions: ['File Create', 'Recording ends', 'Recording starts', 'SE', 'end', 'start']\n",
      "38.7109375 + 46.7109375\n",
      "..\\SE_train\\Z孙彭辉20220225_bias_0.fif\n",
      "Writing E:\\jupyter file\\EEG_process\\SE_train\\Z孙彭辉20220225_bias_0.fif\n",
      "Closing E:\\jupyter file\\EEG_process\\SE_train\\Z孙彭辉20220225_bias_0.fif\n",
      "[done]\n",
      "Extracting EDF parameters from E:\\jupyter file\\EEG_process\\patient_data\\治疗脑电（第一批次）\\Z孙彭辉20220228.edf...\n",
      "EDF file detected\n",
      "Setting channel info structure...\n",
      "Creating raw.info structure...\n",
      "Used Annotations descriptions: ['File Create', 'Recording ends', 'Recording starts', 'SE', 'end', 'start']\n",
      "Extracting EDF parameters from E:\\jupyter file\\EEG_process\\patient_data\\治疗脑电（第一批次）\\Z孙彭辉20220228.edf...\n",
      "EDF file detected\n",
      "Setting channel info structure...\n",
      "Creating raw.info structure...\n",
      "Used Annotations descriptions: ['File Create', 'Recording ends', 'Recording starts', 'SE', 'end', 'start']\n",
      "103.71484375 + 111.71484375\n",
      "..\\SE_train\\Z孙彭辉20220228_bias_0.fif\n",
      "Writing E:\\jupyter file\\EEG_process\\SE_train\\Z孙彭辉20220228_bias_0.fif\n",
      "Closing E:\\jupyter file\\EEG_process\\SE_train\\Z孙彭辉20220228_bias_0.fif\n",
      "[done]\n",
      "Extracting EDF parameters from E:\\jupyter file\\EEG_process\\patient_data\\治疗脑电（第一批次）\\Z孙彭辉20220302.edf...\n",
      "EDF file detected\n",
      "Setting channel info structure...\n",
      "Creating raw.info structure...\n",
      "Used Annotations descriptions: ['File Create', 'Recording ends', 'Recording starts', 'SE', 'end', 'start']\n"
     ]
    },
    {
     "name": "stderr",
     "output_type": "stream",
     "text": [
      "<ipython-input-24-63daf20ba1ee>:23: RuntimeWarning: This filename (E:\\jupyter file\\EEG_process\\SE_train\\Z孙彭辉20220225_bias_0.fif) does not conform to MNE naming conventions. All raw files should end with raw.fif, raw_sss.fif, raw_tsss.fif, _meg.fif, _eeg.fif, _ieeg.fif, raw.fif.gz, raw_sss.fif.gz, raw_tsss.fif.gz, _meg.fif.gz, _eeg.fif.gz or _ieeg.fif.gz\n",
      "  raw.save(path_name,picks,start_time,end_time,overwrite=True)\n",
      "<ipython-input-24-63daf20ba1ee>:23: RuntimeWarning: This filename (E:\\jupyter file\\EEG_process\\SE_train\\Z孙彭辉20220228_bias_0.fif) does not conform to MNE naming conventions. All raw files should end with raw.fif, raw_sss.fif, raw_tsss.fif, _meg.fif, _eeg.fif, _ieeg.fif, raw.fif.gz, raw_sss.fif.gz, raw_tsss.fif.gz, _meg.fif.gz, _eeg.fif.gz or _ieeg.fif.gz\n",
      "  raw.save(path_name,picks,start_time,end_time,overwrite=True)\n"
     ]
    },
    {
     "name": "stdout",
     "output_type": "stream",
     "text": [
      "Extracting EDF parameters from E:\\jupyter file\\EEG_process\\patient_data\\治疗脑电（第一批次）\\Z孙彭辉20220302.edf...\n",
      "EDF file detected\n",
      "Setting channel info structure...\n",
      "Creating raw.info structure...\n",
      "Used Annotations descriptions: ['File Create', 'Recording ends', 'Recording starts', 'SE', 'end', 'start']\n",
      "53.091796875 + 61.091796875\n",
      "..\\SE_train\\Z孙彭辉20220302_bias_0.fif\n",
      "Writing E:\\jupyter file\\EEG_process\\SE_train\\Z孙彭辉20220302_bias_0.fif\n",
      "Closing E:\\jupyter file\\EEG_process\\SE_train\\Z孙彭辉20220302_bias_0.fif\n",
      "[done]\n",
      "Extracting EDF parameters from E:\\jupyter file\\EEG_process\\patient_data\\治疗脑电（第一批次）\\Z孙彭辉20220304.edf...\n",
      "EDF file detected\n",
      "Setting channel info structure...\n",
      "Creating raw.info structure...\n",
      "Used Annotations descriptions: ['File Create', 'Recording ends', 'Recording starts', 'SE', 'end', 'start']\n",
      "Extracting EDF parameters from E:\\jupyter file\\EEG_process\\patient_data\\治疗脑电（第一批次）\\Z孙彭辉20220304.edf...\n",
      "EDF file detected\n",
      "Setting channel info structure...\n",
      "Creating raw.info structure...\n",
      "Used Annotations descriptions: ['File Create', 'Recording ends', 'Recording starts', 'SE', 'end', 'start']\n",
      "12.0625 + 20.0625\n",
      "..\\SE_train\\Z孙彭辉20220304_bias_0.fif\n",
      "Writing E:\\jupyter file\\EEG_process\\SE_train\\Z孙彭辉20220304_bias_0.fif\n",
      "Closing E:\\jupyter file\\EEG_process\\SE_train\\Z孙彭辉20220304_bias_0.fif\n",
      "[done]\n",
      "Extracting EDF parameters from E:\\jupyter file\\EEG_process\\patient_data\\治疗脑电（第一批次）\\Z宋志辉20220318.edf...\n",
      "EDF file detected\n",
      "Setting channel info structure...\n",
      "Creating raw.info structure...\n"
     ]
    },
    {
     "name": "stderr",
     "output_type": "stream",
     "text": [
      "<ipython-input-24-63daf20ba1ee>:23: RuntimeWarning: This filename (E:\\jupyter file\\EEG_process\\SE_train\\Z孙彭辉20220302_bias_0.fif) does not conform to MNE naming conventions. All raw files should end with raw.fif, raw_sss.fif, raw_tsss.fif, _meg.fif, _eeg.fif, _ieeg.fif, raw.fif.gz, raw_sss.fif.gz, raw_tsss.fif.gz, _meg.fif.gz, _eeg.fif.gz or _ieeg.fif.gz\n",
      "  raw.save(path_name,picks,start_time,end_time,overwrite=True)\n",
      "<ipython-input-24-63daf20ba1ee>:23: RuntimeWarning: This filename (E:\\jupyter file\\EEG_process\\SE_train\\Z孙彭辉20220304_bias_0.fif) does not conform to MNE naming conventions. All raw files should end with raw.fif, raw_sss.fif, raw_tsss.fif, _meg.fif, _eeg.fif, _ieeg.fif, raw.fif.gz, raw_sss.fif.gz, raw_tsss.fif.gz, _meg.fif.gz, _eeg.fif.gz or _ieeg.fif.gz\n",
      "  raw.save(path_name,picks,start_time,end_time,overwrite=True)\n"
     ]
    },
    {
     "name": "stdout",
     "output_type": "stream",
     "text": [
      "Used Annotations descriptions: ['File Create', 'Recording ends', 'Recording starts', 'SE', 'end', 'start']\n",
      "Extracting EDF parameters from E:\\jupyter file\\EEG_process\\patient_data\\治疗脑电（第一批次）\\Z宋志辉20220318.edf...\n",
      "EDF file detected\n",
      "Setting channel info structure...\n",
      "Creating raw.info structure...\n",
      "Used Annotations descriptions: ['File Create', 'Recording ends', 'Recording starts', 'SE', 'end', 'start']\n",
      "1893.5009765625 + 1901.5009765625\n",
      "..\\SE_train\\Z宋志辉20220318_bias_0.fif\n",
      "Writing E:\\jupyter file\\EEG_process\\SE_train\\Z宋志辉20220318_bias_0.fif\n",
      "Closing E:\\jupyter file\\EEG_process\\SE_train\\Z宋志辉20220318_bias_0.fif\n",
      "[done]\n",
      "Extracting EDF parameters from E:\\jupyter file\\EEG_process\\patient_data\\治疗脑电（第一批次）\\Z宋志辉20220321.edf...\n",
      "EDF file detected\n",
      "Setting channel info structure...\n",
      "Creating raw.info structure...\n",
      "Used Annotations descriptions: ['File Create', 'Recording ends', 'Recording starts', 'SE', 'start']\n",
      "Extracting EDF parameters from E:\\jupyter file\\EEG_process\\patient_data\\治疗脑电（第一批次）\\Z宋志辉20220321.edf...\n",
      "EDF file detected\n",
      "Setting channel info structure...\n",
      "Creating raw.info structure...\n",
      "Used Annotations descriptions: ['File Create', 'Recording ends', 'Recording starts', 'SE', 'start']\n",
      "44.09375 + 52.09375\n",
      "..\\SE_train\\Z宋志辉20220321_bias_0.fif\n",
      "Writing E:\\jupyter file\\EEG_process\\SE_train\\Z宋志辉20220321_bias_0.fif\n",
      "Closing E:\\jupyter file\\EEG_process\\SE_train\\Z宋志辉20220321_bias_0.fif\n"
     ]
    },
    {
     "name": "stderr",
     "output_type": "stream",
     "text": [
      "<ipython-input-24-63daf20ba1ee>:23: RuntimeWarning: This filename (E:\\jupyter file\\EEG_process\\SE_train\\Z宋志辉20220318_bias_0.fif) does not conform to MNE naming conventions. All raw files should end with raw.fif, raw_sss.fif, raw_tsss.fif, _meg.fif, _eeg.fif, _ieeg.fif, raw.fif.gz, raw_sss.fif.gz, raw_tsss.fif.gz, _meg.fif.gz, _eeg.fif.gz or _ieeg.fif.gz\n",
      "  raw.save(path_name,picks,start_time,end_time,overwrite=True)\n",
      "<ipython-input-24-63daf20ba1ee>:23: RuntimeWarning: This filename (E:\\jupyter file\\EEG_process\\SE_train\\Z宋志辉20220321_bias_0.fif) does not conform to MNE naming conventions. All raw files should end with raw.fif, raw_sss.fif, raw_tsss.fif, _meg.fif, _eeg.fif, _ieeg.fif, raw.fif.gz, raw_sss.fif.gz, raw_tsss.fif.gz, _meg.fif.gz, _eeg.fif.gz or _ieeg.fif.gz\n",
      "  raw.save(path_name,picks,start_time,end_time,overwrite=True)\n"
     ]
    },
    {
     "name": "stdout",
     "output_type": "stream",
     "text": [
      "[done]\n",
      "Extracting EDF parameters from E:\\jupyter file\\EEG_process\\patient_data\\治疗脑电（第一批次）\\Z宋志辉20220323.edf...\n",
      "EDF file detected\n",
      "Setting channel info structure...\n",
      "Creating raw.info structure...\n",
      "Used Annotations descriptions: ['File Create', 'Recording ends', 'Recording starts', 'SE', 'end', 'start']\n",
      "Extracting EDF parameters from E:\\jupyter file\\EEG_process\\patient_data\\治疗脑电（第一批次）\\Z宋志辉20220323.edf...\n",
      "EDF file detected\n",
      "Setting channel info structure...\n",
      "Creating raw.info structure...\n",
      "Used Annotations descriptions: ['File Create', 'Recording ends', 'Recording starts', 'SE', 'end', 'start']\n",
      "111.634765625 + 119.634765625\n",
      "..\\SE_train\\Z宋志辉20220323_bias_0.fif\n",
      "Writing E:\\jupyter file\\EEG_process\\SE_train\\Z宋志辉20220323_bias_0.fif\n",
      "Closing E:\\jupyter file\\EEG_process\\SE_train\\Z宋志辉20220323_bias_0.fif\n",
      "[done]\n",
      "Extracting EDF parameters from E:\\jupyter file\\EEG_process\\patient_data\\治疗脑电（第一批次）\\Z宋志辉20220325.edf...\n",
      "EDF file detected\n",
      "Setting channel info structure...\n",
      "Creating raw.info structure...\n",
      "Used Annotations descriptions: ['File Create', 'Recording ends', 'Recording starts', 'SE', 'end', 'start']\n",
      "Extracting EDF parameters from E:\\jupyter file\\EEG_process\\patient_data\\治疗脑电（第一批次）\\Z宋志辉20220325.edf...\n",
      "EDF file detected\n",
      "Setting channel info structure...\n",
      "Creating raw.info structure...\n",
      "Used Annotations descriptions: ['File Create', 'Recording ends', 'Recording starts', 'SE', 'end', 'start']\n",
      "30.1611328125 + 38.1611328125\n",
      "..\\SE_train\\Z宋志辉20220325_bias_0.fif\n",
      "Writing E:\\jupyter file\\EEG_process\\SE_train\\Z宋志辉20220325_bias_0.fif\n",
      "Closing E:\\jupyter file\\EEG_process\\SE_train\\Z宋志辉20220325_bias_0.fif\n",
      "[done]\n",
      "Extracting EDF parameters from E:\\jupyter file\\EEG_process\\patient_data\\治疗脑电（第一批次）\\Z张璐20220225.edf...\n",
      "EDF file detected\n",
      "Setting channel info structure...\n",
      "Creating raw.info structure...\n",
      "Used Annotations descriptions: ['File Create', 'Recording ends', 'Recording starts', 'SE', 'end', 'start']\n",
      "Extracting EDF parameters from E:\\jupyter file\\EEG_process\\patient_data\\治疗脑电（第一批次）\\Z张璐20220225.edf...\n",
      "EDF file detected\n",
      "Setting channel info structure...\n",
      "Creating raw.info structure...\n",
      "Used Annotations descriptions: ['File Create', 'Recording ends', 'Recording starts', 'SE', 'end', 'start']\n"
     ]
    },
    {
     "name": "stderr",
     "output_type": "stream",
     "text": [
      "<ipython-input-24-63daf20ba1ee>:23: RuntimeWarning: This filename (E:\\jupyter file\\EEG_process\\SE_train\\Z宋志辉20220323_bias_0.fif) does not conform to MNE naming conventions. All raw files should end with raw.fif, raw_sss.fif, raw_tsss.fif, _meg.fif, _eeg.fif, _ieeg.fif, raw.fif.gz, raw_sss.fif.gz, raw_tsss.fif.gz, _meg.fif.gz, _eeg.fif.gz or _ieeg.fif.gz\n",
      "  raw.save(path_name,picks,start_time,end_time,overwrite=True)\n",
      "<ipython-input-24-63daf20ba1ee>:23: RuntimeWarning: This filename (E:\\jupyter file\\EEG_process\\SE_train\\Z宋志辉20220325_bias_0.fif) does not conform to MNE naming conventions. All raw files should end with raw.fif, raw_sss.fif, raw_tsss.fif, _meg.fif, _eeg.fif, _ieeg.fif, raw.fif.gz, raw_sss.fif.gz, raw_tsss.fif.gz, _meg.fif.gz, _eeg.fif.gz or _ieeg.fif.gz\n",
      "  raw.save(path_name,picks,start_time,end_time,overwrite=True)\n",
      "<ipython-input-24-63daf20ba1ee>:23: RuntimeWarning: This filename (E:\\jupyter file\\EEG_process\\SE_train\\Z张璐20220225_bias_0.fif) does not conform to MNE naming conventions. All raw files should end with raw.fif, raw_sss.fif, raw_tsss.fif, _meg.fif, _eeg.fif, _ieeg.fif, raw.fif.gz, raw_sss.fif.gz, raw_tsss.fif.gz, _meg.fif.gz, _eeg.fif.gz or _ieeg.fif.gz\n",
      "  raw.save(path_name,picks,start_time,end_time,overwrite=True)\n"
     ]
    },
    {
     "name": "stdout",
     "output_type": "stream",
     "text": [
      "24.576171875 + 32.576171875\n",
      "..\\SE_train\\Z张璐20220225_bias_0.fif\n",
      "Writing E:\\jupyter file\\EEG_process\\SE_train\\Z张璐20220225_bias_0.fif\n",
      "Closing E:\\jupyter file\\EEG_process\\SE_train\\Z张璐20220225_bias_0.fif\n",
      "[done]\n",
      "Extracting EDF parameters from E:\\jupyter file\\EEG_process\\patient_data\\治疗脑电（第一批次）\\Z张璐20220228.edf...\n",
      "EDF file detected\n",
      "Setting channel info structure...\n",
      "Creating raw.info structure...\n",
      "Used Annotations descriptions: ['File Create', 'Recording ends', 'Recording starts', 'SE', 'end', 'start']\n",
      "Extracting EDF parameters from E:\\jupyter file\\EEG_process\\patient_data\\治疗脑电（第一批次）\\Z张璐20220228.edf...\n",
      "EDF file detected\n",
      "Setting channel info structure...\n",
      "Creating raw.info structure...\n",
      "Used Annotations descriptions: ['File Create', 'Recording ends', 'Recording starts', 'SE', 'end', 'start']\n",
      "185.3232421875 + 193.3232421875\n",
      "..\\SE_train\\Z张璐20220228_bias_0.fif\n",
      "Writing E:\\jupyter file\\EEG_process\\SE_train\\Z张璐20220228_bias_0.fif\n",
      "Closing E:\\jupyter file\\EEG_process\\SE_train\\Z张璐20220228_bias_0.fif\n",
      "[done]\n",
      "Extracting EDF parameters from E:\\jupyter file\\EEG_process\\patient_data\\治疗脑电（第一批次）\\Z张璐20220302.edf...\n",
      "EDF file detected\n",
      "Setting channel info structure...\n",
      "Creating raw.info structure...\n",
      "Used Annotations descriptions: ['File Create', 'Recording ends', 'Recording starts', 'SE']\n",
      "Extracting EDF parameters from E:\\jupyter file\\EEG_process\\patient_data\\治疗脑电（第一批次）\\Z张璐20220302.edf...\n",
      "EDF file detected\n",
      "Setting channel info structure...\n",
      "Creating raw.info structure...\n",
      "Used Annotations descriptions: ['File Create', 'Recording ends', 'Recording starts', 'SE']\n",
      "21.837890625 + 29.837890625\n",
      "..\\SE_train\\Z张璐20220302_bias_0.fif\n",
      "Writing E:\\jupyter file\\EEG_process\\SE_train\\Z张璐20220302_bias_0.fif\n",
      "Closing E:\\jupyter file\\EEG_process\\SE_train\\Z张璐20220302_bias_0.fif\n",
      "[done]\n",
      "Extracting EDF parameters from E:\\jupyter file\\EEG_process\\patient_data\\治疗脑电（第一批次）\\Z张璐20220304.edf...\n",
      "EDF file detected\n",
      "Setting channel info structure...\n",
      "Creating raw.info structure...\n",
      "Used Annotations descriptions: ['File Create', 'Recording ends', 'Recording starts', 'end', 'start']\n",
      "Extracting EDF parameters from E:\\jupyter file\\EEG_process\\patient_data\\治疗脑电（第一批次）\\Z曾刚20220216.edf...\n",
      "EDF file detected\n",
      "Setting channel info structure...\n",
      "Creating raw.info structure...\n"
     ]
    },
    {
     "name": "stderr",
     "output_type": "stream",
     "text": [
      "<ipython-input-24-63daf20ba1ee>:23: RuntimeWarning: This filename (E:\\jupyter file\\EEG_process\\SE_train\\Z张璐20220228_bias_0.fif) does not conform to MNE naming conventions. All raw files should end with raw.fif, raw_sss.fif, raw_tsss.fif, _meg.fif, _eeg.fif, _ieeg.fif, raw.fif.gz, raw_sss.fif.gz, raw_tsss.fif.gz, _meg.fif.gz, _eeg.fif.gz or _ieeg.fif.gz\n",
      "  raw.save(path_name,picks,start_time,end_time,overwrite=True)\n",
      "<ipython-input-24-63daf20ba1ee>:23: RuntimeWarning: This filename (E:\\jupyter file\\EEG_process\\SE_train\\Z张璐20220302_bias_0.fif) does not conform to MNE naming conventions. All raw files should end with raw.fif, raw_sss.fif, raw_tsss.fif, _meg.fif, _eeg.fif, _ieeg.fif, raw.fif.gz, raw_sss.fif.gz, raw_tsss.fif.gz, _meg.fif.gz, _eeg.fif.gz or _ieeg.fif.gz\n",
      "  raw.save(path_name,picks,start_time,end_time,overwrite=True)\n"
     ]
    },
    {
     "name": "stdout",
     "output_type": "stream",
     "text": [
      "Used Annotations descriptions: ['File Create', 'Recording ends', 'Recording starts', 'SE', 'end', 'start']\n",
      "Extracting EDF parameters from E:\\jupyter file\\EEG_process\\patient_data\\治疗脑电（第一批次）\\Z曾刚20220216.edf...\n",
      "EDF file detected\n",
      "Setting channel info structure...\n",
      "Creating raw.info structure...\n",
      "Used Annotations descriptions: ['File Create', 'Recording ends', 'Recording starts', 'SE', 'end', 'start']\n",
      "37.7734375 + 45.7734375\n",
      "..\\SE_train\\Z曾刚20220216_bias_0.fif\n",
      "Writing E:\\jupyter file\\EEG_process\\SE_train\\Z曾刚20220216_bias_0.fif\n",
      "Closing E:\\jupyter file\\EEG_process\\SE_train\\Z曾刚20220216_bias_0.fif\n",
      "[done]\n",
      "Extracting EDF parameters from E:\\jupyter file\\EEG_process\\patient_data\\治疗脑电（第一批次）\\Z曾刚20220218（未发作）.edf...\n",
      "EDF file detected\n",
      "Setting channel info structure...\n",
      "Creating raw.info structure...\n",
      "Used Annotations descriptions: ['File Create', 'Recording ends', 'Recording starts', 'SE']\n",
      "Extracting EDF parameters from E:\\jupyter file\\EEG_process\\patient_data\\治疗脑电（第一批次）\\Z曾刚20220218（未发作）.edf...\n",
      "EDF file detected\n",
      "Setting channel info structure...\n",
      "Creating raw.info structure...\n",
      "Used Annotations descriptions: ['File Create', 'Recording ends', 'Recording starts', 'SE']\n"
     ]
    },
    {
     "name": "stderr",
     "output_type": "stream",
     "text": [
      "<ipython-input-24-63daf20ba1ee>:23: RuntimeWarning: This filename (E:\\jupyter file\\EEG_process\\SE_train\\Z曾刚20220216_bias_0.fif) does not conform to MNE naming conventions. All raw files should end with raw.fif, raw_sss.fif, raw_tsss.fif, _meg.fif, _eeg.fif, _ieeg.fif, raw.fif.gz, raw_sss.fif.gz, raw_tsss.fif.gz, _meg.fif.gz, _eeg.fif.gz or _ieeg.fif.gz\n",
      "  raw.save(path_name,picks,start_time,end_time,overwrite=True)\n",
      "<ipython-input-24-63daf20ba1ee>:23: RuntimeWarning: This filename (E:\\jupyter file\\EEG_process\\SE_train\\Z曾刚20220218（未发作）_bias_0.fif) does not conform to MNE naming conventions. All raw files should end with raw.fif, raw_sss.fif, raw_tsss.fif, _meg.fif, _eeg.fif, _ieeg.fif, raw.fif.gz, raw_sss.fif.gz, raw_tsss.fif.gz, _meg.fif.gz, _eeg.fif.gz or _ieeg.fif.gz\n",
      "  raw.save(path_name,picks,start_time,end_time,overwrite=True)\n"
     ]
    },
    {
     "name": "stdout",
     "output_type": "stream",
     "text": [
      "214.76953125 + 222.76953125\n",
      "..\\SE_train\\Z曾刚20220218（未发作）_bias_0.fif\n",
      "Writing E:\\jupyter file\\EEG_process\\SE_train\\Z曾刚20220218（未发作）_bias_0.fif\n",
      "Closing E:\\jupyter file\\EEG_process\\SE_train\\Z曾刚20220218（未发作）_bias_0.fif\n",
      "[done]\n",
      "Extracting EDF parameters from E:\\jupyter file\\EEG_process\\patient_data\\治疗脑电（第一批次）\\Z曾刚20220218（未发作）.edf...\n",
      "EDF file detected\n",
      "Setting channel info structure...\n",
      "Creating raw.info structure...\n",
      "Used Annotations descriptions: ['File Create', 'Recording ends', 'Recording starts', 'SE']\n",
      "222.76953125 + 238.76953125\n",
      "..\\SE_train\\Z曾刚20220218（未发作）_bias_8.fif\n",
      "Writing E:\\jupyter file\\EEG_process\\SE_train\\Z曾刚20220218（未发作）_bias_8.fif\n",
      "Closing E:\\jupyter file\\EEG_process\\SE_train\\Z曾刚20220218（未发作）_bias_8.fif\n",
      "[done]\n",
      "Extracting EDF parameters from E:\\jupyter file\\EEG_process\\patient_data\\治疗脑电（第一批次）\\Z曾刚20220218（未发作）.edf...\n",
      "EDF file detected\n",
      "Setting channel info structure...\n",
      "Creating raw.info structure...\n",
      "Used Annotations descriptions: ['File Create', 'Recording ends', 'Recording starts', 'SE']\n",
      "230.76953125 + 246.76953125\n",
      "..\\SE_train\\Z曾刚20220218（未发作）_bias_16.fif\n",
      "Writing E:\\jupyter file\\EEG_process\\SE_train\\Z曾刚20220218（未发作）_bias_16.fif\n",
      "Closing E:\\jupyter file\\EEG_process\\SE_train\\Z曾刚20220218（未发作）_bias_16.fif\n"
     ]
    },
    {
     "name": "stderr",
     "output_type": "stream",
     "text": [
      "<ipython-input-24-63daf20ba1ee>:23: RuntimeWarning: This filename (E:\\jupyter file\\EEG_process\\SE_train\\Z曾刚20220218（未发作）_bias_8.fif) does not conform to MNE naming conventions. All raw files should end with raw.fif, raw_sss.fif, raw_tsss.fif, _meg.fif, _eeg.fif, _ieeg.fif, raw.fif.gz, raw_sss.fif.gz, raw_tsss.fif.gz, _meg.fif.gz, _eeg.fif.gz or _ieeg.fif.gz\n",
      "  raw.save(path_name,picks,start_time,end_time,overwrite=True)\n",
      "<ipython-input-24-63daf20ba1ee>:23: RuntimeWarning: This filename (E:\\jupyter file\\EEG_process\\SE_train\\Z曾刚20220218（未发作）_bias_16.fif) does not conform to MNE naming conventions. All raw files should end with raw.fif, raw_sss.fif, raw_tsss.fif, _meg.fif, _eeg.fif, _ieeg.fif, raw.fif.gz, raw_sss.fif.gz, raw_tsss.fif.gz, _meg.fif.gz, _eeg.fif.gz or _ieeg.fif.gz\n",
      "  raw.save(path_name,picks,start_time,end_time,overwrite=True)\n"
     ]
    },
    {
     "name": "stdout",
     "output_type": "stream",
     "text": [
      "[done]\n",
      "Extracting EDF parameters from E:\\jupyter file\\EEG_process\\patient_data\\治疗脑电（第一批次）\\Z曾刚20220218（未发作）.edf...\n",
      "EDF file detected\n",
      "Setting channel info structure...\n",
      "Creating raw.info structure...\n",
      "Used Annotations descriptions: ['File Create', 'Recording ends', 'Recording starts', 'SE']\n",
      "238.76953125 + 254.76953125\n",
      "..\\SE_train\\Z曾刚20220218（未发作）_bias_24.fif\n",
      "Writing E:\\jupyter file\\EEG_process\\SE_train\\Z曾刚20220218（未发作）_bias_24.fif\n",
      "Closing E:\\jupyter file\\EEG_process\\SE_train\\Z曾刚20220218（未发作）_bias_24.fif\n",
      "[done]\n",
      "Extracting EDF parameters from E:\\jupyter file\\EEG_process\\patient_data\\治疗脑电（第一批次）\\Z曾刚20220218（未发作）.edf...\n",
      "EDF file detected\n",
      "Setting channel info structure...\n",
      "Creating raw.info structure...\n",
      "Used Annotations descriptions: ['File Create', 'Recording ends', 'Recording starts', 'SE']\n",
      "246.76953125 + 262.76953125\n",
      "..\\SE_train\\Z曾刚20220218（未发作）_bias_32.fif\n",
      "Writing E:\\jupyter file\\EEG_process\\SE_train\\Z曾刚20220218（未发作）_bias_32.fif\n",
      "Closing E:\\jupyter file\\EEG_process\\SE_train\\Z曾刚20220218（未发作）_bias_32.fif\n",
      "[done]\n",
      "Extracting EDF parameters from E:\\jupyter file\\EEG_process\\patient_data\\治疗脑电（第一批次）\\Z曾刚20220218（未发作）.edf...\n",
      "EDF file detected\n"
     ]
    },
    {
     "name": "stderr",
     "output_type": "stream",
     "text": [
      "<ipython-input-24-63daf20ba1ee>:23: RuntimeWarning: This filename (E:\\jupyter file\\EEG_process\\SE_train\\Z曾刚20220218（未发作）_bias_24.fif) does not conform to MNE naming conventions. All raw files should end with raw.fif, raw_sss.fif, raw_tsss.fif, _meg.fif, _eeg.fif, _ieeg.fif, raw.fif.gz, raw_sss.fif.gz, raw_tsss.fif.gz, _meg.fif.gz, _eeg.fif.gz or _ieeg.fif.gz\n",
      "  raw.save(path_name,picks,start_time,end_time,overwrite=True)\n",
      "<ipython-input-24-63daf20ba1ee>:23: RuntimeWarning: This filename (E:\\jupyter file\\EEG_process\\SE_train\\Z曾刚20220218（未发作）_bias_32.fif) does not conform to MNE naming conventions. All raw files should end with raw.fif, raw_sss.fif, raw_tsss.fif, _meg.fif, _eeg.fif, _ieeg.fif, raw.fif.gz, raw_sss.fif.gz, raw_tsss.fif.gz, _meg.fif.gz, _eeg.fif.gz or _ieeg.fif.gz\n",
      "  raw.save(path_name,picks,start_time,end_time,overwrite=True)\n"
     ]
    },
    {
     "name": "stdout",
     "output_type": "stream",
     "text": [
      "Setting channel info structure...\n",
      "Creating raw.info structure...\n",
      "Used Annotations descriptions: ['File Create', 'Recording ends', 'Recording starts', 'SE']\n",
      "254.76953125 + 270.76953125\n",
      "..\\SE_train\\Z曾刚20220218（未发作）_bias_40.fif\n",
      "Writing E:\\jupyter file\\EEG_process\\SE_train\\Z曾刚20220218（未发作）_bias_40.fif\n",
      "Closing E:\\jupyter file\\EEG_process\\SE_train\\Z曾刚20220218（未发作）_bias_40.fif\n",
      "[done]\n",
      "Extracting EDF parameters from E:\\jupyter file\\EEG_process\\patient_data\\治疗脑电（第一批次）\\Z曾刚20220221.edf...\n",
      "EDF file detected\n",
      "Setting channel info structure...\n",
      "Creating raw.info structure...\n",
      "Used Annotations descriptions: ['File Create', 'Recording ends', 'Recording starts', 'SE', 'end', 'start']\n",
      "Extracting EDF parameters from E:\\jupyter file\\EEG_process\\patient_data\\治疗脑电（第一批次）\\Z曾刚20220221.edf...\n",
      "EDF file detected\n",
      "Setting channel info structure...\n",
      "Creating raw.info structure...\n",
      "Used Annotations descriptions: ['File Create', 'Recording ends', 'Recording starts', 'SE', 'end', 'start']\n",
      "17.3896484375 + 25.3896484375\n",
      "..\\SE_train\\Z曾刚20220221_bias_0.fif\n",
      "Writing E:\\jupyter file\\EEG_process\\SE_train\\Z曾刚20220221_bias_0.fif\n",
      "Closing E:\\jupyter file\\EEG_process\\SE_train\\Z曾刚20220221_bias_0.fif\n",
      "[done]\n",
      "Extracting EDF parameters from E:\\jupyter file\\EEG_process\\patient_data\\治疗脑电（第一批次）\\Z曾刚20220223.edf...\n",
      "EDF file detected\n",
      "Setting channel info structure...\n",
      "Creating raw.info structure...\n",
      "Used Annotations descriptions: ['File Create', 'Recording ends', 'Recording starts', 'SE', 'end', 'start']\n",
      "Extracting EDF parameters from E:\\jupyter file\\EEG_process\\patient_data\\治疗脑电（第一批次）\\Z曾刚20220223.edf...\n"
     ]
    },
    {
     "name": "stderr",
     "output_type": "stream",
     "text": [
      "<ipython-input-24-63daf20ba1ee>:23: RuntimeWarning: This filename (E:\\jupyter file\\EEG_process\\SE_train\\Z曾刚20220218（未发作）_bias_40.fif) does not conform to MNE naming conventions. All raw files should end with raw.fif, raw_sss.fif, raw_tsss.fif, _meg.fif, _eeg.fif, _ieeg.fif, raw.fif.gz, raw_sss.fif.gz, raw_tsss.fif.gz, _meg.fif.gz, _eeg.fif.gz or _ieeg.fif.gz\n",
      "  raw.save(path_name,picks,start_time,end_time,overwrite=True)\n",
      "<ipython-input-24-63daf20ba1ee>:23: RuntimeWarning: This filename (E:\\jupyter file\\EEG_process\\SE_train\\Z曾刚20220221_bias_0.fif) does not conform to MNE naming conventions. All raw files should end with raw.fif, raw_sss.fif, raw_tsss.fif, _meg.fif, _eeg.fif, _ieeg.fif, raw.fif.gz, raw_sss.fif.gz, raw_tsss.fif.gz, _meg.fif.gz, _eeg.fif.gz or _ieeg.fif.gz\n",
      "  raw.save(path_name,picks,start_time,end_time,overwrite=True)\n"
     ]
    },
    {
     "name": "stdout",
     "output_type": "stream",
     "text": [
      "EDF file detected\n",
      "Setting channel info structure...\n",
      "Creating raw.info structure...\n",
      "Used Annotations descriptions: ['File Create', 'Recording ends', 'Recording starts', 'SE', 'end', 'start']\n",
      "68.623046875 + 76.623046875\n",
      "..\\SE_train\\Z曾刚20220223_bias_0.fif\n",
      "Writing E:\\jupyter file\\EEG_process\\SE_train\\Z曾刚20220223_bias_0.fif\n",
      "Closing E:\\jupyter file\\EEG_process\\SE_train\\Z曾刚20220223_bias_0.fif\n",
      "[done]\n",
      "Extracting EDF parameters from E:\\jupyter file\\EEG_process\\patient_data\\治疗脑电（第一批次）\\Z杜娇20220316.edf...\n",
      "EDF file detected\n",
      "Setting channel info structure...\n",
      "Creating raw.info structure...\n",
      "Used Annotations descriptions: ['File Create', 'Recording ends', 'Recording starts', 'SE', 'end', 'start']\n",
      "Extracting EDF parameters from E:\\jupyter file\\EEG_process\\patient_data\\治疗脑电（第一批次）\\Z杜娇20220316.edf...\n",
      "EDF file detected\n",
      "Setting channel info structure...\n",
      "Creating raw.info structure...\n",
      "Used Annotations descriptions: ['File Create', 'Recording ends', 'Recording starts', 'SE', 'end', 'start']\n",
      "391.4111328125 + 399.4111328125\n"
     ]
    },
    {
     "name": "stderr",
     "output_type": "stream",
     "text": [
      "<ipython-input-24-63daf20ba1ee>:23: RuntimeWarning: This filename (E:\\jupyter file\\EEG_process\\SE_train\\Z曾刚20220223_bias_0.fif) does not conform to MNE naming conventions. All raw files should end with raw.fif, raw_sss.fif, raw_tsss.fif, _meg.fif, _eeg.fif, _ieeg.fif, raw.fif.gz, raw_sss.fif.gz, raw_tsss.fif.gz, _meg.fif.gz, _eeg.fif.gz or _ieeg.fif.gz\n",
      "  raw.save(path_name,picks,start_time,end_time,overwrite=True)\n"
     ]
    },
    {
     "name": "stdout",
     "output_type": "stream",
     "text": [
      "..\\SE_train\\Z杜娇20220316_bias_0.fif\n",
      "Writing E:\\jupyter file\\EEG_process\\SE_train\\Z杜娇20220316_bias_0.fif\n",
      "Closing E:\\jupyter file\\EEG_process\\SE_train\\Z杜娇20220316_bias_0.fif\n",
      "[done]\n",
      "Extracting EDF parameters from E:\\jupyter file\\EEG_process\\patient_data\\治疗脑电（第一批次）\\Z杜娇20220318.edf...\n",
      "EDF file detected\n",
      "Setting channel info structure...\n",
      "Creating raw.info structure...\n",
      "Used Annotations descriptions: ['File Create', 'Recording ends', 'Recording starts', 'SE', 'end', 'start']\n",
      "Extracting EDF parameters from E:\\jupyter file\\EEG_process\\patient_data\\治疗脑电（第一批次）\\Z杜娇20220318.edf...\n",
      "EDF file detected\n",
      "Setting channel info structure...\n",
      "Creating raw.info structure...\n",
      "Used Annotations descriptions: ['File Create', 'Recording ends', 'Recording starts', 'SE', 'end', 'start']\n",
      "261.685546875 + 269.685546875\n",
      "..\\SE_train\\Z杜娇20220318_bias_0.fif\n",
      "Writing E:\\jupyter file\\EEG_process\\SE_train\\Z杜娇20220318_bias_0.fif\n",
      "Closing E:\\jupyter file\\EEG_process\\SE_train\\Z杜娇20220318_bias_0.fif\n"
     ]
    },
    {
     "name": "stderr",
     "output_type": "stream",
     "text": [
      "<ipython-input-24-63daf20ba1ee>:23: RuntimeWarning: This filename (E:\\jupyter file\\EEG_process\\SE_train\\Z杜娇20220316_bias_0.fif) does not conform to MNE naming conventions. All raw files should end with raw.fif, raw_sss.fif, raw_tsss.fif, _meg.fif, _eeg.fif, _ieeg.fif, raw.fif.gz, raw_sss.fif.gz, raw_tsss.fif.gz, _meg.fif.gz, _eeg.fif.gz or _ieeg.fif.gz\n",
      "  raw.save(path_name,picks,start_time,end_time,overwrite=True)\n",
      "<ipython-input-24-63daf20ba1ee>:23: RuntimeWarning: This filename (E:\\jupyter file\\EEG_process\\SE_train\\Z杜娇20220318_bias_0.fif) does not conform to MNE naming conventions. All raw files should end with raw.fif, raw_sss.fif, raw_tsss.fif, _meg.fif, _eeg.fif, _ieeg.fif, raw.fif.gz, raw_sss.fif.gz, raw_tsss.fif.gz, _meg.fif.gz, _eeg.fif.gz or _ieeg.fif.gz\n",
      "  raw.save(path_name,picks,start_time,end_time,overwrite=True)\n"
     ]
    },
    {
     "name": "stdout",
     "output_type": "stream",
     "text": [
      "[done]\n",
      "Extracting EDF parameters from E:\\jupyter file\\EEG_process\\patient_data\\治疗脑电（第一批次）\\Z杜娇20220321.edf...\n",
      "EDF file detected\n",
      "Setting channel info structure...\n",
      "Creating raw.info structure...\n",
      "Used Annotations descriptions: ['File Create', 'Recording ends', 'Recording starts', 'SE', 'end', 'start']\n",
      "Extracting EDF parameters from E:\\jupyter file\\EEG_process\\patient_data\\治疗脑电（第一批次）\\Z杜娇20220321.edf...\n",
      "EDF file detected\n",
      "Setting channel info structure...\n",
      "Creating raw.info structure...\n",
      "Used Annotations descriptions: ['File Create', 'Recording ends', 'Recording starts', 'SE', 'end', 'start']\n",
      "48.8212890625 + 56.8212890625\n",
      "..\\SE_train\\Z杜娇20220321_bias_0.fif\n",
      "Writing E:\\jupyter file\\EEG_process\\SE_train\\Z杜娇20220321_bias_0.fif\n",
      "Closing E:\\jupyter file\\EEG_process\\SE_train\\Z杜娇20220321_bias_0.fif\n",
      "[done]\n",
      "Extracting EDF parameters from E:\\jupyter file\\EEG_process\\patient_data\\治疗脑电（第一批次）\\Z杜娇20220325（未发作）.edf...\n",
      "EDF file detected\n",
      "Setting channel info structure...\n",
      "Creating raw.info structure...\n",
      "Used Annotations descriptions: ['File Create', 'Recording ends', 'Recording starts', 'SE']\n",
      "Extracting EDF parameters from E:\\jupyter file\\EEG_process\\patient_data\\治疗脑电（第一批次）\\Z杜娇20220325（未发作）.edf...\n",
      "EDF file detected\n",
      "Setting channel info structure...\n",
      "Creating raw.info structure...\n",
      "Used Annotations descriptions: ['File Create', 'Recording ends', 'Recording starts', 'SE']\n",
      "90.6650390625 + 98.6650390625\n",
      "..\\SE_train\\Z杜娇20220325（未发作）_bias_0.fif\n"
     ]
    },
    {
     "name": "stderr",
     "output_type": "stream",
     "text": [
      "<ipython-input-24-63daf20ba1ee>:23: RuntimeWarning: This filename (E:\\jupyter file\\EEG_process\\SE_train\\Z杜娇20220321_bias_0.fif) does not conform to MNE naming conventions. All raw files should end with raw.fif, raw_sss.fif, raw_tsss.fif, _meg.fif, _eeg.fif, _ieeg.fif, raw.fif.gz, raw_sss.fif.gz, raw_tsss.fif.gz, _meg.fif.gz, _eeg.fif.gz or _ieeg.fif.gz\n",
      "  raw.save(path_name,picks,start_time,end_time,overwrite=True)\n",
      "<ipython-input-24-63daf20ba1ee>:23: RuntimeWarning: This filename (E:\\jupyter file\\EEG_process\\SE_train\\Z杜娇20220325（未发作）_bias_0.fif) does not conform to MNE naming conventions. All raw files should end with raw.fif, raw_sss.fif, raw_tsss.fif, _meg.fif, _eeg.fif, _ieeg.fif, raw.fif.gz, raw_sss.fif.gz, raw_tsss.fif.gz, _meg.fif.gz, _eeg.fif.gz or _ieeg.fif.gz\n",
      "  raw.save(path_name,picks,start_time,end_time,overwrite=True)\n"
     ]
    },
    {
     "name": "stdout",
     "output_type": "stream",
     "text": [
      "Writing E:\\jupyter file\\EEG_process\\SE_train\\Z杜娇20220325（未发作）_bias_0.fif\n",
      "Closing E:\\jupyter file\\EEG_process\\SE_train\\Z杜娇20220325（未发作）_bias_0.fif\n",
      "[done]\n",
      "Extracting EDF parameters from E:\\jupyter file\\EEG_process\\patient_data\\治疗脑电（第一批次）\\Z杜娇20220325（未发作）.edf...\n",
      "EDF file detected\n",
      "Setting channel info structure...\n",
      "Creating raw.info structure...\n",
      "Used Annotations descriptions: ['File Create', 'Recording ends', 'Recording starts', 'SE']\n",
      "98.6650390625 + 114.6650390625\n",
      "..\\SE_train\\Z杜娇20220325（未发作）_bias_8.fif\n",
      "Writing E:\\jupyter file\\EEG_process\\SE_train\\Z杜娇20220325（未发作）_bias_8.fif\n",
      "Closing E:\\jupyter file\\EEG_process\\SE_train\\Z杜娇20220325（未发作）_bias_8.fif\n",
      "[done]\n",
      "Extracting EDF parameters from E:\\jupyter file\\EEG_process\\patient_data\\治疗脑电（第一批次）\\Z杜娇20220325（未发作）.edf...\n",
      "EDF file detected\n",
      "Setting channel info structure...\n",
      "Creating raw.info structure...\n",
      "Used Annotations descriptions: ['File Create', 'Recording ends', 'Recording starts', 'SE']\n",
      "106.6650390625 + 122.6650390625\n",
      "..\\SE_train\\Z杜娇20220325（未发作）_bias_16.fif\n",
      "Writing E:\\jupyter file\\EEG_process\\SE_train\\Z杜娇20220325（未发作）_bias_16.fif\n",
      "Closing E:\\jupyter file\\EEG_process\\SE_train\\Z杜娇20220325（未发作）_bias_16.fif\n",
      "[done]\n",
      "Extracting EDF parameters from E:\\jupyter file\\EEG_process\\patient_data\\治疗脑电（第一批次）\\Z杜娇20220325（未发作）.edf...\n",
      "EDF file detected\n",
      "Setting channel info structure...\n",
      "Creating raw.info structure...\n",
      "Used Annotations descriptions: ['File Create', 'Recording ends', 'Recording starts', 'SE']\n"
     ]
    },
    {
     "name": "stderr",
     "output_type": "stream",
     "text": [
      "<ipython-input-24-63daf20ba1ee>:23: RuntimeWarning: This filename (E:\\jupyter file\\EEG_process\\SE_train\\Z杜娇20220325（未发作）_bias_8.fif) does not conform to MNE naming conventions. All raw files should end with raw.fif, raw_sss.fif, raw_tsss.fif, _meg.fif, _eeg.fif, _ieeg.fif, raw.fif.gz, raw_sss.fif.gz, raw_tsss.fif.gz, _meg.fif.gz, _eeg.fif.gz or _ieeg.fif.gz\n",
      "  raw.save(path_name,picks,start_time,end_time,overwrite=True)\n",
      "<ipython-input-24-63daf20ba1ee>:23: RuntimeWarning: This filename (E:\\jupyter file\\EEG_process\\SE_train\\Z杜娇20220325（未发作）_bias_16.fif) does not conform to MNE naming conventions. All raw files should end with raw.fif, raw_sss.fif, raw_tsss.fif, _meg.fif, _eeg.fif, _ieeg.fif, raw.fif.gz, raw_sss.fif.gz, raw_tsss.fif.gz, _meg.fif.gz, _eeg.fif.gz or _ieeg.fif.gz\n",
      "  raw.save(path_name,picks,start_time,end_time,overwrite=True)\n",
      "<ipython-input-24-63daf20ba1ee>:23: RuntimeWarning: This filename (E:\\jupyter file\\EEG_process\\SE_train\\Z杜娇20220325（未发作）_bias_24.fif) does not conform to MNE naming conventions. All raw files should end with raw.fif, raw_sss.fif, raw_tsss.fif, _meg.fif, _eeg.fif, _ieeg.fif, raw.fif.gz, raw_sss.fif.gz, raw_tsss.fif.gz, _meg.fif.gz, _eeg.fif.gz or _ieeg.fif.gz\n",
      "  raw.save(path_name,picks,start_time,end_time,overwrite=True)\n"
     ]
    },
    {
     "name": "stdout",
     "output_type": "stream",
     "text": [
      "114.6650390625 + 130.6650390625\n",
      "..\\SE_train\\Z杜娇20220325（未发作）_bias_24.fif\n",
      "Writing E:\\jupyter file\\EEG_process\\SE_train\\Z杜娇20220325（未发作）_bias_24.fif\n",
      "Closing E:\\jupyter file\\EEG_process\\SE_train\\Z杜娇20220325（未发作）_bias_24.fif\n",
      "[done]\n",
      "Extracting EDF parameters from E:\\jupyter file\\EEG_process\\patient_data\\治疗脑电（第一批次）\\Z杜娇20220325（未发作）.edf...\n",
      "EDF file detected\n",
      "Setting channel info structure...\n",
      "Creating raw.info structure...\n",
      "Used Annotations descriptions: ['File Create', 'Recording ends', 'Recording starts', 'SE']\n",
      "122.6650390625 + 138.6650390625\n",
      "..\\SE_train\\Z杜娇20220325（未发作）_bias_32.fif\n",
      "Writing E:\\jupyter file\\EEG_process\\SE_train\\Z杜娇20220325（未发作）_bias_32.fif\n",
      "Closing E:\\jupyter file\\EEG_process\\SE_train\\Z杜娇20220325（未发作）_bias_32.fif\n",
      "[done]\n",
      "Extracting EDF parameters from E:\\jupyter file\\EEG_process\\patient_data\\治疗脑电（第一批次）\\Z杜娇20220325（未发作）.edf...\n",
      "EDF file detected\n",
      "Setting channel info structure...\n",
      "Creating raw.info structure...\n",
      "Used Annotations descriptions: ['File Create', 'Recording ends', 'Recording starts', 'SE']\n",
      "130.6650390625 + 146.6650390625\n",
      "..\\SE_train\\Z杜娇20220325（未发作）_bias_40.fif\n",
      "Writing E:\\jupyter file\\EEG_process\\SE_train\\Z杜娇20220325（未发作）_bias_40.fif\n",
      "Closing E:\\jupyter file\\EEG_process\\SE_train\\Z杜娇20220325（未发作）_bias_40.fif\n",
      "[done]\n",
      "Extracting EDF parameters from E:\\jupyter file\\EEG_process\\patient_data\\治疗脑电（第一批次）\\Z林儒波20220323.edf...\n",
      "EDF file detected\n",
      "Setting channel info structure...\n",
      "Creating raw.info structure...\n",
      "Used Annotations descriptions: ['File Create', 'Recording ends', 'Recording starts', 'SE']\n",
      "Extracting EDF parameters from E:\\jupyter file\\EEG_process\\patient_data\\治疗脑电（第一批次）\\Z林儒波20220323.edf...\n",
      "EDF file detected\n",
      "Setting channel info structure...\n"
     ]
    },
    {
     "name": "stderr",
     "output_type": "stream",
     "text": [
      "<ipython-input-24-63daf20ba1ee>:23: RuntimeWarning: This filename (E:\\jupyter file\\EEG_process\\SE_train\\Z杜娇20220325（未发作）_bias_32.fif) does not conform to MNE naming conventions. All raw files should end with raw.fif, raw_sss.fif, raw_tsss.fif, _meg.fif, _eeg.fif, _ieeg.fif, raw.fif.gz, raw_sss.fif.gz, raw_tsss.fif.gz, _meg.fif.gz, _eeg.fif.gz or _ieeg.fif.gz\n",
      "  raw.save(path_name,picks,start_time,end_time,overwrite=True)\n",
      "<ipython-input-24-63daf20ba1ee>:23: RuntimeWarning: This filename (E:\\jupyter file\\EEG_process\\SE_train\\Z杜娇20220325（未发作）_bias_40.fif) does not conform to MNE naming conventions. All raw files should end with raw.fif, raw_sss.fif, raw_tsss.fif, _meg.fif, _eeg.fif, _ieeg.fif, raw.fif.gz, raw_sss.fif.gz, raw_tsss.fif.gz, _meg.fif.gz, _eeg.fif.gz or _ieeg.fif.gz\n",
      "  raw.save(path_name,picks,start_time,end_time,overwrite=True)\n"
     ]
    },
    {
     "name": "stdout",
     "output_type": "stream",
     "text": [
      "Creating raw.info structure...\n",
      "Used Annotations descriptions: ['File Create', 'Recording ends', 'Recording starts', 'SE']\n",
      "456.8671875 + 464.8671875\n",
      "..\\SE_train\\Z林儒波20220323_bias_0.fif\n",
      "Writing E:\\jupyter file\\EEG_process\\SE_train\\Z林儒波20220323_bias_0.fif\n",
      "Closing E:\\jupyter file\\EEG_process\\SE_train\\Z林儒波20220323_bias_0.fif\n",
      "[done]\n",
      "Extracting EDF parameters from E:\\jupyter file\\EEG_process\\patient_data\\治疗脑电（第一批次）\\Z林儒波20220325.edf...\n",
      "EDF file detected\n",
      "Setting channel info structure...\n",
      "Creating raw.info structure...\n",
      "Used Annotations descriptions: ['File Create', 'Recording ends', 'Recording starts', 'SE', 'end', 'start']\n",
      "Extracting EDF parameters from E:\\jupyter file\\EEG_process\\patient_data\\治疗脑电（第一批次）\\Z林儒波20220325.edf...\n",
      "EDF file detected\n",
      "Setting channel info structure...\n",
      "Creating raw.info structure...\n",
      "Used Annotations descriptions: ['File Create', 'Recording ends', 'Recording starts', 'SE', 'end', 'start']\n",
      "26.5615234375 + 34.5615234375\n",
      "..\\SE_train\\Z林儒波20220325_bias_0.fif\n",
      "Writing E:\\jupyter file\\EEG_process\\SE_train\\Z林儒波20220325_bias_0.fif\n",
      "Closing E:\\jupyter file\\EEG_process\\SE_train\\Z林儒波20220325_bias_0.fif\n",
      "[done]\n",
      "Extracting EDF parameters from E:\\jupyter file\\EEG_process\\patient_data\\治疗脑电（第一批次）\\Z林儒波20220328（未发作）.edf...\n",
      "EDF file detected\n",
      "Setting channel info structure...\n",
      "Creating raw.info structure...\n",
      "Used Annotations descriptions: ['File Create', 'Recording ends', 'Recording starts', 'SE']\n"
     ]
    },
    {
     "name": "stderr",
     "output_type": "stream",
     "text": [
      "<ipython-input-24-63daf20ba1ee>:23: RuntimeWarning: This filename (E:\\jupyter file\\EEG_process\\SE_train\\Z林儒波20220323_bias_0.fif) does not conform to MNE naming conventions. All raw files should end with raw.fif, raw_sss.fif, raw_tsss.fif, _meg.fif, _eeg.fif, _ieeg.fif, raw.fif.gz, raw_sss.fif.gz, raw_tsss.fif.gz, _meg.fif.gz, _eeg.fif.gz or _ieeg.fif.gz\n",
      "  raw.save(path_name,picks,start_time,end_time,overwrite=True)\n",
      "<ipython-input-24-63daf20ba1ee>:23: RuntimeWarning: This filename (E:\\jupyter file\\EEG_process\\SE_train\\Z林儒波20220325_bias_0.fif) does not conform to MNE naming conventions. All raw files should end with raw.fif, raw_sss.fif, raw_tsss.fif, _meg.fif, _eeg.fif, _ieeg.fif, raw.fif.gz, raw_sss.fif.gz, raw_tsss.fif.gz, _meg.fif.gz, _eeg.fif.gz or _ieeg.fif.gz\n",
      "  raw.save(path_name,picks,start_time,end_time,overwrite=True)\n"
     ]
    },
    {
     "name": "stdout",
     "output_type": "stream",
     "text": [
      "Extracting EDF parameters from E:\\jupyter file\\EEG_process\\patient_data\\治疗脑电（第一批次）\\Z林儒波20220328（未发作）.edf...\n",
      "EDF file detected\n",
      "Setting channel info structure...\n",
      "Creating raw.info structure...\n",
      "Used Annotations descriptions: ['File Create', 'Recording ends', 'Recording starts', 'SE']\n",
      "3.958984375 + 11.958984375\n",
      "..\\SE_train\\Z林儒波20220328（未发作）_bias_0.fif\n",
      "Writing E:\\jupyter file\\EEG_process\\SE_train\\Z林儒波20220328（未发作）_bias_0.fif\n",
      "Closing E:\\jupyter file\\EEG_process\\SE_train\\Z林儒波20220328（未发作）_bias_0.fif\n",
      "[done]\n",
      "Extracting EDF parameters from E:\\jupyter file\\EEG_process\\patient_data\\治疗脑电（第一批次）\\Z林儒波20220328（未发作）.edf...\n",
      "EDF file detected\n",
      "Setting channel info structure...\n",
      "Creating raw.info structure...\n",
      "Used Annotations descriptions: ['File Create', 'Recording ends', 'Recording starts', 'SE']\n",
      "11.958984375 + 27.958984375\n",
      "..\\SE_train\\Z林儒波20220328（未发作）_bias_8.fif\n",
      "Writing E:\\jupyter file\\EEG_process\\SE_train\\Z林儒波20220328（未发作）_bias_8.fif\n",
      "Closing E:\\jupyter file\\EEG_process\\SE_train\\Z林儒波20220328（未发作）_bias_8.fif\n",
      "[done]\n",
      "Extracting EDF parameters from E:\\jupyter file\\EEG_process\\patient_data\\治疗脑电（第一批次）\\Z林儒波20220328（未发作）.edf...\n",
      "EDF file detected\n",
      "Setting channel info structure...\n",
      "Creating raw.info structure...\n",
      "Used Annotations descriptions: ['File Create', 'Recording ends', 'Recording starts', 'SE']\n",
      "19.958984375 + 35.958984375\n",
      "..\\SE_train\\Z林儒波20220328（未发作）_bias_16.fif\n",
      "Writing E:\\jupyter file\\EEG_process\\SE_train\\Z林儒波20220328（未发作）_bias_16.fif\n",
      "Closing E:\\jupyter file\\EEG_process\\SE_train\\Z林儒波20220328（未发作）_bias_16.fif\n"
     ]
    },
    {
     "name": "stderr",
     "output_type": "stream",
     "text": [
      "<ipython-input-24-63daf20ba1ee>:23: RuntimeWarning: This filename (E:\\jupyter file\\EEG_process\\SE_train\\Z林儒波20220328（未发作）_bias_0.fif) does not conform to MNE naming conventions. All raw files should end with raw.fif, raw_sss.fif, raw_tsss.fif, _meg.fif, _eeg.fif, _ieeg.fif, raw.fif.gz, raw_sss.fif.gz, raw_tsss.fif.gz, _meg.fif.gz, _eeg.fif.gz or _ieeg.fif.gz\n",
      "  raw.save(path_name,picks,start_time,end_time,overwrite=True)\n",
      "<ipython-input-24-63daf20ba1ee>:23: RuntimeWarning: This filename (E:\\jupyter file\\EEG_process\\SE_train\\Z林儒波20220328（未发作）_bias_8.fif) does not conform to MNE naming conventions. All raw files should end with raw.fif, raw_sss.fif, raw_tsss.fif, _meg.fif, _eeg.fif, _ieeg.fif, raw.fif.gz, raw_sss.fif.gz, raw_tsss.fif.gz, _meg.fif.gz, _eeg.fif.gz or _ieeg.fif.gz\n",
      "  raw.save(path_name,picks,start_time,end_time,overwrite=True)\n",
      "<ipython-input-24-63daf20ba1ee>:23: RuntimeWarning: This filename (E:\\jupyter file\\EEG_process\\SE_train\\Z林儒波20220328（未发作）_bias_16.fif) does not conform to MNE naming conventions. All raw files should end with raw.fif, raw_sss.fif, raw_tsss.fif, _meg.fif, _eeg.fif, _ieeg.fif, raw.fif.gz, raw_sss.fif.gz, raw_tsss.fif.gz, _meg.fif.gz, _eeg.fif.gz or _ieeg.fif.gz\n",
      "  raw.save(path_name,picks,start_time,end_time,overwrite=True)\n"
     ]
    },
    {
     "name": "stdout",
     "output_type": "stream",
     "text": [
      "[done]\n",
      "Extracting EDF parameters from E:\\jupyter file\\EEG_process\\patient_data\\治疗脑电（第一批次）\\Z林儒波20220328（未发作）.edf...\n",
      "EDF file detected\n",
      "Setting channel info structure...\n",
      "Creating raw.info structure...\n",
      "Used Annotations descriptions: ['File Create', 'Recording ends', 'Recording starts', 'SE']\n",
      "27.958984375 + 43.958984375\n",
      "..\\SE_train\\Z林儒波20220328（未发作）_bias_24.fif\n",
      "Writing E:\\jupyter file\\EEG_process\\SE_train\\Z林儒波20220328（未发作）_bias_24.fif\n",
      "Closing E:\\jupyter file\\EEG_process\\SE_train\\Z林儒波20220328（未发作）_bias_24.fif\n",
      "[done]\n",
      "Extracting EDF parameters from E:\\jupyter file\\EEG_process\\patient_data\\治疗脑电（第一批次）\\Z林儒波20220328（未发作）.edf...\n",
      "EDF file detected\n",
      "Setting channel info structure...\n",
      "Creating raw.info structure...\n",
      "Used Annotations descriptions: ['File Create', 'Recording ends', 'Recording starts', 'SE']\n",
      "35.958984375 + 51.958984375\n",
      "..\\SE_train\\Z林儒波20220328（未发作）_bias_32.fif\n",
      "Writing E:\\jupyter file\\EEG_process\\SE_train\\Z林儒波20220328（未发作）_bias_32.fif\n",
      "Closing E:\\jupyter file\\EEG_process\\SE_train\\Z林儒波20220328（未发作）_bias_32.fif\n",
      "[done]\n",
      "Extracting EDF parameters from E:\\jupyter file\\EEG_process\\patient_data\\治疗脑电（第一批次）\\Z林儒波20220328（未发作）.edf...\n",
      "EDF file detected\n",
      "Setting channel info structure...\n",
      "Creating raw.info structure...\n",
      "Used Annotations descriptions: ['File Create', 'Recording ends', 'Recording starts', 'SE']\n",
      "43.958984375 + 59.958984375\n",
      "..\\SE_train\\Z林儒波20220328（未发作）_bias_40.fif\n"
     ]
    },
    {
     "name": "stderr",
     "output_type": "stream",
     "text": [
      "<ipython-input-24-63daf20ba1ee>:23: RuntimeWarning: This filename (E:\\jupyter file\\EEG_process\\SE_train\\Z林儒波20220328（未发作）_bias_24.fif) does not conform to MNE naming conventions. All raw files should end with raw.fif, raw_sss.fif, raw_tsss.fif, _meg.fif, _eeg.fif, _ieeg.fif, raw.fif.gz, raw_sss.fif.gz, raw_tsss.fif.gz, _meg.fif.gz, _eeg.fif.gz or _ieeg.fif.gz\n",
      "  raw.save(path_name,picks,start_time,end_time,overwrite=True)\n",
      "<ipython-input-24-63daf20ba1ee>:23: RuntimeWarning: This filename (E:\\jupyter file\\EEG_process\\SE_train\\Z林儒波20220328（未发作）_bias_32.fif) does not conform to MNE naming conventions. All raw files should end with raw.fif, raw_sss.fif, raw_tsss.fif, _meg.fif, _eeg.fif, _ieeg.fif, raw.fif.gz, raw_sss.fif.gz, raw_tsss.fif.gz, _meg.fif.gz, _eeg.fif.gz or _ieeg.fif.gz\n",
      "  raw.save(path_name,picks,start_time,end_time,overwrite=True)\n",
      "<ipython-input-24-63daf20ba1ee>:23: RuntimeWarning: This filename (E:\\jupyter file\\EEG_process\\SE_train\\Z林儒波20220328（未发作）_bias_40.fif) does not conform to MNE naming conventions. All raw files should end with raw.fif, raw_sss.fif, raw_tsss.fif, _meg.fif, _eeg.fif, _ieeg.fif, raw.fif.gz, raw_sss.fif.gz, raw_tsss.fif.gz, _meg.fif.gz, _eeg.fif.gz or _ieeg.fif.gz\n",
      "  raw.save(path_name,picks,start_time,end_time,overwrite=True)\n"
     ]
    },
    {
     "name": "stdout",
     "output_type": "stream",
     "text": [
      "Writing E:\\jupyter file\\EEG_process\\SE_train\\Z林儒波20220328（未发作）_bias_40.fif\n",
      "Closing E:\\jupyter file\\EEG_process\\SE_train\\Z林儒波20220328（未发作）_bias_40.fif\n",
      "[done]\n",
      "Extracting EDF parameters from E:\\jupyter file\\EEG_process\\patient_data\\治疗脑电（第一批次）\\Z林儒波20220330.edf...\n",
      "EDF file detected\n",
      "Setting channel info structure...\n",
      "Creating raw.info structure...\n",
      "Used Annotations descriptions: ['Recording ends', 'Recording starts', 'SE', 'end', 'start']\n",
      "Extracting EDF parameters from E:\\jupyter file\\EEG_process\\patient_data\\治疗脑电（第一批次）\\Z林儒波20220330.edf...\n",
      "EDF file detected\n",
      "Setting channel info structure...\n",
      "Creating raw.info structure...\n",
      "Used Annotations descriptions: ['Recording ends', 'Recording starts', 'SE', 'end', 'start']\n",
      "274.6962890625 + 282.6962890625\n",
      "..\\SE_train\\Z林儒波20220330_bias_0.fif\n",
      "Writing E:\\jupyter file\\EEG_process\\SE_train\\Z林儒波20220330_bias_0.fif\n",
      "Closing E:\\jupyter file\\EEG_process\\SE_train\\Z林儒波20220330_bias_0.fif\n",
      "[done]\n",
      "Extracting EDF parameters from E:\\jupyter file\\EEG_process\\patient_data\\治疗脑电（第一批次）\\Z林攀攀20220221（未发作）.edf...\n",
      "EDF file detected\n",
      "Setting channel info structure...\n",
      "Creating raw.info structure...\n",
      "Used Annotations descriptions: ['Recording ends', 'Recording starts']\n",
      "Extracting EDF parameters from E:\\jupyter file\\EEG_process\\patient_data\\治疗脑电（第一批次）\\Z林攀攀20220223（未发作）.edf...\n",
      "EDF file detected\n",
      "Setting channel info structure...\n",
      "Creating raw.info structure...\n",
      "Used Annotations descriptions: ['File Create', 'Recording ends', 'Recording starts', 'SE']\n",
      "Extracting EDF parameters from E:\\jupyter file\\EEG_process\\patient_data\\治疗脑电（第一批次）\\Z林攀攀20220223（未发作）.edf...\n",
      "EDF file detected\n",
      "Setting channel info structure...\n",
      "Creating raw.info structure...\n",
      "Used Annotations descriptions: ['File Create', 'Recording ends', 'Recording starts', 'SE']\n",
      "81.0625 + 89.0625\n",
      "..\\SE_train\\Z林攀攀20220223（未发作）_bias_0.fif\n",
      "Writing E:\\jupyter file\\EEG_process\\SE_train\\Z林攀攀20220223（未发作）_bias_0.fif\n",
      "Closing E:\\jupyter file\\EEG_process\\SE_train\\Z林攀攀20220223（未发作）_bias_0.fif\n",
      "[done]\n",
      "Extracting EDF parameters from E:\\jupyter file\\EEG_process\\patient_data\\治疗脑电（第一批次）\\Z林攀攀20220223（未发作）.edf...\n"
     ]
    },
    {
     "name": "stderr",
     "output_type": "stream",
     "text": [
      "<ipython-input-24-63daf20ba1ee>:23: RuntimeWarning: This filename (E:\\jupyter file\\EEG_process\\SE_train\\Z林儒波20220330_bias_0.fif) does not conform to MNE naming conventions. All raw files should end with raw.fif, raw_sss.fif, raw_tsss.fif, _meg.fif, _eeg.fif, _ieeg.fif, raw.fif.gz, raw_sss.fif.gz, raw_tsss.fif.gz, _meg.fif.gz, _eeg.fif.gz or _ieeg.fif.gz\n",
      "  raw.save(path_name,picks,start_time,end_time,overwrite=True)\n",
      "<ipython-input-24-63daf20ba1ee>:23: RuntimeWarning: This filename (E:\\jupyter file\\EEG_process\\SE_train\\Z林攀攀20220223（未发作）_bias_0.fif) does not conform to MNE naming conventions. All raw files should end with raw.fif, raw_sss.fif, raw_tsss.fif, _meg.fif, _eeg.fif, _ieeg.fif, raw.fif.gz, raw_sss.fif.gz, raw_tsss.fif.gz, _meg.fif.gz, _eeg.fif.gz or _ieeg.fif.gz\n",
      "  raw.save(path_name,picks,start_time,end_time,overwrite=True)\n"
     ]
    },
    {
     "name": "stdout",
     "output_type": "stream",
     "text": [
      "EDF file detected\n",
      "Setting channel info structure...\n",
      "Creating raw.info structure...\n",
      "Used Annotations descriptions: ['File Create', 'Recording ends', 'Recording starts', 'SE']\n",
      "89.0625 + 105.0625\n",
      "..\\SE_train\\Z林攀攀20220223（未发作）_bias_8.fif\n",
      "Writing E:\\jupyter file\\EEG_process\\SE_train\\Z林攀攀20220223（未发作）_bias_8.fif\n",
      "Closing E:\\jupyter file\\EEG_process\\SE_train\\Z林攀攀20220223（未发作）_bias_8.fif\n",
      "[done]\n",
      "Extracting EDF parameters from E:\\jupyter file\\EEG_process\\patient_data\\治疗脑电（第一批次）\\Z林攀攀20220223（未发作）.edf...\n",
      "EDF file detected\n",
      "Setting channel info structure...\n",
      "Creating raw.info structure...\n",
      "Used Annotations descriptions: ['File Create', 'Recording ends', 'Recording starts', 'SE']\n",
      "97.0625 + 113.0625\n",
      "..\\SE_train\\Z林攀攀20220223（未发作）_bias_16.fif\n",
      "Writing E:\\jupyter file\\EEG_process\\SE_train\\Z林攀攀20220223（未发作）_bias_16.fif\n",
      "Closing E:\\jupyter file\\EEG_process\\SE_train\\Z林攀攀20220223（未发作）_bias_16.fif\n",
      "[done]\n",
      "Extracting EDF parameters from E:\\jupyter file\\EEG_process\\patient_data\\治疗脑电（第一批次）\\Z林攀攀20220223（未发作）.edf...\n",
      "EDF file detected\n",
      "Setting channel info structure...\n",
      "Creating raw.info structure...\n",
      "Used Annotations descriptions: ['File Create', 'Recording ends', 'Recording starts', 'SE']\n"
     ]
    },
    {
     "name": "stderr",
     "output_type": "stream",
     "text": [
      "<ipython-input-24-63daf20ba1ee>:23: RuntimeWarning: This filename (E:\\jupyter file\\EEG_process\\SE_train\\Z林攀攀20220223（未发作）_bias_8.fif) does not conform to MNE naming conventions. All raw files should end with raw.fif, raw_sss.fif, raw_tsss.fif, _meg.fif, _eeg.fif, _ieeg.fif, raw.fif.gz, raw_sss.fif.gz, raw_tsss.fif.gz, _meg.fif.gz, _eeg.fif.gz or _ieeg.fif.gz\n",
      "  raw.save(path_name,picks,start_time,end_time,overwrite=True)\n",
      "<ipython-input-24-63daf20ba1ee>:23: RuntimeWarning: This filename (E:\\jupyter file\\EEG_process\\SE_train\\Z林攀攀20220223（未发作）_bias_16.fif) does not conform to MNE naming conventions. All raw files should end with raw.fif, raw_sss.fif, raw_tsss.fif, _meg.fif, _eeg.fif, _ieeg.fif, raw.fif.gz, raw_sss.fif.gz, raw_tsss.fif.gz, _meg.fif.gz, _eeg.fif.gz or _ieeg.fif.gz\n",
      "  raw.save(path_name,picks,start_time,end_time,overwrite=True)\n"
     ]
    },
    {
     "name": "stdout",
     "output_type": "stream",
     "text": [
      "105.0625 + 121.0625\n",
      "..\\SE_train\\Z林攀攀20220223（未发作）_bias_24.fif\n",
      "Writing E:\\jupyter file\\EEG_process\\SE_train\\Z林攀攀20220223（未发作）_bias_24.fif\n",
      "Closing E:\\jupyter file\\EEG_process\\SE_train\\Z林攀攀20220223（未发作）_bias_24.fif\n",
      "[done]\n",
      "Extracting EDF parameters from E:\\jupyter file\\EEG_process\\patient_data\\治疗脑电（第一批次）\\Z林攀攀20220223（未发作）.edf...\n",
      "EDF file detected\n",
      "Setting channel info structure...\n",
      "Creating raw.info structure...\n",
      "Used Annotations descriptions: ['File Create', 'Recording ends', 'Recording starts', 'SE']\n",
      "113.0625 + 129.0625\n",
      "..\\SE_train\\Z林攀攀20220223（未发作）_bias_32.fif\n",
      "Writing E:\\jupyter file\\EEG_process\\SE_train\\Z林攀攀20220223（未发作）_bias_32.fif\n",
      "Closing E:\\jupyter file\\EEG_process\\SE_train\\Z林攀攀20220223（未发作）_bias_32.fif\n",
      "[done]\n",
      "Extracting EDF parameters from E:\\jupyter file\\EEG_process\\patient_data\\治疗脑电（第一批次）\\Z林攀攀20220223（未发作）.edf...\n",
      "EDF file detected\n",
      "Setting channel info structure...\n",
      "Creating raw.info structure...\n",
      "Used Annotations descriptions: ['File Create', 'Recording ends', 'Recording starts', 'SE']\n"
     ]
    },
    {
     "name": "stderr",
     "output_type": "stream",
     "text": [
      "<ipython-input-24-63daf20ba1ee>:23: RuntimeWarning: This filename (E:\\jupyter file\\EEG_process\\SE_train\\Z林攀攀20220223（未发作）_bias_24.fif) does not conform to MNE naming conventions. All raw files should end with raw.fif, raw_sss.fif, raw_tsss.fif, _meg.fif, _eeg.fif, _ieeg.fif, raw.fif.gz, raw_sss.fif.gz, raw_tsss.fif.gz, _meg.fif.gz, _eeg.fif.gz or _ieeg.fif.gz\n",
      "  raw.save(path_name,picks,start_time,end_time,overwrite=True)\n",
      "<ipython-input-24-63daf20ba1ee>:23: RuntimeWarning: This filename (E:\\jupyter file\\EEG_process\\SE_train\\Z林攀攀20220223（未发作）_bias_32.fif) does not conform to MNE naming conventions. All raw files should end with raw.fif, raw_sss.fif, raw_tsss.fif, _meg.fif, _eeg.fif, _ieeg.fif, raw.fif.gz, raw_sss.fif.gz, raw_tsss.fif.gz, _meg.fif.gz, _eeg.fif.gz or _ieeg.fif.gz\n",
      "  raw.save(path_name,picks,start_time,end_time,overwrite=True)\n",
      "<ipython-input-24-63daf20ba1ee>:23: RuntimeWarning: This filename (E:\\jupyter file\\EEG_process\\SE_train\\Z林攀攀20220223（未发作）_bias_40.fif) does not conform to MNE naming conventions. All raw files should end with raw.fif, raw_sss.fif, raw_tsss.fif, _meg.fif, _eeg.fif, _ieeg.fif, raw.fif.gz, raw_sss.fif.gz, raw_tsss.fif.gz, _meg.fif.gz, _eeg.fif.gz or _ieeg.fif.gz\n",
      "  raw.save(path_name,picks,start_time,end_time,overwrite=True)\n"
     ]
    },
    {
     "name": "stdout",
     "output_type": "stream",
     "text": [
      "121.0625 + 137.0625\n",
      "..\\SE_train\\Z林攀攀20220223（未发作）_bias_40.fif\n",
      "Writing E:\\jupyter file\\EEG_process\\SE_train\\Z林攀攀20220223（未发作）_bias_40.fif\n",
      "Closing E:\\jupyter file\\EEG_process\\SE_train\\Z林攀攀20220223（未发作）_bias_40.fif\n",
      "[done]\n",
      "Extracting EDF parameters from E:\\jupyter file\\EEG_process\\patient_data\\治疗脑电（第一批次）\\Z林攀攀20220225（未发作）.edf...\n",
      "EDF file detected\n",
      "Setting channel info structure...\n",
      "Creating raw.info structure...\n",
      "Used Annotations descriptions: ['File Create', 'Recording ends', 'Recording starts', 'SE']\n",
      "Extracting EDF parameters from E:\\jupyter file\\EEG_process\\patient_data\\治疗脑电（第一批次）\\Z林攀攀20220225（未发作）.edf...\n",
      "EDF file detected\n",
      "Setting channel info structure...\n",
      "Creating raw.info structure...\n",
      "Used Annotations descriptions: ['File Create', 'Recording ends', 'Recording starts', 'SE']\n",
      "13.4482421875 + 21.4482421875\n",
      "..\\SE_train\\Z林攀攀20220225（未发作）_bias_0.fif\n",
      "Writing E:\\jupyter file\\EEG_process\\SE_train\\Z林攀攀20220225（未发作）_bias_0.fif\n",
      "Closing E:\\jupyter file\\EEG_process\\SE_train\\Z林攀攀20220225（未发作）_bias_0.fif\n",
      "[done]\n",
      "Extracting EDF parameters from E:\\jupyter file\\EEG_process\\patient_data\\治疗脑电（第一批次）\\Z林攀攀20220225（未发作）.edf...\n",
      "EDF file detected\n",
      "Setting channel info structure...\n",
      "Creating raw.info structure...\n",
      "Used Annotations descriptions: ['File Create', 'Recording ends', 'Recording starts', 'SE']\n",
      "21.4482421875 + 37.4482421875\n",
      "..\\SE_train\\Z林攀攀20220225（未发作）_bias_8.fif\n",
      "Writing E:\\jupyter file\\EEG_process\\SE_train\\Z林攀攀20220225（未发作）_bias_8.fif\n",
      "Closing E:\\jupyter file\\EEG_process\\SE_train\\Z林攀攀20220225（未发作）_bias_8.fif\n",
      "[done]\n",
      "Extracting EDF parameters from E:\\jupyter file\\EEG_process\\patient_data\\治疗脑电（第一批次）\\Z林攀攀20220225（未发作）.edf...\n",
      "EDF file detected\n",
      "Setting channel info structure...\n",
      "Creating raw.info structure...\n",
      "Used Annotations descriptions: ['File Create', 'Recording ends', 'Recording starts', 'SE']\n"
     ]
    },
    {
     "name": "stderr",
     "output_type": "stream",
     "text": [
      "<ipython-input-24-63daf20ba1ee>:23: RuntimeWarning: This filename (E:\\jupyter file\\EEG_process\\SE_train\\Z林攀攀20220225（未发作）_bias_0.fif) does not conform to MNE naming conventions. All raw files should end with raw.fif, raw_sss.fif, raw_tsss.fif, _meg.fif, _eeg.fif, _ieeg.fif, raw.fif.gz, raw_sss.fif.gz, raw_tsss.fif.gz, _meg.fif.gz, _eeg.fif.gz or _ieeg.fif.gz\n",
      "  raw.save(path_name,picks,start_time,end_time,overwrite=True)\n",
      "<ipython-input-24-63daf20ba1ee>:23: RuntimeWarning: This filename (E:\\jupyter file\\EEG_process\\SE_train\\Z林攀攀20220225（未发作）_bias_8.fif) does not conform to MNE naming conventions. All raw files should end with raw.fif, raw_sss.fif, raw_tsss.fif, _meg.fif, _eeg.fif, _ieeg.fif, raw.fif.gz, raw_sss.fif.gz, raw_tsss.fif.gz, _meg.fif.gz, _eeg.fif.gz or _ieeg.fif.gz\n",
      "  raw.save(path_name,picks,start_time,end_time,overwrite=True)\n",
      "<ipython-input-24-63daf20ba1ee>:23: RuntimeWarning: This filename (E:\\jupyter file\\EEG_process\\SE_train\\Z林攀攀20220225（未发作）_bias_16.fif) does not conform to MNE naming conventions. All raw files should end with raw.fif, raw_sss.fif, raw_tsss.fif, _meg.fif, _eeg.fif, _ieeg.fif, raw.fif.gz, raw_sss.fif.gz, raw_tsss.fif.gz, _meg.fif.gz, _eeg.fif.gz or _ieeg.fif.gz\n",
      "  raw.save(path_name,picks,start_time,end_time,overwrite=True)\n"
     ]
    },
    {
     "name": "stdout",
     "output_type": "stream",
     "text": [
      "29.4482421875 + 45.4482421875\n",
      "..\\SE_train\\Z林攀攀20220225（未发作）_bias_16.fif\n",
      "Writing E:\\jupyter file\\EEG_process\\SE_train\\Z林攀攀20220225（未发作）_bias_16.fif\n",
      "Closing E:\\jupyter file\\EEG_process\\SE_train\\Z林攀攀20220225（未发作）_bias_16.fif\n",
      "[done]\n",
      "Extracting EDF parameters from E:\\jupyter file\\EEG_process\\patient_data\\治疗脑电（第一批次）\\Z林攀攀20220225（未发作）.edf...\n",
      "EDF file detected\n",
      "Setting channel info structure...\n",
      "Creating raw.info structure...\n",
      "Used Annotations descriptions: ['File Create', 'Recording ends', 'Recording starts', 'SE']\n",
      "37.4482421875 + 53.4482421875\n",
      "..\\SE_train\\Z林攀攀20220225（未发作）_bias_24.fif\n",
      "Writing E:\\jupyter file\\EEG_process\\SE_train\\Z林攀攀20220225（未发作）_bias_24.fif\n",
      "Closing E:\\jupyter file\\EEG_process\\SE_train\\Z林攀攀20220225（未发作）_bias_24.fif\n",
      "[done]\n",
      "Extracting EDF parameters from E:\\jupyter file\\EEG_process\\patient_data\\治疗脑电（第一批次）\\Z林攀攀20220225（未发作）.edf...\n",
      "EDF file detected\n",
      "Setting channel info structure...\n",
      "Creating raw.info structure...\n",
      "Used Annotations descriptions: ['File Create', 'Recording ends', 'Recording starts', 'SE']\n",
      "45.4482421875 + 61.4482421875\n",
      "..\\SE_train\\Z林攀攀20220225（未发作）_bias_32.fif\n",
      "Writing E:\\jupyter file\\EEG_process\\SE_train\\Z林攀攀20220225（未发作）_bias_32.fif\n",
      "Closing E:\\jupyter file\\EEG_process\\SE_train\\Z林攀攀20220225（未发作）_bias_32.fif\n",
      "[done]\n",
      "Extracting EDF parameters from E:\\jupyter file\\EEG_process\\patient_data\\治疗脑电（第一批次）\\Z林攀攀20220225（未发作）.edf...\n",
      "EDF file detected\n",
      "Setting channel info structure...\n",
      "Creating raw.info structure...\n",
      "Used Annotations descriptions: ['File Create', 'Recording ends', 'Recording starts', 'SE']\n",
      "53.4482421875 + 69.4482421875\n",
      "..\\SE_train\\Z林攀攀20220225（未发作）_bias_40.fif\n",
      "Writing E:\\jupyter file\\EEG_process\\SE_train\\Z林攀攀20220225（未发作）_bias_40.fif\n",
      "Closing E:\\jupyter file\\EEG_process\\SE_train\\Z林攀攀20220225（未发作）_bias_40.fif\n"
     ]
    },
    {
     "name": "stderr",
     "output_type": "stream",
     "text": [
      "<ipython-input-24-63daf20ba1ee>:23: RuntimeWarning: This filename (E:\\jupyter file\\EEG_process\\SE_train\\Z林攀攀20220225（未发作）_bias_24.fif) does not conform to MNE naming conventions. All raw files should end with raw.fif, raw_sss.fif, raw_tsss.fif, _meg.fif, _eeg.fif, _ieeg.fif, raw.fif.gz, raw_sss.fif.gz, raw_tsss.fif.gz, _meg.fif.gz, _eeg.fif.gz or _ieeg.fif.gz\n",
      "  raw.save(path_name,picks,start_time,end_time,overwrite=True)\n",
      "<ipython-input-24-63daf20ba1ee>:23: RuntimeWarning: This filename (E:\\jupyter file\\EEG_process\\SE_train\\Z林攀攀20220225（未发作）_bias_32.fif) does not conform to MNE naming conventions. All raw files should end with raw.fif, raw_sss.fif, raw_tsss.fif, _meg.fif, _eeg.fif, _ieeg.fif, raw.fif.gz, raw_sss.fif.gz, raw_tsss.fif.gz, _meg.fif.gz, _eeg.fif.gz or _ieeg.fif.gz\n",
      "  raw.save(path_name,picks,start_time,end_time,overwrite=True)\n",
      "<ipython-input-24-63daf20ba1ee>:23: RuntimeWarning: This filename (E:\\jupyter file\\EEG_process\\SE_train\\Z林攀攀20220225（未发作）_bias_40.fif) does not conform to MNE naming conventions. All raw files should end with raw.fif, raw_sss.fif, raw_tsss.fif, _meg.fif, _eeg.fif, _ieeg.fif, raw.fif.gz, raw_sss.fif.gz, raw_tsss.fif.gz, _meg.fif.gz, _eeg.fif.gz or _ieeg.fif.gz\n",
      "  raw.save(path_name,picks,start_time,end_time,overwrite=True)\n"
     ]
    },
    {
     "name": "stdout",
     "output_type": "stream",
     "text": [
      "[done]\n",
      "Extracting EDF parameters from E:\\jupyter file\\EEG_process\\patient_data\\治疗脑电（第一批次）\\Z林攀攀20220228.edf...\n",
      "EDF file detected\n",
      "Setting channel info structure...\n",
      "Creating raw.info structure...\n",
      "Used Annotations descriptions: ['File Create', 'Recording ends', 'Recording starts', 'SE', 'end', 'start']\n",
      "Extracting EDF parameters from E:\\jupyter file\\EEG_process\\patient_data\\治疗脑电（第一批次）\\Z林攀攀20220228.edf...\n",
      "EDF file detected\n",
      "Setting channel info structure...\n",
      "Creating raw.info structure...\n",
      "Used Annotations descriptions: ['File Create', 'Recording ends', 'Recording starts', 'SE', 'end', 'start']\n",
      "37.1806640625 + 45.1806640625\n",
      "..\\SE_train\\Z林攀攀20220228_bias_0.fif\n",
      "Writing E:\\jupyter file\\EEG_process\\SE_train\\Z林攀攀20220228_bias_0.fif\n",
      "Closing E:\\jupyter file\\EEG_process\\SE_train\\Z林攀攀20220228_bias_0.fif\n",
      "[done]\n",
      "Extracting EDF parameters from E:\\jupyter file\\EEG_process\\patient_data\\治疗脑电（第一批次）\\Z沈伟20220311.edf...\n",
      "EDF file detected\n",
      "Setting channel info structure...\n",
      "Creating raw.info structure...\n",
      "Used Annotations descriptions: ['File Create', 'Recording ends', 'Recording starts', 'SE', 'end', 'start']\n",
      "Extracting EDF parameters from E:\\jupyter file\\EEG_process\\patient_data\\治疗脑电（第一批次）\\Z沈伟20220311.edf...\n",
      "EDF file detected\n",
      "Setting channel info structure...\n",
      "Creating raw.info structure...\n",
      "Used Annotations descriptions: ['File Create', 'Recording ends', 'Recording starts', 'SE', 'end', 'start']\n",
      "323.4677734375 + 331.4677734375\n"
     ]
    },
    {
     "name": "stderr",
     "output_type": "stream",
     "text": [
      "<ipython-input-24-63daf20ba1ee>:23: RuntimeWarning: This filename (E:\\jupyter file\\EEG_process\\SE_train\\Z林攀攀20220228_bias_0.fif) does not conform to MNE naming conventions. All raw files should end with raw.fif, raw_sss.fif, raw_tsss.fif, _meg.fif, _eeg.fif, _ieeg.fif, raw.fif.gz, raw_sss.fif.gz, raw_tsss.fif.gz, _meg.fif.gz, _eeg.fif.gz or _ieeg.fif.gz\n",
      "  raw.save(path_name,picks,start_time,end_time,overwrite=True)\n"
     ]
    },
    {
     "name": "stdout",
     "output_type": "stream",
     "text": [
      "..\\SE_train\\Z沈伟20220311_bias_0.fif\n",
      "Writing E:\\jupyter file\\EEG_process\\SE_train\\Z沈伟20220311_bias_0.fif\n",
      "Closing E:\\jupyter file\\EEG_process\\SE_train\\Z沈伟20220311_bias_0.fif\n",
      "[done]\n",
      "Extracting EDF parameters from E:\\jupyter file\\EEG_process\\patient_data\\治疗脑电（第一批次）\\Z沈伟20220314（未发作）.edf...\n",
      "EDF file detected\n",
      "Setting channel info structure...\n",
      "Creating raw.info structure...\n",
      "Used Annotations descriptions: ['File Create', 'Recording ends', 'Recording starts', 'SE']\n",
      "Extracting EDF parameters from E:\\jupyter file\\EEG_process\\patient_data\\治疗脑电（第一批次）\\Z沈伟20220314（未发作）.edf...\n",
      "EDF file detected\n",
      "Setting channel info structure...\n",
      "Creating raw.info structure...\n",
      "Used Annotations descriptions: ['File Create', 'Recording ends', 'Recording starts', 'SE']\n",
      "49.9794921875 + 57.9794921875\n",
      "..\\SE_train\\Z沈伟20220314（未发作）_bias_0.fif\n",
      "Writing E:\\jupyter file\\EEG_process\\SE_train\\Z沈伟20220314（未发作）_bias_0.fif\n",
      "Closing E:\\jupyter file\\EEG_process\\SE_train\\Z沈伟20220314（未发作）_bias_0.fif\n",
      "[done]\n",
      "Extracting EDF parameters from E:\\jupyter file\\EEG_process\\patient_data\\治疗脑电（第一批次）\\Z沈伟20220314（未发作）.edf...\n",
      "EDF file detected\n",
      "Setting channel info structure...\n",
      "Creating raw.info structure...\n"
     ]
    },
    {
     "name": "stderr",
     "output_type": "stream",
     "text": [
      "<ipython-input-24-63daf20ba1ee>:23: RuntimeWarning: This filename (E:\\jupyter file\\EEG_process\\SE_train\\Z沈伟20220311_bias_0.fif) does not conform to MNE naming conventions. All raw files should end with raw.fif, raw_sss.fif, raw_tsss.fif, _meg.fif, _eeg.fif, _ieeg.fif, raw.fif.gz, raw_sss.fif.gz, raw_tsss.fif.gz, _meg.fif.gz, _eeg.fif.gz or _ieeg.fif.gz\n",
      "  raw.save(path_name,picks,start_time,end_time,overwrite=True)\n",
      "<ipython-input-24-63daf20ba1ee>:23: RuntimeWarning: This filename (E:\\jupyter file\\EEG_process\\SE_train\\Z沈伟20220314（未发作）_bias_0.fif) does not conform to MNE naming conventions. All raw files should end with raw.fif, raw_sss.fif, raw_tsss.fif, _meg.fif, _eeg.fif, _ieeg.fif, raw.fif.gz, raw_sss.fif.gz, raw_tsss.fif.gz, _meg.fif.gz, _eeg.fif.gz or _ieeg.fif.gz\n",
      "  raw.save(path_name,picks,start_time,end_time,overwrite=True)\n"
     ]
    },
    {
     "name": "stdout",
     "output_type": "stream",
     "text": [
      "Used Annotations descriptions: ['File Create', 'Recording ends', 'Recording starts', 'SE']\n",
      "57.9794921875 + 73.9794921875\n",
      "..\\SE_train\\Z沈伟20220314（未发作）_bias_8.fif\n",
      "Writing E:\\jupyter file\\EEG_process\\SE_train\\Z沈伟20220314（未发作）_bias_8.fif\n",
      "Closing E:\\jupyter file\\EEG_process\\SE_train\\Z沈伟20220314（未发作）_bias_8.fif\n",
      "[done]\n",
      "Extracting EDF parameters from E:\\jupyter file\\EEG_process\\patient_data\\治疗脑电（第一批次）\\Z沈伟20220314（未发作）.edf...\n",
      "EDF file detected\n",
      "Setting channel info structure...\n",
      "Creating raw.info structure...\n",
      "Used Annotations descriptions: ['File Create', 'Recording ends', 'Recording starts', 'SE']\n",
      "65.9794921875 + 81.9794921875\n",
      "..\\SE_train\\Z沈伟20220314（未发作）_bias_16.fif\n",
      "Writing E:\\jupyter file\\EEG_process\\SE_train\\Z沈伟20220314（未发作）_bias_16.fif\n",
      "Closing E:\\jupyter file\\EEG_process\\SE_train\\Z沈伟20220314（未发作）_bias_16.fif\n",
      "[done]\n",
      "Extracting EDF parameters from E:\\jupyter file\\EEG_process\\patient_data\\治疗脑电（第一批次）\\Z沈伟20220314（未发作）.edf...\n",
      "EDF file detected\n",
      "Setting channel info structure...\n",
      "Creating raw.info structure...\n",
      "Used Annotations descriptions: ['File Create', 'Recording ends', 'Recording starts', 'SE']\n"
     ]
    },
    {
     "name": "stderr",
     "output_type": "stream",
     "text": [
      "<ipython-input-24-63daf20ba1ee>:23: RuntimeWarning: This filename (E:\\jupyter file\\EEG_process\\SE_train\\Z沈伟20220314（未发作）_bias_8.fif) does not conform to MNE naming conventions. All raw files should end with raw.fif, raw_sss.fif, raw_tsss.fif, _meg.fif, _eeg.fif, _ieeg.fif, raw.fif.gz, raw_sss.fif.gz, raw_tsss.fif.gz, _meg.fif.gz, _eeg.fif.gz or _ieeg.fif.gz\n",
      "  raw.save(path_name,picks,start_time,end_time,overwrite=True)\n",
      "<ipython-input-24-63daf20ba1ee>:23: RuntimeWarning: This filename (E:\\jupyter file\\EEG_process\\SE_train\\Z沈伟20220314（未发作）_bias_16.fif) does not conform to MNE naming conventions. All raw files should end with raw.fif, raw_sss.fif, raw_tsss.fif, _meg.fif, _eeg.fif, _ieeg.fif, raw.fif.gz, raw_sss.fif.gz, raw_tsss.fif.gz, _meg.fif.gz, _eeg.fif.gz or _ieeg.fif.gz\n",
      "  raw.save(path_name,picks,start_time,end_time,overwrite=True)\n"
     ]
    },
    {
     "name": "stdout",
     "output_type": "stream",
     "text": [
      "73.9794921875 + 89.9794921875\n",
      "..\\SE_train\\Z沈伟20220314（未发作）_bias_24.fif\n",
      "Writing E:\\jupyter file\\EEG_process\\SE_train\\Z沈伟20220314（未发作）_bias_24.fif\n",
      "Closing E:\\jupyter file\\EEG_process\\SE_train\\Z沈伟20220314（未发作）_bias_24.fif\n",
      "[done]\n",
      "Extracting EDF parameters from E:\\jupyter file\\EEG_process\\patient_data\\治疗脑电（第一批次）\\Z沈伟20220314（未发作）.edf...\n",
      "EDF file detected\n",
      "Setting channel info structure...\n",
      "Creating raw.info structure...\n",
      "Used Annotations descriptions: ['File Create', 'Recording ends', 'Recording starts', 'SE']\n",
      "81.9794921875 + 97.9794921875\n",
      "..\\SE_train\\Z沈伟20220314（未发作）_bias_32.fif\n",
      "Writing E:\\jupyter file\\EEG_process\\SE_train\\Z沈伟20220314（未发作）_bias_32.fif\n",
      "Closing E:\\jupyter file\\EEG_process\\SE_train\\Z沈伟20220314（未发作）_bias_32.fif\n",
      "[done]\n",
      "Extracting EDF parameters from E:\\jupyter file\\EEG_process\\patient_data\\治疗脑电（第一批次）\\Z沈伟20220314（未发作）.edf...\n",
      "EDF file detected\n",
      "Setting channel info structure...\n",
      "Creating raw.info structure...\n",
      "Used Annotations descriptions: ['File Create', 'Recording ends', 'Recording starts', 'SE']\n",
      "89.9794921875 + 105.9794921875\n"
     ]
    },
    {
     "name": "stderr",
     "output_type": "stream",
     "text": [
      "<ipython-input-24-63daf20ba1ee>:23: RuntimeWarning: This filename (E:\\jupyter file\\EEG_process\\SE_train\\Z沈伟20220314（未发作）_bias_24.fif) does not conform to MNE naming conventions. All raw files should end with raw.fif, raw_sss.fif, raw_tsss.fif, _meg.fif, _eeg.fif, _ieeg.fif, raw.fif.gz, raw_sss.fif.gz, raw_tsss.fif.gz, _meg.fif.gz, _eeg.fif.gz or _ieeg.fif.gz\n",
      "  raw.save(path_name,picks,start_time,end_time,overwrite=True)\n",
      "<ipython-input-24-63daf20ba1ee>:23: RuntimeWarning: This filename (E:\\jupyter file\\EEG_process\\SE_train\\Z沈伟20220314（未发作）_bias_32.fif) does not conform to MNE naming conventions. All raw files should end with raw.fif, raw_sss.fif, raw_tsss.fif, _meg.fif, _eeg.fif, _ieeg.fif, raw.fif.gz, raw_sss.fif.gz, raw_tsss.fif.gz, _meg.fif.gz, _eeg.fif.gz or _ieeg.fif.gz\n",
      "  raw.save(path_name,picks,start_time,end_time,overwrite=True)\n"
     ]
    },
    {
     "name": "stdout",
     "output_type": "stream",
     "text": [
      "..\\SE_train\\Z沈伟20220314（未发作）_bias_40.fif\n",
      "Writing E:\\jupyter file\\EEG_process\\SE_train\\Z沈伟20220314（未发作）_bias_40.fif\n",
      "Closing E:\\jupyter file\\EEG_process\\SE_train\\Z沈伟20220314（未发作）_bias_40.fif\n",
      "[done]\n",
      "Extracting EDF parameters from E:\\jupyter file\\EEG_process\\patient_data\\治疗脑电（第一批次）\\Z沈伟20220316.edf...\n",
      "EDF file detected\n",
      "Setting channel info structure...\n",
      "Creating raw.info structure...\n",
      "Used Annotations descriptions: ['File Create', 'Recording ends', 'Recording starts', 'SE', 'end', 'start']\n",
      "Extracting EDF parameters from E:\\jupyter file\\EEG_process\\patient_data\\治疗脑电（第一批次）\\Z沈伟20220316.edf...\n",
      "EDF file detected\n",
      "Setting channel info structure...\n",
      "Creating raw.info structure...\n",
      "Used Annotations descriptions: ['File Create', 'Recording ends', 'Recording starts', 'SE', 'end', 'start']\n",
      "153.25 + 161.25\n",
      "..\\SE_train\\Z沈伟20220316_bias_0.fif\n",
      "Writing E:\\jupyter file\\EEG_process\\SE_train\\Z沈伟20220316_bias_0.fif\n",
      "Closing E:\\jupyter file\\EEG_process\\SE_train\\Z沈伟20220316_bias_0.fif\n"
     ]
    },
    {
     "name": "stderr",
     "output_type": "stream",
     "text": [
      "<ipython-input-24-63daf20ba1ee>:23: RuntimeWarning: This filename (E:\\jupyter file\\EEG_process\\SE_train\\Z沈伟20220314（未发作）_bias_40.fif) does not conform to MNE naming conventions. All raw files should end with raw.fif, raw_sss.fif, raw_tsss.fif, _meg.fif, _eeg.fif, _ieeg.fif, raw.fif.gz, raw_sss.fif.gz, raw_tsss.fif.gz, _meg.fif.gz, _eeg.fif.gz or _ieeg.fif.gz\n",
      "  raw.save(path_name,picks,start_time,end_time,overwrite=True)\n",
      "<ipython-input-24-63daf20ba1ee>:23: RuntimeWarning: This filename (E:\\jupyter file\\EEG_process\\SE_train\\Z沈伟20220316_bias_0.fif) does not conform to MNE naming conventions. All raw files should end with raw.fif, raw_sss.fif, raw_tsss.fif, _meg.fif, _eeg.fif, _ieeg.fif, raw.fif.gz, raw_sss.fif.gz, raw_tsss.fif.gz, _meg.fif.gz, _eeg.fif.gz or _ieeg.fif.gz\n",
      "  raw.save(path_name,picks,start_time,end_time,overwrite=True)\n"
     ]
    },
    {
     "name": "stdout",
     "output_type": "stream",
     "text": [
      "[done]\n",
      "Extracting EDF parameters from E:\\jupyter file\\EEG_process\\patient_data\\治疗脑电（第一批次）\\Z沈伟20220318.edf...\n",
      "EDF file detected\n",
      "Setting channel info structure...\n",
      "Creating raw.info structure...\n",
      "Used Annotations descriptions: ['File Create', 'Recording ends', 'Recording starts', 'SE', 'end', 'start']\n",
      "Extracting EDF parameters from E:\\jupyter file\\EEG_process\\patient_data\\治疗脑电（第一批次）\\Z沈伟20220318.edf...\n",
      "EDF file detected\n",
      "Setting channel info structure...\n",
      "Creating raw.info structure...\n",
      "Used Annotations descriptions: ['File Create', 'Recording ends', 'Recording starts', 'SE', 'end', 'start']\n",
      "49.720703125 + 57.720703125\n",
      "..\\SE_train\\Z沈伟20220318_bias_0.fif\n",
      "Writing E:\\jupyter file\\EEG_process\\SE_train\\Z沈伟20220318_bias_0.fif\n",
      "Closing E:\\jupyter file\\EEG_process\\SE_train\\Z沈伟20220318_bias_0.fif\n",
      "[done]\n",
      "Extracting EDF parameters from E:\\jupyter file\\EEG_process\\patient_data\\治疗脑电（第一批次）\\Z肖星星20220325.edf...\n",
      "EDF file detected\n",
      "Setting channel info structure...\n",
      "Creating raw.info structure...\n",
      "Used Annotations descriptions: ['File Create', 'Recording ends', 'Recording starts', 'SE', 'end', 'start']\n",
      "Extracting EDF parameters from E:\\jupyter file\\EEG_process\\patient_data\\治疗脑电（第一批次）\\Z肖星星20220325.edf...\n",
      "EDF file detected\n",
      "Setting channel info structure...\n",
      "Creating raw.info structure...\n",
      "Used Annotations descriptions: ['File Create', 'Recording ends', 'Recording starts', 'SE', 'end', 'start']\n",
      "376.7578125 + 384.7578125\n"
     ]
    },
    {
     "name": "stderr",
     "output_type": "stream",
     "text": [
      "<ipython-input-24-63daf20ba1ee>:23: RuntimeWarning: This filename (E:\\jupyter file\\EEG_process\\SE_train\\Z沈伟20220318_bias_0.fif) does not conform to MNE naming conventions. All raw files should end with raw.fif, raw_sss.fif, raw_tsss.fif, _meg.fif, _eeg.fif, _ieeg.fif, raw.fif.gz, raw_sss.fif.gz, raw_tsss.fif.gz, _meg.fif.gz, _eeg.fif.gz or _ieeg.fif.gz\n",
      "  raw.save(path_name,picks,start_time,end_time,overwrite=True)\n"
     ]
    },
    {
     "name": "stdout",
     "output_type": "stream",
     "text": [
      "..\\SE_train\\Z肖星星20220325_bias_0.fif\n",
      "Writing E:\\jupyter file\\EEG_process\\SE_train\\Z肖星星20220325_bias_0.fif\n",
      "Closing E:\\jupyter file\\EEG_process\\SE_train\\Z肖星星20220325_bias_0.fif\n",
      "[done]\n",
      "Extracting EDF parameters from E:\\jupyter file\\EEG_process\\patient_data\\治疗脑电（第一批次）\\Z肖星星20220328.edf...\n",
      "EDF file detected\n",
      "Setting channel info structure...\n",
      "Creating raw.info structure...\n",
      "Used Annotations descriptions: ['File Create', 'Recording ends', 'Recording starts', 'SE', 'end', 'start']\n",
      "Extracting EDF parameters from E:\\jupyter file\\EEG_process\\patient_data\\治疗脑电（第一批次）\\Z肖星星20220328.edf...\n",
      "EDF file detected\n",
      "Setting channel info structure...\n",
      "Creating raw.info structure...\n",
      "Used Annotations descriptions: ['File Create', 'Recording ends', 'Recording starts', 'SE', 'end', 'start']\n",
      "70.6962890625 + 78.6962890625\n",
      "..\\SE_train\\Z肖星星20220328_bias_0.fif\n",
      "Writing E:\\jupyter file\\EEG_process\\SE_train\\Z肖星星20220328_bias_0.fif\n",
      "Closing E:\\jupyter file\\EEG_process\\SE_train\\Z肖星星20220328_bias_0.fif\n",
      "[done]\n",
      "Extracting EDF parameters from E:\\jupyter file\\EEG_process\\patient_data\\治疗脑电（第一批次）\\Z肖星星20220330（未发作）.edf...\n",
      "EDF file detected\n",
      "Setting channel info structure...\n",
      "Creating raw.info structure...\n",
      "Used Annotations descriptions: ['File Create', 'Recording ends', 'Recording starts', 'SE']\n"
     ]
    },
    {
     "name": "stderr",
     "output_type": "stream",
     "text": [
      "<ipython-input-24-63daf20ba1ee>:23: RuntimeWarning: This filename (E:\\jupyter file\\EEG_process\\SE_train\\Z肖星星20220325_bias_0.fif) does not conform to MNE naming conventions. All raw files should end with raw.fif, raw_sss.fif, raw_tsss.fif, _meg.fif, _eeg.fif, _ieeg.fif, raw.fif.gz, raw_sss.fif.gz, raw_tsss.fif.gz, _meg.fif.gz, _eeg.fif.gz or _ieeg.fif.gz\n",
      "  raw.save(path_name,picks,start_time,end_time,overwrite=True)\n",
      "<ipython-input-24-63daf20ba1ee>:23: RuntimeWarning: This filename (E:\\jupyter file\\EEG_process\\SE_train\\Z肖星星20220328_bias_0.fif) does not conform to MNE naming conventions. All raw files should end with raw.fif, raw_sss.fif, raw_tsss.fif, _meg.fif, _eeg.fif, _ieeg.fif, raw.fif.gz, raw_sss.fif.gz, raw_tsss.fif.gz, _meg.fif.gz, _eeg.fif.gz or _ieeg.fif.gz\n",
      "  raw.save(path_name,picks,start_time,end_time,overwrite=True)\n"
     ]
    },
    {
     "name": "stdout",
     "output_type": "stream",
     "text": [
      "Extracting EDF parameters from E:\\jupyter file\\EEG_process\\patient_data\\治疗脑电（第一批次）\\Z肖星星20220330（未发作）.edf...\n",
      "EDF file detected\n",
      "Setting channel info structure...\n",
      "Creating raw.info structure...\n",
      "Used Annotations descriptions: ['File Create', 'Recording ends', 'Recording starts', 'SE']\n",
      "18.6865234375 + 26.6865234375\n",
      "..\\SE_train\\Z肖星星20220330（未发作）_bias_0.fif\n",
      "Writing E:\\jupyter file\\EEG_process\\SE_train\\Z肖星星20220330（未发作）_bias_0.fif\n",
      "Closing E:\\jupyter file\\EEG_process\\SE_train\\Z肖星星20220330（未发作）_bias_0.fif\n",
      "[done]\n",
      "Extracting EDF parameters from E:\\jupyter file\\EEG_process\\patient_data\\治疗脑电（第一批次）\\Z肖星星20220330（未发作）.edf...\n",
      "EDF file detected\n",
      "Setting channel info structure...\n",
      "Creating raw.info structure...\n",
      "Used Annotations descriptions: ['File Create', 'Recording ends', 'Recording starts', 'SE']\n",
      "26.6865234375 + 42.6865234375\n",
      "..\\SE_train\\Z肖星星20220330（未发作）_bias_8.fif\n",
      "Writing E:\\jupyter file\\EEG_process\\SE_train\\Z肖星星20220330（未发作）_bias_8.fif\n",
      "Closing E:\\jupyter file\\EEG_process\\SE_train\\Z肖星星20220330（未发作）_bias_8.fif\n",
      "[done]\n",
      "Extracting EDF parameters from E:\\jupyter file\\EEG_process\\patient_data\\治疗脑电（第一批次）\\Z肖星星20220330（未发作）.edf...\n",
      "EDF file detected\n",
      "Setting channel info structure...\n",
      "Creating raw.info structure...\n",
      "Used Annotations descriptions: ['File Create', 'Recording ends', 'Recording starts', 'SE']\n"
     ]
    },
    {
     "name": "stderr",
     "output_type": "stream",
     "text": [
      "<ipython-input-24-63daf20ba1ee>:23: RuntimeWarning: This filename (E:\\jupyter file\\EEG_process\\SE_train\\Z肖星星20220330（未发作）_bias_0.fif) does not conform to MNE naming conventions. All raw files should end with raw.fif, raw_sss.fif, raw_tsss.fif, _meg.fif, _eeg.fif, _ieeg.fif, raw.fif.gz, raw_sss.fif.gz, raw_tsss.fif.gz, _meg.fif.gz, _eeg.fif.gz or _ieeg.fif.gz\n",
      "  raw.save(path_name,picks,start_time,end_time,overwrite=True)\n",
      "<ipython-input-24-63daf20ba1ee>:23: RuntimeWarning: This filename (E:\\jupyter file\\EEG_process\\SE_train\\Z肖星星20220330（未发作）_bias_8.fif) does not conform to MNE naming conventions. All raw files should end with raw.fif, raw_sss.fif, raw_tsss.fif, _meg.fif, _eeg.fif, _ieeg.fif, raw.fif.gz, raw_sss.fif.gz, raw_tsss.fif.gz, _meg.fif.gz, _eeg.fif.gz or _ieeg.fif.gz\n",
      "  raw.save(path_name,picks,start_time,end_time,overwrite=True)\n",
      "<ipython-input-24-63daf20ba1ee>:23: RuntimeWarning: This filename (E:\\jupyter file\\EEG_process\\SE_train\\Z肖星星20220330（未发作）_bias_16.fif) does not conform to MNE naming conventions. All raw files should end with raw.fif, raw_sss.fif, raw_tsss.fif, _meg.fif, _eeg.fif, _ieeg.fif, raw.fif.gz, raw_sss.fif.gz, raw_tsss.fif.gz, _meg.fif.gz, _eeg.fif.gz or _ieeg.fif.gz\n",
      "  raw.save(path_name,picks,start_time,end_time,overwrite=True)\n"
     ]
    },
    {
     "name": "stdout",
     "output_type": "stream",
     "text": [
      "34.6865234375 + 50.6865234375\n",
      "..\\SE_train\\Z肖星星20220330（未发作）_bias_16.fif\n",
      "Writing E:\\jupyter file\\EEG_process\\SE_train\\Z肖星星20220330（未发作）_bias_16.fif\n",
      "Closing E:\\jupyter file\\EEG_process\\SE_train\\Z肖星星20220330（未发作）_bias_16.fif\n",
      "[done]\n",
      "Extracting EDF parameters from E:\\jupyter file\\EEG_process\\patient_data\\治疗脑电（第一批次）\\Z肖星星20220330（未发作）.edf...\n",
      "EDF file detected\n",
      "Setting channel info structure...\n",
      "Creating raw.info structure...\n",
      "Used Annotations descriptions: ['File Create', 'Recording ends', 'Recording starts', 'SE']\n",
      "42.6865234375 + 58.6865234375\n",
      "..\\SE_train\\Z肖星星20220330（未发作）_bias_24.fif\n",
      "Writing E:\\jupyter file\\EEG_process\\SE_train\\Z肖星星20220330（未发作）_bias_24.fif\n",
      "Closing E:\\jupyter file\\EEG_process\\SE_train\\Z肖星星20220330（未发作）_bias_24.fif\n",
      "[done]\n",
      "Extracting EDF parameters from E:\\jupyter file\\EEG_process\\patient_data\\治疗脑电（第一批次）\\Z肖星星20220330（未发作）.edf...\n",
      "EDF file detected\n",
      "Setting channel info structure...\n",
      "Creating raw.info structure...\n",
      "Used Annotations descriptions: ['File Create', 'Recording ends', 'Recording starts', 'SE']\n",
      "50.6865234375 + 66.6865234375\n",
      "..\\SE_train\\Z肖星星20220330（未发作）_bias_32.fif\n",
      "Writing E:\\jupyter file\\EEG_process\\SE_train\\Z肖星星20220330（未发作）_bias_32.fif\n",
      "Closing E:\\jupyter file\\EEG_process\\SE_train\\Z肖星星20220330（未发作）_bias_32.fif\n",
      "[done]\n",
      "Extracting EDF parameters from E:\\jupyter file\\EEG_process\\patient_data\\治疗脑电（第一批次）\\Z肖星星20220330（未发作）.edf...\n",
      "EDF file detected\n",
      "Setting channel info structure...\n",
      "Creating raw.info structure...\n",
      "Used Annotations descriptions: ['File Create', 'Recording ends', 'Recording starts', 'SE']\n"
     ]
    },
    {
     "name": "stderr",
     "output_type": "stream",
     "text": [
      "<ipython-input-24-63daf20ba1ee>:23: RuntimeWarning: This filename (E:\\jupyter file\\EEG_process\\SE_train\\Z肖星星20220330（未发作）_bias_24.fif) does not conform to MNE naming conventions. All raw files should end with raw.fif, raw_sss.fif, raw_tsss.fif, _meg.fif, _eeg.fif, _ieeg.fif, raw.fif.gz, raw_sss.fif.gz, raw_tsss.fif.gz, _meg.fif.gz, _eeg.fif.gz or _ieeg.fif.gz\n",
      "  raw.save(path_name,picks,start_time,end_time,overwrite=True)\n",
      "<ipython-input-24-63daf20ba1ee>:23: RuntimeWarning: This filename (E:\\jupyter file\\EEG_process\\SE_train\\Z肖星星20220330（未发作）_bias_32.fif) does not conform to MNE naming conventions. All raw files should end with raw.fif, raw_sss.fif, raw_tsss.fif, _meg.fif, _eeg.fif, _ieeg.fif, raw.fif.gz, raw_sss.fif.gz, raw_tsss.fif.gz, _meg.fif.gz, _eeg.fif.gz or _ieeg.fif.gz\n",
      "  raw.save(path_name,picks,start_time,end_time,overwrite=True)\n",
      "<ipython-input-24-63daf20ba1ee>:23: RuntimeWarning: This filename (E:\\jupyter file\\EEG_process\\SE_train\\Z肖星星20220330（未发作）_bias_40.fif) does not conform to MNE naming conventions. All raw files should end with raw.fif, raw_sss.fif, raw_tsss.fif, _meg.fif, _eeg.fif, _ieeg.fif, raw.fif.gz, raw_sss.fif.gz, raw_tsss.fif.gz, _meg.fif.gz, _eeg.fif.gz or _ieeg.fif.gz\n",
      "  raw.save(path_name,picks,start_time,end_time,overwrite=True)\n"
     ]
    },
    {
     "name": "stdout",
     "output_type": "stream",
     "text": [
      "58.6865234375 + 74.6865234375\n",
      "..\\SE_train\\Z肖星星20220330（未发作）_bias_40.fif\n",
      "Writing E:\\jupyter file\\EEG_process\\SE_train\\Z肖星星20220330（未发作）_bias_40.fif\n",
      "Closing E:\\jupyter file\\EEG_process\\SE_train\\Z肖星星20220330（未发作）_bias_40.fif\n",
      "[done]\n",
      "Extracting EDF parameters from E:\\jupyter file\\EEG_process\\patient_data\\治疗脑电（第一批次）\\Z肖星星20220401.edf...\n",
      "EDF file detected\n",
      "Setting channel info structure...\n",
      "Creating raw.info structure...\n",
      "Used Annotations descriptions: ['File Create', 'Recording ends', 'Recording starts', 'SE', 'end', 'start']\n",
      "Extracting EDF parameters from E:\\jupyter file\\EEG_process\\patient_data\\治疗脑电（第一批次）\\Z肖星星20220401.edf...\n",
      "EDF file detected\n",
      "Setting channel info structure...\n",
      "Creating raw.info structure...\n",
      "Used Annotations descriptions: ['File Create', 'Recording ends', 'Recording starts', 'SE', 'end', 'start']\n",
      "82.1650390625 + 90.1650390625\n",
      "..\\SE_train\\Z肖星星20220401_bias_0.fif\n",
      "Writing E:\\jupyter file\\EEG_process\\SE_train\\Z肖星星20220401_bias_0.fif\n",
      "Closing E:\\jupyter file\\EEG_process\\SE_train\\Z肖星星20220401_bias_0.fif\n",
      "[done]\n",
      "Extracting EDF parameters from E:\\jupyter file\\EEG_process\\patient_data\\治疗脑电（第一批次）\\Z肖智华20220225（未发作）.edf...\n",
      "EDF file detected\n",
      "Setting channel info structure...\n",
      "Creating raw.info structure...\n",
      "Used Annotations descriptions: ['File Create', 'Recording ends', 'Recording starts', 'SE']\n",
      "Extracting EDF parameters from E:\\jupyter file\\EEG_process\\patient_data\\治疗脑电（第一批次）\\Z肖智华20220225（未发作）.edf...\n",
      "EDF file detected\n",
      "Setting channel info structure...\n",
      "Creating raw.info structure...\n",
      "Used Annotations descriptions: ['File Create', 'Recording ends', 'Recording starts', 'SE']\n",
      "2.9580078125 + 10.9580078125\n",
      "..\\SE_train\\Z肖智华20220225（未发作）_bias_0.fif\n",
      "Writing E:\\jupyter file\\EEG_process\\SE_train\\Z肖智华20220225（未发作）_bias_0.fif\n",
      "Closing E:\\jupyter file\\EEG_process\\SE_train\\Z肖智华20220225（未发作）_bias_0.fif\n",
      "[done]\n",
      "Extracting EDF parameters from E:\\jupyter file\\EEG_process\\patient_data\\治疗脑电（第一批次）\\Z肖智华20220225（未发作）.edf...\n",
      "EDF file detected\n",
      "Setting channel info structure...\n",
      "Creating raw.info structure...\n",
      "Used Annotations descriptions: ['File Create', 'Recording ends', 'Recording starts', 'SE']\n",
      "10.9580078125 + 26.9580078125\n"
     ]
    },
    {
     "name": "stderr",
     "output_type": "stream",
     "text": [
      "<ipython-input-24-63daf20ba1ee>:23: RuntimeWarning: This filename (E:\\jupyter file\\EEG_process\\SE_train\\Z肖星星20220401_bias_0.fif) does not conform to MNE naming conventions. All raw files should end with raw.fif, raw_sss.fif, raw_tsss.fif, _meg.fif, _eeg.fif, _ieeg.fif, raw.fif.gz, raw_sss.fif.gz, raw_tsss.fif.gz, _meg.fif.gz, _eeg.fif.gz or _ieeg.fif.gz\n",
      "  raw.save(path_name,picks,start_time,end_time,overwrite=True)\n",
      "<ipython-input-24-63daf20ba1ee>:23: RuntimeWarning: This filename (E:\\jupyter file\\EEG_process\\SE_train\\Z肖智华20220225（未发作）_bias_0.fif) does not conform to MNE naming conventions. All raw files should end with raw.fif, raw_sss.fif, raw_tsss.fif, _meg.fif, _eeg.fif, _ieeg.fif, raw.fif.gz, raw_sss.fif.gz, raw_tsss.fif.gz, _meg.fif.gz, _eeg.fif.gz or _ieeg.fif.gz\n",
      "  raw.save(path_name,picks,start_time,end_time,overwrite=True)\n"
     ]
    },
    {
     "name": "stdout",
     "output_type": "stream",
     "text": [
      "..\\SE_train\\Z肖智华20220225（未发作）_bias_8.fif\n",
      "Writing E:\\jupyter file\\EEG_process\\SE_train\\Z肖智华20220225（未发作）_bias_8.fif\n",
      "Closing E:\\jupyter file\\EEG_process\\SE_train\\Z肖智华20220225（未发作）_bias_8.fif\n",
      "[done]\n",
      "Extracting EDF parameters from E:\\jupyter file\\EEG_process\\patient_data\\治疗脑电（第一批次）\\Z肖智华20220225（未发作）.edf...\n",
      "EDF file detected\n",
      "Setting channel info structure...\n",
      "Creating raw.info structure...\n",
      "Used Annotations descriptions: ['File Create', 'Recording ends', 'Recording starts', 'SE']\n",
      "18.9580078125 + 34.9580078125\n",
      "..\\SE_train\\Z肖智华20220225（未发作）_bias_16.fif\n",
      "Writing E:\\jupyter file\\EEG_process\\SE_train\\Z肖智华20220225（未发作）_bias_16.fif\n",
      "Closing E:\\jupyter file\\EEG_process\\SE_train\\Z肖智华20220225（未发作）_bias_16.fif\n",
      "[done]\n",
      "Extracting EDF parameters from E:\\jupyter file\\EEG_process\\patient_data\\治疗脑电（第一批次）\\Z肖智华20220225（未发作）.edf...\n",
      "EDF file detected\n",
      "Setting channel info structure...\n",
      "Creating raw.info structure...\n",
      "Used Annotations descriptions: ['File Create', 'Recording ends', 'Recording starts', 'SE']\n",
      "26.9580078125 + 42.9580078125\n"
     ]
    },
    {
     "name": "stderr",
     "output_type": "stream",
     "text": [
      "<ipython-input-24-63daf20ba1ee>:23: RuntimeWarning: This filename (E:\\jupyter file\\EEG_process\\SE_train\\Z肖智华20220225（未发作）_bias_8.fif) does not conform to MNE naming conventions. All raw files should end with raw.fif, raw_sss.fif, raw_tsss.fif, _meg.fif, _eeg.fif, _ieeg.fif, raw.fif.gz, raw_sss.fif.gz, raw_tsss.fif.gz, _meg.fif.gz, _eeg.fif.gz or _ieeg.fif.gz\n",
      "  raw.save(path_name,picks,start_time,end_time,overwrite=True)\n",
      "<ipython-input-24-63daf20ba1ee>:23: RuntimeWarning: This filename (E:\\jupyter file\\EEG_process\\SE_train\\Z肖智华20220225（未发作）_bias_16.fif) does not conform to MNE naming conventions. All raw files should end with raw.fif, raw_sss.fif, raw_tsss.fif, _meg.fif, _eeg.fif, _ieeg.fif, raw.fif.gz, raw_sss.fif.gz, raw_tsss.fif.gz, _meg.fif.gz, _eeg.fif.gz or _ieeg.fif.gz\n",
      "  raw.save(path_name,picks,start_time,end_time,overwrite=True)\n"
     ]
    },
    {
     "name": "stdout",
     "output_type": "stream",
     "text": [
      "..\\SE_train\\Z肖智华20220225（未发作）_bias_24.fif\n",
      "Writing E:\\jupyter file\\EEG_process\\SE_train\\Z肖智华20220225（未发作）_bias_24.fif\n",
      "Closing E:\\jupyter file\\EEG_process\\SE_train\\Z肖智华20220225（未发作）_bias_24.fif\n",
      "[done]\n",
      "Extracting EDF parameters from E:\\jupyter file\\EEG_process\\patient_data\\治疗脑电（第一批次）\\Z肖智华20220225（未发作）.edf...\n",
      "EDF file detected\n",
      "Setting channel info structure...\n",
      "Creating raw.info structure...\n",
      "Used Annotations descriptions: ['File Create', 'Recording ends', 'Recording starts', 'SE']\n",
      "34.9580078125 + 50.9580078125\n",
      "..\\SE_train\\Z肖智华20220225（未发作）_bias_32.fif\n",
      "Writing E:\\jupyter file\\EEG_process\\SE_train\\Z肖智华20220225（未发作）_bias_32.fif\n",
      "Closing E:\\jupyter file\\EEG_process\\SE_train\\Z肖智华20220225（未发作）_bias_32.fif\n",
      "[done]\n",
      "Extracting EDF parameters from E:\\jupyter file\\EEG_process\\patient_data\\治疗脑电（第一批次）\\Z肖智华20220225（未发作）.edf...\n",
      "EDF file detected\n",
      "Setting channel info structure...\n",
      "Creating raw.info structure...\n",
      "Used Annotations descriptions: ['File Create', 'Recording ends', 'Recording starts', 'SE']\n",
      "42.9580078125 + 58.9580078125\n",
      "..\\SE_train\\Z肖智华20220225（未发作）_bias_40.fif\n"
     ]
    },
    {
     "name": "stderr",
     "output_type": "stream",
     "text": [
      "<ipython-input-24-63daf20ba1ee>:23: RuntimeWarning: This filename (E:\\jupyter file\\EEG_process\\SE_train\\Z肖智华20220225（未发作）_bias_24.fif) does not conform to MNE naming conventions. All raw files should end with raw.fif, raw_sss.fif, raw_tsss.fif, _meg.fif, _eeg.fif, _ieeg.fif, raw.fif.gz, raw_sss.fif.gz, raw_tsss.fif.gz, _meg.fif.gz, _eeg.fif.gz or _ieeg.fif.gz\n",
      "  raw.save(path_name,picks,start_time,end_time,overwrite=True)\n",
      "<ipython-input-24-63daf20ba1ee>:23: RuntimeWarning: This filename (E:\\jupyter file\\EEG_process\\SE_train\\Z肖智华20220225（未发作）_bias_32.fif) does not conform to MNE naming conventions. All raw files should end with raw.fif, raw_sss.fif, raw_tsss.fif, _meg.fif, _eeg.fif, _ieeg.fif, raw.fif.gz, raw_sss.fif.gz, raw_tsss.fif.gz, _meg.fif.gz, _eeg.fif.gz or _ieeg.fif.gz\n",
      "  raw.save(path_name,picks,start_time,end_time,overwrite=True)\n",
      "<ipython-input-24-63daf20ba1ee>:23: RuntimeWarning: This filename (E:\\jupyter file\\EEG_process\\SE_train\\Z肖智华20220225（未发作）_bias_40.fif) does not conform to MNE naming conventions. All raw files should end with raw.fif, raw_sss.fif, raw_tsss.fif, _meg.fif, _eeg.fif, _ieeg.fif, raw.fif.gz, raw_sss.fif.gz, raw_tsss.fif.gz, _meg.fif.gz, _eeg.fif.gz or _ieeg.fif.gz\n",
      "  raw.save(path_name,picks,start_time,end_time,overwrite=True)\n"
     ]
    },
    {
     "name": "stdout",
     "output_type": "stream",
     "text": [
      "Writing E:\\jupyter file\\EEG_process\\SE_train\\Z肖智华20220225（未发作）_bias_40.fif\n",
      "Closing E:\\jupyter file\\EEG_process\\SE_train\\Z肖智华20220225（未发作）_bias_40.fif\n",
      "[done]\n",
      "Extracting EDF parameters from E:\\jupyter file\\EEG_process\\patient_data\\治疗脑电（第一批次）\\Z肖智华20220228.edf...\n",
      "EDF file detected\n",
      "Setting channel info structure...\n",
      "Creating raw.info structure...\n",
      "Used Annotations descriptions: ['File Create', 'Recording ends', 'Recording starts', 'SE', 'end', 'start']\n",
      "Extracting EDF parameters from E:\\jupyter file\\EEG_process\\patient_data\\治疗脑电（第一批次）\\Z肖智华20220228.edf...\n",
      "EDF file detected\n",
      "Setting channel info structure...\n",
      "Creating raw.info structure...\n",
      "Used Annotations descriptions: ['File Create', 'Recording ends', 'Recording starts', 'SE', 'end', 'start']\n",
      "24.6865234375 + 32.6865234375\n",
      "..\\SE_train\\Z肖智华20220228_bias_0.fif\n",
      "Writing E:\\jupyter file\\EEG_process\\SE_train\\Z肖智华20220228_bias_0.fif\n",
      "Closing E:\\jupyter file\\EEG_process\\SE_train\\Z肖智华20220228_bias_0.fif\n",
      "[done]\n",
      "Extracting EDF parameters from E:\\jupyter file\\EEG_process\\patient_data\\治疗脑电（第一批次）\\Z肖智华20220302.edf...\n",
      "EDF file detected\n",
      "Setting channel info structure...\n",
      "Creating raw.info structure...\n",
      "Used Annotations descriptions: ['File Create', 'Recording ends', 'Recording starts', 'SE', 'end', 'start']\n",
      "Extracting EDF parameters from E:\\jupyter file\\EEG_process\\patient_data\\治疗脑电（第一批次）\\Z肖智华20220302.edf...\n",
      "EDF file detected\n",
      "Setting channel info structure...\n",
      "Creating raw.info structure...\n",
      "Used Annotations descriptions: ['File Create', 'Recording ends', 'Recording starts', 'SE', 'end', 'start']\n"
     ]
    },
    {
     "name": "stderr",
     "output_type": "stream",
     "text": [
      "<ipython-input-24-63daf20ba1ee>:23: RuntimeWarning: This filename (E:\\jupyter file\\EEG_process\\SE_train\\Z肖智华20220228_bias_0.fif) does not conform to MNE naming conventions. All raw files should end with raw.fif, raw_sss.fif, raw_tsss.fif, _meg.fif, _eeg.fif, _ieeg.fif, raw.fif.gz, raw_sss.fif.gz, raw_tsss.fif.gz, _meg.fif.gz, _eeg.fif.gz or _ieeg.fif.gz\n",
      "  raw.save(path_name,picks,start_time,end_time,overwrite=True)\n"
     ]
    },
    {
     "name": "stdout",
     "output_type": "stream",
     "text": [
      "602.771484375 + 610.771484375\n",
      "..\\SE_train\\Z肖智华20220302_bias_0.fif\n",
      "Writing E:\\jupyter file\\EEG_process\\SE_train\\Z肖智华20220302_bias_0.fif\n",
      "Closing E:\\jupyter file\\EEG_process\\SE_train\\Z肖智华20220302_bias_0.fif\n",
      "[done]\n",
      "Extracting EDF parameters from E:\\jupyter file\\EEG_process\\patient_data\\治疗脑电（第一批次）\\Z肖智华20220307（未发作）.edf...\n",
      "EDF file detected\n",
      "Setting channel info structure...\n",
      "Creating raw.info structure...\n",
      "Used Annotations descriptions: ['File Create', 'Recording ends', 'Recording starts', 'start']\n",
      "Extracting EDF parameters from E:\\jupyter file\\EEG_process\\patient_data\\治疗脑电（第一批次）\\Z赵丽兰20220225.edf...\n",
      "EDF file detected\n",
      "Setting channel info structure...\n",
      "Creating raw.info structure...\n",
      "Used Annotations descriptions: ['File Create', 'Recording ends', 'Recording starts', 'SE', 'end', 'start']\n",
      "Extracting EDF parameters from E:\\jupyter file\\EEG_process\\patient_data\\治疗脑电（第一批次）\\Z赵丽兰20220225.edf...\n",
      "EDF file detected\n",
      "Setting channel info structure...\n",
      "Creating raw.info structure...\n",
      "Used Annotations descriptions: ['File Create', 'Recording ends', 'Recording starts', 'SE', 'end', 'start']\n",
      "4.759765625 + 12.759765625\n",
      "..\\SE_train\\Z赵丽兰20220225_bias_0.fif\n",
      "Writing E:\\jupyter file\\EEG_process\\SE_train\\Z赵丽兰20220225_bias_0.fif\n",
      "Closing E:\\jupyter file\\EEG_process\\SE_train\\Z赵丽兰20220225_bias_0.fif\n",
      "[done]\n",
      "Extracting EDF parameters from E:\\jupyter file\\EEG_process\\patient_data\\治疗脑电（第一批次）\\Z赵丽兰20220228.edf...\n",
      "EDF file detected\n",
      "Setting channel info structure...\n"
     ]
    },
    {
     "name": "stderr",
     "output_type": "stream",
     "text": [
      "<ipython-input-24-63daf20ba1ee>:23: RuntimeWarning: This filename (E:\\jupyter file\\EEG_process\\SE_train\\Z肖智华20220302_bias_0.fif) does not conform to MNE naming conventions. All raw files should end with raw.fif, raw_sss.fif, raw_tsss.fif, _meg.fif, _eeg.fif, _ieeg.fif, raw.fif.gz, raw_sss.fif.gz, raw_tsss.fif.gz, _meg.fif.gz, _eeg.fif.gz or _ieeg.fif.gz\n",
      "  raw.save(path_name,picks,start_time,end_time,overwrite=True)\n",
      "<ipython-input-24-63daf20ba1ee>:23: RuntimeWarning: This filename (E:\\jupyter file\\EEG_process\\SE_train\\Z赵丽兰20220225_bias_0.fif) does not conform to MNE naming conventions. All raw files should end with raw.fif, raw_sss.fif, raw_tsss.fif, _meg.fif, _eeg.fif, _ieeg.fif, raw.fif.gz, raw_sss.fif.gz, raw_tsss.fif.gz, _meg.fif.gz, _eeg.fif.gz or _ieeg.fif.gz\n",
      "  raw.save(path_name,picks,start_time,end_time,overwrite=True)\n"
     ]
    },
    {
     "name": "stdout",
     "output_type": "stream",
     "text": [
      "Creating raw.info structure...\n",
      "Used Annotations descriptions: ['File Create', 'Recording ends', 'Recording starts', 'SE', 'end', 'start']\n",
      "Extracting EDF parameters from E:\\jupyter file\\EEG_process\\patient_data\\治疗脑电（第一批次）\\Z赵丽兰20220228.edf...\n",
      "EDF file detected\n",
      "Setting channel info structure...\n",
      "Creating raw.info structure...\n",
      "Used Annotations descriptions: ['File Create', 'Recording ends', 'Recording starts', 'SE', 'end', 'start']\n",
      "24.6328125 + 32.6328125\n",
      "..\\SE_train\\Z赵丽兰20220228_bias_0.fif\n",
      "Writing E:\\jupyter file\\EEG_process\\SE_train\\Z赵丽兰20220228_bias_0.fif\n",
      "Closing E:\\jupyter file\\EEG_process\\SE_train\\Z赵丽兰20220228_bias_0.fif\n",
      "[done]\n",
      "Extracting EDF parameters from E:\\jupyter file\\EEG_process\\patient_data\\治疗脑电（第一批次）\\Z赵丽兰20220302.edf...\n",
      "EDF file detected\n",
      "Setting channel info structure...\n",
      "Creating raw.info structure...\n",
      "Used Annotations descriptions: ['File Create', 'Recording ends', 'Recording starts', 'SE', 'end', 'start']\n",
      "Extracting EDF parameters from E:\\jupyter file\\EEG_process\\patient_data\\治疗脑电（第一批次）\\Z赵丽兰20220302.edf...\n",
      "EDF file detected\n",
      "Setting channel info structure...\n",
      "Creating raw.info structure...\n",
      "Used Annotations descriptions: ['File Create', 'Recording ends', 'Recording starts', 'SE', 'end', 'start']\n",
      "4.337890625 + 12.337890625\n",
      "..\\SE_train\\Z赵丽兰20220302_bias_0.fif\n",
      "Writing E:\\jupyter file\\EEG_process\\SE_train\\Z赵丽兰20220302_bias_0.fif\n",
      "Closing E:\\jupyter file\\EEG_process\\SE_train\\Z赵丽兰20220302_bias_0.fif\n",
      "[done]\n",
      "Extracting EDF parameters from E:\\jupyter file\\EEG_process\\patient_data\\治疗脑电（第一批次）\\Z赵丽兰20220304.edf...\n",
      "EDF file detected\n",
      "Setting channel info structure...\n",
      "Creating raw.info structure...\n",
      "Used Annotations descriptions: ['File Create', 'Recording ends', 'Recording starts', 'SE', 'end', 'start']\n",
      "Extracting EDF parameters from E:\\jupyter file\\EEG_process\\patient_data\\治疗脑电（第一批次）\\Z赵丽兰20220304.edf...\n",
      "EDF file detected\n",
      "Setting channel info structure...\n",
      "Creating raw.info structure...\n"
     ]
    },
    {
     "name": "stderr",
     "output_type": "stream",
     "text": [
      "<ipython-input-24-63daf20ba1ee>:23: RuntimeWarning: This filename (E:\\jupyter file\\EEG_process\\SE_train\\Z赵丽兰20220228_bias_0.fif) does not conform to MNE naming conventions. All raw files should end with raw.fif, raw_sss.fif, raw_tsss.fif, _meg.fif, _eeg.fif, _ieeg.fif, raw.fif.gz, raw_sss.fif.gz, raw_tsss.fif.gz, _meg.fif.gz, _eeg.fif.gz or _ieeg.fif.gz\n",
      "  raw.save(path_name,picks,start_time,end_time,overwrite=True)\n",
      "<ipython-input-24-63daf20ba1ee>:23: RuntimeWarning: This filename (E:\\jupyter file\\EEG_process\\SE_train\\Z赵丽兰20220302_bias_0.fif) does not conform to MNE naming conventions. All raw files should end with raw.fif, raw_sss.fif, raw_tsss.fif, _meg.fif, _eeg.fif, _ieeg.fif, raw.fif.gz, raw_sss.fif.gz, raw_tsss.fif.gz, _meg.fif.gz, _eeg.fif.gz or _ieeg.fif.gz\n",
      "  raw.save(path_name,picks,start_time,end_time,overwrite=True)\n"
     ]
    },
    {
     "name": "stdout",
     "output_type": "stream",
     "text": [
      "Used Annotations descriptions: ['File Create', 'Recording ends', 'Recording starts', 'SE', 'end', 'start']\n",
      "2.7138671875 + 10.7138671875\n",
      "..\\SE_train\\Z赵丽兰20220304_bias_0.fif\n",
      "Writing E:\\jupyter file\\EEG_process\\SE_train\\Z赵丽兰20220304_bias_0.fif\n",
      "Closing E:\\jupyter file\\EEG_process\\SE_train\\Z赵丽兰20220304_bias_0.fif\n",
      "[done]\n",
      "Extracting EDF parameters from E:\\jupyter file\\EEG_process\\patient_data\\治疗脑电（第一批次）\\Z雷振20220321.edf...\n",
      "EDF file detected\n",
      "Setting channel info structure...\n",
      "Creating raw.info structure...\n",
      "Used Annotations descriptions: ['File Create', 'Recording ends', 'Recording starts', 'SE', 'end', 'start']\n",
      "Extracting EDF parameters from E:\\jupyter file\\EEG_process\\patient_data\\治疗脑电（第一批次）\\Z雷振20220321.edf...\n",
      "EDF file detected\n",
      "Setting channel info structure...\n",
      "Creating raw.info structure...\n",
      "Used Annotations descriptions: ['File Create', 'Recording ends', 'Recording starts', 'SE', 'end', 'start']\n",
      "63.759765625 + 71.759765625\n",
      "..\\SE_train\\Z雷振20220321_bias_0.fif\n",
      "Writing E:\\jupyter file\\EEG_process\\SE_train\\Z雷振20220321_bias_0.fif\n",
      "Closing E:\\jupyter file\\EEG_process\\SE_train\\Z雷振20220321_bias_0.fif\n",
      "[done]\n",
      "Extracting EDF parameters from E:\\jupyter file\\EEG_process\\patient_data\\治疗脑电（第一批次）\\Z雷振20220323.edf...\n",
      "EDF file detected\n",
      "Setting channel info structure...\n",
      "Creating raw.info structure...\n",
      "Used Annotations descriptions: ['Recording ends', 'Recording starts', 'SE', 'end', 'start']\n"
     ]
    },
    {
     "name": "stderr",
     "output_type": "stream",
     "text": [
      "<ipython-input-24-63daf20ba1ee>:23: RuntimeWarning: This filename (E:\\jupyter file\\EEG_process\\SE_train\\Z赵丽兰20220304_bias_0.fif) does not conform to MNE naming conventions. All raw files should end with raw.fif, raw_sss.fif, raw_tsss.fif, _meg.fif, _eeg.fif, _ieeg.fif, raw.fif.gz, raw_sss.fif.gz, raw_tsss.fif.gz, _meg.fif.gz, _eeg.fif.gz or _ieeg.fif.gz\n",
      "  raw.save(path_name,picks,start_time,end_time,overwrite=True)\n",
      "<ipython-input-24-63daf20ba1ee>:23: RuntimeWarning: This filename (E:\\jupyter file\\EEG_process\\SE_train\\Z雷振20220321_bias_0.fif) does not conform to MNE naming conventions. All raw files should end with raw.fif, raw_sss.fif, raw_tsss.fif, _meg.fif, _eeg.fif, _ieeg.fif, raw.fif.gz, raw_sss.fif.gz, raw_tsss.fif.gz, _meg.fif.gz, _eeg.fif.gz or _ieeg.fif.gz\n",
      "  raw.save(path_name,picks,start_time,end_time,overwrite=True)\n"
     ]
    },
    {
     "name": "stdout",
     "output_type": "stream",
     "text": [
      "Extracting EDF parameters from E:\\jupyter file\\EEG_process\\patient_data\\治疗脑电（第一批次）\\Z雷振20220323.edf...\n",
      "EDF file detected\n",
      "Setting channel info structure...\n",
      "Creating raw.info structure...\n",
      "Used Annotations descriptions: ['Recording ends', 'Recording starts', 'SE', 'end', 'start']\n",
      "199.01171875 + 207.01171875\n",
      "..\\SE_train\\Z雷振20220323_bias_0.fif\n",
      "Writing E:\\jupyter file\\EEG_process\\SE_train\\Z雷振20220323_bias_0.fif\n",
      "Closing E:\\jupyter file\\EEG_process\\SE_train\\Z雷振20220323_bias_0.fif\n",
      "[done]\n",
      "Extracting EDF parameters from E:\\jupyter file\\EEG_process\\patient_data\\治疗脑电（第一批次）\\Z雷振20220325.edf...\n",
      "EDF file detected\n",
      "Setting channel info structure...\n",
      "Creating raw.info structure...\n",
      "Used Annotations descriptions: ['File Create', 'Recording ends', 'Recording starts', 'SE', 'end', 'start']\n",
      "Extracting EDF parameters from E:\\jupyter file\\EEG_process\\patient_data\\治疗脑电（第一批次）\\Z雷振20220325.edf...\n",
      "EDF file detected\n",
      "Setting channel info structure...\n",
      "Creating raw.info structure...\n",
      "Used Annotations descriptions: ['File Create', 'Recording ends', 'Recording starts', 'SE', 'end', 'start']\n",
      "44.8115234375 + 52.8115234375\n",
      "..\\SE_train\\Z雷振20220325_bias_0.fif\n"
     ]
    },
    {
     "name": "stderr",
     "output_type": "stream",
     "text": [
      "<ipython-input-24-63daf20ba1ee>:23: RuntimeWarning: This filename (E:\\jupyter file\\EEG_process\\SE_train\\Z雷振20220323_bias_0.fif) does not conform to MNE naming conventions. All raw files should end with raw.fif, raw_sss.fif, raw_tsss.fif, _meg.fif, _eeg.fif, _ieeg.fif, raw.fif.gz, raw_sss.fif.gz, raw_tsss.fif.gz, _meg.fif.gz, _eeg.fif.gz or _ieeg.fif.gz\n",
      "  raw.save(path_name,picks,start_time,end_time,overwrite=True)\n",
      "<ipython-input-24-63daf20ba1ee>:23: RuntimeWarning: This filename (E:\\jupyter file\\EEG_process\\SE_train\\Z雷振20220325_bias_0.fif) does not conform to MNE naming conventions. All raw files should end with raw.fif, raw_sss.fif, raw_tsss.fif, _meg.fif, _eeg.fif, _ieeg.fif, raw.fif.gz, raw_sss.fif.gz, raw_tsss.fif.gz, _meg.fif.gz, _eeg.fif.gz or _ieeg.fif.gz\n",
      "  raw.save(path_name,picks,start_time,end_time,overwrite=True)\n"
     ]
    },
    {
     "name": "stdout",
     "output_type": "stream",
     "text": [
      "Writing E:\\jupyter file\\EEG_process\\SE_train\\Z雷振20220325_bias_0.fif\n",
      "Closing E:\\jupyter file\\EEG_process\\SE_train\\Z雷振20220325_bias_0.fif\n",
      "[done]\n",
      "Extracting EDF parameters from E:\\jupyter file\\EEG_process\\patient_data\\治疗脑电（第一批次）\\Z雷振20220328.edf...\n",
      "EDF file detected\n",
      "Setting channel info structure...\n",
      "Creating raw.info structure...\n",
      "Used Annotations descriptions: ['File Create', 'Recording ends', 'Recording starts', 'SE', 'end', 'start']\n",
      "Extracting EDF parameters from E:\\jupyter file\\EEG_process\\patient_data\\治疗脑电（第一批次）\\Z雷振20220328.edf...\n",
      "EDF file detected\n",
      "Setting channel info structure...\n",
      "Creating raw.info structure...\n",
      "Used Annotations descriptions: ['File Create', 'Recording ends', 'Recording starts', 'SE', 'end', 'start']\n",
      "6.25 + 14.25\n",
      "..\\SE_train\\Z雷振20220328_bias_0.fif\n",
      "Writing E:\\jupyter file\\EEG_process\\SE_train\\Z雷振20220328_bias_0.fif\n",
      "Closing E:\\jupyter file\\EEG_process\\SE_train\\Z雷振20220328_bias_0.fif\n",
      "[done]\n",
      "Extracting EDF parameters from E:\\jupyter file\\EEG_process\\patient_data\\治疗脑电（第一批次）\\Z黄盈雪20220314.edf...\n",
      "EDF file detected\n",
      "Setting channel info structure...\n",
      "Creating raw.info structure...\n",
      "Used Annotations descriptions: ['File Create', 'Recording ends', 'Recording starts', 'SE', 'end', 'start']\n",
      "Extracting EDF parameters from E:\\jupyter file\\EEG_process\\patient_data\\治疗脑电（第一批次）\\Z黄盈雪20220314.edf...\n",
      "EDF file detected\n",
      "Setting channel info structure...\n",
      "Creating raw.info structure...\n",
      "Used Annotations descriptions: ['File Create', 'Recording ends', 'Recording starts', 'SE', 'end', 'start']\n",
      "19.642578125 + 27.642578125\n",
      "..\\SE_train\\Z黄盈雪20220314_bias_0.fif\n",
      "Writing E:\\jupyter file\\EEG_process\\SE_train\\Z黄盈雪20220314_bias_0.fif\n",
      "Closing E:\\jupyter file\\EEG_process\\SE_train\\Z黄盈雪20220314_bias_0.fif\n",
      "[done]\n",
      "Extracting EDF parameters from E:\\jupyter file\\EEG_process\\patient_data\\治疗脑电（第一批次）\\Z黄盈雪20220316.edf...\n",
      "EDF file detected\n",
      "Setting channel info structure...\n",
      "Creating raw.info structure...\n",
      "Used Annotations descriptions: ['File Create', 'Recording ends', 'Recording starts', 'SE', 'end', 'start']\n"
     ]
    },
    {
     "name": "stderr",
     "output_type": "stream",
     "text": [
      "<ipython-input-24-63daf20ba1ee>:23: RuntimeWarning: This filename (E:\\jupyter file\\EEG_process\\SE_train\\Z雷振20220328_bias_0.fif) does not conform to MNE naming conventions. All raw files should end with raw.fif, raw_sss.fif, raw_tsss.fif, _meg.fif, _eeg.fif, _ieeg.fif, raw.fif.gz, raw_sss.fif.gz, raw_tsss.fif.gz, _meg.fif.gz, _eeg.fif.gz or _ieeg.fif.gz\n",
      "  raw.save(path_name,picks,start_time,end_time,overwrite=True)\n",
      "<ipython-input-24-63daf20ba1ee>:23: RuntimeWarning: This filename (E:\\jupyter file\\EEG_process\\SE_train\\Z黄盈雪20220314_bias_0.fif) does not conform to MNE naming conventions. All raw files should end with raw.fif, raw_sss.fif, raw_tsss.fif, _meg.fif, _eeg.fif, _ieeg.fif, raw.fif.gz, raw_sss.fif.gz, raw_tsss.fif.gz, _meg.fif.gz, _eeg.fif.gz or _ieeg.fif.gz\n",
      "  raw.save(path_name,picks,start_time,end_time,overwrite=True)\n"
     ]
    },
    {
     "name": "stdout",
     "output_type": "stream",
     "text": [
      "Extracting EDF parameters from E:\\jupyter file\\EEG_process\\patient_data\\治疗脑电（第一批次）\\Z黄盈雪20220316.edf...\n",
      "EDF file detected\n",
      "Setting channel info structure...\n",
      "Creating raw.info structure...\n",
      "Used Annotations descriptions: ['File Create', 'Recording ends', 'Recording starts', 'SE', 'end', 'start']\n",
      "88.1865234375 + 96.1865234375\n",
      "..\\SE_train\\Z黄盈雪20220316_bias_0.fif\n",
      "Writing E:\\jupyter file\\EEG_process\\SE_train\\Z黄盈雪20220316_bias_0.fif\n",
      "Closing E:\\jupyter file\\EEG_process\\SE_train\\Z黄盈雪20220316_bias_0.fif\n",
      "[done]\n",
      "Extracting EDF parameters from E:\\jupyter file\\EEG_process\\patient_data\\治疗脑电（第一批次）\\Z黄盈雪20220318.edf...\n",
      "EDF file detected\n",
      "Setting channel info structure...\n",
      "Creating raw.info structure...\n",
      "Used Annotations descriptions: ['File Create', 'Recording ends', 'Recording starts', 'SE', 'end', 'start']\n",
      "Extracting EDF parameters from E:\\jupyter file\\EEG_process\\patient_data\\治疗脑电（第一批次）\\Z黄盈雪20220318.edf...\n",
      "EDF file detected\n",
      "Setting channel info structure...\n",
      "Creating raw.info structure...\n",
      "Used Annotations descriptions: ['File Create', 'Recording ends', 'Recording starts', 'SE', 'end', 'start']\n",
      "0.4873046875 + 8.4873046875\n",
      "..\\SE_train\\Z黄盈雪20220318_bias_0.fif\n",
      "Writing E:\\jupyter file\\EEG_process\\SE_train\\Z黄盈雪20220318_bias_0.fif\n",
      "Closing E:\\jupyter file\\EEG_process\\SE_train\\Z黄盈雪20220318_bias_0.fif\n",
      "[done]\n",
      "Extracting EDF parameters from E:\\jupyter file\\EEG_process\\patient_data\\治疗脑电（第一批次）\\Z黄盈雪20220323.edf...\n",
      "EDF file detected\n",
      "Setting channel info structure...\n",
      "Creating raw.info structure...\n",
      "Used Annotations descriptions: ['File Create', 'Recording ends', 'Recording starts', 'SE', 'end']\n",
      "Extracting EDF parameters from E:\\jupyter file\\EEG_process\\patient_data\\治疗脑电（第一批次）\\Z黄盈雪20220323.edf...\n",
      "EDF file detected\n",
      "Setting channel info structure...\n",
      "Creating raw.info structure...\n",
      "Used Annotations descriptions: ['File Create', 'Recording ends', 'Recording starts', 'SE', 'end']\n"
     ]
    },
    {
     "name": "stderr",
     "output_type": "stream",
     "text": [
      "<ipython-input-24-63daf20ba1ee>:23: RuntimeWarning: This filename (E:\\jupyter file\\EEG_process\\SE_train\\Z黄盈雪20220316_bias_0.fif) does not conform to MNE naming conventions. All raw files should end with raw.fif, raw_sss.fif, raw_tsss.fif, _meg.fif, _eeg.fif, _ieeg.fif, raw.fif.gz, raw_sss.fif.gz, raw_tsss.fif.gz, _meg.fif.gz, _eeg.fif.gz or _ieeg.fif.gz\n",
      "  raw.save(path_name,picks,start_time,end_time,overwrite=True)\n",
      "<ipython-input-24-63daf20ba1ee>:23: RuntimeWarning: This filename (E:\\jupyter file\\EEG_process\\SE_train\\Z黄盈雪20220318_bias_0.fif) does not conform to MNE naming conventions. All raw files should end with raw.fif, raw_sss.fif, raw_tsss.fif, _meg.fif, _eeg.fif, _ieeg.fif, raw.fif.gz, raw_sss.fif.gz, raw_tsss.fif.gz, _meg.fif.gz, _eeg.fif.gz or _ieeg.fif.gz\n",
      "  raw.save(path_name,picks,start_time,end_time,overwrite=True)\n"
     ]
    },
    {
     "name": "stdout",
     "output_type": "stream",
     "text": [
      "113.853515625 + 121.853515625\n",
      "..\\SE_train\\Z黄盈雪20220323_bias_0.fif\n",
      "Writing E:\\jupyter file\\EEG_process\\SE_train\\Z黄盈雪20220323_bias_0.fif\n",
      "Closing E:\\jupyter file\\EEG_process\\SE_train\\Z黄盈雪20220323_bias_0.fif\n",
      "[done]\n",
      "Extracting EDF parameters from E:\\jupyter file\\EEG_process\\patient_data\\治疗脑电（第一批次）\\Z黄金燕20220309.edf...\n",
      "EDF file detected\n",
      "Setting channel info structure...\n",
      "Creating raw.info structure...\n",
      "Used Annotations descriptions: ['File Create', 'Recording ends', 'Recording starts', 'SE', 'end', 'start']\n",
      "Extracting EDF parameters from E:\\jupyter file\\EEG_process\\patient_data\\治疗脑电（第一批次）\\Z黄金燕20220309.edf...\n",
      "EDF file detected\n",
      "Setting channel info structure...\n",
      "Creating raw.info structure...\n",
      "Used Annotations descriptions: ['File Create', 'Recording ends', 'Recording starts', 'SE', 'end', 'start']\n",
      "27.3232421875 + 35.3232421875\n",
      "..\\SE_train\\Z黄金燕20220309_bias_0.fif\n",
      "Writing E:\\jupyter file\\EEG_process\\SE_train\\Z黄金燕20220309_bias_0.fif\n",
      "Closing E:\\jupyter file\\EEG_process\\SE_train\\Z黄金燕20220309_bias_0.fif\n",
      "[done]\n",
      "Extracting EDF parameters from E:\\jupyter file\\EEG_process\\patient_data\\治疗脑电（第一批次）\\Z黄金燕20220311.edf...\n",
      "EDF file detected\n",
      "Setting channel info structure...\n",
      "Creating raw.info structure...\n",
      "Used Annotations descriptions: ['File Create', 'Recording ends', 'Recording starts', 'SE', 'end', 'start']\n",
      "Extracting EDF parameters from E:\\jupyter file\\EEG_process\\patient_data\\治疗脑电（第一批次）\\Z黄金燕20220311.edf...\n",
      "EDF file detected\n",
      "Setting channel info structure...\n",
      "Creating raw.info structure...\n",
      "Used Annotations descriptions: ['File Create', 'Recording ends', 'Recording starts', 'SE', 'end', 'start']\n"
     ]
    },
    {
     "name": "stderr",
     "output_type": "stream",
     "text": [
      "<ipython-input-24-63daf20ba1ee>:23: RuntimeWarning: This filename (E:\\jupyter file\\EEG_process\\SE_train\\Z黄盈雪20220323_bias_0.fif) does not conform to MNE naming conventions. All raw files should end with raw.fif, raw_sss.fif, raw_tsss.fif, _meg.fif, _eeg.fif, _ieeg.fif, raw.fif.gz, raw_sss.fif.gz, raw_tsss.fif.gz, _meg.fif.gz, _eeg.fif.gz or _ieeg.fif.gz\n",
      "  raw.save(path_name,picks,start_time,end_time,overwrite=True)\n",
      "<ipython-input-24-63daf20ba1ee>:23: RuntimeWarning: This filename (E:\\jupyter file\\EEG_process\\SE_train\\Z黄金燕20220309_bias_0.fif) does not conform to MNE naming conventions. All raw files should end with raw.fif, raw_sss.fif, raw_tsss.fif, _meg.fif, _eeg.fif, _ieeg.fif, raw.fif.gz, raw_sss.fif.gz, raw_tsss.fif.gz, _meg.fif.gz, _eeg.fif.gz or _ieeg.fif.gz\n",
      "  raw.save(path_name,picks,start_time,end_time,overwrite=True)\n"
     ]
    },
    {
     "name": "stdout",
     "output_type": "stream",
     "text": [
      "74.087890625 + 82.087890625\n",
      "..\\SE_train\\Z黄金燕20220311_bias_0.fif\n",
      "Writing E:\\jupyter file\\EEG_process\\SE_train\\Z黄金燕20220311_bias_0.fif\n",
      "Closing E:\\jupyter file\\EEG_process\\SE_train\\Z黄金燕20220311_bias_0.fif\n",
      "[done]\n",
      "Extracting EDF parameters from E:\\jupyter file\\EEG_process\\patient_data\\治疗脑电（第一批次）\\Z黄金燕20220314.edf...\n",
      "EDF file detected\n",
      "Setting channel info structure...\n",
      "Creating raw.info structure...\n",
      "Used Annotations descriptions: ['File Create', 'Recording ends', 'Recording starts', 'SE', 'end', 'start']\n",
      "Extracting EDF parameters from E:\\jupyter file\\EEG_process\\patient_data\\治疗脑电（第一批次）\\Z黄金燕20220314.edf...\n",
      "EDF file detected\n",
      "Setting channel info structure...\n",
      "Creating raw.info structure...\n",
      "Used Annotations descriptions: ['File Create', 'Recording ends', 'Recording starts', 'SE', 'end', 'start']\n",
      "41.8681640625 + 49.8681640625\n",
      "..\\SE_train\\Z黄金燕20220314_bias_0.fif\n",
      "Writing E:\\jupyter file\\EEG_process\\SE_train\\Z黄金燕20220314_bias_0.fif\n",
      "Closing E:\\jupyter file\\EEG_process\\SE_train\\Z黄金燕20220314_bias_0.fif\n",
      "[done]\n",
      "Extracting EDF parameters from E:\\jupyter file\\EEG_process\\patient_data\\治疗脑电（第一批次）\\Z黄金燕20220316.edf...\n",
      "EDF file detected\n",
      "Setting channel info structure...\n",
      "Creating raw.info structure...\n",
      "Used Annotations descriptions: ['File Create', 'Recording ends', 'Recording starts', 'SE', 'end', 'start']\n"
     ]
    },
    {
     "name": "stderr",
     "output_type": "stream",
     "text": [
      "<ipython-input-24-63daf20ba1ee>:23: RuntimeWarning: This filename (E:\\jupyter file\\EEG_process\\SE_train\\Z黄金燕20220311_bias_0.fif) does not conform to MNE naming conventions. All raw files should end with raw.fif, raw_sss.fif, raw_tsss.fif, _meg.fif, _eeg.fif, _ieeg.fif, raw.fif.gz, raw_sss.fif.gz, raw_tsss.fif.gz, _meg.fif.gz, _eeg.fif.gz or _ieeg.fif.gz\n",
      "  raw.save(path_name,picks,start_time,end_time,overwrite=True)\n",
      "<ipython-input-24-63daf20ba1ee>:23: RuntimeWarning: This filename (E:\\jupyter file\\EEG_process\\SE_train\\Z黄金燕20220314_bias_0.fif) does not conform to MNE naming conventions. All raw files should end with raw.fif, raw_sss.fif, raw_tsss.fif, _meg.fif, _eeg.fif, _ieeg.fif, raw.fif.gz, raw_sss.fif.gz, raw_tsss.fif.gz, _meg.fif.gz, _eeg.fif.gz or _ieeg.fif.gz\n",
      "  raw.save(path_name,picks,start_time,end_time,overwrite=True)\n"
     ]
    },
    {
     "name": "stdout",
     "output_type": "stream",
     "text": [
      "Extracting EDF parameters from E:\\jupyter file\\EEG_process\\patient_data\\治疗脑电（第一批次）\\Z黄金燕20220316.edf...\n",
      "EDF file detected\n",
      "Setting channel info structure...\n",
      "Creating raw.info structure...\n",
      "Used Annotations descriptions: ['File Create', 'Recording ends', 'Recording starts', 'SE', 'end', 'start']\n",
      "68.01953125 + 76.01953125\n",
      "..\\SE_train\\Z黄金燕20220316_bias_0.fif\n",
      "Writing E:\\jupyter file\\EEG_process\\SE_train\\Z黄金燕20220316_bias_0.fif\n",
      "Closing E:\\jupyter file\\EEG_process\\SE_train\\Z黄金燕20220316_bias_0.fif\n",
      "[done]\n",
      "Extracting EDF parameters from E:\\jupyter file\\EEG_process\\patient_data\\治疗脑电（第一批次）\\Z齐金钢20220223.edf...\n",
      "EDF file detected\n",
      "Setting channel info structure...\n",
      "Creating raw.info structure...\n",
      "Used Annotations descriptions: ['File Create', 'Recording ends', 'Recording starts', 'SE', 'end', 'start']\n",
      "Extracting EDF parameters from E:\\jupyter file\\EEG_process\\patient_data\\治疗脑电（第一批次）\\Z齐金钢20220223.edf...\n",
      "EDF file detected\n",
      "Setting channel info structure...\n",
      "Creating raw.info structure...\n",
      "Used Annotations descriptions: ['File Create', 'Recording ends', 'Recording starts', 'SE', 'end', 'start']\n",
      "15.01953125 + 23.01953125\n",
      "..\\SE_train\\Z齐金钢20220223_bias_0.fif\n",
      "Writing E:\\jupyter file\\EEG_process\\SE_train\\Z齐金钢20220223_bias_0.fif\n",
      "Closing E:\\jupyter file\\EEG_process\\SE_train\\Z齐金钢20220223_bias_0.fif\n",
      "[done]\n",
      "Extracting EDF parameters from E:\\jupyter file\\EEG_process\\patient_data\\治疗脑电（第一批次）\\Z齐金钢20220225.edf...\n",
      "EDF file detected\n",
      "Setting channel info structure...\n",
      "Creating raw.info structure...\n",
      "Used Annotations descriptions: ['File Create', 'Recording ends', 'Recording starts', 'SE', 'end', 'start', 'Â·Â¢']\n"
     ]
    },
    {
     "name": "stderr",
     "output_type": "stream",
     "text": [
      "<ipython-input-24-63daf20ba1ee>:23: RuntimeWarning: This filename (E:\\jupyter file\\EEG_process\\SE_train\\Z黄金燕20220316_bias_0.fif) does not conform to MNE naming conventions. All raw files should end with raw.fif, raw_sss.fif, raw_tsss.fif, _meg.fif, _eeg.fif, _ieeg.fif, raw.fif.gz, raw_sss.fif.gz, raw_tsss.fif.gz, _meg.fif.gz, _eeg.fif.gz or _ieeg.fif.gz\n",
      "  raw.save(path_name,picks,start_time,end_time,overwrite=True)\n",
      "<ipython-input-24-63daf20ba1ee>:23: RuntimeWarning: This filename (E:\\jupyter file\\EEG_process\\SE_train\\Z齐金钢20220223_bias_0.fif) does not conform to MNE naming conventions. All raw files should end with raw.fif, raw_sss.fif, raw_tsss.fif, _meg.fif, _eeg.fif, _ieeg.fif, raw.fif.gz, raw_sss.fif.gz, raw_tsss.fif.gz, _meg.fif.gz, _eeg.fif.gz or _ieeg.fif.gz\n",
      "  raw.save(path_name,picks,start_time,end_time,overwrite=True)\n"
     ]
    },
    {
     "name": "stdout",
     "output_type": "stream",
     "text": [
      "Extracting EDF parameters from E:\\jupyter file\\EEG_process\\patient_data\\治疗脑电（第一批次）\\Z齐金钢20220225.edf...\n",
      "EDF file detected\n",
      "Setting channel info structure...\n",
      "Creating raw.info structure...\n",
      "Used Annotations descriptions: ['File Create', 'Recording ends', 'Recording starts', 'SE', 'end', 'start', 'Â·Â¢']\n",
      "7.982421875 + 15.982421875\n",
      "..\\SE_train\\Z齐金钢20220225_bias_0.fif\n",
      "Writing E:\\jupyter file\\EEG_process\\SE_train\\Z齐金钢20220225_bias_0.fif\n",
      "Closing E:\\jupyter file\\EEG_process\\SE_train\\Z齐金钢20220225_bias_0.fif\n",
      "[done]\n",
      "Extracting EDF parameters from E:\\jupyter file\\EEG_process\\patient_data\\治疗脑电（第一批次）\\Z齐金钢20220228.edf...\n",
      "EDF file detected\n",
      "Setting channel info structure...\n",
      "Creating raw.info structure...\n",
      "Used Annotations descriptions: ['File Create', 'Recording ends', 'Recording starts', 'SE', 'end', 'start']\n",
      "Extracting EDF parameters from E:\\jupyter file\\EEG_process\\patient_data\\治疗脑电（第一批次）\\Z齐金钢20220228.edf...\n",
      "EDF file detected\n",
      "Setting channel info structure...\n",
      "Creating raw.info structure...\n",
      "Used Annotations descriptions: ['File Create', 'Recording ends', 'Recording starts', 'SE', 'end', 'start']\n",
      "20.4990234375 + 28.4990234375\n",
      "..\\SE_train\\Z齐金钢20220228_bias_0.fif\n",
      "Writing E:\\jupyter file\\EEG_process\\SE_train\\Z齐金钢20220228_bias_0.fif\n",
      "Closing E:\\jupyter file\\EEG_process\\SE_train\\Z齐金钢20220228_bias_0.fif\n"
     ]
    },
    {
     "name": "stderr",
     "output_type": "stream",
     "text": [
      "<ipython-input-24-63daf20ba1ee>:23: RuntimeWarning: This filename (E:\\jupyter file\\EEG_process\\SE_train\\Z齐金钢20220225_bias_0.fif) does not conform to MNE naming conventions. All raw files should end with raw.fif, raw_sss.fif, raw_tsss.fif, _meg.fif, _eeg.fif, _ieeg.fif, raw.fif.gz, raw_sss.fif.gz, raw_tsss.fif.gz, _meg.fif.gz, _eeg.fif.gz or _ieeg.fif.gz\n",
      "  raw.save(path_name,picks,start_time,end_time,overwrite=True)\n",
      "<ipython-input-24-63daf20ba1ee>:23: RuntimeWarning: This filename (E:\\jupyter file\\EEG_process\\SE_train\\Z齐金钢20220228_bias_0.fif) does not conform to MNE naming conventions. All raw files should end with raw.fif, raw_sss.fif, raw_tsss.fif, _meg.fif, _eeg.fif, _ieeg.fif, raw.fif.gz, raw_sss.fif.gz, raw_tsss.fif.gz, _meg.fif.gz, _eeg.fif.gz or _ieeg.fif.gz\n",
      "  raw.save(path_name,picks,start_time,end_time,overwrite=True)\n"
     ]
    },
    {
     "name": "stdout",
     "output_type": "stream",
     "text": [
      "[done]\n",
      "Extracting EDF parameters from E:\\jupyter file\\EEG_process\\patient_data\\治疗脑电（第一批次）\\Z齐金钢20220302.edf...\n",
      "EDF file detected\n",
      "Setting channel info structure...\n",
      "Creating raw.info structure...\n",
      "Used Annotations descriptions: ['File Create', 'Recording ends', 'Recording starts', 'SE', 'end', 'start']\n",
      "Extracting EDF parameters from E:\\jupyter file\\EEG_process\\patient_data\\治疗脑电（第一批次）\\Z齐金钢20220302.edf...\n",
      "EDF file detected\n",
      "Setting channel info structure...\n",
      "Creating raw.info structure...\n",
      "Used Annotations descriptions: ['File Create', 'Recording ends', 'Recording starts', 'SE', 'end', 'start']\n",
      "146.841796875 + 154.841796875\n",
      "..\\SE_train\\Z齐金钢20220302_bias_0.fif\n",
      "Writing E:\\jupyter file\\EEG_process\\SE_train\\Z齐金钢20220302_bias_0.fif\n",
      "Closing E:\\jupyter file\\EEG_process\\SE_train\\Z齐金钢20220302_bias_0.fif\n",
      "[done]\n",
      "Extracting EDF parameters from E:\\jupyter file\\EEG_process\\patient_data\\治疗脑电（第一批次）\\Z徐珍英20220218（未发作）.edf...\n",
      "EDF file detected\n",
      "Setting channel info structure...\n",
      "Creating raw.info structure...\n",
      "Used Annotations descriptions: ['File Create', 'Recording ends', 'Recording starts', 'SE']\n",
      "Extracting EDF parameters from E:\\jupyter file\\EEG_process\\patient_data\\治疗脑电（第一批次）\\Z徐珍英20220218（未发作）.edf...\n",
      "EDF file detected\n",
      "Setting channel info structure...\n",
      "Creating raw.info structure...\n",
      "Used Annotations descriptions: ['File Create', 'Recording ends', 'Recording starts', 'SE']\n",
      "217.08203125 + 233.08203125\n",
      "..\\SE_test\\Z徐珍英20220218（未发作）.fif\n"
     ]
    },
    {
     "name": "stderr",
     "output_type": "stream",
     "text": [
      "<ipython-input-24-63daf20ba1ee>:23: RuntimeWarning: This filename (E:\\jupyter file\\EEG_process\\SE_train\\Z齐金钢20220302_bias_0.fif) does not conform to MNE naming conventions. All raw files should end with raw.fif, raw_sss.fif, raw_tsss.fif, _meg.fif, _eeg.fif, _ieeg.fif, raw.fif.gz, raw_sss.fif.gz, raw_tsss.fif.gz, _meg.fif.gz, _eeg.fif.gz or _ieeg.fif.gz\n",
      "  raw.save(path_name,picks,start_time,end_time,overwrite=True)\n"
     ]
    },
    {
     "name": "stdout",
     "output_type": "stream",
     "text": [
      "Writing E:\\jupyter file\\EEG_process\\SE_test\\Z徐珍英20220218（未发作）.fif\n",
      "Closing E:\\jupyter file\\EEG_process\\SE_test\\Z徐珍英20220218（未发作）.fif\n",
      "[done]\n",
      "Extracting EDF parameters from E:\\jupyter file\\EEG_process\\patient_data\\治疗脑电（第一批次）\\Z徐珍英20220221（未发作）.edf...\n",
      "EDF file detected\n",
      "Setting channel info structure...\n",
      "Creating raw.info structure...\n",
      "Used Annotations descriptions: ['File Create', 'Recording ends', 'Recording starts', 'SE']\n",
      "Extracting EDF parameters from E:\\jupyter file\\EEG_process\\patient_data\\治疗脑电（第一批次）\\Z徐珍英20220221（未发作）.edf...\n",
      "EDF file detected\n",
      "Setting channel info structure...\n",
      "Creating raw.info structure...\n",
      "Used Annotations descriptions: ['File Create', 'Recording ends', 'Recording starts', 'SE']\n",
      "61.8515625 + 77.8515625\n",
      "..\\SE_test\\Z徐珍英20220221（未发作）.fif\n",
      "Writing E:\\jupyter file\\EEG_process\\SE_test\\Z徐珍英20220221（未发作）.fif\n",
      "Closing E:\\jupyter file\\EEG_process\\SE_test\\Z徐珍英20220221（未发作）.fif\n",
      "[done]\n",
      "Extracting EDF parameters from E:\\jupyter file\\EEG_process\\patient_data\\治疗脑电（第一批次）\\Z徐珍英20220223.edf...\n",
      "EDF file detected\n",
      "Setting channel info structure...\n",
      "Creating raw.info structure...\n",
      "Used Annotations descriptions: ['File Create', 'Recording ends', 'Recording starts', 'SE', 'end', 'start']\n",
      "Extracting EDF parameters from E:\\jupyter file\\EEG_process\\patient_data\\治疗脑电（第一批次）\\Z徐珍英20220223.edf...\n",
      "EDF file detected\n",
      "Setting channel info structure...\n",
      "Creating raw.info structure...\n",
      "Used Annotations descriptions: ['File Create', 'Recording ends', 'Recording starts', 'SE', 'end', 'start']\n",
      "177.5517578125 + 193.5517578125\n",
      "..\\SE_test\\Z徐珍英20220223.fif\n",
      "Writing E:\\jupyter file\\EEG_process\\SE_test\\Z徐珍英20220223.fif\n"
     ]
    },
    {
     "name": "stderr",
     "output_type": "stream",
     "text": [
      "<ipython-input-24-63daf20ba1ee>:23: RuntimeWarning: This filename (E:\\jupyter file\\EEG_process\\SE_test\\Z徐珍英20220218（未发作）.fif) does not conform to MNE naming conventions. All raw files should end with raw.fif, raw_sss.fif, raw_tsss.fif, _meg.fif, _eeg.fif, _ieeg.fif, raw.fif.gz, raw_sss.fif.gz, raw_tsss.fif.gz, _meg.fif.gz, _eeg.fif.gz or _ieeg.fif.gz\n",
      "  raw.save(path_name,picks,start_time,end_time,overwrite=True)\n",
      "<ipython-input-24-63daf20ba1ee>:23: RuntimeWarning: This filename (E:\\jupyter file\\EEG_process\\SE_test\\Z徐珍英20220221（未发作）.fif) does not conform to MNE naming conventions. All raw files should end with raw.fif, raw_sss.fif, raw_tsss.fif, _meg.fif, _eeg.fif, _ieeg.fif, raw.fif.gz, raw_sss.fif.gz, raw_tsss.fif.gz, _meg.fif.gz, _eeg.fif.gz or _ieeg.fif.gz\n",
      "  raw.save(path_name,picks,start_time,end_time,overwrite=True)\n",
      "<ipython-input-24-63daf20ba1ee>:23: RuntimeWarning: This filename (E:\\jupyter file\\EEG_process\\SE_test\\Z徐珍英20220223.fif) does not conform to MNE naming conventions. All raw files should end with raw.fif, raw_sss.fif, raw_tsss.fif, _meg.fif, _eeg.fif, _ieeg.fif, raw.fif.gz, raw_sss.fif.gz, raw_tsss.fif.gz, _meg.fif.gz, _eeg.fif.gz or _ieeg.fif.gz\n",
      "  raw.save(path_name,picks,start_time,end_time,overwrite=True)\n"
     ]
    },
    {
     "name": "stdout",
     "output_type": "stream",
     "text": [
      "Closing E:\\jupyter file\\EEG_process\\SE_test\\Z徐珍英20220223.fif\n",
      "[done]\n",
      "Extracting EDF parameters from E:\\jupyter file\\EEG_process\\patient_data\\治疗脑电（第一批次）\\Z徐珍英20220225.edf...\n",
      "EDF file detected\n",
      "Setting channel info structure...\n",
      "Creating raw.info structure...\n",
      "Used Annotations descriptions: ['File Create', 'Recording ends', 'Recording starts', 'SE', 'end', 'start']\n",
      "Extracting EDF parameters from E:\\jupyter file\\EEG_process\\patient_data\\治疗脑电（第一批次）\\Z徐珍英20220225.edf...\n",
      "EDF file detected\n",
      "Setting channel info structure...\n",
      "Creating raw.info structure...\n",
      "Used Annotations descriptions: ['File Create', 'Recording ends', 'Recording starts', 'SE', 'end', 'start']\n",
      "23.228515625 + 39.228515625\n",
      "..\\SE_test\\Z徐珍英20220225.fif\n",
      "Writing E:\\jupyter file\\EEG_process\\SE_test\\Z徐珍英20220225.fif\n",
      "Closing E:\\jupyter file\\EEG_process\\SE_test\\Z徐珍英20220225.fif\n",
      "[done]\n",
      "Extracting EDF parameters from E:\\jupyter file\\EEG_process\\patient_data\\治疗脑电（第一批次）\\Z李玉萍20220216.edf...\n",
      "EDF file detected\n",
      "Setting channel info structure...\n",
      "Creating raw.info structure...\n",
      "Used Annotations descriptions: ['File Create', 'Recording ends', 'Recording starts', 'SE', 'end', 'start']\n",
      "Extracting EDF parameters from E:\\jupyter file\\EEG_process\\patient_data\\治疗脑电（第一批次）\\Z李玉萍20220216.edf...\n",
      "EDF file detected\n",
      "Setting channel info structure...\n",
      "Creating raw.info structure...\n",
      "Used Annotations descriptions: ['File Create', 'Recording ends', 'Recording starts', 'SE', 'end', 'start']\n",
      "49.44140625 + 65.44140625\n",
      "..\\SE_test\\Z李玉萍20220216.fif\n",
      "Writing E:\\jupyter file\\EEG_process\\SE_test\\Z李玉萍20220216.fif\n",
      "Closing E:\\jupyter file\\EEG_process\\SE_test\\Z李玉萍20220216.fif\n",
      "[done]\n",
      "Extracting EDF parameters from E:\\jupyter file\\EEG_process\\patient_data\\治疗脑电（第一批次）\\Z李玉萍20220218.edf...\n",
      "EDF file detected\n",
      "Setting channel info structure...\n",
      "Creating raw.info structure...\n",
      "Used Annotations descriptions: ['File Create', 'Recording ends', 'Recording starts', 'SE', 'end', 'start']\n"
     ]
    },
    {
     "name": "stderr",
     "output_type": "stream",
     "text": [
      "<ipython-input-24-63daf20ba1ee>:23: RuntimeWarning: This filename (E:\\jupyter file\\EEG_process\\SE_test\\Z徐珍英20220225.fif) does not conform to MNE naming conventions. All raw files should end with raw.fif, raw_sss.fif, raw_tsss.fif, _meg.fif, _eeg.fif, _ieeg.fif, raw.fif.gz, raw_sss.fif.gz, raw_tsss.fif.gz, _meg.fif.gz, _eeg.fif.gz or _ieeg.fif.gz\n",
      "  raw.save(path_name,picks,start_time,end_time,overwrite=True)\n",
      "<ipython-input-24-63daf20ba1ee>:23: RuntimeWarning: This filename (E:\\jupyter file\\EEG_process\\SE_test\\Z李玉萍20220216.fif) does not conform to MNE naming conventions. All raw files should end with raw.fif, raw_sss.fif, raw_tsss.fif, _meg.fif, _eeg.fif, _ieeg.fif, raw.fif.gz, raw_sss.fif.gz, raw_tsss.fif.gz, _meg.fif.gz, _eeg.fif.gz or _ieeg.fif.gz\n",
      "  raw.save(path_name,picks,start_time,end_time,overwrite=True)\n"
     ]
    },
    {
     "name": "stdout",
     "output_type": "stream",
     "text": [
      "Extracting EDF parameters from E:\\jupyter file\\EEG_process\\patient_data\\治疗脑电（第一批次）\\Z李玉萍20220218.edf...\n",
      "EDF file detected\n",
      "Setting channel info structure...\n",
      "Creating raw.info structure...\n",
      "Used Annotations descriptions: ['File Create', 'Recording ends', 'Recording starts', 'SE', 'end', 'start']\n",
      "54.3701171875 + 70.3701171875\n",
      "..\\SE_test\\Z李玉萍20220218.fif\n",
      "Writing E:\\jupyter file\\EEG_process\\SE_test\\Z李玉萍20220218.fif\n",
      "Closing E:\\jupyter file\\EEG_process\\SE_test\\Z李玉萍20220218.fif\n",
      "[done]\n",
      "Extracting EDF parameters from E:\\jupyter file\\EEG_process\\patient_data\\治疗脑电（第一批次）\\Z李玉萍20220221（未发作）.edf...\n",
      "EDF file detected\n",
      "Setting channel info structure...\n",
      "Creating raw.info structure...\n",
      "Used Annotations descriptions: ['File Create', 'Recording ends', 'Recording starts', 'SE']\n",
      "Extracting EDF parameters from E:\\jupyter file\\EEG_process\\patient_data\\治疗脑电（第一批次）\\Z李玉萍20220221（未发作）.edf...\n",
      "EDF file detected\n",
      "Setting channel info structure...\n",
      "Creating raw.info structure...\n",
      "Used Annotations descriptions: ['File Create', 'Recording ends', 'Recording starts', 'SE']\n",
      "36.537109375 + 52.537109375\n",
      "..\\SE_test\\Z李玉萍20220221（未发作）.fif\n",
      "Writing E:\\jupyter file\\EEG_process\\SE_test\\Z李玉萍20220221（未发作）.fif\n",
      "Closing E:\\jupyter file\\EEG_process\\SE_test\\Z李玉萍20220221（未发作）.fif\n",
      "[done]\n",
      "Extracting EDF parameters from E:\\jupyter file\\EEG_process\\patient_data\\治疗脑电（第一批次）\\Z李玉萍20220223.edf...\n",
      "EDF file detected\n",
      "Setting channel info structure...\n",
      "Creating raw.info structure...\n",
      "Used Annotations descriptions: ['File Create', 'Recording ends', 'Recording starts', 'SE', 'end', 'start']\n"
     ]
    },
    {
     "name": "stderr",
     "output_type": "stream",
     "text": [
      "<ipython-input-24-63daf20ba1ee>:23: RuntimeWarning: This filename (E:\\jupyter file\\EEG_process\\SE_test\\Z李玉萍20220218.fif) does not conform to MNE naming conventions. All raw files should end with raw.fif, raw_sss.fif, raw_tsss.fif, _meg.fif, _eeg.fif, _ieeg.fif, raw.fif.gz, raw_sss.fif.gz, raw_tsss.fif.gz, _meg.fif.gz, _eeg.fif.gz or _ieeg.fif.gz\n",
      "  raw.save(path_name,picks,start_time,end_time,overwrite=True)\n",
      "<ipython-input-24-63daf20ba1ee>:23: RuntimeWarning: This filename (E:\\jupyter file\\EEG_process\\SE_test\\Z李玉萍20220221（未发作）.fif) does not conform to MNE naming conventions. All raw files should end with raw.fif, raw_sss.fif, raw_tsss.fif, _meg.fif, _eeg.fif, _ieeg.fif, raw.fif.gz, raw_sss.fif.gz, raw_tsss.fif.gz, _meg.fif.gz, _eeg.fif.gz or _ieeg.fif.gz\n",
      "  raw.save(path_name,picks,start_time,end_time,overwrite=True)\n"
     ]
    },
    {
     "name": "stdout",
     "output_type": "stream",
     "text": [
      "Extracting EDF parameters from E:\\jupyter file\\EEG_process\\patient_data\\治疗脑电（第一批次）\\Z李玉萍20220223.edf...\n",
      "EDF file detected\n",
      "Setting channel info structure...\n",
      "Creating raw.info structure...\n",
      "Used Annotations descriptions: ['File Create', 'Recording ends', 'Recording starts', 'SE', 'end', 'start']\n",
      "56.720703125 + 72.720703125\n",
      "..\\SE_test\\Z李玉萍20220223.fif\n",
      "Writing E:\\jupyter file\\EEG_process\\SE_test\\Z李玉萍20220223.fif\n",
      "Closing E:\\jupyter file\\EEG_process\\SE_test\\Z李玉萍20220223.fif\n",
      "[done]\n",
      "Extracting EDF parameters from E:\\jupyter file\\EEG_process\\patient_data\\治疗脑电（第一批次）\\Z王宜凡20220318.edf...\n",
      "EDF file detected\n",
      "Setting channel info structure...\n",
      "Creating raw.info structure...\n",
      "Used Annotations descriptions: ['File Create', 'Recording ends', 'Recording starts', 'SE', 'end', 'start']\n",
      "Extracting EDF parameters from E:\\jupyter file\\EEG_process\\patient_data\\治疗脑电（第一批次）\\Z王宜凡20220318.edf...\n",
      "EDF file detected\n",
      "Setting channel info structure...\n",
      "Creating raw.info structure...\n",
      "Used Annotations descriptions: ['File Create', 'Recording ends', 'Recording starts', 'SE', 'end', 'start']\n",
      "115.36328125 + 131.36328125\n",
      "..\\SE_test\\Z王宜凡20220318.fif\n",
      "Writing E:\\jupyter file\\EEG_process\\SE_test\\Z王宜凡20220318.fif\n",
      "Closing E:\\jupyter file\\EEG_process\\SE_test\\Z王宜凡20220318.fif\n",
      "[done]\n",
      "Extracting EDF parameters from E:\\jupyter file\\EEG_process\\patient_data\\治疗脑电（第一批次）\\Z王宜凡20220321.edf...\n",
      "EDF file detected\n",
      "Setting channel info structure...\n"
     ]
    },
    {
     "name": "stderr",
     "output_type": "stream",
     "text": [
      "<ipython-input-24-63daf20ba1ee>:23: RuntimeWarning: This filename (E:\\jupyter file\\EEG_process\\SE_test\\Z李玉萍20220223.fif) does not conform to MNE naming conventions. All raw files should end with raw.fif, raw_sss.fif, raw_tsss.fif, _meg.fif, _eeg.fif, _ieeg.fif, raw.fif.gz, raw_sss.fif.gz, raw_tsss.fif.gz, _meg.fif.gz, _eeg.fif.gz or _ieeg.fif.gz\n",
      "  raw.save(path_name,picks,start_time,end_time,overwrite=True)\n",
      "<ipython-input-24-63daf20ba1ee>:23: RuntimeWarning: This filename (E:\\jupyter file\\EEG_process\\SE_test\\Z王宜凡20220318.fif) does not conform to MNE naming conventions. All raw files should end with raw.fif, raw_sss.fif, raw_tsss.fif, _meg.fif, _eeg.fif, _ieeg.fif, raw.fif.gz, raw_sss.fif.gz, raw_tsss.fif.gz, _meg.fif.gz, _eeg.fif.gz or _ieeg.fif.gz\n",
      "  raw.save(path_name,picks,start_time,end_time,overwrite=True)\n"
     ]
    },
    {
     "name": "stdout",
     "output_type": "stream",
     "text": [
      "Creating raw.info structure...\n",
      "Used Annotations descriptions: ['File Create', 'Recording ends', 'Recording starts', 'SE', 'end', 'start']\n",
      "Extracting EDF parameters from E:\\jupyter file\\EEG_process\\patient_data\\治疗脑电（第一批次）\\Z王宜凡20220321.edf...\n",
      "EDF file detected\n",
      "Setting channel info structure...\n",
      "Creating raw.info structure...\n",
      "Used Annotations descriptions: ['File Create', 'Recording ends', 'Recording starts', 'SE', 'end', 'start']\n",
      "65.6455078125 + 81.6455078125\n",
      "..\\SE_test\\Z王宜凡20220321.fif\n",
      "Writing E:\\jupyter file\\EEG_process\\SE_test\\Z王宜凡20220321.fif\n",
      "Closing E:\\jupyter file\\EEG_process\\SE_test\\Z王宜凡20220321.fif\n",
      "[done]\n",
      "Extracting EDF parameters from E:\\jupyter file\\EEG_process\\patient_data\\治疗脑电（第一批次）\\Z王宜凡20220323.edf...\n",
      "EDF file detected\n",
      "Setting channel info structure...\n",
      "Creating raw.info structure...\n",
      "Used Annotations descriptions: ['File Create', 'Recording ends', 'Recording starts', 'SE', 'end', 'start', 'Â¼Â¡Ã\\x95Ã³Ã\\x82']\n",
      "Extracting EDF parameters from E:\\jupyter file\\EEG_process\\patient_data\\治疗脑电（第一批次）\\Z王宜凡20220323.edf...\n",
      "EDF file detected\n",
      "Setting channel info structure...\n",
      "Creating raw.info structure...\n",
      "Used Annotations descriptions: ['File Create', 'Recording ends', 'Recording starts', 'SE', 'end', 'start', 'Â¼Â¡Ã\\x95Ã³Ã\\x82']\n",
      "101.01171875 + 117.01171875\n",
      "..\\SE_test\\Z王宜凡20220323.fif\n",
      "Writing E:\\jupyter file\\EEG_process\\SE_test\\Z王宜凡20220323.fif\n",
      "Closing E:\\jupyter file\\EEG_process\\SE_test\\Z王宜凡20220323.fif\n",
      "[done]\n"
     ]
    },
    {
     "name": "stderr",
     "output_type": "stream",
     "text": [
      "<ipython-input-24-63daf20ba1ee>:23: RuntimeWarning: This filename (E:\\jupyter file\\EEG_process\\SE_test\\Z王宜凡20220321.fif) does not conform to MNE naming conventions. All raw files should end with raw.fif, raw_sss.fif, raw_tsss.fif, _meg.fif, _eeg.fif, _ieeg.fif, raw.fif.gz, raw_sss.fif.gz, raw_tsss.fif.gz, _meg.fif.gz, _eeg.fif.gz or _ieeg.fif.gz\n",
      "  raw.save(path_name,picks,start_time,end_time,overwrite=True)\n",
      "<ipython-input-24-63daf20ba1ee>:23: RuntimeWarning: This filename (E:\\jupyter file\\EEG_process\\SE_test\\Z王宜凡20220323.fif) does not conform to MNE naming conventions. All raw files should end with raw.fif, raw_sss.fif, raw_tsss.fif, _meg.fif, _eeg.fif, _ieeg.fif, raw.fif.gz, raw_sss.fif.gz, raw_tsss.fif.gz, _meg.fif.gz, _eeg.fif.gz or _ieeg.fif.gz\n",
      "  raw.save(path_name,picks,start_time,end_time,overwrite=True)\n"
     ]
    },
    {
     "name": "stdout",
     "output_type": "stream",
     "text": [
      "Extracting EDF parameters from E:\\jupyter file\\EEG_process\\patient_data\\治疗脑电（第一批次）\\Z王宜凡20220325.edf...\n",
      "EDF file detected\n",
      "Setting channel info structure...\n",
      "Creating raw.info structure...\n",
      "Used Annotations descriptions: ['File Create', 'Recording ends', 'Recording starts', 'SE', 'end', 'start']\n",
      "Extracting EDF parameters from E:\\jupyter file\\EEG_process\\patient_data\\治疗脑电（第一批次）\\Z王宜凡20220325.edf...\n",
      "EDF file detected\n",
      "Setting channel info structure...\n",
      "Creating raw.info structure...\n",
      "Used Annotations descriptions: ['File Create', 'Recording ends', 'Recording starts', 'SE', 'end', 'start']\n",
      "73.322265625 + 89.322265625\n",
      "..\\SE_test\\Z王宜凡20220325.fif\n",
      "Writing E:\\jupyter file\\EEG_process\\SE_test\\Z王宜凡20220325.fif\n",
      "Closing E:\\jupyter file\\EEG_process\\SE_test\\Z王宜凡20220325.fif\n",
      "[done]\n",
      "Extracting EDF parameters from E:\\jupyter file\\EEG_process\\patient_data\\治疗脑电（第一批次）\\Z王纯刚20220321.edf...\n",
      "EDF file detected\n",
      "Setting channel info structure...\n",
      "Creating raw.info structure...\n",
      "Used Annotations descriptions: ['File Create', 'Recording ends', 'Recording starts', 'SE', 'end', 'start']\n",
      "Extracting EDF parameters from E:\\jupyter file\\EEG_process\\patient_data\\治疗脑电（第一批次）\\Z王纯刚20220321.edf...\n",
      "EDF file detected\n",
      "Setting channel info structure...\n",
      "Creating raw.info structure...\n",
      "Used Annotations descriptions: ['File Create', 'Recording ends', 'Recording starts', 'SE', 'end', 'start']\n",
      "91.583984375 + 107.583984375\n",
      "..\\SE_test\\Z王纯刚20220321.fif\n",
      "Writing E:\\jupyter file\\EEG_process\\SE_test\\Z王纯刚20220321.fif\n",
      "Closing E:\\jupyter file\\EEG_process\\SE_test\\Z王纯刚20220321.fif\n",
      "[done]\n",
      "Extracting EDF parameters from E:\\jupyter file\\EEG_process\\patient_data\\治疗脑电（第一批次）\\Z王纯刚20220323.edf...\n",
      "EDF file detected\n",
      "Setting channel info structure...\n",
      "Creating raw.info structure...\n",
      "Used Annotations descriptions: ['File Create', 'Recording ends', 'Recording starts', 'SE', 'end', 'start']\n"
     ]
    },
    {
     "name": "stderr",
     "output_type": "stream",
     "text": [
      "<ipython-input-24-63daf20ba1ee>:23: RuntimeWarning: This filename (E:\\jupyter file\\EEG_process\\SE_test\\Z王宜凡20220325.fif) does not conform to MNE naming conventions. All raw files should end with raw.fif, raw_sss.fif, raw_tsss.fif, _meg.fif, _eeg.fif, _ieeg.fif, raw.fif.gz, raw_sss.fif.gz, raw_tsss.fif.gz, _meg.fif.gz, _eeg.fif.gz or _ieeg.fif.gz\n",
      "  raw.save(path_name,picks,start_time,end_time,overwrite=True)\n",
      "<ipython-input-24-63daf20ba1ee>:23: RuntimeWarning: This filename (E:\\jupyter file\\EEG_process\\SE_test\\Z王纯刚20220321.fif) does not conform to MNE naming conventions. All raw files should end with raw.fif, raw_sss.fif, raw_tsss.fif, _meg.fif, _eeg.fif, _ieeg.fif, raw.fif.gz, raw_sss.fif.gz, raw_tsss.fif.gz, _meg.fif.gz, _eeg.fif.gz or _ieeg.fif.gz\n",
      "  raw.save(path_name,picks,start_time,end_time,overwrite=True)\n"
     ]
    },
    {
     "name": "stdout",
     "output_type": "stream",
     "text": [
      "Extracting EDF parameters from E:\\jupyter file\\EEG_process\\patient_data\\治疗脑电（第一批次）\\Z王纯刚20220323.edf...\n",
      "EDF file detected\n",
      "Setting channel info structure...\n",
      "Creating raw.info structure...\n",
      "Used Annotations descriptions: ['File Create', 'Recording ends', 'Recording starts', 'SE', 'end', 'start']\n",
      "67.400390625 + 83.400390625\n",
      "..\\SE_test\\Z王纯刚20220323.fif\n",
      "Writing E:\\jupyter file\\EEG_process\\SE_test\\Z王纯刚20220323.fif\n",
      "Closing E:\\jupyter file\\EEG_process\\SE_test\\Z王纯刚20220323.fif\n",
      "[done]\n",
      "Extracting EDF parameters from E:\\jupyter file\\EEG_process\\patient_data\\治疗脑电（第一批次）\\Z王纯刚20220325.edf...\n",
      "EDF file detected\n",
      "Setting channel info structure...\n",
      "Creating raw.info structure...\n",
      "Used Annotations descriptions: ['File Create', 'Recording ends', 'Recording starts', 'SE', 'end', 'start']\n",
      "Extracting EDF parameters from E:\\jupyter file\\EEG_process\\patient_data\\治疗脑电（第一批次）\\Z王纯刚20220325.edf...\n",
      "EDF file detected\n",
      "Setting channel info structure...\n",
      "Creating raw.info structure...\n",
      "Used Annotations descriptions: ['File Create', 'Recording ends', 'Recording starts', 'SE', 'end', 'start']\n",
      "23.7490234375 + 39.7490234375\n",
      "..\\SE_test\\Z王纯刚20220325.fif\n",
      "Writing E:\\jupyter file\\EEG_process\\SE_test\\Z王纯刚20220325.fif\n",
      "Closing E:\\jupyter file\\EEG_process\\SE_test\\Z王纯刚20220325.fif\n",
      "[done]\n",
      "Extracting EDF parameters from E:\\jupyter file\\EEG_process\\patient_data\\治疗脑电（第一批次）\\Z王纯刚20220328.edf...\n",
      "EDF file detected\n",
      "Setting channel info structure...\n",
      "Creating raw.info structure...\n",
      "Used Annotations descriptions: ['Recording ends', 'Recording starts', 'SE', 'end', 'start']\n",
      "Extracting EDF parameters from E:\\jupyter file\\EEG_process\\patient_data\\治疗脑电（第一批次）\\Z王纯刚20220328.edf...\n",
      "EDF file detected\n",
      "Setting channel info structure...\n",
      "Creating raw.info structure...\n",
      "Used Annotations descriptions: ['Recording ends', 'Recording starts', 'SE', 'end', 'start']\n"
     ]
    },
    {
     "name": "stderr",
     "output_type": "stream",
     "text": [
      "<ipython-input-24-63daf20ba1ee>:23: RuntimeWarning: This filename (E:\\jupyter file\\EEG_process\\SE_test\\Z王纯刚20220323.fif) does not conform to MNE naming conventions. All raw files should end with raw.fif, raw_sss.fif, raw_tsss.fif, _meg.fif, _eeg.fif, _ieeg.fif, raw.fif.gz, raw_sss.fif.gz, raw_tsss.fif.gz, _meg.fif.gz, _eeg.fif.gz or _ieeg.fif.gz\n",
      "  raw.save(path_name,picks,start_time,end_time,overwrite=True)\n",
      "<ipython-input-24-63daf20ba1ee>:23: RuntimeWarning: This filename (E:\\jupyter file\\EEG_process\\SE_test\\Z王纯刚20220325.fif) does not conform to MNE naming conventions. All raw files should end with raw.fif, raw_sss.fif, raw_tsss.fif, _meg.fif, _eeg.fif, _ieeg.fif, raw.fif.gz, raw_sss.fif.gz, raw_tsss.fif.gz, _meg.fif.gz, _eeg.fif.gz or _ieeg.fif.gz\n",
      "  raw.save(path_name,picks,start_time,end_time,overwrite=True)\n"
     ]
    },
    {
     "name": "stdout",
     "output_type": "stream",
     "text": [
      "282.818359375 + 298.818359375\n",
      "..\\SE_test\\Z王纯刚20220328.fif\n",
      "Writing E:\\jupyter file\\EEG_process\\SE_test\\Z王纯刚20220328.fif\n",
      "Closing E:\\jupyter file\\EEG_process\\SE_test\\Z王纯刚20220328.fif\n",
      "[done]\n"
     ]
    },
    {
     "name": "stderr",
     "output_type": "stream",
     "text": [
      "<ipython-input-24-63daf20ba1ee>:23: RuntimeWarning: This filename (E:\\jupyter file\\EEG_process\\SE_test\\Z王纯刚20220328.fif) does not conform to MNE naming conventions. All raw files should end with raw.fif, raw_sss.fif, raw_tsss.fif, _meg.fif, _eeg.fif, _ieeg.fif, raw.fif.gz, raw_sss.fif.gz, raw_tsss.fif.gz, _meg.fif.gz, _eeg.fif.gz or _ieeg.fif.gz\n",
      "  raw.save(path_name,picks,start_time,end_time,overwrite=True)\n"
     ]
    }
   ],
   "source": [
    "#生成SE_train\n",
    "for file_path in train_therapy_file_path:\n",
    "    if judgeflag(file_path,\"SE\"):\n",
    "        #如果发作，则只截取8s \n",
    "        #为False时表示当前数据送入训练集\n",
    "        get_se_epochs(file_path,8,0,False)\n",
    "        #添加参数到df_parameter_train的末尾\n",
    "        df_parameter_train.loc[len(df_parameter_train.index)]=path_parameter_dict[file_path]\n",
    "        #如果发作，则再截取offset为8,16,24……的8s片段\n",
    "        if file_path.find('未发作')!=-1:\n",
    "            for i in range(8,8*(int)(multiple),8):\n",
    "                get_se_epochs(file_path,16,i,False) \n",
    "                df_parameter_train.loc[len(df_parameter_train.index)]=path_parameter_dict[file_path]\n",
    "    else:\n",
    "        file_without_se.append(file_path)\n",
    "#生成SE_test,不考虑对未发作数据的重叠采样\n",
    "for file_path in test_therapy_file_path:\n",
    "    if judgeflag(file_path,\"SE\"):\n",
    "        #仍然取16s片段\n",
    "        get_se_epochs(file_path,16,0,True) \n",
    "        df_parameter_test.loc[len(df_parameter_test.index)]=path_parameter_dict[file_path]\n",
    "    else:\n",
    "        file_without_se.append(file_path)"
   ]
  },
  {
   "cell_type": "code",
   "execution_count": 27,
   "id": "0c9bc011",
   "metadata": {},
   "outputs": [
    {
     "data": {
      "text/plain": [
       "['../patient_data/治疗脑电（第一批次）\\\\Z刘家瑞20220304.edf',\n",
       " '../patient_data/治疗脑电（第一批次）\\\\Z张璐20220304.edf',\n",
       " '../patient_data/治疗脑电（第一批次）\\\\Z林攀攀20220221（未发作）.edf',\n",
       " '../patient_data/治疗脑电（第一批次）\\\\Z肖智华20220307（未发作）.edf']"
      ]
     },
     "execution_count": 27,
     "metadata": {},
     "output_type": "execute_result"
    }
   ],
   "source": [
    "file_without_se"
   ]
  },
  {
   "cell_type": "code",
   "execution_count": 28,
   "id": "07d4d472",
   "metadata": {},
   "outputs": [
    {
     "data": {
      "text/html": [
       "<div>\n",
       "<style scoped>\n",
       "    .dataframe tbody tr th:only-of-type {\n",
       "        vertical-align: middle;\n",
       "    }\n",
       "\n",
       "    .dataframe tbody tr th {\n",
       "        vertical-align: top;\n",
       "    }\n",
       "\n",
       "    .dataframe thead th {\n",
       "        text-align: right;\n",
       "    }\n",
       "</style>\n",
       "<table border=\"1\" class=\"dataframe\">\n",
       "  <thead>\n",
       "    <tr style=\"text-align: right;\">\n",
       "      <th></th>\n",
       "      <th>parameter</th>\n",
       "    </tr>\n",
       "  </thead>\n",
       "  <tbody>\n",
       "    <tr>\n",
       "      <th>0</th>\n",
       "      <td>1</td>\n",
       "    </tr>\n",
       "    <tr>\n",
       "      <th>1</th>\n",
       "      <td>4</td>\n",
       "    </tr>\n",
       "    <tr>\n",
       "      <th>2</th>\n",
       "      <td>3</td>\n",
       "    </tr>\n",
       "    <tr>\n",
       "      <th>3</th>\n",
       "      <td>2</td>\n",
       "    </tr>\n",
       "    <tr>\n",
       "      <th>4</th>\n",
       "      <td>3</td>\n",
       "    </tr>\n",
       "    <tr>\n",
       "      <th>...</th>\n",
       "      <td>...</td>\n",
       "    </tr>\n",
       "    <tr>\n",
       "      <th>116</th>\n",
       "      <td>2</td>\n",
       "    </tr>\n",
       "    <tr>\n",
       "      <th>117</th>\n",
       "      <td>1</td>\n",
       "    </tr>\n",
       "    <tr>\n",
       "      <th>118</th>\n",
       "      <td>4</td>\n",
       "    </tr>\n",
       "    <tr>\n",
       "      <th>119</th>\n",
       "      <td>2</td>\n",
       "    </tr>\n",
       "    <tr>\n",
       "      <th>120</th>\n",
       "      <td>3</td>\n",
       "    </tr>\n",
       "  </tbody>\n",
       "</table>\n",
       "<p>121 rows × 1 columns</p>\n",
       "</div>"
      ],
      "text/plain": [
       "    parameter\n",
       "0           1\n",
       "1           4\n",
       "2           3\n",
       "3           2\n",
       "4           3\n",
       "..        ...\n",
       "116         2\n",
       "117         1\n",
       "118         4\n",
       "119         2\n",
       "120         3\n",
       "\n",
       "[121 rows x 1 columns]"
      ]
     },
     "execution_count": 28,
     "metadata": {},
     "output_type": "execute_result"
    }
   ],
   "source": [
    "df_parameter_train"
   ]
  },
  {
   "cell_type": "code",
   "execution_count": 29,
   "id": "d68355b4",
   "metadata": {},
   "outputs": [
    {
     "data": {
      "text/html": [
       "<div>\n",
       "<style scoped>\n",
       "    .dataframe tbody tr th:only-of-type {\n",
       "        vertical-align: middle;\n",
       "    }\n",
       "\n",
       "    .dataframe tbody tr th {\n",
       "        vertical-align: top;\n",
       "    }\n",
       "\n",
       "    .dataframe thead th {\n",
       "        text-align: right;\n",
       "    }\n",
       "</style>\n",
       "<table border=\"1\" class=\"dataframe\">\n",
       "  <thead>\n",
       "    <tr style=\"text-align: right;\">\n",
       "      <th></th>\n",
       "      <th>parameter</th>\n",
       "    </tr>\n",
       "  </thead>\n",
       "  <tbody>\n",
       "    <tr>\n",
       "      <th>0</th>\n",
       "      <td>3</td>\n",
       "    </tr>\n",
       "    <tr>\n",
       "      <th>1</th>\n",
       "      <td>1</td>\n",
       "    </tr>\n",
       "    <tr>\n",
       "      <th>2</th>\n",
       "      <td>2</td>\n",
       "    </tr>\n",
       "    <tr>\n",
       "      <th>3</th>\n",
       "      <td>4</td>\n",
       "    </tr>\n",
       "    <tr>\n",
       "      <th>4</th>\n",
       "      <td>3</td>\n",
       "    </tr>\n",
       "    <tr>\n",
       "      <th>5</th>\n",
       "      <td>1</td>\n",
       "    </tr>\n",
       "    <tr>\n",
       "      <th>6</th>\n",
       "      <td>4</td>\n",
       "    </tr>\n",
       "    <tr>\n",
       "      <th>7</th>\n",
       "      <td>2</td>\n",
       "    </tr>\n",
       "    <tr>\n",
       "      <th>8</th>\n",
       "      <td>4</td>\n",
       "    </tr>\n",
       "    <tr>\n",
       "      <th>9</th>\n",
       "      <td>3</td>\n",
       "    </tr>\n",
       "    <tr>\n",
       "      <th>10</th>\n",
       "      <td>2</td>\n",
       "    </tr>\n",
       "    <tr>\n",
       "      <th>11</th>\n",
       "      <td>1</td>\n",
       "    </tr>\n",
       "    <tr>\n",
       "      <th>12</th>\n",
       "      <td>2</td>\n",
       "    </tr>\n",
       "    <tr>\n",
       "      <th>13</th>\n",
       "      <td>4</td>\n",
       "    </tr>\n",
       "    <tr>\n",
       "      <th>14</th>\n",
       "      <td>3</td>\n",
       "    </tr>\n",
       "    <tr>\n",
       "      <th>15</th>\n",
       "      <td>1</td>\n",
       "    </tr>\n",
       "  </tbody>\n",
       "</table>\n",
       "</div>"
      ],
      "text/plain": [
       "   parameter\n",
       "0          3\n",
       "1          1\n",
       "2          2\n",
       "3          4\n",
       "4          3\n",
       "5          1\n",
       "6          4\n",
       "7          2\n",
       "8          4\n",
       "9          3\n",
       "10         2\n",
       "11         1\n",
       "12         2\n",
       "13         4\n",
       "14         3\n",
       "15         1"
      ]
     },
     "execution_count": 29,
     "metadata": {},
     "output_type": "execute_result"
    }
   ],
   "source": [
    "df_parameter_test"
   ]
  },
  {
   "cell_type": "code",
   "execution_count": 30,
   "id": "100abeb8",
   "metadata": {},
   "outputs": [],
   "source": [
    "train_output_path=(\"../SE_parameter/train_matched_stimulate_parameter.xlsx\")\n",
    "test_output_path=(\"../SE_parameter/test_matched_stimulate_parameter.xlsx\")"
   ]
  },
  {
   "cell_type": "code",
   "execution_count": 31,
   "id": "c09bd912",
   "metadata": {},
   "outputs": [],
   "source": [
    "df_parameter_train.to_excel(train_output_path,sheet_name=\"Sheet1\")"
   ]
  },
  {
   "cell_type": "code",
   "execution_count": 32,
   "id": "003b224e",
   "metadata": {},
   "outputs": [],
   "source": [
    "df_parameter_test.to_excel(test_output_path,sheet_name=\"Sheet1\")"
   ]
  },
  {
   "cell_type": "code",
   "execution_count": null,
   "id": "1b527366",
   "metadata": {},
   "outputs": [],
   "source": []
  }
 ],
 "metadata": {
  "kernelspec": {
   "display_name": "Python 3",
   "language": "python",
   "name": "python3"
  },
  "language_info": {
   "codemirror_mode": {
    "name": "ipython",
    "version": 3
   },
   "file_extension": ".py",
   "mimetype": "text/x-python",
   "name": "python",
   "nbconvert_exporter": "python",
   "pygments_lexer": "ipython3",
   "version": "3.8.8"
  }
 },
 "nbformat": 4,
 "nbformat_minor": 5
}
