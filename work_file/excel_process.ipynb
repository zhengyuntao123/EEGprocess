{
 "cells": [
  {
   "cell_type": "markdown",
   "id": "3efb65cb",
   "metadata": {},
   "source": [
    "### 文件说明：处理多个批次的刺激参数,并按照中文序排序，合并为一张表，保存至 SE_parameter"
   ]
  },
  {
   "cell_type": "code",
   "execution_count": 3,
   "id": "fd19aa7b",
   "metadata": {},
   "outputs": [],
   "source": [
    "import xlrd\n",
    "import pandas as pd"
   ]
  },
  {
   "cell_type": "code",
   "execution_count": 2,
   "id": "10aa4cd9",
   "metadata": {},
   "outputs": [],
   "source": [
    "def first_batch(path):\n",
    "    df = pd.read_excel(path,engine='openpyxl')\n",
    "    df=df[['姓名','性别','年龄','刺激1','完成时间1','刺激2','完成时间2','刺激3','完成时间3','刺激4','完成时间4']]\n",
    "    df1=pd.DataFrame(columns=['姓名','性别','年龄','刺激参数','完成时间'])\n",
    "    #每个人有4次电刺激\n",
    "    stimulate_time=4\n",
    "    for i in range(df.shape[0]):\n",
    "        df1.loc[stimulate_time*i]=[df.iloc[i,0],df.iloc[i,1],df.iloc[i,2],df.iloc[i,3],df.iloc[i,4]]\n",
    "        df1.loc[stimulate_time*i+1]=[df.iloc[i,0],df.iloc[i,1],df.iloc[i,2],df.iloc[i,5],df.iloc[i,6]]\n",
    "        df1.loc[stimulate_time*i+2]=[df.iloc[i,0],df.iloc[i,1],df.iloc[i,2],df.iloc[i,7],df.iloc[i,8]]\n",
    "        df1.loc[stimulate_time*i+3]=[df.iloc[i,0],df.iloc[i,1],df.iloc[i,2],df.iloc[i,9],df.iloc[i,10]]\n",
    "    return df1"
   ]
  },
  {
   "cell_type": "code",
   "execution_count": 3,
   "id": "9e2ccbec",
   "metadata": {},
   "outputs": [],
   "source": [
    "def second_batch(path):\n",
    "    df = pd.read_excel(path,engine='openpyxl')\n",
    "    df=df[['姓名','刺激方案','治疗时间']]\n",
    "    df=df.rename(columns={'刺激方案':'刺激参数','治疗时间':'完成时间'})\n",
    "    return df"
   ]
  },
  {
   "cell_type": "code",
   "execution_count": 4,
   "id": "b23a3a0a",
   "metadata": {},
   "outputs": [],
   "source": [
    "path = \"../patient_data/刺激参数（第一批次）.xlsx\"\n",
    "df1 = first_batch(path)"
   ]
  },
  {
   "cell_type": "code",
   "execution_count": 5,
   "id": "441338a5",
   "metadata": {},
   "outputs": [],
   "source": [
    "path = \"../patient_data/刺激参数（第二批次改）.xlsx\"\n",
    "df2 = second_batch(path)"
   ]
  },
  {
   "cell_type": "code",
   "execution_count": 6,
   "id": "ef745e75",
   "metadata": {},
   "outputs": [],
   "source": [
    "df = df1.append(df2)\n",
    "df = df.reset_index(drop=True)"
   ]
  },
  {
   "cell_type": "code",
   "execution_count": 7,
   "id": "7d49b91c",
   "metadata": {},
   "outputs": [],
   "source": [
    "output_path=(\"../SE_parameter/stimulate_parameter.xlsx\")\n",
    "df.to_excel(output_path,sheet_name=\"batch1&2\")"
   ]
  },
  {
   "cell_type": "code",
   "execution_count": 8,
   "id": "59f352f6",
   "metadata": {},
   "outputs": [],
   "source": [
    "df1.to_excel(\"../SE_parameter/batch1_stimulate_parameter.xlsx\",sheet_name=\"batch1\")\n",
    "df2.to_excel(\"../SE_parameter/batch2_stimulate_parameter.xlsx\",sheet_name=\"batch2\")"
   ]
  },
  {
   "cell_type": "code",
   "execution_count": 10,
   "id": "37679df2",
   "metadata": {},
   "outputs": [
    {
     "data": {
      "text/html": [
       "<div>\n",
       "<style scoped>\n",
       "    .dataframe tbody tr th:only-of-type {\n",
       "        vertical-align: middle;\n",
       "    }\n",
       "\n",
       "    .dataframe tbody tr th {\n",
       "        vertical-align: top;\n",
       "    }\n",
       "\n",
       "    .dataframe thead th {\n",
       "        text-align: right;\n",
       "    }\n",
       "</style>\n",
       "<table border=\"1\" class=\"dataframe\">\n",
       "  <thead>\n",
       "    <tr style=\"text-align: right;\">\n",
       "      <th></th>\n",
       "      <th>姓名</th>\n",
       "      <th>性别</th>\n",
       "      <th>年龄</th>\n",
       "      <th>刺激参数</th>\n",
       "      <th>完成时间</th>\n",
       "    </tr>\n",
       "  </thead>\n",
       "  <tbody>\n",
       "    <tr>\n",
       "      <th>0</th>\n",
       "      <td>曾刚</td>\n",
       "      <td>男</td>\n",
       "      <td>13</td>\n",
       "      <td>2</td>\n",
       "      <td>20220216</td>\n",
       "    </tr>\n",
       "    <tr>\n",
       "      <th>1</th>\n",
       "      <td>曾刚</td>\n",
       "      <td>男</td>\n",
       "      <td>13</td>\n",
       "      <td>3</td>\n",
       "      <td>20220218</td>\n",
       "    </tr>\n",
       "    <tr>\n",
       "      <th>2</th>\n",
       "      <td>曾刚</td>\n",
       "      <td>男</td>\n",
       "      <td>13</td>\n",
       "      <td>4</td>\n",
       "      <td>20220221</td>\n",
       "    </tr>\n",
       "    <tr>\n",
       "      <th>3</th>\n",
       "      <td>曾刚</td>\n",
       "      <td>男</td>\n",
       "      <td>13</td>\n",
       "      <td>1</td>\n",
       "      <td>20220223</td>\n",
       "    </tr>\n",
       "    <tr>\n",
       "      <th>4</th>\n",
       "      <td>杜娇</td>\n",
       "      <td>女</td>\n",
       "      <td>29</td>\n",
       "      <td>4</td>\n",
       "      <td>20220316</td>\n",
       "    </tr>\n",
       "    <tr>\n",
       "      <th>...</th>\n",
       "      <td>...</td>\n",
       "      <td>...</td>\n",
       "      <td>...</td>\n",
       "      <td>...</td>\n",
       "      <td>...</td>\n",
       "    </tr>\n",
       "    <tr>\n",
       "      <th>185</th>\n",
       "      <td>周博</td>\n",
       "      <td>NaN</td>\n",
       "      <td>NaN</td>\n",
       "      <td>3</td>\n",
       "      <td>20220422</td>\n",
       "    </tr>\n",
       "    <tr>\n",
       "      <th>186</th>\n",
       "      <td>周牧涵</td>\n",
       "      <td>NaN</td>\n",
       "      <td>NaN</td>\n",
       "      <td>2</td>\n",
       "      <td>20220511</td>\n",
       "    </tr>\n",
       "    <tr>\n",
       "      <th>187</th>\n",
       "      <td>周牧涵</td>\n",
       "      <td>NaN</td>\n",
       "      <td>NaN</td>\n",
       "      <td>1</td>\n",
       "      <td>20220513</td>\n",
       "    </tr>\n",
       "    <tr>\n",
       "      <th>188</th>\n",
       "      <td>周牧涵</td>\n",
       "      <td>NaN</td>\n",
       "      <td>NaN</td>\n",
       "      <td>3</td>\n",
       "      <td>20220516</td>\n",
       "    </tr>\n",
       "    <tr>\n",
       "      <th>189</th>\n",
       "      <td>周牧涵</td>\n",
       "      <td>NaN</td>\n",
       "      <td>NaN</td>\n",
       "      <td>4</td>\n",
       "      <td>20220518</td>\n",
       "    </tr>\n",
       "  </tbody>\n",
       "</table>\n",
       "<p>190 rows × 5 columns</p>\n",
       "</div>"
      ],
      "text/plain": [
       "      姓名   性别   年龄 刺激参数      完成时间\n",
       "0     曾刚    男   13    2  20220216\n",
       "1     曾刚    男   13    3  20220218\n",
       "2     曾刚    男   13    4  20220221\n",
       "3     曾刚    男   13    1  20220223\n",
       "4     杜娇    女   29    4  20220316\n",
       "..   ...  ...  ...  ...       ...\n",
       "185   周博  NaN  NaN    3  20220422\n",
       "186  周牧涵  NaN  NaN    2  20220511\n",
       "187  周牧涵  NaN  NaN    1  20220513\n",
       "188  周牧涵  NaN  NaN    3  20220516\n",
       "189  周牧涵  NaN  NaN    4  20220518\n",
       "\n",
       "[190 rows x 5 columns]"
      ]
     },
     "execution_count": 10,
     "metadata": {},
     "output_type": "execute_result"
    }
   ],
   "source": [
    "df"
   ]
  },
  {
   "cell_type": "code",
   "execution_count": null,
   "id": "f18c4120",
   "metadata": {},
   "outputs": [],
   "source": []
  }
 ],
 "metadata": {
  "kernelspec": {
   "display_name": "Python 3 (ipykernel)",
   "language": "python",
   "name": "python3"
  },
  "language_info": {
   "codemirror_mode": {
    "name": "ipython",
    "version": 3
   },
   "file_extension": ".py",
   "mimetype": "text/x-python",
   "name": "python",
   "nbconvert_exporter": "python",
   "pygments_lexer": "ipython3",
   "version": "3.9.12"
  }
 },
 "nbformat": 4,
 "nbformat_minor": 5
}
