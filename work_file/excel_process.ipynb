{
 "cells": [
  {
   "cell_type": "markdown",
   "id": "3efb65cb",
   "metadata": {},
   "source": [
    "### 文件说明：处理多个批次的刺激参数,并按照中文序排序，合并为一张表，保存至 SE_parameter"
   ]
  },
  {
   "cell_type": "code",
   "execution_count": 1,
   "id": "fd19aa7b",
   "metadata": {},
   "outputs": [],
   "source": [
    "import xlrd\n",
    "import pandas as pd"
   ]
  },
  {
   "cell_type": "code",
   "execution_count": 2,
   "id": "10aa4cd9",
   "metadata": {},
   "outputs": [],
   "source": [
    "def first_batch(path):\n",
    "    df = pd.read_excel(path,engine='openpyxl')\n",
    "    df=df[['姓名','性别','年龄','刺激1','完成时间1','刺激2','完成时间2','刺激3','完成时间3','刺激4','完成时间4']]\n",
    "    df1=pd.DataFrame(columns=['姓名','性别','年龄','刺激参数','完成时间'])\n",
    "    #每个人有4次电刺激\n",
    "    stimulate_time=4\n",
    "    for i in range(df.shape[0]):\n",
    "        df1.loc[stimulate_time*i]=[df.iloc[i,0],df.iloc[i,1],df.iloc[i,2],df.iloc[i,3],df.iloc[i,4]]\n",
    "        df1.loc[stimulate_time*i+1]=[df.iloc[i,0],df.iloc[i,1],df.iloc[i,2],df.iloc[i,5],df.iloc[i,6]]\n",
    "        df1.loc[stimulate_time*i+2]=[df.iloc[i,0],df.iloc[i,1],df.iloc[i,2],df.iloc[i,7],df.iloc[i,8]]\n",
    "        df1.loc[stimulate_time*i+3]=[df.iloc[i,0],df.iloc[i,1],df.iloc[i,2],df.iloc[i,9],df.iloc[i,10]]\n",
    "    return df1"
   ]
  },
  {
   "cell_type": "code",
   "execution_count": 3,
   "id": "9e2ccbec",
   "metadata": {},
   "outputs": [],
   "source": [
    "def second_batch(path):\n",
    "    df = pd.read_excel(path,engine='openpyxl')\n",
    "    df=df[['姓名','刺激方案','治疗时间']]\n",
    "    df=df.rename(columns={'刺激方案':'刺激参数','治疗时间':'完成时间'})\n",
    "    return df"
   ]
  },
  {
   "cell_type": "code",
   "execution_count": 4,
   "id": "b23a3a0a",
   "metadata": {},
   "outputs": [],
   "source": [
    "path = \"../patient_data/刺激参数（第一批次）.xlsx\"\n",
    "df1 = first_batch(path)"
   ]
  },
  {
   "cell_type": "code",
   "execution_count": 5,
   "id": "441338a5",
   "metadata": {},
   "outputs": [],
   "source": [
    "path = \"../patient_data/刺激参数（第二批次）.xlsx\"\n",
    "df2 = second_batch(path)"
   ]
  },
  {
   "cell_type": "code",
   "execution_count": 8,
   "id": "ef745e75",
   "metadata": {},
   "outputs": [],
   "source": [
    "df = df1.append(df2)\n",
    "df = df.reset_index(drop=True)"
   ]
  },
  {
   "cell_type": "code",
   "execution_count": 10,
   "id": "7d49b91c",
   "metadata": {},
   "outputs": [],
   "source": [
    "output_path=(\"../SE_parameter/stimulate_parameter.xlsx\")\n",
    "df.to_excel(output_path,sheet_name=\"batch1&2\")"
   ]
  },
  {
   "cell_type": "code",
   "execution_count": 11,
   "id": "59f352f6",
   "metadata": {},
   "outputs": [],
   "source": [
    "df1.to_excel(\"../SE_parameter/batch1_stimulate_parameter.xlsx\",sheet_name=\"batch1\")\n",
    "df2.to_excel(\"../SE_parameter/batch2_stimulate_parameter.xlsx\",sheet_name=\"batch2\")"
   ]
  },
  {
   "cell_type": "code",
   "execution_count": null,
   "id": "37679df2",
   "metadata": {},
   "outputs": [],
   "source": []
  }
 ],
 "metadata": {
  "kernelspec": {
   "display_name": "Python 3",
   "language": "python",
   "name": "python3"
  },
  "language_info": {
   "codemirror_mode": {
    "name": "ipython",
    "version": 3
   },
   "file_extension": ".py",
   "mimetype": "text/x-python",
   "name": "python",
   "nbconvert_exporter": "python",
   "pygments_lexer": "ipython3",
   "version": "3.8.8"
  }
 },
 "nbformat": 4,
 "nbformat_minor": 5
}
