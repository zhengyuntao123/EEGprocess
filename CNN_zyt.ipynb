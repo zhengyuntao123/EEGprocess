{
 "cells": [
  {
   "cell_type": "code",
   "execution_count": 1,
   "id": "d8e12e49",
   "metadata": {},
   "outputs": [],
   "source": [
    "import mne\n",
    "import numpy as np\n",
    "import glob\n",
    "from past.builtins import unicode"
   ]
  },
  {
   "cell_type": "code",
   "execution_count": 2,
   "id": "f4b6f638",
   "metadata": {
    "scrolled": true
   },
   "outputs": [
    {
     "name": "stdout",
     "output_type": "stream",
     "text": [
      "92\n"
     ]
    }
   ],
   "source": [
    "#读取SE数据\n",
    "data_dir_file=r\"../第四批病人数据/第四批_SE/\"\n",
    "data_file_path=sorted(glob.glob(data_dir_file+\"*\"))\n",
    "# data_file_path\n",
    "print(len(data_file_path))"
   ]
  },
  {
   "cell_type": "code",
   "execution_count": 3,
   "id": "a9166c97",
   "metadata": {},
   "outputs": [
    {
     "name": "stdout",
     "output_type": "stream",
     "text": [
      "92\n"
     ]
    }
   ],
   "source": [
    "y_train=[]\n",
    "for i in data_file_path:\n",
    "    if i.find('未发作')==-1:\n",
    "        y_train.append(0)\n",
    "    else:\n",
    "        y_train.append(1)\n",
    "print(len(y_train))"
   ]
  },
  {
   "cell_type": "code",
   "execution_count": 4,
   "id": "f6a52d4b",
   "metadata": {},
   "outputs": [
    {
     "name": "stdout",
     "output_type": "stream",
     "text": [
      "12512\n"
     ]
    }
   ],
   "source": [
    "#由于每16s数据截成8段2s，所以y也要变成8*17倍长度\n",
    "y_long_data=[]\n",
    "for i in y_train:\n",
    "    for j in range(8*17):\n",
    "        y_long_data.append(i)\n",
    "y_train=y_long_data\n",
    "print(len(y_long_data))"
   ]
  },
  {
   "cell_type": "code",
   "execution_count": 5,
   "id": "493e1a48",
   "metadata": {},
   "outputs": [],
   "source": [
    "# 计算皮尔逊相关系数\n",
    "def pearson_r(y_true, y_pred):\n",
    "    x = y_true\n",
    "    y = y_pred\n",
    "    mx = K.mean(x, axis=0)\n",
    "    my = K.mean(y, axis=0)\n",
    "    xm, ym = x - mx, y - my\n",
    "    r_num = K.sum(xm * ym)\n",
    "    x_square_sum = K.sum(xm * xm)\n",
    "    y_square_sum = K.sum(ym * ym)\n",
    "    r_den = K.sqrt(x_square_sum * y_square_sum)\n",
    "    r = r_num / r_den\n",
    "    return K.mean(r)\n",
    "\n",
    "from keras.models import load_model\n",
    "model_path = r'../病人数据处理/Gao_Novel_CNN_RNN_dan1648644882.h5'\n",
    "model = load_model(model_path, custom_objects={'pearson_r': pearson_r})"
   ]
  },
  {
   "cell_type": "code",
   "execution_count": 6,
   "id": "9a399996",
   "metadata": {},
   "outputs": [],
   "source": [
    "import scipy.signal\n",
    "import scipy.io as scio    \n",
    "channels_selected=17\n",
    "samps = int(2 * 256)"
   ]
  },
  {
   "cell_type": "code",
   "execution_count": 7,
   "id": "f8768705",
   "metadata": {},
   "outputs": [
    {
     "name": "stdout",
     "output_type": "stream",
     "text": [
      "Opening raw data file ../第四批病人数据/第四批_SE\\Z何富桂20220221.fif...\n",
      "Isotrak not found\n",
      "    Range : 8919 ... 25303 =      8.710 ...    24.710 secs\n",
      "Ready.\n"
     ]
    },
    {
     "name": "stderr",
     "output_type": "stream",
     "text": [
      "<ipython-input-7-b044a54e14bd>:3: RuntimeWarning: This filename (../第四批病人数据/第四批_SE\\Z何富桂20220221.fif) does not conform to MNE naming conventions. All raw files should end with raw.fif, raw_sss.fif, raw_tsss.fif, _meg.fif, _eeg.fif, _ieeg.fif, raw.fif.gz, raw_sss.fif.gz, raw_tsss.fif.gz, _meg.fif.gz, _eeg.fif.gz or _ieeg.fif.gz\n",
      "  raw = mne.io.read_raw_fif(i)\n"
     ]
    },
    {
     "name": "stdout",
     "output_type": "stream",
     "text": [
      "Opening raw data file ../第四批病人数据/第四批_SE\\Z何富桂20220225.fif...\n",
      "Isotrak not found\n",
      "    Range : 233098 ... 249482 =    227.635 ...   243.635 secs\n",
      "Ready.\n"
     ]
    },
    {
     "name": "stderr",
     "output_type": "stream",
     "text": [
      "<ipython-input-7-b044a54e14bd>:3: RuntimeWarning: This filename (../第四批病人数据/第四批_SE\\Z何富桂20220225.fif) does not conform to MNE naming conventions. All raw files should end with raw.fif, raw_sss.fif, raw_tsss.fif, _meg.fif, _eeg.fif, _ieeg.fif, raw.fif.gz, raw_sss.fif.gz, raw_tsss.fif.gz, _meg.fif.gz, _eeg.fif.gz or _ieeg.fif.gz\n",
      "  raw = mne.io.read_raw_fif(i)\n"
     ]
    },
    {
     "name": "stdout",
     "output_type": "stream",
     "text": [
      "Opening raw data file ../第四批病人数据/第四批_SE\\Z何富桂20220228.fif...\n",
      "Isotrak not found\n",
      "    Range : 10580 ... 26964 =     10.332 ...    26.332 secs\n",
      "Ready.\n"
     ]
    },
    {
     "name": "stderr",
     "output_type": "stream",
     "text": [
      "<ipython-input-7-b044a54e14bd>:3: RuntimeWarning: This filename (../第四批病人数据/第四批_SE\\Z何富桂20220228.fif) does not conform to MNE naming conventions. All raw files should end with raw.fif, raw_sss.fif, raw_tsss.fif, _meg.fif, _eeg.fif, _ieeg.fif, raw.fif.gz, raw_sss.fif.gz, raw_tsss.fif.gz, _meg.fif.gz, _eeg.fif.gz or _ieeg.fif.gz\n",
      "  raw = mne.io.read_raw_fif(i)\n"
     ]
    },
    {
     "name": "stdout",
     "output_type": "stream",
     "text": [
      "Opening raw data file ../第四批病人数据/第四批_SE\\Z何富桂20220302.fif...\n",
      "Isotrak not found\n",
      "    Range : 133777 ... 150161 =    130.642 ...   146.642 secs\n",
      "Ready.\n"
     ]
    },
    {
     "name": "stderr",
     "output_type": "stream",
     "text": [
      "<ipython-input-7-b044a54e14bd>:3: RuntimeWarning: This filename (../第四批病人数据/第四批_SE\\Z何富桂20220302.fif) does not conform to MNE naming conventions. All raw files should end with raw.fif, raw_sss.fif, raw_tsss.fif, _meg.fif, _eeg.fif, _ieeg.fif, raw.fif.gz, raw_sss.fif.gz, raw_tsss.fif.gz, _meg.fif.gz, _eeg.fif.gz or _ieeg.fif.gz\n",
      "  raw = mne.io.read_raw_fif(i)\n"
     ]
    },
    {
     "name": "stdout",
     "output_type": "stream",
     "text": [
      "Opening raw data file ../第四批病人数据/第四批_SE\\Z倪诗瑄202203011.fif...\n",
      "Isotrak not found\n",
      "    Range : 2646 ... 19030 =      2.584 ...    18.584 secs\n",
      "Ready.\n"
     ]
    },
    {
     "name": "stderr",
     "output_type": "stream",
     "text": [
      "<ipython-input-7-b044a54e14bd>:3: RuntimeWarning: This filename (../第四批病人数据/第四批_SE\\Z倪诗瑄202203011.fif) does not conform to MNE naming conventions. All raw files should end with raw.fif, raw_sss.fif, raw_tsss.fif, _meg.fif, _eeg.fif, _ieeg.fif, raw.fif.gz, raw_sss.fif.gz, raw_tsss.fif.gz, _meg.fif.gz, _eeg.fif.gz or _ieeg.fif.gz\n",
      "  raw = mne.io.read_raw_fif(i)\n"
     ]
    },
    {
     "name": "stdout",
     "output_type": "stream",
     "text": [
      "Opening raw data file ../第四批病人数据/第四批_SE\\Z倪诗瑄202203014.fif...\n",
      "Isotrak not found\n",
      "    Range : 112910 ... 129294 =    110.264 ...   126.264 secs\n",
      "Ready.\n"
     ]
    },
    {
     "name": "stderr",
     "output_type": "stream",
     "text": [
      "<ipython-input-7-b044a54e14bd>:3: RuntimeWarning: This filename (../第四批病人数据/第四批_SE\\Z倪诗瑄202203014.fif) does not conform to MNE naming conventions. All raw files should end with raw.fif, raw_sss.fif, raw_tsss.fif, _meg.fif, _eeg.fif, _ieeg.fif, raw.fif.gz, raw_sss.fif.gz, raw_tsss.fif.gz, _meg.fif.gz, _eeg.fif.gz or _ieeg.fif.gz\n",
      "  raw = mne.io.read_raw_fif(i)\n"
     ]
    },
    {
     "name": "stdout",
     "output_type": "stream",
     "text": [
      "Opening raw data file ../第四批病人数据/第四批_SE\\Z倪诗瑄202203016.fif...\n",
      "Isotrak not found\n",
      "    Range : 132169 ... 148553 =    129.071 ...   145.071 secs\n",
      "Ready.\n"
     ]
    },
    {
     "name": "stderr",
     "output_type": "stream",
     "text": [
      "<ipython-input-7-b044a54e14bd>:3: RuntimeWarning: This filename (../第四批病人数据/第四批_SE\\Z倪诗瑄202203016.fif) does not conform to MNE naming conventions. All raw files should end with raw.fif, raw_sss.fif, raw_tsss.fif, _meg.fif, _eeg.fif, _ieeg.fif, raw.fif.gz, raw_sss.fif.gz, raw_tsss.fif.gz, _meg.fif.gz, _eeg.fif.gz or _ieeg.fif.gz\n",
      "  raw = mne.io.read_raw_fif(i)\n"
     ]
    },
    {
     "name": "stdout",
     "output_type": "stream",
     "text": [
      "Opening raw data file ../第四批病人数据/第四批_SE\\Z倪诗瑄202203018.fif...\n",
      "Isotrak not found\n",
      "    Range : 29274 ... 45658 =     28.588 ...    44.588 secs\n",
      "Ready.\n"
     ]
    },
    {
     "name": "stderr",
     "output_type": "stream",
     "text": [
      "<ipython-input-7-b044a54e14bd>:3: RuntimeWarning: This filename (../第四批病人数据/第四批_SE\\Z倪诗瑄202203018.fif) does not conform to MNE naming conventions. All raw files should end with raw.fif, raw_sss.fif, raw_tsss.fif, _meg.fif, _eeg.fif, _ieeg.fif, raw.fif.gz, raw_sss.fif.gz, raw_tsss.fif.gz, _meg.fif.gz, _eeg.fif.gz or _ieeg.fif.gz\n",
      "  raw = mne.io.read_raw_fif(i)\n"
     ]
    },
    {
     "name": "stdout",
     "output_type": "stream",
     "text": [
      "Opening raw data file ../第四批病人数据/第四批_SE\\Z刘世清202203011.fif...\n",
      "Isotrak not found\n",
      "    Range : 39018 ... 55402 =     38.104 ...    54.104 secs\n",
      "Ready.\n"
     ]
    },
    {
     "name": "stderr",
     "output_type": "stream",
     "text": [
      "<ipython-input-7-b044a54e14bd>:3: RuntimeWarning: This filename (../第四批病人数据/第四批_SE\\Z刘世清202203011.fif) does not conform to MNE naming conventions. All raw files should end with raw.fif, raw_sss.fif, raw_tsss.fif, _meg.fif, _eeg.fif, _ieeg.fif, raw.fif.gz, raw_sss.fif.gz, raw_tsss.fif.gz, _meg.fif.gz, _eeg.fif.gz or _ieeg.fif.gz\n",
      "  raw = mne.io.read_raw_fif(i)\n"
     ]
    },
    {
     "name": "stdout",
     "output_type": "stream",
     "text": [
      "Opening raw data file ../第四批病人数据/第四批_SE\\Z刘世清202203014（未发作）.fif...\n",
      "Isotrak not found\n",
      "    Range : 571218 ... 587602 =    557.830 ...   573.830 secs\n",
      "Ready.\n"
     ]
    },
    {
     "name": "stderr",
     "output_type": "stream",
     "text": [
      "<ipython-input-7-b044a54e14bd>:3: RuntimeWarning: This filename (../第四批病人数据/第四批_SE\\Z刘世清202203014（未发作）.fif) does not conform to MNE naming conventions. All raw files should end with raw.fif, raw_sss.fif, raw_tsss.fif, _meg.fif, _eeg.fif, _ieeg.fif, raw.fif.gz, raw_sss.fif.gz, raw_tsss.fif.gz, _meg.fif.gz, _eeg.fif.gz or _ieeg.fif.gz\n",
      "  raw = mne.io.read_raw_fif(i)\n"
     ]
    },
    {
     "name": "stdout",
     "output_type": "stream",
     "text": [
      "Opening raw data file ../第四批病人数据/第四批_SE\\Z刘世清202203016.fif...\n",
      "Isotrak not found\n",
      "    Range : 46144 ... 62528 =     45.062 ...    61.062 secs\n",
      "Ready.\n"
     ]
    },
    {
     "name": "stderr",
     "output_type": "stream",
     "text": [
      "<ipython-input-7-b044a54e14bd>:3: RuntimeWarning: This filename (../第四批病人数据/第四批_SE\\Z刘世清202203016.fif) does not conform to MNE naming conventions. All raw files should end with raw.fif, raw_sss.fif, raw_tsss.fif, _meg.fif, _eeg.fif, _ieeg.fif, raw.fif.gz, raw_sss.fif.gz, raw_tsss.fif.gz, _meg.fif.gz, _eeg.fif.gz or _ieeg.fif.gz\n",
      "  raw = mne.io.read_raw_fif(i)\n"
     ]
    },
    {
     "name": "stdout",
     "output_type": "stream",
     "text": [
      "Opening raw data file ../第四批病人数据/第四批_SE\\Z刘世清20220309.fif...\n",
      "Isotrak not found\n",
      "    Range : 72862 ... 89246 =     71.154 ...    87.154 secs\n",
      "Ready.\n"
     ]
    },
    {
     "name": "stderr",
     "output_type": "stream",
     "text": [
      "<ipython-input-7-b044a54e14bd>:3: RuntimeWarning: This filename (../第四批病人数据/第四批_SE\\Z刘世清20220309.fif) does not conform to MNE naming conventions. All raw files should end with raw.fif, raw_sss.fif, raw_tsss.fif, _meg.fif, _eeg.fif, _ieeg.fif, raw.fif.gz, raw_sss.fif.gz, raw_tsss.fif.gz, _meg.fif.gz, _eeg.fif.gz or _ieeg.fif.gz\n",
      "  raw = mne.io.read_raw_fif(i)\n"
     ]
    },
    {
     "name": "stdout",
     "output_type": "stream",
     "text": [
      "Opening raw data file ../第四批病人数据/第四批_SE\\Z刘家瑞20220225.fif...\n",
      "Isotrak not found\n",
      "    Range : 167605 ... 183989 =    163.677 ...   179.677 secs\n",
      "Ready.\n"
     ]
    },
    {
     "name": "stderr",
     "output_type": "stream",
     "text": [
      "<ipython-input-7-b044a54e14bd>:3: RuntimeWarning: This filename (../第四批病人数据/第四批_SE\\Z刘家瑞20220225.fif) does not conform to MNE naming conventions. All raw files should end with raw.fif, raw_sss.fif, raw_tsss.fif, _meg.fif, _eeg.fif, _ieeg.fif, raw.fif.gz, raw_sss.fif.gz, raw_tsss.fif.gz, _meg.fif.gz, _eeg.fif.gz or _ieeg.fif.gz\n",
      "  raw = mne.io.read_raw_fif(i)\n"
     ]
    },
    {
     "name": "stdout",
     "output_type": "stream",
     "text": [
      "Opening raw data file ../第四批病人数据/第四批_SE\\Z刘家瑞20220228.fif...\n",
      "Isotrak not found\n",
      "    Range : 112416 ... 128800 =    109.781 ...   125.781 secs\n",
      "Ready.\n"
     ]
    },
    {
     "name": "stderr",
     "output_type": "stream",
     "text": [
      "<ipython-input-7-b044a54e14bd>:3: RuntimeWarning: This filename (../第四批病人数据/第四批_SE\\Z刘家瑞20220228.fif) does not conform to MNE naming conventions. All raw files should end with raw.fif, raw_sss.fif, raw_tsss.fif, _meg.fif, _eeg.fif, _ieeg.fif, raw.fif.gz, raw_sss.fif.gz, raw_tsss.fif.gz, _meg.fif.gz, _eeg.fif.gz or _ieeg.fif.gz\n",
      "  raw = mne.io.read_raw_fif(i)\n"
     ]
    },
    {
     "name": "stdout",
     "output_type": "stream",
     "text": [
      "Opening raw data file ../第四批病人数据/第四批_SE\\Z刘家瑞20220302.fif...\n",
      "Isotrak not found\n",
      "    Range : 46358 ... 62742 =     45.271 ...    61.271 secs\n",
      "Ready.\n"
     ]
    },
    {
     "name": "stderr",
     "output_type": "stream",
     "text": [
      "<ipython-input-7-b044a54e14bd>:3: RuntimeWarning: This filename (../第四批病人数据/第四批_SE\\Z刘家瑞20220302.fif) does not conform to MNE naming conventions. All raw files should end with raw.fif, raw_sss.fif, raw_tsss.fif, _meg.fif, _eeg.fif, _ieeg.fif, raw.fif.gz, raw_sss.fif.gz, raw_tsss.fif.gz, _meg.fif.gz, _eeg.fif.gz or _ieeg.fif.gz\n",
      "  raw = mne.io.read_raw_fif(i)\n"
     ]
    },
    {
     "name": "stdout",
     "output_type": "stream",
     "text": [
      "Opening raw data file ../第四批病人数据/第四批_SE\\Z周小凯202203014.fif...\n",
      "Isotrak not found\n",
      "    Range : 147821 ... 164205 =    144.356 ...   160.356 secs\n",
      "Ready.\n"
     ]
    },
    {
     "name": "stderr",
     "output_type": "stream",
     "text": [
      "<ipython-input-7-b044a54e14bd>:3: RuntimeWarning: This filename (../第四批病人数据/第四批_SE\\Z周小凯202203014.fif) does not conform to MNE naming conventions. All raw files should end with raw.fif, raw_sss.fif, raw_tsss.fif, _meg.fif, _eeg.fif, _ieeg.fif, raw.fif.gz, raw_sss.fif.gz, raw_tsss.fif.gz, _meg.fif.gz, _eeg.fif.gz or _ieeg.fif.gz\n",
      "  raw = mne.io.read_raw_fif(i)\n"
     ]
    },
    {
     "name": "stdout",
     "output_type": "stream",
     "text": [
      "Opening raw data file ../第四批病人数据/第四批_SE\\Z周小凯202203016.fif...\n",
      "Isotrak not found\n",
      "    Range : 101451 ... 117835 =     99.073 ...   115.073 secs\n",
      "Ready.\n"
     ]
    },
    {
     "name": "stderr",
     "output_type": "stream",
     "text": [
      "<ipython-input-7-b044a54e14bd>:3: RuntimeWarning: This filename (../第四批病人数据/第四批_SE\\Z周小凯202203016.fif) does not conform to MNE naming conventions. All raw files should end with raw.fif, raw_sss.fif, raw_tsss.fif, _meg.fif, _eeg.fif, _ieeg.fif, raw.fif.gz, raw_sss.fif.gz, raw_tsss.fif.gz, _meg.fif.gz, _eeg.fif.gz or _ieeg.fif.gz\n",
      "  raw = mne.io.read_raw_fif(i)\n"
     ]
    },
    {
     "name": "stdout",
     "output_type": "stream",
     "text": [
      "Opening raw data file ../第四批病人数据/第四批_SE\\Z周小凯202203018.fif...\n",
      "Isotrak not found\n",
      "    Range : 995 ... 17379 =      0.972 ...    16.972 secs\n",
      "Ready.\n"
     ]
    },
    {
     "name": "stderr",
     "output_type": "stream",
     "text": [
      "<ipython-input-7-b044a54e14bd>:3: RuntimeWarning: This filename (../第四批病人数据/第四批_SE\\Z周小凯202203018.fif) does not conform to MNE naming conventions. All raw files should end with raw.fif, raw_sss.fif, raw_tsss.fif, _meg.fif, _eeg.fif, _ieeg.fif, raw.fif.gz, raw_sss.fif.gz, raw_tsss.fif.gz, _meg.fif.gz, _eeg.fif.gz or _ieeg.fif.gz\n",
      "  raw = mne.io.read_raw_fif(i)\n"
     ]
    },
    {
     "name": "stdout",
     "output_type": "stream",
     "text": [
      "Opening raw data file ../第四批病人数据/第四批_SE\\Z周小凯202203021.fif...\n",
      "Isotrak not found\n",
      "    Range : 61765 ... 78149 =     60.317 ...    76.317 secs\n",
      "Ready.\n"
     ]
    },
    {
     "name": "stderr",
     "output_type": "stream",
     "text": [
      "<ipython-input-7-b044a54e14bd>:3: RuntimeWarning: This filename (../第四批病人数据/第四批_SE\\Z周小凯202203021.fif) does not conform to MNE naming conventions. All raw files should end with raw.fif, raw_sss.fif, raw_tsss.fif, _meg.fif, _eeg.fif, _ieeg.fif, raw.fif.gz, raw_sss.fif.gz, raw_tsss.fif.gz, _meg.fif.gz, _eeg.fif.gz or _ieeg.fif.gz\n",
      "  raw = mne.io.read_raw_fif(i)\n"
     ]
    },
    {
     "name": "stdout",
     "output_type": "stream",
     "text": [
      "Opening raw data file ../第四批病人数据/第四批_SE\\Z孙彭辉20220225.fif...\n",
      "Isotrak not found\n",
      "    Range : 39640 ... 56024 =     38.711 ...    54.711 secs\n",
      "Ready.\n"
     ]
    },
    {
     "name": "stderr",
     "output_type": "stream",
     "text": [
      "<ipython-input-7-b044a54e14bd>:3: RuntimeWarning: This filename (../第四批病人数据/第四批_SE\\Z孙彭辉20220225.fif) does not conform to MNE naming conventions. All raw files should end with raw.fif, raw_sss.fif, raw_tsss.fif, _meg.fif, _eeg.fif, _ieeg.fif, raw.fif.gz, raw_sss.fif.gz, raw_tsss.fif.gz, _meg.fif.gz, _eeg.fif.gz or _ieeg.fif.gz\n",
      "  raw = mne.io.read_raw_fif(i)\n"
     ]
    },
    {
     "name": "stdout",
     "output_type": "stream",
     "text": [
      "Opening raw data file ../第四批病人数据/第四批_SE\\Z孙彭辉20220228.fif...\n",
      "Isotrak not found\n",
      "    Range : 106204 ... 122588 =    103.715 ...   119.715 secs\n",
      "Ready.\n"
     ]
    },
    {
     "name": "stderr",
     "output_type": "stream",
     "text": [
      "<ipython-input-7-b044a54e14bd>:3: RuntimeWarning: This filename (../第四批病人数据/第四批_SE\\Z孙彭辉20220228.fif) does not conform to MNE naming conventions. All raw files should end with raw.fif, raw_sss.fif, raw_tsss.fif, _meg.fif, _eeg.fif, _ieeg.fif, raw.fif.gz, raw_sss.fif.gz, raw_tsss.fif.gz, _meg.fif.gz, _eeg.fif.gz or _ieeg.fif.gz\n",
      "  raw = mne.io.read_raw_fif(i)\n"
     ]
    },
    {
     "name": "stdout",
     "output_type": "stream",
     "text": [
      "Opening raw data file ../第四批病人数据/第四批_SE\\Z孙彭辉20220302.fif...\n",
      "Isotrak not found\n",
      "    Range : 54366 ... 70750 =     53.092 ...    69.092 secs\n",
      "Ready.\n"
     ]
    },
    {
     "name": "stderr",
     "output_type": "stream",
     "text": [
      "<ipython-input-7-b044a54e14bd>:3: RuntimeWarning: This filename (../第四批病人数据/第四批_SE\\Z孙彭辉20220302.fif) does not conform to MNE naming conventions. All raw files should end with raw.fif, raw_sss.fif, raw_tsss.fif, _meg.fif, _eeg.fif, _ieeg.fif, raw.fif.gz, raw_sss.fif.gz, raw_tsss.fif.gz, _meg.fif.gz, _eeg.fif.gz or _ieeg.fif.gz\n",
      "  raw = mne.io.read_raw_fif(i)\n"
     ]
    },
    {
     "name": "stdout",
     "output_type": "stream",
     "text": [
      "Opening raw data file ../第四批病人数据/第四批_SE\\Z孙彭辉20220304.fif...\n",
      "Isotrak not found\n",
      "    Range : 12352 ... 28736 =     12.062 ...    28.062 secs\n",
      "Ready.\n"
     ]
    },
    {
     "name": "stderr",
     "output_type": "stream",
     "text": [
      "<ipython-input-7-b044a54e14bd>:3: RuntimeWarning: This filename (../第四批病人数据/第四批_SE\\Z孙彭辉20220304.fif) does not conform to MNE naming conventions. All raw files should end with raw.fif, raw_sss.fif, raw_tsss.fif, _meg.fif, _eeg.fif, _ieeg.fif, raw.fif.gz, raw_sss.fif.gz, raw_tsss.fif.gz, _meg.fif.gz, _eeg.fif.gz or _ieeg.fif.gz\n",
      "  raw = mne.io.read_raw_fif(i)\n"
     ]
    },
    {
     "name": "stdout",
     "output_type": "stream",
     "text": [
      "Opening raw data file ../第四批病人数据/第四批_SE\\Z宋志辉202203018.fif...\n",
      "Isotrak not found\n",
      "    Range : 1938945 ... 1955329 =   1893.501 ...  1909.501 secs\n",
      "Ready.\n"
     ]
    },
    {
     "name": "stderr",
     "output_type": "stream",
     "text": [
      "<ipython-input-7-b044a54e14bd>:3: RuntimeWarning: This filename (../第四批病人数据/第四批_SE\\Z宋志辉202203018.fif) does not conform to MNE naming conventions. All raw files should end with raw.fif, raw_sss.fif, raw_tsss.fif, _meg.fif, _eeg.fif, _ieeg.fif, raw.fif.gz, raw_sss.fif.gz, raw_tsss.fif.gz, _meg.fif.gz, _eeg.fif.gz or _ieeg.fif.gz\n",
      "  raw = mne.io.read_raw_fif(i)\n"
     ]
    },
    {
     "name": "stdout",
     "output_type": "stream",
     "text": [
      "Opening raw data file ../第四批病人数据/第四批_SE\\Z宋志辉202203021.fif...\n",
      "Isotrak not found\n",
      "    Range : 45152 ... 61536 =     44.094 ...    60.094 secs\n",
      "Ready.\n"
     ]
    },
    {
     "name": "stderr",
     "output_type": "stream",
     "text": [
      "<ipython-input-7-b044a54e14bd>:3: RuntimeWarning: This filename (../第四批病人数据/第四批_SE\\Z宋志辉202203021.fif) does not conform to MNE naming conventions. All raw files should end with raw.fif, raw_sss.fif, raw_tsss.fif, _meg.fif, _eeg.fif, _ieeg.fif, raw.fif.gz, raw_sss.fif.gz, raw_tsss.fif.gz, _meg.fif.gz, _eeg.fif.gz or _ieeg.fif.gz\n",
      "  raw = mne.io.read_raw_fif(i)\n"
     ]
    },
    {
     "name": "stdout",
     "output_type": "stream",
     "text": [
      "Opening raw data file ../第四批病人数据/第四批_SE\\Z宋志辉202203023.fif...\n",
      "Isotrak not found\n",
      "    Range : 114314 ... 130698 =    111.635 ...   127.635 secs\n",
      "Ready.\n"
     ]
    },
    {
     "name": "stderr",
     "output_type": "stream",
     "text": [
      "<ipython-input-7-b044a54e14bd>:3: RuntimeWarning: This filename (../第四批病人数据/第四批_SE\\Z宋志辉202203023.fif) does not conform to MNE naming conventions. All raw files should end with raw.fif, raw_sss.fif, raw_tsss.fif, _meg.fif, _eeg.fif, _ieeg.fif, raw.fif.gz, raw_sss.fif.gz, raw_tsss.fif.gz, _meg.fif.gz, _eeg.fif.gz or _ieeg.fif.gz\n",
      "  raw = mne.io.read_raw_fif(i)\n"
     ]
    },
    {
     "name": "stdout",
     "output_type": "stream",
     "text": [
      "Opening raw data file ../第四批病人数据/第四批_SE\\Z宋志辉202203025.fif...\n",
      "Isotrak not found\n",
      "    Range : 30885 ... 47269 =     30.161 ...    46.161 secs\n",
      "Ready.\n"
     ]
    },
    {
     "name": "stderr",
     "output_type": "stream",
     "text": [
      "<ipython-input-7-b044a54e14bd>:3: RuntimeWarning: This filename (../第四批病人数据/第四批_SE\\Z宋志辉202203025.fif) does not conform to MNE naming conventions. All raw files should end with raw.fif, raw_sss.fif, raw_tsss.fif, _meg.fif, _eeg.fif, _ieeg.fif, raw.fif.gz, raw_sss.fif.gz, raw_tsss.fif.gz, _meg.fif.gz, _eeg.fif.gz or _ieeg.fif.gz\n",
      "  raw = mne.io.read_raw_fif(i)\n"
     ]
    },
    {
     "name": "stdout",
     "output_type": "stream",
     "text": [
      "Opening raw data file ../第四批病人数据/第四批_SE\\Z张璐20220225.fif...\n",
      "Isotrak not found\n",
      "    Range : 25166 ... 41550 =     24.576 ...    40.576 secs\n",
      "Ready.\n"
     ]
    },
    {
     "name": "stderr",
     "output_type": "stream",
     "text": [
      "<ipython-input-7-b044a54e14bd>:3: RuntimeWarning: This filename (../第四批病人数据/第四批_SE\\Z张璐20220225.fif) does not conform to MNE naming conventions. All raw files should end with raw.fif, raw_sss.fif, raw_tsss.fif, _meg.fif, _eeg.fif, _ieeg.fif, raw.fif.gz, raw_sss.fif.gz, raw_tsss.fif.gz, _meg.fif.gz, _eeg.fif.gz or _ieeg.fif.gz\n",
      "  raw = mne.io.read_raw_fif(i)\n"
     ]
    },
    {
     "name": "stdout",
     "output_type": "stream",
     "text": [
      "Opening raw data file ../第四批病人数据/第四批_SE\\Z张璐20220228.fif...\n",
      "Isotrak not found\n",
      "    Range : 189771 ... 206155 =    185.323 ...   201.323 secs\n",
      "Ready.\n"
     ]
    },
    {
     "name": "stderr",
     "output_type": "stream",
     "text": [
      "<ipython-input-7-b044a54e14bd>:3: RuntimeWarning: This filename (../第四批病人数据/第四批_SE\\Z张璐20220228.fif) does not conform to MNE naming conventions. All raw files should end with raw.fif, raw_sss.fif, raw_tsss.fif, _meg.fif, _eeg.fif, _ieeg.fif, raw.fif.gz, raw_sss.fif.gz, raw_tsss.fif.gz, _meg.fif.gz, _eeg.fif.gz or _ieeg.fif.gz\n",
      "  raw = mne.io.read_raw_fif(i)\n"
     ]
    },
    {
     "name": "stdout",
     "output_type": "stream",
     "text": [
      "Opening raw data file ../第四批病人数据/第四批_SE\\Z张璐20220302.fif...\n",
      "Isotrak not found\n",
      "    Range : 22362 ... 38746 =     21.838 ...    37.838 secs\n",
      "Ready.\n"
     ]
    },
    {
     "name": "stderr",
     "output_type": "stream",
     "text": [
      "<ipython-input-7-b044a54e14bd>:3: RuntimeWarning: This filename (../第四批病人数据/第四批_SE\\Z张璐20220302.fif) does not conform to MNE naming conventions. All raw files should end with raw.fif, raw_sss.fif, raw_tsss.fif, _meg.fif, _eeg.fif, _ieeg.fif, raw.fif.gz, raw_sss.fif.gz, raw_tsss.fif.gz, _meg.fif.gz, _eeg.fif.gz or _ieeg.fif.gz\n",
      "  raw = mne.io.read_raw_fif(i)\n"
     ]
    },
    {
     "name": "stdout",
     "output_type": "stream",
     "text": [
      "Opening raw data file ../第四批病人数据/第四批_SE\\Z徐珍英20220218（未发作）.fif...\n",
      "Isotrak not found\n",
      "    Range : 222292 ... 238676 =    217.082 ...   233.082 secs\n",
      "Ready.\n"
     ]
    },
    {
     "name": "stderr",
     "output_type": "stream",
     "text": [
      "<ipython-input-7-b044a54e14bd>:3: RuntimeWarning: This filename (../第四批病人数据/第四批_SE\\Z徐珍英20220218（未发作）.fif) does not conform to MNE naming conventions. All raw files should end with raw.fif, raw_sss.fif, raw_tsss.fif, _meg.fif, _eeg.fif, _ieeg.fif, raw.fif.gz, raw_sss.fif.gz, raw_tsss.fif.gz, _meg.fif.gz, _eeg.fif.gz or _ieeg.fif.gz\n",
      "  raw = mne.io.read_raw_fif(i)\n"
     ]
    },
    {
     "name": "stdout",
     "output_type": "stream",
     "text": [
      "Opening raw data file ../第四批病人数据/第四批_SE\\Z徐珍英20220221（未发作）.fif...\n",
      "Isotrak not found\n",
      "    Range : 63336 ... 79720 =     61.852 ...    77.852 secs\n",
      "Ready.\n"
     ]
    },
    {
     "name": "stderr",
     "output_type": "stream",
     "text": [
      "<ipython-input-7-b044a54e14bd>:3: RuntimeWarning: This filename (../第四批病人数据/第四批_SE\\Z徐珍英20220221（未发作）.fif) does not conform to MNE naming conventions. All raw files should end with raw.fif, raw_sss.fif, raw_tsss.fif, _meg.fif, _eeg.fif, _ieeg.fif, raw.fif.gz, raw_sss.fif.gz, raw_tsss.fif.gz, _meg.fif.gz, _eeg.fif.gz or _ieeg.fif.gz\n",
      "  raw = mne.io.read_raw_fif(i)\n"
     ]
    },
    {
     "name": "stdout",
     "output_type": "stream",
     "text": [
      "Opening raw data file ../第四批病人数据/第四批_SE\\Z徐珍英20220223.fif...\n",
      "Isotrak not found\n",
      "    Range : 181813 ... 198197 =    177.552 ...   193.552 secs\n",
      "Ready.\n"
     ]
    },
    {
     "name": "stderr",
     "output_type": "stream",
     "text": [
      "<ipython-input-7-b044a54e14bd>:3: RuntimeWarning: This filename (../第四批病人数据/第四批_SE\\Z徐珍英20220223.fif) does not conform to MNE naming conventions. All raw files should end with raw.fif, raw_sss.fif, raw_tsss.fif, _meg.fif, _eeg.fif, _ieeg.fif, raw.fif.gz, raw_sss.fif.gz, raw_tsss.fif.gz, _meg.fif.gz, _eeg.fif.gz or _ieeg.fif.gz\n",
      "  raw = mne.io.read_raw_fif(i)\n"
     ]
    },
    {
     "name": "stdout",
     "output_type": "stream",
     "text": [
      "Opening raw data file ../第四批病人数据/第四批_SE\\Z徐珍英20220225.fif...\n",
      "Isotrak not found\n",
      "    Range : 23786 ... 40170 =     23.229 ...    39.229 secs\n",
      "Ready.\n"
     ]
    },
    {
     "name": "stderr",
     "output_type": "stream",
     "text": [
      "<ipython-input-7-b044a54e14bd>:3: RuntimeWarning: This filename (../第四批病人数据/第四批_SE\\Z徐珍英20220225.fif) does not conform to MNE naming conventions. All raw files should end with raw.fif, raw_sss.fif, raw_tsss.fif, _meg.fif, _eeg.fif, _ieeg.fif, raw.fif.gz, raw_sss.fif.gz, raw_tsss.fif.gz, _meg.fif.gz, _eeg.fif.gz or _ieeg.fif.gz\n",
      "  raw = mne.io.read_raw_fif(i)\n"
     ]
    },
    {
     "name": "stdout",
     "output_type": "stream",
     "text": [
      "Opening raw data file ../第四批病人数据/第四批_SE\\Z曾刚20220216.fif...\n",
      "Isotrak not found\n",
      "    Range : 38680 ... 55064 =     37.773 ...    53.773 secs\n",
      "Ready.\n"
     ]
    },
    {
     "name": "stderr",
     "output_type": "stream",
     "text": [
      "<ipython-input-7-b044a54e14bd>:3: RuntimeWarning: This filename (../第四批病人数据/第四批_SE\\Z曾刚20220216.fif) does not conform to MNE naming conventions. All raw files should end with raw.fif, raw_sss.fif, raw_tsss.fif, _meg.fif, _eeg.fif, _ieeg.fif, raw.fif.gz, raw_sss.fif.gz, raw_tsss.fif.gz, _meg.fif.gz, _eeg.fif.gz or _ieeg.fif.gz\n",
      "  raw = mne.io.read_raw_fif(i)\n"
     ]
    },
    {
     "name": "stdout",
     "output_type": "stream",
     "text": [
      "Opening raw data file ../第四批病人数据/第四批_SE\\Z曾刚20220218（未发作）.fif...\n",
      "Isotrak not found\n",
      "    Range : 219924 ... 236308 =    214.770 ...   230.770 secs\n",
      "Ready.\n"
     ]
    },
    {
     "name": "stderr",
     "output_type": "stream",
     "text": [
      "<ipython-input-7-b044a54e14bd>:3: RuntimeWarning: This filename (../第四批病人数据/第四批_SE\\Z曾刚20220218（未发作）.fif) does not conform to MNE naming conventions. All raw files should end with raw.fif, raw_sss.fif, raw_tsss.fif, _meg.fif, _eeg.fif, _ieeg.fif, raw.fif.gz, raw_sss.fif.gz, raw_tsss.fif.gz, _meg.fif.gz, _eeg.fif.gz or _ieeg.fif.gz\n",
      "  raw = mne.io.read_raw_fif(i)\n"
     ]
    },
    {
     "name": "stdout",
     "output_type": "stream",
     "text": [
      "Opening raw data file ../第四批病人数据/第四批_SE\\Z曾刚20220221.fif...\n",
      "Isotrak not found\n",
      "    Range : 17807 ... 34191 =     17.390 ...    33.390 secs\n",
      "Ready.\n"
     ]
    },
    {
     "name": "stderr",
     "output_type": "stream",
     "text": [
      "<ipython-input-7-b044a54e14bd>:3: RuntimeWarning: This filename (../第四批病人数据/第四批_SE\\Z曾刚20220221.fif) does not conform to MNE naming conventions. All raw files should end with raw.fif, raw_sss.fif, raw_tsss.fif, _meg.fif, _eeg.fif, _ieeg.fif, raw.fif.gz, raw_sss.fif.gz, raw_tsss.fif.gz, _meg.fif.gz, _eeg.fif.gz or _ieeg.fif.gz\n",
      "  raw = mne.io.read_raw_fif(i)\n"
     ]
    },
    {
     "name": "stdout",
     "output_type": "stream",
     "text": [
      "Opening raw data file ../第四批病人数据/第四批_SE\\Z曾刚20220223.fif...\n",
      "Isotrak not found\n",
      "    Range : 70270 ... 86654 =     68.623 ...    84.623 secs\n",
      "Ready.\n"
     ]
    },
    {
     "name": "stderr",
     "output_type": "stream",
     "text": [
      "<ipython-input-7-b044a54e14bd>:3: RuntimeWarning: This filename (../第四批病人数据/第四批_SE\\Z曾刚20220223.fif) does not conform to MNE naming conventions. All raw files should end with raw.fif, raw_sss.fif, raw_tsss.fif, _meg.fif, _eeg.fif, _ieeg.fif, raw.fif.gz, raw_sss.fif.gz, raw_tsss.fif.gz, _meg.fif.gz, _eeg.fif.gz or _ieeg.fif.gz\n",
      "  raw = mne.io.read_raw_fif(i)\n"
     ]
    },
    {
     "name": "stdout",
     "output_type": "stream",
     "text": [
      "Opening raw data file ../第四批病人数据/第四批_SE\\Z李玉萍20220216.fif...\n",
      "Isotrak not found\n",
      "    Range : 50628 ... 67012 =     49.441 ...    65.441 secs\n",
      "Ready.\n"
     ]
    },
    {
     "name": "stderr",
     "output_type": "stream",
     "text": [
      "<ipython-input-7-b044a54e14bd>:3: RuntimeWarning: This filename (../第四批病人数据/第四批_SE\\Z李玉萍20220216.fif) does not conform to MNE naming conventions. All raw files should end with raw.fif, raw_sss.fif, raw_tsss.fif, _meg.fif, _eeg.fif, _ieeg.fif, raw.fif.gz, raw_sss.fif.gz, raw_tsss.fif.gz, _meg.fif.gz, _eeg.fif.gz or _ieeg.fif.gz\n",
      "  raw = mne.io.read_raw_fif(i)\n"
     ]
    },
    {
     "name": "stdout",
     "output_type": "stream",
     "text": [
      "Opening raw data file ../第四批病人数据/第四批_SE\\Z李玉萍20220218.fif...\n",
      "Isotrak not found\n",
      "    Range : 55675 ... 72059 =     54.370 ...    70.370 secs\n",
      "Ready.\n"
     ]
    },
    {
     "name": "stderr",
     "output_type": "stream",
     "text": [
      "<ipython-input-7-b044a54e14bd>:3: RuntimeWarning: This filename (../第四批病人数据/第四批_SE\\Z李玉萍20220218.fif) does not conform to MNE naming conventions. All raw files should end with raw.fif, raw_sss.fif, raw_tsss.fif, _meg.fif, _eeg.fif, _ieeg.fif, raw.fif.gz, raw_sss.fif.gz, raw_tsss.fif.gz, _meg.fif.gz, _eeg.fif.gz or _ieeg.fif.gz\n",
      "  raw = mne.io.read_raw_fif(i)\n"
     ]
    },
    {
     "name": "stdout",
     "output_type": "stream",
     "text": [
      "Opening raw data file ../第四批病人数据/第四批_SE\\Z李玉萍20220221（未发作）.fif...\n",
      "Isotrak not found\n",
      "    Range : 37414 ... 53798 =     36.537 ...    52.537 secs\n",
      "Ready.\n"
     ]
    },
    {
     "name": "stderr",
     "output_type": "stream",
     "text": [
      "<ipython-input-7-b044a54e14bd>:3: RuntimeWarning: This filename (../第四批病人数据/第四批_SE\\Z李玉萍20220221（未发作）.fif) does not conform to MNE naming conventions. All raw files should end with raw.fif, raw_sss.fif, raw_tsss.fif, _meg.fif, _eeg.fif, _ieeg.fif, raw.fif.gz, raw_sss.fif.gz, raw_tsss.fif.gz, _meg.fif.gz, _eeg.fif.gz or _ieeg.fif.gz\n",
      "  raw = mne.io.read_raw_fif(i)\n"
     ]
    },
    {
     "name": "stdout",
     "output_type": "stream",
     "text": [
      "Opening raw data file ../第四批病人数据/第四批_SE\\Z李玉萍20220223.fif...\n",
      "Isotrak not found\n",
      "    Range : 58082 ... 74466 =     56.721 ...    72.721 secs\n",
      "Ready.\n"
     ]
    },
    {
     "name": "stderr",
     "output_type": "stream",
     "text": [
      "<ipython-input-7-b044a54e14bd>:3: RuntimeWarning: This filename (../第四批病人数据/第四批_SE\\Z李玉萍20220223.fif) does not conform to MNE naming conventions. All raw files should end with raw.fif, raw_sss.fif, raw_tsss.fif, _meg.fif, _eeg.fif, _ieeg.fif, raw.fif.gz, raw_sss.fif.gz, raw_tsss.fif.gz, _meg.fif.gz, _eeg.fif.gz or _ieeg.fif.gz\n",
      "  raw = mne.io.read_raw_fif(i)\n"
     ]
    },
    {
     "name": "stdout",
     "output_type": "stream",
     "text": [
      "Opening raw data file ../第四批病人数据/第四批_SE\\Z杜娇20220316.fif...\n",
      "Isotrak not found\n",
      "    Range : 400805 ... 417189 =    391.411 ...   407.411 secs\n",
      "Ready.\n"
     ]
    },
    {
     "name": "stderr",
     "output_type": "stream",
     "text": [
      "<ipython-input-7-b044a54e14bd>:3: RuntimeWarning: This filename (../第四批病人数据/第四批_SE\\Z杜娇20220316.fif) does not conform to MNE naming conventions. All raw files should end with raw.fif, raw_sss.fif, raw_tsss.fif, _meg.fif, _eeg.fif, _ieeg.fif, raw.fif.gz, raw_sss.fif.gz, raw_tsss.fif.gz, _meg.fif.gz, _eeg.fif.gz or _ieeg.fif.gz\n",
      "  raw = mne.io.read_raw_fif(i)\n"
     ]
    },
    {
     "name": "stdout",
     "output_type": "stream",
     "text": [
      "Opening raw data file ../第四批病人数据/第四批_SE\\Z杜娇20220318.fif...\n",
      "Isotrak not found\n",
      "    Range : 267966 ... 284350 =    261.686 ...   277.686 secs\n",
      "Ready.\n"
     ]
    },
    {
     "name": "stderr",
     "output_type": "stream",
     "text": [
      "<ipython-input-7-b044a54e14bd>:3: RuntimeWarning: This filename (../第四批病人数据/第四批_SE\\Z杜娇20220318.fif) does not conform to MNE naming conventions. All raw files should end with raw.fif, raw_sss.fif, raw_tsss.fif, _meg.fif, _eeg.fif, _ieeg.fif, raw.fif.gz, raw_sss.fif.gz, raw_tsss.fif.gz, _meg.fif.gz, _eeg.fif.gz or _ieeg.fif.gz\n",
      "  raw = mne.io.read_raw_fif(i)\n"
     ]
    },
    {
     "name": "stdout",
     "output_type": "stream",
     "text": [
      "Opening raw data file ../第四批病人数据/第四批_SE\\Z杜娇20220321.fif...\n",
      "Isotrak not found\n",
      "    Range : 49993 ... 66377 =     48.821 ...    64.821 secs\n",
      "Ready.\n"
     ]
    },
    {
     "name": "stderr",
     "output_type": "stream",
     "text": [
      "<ipython-input-7-b044a54e14bd>:3: RuntimeWarning: This filename (../第四批病人数据/第四批_SE\\Z杜娇20220321.fif) does not conform to MNE naming conventions. All raw files should end with raw.fif, raw_sss.fif, raw_tsss.fif, _meg.fif, _eeg.fif, _ieeg.fif, raw.fif.gz, raw_sss.fif.gz, raw_tsss.fif.gz, _meg.fif.gz, _eeg.fif.gz or _ieeg.fif.gz\n",
      "  raw = mne.io.read_raw_fif(i)\n"
     ]
    },
    {
     "name": "stdout",
     "output_type": "stream",
     "text": [
      "Opening raw data file ../第四批病人数据/第四批_SE\\Z杜娇20220325（未发作）.fif...\n",
      "Isotrak not found\n",
      "    Range : 92841 ... 109225 =     90.665 ...   106.665 secs\n",
      "Ready.\n"
     ]
    },
    {
     "name": "stderr",
     "output_type": "stream",
     "text": [
      "<ipython-input-7-b044a54e14bd>:3: RuntimeWarning: This filename (../第四批病人数据/第四批_SE\\Z杜娇20220325（未发作）.fif) does not conform to MNE naming conventions. All raw files should end with raw.fif, raw_sss.fif, raw_tsss.fif, _meg.fif, _eeg.fif, _ieeg.fif, raw.fif.gz, raw_sss.fif.gz, raw_tsss.fif.gz, _meg.fif.gz, _eeg.fif.gz or _ieeg.fif.gz\n",
      "  raw = mne.io.read_raw_fif(i)\n"
     ]
    },
    {
     "name": "stdout",
     "output_type": "stream",
     "text": [
      "Opening raw data file ../第四批病人数据/第四批_SE\\Z林儒波202203023.fif...\n",
      "Isotrak not found\n",
      "    Range : 467832 ... 484216 =    456.867 ...   472.867 secs\n",
      "Ready.\n"
     ]
    },
    {
     "name": "stderr",
     "output_type": "stream",
     "text": [
      "<ipython-input-7-b044a54e14bd>:3: RuntimeWarning: This filename (../第四批病人数据/第四批_SE\\Z林儒波202203023.fif) does not conform to MNE naming conventions. All raw files should end with raw.fif, raw_sss.fif, raw_tsss.fif, _meg.fif, _eeg.fif, _ieeg.fif, raw.fif.gz, raw_sss.fif.gz, raw_tsss.fif.gz, _meg.fif.gz, _eeg.fif.gz or _ieeg.fif.gz\n",
      "  raw = mne.io.read_raw_fif(i)\n"
     ]
    },
    {
     "name": "stdout",
     "output_type": "stream",
     "text": [
      "Opening raw data file ../第四批病人数据/第四批_SE\\Z林儒波202203025.fif...\n",
      "Isotrak not found\n",
      "    Range : 27199 ... 43583 =     26.562 ...    42.562 secs\n",
      "Ready.\n"
     ]
    },
    {
     "name": "stderr",
     "output_type": "stream",
     "text": [
      "<ipython-input-7-b044a54e14bd>:3: RuntimeWarning: This filename (../第四批病人数据/第四批_SE\\Z林儒波202203025.fif) does not conform to MNE naming conventions. All raw files should end with raw.fif, raw_sss.fif, raw_tsss.fif, _meg.fif, _eeg.fif, _ieeg.fif, raw.fif.gz, raw_sss.fif.gz, raw_tsss.fif.gz, _meg.fif.gz, _eeg.fif.gz or _ieeg.fif.gz\n",
      "  raw = mne.io.read_raw_fif(i)\n"
     ]
    },
    {
     "name": "stdout",
     "output_type": "stream",
     "text": [
      "Opening raw data file ../第四批病人数据/第四批_SE\\Z林儒波202203028（未发作）.fif...\n",
      "Isotrak not found\n",
      "    Range : 4054 ... 20438 =      3.959 ...    19.959 secs\n",
      "Ready.\n"
     ]
    },
    {
     "name": "stderr",
     "output_type": "stream",
     "text": [
      "<ipython-input-7-b044a54e14bd>:3: RuntimeWarning: This filename (../第四批病人数据/第四批_SE\\Z林儒波202203028（未发作）.fif) does not conform to MNE naming conventions. All raw files should end with raw.fif, raw_sss.fif, raw_tsss.fif, _meg.fif, _eeg.fif, _ieeg.fif, raw.fif.gz, raw_sss.fif.gz, raw_tsss.fif.gz, _meg.fif.gz, _eeg.fif.gz or _ieeg.fif.gz\n",
      "  raw = mne.io.read_raw_fif(i)\n"
     ]
    },
    {
     "name": "stdout",
     "output_type": "stream",
     "text": [
      "Opening raw data file ../第四批病人数据/第四批_SE\\Z林儒波202203030.fif...\n",
      "Isotrak not found\n",
      "    Range : 281289 ... 297673 =    274.696 ...   290.696 secs\n",
      "Ready.\n"
     ]
    },
    {
     "name": "stderr",
     "output_type": "stream",
     "text": [
      "<ipython-input-7-b044a54e14bd>:3: RuntimeWarning: This filename (../第四批病人数据/第四批_SE\\Z林儒波202203030.fif) does not conform to MNE naming conventions. All raw files should end with raw.fif, raw_sss.fif, raw_tsss.fif, _meg.fif, _eeg.fif, _ieeg.fif, raw.fif.gz, raw_sss.fif.gz, raw_tsss.fif.gz, _meg.fif.gz, _eeg.fif.gz or _ieeg.fif.gz\n",
      "  raw = mne.io.read_raw_fif(i)\n"
     ]
    },
    {
     "name": "stdout",
     "output_type": "stream",
     "text": [
      "Opening raw data file ../第四批病人数据/第四批_SE\\Z林攀攀20220223（未发作）.fif...\n",
      "Isotrak not found\n",
      "    Range : 83008 ... 99392 =     81.062 ...    97.062 secs\n",
      "Ready.\n"
     ]
    },
    {
     "name": "stderr",
     "output_type": "stream",
     "text": [
      "<ipython-input-7-b044a54e14bd>:3: RuntimeWarning: This filename (../第四批病人数据/第四批_SE\\Z林攀攀20220223（未发作）.fif) does not conform to MNE naming conventions. All raw files should end with raw.fif, raw_sss.fif, raw_tsss.fif, _meg.fif, _eeg.fif, _ieeg.fif, raw.fif.gz, raw_sss.fif.gz, raw_tsss.fif.gz, _meg.fif.gz, _eeg.fif.gz or _ieeg.fif.gz\n",
      "  raw = mne.io.read_raw_fif(i)\n"
     ]
    },
    {
     "name": "stdout",
     "output_type": "stream",
     "text": [
      "Opening raw data file ../第四批病人数据/第四批_SE\\Z林攀攀20220225（未发作）.fif...\n",
      "Isotrak not found\n",
      "    Range : 13771 ... 30155 =     13.448 ...    29.448 secs\n",
      "Ready.\n"
     ]
    },
    {
     "name": "stderr",
     "output_type": "stream",
     "text": [
      "<ipython-input-7-b044a54e14bd>:3: RuntimeWarning: This filename (../第四批病人数据/第四批_SE\\Z林攀攀20220225（未发作）.fif) does not conform to MNE naming conventions. All raw files should end with raw.fif, raw_sss.fif, raw_tsss.fif, _meg.fif, _eeg.fif, _ieeg.fif, raw.fif.gz, raw_sss.fif.gz, raw_tsss.fif.gz, _meg.fif.gz, _eeg.fif.gz or _ieeg.fif.gz\n",
      "  raw = mne.io.read_raw_fif(i)\n"
     ]
    },
    {
     "name": "stdout",
     "output_type": "stream",
     "text": [
      "Opening raw data file ../第四批病人数据/第四批_SE\\Z林攀攀20220228.fif...\n",
      "Isotrak not found\n",
      "    Range : 38073 ... 54457 =     37.181 ...    53.181 secs\n",
      "Ready.\n"
     ]
    },
    {
     "name": "stderr",
     "output_type": "stream",
     "text": [
      "<ipython-input-7-b044a54e14bd>:3: RuntimeWarning: This filename (../第四批病人数据/第四批_SE\\Z林攀攀20220228.fif) does not conform to MNE naming conventions. All raw files should end with raw.fif, raw_sss.fif, raw_tsss.fif, _meg.fif, _eeg.fif, _ieeg.fif, raw.fif.gz, raw_sss.fif.gz, raw_tsss.fif.gz, _meg.fif.gz, _eeg.fif.gz or _ieeg.fif.gz\n",
      "  raw = mne.io.read_raw_fif(i)\n"
     ]
    },
    {
     "name": "stdout",
     "output_type": "stream",
     "text": [
      "Opening raw data file ../第四批病人数据/第四批_SE\\Z沈伟202203011.fif...\n",
      "Isotrak not found\n",
      "    Range : 331231 ... 347615 =    323.468 ...   339.468 secs\n",
      "Ready.\n"
     ]
    },
    {
     "name": "stderr",
     "output_type": "stream",
     "text": [
      "<ipython-input-7-b044a54e14bd>:3: RuntimeWarning: This filename (../第四批病人数据/第四批_SE\\Z沈伟202203011.fif) does not conform to MNE naming conventions. All raw files should end with raw.fif, raw_sss.fif, raw_tsss.fif, _meg.fif, _eeg.fif, _ieeg.fif, raw.fif.gz, raw_sss.fif.gz, raw_tsss.fif.gz, _meg.fif.gz, _eeg.fif.gz or _ieeg.fif.gz\n",
      "  raw = mne.io.read_raw_fif(i)\n"
     ]
    },
    {
     "name": "stdout",
     "output_type": "stream",
     "text": [
      "Opening raw data file ../第四批病人数据/第四批_SE\\Z沈伟202203014（未发作）.fif...\n",
      "Isotrak not found\n",
      "    Range : 51179 ... 67563 =     49.979 ...    65.979 secs\n",
      "Ready.\n"
     ]
    },
    {
     "name": "stderr",
     "output_type": "stream",
     "text": [
      "<ipython-input-7-b044a54e14bd>:3: RuntimeWarning: This filename (../第四批病人数据/第四批_SE\\Z沈伟202203014（未发作）.fif) does not conform to MNE naming conventions. All raw files should end with raw.fif, raw_sss.fif, raw_tsss.fif, _meg.fif, _eeg.fif, _ieeg.fif, raw.fif.gz, raw_sss.fif.gz, raw_tsss.fif.gz, _meg.fif.gz, _eeg.fif.gz or _ieeg.fif.gz\n",
      "  raw = mne.io.read_raw_fif(i)\n"
     ]
    },
    {
     "name": "stdout",
     "output_type": "stream",
     "text": [
      "Opening raw data file ../第四批病人数据/第四批_SE\\Z沈伟202203016.fif...\n",
      "Isotrak not found\n",
      "    Range : 156928 ... 173312 =    153.250 ...   169.250 secs\n",
      "Ready.\n"
     ]
    },
    {
     "name": "stderr",
     "output_type": "stream",
     "text": [
      "<ipython-input-7-b044a54e14bd>:3: RuntimeWarning: This filename (../第四批病人数据/第四批_SE\\Z沈伟202203016.fif) does not conform to MNE naming conventions. All raw files should end with raw.fif, raw_sss.fif, raw_tsss.fif, _meg.fif, _eeg.fif, _ieeg.fif, raw.fif.gz, raw_sss.fif.gz, raw_tsss.fif.gz, _meg.fif.gz, _eeg.fif.gz or _ieeg.fif.gz\n",
      "  raw = mne.io.read_raw_fif(i)\n"
     ]
    },
    {
     "name": "stdout",
     "output_type": "stream",
     "text": [
      "Opening raw data file ../第四批病人数据/第四批_SE\\Z沈伟202203018.fif...\n",
      "Isotrak not found\n",
      "    Range : 50914 ... 67298 =     49.721 ...    65.721 secs\n",
      "Ready.\n"
     ]
    },
    {
     "name": "stderr",
     "output_type": "stream",
     "text": [
      "<ipython-input-7-b044a54e14bd>:3: RuntimeWarning: This filename (../第四批病人数据/第四批_SE\\Z沈伟202203018.fif) does not conform to MNE naming conventions. All raw files should end with raw.fif, raw_sss.fif, raw_tsss.fif, _meg.fif, _eeg.fif, _ieeg.fif, raw.fif.gz, raw_sss.fif.gz, raw_tsss.fif.gz, _meg.fif.gz, _eeg.fif.gz or _ieeg.fif.gz\n",
      "  raw = mne.io.read_raw_fif(i)\n"
     ]
    },
    {
     "name": "stdout",
     "output_type": "stream",
     "text": [
      "Opening raw data file ../第四批病人数据/第四批_SE\\Z王宜凡202203018.fif...\n",
      "Isotrak not found\n",
      "    Range : 118132 ... 134516 =    115.363 ...   131.363 secs\n",
      "Ready.\n"
     ]
    },
    {
     "name": "stderr",
     "output_type": "stream",
     "text": [
      "<ipython-input-7-b044a54e14bd>:3: RuntimeWarning: This filename (../第四批病人数据/第四批_SE\\Z王宜凡202203018.fif) does not conform to MNE naming conventions. All raw files should end with raw.fif, raw_sss.fif, raw_tsss.fif, _meg.fif, _eeg.fif, _ieeg.fif, raw.fif.gz, raw_sss.fif.gz, raw_tsss.fif.gz, _meg.fif.gz, _eeg.fif.gz or _ieeg.fif.gz\n",
      "  raw = mne.io.read_raw_fif(i)\n"
     ]
    },
    {
     "name": "stdout",
     "output_type": "stream",
     "text": [
      "Opening raw data file ../第四批病人数据/第四批_SE\\Z王宜凡202203021.fif...\n",
      "Isotrak not found\n",
      "    Range : 67221 ... 83605 =     65.646 ...    81.646 secs\n",
      "Ready.\n"
     ]
    },
    {
     "name": "stderr",
     "output_type": "stream",
     "text": [
      "<ipython-input-7-b044a54e14bd>:3: RuntimeWarning: This filename (../第四批病人数据/第四批_SE\\Z王宜凡202203021.fif) does not conform to MNE naming conventions. All raw files should end with raw.fif, raw_sss.fif, raw_tsss.fif, _meg.fif, _eeg.fif, _ieeg.fif, raw.fif.gz, raw_sss.fif.gz, raw_tsss.fif.gz, _meg.fif.gz, _eeg.fif.gz or _ieeg.fif.gz\n",
      "  raw = mne.io.read_raw_fif(i)\n"
     ]
    },
    {
     "name": "stdout",
     "output_type": "stream",
     "text": [
      "Opening raw data file ../第四批病人数据/第四批_SE\\Z王宜凡202203023.fif...\n",
      "Isotrak not found\n",
      "    Range : 103436 ... 119820 =    101.012 ...   117.012 secs\n",
      "Ready.\n"
     ]
    },
    {
     "name": "stderr",
     "output_type": "stream",
     "text": [
      "<ipython-input-7-b044a54e14bd>:3: RuntimeWarning: This filename (../第四批病人数据/第四批_SE\\Z王宜凡202203023.fif) does not conform to MNE naming conventions. All raw files should end with raw.fif, raw_sss.fif, raw_tsss.fif, _meg.fif, _eeg.fif, _ieeg.fif, raw.fif.gz, raw_sss.fif.gz, raw_tsss.fif.gz, _meg.fif.gz, _eeg.fif.gz or _ieeg.fif.gz\n",
      "  raw = mne.io.read_raw_fif(i)\n"
     ]
    },
    {
     "name": "stdout",
     "output_type": "stream",
     "text": [
      "Opening raw data file ../第四批病人数据/第四批_SE\\Z王宜凡202203025.fif...\n",
      "Isotrak not found\n",
      "    Range : 75082 ... 91466 =     73.322 ...    89.322 secs\n",
      "Ready.\n"
     ]
    },
    {
     "name": "stderr",
     "output_type": "stream",
     "text": [
      "<ipython-input-7-b044a54e14bd>:3: RuntimeWarning: This filename (../第四批病人数据/第四批_SE\\Z王宜凡202203025.fif) does not conform to MNE naming conventions. All raw files should end with raw.fif, raw_sss.fif, raw_tsss.fif, _meg.fif, _eeg.fif, _ieeg.fif, raw.fif.gz, raw_sss.fif.gz, raw_tsss.fif.gz, _meg.fif.gz, _eeg.fif.gz or _ieeg.fif.gz\n",
      "  raw = mne.io.read_raw_fif(i)\n"
     ]
    },
    {
     "name": "stdout",
     "output_type": "stream",
     "text": [
      "Opening raw data file ../第四批病人数据/第四批_SE\\Z王纯刚202203021.fif...\n",
      "Isotrak not found\n",
      "    Range : 93782 ... 110166 =     91.584 ...   107.584 secs\n",
      "Ready.\n"
     ]
    },
    {
     "name": "stderr",
     "output_type": "stream",
     "text": [
      "<ipython-input-7-b044a54e14bd>:3: RuntimeWarning: This filename (../第四批病人数据/第四批_SE\\Z王纯刚202203021.fif) does not conform to MNE naming conventions. All raw files should end with raw.fif, raw_sss.fif, raw_tsss.fif, _meg.fif, _eeg.fif, _ieeg.fif, raw.fif.gz, raw_sss.fif.gz, raw_tsss.fif.gz, _meg.fif.gz, _eeg.fif.gz or _ieeg.fif.gz\n",
      "  raw = mne.io.read_raw_fif(i)\n"
     ]
    },
    {
     "name": "stdout",
     "output_type": "stream",
     "text": [
      "Opening raw data file ../第四批病人数据/第四批_SE\\Z王纯刚202203023.fif...\n",
      "Isotrak not found\n",
      "    Range : 69018 ... 85402 =     67.400 ...    83.400 secs\n",
      "Ready.\n"
     ]
    },
    {
     "name": "stderr",
     "output_type": "stream",
     "text": [
      "<ipython-input-7-b044a54e14bd>:3: RuntimeWarning: This filename (../第四批病人数据/第四批_SE\\Z王纯刚202203023.fif) does not conform to MNE naming conventions. All raw files should end with raw.fif, raw_sss.fif, raw_tsss.fif, _meg.fif, _eeg.fif, _ieeg.fif, raw.fif.gz, raw_sss.fif.gz, raw_tsss.fif.gz, _meg.fif.gz, _eeg.fif.gz or _ieeg.fif.gz\n",
      "  raw = mne.io.read_raw_fif(i)\n"
     ]
    },
    {
     "name": "stdout",
     "output_type": "stream",
     "text": [
      "Opening raw data file ../第四批病人数据/第四批_SE\\Z王纯刚202203025.fif...\n",
      "Isotrak not found\n",
      "    Range : 24319 ... 40703 =     23.749 ...    39.749 secs\n",
      "Ready.\n"
     ]
    },
    {
     "name": "stderr",
     "output_type": "stream",
     "text": [
      "<ipython-input-7-b044a54e14bd>:3: RuntimeWarning: This filename (../第四批病人数据/第四批_SE\\Z王纯刚202203025.fif) does not conform to MNE naming conventions. All raw files should end with raw.fif, raw_sss.fif, raw_tsss.fif, _meg.fif, _eeg.fif, _ieeg.fif, raw.fif.gz, raw_sss.fif.gz, raw_tsss.fif.gz, _meg.fif.gz, _eeg.fif.gz or _ieeg.fif.gz\n",
      "  raw = mne.io.read_raw_fif(i)\n"
     ]
    },
    {
     "name": "stdout",
     "output_type": "stream",
     "text": [
      "Opening raw data file ../第四批病人数据/第四批_SE\\Z王纯刚202203028.fif...\n",
      "Isotrak not found\n",
      "    Range : 289606 ... 305990 =    282.818 ...   298.818 secs\n",
      "Ready.\n"
     ]
    },
    {
     "name": "stderr",
     "output_type": "stream",
     "text": [
      "<ipython-input-7-b044a54e14bd>:3: RuntimeWarning: This filename (../第四批病人数据/第四批_SE\\Z王纯刚202203028.fif) does not conform to MNE naming conventions. All raw files should end with raw.fif, raw_sss.fif, raw_tsss.fif, _meg.fif, _eeg.fif, _ieeg.fif, raw.fif.gz, raw_sss.fif.gz, raw_tsss.fif.gz, _meg.fif.gz, _eeg.fif.gz or _ieeg.fif.gz\n",
      "  raw = mne.io.read_raw_fif(i)\n"
     ]
    },
    {
     "name": "stdout",
     "output_type": "stream",
     "text": [
      "Opening raw data file ../第四批病人数据/第四批_SE\\Z肖星星202203025.fif...\n",
      "Isotrak not found\n",
      "    Range : 385800 ... 402184 =    376.758 ...   392.758 secs\n",
      "Ready.\n"
     ]
    },
    {
     "name": "stderr",
     "output_type": "stream",
     "text": [
      "<ipython-input-7-b044a54e14bd>:3: RuntimeWarning: This filename (../第四批病人数据/第四批_SE\\Z肖星星202203025.fif) does not conform to MNE naming conventions. All raw files should end with raw.fif, raw_sss.fif, raw_tsss.fif, _meg.fif, _eeg.fif, _ieeg.fif, raw.fif.gz, raw_sss.fif.gz, raw_tsss.fif.gz, _meg.fif.gz, _eeg.fif.gz or _ieeg.fif.gz\n",
      "  raw = mne.io.read_raw_fif(i)\n"
     ]
    },
    {
     "name": "stdout",
     "output_type": "stream",
     "text": [
      "Opening raw data file ../第四批病人数据/第四批_SE\\Z肖星星202203028.fif...\n",
      "Isotrak not found\n",
      "    Range : 72393 ... 88777 =     70.696 ...    86.696 secs\n",
      "Ready.\n"
     ]
    },
    {
     "name": "stderr",
     "output_type": "stream",
     "text": [
      "<ipython-input-7-b044a54e14bd>:3: RuntimeWarning: This filename (../第四批病人数据/第四批_SE\\Z肖星星202203028.fif) does not conform to MNE naming conventions. All raw files should end with raw.fif, raw_sss.fif, raw_tsss.fif, _meg.fif, _eeg.fif, _ieeg.fif, raw.fif.gz, raw_sss.fif.gz, raw_tsss.fif.gz, _meg.fif.gz, _eeg.fif.gz or _ieeg.fif.gz\n",
      "  raw = mne.io.read_raw_fif(i)\n"
     ]
    },
    {
     "name": "stdout",
     "output_type": "stream",
     "text": [
      "Opening raw data file ../第四批病人数据/第四批_SE\\Z肖星星202203030（未发作）.fif...\n",
      "Isotrak not found\n",
      "    Range : 19135 ... 35519 =     18.687 ...    34.687 secs\n",
      "Ready.\n"
     ]
    },
    {
     "name": "stderr",
     "output_type": "stream",
     "text": [
      "<ipython-input-7-b044a54e14bd>:3: RuntimeWarning: This filename (../第四批病人数据/第四批_SE\\Z肖星星202203030（未发作）.fif) does not conform to MNE naming conventions. All raw files should end with raw.fif, raw_sss.fif, raw_tsss.fif, _meg.fif, _eeg.fif, _ieeg.fif, raw.fif.gz, raw_sss.fif.gz, raw_tsss.fif.gz, _meg.fif.gz, _eeg.fif.gz or _ieeg.fif.gz\n",
      "  raw = mne.io.read_raw_fif(i)\n"
     ]
    },
    {
     "name": "stdout",
     "output_type": "stream",
     "text": [
      "Opening raw data file ../第四批病人数据/第四批_SE\\Z肖星星20220401.fif...\n",
      "Isotrak not found\n",
      "    Range : 84137 ... 100521 =     82.165 ...    98.165 secs\n",
      "Ready.\n"
     ]
    },
    {
     "name": "stderr",
     "output_type": "stream",
     "text": [
      "<ipython-input-7-b044a54e14bd>:3: RuntimeWarning: This filename (../第四批病人数据/第四批_SE\\Z肖星星20220401.fif) does not conform to MNE naming conventions. All raw files should end with raw.fif, raw_sss.fif, raw_tsss.fif, _meg.fif, _eeg.fif, _ieeg.fif, raw.fif.gz, raw_sss.fif.gz, raw_tsss.fif.gz, _meg.fif.gz, _eeg.fif.gz or _ieeg.fif.gz\n",
      "  raw = mne.io.read_raw_fif(i)\n"
     ]
    },
    {
     "name": "stdout",
     "output_type": "stream",
     "text": [
      "Opening raw data file ../第四批病人数据/第四批_SE\\Z肖智华20220225（未发作）.fif...\n",
      "Isotrak not found\n",
      "    Range : 3029 ... 19413 =      2.958 ...    18.958 secs\n",
      "Ready.\n"
     ]
    },
    {
     "name": "stderr",
     "output_type": "stream",
     "text": [
      "<ipython-input-7-b044a54e14bd>:3: RuntimeWarning: This filename (../第四批病人数据/第四批_SE\\Z肖智华20220225（未发作）.fif) does not conform to MNE naming conventions. All raw files should end with raw.fif, raw_sss.fif, raw_tsss.fif, _meg.fif, _eeg.fif, _ieeg.fif, raw.fif.gz, raw_sss.fif.gz, raw_tsss.fif.gz, _meg.fif.gz, _eeg.fif.gz or _ieeg.fif.gz\n",
      "  raw = mne.io.read_raw_fif(i)\n"
     ]
    },
    {
     "name": "stdout",
     "output_type": "stream",
     "text": [
      "Opening raw data file ../第四批病人数据/第四批_SE\\Z肖智华20220228.fif...\n",
      "Isotrak not found\n",
      "    Range : 25279 ... 41663 =     24.687 ...    40.687 secs\n",
      "Ready.\n"
     ]
    },
    {
     "name": "stderr",
     "output_type": "stream",
     "text": [
      "<ipython-input-7-b044a54e14bd>:3: RuntimeWarning: This filename (../第四批病人数据/第四批_SE\\Z肖智华20220228.fif) does not conform to MNE naming conventions. All raw files should end with raw.fif, raw_sss.fif, raw_tsss.fif, _meg.fif, _eeg.fif, _ieeg.fif, raw.fif.gz, raw_sss.fif.gz, raw_tsss.fif.gz, _meg.fif.gz, _eeg.fif.gz or _ieeg.fif.gz\n",
      "  raw = mne.io.read_raw_fif(i)\n"
     ]
    },
    {
     "name": "stdout",
     "output_type": "stream",
     "text": [
      "Opening raw data file ../第四批病人数据/第四批_SE\\Z肖智华20220302.fif...\n",
      "Isotrak not found\n",
      "    Range : 617238 ... 633622 =    602.771 ...   618.771 secs\n",
      "Ready.\n"
     ]
    },
    {
     "name": "stderr",
     "output_type": "stream",
     "text": [
      "<ipython-input-7-b044a54e14bd>:3: RuntimeWarning: This filename (../第四批病人数据/第四批_SE\\Z肖智华20220302.fif) does not conform to MNE naming conventions. All raw files should end with raw.fif, raw_sss.fif, raw_tsss.fif, _meg.fif, _eeg.fif, _ieeg.fif, raw.fif.gz, raw_sss.fif.gz, raw_tsss.fif.gz, _meg.fif.gz, _eeg.fif.gz or _ieeg.fif.gz\n",
      "  raw = mne.io.read_raw_fif(i)\n"
     ]
    },
    {
     "name": "stdout",
     "output_type": "stream",
     "text": [
      "Opening raw data file ../第四批病人数据/第四批_SE\\Z赵丽兰20220225.fif...\n",
      "Isotrak not found\n",
      "    Range : 4874 ... 21258 =      4.760 ...    20.760 secs\n",
      "Ready.\n"
     ]
    },
    {
     "name": "stderr",
     "output_type": "stream",
     "text": [
      "<ipython-input-7-b044a54e14bd>:3: RuntimeWarning: This filename (../第四批病人数据/第四批_SE\\Z赵丽兰20220225.fif) does not conform to MNE naming conventions. All raw files should end with raw.fif, raw_sss.fif, raw_tsss.fif, _meg.fif, _eeg.fif, _ieeg.fif, raw.fif.gz, raw_sss.fif.gz, raw_tsss.fif.gz, _meg.fif.gz, _eeg.fif.gz or _ieeg.fif.gz\n",
      "  raw = mne.io.read_raw_fif(i)\n"
     ]
    },
    {
     "name": "stdout",
     "output_type": "stream",
     "text": [
      "Opening raw data file ../第四批病人数据/第四批_SE\\Z赵丽兰20220228.fif...\n",
      "Isotrak not found\n",
      "    Range : 25224 ... 41608 =     24.633 ...    40.633 secs\n",
      "Ready.\n"
     ]
    },
    {
     "name": "stderr",
     "output_type": "stream",
     "text": [
      "<ipython-input-7-b044a54e14bd>:3: RuntimeWarning: This filename (../第四批病人数据/第四批_SE\\Z赵丽兰20220228.fif) does not conform to MNE naming conventions. All raw files should end with raw.fif, raw_sss.fif, raw_tsss.fif, _meg.fif, _eeg.fif, _ieeg.fif, raw.fif.gz, raw_sss.fif.gz, raw_tsss.fif.gz, _meg.fif.gz, _eeg.fif.gz or _ieeg.fif.gz\n",
      "  raw = mne.io.read_raw_fif(i)\n"
     ]
    },
    {
     "name": "stdout",
     "output_type": "stream",
     "text": [
      "Opening raw data file ../第四批病人数据/第四批_SE\\Z赵丽兰20220302.fif...\n",
      "Isotrak not found\n",
      "    Range : 4442 ... 20826 =      4.338 ...    20.338 secs\n",
      "Ready.\n"
     ]
    },
    {
     "name": "stderr",
     "output_type": "stream",
     "text": [
      "<ipython-input-7-b044a54e14bd>:3: RuntimeWarning: This filename (../第四批病人数据/第四批_SE\\Z赵丽兰20220302.fif) does not conform to MNE naming conventions. All raw files should end with raw.fif, raw_sss.fif, raw_tsss.fif, _meg.fif, _eeg.fif, _ieeg.fif, raw.fif.gz, raw_sss.fif.gz, raw_tsss.fif.gz, _meg.fif.gz, _eeg.fif.gz or _ieeg.fif.gz\n",
      "  raw = mne.io.read_raw_fif(i)\n"
     ]
    },
    {
     "name": "stdout",
     "output_type": "stream",
     "text": [
      "Opening raw data file ../第四批病人数据/第四批_SE\\Z赵丽兰20220304.fif...\n",
      "Isotrak not found\n",
      "    Range : 2779 ... 19163 =      2.714 ...    18.714 secs\n",
      "Ready.\n"
     ]
    },
    {
     "name": "stderr",
     "output_type": "stream",
     "text": [
      "<ipython-input-7-b044a54e14bd>:3: RuntimeWarning: This filename (../第四批病人数据/第四批_SE\\Z赵丽兰20220304.fif) does not conform to MNE naming conventions. All raw files should end with raw.fif, raw_sss.fif, raw_tsss.fif, _meg.fif, _eeg.fif, _ieeg.fif, raw.fif.gz, raw_sss.fif.gz, raw_tsss.fif.gz, _meg.fif.gz, _eeg.fif.gz or _ieeg.fif.gz\n",
      "  raw = mne.io.read_raw_fif(i)\n"
     ]
    },
    {
     "name": "stdout",
     "output_type": "stream",
     "text": [
      "Opening raw data file ../第四批病人数据/第四批_SE\\Z雷振20220321.fif...\n",
      "Isotrak not found\n",
      "    Range : 65290 ... 81674 =     63.760 ...    79.760 secs\n",
      "Ready.\n"
     ]
    },
    {
     "name": "stderr",
     "output_type": "stream",
     "text": [
      "<ipython-input-7-b044a54e14bd>:3: RuntimeWarning: This filename (../第四批病人数据/第四批_SE\\Z雷振20220321.fif) does not conform to MNE naming conventions. All raw files should end with raw.fif, raw_sss.fif, raw_tsss.fif, _meg.fif, _eeg.fif, _ieeg.fif, raw.fif.gz, raw_sss.fif.gz, raw_tsss.fif.gz, _meg.fif.gz, _eeg.fif.gz or _ieeg.fif.gz\n",
      "  raw = mne.io.read_raw_fif(i)\n"
     ]
    },
    {
     "name": "stdout",
     "output_type": "stream",
     "text": [
      "Opening raw data file ../第四批病人数据/第四批_SE\\Z雷振20220323.fif...\n",
      "Isotrak not found\n",
      "    Range : 203788 ... 220172 =    199.012 ...   215.012 secs\n",
      "Ready.\n"
     ]
    },
    {
     "name": "stderr",
     "output_type": "stream",
     "text": [
      "<ipython-input-7-b044a54e14bd>:3: RuntimeWarning: This filename (../第四批病人数据/第四批_SE\\Z雷振20220323.fif) does not conform to MNE naming conventions. All raw files should end with raw.fif, raw_sss.fif, raw_tsss.fif, _meg.fif, _eeg.fif, _ieeg.fif, raw.fif.gz, raw_sss.fif.gz, raw_tsss.fif.gz, _meg.fif.gz, _eeg.fif.gz or _ieeg.fif.gz\n",
      "  raw = mne.io.read_raw_fif(i)\n"
     ]
    },
    {
     "name": "stdout",
     "output_type": "stream",
     "text": [
      "Opening raw data file ../第四批病人数据/第四批_SE\\Z雷振20220325.fif...\n",
      "Isotrak not found\n",
      "    Range : 45887 ... 62271 =     44.812 ...    60.812 secs\n",
      "Ready.\n"
     ]
    },
    {
     "name": "stderr",
     "output_type": "stream",
     "text": [
      "<ipython-input-7-b044a54e14bd>:3: RuntimeWarning: This filename (../第四批病人数据/第四批_SE\\Z雷振20220325.fif) does not conform to MNE naming conventions. All raw files should end with raw.fif, raw_sss.fif, raw_tsss.fif, _meg.fif, _eeg.fif, _ieeg.fif, raw.fif.gz, raw_sss.fif.gz, raw_tsss.fif.gz, _meg.fif.gz, _eeg.fif.gz or _ieeg.fif.gz\n",
      "  raw = mne.io.read_raw_fif(i)\n"
     ]
    },
    {
     "name": "stdout",
     "output_type": "stream",
     "text": [
      "Opening raw data file ../第四批病人数据/第四批_SE\\Z雷振20220328.fif...\n",
      "Isotrak not found\n",
      "    Range : 6400 ... 22784 =      6.250 ...    22.250 secs\n",
      "Ready.\n"
     ]
    },
    {
     "name": "stderr",
     "output_type": "stream",
     "text": [
      "<ipython-input-7-b044a54e14bd>:3: RuntimeWarning: This filename (../第四批病人数据/第四批_SE\\Z雷振20220328.fif) does not conform to MNE naming conventions. All raw files should end with raw.fif, raw_sss.fif, raw_tsss.fif, _meg.fif, _eeg.fif, _ieeg.fif, raw.fif.gz, raw_sss.fif.gz, raw_tsss.fif.gz, _meg.fif.gz, _eeg.fif.gz or _ieeg.fif.gz\n",
      "  raw = mne.io.read_raw_fif(i)\n"
     ]
    },
    {
     "name": "stdout",
     "output_type": "stream",
     "text": [
      "Opening raw data file ../第四批病人数据/第四批_SE\\Z黄盈雪20220314.fif...\n",
      "Isotrak not found\n",
      "    Range : 20114 ... 36498 =     19.643 ...    35.643 secs\n",
      "Ready.\n"
     ]
    },
    {
     "name": "stderr",
     "output_type": "stream",
     "text": [
      "<ipython-input-7-b044a54e14bd>:3: RuntimeWarning: This filename (../第四批病人数据/第四批_SE\\Z黄盈雪20220314.fif) does not conform to MNE naming conventions. All raw files should end with raw.fif, raw_sss.fif, raw_tsss.fif, _meg.fif, _eeg.fif, _ieeg.fif, raw.fif.gz, raw_sss.fif.gz, raw_tsss.fif.gz, _meg.fif.gz, _eeg.fif.gz or _ieeg.fif.gz\n",
      "  raw = mne.io.read_raw_fif(i)\n"
     ]
    },
    {
     "name": "stdout",
     "output_type": "stream",
     "text": [
      "Opening raw data file ../第四批病人数据/第四批_SE\\Z黄盈雪20220316.fif...\n",
      "Isotrak not found\n",
      "    Range : 90303 ... 106687 =     88.187 ...   104.187 secs\n",
      "Ready.\n"
     ]
    },
    {
     "name": "stderr",
     "output_type": "stream",
     "text": [
      "<ipython-input-7-b044a54e14bd>:3: RuntimeWarning: This filename (../第四批病人数据/第四批_SE\\Z黄盈雪20220316.fif) does not conform to MNE naming conventions. All raw files should end with raw.fif, raw_sss.fif, raw_tsss.fif, _meg.fif, _eeg.fif, _ieeg.fif, raw.fif.gz, raw_sss.fif.gz, raw_tsss.fif.gz, _meg.fif.gz, _eeg.fif.gz or _ieeg.fif.gz\n",
      "  raw = mne.io.read_raw_fif(i)\n"
     ]
    },
    {
     "name": "stdout",
     "output_type": "stream",
     "text": [
      "Opening raw data file ../第四批病人数据/第四批_SE\\Z黄盈雪20220318.fif...\n",
      "Isotrak not found\n",
      "    Range : 499 ... 16883 =      0.487 ...    16.487 secs\n",
      "Ready.\n"
     ]
    },
    {
     "name": "stderr",
     "output_type": "stream",
     "text": [
      "<ipython-input-7-b044a54e14bd>:3: RuntimeWarning: This filename (../第四批病人数据/第四批_SE\\Z黄盈雪20220318.fif) does not conform to MNE naming conventions. All raw files should end with raw.fif, raw_sss.fif, raw_tsss.fif, _meg.fif, _eeg.fif, _ieeg.fif, raw.fif.gz, raw_sss.fif.gz, raw_tsss.fif.gz, _meg.fif.gz, _eeg.fif.gz or _ieeg.fif.gz\n",
      "  raw = mne.io.read_raw_fif(i)\n"
     ]
    },
    {
     "name": "stdout",
     "output_type": "stream",
     "text": [
      "Opening raw data file ../第四批病人数据/第四批_SE\\Z黄盈雪20220323.fif...\n",
      "Isotrak not found\n",
      "    Range : 116586 ... 132970 =    113.854 ...   129.854 secs\n",
      "Ready.\n"
     ]
    },
    {
     "name": "stderr",
     "output_type": "stream",
     "text": [
      "<ipython-input-7-b044a54e14bd>:3: RuntimeWarning: This filename (../第四批病人数据/第四批_SE\\Z黄盈雪20220323.fif) does not conform to MNE naming conventions. All raw files should end with raw.fif, raw_sss.fif, raw_tsss.fif, _meg.fif, _eeg.fif, _ieeg.fif, raw.fif.gz, raw_sss.fif.gz, raw_tsss.fif.gz, _meg.fif.gz, _eeg.fif.gz or _ieeg.fif.gz\n",
      "  raw = mne.io.read_raw_fif(i)\n"
     ]
    },
    {
     "name": "stdout",
     "output_type": "stream",
     "text": [
      "Opening raw data file ../第四批病人数据/第四批_SE\\Z黄金燕20220309.fif...\n",
      "Isotrak not found\n",
      "    Range : 27979 ... 44363 =     27.323 ...    43.323 secs\n",
      "Ready.\n"
     ]
    },
    {
     "name": "stderr",
     "output_type": "stream",
     "text": [
      "<ipython-input-7-b044a54e14bd>:3: RuntimeWarning: This filename (../第四批病人数据/第四批_SE\\Z黄金燕20220309.fif) does not conform to MNE naming conventions. All raw files should end with raw.fif, raw_sss.fif, raw_tsss.fif, _meg.fif, _eeg.fif, _ieeg.fif, raw.fif.gz, raw_sss.fif.gz, raw_tsss.fif.gz, _meg.fif.gz, _eeg.fif.gz or _ieeg.fif.gz\n",
      "  raw = mne.io.read_raw_fif(i)\n"
     ]
    },
    {
     "name": "stdout",
     "output_type": "stream",
     "text": [
      "Opening raw data file ../第四批病人数据/第四批_SE\\Z黄金燕20220311.fif...\n",
      "Isotrak not found\n",
      "    Range : 75866 ... 92250 =     74.088 ...    90.088 secs\n",
      "Ready.\n"
     ]
    },
    {
     "name": "stderr",
     "output_type": "stream",
     "text": [
      "<ipython-input-7-b044a54e14bd>:3: RuntimeWarning: This filename (../第四批病人数据/第四批_SE\\Z黄金燕20220311.fif) does not conform to MNE naming conventions. All raw files should end with raw.fif, raw_sss.fif, raw_tsss.fif, _meg.fif, _eeg.fif, _ieeg.fif, raw.fif.gz, raw_sss.fif.gz, raw_tsss.fif.gz, _meg.fif.gz, _eeg.fif.gz or _ieeg.fif.gz\n",
      "  raw = mne.io.read_raw_fif(i)\n"
     ]
    },
    {
     "name": "stdout",
     "output_type": "stream",
     "text": [
      "Opening raw data file ../第四批病人数据/第四批_SE\\Z黄金燕20220314.fif...\n",
      "Isotrak not found\n",
      "    Range : 42873 ... 59257 =     41.868 ...    57.868 secs\n",
      "Ready.\n"
     ]
    },
    {
     "name": "stderr",
     "output_type": "stream",
     "text": [
      "<ipython-input-7-b044a54e14bd>:3: RuntimeWarning: This filename (../第四批病人数据/第四批_SE\\Z黄金燕20220314.fif) does not conform to MNE naming conventions. All raw files should end with raw.fif, raw_sss.fif, raw_tsss.fif, _meg.fif, _eeg.fif, _ieeg.fif, raw.fif.gz, raw_sss.fif.gz, raw_tsss.fif.gz, _meg.fif.gz, _eeg.fif.gz or _ieeg.fif.gz\n",
      "  raw = mne.io.read_raw_fif(i)\n"
     ]
    },
    {
     "name": "stdout",
     "output_type": "stream",
     "text": [
      "Opening raw data file ../第四批病人数据/第四批_SE\\Z黄金燕20220316.fif...\n",
      "Isotrak not found\n",
      "    Range : 69652 ... 86036 =     68.020 ...    84.020 secs\n",
      "Ready.\n"
     ]
    },
    {
     "name": "stderr",
     "output_type": "stream",
     "text": [
      "<ipython-input-7-b044a54e14bd>:3: RuntimeWarning: This filename (../第四批病人数据/第四批_SE\\Z黄金燕20220316.fif) does not conform to MNE naming conventions. All raw files should end with raw.fif, raw_sss.fif, raw_tsss.fif, _meg.fif, _eeg.fif, _ieeg.fif, raw.fif.gz, raw_sss.fif.gz, raw_tsss.fif.gz, _meg.fif.gz, _eeg.fif.gz or _ieeg.fif.gz\n",
      "  raw = mne.io.read_raw_fif(i)\n"
     ]
    },
    {
     "name": "stdout",
     "output_type": "stream",
     "text": [
      "Opening raw data file ../第四批病人数据/第四批_SE\\Z齐金钢20220223.fif...\n",
      "Isotrak not found\n",
      "    Range : 15380 ... 31764 =     15.020 ...    31.020 secs\n",
      "Ready.\n"
     ]
    },
    {
     "name": "stderr",
     "output_type": "stream",
     "text": [
      "<ipython-input-7-b044a54e14bd>:3: RuntimeWarning: This filename (../第四批病人数据/第四批_SE\\Z齐金钢20220223.fif) does not conform to MNE naming conventions. All raw files should end with raw.fif, raw_sss.fif, raw_tsss.fif, _meg.fif, _eeg.fif, _ieeg.fif, raw.fif.gz, raw_sss.fif.gz, raw_tsss.fif.gz, _meg.fif.gz, _eeg.fif.gz or _ieeg.fif.gz\n",
      "  raw = mne.io.read_raw_fif(i)\n"
     ]
    },
    {
     "name": "stdout",
     "output_type": "stream",
     "text": [
      "Opening raw data file ../第四批病人数据/第四批_SE\\Z齐金钢20220225.fif...\n",
      "Isotrak not found\n",
      "    Range : 8174 ... 24558 =      7.982 ...    23.982 secs\n",
      "Ready.\n"
     ]
    },
    {
     "name": "stderr",
     "output_type": "stream",
     "text": [
      "<ipython-input-7-b044a54e14bd>:3: RuntimeWarning: This filename (../第四批病人数据/第四批_SE\\Z齐金钢20220225.fif) does not conform to MNE naming conventions. All raw files should end with raw.fif, raw_sss.fif, raw_tsss.fif, _meg.fif, _eeg.fif, _ieeg.fif, raw.fif.gz, raw_sss.fif.gz, raw_tsss.fif.gz, _meg.fif.gz, _eeg.fif.gz or _ieeg.fif.gz\n",
      "  raw = mne.io.read_raw_fif(i)\n"
     ]
    },
    {
     "name": "stdout",
     "output_type": "stream",
     "text": [
      "Opening raw data file ../第四批病人数据/第四批_SE\\Z齐金钢20220228.fif...\n",
      "Isotrak not found\n",
      "    Range : 20991 ... 37375 =     20.499 ...    36.499 secs\n",
      "Ready.\n"
     ]
    },
    {
     "name": "stderr",
     "output_type": "stream",
     "text": [
      "<ipython-input-7-b044a54e14bd>:3: RuntimeWarning: This filename (../第四批病人数据/第四批_SE\\Z齐金钢20220228.fif) does not conform to MNE naming conventions. All raw files should end with raw.fif, raw_sss.fif, raw_tsss.fif, _meg.fif, _eeg.fif, _ieeg.fif, raw.fif.gz, raw_sss.fif.gz, raw_tsss.fif.gz, _meg.fif.gz, _eeg.fif.gz or _ieeg.fif.gz\n",
      "  raw = mne.io.read_raw_fif(i)\n"
     ]
    },
    {
     "name": "stdout",
     "output_type": "stream",
     "text": [
      "Opening raw data file ../第四批病人数据/第四批_SE\\Z齐金钢20220302.fif...\n",
      "Isotrak not found\n",
      "    Range : 150366 ... 166750 =    146.842 ...   162.842 secs\n",
      "Ready.\n"
     ]
    },
    {
     "name": "stderr",
     "output_type": "stream",
     "text": [
      "<ipython-input-7-b044a54e14bd>:3: RuntimeWarning: This filename (../第四批病人数据/第四批_SE\\Z齐金钢20220302.fif) does not conform to MNE naming conventions. All raw files should end with raw.fif, raw_sss.fif, raw_tsss.fif, _meg.fif, _eeg.fif, _ieeg.fif, raw.fif.gz, raw_sss.fif.gz, raw_tsss.fif.gz, _meg.fif.gz, _eeg.fif.gz or _ieeg.fif.gz\n",
      "  raw = mne.io.read_raw_fif(i)\n"
     ]
    }
   ],
   "source": [
    "x_train=[]\n",
    "for i in data_file_path:\n",
    "    raw = mne.io.read_raw_fif(i)\n",
    "    for j in range(0,16,2):\n",
    "        raw.copy().crop(tmin=j,tmax=j+2)\n",
    "        data,time=raw[:]\n",
    "        #重采样       \n",
    "        data_after_resample=[]    \n",
    "        for k in range (channels_selected):\n",
    "            data_temp=scipy.signal.resample(data[k],samps)\n",
    "            data_after_resample.append(data_temp)\n",
    "        data_after_resample=np.array(data_after_resample)\n",
    "        \n",
    "        #标准化\n",
    "        data_std=[]\n",
    "        for k in range(channels_selected):\n",
    "            tmp_mean = np.mean(data_after_resample[k])\n",
    "            tmp_std = np.std(data_after_resample[k])\n",
    "            data_temp_std = (data_after_resample[k] - tmp_mean) / tmp_std\n",
    "            data_std.append(data_temp_std)\n",
    "        data_std=np.array(data_std)\n",
    "        data_std=data_std.reshape(-1,512,1)\n",
    "        #高博模型过滤\n",
    "        data_filt=model.predict(data_std, verbose=0) #过滤后的数据\n",
    "        #分通道写入x_train\n",
    "        for k in range(channels_selected):\n",
    "            x_train.append(data_filt[k])"
   ]
  },
  {
   "cell_type": "code",
   "execution_count": 8,
   "id": "de2551d4",
   "metadata": {},
   "outputs": [
    {
     "data": {
      "text/plain": [
       "12512"
      ]
     },
     "execution_count": 8,
     "metadata": {},
     "output_type": "execute_result"
    }
   ],
   "source": [
    "len(x_train) #17*92*8=12512"
   ]
  },
  {
   "cell_type": "code",
   "execution_count": 9,
   "id": "93f8ac0b",
   "metadata": {},
   "outputs": [],
   "source": [
    "import tensorflow as tf\n",
    "from tensorflow.keras.models import Sequential\n",
    "from tensorflow.keras.layers import Dense, Dropout, Activation, Flatten,Concatenate\n",
    "from tensorflow.keras.layers import Conv1D, MaxPooling1D"
   ]
  },
  {
   "cell_type": "code",
   "execution_count": 10,
   "id": "192254be",
   "metadata": {},
   "outputs": [],
   "source": [
    "#input1->conv1->pool1->conv2->pool2->conv3->pool3->flatten->dense1->dense2->concatenate->dense3->out\n",
    "input1=tf.keras.layers.Input(shape=(512,1))#单通道2s数据\n",
    "# input2=tf.keras.layers.Input(shape=(2,))#刺激参数\n",
    "conv1=tf.keras.layers.Conv1D(64,5,padding='same',activation='relu')(input1)\n",
    "pool1=tf.keras.layers.AveragePooling1D(pool_size=2,strides=2,padding='same')(conv1)#64*256\n",
    "conv2=tf.keras.layers.Conv1D(32,5,padding='same',activation='relu')(pool1)\n",
    "pool2=tf.keras.layers.AveragePooling1D(pool_size=2,strides=2,padding='same')(conv2)#32*128\n",
    "conv3=tf.keras.layers.Conv1D(16,3,padding='same',activation='relu')(pool2)\n",
    "pool3=tf.keras.layers.AveragePooling1D(pool_size=2,strides=2,padding='same')(conv3)#16*64\n",
    "flatten1=tf.keras.layers.Flatten()(pool3)\n",
    "dense1=tf.keras.layers.Dense(256,activation='relu')(flatten1)\n",
    "dense2=tf.keras.layers.Dense(64,activation='relu')(dense1)\n",
    "# concatenate1=tf.keras.layers.Concatenate()([dense2,input2])\n",
    "# dense3=tf.keras.layers.Dense(20,activation='sigmoid')(concatenate1)\n",
    "dense3 = tf.keras.layers.Dense(20,activation='relu')(dense2)\n",
    "out=tf.keras.layers.Dense(1,activation='sigmoid')(dense3)\n",
    "\n",
    "model=tf.keras.models.Model(inputs=input1,outputs=out)\n",
    "# model=tf.keras.models.Model(inputs=[input1,input2],outputs=out)"
   ]
  },
  {
   "cell_type": "code",
   "execution_count": 11,
   "id": "0b691afa",
   "metadata": {},
   "outputs": [
    {
     "name": "stdout",
     "output_type": "stream",
     "text": [
      "Model: \"model\"\n",
      "_________________________________________________________________\n",
      " Layer (type)                Output Shape              Param #   \n",
      "=================================================================\n",
      " input_1 (InputLayer)        [(None, 512, 1)]          0         \n",
      "                                                                 \n",
      " conv1d (Conv1D)             (None, 512, 64)           384       \n",
      "                                                                 \n",
      " average_pooling1d (AverageP  (None, 256, 64)          0         \n",
      " ooling1D)                                                       \n",
      "                                                                 \n",
      " conv1d_1 (Conv1D)           (None, 256, 32)           10272     \n",
      "                                                                 \n",
      " average_pooling1d_1 (Averag  (None, 128, 32)          0         \n",
      " ePooling1D)                                                     \n",
      "                                                                 \n",
      " conv1d_2 (Conv1D)           (None, 128, 16)           1552      \n",
      "                                                                 \n",
      " average_pooling1d_2 (Averag  (None, 64, 16)           0         \n",
      " ePooling1D)                                                     \n",
      "                                                                 \n",
      " flatten (Flatten)           (None, 1024)              0         \n",
      "                                                                 \n",
      " dense (Dense)               (None, 256)               262400    \n",
      "                                                                 \n",
      " dense_1 (Dense)             (None, 64)                16448     \n",
      "                                                                 \n",
      " dense_2 (Dense)             (None, 20)                1300      \n",
      "                                                                 \n",
      " dense_3 (Dense)             (None, 1)                 21        \n",
      "                                                                 \n",
      "=================================================================\n",
      "Total params: 292,377\n",
      "Trainable params: 292,377\n",
      "Non-trainable params: 0\n",
      "_________________________________________________________________\n"
     ]
    }
   ],
   "source": [
    "model.summary()"
   ]
  },
  {
   "cell_type": "code",
   "execution_count": 12,
   "id": "592b430e",
   "metadata": {},
   "outputs": [
    {
     "name": "stderr",
     "output_type": "stream",
     "text": [
      "F:\\Anaconda\\lib\\site-packages\\keras\\optimizer_v2\\adam.py:105: UserWarning: The `lr` argument is deprecated, use `learning_rate` instead.\n",
      "  super(Adam, self).__init__(name, **kwargs)\n"
     ]
    }
   ],
   "source": [
    "adam = tf.keras.optimizers.Adam(lr=0.001)\n",
    "model.compile(loss='mse',  # 损失均方误差\n",
    "              optimizer=adam,  # 优化器\n",
    "              metrics='accuracy'\n",
    "             )"
   ]
  },
  {
   "cell_type": "code",
   "execution_count": 13,
   "id": "a2cd6253",
   "metadata": {},
   "outputs": [],
   "source": [
    "x_train=np.array(x_train)\n",
    "y_train=np.array(y_train)#方便实用validation_split"
   ]
  },
  {
   "cell_type": "code",
   "execution_count": 14,
   "id": "016d6b09",
   "metadata": {},
   "outputs": [
    {
     "name": "stdout",
     "output_type": "stream",
     "text": [
      "Epoch 1/16\n",
      "1564/1564 [==============================] - 10s 6ms/step - loss: 0.1091 - accuracy: 0.8719\n",
      "Epoch 2/16\n",
      "1564/1564 [==============================] - 9s 6ms/step - loss: 0.0788 - accuracy: 0.9031\n",
      "Epoch 3/16\n",
      "1564/1564 [==============================] - 9s 6ms/step - loss: 0.0506 - accuracy: 0.9391\n",
      "Epoch 4/16\n",
      "1564/1564 [==============================] - 9s 6ms/step - loss: 0.0361 - accuracy: 0.9575\n",
      "Epoch 5/16\n",
      "1564/1564 [==============================] - 9s 6ms/step - loss: 0.0281 - accuracy: 0.9670\n",
      "Epoch 6/16\n",
      "1564/1564 [==============================] - 9s 6ms/step - loss: 0.0205 - accuracy: 0.9762\n",
      "Epoch 7/16\n",
      "1564/1564 [==============================] - 9s 6ms/step - loss: 0.0180 - accuracy: 0.9796\n",
      "Epoch 8/16\n",
      "1564/1564 [==============================] - 9s 6ms/step - loss: 0.0172 - accuracy: 0.9801\n",
      "Epoch 9/16\n",
      "1564/1564 [==============================] - 9s 6ms/step - loss: 0.0135 - accuracy: 0.9849\n",
      "Epoch 10/16\n",
      "1564/1564 [==============================] - 9s 6ms/step - loss: 0.0160 - accuracy: 0.9823\n",
      "Epoch 11/16\n",
      "1564/1564 [==============================] - 9s 6ms/step - loss: 0.0149 - accuracy: 0.9843\n",
      "Epoch 12/16\n",
      "1564/1564 [==============================] - 9s 6ms/step - loss: 0.0122 - accuracy: 0.9859\n",
      "Epoch 13/16\n",
      "1564/1564 [==============================] - 9s 6ms/step - loss: 0.0145 - accuracy: 0.9835\n",
      "Epoch 14/16\n",
      "1564/1564 [==============================] - 9s 6ms/step - loss: 0.0123 - accuracy: 0.9867: 0s - loss: 0.0\n",
      "Epoch 15/16\n",
      "1564/1564 [==============================] - 9s 6ms/step - loss: 0.0099 - accuracy: 0.9899\n",
      "Epoch 16/16\n",
      "1564/1564 [==============================] - 9s 6ms/step - loss: 0.0090 - accuracy: 0.9910\n"
     ]
    }
   ],
   "source": [
    "history = model.fit(x_train, y_train, \n",
    "                    batch_size = 8,epochs = 20,verbose = 1,\n",
    "                    # validation_split = 0.2  # 训练集的20%用作验证集\n",
    "                   )"
   ]
  },
  {
   "cell_type": "code",
   "execution_count": 19,
   "id": "746d847a",
   "metadata": {},
   "outputs": [
    {
     "name": "stdout",
     "output_type": "stream",
     "text": [
      "391/391 [==============================] - 2s 6ms/step - loss: 0.0090 - accuracy: 0.9910\n"
     ]
    }
   ],
   "source": [
    "loss,acc_ = model.evaluate(x_train,y_train)"
   ]
  },
  {
   "cell_type": "code",
   "execution_count": 16,
   "id": "dc9c5784",
   "metadata": {},
   "outputs": [],
   "source": [
    "acc = history.history['accuracy']\n",
    "loss = history.history['loss']\n",
    "epochs = range(1, len(acc) + 1)"
   ]
  },
  {
   "cell_type": "code",
   "execution_count": 17,
   "id": "44ee79e5",
   "metadata": {},
   "outputs": [
    {
     "data": {
      "image/png": "[encoded data removed]",
      "text/plain": [
       "<Figure size 432x288 with 1 Axes>"
      ]
     },
     "metadata": {
      "needs_background": "light"
     },
     "output_type": "display_data"
    }
   ],
   "source": [
    "import matplotlib.pyplot as plt\n",
    "plt.title('Accuracy and Loss')\n",
    "plt.plot(epochs, acc, 'red', label='Training acc')\n",
    "plt.plot(epochs, loss, 'blue', label='Validation loss')\n",
    "plt.legend()\n",
    "plt.show()"
   ]
  },
  {
   "cell_type": "code",
   "execution_count": 22,
   "id": "5ec75b86",
   "metadata": {},
   "outputs": [],
   "source": [
    "model.save(model.name + \"_\" + str(acc_) + \"_.h5\")"
   ]
  },
  {
   "cell_type": "code",
   "execution_count": null,
   "id": "b4342916",
   "metadata": {},
   "outputs": [],
   "source": []
  }
 ],
 "metadata": {
  "kernelspec": {
   "display_name": "Python 3",
   "language": "python",
   "name": "python3"
  },
  "language_info": {
   "codemirror_mode": {
    "name": "ipython",
    "version": 3
   },
   "file_extension": ".py",
   "mimetype": "text/x-python",
   "name": "python",
   "nbconvert_exporter": "python",
   "pygments_lexer": "ipython3",
   "version": "3.8.8"
  }
 },
 "nbformat": 4,
 "nbformat_minor": 5
}
